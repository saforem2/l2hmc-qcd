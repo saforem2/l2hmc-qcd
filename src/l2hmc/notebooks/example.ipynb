{
 "cells": [
  {
   "cell_type": "markdown",
   "id": "595b47a9",
   "metadata": {},
   "source": [
    "# `l2hmc`: Example\n",
    "\n",
    "This notebook will (attempt) to walk through the steps needed to:\n",
    "  1. Initialize an `Experiment` from a specified `ExperimentConfig`\n",
    "  2. Successfully \"run\" an `Experiment`:\n",
    "    1. Train the sampler via `Experiment.train()`\n",
    "    2. Evaluate the trained sampler via `Experiment.evaluate(job_type='eval')\n",
    "    3. (Optionally) Run generic HMC to compare against."
   ]
  },
  {
   "cell_type": "markdown",
   "id": "24607923",
   "metadata": {},
   "source": [
    "## Imports"
   ]
  },
  {
   "cell_type": "code",
   "execution_count": 1,
   "id": "d011b4c0",
   "metadata": {
    "execute": {
     "shell": {
      "execute_reply": "2022-07-11T17:28:13.451744+00:00"
     }
    },
    "iopub": {
     "execute_input": "2022-07-11T17:28:08.377474+00:00",
     "status": {
      "busy": "2022-07-11T17:28:08.377195+00:00",
      "idle": "2022-07-11T17:28:13.452439+00:00"
     }
    }
   },
   "outputs": [],
   "source": [
    "from __future__ import absolute_import, print_function, annotations, division\n",
    "\n",
    "%load_ext autoreload\n",
    "%autoreload 2\n",
    "\n",
    "!unset TF_XLA_FLAGS\n",
    "!unset KMP_AFFINITY KMP_SETTINGS\n",
    "\n",
    "import os\n",
    "import hydra\n",
    "\n",
    "import tensorflow as tf\n",
    "tf.keras.backend.set_floatx('float64')\n",
    "\n",
    "import torch\n",
    "torch.set_default_dtype(torch.float64)\n",
    "\n",
    "import numpy as np\n",
    "    \n",
    "\n",
    "from l2hmc.main import setup, setup_tensorflow, setup_torch\n",
    "\n",
    "import horovod.tensorflow as hvdtf\n",
    "hvdtf.init()\n",
    "gpus = tf.config.experimental.list_physical_devices('GPU')\n",
    "for gpu in gpus:\n",
    "    tf.config.experimental.set_memory_growth(gpu, True)\n",
    "if gpus:\n",
    "    gpu = gpus[hvd_tf.local_rank()]\n",
    "    tf.config.experimental.set_visible_devices(gpu, 'GPU')\n",
    "\n",
    "import horovod.torch as hvdpt\n",
    "hvdpt.init()\n",
    "\n",
    "os.environ['OMP_NUM_THREADS'] = '8'\n",
    "\n",
    "from hydra.core.global_hydra import GlobalHydra\n",
    "from l2hmc.utils.rich import print_config"
   ]
  },
  {
   "cell_type": "code",
   "execution_count": 2,
   "id": "1a135907",
   "metadata": {
    "execute": {
     "shell": {
      "execute_reply": "2022-07-11T17:29:25.418141+00:00"
     }
    },
    "iopub": {
     "execute_input": "2022-07-11T17:29:25.378899+00:00",
     "status": {
      "busy": "2022-07-11T17:29:25.378485+00:00",
      "idle": "2022-07-11T17:29:25.418835+00:00"
     }
    }
   },
   "outputs": [],
   "source": [
    "os.environ['WIDTH'] = '220'"
   ]
  },
  {
   "cell_type": "code",
   "execution_count": 3,
   "id": "90085e8e",
   "metadata": {
    "execute": {
     "shell": {
      "execute_reply": "2022-07-11T17:29:27.508956+00:00"
     }
    },
    "iopub": {
     "execute_input": "2022-07-11T17:29:27.471953+00:00",
     "status": {
      "busy": "2022-07-11T17:29:27.471677+00:00",
      "idle": "2022-07-11T17:29:27.509622+00:00"
     }
    }
   },
   "outputs": [],
   "source": [
    "import rich\n",
    "console = rich.get_console()\n",
    "console.width = 220\n",
    "console._width = 220"
   ]
  },
  {
   "cell_type": "markdown",
   "id": "20b36e41",
   "metadata": {},
   "source": [
    "# Set some reasonable defaults for `ExperimentConfig`:\n",
    "\n",
    "**Note**: For the purposes of demonstrating functionality, we only consider a very simple `debug` example here"
   ]
  },
  {
   "cell_type": "code",
   "execution_count": 4,
   "id": "96baad30",
   "metadata": {
    "execute": {
     "shell": {
      "execute_reply": "2022-07-11T17:29:30.817326+00:00"
     }
    },
    "iopub": {
     "execute_input": "2022-07-11T17:29:30.778200+00:00",
     "status": {
      "busy": "2022-07-11T17:29:30.777921+00:00",
      "idle": "2022-07-11T17:29:30.817976+00:00"
     }
    }
   },
   "outputs": [],
   "source": [
    "GlobalHydra.instance().clear()\n",
    "\n",
    "defaults = [\n",
    "    'mode=debug',\n",
    "    'steps.nera=5',\n",
    "    'steps.nepoch=100',\n",
    "    'steps.test=500',\n",
    "    'steps.print=5',\n",
    "    'steps.log=5',\n",
    "]\n",
    "\n",
    "defaults_u1 = [\n",
    "    *defaults,\n",
    "    'dynamics.nchains=16',\n",
    "    'dynamics.nleapfrog=4',\n",
    "    'dynamics.latvolume=[8, 8]',\n",
    "]\n",
    "\n",
    "defaults_su3 = [\n",
    "    *defaults,\n",
    "    'dynamics=su3',\n",
    "    'dynamics.nchains=5',\n",
    "    'dynamics.latvolume=[8, 8, 8, 16]',\n",
    "    'annealing_schedule.beta_init=1.0',\n",
    "    'annealing_schedule.beta_final=1.0',\n",
    "]"
   ]
  },
  {
   "cell_type": "code",
   "execution_count": 5,
   "id": "4018d74f",
   "metadata": {
    "execute": {
     "shell": {
      "execute_reply": "2022-07-11T17:29:31.931929+00:00"
     }
    },
    "iopub": {
     "execute_input": "2022-07-11T17:29:31.893304+00:00",
     "status": {
      "busy": "2022-07-11T17:29:31.893010+00:00",
      "idle": "2022-07-11T17:29:31.932557+00:00"
     }
    }
   },
   "outputs": [],
   "source": [
    "outputs = {\n",
    "    'pytorch': {\n",
    "        'train': {},\n",
    "        'eval': {},\n",
    "        'hmc': {},\n",
    "    },\n",
    "    'tensorflow': {\n",
    "        'train': {},\n",
    "        'eval': {},\n",
    "        'hmc': {},\n",
    "    },\n",
    "}"
   ]
  },
  {
   "cell_type": "markdown",
   "id": "92896ee2",
   "metadata": {},
   "source": [
    "# Initialize and Build `Experiment` objects:\n",
    "\n",
    "- The `l2hmc.configs` module provides a function `get_experiment`:\n",
    "\n",
    "```python\n",
    "def get_experiment(overrides: list[str]) -> Experiment:\n",
    "    ...\n",
    "```\n",
    "\n",
    "which will:\n",
    "\n",
    "    1. Load the default options from `conf/config.yaml`\n",
    "    2. Override the default options with any values provided in `overrides`\n",
    "    3. Parse these options and build an `ExperimentConfig` which uniquely defines an experiment\n",
    "    3. Instantiate / return an `Experiment` from the `ExperimentConfig`\n",
    "    \n",
    "**Note:** Prior to beginning training, the `Experiment` must be `built` by calling\n",
    "\n",
    "```python\n",
    ">>> experiment = get_experiment(overrides=['mode=debug'])\n",
    ">>> _ = experiment.build(init_wandb=(RANK == 0), init_aim=(RANK == 0))\n",
    "```\n",
    "\n",
    "After which, the model can be trained and evaluated via:\n",
    "\n",
    "```python\n",
    ">>> train_output = experiment.train()\n",
    ">>> eval_output = experiment.evaluate(job_type='eval')\n",
    ">>> hmc_output = experiment.evaluate(job_type='hmc')\n",
    "```"
   ]
  },
  {
   "cell_type": "markdown",
   "id": "fc3f9809",
   "metadata": {},
   "source": [
    "## PyTorch\n",
    "\n",
    "We build models for both:\n",
    "\n",
    "1. 2D $U(1)$ model\n",
    "2. 4D $SU(3)$ model"
   ]
  },
  {
   "cell_type": "code",
   "execution_count": 7,
   "id": "2801dd83",
   "metadata": {
    "execute": {
     "shell": {
      "execute_reply": "2022-07-11T17:30:13.164999+00:00"
     }
    },
    "iopub": {
     "execute_input": "2022-07-11T17:29:42.308710+00:00",
     "status": {
      "busy": "2022-07-11T17:29:42.308435+00:00"
     }
    }
   },
   "outputs": [
    {
     "data": {
      "text/html": [
       "<pre style=\"white-space:pre;overflow-x:auto;line-height:normal;font-family:Menlo,'DejaVu Sans Mono',consolas,'Courier New',monospace\"><span style=\"color: #7fbfbf; text-decoration-color: #7fbfbf\">12:29:44 </span><span style=\"color: #800000; text-decoration-color: #800000\">WARNING </span> xdim: <span style=\"color: #008080; text-decoration-color: #008080; font-weight: bold\">128</span>                                                                                                                                                                                   <a href=\"file:///Users/saforem2/projects/l2hmc-qcd/src/l2hmc/configs.py\" target=\"_blank\"><span style=\"color: #7f7f7f; text-decoration-color: #7f7f7f\">configs.py</span></a><span style=\"color: #7f7f7f; text-decoration-color: #7f7f7f\">:</span><a href=\"file:///Users/saforem2/projects/l2hmc-qcd/src/l2hmc/configs.py#507\" target=\"_blank\"><span style=\"color: #7f7f7f; text-decoration-color: #7f7f7f\">507</span></a>\n",
       "</pre>\n"
      ],
      "text/plain": [
       "\u001b[2;36m12:29:44\u001b[0m\u001b[2;36m \u001b[0m\u001b[31mWARNING \u001b[0m xdim: \u001b[1;36m128\u001b[0m                                                                                                                                                                                   \u001b]8;id=12700;file:///Users/saforem2/projects/l2hmc-qcd/src/l2hmc/configs.py\u001b\\\u001b[2mconfigs.py\u001b[0m\u001b]8;;\u001b\\\u001b[2m:\u001b[0m\u001b]8;id=892163;file:///Users/saforem2/projects/l2hmc-qcd/src/l2hmc/configs.py#507\u001b\\\u001b[2m507\u001b[0m\u001b]8;;\u001b\\\n"
      ]
     },
     "metadata": {},
     "output_type": "display_data"
    },
    {
     "data": {
      "text/html": [
       "<pre style=\"white-space:pre;overflow-x:auto;line-height:normal;font-family:Menlo,'DejaVu Sans Mono',consolas,'Courier New',monospace\"><span style=\"color: #7fbfbf; text-decoration-color: #7fbfbf\">         </span><span style=\"color: #800000; text-decoration-color: #800000\">WARNING </span> group: U1                                                                                                                                                                                   <a href=\"file:///Users/saforem2/projects/l2hmc-qcd/src/l2hmc/configs.py\" target=\"_blank\"><span style=\"color: #7f7f7f; text-decoration-color: #7f7f7f\">configs.py</span></a><span style=\"color: #7f7f7f; text-decoration-color: #7f7f7f\">:</span><a href=\"file:///Users/saforem2/projects/l2hmc-qcd/src/l2hmc/configs.py#508\" target=\"_blank\"><span style=\"color: #7f7f7f; text-decoration-color: #7f7f7f\">508</span></a>\n",
       "</pre>\n"
      ],
      "text/plain": [
       "\u001b[2;36m        \u001b[0m\u001b[2;36m \u001b[0m\u001b[31mWARNING \u001b[0m group: U1                                                                                                                                                                                   \u001b]8;id=354787;file:///Users/saforem2/projects/l2hmc-qcd/src/l2hmc/configs.py\u001b\\\u001b[2mconfigs.py\u001b[0m\u001b]8;;\u001b\\\u001b[2m:\u001b[0m\u001b]8;id=649703;file:///Users/saforem2/projects/l2hmc-qcd/src/l2hmc/configs.py#508\u001b\\\u001b[2m508\u001b[0m\u001b]8;;\u001b\\\n"
      ]
     },
     "metadata": {},
     "output_type": "display_data"
    },
    {
     "data": {
      "text/html": [
       "<pre style=\"white-space:pre;overflow-x:auto;line-height:normal;font-family:Menlo,'DejaVu Sans Mono',consolas,'Courier New',monospace\"><span style=\"color: #7fbfbf; text-decoration-color: #7fbfbf\">         </span><span style=\"color: #800000; text-decoration-color: #800000\">WARNING </span> xshape: <span style=\"font-weight: bold\">(</span><span style=\"color: #008080; text-decoration-color: #008080; font-weight: bold\">16</span>, <span style=\"color: #008080; text-decoration-color: #008080; font-weight: bold\">2</span>, <span style=\"color: #008080; text-decoration-color: #008080; font-weight: bold\">8</span>, <span style=\"color: #008080; text-decoration-color: #008080; font-weight: bold\">8</span><span style=\"font-weight: bold\">)</span>                                                                                                                                                                       <a href=\"file:///Users/saforem2/projects/l2hmc-qcd/src/l2hmc/configs.py\" target=\"_blank\"><span style=\"color: #7f7f7f; text-decoration-color: #7f7f7f\">configs.py</span></a><span style=\"color: #7f7f7f; text-decoration-color: #7f7f7f\">:</span><a href=\"file:///Users/saforem2/projects/l2hmc-qcd/src/l2hmc/configs.py#509\" target=\"_blank\"><span style=\"color: #7f7f7f; text-decoration-color: #7f7f7f\">509</span></a>\n",
       "</pre>\n"
      ],
      "text/plain": [
       "\u001b[2;36m        \u001b[0m\u001b[2;36m \u001b[0m\u001b[31mWARNING \u001b[0m xshape: \u001b[1m(\u001b[0m\u001b[1;36m16\u001b[0m, \u001b[1;36m2\u001b[0m, \u001b[1;36m8\u001b[0m, \u001b[1;36m8\u001b[0m\u001b[1m)\u001b[0m                                                                                                                                                                       \u001b]8;id=251603;file:///Users/saforem2/projects/l2hmc-qcd/src/l2hmc/configs.py\u001b\\\u001b[2mconfigs.py\u001b[0m\u001b]8;;\u001b\\\u001b[2m:\u001b[0m\u001b]8;id=149740;file:///Users/saforem2/projects/l2hmc-qcd/src/l2hmc/configs.py#509\u001b\\\u001b[2m509\u001b[0m\u001b]8;;\u001b\\\n"
      ]
     },
     "metadata": {},
     "output_type": "display_data"
    },
    {
     "data": {
      "text/html": [
       "<pre style=\"white-space:pre;overflow-x:auto;line-height:normal;font-family:Menlo,'DejaVu Sans Mono',consolas,'Courier New',monospace\"><span style=\"color: #7fbfbf; text-decoration-color: #7fbfbf\">         </span><span style=\"color: #800000; text-decoration-color: #800000\">WARNING </span> latvolume: <span style=\"font-weight: bold\">[</span><span style=\"color: #008080; text-decoration-color: #008080; font-weight: bold\">8</span>, <span style=\"color: #008080; text-decoration-color: #008080; font-weight: bold\">8</span><span style=\"font-weight: bold\">]</span>                                                                                                                                                                           <a href=\"file:///Users/saforem2/projects/l2hmc-qcd/src/l2hmc/configs.py\" target=\"_blank\"><span style=\"color: #7f7f7f; text-decoration-color: #7f7f7f\">configs.py</span></a><span style=\"color: #7f7f7f; text-decoration-color: #7f7f7f\">:</span><a href=\"file:///Users/saforem2/projects/l2hmc-qcd/src/l2hmc/configs.py#510\" target=\"_blank\"><span style=\"color: #7f7f7f; text-decoration-color: #7f7f7f\">510</span></a>\n",
       "</pre>\n"
      ],
      "text/plain": [
       "\u001b[2;36m        \u001b[0m\u001b[2;36m \u001b[0m\u001b[31mWARNING \u001b[0m latvolume: \u001b[1m[\u001b[0m\u001b[1;36m8\u001b[0m, \u001b[1;36m8\u001b[0m\u001b[1m]\u001b[0m                                                                                                                                                                           \u001b]8;id=391741;file:///Users/saforem2/projects/l2hmc-qcd/src/l2hmc/configs.py\u001b\\\u001b[2mconfigs.py\u001b[0m\u001b]8;;\u001b\\\u001b[2m:\u001b[0m\u001b]8;id=732473;file:///Users/saforem2/projects/l2hmc-qcd/src/l2hmc/configs.py#510\u001b\\\u001b[2m510\u001b[0m\u001b]8;;\u001b\\\n"
      ]
     },
     "metadata": {},
     "output_type": "display_data"
    },
    {
     "data": {
      "text/html": [
       "<pre style=\"white-space:pre;overflow-x:auto;line-height:normal;font-family:Menlo,'DejaVu Sans Mono',consolas,'Courier New',monospace\"><span style=\"color: #7fbfbf; text-decoration-color: #7fbfbf\">         </span><span style=\"color: #008000; text-decoration-color: #008000\">DEBUG   </span> Setting JobRuntime:<span style=\"color: #808000; text-decoration-color: #808000\">name</span>=<span style=\"color: #800080; text-decoration-color: #800080\">app</span>                                                                                                                                                                   <a href=\"file:///Users/saforem2/projects/l2hmc-qcd/.venv/lib/python3.10/site-packages/hydra/core/utils.py\" target=\"_blank\"><span style=\"color: #7f7f7f; text-decoration-color: #7f7f7f\">utils.py</span></a><span style=\"color: #7f7f7f; text-decoration-color: #7f7f7f\">:</span><a href=\"file:///Users/saforem2/projects/l2hmc-qcd/.venv/lib/python3.10/site-packages/hydra/core/utils.py#279\" target=\"_blank\"><span style=\"color: #7f7f7f; text-decoration-color: #7f7f7f\">279</span></a>\n",
       "</pre>\n"
      ],
      "text/plain": [
       "\u001b[2;36m        \u001b[0m\u001b[2;36m \u001b[0m\u001b[32mDEBUG   \u001b[0m Setting JobRuntime:\u001b[33mname\u001b[0m=\u001b[35mapp\u001b[0m                                                                                                                                                                   \u001b]8;id=659317;file:///Users/saforem2/projects/l2hmc-qcd/.venv/lib/python3.10/site-packages/hydra/core/utils.py\u001b\\\u001b[2mutils.py\u001b[0m\u001b]8;;\u001b\\\u001b[2m:\u001b[0m\u001b]8;id=981093;file:///Users/saforem2/projects/l2hmc-qcd/.venv/lib/python3.10/site-packages/hydra/core/utils.py#279\u001b\\\u001b[2m279\u001b[0m\u001b]8;;\u001b\\\n"
      ]
     },
     "metadata": {},
     "output_type": "display_data"
    },
    {
     "data": {
      "text/html": [
       "<pre style=\"white-space:pre;overflow-x:auto;line-height:normal;font-family:Menlo,'DejaVu Sans Mono',consolas,'Courier New',monospace\"><span style=\"color: #7fbfbf; text-decoration-color: #7fbfbf\">         </span><span style=\"color: #800000; text-decoration-color: #800000\">WARNING </span> xdim: <span style=\"color: #008080; text-decoration-color: #008080; font-weight: bold\">128</span>                                                                                                                                                                                   <a href=\"file:///Users/saforem2/projects/l2hmc-qcd/src/l2hmc/configs.py\" target=\"_blank\"><span style=\"color: #7f7f7f; text-decoration-color: #7f7f7f\">configs.py</span></a><span style=\"color: #7f7f7f; text-decoration-color: #7f7f7f\">:</span><a href=\"file:///Users/saforem2/projects/l2hmc-qcd/src/l2hmc/configs.py#507\" target=\"_blank\"><span style=\"color: #7f7f7f; text-decoration-color: #7f7f7f\">507</span></a>\n",
       "</pre>\n"
      ],
      "text/plain": [
       "\u001b[2;36m        \u001b[0m\u001b[2;36m \u001b[0m\u001b[31mWARNING \u001b[0m xdim: \u001b[1;36m128\u001b[0m                                                                                                                                                                                   \u001b]8;id=474107;file:///Users/saforem2/projects/l2hmc-qcd/src/l2hmc/configs.py\u001b\\\u001b[2mconfigs.py\u001b[0m\u001b]8;;\u001b\\\u001b[2m:\u001b[0m\u001b]8;id=490661;file:///Users/saforem2/projects/l2hmc-qcd/src/l2hmc/configs.py#507\u001b\\\u001b[2m507\u001b[0m\u001b]8;;\u001b\\\n"
      ]
     },
     "metadata": {},
     "output_type": "display_data"
    },
    {
     "data": {
      "text/html": [
       "<pre style=\"white-space:pre;overflow-x:auto;line-height:normal;font-family:Menlo,'DejaVu Sans Mono',consolas,'Courier New',monospace\"><span style=\"color: #7fbfbf; text-decoration-color: #7fbfbf\">         </span><span style=\"color: #800000; text-decoration-color: #800000\">WARNING </span> group: U1                                                                                                                                                                                   <a href=\"file:///Users/saforem2/projects/l2hmc-qcd/src/l2hmc/configs.py\" target=\"_blank\"><span style=\"color: #7f7f7f; text-decoration-color: #7f7f7f\">configs.py</span></a><span style=\"color: #7f7f7f; text-decoration-color: #7f7f7f\">:</span><a href=\"file:///Users/saforem2/projects/l2hmc-qcd/src/l2hmc/configs.py#508\" target=\"_blank\"><span style=\"color: #7f7f7f; text-decoration-color: #7f7f7f\">508</span></a>\n",
       "</pre>\n"
      ],
      "text/plain": [
       "\u001b[2;36m        \u001b[0m\u001b[2;36m \u001b[0m\u001b[31mWARNING \u001b[0m group: U1                                                                                                                                                                                   \u001b]8;id=635570;file:///Users/saforem2/projects/l2hmc-qcd/src/l2hmc/configs.py\u001b\\\u001b[2mconfigs.py\u001b[0m\u001b]8;;\u001b\\\u001b[2m:\u001b[0m\u001b]8;id=334584;file:///Users/saforem2/projects/l2hmc-qcd/src/l2hmc/configs.py#508\u001b\\\u001b[2m508\u001b[0m\u001b]8;;\u001b\\\n"
      ]
     },
     "metadata": {},
     "output_type": "display_data"
    },
    {
     "data": {
      "text/html": [
       "<pre style=\"white-space:pre;overflow-x:auto;line-height:normal;font-family:Menlo,'DejaVu Sans Mono',consolas,'Courier New',monospace\"><span style=\"color: #7fbfbf; text-decoration-color: #7fbfbf\">         </span><span style=\"color: #800000; text-decoration-color: #800000\">WARNING </span> xshape: <span style=\"font-weight: bold\">(</span><span style=\"color: #008080; text-decoration-color: #008080; font-weight: bold\">16</span>, <span style=\"color: #008080; text-decoration-color: #008080; font-weight: bold\">2</span>, <span style=\"color: #008080; text-decoration-color: #008080; font-weight: bold\">8</span>, <span style=\"color: #008080; text-decoration-color: #008080; font-weight: bold\">8</span><span style=\"font-weight: bold\">)</span>                                                                                                                                                                       <a href=\"file:///Users/saforem2/projects/l2hmc-qcd/src/l2hmc/configs.py\" target=\"_blank\"><span style=\"color: #7f7f7f; text-decoration-color: #7f7f7f\">configs.py</span></a><span style=\"color: #7f7f7f; text-decoration-color: #7f7f7f\">:</span><a href=\"file:///Users/saforem2/projects/l2hmc-qcd/src/l2hmc/configs.py#509\" target=\"_blank\"><span style=\"color: #7f7f7f; text-decoration-color: #7f7f7f\">509</span></a>\n",
       "</pre>\n"
      ],
      "text/plain": [
       "\u001b[2;36m        \u001b[0m\u001b[2;36m \u001b[0m\u001b[31mWARNING \u001b[0m xshape: \u001b[1m(\u001b[0m\u001b[1;36m16\u001b[0m, \u001b[1;36m2\u001b[0m, \u001b[1;36m8\u001b[0m, \u001b[1;36m8\u001b[0m\u001b[1m)\u001b[0m                                                                                                                                                                       \u001b]8;id=607859;file:///Users/saforem2/projects/l2hmc-qcd/src/l2hmc/configs.py\u001b\\\u001b[2mconfigs.py\u001b[0m\u001b]8;;\u001b\\\u001b[2m:\u001b[0m\u001b]8;id=963810;file:///Users/saforem2/projects/l2hmc-qcd/src/l2hmc/configs.py#509\u001b\\\u001b[2m509\u001b[0m\u001b]8;;\u001b\\\n"
      ]
     },
     "metadata": {},
     "output_type": "display_data"
    },
    {
     "data": {
      "text/html": [
       "<pre style=\"white-space:pre;overflow-x:auto;line-height:normal;font-family:Menlo,'DejaVu Sans Mono',consolas,'Courier New',monospace\"><span style=\"color: #7fbfbf; text-decoration-color: #7fbfbf\">         </span><span style=\"color: #800000; text-decoration-color: #800000\">WARNING </span> latvolume: <span style=\"font-weight: bold\">[</span><span style=\"color: #008080; text-decoration-color: #008080; font-weight: bold\">8</span>, <span style=\"color: #008080; text-decoration-color: #008080; font-weight: bold\">8</span><span style=\"font-weight: bold\">]</span>                                                                                                                                                                           <a href=\"file:///Users/saforem2/projects/l2hmc-qcd/src/l2hmc/configs.py\" target=\"_blank\"><span style=\"color: #7f7f7f; text-decoration-color: #7f7f7f\">configs.py</span></a><span style=\"color: #7f7f7f; text-decoration-color: #7f7f7f\">:</span><a href=\"file:///Users/saforem2/projects/l2hmc-qcd/src/l2hmc/configs.py#510\" target=\"_blank\"><span style=\"color: #7f7f7f; text-decoration-color: #7f7f7f\">510</span></a>\n",
       "</pre>\n"
      ],
      "text/plain": [
       "\u001b[2;36m        \u001b[0m\u001b[2;36m \u001b[0m\u001b[31mWARNING \u001b[0m latvolume: \u001b[1m[\u001b[0m\u001b[1;36m8\u001b[0m, \u001b[1;36m8\u001b[0m\u001b[1m]\u001b[0m                                                                                                                                                                           \u001b]8;id=76611;file:///Users/saforem2/projects/l2hmc-qcd/src/l2hmc/configs.py\u001b\\\u001b[2mconfigs.py\u001b[0m\u001b]8;;\u001b\\\u001b[2m:\u001b[0m\u001b]8;id=739414;file:///Users/saforem2/projects/l2hmc-qcd/src/l2hmc/configs.py#510\u001b\\\u001b[2m510\u001b[0m\u001b]8;;\u001b\\\n"
      ]
     },
     "metadata": {},
     "output_type": "display_data"
    },
    {
     "data": {
      "text/html": [
       "<pre style=\"white-space:pre;overflow-x:auto;line-height:normal;font-family:Menlo,'DejaVu Sans Mono',consolas,'Courier New',monospace\"><span style=\"color: #7fbfbf; text-decoration-color: #7fbfbf\">         </span><span style=\"color: #008000; text-decoration-color: #008000\">DEBUG   </span> Setting JobRuntime:<span style=\"color: #808000; text-decoration-color: #808000\">name</span>=<span style=\"color: #800080; text-decoration-color: #800080\">app</span>                                                                                                                                                                   <a href=\"file:///Users/saforem2/projects/l2hmc-qcd/.venv/lib/python3.10/site-packages/hydra/core/utils.py\" target=\"_blank\"><span style=\"color: #7f7f7f; text-decoration-color: #7f7f7f\">utils.py</span></a><span style=\"color: #7f7f7f; text-decoration-color: #7f7f7f\">:</span><a href=\"file:///Users/saforem2/projects/l2hmc-qcd/.venv/lib/python3.10/site-packages/hydra/core/utils.py#279\" target=\"_blank\"><span style=\"color: #7f7f7f; text-decoration-color: #7f7f7f\">279</span></a>\n",
       "</pre>\n"
      ],
      "text/plain": [
       "\u001b[2;36m        \u001b[0m\u001b[2;36m \u001b[0m\u001b[32mDEBUG   \u001b[0m Setting JobRuntime:\u001b[33mname\u001b[0m=\u001b[35mapp\u001b[0m                                                                                                                                                                   \u001b]8;id=305605;file:///Users/saforem2/projects/l2hmc-qcd/.venv/lib/python3.10/site-packages/hydra/core/utils.py\u001b\\\u001b[2mutils.py\u001b[0m\u001b]8;;\u001b\\\u001b[2m:\u001b[0m\u001b]8;id=742186;file:///Users/saforem2/projects/l2hmc-qcd/.venv/lib/python3.10/site-packages/hydra/core/utils.py#279\u001b\\\u001b[2m279\u001b[0m\u001b]8;;\u001b\\\n"
      ]
     },
     "metadata": {},
     "output_type": "display_data"
    },
    {
     "data": {
      "text/html": [
       "<pre style=\"white-space:pre;overflow-x:auto;line-height:normal;font-family:Menlo,'DejaVu Sans Mono',consolas,'Courier New',monospace\"><span style=\"color: #7fbfbf; text-decoration-color: #7fbfbf\">12:29:45 </span><span style=\"color: #800000; text-decoration-color: #800000\">WARNING </span> xdim: <span style=\"color: #008080; text-decoration-color: #008080; font-weight: bold\">262144</span>                                                                                                                                                                                <a href=\"file:///Users/saforem2/projects/l2hmc-qcd/src/l2hmc/configs.py\" target=\"_blank\"><span style=\"color: #7f7f7f; text-decoration-color: #7f7f7f\">configs.py</span></a><span style=\"color: #7f7f7f; text-decoration-color: #7f7f7f\">:</span><a href=\"file:///Users/saforem2/projects/l2hmc-qcd/src/l2hmc/configs.py#507\" target=\"_blank\"><span style=\"color: #7f7f7f; text-decoration-color: #7f7f7f\">507</span></a>\n",
       "</pre>\n"
      ],
      "text/plain": [
       "\u001b[2;36m12:29:45\u001b[0m\u001b[2;36m \u001b[0m\u001b[31mWARNING \u001b[0m xdim: \u001b[1;36m262144\u001b[0m                                                                                                                                                                                \u001b]8;id=217340;file:///Users/saforem2/projects/l2hmc-qcd/src/l2hmc/configs.py\u001b\\\u001b[2mconfigs.py\u001b[0m\u001b]8;;\u001b\\\u001b[2m:\u001b[0m\u001b]8;id=957459;file:///Users/saforem2/projects/l2hmc-qcd/src/l2hmc/configs.py#507\u001b\\\u001b[2m507\u001b[0m\u001b]8;;\u001b\\\n"
      ]
     },
     "metadata": {},
     "output_type": "display_data"
    },
    {
     "data": {
      "text/html": [
       "<pre style=\"white-space:pre;overflow-x:auto;line-height:normal;font-family:Menlo,'DejaVu Sans Mono',consolas,'Courier New',monospace\"><span style=\"color: #7fbfbf; text-decoration-color: #7fbfbf\">         </span><span style=\"color: #800000; text-decoration-color: #800000\">WARNING </span> group: SU3                                                                                                                                                                                  <a href=\"file:///Users/saforem2/projects/l2hmc-qcd/src/l2hmc/configs.py\" target=\"_blank\"><span style=\"color: #7f7f7f; text-decoration-color: #7f7f7f\">configs.py</span></a><span style=\"color: #7f7f7f; text-decoration-color: #7f7f7f\">:</span><a href=\"file:///Users/saforem2/projects/l2hmc-qcd/src/l2hmc/configs.py#508\" target=\"_blank\"><span style=\"color: #7f7f7f; text-decoration-color: #7f7f7f\">508</span></a>\n",
       "</pre>\n"
      ],
      "text/plain": [
       "\u001b[2;36m        \u001b[0m\u001b[2;36m \u001b[0m\u001b[31mWARNING \u001b[0m group: SU3                                                                                                                                                                                  \u001b]8;id=178961;file:///Users/saforem2/projects/l2hmc-qcd/src/l2hmc/configs.py\u001b\\\u001b[2mconfigs.py\u001b[0m\u001b]8;;\u001b\\\u001b[2m:\u001b[0m\u001b]8;id=922189;file:///Users/saforem2/projects/l2hmc-qcd/src/l2hmc/configs.py#508\u001b\\\u001b[2m508\u001b[0m\u001b]8;;\u001b\\\n"
      ]
     },
     "metadata": {},
     "output_type": "display_data"
    },
    {
     "data": {
      "text/html": [
       "<pre style=\"white-space:pre;overflow-x:auto;line-height:normal;font-family:Menlo,'DejaVu Sans Mono',consolas,'Courier New',monospace\"><span style=\"color: #7fbfbf; text-decoration-color: #7fbfbf\">         </span><span style=\"color: #800000; text-decoration-color: #800000\">WARNING </span> xshape: <span style=\"font-weight: bold\">(</span><span style=\"color: #008080; text-decoration-color: #008080; font-weight: bold\">5</span>, <span style=\"color: #008080; text-decoration-color: #008080; font-weight: bold\">4</span>, <span style=\"color: #008080; text-decoration-color: #008080; font-weight: bold\">8</span>, <span style=\"color: #008080; text-decoration-color: #008080; font-weight: bold\">8</span>, <span style=\"color: #008080; text-decoration-color: #008080; font-weight: bold\">8</span>, <span style=\"color: #008080; text-decoration-color: #008080; font-weight: bold\">16</span>, <span style=\"color: #008080; text-decoration-color: #008080; font-weight: bold\">3</span>, <span style=\"color: #008080; text-decoration-color: #008080; font-weight: bold\">3</span><span style=\"font-weight: bold\">)</span>                                                                                                                                                           <a href=\"file:///Users/saforem2/projects/l2hmc-qcd/src/l2hmc/configs.py\" target=\"_blank\"><span style=\"color: #7f7f7f; text-decoration-color: #7f7f7f\">configs.py</span></a><span style=\"color: #7f7f7f; text-decoration-color: #7f7f7f\">:</span><a href=\"file:///Users/saforem2/projects/l2hmc-qcd/src/l2hmc/configs.py#509\" target=\"_blank\"><span style=\"color: #7f7f7f; text-decoration-color: #7f7f7f\">509</span></a>\n",
       "</pre>\n"
      ],
      "text/plain": [
       "\u001b[2;36m        \u001b[0m\u001b[2;36m \u001b[0m\u001b[31mWARNING \u001b[0m xshape: \u001b[1m(\u001b[0m\u001b[1;36m5\u001b[0m, \u001b[1;36m4\u001b[0m, \u001b[1;36m8\u001b[0m, \u001b[1;36m8\u001b[0m, \u001b[1;36m8\u001b[0m, \u001b[1;36m16\u001b[0m, \u001b[1;36m3\u001b[0m, \u001b[1;36m3\u001b[0m\u001b[1m)\u001b[0m                                                                                                                                                           \u001b]8;id=405150;file:///Users/saforem2/projects/l2hmc-qcd/src/l2hmc/configs.py\u001b\\\u001b[2mconfigs.py\u001b[0m\u001b]8;;\u001b\\\u001b[2m:\u001b[0m\u001b]8;id=450035;file:///Users/saforem2/projects/l2hmc-qcd/src/l2hmc/configs.py#509\u001b\\\u001b[2m509\u001b[0m\u001b]8;;\u001b\\\n"
      ]
     },
     "metadata": {},
     "output_type": "display_data"
    },
    {
     "data": {
      "text/html": [
       "<pre style=\"white-space:pre;overflow-x:auto;line-height:normal;font-family:Menlo,'DejaVu Sans Mono',consolas,'Courier New',monospace\"><span style=\"color: #7fbfbf; text-decoration-color: #7fbfbf\">         </span><span style=\"color: #800000; text-decoration-color: #800000\">WARNING </span> latvolume: <span style=\"font-weight: bold\">[</span><span style=\"color: #008080; text-decoration-color: #008080; font-weight: bold\">8</span>, <span style=\"color: #008080; text-decoration-color: #008080; font-weight: bold\">8</span>, <span style=\"color: #008080; text-decoration-color: #008080; font-weight: bold\">8</span>, <span style=\"color: #008080; text-decoration-color: #008080; font-weight: bold\">16</span><span style=\"font-weight: bold\">]</span>                                                                                                                                                                    <a href=\"file:///Users/saforem2/projects/l2hmc-qcd/src/l2hmc/configs.py\" target=\"_blank\"><span style=\"color: #7f7f7f; text-decoration-color: #7f7f7f\">configs.py</span></a><span style=\"color: #7f7f7f; text-decoration-color: #7f7f7f\">:</span><a href=\"file:///Users/saforem2/projects/l2hmc-qcd/src/l2hmc/configs.py#510\" target=\"_blank\"><span style=\"color: #7f7f7f; text-decoration-color: #7f7f7f\">510</span></a>\n",
       "</pre>\n"
      ],
      "text/plain": [
       "\u001b[2;36m        \u001b[0m\u001b[2;36m \u001b[0m\u001b[31mWARNING \u001b[0m latvolume: \u001b[1m[\u001b[0m\u001b[1;36m8\u001b[0m, \u001b[1;36m8\u001b[0m, \u001b[1;36m8\u001b[0m, \u001b[1;36m16\u001b[0m\u001b[1m]\u001b[0m                                                                                                                                                                    \u001b]8;id=717466;file:///Users/saforem2/projects/l2hmc-qcd/src/l2hmc/configs.py\u001b\\\u001b[2mconfigs.py\u001b[0m\u001b]8;;\u001b\\\u001b[2m:\u001b[0m\u001b]8;id=778399;file:///Users/saforem2/projects/l2hmc-qcd/src/l2hmc/configs.py#510\u001b\\\u001b[2m510\u001b[0m\u001b]8;;\u001b\\\n"
      ]
     },
     "metadata": {},
     "output_type": "display_data"
    },
    {
     "data": {
      "text/html": [
       "<pre style=\"white-space:pre;overflow-x:auto;line-height:normal;font-family:Menlo,'DejaVu Sans Mono',consolas,'Courier New',monospace\"><span style=\"color: #7fbfbf; text-decoration-color: #7fbfbf\">         </span><span style=\"color: #800000; text-decoration-color: #800000\">WARNING </span> xdim: <span style=\"color: #008080; text-decoration-color: #008080; font-weight: bold\">128</span>                                                                                                                                                                                   <a href=\"file:///Users/saforem2/projects/l2hmc-qcd/src/l2hmc/configs.py\" target=\"_blank\"><span style=\"color: #7f7f7f; text-decoration-color: #7f7f7f\">configs.py</span></a><span style=\"color: #7f7f7f; text-decoration-color: #7f7f7f\">:</span><a href=\"file:///Users/saforem2/projects/l2hmc-qcd/src/l2hmc/configs.py#507\" target=\"_blank\"><span style=\"color: #7f7f7f; text-decoration-color: #7f7f7f\">507</span></a>\n",
       "</pre>\n"
      ],
      "text/plain": [
       "\u001b[2;36m        \u001b[0m\u001b[2;36m \u001b[0m\u001b[31mWARNING \u001b[0m xdim: \u001b[1;36m128\u001b[0m                                                                                                                                                                                   \u001b]8;id=397404;file:///Users/saforem2/projects/l2hmc-qcd/src/l2hmc/configs.py\u001b\\\u001b[2mconfigs.py\u001b[0m\u001b]8;;\u001b\\\u001b[2m:\u001b[0m\u001b]8;id=531049;file:///Users/saforem2/projects/l2hmc-qcd/src/l2hmc/configs.py#507\u001b\\\u001b[2m507\u001b[0m\u001b]8;;\u001b\\\n"
      ]
     },
     "metadata": {},
     "output_type": "display_data"
    },
    {
     "data": {
      "text/html": [
       "<pre style=\"white-space:pre;overflow-x:auto;line-height:normal;font-family:Menlo,'DejaVu Sans Mono',consolas,'Courier New',monospace\"><span style=\"color: #7fbfbf; text-decoration-color: #7fbfbf\">         </span><span style=\"color: #800000; text-decoration-color: #800000\">WARNING </span> group: U1                                                                                                                                                                                   <a href=\"file:///Users/saforem2/projects/l2hmc-qcd/src/l2hmc/configs.py\" target=\"_blank\"><span style=\"color: #7f7f7f; text-decoration-color: #7f7f7f\">configs.py</span></a><span style=\"color: #7f7f7f; text-decoration-color: #7f7f7f\">:</span><a href=\"file:///Users/saforem2/projects/l2hmc-qcd/src/l2hmc/configs.py#508\" target=\"_blank\"><span style=\"color: #7f7f7f; text-decoration-color: #7f7f7f\">508</span></a>\n",
       "</pre>\n"
      ],
      "text/plain": [
       "\u001b[2;36m        \u001b[0m\u001b[2;36m \u001b[0m\u001b[31mWARNING \u001b[0m group: U1                                                                                                                                                                                   \u001b]8;id=672123;file:///Users/saforem2/projects/l2hmc-qcd/src/l2hmc/configs.py\u001b\\\u001b[2mconfigs.py\u001b[0m\u001b]8;;\u001b\\\u001b[2m:\u001b[0m\u001b]8;id=901497;file:///Users/saforem2/projects/l2hmc-qcd/src/l2hmc/configs.py#508\u001b\\\u001b[2m508\u001b[0m\u001b]8;;\u001b\\\n"
      ]
     },
     "metadata": {},
     "output_type": "display_data"
    },
    {
     "data": {
      "text/html": [
       "<pre style=\"white-space:pre;overflow-x:auto;line-height:normal;font-family:Menlo,'DejaVu Sans Mono',consolas,'Courier New',monospace\"><span style=\"color: #7fbfbf; text-decoration-color: #7fbfbf\">         </span><span style=\"color: #800000; text-decoration-color: #800000\">WARNING </span> xshape: <span style=\"font-weight: bold\">(</span><span style=\"color: #008080; text-decoration-color: #008080; font-weight: bold\">16</span>, <span style=\"color: #008080; text-decoration-color: #008080; font-weight: bold\">2</span>, <span style=\"color: #008080; text-decoration-color: #008080; font-weight: bold\">8</span>, <span style=\"color: #008080; text-decoration-color: #008080; font-weight: bold\">8</span><span style=\"font-weight: bold\">)</span>                                                                                                                                                                       <a href=\"file:///Users/saforem2/projects/l2hmc-qcd/src/l2hmc/configs.py\" target=\"_blank\"><span style=\"color: #7f7f7f; text-decoration-color: #7f7f7f\">configs.py</span></a><span style=\"color: #7f7f7f; text-decoration-color: #7f7f7f\">:</span><a href=\"file:///Users/saforem2/projects/l2hmc-qcd/src/l2hmc/configs.py#509\" target=\"_blank\"><span style=\"color: #7f7f7f; text-decoration-color: #7f7f7f\">509</span></a>\n",
       "</pre>\n"
      ],
      "text/plain": [
       "\u001b[2;36m        \u001b[0m\u001b[2;36m \u001b[0m\u001b[31mWARNING \u001b[0m xshape: \u001b[1m(\u001b[0m\u001b[1;36m16\u001b[0m, \u001b[1;36m2\u001b[0m, \u001b[1;36m8\u001b[0m, \u001b[1;36m8\u001b[0m\u001b[1m)\u001b[0m                                                                                                                                                                       \u001b]8;id=891212;file:///Users/saforem2/projects/l2hmc-qcd/src/l2hmc/configs.py\u001b\\\u001b[2mconfigs.py\u001b[0m\u001b]8;;\u001b\\\u001b[2m:\u001b[0m\u001b]8;id=153148;file:///Users/saforem2/projects/l2hmc-qcd/src/l2hmc/configs.py#509\u001b\\\u001b[2m509\u001b[0m\u001b]8;;\u001b\\\n"
      ]
     },
     "metadata": {},
     "output_type": "display_data"
    },
    {
     "data": {
      "text/html": [
       "<pre style=\"white-space:pre;overflow-x:auto;line-height:normal;font-family:Menlo,'DejaVu Sans Mono',consolas,'Courier New',monospace\"><span style=\"color: #7fbfbf; text-decoration-color: #7fbfbf\">         </span><span style=\"color: #800000; text-decoration-color: #800000\">WARNING </span> latvolume: <span style=\"font-weight: bold\">[</span><span style=\"color: #008080; text-decoration-color: #008080; font-weight: bold\">8</span>, <span style=\"color: #008080; text-decoration-color: #008080; font-weight: bold\">8</span><span style=\"font-weight: bold\">]</span>                                                                                                                                                                           <a href=\"file:///Users/saforem2/projects/l2hmc-qcd/src/l2hmc/configs.py\" target=\"_blank\"><span style=\"color: #7f7f7f; text-decoration-color: #7f7f7f\">configs.py</span></a><span style=\"color: #7f7f7f; text-decoration-color: #7f7f7f\">:</span><a href=\"file:///Users/saforem2/projects/l2hmc-qcd/src/l2hmc/configs.py#510\" target=\"_blank\"><span style=\"color: #7f7f7f; text-decoration-color: #7f7f7f\">510</span></a>\n",
       "</pre>\n"
      ],
      "text/plain": [
       "\u001b[2;36m        \u001b[0m\u001b[2;36m \u001b[0m\u001b[31mWARNING \u001b[0m latvolume: \u001b[1m[\u001b[0m\u001b[1;36m8\u001b[0m, \u001b[1;36m8\u001b[0m\u001b[1m]\u001b[0m                                                                                                                                                                           \u001b]8;id=573039;file:///Users/saforem2/projects/l2hmc-qcd/src/l2hmc/configs.py\u001b\\\u001b[2mconfigs.py\u001b[0m\u001b]8;;\u001b\\\u001b[2m:\u001b[0m\u001b]8;id=528894;file:///Users/saforem2/projects/l2hmc-qcd/src/l2hmc/configs.py#510\u001b\\\u001b[2m510\u001b[0m\u001b]8;;\u001b\\\n"
      ]
     },
     "metadata": {},
     "output_type": "display_data"
    },
    {
     "data": {
      "text/html": [
       "<pre style=\"white-space:pre;overflow-x:auto;line-height:normal;font-family:Menlo,'DejaVu Sans Mono',consolas,'Courier New',monospace\"><span style=\"color: #7fbfbf; text-decoration-color: #7fbfbf\">         </span><span style=\"color: #800000; text-decoration-color: #800000\">WARNING </span> Initialize WandB from <span style=\"color: #00ff00; text-decoration-color: #00ff00; font-weight: bold\">0:0</span>                                                                                                                                                                <a href=\"file:///Users/saforem2/projects/l2hmc-qcd/src/l2hmc/experiment/pytorch/experiment.py\" target=\"_blank\"><span style=\"color: #7f7f7f; text-decoration-color: #7f7f7f\">experiment.py</span></a><span style=\"color: #7f7f7f; text-decoration-color: #7f7f7f\">:</span><a href=\"file:///Users/saforem2/projects/l2hmc-qcd/src/l2hmc/experiment/pytorch/experiment.py#153\" target=\"_blank\"><span style=\"color: #7f7f7f; text-decoration-color: #7f7f7f\">153</span></a>\n",
       "</pre>\n"
      ],
      "text/plain": [
       "\u001b[2;36m        \u001b[0m\u001b[2;36m \u001b[0m\u001b[31mWARNING \u001b[0m Initialize WandB from \u001b[1;92m0:0\u001b[0m                                                                                                                                                                \u001b]8;id=109083;file:///Users/saforem2/projects/l2hmc-qcd/src/l2hmc/experiment/pytorch/experiment.py\u001b\\\u001b[2mexperiment.py\u001b[0m\u001b]8;;\u001b\\\u001b[2m:\u001b[0m\u001b]8;id=386834;file:///Users/saforem2/projects/l2hmc-qcd/src/l2hmc/experiment/pytorch/experiment.py#153\u001b\\\u001b[2m153\u001b[0m\u001b]8;;\u001b\\\n"
      ]
     },
     "metadata": {},
     "output_type": "display_data"
    },
    {
     "data": {
      "text/html": [
       "<pre style=\"white-space:pre;overflow-x:auto;line-height:normal;font-family:Menlo,'DejaVu Sans Mono',consolas,'Courier New',monospace\"><span style=\"color: #7fbfbf; text-decoration-color: #7fbfbf\">         </span><span style=\"color: #800000; text-decoration-color: #800000\">WARNING </span> <span style=\"color: #800080; text-decoration-color: #800080; font-weight: bold\">os.getcwd</span><span style=\"font-weight: bold\">()</span>: <span style=\"color: #800080; text-decoration-color: #800080\">/Users/saforem2/projects/l2hmc-qcd/src/</span><span style=\"color: #ff00ff; text-decoration-color: #ff00ff\">l2hmc</span>                                                                                                                                <a href=\"file:///Users/saforem2/projects/l2hmc-qcd/src/l2hmc/experiment/experiment.py\" target=\"_blank\"><span style=\"color: #7f7f7f; text-decoration-color: #7f7f7f\">experiment.py</span></a><span style=\"color: #7f7f7f; text-decoration-color: #7f7f7f\">:</span><a href=\"file:///Users/saforem2/projects/l2hmc-qcd/src/l2hmc/experiment/experiment.py#166\" target=\"_blank\"><span style=\"color: #7f7f7f; text-decoration-color: #7f7f7f\">166</span></a>\n",
       "</pre>\n"
      ],
      "text/plain": [
       "\u001b[2;36m        \u001b[0m\u001b[2;36m \u001b[0m\u001b[31mWARNING \u001b[0m \u001b[1;35mos.getcwd\u001b[0m\u001b[1m(\u001b[0m\u001b[1m)\u001b[0m: \u001b[35m/Users/saforem2/projects/l2hmc-qcd/src/\u001b[0m\u001b[95ml2hmc\u001b[0m                                                                                                                                \u001b]8;id=703336;file:///Users/saforem2/projects/l2hmc-qcd/src/l2hmc/experiment/experiment.py\u001b\\\u001b[2mexperiment.py\u001b[0m\u001b]8;;\u001b\\\u001b[2m:\u001b[0m\u001b]8;id=106687;file:///Users/saforem2/projects/l2hmc-qcd/src/l2hmc/experiment/experiment.py#166\u001b\\\u001b[2m166\u001b[0m\u001b]8;;\u001b\\\n"
      ]
     },
     "metadata": {},
     "output_type": "display_data"
    },
    {
     "data": {
      "text/html": [
       "<pre style=\"white-space:pre;overflow-x:auto;line-height:normal;font-family:Menlo,'DejaVu Sans Mono',consolas,'Courier New',monospace\"><span style=\"color: #7fbfbf; text-decoration-color: #7fbfbf\">         </span><span style=\"color: #800000; text-decoration-color: #800000; font-weight: bold\">ERROR   </span> Failed to detect the name of this notebook, you can set it manually with the WANDB_NOTEBOOK_NAME environment variable to enable code saving.                                                <a href=\"file:///Users/saforem2/projects/l2hmc-qcd/.venv/lib/python3.10/site-packages/wandb/jupyter.py\" target=\"_blank\"><span style=\"color: #7f7f7f; text-decoration-color: #7f7f7f\">jupyter.py</span></a><span style=\"color: #7f7f7f; text-decoration-color: #7f7f7f\">:</span><a href=\"file:///Users/saforem2/projects/l2hmc-qcd/.venv/lib/python3.10/site-packages/wandb/jupyter.py#230\" target=\"_blank\"><span style=\"color: #7f7f7f; text-decoration-color: #7f7f7f\">230</span></a>\n",
       "</pre>\n"
      ],
      "text/plain": [
       "\u001b[2;36m        \u001b[0m\u001b[2;36m \u001b[0m\u001b[1;31mERROR   \u001b[0m Failed to detect the name of this notebook, you can set it manually with the WANDB_NOTEBOOK_NAME environment variable to enable code saving.                                                \u001b]8;id=797816;file:///Users/saforem2/projects/l2hmc-qcd/.venv/lib/python3.10/site-packages/wandb/jupyter.py\u001b\\\u001b[2mjupyter.py\u001b[0m\u001b]8;;\u001b\\\u001b[2m:\u001b[0m\u001b]8;id=470424;file:///Users/saforem2/projects/l2hmc-qcd/.venv/lib/python3.10/site-packages/wandb/jupyter.py#230\u001b\\\u001b[2m230\u001b[0m\u001b]8;;\u001b\\\n"
      ]
     },
     "metadata": {},
     "output_type": "display_data"
    },
    {
     "data": {
      "text/html": [
       "<pre style=\"white-space:pre;overflow-x:auto;line-height:normal;font-family:Menlo,'DejaVu Sans Mono',consolas,'Courier New',monospace\"><span style=\"color: #7fbfbf; text-decoration-color: #7fbfbf\">         </span><span style=\"color: #008000; text-decoration-color: #008000\">DEBUG   </span> Starting new HTTPS connection <span style=\"font-weight: bold\">(</span><span style=\"color: #008080; text-decoration-color: #008080; font-weight: bold\">1</span><span style=\"font-weight: bold\">)</span>: api.wandb.ai:<span style=\"color: #008080; text-decoration-color: #008080; font-weight: bold\">443</span>                                                                                                                                 <a href=\"file:///Users/saforem2/projects/l2hmc-qcd/.venv/lib/python3.10/site-packages/urllib3/connectionpool.py\" target=\"_blank\"><span style=\"color: #7f7f7f; text-decoration-color: #7f7f7f\">connectionpool.py</span></a><span style=\"color: #7f7f7f; text-decoration-color: #7f7f7f\">:</span><a href=\"file:///Users/saforem2/projects/l2hmc-qcd/.venv/lib/python3.10/site-packages/urllib3/connectionpool.py#1001\" target=\"_blank\"><span style=\"color: #7f7f7f; text-decoration-color: #7f7f7f\">1001</span></a>\n",
       "</pre>\n"
      ],
      "text/plain": [
       "\u001b[2;36m        \u001b[0m\u001b[2;36m \u001b[0m\u001b[32mDEBUG   \u001b[0m Starting new HTTPS connection \u001b[1m(\u001b[0m\u001b[1;36m1\u001b[0m\u001b[1m)\u001b[0m: api.wandb.ai:\u001b[1;36m443\u001b[0m                                                                                                                                 \u001b]8;id=680654;file:///Users/saforem2/projects/l2hmc-qcd/.venv/lib/python3.10/site-packages/urllib3/connectionpool.py\u001b\\\u001b[2mconnectionpool.py\u001b[0m\u001b]8;;\u001b\\\u001b[2m:\u001b[0m\u001b]8;id=987456;file:///Users/saforem2/projects/l2hmc-qcd/.venv/lib/python3.10/site-packages/urllib3/connectionpool.py#1001\u001b\\\u001b[2m1001\u001b[0m\u001b]8;;\u001b\\\n"
      ]
     },
     "metadata": {},
     "output_type": "display_data"
    },
    {
     "data": {
      "text/html": [
       "<pre style=\"white-space:pre;overflow-x:auto;line-height:normal;font-family:Menlo,'DejaVu Sans Mono',consolas,'Courier New',monospace\"><span style=\"color: #7fbfbf; text-decoration-color: #7fbfbf\">         </span><span style=\"color: #008000; text-decoration-color: #008000\">DEBUG   </span> <span style=\"color: #0000ff; text-decoration-color: #0000ff; text-decoration: underline\">https://api.wandb.ai:443</span> <span style=\"color: #008000; text-decoration-color: #008000\">\"</span><span style=\"color: #808000; text-decoration-color: #808000; font-weight: bold\">POST</span><span style=\"color: #008000; text-decoration-color: #008000\"> /graphql HTTP/1.1\"</span> <span style=\"color: #008080; text-decoration-color: #008080; font-weight: bold\">200</span> <span style=\"color: #800080; text-decoration-color: #800080; font-style: italic\">None</span>                                                                                                                           <a href=\"file:///Users/saforem2/projects/l2hmc-qcd/.venv/lib/python3.10/site-packages/urllib3/connectionpool.py\" target=\"_blank\"><span style=\"color: #7f7f7f; text-decoration-color: #7f7f7f\">connectionpool.py</span></a><span style=\"color: #7f7f7f; text-decoration-color: #7f7f7f\">:</span><a href=\"file:///Users/saforem2/projects/l2hmc-qcd/.venv/lib/python3.10/site-packages/urllib3/connectionpool.py#456\" target=\"_blank\"><span style=\"color: #7f7f7f; text-decoration-color: #7f7f7f\">456</span></a>\n",
       "</pre>\n"
      ],
      "text/plain": [
       "\u001b[2;36m        \u001b[0m\u001b[2;36m \u001b[0m\u001b[32mDEBUG   \u001b[0m \u001b[4;94mhttps://api.wandb.ai:443\u001b[0m \u001b[32m\"\u001b[0m\u001b[1;33mPOST\u001b[0m\u001b[32m /graphql HTTP/1.1\"\u001b[0m \u001b[1;36m200\u001b[0m \u001b[3;35mNone\u001b[0m                                                                                                                           \u001b]8;id=208868;file:///Users/saforem2/projects/l2hmc-qcd/.venv/lib/python3.10/site-packages/urllib3/connectionpool.py\u001b\\\u001b[2mconnectionpool.py\u001b[0m\u001b]8;;\u001b\\\u001b[2m:\u001b[0m\u001b]8;id=795567;file:///Users/saforem2/projects/l2hmc-qcd/.venv/lib/python3.10/site-packages/urllib3/connectionpool.py#456\u001b\\\u001b[2m456\u001b[0m\u001b]8;;\u001b\\\n"
      ]
     },
     "metadata": {},
     "output_type": "display_data"
    },
    {
     "data": {
      "text/html": [
       "<pre style=\"white-space:pre;overflow-x:auto;line-height:normal;font-family:Menlo,'DejaVu Sans Mono',consolas,'Courier New',monospace\"><span style=\"color: #7fbfbf; text-decoration-color: #7fbfbf\">         </span><span style=\"color: #008000; text-decoration-color: #008000\">DEBUG   </span> Starting new HTTPS connection <span style=\"font-weight: bold\">(</span><span style=\"color: #008080; text-decoration-color: #008080; font-weight: bold\">1</span><span style=\"font-weight: bold\">)</span>: api.wandb.ai:<span style=\"color: #008080; text-decoration-color: #008080; font-weight: bold\">443</span>                                                                                                                                 <a href=\"file:///Users/saforem2/projects/l2hmc-qcd/.venv/lib/python3.10/site-packages/urllib3/connectionpool.py\" target=\"_blank\"><span style=\"color: #7f7f7f; text-decoration-color: #7f7f7f\">connectionpool.py</span></a><span style=\"color: #7f7f7f; text-decoration-color: #7f7f7f\">:</span><a href=\"file:///Users/saforem2/projects/l2hmc-qcd/.venv/lib/python3.10/site-packages/urllib3/connectionpool.py#1001\" target=\"_blank\"><span style=\"color: #7f7f7f; text-decoration-color: #7f7f7f\">1001</span></a>\n",
       "</pre>\n"
      ],
      "text/plain": [
       "\u001b[2;36m        \u001b[0m\u001b[2;36m \u001b[0m\u001b[32mDEBUG   \u001b[0m Starting new HTTPS connection \u001b[1m(\u001b[0m\u001b[1;36m1\u001b[0m\u001b[1m)\u001b[0m: api.wandb.ai:\u001b[1;36m443\u001b[0m                                                                                                                                 \u001b]8;id=73799;file:///Users/saforem2/projects/l2hmc-qcd/.venv/lib/python3.10/site-packages/urllib3/connectionpool.py\u001b\\\u001b[2mconnectionpool.py\u001b[0m\u001b]8;;\u001b\\\u001b[2m:\u001b[0m\u001b]8;id=312336;file:///Users/saforem2/projects/l2hmc-qcd/.venv/lib/python3.10/site-packages/urllib3/connectionpool.py#1001\u001b\\\u001b[2m1001\u001b[0m\u001b]8;;\u001b\\\n"
      ]
     },
     "metadata": {},
     "output_type": "display_data"
    },
    {
     "data": {
      "text/html": [
       "<pre style=\"white-space:pre;overflow-x:auto;line-height:normal;font-family:Menlo,'DejaVu Sans Mono',consolas,'Courier New',monospace\"><span style=\"color: #7fbfbf; text-decoration-color: #7fbfbf\">         </span><span style=\"color: #008000; text-decoration-color: #008000\">DEBUG   </span> <span style=\"color: #0000ff; text-decoration-color: #0000ff; text-decoration: underline\">https://api.wandb.ai:443</span> <span style=\"color: #008000; text-decoration-color: #008000\">\"</span><span style=\"color: #808000; text-decoration-color: #808000; font-weight: bold\">POST</span><span style=\"color: #008000; text-decoration-color: #008000\"> /graphql HTTP/1.1\"</span> <span style=\"color: #008080; text-decoration-color: #008080; font-weight: bold\">200</span> <span style=\"color: #800080; text-decoration-color: #800080; font-style: italic\">None</span>                                                                                                                           <a href=\"file:///Users/saforem2/projects/l2hmc-qcd/.venv/lib/python3.10/site-packages/urllib3/connectionpool.py\" target=\"_blank\"><span style=\"color: #7f7f7f; text-decoration-color: #7f7f7f\">connectionpool.py</span></a><span style=\"color: #7f7f7f; text-decoration-color: #7f7f7f\">:</span><a href=\"file:///Users/saforem2/projects/l2hmc-qcd/.venv/lib/python3.10/site-packages/urllib3/connectionpool.py#456\" target=\"_blank\"><span style=\"color: #7f7f7f; text-decoration-color: #7f7f7f\">456</span></a>\n",
       "</pre>\n"
      ],
      "text/plain": [
       "\u001b[2;36m        \u001b[0m\u001b[2;36m \u001b[0m\u001b[32mDEBUG   \u001b[0m \u001b[4;94mhttps://api.wandb.ai:443\u001b[0m \u001b[32m\"\u001b[0m\u001b[1;33mPOST\u001b[0m\u001b[32m /graphql HTTP/1.1\"\u001b[0m \u001b[1;36m200\u001b[0m \u001b[3;35mNone\u001b[0m                                                                                                                           \u001b]8;id=408166;file:///Users/saforem2/projects/l2hmc-qcd/.venv/lib/python3.10/site-packages/urllib3/connectionpool.py\u001b\\\u001b[2mconnectionpool.py\u001b[0m\u001b]8;;\u001b\\\u001b[2m:\u001b[0m\u001b]8;id=197064;file:///Users/saforem2/projects/l2hmc-qcd/.venv/lib/python3.10/site-packages/urllib3/connectionpool.py#456\u001b\\\u001b[2m456\u001b[0m\u001b]8;;\u001b\\\n"
      ]
     },
     "metadata": {},
     "output_type": "display_data"
    },
    {
     "name": "stderr",
     "output_type": "stream",
     "text": [
      "\u001b[34m\u001b[1mwandb\u001b[0m: Currently logged in as: \u001b[33msaforem2\u001b[0m (\u001b[33ml2hmc-qcd\u001b[0m). Use \u001b[1m`wandb login --relogin`\u001b[0m to force relogin\n"
     ]
    },
    {
     "data": {
      "text/html": [
       "<pre style=\"white-space:pre;overflow-x:auto;line-height:normal;font-family:Menlo,'DejaVu Sans Mono',consolas,'Courier New',monospace\"><span style=\"color: #7fbfbf; text-decoration-color: #7fbfbf\">         </span><span style=\"color: #008000; text-decoration-color: #008000\">DEBUG   </span> <span style=\"color: #800080; text-decoration-color: #800080; font-weight: bold\">Popen</span><span style=\"font-weight: bold\">([</span><span style=\"color: #008000; text-decoration-color: #008000\">'git'</span>, <span style=\"color: #008000; text-decoration-color: #008000\">'cat-file'</span>, <span style=\"color: #008000; text-decoration-color: #008000\">'--batch-check'</span><span style=\"font-weight: bold\">]</span>, <span style=\"color: #808000; text-decoration-color: #808000\">cwd</span>=<span style=\"color: #800080; text-decoration-color: #800080\">/Users/saforem2/projects/</span><span style=\"color: #ff00ff; text-decoration-color: #ff00ff\">l2hmc-qcd</span>, <span style=\"color: #808000; text-decoration-color: #808000\">universal_newlines</span>=<span style=\"color: #ff0000; text-decoration-color: #ff0000; font-style: italic\">False</span>, <span style=\"color: #808000; text-decoration-color: #808000\">shell</span>=<span style=\"color: #800080; text-decoration-color: #800080; font-style: italic\">None</span>, <span style=\"color: #808000; text-decoration-color: #808000\">istream</span>=<span style=\"font-weight: bold\">&lt;</span><span style=\"color: #ff00ff; text-decoration-color: #ff00ff; font-weight: bold\">valid</span><span style=\"color: #000000; text-decoration-color: #000000\"> stream</span><span style=\"font-weight: bold\">&gt;)</span>                                               <a href=\"file:///Users/saforem2/projects/l2hmc-qcd/.venv/lib/python3.10/site-packages/git/cmd.py\" target=\"_blank\"><span style=\"color: #7f7f7f; text-decoration-color: #7f7f7f\">cmd.py</span></a><span style=\"color: #7f7f7f; text-decoration-color: #7f7f7f\">:</span><a href=\"file:///Users/saforem2/projects/l2hmc-qcd/.venv/lib/python3.10/site-packages/git/cmd.py#870\" target=\"_blank\"><span style=\"color: #7f7f7f; text-decoration-color: #7f7f7f\">870</span></a>\n",
       "</pre>\n"
      ],
      "text/plain": [
       "\u001b[2;36m        \u001b[0m\u001b[2;36m \u001b[0m\u001b[32mDEBUG   \u001b[0m \u001b[1;35mPopen\u001b[0m\u001b[1m(\u001b[0m\u001b[1m[\u001b[0m\u001b[32m'git'\u001b[0m, \u001b[32m'cat-file'\u001b[0m, \u001b[32m'--batch-check'\u001b[0m\u001b[1m]\u001b[0m, \u001b[33mcwd\u001b[0m=\u001b[35m/Users/saforem2/projects/\u001b[0m\u001b[95ml2hmc-qcd\u001b[0m, \u001b[33muniversal_newlines\u001b[0m=\u001b[3;91mFalse\u001b[0m, \u001b[33mshell\u001b[0m=\u001b[3;35mNone\u001b[0m, \u001b[33mistream\u001b[0m=\u001b[1m<\u001b[0m\u001b[1;95mvalid\u001b[0m\u001b[39m stream\u001b[0m\u001b[1m>\u001b[0m\u001b[1m)\u001b[0m                                               \u001b]8;id=13873;file:///Users/saforem2/projects/l2hmc-qcd/.venv/lib/python3.10/site-packages/git/cmd.py\u001b\\\u001b[2mcmd.py\u001b[0m\u001b]8;;\u001b\\\u001b[2m:\u001b[0m\u001b]8;id=734693;file:///Users/saforem2/projects/l2hmc-qcd/.venv/lib/python3.10/site-packages/git/cmd.py#870\u001b\\\u001b[2m870\u001b[0m\u001b]8;;\u001b\\\n"
      ]
     },
     "metadata": {},
     "output_type": "display_data"
    }
   ],
   "source": [
    "from l2hmc.configs import get_experiment\n",
    "\n",
    "ptExpU1 = get_experiment(\n",
    "    overrides=[\n",
    "        *defaults_u1,\n",
    "        'framework=pytorch',\n",
    "    ]\n",
    ")\n",
    "\n",
    "ptExpU1_ = get_experiment(\n",
    "    overrides=[\n",
    "        *defaults_u1,\n",
    "        'framework=pytorch',\n",
    "        'net_weights.x.s=0.0',\n",
    "        'net_weights.x.t=0.0',\n",
    "        'net_weights.x.q=0.0',\n",
    "        'net_weights.v.s=0.0',\n",
    "        'net_weights.v.t=0.0',\n",
    "        'net_weights.v.q=0.0',\n",
    "    ]\n",
    ")\n",
    "\n",
    "ptExpSU3 = get_experiment(\n",
    "    overrides=[\n",
    "        *defaults_su3,\n",
    "        'framework=pytorch',\n",
    "    ]\n",
    ")\n",
    "\n",
    "ptObjsU1 = ptExpU1.build(init_wandb=True, init_aim=True)\n",
    "ptObjsU1_ = ptExpU1_.build(init_wandb=False, init_aim=True)\n",
    "ptObjsSU3 = ptExpSU3.build(init_wandb=False, init_aim=False)"
   ]
  },
  {
   "cell_type": "code",
   "execution_count": null,
   "id": "59abe133",
   "metadata": {},
   "outputs": [],
   "source": [
    "from l2hmc.utils.rich import get_console\n",
    "console = get_console(width=210)"
   ]
  },
  {
   "cell_type": "code",
   "execution_count": null,
   "id": "c21f1109",
   "metadata": {},
   "outputs": [],
   "source": [
    "%matplotlib inline"
   ]
  },
  {
   "cell_type": "code",
   "execution_count": null,
   "id": "3db2b0c8",
   "metadata": {},
   "outputs": [],
   "source": [
    "#ptExpU1.trainer.dynamics.init_weights('zeros')\n",
    "#ptExpU1.trainer.reset_optimizer()"
   ]
  },
  {
   "cell_type": "code",
   "execution_count": null,
   "id": "1bada84f",
   "metadata": {},
   "outputs": [],
   "source": [
    "ptExpU1.trainer.dynamics.train()"
   ]
  },
  {
   "cell_type": "code",
   "execution_count": null,
   "id": "a3ae504a",
   "metadata": {},
   "outputs": [],
   "source": [
    "outputs['pytorch']['train'] = ptExpU1.train()"
   ]
  },
  {
   "cell_type": "code",
   "execution_count": null,
   "id": "d21f4f20",
   "metadata": {},
   "outputs": [],
   "source": [
    "output_ptU1 = ptExpU1_.train()"
   ]
  },
  {
   "cell_type": "code",
   "execution_count": null,
   "id": "c4eb6862",
   "metadata": {},
   "outputs": [],
   "source": [
    "outputs['pytorch']['eval'] = ptExpU1.evaluate('eval')"
   ]
  },
  {
   "cell_type": "code",
   "execution_count": null,
   "id": "30d4e0c1",
   "metadata": {},
   "outputs": [],
   "source": [
    "from l2hmc.common import plot_dataset\n",
    "\n",
    "plot_dataset(ptExpU1.trainer.histories['train'].get_dataset())"
   ]
  },
  {
   "cell_type": "code",
   "execution_count": null,
   "id": "fedf2c91",
   "metadata": {},
   "outputs": [],
   "source": [
    "outputs['pytorch']['eval'] = ptExpU1.evaluate(job_type='eval')"
   ]
  },
  {
   "cell_type": "code",
   "execution_count": null,
   "id": "5948eab3",
   "metadata": {},
   "outputs": [],
   "source": [
    "outputs['pytorch']['hmc'] = ptExpU1.evaluate(job_type='hmc')"
   ]
  },
  {
   "cell_type": "code",
   "execution_count": null,
   "id": "4002d822",
   "metadata": {},
   "outputs": [],
   "source": [
    "from l2hmc.utils.plot_helpers import plot_dataset\n",
    "\n",
    "tdsetpt = ptExpU1.trainer.histories['train'].get_dataset()\n",
    "_ = plot_dataset(tdsetpt)"
   ]
  },
  {
   "cell_type": "code",
   "execution_count": null,
   "id": "2e12b887",
   "metadata": {},
   "outputs": [],
   "source": [
    "import matplotlib.pyplot as plt\n",
    "\n",
    "from l2hmc.common import plot_dataset\n",
    "\n",
    "plt.rcParams['axes.labelcolor'] = '#FFFFFF'\n",
    "\n",
    "plot_dataset(tdsetpt, nchains=4)"
   ]
  },
  {
   "cell_type": "code",
   "execution_count": null,
   "id": "f5a21667",
   "metadata": {},
   "outputs": [],
   "source": [
    "edsetpt = ptExpU1.trainer.histories['eval'].get_dataset()"
   ]
  },
  {
   "cell_type": "code",
   "execution_count": null,
   "id": "e902310e",
   "metadata": {},
   "outputs": [],
   "source": [
    "plot_dataset(edsetpt, nchains=36)"
   ]
  },
  {
   "cell_type": "markdown",
   "id": "627e982d",
   "metadata": {},
   "source": [
    "## TensorFlow: 2D $U(1)$ and 4D $SU(3)$ models:"
   ]
  },
  {
   "cell_type": "code",
   "execution_count": null,
   "id": "20ea87bb",
   "metadata": {},
   "outputs": [],
   "source": [
    "tfExpU1 = get_experiment(\n",
    "    overrides=[\n",
    "        *defaults_u1,\n",
    "        'framework=tensorflow',\n",
    "    ]\n",
    ")\n",
    "\n",
    "tfExpSU3 = get_experiment(\n",
    "    overrides=[\n",
    "        *defaults_su3,\n",
    "        'framework=tensorflow',\n",
    "    ]\n",
    ")\n",
    "\n",
    "tfObjsU1 = tfExpU1.build(init_wandb=False, init_aim=True)\n",
    "tfObjsSU3 = tfExpSU3.build(init_wandb=False, init_aim=False)"
   ]
  },
  {
   "cell_type": "code",
   "execution_count": null,
   "id": "79a0b774",
   "metadata": {},
   "outputs": [],
   "source": [
    "outputs['tensorflow']['train'] = tfExpU1.train()"
   ]
  },
  {
   "cell_type": "code",
   "execution_count": null,
   "id": "82139de5",
   "metadata": {},
   "outputs": [],
   "source": [
    "outputs['tensorflow']['eval'] = tfExpU1.evaluate(job_type='eval')"
   ]
  },
  {
   "cell_type": "code",
   "execution_count": null,
   "id": "300fc92f",
   "metadata": {},
   "outputs": [],
   "source": [
    "tdsettf = tfExpU1.trainer.histories['train'].get_dataset()\n",
    "edsettf = tfExpU1.trainer.histories['eval'].get_dataset()"
   ]
  },
  {
   "cell_type": "code",
   "execution_count": null,
   "id": "3abe347e",
   "metadata": {},
   "outputs": [],
   "source": [
    "%matplotlib notebook"
   ]
  },
  {
   "cell_type": "code",
   "execution_count": null,
   "id": "11d3098d",
   "metadata": {},
   "outputs": [],
   "source": [
    "import seaborn as sns\n",
    "import matplotlib.pyplot as plt\n",
    "plt.rcParams['axes.labelcolor'] = '#bdbdbd'\n",
    "sns.set_context('notebook', font_scale=0.8)\n",
    "plot_dataset(tdsettf)"
   ]
  },
  {
   "cell_type": "code",
   "execution_count": null,
   "id": "ec302b57",
   "metadata": {},
   "outputs": [],
   "source": [
    "plt.rcParams['figure.dpi'] = 100\n",
    "sns.set_context('notebook', font_scale=0.8)\n",
    "plt.rcParams['axes.labelcolor'] = '#666666'\n",
    "plot_dataset(edsettf, therm_frac=0.2)"
   ]
  },
  {
   "cell_type": "code",
   "execution_count": null,
   "id": "079a478e",
   "metadata": {},
   "outputs": [],
   "source": [
    "import l2hmc.utils.plot_helpers as hplt"
   ]
  },
  {
   "cell_type": "code",
   "execution_count": null,
   "id": "b5896b17",
   "metadata": {},
   "outputs": [],
   "source": [
    "hplt.plot_dataset(tdsettf, therm_frac=0.2)"
   ]
  },
  {
   "cell_type": "code",
   "execution_count": null,
   "id": "d8176d79",
   "metadata": {},
   "outputs": [],
   "source": []
  },
  {
   "cell_type": "code",
   "execution_count": null,
   "id": "4d061e3a",
   "metadata": {},
   "outputs": [],
   "source": [
    "hplt.plot_dataset(edsettf, therm_frac=0.2)"
   ]
  },
  {
   "cell_type": "code",
   "execution_count": null,
   "id": "e2da62d5",
   "metadata": {},
   "outputs": [],
   "source": []
  },
  {
   "cell_type": "markdown",
   "id": "e4ba7d6e",
   "metadata": {},
   "source": [
    "## Debugging / Testing"
   ]
  },
  {
   "cell_type": "code",
   "execution_count": null,
   "id": "94ad6be9",
   "metadata": {},
   "outputs": [],
   "source": [
    "from l2hmc.experiment.pytorch.experiment import Experiment as ptExperiment\n",
    "from l2hmc.experiment.tensorflow.experiment import Experiment as tfExperiment"
   ]
  },
  {
   "cell_type": "code",
   "execution_count": null,
   "id": "1a61e3b4",
   "metadata": {},
   "outputs": [],
   "source": [
    "def get_lattice_metrics(experiment: ptExperiment | tfExperiment, beta: float = 1.) -> dict:\n",
    "    if experiment.cfg.framework == 'pytorch':\n",
    "        assert isinstance(experiment, ptExperiment)\n",
    "    if experiment.cfg.framework == 'tensorflow':\n",
    "        assert isinstance(experiment, tfExperiment)\n",
    "    state = experiment.trainer.dynamics.random_state(beta)\n",
    "    metrics = experiment.lattice.calc_metrics(state.x)\n",
    "    return metrics"
   ]
  },
  {
   "cell_type": "code",
   "execution_count": null,
   "id": "b41d0f87",
   "metadata": {},
   "outputs": [],
   "source": [
    "from typing import Optional\n",
    "import rich\n",
    "\n",
    "from l2hmc.configs import State\n",
    "\n",
    "console = rich.console.Console(log_path=False, force_jupyter=True)\n",
    "\n",
    "def check_diff(x, y, name: Optional[str] = None):\n",
    "    if isinstance(x, State):\n",
    "        xd = {'x': x.x, 'v': x.v, 'beta': x.beta}\n",
    "        yd = {'x': y.x, 'v': y.v, 'beta': y.beta}\n",
    "        check_diff(xd, yd, name=f'State')\n",
    "        \n",
    "    if isinstance(x, dict) and isinstance(y, dict):\n",
    "        for (kx, vx), (ky, vy) in zip(x.items(), y.items()):\n",
    "            check_diff(vx, vy, name=kx)\n",
    "    else:\n",
    "        if isinstance(x, torch.Tensor):\n",
    "            x = x.detach().numpy()\n",
    "        if isinstance(y, torch.Tensor):\n",
    "            y = y.detach().numpy()\n",
    "\n",
    "        if isinstance(x, tf.Tensor):\n",
    "            x = x.numpy()\n",
    "        if isinstance(y, tf.Tensor):\n",
    "            y = y.numpy()\n",
    "\n",
    "        dstr = []\n",
    "        if name is not None:\n",
    "            dstr.append(f\"'{name}''\")\n",
    "        dstr.append(f'  sum(diff): {(x - y).sum()}')\n",
    "        dstr.append(f'  min(diff): {(x - y).min()}')\n",
    "        dstr.append(f'  max(diff): {(x - y).max()}')\n",
    "        dstr.append(f'  mean(diff): {(x - y).mean()}')\n",
    "        dstr.append(f'  std(diff): {(x - y).std()}')\n",
    "        dstr.append(f'  np.allclose: {np.allclose(x, y)}')\n",
    "        console.log('\\n'.join(dstr))"
   ]
  },
  {
   "cell_type": "markdown",
   "id": "a61c11a5",
   "metadata": {},
   "source": [
    "# Check Lattice Methods"
   ]
  },
  {
   "cell_type": "code",
   "execution_count": null,
   "id": "916f4d85",
   "metadata": {},
   "outputs": [],
   "source": [
    "state_pt = ptExpU1.trainer.dynamics.random_state(1.0)\n",
    "xpt = state_pt.x\n",
    "xtf = tf.constant(xpt.detach().numpy())\n",
    "check_diff(xpt, xtf, name='x')"
   ]
  },
  {
   "cell_type": "code",
   "execution_count": null,
   "id": "5d86c5a9",
   "metadata": {},
   "outputs": [],
   "source": [
    "x = np.random.randn(*xpt.detach().numpy().shape)"
   ]
  },
  {
   "cell_type": "code",
   "execution_count": null,
   "id": "95e8290c",
   "metadata": {},
   "outputs": [],
   "source": [
    "dpt = ptExpU1.trainer.dynamics\n",
    "dtf = tfExpU1.trainer.dynamics\n",
    "\n",
    "xcpt = dpt.g.compat_proj(torch.tensor(x))\n",
    "xctf = dtf.g.compat_proj(tf.constant(x))"
   ]
  },
  {
   "cell_type": "code",
   "execution_count": null,
   "id": "859f77b6",
   "metadata": {},
   "outputs": [],
   "source": [
    "check_diff(xcpt, xctf)"
   ]
  },
  {
   "cell_type": "code",
   "execution_count": null,
   "id": "2440cd34",
   "metadata": {},
   "outputs": [],
   "source": [
    "xpt.shape"
   ]
  },
  {
   "cell_type": "code",
   "execution_count": null,
   "id": "f53e4bc4",
   "metadata": {},
   "outputs": [],
   "source": [
    "xtf.shape"
   ]
  },
  {
   "cell_type": "code",
   "execution_count": null,
   "id": "0e7010f5",
   "metadata": {},
   "outputs": [],
   "source": [
    "lmetrics_tf = tfExpU1.trainer.lattice.calc_metrics(xtf)\n",
    "lmetrics_pt = ptExpU1.trainer.lattice.calc_metrics(xpt)"
   ]
  },
  {
   "cell_type": "code",
   "execution_count": null,
   "id": "d377d317",
   "metadata": {},
   "outputs": [],
   "source": [
    "check_diff(xtf, xpt)"
   ]
  },
  {
   "cell_type": "code",
   "execution_count": null,
   "id": "5d313ed8",
   "metadata": {},
   "outputs": [],
   "source": [
    "wloopspt = ptExpU1.trainer.lattice.wilson_loops(xpt)\n",
    "wloopstf = tfExpU1.trainer.lattice.wilson_loops(xtf)\n",
    "check_diff(wloopspt, wloopstf, name='wloops')"
   ]
  },
  {
   "cell_type": "code",
   "execution_count": null,
   "id": "1d42ce9e",
   "metadata": {},
   "outputs": [],
   "source": [
    "from l2hmc.lattice.u1.tensorflow.lattice import project_angle as proj_tf\n",
    "from l2hmc.lattice.u1.pytorch.lattice import project_angle as proj_pt\n",
    "lattice_pt = ptExpU1.trainer.lattice\n",
    "lattice_tf = tfExpU1.trainer.lattice"
   ]
  },
  {
   "cell_type": "code",
   "execution_count": null,
   "id": "7116ba0a",
   "metadata": {},
   "outputs": [],
   "source": [
    "wprojpt = proj_pt(wloopspt)\n",
    "wprojtf = proj_tf(tf.constant(wloopstf))\n",
    "check_diff(wprojpt.detach().numpy(), wprojtf.numpy(), name='wproj')"
   ]
  },
  {
   "cell_type": "code",
   "execution_count": null,
   "id": "5c1e9161",
   "metadata": {},
   "outputs": [],
   "source": [
    "qintpt = lattice_pt._int_charges(wloopspt)\n",
    "qinttf = lattice_tf._int_charges(wloopstf)\n",
    "check_diff(qintpt.detach().numpy(), qinttf.numpy(), name='qint')"
   ]
  },
  {
   "cell_type": "code",
   "execution_count": null,
   "id": "90f7d73a",
   "metadata": {},
   "outputs": [],
   "source": [
    "qsinpt = lattice_pt._sin_charges(wloopspt)\n",
    "qsintf = lattice_tf._sin_charges(wloopstf)\n",
    "check_diff(qsinpt, qsintf, name='qsin')"
   ]
  },
  {
   "cell_type": "code",
   "execution_count": null,
   "id": "d641f79b",
   "metadata": {},
   "outputs": [],
   "source": [
    "wloopspt.shape"
   ]
  },
  {
   "cell_type": "code",
   "execution_count": null,
   "id": "22ea7e7e",
   "metadata": {},
   "outputs": [],
   "source": [
    "wloopstf.shape"
   ]
  },
  {
   "cell_type": "code",
   "execution_count": null,
   "id": "bc8e21f3",
   "metadata": {},
   "outputs": [],
   "source": [
    "qint_pt = proj_pt(wloopspt).sum((1, 2)) / 2 * np.pi\n",
    "qint_tf = proj_tf(wloopstf).numpy().sum((1, 2)) / 2 * np.pi"
   ]
  },
  {
   "cell_type": "code",
   "execution_count": null,
   "id": "47218030",
   "metadata": {},
   "outputs": [],
   "source": [
    "wproj_pt = proj_pt(wloopspt)\n",
    "wproj_tf = proj_tf(wloopstf)\n",
    "\n",
    "check_diff(wproj_pt, wproj_tf, name='wproj')"
   ]
  },
  {
   "cell_type": "code",
   "execution_count": null,
   "id": "d7400026",
   "metadata": {},
   "outputs": [],
   "source": [
    "wproj_pt.shape"
   ]
  },
  {
   "cell_type": "code",
   "execution_count": null,
   "id": "5712ded0",
   "metadata": {},
   "outputs": [],
   "source": [
    "wproj_tf.shape"
   ]
  },
  {
   "cell_type": "code",
   "execution_count": null,
   "id": "7de24fb9",
   "metadata": {},
   "outputs": [],
   "source": [
    "wprojsum_pt = wproj_pt.sum((1, 2)) / 2 * np.pi\n",
    "wprojsum_tf = tf.reduce_sum(wproj_tf, (1, 2)) / 2 * np.pi\n",
    "\n",
    "wprojsum_pt_ = np.array(wprojsum_pt.detach(), dtype=int)\n",
    "wprojsum_tf_ = np.array(wprojsum_tf.numpy(), dtype=int)\n",
    "\n",
    "check_diff(wprojsum_pt.detach().numpy().round(6), wprojsum_tf.numpy().round(6), name='wprojsum')\n",
    "check_diff(wprojsum_pt_, wprojsum_tf_, name='wprojsum_')"
   ]
  },
  {
   "cell_type": "code",
   "execution_count": null,
   "id": "79269ea6",
   "metadata": {},
   "outputs": [],
   "source": [
    "check_diff(qint_pt, qint_tf, name='qint')"
   ]
  },
  {
   "cell_type": "code",
   "execution_count": null,
   "id": "df608315",
   "metadata": {},
   "outputs": [],
   "source": [
    "qpt = ptExpU1.trainer.lattice.charges(x=xpt)\n",
    "qtf = tfExpU1.trainer.lattice.charges(x=xtf)\n",
    "check_diff(qpt.intQ, qtf.intQ, name='intQ')\n",
    "check_diff(qpt.sinQ, qtf.sinQ, name='sinQ')"
   ]
  },
  {
   "cell_type": "code",
   "execution_count": null,
   "id": "bc184961",
   "metadata": {},
   "outputs": [],
   "source": [
    "np.array(lmetrics_pt['intQ'].detach().numpy()[:10]).round(5)\n",
    "np.array(lmetrics_tf['intQ'].numpy()[:10]).round(5)\n",
    "\n",
    "np.array(lmetrics_pt['sinQ'].detach().numpy()[:10]).round(5)\n",
    "np.array(lmetrics_tf['sinQ'].numpy()[:10]).round(5)"
   ]
  },
  {
   "cell_type": "code",
   "execution_count": null,
   "id": "700415aa",
   "metadata": {},
   "outputs": [],
   "source": [
    "check_diff(lmetrics_tf, lmetrics_pt)"
   ]
  },
  {
   "cell_type": "markdown",
   "id": "726fdded",
   "metadata": {},
   "source": [
    "# Check `Dynamics`"
   ]
  },
  {
   "cell_type": "markdown",
   "id": "e8370883",
   "metadata": {},
   "source": [
    "## Check Action and Force term:\n",
    "\n",
    "- $S(x)$\n",
    "- $F = \\partial_x S(x)$"
   ]
  },
  {
   "cell_type": "code",
   "execution_count": null,
   "id": "f92f808c",
   "metadata": {},
   "outputs": [],
   "source": [
    "from l2hmc.configs import State\n",
    "\n",
    "dynamics_tf = tfExpU1.trainer.dynamics\n",
    "dynamics_pt = ptExpU1.trainer.dynamics\n",
    "\n",
    "\n",
    "state_pt = dynamics_pt.random_state(1.0)\n",
    "state_tf = State(\n",
    "    x=tf.constant(state_pt.x.detach().numpy()),\n",
    "    v=tf.constant(state_pt.v.detach().numpy()),\n",
    "    beta=tf.constant(state_pt.beta.detach().numpy())\n",
    ")\n",
    "\n",
    "stf = dynamics_tf.potential_energy(state_tf.x, state_tf.beta)\n",
    "spt = dynamics_pt.potential_energy(state_pt.x, state_pt.beta)"
   ]
  },
  {
   "cell_type": "code",
   "execution_count": null,
   "id": "f2108381",
   "metadata": {},
   "outputs": [],
   "source": [
    "check_diff(stf, spt, name='action')"
   ]
  },
  {
   "cell_type": "code",
   "execution_count": null,
   "id": "74f5c5f0",
   "metadata": {},
   "outputs": [],
   "source": [
    "TF_FLOAT = tf.keras.backend.floatx()\n",
    "dstf = dynamics_tf.grad_potential(state_tf.x, tf.cast(state_tf.beta, TF_FLOAT))\n",
    "dspt = dynamics_pt.grad_potential(state_pt.x, state_pt.beta)"
   ]
  },
  {
   "cell_type": "code",
   "execution_count": null,
   "id": "5147cd00",
   "metadata": {},
   "outputs": [],
   "source": [
    "check_diff(dstf, dspt)"
   ]
  },
  {
   "cell_type": "code",
   "execution_count": null,
   "id": "e1c5ed0d",
   "metadata": {},
   "outputs": [],
   "source": [
    "state_tf_ = dynamics_tf.random_state(1.)\n",
    "state_pt_ = State(\n",
    "    x=torch.from_numpy(state_tf_.x.numpy()),\n",
    "    v=torch.from_numpy(state_tf_.v.numpy()),\n",
    "    beta=torch.tensor(state_tf_.beta.numpy())\n",
    ")\n",
    "check_diff(state_tf_.x.numpy(), state_pt_.x.detach().numpy())"
   ]
  },
  {
   "cell_type": "code",
   "execution_count": null,
   "id": "3295bdcb",
   "metadata": {},
   "outputs": [],
   "source": [
    "xnet_tf = dynamics_tf.xnet\n",
    "vnet_tf = dynamics_tf.vnet\n",
    "\n",
    "xnet_pt = dynamics_pt.xnet\n",
    "vnet_pt = dynamics_pt.vnet"
   ]
  },
  {
   "cell_type": "code",
   "execution_count": null,
   "id": "bae8143e",
   "metadata": {},
   "outputs": [],
   "source": [
    "from  l2hmc.configs import State\n",
    "\n",
    "beta = 1.0\n",
    "dynamics_pt = ptExpU1.trainer.dynamics\n",
    "dynamics_tf = tfExpU1.trainer.dynamics\n",
    "\n",
    "lattice_pt = ptExpU1.trainer.loss_fn.lattice\n",
    "lattice_tf = tfExpU1.trainer.loss_fn.lattice\n",
    "\n",
    "state_pt = dynamics_pt.random_state(beta)\n",
    "\n",
    "beta_tf = tf.constant(beta)\n",
    "beta_pt = torch.tensor(beta)\n",
    "\n",
    "_x = tf.constant(state_pt.x.detach().numpy())\n",
    "_v = tf.constant(state_pt.v.detach().numpy())\n",
    "state_tf = State(_x, _v, beta_tf)"
   ]
  },
  {
   "cell_type": "code",
   "execution_count": null,
   "id": "16994f28",
   "metadata": {},
   "outputs": [],
   "source": [
    "check_diff(state_tf.x, state_pt.x, name='x')\n",
    "check_diff(state_tf.v, state_pt.v, name='v')"
   ]
  },
  {
   "cell_type": "markdown",
   "id": "8a5d9b74",
   "metadata": {},
   "source": [
    "## Check `Dynamics.xNet`"
   ]
  },
  {
   "cell_type": "code",
   "execution_count": null,
   "id": "15991834",
   "metadata": {},
   "outputs": [],
   "source": [
    "def zero_weights(model):\n",
    "    for layer in model.layers:\n",
    "        weights = layer.get_weights()\n",
    "        zeros = []\n",
    "        for w in weights:\n",
    "            console.log(f'Zeroing layer for: {layer} in {model}')\n",
    "            zeros.append(np.zeros_like(w))\n",
    "            \n",
    "        layer.set_weights(zeros)\n",
    "        #if len(weights) > 0:\n",
    "        #    layer.set_weights([\n",
    "        #        np.zeros_like(layer.get_weights()[0]),\n",
    "        #        np.zeros_like\n",
    "        #    ])\n",
    "        #    w, b = weights\n",
    "        #    zw = np.zeros_like(w)\n",
    "        #    zb = np.zeros_like(b)\n",
    "        #    console.log(f'Zeroing layer for: {layer} in {model}')\n",
    "        #    layer.set_weights([w, b])\n",
    "            \n",
    "    return model\n",
    "\n",
    "def check_weights(mpt, mtf):\n",
    "    wpt = mpt.weight\n",
    "    bpt = mpt.bias\n",
    "    wtf, btf = mtf.get_weights()\n",
    "    try:\n",
    "        check_diff(\n",
    "            wpt, wtf\n",
    "        )\n",
    "    except ValueError:\n",
    "        check_diff(\n",
    "            wpt.T, wtf\n",
    "        )\n",
    "        \n",
    "    check_diff(\n",
    "        bpt, btf\n",
    "    )"
   ]
  },
  {
   "cell_type": "code",
   "execution_count": null,
   "id": "092b980c",
   "metadata": {},
   "outputs": [],
   "source": [
    "xnet0tf = dynamics_tf._get_xnet(0, first=True)\n",
    "xnet0pt = dynamics_pt._get_xnet(0, first=True)\n",
    "\n",
    "vnet0tf = dynamics_tf._get_vnet(0)\n",
    "vnet0pt = dynamics_pt._get_vnet(0)"
   ]
  },
  {
   "cell_type": "code",
   "execution_count": null,
   "id": "d17b9d6b",
   "metadata": {},
   "outputs": [],
   "source": [
    "from l2hmc.network.pytorch.network import zero_weights as zero_weights_pt\n",
    "xnet0pt.apply(zero_weights_pt)\n",
    "vnet0pt.apply(zero_weights_pt)\n",
    "\n",
    "xnet0tf = zero_weights(xnet0tf)\n",
    "vnet0tf = zero_weights(vnet0tf)"
   ]
  },
  {
   "cell_type": "code",
   "execution_count": null,
   "id": "320072b7",
   "metadata": {},
   "outputs": [],
   "source": [
    "vnetxl_tf = vnet0tf.get_layer('vnet_0_xLayer')\n",
    "vnetxl_pt = vnet0pt.x_layer\n",
    "\n",
    "vxw_tf, vxb_tf = vnetxl_tf.get_weights()\n",
    "vxw_pt, vxb_pt = vnetxl_pt.weight, vnetxl_pt.bias"
   ]
  },
  {
   "cell_type": "code",
   "execution_count": null,
   "id": "bdf0d359",
   "metadata": {},
   "outputs": [],
   "source": [
    "vxw_tf.shape"
   ]
  },
  {
   "cell_type": "code",
   "execution_count": null,
   "id": "25e624b0",
   "metadata": {},
   "outputs": [],
   "source": [
    "vxw_pt.shape"
   ]
  },
  {
   "cell_type": "code",
   "execution_count": null,
   "id": "8f97fe17",
   "metadata": {},
   "outputs": [],
   "source": [
    "xnetxl_tf = xnet0tf.get_layer('xnet_0_first_xLayer')\n",
    "xnetxl_pt = xnet0pt.x_layer\n",
    "\n",
    "xxw_tf, xxb_tf = xnetxl_tf.get_weights()\n",
    "xxw_pt, xxb_pt = xnetxl_pt.weight, xnetxl_pt.bias"
   ]
  },
  {
   "cell_type": "code",
   "execution_count": null,
   "id": "c40d90a9",
   "metadata": {},
   "outputs": [],
   "source": [
    "xxw_tf.shape"
   ]
  },
  {
   "cell_type": "code",
   "execution_count": null,
   "id": "26778281",
   "metadata": {},
   "outputs": [],
   "source": [
    "xxw_pt.shape"
   ]
  },
  {
   "cell_type": "code",
   "execution_count": null,
   "id": "6b09ed38",
   "metadata": {},
   "outputs": [],
   "source": [
    "check_diff(\n",
    "    xxw_pt.T, xxw_tf\n",
    ")\n",
    "check_diff(\n",
    "    xxb_pt.T, xxb_tf\n",
    ")\n",
    "\n",
    "check_diff(\n",
    "    vxw_pt.T, vxw_tf\n",
    ")\n",
    "check_diff(\n",
    "    vxb_pt.T, vxb_tf\n",
    ")"
   ]
  },
  {
   "cell_type": "markdown",
   "id": "0712d947",
   "metadata": {},
   "source": [
    "$$\n",
    "\\begin{aligned}\n",
    "A \\mathbf{x} &= \\begin{bmatrix}\n",
    "a_{11} & a_{12} & a_{13} & \\ldots \\\\\n",
    "a_{21} & a_{22} & a_{23} & \\ldots \\\\\n",
    "\\vdots & \\vdots & \\vdots & \\ldots \\\\\n",
    "a_{m1} & a_{m2} & a_{m3} & \\ldots\n",
    "\\end{bmatrix}\n",
    "\\begin{bmatrix}\n",
    "x_{1} \\\\\n",
    "x_{2} \\\\\n",
    "\\vdots \\\\\n",
    "x_{m}\n",
    "\\end{bmatrix} \\\\\n",
    "&= \\begin{bmatrix}\n",
    "a_{11} x_{1} & a_{12} x_{2} & a_{13} x_{3} & \\ldots \\\\\n",
    "a_{21} x_{1} & a_{22} x_{2} & a_{23} x_{3} & \\ldots \\\\\n",
    "\\vdots & \\vdots & \\vdots & \\ldots \\\\\n",
    "a_{m1} x_{1} & a_{m2} x_{2} & a_{m3} x_{3} & \\ldots\n",
    "\\end{bmatrix}\n",
    "\\end{aligned}\n",
    "$$"
   ]
  },
  {
   "cell_type": "code",
   "execution_count": null,
   "id": "ec80fcd0",
   "metadata": {},
   "outputs": [],
   "source": [
    "check_weights(vnetxl_pt, vnetxl_tf)\n",
    "check_weights(vnetxl_pt, vnetxl_tf)"
   ]
  },
  {
   "cell_type": "code",
   "execution_count": null,
   "id": "5aa20de9",
   "metadata": {},
   "outputs": [],
   "source": [
    "xnet0tf_ = zero_weights(xnet0tf)"
   ]
  },
  {
   "cell_type": "code",
   "execution_count": null,
   "id": "1ffde9d3",
   "metadata": {},
   "outputs": [],
   "source": [
    "from l2hmc.network.pytorch.network import zero_weights\n",
    "\n",
    "dynamics_pt.networks['xnet'].apply(zero_weights)\n",
    "dynamics_pt.networks['vnet'].apply(zero_weights)"
   ]
  },
  {
   "cell_type": "code",
   "execution_count": null,
   "id": "ae9e0860",
   "metadata": {},
   "outputs": [],
   "source": [
    "xnet0pt = dynamics_pt._get_xnet(0, first=True)"
   ]
  },
  {
   "cell_type": "code",
   "execution_count": null,
   "id": "d491c8e1",
   "metadata": {},
   "outputs": [],
   "source": [
    "s0pt, t0pt, q0pt = xnet0pt((dynamics_pt._stack_as_xy(state_pt.x), state_pt.v))"
   ]
  },
  {
   "cell_type": "code",
   "execution_count": null,
   "id": "4ee6c19b",
   "metadata": {},
   "outputs": [],
   "source": [
    "s0pt.shape"
   ]
  },
  {
   "cell_type": "code",
   "execution_count": null,
   "id": "3b02b533",
   "metadata": {},
   "outputs": [],
   "source": [
    "s0pt[0].detach().numpy().round(5)"
   ]
  },
  {
   "cell_type": "code",
   "execution_count": null,
   "id": "fda9877b",
   "metadata": {},
   "outputs": [],
   "source": [
    "xtf_ = dynamics_tf._stack_as_xy(tf.reshape(state_tf.x, (state_tf.x.shape[0], -1)))\n",
    "s0tf, t0tf, q0tf = xnet0tf((xtf_, state_tf.v))"
   ]
  },
  {
   "cell_type": "code",
   "execution_count": null,
   "id": "363c1643",
   "metadata": {},
   "outputs": [],
   "source": [
    "s0tf[0].numpy().round(5)"
   ]
  },
  {
   "cell_type": "code",
   "execution_count": null,
   "id": "fecb41a6",
   "metadata": {},
   "outputs": [],
   "source": [
    "check_diff(s0tf, s0pt)"
   ]
  },
  {
   "cell_type": "code",
   "execution_count": null,
   "id": "e769fe71",
   "metadata": {},
   "outputs": [],
   "source": [
    "state1_pt = dynamics_pt.leapfrog_hmc(state_pt, eps=0.1)"
   ]
  },
  {
   "cell_type": "code",
   "execution_count": null,
   "id": "ef0c0364",
   "metadata": {},
   "outputs": [],
   "source": [
    "state_tf = State(\n",
    "    x=state_tf.x,\n",
    "    v=state_tf.v,\n",
    "    beta=tf.cast(state_tf.beta, tf.keras.backend.floatx()),\n",
    ")\n",
    "state1_tf = dynamics_tf.leapfrog_hmc(state_tf, eps=0.1)"
   ]
  },
  {
   "cell_type": "code",
   "execution_count": null,
   "id": "60385300",
   "metadata": {},
   "outputs": [],
   "source": [
    "check_diff(state1_pt.x.detach().numpy(), state1_tf.x.numpy(), name='test-dx-hmc')"
   ]
  },
  {
   "cell_type": "code",
   "execution_count": null,
   "id": "e3392a04",
   "metadata": {},
   "outputs": [],
   "source": [
    "check_diff(state1_pt.v.detach().numpy(), state1_tf.v.numpy(), name='test-dv-hmc')"
   ]
  },
  {
   "cell_type": "code",
   "execution_count": null,
   "id": "21248e7b",
   "metadata": {},
   "outputs": [],
   "source": [
    "state_pt = State(\n",
    "    state_pt.x.flatten(1),\n",
    "    state_pt.v.flatten(1),\n",
    "    state_pt.beta\n",
    ")\n",
    "\n",
    "def flatten(x):\n",
    "    return tf.reshape(x, (x.shape[0], -1))\n",
    "\n",
    "state_tf = State(\n",
    "    flatten(state_tf.x),\n",
    "    flatten(state_tf.v),\n",
    "    tf.constant(state_tf.beta,\n",
    "                dtype=tf.keras.backend.floatx())\n",
    ")\n",
    "\n",
    "state2_pt, metrics2_pt = dynamics_pt.transition_kernel_fb(state_pt)\n",
    "state2_tf, metrics2_tf = dynamics_tf.transition_kernel_fb(state_tf)\n",
    "\n",
    "state3f_pt, metrics3_pt = dynamics_pt.transition_kernel(state_pt, forward=True)\n",
    "state3f_tf, metrics3_tf = dynamics_tf.transition_kernel(state_tf, forward=True)\n",
    "\n",
    "state3b_pt, metrics3_pt = dynamics_pt.transition_kernel(state_pt, forward=False)\n",
    "state3b_tf, metrics3_tf = dynamics_tf.transition_kernel(state_tf, forward=False)"
   ]
  },
  {
   "cell_type": "code",
   "execution_count": null,
   "id": "7a71df77",
   "metadata": {},
   "outputs": [],
   "source": [
    "state1vf_pt, logdet1vf_pt = dynamics_pt._update_v_fwd(0, state_pt)\n",
    "state1vf_tf, logdet1vf_tf = dynamics_tf._update_v_fwd(0, state_tf)"
   ]
  },
  {
   "cell_type": "code",
   "execution_count": null,
   "id": "b6b8f318",
   "metadata": {},
   "outputs": [],
   "source": [
    "m, mb = dynamics_pt._get_mask(0)\n",
    "m_ = tf.constant(m.detach().numpy(), dtype=TF_FLOAT)\n",
    "mb_ = tf.constant(mb.detach().numpy(), dtype=TF_FLOAT)\n",
    "\n",
    "state1xf_pt, logdet1xf_pt = dynamics_pt._update_x_fwd(0, state_pt, m=m, first=True)\n",
    "state1xf_tf, logdet1xf_tf = dynamics_tf._update_x_fwd(0, state_tf, m=m_, first=True)"
   ]
  },
  {
   "cell_type": "code",
   "execution_count": null,
   "id": "9b59f912",
   "metadata": {},
   "outputs": [],
   "source": [
    "logdet1xf_pt.shape"
   ]
  },
  {
   "cell_type": "code",
   "execution_count": null,
   "id": "1e012fc8",
   "metadata": {},
   "outputs": [],
   "source": [
    "logdet1xf_tf"
   ]
  },
  {
   "cell_type": "code",
   "execution_count": null,
   "id": "856d5c09",
   "metadata": {},
   "outputs": [],
   "source": []
  },
  {
   "cell_type": "code",
   "execution_count": null,
   "id": "0854564d",
   "metadata": {},
   "outputs": [],
   "source": [
    "check_diff(state1xf_pt.x, state1xf_tf.x)"
   ]
  },
  {
   "cell_type": "code",
   "execution_count": null,
   "id": "a4f15527",
   "metadata": {},
   "outputs": [],
   "source": []
  },
  {
   "cell_type": "code",
   "execution_count": null,
   "id": "15803c0e",
   "metadata": {},
   "outputs": [],
   "source": []
  },
  {
   "cell_type": "code",
   "execution_count": null,
   "id": "eecd4ade",
   "metadata": {},
   "outputs": [],
   "source": []
  },
  {
   "cell_type": "code",
   "execution_count": null,
   "id": "c5e85637",
   "metadata": {},
   "outputs": [],
   "source": []
  },
  {
   "cell_type": "code",
   "execution_count": null,
   "id": "3fbb8857",
   "metadata": {},
   "outputs": [],
   "source": [
    "from l2hmc.group.u1.pytorch.group import U1Phase as ptU1Phase\n",
    "from l2hmc.group.u1.tensorflow.group import U1Phase as tfU1Phase\n",
    "\n",
    "def update_v_fwd_pt(dynamics, step, state) -> tuple[State, torch.Tensor]:\n",
    "    eps = dynamics.veps[str(step)]\n",
    "    force = dynamics.grad_potential(state.x, state.beta)\n",
    "    s, t, q = dynamics._call_vnet(step, (state.x, force))\n",
    "    jac = eps * s / 2.\n",
    "    logdet = jac.sum(dim=1)\n",
    "    exp_s = jac.exp()\n",
    "    exp_q = (eps * q).exp()\n",
    "    vf = exp_s * state.v - 0.5 * eps * (force * exp_q + t)\n",
    "    return State(state.x, vf, state.beta), logdet\n",
    "\n",
    "def update_x_fwd_pt(dynamics, step, state, first = True, m: Optional[Tensor] = None):\n",
    "    eps = dynamics.xeps['0']\n",
    "    if m is None:\n",
    "        m, mb = dynamics._get_mask(step)\n",
    "    else:\n",
    "        mb = torch.ones_like(m) - m\n",
    "        \n",
    "    xm_init = m * state.x\n",
    "    s, t, q = dynamics._call_xnet(step, (xm_init, state.v), first=first)\n",
    "    s = eps * s\n",
    "    q = eps * q\n",
    "    exp_s = s.exp()\n",
    "    exp_q = q.exp()\n",
    "    if dynamics.config.use_ncp:\n",
    "        halfx = state.x / 2.\n",
    "        _x = 2. * (halfx.tan() * exp_s).atan()\n",
    "        xp = _x + eps * (state.v * exp_q + t)\n",
    "        xf = xm_init + (mb * xp)\n",
    "        cterm = halfx.cos() ** 2\n",
    "        sterm = (exp_s * halfx.sin()) ** 2\n",
    "        logdet_ = (exp_s / (cterm + sterm)).log()\n",
    "        logdet = (mb * logdet_).sum(dim=1)\n",
    "    else:\n",
    "        xp = state.x * exp_s + eps * (state.v * exp_q + t)\n",
    "        xf = xm_init + (mb * xp)\n",
    "        logdet = (mb * s).sum(dim=1)\n",
    "        \n",
    "    xf = dynamics.g.compat_proj(xf)\n",
    "    return State(x=xf, v=state.v, beta=state.beta), logdet\n",
    "\n",
    "\n",
    "def update_v_fwd_tf(dynamics, step, state) -> tuple[State, tf.Tensor]:\n",
    "    eps = dynamics.veps[step]\n",
    "    force = dynamics.grad_potential(state.x, state.beta)\n",
    "    s, t, q = dynamics._call_vnet(step, (state.x, force), training=False)\n",
    "    jac = eps * s / 2.\n",
    "    logdet = tf.reduce_sum(jac, axis=1)\n",
    "    exp_s = tf.exp(jac)\n",
    "    exp_q = tf.exp(eps * q)\n",
    "    vf = exp_s * state.v - 0.5 * eps * (force * exp_q + t)\n",
    "    return State(state.x, vf, state.beta), logdet\n",
    "\n",
    "\n",
    "def update_x_fwd_tf(dynamics, step, state, first=True, m: Optional[Tensor] = None):\n",
    "    eps = dynamics.xeps[step]\n",
    "    if m is None:\n",
    "        m, mb = dynamics._get_mask(step)\n",
    "    else:\n",
    "        mb = tf.ones_like(m) - m\n",
    "        \n",
    "    xm_init = tf.multiply(m, state.x)\n",
    "    s, t, q = dynamics._call_xnet(step, (xm_init, state.v), first=first, training=False)\n",
    "    s = eps * s\n",
    "    q = eps * q\n",
    "    exp_s = tf.exp(s)\n",
    "    exp_q = tf.exp(q)\n",
    "    TWO = tf.constant(2.0, dtype=TF_FLOAT)\n",
    "    if dynamics.config.use_ncp:\n",
    "        halfx = state.x / TWO\n",
    "        _x = TWO * tf.math.atan(tf.math.tan(halfx) * exp_s)\n",
    "        xp = _x + eps * (state.v * exp_q + t)\n",
    "        xf = xm_init + (mb * xp)\n",
    "        cterm = tf.math.square(tf.math.cos(halfx))\n",
    "        sterm = (exp_s * tf.math.sin(halfx)) ** 2\n",
    "        logdet_ = tf.math.log(exp_s / (cterm + sterm))\n",
    "        logdet = tf.reduce_sum(mb * logdet_, axis=1)\n",
    "    else:\n",
    "        xp = state.x * exp_s + eps * (state.v * exp_q + t)\n",
    "        xf = xm_init + (mb * xp)\n",
    "        logdet = tf.reduce_sum((mb * s), axis=1)\n",
    "        \n",
    "    xf = dynamics.g.compat_proj(xf)\n",
    "    return State(x=xf, v=state.v, beta=state.beta), logdet"
   ]
  },
  {
   "cell_type": "code",
   "execution_count": null,
   "id": "a8ad8a7a",
   "metadata": {},
   "outputs": [],
   "source": []
  },
  {
   "cell_type": "code",
   "execution_count": null,
   "id": "d905ab93",
   "metadata": {},
   "outputs": [],
   "source": [
    "m, mb = dynamics_tf._get_mask(0)\n",
    "m_ = torch.tensor(m.numpy())\n",
    "mb_ = torch.tensor(mb.numpy())\n",
    "\n",
    "state1xf_pt_, logdet1xf_pt_ = update_x_fwd_pt(dynamics_pt, step=0, state=state_pt, first=True, m=m_)\n",
    "state1xf_tf_, logdet1xf_tf_ = update_x_fwd_tf(dynamics_tf, step=0, state=state_tf, first=True, m=m)"
   ]
  },
  {
   "cell_type": "code",
   "execution_count": null,
   "id": "ac9231e0",
   "metadata": {},
   "outputs": [],
   "source": [
    "state1vf_pt_, logdet1vf_pt_ = update_v_fwd_pt(dynamics_pt, step=0, state=state_pt)\n",
    "state1vf_tf_, logdet1vf_tf_ = update_v_fwd_tf(dynamics_tf, step=0, state=state_tf)"
   ]
  },
  {
   "cell_type": "code",
   "execution_count": null,
   "id": "4d0761ff",
   "metadata": {},
   "outputs": [],
   "source": [
    "state1vf_pt, logdet1vf_pt = dynamics_pt._update_v_bwd(0, state=state_pt)\n",
    "state1vf_tf, logdet1vf_tf = dynamics_tf._update_v_bwd(0, state=state_tf)"
   ]
  },
  {
   "cell_type": "code",
   "execution_count": null,
   "id": "e7ebae1d",
   "metadata": {},
   "outputs": [],
   "source": [
    "state1xf_tf, logdet1xf_tf = dynamics_tf._update_x_fwd(0, state_tf, m=m, first=True)\n",
    "state1xf_pt, logdet1xf_pt = dynamics_pt._update_x_fwd(0, state_pt, m=m_, first=True)"
   ]
  },
  {
   "cell_type": "code",
   "execution_count": null,
   "id": "ac32107c",
   "metadata": {},
   "outputs": [],
   "source": [
    "xm_init_tf = (m * state_tf.x)\n",
    "xm_init_pt = (m_ * state_pt.x)\n",
    "\n",
    "sxtf, txtf, qxtf = dynamics_tf._call_xnet(0, (xm_init_tf, state_tf.v), first=True, training=False)\n",
    "sxpt, txpt, qxpt = dynamics_pt._call_xnet(0, (xm_init_pt, state_pt.v), first=True)"
   ]
  },
  {
   "cell_type": "code",
   "execution_count": null,
   "id": "2fcf9e2c",
   "metadata": {},
   "outputs": [],
   "source": [
    "check_diff(\n",
    "    sxtf, sxpt\n",
    ")\n",
    "check_diff(\n",
    "    txtf, txpt\n",
    ")\n",
    "check_diff(\n",
    "    qxtf, qxpt\n",
    ")\n"
   ]
  },
  {
   "cell_type": "code",
   "execution_count": null,
   "id": "89271f59",
   "metadata": {},
   "outputs": [],
   "source": [
    "exps_pt = sxpt.exp()\n",
    "exps_tf = tf.exp(sxtf)\n",
    "\n",
    "halfxpt = state_pt.x / 2.\n",
    "halfxtf = state_tf.x / 2.\n",
    "\n",
    "_xpt = 2. * (halfxpt.tan() * exps_pt).atan()\n",
    "_xtf = 2. * tf.math.atan(tf.math.tan(halfxtf) * exps_tf)"
   ]
  },
  {
   "cell_type": "code",
   "execution_count": null,
   "id": "efc99cc1",
   "metadata": {},
   "outputs": [],
   "source": [
    "check_diff(\n",
    "    _xpt, _xtf\n",
    ")"
   ]
  },
  {
   "cell_type": "code",
   "execution_count": null,
   "id": "b1c67067",
   "metadata": {},
   "outputs": [],
   "source": [
    "xeps_pt = dynamics_pt.xeps['0']\n",
    "xeps_tf = dynamics_tf.xeps[0]\n",
    "\n",
    "expq_pt = qxpt.exp()\n",
    "expq_tf = tf.exp(qxtf)\n",
    "\n",
    "xp_pt = _xpt + xeps_pt * (state_pt.v * expq_pt + txpt)\n",
    "xp_tf = _xtf + xeps_tf * (state_tf.v * expq_tf + txtf)\n",
    "\n",
    "check_diff(\n",
    "    xp_pt, xp_tf\n",
    ")"
   ]
  },
  {
   "cell_type": "code",
   "execution_count": null,
   "id": "9f41c0cf",
   "metadata": {},
   "outputs": [],
   "source": [
    "xf_pt = xm_init_pt + (mb_ * xp_pt)\n",
    "xf_tf = xm_init_tf + (mb * xp_tf)\n",
    "\n",
    "check_diff(\n",
    "    xf_pt, xf_tf\n",
    ")"
   ]
  },
  {
   "cell_type": "code",
   "execution_count": null,
   "id": "4d01b425",
   "metadata": {},
   "outputs": [],
   "source": [
    "cterm_tf = tf.math.square(tf.math.cos(halfxtf))\n",
    "cterm_pt = halfxpt.cos() ** 2\n",
    "sterm_tf = tf.math.square(exps_tf * tf.math.sin(halfxtf))\n",
    "sterm_pt = (exps_pt * halfxpt.sin()) ** 2\n",
    "\n",
    "check_diff(\n",
    "    cterm_tf, cterm_pt\n",
    ")\n",
    "check_diff(\n",
    "    sterm_tf, sterm_pt\n",
    ")"
   ]
  },
  {
   "cell_type": "code",
   "execution_count": null,
   "id": "4dc45229",
   "metadata": {},
   "outputs": [],
   "source": [
    "logdetpt_ = (exps_pt / (cterm_pt + sterm_pt)).log()\n",
    "logdettf_ = tf.math.log(exps_tf / (cterm_tf + sterm_tf))\n",
    "\n",
    "check_diff(\n",
    "    logdettf_, logdetpt_\n",
    ")"
   ]
  },
  {
   "cell_type": "code",
   "execution_count": null,
   "id": "d827f85d",
   "metadata": {},
   "outputs": [],
   "source": [
    "logdet_pt = (mb_ * logdetpt_).sum(1)\n",
    "logdet_tf = tf.reduce_sum((mb * logdettf_), axis=1)\n",
    "\n",
    "check_diff(\n",
    "    logdet_tf, logdet_pt\n",
    ")"
   ]
  },
  {
   "cell_type": "code",
   "execution_count": null,
   "id": "5139e8bc",
   "metadata": {},
   "outputs": [],
   "source": []
  },
  {
   "cell_type": "code",
   "execution_count": null,
   "id": "d0b5b0e9",
   "metadata": {},
   "outputs": [],
   "source": [
    "check_diff(\n",
    "    tf.exp(sxtf), sxpt.exp()\n",
    ")"
   ]
  },
  {
   "cell_type": "code",
   "execution_count": null,
   "id": "510048f3",
   "metadata": {},
   "outputs": [],
   "source": [
    "check_diff(\n",
    "    state1xf_pt_.v, state1xf_tf_.v\n",
    ")"
   ]
  },
  {
   "cell_type": "code",
   "execution_count": null,
   "id": "223500b7",
   "metadata": {},
   "outputs": [],
   "source": []
  },
  {
   "cell_type": "code",
   "execution_count": null,
   "id": "f0741091",
   "metadata": {},
   "outputs": [],
   "source": [
    "check_diff(\n",
    "    m, m_\n",
    ")"
   ]
  },
  {
   "cell_type": "code",
   "execution_count": null,
   "id": "7507f9d9",
   "metadata": {},
   "outputs": [],
   "source": [
    "check_diff(\n",
    "    logdet1xf_tf, logdet1xf_pt\n",
    ")"
   ]
  },
  {
   "cell_type": "code",
   "execution_count": null,
   "id": "478ba664",
   "metadata": {},
   "outputs": [],
   "source": [
    "check_diff(\n",
    "    state1xf_tf.x, state1xf_pt.x\n",
    ")"
   ]
  },
  {
   "cell_type": "code",
   "execution_count": null,
   "id": "b8e39248",
   "metadata": {},
   "outputs": [],
   "source": [
    "check_diff(\n",
    "    state1vf_pt.v, state1vf_tf.v\n",
    ")"
   ]
  },
  {
   "cell_type": "code",
   "execution_count": null,
   "id": "c2b3c088",
   "metadata": {},
   "outputs": [],
   "source": [
    "check_diff(\n",
    "    state1vf_pt_.v, state1vf_tf_.v\n",
    ")"
   ]
  },
  {
   "cell_type": "code",
   "execution_count": null,
   "id": "67402ee8",
   "metadata": {},
   "outputs": [],
   "source": [
    "check_diff(\n",
    "    dynamics_pt.veps['0'].detach().numpy(), dynamics_tf.veps[0].numpy()\n",
    ")"
   ]
  },
  {
   "cell_type": "code",
   "execution_count": null,
   "id": "a5f0a602",
   "metadata": {},
   "outputs": [],
   "source": [
    "force_pt = dynamics_pt.grad_potential(state_pt.x, state_pt.beta)\n",
    "force_tf = dynamics_tf.grad_potential(state_tf.x, state_tf.beta)\n",
    "\n",
    "check_diff(\n",
    "    force_pt,\n",
    "    force_tf\n",
    ")"
   ]
  },
  {
   "cell_type": "code",
   "execution_count": null,
   "id": "ff2f47db",
   "metadata": {},
   "outputs": [],
   "source": [
    "vnet0pt = dynamics_pt._get_vnet(0)\n",
    "vnet0tf = dynamics_tf._get_vnet(0)"
   ]
  },
  {
   "cell_type": "code",
   "execution_count": null,
   "id": "099f1a71",
   "metadata": {},
   "outputs": [],
   "source": [
    "vnet0pt_xw = vnet0pt.x_layer.weight\n",
    "vnet0pt_xb = vnet0pt.x_layer.bias\n",
    "vnet0tf_xw, vnet0tf_xb = vnet0tf.get_layer('vnet_0_xLayer').get_weights()"
   ]
  },
  {
   "cell_type": "code",
   "execution_count": null,
   "id": "222d5c2e",
   "metadata": {},
   "outputs": [],
   "source": [
    "vnet0pt_xw"
   ]
  },
  {
   "cell_type": "code",
   "execution_count": null,
   "id": "dd36f3c5",
   "metadata": {},
   "outputs": [],
   "source": [
    "vnet0tf_xw"
   ]
  },
  {
   "cell_type": "code",
   "execution_count": null,
   "id": "9322b912",
   "metadata": {},
   "outputs": [],
   "source": [
    "vnet0pt_xw.shape\n",
    "vnet0tf_xw.shape"
   ]
  },
  {
   "cell_type": "code",
   "execution_count": null,
   "id": "b36cd72c",
   "metadata": {},
   "outputs": [],
   "source": [
    "check_diff(\n",
    "    vnet0pt_xw.T, vnet0tf_xw\n",
    ")"
   ]
  },
  {
   "cell_type": "code",
   "execution_count": null,
   "id": "16ad5f24",
   "metadata": {},
   "outputs": [],
   "source": [
    "spt, tpt, qpt = dynamics_pt._call_vnet(0, (state_pt.x, force_pt))\n",
    "stf, ttf, qtf = dynamics_tf._call_vnet(0, (state_tf.x, force_tf), training=False)"
   ]
  },
  {
   "cell_type": "code",
   "execution_count": null,
   "id": "957ab844",
   "metadata": {},
   "outputs": [],
   "source": [
    "check_diff(\n",
    "    spt, stf\n",
    ")\n",
    "check_diff(\n",
    "    tpt, ttf\n",
    ")\n",
    "check_diff(\n",
    "    qpt, qtf\n",
    ")"
   ]
  },
  {
   "cell_type": "code",
   "execution_count": null,
   "id": "7137ebfa",
   "metadata": {},
   "outputs": [],
   "source": [
    "check_diff(\n",
    "   state1vf_pt_.v, state1vf_tf_.v\n",
    ")"
   ]
  },
  {
   "cell_type": "code",
   "execution_count": null,
   "id": "539d128c",
   "metadata": {},
   "outputs": [],
   "source": [
    "s1xf_pt = state1xf_pt.to_numpy()\n",
    "s1xf_tf = state1xf_tf.to_numpy()"
   ]
  },
  {
   "cell_type": "code",
   "execution_count": null,
   "id": "f363d395",
   "metadata": {},
   "outputs": [],
   "source": [
    "check_diff(\n",
    "    m, m_\n",
    ")\n",
    "\n",
    "check_diff(\n",
    "    mb, mb_\n",
    ")"
   ]
  },
  {
   "cell_type": "code",
   "execution_count": null,
   "id": "449f189f",
   "metadata": {},
   "outputs": [],
   "source": [
    "check_diff(\n",
    "    logdet1xf_pt, logdet1xf_tf\n",
    ")"
   ]
  },
  {
   "cell_type": "code",
   "execution_count": null,
   "id": "6731d50e",
   "metadata": {},
   "outputs": [],
   "source": [
    "check_diff(\n",
    "    s1xf_pt, s1xf_tf\n",
    ")"
   ]
  },
  {
   "cell_type": "code",
   "execution_count": null,
   "id": "94ef8ca8",
   "metadata": {},
   "outputs": [],
   "source": [
    "from l2hmc.utils.tests import check_diff as cd\n",
    "\n",
    "s1vf_pt = state1vf_pt.to_numpy()\n",
    "s1vf_tf = state1vf_tf.to_numpy()"
   ]
  },
  {
   "cell_type": "code",
   "execution_count": null,
   "id": "a523edbe",
   "metadata": {},
   "outputs": [],
   "source": [
    "check_diff(\n",
    "    s1vf_pt, s1vf_tf\n",
    ")"
   ]
  },
  {
   "cell_type": "code",
   "execution_count": null,
   "id": "e5d4913e",
   "metadata": {},
   "outputs": [],
   "source": []
  },
  {
   "cell_type": "code",
   "execution_count": null,
   "id": "9a4a8229",
   "metadata": {},
   "outputs": [],
   "source": []
  },
  {
   "cell_type": "code",
   "execution_count": null,
   "id": "02ce17d5",
   "metadata": {},
   "outputs": [],
   "source": []
  },
  {
   "cell_type": "code",
   "execution_count": null,
   "id": "a57a5dbd",
   "metadata": {},
   "outputs": [],
   "source": [
    "%debug"
   ]
  },
  {
   "cell_type": "code",
   "execution_count": null,
   "id": "a91acffc",
   "metadata": {},
   "outputs": [],
   "source": []
  },
  {
   "cell_type": "code",
   "execution_count": null,
   "id": "a3045d0e",
   "metadata": {},
   "outputs": [],
   "source": []
  },
  {
   "cell_type": "code",
   "execution_count": null,
   "id": "d5809217",
   "metadata": {},
   "outputs": [],
   "source": [
    "check_diff(\n",
    "    dynamics_pt.g.compat_proj(state_pt.x),\n",
    "    dynamics_tf.g.compat_proj(state_tf.x),\n",
    ")"
   ]
  },
  {
   "cell_type": "code",
   "execution_count": null,
   "id": "570ab5f9",
   "metadata": {},
   "outputs": [],
   "source": []
  },
  {
   "cell_type": "code",
   "execution_count": null,
   "id": "6cca2f1f",
   "metadata": {},
   "outputs": [],
   "source": [
    "check_diff(\n",
    "    dynamics_tf.hamiltonian(state_tf),\n",
    "    dynamics_pt.hamiltonian(state_pt),\n",
    ")"
   ]
  },
  {
   "cell_type": "code",
   "execution_count": null,
   "id": "4b898e03",
   "metadata": {},
   "outputs": [],
   "source": [
    "check_diff(\n",
    "    \n",
    ")"
   ]
  },
  {
   "cell_type": "code",
   "execution_count": null,
   "id": "40677280",
   "metadata": {},
   "outputs": [],
   "source": [
    "check_diff(\n",
    "    metrics2_pt, metrics2_tf\n",
    ")"
   ]
  },
  {
   "cell_type": "code",
   "execution_count": null,
   "id": "9420475d",
   "metadata": {},
   "outputs": [],
   "source": []
  },
  {
   "cell_type": "code",
   "execution_count": null,
   "id": "539706df",
   "metadata": {},
   "outputs": [],
   "source": [
    "check_diff(dynamics_pt.g.compat_proj(state2_pt.x), dynamics_tf.g.compat_proj(state2_tf.x))"
   ]
  },
  {
   "cell_type": "code",
   "execution_count": null,
   "id": "8aafb7ae",
   "metadata": {},
   "outputs": [],
   "source": []
  },
  {
   "cell_type": "code",
   "execution_count": null,
   "id": "2ea3ffbb",
   "metadata": {},
   "outputs": [],
   "source": []
  },
  {
   "cell_type": "code",
   "execution_count": null,
   "id": "e58d8118",
   "metadata": {},
   "outputs": [],
   "source": []
  },
  {
   "cell_type": "code",
   "execution_count": null,
   "id": "431fb116",
   "metadata": {},
   "outputs": [],
   "source": [
    "list(dynamics_pt.xeps.values())"
   ]
  },
  {
   "cell_type": "code",
   "execution_count": null,
   "id": "efc47090",
   "metadata": {},
   "outputs": [],
   "source": [
    "dynamics_tf.xeps = 0.1"
   ]
  },
  {
   "cell_type": "code",
   "execution_count": null,
   "id": "f79d847b",
   "metadata": {},
   "outputs": [],
   "source": [
    "dynamics_tf.veps = 0.1"
   ]
  },
  {
   "cell_type": "code",
   "execution_count": null,
   "id": "29d12b43",
   "metadata": {},
   "outputs": [],
   "source": [
    "dynamics_pt.xeps ="
   ]
  },
  {
   "cell_type": "code",
   "execution_count": null,
   "id": "89cd8474",
   "metadata": {},
   "outputs": [],
   "source": []
  },
  {
   "cell_type": "code",
   "execution_count": null,
   "id": "bc434908",
   "metadata": {},
   "outputs": [],
   "source": [
    "check_diff(state2_pt.v.detach().numpy(), state2_tf.v.numpy(), name='test-dv-l2hmc')"
   ]
  },
  {
   "cell_type": "code",
   "execution_count": null,
   "id": "7fdb3616",
   "metadata": {},
   "outputs": [],
   "source": [
    "check_diff(state1_pt.x.detach().numpy(), state1_tf.x.numpy(), name='test-dx')"
   ]
  },
  {
   "cell_type": "code",
   "execution_count": null,
   "id": "75893beb",
   "metadata": {},
   "outputs": [],
   "source": []
  },
  {
   "cell_type": "code",
   "execution_count": null,
   "id": "244f5e59",
   "metadata": {},
   "outputs": [],
   "source": [
    "xtf_ = tf.reshape(xtf, (xtf.shape[0], -1))\n",
    "xpt_ = xpt.flatten(1)\n",
    "xtf1, metricstf1 = dynamics_tf((xtf_, beta_tf))\n",
    "xpt1, metricspt1 = dynamics_pt((xpt_, beta_pt))"
   ]
  },
  {
   "cell_type": "code",
   "execution_count": null,
   "id": "ce2b155f",
   "metadata": {},
   "outputs": [],
   "source": [
    "dynamics_tf.xeps[0]"
   ]
  },
  {
   "cell_type": "code",
   "execution_count": null,
   "id": "d683950b",
   "metadata": {},
   "outputs": [],
   "source": [
    "dynamics_pt.xeps['0']"
   ]
  },
  {
   "cell_type": "code",
   "execution_count": null,
   "id": "58c1de15",
   "metadata": {},
   "outputs": [],
   "source": [
    "_ = metricstf1.pop('mc_states')\n",
    "_ = metricspt1.pop('mc_states')\n",
    "check_diff(metricstf1, metricspt1)"
   ]
  },
  {
   "cell_type": "code",
   "execution_count": null,
   "id": "3f0561f0",
   "metadata": {},
   "outputs": [],
   "source": [
    "check_diff(xtf1, xpt1)"
   ]
  },
  {
   "cell_type": "code",
   "execution_count": null,
   "id": "71a68904",
   "metadata": {},
   "outputs": [],
   "source": [
    "state_tf1, metricstf1 = dynamics_tf.transition_kernel_hmc(state_tf, eps=0.1, nleapfrog=10)\n",
    "state_pt1, metricspt1 = dynamics_pt.transition_kernel_hmc(state_pt, eps=0.1, nleapfrog=10)\n",
    "\n",
    "lmetricspt1 = lattice_pt.calc_metrics(state_pt1.x)\n",
    "lmetricstf1 = lattice_tf.calc_metrics(state_tf1.x)"
   ]
  },
  {
   "cell_type": "code",
   "execution_count": null,
   "id": "fa35c502",
   "metadata": {},
   "outputs": [],
   "source": [
    "check_diff(metricstf1, metricspt1)"
   ]
  },
  {
   "cell_type": "code",
   "execution_count": null,
   "id": "e516c6ec",
   "metadata": {},
   "outputs": [],
   "source": [
    "check_diff(lmetricspt1, lmetricstf1)"
   ]
  },
  {
   "cell_type": "code",
   "execution_count": null,
   "id": "e9750d62",
   "metadata": {},
   "outputs": [],
   "source": [
    "lmetrics = {\n",
    "    'pt': get_lattice_metrics(ptExpU1, beta=1.0),\n",
    "    'tf': get_lattice_metrics(tfExpU1, beta=1.0),\n",
    "}"
   ]
  },
  {
   "cell_type": "code",
   "execution_count": null,
   "id": "14e70836",
   "metadata": {},
   "outputs": [],
   "source": [
    "for (kp, vp), (kt, vt) in zip(lmetrics['pt'].items(), lmetrics['tf'].items()):"
   ]
  },
  {
   "cell_type": "code",
   "execution_count": null,
   "id": "0917cb81",
   "metadata": {},
   "outputs": [],
   "source": []
  }
 ],
 "metadata": {
  "kernelspec": {
   "display_name": "l2hmc-qcd-py310",
   "language": "python",
   "name": "l2hmc-qcd-py310"
  },
  "language_info": {
   "codemirror_mode": {
    "name": "ipython",
    "version": 3
   },
   "file_extension": ".py",
   "mimetype": "text/x-python",
   "name": "python",
   "nbconvert_exporter": "python",
   "pygments_lexer": "ipython3",
   "version": "3.10.4"
  },
  "nbTranslate": {
   "displayLangs": [
    "*"
   ],
   "hotkey": "alt-t",
   "langInMainMenu": true,
   "sourceLang": "en",
   "targetLang": "fr",
   "useGoogleTranslate": true
  },
  "notify_time": "5",
  "toc": {
   "base_numbering": 1,
   "nav_menu": {},
   "number_sections": true,
   "sideBar": true,
   "skip_h1_title": false,
   "title_cell": "Table of Contents",
   "title_sidebar": "Contents",
   "toc_cell": false,
   "toc_position": {},
   "toc_section_display": true,
   "toc_window_display": false
  },
  "varInspector": {
   "cols": {
    "lenName": 16,
    "lenType": 16,
    "lenVar": 40
   },
   "kernels_config": {
    "python": {
     "delete_cmd_postfix": "",
     "delete_cmd_prefix": "del ",
     "library": "var_list.py",
     "varRefreshCmd": "print(var_dic_list())"
    },
    "r": {
     "delete_cmd_postfix": ") ",
     "delete_cmd_prefix": "rm(",
     "library": "var_list.r",
     "varRefreshCmd": "cat(var_dic_list()) "
    }
   },
   "types_to_exclude": [
    "module",
    "function",
    "builtin_function_or_method",
    "instance",
    "_Feature"
   ],
   "window_display": false
  }
 },
 "nbformat": 4,
 "nbformat_minor": 5
}
