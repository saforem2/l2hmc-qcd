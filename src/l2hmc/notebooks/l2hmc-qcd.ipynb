{
 "cells": [
  {
   "cell_type": "markdown",
   "id": "7eaa8ea7",
   "metadata": {},
   "source": [
    "# Train and Evaluate L2HMC dynamics\n",
    "\n",
    "We consider the case of a 2D $U(1)$ model on a square lattice with periodic boundary conditions.\n",
    "\n",
    "The Wilson action is given by\n",
    "\n",
    "$$ S_{\\beta}(x) = \\beta \\sum_{P} 1 - \\cos x_{P} $$\n",
    "\n",
    "where $x_{P}$ is the sum of the gauge links around the elementary plaquette."
   ]
  },
  {
   "cell_type": "markdown",
   "id": "985cdc33",
   "metadata": {},
   "source": [
    "## Imports / setup"
   ]
  },
  {
   "cell_type": "code",
   "execution_count": null,
   "id": "27b97a00",
   "metadata": {
    "tags": []
   },
   "outputs": [],
   "source": [
    "%load_ext autoreload\n",
    "%autoreload 2\n",
    "%autosave 120\n",
    "%load_ext rich\n",
    "%matplotlib inline\n",
    "%config InlineBackend.figure_format = 'retina'"
   ]
  },
  {
   "cell_type": "code",
   "execution_count": null,
   "id": "8b472d48-0711-4588-9b55-53d3eb1c497d",
   "metadata": {
    "tags": []
   },
   "outputs": [],
   "source": [
    "#import matplotlib.pyplot as plt\n",
    "#import mpld3\n",
    "#mpld3.enable_notebook()"
   ]
  },
  {
   "cell_type": "code",
   "execution_count": null,
   "id": "ab9c36ac",
   "metadata": {
    "code_folding": [
     7,
     21
    ],
    "tags": []
   },
   "outputs": [],
   "source": [
    "import matplotx\n",
    "import matplotlib.pyplot as plt\n",
    "import seaborn as sns\n",
    "\n",
    "FIGSIZE = (7, 3)\n",
    "\n",
    "plt.style.use('default')\n",
    "colors = {\n",
    "    'blue': '#007DFF',\n",
    "    'red': '#FF5252',\n",
    "    'yellow': '#FFFF00',\n",
    "    'green': '#63FF5B',\n",
    "    'purple': '#AE81FF',\n",
    "    'orange': '#FD971F',\n",
    "    'white': '#CFCFCF',\n",
    "}\n",
    "\n",
    "#plt.style.use(matplotx.styles.dufte)\n",
    "# sns.set_palette(list(colors.values()))\n",
    "plt.style.use('/Users/saforem2/.matplotlib/stylelib/molokai.mplstyle')\n",
    "sns.set_context('notebook', font_scale=0.8)\n",
    "plt.rcParams.update({\n",
    "    'image.cmap': 'viridis',\n",
    "    'figure.facecolor': (1.0, 1.0, 1.0, 0.),\n",
    "    'axes.facecolor': (1.0, 1.0, 1.0, 0.),\n",
    "    'axes.edgecolor': (0, 0, 0, 0.0),\n",
    "    'figure.edgecolor': (0, 0, 0, 0.0),\n",
    "    'figure.dpi': plt.rcParamsDefault['figure.dpi'],\n",
    "    'figure.figsize': plt.rcParamsDefault['figure.figsize'],\n",
    "    'xtick.color': (0, 0, 0, 0.0),\n",
    "    'ytick.color': (0, 0, 0, 0.0),\n",
    "    'xtick.labelcolor': '#666666', \n",
    "    'ytick.labelcolor': '#666666', \n",
    "})"
   ]
  },
  {
   "cell_type": "code",
   "execution_count": null,
   "id": "7a008546",
   "metadata": {
    "tags": []
   },
   "outputs": [],
   "source": [
    "import os\n",
    "import sys\n",
    "from pathlib import Path\n",
    "\n",
    "modulepath = Path(os.getcwd()).parent.parent.parent\n",
    "if modulepath.as_posix() not in sys.path:\n",
    "    sys.path.append(modulepath.as_posix())"
   ]
  },
  {
   "cell_type": "markdown",
   "id": "d9c95b69",
   "metadata": {},
   "source": [
    "## Set floating point precision"
   ]
  },
  {
   "cell_type": "code",
   "execution_count": null,
   "id": "2430fb2a",
   "metadata": {
    "tags": []
   },
   "outputs": [],
   "source": [
    "import tensorflow as tf\n",
    "from l2hmc.utils.hvd_init import HAS_HOROVOD, IS_CHIEF, RANK\n",
    "tf.keras.backend.set_floatx('float32')  # or 'float64 for double precision\n",
    "tf.keras.backend.floatx() == tf.float32"
   ]
  },
  {
   "cell_type": "code",
   "execution_count": null,
   "id": "c2f23add",
   "metadata": {
    "tags": []
   },
   "outputs": [],
   "source": [
    "# PyTorch\n",
    "import torch\n",
    "torch.set_default_dtype(torch.float32)"
   ]
  },
  {
   "cell_type": "code",
   "execution_count": null,
   "id": "f83d584d",
   "metadata": {
    "tags": []
   },
   "outputs": [],
   "source": [
    "import os\n",
    "os.environ['AUTOGRAPH_VERBOSITY'] = '0'\n",
    "tf.autograph.set_verbosity(0)"
   ]
  },
  {
   "cell_type": "code",
   "execution_count": null,
   "id": "bb3ce870-6f9b-48c1-9de6-45d63f256076",
   "metadata": {
    "tags": []
   },
   "outputs": [],
   "source": [
    "from l2hmc.configs import PROJECT_DIR, HERE\n",
    "PROJECT_DIR\n",
    "HERE"
   ]
  },
  {
   "cell_type": "code",
   "execution_count": null,
   "id": "bea82c2c",
   "metadata": {
    "code_folding": [
     7
    ],
    "tags": []
   },
   "outputs": [],
   "source": [
    "import os\n",
    "from pathlib import Path\n",
    "from omegaconf import OmegaConf\n",
    "from hydra import initialize, initialize_config_module, initialize_config_dir, compose\n",
    "from l2hmc.common import get_timestamp\n",
    "from l2hmc.common import train as train_common\n",
    "from l2hmc.configs import CONF_DIR\n",
    "def train(framework: str = 'tensorflow', overrides: list[str] = None):\n",
    "    conf_dir = Path(CONF_DIR).resolve().absolute().as_posix()\n",
    "    day = get_timestamp('%Y-%m-%d')\n",
    "    time = get_timestamp('%H-%M-%S')\n",
    "    outdir = Path(os.getcwd()).joinpath('outputs', 'jupyter',\n",
    "                                        f'{framework}', day, time)\n",
    "    outdir.mkdir(exist_ok=True, parents=True)\n",
    "    with initialize_config_dir(config_dir=conf_dir):\n",
    "        overrides.append(f'framework={framework}')\n",
    "        overrides.append(f'+outdir={outdir.as_posix()}')\n",
    "        cfg=compose(\n",
    "            config_name=\"config.yaml\", \n",
    "            overrides=overrides,\n",
    "        )\n",
    "        print(OmegaConf.to_yaml(cfg, resolve=True))\n",
    "        cfile = outdir.joinpath('config.yaml')\n",
    "        output = train_common(cfg)\n",
    "        \n",
    "        print(f'Saving config to: {cfile}')\n",
    "        with open(cfile, 'w') as f:\n",
    "            f.write(OmegaConf.to_yaml(cfg, resolve=True))\n",
    "\n",
    "    return cfg, output"
   ]
  },
  {
   "cell_type": "code",
   "execution_count": null,
   "id": "1631571a",
   "metadata": {
    "code_folding": [
     2
    ],
    "tags": []
   },
   "outputs": [],
   "source": [
    "import torch\n",
    "\n",
    "def plot_plaqs_diffs(cfg, output, xarr=None):\n",
    "    dynamics = output['setup']['dynamics']\n",
    "    lattice = output['setup']['lattice']\n",
    "    if xarr is None:\n",
    "        xarr = output['train_output']['xarr']\n",
    "\n",
    "    plaqs = []\n",
    "    for x in xarr:\n",
    "        if isinstance(x, torch.Tensor):\n",
    "            plaqs.append(\n",
    "                lattice.plaqs_diff(beta=cfg.get('beta'), x=x).detach().numpy()\n",
    "            )\n",
    "        else:\n",
    "            plaqs.append(lattice.plaqs_diff(beta=cfg.get('beta'), x=x))\n",
    "\n",
    "    plaqs = np.array(plaqs)\n",
    "    ndraws, nchains = plaqs.shape\n",
    "    xplot = np.arange(ndraws)\n",
    "    with plt.style.context(matplotx.styles.dufte):\n",
    "        fig, ax = plt.subplots(figsize=FIGSIZE, constrained_layout=True)\n",
    "        _ = ax.plot(xplot, plaqs.mean(-1), label='avg', lw=2.0, color='C0');\n",
    "        for idx in range(16):\n",
    "            _ = ax.plot(xplot, plaqs[:, idx], lw=1.0, alpha=0.5, color='C0')\n",
    "\n",
    "        _ = ax.set_ylabel(r'$\\delta x_{P}$')\n",
    "        _ = ax.set_xlabel('Train Epoch')\n",
    "        _ = ax.grid(True, alpha=0.4)"
   ]
  },
  {
   "cell_type": "code",
   "execution_count": null,
   "id": "68cb3082-728a-4ae7-ba00-40de28887db0",
   "metadata": {
    "code_folding": [
     3
    ],
    "tags": []
   },
   "outputs": [],
   "source": [
    "import xarray as xr\n",
    "from l2hmc.utils.plot_helpers import plot_dataArray, make_ridgeplots\n",
    "\n",
    "def make_plots(dataset: xr.Dataset, title: str = None, **kwargs):\n",
    "    for key, val in dataset.data_vars.items():\n",
    "        _ = plot_dataArray(val, key=key, num_chains=10, title=title, **kwargs)"
   ]
  },
  {
   "cell_type": "code",
   "execution_count": null,
   "id": "824f0b9d-6a0d-4059-bba1-ef3eabbd331e",
   "metadata": {
    "code_folding": [
     0,
     15
    ],
    "tags": []
   },
   "outputs": [],
   "source": [
    "OPTIONS = [\n",
    "    'beta_init=1.0',\n",
    "    'beta_final=3.0',\n",
    "    'mode=cpu',\n",
    "    '+width=150',\n",
    "    'dynamics.nleapfrog=5',\n",
    "    'dynamics.xshape=[128, 8, 8, 2]',\n",
    "    'conv=none',\n",
    "    'loss.aux_weight=1.0',\n",
    "    'steps.nera=10',\n",
    "    'steps.nepoch=100',\n",
    "    'steps.print=20',\n",
    "    'steps.log=10',\n",
    "    'steps.test=500',\n",
    "]\n",
    "frameworks = {\n",
    "    'pytorch': {},\n",
    "    'tensorflow': {},\n",
    "}\n",
    "outputs = {}\n",
    "configs = {}\n",
    "outputs.update(frameworks)\n",
    "configs.update(frameworks)"
   ]
  },
  {
   "cell_type": "markdown",
   "id": "10356019-c554-43e3-8265-13ed4e7f59ea",
   "metadata": {
    "tags": []
   },
   "source": [
    "# TensorFlow: `merge_directions = True`"
   ]
  },
  {
   "cell_type": "code",
   "execution_count": null,
   "id": "ea9613b8",
   "metadata": {
    "code_folding": [
     5
    ],
    "tags": []
   },
   "outputs": [],
   "source": [
    "sns.set_context('notebook', font_scale=0.8)\n",
    "overrides = ['dynamics.merge_directions=true'] + OPTIONS\n",
    "config, output = train(framework='tensorflow', overrides=overrides)\n",
    "_ = make_ridgeplots(output['train']['history'].get_dataset(), num_chains=64)\n",
    "\n",
    "outputs['tensorflow'].update({\n",
    "    'merge': {\n",
    "        'config': config,\n",
    "        'output': output,\n",
    "    }\n",
    "})"
   ]
  },
  {
   "cell_type": "code",
   "execution_count": null,
   "id": "ee45373c",
   "metadata": {
    "code_folding": [
     4
    ],
    "run_control": {
     "marked": true
    }
   },
   "outputs": [],
   "source": [
    "from l2hmc.common import analyze_dataset\n",
    "train_dataset = output['train']['history'].get_dataset(therm_frac=0.25)\n",
    "title = 'Training: Tensorflow, merge_directions=True, '\n",
    "_ = analyze_dataset(dataset=train_dataset,\n",
    "                    outdir=Path(config.outdir).joinpath('train'),\n",
    "                    lattice=output['setup']['lattice'],\n",
    "                    xarr=output['train']['output']['xarr'],\n",
    "                    name='train', title=title, save=False)\n",
    "_ = make_ridgeplots(train_dataset, num_chains=64)"
   ]
  },
  {
   "cell_type": "code",
   "execution_count": null,
   "id": "44124adf",
   "metadata": {
    "code_folding": [
     4
    ]
   },
   "outputs": [],
   "source": [
    "eval_dataset = output['eval']['history'].get_dataset(therm_frac=0.25)\n",
    "title = 'Evaluation: Tensorflow, merge_directions=True'\n",
    "_ = analyze_dataset(dataset=eval_dataset,\n",
    "                    outdir=Path(config.outdir).joinpath('eval'),\n",
    "                    lattice=output['setup']['lattice'],\n",
    "                    xarr=output['eval']['output']['xarr'],\n",
    "                    name='eval', title=title, save=False)\n",
    "_ = make_ridgeplots(eval_dataset, num_chains=64)"
   ]
  },
  {
   "cell_type": "markdown",
   "id": "4b1d27b4",
   "metadata": {},
   "source": [
    "# PyTorch: `merge_directions = True`"
   ]
  },
  {
   "cell_type": "code",
   "execution_count": null,
   "id": "b0338ac4",
   "metadata": {
    "code_folding": [
     4
    ]
   },
   "outputs": [],
   "source": [
    "overrides = ['dynamics.merge_directions=true'] + OPTIONS\n",
    "config, output = train(framework='pytorch', overrides=overrides)\n",
    "_ = make_ridgeplots(output['train']['history'].get_dataset(), num_chains=64)\n",
    "\n",
    "outputs['pytorch'].update({\n",
    "    'merge': {\n",
    "        'config': config,\n",
    "        'output': output,\n",
    "    }\n",
    "})"
   ]
  },
  {
   "cell_type": "code",
   "execution_count": null,
   "id": "534c2ccd",
   "metadata": {
    "code_folding": [
     2
    ]
   },
   "outputs": [],
   "source": [
    "train_dataset = outputs['pytorch']['merge']['output']['train']['history'].get_dataset(therm_frac=0.2)\n",
    "title = 'Training: PyTorch, merge_directions=True'\n",
    "_ = analyze_dataset(dataset=train_dataset,\n",
    "                    outdir=Path(config.outdir).joinpath('train'),\n",
    "                    lattice=output['setup']['lattice'],\n",
    "                    xarr=output['train']['output']['xarr'],\n",
    "                    name='train', title=title, save=False)\n",
    "_ = make_ridgeplots(train_dataset, num_chains=64)"
   ]
  },
  {
   "cell_type": "code",
   "execution_count": null,
   "id": "12c0a0dd",
   "metadata": {
    "code_folding": [
     2
    ]
   },
   "outputs": [],
   "source": [
    "eval_dataset = outputs['pytorch']['merge']['output']['eval']['history'].get_dataset(therm_frac=0.2)\n",
    "title = 'Evaluation: PyTorch, merge_directions=True'\n",
    "_ = analyze_dataset(dataset=eval_dataset,\n",
    "                    outdir=Path(config.outdir).joinpath('eval'),\n",
    "                    lattice=output['setup']['lattice'],\n",
    "                    xarr=output['eval']['output']['xarr'],\n",
    "                    name='eval', title=title, save=False)\n",
    "_ = make_ridgeplots(eval_dataset, num_chains=64)"
   ]
  },
  {
   "cell_type": "markdown",
   "id": "4df89780-9e82-405d-961b-bd3ee52952ed",
   "metadata": {
    "tags": []
   },
   "source": [
    "# TensorFlow: `merge_directions = False`"
   ]
  },
  {
   "cell_type": "code",
   "execution_count": null,
   "id": "46675fef-fb54-42bb-b35d-9f80c9dbada8",
   "metadata": {
    "tags": []
   },
   "outputs": [],
   "source": [
    "overrides = ['dynamics.merge_directions=false'] + OPTIONS\n",
    "config, output = train(framework='tensorflow', overrides=overrides)\n",
    "_ = make_ridgeplots(output['train']['history'].get_dataset(), num_chains=64)\n",
    "outputs['tensorflow'].update({\n",
    "    'no_merge': {\n",
    "        'config': config,\n",
    "        'output': output,\n",
    "    }\n",
    "})"
   ]
  },
  {
   "cell_type": "code",
   "execution_count": null,
   "id": "02ef740d",
   "metadata": {},
   "outputs": [],
   "source": [
    "train_dataset = outputs['tensorflow']['no_merge']['output']['train']['history'].get_dataset(therm_frac=0.2)\n",
    "title = 'Training: Tensorflow, merge_directions=False'\n",
    "_ = analyze_dataset(dataset=train_dataset,\n",
    "                    outdir=Path(config.outdir).joinpath('train'),\n",
    "                    lattice=output['setup']['lattice'],\n",
    "                    xarr=output['train']['output']['xarr'],\n",
    "                    name='train', title=title, save=False)\n",
    "_ = make_ridgeplots(train_dataset, num_chains=64)"
   ]
  },
  {
   "cell_type": "code",
   "execution_count": null,
   "id": "3736c17e",
   "metadata": {},
   "outputs": [],
   "source": [
    "eval_dataset = outputs['tensorflow']['no_merge']['output']['eval']['history'].get_dataset(therm_frac=0.25)\n",
    "title = 'Evaluation: Tensorflow, merge_directions=False'\n",
    "_ = analyze_dataset(dataset=eval_dataset,\n",
    "                    outdir=Path(config.outdir).joinpath('eval'),\n",
    "                    lattice=output['setup']['lattice'],\n",
    "                    xarr=output['eval']['output']['xarr'],\n",
    "                    name='eval', title=title, save=False)\n",
    "_ = make_ridgeplots(eval_dataset, num_chains=64)"
   ]
  },
  {
   "cell_type": "markdown",
   "id": "72d4f9a0-59b8-4a1f-86e8-a958bc09ab3c",
   "metadata": {},
   "source": [
    "# PyTorch: `merge_directions = False`"
   ]
  },
  {
   "cell_type": "code",
   "execution_count": null,
   "id": "145f192b-4759-44ea-91ef-b2cc156454eb",
   "metadata": {
    "tags": []
   },
   "outputs": [],
   "source": [
    "overrides = ['dynamics.merge_directions=false'] + OPTIONS\n",
    "config, output = train(framework='pytorch', overrides=overrides)\n",
    "\n",
    "_ = make_ridgeplots(output['train']['history'].get_dataset(), num_chains=64)\n",
    "\n",
    "outputs['pytorch'].update({\n",
    "    'no_merge': {\n",
    "        'config': config,\n",
    "        'output': output,\n",
    "    }\n",
    "})"
   ]
  },
  {
   "cell_type": "code",
   "execution_count": null,
   "id": "5301e654",
   "metadata": {},
   "outputs": [],
   "source": [
    "train_dataset = outputs['pytorch']['no_merge']['output']['train']['history'].get_dataset(therm_frac=0.2)\n",
    "title = 'Training: PyTorch, merge_directions=False'\n",
    "_ = analyze_dataset(dataset=train_dataset,\n",
    "                    outdir=Path(config.outdir).joinpath('train'),\n",
    "                    lattice=output['setup']['lattice'],\n",
    "                    xarr=output['train']['output']['xarr'],\n",
    "                    name='train', title=title, save=False)\n",
    "_ = make_ridgeplots(train_dataset, num_chains=64)"
   ]
  },
  {
   "cell_type": "code",
   "execution_count": null,
   "id": "1283fdd7",
   "metadata": {},
   "outputs": [],
   "source": [
    "eval_dataset = outputs['pytorch']['no_merge']['output']['eval']['history'].get_dataset(therm_frac=0.2)\n",
    "title = 'Evaluation: PyTorch, merge_directions=False'\n",
    "_ = analyze_dataset(dataset=eval_dataset,\n",
    "                    outdir=Path(config.outdir).joinpath('eval'),\n",
    "                    lattice=output['setup']['lattice'],\n",
    "                    xarr=output['eval']['output']['xarr'],\n",
    "                    name='eval', title=title, save=False)\n",
    "_ = make_ridgeplots(eval_dataset, num_chains=64)"
   ]
  },
  {
   "cell_type": "markdown",
   "id": "94245e81",
   "metadata": {},
   "source": [
    "# Test Reversibility"
   ]
  },
  {
   "cell_type": "code",
   "execution_count": null,
   "id": "b85affc9",
   "metadata": {},
   "outputs": [],
   "source": [
    "dynamics_merge_pt = outputs['pytorch']['merge']['output']['setup']['dynamics']\n",
    "dynamics_no_merge_pt = outputs['pytorch']['no_merge']['output']['setup']['dynamics']\n",
    "dynamics_merge_tf = outputs['tensorflow']['merge']['output']['setup']['dynamics']\n",
    "dynamics_no_merge_tf = outputs['tensorflow']['no_merge']['output']['setup']['dynamics']"
   ]
  },
  {
   "cell_type": "code",
   "execution_count": null,
   "id": "98ec1a1a",
   "metadata": {},
   "outputs": [],
   "source": [
    "def test_reversibility(dynamics, name: str = None):\n",
    "    diff = dynamics.test_reversibility()\n",
    "    dx = diff['dx']\n",
    "    dv = diff['dv']\n",
    "    print(f'{name} ' + ', '.join([f'avg(dx): {dx.mean()}', f'avg(dv): {dv.mean()}']))\n",
    "    #print('\\n'.join([\n",
    "        #', '.join([f'sum(dx): {dx.sum()}', f'sum(dv): {dv.sum()}']),\n",
    "    #]))\n",
    "    return diff"
   ]
  },
  {
   "cell_type": "code",
   "execution_count": null,
   "id": "410e9987",
   "metadata": {},
   "outputs": [],
   "source": [
    "diff_merge_pt = test_reversibility(dynamics_merge_pt, name='Pytorch, merge')\n",
    "diff_merge_tf = test_reversibility(dynamics_merge_tf, name='Tensorflow, merge')\n",
    "\n",
    "diff_no_merge_pt = test_reversibility(dynamics_no_merge_pt, name='Pytorch, no merge')\n",
    "diff_no_merge_tf = test_reversibility(dynamics_no_merge_tf, name='Tensorflow, no merge')"
   ]
  },
  {
   "cell_type": "code",
   "execution_count": null,
   "id": "a628b419",
   "metadata": {},
   "outputs": [],
   "source": [
    "state_tf = dynamics_merge_tf.random_state()\n",
    "\n",
    "_ = dynamics_merge_tf((state_tf.x, tf.constant(1.)))"
   ]
  },
  {
   "cell_type": "code",
   "execution_count": null,
   "id": "23d70663",
   "metadata": {},
   "outputs": [],
   "source": []
  },
  {
   "cell_type": "code",
   "execution_count": null,
   "id": "e0ffe727",
   "metadata": {},
   "outputs": [],
   "source": [
    "dynamics_merge_tf.summary()"
   ]
  },
  {
   "cell_type": "code",
   "execution_count": null,
   "id": "81878a2e",
   "metadata": {},
   "outputs": [],
   "source": [
    "dynamics_merge_tf.xnet['0']['first'].build(input_shape=[(512,), (512,2)])"
   ]
  },
  {
   "cell_type": "code",
   "execution_count": null,
   "id": "523b722f",
   "metadata": {},
   "outputs": [],
   "source": [
    "dynamics_merge_tf.vnet['0'].build(input_shape=[(512,), (512,)])"
   ]
  },
  {
   "cell_type": "code",
   "execution_count": null,
   "id": "9ff310f6",
   "metadata": {},
   "outputs": [],
   "source": [
    "_ = dynamics_merge_tf.vnet['0']((tf.constant(state_tf.x), tf.constant(state_tf.v)))"
   ]
  },
  {
   "cell_type": "code",
   "execution_count": null,
   "id": "6e311f4e",
   "metadata": {},
   "outputs": [],
   "source": [
    "from tensorflow.python.ops.numpy_ops import np_config\n",
    "np_config.enable_numpy_behavior()"
   ]
  },
  {
   "cell_type": "code",
   "execution_count": null,
   "id": "b341ff82",
   "metadata": {},
   "outputs": [],
   "source": [
    "tf.keras.utils.plot_model(dynamics_merge_tf.vnet['0'])"
   ]
  },
  {
   "cell_type": "code",
   "execution_count": null,
   "id": "6b9d343d",
   "metadata": {},
   "outputs": [],
   "source": [
    "%debug"
   ]
  },
  {
   "cell_type": "code",
   "execution_count": null,
   "id": "53bc4235",
   "metadata": {},
   "outputs": [],
   "source": [
    "#sum([sum(i) for i in dynamics_merge_pt.parameters()])\n",
    "sum(p.numel() for p in dynamics_merge_pt.parameters()) # if p.requires_grad)\n",
    "#len(list(dynamics_merge_pt.parameters()))"
   ]
  },
  {
   "cell_type": "code",
   "execution_count": null,
   "id": "512cc335",
   "metadata": {},
   "outputs": [],
   "source": [
    "state_tf = dynamics_merge_tf.random_state()\n",
    "#out = dynamics_merge_tf((state_tf.x, state_tf.beta))"
   ]
  },
  {
   "cell_type": "code",
   "execution_count": null,
   "id": "f8b2a3dc",
   "metadata": {},
   "outputs": [],
   "source": [
    "#x = tf.reshape(dynamics_merge_tf._stack_as_xy(state_tf.x), (state_tf.x.shape[0], -1))\n",
    "x = dynamics_merge_tf._stack_as_xy(state_tf.x)\n",
    "x.shape"
   ]
  },
  {
   "cell_type": "code",
   "execution_count": null,
   "id": "06fbe576",
   "metadata": {},
   "outputs": [],
   "source": [
    "dynamics_merge_tf.compile()"
   ]
  },
  {
   "cell_type": "code",
   "execution_count": null,
   "id": "b4a5ffd4",
   "metadata": {},
   "outputs": [],
   "source": [
    "out = dynamics_merge_tf((state_tf.x, state_tf.beta))"
   ]
  },
  {
   "cell_type": "code",
   "execution_count": null,
   "id": "88b7a3f3",
   "metadata": {},
   "outputs": [],
   "source": [
    "%debug"
   ]
  },
  {
   "cell_type": "code",
   "execution_count": null,
   "id": "aeeeac38",
   "metadata": {},
   "outputs": [],
   "source": [
    "tf.keras.utils.plot_model(dynamics_merge_tf.xnet['0']['first'])"
   ]
  },
  {
   "cell_type": "code",
   "execution_count": null,
   "id": "1c2528f5",
   "metadata": {},
   "outputs": [],
   "source": [
    "tf.keras.utils.plot_model(dynamics_merge_tf.vnet)"
   ]
  },
  {
   "cell_type": "code",
   "execution_count": null,
   "id": "f00711cf",
   "metadata": {},
   "outputs": [],
   "source": [
    "diff_merge_pt = dynamics_merge_pt.test_reversibility()\n",
    "dx = diff_merge_pt[\"dx\"].mean().detach().numpy()\n",
    "dv = diff_merge_pt[\"dv\"].mean().detach().numpy()\n",
    "print(f'(dx, dv) = ({dx:.4g}, {dv:.4g})')"
   ]
  },
  {
   "cell_type": "code",
   "execution_count": null,
   "id": "a79bec04",
   "metadata": {},
   "outputs": [],
   "source": [
    "diff_merge_tf = dynamics_merge_tf.test_reversibility()\n",
    "dx = tf.reduce_mean(diff_merge_tf[\"dx\"])\n",
    "dv = tf.reduce_mean(diff_merge_tf[\"dv\"])\n",
    "print(f'(dx, dv) = ({dx:.4g}, {dv:.4g})')"
   ]
  },
  {
   "cell_type": "code",
   "execution_count": null,
   "id": "5adbe89c",
   "metadata": {},
   "outputs": [],
   "source": []
  },
  {
   "cell_type": "markdown",
   "id": "064d3d6b-2144-4c5b-9530-d552b9eddb07",
   "metadata": {},
   "source": [
    "## Look at differences"
   ]
  },
  {
   "cell_type": "code",
   "execution_count": null,
   "id": "0369fc76",
   "metadata": {},
   "outputs": [],
   "source": [
    "outputs['tensorflow']['merge'].keys()"
   ]
  },
  {
   "cell_type": "code",
   "execution_count": null,
   "id": "4ea1f1e6-99fa-42ce-9d1f-864675fe1476",
   "metadata": {},
   "outputs": [],
   "source": [
    "losses = {\n",
    "    'tensorflow_merge': outputs['tensorflow']['merge']['output']['history'].history['loss'],\n",
    "    'tensorflow_no_merge': outputs['tensorflow']['no_merge']['output']['history'].history['loss'],\n",
    "    'pytorch_merge': outputs['pytorch']['merge']['output']['history'].history['loss'],\n",
    "    'pytorch_no_merge': outputs['pytorch']['no_merge']['output']['history'].history['loss'],\n",
    "}"
   ]
  },
  {
   "cell_type": "code",
   "execution_count": null,
   "id": "6440a205-8520-4f81-a775-7c8e33806dc3",
   "metadata": {
    "tags": []
   },
   "outputs": [],
   "source": [
    "import matplotx\n",
    "plt.rcParams.update({\n",
    "    'figure.dpi': 150,\n",
    "})\n",
    "fig, ax = plt.subplots(figsize=(9, 5))\n",
    "\n",
    "COLORS = {\n",
    "    'blue': '#03A9F4',\n",
    "    'alt_blue': '#80D8FF',\n",
    "    'red': '#F44336',\n",
    "    'alt_red': '#FF8A80',\n",
    "}\n",
    "\n",
    "styles = {\n",
    "    'tensorflow_merge': {'color': COLORS['alt_blue'], 'ls': '--'},\n",
    "    'tensorflow_no_merge': {'color': colors['blue'], 'ls': '-'},\n",
    "    'pytorch_merge': {'color': COLORS['alt_red'], 'ls': '--'},\n",
    "    'pytorch_no_merge': {'color': colors['red'], 'ls': '-'}\n",
    "}\n",
    "# colors = ['#FF5252', '#007DFF', '#63FF5b', '#AE81FF']\n",
    "for key, val in losses.items():\n",
    "    _ = ax.plot(val[5::2], label=key, **styles[key])\n",
    "\n",
    "matplotx.line_labels(ax=ax)\n",
    "_ = ax.grid(alpha=0.2, axis='y')\n",
    "_ = ax.set_ylabel(r'Loss')\n",
    "_ = ax.set_xlabel('Train Epoch')"
   ]
  }
 ],
 "metadata": {
  "kernelspec": {
   "display_name": "Python 3 (ipykernel)",
   "language": "python",
   "name": "python3"
  },
  "language_info": {
   "codemirror_mode": {
    "name": "ipython",
    "version": 3
   },
   "file_extension": ".py",
   "mimetype": "text/x-python",
   "name": "python",
   "nbconvert_exporter": "python",
   "pygments_lexer": "ipython3",
   "version": "3.9.10"
  },
  "nbTranslate": {
   "displayLangs": [
    "*"
   ],
   "hotkey": "alt-t",
   "langInMainMenu": true,
   "sourceLang": "en",
   "targetLang": "fr",
   "useGoogleTranslate": true
  },
  "notify_time": "5",
  "toc": {
   "base_numbering": 1,
   "nav_menu": {},
   "number_sections": true,
   "sideBar": true,
   "skip_h1_title": false,
   "title_cell": "Table of Contents",
   "title_sidebar": "Contents",
   "toc_cell": false,
   "toc_position": {},
   "toc_section_display": true,
   "toc_window_display": false
  },
  "varInspector": {
   "cols": {
    "lenName": 16,
    "lenType": 16,
    "lenVar": 40
   },
   "kernels_config": {
    "python": {
     "delete_cmd_postfix": "",
     "delete_cmd_prefix": "del ",
     "library": "var_list.py",
     "varRefreshCmd": "print(var_dic_list())"
    },
    "r": {
     "delete_cmd_postfix": ") ",
     "delete_cmd_prefix": "rm(",
     "library": "var_list.r",
     "varRefreshCmd": "cat(var_dic_list()) "
    }
   },
   "types_to_exclude": [
    "module",
    "function",
    "builtin_function_or_method",
    "instance",
    "_Feature"
   ],
   "window_display": false
  }
 },
 "nbformat": 4,
 "nbformat_minor": 5
}
