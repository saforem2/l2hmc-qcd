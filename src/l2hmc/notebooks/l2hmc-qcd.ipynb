{
 "cells": [
  {
   "cell_type": "markdown",
   "id": "3e28da46-d142-41a5-8622-fab5700427bc",
   "metadata": {},
   "source": [
    "## l2hmc"
   ]
  },
  {
   "cell_type": "code",
   "execution_count": 1,
   "id": "9a1c8a39-c03a-4691-b4a9-4ecdf0f0f6f0",
   "metadata": {
    "ExecuteTime": {
     "end_time": "2022-01-26T06:13:47.017651Z",
     "start_time": "2022-01-26T06:13:46.807149Z"
    },
    "execution": {
     "iopub.execute_input": "2022-01-25T22:12:51.642651Z",
     "iopub.status.busy": "2022-01-25T22:12:51.642130Z",
     "iopub.status.idle": "2022-01-25T22:12:51.883307Z",
     "shell.execute_reply": "2022-01-25T22:12:51.882577Z",
     "shell.execute_reply.started": "2022-01-25T22:12:51.642572Z"
    },
    "scrolled": true,
    "tags": []
   },
   "outputs": [
    {
     "data": {
      "text/html": [
       "<pre style=\"white-space:pre;overflow-x:auto;line-height:normal;font-family:Menlo,'DejaVu Sans Mono',consolas,'Courier New',monospace\">┏━━━━━━━━━━━━━━━━━━━━━━━━━━━━━━━┳━━━━━━━━━━━━━━━━━━━━━━━━━━━━━━━━━━━━━━━━━━━━━━━━━━━━━━━━━━━┓\n",
       "┃<span style=\"font-weight: bold\"> Name                          </span>┃<span style=\"font-weight: bold\"> Styling                                                   </span>┃\n",
       "┡━━━━━━━━━━━━━━━━━━━━━━━━━━━━━━━╇━━━━━━━━━━━━━━━━━━━━━━━━━━━━━━━━━━━━━━━━━━━━━━━━━━━━━━━━━━━┩\n",
       "│ none                          │ none                                                      │\n",
       "│ <span style=\"color: #000000; text-decoration-color: #000000; background-color: #ffffff\">reset                        </span> │ not bold not dim not italic not underline not blink not   │\n",
       "│                               │ blink2 not reverse not conceal not strike default on      │\n",
       "│                               │ default                                                   │\n",
       "│ <span style=\"color: #7f7f7f; text-decoration-color: #7f7f7f\">dim                          </span> │ dim                                                       │\n",
       "│ bright                        │ not dim                                                   │\n",
       "│ <span style=\"font-weight: bold\">bold                         </span> │ bold                                                      │\n",
       "│ <span style=\"font-weight: bold\">strong                       </span> │ bold                                                      │\n",
       "│ <span style=\"font-weight: bold\">code                         </span> │ bold reverse                                              │\n",
       "│ <span style=\"font-style: italic\">italic                       </span> │ italic                                                    │\n",
       "│ <span style=\"font-style: italic\">emphasize                    </span> │ italic                                                    │\n",
       "│ <span style=\"text-decoration: underline\">underline                    </span> │ underline                                                 │\n",
       "│ blink                         │ blink                                                     │\n",
       "│ blink2                        │ blink2                                                    │\n",
       "│ reverse                       │ reverse                                                   │\n",
       "│ <span style=\"text-decoration: line-through\">strike                       </span> │ strike                                                    │\n",
       "│ <span style=\"color: #000000; text-decoration-color: #000000\">black                        </span> │ black                                                     │\n",
       "│ <span style=\"color: #800000; text-decoration-color: #800000\">red                          </span> │ red                                                       │\n",
       "│ <span style=\"color: #008000; text-decoration-color: #008000\">green                        </span> │ green                                                     │\n",
       "│ <span style=\"color: #808000; text-decoration-color: #808000\">yellow                       </span> │ yellow                                                    │\n",
       "│ <span style=\"color: #800080; text-decoration-color: #800080\">magenta                      </span> │ magenta                                                   │\n",
       "│ <span style=\"color: #008080; text-decoration-color: #008080\">cyan                         </span> │ cyan                                                      │\n",
       "│ <span style=\"color: #c0c0c0; text-decoration-color: #c0c0c0\">white                        </span> │ white                                                     │\n",
       "│ <span style=\"color: #808000; text-decoration-color: #808000; font-style: italic\">inspect.attr                 </span> │ italic yellow                                             │\n",
       "│ <span style=\"color: #bfbf7f; text-decoration-color: #bfbf7f; font-style: italic\">inspect.attr.dunder          </span> │ dim italic yellow                                         │\n",
       "│ <span style=\"color: #800000; text-decoration-color: #800000; font-weight: bold\">inspect.callable             </span> │ bold red                                                  │\n",
       "│ <span style=\"color: #00ffff; text-decoration-color: #00ffff; font-style: italic\">inspect.def                  </span> │ italic bright_cyan                                        │\n",
       "│ <span style=\"color: #800000; text-decoration-color: #800000; font-weight: bold\">inspect.error                </span> │ bold red                                                  │\n",
       "│ inspect.equals                │ none                                                      │\n",
       "│ <span style=\"color: #008080; text-decoration-color: #008080\">inspect.help                 </span> │ cyan                                                      │\n",
       "│ <span style=\"color: #7f7f7f; text-decoration-color: #7f7f7f\">inspect.doc                  </span> │ dim                                                       │\n",
       "│ <span style=\"color: #008000; text-decoration-color: #008000\">inspect.value.border         </span> │ green                                                     │\n",
       "│ <span style=\"color: #800000; text-decoration-color: #800000; font-weight: bold\">live.ellipsis                </span> │ bold red                                                  │\n",
       "│ <span style=\"color: #800000; text-decoration-color: #800000\">layout.tree.row              </span> │ not dim red                                               │\n",
       "│ <span style=\"color: #000080; text-decoration-color: #000080\">layout.tree.column           </span> │ not dim blue                                              │\n",
       "│ <span style=\"color: #808000; text-decoration-color: #808000; font-weight: bold\">logging.keyword              </span> │ bold yellow                                               │\n",
       "│ <span style=\"color: #7f7f7f; text-decoration-color: #7f7f7f\">logging.level.notset         </span> │ dim                                                       │\n",
       "│ <span style=\"color: #008000; text-decoration-color: #008000\">logging.level.debug          </span> │ green                                                     │\n",
       "│ <span style=\"color: #000080; text-decoration-color: #000080\">logging.level.info           </span> │ blue                                                      │\n",
       "│ <span style=\"color: #800000; text-decoration-color: #800000\">logging.level.warning        </span> │ red                                                       │\n",
       "│ <span style=\"color: #800000; text-decoration-color: #800000; font-weight: bold\">logging.level.error          </span> │ bold red                                                  │\n",
       "│ <span style=\"background-color: #800000; font-weight: bold\">logging.level.critical       </span> │ bold reverse red                                          │\n",
       "│ log.level                     │ none                                                      │\n",
       "│ <span style=\"color: #7fbfbf; text-decoration-color: #7fbfbf\">log.time                     </span> │ dim cyan                                                  │\n",
       "│ log.message                   │ none                                                      │\n",
       "│ <span style=\"color: #7f7f7f; text-decoration-color: #7f7f7f\">log.path                     </span> │ dim                                                       │\n",
       "│ <span style=\"color: #808000; text-decoration-color: #808000\">repr.ellipsis                </span> │ yellow                                                    │\n",
       "│ <span style=\"color: #7fbf7f; text-decoration-color: #7fbf7f\">repr.indent                  </span> │ dim green                                                 │\n",
       "│ <span style=\"color: #800000; text-decoration-color: #800000; font-weight: bold\">repr.error                   </span> │ bold red                                                  │\n",
       "│ <span style=\"color: #008000; text-decoration-color: #008000\">repr.str                     </span> │ not bold not italic green                                 │\n",
       "│ <span style=\"font-weight: bold\">repr.brace                   </span> │ bold                                                      │\n",
       "│ <span style=\"font-weight: bold\">repr.comma                   </span> │ bold                                                      │\n",
       "│ <span style=\"color: #00ff00; text-decoration-color: #00ff00; font-weight: bold\">repr.ipv4                    </span> │ bold bright_green                                         │\n",
       "│ <span style=\"color: #00ff00; text-decoration-color: #00ff00; font-weight: bold\">repr.ipv6                    </span> │ bold bright_green                                         │\n",
       "│ <span style=\"color: #00ff00; text-decoration-color: #00ff00; font-weight: bold\">repr.eui48                   </span> │ bold bright_green                                         │\n",
       "│ <span style=\"color: #00ff00; text-decoration-color: #00ff00; font-weight: bold\">repr.eui64                   </span> │ bold bright_green                                         │\n",
       "│ <span style=\"font-weight: bold\">repr.tag_start               </span> │ bold                                                      │\n",
       "│ <span style=\"color: #ff00ff; text-decoration-color: #ff00ff; font-weight: bold\">repr.tag_name                </span> │ bold bright_magenta                                       │\n",
       "│ <span style=\"color: #000000; text-decoration-color: #000000\">repr.tag_contents            </span> │ default                                                   │\n",
       "│ <span style=\"font-weight: bold\">repr.tag_end                 </span> │ bold                                                      │\n",
       "│ <span style=\"color: #808000; text-decoration-color: #808000\">repr.attrib_name             </span> │ not italic yellow                                         │\n",
       "│ <span style=\"font-weight: bold\">repr.attrib_equal            </span> │ bold                                                      │\n",
       "│ <span style=\"color: #800080; text-decoration-color: #800080\">repr.attrib_value            </span> │ not italic magenta                                        │\n",
       "│ <span style=\"color: #008080; text-decoration-color: #008080; font-weight: bold\">repr.number                  </span> │ bold not italic cyan                                      │\n",
       "│ <span style=\"color: #00ff00; text-decoration-color: #00ff00; font-style: italic\">repr.bool_true               </span> │ italic bright_green                                       │\n",
       "│ <span style=\"color: #ff0000; text-decoration-color: #ff0000; font-style: italic\">repr.bool_false              </span> │ italic bright_red                                         │\n",
       "│ <span style=\"color: #800080; text-decoration-color: #800080; font-style: italic\">repr.none                    </span> │ italic magenta                                            │\n",
       "│ <span style=\"color: #0000ff; text-decoration-color: #0000ff; text-decoration: underline\">repr.url                     </span> │ not bold not italic underline bright_blue                 │\n",
       "│ <span style=\"color: #ffff00; text-decoration-color: #ffff00\">repr.uuid                    </span> │ not bold bright_yellow                                    │\n",
       "│ <span style=\"color: #800080; text-decoration-color: #800080; font-weight: bold\">repr.call                    </span> │ bold magenta                                              │\n",
       "│ <span style=\"color: #800080; text-decoration-color: #800080\">repr.path                    </span> │ magenta                                                   │\n",
       "│ <span style=\"color: #ff00ff; text-decoration-color: #ff00ff\">repr.filename                </span> │ bright_magenta                                            │\n",
       "│ <span style=\"color: #00ff00; text-decoration-color: #00ff00\">rule.line                    </span> │ bright_green                                              │\n",
       "│ rule.text                     │ none                                                      │\n",
       "│ <span style=\"font-weight: bold\">json.brace                   </span> │ bold                                                      │\n",
       "│ <span style=\"color: #00ff00; text-decoration-color: #00ff00; font-style: italic\">json.bool_true               </span> │ italic bright_green                                       │\n",
       "│ <span style=\"color: #ff0000; text-decoration-color: #ff0000; font-style: italic\">json.bool_false              </span> │ italic bright_red                                         │\n",
       "│ <span style=\"color: #800080; text-decoration-color: #800080; font-style: italic\">json.null                    </span> │ italic magenta                                            │\n",
       "│ <span style=\"color: #008080; text-decoration-color: #008080; font-weight: bold\">json.number                  </span> │ bold not italic cyan                                      │\n",
       "│ <span style=\"color: #008000; text-decoration-color: #008000\">json.str                     </span> │ not bold not italic green                                 │\n",
       "│ <span style=\"color: #000080; text-decoration-color: #000080; font-weight: bold\">json.key                     </span> │ bold blue                                                 │\n",
       "│ prompt                        │ none                                                      │\n",
       "│ <span style=\"color: #800080; text-decoration-color: #800080; font-weight: bold\">prompt.choices               </span> │ bold magenta                                              │\n",
       "│ <span style=\"color: #008080; text-decoration-color: #008080; font-weight: bold\">prompt.default               </span> │ bold cyan                                                 │\n",
       "│ <span style=\"color: #800000; text-decoration-color: #800000\">prompt.invalid               </span> │ red                                                       │\n",
       "│ <span style=\"color: #800000; text-decoration-color: #800000\">prompt.invalid.choice        </span> │ red                                                       │\n",
       "│ pretty                        │ none                                                      │\n",
       "│ <span style=\"color: #000080; text-decoration-color: #000080\">scope.border                 </span> │ blue                                                      │\n",
       "│ <span style=\"color: #808000; text-decoration-color: #808000; font-style: italic\">scope.key                    </span> │ italic yellow                                             │\n",
       "│ <span style=\"color: #bfbf7f; text-decoration-color: #bfbf7f; font-style: italic\">scope.key.special            </span> │ dim italic yellow                                         │\n",
       "│ <span style=\"color: #800000; text-decoration-color: #800000\">scope.equals                 </span> │ red                                                       │\n",
       "│ <span style=\"font-weight: bold\">table.header                 </span> │ bold                                                      │\n",
       "│ <span style=\"font-weight: bold\">table.footer                 </span> │ bold                                                      │\n",
       "│ table.cell                    │ none                                                      │\n",
       "│ <span style=\"font-style: italic\">table.title                  </span> │ italic                                                    │\n",
       "│ <span style=\"color: #7f7f7f; text-decoration-color: #7f7f7f; font-style: italic\">table.caption                </span> │ dim italic                                                │\n",
       "│ <span style=\"color: #800000; text-decoration-color: #800000; font-style: italic\">traceback.error              </span> │ italic red                                                │\n",
       "│ <span style=\"color: #ff0000; text-decoration-color: #ff0000\">traceback.border.syntax_error</span> │ bright_red                                                │\n",
       "│ <span style=\"color: #800000; text-decoration-color: #800000\">traceback.border             </span> │ red                                                       │\n",
       "│ traceback.text                │ none                                                      │\n",
       "│ <span style=\"color: #800000; text-decoration-color: #800000; font-weight: bold\">traceback.title              </span> │ bold red                                                  │\n",
       "│ <span style=\"color: #ff0000; text-decoration-color: #ff0000; font-weight: bold\">traceback.exc_type           </span> │ bold bright_red                                           │\n",
       "│ traceback.exc_value           │ none                                                      │\n",
       "│ <span style=\"color: #ff0000; text-decoration-color: #ff0000; font-weight: bold\">traceback.offset             </span> │ bold bright_red                                           │\n",
       "│ <span style=\"color: #3a3a3a; text-decoration-color: #3a3a3a\">bar.back                     </span> │ grey23                                                    │\n",
       "│ <span style=\"color: #f92672; text-decoration-color: #f92672\">bar.complete                 </span> │ rgb(249,38,114)                                           │\n",
       "│ <span style=\"color: #729c1f; text-decoration-color: #729c1f\">bar.finished                 </span> │ rgb(114,156,31)                                           │\n",
       "│ <span style=\"color: #f92672; text-decoration-color: #f92672\">bar.pulse                    </span> │ rgb(249,38,114)                                           │\n",
       "│ progress.description          │ none                                                      │\n",
       "│ <span style=\"color: #008000; text-decoration-color: #008000\">progress.filesize            </span> │ green                                                     │\n",
       "│ <span style=\"color: #008000; text-decoration-color: #008000\">progress.filesize.total      </span> │ green                                                     │\n",
       "│ <span style=\"color: #008000; text-decoration-color: #008000\">progress.download            </span> │ green                                                     │\n",
       "│ <span style=\"color: #808000; text-decoration-color: #808000\">progress.elapsed             </span> │ yellow                                                    │\n",
       "│ <span style=\"color: #800080; text-decoration-color: #800080\">progress.percentage          </span> │ magenta                                                   │\n",
       "│ <span style=\"color: #008080; text-decoration-color: #008080\">progress.remaining           </span> │ cyan                                                      │\n",
       "│ <span style=\"color: #800000; text-decoration-color: #800000\">progress.data.speed          </span> │ red                                                       │\n",
       "│ <span style=\"color: #008000; text-decoration-color: #008000\">progress.spinner             </span> │ green                                                     │\n",
       "│ <span style=\"color: #008000; text-decoration-color: #008000\">status.spinner               </span> │ green                                                     │\n",
       "│ tree                          │ none                                                      │\n",
       "│ tree.line                     │ none                                                      │\n",
       "│ markdown.paragraph            │ none                                                      │\n",
       "│ markdown.text                 │ none                                                      │\n",
       "│ <span style=\"font-style: italic\">markdown.emph                </span> │ italic                                                    │\n",
       "│ <span style=\"font-weight: bold\">markdown.strong              </span> │ bold                                                      │\n",
       "│ <span style=\"color: #ffffff; text-decoration-color: #ffffff; background-color: #000000\">markdown.code                </span> │ bright_white on black                                     │\n",
       "│ <span style=\"color: #7fbfbf; text-decoration-color: #7fbfbf; background-color: #000000\">markdown.code_block          </span> │ dim cyan on black                                         │\n",
       "│ <span style=\"color: #800080; text-decoration-color: #800080\">markdown.block_quote         </span> │ magenta                                                   │\n",
       "│ <span style=\"color: #008080; text-decoration-color: #008080\">markdown.list                </span> │ cyan                                                      │\n",
       "│ markdown.item                 │ none                                                      │\n",
       "│ <span style=\"color: #808000; text-decoration-color: #808000; font-weight: bold\">markdown.item.bullet         </span> │ bold yellow                                               │\n",
       "│ <span style=\"color: #808000; text-decoration-color: #808000; font-weight: bold\">markdown.item.number         </span> │ bold yellow                                               │\n",
       "│ <span style=\"color: #808000; text-decoration-color: #808000\">markdown.hr                  </span> │ yellow                                                    │\n",
       "│ markdown.h1.border            │ none                                                      │\n",
       "│ <span style=\"font-weight: bold\">markdown.h1                  </span> │ bold                                                      │\n",
       "│ <span style=\"font-weight: bold; text-decoration: underline\">markdown.h2                  </span> │ bold underline                                            │\n",
       "│ <span style=\"font-weight: bold\">markdown.h3                  </span> │ bold                                                      │\n",
       "│ <span style=\"color: #7f7f7f; text-decoration-color: #7f7f7f; font-weight: bold\">markdown.h4                  </span> │ bold dim                                                  │\n",
       "│ <span style=\"text-decoration: underline\">markdown.h5                  </span> │ underline                                                 │\n",
       "│ <span style=\"font-style: italic\">markdown.h6                  </span> │ italic                                                    │\n",
       "│ <span style=\"color: #7f7f7f; text-decoration-color: #7f7f7f; font-style: italic\">markdown.h7                  </span> │ dim italic                                                │\n",
       "│ <span style=\"color: #0000ff; text-decoration-color: #0000ff\">markdown.link                </span> │ bright_blue                                               │\n",
       "│ <span style=\"color: #000080; text-decoration-color: #000080\">markdown.link_url            </span> │ blue                                                      │\n",
       "└───────────────────────────────┴───────────────────────────────────────────────────────────┘\n",
       "</pre>\n"
      ],
      "text/plain": [
       "┏━━━━━━━━━━━━━━━━━━━━━━━━━━━━━━━┳━━━━━━━━━━━━━━━━━━━━━━━━━━━━━━━━━━━━━━━━━━━━━━━━━━━━━━━━━━━┓\n",
       "┃\u001b[1m \u001b[0m\u001b[1mName                         \u001b[0m\u001b[1m \u001b[0m┃\u001b[1m \u001b[0m\u001b[1mStyling                                                  \u001b[0m\u001b[1m \u001b[0m┃\n",
       "┡━━━━━━━━━━━━━━━━━━━━━━━━━━━━━━━╇━━━━━━━━━━━━━━━━━━━━━━━━━━━━━━━━━━━━━━━━━━━━━━━━━━━━━━━━━━━┩\n",
       "│ none                          │ none                                                      │\n",
       "│ \u001b[39;49mreset                        \u001b[0m │ not bold not dim not italic not underline not blink not   │\n",
       "│                               │ blink2 not reverse not conceal not strike default on      │\n",
       "│                               │ default                                                   │\n",
       "│ \u001b[2mdim                          \u001b[0m │ dim                                                       │\n",
       "│ bright                        │ not dim                                                   │\n",
       "│ \u001b[1mbold                         \u001b[0m │ bold                                                      │\n",
       "│ \u001b[1mstrong                       \u001b[0m │ bold                                                      │\n",
       "│ \u001b[1;7mcode                         \u001b[0m │ bold reverse                                              │\n",
       "│ \u001b[3mitalic                       \u001b[0m │ italic                                                    │\n",
       "│ \u001b[3memphasize                    \u001b[0m │ italic                                                    │\n",
       "│ \u001b[4munderline                    \u001b[0m │ underline                                                 │\n",
       "│ \u001b[5mblink                        \u001b[0m │ blink                                                     │\n",
       "│ \u001b[6mblink2                       \u001b[0m │ blink2                                                    │\n",
       "│ \u001b[7mreverse                      \u001b[0m │ reverse                                                   │\n",
       "│ \u001b[9mstrike                       \u001b[0m │ strike                                                    │\n",
       "│ \u001b[30mblack                        \u001b[0m │ black                                                     │\n",
       "│ \u001b[31mred                          \u001b[0m │ red                                                       │\n",
       "│ \u001b[32mgreen                        \u001b[0m │ green                                                     │\n",
       "│ \u001b[33myellow                       \u001b[0m │ yellow                                                    │\n",
       "│ \u001b[35mmagenta                      \u001b[0m │ magenta                                                   │\n",
       "│ \u001b[36mcyan                         \u001b[0m │ cyan                                                      │\n",
       "│ \u001b[37mwhite                        \u001b[0m │ white                                                     │\n",
       "│ \u001b[3;33minspect.attr                 \u001b[0m │ italic yellow                                             │\n",
       "│ \u001b[2;3;33minspect.attr.dunder          \u001b[0m │ dim italic yellow                                         │\n",
       "│ \u001b[1;31minspect.callable             \u001b[0m │ bold red                                                  │\n",
       "│ \u001b[3;96minspect.def                  \u001b[0m │ italic bright_cyan                                        │\n",
       "│ \u001b[1;31minspect.error                \u001b[0m │ bold red                                                  │\n",
       "│ inspect.equals                │ none                                                      │\n",
       "│ \u001b[36minspect.help                 \u001b[0m │ cyan                                                      │\n",
       "│ \u001b[2minspect.doc                  \u001b[0m │ dim                                                       │\n",
       "│ \u001b[32minspect.value.border         \u001b[0m │ green                                                     │\n",
       "│ \u001b[1;31mlive.ellipsis                \u001b[0m │ bold red                                                  │\n",
       "│ \u001b[31mlayout.tree.row              \u001b[0m │ not dim red                                               │\n",
       "│ \u001b[34mlayout.tree.column           \u001b[0m │ not dim blue                                              │\n",
       "│ \u001b[1;33mlogging.keyword              \u001b[0m │ bold yellow                                               │\n",
       "│ \u001b[2mlogging.level.notset         \u001b[0m │ dim                                                       │\n",
       "│ \u001b[32mlogging.level.debug          \u001b[0m │ green                                                     │\n",
       "│ \u001b[34mlogging.level.info           \u001b[0m │ blue                                                      │\n",
       "│ \u001b[31mlogging.level.warning        \u001b[0m │ red                                                       │\n",
       "│ \u001b[1;31mlogging.level.error          \u001b[0m │ bold red                                                  │\n",
       "│ \u001b[1;7;31mlogging.level.critical       \u001b[0m │ bold reverse red                                          │\n",
       "│ log.level                     │ none                                                      │\n",
       "│ \u001b[2;36mlog.time                     \u001b[0m │ dim cyan                                                  │\n",
       "│ log.message                   │ none                                                      │\n",
       "│ \u001b[2mlog.path                     \u001b[0m │ dim                                                       │\n",
       "│ \u001b[33mrepr.ellipsis                \u001b[0m │ yellow                                                    │\n",
       "│ \u001b[2;32mrepr.indent                  \u001b[0m │ dim green                                                 │\n",
       "│ \u001b[1;31mrepr.error                   \u001b[0m │ bold red                                                  │\n",
       "│ \u001b[32mrepr.str                     \u001b[0m │ not bold not italic green                                 │\n",
       "│ \u001b[1mrepr.brace                   \u001b[0m │ bold                                                      │\n",
       "│ \u001b[1mrepr.comma                   \u001b[0m │ bold                                                      │\n",
       "│ \u001b[1;92mrepr.ipv4                    \u001b[0m │ bold bright_green                                         │\n",
       "│ \u001b[1;92mrepr.ipv6                    \u001b[0m │ bold bright_green                                         │\n",
       "│ \u001b[1;92mrepr.eui48                   \u001b[0m │ bold bright_green                                         │\n",
       "│ \u001b[1;92mrepr.eui64                   \u001b[0m │ bold bright_green                                         │\n",
       "│ \u001b[1mrepr.tag_start               \u001b[0m │ bold                                                      │\n",
       "│ \u001b[1;95mrepr.tag_name                \u001b[0m │ bold bright_magenta                                       │\n",
       "│ \u001b[39mrepr.tag_contents            \u001b[0m │ default                                                   │\n",
       "│ \u001b[1mrepr.tag_end                 \u001b[0m │ bold                                                      │\n",
       "│ \u001b[33mrepr.attrib_name             \u001b[0m │ not italic yellow                                         │\n",
       "│ \u001b[1mrepr.attrib_equal            \u001b[0m │ bold                                                      │\n",
       "│ \u001b[35mrepr.attrib_value            \u001b[0m │ not italic magenta                                        │\n",
       "│ \u001b[1;36mrepr.number                  \u001b[0m │ bold not italic cyan                                      │\n",
       "│ \u001b[3;92mrepr.bool_true               \u001b[0m │ italic bright_green                                       │\n",
       "│ \u001b[3;91mrepr.bool_false              \u001b[0m │ italic bright_red                                         │\n",
       "│ \u001b[3;35mrepr.none                    \u001b[0m │ italic magenta                                            │\n",
       "│ \u001b[4;94mrepr.url                     \u001b[0m │ not bold not italic underline bright_blue                 │\n",
       "│ \u001b[93mrepr.uuid                    \u001b[0m │ not bold bright_yellow                                    │\n",
       "│ \u001b[1;35mrepr.call                    \u001b[0m │ bold magenta                                              │\n",
       "│ \u001b[35mrepr.path                    \u001b[0m │ magenta                                                   │\n",
       "│ \u001b[95mrepr.filename                \u001b[0m │ bright_magenta                                            │\n",
       "│ \u001b[92mrule.line                    \u001b[0m │ bright_green                                              │\n",
       "│ rule.text                     │ none                                                      │\n",
       "│ \u001b[1mjson.brace                   \u001b[0m │ bold                                                      │\n",
       "│ \u001b[3;92mjson.bool_true               \u001b[0m │ italic bright_green                                       │\n",
       "│ \u001b[3;91mjson.bool_false              \u001b[0m │ italic bright_red                                         │\n",
       "│ \u001b[3;35mjson.null                    \u001b[0m │ italic magenta                                            │\n",
       "│ \u001b[1;36mjson.number                  \u001b[0m │ bold not italic cyan                                      │\n",
       "│ \u001b[32mjson.str                     \u001b[0m │ not bold not italic green                                 │\n",
       "│ \u001b[1;34mjson.key                     \u001b[0m │ bold blue                                                 │\n",
       "│ prompt                        │ none                                                      │\n",
       "│ \u001b[1;35mprompt.choices               \u001b[0m │ bold magenta                                              │\n",
       "│ \u001b[1;36mprompt.default               \u001b[0m │ bold cyan                                                 │\n",
       "│ \u001b[31mprompt.invalid               \u001b[0m │ red                                                       │\n",
       "│ \u001b[31mprompt.invalid.choice        \u001b[0m │ red                                                       │\n",
       "│ pretty                        │ none                                                      │\n",
       "│ \u001b[34mscope.border                 \u001b[0m │ blue                                                      │\n",
       "│ \u001b[3;33mscope.key                    \u001b[0m │ italic yellow                                             │\n",
       "│ \u001b[2;3;33mscope.key.special            \u001b[0m │ dim italic yellow                                         │\n",
       "│ \u001b[31mscope.equals                 \u001b[0m │ red                                                       │\n",
       "│ \u001b[1mtable.header                 \u001b[0m │ bold                                                      │\n",
       "│ \u001b[1mtable.footer                 \u001b[0m │ bold                                                      │\n",
       "│ table.cell                    │ none                                                      │\n",
       "│ \u001b[3mtable.title                  \u001b[0m │ italic                                                    │\n",
       "│ \u001b[2;3mtable.caption                \u001b[0m │ dim italic                                                │\n",
       "│ \u001b[3;31mtraceback.error              \u001b[0m │ italic red                                                │\n",
       "│ \u001b[91mtraceback.border.syntax_error\u001b[0m │ bright_red                                                │\n",
       "│ \u001b[31mtraceback.border             \u001b[0m │ red                                                       │\n",
       "│ traceback.text                │ none                                                      │\n",
       "│ \u001b[1;31mtraceback.title              \u001b[0m │ bold red                                                  │\n",
       "│ \u001b[1;91mtraceback.exc_type           \u001b[0m │ bold bright_red                                           │\n",
       "│ traceback.exc_value           │ none                                                      │\n",
       "│ \u001b[1;91mtraceback.offset             \u001b[0m │ bold bright_red                                           │\n",
       "│ \u001b[38;5;237mbar.back                     \u001b[0m │ grey23                                                    │\n",
       "│ \u001b[38;2;249;38;114mbar.complete                 \u001b[0m │ rgb(249,38,114)                                           │\n",
       "│ \u001b[38;2;114;156;31mbar.finished                 \u001b[0m │ rgb(114,156,31)                                           │\n",
       "│ \u001b[38;2;249;38;114mbar.pulse                    \u001b[0m │ rgb(249,38,114)                                           │\n",
       "│ progress.description          │ none                                                      │\n",
       "│ \u001b[32mprogress.filesize            \u001b[0m │ green                                                     │\n",
       "│ \u001b[32mprogress.filesize.total      \u001b[0m │ green                                                     │\n",
       "│ \u001b[32mprogress.download            \u001b[0m │ green                                                     │\n",
       "│ \u001b[33mprogress.elapsed             \u001b[0m │ yellow                                                    │\n",
       "│ \u001b[35mprogress.percentage          \u001b[0m │ magenta                                                   │\n",
       "│ \u001b[36mprogress.remaining           \u001b[0m │ cyan                                                      │\n",
       "│ \u001b[31mprogress.data.speed          \u001b[0m │ red                                                       │\n",
       "│ \u001b[32mprogress.spinner             \u001b[0m │ green                                                     │\n",
       "│ \u001b[32mstatus.spinner               \u001b[0m │ green                                                     │\n",
       "│ tree                          │ none                                                      │\n",
       "│ tree.line                     │ none                                                      │\n",
       "│ markdown.paragraph            │ none                                                      │\n",
       "│ markdown.text                 │ none                                                      │\n",
       "│ \u001b[3mmarkdown.emph                \u001b[0m │ italic                                                    │\n",
       "│ \u001b[1mmarkdown.strong              \u001b[0m │ bold                                                      │\n",
       "│ \u001b[97;40mmarkdown.code                \u001b[0m │ bright_white on black                                     │\n",
       "│ \u001b[2;36;40mmarkdown.code_block          \u001b[0m │ dim cyan on black                                         │\n",
       "│ \u001b[35mmarkdown.block_quote         \u001b[0m │ magenta                                                   │\n",
       "│ \u001b[36mmarkdown.list                \u001b[0m │ cyan                                                      │\n",
       "│ markdown.item                 │ none                                                      │\n",
       "│ \u001b[1;33mmarkdown.item.bullet         \u001b[0m │ bold yellow                                               │\n",
       "│ \u001b[1;33mmarkdown.item.number         \u001b[0m │ bold yellow                                               │\n",
       "│ \u001b[33mmarkdown.hr                  \u001b[0m │ yellow                                                    │\n",
       "│ markdown.h1.border            │ none                                                      │\n",
       "│ \u001b[1mmarkdown.h1                  \u001b[0m │ bold                                                      │\n",
       "│ \u001b[1;4mmarkdown.h2                  \u001b[0m │ bold underline                                            │\n",
       "│ \u001b[1mmarkdown.h3                  \u001b[0m │ bold                                                      │\n",
       "│ \u001b[1;2mmarkdown.h4                  \u001b[0m │ bold dim                                                  │\n",
       "│ \u001b[4mmarkdown.h5                  \u001b[0m │ underline                                                 │\n",
       "│ \u001b[3mmarkdown.h6                  \u001b[0m │ italic                                                    │\n",
       "│ \u001b[2;3mmarkdown.h7                  \u001b[0m │ dim italic                                                │\n",
       "│ \u001b[94mmarkdown.link                \u001b[0m │ bright_blue                                               │\n",
       "│ \u001b[34mmarkdown.link_url            \u001b[0m │ blue                                                      │\n",
       "└───────────────────────────────┴───────────────────────────────────────────────────────────┘\n"
      ]
     },
     "metadata": {},
     "output_type": "display_data"
    }
   ],
   "source": [
    "%run /Users/saforem2/projects/l2hmc-qcd/src/l2hmc/utils/rich_style.py"
   ]
  },
  {
   "cell_type": "markdown",
   "id": "7f415b69-ec4e-4fc1-9672-ed641393273e",
   "metadata": {},
   "source": [
    "## Imports"
   ]
  },
  {
   "cell_type": "code",
   "execution_count": 2,
   "id": "322c01cd-4d00-45d8-b6d2-57ae3caa2aa4",
   "metadata": {
    "ExecuteTime": {
     "end_time": "2022-01-26T06:13:47.178093Z",
     "start_time": "2022-01-26T06:13:47.112451Z"
    },
    "execution": {
     "iopub.execute_input": "2022-01-25T22:12:54.079952Z",
     "iopub.status.busy": "2022-01-25T22:12:54.079410Z",
     "iopub.status.idle": "2022-01-25T22:12:54.150379Z",
     "shell.execute_reply": "2022-01-25T22:12:54.149316Z",
     "shell.execute_reply.started": "2022-01-25T22:12:54.079916Z"
    },
    "tags": []
   },
   "outputs": [
    {
     "name": "stdout",
     "output_type": "stream",
     "text": [
      "The autoreload extension is already loaded. To reload it, use:\n",
      "  %reload_ext autoreload\n"
     ]
    },
    {
     "data": {
      "application/javascript": [
       "IPython.notebook.set_autosave_interval(120000)"
      ]
     },
     "metadata": {},
     "output_type": "display_data"
    },
    {
     "name": "stdout",
     "output_type": "stream",
     "text": [
      "Autosaving every 120 seconds\n"
     ]
    }
   ],
   "source": [
    "%load_ext autoreload\n",
    "%autoreload 2\n",
    "%autosave 120\n",
    "%load_ext rich\n",
    "%matplotlib inline\n",
    "%config InlineBackend.figure_format = 'retina'"
   ]
  },
  {
   "cell_type": "code",
   "execution_count": 3,
   "id": "fe9f72ca-4301-41c5-a639-13c7756be8a1",
   "metadata": {
    "ExecuteTime": {
     "end_time": "2022-01-26T06:13:47.860328Z",
     "start_time": "2022-01-26T06:13:47.826403Z"
    },
    "execution": {
     "iopub.execute_input": "2022-01-25T22:13:09.464360Z",
     "iopub.status.busy": "2022-01-25T22:13:09.464078Z",
     "iopub.status.idle": "2022-01-25T22:13:09.502042Z",
     "shell.execute_reply": "2022-01-25T22:13:09.500602Z",
     "shell.execute_reply.started": "2022-01-25T22:13:09.464329Z"
    },
    "tags": []
   },
   "outputs": [],
   "source": [
    "from rich.theme import Theme\n",
    "theme = Theme({\n",
    "    \"info\": \"dim cyan\",\n",
    "    \"warning\": \"magenta\",\n",
    "    \"danger\": \"bold red\",\n",
    "    \"green\": \"#4CAF50\",\n",
    "    \"yellow\" :\"#FFEB3B\",\n",
    "}, inherit=False)\n",
    "console = Console(theme=theme, color_system='truecolor', log_path=False, force_jupyter=True)"
   ]
  },
  {
   "cell_type": "code",
   "execution_count": 4,
   "id": "cbb08eaf-dbe7-4537-ab02-a852b3f3505b",
   "metadata": {
    "ExecuteTime": {
     "end_time": "2022-01-26T06:13:48.067742Z",
     "start_time": "2022-01-26T06:13:47.993443Z"
    },
    "execution": {
     "iopub.execute_input": "2022-01-25T22:13:10.624947Z",
     "iopub.status.busy": "2022-01-25T22:13:10.624501Z",
     "iopub.status.idle": "2022-01-25T22:13:10.700997Z",
     "shell.execute_reply": "2022-01-25T22:13:10.699807Z",
     "shell.execute_reply.started": "2022-01-25T22:13:10.624879Z"
    },
    "tags": []
   },
   "outputs": [],
   "source": [
    "import matplotx\n",
    "import matplotlib.pyplot as plt\n",
    "import seaborn as sns\n",
    "\n",
    "FIGSIZE = (7, 3)\n",
    "\n",
    "plt.style.use('default')\n",
    "colors = {\n",
    "    'blue': '#007DFF',\n",
    "    'red': '#FF5252',\n",
    "    'yellow': '#FFFF00',\n",
    "    'green': '#63FF5B',\n",
    "    'purple': '#AE81FF',\n",
    "    'orange': '#FD971F',\n",
    "    'white': '#CFCFCF',\n",
    "}\n",
    "\n",
    "plt.style.use(matplotx.styles.dufte)\n",
    "sns.set_palette(list(colors.values()))\n",
    "sns.set_context('notebook', font_scale=0.8)\n",
    "plt.rcParams.update({\n",
    "    'image.cmap': 'viridis',\n",
    "    'figure.facecolor': (1.0, 1.0, 1.0, 0.),\n",
    "    'axes.facecolor': (1.0, 1.0, 1.0, 0.),\n",
    "    'axes.grid': False,\n",
    "    'grid.color': '#cfcfcf',\n",
    "    'figure.dpi': plt.rcParamsDefault['figure.dpi'],\n",
    "    'figure.figsize': plt.rcParamsDefault['figure.figsize'],\n",
    "})"
   ]
  },
  {
   "cell_type": "code",
   "execution_count": 5,
   "id": "f773befa",
   "metadata": {
    "ExecuteTime": {
     "end_time": "2022-01-26T06:13:48.520506Z",
     "start_time": "2022-01-26T06:13:48.487458Z"
    },
    "execution": {
     "iopub.execute_input": "2022-01-25T22:13:11.579107Z",
     "iopub.status.busy": "2022-01-25T22:13:11.578829Z",
     "iopub.status.idle": "2022-01-25T22:13:11.619198Z",
     "shell.execute_reply": "2022-01-25T22:13:11.618503Z",
     "shell.execute_reply.started": "2022-01-25T22:13:11.579076Z"
    },
    "tags": []
   },
   "outputs": [],
   "source": [
    "import os\n",
    "import sys\n",
    "from pathlib import Path\n",
    "\n",
    "modulepath = Path(os.getcwd()).parent.parent.parent\n",
    "if modulepath.as_posix() not in sys.path:\n",
    "    sys.path.append(modulepath.as_posix())"
   ]
  },
  {
   "cell_type": "markdown",
   "id": "d5991d21",
   "metadata": {},
   "source": [
    "## Specify floating point precision to use for training\n",
    "\n",
    "Training can be done in either:\n",
    "\n",
    " - `float32` (single precision)\n",
    " - `float64` (double precision)"
   ]
  },
  {
   "cell_type": "code",
   "execution_count": 6,
   "id": "0c501528-fe3d-421b-b969-97485c60c3bb",
   "metadata": {
    "ExecuteTime": {
     "end_time": "2022-01-26T06:13:57.382222Z",
     "start_time": "2022-01-26T06:13:49.305291Z"
    },
    "execution": {
     "iopub.execute_input": "2022-01-25T22:13:13.418808Z",
     "iopub.status.busy": "2022-01-25T22:13:13.418526Z",
     "iopub.status.idle": "2022-01-25T22:13:19.666042Z",
     "shell.execute_reply": "2022-01-25T22:13:19.665261Z",
     "shell.execute_reply.started": "2022-01-25T22:13:13.418778Z"
    },
    "tags": []
   },
   "outputs": [
    {
     "data": {
      "text/html": [
       "<pre style=\"white-space:pre;overflow-x:auto;line-height:normal;font-family:Menlo,'DejaVu Sans Mono',consolas,'Courier New',monospace\"><span style=\"color: #00ff00; text-decoration-color: #00ff00; font-style: italic\">True</span>\n",
       "</pre>\n"
      ],
      "text/plain": [
       "\u001b[3;92mTrue\u001b[0m\n"
      ]
     },
     "metadata": {},
     "output_type": "display_data"
    }
   ],
   "source": [
    "# TensorFlow\n",
    "import tensorflow as tf\n",
    "tf.keras.backend.set_floatx('float32')  # or 'float64 for double precision\n",
    "tf.keras.backend.floatx() == tf.float32\n",
    "\n",
    "# PyTorch\n",
    "import torch\n",
    "torch.set_default_dtype(torch.float32)"
   ]
  },
  {
   "cell_type": "code",
   "execution_count": 7,
   "id": "ce4d8228",
   "metadata": {
    "ExecuteTime": {
     "end_time": "2022-01-26T06:13:57.634327Z",
     "start_time": "2022-01-26T06:13:57.558376Z"
    },
    "execution": {
     "iopub.execute_input": "2022-01-25T22:13:19.668158Z",
     "iopub.status.busy": "2022-01-25T22:13:19.667910Z",
     "iopub.status.idle": "2022-01-25T22:13:19.753531Z",
     "shell.execute_reply": "2022-01-25T22:13:19.752357Z",
     "shell.execute_reply.started": "2022-01-25T22:13:19.668129Z"
    },
    "tags": []
   },
   "outputs": [],
   "source": [
    "import os\n",
    "import tensorflow as tf\n",
    "\n",
    "os.environ['AUTOGRAPH_VERBOSITY'] = '0'\n",
    "# Verbosity is now 5\n",
    "\n",
    "tf.autograph.set_verbosity(0)\n",
    "# Verbosity is now 0"
   ]
  },
  {
   "cell_type": "markdown",
   "id": "e8c60935-a11d-432a-ba5e-59c4064df25a",
   "metadata": {},
   "source": [
    "## Remaining Imports"
   ]
  },
  {
   "cell_type": "code",
   "execution_count": 8,
   "id": "c751c817-0f44-4adb-b2d5-8fdcd81159ea",
   "metadata": {
    "ExecuteTime": {
     "end_time": "2022-01-26T06:13:58.132059Z",
     "start_time": "2022-01-26T06:13:57.800157Z"
    },
    "execution": {
     "iopub.execute_input": "2022-01-25T22:13:26.206959Z",
     "iopub.status.busy": "2022-01-25T22:13:26.206508Z",
     "iopub.status.idle": "2022-01-25T22:13:26.547656Z",
     "shell.execute_reply": "2022-01-25T22:13:26.546556Z",
     "shell.execute_reply.started": "2022-01-25T22:13:26.206919Z"
    },
    "tags": []
   },
   "outputs": [
    {
     "name": "stderr",
     "output_type": "stream",
     "text": [
      "2022-01-26 00:13:58.104584: I tensorflow/core/platform/cpu_feature_guard.cc:151] This TensorFlow binary is optimized with oneAPI Deep Neural Network Library (oneDNN) to use the following CPU instructions in performance-critical operations:  AVX2 FMA\n",
      "To enable them in other operations, rebuild TensorFlow with the appropriate compiler flags.\n"
     ]
    }
   ],
   "source": [
    "import numpy as np\n",
    "\n",
    "from src.l2hmc.configs import DynamicsConfig\n",
    "from src.l2hmc.lattice.pytorch.lattice import Lattice as ptLattice\n",
    "from src.l2hmc.lattice.tensorflow.lattice import Lattice as tfLattice\n",
    "\n",
    "from src.l2hmc.network.pytorch.network import NetworkFactory as ptNetworkFactory\n",
    "from src.l2hmc.network.tensorflow.network import NetworkFactory as tfNetworkFactory"
   ]
  },
  {
   "cell_type": "code",
   "execution_count": null,
   "id": "6a0eba3b",
   "metadata": {
    "heading_collapsed": true,
    "tags": []
   },
   "outputs": [],
   "source": [
    "d## Helper functions"
   ]
  },
  {
   "cell_type": "code",
   "execution_count": 9,
   "id": "c0c7ffe5-b05f-47ed-a814-422985cf185c",
   "metadata": {
    "ExecuteTime": {
     "end_time": "2022-01-26T06:13:58.458279Z",
     "start_time": "2022-01-26T06:13:58.358715Z"
    },
    "execution": {
     "iopub.execute_input": "2022-01-25T22:13:27.437133Z",
     "iopub.status.busy": "2022-01-25T22:13:27.436856Z",
     "iopub.status.idle": "2022-01-25T22:13:27.532093Z",
     "shell.execute_reply": "2022-01-25T22:13:27.531155Z",
     "shell.execute_reply.started": "2022-01-25T22:13:27.437105Z"
    },
    "tags": []
   },
   "outputs": [],
   "source": [
    "from typing import Optional\n",
    "\n",
    "def stack_history(history):\n",
    "    history_ = {}\n",
    "    for key, val in history.items():\n",
    "        if not isinstance(val[0], (tf.Tensor, torch.Tensor, np.ndarray, float)):\n",
    "            print(f'Skipping key: {key}, val.dtype: {type(val)}')\n",
    "            continue\n",
    "        elif isinstance(val[0], tf.Tensor):\n",
    "            history_[key] = tf.stack(val).numpy()\n",
    "        elif isinstance(val[0], torch.Tensor):\n",
    "            history_[key] = torch.stack(val).detach().numpy()\n",
    "        elif isinstance(val[0], (float, np.ndarray)):\n",
    "            history_[key] = np.stack(val)\n",
    "    return history_\n",
    "\n",
    "def stack_directional_history_tf(history):\n",
    "    hist = {}\n",
    "    for key in history[0].keys():\n",
    "        hist[key] = tf.stack([x.get(key) for x in history]).numpy()\n",
    "    return hist\n",
    "\n",
    "def stack_directional_history_pt(history):\n",
    "    hist = {}\n",
    "    for key in history[0].keys():\n",
    "        hist[key] = torch.stack([x.get(key) for x in history]).detach().numpy()\n",
    "    return hist\n",
    "\n",
    "def stack(x):\n",
    "    try:\n",
    "        if isinstance(x, list):\n",
    "            if isinstance(x[0], tf.Tensor):\n",
    "                return tf.stack(x).numpy()\n",
    "            if isinstance(x[0], torch.Tensor):\n",
    "                try:\n",
    "                    return torch.stack(x).detach().numpy()\n",
    "                except:\n",
    "                    return torch.Tensor(x).detach().numpy()\n",
    "            return np.stack(x)\n",
    "        return np.stack(x)\n",
    "    except:\n",
    "        return np.zeros_like(x)\n",
    "\n",
    "def dict_summary(d):\n",
    "    strs = []\n",
    "    for key, val in d.items():\n",
    "        if isinstance(val, dict):\n",
    "            strs.append(f'{key}={dict_summary(val)}')\n",
    "        else:\n",
    "            try:\n",
    "                strs.append(f'{key}={np.mean(val):.3g}')\n",
    "            except:\n",
    "                strs.append(f'{key}={val.mean():.3g}')\n",
    "    return strs"
   ]
  },
  {
   "cell_type": "markdown",
   "id": "8272be93-a127-4979-b169-7f87690c36ae",
   "metadata": {
    "tags": []
   },
   "source": [
    "## Define configurations\n",
    "\n",
    "Note: We use a shared set of configuration objects for both the `pytorch` and `tensorflow` implementations"
   ]
  },
  {
   "cell_type": "code",
   "execution_count": 10,
   "id": "7521d93a-9445-415e-a924-f5c5b6f42970",
   "metadata": {
    "ExecuteTime": {
     "end_time": "2022-01-26T06:13:58.718575Z",
     "start_time": "2022-01-26T06:13:58.634325Z"
    },
    "execution": {
     "iopub.execute_input": "2022-01-25T22:13:28.766304Z",
     "iopub.status.busy": "2022-01-25T22:13:28.765894Z",
     "iopub.status.idle": "2022-01-25T22:13:28.858629Z",
     "shell.execute_reply": "2022-01-25T22:13:28.857436Z",
     "shell.execute_reply.started": "2022-01-25T22:13:28.766268Z"
    },
    "tags": []
   },
   "outputs": [],
   "source": [
    "from src.l2hmc.configs import (\n",
    "    Steps,\n",
    "    InputSpec,\n",
    "    LossConfig,\n",
    "    NetworkConfig,\n",
    "    NetWeight,\n",
    "    DynamicsConfig,\n",
    "    NetWeights,\n",
    ")\n",
    "\n",
    "beta = 2.\n",
    "nleapfrog = 5           # trajectory length\n",
    "eps_init = 0.005        # initial step size (trainable)\n",
    "xshape = (64, 8, 8, 2)  # (nbatch, nt, nx, dim)\n",
    "\n",
    "steps = {\n",
    "    'log': 5,\n",
    "    'nera': 10,\n",
    "    'print': 25,\n",
    "    'nepoch': 500,\n",
    "    'test': 0,\n",
    "}\n",
    "steps = Steps(**steps)\n",
    "\n",
    "# scaling factors multiplying the   (s , t ,  q) network functions\n",
    "net_weights = NetWeights(x=NetWeight(1., 1., 1.),\n",
    "                         v=NetWeight(1., 1., 1.))\n",
    "\n",
    "net_config = NetworkConfig(units=[8, 8, 8, 8],  # sizes of hidden layers\n",
    "                           dropout_prob=0.,  # dropout probability\n",
    "                           activation_fn='relu',  # activation fn\n",
    "                           use_batch_norm=False)  # use batch_norm\n",
    "\n",
    "\n",
    "dynamics_config_fb = DynamicsConfig(xshape=xshape,\n",
    "                                    eps=eps_init,\n",
    "                                    nleapfrog=nleapfrog,\n",
    "                                    use_ncp=True,\n",
    "                                    verbose=True,\n",
    "                                    eps_fixed=False,\n",
    "                                    use_split_xnets=True,\n",
    "                                    merge_directions=True,\n",
    "                                    use_separate_networks=True)\n",
    "\n",
    "dynamics_config = DynamicsConfig(xshape=xshape,\n",
    "                                 eps=eps_init,\n",
    "                                 nleapfrog=nleapfrog,\n",
    "                                 use_ncp=True,\n",
    "                                 verbose=True,\n",
    "                                 eps_fixed=False,\n",
    "                                 use_split_xnets=True,\n",
    "                                 merge_directions=False,\n",
    "                                 use_separate_networks=True)\n",
    "\n",
    "xdim = dynamics_config.xdim\n",
    "input_spec = InputSpec(xshape=xshape,\n",
    "                       # note: we stack the input to the xNetwork\n",
    "                       # as [cos(x), sin(x)], hence (xdim, 2) below\n",
    "                       xnet={'x': (xdim, 2), 'v': (xdim,)},\n",
    "                       vnet={'x': (xdim,), 'v': (xdim,)})\n",
    "\n",
    "loss_config = LossConfig(use_mixed_loss=True,\n",
    "                         plaq_weight=0.,\n",
    "                         charge_weight=0.01)"
   ]
  },
  {
   "cell_type": "markdown",
   "id": "6a8839bc-8879-486f-9608-fa21d5bc3ccc",
   "metadata": {
    "tags": []
   },
   "source": [
    "## Build `pytorch` Dynamics object"
   ]
  },
  {
   "cell_type": "code",
   "execution_count": 11,
   "id": "1783f6fc-ba32-43f1-80db-3d3e9430ef77",
   "metadata": {
    "ExecuteTime": {
     "end_time": "2022-01-26T06:13:59.054000Z",
     "start_time": "2022-01-26T06:13:58.890791Z"
    },
    "execution": {
     "iopub.execute_input": "2022-01-25T22:13:30.013834Z",
     "iopub.status.busy": "2022-01-25T22:13:30.013461Z",
     "iopub.status.idle": "2022-01-25T22:13:30.160644Z",
     "shell.execute_reply": "2022-01-25T22:13:30.159791Z",
     "shell.execute_reply.started": "2022-01-25T22:13:30.013759Z"
    },
    "tags": []
   },
   "outputs": [],
   "source": [
    "from src.l2hmc.lattice.pytorch.lattice import Lattice as ptLattice\n",
    "from src.l2hmc.dynamics.pytorch.dynamics import Dynamics as ptDynamics\n",
    "from src.l2hmc.network.pytorch.network import NetworkFactory as ptNetworkFactory\n",
    "from src.l2hmc.loss.pytorch.loss import LatticeLoss as ptLatticeLoss\n",
    "\n",
    "from accelerate import Accelerator\n",
    "accelerator = Accelerator()\n",
    "\n",
    "device = accelerator.device\n",
    "\n",
    "optim = torch.optim\n",
    "\n",
    "pt_lattice = ptLattice(xshape)\n",
    "potential_fn_pt = pt_lattice.action\n",
    "\n",
    "pt_net_factory = ptNetworkFactory(input_spec=input_spec,\n",
    "                                  net_weights=net_weights,\n",
    "                                  network_config=net_config)\n",
    "\n",
    "dynamics_pt = ptDynamics(potential_fn=potential_fn_pt,\n",
    "                         config=dynamics_config,\n",
    "                         network_factory=pt_net_factory)\n",
    "\n",
    "dynamics_pt_fb = ptDynamics(potential_fn=potential_fn_pt,\n",
    "                            config=dynamics_config_fb,\n",
    "                            network_factory=pt_net_factory)\n",
    "\n",
    "loss_pt = ptLatticeLoss(lattice=pt_lattice,\n",
    "                        loss_config=loss_config)\n",
    "\n",
    "optimizer_pt = optim.Adam(dynamics_pt.parameters())\n",
    "optimizer_pt_fb = optim.Adam(dynamics_pt_fb.parameters())\n",
    "\n",
    "loss_pt = ptLatticeLoss(lattice=pt_lattice, loss_config=loss_config)"
   ]
  },
  {
   "cell_type": "markdown",
   "id": "9787096c",
   "metadata": {
    "tags": []
   },
   "source": [
    "## Build `tensorflow` Dynamics object"
   ]
  },
  {
   "cell_type": "code",
   "execution_count": 12,
   "id": "51142005",
   "metadata": {
    "ExecuteTime": {
     "end_time": "2022-01-26T06:14:19.859760Z",
     "start_time": "2022-01-26T06:14:16.573424Z"
    },
    "execution": {
     "iopub.execute_input": "2022-01-25T22:13:30.668078Z",
     "iopub.status.busy": "2022-01-25T22:13:30.667791Z",
     "iopub.status.idle": "2022-01-25T22:13:33.694344Z",
     "shell.execute_reply": "2022-01-25T22:13:33.693594Z",
     "shell.execute_reply.started": "2022-01-25T22:13:30.668049Z"
    },
    "tags": []
   },
   "outputs": [],
   "source": [
    "from src.l2hmc.lattice.tensorflow.lattice import Lattice as tfLattice\n",
    "from src.l2hmc.dynamics.tensorflow.dynamics import Dynamics as tfDynamics\n",
    "from src.l2hmc.network.tensorflow.network import NetworkFactory as tfNetworkFactory\n",
    "from src.l2hmc.loss.tensorflow.loss import LatticeLoss as tfLatticeLoss\n",
    "\n",
    "tf_lattice = tfLattice(xshape)\n",
    "potential_fn_tf = tf_lattice.action\n",
    "\n",
    "tf_net_factory = tfNetworkFactory(input_spec=input_spec,\n",
    "                                  net_weights=net_weights,\n",
    "                                  network_config=net_config)\n",
    "\n",
    "dynamics_tf = tfDynamics(potential_fn=potential_fn_tf,\n",
    "                         config=dynamics_config,\n",
    "                         network_factory=tf_net_factory)\n",
    "\n",
    "dynamics_tf_fb = tfDynamics(potential_fn=potential_fn_tf,\n",
    "                            config=dynamics_config_fb,\n",
    "                            network_factory=tf_net_factory)\n",
    "\n",
    "loss_tf = tfLatticeLoss(lattice=tf_lattice, loss_config=loss_config)"
   ]
  },
  {
   "cell_type": "code",
   "execution_count": 13,
   "id": "c0502481",
   "metadata": {
    "ExecuteTime": {
     "end_time": "2022-01-26T06:14:21.611202Z",
     "start_time": "2022-01-26T06:14:20.115726Z"
    }
   },
   "outputs": [],
   "source": [
    "dynamics_tf = tfDynamics(potential_fn=potential_fn_tf,\n",
    "                         config=dynamics_config,\n",
    "                         network_factory=tf_net_factory)"
   ]
  },
  {
   "cell_type": "markdown",
   "id": "9793b5ec-2e13-46a0-82b8-31f6db364f4b",
   "metadata": {
    "tags": []
   },
   "source": [
    "## Test lattice methods"
   ]
  },
  {
   "cell_type": "code",
   "execution_count": 50,
   "id": "0fa09ce3-12b5-4e78-a7c3-f0fdbd00da37",
   "metadata": {
    "ExecuteTime": {
     "end_time": "2022-01-26T00:43:52.084117Z",
     "start_time": "2022-01-26T00:43:51.993241Z"
    },
    "execution": {
     "iopub.execute_input": "2022-01-25T22:13:46.042975Z",
     "iopub.status.busy": "2022-01-25T22:13:46.042661Z",
     "iopub.status.idle": "2022-01-25T22:13:46.149464Z",
     "shell.execute_reply": "2022-01-25T22:13:46.148422Z",
     "shell.execute_reply.started": "2022-01-25T22:13:46.042940Z"
    },
    "tags": []
   },
   "outputs": [
    {
     "data": {
      "text/html": [
       "<pre style=\"white-space:pre;overflow-x:auto;line-height:normal;font-family:Menlo,'DejaVu Sans Mono',consolas,'Courier New',monospace\"><span style=\"color: #008080; text-decoration-color: #008080; font-weight: bold\">0.0</span>\n",
       "</pre>\n"
      ],
      "text/plain": [
       "\u001b[1;36m0.0\u001b[0m\n"
      ]
     },
     "metadata": {},
     "output_type": "display_data"
    },
    {
     "data": {
      "text/html": [
       "<pre style=\"white-space:pre;overflow-x:auto;line-height:normal;font-family:Menlo,'DejaVu Sans Mono',consolas,'Courier New',monospace\"><span style=\"color: #008080; text-decoration-color: #008080; font-weight: bold\">0.0</span>\n",
       "</pre>\n"
      ],
      "text/plain": [
       "\u001b[1;36m0.0\u001b[0m\n"
      ]
     },
     "metadata": {},
     "output_type": "display_data"
    },
    {
     "data": {
      "text/html": [
       "<pre style=\"white-space:pre;overflow-x:auto;line-height:normal;font-family:Menlo,'DejaVu Sans Mono',consolas,'Courier New',monospace\"><span style=\"color: #008080; text-decoration-color: #008080; font-weight: bold\">0.0</span>\n",
       "</pre>\n"
      ],
      "text/plain": [
       "\u001b[1;36m0.0\u001b[0m\n"
      ]
     },
     "metadata": {},
     "output_type": "display_data"
    }
   ],
   "source": [
    "xinit_tf = tf.random.uniform(xshape, *(-np.pi, np.pi))\n",
    "xinit_np = xinit_tf.numpy()\n",
    "xinit_pt = torch.tensor(xinit_np, requires_grad=True)\n",
    "\n",
    "# Check that wilson loops agree between tensorflow and pytorch\n",
    "wl_init_tf = tf_lattice.wilson_loops(x=xinit_tf)\n",
    "wl_init_pt = pt_lattice.wilson_loops(x=xinit_pt)\n",
    "\n",
    "dxinit = xinit_tf.numpy() - xinit_pt.detach().numpy()\n",
    "dwl_init = wl_init_tf.numpy() - wl_init_pt.detach().numpy()\n",
    "dwl_init.sum()\n",
    "dwl_init.mean()\n",
    "dxinit.sum()"
   ]
  },
  {
   "cell_type": "code",
   "execution_count": 42,
   "id": "74cc57a7-fc5f-4316-b5cf-0c281371c3fd",
   "metadata": {
    "ExecuteTime": {
     "end_time": "2022-01-26T00:36:40.186315Z",
     "start_time": "2022-01-26T00:36:40.104786Z"
    },
    "execution": {
     "iopub.execute_input": "2022-01-25T22:13:46.821866Z",
     "iopub.status.busy": "2022-01-25T22:13:46.821583Z",
     "iopub.status.idle": "2022-01-25T22:13:46.911131Z",
     "shell.execute_reply": "2022-01-25T22:13:46.910294Z",
     "shell.execute_reply.started": "2022-01-25T22:13:46.821835Z"
    },
    "tags": []
   },
   "outputs": [],
   "source": [
    "tlatm = tf_lattice.observables(xinit_tf)\n",
    "platm = pt_lattice.observables(xinit_pt)"
   ]
  },
  {
   "cell_type": "code",
   "execution_count": 43,
   "id": "e6673ddd-6e3b-4004-9dbe-9d3f156f94d1",
   "metadata": {
    "ExecuteTime": {
     "end_time": "2022-01-26T00:36:40.841753Z",
     "start_time": "2022-01-26T00:36:40.766853Z"
    },
    "execution": {
     "iopub.execute_input": "2022-01-25T22:13:47.009346Z",
     "iopub.status.busy": "2022-01-25T22:13:47.009031Z",
     "iopub.status.idle": "2022-01-25T22:13:47.092832Z",
     "shell.execute_reply": "2022-01-25T22:13:47.091861Z",
     "shell.execute_reply.started": "2022-01-25T22:13:47.009319Z"
    },
    "scrolled": true,
    "tags": []
   },
   "outputs": [
    {
     "data": {
      "text/html": [
       "<pre style=\"white-space:pre;overflow-x:auto;line-height:normal;font-family:Menlo,'DejaVu Sans Mono',consolas,'Courier New',monospace\"><span style=\"color: #00ff00; text-decoration-color: #00ff00; font-style: italic\">True</span>\n",
       "</pre>\n"
      ],
      "text/plain": [
       "\u001b[3;92mTrue\u001b[0m\n"
      ]
     },
     "metadata": {},
     "output_type": "display_data"
    }
   ],
   "source": [
    "(xinit_tf.numpy() == xinit_pt.detach().numpy()).all()"
   ]
  },
  {
   "cell_type": "code",
   "execution_count": 44,
   "id": "cd99e810-5079-45f1-920a-02cd27f76741",
   "metadata": {
    "ExecuteTime": {
     "end_time": "2022-01-26T00:36:41.439664Z",
     "start_time": "2022-01-26T00:36:41.354592Z"
    },
    "execution": {
     "iopub.execute_input": "2022-01-25T22:13:47.530094Z",
     "iopub.status.busy": "2022-01-25T22:13:47.529787Z",
     "iopub.status.idle": "2022-01-25T22:13:47.627941Z",
     "shell.execute_reply": "2022-01-25T22:13:47.627200Z",
     "shell.execute_reply.started": "2022-01-25T22:13:47.530063Z"
    },
    "tags": []
   },
   "outputs": [
    {
     "data": {
      "text/html": [
       "<pre style=\"white-space:pre;overflow-x:auto;line-height:normal;font-family:Menlo,'DejaVu Sans Mono',consolas,'Courier New',monospace\"><span style=\"color: #800080; text-decoration-color: #800080; font-weight: bold\">TensorShape</span><span style=\"font-weight: bold\">([</span><span style=\"color: #008080; text-decoration-color: #008080; font-weight: bold\">64</span><span style=\"font-weight: bold\">])</span>\n",
       "</pre>\n"
      ],
      "text/plain": [
       "\u001b[1;35mTensorShape\u001b[0m\u001b[1m(\u001b[0m\u001b[1m[\u001b[0m\u001b[1;36m64\u001b[0m\u001b[1m]\u001b[0m\u001b[1m)\u001b[0m\n"
      ]
     },
     "metadata": {},
     "output_type": "display_data"
    },
    {
     "data": {
      "text/html": [
       "<pre style=\"white-space:pre;overflow-x:auto;line-height:normal;font-family:Menlo,'DejaVu Sans Mono',consolas,'Courier New',monospace\"><span style=\"color: #800080; text-decoration-color: #800080; font-weight: bold\">TensorShape</span><span style=\"font-weight: bold\">([</span><span style=\"color: #008080; text-decoration-color: #008080; font-weight: bold\">64</span><span style=\"font-weight: bold\">])</span>\n",
       "</pre>\n"
      ],
      "text/plain": [
       "\u001b[1;35mTensorShape\u001b[0m\u001b[1m(\u001b[0m\u001b[1m[\u001b[0m\u001b[1;36m64\u001b[0m\u001b[1m]\u001b[0m\u001b[1m)\u001b[0m\n"
      ]
     },
     "metadata": {},
     "output_type": "display_data"
    },
    {
     "data": {
      "text/html": [
       "<pre style=\"white-space:pre;overflow-x:auto;line-height:normal;font-family:Menlo,'DejaVu Sans Mono',consolas,'Courier New',monospace\"><span style=\"color: #800080; text-decoration-color: #800080; font-weight: bold\">TensorShape</span><span style=\"font-weight: bold\">([</span><span style=\"color: #008080; text-decoration-color: #008080; font-weight: bold\">64</span><span style=\"font-weight: bold\">])</span>\n",
       "</pre>\n"
      ],
      "text/plain": [
       "\u001b[1;35mTensorShape\u001b[0m\u001b[1m(\u001b[0m\u001b[1m[\u001b[0m\u001b[1;36m64\u001b[0m\u001b[1m]\u001b[0m\u001b[1m)\u001b[0m\n"
      ]
     },
     "metadata": {},
     "output_type": "display_data"
    },
    {
     "data": {
      "text/html": [
       "<pre style=\"white-space:pre;overflow-x:auto;line-height:normal;font-family:Menlo,'DejaVu Sans Mono',consolas,'Courier New',monospace\"><span style=\"color: #800080; text-decoration-color: #800080; font-weight: bold\">TensorShape</span><span style=\"font-weight: bold\">([</span><span style=\"color: #008080; text-decoration-color: #008080; font-weight: bold\">64</span><span style=\"font-weight: bold\">])</span>\n",
       "</pre>\n"
      ],
      "text/plain": [
       "\u001b[1;35mTensorShape\u001b[0m\u001b[1m(\u001b[0m\u001b[1m[\u001b[0m\u001b[1;36m64\u001b[0m\u001b[1m]\u001b[0m\u001b[1m)\u001b[0m\n"
      ]
     },
     "metadata": {},
     "output_type": "display_data"
    }
   ],
   "source": [
    "tlatm.plaqs.shape\n",
    "tlatm.charges.intQ.shape\n",
    "tlatm.charges.sinQ.shape\n",
    "tlatm.p4x4.shape"
   ]
  },
  {
   "cell_type": "code",
   "execution_count": 45,
   "id": "4f649c94-532c-46ac-92dd-31033b803078",
   "metadata": {
    "ExecuteTime": {
     "end_time": "2022-01-26T00:36:42.294336Z",
     "start_time": "2022-01-26T00:36:42.207884Z"
    },
    "execution": {
     "iopub.execute_input": "2022-01-25T22:13:47.685876Z",
     "iopub.status.busy": "2022-01-25T22:13:47.685597Z",
     "iopub.status.idle": "2022-01-25T22:13:47.777513Z",
     "shell.execute_reply": "2022-01-25T22:13:47.776689Z",
     "shell.execute_reply.started": "2022-01-25T22:13:47.685844Z"
    },
    "tags": []
   },
   "outputs": [
    {
     "data": {
      "text/html": [
       "<pre style=\"white-space:pre;overflow-x:auto;line-height:normal;font-family:Menlo,'DejaVu Sans Mono',consolas,'Courier New',monospace\"><span style=\"color: #ff0000; text-decoration-color: #ff0000; font-style: italic\">False</span>\n",
       "</pre>\n"
      ],
      "text/plain": [
       "\u001b[3;91mFalse\u001b[0m\n"
      ]
     },
     "metadata": {},
     "output_type": "display_data"
    },
    {
     "data": {
      "text/html": [
       "<pre style=\"white-space:pre;overflow-x:auto;line-height:normal;font-family:Menlo,'DejaVu Sans Mono',consolas,'Courier New',monospace\"><span style=\"color: #ff0000; text-decoration-color: #ff0000; font-style: italic\">False</span>\n",
       "</pre>\n"
      ],
      "text/plain": [
       "\u001b[3;91mFalse\u001b[0m\n"
      ]
     },
     "metadata": {},
     "output_type": "display_data"
    },
    {
     "data": {
      "text/html": [
       "<pre style=\"white-space:pre;overflow-x:auto;line-height:normal;font-family:Menlo,'DejaVu Sans Mono',consolas,'Courier New',monospace\"><span style=\"color: #800080; text-decoration-color: #800080; font-weight: bold\">sum</span><span style=\"font-weight: bold\">(</span>plaq_tf - plaq_pt<span style=\"font-weight: bold\">)</span> = <span style=\"color: #008080; text-decoration-color: #008080; font-weight: bold\">-9.592622518539429e-08</span>\n",
       "</pre>\n"
      ],
      "text/plain": [
       "\u001b[1;35msum\u001b[0m\u001b[1m(\u001b[0mplaq_tf - plaq_pt\u001b[1m)\u001b[0m = \u001b[1;36m-9.592622518539429e-08\u001b[0m\n"
      ]
     },
     "metadata": {},
     "output_type": "display_data"
    },
    {
     "data": {
      "text/html": [
       "<pre style=\"white-space:pre;overflow-x:auto;line-height:normal;font-family:Menlo,'DejaVu Sans Mono',consolas,'Courier New',monospace\"><span style=\"color: #800080; text-decoration-color: #800080; font-weight: bold\">sum</span><span style=\"font-weight: bold\">(</span>intQ_tf - intQ_pt<span style=\"font-weight: bold\">)</span> = <span style=\"color: #008080; text-decoration-color: #008080; font-weight: bold\">1.5715477275080048e-06</span>\n",
       "</pre>\n"
      ],
      "text/plain": [
       "\u001b[1;35msum\u001b[0m\u001b[1m(\u001b[0mintQ_tf - intQ_pt\u001b[1m)\u001b[0m = \u001b[1;36m1.5715477275080048e-06\u001b[0m\n"
      ]
     },
     "metadata": {},
     "output_type": "display_data"
    },
    {
     "data": {
      "text/html": [
       "<pre style=\"white-space:pre;overflow-x:auto;line-height:normal;font-family:Menlo,'DejaVu Sans Mono',consolas,'Courier New',monospace\"><span style=\"color: #800080; text-decoration-color: #800080; font-weight: bold\">sum</span><span style=\"font-weight: bold\">(</span>sinQ_tf - sinQ_pt<span style=\"font-weight: bold\">)</span> = <span style=\"color: #008080; text-decoration-color: #008080; font-weight: bold\">1.564621925354004e-07</span>\n",
       "</pre>\n"
      ],
      "text/plain": [
       "\u001b[1;35msum\u001b[0m\u001b[1m(\u001b[0msinQ_tf - sinQ_pt\u001b[1m)\u001b[0m = \u001b[1;36m1.564621925354004e-07\u001b[0m\n"
      ]
     },
     "metadata": {},
     "output_type": "display_data"
    }
   ],
   "source": [
    "(tlatm.plaqs.numpy() == platm.plaqs.detach().numpy()).all()\n",
    "(tlatm.charges.intQ.numpy() == platm.charges.intQ.detach().numpy()).all()\n",
    "print(\n",
    "    f'sum(plaq_tf - plaq_pt) = '\n",
    "    f'{(tlatm.plaqs.numpy() -  platm.plaqs.detach().numpy()).sum()}'\n",
    ")\n",
    "print(\n",
    "    f'sum(intQ_tf - intQ_pt) = '\n",
    "    f'{(tlatm.charges.intQ.numpy() - platm.charges.intQ.detach().numpy()).sum()}'\n",
    ")\n",
    "print(\n",
    "    f'sum(sinQ_tf - sinQ_pt) = '\n",
    "    f'{(tlatm.charges.sinQ.numpy() - platm.charges.sinQ.detach().numpy()).sum()}'\n",
    ")"
   ]
  },
  {
   "cell_type": "markdown",
   "id": "31113597-b642-4085-8915-ada8589cef56",
   "metadata": {},
   "source": [
    "# Training"
   ]
  },
  {
   "cell_type": "code",
   "execution_count": 46,
   "id": "6d6fa704-7982-49c7-812e-f0742bb6b9a0",
   "metadata": {
    "ExecuteTime": {
     "end_time": "2022-01-26T00:36:45.189147Z",
     "start_time": "2022-01-26T00:36:43.897343Z"
    },
    "execution": {
     "iopub.execute_input": "2022-01-25T22:13:48.725666Z",
     "iopub.status.busy": "2022-01-25T22:13:48.725359Z",
     "iopub.status.idle": "2022-01-25T22:13:49.938169Z",
     "shell.execute_reply": "2022-01-25T22:13:49.936620Z",
     "shell.execute_reply.started": "2022-01-25T22:13:48.725633Z"
    },
    "tags": []
   },
   "outputs": [
    {
     "name": "stdout",
     "output_type": "stream",
     "text": [
      "0\r\n"
     ]
    }
   ],
   "source": [
    "!echo $AUTOGRAPH_VERBOSITY\n",
    "!set -e $AUTOGRAPH_VERBOSITY"
   ]
  },
  {
   "cell_type": "markdown",
   "id": "eb5d8711",
   "metadata": {},
   "source": [
    "## Tensorflow"
   ]
  },
  {
   "cell_type": "markdown",
   "id": "aaa40cd5",
   "metadata": {},
   "source": [
    "### Train with single forward/backward update\n",
    "\n",
    "Explicitly, we can set:\n",
    "\n",
    "```python\n",
    "DynamicsConfig.merge_directions = True\n",
    "```"
   ]
  },
  {
   "cell_type": "code",
   "execution_count": 15,
   "id": "e0d32f47",
   "metadata": {
    "ExecuteTime": {
     "end_time": "2022-01-26T07:20:21.819048Z",
     "start_time": "2022-01-26T07:18:10.660967Z"
    },
    "execution": {
     "iopub.execute_input": "2022-01-25T22:13:50.887004Z",
     "iopub.status.busy": "2022-01-25T22:13:50.886649Z",
     "iopub.status.idle": "2022-01-25T22:16:15.961133Z",
     "shell.execute_reply": "2022-01-25T22:16:15.960313Z",
     "shell.execute_reply.started": "2022-01-25T22:13:50.886964Z"
    },
    "scrolled": true,
    "tags": []
   },
   "outputs": [
    {
     "data": {
      "text/html": [
       "<pre style=\"white-space:pre;overflow-x:auto;line-height:normal;font-family:Menlo,'DejaVu Sans Mono',consolas,'Courier New',monospace\"><span style=\"color: #00ff00; text-decoration-color: #00ff00\">────────────────────────────────────────────── </span>ERA: <span style=\"color: #008080; text-decoration-color: #008080; font-weight: bold\">0</span><span style=\"color: #00ff00; text-decoration-color: #00ff00\"> ──────────────────────────────────────────────</span>\n",
       "</pre>\n"
      ],
      "text/plain": [
       "\u001b[92m────────────────────────────────────────────── \u001b[0mERA: \u001b[1;36m0\u001b[0m\u001b[92m ──────────────────────────────────────────────\u001b[0m\n"
      ]
     },
     "metadata": {},
     "output_type": "display_data"
    },
    {
     "data": {
      "application/vnd.jupyter.widget-view+json": {
       "model_id": "4482b92a1cb24310bd5b407d979e35e5",
       "version_major": 2,
       "version_minor": 0
      },
      "text/plain": [
       "Output()"
      ]
     },
     "metadata": {},
     "output_type": "display_data"
    },
    {
     "data": {
      "text/html": [
       "<pre style=\"white-space:pre;overflow-x:auto;line-height:normal;font-family:Menlo,'DejaVu Sans Mono',consolas,'Courier New',monospace\"><span style=\"color: #7fbfbf; text-decoration-color: #7fbfbf\">[01:18:39] </span>Era <span style=\"color: #008080; text-decoration-color: #008080; font-weight: bold\">0</span> took: <span style=\"color: #008080; text-decoration-color: #008080; font-weight: bold\">29</span> s                                                                         \n",
       "           Avgs over last era:                                                                      \n",
       "            <span style=\"color: #808000; text-decoration-color: #808000\">dt</span>=<span style=\"color: #008080; text-decoration-color: #008080; font-weight: bold\">0.19</span>                                                                                 \n",
       "           <span style=\"color: #808000; text-decoration-color: #808000\">loss</span>=<span style=\"color: #008080; text-decoration-color: #008080; font-weight: bold\">-0.14</span>                                                                               \n",
       "           <span style=\"color: #808000; text-decoration-color: #808000\">acc</span>=<span style=\"color: #008080; text-decoration-color: #008080; font-weight: bold\">0.87</span>                                                                                 \n",
       "           <span style=\"color: #808000; text-decoration-color: #808000\">acc_mask</span>=<span style=\"color: #008080; text-decoration-color: #008080; font-weight: bold\">0.87</span>                                                                            \n",
       "           <span style=\"color: #808000; text-decoration-color: #808000\">sumlogdet</span>=<span style=\"color: #008080; text-decoration-color: #008080; font-weight: bold\">0.011</span>                                                                          \n",
       "</pre>\n"
      ],
      "text/plain": [
       "\u001b[2;36m[01:18:39]\u001b[0m\u001b[2;36m \u001b[0mEra \u001b[1;36m0\u001b[0m took: \u001b[1;36m29\u001b[0m s                                                                         \n",
       "           Avgs over last era:                                                                      \n",
       "            \u001b[33mdt\u001b[0m=\u001b[1;36m0\u001b[0m\u001b[1;36m.19\u001b[0m                                                                                 \n",
       "           \u001b[33mloss\u001b[0m=\u001b[1;36m-0.14\u001b[0m                                                                               \n",
       "           \u001b[33macc\u001b[0m=\u001b[1;36m0\u001b[0m\u001b[1;36m.87\u001b[0m                                                                                 \n",
       "           \u001b[33macc_mask\u001b[0m=\u001b[1;36m0\u001b[0m\u001b[1;36m.87\u001b[0m                                                                            \n",
       "           \u001b[33msumlogdet\u001b[0m=\u001b[1;36m0\u001b[0m\u001b[1;36m.011\u001b[0m                                                                          \n"
      ]
     },
     "metadata": {},
     "output_type": "display_data"
    },
    {
     "data": {
      "text/html": [
       "<pre style=\"white-space:pre;overflow-x:auto;line-height:normal;font-family:Menlo,'DejaVu Sans Mono',consolas,'Courier New',monospace\"><span style=\"color: #00ff00; text-decoration-color: #00ff00\">────────────────────────────────────────────────────────────────────────────────────────────────────</span>\n",
       "</pre>\n"
      ],
      "text/plain": [
       "\u001b[92m────────────────────────────────────────────────────────────────────────────────────────────────────\u001b[0m\n"
      ]
     },
     "metadata": {},
     "output_type": "display_data"
    },
    {
     "data": {
      "text/html": [
       "<pre style=\"white-space:pre;overflow-x:auto;line-height:normal;font-family:Menlo,'DejaVu Sans Mono',consolas,'Courier New',monospace\"></pre>\n"
      ],
      "text/plain": []
     },
     "metadata": {},
     "output_type": "display_data"
    },
    {
     "data": {
      "text/html": [
       "<pre style=\"white-space:pre;overflow-x:auto;line-height:normal;font-family:Menlo,'DejaVu Sans Mono',consolas,'Courier New',monospace\"><span style=\"color: #00ff00; text-decoration-color: #00ff00\">────────────────────────────────────────────── </span>ERA: <span style=\"color: #008080; text-decoration-color: #008080; font-weight: bold\">1</span><span style=\"color: #00ff00; text-decoration-color: #00ff00\"> ──────────────────────────────────────────────</span>\n",
       "</pre>\n"
      ],
      "text/plain": [
       "\u001b[92m────────────────────────────────────────────── \u001b[0mERA: \u001b[1;36m1\u001b[0m\u001b[92m ──────────────────────────────────────────────\u001b[0m\n"
      ]
     },
     "metadata": {},
     "output_type": "display_data"
    },
    {
     "data": {
      "application/vnd.jupyter.widget-view+json": {
       "model_id": "8ae7fc7ffed04cb7a0bbd6193c65c5f3",
       "version_major": 2,
       "version_minor": 0
      },
      "text/plain": [
       "Output()"
      ]
     },
     "metadata": {},
     "output_type": "display_data"
    },
    {
     "data": {
      "text/html": [
       "<pre style=\"white-space:pre;overflow-x:auto;line-height:normal;font-family:Menlo,'DejaVu Sans Mono',consolas,'Courier New',monospace\"><span style=\"color: #7fbfbf; text-decoration-color: #7fbfbf\">[01:18:50] </span>Era <span style=\"color: #008080; text-decoration-color: #008080; font-weight: bold\">1</span> took: <span style=\"color: #008080; text-decoration-color: #008080; font-weight: bold\">11</span> s                                                                         \n",
       "           Avgs over last era:                                                                      \n",
       "            <span style=\"color: #808000; text-decoration-color: #808000\">dt</span>=<span style=\"color: #008080; text-decoration-color: #008080; font-weight: bold\">0.021</span>                                                                                \n",
       "           <span style=\"color: #808000; text-decoration-color: #808000\">loss</span>=<span style=\"color: #008080; text-decoration-color: #008080; font-weight: bold\">-47</span>                                                                                 \n",
       "           <span style=\"color: #808000; text-decoration-color: #808000\">acc</span>=<span style=\"color: #008080; text-decoration-color: #008080; font-weight: bold\">0.89</span>                                                                                 \n",
       "           <span style=\"color: #808000; text-decoration-color: #808000\">acc_mask</span>=<span style=\"color: #008080; text-decoration-color: #008080; font-weight: bold\">0.89</span>                                                                            \n",
       "           <span style=\"color: #808000; text-decoration-color: #808000\">sumlogdet</span>=<span style=\"color: #008080; text-decoration-color: #008080; font-weight: bold\">-0.053</span>                                                                         \n",
       "</pre>\n"
      ],
      "text/plain": [
       "\u001b[2;36m[01:18:50]\u001b[0m\u001b[2;36m \u001b[0mEra \u001b[1;36m1\u001b[0m took: \u001b[1;36m11\u001b[0m s                                                                         \n",
       "           Avgs over last era:                                                                      \n",
       "            \u001b[33mdt\u001b[0m=\u001b[1;36m0\u001b[0m\u001b[1;36m.021\u001b[0m                                                                                \n",
       "           \u001b[33mloss\u001b[0m=\u001b[1;36m-47\u001b[0m                                                                                 \n",
       "           \u001b[33macc\u001b[0m=\u001b[1;36m0\u001b[0m\u001b[1;36m.89\u001b[0m                                                                                 \n",
       "           \u001b[33macc_mask\u001b[0m=\u001b[1;36m0\u001b[0m\u001b[1;36m.89\u001b[0m                                                                            \n",
       "           \u001b[33msumlogdet\u001b[0m=\u001b[1;36m-0.053\u001b[0m                                                                         \n"
      ]
     },
     "metadata": {},
     "output_type": "display_data"
    },
    {
     "data": {
      "text/html": [
       "<pre style=\"white-space:pre;overflow-x:auto;line-height:normal;font-family:Menlo,'DejaVu Sans Mono',consolas,'Courier New',monospace\"><span style=\"color: #00ff00; text-decoration-color: #00ff00\">────────────────────────────────────────────────────────────────────────────────────────────────────</span>\n",
       "</pre>\n"
      ],
      "text/plain": [
       "\u001b[92m────────────────────────────────────────────────────────────────────────────────────────────────────\u001b[0m\n"
      ]
     },
     "metadata": {},
     "output_type": "display_data"
    },
    {
     "data": {
      "text/html": [
       "<pre style=\"white-space:pre;overflow-x:auto;line-height:normal;font-family:Menlo,'DejaVu Sans Mono',consolas,'Courier New',monospace\"></pre>\n"
      ],
      "text/plain": []
     },
     "metadata": {},
     "output_type": "display_data"
    },
    {
     "data": {
      "text/html": [
       "<pre style=\"white-space:pre;overflow-x:auto;line-height:normal;font-family:Menlo,'DejaVu Sans Mono',consolas,'Courier New',monospace\"><span style=\"color: #00ff00; text-decoration-color: #00ff00\">────────────────────────────────────────────── </span>ERA: <span style=\"color: #008080; text-decoration-color: #008080; font-weight: bold\">2</span><span style=\"color: #00ff00; text-decoration-color: #00ff00\"> ──────────────────────────────────────────────</span>\n",
       "</pre>\n"
      ],
      "text/plain": [
       "\u001b[92m────────────────────────────────────────────── \u001b[0mERA: \u001b[1;36m2\u001b[0m\u001b[92m ──────────────────────────────────────────────\u001b[0m\n"
      ]
     },
     "metadata": {},
     "output_type": "display_data"
    },
    {
     "data": {
      "application/vnd.jupyter.widget-view+json": {
       "model_id": "84743114797743bb9c938ba123cc0706",
       "version_major": 2,
       "version_minor": 0
      },
      "text/plain": [
       "Output()"
      ]
     },
     "metadata": {},
     "output_type": "display_data"
    },
    {
     "data": {
      "text/html": [
       "<pre style=\"white-space:pre;overflow-x:auto;line-height:normal;font-family:Menlo,'DejaVu Sans Mono',consolas,'Courier New',monospace\"><span style=\"color: #7fbfbf; text-decoration-color: #7fbfbf\">[01:19:00] </span>Era <span style=\"color: #008080; text-decoration-color: #008080; font-weight: bold\">2</span> took: <span style=\"color: #008080; text-decoration-color: #008080; font-weight: bold\">10</span> s                                                                         \n",
       "           Avgs over last era:                                                                      \n",
       "            <span style=\"color: #808000; text-decoration-color: #808000\">dt</span>=<span style=\"color: #008080; text-decoration-color: #008080; font-weight: bold\">0.02</span>                                                                                 \n",
       "           <span style=\"color: #808000; text-decoration-color: #808000\">loss</span>=<span style=\"color: #008080; text-decoration-color: #008080; font-weight: bold\">-80</span>                                                                                 \n",
       "           <span style=\"color: #808000; text-decoration-color: #808000\">acc</span>=<span style=\"color: #008080; text-decoration-color: #008080; font-weight: bold\">0.85</span>                                                                                 \n",
       "           <span style=\"color: #808000; text-decoration-color: #808000\">acc_mask</span>=<span style=\"color: #008080; text-decoration-color: #008080; font-weight: bold\">0.85</span>                                                                            \n",
       "           <span style=\"color: #808000; text-decoration-color: #808000\">sumlogdet</span>=<span style=\"color: #008080; text-decoration-color: #008080; font-weight: bold\">0.021</span>                                                                          \n",
       "</pre>\n"
      ],
      "text/plain": [
       "\u001b[2;36m[01:19:00]\u001b[0m\u001b[2;36m \u001b[0mEra \u001b[1;36m2\u001b[0m took: \u001b[1;36m10\u001b[0m s                                                                         \n",
       "           Avgs over last era:                                                                      \n",
       "            \u001b[33mdt\u001b[0m=\u001b[1;36m0\u001b[0m\u001b[1;36m.02\u001b[0m                                                                                 \n",
       "           \u001b[33mloss\u001b[0m=\u001b[1;36m-80\u001b[0m                                                                                 \n",
       "           \u001b[33macc\u001b[0m=\u001b[1;36m0\u001b[0m\u001b[1;36m.85\u001b[0m                                                                                 \n",
       "           \u001b[33macc_mask\u001b[0m=\u001b[1;36m0\u001b[0m\u001b[1;36m.85\u001b[0m                                                                            \n",
       "           \u001b[33msumlogdet\u001b[0m=\u001b[1;36m0\u001b[0m\u001b[1;36m.021\u001b[0m                                                                          \n"
      ]
     },
     "metadata": {},
     "output_type": "display_data"
    },
    {
     "data": {
      "text/html": [
       "<pre style=\"white-space:pre;overflow-x:auto;line-height:normal;font-family:Menlo,'DejaVu Sans Mono',consolas,'Courier New',monospace\"><span style=\"color: #00ff00; text-decoration-color: #00ff00\">────────────────────────────────────────────────────────────────────────────────────────────────────</span>\n",
       "</pre>\n"
      ],
      "text/plain": [
       "\u001b[92m────────────────────────────────────────────────────────────────────────────────────────────────────\u001b[0m\n"
      ]
     },
     "metadata": {},
     "output_type": "display_data"
    },
    {
     "data": {
      "text/html": [
       "<pre style=\"white-space:pre;overflow-x:auto;line-height:normal;font-family:Menlo,'DejaVu Sans Mono',consolas,'Courier New',monospace\"></pre>\n"
      ],
      "text/plain": []
     },
     "metadata": {},
     "output_type": "display_data"
    },
    {
     "data": {
      "text/html": [
       "<pre style=\"white-space:pre;overflow-x:auto;line-height:normal;font-family:Menlo,'DejaVu Sans Mono',consolas,'Courier New',monospace\"><span style=\"color: #00ff00; text-decoration-color: #00ff00\">────────────────────────────────────────────── </span>ERA: <span style=\"color: #008080; text-decoration-color: #008080; font-weight: bold\">3</span><span style=\"color: #00ff00; text-decoration-color: #00ff00\"> ──────────────────────────────────────────────</span>\n",
       "</pre>\n"
      ],
      "text/plain": [
       "\u001b[92m────────────────────────────────────────────── \u001b[0mERA: \u001b[1;36m3\u001b[0m\u001b[92m ──────────────────────────────────────────────\u001b[0m\n"
      ]
     },
     "metadata": {},
     "output_type": "display_data"
    },
    {
     "data": {
      "application/vnd.jupyter.widget-view+json": {
       "model_id": "fa53e3c353f2417eb7e480ac4d723bd0",
       "version_major": 2,
       "version_minor": 0
      },
      "text/plain": [
       "Output()"
      ]
     },
     "metadata": {},
     "output_type": "display_data"
    },
    {
     "data": {
      "text/html": [
       "<pre style=\"white-space:pre;overflow-x:auto;line-height:normal;font-family:Menlo,'DejaVu Sans Mono',consolas,'Courier New',monospace\"></pre>\n"
      ],
      "text/plain": []
     },
     "metadata": {},
     "output_type": "display_data"
    },
    {
     "data": {
      "text/html": [
       "<pre style=\"white-space:pre;overflow-x:auto;line-height:normal;font-family:Menlo,'DejaVu Sans Mono',consolas,'Courier New',monospace\"><span style=\"color: #00ff00; text-decoration-color: #00ff00\">────────────────────────────────────────────── </span>ERA: <span style=\"color: #008080; text-decoration-color: #008080; font-weight: bold\">4</span><span style=\"color: #00ff00; text-decoration-color: #00ff00\"> ──────────────────────────────────────────────</span>\n",
       "</pre>\n"
      ],
      "text/plain": [
       "\u001b[92m────────────────────────────────────────────── \u001b[0mERA: \u001b[1;36m4\u001b[0m\u001b[92m ──────────────────────────────────────────────\u001b[0m\n"
      ]
     },
     "metadata": {},
     "output_type": "display_data"
    },
    {
     "data": {
      "application/vnd.jupyter.widget-view+json": {
       "model_id": "c63dd8172d4545e7a011ad38822d2d7d",
       "version_major": 2,
       "version_minor": 0
      },
      "text/plain": [
       "Output()"
      ]
     },
     "metadata": {},
     "output_type": "display_data"
    },
    {
     "data": {
      "text/html": [
       "<pre style=\"white-space:pre;overflow-x:auto;line-height:normal;font-family:Menlo,'DejaVu Sans Mono',consolas,'Courier New',monospace\"><span style=\"color: #7fbfbf; text-decoration-color: #7fbfbf\">[01:19:22] </span>Era <span style=\"color: #008080; text-decoration-color: #008080; font-weight: bold\">4</span> took: <span style=\"color: #008080; text-decoration-color: #008080; font-weight: bold\">11</span> s                                                                         \n",
       "           Avgs over last era:                                                                      \n",
       "            <span style=\"color: #808000; text-decoration-color: #808000\">dt</span>=<span style=\"color: #008080; text-decoration-color: #008080; font-weight: bold\">0.021</span>                                                                                \n",
       "           <span style=\"color: #808000; text-decoration-color: #808000\">loss</span>=<span style=\"color: #008080; text-decoration-color: #008080; font-weight: bold\">-91</span>                                                                                 \n",
       "           <span style=\"color: #808000; text-decoration-color: #808000\">acc</span>=<span style=\"color: #008080; text-decoration-color: #008080; font-weight: bold\">0.8</span>                                                                                  \n",
       "           <span style=\"color: #808000; text-decoration-color: #808000\">acc_mask</span>=<span style=\"color: #008080; text-decoration-color: #008080; font-weight: bold\">0.8</span>                                                                             \n",
       "           <span style=\"color: #808000; text-decoration-color: #808000\">sumlogdet</span>=<span style=\"color: #008080; text-decoration-color: #008080; font-weight: bold\">-0.065</span>                                                                         \n",
       "</pre>\n"
      ],
      "text/plain": [
       "\u001b[2;36m[01:19:22]\u001b[0m\u001b[2;36m \u001b[0mEra \u001b[1;36m4\u001b[0m took: \u001b[1;36m11\u001b[0m s                                                                         \n",
       "           Avgs over last era:                                                                      \n",
       "            \u001b[33mdt\u001b[0m=\u001b[1;36m0\u001b[0m\u001b[1;36m.021\u001b[0m                                                                                \n",
       "           \u001b[33mloss\u001b[0m=\u001b[1;36m-91\u001b[0m                                                                                 \n",
       "           \u001b[33macc\u001b[0m=\u001b[1;36m0\u001b[0m\u001b[1;36m.8\u001b[0m                                                                                  \n",
       "           \u001b[33macc_mask\u001b[0m=\u001b[1;36m0\u001b[0m\u001b[1;36m.8\u001b[0m                                                                             \n",
       "           \u001b[33msumlogdet\u001b[0m=\u001b[1;36m-0.065\u001b[0m                                                                         \n"
      ]
     },
     "metadata": {},
     "output_type": "display_data"
    },
    {
     "data": {
      "text/html": [
       "<pre style=\"white-space:pre;overflow-x:auto;line-height:normal;font-family:Menlo,'DejaVu Sans Mono',consolas,'Courier New',monospace\"><span style=\"color: #00ff00; text-decoration-color: #00ff00\">────────────────────────────────────────────────────────────────────────────────────────────────────</span>\n",
       "</pre>\n"
      ],
      "text/plain": [
       "\u001b[92m────────────────────────────────────────────────────────────────────────────────────────────────────\u001b[0m\n"
      ]
     },
     "metadata": {},
     "output_type": "display_data"
    },
    {
     "data": {
      "text/html": [
       "<pre style=\"white-space:pre;overflow-x:auto;line-height:normal;font-family:Menlo,'DejaVu Sans Mono',consolas,'Courier New',monospace\"></pre>\n"
      ],
      "text/plain": []
     },
     "metadata": {},
     "output_type": "display_data"
    },
    {
     "data": {
      "text/html": [
       "<pre style=\"white-space:pre;overflow-x:auto;line-height:normal;font-family:Menlo,'DejaVu Sans Mono',consolas,'Courier New',monospace\"><span style=\"color: #00ff00; text-decoration-color: #00ff00\">────────────────────────────────────────────── </span>ERA: <span style=\"color: #008080; text-decoration-color: #008080; font-weight: bold\">5</span><span style=\"color: #00ff00; text-decoration-color: #00ff00\"> ──────────────────────────────────────────────</span>\n",
       "</pre>\n"
      ],
      "text/plain": [
       "\u001b[92m────────────────────────────────────────────── \u001b[0mERA: \u001b[1;36m5\u001b[0m\u001b[92m ──────────────────────────────────────────────\u001b[0m\n"
      ]
     },
     "metadata": {},
     "output_type": "display_data"
    },
    {
     "data": {
      "application/vnd.jupyter.widget-view+json": {
       "model_id": "5171121585d04266ae60f7dc891c0609",
       "version_major": 2,
       "version_minor": 0
      },
      "text/plain": [
       "Output()"
      ]
     },
     "metadata": {},
     "output_type": "display_data"
    },
    {
     "data": {
      "text/html": [
       "<pre style=\"white-space:pre;overflow-x:auto;line-height:normal;font-family:Menlo,'DejaVu Sans Mono',consolas,'Courier New',monospace\"><span style=\"color: #7fbfbf; text-decoration-color: #7fbfbf\">[01:19:33] </span>Era <span style=\"color: #008080; text-decoration-color: #008080; font-weight: bold\">5</span> took: <span style=\"color: #008080; text-decoration-color: #008080; font-weight: bold\">11</span> s                                                                         \n",
       "           Avgs over last era:                                                                      \n",
       "            <span style=\"color: #808000; text-decoration-color: #808000\">dt</span>=<span style=\"color: #008080; text-decoration-color: #008080; font-weight: bold\">0.021</span>                                                                                \n",
       "           <span style=\"color: #808000; text-decoration-color: #808000\">loss</span>=<span style=\"color: #008080; text-decoration-color: #008080; font-weight: bold\">-91</span>                                                                                 \n",
       "           <span style=\"color: #808000; text-decoration-color: #808000\">acc</span>=<span style=\"color: #008080; text-decoration-color: #008080; font-weight: bold\">0.81</span>                                                                                 \n",
       "           <span style=\"color: #808000; text-decoration-color: #808000\">acc_mask</span>=<span style=\"color: #008080; text-decoration-color: #008080; font-weight: bold\">0.81</span>                                                                            \n",
       "           <span style=\"color: #808000; text-decoration-color: #808000\">sumlogdet</span>=<span style=\"color: #008080; text-decoration-color: #008080; font-weight: bold\">-0.0055</span>                                                                        \n",
       "</pre>\n"
      ],
      "text/plain": [
       "\u001b[2;36m[01:19:33]\u001b[0m\u001b[2;36m \u001b[0mEra \u001b[1;36m5\u001b[0m took: \u001b[1;36m11\u001b[0m s                                                                         \n",
       "           Avgs over last era:                                                                      \n",
       "            \u001b[33mdt\u001b[0m=\u001b[1;36m0\u001b[0m\u001b[1;36m.021\u001b[0m                                                                                \n",
       "           \u001b[33mloss\u001b[0m=\u001b[1;36m-91\u001b[0m                                                                                 \n",
       "           \u001b[33macc\u001b[0m=\u001b[1;36m0\u001b[0m\u001b[1;36m.81\u001b[0m                                                                                 \n",
       "           \u001b[33macc_mask\u001b[0m=\u001b[1;36m0\u001b[0m\u001b[1;36m.81\u001b[0m                                                                            \n",
       "           \u001b[33msumlogdet\u001b[0m=\u001b[1;36m-0.0055\u001b[0m                                                                        \n"
      ]
     },
     "metadata": {},
     "output_type": "display_data"
    },
    {
     "data": {
      "text/html": [
       "<pre style=\"white-space:pre;overflow-x:auto;line-height:normal;font-family:Menlo,'DejaVu Sans Mono',consolas,'Courier New',monospace\"><span style=\"color: #00ff00; text-decoration-color: #00ff00\">────────────────────────────────────────────────────────────────────────────────────────────────────</span>\n",
       "</pre>\n"
      ],
      "text/plain": [
       "\u001b[92m────────────────────────────────────────────────────────────────────────────────────────────────────\u001b[0m\n"
      ]
     },
     "metadata": {},
     "output_type": "display_data"
    },
    {
     "data": {
      "text/html": [
       "<pre style=\"white-space:pre;overflow-x:auto;line-height:normal;font-family:Menlo,'DejaVu Sans Mono',consolas,'Courier New',monospace\"></pre>\n"
      ],
      "text/plain": []
     },
     "metadata": {},
     "output_type": "display_data"
    },
    {
     "data": {
      "text/html": [
       "<pre style=\"white-space:pre;overflow-x:auto;line-height:normal;font-family:Menlo,'DejaVu Sans Mono',consolas,'Courier New',monospace\"><span style=\"color: #00ff00; text-decoration-color: #00ff00\">────────────────────────────────────────────── </span>ERA: <span style=\"color: #008080; text-decoration-color: #008080; font-weight: bold\">6</span><span style=\"color: #00ff00; text-decoration-color: #00ff00\"> ──────────────────────────────────────────────</span>\n",
       "</pre>\n"
      ],
      "text/plain": [
       "\u001b[92m────────────────────────────────────────────── \u001b[0mERA: \u001b[1;36m6\u001b[0m\u001b[92m ──────────────────────────────────────────────\u001b[0m\n"
      ]
     },
     "metadata": {},
     "output_type": "display_data"
    },
    {
     "data": {
      "application/vnd.jupyter.widget-view+json": {
       "model_id": "e5b410ed24d547bd9d1f17694944700b",
       "version_major": 2,
       "version_minor": 0
      },
      "text/plain": [
       "Output()"
      ]
     },
     "metadata": {},
     "output_type": "display_data"
    },
    {
     "data": {
      "text/html": [
       "<pre style=\"white-space:pre;overflow-x:auto;line-height:normal;font-family:Menlo,'DejaVu Sans Mono',consolas,'Courier New',monospace\"><span style=\"color: #7fbfbf; text-decoration-color: #7fbfbf\">[01:19:44] </span>Era <span style=\"color: #008080; text-decoration-color: #008080; font-weight: bold\">6</span> took: <span style=\"color: #008080; text-decoration-color: #008080; font-weight: bold\">11</span> s                                                                         \n",
       "           Avgs over last era:                                                                      \n",
       "            <span style=\"color: #808000; text-decoration-color: #808000\">dt</span>=<span style=\"color: #008080; text-decoration-color: #008080; font-weight: bold\">0.022</span>                                                                                \n",
       "           <span style=\"color: #808000; text-decoration-color: #808000\">loss</span>=<span style=\"color: #008080; text-decoration-color: #008080; font-weight: bold\">-89</span>                                                                                 \n",
       "           <span style=\"color: #808000; text-decoration-color: #808000\">acc</span>=<span style=\"color: #008080; text-decoration-color: #008080; font-weight: bold\">0.81</span>                                                                                 \n",
       "           <span style=\"color: #808000; text-decoration-color: #808000\">acc_mask</span>=<span style=\"color: #008080; text-decoration-color: #008080; font-weight: bold\">0.81</span>                                                                            \n",
       "           <span style=\"color: #808000; text-decoration-color: #808000\">sumlogdet</span>=<span style=\"color: #008080; text-decoration-color: #008080; font-weight: bold\">-0.015</span>                                                                         \n",
       "</pre>\n"
      ],
      "text/plain": [
       "\u001b[2;36m[01:19:44]\u001b[0m\u001b[2;36m \u001b[0mEra \u001b[1;36m6\u001b[0m took: \u001b[1;36m11\u001b[0m s                                                                         \n",
       "           Avgs over last era:                                                                      \n",
       "            \u001b[33mdt\u001b[0m=\u001b[1;36m0\u001b[0m\u001b[1;36m.022\u001b[0m                                                                                \n",
       "           \u001b[33mloss\u001b[0m=\u001b[1;36m-89\u001b[0m                                                                                 \n",
       "           \u001b[33macc\u001b[0m=\u001b[1;36m0\u001b[0m\u001b[1;36m.81\u001b[0m                                                                                 \n",
       "           \u001b[33macc_mask\u001b[0m=\u001b[1;36m0\u001b[0m\u001b[1;36m.81\u001b[0m                                                                            \n",
       "           \u001b[33msumlogdet\u001b[0m=\u001b[1;36m-0.015\u001b[0m                                                                         \n"
      ]
     },
     "metadata": {},
     "output_type": "display_data"
    },
    {
     "data": {
      "text/html": [
       "<pre style=\"white-space:pre;overflow-x:auto;line-height:normal;font-family:Menlo,'DejaVu Sans Mono',consolas,'Courier New',monospace\"><span style=\"color: #00ff00; text-decoration-color: #00ff00\">────────────────────────────────────────────────────────────────────────────────────────────────────</span>\n",
       "</pre>\n"
      ],
      "text/plain": [
       "\u001b[92m────────────────────────────────────────────────────────────────────────────────────────────────────\u001b[0m\n"
      ]
     },
     "metadata": {},
     "output_type": "display_data"
    },
    {
     "data": {
      "text/html": [
       "<pre style=\"white-space:pre;overflow-x:auto;line-height:normal;font-family:Menlo,'DejaVu Sans Mono',consolas,'Courier New',monospace\"></pre>\n"
      ],
      "text/plain": []
     },
     "metadata": {},
     "output_type": "display_data"
    },
    {
     "data": {
      "text/html": [
       "<pre style=\"white-space:pre;overflow-x:auto;line-height:normal;font-family:Menlo,'DejaVu Sans Mono',consolas,'Courier New',monospace\"><span style=\"color: #00ff00; text-decoration-color: #00ff00\">────────────────────────────────────────────── </span>ERA: <span style=\"color: #008080; text-decoration-color: #008080; font-weight: bold\">7</span><span style=\"color: #00ff00; text-decoration-color: #00ff00\"> ──────────────────────────────────────────────</span>\n",
       "</pre>\n"
      ],
      "text/plain": [
       "\u001b[92m────────────────────────────────────────────── \u001b[0mERA: \u001b[1;36m7\u001b[0m\u001b[92m ──────────────────────────────────────────────\u001b[0m\n"
      ]
     },
     "metadata": {},
     "output_type": "display_data"
    },
    {
     "data": {
      "application/vnd.jupyter.widget-view+json": {
       "model_id": "46695b71e4914cd889d32ffa81cbb0a8",
       "version_major": 2,
       "version_minor": 0
      },
      "text/plain": [
       "Output()"
      ]
     },
     "metadata": {},
     "output_type": "display_data"
    },
    {
     "data": {
      "text/html": [
       "<pre style=\"white-space:pre;overflow-x:auto;line-height:normal;font-family:Menlo,'DejaVu Sans Mono',consolas,'Courier New',monospace\"><span style=\"color: #7fbfbf; text-decoration-color: #7fbfbf\">[01:19:57] </span>Era <span style=\"color: #008080; text-decoration-color: #008080; font-weight: bold\">7</span> took: <span style=\"color: #008080; text-decoration-color: #008080; font-weight: bold\">12</span> s                                                                         \n",
       "           Avgs over last era:                                                                      \n",
       "            <span style=\"color: #808000; text-decoration-color: #808000\">dt</span>=<span style=\"color: #008080; text-decoration-color: #008080; font-weight: bold\">0.024</span>                                                                                \n",
       "           <span style=\"color: #808000; text-decoration-color: #808000\">loss</span>=<span style=\"color: #008080; text-decoration-color: #008080; font-weight: bold\">-93</span>                                                                                 \n",
       "           <span style=\"color: #808000; text-decoration-color: #808000\">acc</span>=<span style=\"color: #008080; text-decoration-color: #008080; font-weight: bold\">0.8</span>                                                                                  \n",
       "           <span style=\"color: #808000; text-decoration-color: #808000\">acc_mask</span>=<span style=\"color: #008080; text-decoration-color: #008080; font-weight: bold\">0.81</span>                                                                            \n",
       "           <span style=\"color: #808000; text-decoration-color: #808000\">sumlogdet</span>=<span style=\"color: #008080; text-decoration-color: #008080; font-weight: bold\">0.026</span>                                                                          \n",
       "</pre>\n"
      ],
      "text/plain": [
       "\u001b[2;36m[01:19:57]\u001b[0m\u001b[2;36m \u001b[0mEra \u001b[1;36m7\u001b[0m took: \u001b[1;36m12\u001b[0m s                                                                         \n",
       "           Avgs over last era:                                                                      \n",
       "            \u001b[33mdt\u001b[0m=\u001b[1;36m0\u001b[0m\u001b[1;36m.024\u001b[0m                                                                                \n",
       "           \u001b[33mloss\u001b[0m=\u001b[1;36m-93\u001b[0m                                                                                 \n",
       "           \u001b[33macc\u001b[0m=\u001b[1;36m0\u001b[0m\u001b[1;36m.8\u001b[0m                                                                                  \n",
       "           \u001b[33macc_mask\u001b[0m=\u001b[1;36m0\u001b[0m\u001b[1;36m.81\u001b[0m                                                                            \n",
       "           \u001b[33msumlogdet\u001b[0m=\u001b[1;36m0\u001b[0m\u001b[1;36m.026\u001b[0m                                                                          \n"
      ]
     },
     "metadata": {},
     "output_type": "display_data"
    },
    {
     "data": {
      "text/html": [
       "<pre style=\"white-space:pre;overflow-x:auto;line-height:normal;font-family:Menlo,'DejaVu Sans Mono',consolas,'Courier New',monospace\"><span style=\"color: #00ff00; text-decoration-color: #00ff00\">────────────────────────────────────────────────────────────────────────────────────────────────────</span>\n",
       "</pre>\n"
      ],
      "text/plain": [
       "\u001b[92m────────────────────────────────────────────────────────────────────────────────────────────────────\u001b[0m\n"
      ]
     },
     "metadata": {},
     "output_type": "display_data"
    },
    {
     "data": {
      "text/html": [
       "<pre style=\"white-space:pre;overflow-x:auto;line-height:normal;font-family:Menlo,'DejaVu Sans Mono',consolas,'Courier New',monospace\"></pre>\n"
      ],
      "text/plain": []
     },
     "metadata": {},
     "output_type": "display_data"
    },
    {
     "data": {
      "text/html": [
       "<pre style=\"white-space:pre;overflow-x:auto;line-height:normal;font-family:Menlo,'DejaVu Sans Mono',consolas,'Courier New',monospace\"><span style=\"color: #00ff00; text-decoration-color: #00ff00\">────────────────────────────────────────────── </span>ERA: <span style=\"color: #008080; text-decoration-color: #008080; font-weight: bold\">8</span><span style=\"color: #00ff00; text-decoration-color: #00ff00\"> ──────────────────────────────────────────────</span>\n",
       "</pre>\n"
      ],
      "text/plain": [
       "\u001b[92m────────────────────────────────────────────── \u001b[0mERA: \u001b[1;36m8\u001b[0m\u001b[92m ──────────────────────────────────────────────\u001b[0m\n"
      ]
     },
     "metadata": {},
     "output_type": "display_data"
    },
    {
     "data": {
      "application/vnd.jupyter.widget-view+json": {
       "model_id": "e4b06eb4d11e4517bc22ed87d1920533",
       "version_major": 2,
       "version_minor": 0
      },
      "text/plain": [
       "Output()"
      ]
     },
     "metadata": {},
     "output_type": "display_data"
    },
    {
     "data": {
      "text/html": [
       "<pre style=\"white-space:pre;overflow-x:auto;line-height:normal;font-family:Menlo,'DejaVu Sans Mono',consolas,'Courier New',monospace\"><span style=\"color: #7fbfbf; text-decoration-color: #7fbfbf\">[01:20:10] </span>Era <span style=\"color: #008080; text-decoration-color: #008080; font-weight: bold\">8</span> took: <span style=\"color: #008080; text-decoration-color: #008080; font-weight: bold\">13</span> s                                                                         \n",
       "           Avgs over last era:                                                                      \n",
       "            <span style=\"color: #808000; text-decoration-color: #808000\">dt</span>=<span style=\"color: #008080; text-decoration-color: #008080; font-weight: bold\">0.025</span>                                                                                \n",
       "           <span style=\"color: #808000; text-decoration-color: #808000\">loss</span>=<span style=\"color: #008080; text-decoration-color: #008080; font-weight: bold\">-90</span>                                                                                 \n",
       "           <span style=\"color: #808000; text-decoration-color: #808000\">acc</span>=<span style=\"color: #008080; text-decoration-color: #008080; font-weight: bold\">0.8</span>                                                                                  \n",
       "           <span style=\"color: #808000; text-decoration-color: #808000\">acc_mask</span>=<span style=\"color: #008080; text-decoration-color: #008080; font-weight: bold\">0.8</span>                                                                             \n",
       "           <span style=\"color: #808000; text-decoration-color: #808000\">sumlogdet</span>=<span style=\"color: #008080; text-decoration-color: #008080; font-weight: bold\">-0.036</span>                                                                         \n",
       "</pre>\n"
      ],
      "text/plain": [
       "\u001b[2;36m[01:20:10]\u001b[0m\u001b[2;36m \u001b[0mEra \u001b[1;36m8\u001b[0m took: \u001b[1;36m13\u001b[0m s                                                                         \n",
       "           Avgs over last era:                                                                      \n",
       "            \u001b[33mdt\u001b[0m=\u001b[1;36m0\u001b[0m\u001b[1;36m.025\u001b[0m                                                                                \n",
       "           \u001b[33mloss\u001b[0m=\u001b[1;36m-90\u001b[0m                                                                                 \n",
       "           \u001b[33macc\u001b[0m=\u001b[1;36m0\u001b[0m\u001b[1;36m.8\u001b[0m                                                                                  \n",
       "           \u001b[33macc_mask\u001b[0m=\u001b[1;36m0\u001b[0m\u001b[1;36m.8\u001b[0m                                                                             \n",
       "           \u001b[33msumlogdet\u001b[0m=\u001b[1;36m-0.036\u001b[0m                                                                         \n"
      ]
     },
     "metadata": {},
     "output_type": "display_data"
    },
    {
     "data": {
      "text/html": [
       "<pre style=\"white-space:pre;overflow-x:auto;line-height:normal;font-family:Menlo,'DejaVu Sans Mono',consolas,'Courier New',monospace\"><span style=\"color: #00ff00; text-decoration-color: #00ff00\">────────────────────────────────────────────────────────────────────────────────────────────────────</span>\n",
       "</pre>\n"
      ],
      "text/plain": [
       "\u001b[92m────────────────────────────────────────────────────────────────────────────────────────────────────\u001b[0m\n"
      ]
     },
     "metadata": {},
     "output_type": "display_data"
    },
    {
     "data": {
      "text/html": [
       "<pre style=\"white-space:pre;overflow-x:auto;line-height:normal;font-family:Menlo,'DejaVu Sans Mono',consolas,'Courier New',monospace\"></pre>\n"
      ],
      "text/plain": []
     },
     "metadata": {},
     "output_type": "display_data"
    },
    {
     "data": {
      "text/html": [
       "<pre style=\"white-space:pre;overflow-x:auto;line-height:normal;font-family:Menlo,'DejaVu Sans Mono',consolas,'Courier New',monospace\"><span style=\"color: #00ff00; text-decoration-color: #00ff00\">────────────────────────────────────────────── </span>ERA: <span style=\"color: #008080; text-decoration-color: #008080; font-weight: bold\">9</span><span style=\"color: #00ff00; text-decoration-color: #00ff00\"> ──────────────────────────────────────────────</span>\n",
       "</pre>\n"
      ],
      "text/plain": [
       "\u001b[92m────────────────────────────────────────────── \u001b[0mERA: \u001b[1;36m9\u001b[0m\u001b[92m ──────────────────────────────────────────────\u001b[0m\n"
      ]
     },
     "metadata": {},
     "output_type": "display_data"
    },
    {
     "data": {
      "application/vnd.jupyter.widget-view+json": {
       "model_id": "09a2d888b371484bac747877bdd291a8",
       "version_major": 2,
       "version_minor": 0
      },
      "text/plain": [
       "Output()"
      ]
     },
     "metadata": {},
     "output_type": "display_data"
    },
    {
     "data": {
      "text/html": [
       "<pre style=\"white-space:pre;overflow-x:auto;line-height:normal;font-family:Menlo,'DejaVu Sans Mono',consolas,'Courier New',monospace\"><span style=\"color: #7fbfbf; text-decoration-color: #7fbfbf\">[01:20:21] </span>Era <span style=\"color: #008080; text-decoration-color: #008080; font-weight: bold\">9</span> took: <span style=\"color: #008080; text-decoration-color: #008080; font-weight: bold\">11</span> s                                                                         \n",
       "           Avgs over last era:                                                                      \n",
       "            <span style=\"color: #808000; text-decoration-color: #808000\">dt</span>=<span style=\"color: #008080; text-decoration-color: #008080; font-weight: bold\">0.022</span>                                                                                \n",
       "           <span style=\"color: #808000; text-decoration-color: #808000\">loss</span>=<span style=\"color: #008080; text-decoration-color: #008080; font-weight: bold\">-93</span>                                                                                 \n",
       "           <span style=\"color: #808000; text-decoration-color: #808000\">acc</span>=<span style=\"color: #008080; text-decoration-color: #008080; font-weight: bold\">0.8</span>                                                                                  \n",
       "           <span style=\"color: #808000; text-decoration-color: #808000\">acc_mask</span>=<span style=\"color: #008080; text-decoration-color: #008080; font-weight: bold\">0.81</span>                                                                            \n",
       "           <span style=\"color: #808000; text-decoration-color: #808000\">sumlogdet</span>=<span style=\"color: #008080; text-decoration-color: #008080; font-weight: bold\">0.015</span>                                                                          \n",
       "</pre>\n"
      ],
      "text/plain": [
       "\u001b[2;36m[01:20:21]\u001b[0m\u001b[2;36m \u001b[0mEra \u001b[1;36m9\u001b[0m took: \u001b[1;36m11\u001b[0m s                                                                         \n",
       "           Avgs over last era:                                                                      \n",
       "            \u001b[33mdt\u001b[0m=\u001b[1;36m0\u001b[0m\u001b[1;36m.022\u001b[0m                                                                                \n",
       "           \u001b[33mloss\u001b[0m=\u001b[1;36m-93\u001b[0m                                                                                 \n",
       "           \u001b[33macc\u001b[0m=\u001b[1;36m0\u001b[0m\u001b[1;36m.8\u001b[0m                                                                                  \n",
       "           \u001b[33macc_mask\u001b[0m=\u001b[1;36m0\u001b[0m\u001b[1;36m.81\u001b[0m                                                                            \n",
       "           \u001b[33msumlogdet\u001b[0m=\u001b[1;36m0\u001b[0m\u001b[1;36m.015\u001b[0m                                                                          \n"
      ]
     },
     "metadata": {},
     "output_type": "display_data"
    },
    {
     "data": {
      "text/html": [
       "<pre style=\"white-space:pre;overflow-x:auto;line-height:normal;font-family:Menlo,'DejaVu Sans Mono',consolas,'Courier New',monospace\"><span style=\"color: #00ff00; text-decoration-color: #00ff00\">────────────────────────────────────────────────────────────────────────────────────────────────────</span>\n",
       "</pre>\n"
      ],
      "text/plain": [
       "\u001b[92m────────────────────────────────────────────────────────────────────────────────────────────────────\u001b[0m\n"
      ]
     },
     "metadata": {},
     "output_type": "display_data"
    },
    {
     "data": {
      "text/html": [
       "<pre style=\"white-space:pre;overflow-x:auto;line-height:normal;font-family:Menlo,'DejaVu Sans Mono',consolas,'Courier New',monospace\"></pre>\n"
      ],
      "text/plain": []
     },
     "metadata": {},
     "output_type": "display_data"
    }
   ],
   "source": [
    "from src.l2hmc.trainers.tensorflow.trainer import Trainer as tfTrainer\n",
    "\n",
    "optimizer_tf_fb = tf.keras.optimizers.Adam()\n",
    "\n",
    "trainer_tf_fb = tfTrainer(steps=steps,\n",
    "                          dynamics=dynamics_tf_fb,\n",
    "                          optimizer=optimizer_tf_fb,\n",
    "                          loss_fn=loss_tf)\n",
    "\n",
    "output_tf_fb = trainer_tf_fb.train(compile=True, jit_compile=False)\n",
    "history_tf_fb = output_tf_fb['history']\n",
    "dataset_tf_fb = history_tf_fb.get_dataset()"
   ]
  },
  {
   "cell_type": "markdown",
   "id": "810f74e7",
   "metadata": {},
   "source": [
    "### Train using separate forward/backward updates (as usual)"
   ]
  },
  {
   "cell_type": "code",
   "execution_count": 18,
   "id": "b9eb9641",
   "metadata": {
    "ExecuteTime": {
     "end_time": "2022-01-26T07:24:33.596336Z",
     "start_time": "2022-01-26T07:21:40.200674Z"
    },
    "execution": {
     "iopub.execute_input": "2022-01-25T22:47:07.023897Z",
     "iopub.status.busy": "2022-01-25T22:47:07.023624Z",
     "iopub.status.idle": "2022-01-25T22:47:33.135862Z",
     "shell.execute_reply": "2022-01-25T22:47:33.134008Z",
     "shell.execute_reply.started": "2022-01-25T22:47:07.023870Z"
    },
    "run_control": {
     "marked": true
    },
    "scrolled": true,
    "tags": []
   },
   "outputs": [
    {
     "data": {
      "text/html": [
       "<pre style=\"white-space:pre;overflow-x:auto;line-height:normal;font-family:Menlo,'DejaVu Sans Mono',consolas,'Courier New',monospace\"><span style=\"color: #00ff00; text-decoration-color: #00ff00\">────────────────────────────────────────────── </span>ERA: <span style=\"color: #008080; text-decoration-color: #008080; font-weight: bold\">0</span><span style=\"color: #00ff00; text-decoration-color: #00ff00\"> ──────────────────────────────────────────────</span>\n",
       "</pre>\n"
      ],
      "text/plain": [
       "\u001b[92m────────────────────────────────────────────── \u001b[0mERA: \u001b[1;36m0\u001b[0m\u001b[92m ──────────────────────────────────────────────\u001b[0m\n"
      ]
     },
     "metadata": {},
     "output_type": "display_data"
    },
    {
     "data": {
      "application/vnd.jupyter.widget-view+json": {
       "model_id": "d0f1ad45ccb04c5d8141c31a8e3644ec",
       "version_major": 2,
       "version_minor": 0
      },
      "text/plain": [
       "Output()"
      ]
     },
     "metadata": {},
     "output_type": "display_data"
    },
    {
     "data": {
      "text/html": [
       "<pre style=\"white-space:pre;overflow-x:auto;line-height:normal;font-family:Menlo,'DejaVu Sans Mono',consolas,'Courier New',monospace\"><span style=\"color: #7fbfbf; text-decoration-color: #7fbfbf\">[01:22:20] </span>Era <span style=\"color: #008080; text-decoration-color: #008080; font-weight: bold\">0</span> took: <span style=\"color: #008080; text-decoration-color: #008080; font-weight: bold\">40</span> s                                                                         \n",
       "           Avgs over last era:                                                                      \n",
       "            <span style=\"color: #808000; text-decoration-color: #808000\">dt</span>=<span style=\"color: #008080; text-decoration-color: #008080; font-weight: bold\">0.29</span>                                                                                 \n",
       "           <span style=\"color: #808000; text-decoration-color: #808000\">loss</span>=<span style=\"color: #008080; text-decoration-color: #008080; font-weight: bold\">-43</span>                                                                                 \n",
       "           <span style=\"color: #808000; text-decoration-color: #808000\">acc</span>=<span style=\"color: #008080; text-decoration-color: #008080; font-weight: bold\">0.84</span>                                                                                 \n",
       "           <span style=\"color: #808000; text-decoration-color: #808000\">acc_mask</span>=<span style=\"color: #008080; text-decoration-color: #008080; font-weight: bold\">0.84</span>                                                                            \n",
       "           <span style=\"color: #808000; text-decoration-color: #808000\">sumlogdet</span>=<span style=\"color: #008080; text-decoration-color: #008080; font-weight: bold\">-0.0024</span>                                                                        \n",
       "           forward/<span style=\"color: #808000; text-decoration-color: #808000\">sumlogdet</span>=<span style=\"color: #008080; text-decoration-color: #008080; font-weight: bold\">-0.062</span>                                                                 \n",
       "           forward/<span style=\"color: #808000; text-decoration-color: #808000\">energy</span>=<span style=\"color: #008080; text-decoration-color: #008080; font-weight: bold\">1e+02</span>                                                                     \n",
       "           forward/<span style=\"color: #808000; text-decoration-color: #808000\">logprob</span>=<span style=\"color: #008080; text-decoration-color: #008080; font-weight: bold\">1e+02</span>                                                                    \n",
       "           forward/<span style=\"color: #808000; text-decoration-color: #808000\">acc</span>=<span style=\"color: #008080; text-decoration-color: #008080; font-weight: bold\">0.85</span>                                                                         \n",
       "           forward/<span style=\"color: #808000; text-decoration-color: #808000\">xeps</span>=<span style=\"color: #008080; text-decoration-color: #008080; font-weight: bold\">0.12</span>                                                                        \n",
       "           forward/<span style=\"color: #808000; text-decoration-color: #808000\">veps</span>=<span style=\"color: #008080; text-decoration-color: #008080; font-weight: bold\">0.11</span>                                                                        \n",
       "           backward/<span style=\"color: #808000; text-decoration-color: #808000\">sumlogdet</span>=<span style=\"color: #008080; text-decoration-color: #008080; font-weight: bold\">0.042</span>                                                                 \n",
       "           backward/<span style=\"color: #808000; text-decoration-color: #808000\">energy</span>=<span style=\"color: #008080; text-decoration-color: #008080; font-weight: bold\">1e+02</span>                                                                    \n",
       "           backward/<span style=\"color: #808000; text-decoration-color: #808000\">logprob</span>=<span style=\"color: #008080; text-decoration-color: #008080; font-weight: bold\">1e+02</span>                                                                   \n",
       "           backward/<span style=\"color: #808000; text-decoration-color: #808000\">acc</span>=<span style=\"color: #008080; text-decoration-color: #008080; font-weight: bold\">0.85</span>                                                                        \n",
       "           backward/<span style=\"color: #808000; text-decoration-color: #808000\">xeps</span>=<span style=\"color: #008080; text-decoration-color: #008080; font-weight: bold\">0.12</span>                                                                       \n",
       "           backward/<span style=\"color: #808000; text-decoration-color: #808000\">veps</span>=<span style=\"color: #008080; text-decoration-color: #008080; font-weight: bold\">0.11</span>                                                                       \n",
       "</pre>\n"
      ],
      "text/plain": [
       "\u001b[2;36m[01:22:20]\u001b[0m\u001b[2;36m \u001b[0mEra \u001b[1;36m0\u001b[0m took: \u001b[1;36m40\u001b[0m s                                                                         \n",
       "           Avgs over last era:                                                                      \n",
       "            \u001b[33mdt\u001b[0m=\u001b[1;36m0\u001b[0m\u001b[1;36m.29\u001b[0m                                                                                 \n",
       "           \u001b[33mloss\u001b[0m=\u001b[1;36m-43\u001b[0m                                                                                 \n",
       "           \u001b[33macc\u001b[0m=\u001b[1;36m0\u001b[0m\u001b[1;36m.84\u001b[0m                                                                                 \n",
       "           \u001b[33macc_mask\u001b[0m=\u001b[1;36m0\u001b[0m\u001b[1;36m.84\u001b[0m                                                                            \n",
       "           \u001b[33msumlogdet\u001b[0m=\u001b[1;36m-0.0024\u001b[0m                                                                        \n",
       "           forward/\u001b[33msumlogdet\u001b[0m=\u001b[1;36m-0.062\u001b[0m                                                                 \n",
       "           forward/\u001b[33menergy\u001b[0m=\u001b[1;36m1e\u001b[0m\u001b[1;36m+02\u001b[0m                                                                     \n",
       "           forward/\u001b[33mlogprob\u001b[0m=\u001b[1;36m1e\u001b[0m\u001b[1;36m+02\u001b[0m                                                                    \n",
       "           forward/\u001b[33macc\u001b[0m=\u001b[1;36m0\u001b[0m\u001b[1;36m.85\u001b[0m                                                                         \n",
       "           forward/\u001b[33mxeps\u001b[0m=\u001b[1;36m0\u001b[0m\u001b[1;36m.12\u001b[0m                                                                        \n",
       "           forward/\u001b[33mveps\u001b[0m=\u001b[1;36m0\u001b[0m\u001b[1;36m.11\u001b[0m                                                                        \n",
       "           backward/\u001b[33msumlogdet\u001b[0m=\u001b[1;36m0\u001b[0m\u001b[1;36m.042\u001b[0m                                                                 \n",
       "           backward/\u001b[33menergy\u001b[0m=\u001b[1;36m1e\u001b[0m\u001b[1;36m+02\u001b[0m                                                                    \n",
       "           backward/\u001b[33mlogprob\u001b[0m=\u001b[1;36m1e\u001b[0m\u001b[1;36m+02\u001b[0m                                                                   \n",
       "           backward/\u001b[33macc\u001b[0m=\u001b[1;36m0\u001b[0m\u001b[1;36m.85\u001b[0m                                                                        \n",
       "           backward/\u001b[33mxeps\u001b[0m=\u001b[1;36m0\u001b[0m\u001b[1;36m.12\u001b[0m                                                                       \n",
       "           backward/\u001b[33mveps\u001b[0m=\u001b[1;36m0\u001b[0m\u001b[1;36m.11\u001b[0m                                                                       \n"
      ]
     },
     "metadata": {},
     "output_type": "display_data"
    },
    {
     "data": {
      "text/html": [
       "<pre style=\"white-space:pre;overflow-x:auto;line-height:normal;font-family:Menlo,'DejaVu Sans Mono',consolas,'Courier New',monospace\"><span style=\"color: #00ff00; text-decoration-color: #00ff00\">────────────────────────────────────────────────────────────────────────────────────────────────────</span>\n",
       "</pre>\n"
      ],
      "text/plain": [
       "\u001b[92m────────────────────────────────────────────────────────────────────────────────────────────────────\u001b[0m\n"
      ]
     },
     "metadata": {},
     "output_type": "display_data"
    },
    {
     "data": {
      "text/html": [
       "<pre style=\"white-space:pre;overflow-x:auto;line-height:normal;font-family:Menlo,'DejaVu Sans Mono',consolas,'Courier New',monospace\"></pre>\n"
      ],
      "text/plain": []
     },
     "metadata": {},
     "output_type": "display_data"
    },
    {
     "data": {
      "text/html": [
       "<pre style=\"white-space:pre;overflow-x:auto;line-height:normal;font-family:Menlo,'DejaVu Sans Mono',consolas,'Courier New',monospace\"><span style=\"color: #00ff00; text-decoration-color: #00ff00\">────────────────────────────────────────────── </span>ERA: <span style=\"color: #008080; text-decoration-color: #008080; font-weight: bold\">1</span><span style=\"color: #00ff00; text-decoration-color: #00ff00\"> ──────────────────────────────────────────────</span>\n",
       "</pre>\n"
      ],
      "text/plain": [
       "\u001b[92m────────────────────────────────────────────── \u001b[0mERA: \u001b[1;36m1\u001b[0m\u001b[92m ──────────────────────────────────────────────\u001b[0m\n"
      ]
     },
     "metadata": {},
     "output_type": "display_data"
    },
    {
     "data": {
      "application/vnd.jupyter.widget-view+json": {
       "model_id": "0c32863b6235462bb399d3b047b2ce76",
       "version_major": 2,
       "version_minor": 0
      },
      "text/plain": [
       "Output()"
      ]
     },
     "metadata": {},
     "output_type": "display_data"
    },
    {
     "data": {
      "text/html": [
       "<pre style=\"white-space:pre;overflow-x:auto;line-height:normal;font-family:Menlo,'DejaVu Sans Mono',consolas,'Courier New',monospace\"><span style=\"color: #7fbfbf; text-decoration-color: #7fbfbf\">[01:22:35] </span>Era <span style=\"color: #008080; text-decoration-color: #008080; font-weight: bold\">1</span> took: <span style=\"color: #008080; text-decoration-color: #008080; font-weight: bold\">15</span> s                                                                         \n",
       "           Avgs over last era:                                                                      \n",
       "            <span style=\"color: #808000; text-decoration-color: #808000\">dt</span>=<span style=\"color: #008080; text-decoration-color: #008080; font-weight: bold\">0.027</span>                                                                                \n",
       "           <span style=\"color: #808000; text-decoration-color: #808000\">loss</span>=<span style=\"color: #008080; text-decoration-color: #008080; font-weight: bold\">-1e+02</span>                                                                              \n",
       "           <span style=\"color: #808000; text-decoration-color: #808000\">acc</span>=<span style=\"color: #008080; text-decoration-color: #008080; font-weight: bold\">0.87</span>                                                                                 \n",
       "           <span style=\"color: #808000; text-decoration-color: #808000\">acc_mask</span>=<span style=\"color: #008080; text-decoration-color: #008080; font-weight: bold\">0.87</span>                                                                            \n",
       "           <span style=\"color: #808000; text-decoration-color: #808000\">sumlogdet</span>=<span style=\"color: #008080; text-decoration-color: #008080; font-weight: bold\">-0.00021</span>                                                                       \n",
       "           forward/<span style=\"color: #808000; text-decoration-color: #808000\">sumlogdet</span>=<span style=\"color: #008080; text-decoration-color: #008080; font-weight: bold\">-0.073</span>                                                                 \n",
       "           forward/<span style=\"color: #808000; text-decoration-color: #808000\">energy</span>=<span style=\"color: #008080; text-decoration-color: #008080; font-weight: bold\">1e+02</span>                                                                     \n",
       "           forward/<span style=\"color: #808000; text-decoration-color: #808000\">logprob</span>=<span style=\"color: #008080; text-decoration-color: #008080; font-weight: bold\">1e+02</span>                                                                    \n",
       "           forward/<span style=\"color: #808000; text-decoration-color: #808000\">acc</span>=<span style=\"color: #008080; text-decoration-color: #008080; font-weight: bold\">0.87</span>                                                                         \n",
       "           forward/<span style=\"color: #808000; text-decoration-color: #808000\">xeps</span>=<span style=\"color: #008080; text-decoration-color: #008080; font-weight: bold\">0.24</span>                                                                        \n",
       "           forward/<span style=\"color: #808000; text-decoration-color: #808000\">veps</span>=<span style=\"color: #008080; text-decoration-color: #008080; font-weight: bold\">0.24</span>                                                                        \n",
       "           backward/<span style=\"color: #808000; text-decoration-color: #808000\">sumlogdet</span>=<span style=\"color: #008080; text-decoration-color: #008080; font-weight: bold\">0.064</span>                                                                 \n",
       "           backward/<span style=\"color: #808000; text-decoration-color: #808000\">energy</span>=<span style=\"color: #008080; text-decoration-color: #008080; font-weight: bold\">1e+02</span>                                                                    \n",
       "           backward/<span style=\"color: #808000; text-decoration-color: #808000\">logprob</span>=<span style=\"color: #008080; text-decoration-color: #008080; font-weight: bold\">1e+02</span>                                                                   \n",
       "           backward/<span style=\"color: #808000; text-decoration-color: #808000\">acc</span>=<span style=\"color: #008080; text-decoration-color: #008080; font-weight: bold\">0.87</span>                                                                        \n",
       "           backward/<span style=\"color: #808000; text-decoration-color: #808000\">xeps</span>=<span style=\"color: #008080; text-decoration-color: #008080; font-weight: bold\">0.24</span>                                                                       \n",
       "           backward/<span style=\"color: #808000; text-decoration-color: #808000\">veps</span>=<span style=\"color: #008080; text-decoration-color: #008080; font-weight: bold\">0.24</span>                                                                       \n",
       "</pre>\n"
      ],
      "text/plain": [
       "\u001b[2;36m[01:22:35]\u001b[0m\u001b[2;36m \u001b[0mEra \u001b[1;36m1\u001b[0m took: \u001b[1;36m15\u001b[0m s                                                                         \n",
       "           Avgs over last era:                                                                      \n",
       "            \u001b[33mdt\u001b[0m=\u001b[1;36m0\u001b[0m\u001b[1;36m.027\u001b[0m                                                                                \n",
       "           \u001b[33mloss\u001b[0m=\u001b[1;36m-1e+02\u001b[0m                                                                              \n",
       "           \u001b[33macc\u001b[0m=\u001b[1;36m0\u001b[0m\u001b[1;36m.87\u001b[0m                                                                                 \n",
       "           \u001b[33macc_mask\u001b[0m=\u001b[1;36m0\u001b[0m\u001b[1;36m.87\u001b[0m                                                                            \n",
       "           \u001b[33msumlogdet\u001b[0m=\u001b[1;36m-0.00021\u001b[0m                                                                       \n",
       "           forward/\u001b[33msumlogdet\u001b[0m=\u001b[1;36m-0.073\u001b[0m                                                                 \n",
       "           forward/\u001b[33menergy\u001b[0m=\u001b[1;36m1e\u001b[0m\u001b[1;36m+02\u001b[0m                                                                     \n",
       "           forward/\u001b[33mlogprob\u001b[0m=\u001b[1;36m1e\u001b[0m\u001b[1;36m+02\u001b[0m                                                                    \n",
       "           forward/\u001b[33macc\u001b[0m=\u001b[1;36m0\u001b[0m\u001b[1;36m.87\u001b[0m                                                                         \n",
       "           forward/\u001b[33mxeps\u001b[0m=\u001b[1;36m0\u001b[0m\u001b[1;36m.24\u001b[0m                                                                        \n",
       "           forward/\u001b[33mveps\u001b[0m=\u001b[1;36m0\u001b[0m\u001b[1;36m.24\u001b[0m                                                                        \n",
       "           backward/\u001b[33msumlogdet\u001b[0m=\u001b[1;36m0\u001b[0m\u001b[1;36m.064\u001b[0m                                                                 \n",
       "           backward/\u001b[33menergy\u001b[0m=\u001b[1;36m1e\u001b[0m\u001b[1;36m+02\u001b[0m                                                                    \n",
       "           backward/\u001b[33mlogprob\u001b[0m=\u001b[1;36m1e\u001b[0m\u001b[1;36m+02\u001b[0m                                                                   \n",
       "           backward/\u001b[33macc\u001b[0m=\u001b[1;36m0\u001b[0m\u001b[1;36m.87\u001b[0m                                                                        \n",
       "           backward/\u001b[33mxeps\u001b[0m=\u001b[1;36m0\u001b[0m\u001b[1;36m.24\u001b[0m                                                                       \n",
       "           backward/\u001b[33mveps\u001b[0m=\u001b[1;36m0\u001b[0m\u001b[1;36m.24\u001b[0m                                                                       \n"
      ]
     },
     "metadata": {},
     "output_type": "display_data"
    },
    {
     "data": {
      "text/html": [
       "<pre style=\"white-space:pre;overflow-x:auto;line-height:normal;font-family:Menlo,'DejaVu Sans Mono',consolas,'Courier New',monospace\"><span style=\"color: #00ff00; text-decoration-color: #00ff00\">────────────────────────────────────────────────────────────────────────────────────────────────────</span>\n",
       "</pre>\n"
      ],
      "text/plain": [
       "\u001b[92m────────────────────────────────────────────────────────────────────────────────────────────────────\u001b[0m\n"
      ]
     },
     "metadata": {},
     "output_type": "display_data"
    },
    {
     "data": {
      "text/html": [
       "<pre style=\"white-space:pre;overflow-x:auto;line-height:normal;font-family:Menlo,'DejaVu Sans Mono',consolas,'Courier New',monospace\"></pre>\n"
      ],
      "text/plain": []
     },
     "metadata": {},
     "output_type": "display_data"
    },
    {
     "data": {
      "text/html": [
       "<pre style=\"white-space:pre;overflow-x:auto;line-height:normal;font-family:Menlo,'DejaVu Sans Mono',consolas,'Courier New',monospace\"><span style=\"color: #00ff00; text-decoration-color: #00ff00\">────────────────────────────────────────────── </span>ERA: <span style=\"color: #008080; text-decoration-color: #008080; font-weight: bold\">2</span><span style=\"color: #00ff00; text-decoration-color: #00ff00\"> ──────────────────────────────────────────────</span>\n",
       "</pre>\n"
      ],
      "text/plain": [
       "\u001b[92m────────────────────────────────────────────── \u001b[0mERA: \u001b[1;36m2\u001b[0m\u001b[92m ──────────────────────────────────────────────\u001b[0m\n"
      ]
     },
     "metadata": {},
     "output_type": "display_data"
    },
    {
     "data": {
      "application/vnd.jupyter.widget-view+json": {
       "model_id": "b15f586566a6436c971e2da036045441",
       "version_major": 2,
       "version_minor": 0
      },
      "text/plain": [
       "Output()"
      ]
     },
     "metadata": {},
     "output_type": "display_data"
    },
    {
     "data": {
      "text/html": [
       "<pre style=\"white-space:pre;overflow-x:auto;line-height:normal;font-family:Menlo,'DejaVu Sans Mono',consolas,'Courier New',monospace\"><span style=\"color: #7fbfbf; text-decoration-color: #7fbfbf\">[01:22:50] </span>Era <span style=\"color: #008080; text-decoration-color: #008080; font-weight: bold\">2</span> took: <span style=\"color: #008080; text-decoration-color: #008080; font-weight: bold\">15</span> s                                                                         \n",
       "           Avgs over last era:                                                                      \n",
       "            <span style=\"color: #808000; text-decoration-color: #808000\">dt</span>=<span style=\"color: #008080; text-decoration-color: #008080; font-weight: bold\">0.031</span>                                                                                \n",
       "           <span style=\"color: #808000; text-decoration-color: #808000\">loss</span>=<span style=\"color: #008080; text-decoration-color: #008080; font-weight: bold\">-1.2e+02</span>                                                                            \n",
       "           <span style=\"color: #808000; text-decoration-color: #808000\">acc</span>=<span style=\"color: #008080; text-decoration-color: #008080; font-weight: bold\">0.85</span>                                                                                 \n",
       "           <span style=\"color: #808000; text-decoration-color: #808000\">acc_mask</span>=<span style=\"color: #008080; text-decoration-color: #008080; font-weight: bold\">0.84</span>                                                                            \n",
       "           <span style=\"color: #808000; text-decoration-color: #808000\">sumlogdet</span>=<span style=\"color: #008080; text-decoration-color: #008080; font-weight: bold\">-0.0019</span>                                                                        \n",
       "           forward/<span style=\"color: #808000; text-decoration-color: #808000\">sumlogdet</span>=<span style=\"color: #008080; text-decoration-color: #008080; font-weight: bold\">0.0083</span>                                                                 \n",
       "           forward/<span style=\"color: #808000; text-decoration-color: #808000\">energy</span>=<span style=\"color: #008080; text-decoration-color: #008080; font-weight: bold\">99</span>                                                                        \n",
       "           forward/<span style=\"color: #808000; text-decoration-color: #808000\">logprob</span>=<span style=\"color: #008080; text-decoration-color: #008080; font-weight: bold\">99</span>                                                                       \n",
       "           forward/<span style=\"color: #808000; text-decoration-color: #808000\">acc</span>=<span style=\"color: #008080; text-decoration-color: #008080; font-weight: bold\">0.84</span>                                                                         \n",
       "           forward/<span style=\"color: #808000; text-decoration-color: #808000\">xeps</span>=<span style=\"color: #008080; text-decoration-color: #008080; font-weight: bold\">0.3</span>                                                                         \n",
       "           forward/<span style=\"color: #808000; text-decoration-color: #808000\">veps</span>=<span style=\"color: #008080; text-decoration-color: #008080; font-weight: bold\">0.3</span>                                                                         \n",
       "           backward/<span style=\"color: #808000; text-decoration-color: #808000\">sumlogdet</span>=<span style=\"color: #008080; text-decoration-color: #008080; font-weight: bold\">-0.02</span>                                                                 \n",
       "           backward/<span style=\"color: #808000; text-decoration-color: #808000\">energy</span>=<span style=\"color: #008080; text-decoration-color: #008080; font-weight: bold\">1e+02</span>                                                                    \n",
       "           backward/<span style=\"color: #808000; text-decoration-color: #808000\">logprob</span>=<span style=\"color: #008080; text-decoration-color: #008080; font-weight: bold\">1e+02</span>                                                                   \n",
       "           backward/<span style=\"color: #808000; text-decoration-color: #808000\">acc</span>=<span style=\"color: #008080; text-decoration-color: #008080; font-weight: bold\">0.84</span>                                                                        \n",
       "           backward/<span style=\"color: #808000; text-decoration-color: #808000\">xeps</span>=<span style=\"color: #008080; text-decoration-color: #008080; font-weight: bold\">0.3</span>                                                                        \n",
       "           backward/<span style=\"color: #808000; text-decoration-color: #808000\">veps</span>=<span style=\"color: #008080; text-decoration-color: #008080; font-weight: bold\">0.3</span>                                                                        \n",
       "</pre>\n"
      ],
      "text/plain": [
       "\u001b[2;36m[01:22:50]\u001b[0m\u001b[2;36m \u001b[0mEra \u001b[1;36m2\u001b[0m took: \u001b[1;36m15\u001b[0m s                                                                         \n",
       "           Avgs over last era:                                                                      \n",
       "            \u001b[33mdt\u001b[0m=\u001b[1;36m0\u001b[0m\u001b[1;36m.031\u001b[0m                                                                                \n",
       "           \u001b[33mloss\u001b[0m=\u001b[1;36m-1.2e+02\u001b[0m                                                                            \n",
       "           \u001b[33macc\u001b[0m=\u001b[1;36m0\u001b[0m\u001b[1;36m.85\u001b[0m                                                                                 \n",
       "           \u001b[33macc_mask\u001b[0m=\u001b[1;36m0\u001b[0m\u001b[1;36m.84\u001b[0m                                                                            \n",
       "           \u001b[33msumlogdet\u001b[0m=\u001b[1;36m-0.0019\u001b[0m                                                                        \n",
       "           forward/\u001b[33msumlogdet\u001b[0m=\u001b[1;36m0\u001b[0m\u001b[1;36m.0083\u001b[0m                                                                 \n",
       "           forward/\u001b[33menergy\u001b[0m=\u001b[1;36m99\u001b[0m                                                                        \n",
       "           forward/\u001b[33mlogprob\u001b[0m=\u001b[1;36m99\u001b[0m                                                                       \n",
       "           forward/\u001b[33macc\u001b[0m=\u001b[1;36m0\u001b[0m\u001b[1;36m.84\u001b[0m                                                                         \n",
       "           forward/\u001b[33mxeps\u001b[0m=\u001b[1;36m0\u001b[0m\u001b[1;36m.3\u001b[0m                                                                         \n",
       "           forward/\u001b[33mveps\u001b[0m=\u001b[1;36m0\u001b[0m\u001b[1;36m.3\u001b[0m                                                                         \n",
       "           backward/\u001b[33msumlogdet\u001b[0m=\u001b[1;36m-0.02\u001b[0m                                                                 \n",
       "           backward/\u001b[33menergy\u001b[0m=\u001b[1;36m1e\u001b[0m\u001b[1;36m+02\u001b[0m                                                                    \n",
       "           backward/\u001b[33mlogprob\u001b[0m=\u001b[1;36m1e\u001b[0m\u001b[1;36m+02\u001b[0m                                                                   \n",
       "           backward/\u001b[33macc\u001b[0m=\u001b[1;36m0\u001b[0m\u001b[1;36m.84\u001b[0m                                                                        \n",
       "           backward/\u001b[33mxeps\u001b[0m=\u001b[1;36m0\u001b[0m\u001b[1;36m.3\u001b[0m                                                                        \n",
       "           backward/\u001b[33mveps\u001b[0m=\u001b[1;36m0\u001b[0m\u001b[1;36m.3\u001b[0m                                                                        \n"
      ]
     },
     "metadata": {},
     "output_type": "display_data"
    },
    {
     "data": {
      "text/html": [
       "<pre style=\"white-space:pre;overflow-x:auto;line-height:normal;font-family:Menlo,'DejaVu Sans Mono',consolas,'Courier New',monospace\"><span style=\"color: #00ff00; text-decoration-color: #00ff00\">────────────────────────────────────────────────────────────────────────────────────────────────────</span>\n",
       "</pre>\n"
      ],
      "text/plain": [
       "\u001b[92m────────────────────────────────────────────────────────────────────────────────────────────────────\u001b[0m\n"
      ]
     },
     "metadata": {},
     "output_type": "display_data"
    },
    {
     "data": {
      "text/html": [
       "<pre style=\"white-space:pre;overflow-x:auto;line-height:normal;font-family:Menlo,'DejaVu Sans Mono',consolas,'Courier New',monospace\"></pre>\n"
      ],
      "text/plain": []
     },
     "metadata": {},
     "output_type": "display_data"
    },
    {
     "data": {
      "text/html": [
       "<pre style=\"white-space:pre;overflow-x:auto;line-height:normal;font-family:Menlo,'DejaVu Sans Mono',consolas,'Courier New',monospace\"><span style=\"color: #00ff00; text-decoration-color: #00ff00\">────────────────────────────────────────────── </span>ERA: <span style=\"color: #008080; text-decoration-color: #008080; font-weight: bold\">3</span><span style=\"color: #00ff00; text-decoration-color: #00ff00\"> ──────────────────────────────────────────────</span>\n",
       "</pre>\n"
      ],
      "text/plain": [
       "\u001b[92m────────────────────────────────────────────── \u001b[0mERA: \u001b[1;36m3\u001b[0m\u001b[92m ──────────────────────────────────────────────\u001b[0m\n"
      ]
     },
     "metadata": {},
     "output_type": "display_data"
    },
    {
     "data": {
      "application/vnd.jupyter.widget-view+json": {
       "model_id": "63dc0b7d0a6e45b8af42df3342fdb8a1",
       "version_major": 2,
       "version_minor": 0
      },
      "text/plain": [
       "Output()"
      ]
     },
     "metadata": {},
     "output_type": "display_data"
    },
    {
     "data": {
      "text/html": [
       "<pre style=\"white-space:pre;overflow-x:auto;line-height:normal;font-family:Menlo,'DejaVu Sans Mono',consolas,'Courier New',monospace\"><span style=\"color: #7fbfbf; text-decoration-color: #7fbfbf\">[01:23:04] </span>Era <span style=\"color: #008080; text-decoration-color: #008080; font-weight: bold\">3</span> took: <span style=\"color: #008080; text-decoration-color: #008080; font-weight: bold\">14</span> s                                                                         \n",
       "           Avgs over last era:                                                                      \n",
       "            <span style=\"color: #808000; text-decoration-color: #808000\">dt</span>=<span style=\"color: #008080; text-decoration-color: #008080; font-weight: bold\">0.025</span>                                                                                \n",
       "           <span style=\"color: #808000; text-decoration-color: #808000\">loss</span>=<span style=\"color: #008080; text-decoration-color: #008080; font-weight: bold\">-1.3e+02</span>                                                                            \n",
       "           <span style=\"color: #808000; text-decoration-color: #808000\">acc</span>=<span style=\"color: #008080; text-decoration-color: #008080; font-weight: bold\">0.84</span>                                                                                 \n",
       "           <span style=\"color: #808000; text-decoration-color: #808000\">acc_mask</span>=<span style=\"color: #008080; text-decoration-color: #008080; font-weight: bold\">0.83</span>                                                                            \n",
       "           <span style=\"color: #808000; text-decoration-color: #808000\">sumlogdet</span>=<span style=\"color: #008080; text-decoration-color: #008080; font-weight: bold\">0.0031</span>                                                                         \n",
       "           forward/<span style=\"color: #808000; text-decoration-color: #808000\">sumlogdet</span>=<span style=\"color: #008080; text-decoration-color: #008080; font-weight: bold\">0.077</span>                                                                  \n",
       "           forward/<span style=\"color: #808000; text-decoration-color: #808000\">energy</span>=<span style=\"color: #008080; text-decoration-color: #008080; font-weight: bold\">99</span>                                                                        \n",
       "           forward/<span style=\"color: #808000; text-decoration-color: #808000\">logprob</span>=<span style=\"color: #008080; text-decoration-color: #008080; font-weight: bold\">99</span>                                                                       \n",
       "           forward/<span style=\"color: #808000; text-decoration-color: #808000\">acc</span>=<span style=\"color: #008080; text-decoration-color: #008080; font-weight: bold\">0.83</span>                                                                         \n",
       "           forward/<span style=\"color: #808000; text-decoration-color: #808000\">xeps</span>=<span style=\"color: #008080; text-decoration-color: #008080; font-weight: bold\">0.34</span>                                                                        \n",
       "           forward/<span style=\"color: #808000; text-decoration-color: #808000\">veps</span>=<span style=\"color: #008080; text-decoration-color: #008080; font-weight: bold\">0.34</span>                                                                        \n",
       "           backward/<span style=\"color: #808000; text-decoration-color: #808000\">sumlogdet</span>=<span style=\"color: #008080; text-decoration-color: #008080; font-weight: bold\">-0.088</span>                                                                \n",
       "           backward/<span style=\"color: #808000; text-decoration-color: #808000\">energy</span>=<span style=\"color: #008080; text-decoration-color: #008080; font-weight: bold\">99</span>                                                                       \n",
       "           backward/<span style=\"color: #808000; text-decoration-color: #808000\">logprob</span>=<span style=\"color: #008080; text-decoration-color: #008080; font-weight: bold\">99</span>                                                                      \n",
       "           backward/<span style=\"color: #808000; text-decoration-color: #808000\">acc</span>=<span style=\"color: #008080; text-decoration-color: #008080; font-weight: bold\">0.83</span>                                                                        \n",
       "           backward/<span style=\"color: #808000; text-decoration-color: #808000\">xeps</span>=<span style=\"color: #008080; text-decoration-color: #008080; font-weight: bold\">0.34</span>                                                                       \n",
       "           backward/<span style=\"color: #808000; text-decoration-color: #808000\">veps</span>=<span style=\"color: #008080; text-decoration-color: #008080; font-weight: bold\">0.34</span>                                                                       \n",
       "</pre>\n"
      ],
      "text/plain": [
       "\u001b[2;36m[01:23:04]\u001b[0m\u001b[2;36m \u001b[0mEra \u001b[1;36m3\u001b[0m took: \u001b[1;36m14\u001b[0m s                                                                         \n",
       "           Avgs over last era:                                                                      \n",
       "            \u001b[33mdt\u001b[0m=\u001b[1;36m0\u001b[0m\u001b[1;36m.025\u001b[0m                                                                                \n",
       "           \u001b[33mloss\u001b[0m=\u001b[1;36m-1.3e+02\u001b[0m                                                                            \n",
       "           \u001b[33macc\u001b[0m=\u001b[1;36m0\u001b[0m\u001b[1;36m.84\u001b[0m                                                                                 \n",
       "           \u001b[33macc_mask\u001b[0m=\u001b[1;36m0\u001b[0m\u001b[1;36m.83\u001b[0m                                                                            \n",
       "           \u001b[33msumlogdet\u001b[0m=\u001b[1;36m0\u001b[0m\u001b[1;36m.0031\u001b[0m                                                                         \n",
       "           forward/\u001b[33msumlogdet\u001b[0m=\u001b[1;36m0\u001b[0m\u001b[1;36m.077\u001b[0m                                                                  \n",
       "           forward/\u001b[33menergy\u001b[0m=\u001b[1;36m99\u001b[0m                                                                        \n",
       "           forward/\u001b[33mlogprob\u001b[0m=\u001b[1;36m99\u001b[0m                                                                       \n",
       "           forward/\u001b[33macc\u001b[0m=\u001b[1;36m0\u001b[0m\u001b[1;36m.83\u001b[0m                                                                         \n",
       "           forward/\u001b[33mxeps\u001b[0m=\u001b[1;36m0\u001b[0m\u001b[1;36m.34\u001b[0m                                                                        \n",
       "           forward/\u001b[33mveps\u001b[0m=\u001b[1;36m0\u001b[0m\u001b[1;36m.34\u001b[0m                                                                        \n",
       "           backward/\u001b[33msumlogdet\u001b[0m=\u001b[1;36m-0.088\u001b[0m                                                                \n",
       "           backward/\u001b[33menergy\u001b[0m=\u001b[1;36m99\u001b[0m                                                                       \n",
       "           backward/\u001b[33mlogprob\u001b[0m=\u001b[1;36m99\u001b[0m                                                                      \n",
       "           backward/\u001b[33macc\u001b[0m=\u001b[1;36m0\u001b[0m\u001b[1;36m.83\u001b[0m                                                                        \n",
       "           backward/\u001b[33mxeps\u001b[0m=\u001b[1;36m0\u001b[0m\u001b[1;36m.34\u001b[0m                                                                       \n",
       "           backward/\u001b[33mveps\u001b[0m=\u001b[1;36m0\u001b[0m\u001b[1;36m.34\u001b[0m                                                                       \n"
      ]
     },
     "metadata": {},
     "output_type": "display_data"
    },
    {
     "data": {
      "text/html": [
       "<pre style=\"white-space:pre;overflow-x:auto;line-height:normal;font-family:Menlo,'DejaVu Sans Mono',consolas,'Courier New',monospace\"><span style=\"color: #00ff00; text-decoration-color: #00ff00\">────────────────────────────────────────────────────────────────────────────────────────────────────</span>\n",
       "</pre>\n"
      ],
      "text/plain": [
       "\u001b[92m────────────────────────────────────────────────────────────────────────────────────────────────────\u001b[0m\n"
      ]
     },
     "metadata": {},
     "output_type": "display_data"
    },
    {
     "data": {
      "text/html": [
       "<pre style=\"white-space:pre;overflow-x:auto;line-height:normal;font-family:Menlo,'DejaVu Sans Mono',consolas,'Courier New',monospace\"></pre>\n"
      ],
      "text/plain": []
     },
     "metadata": {},
     "output_type": "display_data"
    },
    {
     "data": {
      "text/html": [
       "<pre style=\"white-space:pre;overflow-x:auto;line-height:normal;font-family:Menlo,'DejaVu Sans Mono',consolas,'Courier New',monospace\"><span style=\"color: #00ff00; text-decoration-color: #00ff00\">────────────────────────────────────────────── </span>ERA: <span style=\"color: #008080; text-decoration-color: #008080; font-weight: bold\">4</span><span style=\"color: #00ff00; text-decoration-color: #00ff00\"> ──────────────────────────────────────────────</span>\n",
       "</pre>\n"
      ],
      "text/plain": [
       "\u001b[92m────────────────────────────────────────────── \u001b[0mERA: \u001b[1;36m4\u001b[0m\u001b[92m ──────────────────────────────────────────────\u001b[0m\n"
      ]
     },
     "metadata": {},
     "output_type": "display_data"
    },
    {
     "data": {
      "application/vnd.jupyter.widget-view+json": {
       "model_id": "d1b99a48e3504372a2302d1e43be49ee",
       "version_major": 2,
       "version_minor": 0
      },
      "text/plain": [
       "Output()"
      ]
     },
     "metadata": {},
     "output_type": "display_data"
    },
    {
     "data": {
      "text/html": [
       "<pre style=\"white-space:pre;overflow-x:auto;line-height:normal;font-family:Menlo,'DejaVu Sans Mono',consolas,'Courier New',monospace\"><span style=\"color: #7fbfbf; text-decoration-color: #7fbfbf\">[01:23:19] </span>Era <span style=\"color: #008080; text-decoration-color: #008080; font-weight: bold\">4</span> took: <span style=\"color: #008080; text-decoration-color: #008080; font-weight: bold\">15</span> s                                                                         \n",
       "           Avgs over last era:                                                                      \n",
       "            <span style=\"color: #808000; text-decoration-color: #808000\">dt</span>=<span style=\"color: #008080; text-decoration-color: #008080; font-weight: bold\">0.027</span>                                                                                \n",
       "           <span style=\"color: #808000; text-decoration-color: #808000\">loss</span>=<span style=\"color: #008080; text-decoration-color: #008080; font-weight: bold\">-1.4e+02</span>                                                                            \n",
       "           <span style=\"color: #808000; text-decoration-color: #808000\">acc</span>=<span style=\"color: #008080; text-decoration-color: #008080; font-weight: bold\">0.83</span>                                                                                 \n",
       "           <span style=\"color: #808000; text-decoration-color: #808000\">acc_mask</span>=<span style=\"color: #008080; text-decoration-color: #008080; font-weight: bold\">0.83</span>                                                                            \n",
       "           <span style=\"color: #808000; text-decoration-color: #808000\">sumlogdet</span>=<span style=\"color: #008080; text-decoration-color: #008080; font-weight: bold\">-0.0013</span>                                                                        \n",
       "           forward/<span style=\"color: #808000; text-decoration-color: #808000\">sumlogdet</span>=<span style=\"color: #008080; text-decoration-color: #008080; font-weight: bold\">0.09</span>                                                                   \n",
       "           forward/<span style=\"color: #808000; text-decoration-color: #808000\">energy</span>=<span style=\"color: #008080; text-decoration-color: #008080; font-weight: bold\">1e+02</span>                                                                     \n",
       "           forward/<span style=\"color: #808000; text-decoration-color: #808000\">logprob</span>=<span style=\"color: #008080; text-decoration-color: #008080; font-weight: bold\">1e+02</span>                                                                    \n",
       "           forward/<span style=\"color: #808000; text-decoration-color: #808000\">acc</span>=<span style=\"color: #008080; text-decoration-color: #008080; font-weight: bold\">0.82</span>                                                                         \n",
       "           forward/<span style=\"color: #808000; text-decoration-color: #808000\">xeps</span>=<span style=\"color: #008080; text-decoration-color: #008080; font-weight: bold\">0.35</span>                                                                        \n",
       "           forward/<span style=\"color: #808000; text-decoration-color: #808000\">veps</span>=<span style=\"color: #008080; text-decoration-color: #008080; font-weight: bold\">0.35</span>                                                                        \n",
       "           backward/<span style=\"color: #808000; text-decoration-color: #808000\">sumlogdet</span>=<span style=\"color: #008080; text-decoration-color: #008080; font-weight: bold\">-0.1</span>                                                                  \n",
       "           backward/<span style=\"color: #808000; text-decoration-color: #808000\">energy</span>=<span style=\"color: #008080; text-decoration-color: #008080; font-weight: bold\">1e+02</span>                                                                    \n",
       "           backward/<span style=\"color: #808000; text-decoration-color: #808000\">logprob</span>=<span style=\"color: #008080; text-decoration-color: #008080; font-weight: bold\">1e+02</span>                                                                   \n",
       "           backward/<span style=\"color: #808000; text-decoration-color: #808000\">acc</span>=<span style=\"color: #008080; text-decoration-color: #008080; font-weight: bold\">0.83</span>                                                                        \n",
       "           backward/<span style=\"color: #808000; text-decoration-color: #808000\">xeps</span>=<span style=\"color: #008080; text-decoration-color: #008080; font-weight: bold\">0.35</span>                                                                       \n",
       "           backward/<span style=\"color: #808000; text-decoration-color: #808000\">veps</span>=<span style=\"color: #008080; text-decoration-color: #008080; font-weight: bold\">0.35</span>                                                                       \n",
       "</pre>\n"
      ],
      "text/plain": [
       "\u001b[2;36m[01:23:19]\u001b[0m\u001b[2;36m \u001b[0mEra \u001b[1;36m4\u001b[0m took: \u001b[1;36m15\u001b[0m s                                                                         \n",
       "           Avgs over last era:                                                                      \n",
       "            \u001b[33mdt\u001b[0m=\u001b[1;36m0\u001b[0m\u001b[1;36m.027\u001b[0m                                                                                \n",
       "           \u001b[33mloss\u001b[0m=\u001b[1;36m-1.4e+02\u001b[0m                                                                            \n",
       "           \u001b[33macc\u001b[0m=\u001b[1;36m0\u001b[0m\u001b[1;36m.83\u001b[0m                                                                                 \n",
       "           \u001b[33macc_mask\u001b[0m=\u001b[1;36m0\u001b[0m\u001b[1;36m.83\u001b[0m                                                                            \n",
       "           \u001b[33msumlogdet\u001b[0m=\u001b[1;36m-0.0013\u001b[0m                                                                        \n",
       "           forward/\u001b[33msumlogdet\u001b[0m=\u001b[1;36m0\u001b[0m\u001b[1;36m.09\u001b[0m                                                                   \n",
       "           forward/\u001b[33menergy\u001b[0m=\u001b[1;36m1e\u001b[0m\u001b[1;36m+02\u001b[0m                                                                     \n",
       "           forward/\u001b[33mlogprob\u001b[0m=\u001b[1;36m1e\u001b[0m\u001b[1;36m+02\u001b[0m                                                                    \n",
       "           forward/\u001b[33macc\u001b[0m=\u001b[1;36m0\u001b[0m\u001b[1;36m.82\u001b[0m                                                                         \n",
       "           forward/\u001b[33mxeps\u001b[0m=\u001b[1;36m0\u001b[0m\u001b[1;36m.35\u001b[0m                                                                        \n",
       "           forward/\u001b[33mveps\u001b[0m=\u001b[1;36m0\u001b[0m\u001b[1;36m.35\u001b[0m                                                                        \n",
       "           backward/\u001b[33msumlogdet\u001b[0m=\u001b[1;36m-0.1\u001b[0m                                                                  \n",
       "           backward/\u001b[33menergy\u001b[0m=\u001b[1;36m1e\u001b[0m\u001b[1;36m+02\u001b[0m                                                                    \n",
       "           backward/\u001b[33mlogprob\u001b[0m=\u001b[1;36m1e\u001b[0m\u001b[1;36m+02\u001b[0m                                                                   \n",
       "           backward/\u001b[33macc\u001b[0m=\u001b[1;36m0\u001b[0m\u001b[1;36m.83\u001b[0m                                                                        \n",
       "           backward/\u001b[33mxeps\u001b[0m=\u001b[1;36m0\u001b[0m\u001b[1;36m.35\u001b[0m                                                                       \n",
       "           backward/\u001b[33mveps\u001b[0m=\u001b[1;36m0\u001b[0m\u001b[1;36m.35\u001b[0m                                                                       \n"
      ]
     },
     "metadata": {},
     "output_type": "display_data"
    },
    {
     "data": {
      "text/html": [
       "<pre style=\"white-space:pre;overflow-x:auto;line-height:normal;font-family:Menlo,'DejaVu Sans Mono',consolas,'Courier New',monospace\"><span style=\"color: #00ff00; text-decoration-color: #00ff00\">────────────────────────────────────────────────────────────────────────────────────────────────────</span>\n",
       "</pre>\n"
      ],
      "text/plain": [
       "\u001b[92m────────────────────────────────────────────────────────────────────────────────────────────────────\u001b[0m\n"
      ]
     },
     "metadata": {},
     "output_type": "display_data"
    },
    {
     "data": {
      "text/html": [
       "<pre style=\"white-space:pre;overflow-x:auto;line-height:normal;font-family:Menlo,'DejaVu Sans Mono',consolas,'Courier New',monospace\"></pre>\n"
      ],
      "text/plain": []
     },
     "metadata": {},
     "output_type": "display_data"
    },
    {
     "data": {
      "text/html": [
       "<pre style=\"white-space:pre;overflow-x:auto;line-height:normal;font-family:Menlo,'DejaVu Sans Mono',consolas,'Courier New',monospace\"><span style=\"color: #00ff00; text-decoration-color: #00ff00\">────────────────────────────────────────────── </span>ERA: <span style=\"color: #008080; text-decoration-color: #008080; font-weight: bold\">5</span><span style=\"color: #00ff00; text-decoration-color: #00ff00\"> ──────────────────────────────────────────────</span>\n",
       "</pre>\n"
      ],
      "text/plain": [
       "\u001b[92m────────────────────────────────────────────── \u001b[0mERA: \u001b[1;36m5\u001b[0m\u001b[92m ──────────────────────────────────────────────\u001b[0m\n"
      ]
     },
     "metadata": {},
     "output_type": "display_data"
    },
    {
     "data": {
      "application/vnd.jupyter.widget-view+json": {
       "model_id": "e1340e11d2d54854ab402eca77cf88eb",
       "version_major": 2,
       "version_minor": 0
      },
      "text/plain": [
       "Output()"
      ]
     },
     "metadata": {},
     "output_type": "display_data"
    },
    {
     "data": {
      "text/html": [
       "<pre style=\"white-space:pre;overflow-x:auto;line-height:normal;font-family:Menlo,'DejaVu Sans Mono',consolas,'Courier New',monospace\"><span style=\"color: #7fbfbf; text-decoration-color: #7fbfbf\">[01:23:35] </span>Era <span style=\"color: #008080; text-decoration-color: #008080; font-weight: bold\">5</span> took: <span style=\"color: #008080; text-decoration-color: #008080; font-weight: bold\">15</span> s                                                                         \n",
       "           Avgs over last era:                                                                      \n",
       "            <span style=\"color: #808000; text-decoration-color: #808000\">dt</span>=<span style=\"color: #008080; text-decoration-color: #008080; font-weight: bold\">0.028</span>                                                                                \n",
       "           <span style=\"color: #808000; text-decoration-color: #808000\">loss</span>=<span style=\"color: #008080; text-decoration-color: #008080; font-weight: bold\">-1.4e+02</span>                                                                            \n",
       "           <span style=\"color: #808000; text-decoration-color: #808000\">acc</span>=<span style=\"color: #008080; text-decoration-color: #008080; font-weight: bold\">0.82</span>                                                                                 \n",
       "           <span style=\"color: #808000; text-decoration-color: #808000\">acc_mask</span>=<span style=\"color: #008080; text-decoration-color: #008080; font-weight: bold\">0.83</span>                                                                            \n",
       "           <span style=\"color: #808000; text-decoration-color: #808000\">sumlogdet</span>=<span style=\"color: #008080; text-decoration-color: #008080; font-weight: bold\">0.00063</span>                                                                        \n",
       "           forward/<span style=\"color: #808000; text-decoration-color: #808000\">sumlogdet</span>=<span style=\"color: #008080; text-decoration-color: #008080; font-weight: bold\">-0.053</span>                                                                 \n",
       "           forward/<span style=\"color: #808000; text-decoration-color: #808000\">energy</span>=<span style=\"color: #008080; text-decoration-color: #008080; font-weight: bold\">1e+02</span>                                                                     \n",
       "           forward/<span style=\"color: #808000; text-decoration-color: #808000\">logprob</span>=<span style=\"color: #008080; text-decoration-color: #008080; font-weight: bold\">1e+02</span>                                                                    \n",
       "           forward/<span style=\"color: #808000; text-decoration-color: #808000\">acc</span>=<span style=\"color: #008080; text-decoration-color: #008080; font-weight: bold\">0.83</span>                                                                         \n",
       "           forward/<span style=\"color: #808000; text-decoration-color: #808000\">xeps</span>=<span style=\"color: #008080; text-decoration-color: #008080; font-weight: bold\">0.36</span>                                                                        \n",
       "           forward/<span style=\"color: #808000; text-decoration-color: #808000\">veps</span>=<span style=\"color: #008080; text-decoration-color: #008080; font-weight: bold\">0.36</span>                                                                        \n",
       "           backward/<span style=\"color: #808000; text-decoration-color: #808000\">sumlogdet</span>=<span style=\"color: #008080; text-decoration-color: #008080; font-weight: bold\">0.043</span>                                                                 \n",
       "           backward/<span style=\"color: #808000; text-decoration-color: #808000\">energy</span>=<span style=\"color: #008080; text-decoration-color: #008080; font-weight: bold\">99</span>                                                                       \n",
       "           backward/<span style=\"color: #808000; text-decoration-color: #808000\">logprob</span>=<span style=\"color: #008080; text-decoration-color: #008080; font-weight: bold\">99</span>                                                                      \n",
       "           backward/<span style=\"color: #808000; text-decoration-color: #808000\">acc</span>=<span style=\"color: #008080; text-decoration-color: #008080; font-weight: bold\">0.82</span>                                                                        \n",
       "           backward/<span style=\"color: #808000; text-decoration-color: #808000\">xeps</span>=<span style=\"color: #008080; text-decoration-color: #008080; font-weight: bold\">0.36</span>                                                                       \n",
       "           backward/<span style=\"color: #808000; text-decoration-color: #808000\">veps</span>=<span style=\"color: #008080; text-decoration-color: #008080; font-weight: bold\">0.36</span>                                                                       \n",
       "</pre>\n"
      ],
      "text/plain": [
       "\u001b[2;36m[01:23:35]\u001b[0m\u001b[2;36m \u001b[0mEra \u001b[1;36m5\u001b[0m took: \u001b[1;36m15\u001b[0m s                                                                         \n",
       "           Avgs over last era:                                                                      \n",
       "            \u001b[33mdt\u001b[0m=\u001b[1;36m0\u001b[0m\u001b[1;36m.028\u001b[0m                                                                                \n",
       "           \u001b[33mloss\u001b[0m=\u001b[1;36m-1.4e+02\u001b[0m                                                                            \n",
       "           \u001b[33macc\u001b[0m=\u001b[1;36m0\u001b[0m\u001b[1;36m.82\u001b[0m                                                                                 \n",
       "           \u001b[33macc_mask\u001b[0m=\u001b[1;36m0\u001b[0m\u001b[1;36m.83\u001b[0m                                                                            \n",
       "           \u001b[33msumlogdet\u001b[0m=\u001b[1;36m0\u001b[0m\u001b[1;36m.00063\u001b[0m                                                                        \n",
       "           forward/\u001b[33msumlogdet\u001b[0m=\u001b[1;36m-0.053\u001b[0m                                                                 \n",
       "           forward/\u001b[33menergy\u001b[0m=\u001b[1;36m1e\u001b[0m\u001b[1;36m+02\u001b[0m                                                                     \n",
       "           forward/\u001b[33mlogprob\u001b[0m=\u001b[1;36m1e\u001b[0m\u001b[1;36m+02\u001b[0m                                                                    \n",
       "           forward/\u001b[33macc\u001b[0m=\u001b[1;36m0\u001b[0m\u001b[1;36m.83\u001b[0m                                                                         \n",
       "           forward/\u001b[33mxeps\u001b[0m=\u001b[1;36m0\u001b[0m\u001b[1;36m.36\u001b[0m                                                                        \n",
       "           forward/\u001b[33mveps\u001b[0m=\u001b[1;36m0\u001b[0m\u001b[1;36m.36\u001b[0m                                                                        \n",
       "           backward/\u001b[33msumlogdet\u001b[0m=\u001b[1;36m0\u001b[0m\u001b[1;36m.043\u001b[0m                                                                 \n",
       "           backward/\u001b[33menergy\u001b[0m=\u001b[1;36m99\u001b[0m                                                                       \n",
       "           backward/\u001b[33mlogprob\u001b[0m=\u001b[1;36m99\u001b[0m                                                                      \n",
       "           backward/\u001b[33macc\u001b[0m=\u001b[1;36m0\u001b[0m\u001b[1;36m.82\u001b[0m                                                                        \n",
       "           backward/\u001b[33mxeps\u001b[0m=\u001b[1;36m0\u001b[0m\u001b[1;36m.36\u001b[0m                                                                       \n",
       "           backward/\u001b[33mveps\u001b[0m=\u001b[1;36m0\u001b[0m\u001b[1;36m.36\u001b[0m                                                                       \n"
      ]
     },
     "metadata": {},
     "output_type": "display_data"
    },
    {
     "data": {
      "text/html": [
       "<pre style=\"white-space:pre;overflow-x:auto;line-height:normal;font-family:Menlo,'DejaVu Sans Mono',consolas,'Courier New',monospace\"><span style=\"color: #00ff00; text-decoration-color: #00ff00\">────────────────────────────────────────────────────────────────────────────────────────────────────</span>\n",
       "</pre>\n"
      ],
      "text/plain": [
       "\u001b[92m────────────────────────────────────────────────────────────────────────────────────────────────────\u001b[0m\n"
      ]
     },
     "metadata": {},
     "output_type": "display_data"
    },
    {
     "data": {
      "text/html": [
       "<pre style=\"white-space:pre;overflow-x:auto;line-height:normal;font-family:Menlo,'DejaVu Sans Mono',consolas,'Courier New',monospace\"></pre>\n"
      ],
      "text/plain": []
     },
     "metadata": {},
     "output_type": "display_data"
    },
    {
     "data": {
      "text/html": [
       "<pre style=\"white-space:pre;overflow-x:auto;line-height:normal;font-family:Menlo,'DejaVu Sans Mono',consolas,'Courier New',monospace\"><span style=\"color: #00ff00; text-decoration-color: #00ff00\">────────────────────────────────────────────── </span>ERA: <span style=\"color: #008080; text-decoration-color: #008080; font-weight: bold\">6</span><span style=\"color: #00ff00; text-decoration-color: #00ff00\"> ──────────────────────────────────────────────</span>\n",
       "</pre>\n"
      ],
      "text/plain": [
       "\u001b[92m────────────────────────────────────────────── \u001b[0mERA: \u001b[1;36m6\u001b[0m\u001b[92m ──────────────────────────────────────────────\u001b[0m\n"
      ]
     },
     "metadata": {},
     "output_type": "display_data"
    },
    {
     "data": {
      "application/vnd.jupyter.widget-view+json": {
       "model_id": "c20f284d212041e3ba0d94d44ce1f32e",
       "version_major": 2,
       "version_minor": 0
      },
      "text/plain": [
       "Output()"
      ]
     },
     "metadata": {},
     "output_type": "display_data"
    },
    {
     "data": {
      "text/html": [
       "<pre style=\"white-space:pre;overflow-x:auto;line-height:normal;font-family:Menlo,'DejaVu Sans Mono',consolas,'Courier New',monospace\"><span style=\"color: #7fbfbf; text-decoration-color: #7fbfbf\">[01:23:48] </span>Era <span style=\"color: #008080; text-decoration-color: #008080; font-weight: bold\">6</span> took: <span style=\"color: #008080; text-decoration-color: #008080; font-weight: bold\">14</span> s                                                                         \n",
       "           Avgs over last era:                                                                      \n",
       "            <span style=\"color: #808000; text-decoration-color: #808000\">dt</span>=<span style=\"color: #008080; text-decoration-color: #008080; font-weight: bold\">0.026</span>                                                                                \n",
       "           <span style=\"color: #808000; text-decoration-color: #808000\">loss</span>=<span style=\"color: #008080; text-decoration-color: #008080; font-weight: bold\">-1.4e+02</span>                                                                            \n",
       "           <span style=\"color: #808000; text-decoration-color: #808000\">acc</span>=<span style=\"color: #008080; text-decoration-color: #008080; font-weight: bold\">0.82</span>                                                                                 \n",
       "           <span style=\"color: #808000; text-decoration-color: #808000\">acc_mask</span>=<span style=\"color: #008080; text-decoration-color: #008080; font-weight: bold\">0.82</span>                                                                            \n",
       "           <span style=\"color: #808000; text-decoration-color: #808000\">sumlogdet</span>=<span style=\"color: #008080; text-decoration-color: #008080; font-weight: bold\">0.00056</span>                                                                        \n",
       "           forward/<span style=\"color: #808000; text-decoration-color: #808000\">sumlogdet</span>=<span style=\"color: #008080; text-decoration-color: #008080; font-weight: bold\">-0.11</span>                                                                  \n",
       "           forward/<span style=\"color: #808000; text-decoration-color: #808000\">energy</span>=<span style=\"color: #008080; text-decoration-color: #008080; font-weight: bold\">99</span>                                                                        \n",
       "           forward/<span style=\"color: #808000; text-decoration-color: #808000\">logprob</span>=<span style=\"color: #008080; text-decoration-color: #008080; font-weight: bold\">99</span>                                                                       \n",
       "           forward/<span style=\"color: #808000; text-decoration-color: #808000\">acc</span>=<span style=\"color: #008080; text-decoration-color: #008080; font-weight: bold\">0.81</span>                                                                         \n",
       "           forward/<span style=\"color: #808000; text-decoration-color: #808000\">xeps</span>=<span style=\"color: #008080; text-decoration-color: #008080; font-weight: bold\">0.36</span>                                                                        \n",
       "           forward/<span style=\"color: #808000; text-decoration-color: #808000\">veps</span>=<span style=\"color: #008080; text-decoration-color: #008080; font-weight: bold\">0.36</span>                                                                        \n",
       "           backward/<span style=\"color: #808000; text-decoration-color: #808000\">sumlogdet</span>=<span style=\"color: #008080; text-decoration-color: #008080; font-weight: bold\">0.1</span>                                                                   \n",
       "           backward/<span style=\"color: #808000; text-decoration-color: #808000\">energy</span>=<span style=\"color: #008080; text-decoration-color: #008080; font-weight: bold\">99</span>                                                                       \n",
       "           backward/<span style=\"color: #808000; text-decoration-color: #808000\">logprob</span>=<span style=\"color: #008080; text-decoration-color: #008080; font-weight: bold\">99</span>                                                                      \n",
       "           backward/<span style=\"color: #808000; text-decoration-color: #808000\">acc</span>=<span style=\"color: #008080; text-decoration-color: #008080; font-weight: bold\">0.82</span>                                                                        \n",
       "           backward/<span style=\"color: #808000; text-decoration-color: #808000\">xeps</span>=<span style=\"color: #008080; text-decoration-color: #008080; font-weight: bold\">0.36</span>                                                                       \n",
       "           backward/<span style=\"color: #808000; text-decoration-color: #808000\">veps</span>=<span style=\"color: #008080; text-decoration-color: #008080; font-weight: bold\">0.36</span>                                                                       \n",
       "</pre>\n"
      ],
      "text/plain": [
       "\u001b[2;36m[01:23:48]\u001b[0m\u001b[2;36m \u001b[0mEra \u001b[1;36m6\u001b[0m took: \u001b[1;36m14\u001b[0m s                                                                         \n",
       "           Avgs over last era:                                                                      \n",
       "            \u001b[33mdt\u001b[0m=\u001b[1;36m0\u001b[0m\u001b[1;36m.026\u001b[0m                                                                                \n",
       "           \u001b[33mloss\u001b[0m=\u001b[1;36m-1.4e+02\u001b[0m                                                                            \n",
       "           \u001b[33macc\u001b[0m=\u001b[1;36m0\u001b[0m\u001b[1;36m.82\u001b[0m                                                                                 \n",
       "           \u001b[33macc_mask\u001b[0m=\u001b[1;36m0\u001b[0m\u001b[1;36m.82\u001b[0m                                                                            \n",
       "           \u001b[33msumlogdet\u001b[0m=\u001b[1;36m0\u001b[0m\u001b[1;36m.00056\u001b[0m                                                                        \n",
       "           forward/\u001b[33msumlogdet\u001b[0m=\u001b[1;36m-0.11\u001b[0m                                                                  \n",
       "           forward/\u001b[33menergy\u001b[0m=\u001b[1;36m99\u001b[0m                                                                        \n",
       "           forward/\u001b[33mlogprob\u001b[0m=\u001b[1;36m99\u001b[0m                                                                       \n",
       "           forward/\u001b[33macc\u001b[0m=\u001b[1;36m0\u001b[0m\u001b[1;36m.81\u001b[0m                                                                         \n",
       "           forward/\u001b[33mxeps\u001b[0m=\u001b[1;36m0\u001b[0m\u001b[1;36m.36\u001b[0m                                                                        \n",
       "           forward/\u001b[33mveps\u001b[0m=\u001b[1;36m0\u001b[0m\u001b[1;36m.36\u001b[0m                                                                        \n",
       "           backward/\u001b[33msumlogdet\u001b[0m=\u001b[1;36m0\u001b[0m\u001b[1;36m.1\u001b[0m                                                                   \n",
       "           backward/\u001b[33menergy\u001b[0m=\u001b[1;36m99\u001b[0m                                                                       \n",
       "           backward/\u001b[33mlogprob\u001b[0m=\u001b[1;36m99\u001b[0m                                                                      \n",
       "           backward/\u001b[33macc\u001b[0m=\u001b[1;36m0\u001b[0m\u001b[1;36m.82\u001b[0m                                                                        \n",
       "           backward/\u001b[33mxeps\u001b[0m=\u001b[1;36m0\u001b[0m\u001b[1;36m.36\u001b[0m                                                                       \n",
       "           backward/\u001b[33mveps\u001b[0m=\u001b[1;36m0\u001b[0m\u001b[1;36m.36\u001b[0m                                                                       \n"
      ]
     },
     "metadata": {},
     "output_type": "display_data"
    },
    {
     "data": {
      "text/html": [
       "<pre style=\"white-space:pre;overflow-x:auto;line-height:normal;font-family:Menlo,'DejaVu Sans Mono',consolas,'Courier New',monospace\"><span style=\"color: #00ff00; text-decoration-color: #00ff00\">────────────────────────────────────────────────────────────────────────────────────────────────────</span>\n",
       "</pre>\n"
      ],
      "text/plain": [
       "\u001b[92m────────────────────────────────────────────────────────────────────────────────────────────────────\u001b[0m\n"
      ]
     },
     "metadata": {},
     "output_type": "display_data"
    },
    {
     "data": {
      "text/html": [
       "<pre style=\"white-space:pre;overflow-x:auto;line-height:normal;font-family:Menlo,'DejaVu Sans Mono',consolas,'Courier New',monospace\"></pre>\n"
      ],
      "text/plain": []
     },
     "metadata": {},
     "output_type": "display_data"
    },
    {
     "data": {
      "text/html": [
       "<pre style=\"white-space:pre;overflow-x:auto;line-height:normal;font-family:Menlo,'DejaVu Sans Mono',consolas,'Courier New',monospace\"><span style=\"color: #00ff00; text-decoration-color: #00ff00\">────────────────────────────────────────────── </span>ERA: <span style=\"color: #008080; text-decoration-color: #008080; font-weight: bold\">7</span><span style=\"color: #00ff00; text-decoration-color: #00ff00\"> ──────────────────────────────────────────────</span>\n",
       "</pre>\n"
      ],
      "text/plain": [
       "\u001b[92m────────────────────────────────────────────── \u001b[0mERA: \u001b[1;36m7\u001b[0m\u001b[92m ──────────────────────────────────────────────\u001b[0m\n"
      ]
     },
     "metadata": {},
     "output_type": "display_data"
    },
    {
     "data": {
      "application/vnd.jupyter.widget-view+json": {
       "model_id": "b9edb2b19ade47e7bb581367d057173a",
       "version_major": 2,
       "version_minor": 0
      },
      "text/plain": [
       "Output()"
      ]
     },
     "metadata": {},
     "output_type": "display_data"
    },
    {
     "data": {
      "text/html": [
       "<pre style=\"white-space:pre;overflow-x:auto;line-height:normal;font-family:Menlo,'DejaVu Sans Mono',consolas,'Courier New',monospace\"><span style=\"color: #7fbfbf; text-decoration-color: #7fbfbf\">[01:24:03] </span>Era <span style=\"color: #008080; text-decoration-color: #008080; font-weight: bold\">7</span> took: <span style=\"color: #008080; text-decoration-color: #008080; font-weight: bold\">15</span> s                                                                         \n",
       "           Avgs over last era:                                                                      \n",
       "            <span style=\"color: #808000; text-decoration-color: #808000\">dt</span>=<span style=\"color: #008080; text-decoration-color: #008080; font-weight: bold\">0.027</span>                                                                                \n",
       "           <span style=\"color: #808000; text-decoration-color: #808000\">loss</span>=<span style=\"color: #008080; text-decoration-color: #008080; font-weight: bold\">-1.4e+02</span>                                                                            \n",
       "           <span style=\"color: #808000; text-decoration-color: #808000\">acc</span>=<span style=\"color: #008080; text-decoration-color: #008080; font-weight: bold\">0.83</span>                                                                                 \n",
       "           <span style=\"color: #808000; text-decoration-color: #808000\">acc_mask</span>=<span style=\"color: #008080; text-decoration-color: #008080; font-weight: bold\">0.82</span>                                                                            \n",
       "           <span style=\"color: #808000; text-decoration-color: #808000\">sumlogdet</span>=<span style=\"color: #008080; text-decoration-color: #008080; font-weight: bold\">0.0011</span>                                                                         \n",
       "           forward/<span style=\"color: #808000; text-decoration-color: #808000\">sumlogdet</span>=<span style=\"color: #008080; text-decoration-color: #008080; font-weight: bold\">0.026</span>                                                                  \n",
       "           forward/<span style=\"color: #808000; text-decoration-color: #808000\">energy</span>=<span style=\"color: #008080; text-decoration-color: #008080; font-weight: bold\">99</span>                                                                        \n",
       "           forward/<span style=\"color: #808000; text-decoration-color: #808000\">logprob</span>=<span style=\"color: #008080; text-decoration-color: #008080; font-weight: bold\">99</span>                                                                       \n",
       "           forward/<span style=\"color: #808000; text-decoration-color: #808000\">acc</span>=<span style=\"color: #008080; text-decoration-color: #008080; font-weight: bold\">0.82</span>                                                                         \n",
       "           forward/<span style=\"color: #808000; text-decoration-color: #808000\">xeps</span>=<span style=\"color: #008080; text-decoration-color: #008080; font-weight: bold\">0.36</span>                                                                        \n",
       "           forward/<span style=\"color: #808000; text-decoration-color: #808000\">veps</span>=<span style=\"color: #008080; text-decoration-color: #008080; font-weight: bold\">0.35</span>                                                                        \n",
       "           backward/<span style=\"color: #808000; text-decoration-color: #808000\">sumlogdet</span>=<span style=\"color: #008080; text-decoration-color: #008080; font-weight: bold\">-0.036</span>                                                                \n",
       "           backward/<span style=\"color: #808000; text-decoration-color: #808000\">energy</span>=<span style=\"color: #008080; text-decoration-color: #008080; font-weight: bold\">99</span>                                                                       \n",
       "           backward/<span style=\"color: #808000; text-decoration-color: #808000\">logprob</span>=<span style=\"color: #008080; text-decoration-color: #008080; font-weight: bold\">99</span>                                                                      \n",
       "           backward/<span style=\"color: #808000; text-decoration-color: #808000\">acc</span>=<span style=\"color: #008080; text-decoration-color: #008080; font-weight: bold\">0.83</span>                                                                        \n",
       "           backward/<span style=\"color: #808000; text-decoration-color: #808000\">xeps</span>=<span style=\"color: #008080; text-decoration-color: #008080; font-weight: bold\">0.36</span>                                                                       \n",
       "           backward/<span style=\"color: #808000; text-decoration-color: #808000\">veps</span>=<span style=\"color: #008080; text-decoration-color: #008080; font-weight: bold\">0.35</span>                                                                       \n",
       "</pre>\n"
      ],
      "text/plain": [
       "\u001b[2;36m[01:24:03]\u001b[0m\u001b[2;36m \u001b[0mEra \u001b[1;36m7\u001b[0m took: \u001b[1;36m15\u001b[0m s                                                                         \n",
       "           Avgs over last era:                                                                      \n",
       "            \u001b[33mdt\u001b[0m=\u001b[1;36m0\u001b[0m\u001b[1;36m.027\u001b[0m                                                                                \n",
       "           \u001b[33mloss\u001b[0m=\u001b[1;36m-1.4e+02\u001b[0m                                                                            \n",
       "           \u001b[33macc\u001b[0m=\u001b[1;36m0\u001b[0m\u001b[1;36m.83\u001b[0m                                                                                 \n",
       "           \u001b[33macc_mask\u001b[0m=\u001b[1;36m0\u001b[0m\u001b[1;36m.82\u001b[0m                                                                            \n",
       "           \u001b[33msumlogdet\u001b[0m=\u001b[1;36m0\u001b[0m\u001b[1;36m.0011\u001b[0m                                                                         \n",
       "           forward/\u001b[33msumlogdet\u001b[0m=\u001b[1;36m0\u001b[0m\u001b[1;36m.026\u001b[0m                                                                  \n",
       "           forward/\u001b[33menergy\u001b[0m=\u001b[1;36m99\u001b[0m                                                                        \n",
       "           forward/\u001b[33mlogprob\u001b[0m=\u001b[1;36m99\u001b[0m                                                                       \n",
       "           forward/\u001b[33macc\u001b[0m=\u001b[1;36m0\u001b[0m\u001b[1;36m.82\u001b[0m                                                                         \n",
       "           forward/\u001b[33mxeps\u001b[0m=\u001b[1;36m0\u001b[0m\u001b[1;36m.36\u001b[0m                                                                        \n",
       "           forward/\u001b[33mveps\u001b[0m=\u001b[1;36m0\u001b[0m\u001b[1;36m.35\u001b[0m                                                                        \n",
       "           backward/\u001b[33msumlogdet\u001b[0m=\u001b[1;36m-0.036\u001b[0m                                                                \n",
       "           backward/\u001b[33menergy\u001b[0m=\u001b[1;36m99\u001b[0m                                                                       \n",
       "           backward/\u001b[33mlogprob\u001b[0m=\u001b[1;36m99\u001b[0m                                                                      \n",
       "           backward/\u001b[33macc\u001b[0m=\u001b[1;36m0\u001b[0m\u001b[1;36m.83\u001b[0m                                                                        \n",
       "           backward/\u001b[33mxeps\u001b[0m=\u001b[1;36m0\u001b[0m\u001b[1;36m.36\u001b[0m                                                                       \n",
       "           backward/\u001b[33mveps\u001b[0m=\u001b[1;36m0\u001b[0m\u001b[1;36m.35\u001b[0m                                                                       \n"
      ]
     },
     "metadata": {},
     "output_type": "display_data"
    },
    {
     "data": {
      "text/html": [
       "<pre style=\"white-space:pre;overflow-x:auto;line-height:normal;font-family:Menlo,'DejaVu Sans Mono',consolas,'Courier New',monospace\"><span style=\"color: #00ff00; text-decoration-color: #00ff00\">────────────────────────────────────────────────────────────────────────────────────────────────────</span>\n",
       "</pre>\n"
      ],
      "text/plain": [
       "\u001b[92m────────────────────────────────────────────────────────────────────────────────────────────────────\u001b[0m\n"
      ]
     },
     "metadata": {},
     "output_type": "display_data"
    },
    {
     "data": {
      "text/html": [
       "<pre style=\"white-space:pre;overflow-x:auto;line-height:normal;font-family:Menlo,'DejaVu Sans Mono',consolas,'Courier New',monospace\"></pre>\n"
      ],
      "text/plain": []
     },
     "metadata": {},
     "output_type": "display_data"
    },
    {
     "data": {
      "text/html": [
       "<pre style=\"white-space:pre;overflow-x:auto;line-height:normal;font-family:Menlo,'DejaVu Sans Mono',consolas,'Courier New',monospace\"><span style=\"color: #00ff00; text-decoration-color: #00ff00\">────────────────────────────────────────────── </span>ERA: <span style=\"color: #008080; text-decoration-color: #008080; font-weight: bold\">8</span><span style=\"color: #00ff00; text-decoration-color: #00ff00\"> ──────────────────────────────────────────────</span>\n",
       "</pre>\n"
      ],
      "text/plain": [
       "\u001b[92m────────────────────────────────────────────── \u001b[0mERA: \u001b[1;36m8\u001b[0m\u001b[92m ──────────────────────────────────────────────\u001b[0m\n"
      ]
     },
     "metadata": {},
     "output_type": "display_data"
    },
    {
     "data": {
      "application/vnd.jupyter.widget-view+json": {
       "model_id": "929b553df64744b5807ce0b435380a2c",
       "version_major": 2,
       "version_minor": 0
      },
      "text/plain": [
       "Output()"
      ]
     },
     "metadata": {},
     "output_type": "display_data"
    },
    {
     "data": {
      "text/html": [
       "<pre style=\"white-space:pre;overflow-x:auto;line-height:normal;font-family:Menlo,'DejaVu Sans Mono',consolas,'Courier New',monospace\"></pre>\n"
      ],
      "text/plain": []
     },
     "metadata": {},
     "output_type": "display_data"
    },
    {
     "data": {
      "text/html": [
       "<pre style=\"white-space:pre;overflow-x:auto;line-height:normal;font-family:Menlo,'DejaVu Sans Mono',consolas,'Courier New',monospace\"><span style=\"color: #00ff00; text-decoration-color: #00ff00\">────────────────────────────────────────────── </span>ERA: <span style=\"color: #008080; text-decoration-color: #008080; font-weight: bold\">9</span><span style=\"color: #00ff00; text-decoration-color: #00ff00\"> ──────────────────────────────────────────────</span>\n",
       "</pre>\n"
      ],
      "text/plain": [
       "\u001b[92m────────────────────────────────────────────── \u001b[0mERA: \u001b[1;36m9\u001b[0m\u001b[92m ──────────────────────────────────────────────\u001b[0m\n"
      ]
     },
     "metadata": {},
     "output_type": "display_data"
    },
    {
     "data": {
      "application/vnd.jupyter.widget-view+json": {
       "model_id": "cfff34961bcd432dbdbf4922ce94e564",
       "version_major": 2,
       "version_minor": 0
      },
      "text/plain": [
       "Output()"
      ]
     },
     "metadata": {},
     "output_type": "display_data"
    },
    {
     "data": {
      "text/html": [
       "<pre style=\"white-space:pre;overflow-x:auto;line-height:normal;font-family:Menlo,'DejaVu Sans Mono',consolas,'Courier New',monospace\"><span style=\"color: #7fbfbf; text-decoration-color: #7fbfbf\">[01:24:33] </span>Era <span style=\"color: #008080; text-decoration-color: #008080; font-weight: bold\">9</span> took: <span style=\"color: #008080; text-decoration-color: #008080; font-weight: bold\">14</span> s                                                                         \n",
       "           Avgs over last era:                                                                      \n",
       "            <span style=\"color: #808000; text-decoration-color: #808000\">dt</span>=<span style=\"color: #008080; text-decoration-color: #008080; font-weight: bold\">0.026</span>                                                                                \n",
       "           <span style=\"color: #808000; text-decoration-color: #808000\">loss</span>=<span style=\"color: #008080; text-decoration-color: #008080; font-weight: bold\">-1.4e+02</span>                                                                            \n",
       "           <span style=\"color: #808000; text-decoration-color: #808000\">acc</span>=<span style=\"color: #008080; text-decoration-color: #008080; font-weight: bold\">0.83</span>                                                                                 \n",
       "           <span style=\"color: #808000; text-decoration-color: #808000\">acc_mask</span>=<span style=\"color: #008080; text-decoration-color: #008080; font-weight: bold\">0.83</span>                                                                            \n",
       "           <span style=\"color: #808000; text-decoration-color: #808000\">sumlogdet</span>=<span style=\"color: #008080; text-decoration-color: #008080; font-weight: bold\">-0.0021</span>                                                                        \n",
       "           forward/<span style=\"color: #808000; text-decoration-color: #808000\">sumlogdet</span>=<span style=\"color: #008080; text-decoration-color: #008080; font-weight: bold\">-0.014</span>                                                                 \n",
       "           forward/<span style=\"color: #808000; text-decoration-color: #808000\">energy</span>=<span style=\"color: #008080; text-decoration-color: #008080; font-weight: bold\">1e+02</span>                                                                     \n",
       "           forward/<span style=\"color: #808000; text-decoration-color: #808000\">logprob</span>=<span style=\"color: #008080; text-decoration-color: #008080; font-weight: bold\">1e+02</span>                                                                    \n",
       "           forward/<span style=\"color: #808000; text-decoration-color: #808000\">acc</span>=<span style=\"color: #008080; text-decoration-color: #008080; font-weight: bold\">0.83</span>                                                                         \n",
       "           forward/<span style=\"color: #808000; text-decoration-color: #808000\">xeps</span>=<span style=\"color: #008080; text-decoration-color: #008080; font-weight: bold\">0.36</span>                                                                        \n",
       "           forward/<span style=\"color: #808000; text-decoration-color: #808000\">veps</span>=<span style=\"color: #008080; text-decoration-color: #008080; font-weight: bold\">0.35</span>                                                                        \n",
       "           backward/<span style=\"color: #808000; text-decoration-color: #808000\">sumlogdet</span>=<span style=\"color: #008080; text-decoration-color: #008080; font-weight: bold\">0.003</span>                                                                 \n",
       "           backward/<span style=\"color: #808000; text-decoration-color: #808000\">energy</span>=<span style=\"color: #008080; text-decoration-color: #008080; font-weight: bold\">99</span>                                                                       \n",
       "           backward/<span style=\"color: #808000; text-decoration-color: #808000\">logprob</span>=<span style=\"color: #008080; text-decoration-color: #008080; font-weight: bold\">99</span>                                                                      \n",
       "           backward/<span style=\"color: #808000; text-decoration-color: #808000\">acc</span>=<span style=\"color: #008080; text-decoration-color: #008080; font-weight: bold\">0.83</span>                                                                        \n",
       "           backward/<span style=\"color: #808000; text-decoration-color: #808000\">xeps</span>=<span style=\"color: #008080; text-decoration-color: #008080; font-weight: bold\">0.36</span>                                                                       \n",
       "           backward/<span style=\"color: #808000; text-decoration-color: #808000\">veps</span>=<span style=\"color: #008080; text-decoration-color: #008080; font-weight: bold\">0.35</span>                                                                       \n",
       "</pre>\n"
      ],
      "text/plain": [
       "\u001b[2;36m[01:24:33]\u001b[0m\u001b[2;36m \u001b[0mEra \u001b[1;36m9\u001b[0m took: \u001b[1;36m14\u001b[0m s                                                                         \n",
       "           Avgs over last era:                                                                      \n",
       "            \u001b[33mdt\u001b[0m=\u001b[1;36m0\u001b[0m\u001b[1;36m.026\u001b[0m                                                                                \n",
       "           \u001b[33mloss\u001b[0m=\u001b[1;36m-1.4e+02\u001b[0m                                                                            \n",
       "           \u001b[33macc\u001b[0m=\u001b[1;36m0\u001b[0m\u001b[1;36m.83\u001b[0m                                                                                 \n",
       "           \u001b[33macc_mask\u001b[0m=\u001b[1;36m0\u001b[0m\u001b[1;36m.83\u001b[0m                                                                            \n",
       "           \u001b[33msumlogdet\u001b[0m=\u001b[1;36m-0.0021\u001b[0m                                                                        \n",
       "           forward/\u001b[33msumlogdet\u001b[0m=\u001b[1;36m-0.014\u001b[0m                                                                 \n",
       "           forward/\u001b[33menergy\u001b[0m=\u001b[1;36m1e\u001b[0m\u001b[1;36m+02\u001b[0m                                                                     \n",
       "           forward/\u001b[33mlogprob\u001b[0m=\u001b[1;36m1e\u001b[0m\u001b[1;36m+02\u001b[0m                                                                    \n",
       "           forward/\u001b[33macc\u001b[0m=\u001b[1;36m0\u001b[0m\u001b[1;36m.83\u001b[0m                                                                         \n",
       "           forward/\u001b[33mxeps\u001b[0m=\u001b[1;36m0\u001b[0m\u001b[1;36m.36\u001b[0m                                                                        \n",
       "           forward/\u001b[33mveps\u001b[0m=\u001b[1;36m0\u001b[0m\u001b[1;36m.35\u001b[0m                                                                        \n",
       "           backward/\u001b[33msumlogdet\u001b[0m=\u001b[1;36m0\u001b[0m\u001b[1;36m.003\u001b[0m                                                                 \n",
       "           backward/\u001b[33menergy\u001b[0m=\u001b[1;36m99\u001b[0m                                                                       \n",
       "           backward/\u001b[33mlogprob\u001b[0m=\u001b[1;36m99\u001b[0m                                                                      \n",
       "           backward/\u001b[33macc\u001b[0m=\u001b[1;36m0\u001b[0m\u001b[1;36m.83\u001b[0m                                                                        \n",
       "           backward/\u001b[33mxeps\u001b[0m=\u001b[1;36m0\u001b[0m\u001b[1;36m.36\u001b[0m                                                                       \n",
       "           backward/\u001b[33mveps\u001b[0m=\u001b[1;36m0\u001b[0m\u001b[1;36m.35\u001b[0m                                                                       \n"
      ]
     },
     "metadata": {},
     "output_type": "display_data"
    },
    {
     "data": {
      "text/html": [
       "<pre style=\"white-space:pre;overflow-x:auto;line-height:normal;font-family:Menlo,'DejaVu Sans Mono',consolas,'Courier New',monospace\"><span style=\"color: #00ff00; text-decoration-color: #00ff00\">────────────────────────────────────────────────────────────────────────────────────────────────────</span>\n",
       "</pre>\n"
      ],
      "text/plain": [
       "\u001b[92m────────────────────────────────────────────────────────────────────────────────────────────────────\u001b[0m\n"
      ]
     },
     "metadata": {},
     "output_type": "display_data"
    },
    {
     "data": {
      "text/html": [
       "<pre style=\"white-space:pre;overflow-x:auto;line-height:normal;font-family:Menlo,'DejaVu Sans Mono',consolas,'Courier New',monospace\"></pre>\n"
      ],
      "text/plain": []
     },
     "metadata": {},
     "output_type": "display_data"
    }
   ],
   "source": [
    "from src.l2hmc.trainers.tensorflow.trainer import Trainer as tfTrainer\n",
    "\n",
    "optimizer_tf = tf.keras.optimizers.Adam()\n",
    "\n",
    "trainer_tf = tfTrainer(steps=steps,\n",
    "                       dynamics=dynamics_tf,\n",
    "                       optimizer=optimizer_tf,\n",
    "                       loss_fn=loss_tf)\n",
    "output_tf = trainer_tf.train(compile=True, jit_compile=False)\n",
    "history_tf = output_tf['history']\n",
    "dataset_tf = history_tf.get_dataset()"
   ]
  },
  {
   "cell_type": "markdown",
   "id": "d25fd397",
   "metadata": {},
   "source": [
    "## Pytorch"
   ]
  },
  {
   "cell_type": "code",
   "execution_count": null,
   "id": "114f4834-dba8-4701-a6ec-7ab099601a9d",
   "metadata": {
    "ExecuteTime": {
     "start_time": "2022-01-26T07:40:20.566Z"
    },
    "scrolled": true,
    "tags": []
   },
   "outputs": [],
   "source": [
    "import time\n",
    "from rich import print\n",
    "from torch import optim\n",
    "from src.l2hmc.dynamics.pytorch.dynamics import random_angle\n",
    "from rich.console import Console\n",
    "\n",
    "dynamics_pt.train()\n",
    "dynamics_pt_fb.train()\n",
    "\n",
    "optimizer_pt = optim.Adam(dynamics_pt.parameters())\n",
    "optimizer_pt_fb = optim.Adam(dynamics_pt_fb.parameters())\n",
    "\n",
    "xpt = random_angle(xinit_pt.shape)\n",
    "xpt = xpt.reshape(xpt.shape[0], -1)\n"
   ]
  },
  {
   "cell_type": "markdown",
   "id": "95e5fca3",
   "metadata": {},
   "source": [
    "### Train with single forward/backward update (unified, `DynamicsConfig.merge_directions = True`)"
   ]
  },
  {
   "cell_type": "code",
   "execution_count": null,
   "id": "b63e8423",
   "metadata": {
    "ExecuteTime": {
     "start_time": "2022-01-26T07:40:27.705Z"
    },
    "scrolled": true,
    "tags": []
   },
   "outputs": [],
   "source": [
    "from src.l2hmc.trainers.pytorch.trainer import Trainer as ptTrainer\n",
    "\n",
    "dynamics_pt_fb = dynamics_pt_fb.to(accelerator.device)\n",
    "dynamics_pt_fb, optimizer_pt_fb = accelerator.prepare(dynamics_pt_fb, optimizer_pt_fb)\n",
    "trainer_pt_fb = ptTrainer(steps=steps,\n",
    "                          dynamics=dynamics_pt_fb,\n",
    "                          optimizer=optimizer_pt_fb,\n",
    "                          loss_fn=loss_pt,\n",
    "                          accelerator=accelerator)\n",
    "\n",
    "output_pt_fb = trainer_pt_fb.train()\n",
    "history_pt_fb = output_pt_fb['history']\n",
    "dataset_pt_fb = history_pt_fb.get_dataset()"
   ]
  },
  {
   "cell_type": "markdown",
   "id": "0b3aed48",
   "metadata": {},
   "source": [
    "### Train with separate forward/backward updates (as usual)"
   ]
  },
  {
   "cell_type": "code",
   "execution_count": 59,
   "id": "7df81260-9213-40a7-99db-d769691270ab",
   "metadata": {
    "ExecuteTime": {
     "end_time": "2022-01-26T01:35:49.423855Z",
     "start_time": "2022-01-26T01:35:44.014498Z"
    },
    "scrolled": true,
    "tags": []
   },
   "outputs": [
    {
     "name": "stdout",
     "output_type": "stream",
     "text": [
      "\u001b[92m──────────────────────────────────── \u001b[0mERA: \u001b[1;36m0\u001b[0m\u001b[92m ────────────────────────────────────\u001b[0m\n"
     ]
    },
    {
     "data": {
      "application/vnd.jupyter.widget-view+json": {
       "model_id": "ade91c13814f43149ff98d7093861b46",
       "version_major": 2,
       "version_minor": 0
      },
      "text/plain": [
       "Output()"
      ]
     },
     "metadata": {},
     "output_type": "display_data"
    },
    {
     "data": {
      "text/html": [
       "<pre style=\"white-space:pre;overflow-x:auto;line-height:normal;font-family:Menlo,'DejaVu Sans Mono',consolas,'Courier New',monospace\"></pre>\n"
      ],
      "text/plain": []
     },
     "metadata": {},
     "output_type": "display_data"
    },
    {
     "data": {
      "text/html": [
       "<pre style=\"white-space:pre;overflow-x:auto;line-height:normal;font-family:Menlo,'DejaVu Sans Mono',consolas,'Courier New',monospace\"><span style=\"color: #ff0000; text-decoration-color: #ff0000\">╭──────────────────────────── </span><span style=\"color: #800000; text-decoration-color: #800000; font-weight: bold\">Traceback </span><span style=\"color: #bf7f7f; text-decoration-color: #bf7f7f; font-weight: bold\">(most recent call last)</span><span style=\"color: #ff0000; text-decoration-color: #ff0000\"> ────────────────────────────╮</span>\n",
       "<span style=\"color: #ff0000; text-decoration-color: #ff0000\">│</span>                                                                                           <span style=\"color: #ff0000; text-decoration-color: #ff0000\">│</span>\n",
       "<span style=\"color: #ff0000; text-decoration-color: #ff0000\">│</span> <span style=\"color: #bfbf7f; text-decoration-color: #bfbf7f\">/var/folders/b0/s0cn4kh53l55xstxzzsd3dn00000gn/T/ipykernel_36261/</span><span style=\"color: #808000; text-decoration-color: #808000; font-weight: bold\">2203275882.py</span>:<span style=\"color: #0000ff; text-decoration-color: #0000ff\">11</span> in      <span style=\"color: #ff0000; text-decoration-color: #ff0000\">│</span>\n",
       "<span style=\"color: #ff0000; text-decoration-color: #ff0000\">│</span> <span style=\"color: #00ff00; text-decoration-color: #00ff00\">&lt;module&gt;</span>                                                                                  <span style=\"color: #ff0000; text-decoration-color: #ff0000\">│</span>\n",
       "<span style=\"color: #ff0000; text-decoration-color: #ff0000\">│</span>                                                                                           <span style=\"color: #ff0000; text-decoration-color: #ff0000\">│</span>\n",
       "<span style=\"color: #ff0000; text-decoration-color: #ff0000\">│</span> <span style=\"color: #800000; text-decoration-color: #800000; font-style: italic\">[Errno 2] No such file or directory: </span>                                                     <span style=\"color: #ff0000; text-decoration-color: #ff0000\">│</span>\n",
       "<span style=\"color: #ff0000; text-decoration-color: #ff0000\">│</span> <span style=\"color: #800000; text-decoration-color: #800000; font-style: italic\">'/var/folders/b0/s0cn4kh53l55xstxzzsd3dn00000gn/T/ipykernel_36261/2203275882.py'</span>          <span style=\"color: #ff0000; text-decoration-color: #ff0000\">│</span>\n",
       "<span style=\"color: #ff0000; text-decoration-color: #ff0000\">│</span> <span style=\"color: #bfbf7f; text-decoration-color: #bfbf7f\">/Users/saforem2/projects/l2hmc-qcd/src/l2hmc/trainers/pytorch/</span><span style=\"color: #808000; text-decoration-color: #808000; font-weight: bold\">trainer.py</span>:<span style=\"color: #0000ff; text-decoration-color: #0000ff\">133</span> in <span style=\"color: #00ff00; text-decoration-color: #00ff00\">train</span>     <span style=\"color: #ff0000; text-decoration-color: #ff0000\">│</span>\n",
       "<span style=\"color: #ff0000; text-decoration-color: #ff0000\">│</span>                                                                                           <span style=\"color: #ff0000; text-decoration-color: #ff0000\">│</span>\n",
       "<span style=\"color: #ff0000; text-decoration-color: #ff0000\">│</span>   <span style=\"color: #7f7f7f; text-decoration-color: #7f7f7f\">130 │   │   │   </span><span style=\"color: #0000ff; text-decoration-color: #0000ff\">with</span> Live(table, refresh_per_second=<span style=\"color: #0000ff; text-decoration-color: #0000ff\">1</span>):                                 <span style=\"color: #ff0000; text-decoration-color: #ff0000\">│</span>\n",
       "<span style=\"color: #ff0000; text-decoration-color: #ff0000\">│</span>   <span style=\"color: #7f7f7f; text-decoration-color: #7f7f7f\">131 │   │   │   │   </span><span style=\"color: #0000ff; text-decoration-color: #0000ff\">for</span> epoch <span style=\"color: #ff00ff; text-decoration-color: #ff00ff\">in</span> <span style=\"color: #00ffff; text-decoration-color: #00ffff\">range</span>(<span style=\"color: #00ffff; text-decoration-color: #00ffff\">self</span>.steps.nepoch):                              <span style=\"color: #ff0000; text-decoration-color: #ff0000\">│</span>\n",
       "<span style=\"color: #ff0000; text-decoration-color: #ff0000\">│</span>   <span style=\"color: #7f7f7f; text-decoration-color: #7f7f7f\">132 │   │   │   │   │   </span><span style=\"color: #00ffff; text-decoration-color: #00ffff\">self</span>.timer.start()                                              <span style=\"color: #ff0000; text-decoration-color: #ff0000\">│</span>\n",
       "<span style=\"color: #ff0000; text-decoration-color: #ff0000\">│</span> <span style=\"color: #800000; text-decoration-color: #800000\">❱ </span>133 <span style=\"color: #7f7f7f; text-decoration-color: #7f7f7f\">│   │   │   │   │   </span>x, metrics = <span style=\"color: #00ffff; text-decoration-color: #00ffff\">self</span>.train_step((x, beta))                         <span style=\"color: #ff0000; text-decoration-color: #ff0000\">│</span>\n",
       "<span style=\"color: #ff0000; text-decoration-color: #ff0000\">│</span>   <span style=\"color: #7f7f7f; text-decoration-color: #7f7f7f\">134 │   │   │   │   │   </span><span style=\"color: #0000ff; text-decoration-color: #0000ff\">if</span> should_print(epoch) <span style=\"color: #ff00ff; text-decoration-color: #ff00ff\">or</span> should_log(epoch):                    <span style=\"color: #ff0000; text-decoration-color: #ff0000\">│</span>\n",
       "<span style=\"color: #ff0000; text-decoration-color: #ff0000\">│</span>   <span style=\"color: #7f7f7f; text-decoration-color: #7f7f7f\">135 │   │   │   │   │   │   </span>record = {                                                  <span style=\"color: #ff0000; text-decoration-color: #ff0000\">│</span>\n",
       "<span style=\"color: #ff0000; text-decoration-color: #ff0000\">│</span>   <span style=\"color: #7f7f7f; text-decoration-color: #7f7f7f\">136 │   │   │   │   │   │   │   </span><span style=\"color: #808000; text-decoration-color: #808000\">'era'</span>: era,                                             <span style=\"color: #ff0000; text-decoration-color: #ff0000\">│</span>\n",
       "<span style=\"color: #ff0000; text-decoration-color: #ff0000\">│</span>                                                                                           <span style=\"color: #ff0000; text-decoration-color: #ff0000\">│</span>\n",
       "<span style=\"color: #ff0000; text-decoration-color: #ff0000\">│</span> <span style=\"color: #bfbf7f; text-decoration-color: #bfbf7f\">/Users/saforem2/projects/l2hmc-qcd/src/l2hmc/trainers/pytorch/</span><span style=\"color: #808000; text-decoration-color: #808000; font-weight: bold\">trainer.py</span>:<span style=\"color: #0000ff; text-decoration-color: #0000ff\">65</span> in <span style=\"color: #00ff00; text-decoration-color: #00ff00\">train_step</span> <span style=\"color: #ff0000; text-decoration-color: #ff0000\">│</span>\n",
       "<span style=\"color: #ff0000; text-decoration-color: #ff0000\">│</span>                                                                                           <span style=\"color: #ff0000; text-decoration-color: #ff0000\">│</span>\n",
       "<span style=\"color: #ff0000; text-decoration-color: #ff0000\">│</span>   <span style=\"color: #7f7f7f; text-decoration-color: #7f7f7f\"> 62 │   │   </span>x_prop = to_u1(metrics.pop(<span style=\"color: #808000; text-decoration-color: #808000\">'mc_states'</span>).proposed.x)                         <span style=\"color: #ff0000; text-decoration-color: #ff0000\">│</span>\n",
       "<span style=\"color: #ff0000; text-decoration-color: #ff0000\">│</span>   <span style=\"color: #7f7f7f; text-decoration-color: #7f7f7f\"> 63 │   │   </span>loss = <span style=\"color: #00ffff; text-decoration-color: #00ffff\">self</span>.loss_fn(x_init=x_init, x_prop=x_prop, acc=metrics[<span style=\"color: #808000; text-decoration-color: #808000\">'acc'</span>])       <span style=\"color: #ff0000; text-decoration-color: #ff0000\">│</span>\n",
       "<span style=\"color: #ff0000; text-decoration-color: #ff0000\">│</span>   <span style=\"color: #7f7f7f; text-decoration-color: #7f7f7f\"> 64 │   │   </span><span style=\"color: #00ffff; text-decoration-color: #00ffff\">self</span>.optimizer.zero_grad()                                                  <span style=\"color: #ff0000; text-decoration-color: #ff0000\">│</span>\n",
       "<span style=\"color: #ff0000; text-decoration-color: #ff0000\">│</span> <span style=\"color: #800000; text-decoration-color: #800000\">❱ </span> 65 <span style=\"color: #7f7f7f; text-decoration-color: #7f7f7f\">│   │   </span><span style=\"color: #00ffff; text-decoration-color: #00ffff\">self</span>.accelerator.backward(loss)                                             <span style=\"color: #ff0000; text-decoration-color: #ff0000\">│</span>\n",
       "<span style=\"color: #ff0000; text-decoration-color: #ff0000\">│</span>   <span style=\"color: #7f7f7f; text-decoration-color: #7f7f7f\"> 66 │   │   # loss.backward()</span>                                                           <span style=\"color: #ff0000; text-decoration-color: #ff0000\">│</span>\n",
       "<span style=\"color: #ff0000; text-decoration-color: #ff0000\">│</span>   <span style=\"color: #7f7f7f; text-decoration-color: #7f7f7f\"> 67 │   │   </span><span style=\"color: #00ffff; text-decoration-color: #00ffff\">self</span>.optimizer.step()                                                       <span style=\"color: #ff0000; text-decoration-color: #ff0000\">│</span>\n",
       "<span style=\"color: #ff0000; text-decoration-color: #ff0000\">│</span>   <span style=\"color: #7f7f7f; text-decoration-color: #7f7f7f\"> 68 │   │   </span>record = {                                                                  <span style=\"color: #ff0000; text-decoration-color: #ff0000\">│</span>\n",
       "<span style=\"color: #ff0000; text-decoration-color: #ff0000\">│</span>                                                                                           <span style=\"color: #ff0000; text-decoration-color: #ff0000\">│</span>\n",
       "<span style=\"color: #ff0000; text-decoration-color: #ff0000\">│</span> <span style=\"color: #bfbf7f; text-decoration-color: #bfbf7f\">/Users/saforem2/projects/l2hmc-qcd/env/lib/python3.9/site-packages/accelerate/</span><span style=\"color: #808000; text-decoration-color: #808000; font-weight: bold\">accelerator</span> <span style=\"color: #ff0000; text-decoration-color: #ff0000\">│</span>\n",
       "<span style=\"color: #ff0000; text-decoration-color: #ff0000\">│</span> <span style=\"color: #808000; text-decoration-color: #808000; font-weight: bold\">.py</span>:<span style=\"color: #0000ff; text-decoration-color: #0000ff\">408</span> in <span style=\"color: #00ff00; text-decoration-color: #00ff00\">backward</span>                                                                       <span style=\"color: #ff0000; text-decoration-color: #ff0000\">│</span>\n",
       "<span style=\"color: #ff0000; text-decoration-color: #ff0000\">│</span>                                                                                           <span style=\"color: #ff0000; text-decoration-color: #ff0000\">│</span>\n",
       "<span style=\"color: #ff0000; text-decoration-color: #ff0000\">│</span>   <span style=\"color: #7f7f7f; text-decoration-color: #7f7f7f\">405 │   │   </span><span style=\"color: #0000ff; text-decoration-color: #0000ff\">elif</span> <span style=\"color: #00ffff; text-decoration-color: #00ffff\">self</span>.scaler <span style=\"color: #ff00ff; text-decoration-color: #ff00ff\">is</span> <span style=\"color: #ff00ff; text-decoration-color: #ff00ff\">not</span> <span style=\"color: #0000ff; text-decoration-color: #0000ff\">None</span>:                                               <span style=\"color: #ff0000; text-decoration-color: #ff0000\">│</span>\n",
       "<span style=\"color: #ff0000; text-decoration-color: #ff0000\">│</span>   <span style=\"color: #7f7f7f; text-decoration-color: #7f7f7f\">406 │   │   │   </span><span style=\"color: #00ffff; text-decoration-color: #00ffff\">self</span>.scaler.scale(loss).backward(**kwargs)                              <span style=\"color: #ff0000; text-decoration-color: #ff0000\">│</span>\n",
       "<span style=\"color: #ff0000; text-decoration-color: #ff0000\">│</span>   <span style=\"color: #7f7f7f; text-decoration-color: #7f7f7f\">407 │   │   </span><span style=\"color: #0000ff; text-decoration-color: #0000ff\">else</span>:                                                                       <span style=\"color: #ff0000; text-decoration-color: #ff0000\">│</span>\n",
       "<span style=\"color: #ff0000; text-decoration-color: #ff0000\">│</span> <span style=\"color: #800000; text-decoration-color: #800000\">❱ </span>408 <span style=\"color: #7f7f7f; text-decoration-color: #7f7f7f\">│   │   │   </span>loss.backward(**kwargs)                                                 <span style=\"color: #ff0000; text-decoration-color: #ff0000\">│</span>\n",
       "<span style=\"color: #ff0000; text-decoration-color: #ff0000\">│</span>   <span style=\"color: #7f7f7f; text-decoration-color: #7f7f7f\">409 │   </span>                                                                                <span style=\"color: #ff0000; text-decoration-color: #ff0000\">│</span>\n",
       "<span style=\"color: #ff0000; text-decoration-color: #ff0000\">│</span>   <span style=\"color: #7f7f7f; text-decoration-color: #7f7f7f\">410 │   </span><span style=\"color: #0000ff; text-decoration-color: #0000ff\">def</span> <span style=\"color: #00ff00; text-decoration-color: #00ff00\">unscale_gradients</span>(<span style=\"color: #00ffff; text-decoration-color: #00ffff\">self</span>, optimizer=<span style=\"color: #0000ff; text-decoration-color: #0000ff\">None</span>):                                    <span style=\"color: #ff0000; text-decoration-color: #ff0000\">│</span>\n",
       "<span style=\"color: #ff0000; text-decoration-color: #ff0000\">│</span>   <span style=\"color: #7f7f7f; text-decoration-color: #7f7f7f\">411 │   │   </span><span style=\"color: #808000; text-decoration-color: #808000\">\"\"\"</span>                                                                         <span style=\"color: #ff0000; text-decoration-color: #ff0000\">│</span>\n",
       "<span style=\"color: #ff0000; text-decoration-color: #ff0000\">│</span>                                                                                           <span style=\"color: #ff0000; text-decoration-color: #ff0000\">│</span>\n",
       "<span style=\"color: #ff0000; text-decoration-color: #ff0000\">│</span> <span style=\"color: #bfbf7f; text-decoration-color: #bfbf7f\">/Users/saforem2/projects/l2hmc-qcd/env/lib/python3.9/site-packages/torch/</span><span style=\"color: #808000; text-decoration-color: #808000; font-weight: bold\">_tensor.py</span>:<span style=\"color: #0000ff; text-decoration-color: #0000ff\">307</span>   <span style=\"color: #ff0000; text-decoration-color: #ff0000\">│</span>\n",
       "<span style=\"color: #ff0000; text-decoration-color: #ff0000\">│</span> in <span style=\"color: #00ff00; text-decoration-color: #00ff00\">backward</span>                                                                               <span style=\"color: #ff0000; text-decoration-color: #ff0000\">│</span>\n",
       "<span style=\"color: #ff0000; text-decoration-color: #ff0000\">│</span>                                                                                           <span style=\"color: #ff0000; text-decoration-color: #ff0000\">│</span>\n",
       "<span style=\"color: #ff0000; text-decoration-color: #ff0000\">│</span>   <span style=\"color: #7f7f7f; text-decoration-color: #7f7f7f\"> 304 │   │   │   │   </span>retain_graph=retain_graph,                                         <span style=\"color: #ff0000; text-decoration-color: #ff0000\">│</span>\n",
       "<span style=\"color: #ff0000; text-decoration-color: #ff0000\">│</span>   <span style=\"color: #7f7f7f; text-decoration-color: #7f7f7f\"> 305 │   │   │   │   </span>create_graph=create_graph,                                         <span style=\"color: #ff0000; text-decoration-color: #ff0000\">│</span>\n",
       "<span style=\"color: #ff0000; text-decoration-color: #ff0000\">│</span>   <span style=\"color: #7f7f7f; text-decoration-color: #7f7f7f\"> 306 │   │   │   │   </span>inputs=inputs)                                                     <span style=\"color: #ff0000; text-decoration-color: #ff0000\">│</span>\n",
       "<span style=\"color: #ff0000; text-decoration-color: #ff0000\">│</span> <span style=\"color: #800000; text-decoration-color: #800000\">❱ </span> 307 <span style=\"color: #7f7f7f; text-decoration-color: #7f7f7f\">│   │   </span>torch.autograd.backward(<span style=\"color: #00ffff; text-decoration-color: #00ffff\">self</span>, gradient, retain_graph, create_graph, inputs <span style=\"color: #ff0000; text-decoration-color: #ff0000\">│</span>\n",
       "<span style=\"color: #ff0000; text-decoration-color: #ff0000\">│</span>   <span style=\"color: #7f7f7f; text-decoration-color: #7f7f7f\"> 308 │   </span>                                                                               <span style=\"color: #ff0000; text-decoration-color: #ff0000\">│</span>\n",
       "<span style=\"color: #ff0000; text-decoration-color: #ff0000\">│</span>   <span style=\"color: #7f7f7f; text-decoration-color: #7f7f7f\"> 309 │   </span><span style=\"color: #0000ff; text-decoration-color: #0000ff\">def</span> <span style=\"color: #00ff00; text-decoration-color: #00ff00\">register_hook</span>(<span style=\"color: #00ffff; text-decoration-color: #00ffff\">self</span>, hook):                                                 <span style=\"color: #ff0000; text-decoration-color: #ff0000\">│</span>\n",
       "<span style=\"color: #ff0000; text-decoration-color: #ff0000\">│</span>   <span style=\"color: #7f7f7f; text-decoration-color: #7f7f7f\"> 310 │   │   </span><span style=\"color: #808000; text-decoration-color: #808000\">r\"\"\"Registers a backward hook.</span>                                             <span style=\"color: #ff0000; text-decoration-color: #ff0000\">│</span>\n",
       "<span style=\"color: #ff0000; text-decoration-color: #ff0000\">│</span>                                                                                           <span style=\"color: #ff0000; text-decoration-color: #ff0000\">│</span>\n",
       "<span style=\"color: #ff0000; text-decoration-color: #ff0000\">│</span> <span style=\"color: #bfbf7f; text-decoration-color: #bfbf7f\">/Users/saforem2/projects/l2hmc-qcd/env/lib/python3.9/site-packages/torch/autograd/</span><span style=\"color: #808000; text-decoration-color: #808000; font-weight: bold\">__init_</span> <span style=\"color: #ff0000; text-decoration-color: #ff0000\">│</span>\n",
       "<span style=\"color: #ff0000; text-decoration-color: #ff0000\">│</span> <span style=\"color: #808000; text-decoration-color: #808000; font-weight: bold\">_.py</span>:<span style=\"color: #0000ff; text-decoration-color: #0000ff\">154</span> in <span style=\"color: #00ff00; text-decoration-color: #00ff00\">backward</span>                                                                      <span style=\"color: #ff0000; text-decoration-color: #ff0000\">│</span>\n",
       "<span style=\"color: #ff0000; text-decoration-color: #ff0000\">│</span>                                                                                           <span style=\"color: #ff0000; text-decoration-color: #ff0000\">│</span>\n",
       "<span style=\"color: #ff0000; text-decoration-color: #ff0000\">│</span>   <span style=\"color: #7f7f7f; text-decoration-color: #7f7f7f\">151 │   </span><span style=\"color: #0000ff; text-decoration-color: #0000ff\">if</span> retain_graph <span style=\"color: #ff00ff; text-decoration-color: #ff00ff\">is</span> <span style=\"color: #0000ff; text-decoration-color: #0000ff\">None</span>:                                                        <span style=\"color: #ff0000; text-decoration-color: #ff0000\">│</span>\n",
       "<span style=\"color: #ff0000; text-decoration-color: #ff0000\">│</span>   <span style=\"color: #7f7f7f; text-decoration-color: #7f7f7f\">152 │   │   </span>retain_graph = create_graph                                                 <span style=\"color: #ff0000; text-decoration-color: #ff0000\">│</span>\n",
       "<span style=\"color: #ff0000; text-decoration-color: #ff0000\">│</span>   <span style=\"color: #7f7f7f; text-decoration-color: #7f7f7f\">153 │   </span>                                                                                <span style=\"color: #ff0000; text-decoration-color: #ff0000\">│</span>\n",
       "<span style=\"color: #ff0000; text-decoration-color: #ff0000\">│</span> <span style=\"color: #800000; text-decoration-color: #800000\">❱ </span>154 <span style=\"color: #7f7f7f; text-decoration-color: #7f7f7f\">│   </span>Variable._execution_engine.run_backward(                                        <span style=\"color: #ff0000; text-decoration-color: #ff0000\">│</span>\n",
       "<span style=\"color: #ff0000; text-decoration-color: #ff0000\">│</span>   <span style=\"color: #7f7f7f; text-decoration-color: #7f7f7f\">155 │   │   </span>tensors, grad_tensors_, retain_graph, create_graph, inputs,                 <span style=\"color: #ff0000; text-decoration-color: #ff0000\">│</span>\n",
       "<span style=\"color: #ff0000; text-decoration-color: #ff0000\">│</span>   <span style=\"color: #7f7f7f; text-decoration-color: #7f7f7f\">156 │   │   </span>allow_unreachable=<span style=\"color: #0000ff; text-decoration-color: #0000ff\">True</span>, accumulate_grad=<span style=\"color: #0000ff; text-decoration-color: #0000ff\">True</span>)  <span style=\"color: #7f7f7f; text-decoration-color: #7f7f7f\"># allow_unreachable flag</span>     <span style=\"color: #ff0000; text-decoration-color: #ff0000\">│</span>\n",
       "<span style=\"color: #ff0000; text-decoration-color: #ff0000\">│</span>   <span style=\"color: #7f7f7f; text-decoration-color: #7f7f7f\">157 </span>                                                                                    <span style=\"color: #ff0000; text-decoration-color: #ff0000\">│</span>\n",
       "<span style=\"color: #ff0000; text-decoration-color: #ff0000\">╰───────────────────────────────────────────────────────────────────────────────────────────╯</span>\n",
       "<span style=\"color: #ff0000; text-decoration-color: #ff0000; font-weight: bold\">KeyboardInterrupt</span>\n",
       "</pre>\n"
      ],
      "text/plain": [
       "\u001b[91m╭─\u001b[0m\u001b[91m─────────────────────────── \u001b[0m\u001b[1;31mTraceback \u001b[0m\u001b[1;2;31m(most recent call last)\u001b[0m\u001b[91m ───────────────────────────\u001b[0m\u001b[91m─╮\u001b[0m\n",
       "\u001b[91m│\u001b[0m                                                                                           \u001b[91m│\u001b[0m\n",
       "\u001b[91m│\u001b[0m \u001b[2;33m/var/folders/b0/s0cn4kh53l55xstxzzsd3dn00000gn/T/ipykernel_36261/\u001b[0m\u001b[1;33m2203275882.py\u001b[0m:\u001b[94m11\u001b[0m in      \u001b[91m│\u001b[0m\n",
       "\u001b[91m│\u001b[0m \u001b[92m<module>\u001b[0m                                                                                  \u001b[91m│\u001b[0m\n",
       "\u001b[91m│\u001b[0m                                                                                           \u001b[91m│\u001b[0m\n",
       "\u001b[91m│\u001b[0m \u001b[3;31m[Errno 2] No such file or directory: \u001b[0m                                                     \u001b[91m│\u001b[0m\n",
       "\u001b[91m│\u001b[0m \u001b[3;31m'/var/folders/b0/s0cn4kh53l55xstxzzsd3dn00000gn/T/ipykernel_36261/2203275882.py'\u001b[0m          \u001b[91m│\u001b[0m\n",
       "\u001b[91m│\u001b[0m \u001b[2;33m/Users/saforem2/projects/l2hmc-qcd/src/l2hmc/trainers/pytorch/\u001b[0m\u001b[1;33mtrainer.py\u001b[0m:\u001b[94m133\u001b[0m in \u001b[92mtrain\u001b[0m     \u001b[91m│\u001b[0m\n",
       "\u001b[91m│\u001b[0m                                                                                           \u001b[91m│\u001b[0m\n",
       "\u001b[91m│\u001b[0m   \u001b[2m130 \u001b[0m\u001b[2m│   │   │   \u001b[0m\u001b[94mwith\u001b[0m Live(table, refresh_per_second=\u001b[94m1\u001b[0m):                                 \u001b[91m│\u001b[0m\n",
       "\u001b[91m│\u001b[0m   \u001b[2m131 \u001b[0m\u001b[2m│   │   │   │   \u001b[0m\u001b[94mfor\u001b[0m epoch \u001b[95min\u001b[0m \u001b[96mrange\u001b[0m(\u001b[96mself\u001b[0m.steps.nepoch):                              \u001b[91m│\u001b[0m\n",
       "\u001b[91m│\u001b[0m   \u001b[2m132 \u001b[0m\u001b[2m│   │   │   │   │   \u001b[0m\u001b[96mself\u001b[0m.timer.start()                                              \u001b[91m│\u001b[0m\n",
       "\u001b[91m│\u001b[0m \u001b[31m❱ \u001b[0m133 \u001b[2m│   │   │   │   │   \u001b[0mx, metrics = \u001b[96mself\u001b[0m.train_step((x, beta))                         \u001b[91m│\u001b[0m\n",
       "\u001b[91m│\u001b[0m   \u001b[2m134 \u001b[0m\u001b[2m│   │   │   │   │   \u001b[0m\u001b[94mif\u001b[0m should_print(epoch) \u001b[95mor\u001b[0m should_log(epoch):                    \u001b[91m│\u001b[0m\n",
       "\u001b[91m│\u001b[0m   \u001b[2m135 \u001b[0m\u001b[2m│   │   │   │   │   │   \u001b[0mrecord = {                                                  \u001b[91m│\u001b[0m\n",
       "\u001b[91m│\u001b[0m   \u001b[2m136 \u001b[0m\u001b[2m│   │   │   │   │   │   │   \u001b[0m\u001b[33m'\u001b[0m\u001b[33mera\u001b[0m\u001b[33m'\u001b[0m: era,                                             \u001b[91m│\u001b[0m\n",
       "\u001b[91m│\u001b[0m                                                                                           \u001b[91m│\u001b[0m\n",
       "\u001b[91m│\u001b[0m \u001b[2;33m/Users/saforem2/projects/l2hmc-qcd/src/l2hmc/trainers/pytorch/\u001b[0m\u001b[1;33mtrainer.py\u001b[0m:\u001b[94m65\u001b[0m in \u001b[92mtrain_step\u001b[0m \u001b[91m│\u001b[0m\n",
       "\u001b[91m│\u001b[0m                                                                                           \u001b[91m│\u001b[0m\n",
       "\u001b[91m│\u001b[0m   \u001b[2m 62 \u001b[0m\u001b[2m│   │   \u001b[0mx_prop = to_u1(metrics.pop(\u001b[33m'\u001b[0m\u001b[33mmc_states\u001b[0m\u001b[33m'\u001b[0m).proposed.x)                         \u001b[91m│\u001b[0m\n",
       "\u001b[91m│\u001b[0m   \u001b[2m 63 \u001b[0m\u001b[2m│   │   \u001b[0mloss = \u001b[96mself\u001b[0m.loss_fn(x_init=x_init, x_prop=x_prop, acc=metrics[\u001b[33m'\u001b[0m\u001b[33macc\u001b[0m\u001b[33m'\u001b[0m])       \u001b[91m│\u001b[0m\n",
       "\u001b[91m│\u001b[0m   \u001b[2m 64 \u001b[0m\u001b[2m│   │   \u001b[0m\u001b[96mself\u001b[0m.optimizer.zero_grad()                                                  \u001b[91m│\u001b[0m\n",
       "\u001b[91m│\u001b[0m \u001b[31m❱ \u001b[0m 65 \u001b[2m│   │   \u001b[0m\u001b[96mself\u001b[0m.accelerator.backward(loss)                                             \u001b[91m│\u001b[0m\n",
       "\u001b[91m│\u001b[0m   \u001b[2m 66 \u001b[0m\u001b[2m│   │   \u001b[0m\u001b[2m# loss.backward()\u001b[0m                                                           \u001b[91m│\u001b[0m\n",
       "\u001b[91m│\u001b[0m   \u001b[2m 67 \u001b[0m\u001b[2m│   │   \u001b[0m\u001b[96mself\u001b[0m.optimizer.step()                                                       \u001b[91m│\u001b[0m\n",
       "\u001b[91m│\u001b[0m   \u001b[2m 68 \u001b[0m\u001b[2m│   │   \u001b[0mrecord = {                                                                  \u001b[91m│\u001b[0m\n",
       "\u001b[91m│\u001b[0m                                                                                           \u001b[91m│\u001b[0m\n",
       "\u001b[91m│\u001b[0m \u001b[2;33m/Users/saforem2/projects/l2hmc-qcd/env/lib/python3.9/site-packages/accelerate/\u001b[0m\u001b[1;33maccelerator\u001b[0m \u001b[91m│\u001b[0m\n",
       "\u001b[91m│\u001b[0m \u001b[1;33m.py\u001b[0m:\u001b[94m408\u001b[0m in \u001b[92mbackward\u001b[0m                                                                       \u001b[91m│\u001b[0m\n",
       "\u001b[91m│\u001b[0m                                                                                           \u001b[91m│\u001b[0m\n",
       "\u001b[91m│\u001b[0m   \u001b[2m405 \u001b[0m\u001b[2m│   │   \u001b[0m\u001b[94melif\u001b[0m \u001b[96mself\u001b[0m.scaler \u001b[95mis\u001b[0m \u001b[95mnot\u001b[0m \u001b[94mNone\u001b[0m:                                               \u001b[91m│\u001b[0m\n",
       "\u001b[91m│\u001b[0m   \u001b[2m406 \u001b[0m\u001b[2m│   │   │   \u001b[0m\u001b[96mself\u001b[0m.scaler.scale(loss).backward(**kwargs)                              \u001b[91m│\u001b[0m\n",
       "\u001b[91m│\u001b[0m   \u001b[2m407 \u001b[0m\u001b[2m│   │   \u001b[0m\u001b[94melse\u001b[0m:                                                                       \u001b[91m│\u001b[0m\n",
       "\u001b[91m│\u001b[0m \u001b[31m❱ \u001b[0m408 \u001b[2m│   │   │   \u001b[0mloss.backward(**kwargs)                                                 \u001b[91m│\u001b[0m\n",
       "\u001b[91m│\u001b[0m   \u001b[2m409 \u001b[0m\u001b[2m│   \u001b[0m                                                                                \u001b[91m│\u001b[0m\n",
       "\u001b[91m│\u001b[0m   \u001b[2m410 \u001b[0m\u001b[2m│   \u001b[0m\u001b[94mdef\u001b[0m \u001b[92munscale_gradients\u001b[0m(\u001b[96mself\u001b[0m, optimizer=\u001b[94mNone\u001b[0m):                                    \u001b[91m│\u001b[0m\n",
       "\u001b[91m│\u001b[0m   \u001b[2m411 \u001b[0m\u001b[2m│   │   \u001b[0m\u001b[33m\"\"\"\u001b[0m                                                                         \u001b[91m│\u001b[0m\n",
       "\u001b[91m│\u001b[0m                                                                                           \u001b[91m│\u001b[0m\n",
       "\u001b[91m│\u001b[0m \u001b[2;33m/Users/saforem2/projects/l2hmc-qcd/env/lib/python3.9/site-packages/torch/\u001b[0m\u001b[1;33m_tensor.py\u001b[0m:\u001b[94m307\u001b[0m   \u001b[91m│\u001b[0m\n",
       "\u001b[91m│\u001b[0m in \u001b[92mbackward\u001b[0m                                                                               \u001b[91m│\u001b[0m\n",
       "\u001b[91m│\u001b[0m                                                                                           \u001b[91m│\u001b[0m\n",
       "\u001b[91m│\u001b[0m   \u001b[2m 304 \u001b[0m\u001b[2m│   │   │   │   \u001b[0mretain_graph=retain_graph,                                         \u001b[91m│\u001b[0m\n",
       "\u001b[91m│\u001b[0m   \u001b[2m 305 \u001b[0m\u001b[2m│   │   │   │   \u001b[0mcreate_graph=create_graph,                                         \u001b[91m│\u001b[0m\n",
       "\u001b[91m│\u001b[0m   \u001b[2m 306 \u001b[0m\u001b[2m│   │   │   │   \u001b[0minputs=inputs)                                                     \u001b[91m│\u001b[0m\n",
       "\u001b[91m│\u001b[0m \u001b[31m❱ \u001b[0m 307 \u001b[2m│   │   \u001b[0mtorch.autograd.backward(\u001b[96mself\u001b[0m, gradient, retain_graph, create_graph, inputs \u001b[91m│\u001b[0m\n",
       "\u001b[91m│\u001b[0m   \u001b[2m 308 \u001b[0m\u001b[2m│   \u001b[0m                                                                               \u001b[91m│\u001b[0m\n",
       "\u001b[91m│\u001b[0m   \u001b[2m 309 \u001b[0m\u001b[2m│   \u001b[0m\u001b[94mdef\u001b[0m \u001b[92mregister_hook\u001b[0m(\u001b[96mself\u001b[0m, hook):                                                 \u001b[91m│\u001b[0m\n",
       "\u001b[91m│\u001b[0m   \u001b[2m 310 \u001b[0m\u001b[2m│   │   \u001b[0m\u001b[33mr\u001b[0m\u001b[33m\"\"\"Registers a backward hook.\u001b[0m                                             \u001b[91m│\u001b[0m\n",
       "\u001b[91m│\u001b[0m                                                                                           \u001b[91m│\u001b[0m\n",
       "\u001b[91m│\u001b[0m \u001b[2;33m/Users/saforem2/projects/l2hmc-qcd/env/lib/python3.9/site-packages/torch/autograd/\u001b[0m\u001b[1;33m__init_\u001b[0m \u001b[91m│\u001b[0m\n",
       "\u001b[91m│\u001b[0m \u001b[1;33m_.py\u001b[0m:\u001b[94m154\u001b[0m in \u001b[92mbackward\u001b[0m                                                                      \u001b[91m│\u001b[0m\n",
       "\u001b[91m│\u001b[0m                                                                                           \u001b[91m│\u001b[0m\n",
       "\u001b[91m│\u001b[0m   \u001b[2m151 \u001b[0m\u001b[2m│   \u001b[0m\u001b[94mif\u001b[0m retain_graph \u001b[95mis\u001b[0m \u001b[94mNone\u001b[0m:                                                        \u001b[91m│\u001b[0m\n",
       "\u001b[91m│\u001b[0m   \u001b[2m152 \u001b[0m\u001b[2m│   │   \u001b[0mretain_graph = create_graph                                                 \u001b[91m│\u001b[0m\n",
       "\u001b[91m│\u001b[0m   \u001b[2m153 \u001b[0m\u001b[2m│   \u001b[0m                                                                                \u001b[91m│\u001b[0m\n",
       "\u001b[91m│\u001b[0m \u001b[31m❱ \u001b[0m154 \u001b[2m│   \u001b[0mVariable._execution_engine.run_backward(                                        \u001b[91m│\u001b[0m\n",
       "\u001b[91m│\u001b[0m   \u001b[2m155 \u001b[0m\u001b[2m│   │   \u001b[0mtensors, grad_tensors_, retain_graph, create_graph, inputs,                 \u001b[91m│\u001b[0m\n",
       "\u001b[91m│\u001b[0m   \u001b[2m156 \u001b[0m\u001b[2m│   │   \u001b[0mallow_unreachable=\u001b[94mTrue\u001b[0m, accumulate_grad=\u001b[94mTrue\u001b[0m)  \u001b[2m# allow_unreachable flag\u001b[0m     \u001b[91m│\u001b[0m\n",
       "\u001b[91m│\u001b[0m   \u001b[2m157 \u001b[0m                                                                                    \u001b[91m│\u001b[0m\n",
       "\u001b[91m╰───────────────────────────────────────────────────────────────────────────────────────────╯\u001b[0m\n",
       "\u001b[1;91mKeyboardInterrupt\u001b[0m\n"
      ]
     },
     "metadata": {},
     "output_type": "display_data"
    }
   ],
   "source": [
    "from src.l2hmc.trainers.pytorch.trainer import Trainer as ptTrainer\n",
    "\n",
    "dynamics_pt = dynamics_pt.to(accelerator.device)\n",
    "dynamics_pt, optimizer_pt = accelerator.prepare(dynamics_pt, optimizer_pt)\n",
    "trainer_pt = ptTrainer(steps=steps,\n",
    "                       dynamics=dynamics_pt,\n",
    "                       optimizer=optimizer_pt,\n",
    "                       loss_fn=loss_pt,\n",
    "                       accelerator=accelerator)\n",
    "\n",
    "output_pt = trainer_pt.train()\n",
    "history_pt = output_pt['history']\n",
    "dataset_pt = history_pt.get_dataset()"
   ]
  },
  {
   "cell_type": "code",
   "execution_count": null,
   "id": "4acc17e0",
   "metadata": {
    "ExecuteTime": {
     "end_time": "2022-01-25T23:40:29.666207Z",
     "start_time": "2022-01-25T23:40:29.666189Z"
    }
   },
   "outputs": [],
   "source": [
    "%debug"
   ]
  },
  {
   "cell_type": "markdown",
   "id": "58ab5a9c",
   "metadata": {},
   "source": [
    "## Compare\n",
    "\n",
    "Explicitly, look at how training metrics compare from `TensorFlow` vs. `PyTorch` models.\n",
    "\n",
    "First, we define a helper function for plotting both `tensorflow` and `pytorch` metrics (converted to `np.ndarray`'s) on the same graph: "
   ]
  },
  {
   "cell_type": "code",
   "execution_count": null,
   "id": "6ee6649f",
   "metadata": {
    "ExecuteTime": {
     "end_time": "2022-01-25T15:38:07.633748Z",
     "start_time": "2022-01-25T15:38:07.555190Z"
    },
    "tags": []
   },
   "outputs": [],
   "source": [
    "from __future__ import annotations\n",
    "def plot_both(\n",
    "        ytf: np.ndarray,\n",
    "        ypt: np.ndarray,\n",
    "        figsize: Optional[tuple[int]] = FIGSIZE,\n",
    "        xlabel: Optional[str] = None,\n",
    "        ylabel: Optional[str] = None,\n",
    ") -> tuple[plt.Figure, plt.Axes]:\n",
    "    fig, ax = plt.subplots(figsize=figsize)\n",
    "    _ = ax.plot(np.arange(ytf.shape[0]), ytf, label='Tensorflow');\n",
    "    _ = ax.plot(np.arange(ypt.shape[0]), ypt, label='Pytorch');\n",
    "    if xlabel is not None:\n",
    "        _ = ax.set_xlabel(xlabel)\n",
    "    if ylabel is not None:\n",
    "        _ = ax.set_ylabel(ylabel)\n",
    "    _ = ax.grid(True, color='#252525');\n",
    "    matplotx.line_labels(ax=ax)\n",
    "    return fig, ax"
   ]
  },
  {
   "cell_type": "markdown",
   "id": "d4dc5c12-d184-4b5b-a4a8-ed3de0c8993f",
   "metadata": {},
   "source": [
    "## Compare training loss:"
   ]
  },
  {
   "cell_type": "code",
   "execution_count": null,
   "id": "84db5dc3-88b3-40d8-a9ca-98bed115ae71",
   "metadata": {
    "ExecuteTime": {
     "end_time": "2022-01-25T15:38:09.956425Z",
     "start_time": "2022-01-25T15:38:09.282510Z"
    },
    "tags": []
   },
   "outputs": [],
   "source": [
    "plt.style.use(matplotx.styles.dufte)\n",
    "plt.rcParams.update({'axes.grid': True})\n",
    "loss_tf = np.array(history_tf.history['loss'])\n",
    "loss_pt = np.array(history_pt.history['loss'])\n",
    "\n",
    "fig, ax = plot_both(ytf=loss_tf, ypt=loss_pt, figsize=(9, 4),\n",
    "                    xlabel='Train Epoch', ylabel='Loss')\n",
    "ax.grid(axis='y', color='#686868')"
   ]
  },
  {
   "cell_type": "markdown",
   "id": "14125986-6009-4a35-8fea-b207f76e9998",
   "metadata": {},
   "source": [
    "# Plot data"
   ]
  },
  {
   "cell_type": "code",
   "execution_count": null,
   "id": "8f12ef25-48eb-4a46-9411-3ea35ecc6a0d",
   "metadata": {
    "ExecuteTime": {
     "end_time": "2022-01-25T15:38:14.960089Z",
     "start_time": "2022-01-25T15:38:14.884898Z"
    },
    "tags": []
   },
   "outputs": [],
   "source": [
    "import warnings\n",
    "warnings.filterwarnings('ignore')"
   ]
  },
  {
   "cell_type": "markdown",
   "id": "9d537800",
   "metadata": {},
   "source": [
    "### Aggregate metrics to plot\n",
    "\n",
    "1. Identify all keys across both histories\n",
    "2. "
   ]
  },
  {
   "cell_type": "code",
   "execution_count": null,
   "id": "1e26ed81",
   "metadata": {
    "ExecuteTime": {
     "end_time": "2022-01-25T15:38:17.126130Z",
     "start_time": "2022-01-25T15:38:17.045289Z"
    },
    "tags": []
   },
   "outputs": [],
   "source": [
    "keys = list(history_tf.history.keys()) + list(history_pt.history.keys())\n",
    "ytf_dict = {key: dataset_tf.data_vars.get(key, None) for key in keys}\n",
    "ypt_dict = {key: dataset_pt.data_vars.get(key, None) for key in keys}\n",
    "yboth_dict = {}\n",
    "for k in keys:\n",
    "    ytf = ytf_dict.get(k, None)\n",
    "    ypt = ypt_dict.get(k, None)\n",
    "    if ytf is not None and ypt is not None:\n",
    "        yboth_dict[k] = {\n",
    "            'pt': ypt,\n",
    "            'tf': ytf,\n",
    "        }\n",
    "#yboth_dict = {k: {'pt': ypt_dict.get(k, None), 'tf': ytf_dict.get(k, None)} for k in keys}\n",
    "ytf_dict = {k: v for k, v in ytf_dict.items() if v is not None}\n",
    "ypt_dict = {k: v for k, v in ypt_dict.items() if v is not None}"
   ]
  },
  {
   "cell_type": "code",
   "execution_count": null,
   "id": "9d00ae3b",
   "metadata": {
    "ExecuteTime": {
     "end_time": "2022-01-25T15:38:18.028417Z",
     "start_time": "2022-01-25T15:38:17.944784Z"
    },
    "tags": []
   },
   "outputs": [],
   "source": [
    "ytf_dict.keys()\n",
    "ypt_dict.keys()\n",
    "yboth_dict.keys()"
   ]
  },
  {
   "cell_type": "markdown",
   "id": "6cd6d7ab-8603-4811-81ad-b4e4b5a71b25",
   "metadata": {},
   "source": [
    "### Plot `TensorFlow` training data:"
   ]
  },
  {
   "cell_type": "code",
   "execution_count": null,
   "id": "319922d9-8103-46d8-959f-b4f4bd559544",
   "metadata": {
    "ExecuteTime": {
     "end_time": "2022-01-25T15:41:54.351414Z",
     "start_time": "2022-01-25T15:41:47.561753Z"
    },
    "tags": []
   },
   "outputs": [],
   "source": [
    "plt.style.use('default')\n",
    "plt.style.use(matplotx.styles.dufte)\n",
    "import src.l2hmc.utils.plot_helpers as hplt\n",
    "sns.set_palette(list(colors.values()))\n",
    "sns.set_context('paper')\n",
    "plt.rcParams.update({\n",
    "    'figure.dpi': plt.rcParamsDefault['figure.dpi'],\n",
    "    'figure.figsize': plt.rcParamsDefault['figure.figsize'],\n",
    "    'figure.facecolor': (0, 0, 0, 0.0),\n",
    "    'axes.facecolor': (0, 0, 0, 0.0),\n",
    "    'figure.edgecolor': (0, 0, 0, 0.0),\n",
    "    'axes.edgecolor': (0, 0, 0, 0.0),\n",
    "    'axes.spines.bottom': False,\n",
    "    'axes.spines.left': False,\n",
    "})\n",
    "plt.style.use(matplotx.styles.dufte)\n",
    "#plt.rcParams['axes.spines.bottom'] = False\n",
    "for key, val in ytf_dict.items():\n",
    "    fig, subfigs, axes = hplt.plot_dataArray(val,\n",
    "                                             key=key,\n",
    "                                             num_chains=5,\n",
    "                                             title='Tensorflow');"
   ]
  },
  {
   "cell_type": "markdown",
   "id": "2994ea40-af8f-40ed-a854-bd2b9c4c4b5d",
   "metadata": {},
   "source": [
    "### Plot `PyTorch` training data:"
   ]
  },
  {
   "cell_type": "code",
   "execution_count": null,
   "id": "0fbba644",
   "metadata": {
    "ExecuteTime": {
     "end_time": "2022-01-25T15:42:10.284479Z",
     "start_time": "2022-01-25T15:42:10.212409Z"
    },
    "tags": []
   },
   "outputs": [],
   "source": [
    "sns.set_context('notebook')"
   ]
  },
  {
   "cell_type": "code",
   "execution_count": null,
   "id": "cd4ca737-bf05-40c7-b06e-87f1cee26965",
   "metadata": {
    "ExecuteTime": {
     "end_time": "2022-01-25T15:46:17.312356Z",
     "start_time": "2022-01-25T15:46:06.429817Z"
    },
    "tags": []
   },
   "outputs": [],
   "source": [
    "plt.style.use(matplotx.styles.dufte)\n",
    "for key, val in ypt_dict.items():\n",
    "    fig, subfigs, axes = hplt.plot_dataArray(val,\n",
    "                                             key=key,\n",
    "                                             num_chains=6,\n",
    "                                             title='Pytorch')\n",
    "    sns.despine(fig=fig, left=True, bottom=True, trim=True)"
   ]
  },
  {
   "cell_type": "markdown",
   "id": "f2eeaa8e-1aec-44c0-90c6-061ce4574eb3",
   "metadata": {},
   "source": [
    "## Plot metrics common to both training datasets for comparison:"
   ]
  },
  {
   "cell_type": "code",
   "execution_count": null,
   "id": "095ad81a-e19d-4c16-8219-d2211ba32451",
   "metadata": {
    "ExecuteTime": {
     "end_time": "2022-01-25T15:46:37.971052Z",
     "start_time": "2022-01-25T15:46:36.423103Z"
    },
    "tags": []
   },
   "outputs": [],
   "source": [
    "for key, val in yboth_dict.items():\n",
    "    with plt.style.context(matplotx.styles.dufte):\n",
    "        ytf = val['tf']\n",
    "        ypt = val['pt']\n",
    "\n",
    "        if len(ytf.shape) == 2:\n",
    "            ytf = ytf.mean('chain')\n",
    "            ypt = ypt.mean('chain')\n",
    "\n",
    "        fig, ax = plot_both(ytf=ytf,\n",
    "                            ypt=ypt,\n",
    "                            figsize=FIGSIZE,\n",
    "                            xlabel='Train Epoch', ylabel=key)\n",
    "        _ = ax.grid(visible=False, axis='x');"
   ]
  },
  {
   "cell_type": "markdown",
   "id": "72927b7f-9fd9-429d-9913-2d073f666882",
   "metadata": {},
   "source": [
    "## Plot **all** `TensorFlow` training metrics:"
   ]
  },
  {
   "cell_type": "code",
   "execution_count": null,
   "id": "29af2e54-61a7-46cf-927b-e2e5a0323ed3",
   "metadata": {
    "ExecuteTime": {
     "end_time": "2022-01-25T15:46:45.237407Z",
     "start_time": "2022-01-25T15:46:38.554943Z"
    },
    "tags": []
   },
   "outputs": [],
   "source": [
    "with plt.style.context(matplotx.styles.dufte):\n",
    "    _ = history_tf.plot_all(num_chains=10, title=\"Tensorflow\")"
   ]
  },
  {
   "cell_type": "markdown",
   "id": "b293d80e-e040-4836-bba3-0e603093c430",
   "metadata": {},
   "source": [
    "## Plot **all** `PyTorch` training metrics:"
   ]
  },
  {
   "cell_type": "code",
   "execution_count": null,
   "id": "4129f880-aeb6-4dc1-9709-d59a72879952",
   "metadata": {
    "ExecuteTime": {
     "end_time": "2022-01-25T15:47:03.308203Z",
     "start_time": "2022-01-25T15:46:46.155111Z"
    },
    "tags": []
   },
   "outputs": [],
   "source": [
    "with plt.style.context(matplotx.styles.dufte):\n",
    "    _ = history_pt.plot_all(num_chains=10, title='Pytorch')"
   ]
  },
  {
   "cell_type": "code",
   "execution_count": null,
   "id": "644db7da-a4f2-4c48-a702-3a977d3d64cc",
   "metadata": {
    "ExecuteTime": {
     "end_time": "2022-01-25T15:47:13.681629Z",
     "start_time": "2022-01-25T15:47:04.125474Z"
    },
    "tags": []
   },
   "outputs": [],
   "source": [
    "_ = hplt.make_ridgeplots(dataset_pt)"
   ]
  },
  {
   "cell_type": "code",
   "execution_count": null,
   "id": "bf09f713-5849-4f17-a35c-c1bde8fe3f9c",
   "metadata": {},
   "outputs": [],
   "source": []
  },
  {
   "cell_type": "code",
   "execution_count": null,
   "id": "bfdc9d20-8cdf-46ac-a2b2-2c65193ce58e",
   "metadata": {},
   "outputs": [],
   "source": []
  }
 ],
 "metadata": {
  "kernelspec": {
   "display_name": "Python 3 (ipykernel)",
   "language": "python",
   "name": "python3"
  },
  "language_info": {
   "codemirror_mode": {
    "name": "ipython",
    "version": 3
   },
   "file_extension": ".py",
   "mimetype": "text/x-python",
   "name": "python",
   "nbconvert_exporter": "python",
   "pygments_lexer": "ipython3",
   "version": "3.9.10"
  },
  "nbTranslate": {
   "displayLangs": [
    "*"
   ],
   "hotkey": "alt-t",
   "langInMainMenu": true,
   "sourceLang": "en",
   "targetLang": "fr",
   "useGoogleTranslate": true
  },
  "notify_time": "5",
  "toc": {
   "base_numbering": 1,
   "nav_menu": {},
   "number_sections": true,
   "sideBar": true,
   "skip_h1_title": true,
   "title_cell": "Table of Contents",
   "title_sidebar": "Contents",
   "toc_cell": false,
   "toc_position": {},
   "toc_section_display": true,
   "toc_window_display": false
  },
  "varInspector": {
   "cols": {
    "lenName": 16,
    "lenType": 16,
    "lenVar": 40
   },
   "kernels_config": {
    "python": {
     "delete_cmd_postfix": "",
     "delete_cmd_prefix": "del ",
     "library": "var_list.py",
     "varRefreshCmd": "print(var_dic_list())"
    },
    "r": {
     "delete_cmd_postfix": ") ",
     "delete_cmd_prefix": "rm(",
     "library": "var_list.r",
     "varRefreshCmd": "cat(var_dic_list()) "
    }
   },
   "types_to_exclude": [
    "module",
    "function",
    "builtin_function_or_method",
    "instance",
    "_Feature"
   ],
   "window_display": false
  }
 },
 "nbformat": 4,
 "nbformat_minor": 5
}
