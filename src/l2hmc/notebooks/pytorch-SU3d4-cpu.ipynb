{
 "cells": [
  {
   "cell_type": "markdown",
   "id": "d5500f0a-c5b2-40b4-86d5-cac4db1b9bd6",
   "metadata": {},
   "source": [
    "# `l2hmc-qcd`\n",
    "\n",
    "This notebook contains a minimal working example for the 4D SU(3) Model\n",
    "\n",
    "Uses `torch.complex128` by default"
   ]
  },
  {
   "cell_type": "markdown",
   "id": "c9de43a0-d414-423e-be87-df388a029159",
   "metadata": {},
   "source": [
    "## Setup"
   ]
  },
  {
   "cell_type": "code",
   "execution_count": null,
   "id": "e8c347a7-85bd-468b-88f7-8b8a6ac149d2",
   "metadata": {
    "tags": []
   },
   "outputs": [],
   "source": [
    "! nvidia-smi | tail --lines -7"
   ]
  },
  {
   "cell_type": "code",
   "execution_count": null,
   "id": "333bceab-6905-428c-8ae7-2c6de02a3d04",
   "metadata": {
    "tags": []
   },
   "outputs": [],
   "source": [
    "# automatically detect and reload local changes to modules\n",
    "%load_ext autoreload\n",
    "%autoreload 2"
   ]
  },
  {
   "cell_type": "code",
   "execution_count": null,
   "id": "2e9b8278-aded-449e-b53a-c02240d46fd0",
   "metadata": {
    "tags": []
   },
   "outputs": [],
   "source": [
    "import os\n",
    "# --------------------------------------\n",
    "# BE SURE TO GRAB A FRESH GPU !\n",
    "#os.environ['CUDA_VISIBLE_DEVICES'] = '2'\n",
    "#!echo $CUDA_VISIBLE_DEVICES\n",
    "# --------------------------------------"
   ]
  },
  {
   "cell_type": "code",
   "execution_count": null,
   "id": "cf44d535-9b6f-4859-bcc3-40cfdbbf2e92",
   "metadata": {
    "tags": []
   },
   "outputs": [],
   "source": [
    "#devices = os.environ.get('CUDA_VISIBLE_DEVICES', None)\n",
    "#print(devices)\n",
    "!getconf _NPROCESSORS_ONLN"
   ]
  },
  {
   "cell_type": "code",
   "execution_count": null,
   "id": "41b1f8e8-6427-4c74-81d7-7edbf3fd433f",
   "metadata": {
    "tags": []
   },
   "outputs": [],
   "source": [
    "from __future__ import absolute_import, print_function, annotations, division\n",
    "\n",
    "import warnings\n",
    "\n",
    "import torch\n",
    "import numpy as np\n",
    "\n",
    "from hydra.core.global_hydra import GlobalHydra\n",
    "\n",
    "warnings.filterwarnings('ignore')\n",
    "\n",
    "os.environ['MASTER_PORT'] = '12345'\n",
    "#os.environ['OMP_NUM_THREADS'] = '256'\n",
    "\n",
    "np.set_printoptions(threshold=5)\n",
    "torch.set_printoptions(threshold=5, precision=5)"
   ]
  },
  {
   "cell_type": "code",
   "execution_count": null,
   "id": "dcb549a5-a53a-48e5-999d-833d4e7a9e62",
   "metadata": {
    "tags": []
   },
   "outputs": [],
   "source": [
    "from l2hmc.utils.dist import (\n",
    "    setup_torch\n",
    ")\n",
    "_ = setup_torch(\n",
    "    precision='float64',\n",
    "    backend='DDP',\n",
    "    seed=1234,\n",
    ")"
   ]
  },
  {
   "cell_type": "code",
   "execution_count": null,
   "id": "26b92eaa-eec0-40ec-800f-257882a191a5",
   "metadata": {
    "tags": []
   },
   "outputs": [],
   "source": [
    "#from l2hmc import get_logger\n",
    "#log = get_logger(level='INFO')"
   ]
  },
  {
   "cell_type": "code",
   "execution_count": null,
   "id": "0cd5735f-42d1-44f3-a539-1996d38d8446",
   "metadata": {
    "tags": []
   },
   "outputs": [],
   "source": [
    "from l2hmc.experiment.pytorch.experiment import Experiment as ptExperiment\n",
    "\n",
    "import l2hmc.group.su3.pytorch.group as gpt\n",
    "ptsu3 = gpt.SU3()\n",
    "\n",
    "import l2hmc\n",
    "l2hmc.__file__"
   ]
  },
  {
   "cell_type": "code",
   "execution_count": null,
   "id": "01fcc628-a677-460c-b841-e8f9be108fac",
   "metadata": {
    "tags": []
   },
   "outputs": [],
   "source": [
    "%matplotlib widget\n",
    "import matplotlib.pyplot as plt\n",
    "\n",
    "from l2hmc.common import grab_tensor, print_dict\n",
    "from l2hmc.utils.plot_helpers import set_plot_style\n",
    "\n",
    "set_plot_style()\n",
    "\n",
    "from l2hmc.utils.plot_helpers import (  # noqa\n",
    "    set_plot_style,\n",
    "    plot_scalar,\n",
    "    plot_chains,\n",
    "    plot_leapfrogs\n",
    ")\n",
    "\n",
    "\n",
    "def plot_metrics(metrics: dict, title: Optional[str] = None):\n",
    "    for key, val in metrics.items():\n",
    "        fig, ax = plot_metric(val, name=key)\n",
    "        if title is not None:\n",
    "            ax.set_title(title)\n",
    "\n",
    "\n",
    "def plot_metric(\n",
    "        metric: torch.Tensor,\n",
    "        name: Optional[str] = None,\n",
    "):\n",
    "    assert len(metric) > 0\n",
    "    if isinstance(metric[0], (int, float, bool, np.floating)):\n",
    "        y = np.stack(metric)\n",
    "        return plot_scalar(y, ylabel=name)\n",
    "    element_shape = metric[0].shape\n",
    "    if len(element_shape) == 2:\n",
    "        y = grab_tensor(torch.stack(metric))\n",
    "        return plot_leapfrogs(y, ylabel=name)\n",
    "    if len(element_shape) == 1:\n",
    "        y = grab_tensor(torch.stack(metric))\n",
    "        return plot_chains(y, ylabel=name)\n",
    "    if len(element_shape) == 0:\n",
    "        y = grab_tensor(torch.stack(metric))\n",
    "        return plot_scalar(y, ylabel=name)\n",
    "    raise ValueError"
   ]
  },
  {
   "cell_type": "markdown",
   "id": "1095d871-cb36-47c2-919c-bd7d9a82294e",
   "metadata": {},
   "source": [
    "## Specify defaults for building Experiment"
   ]
  },
  {
   "cell_type": "code",
   "execution_count": null,
   "id": "cac8a401-9c3c-4eb1-a837-d71e371f9636",
   "metadata": {
    "tags": []
   },
   "outputs": [],
   "source": [
    "GlobalHydra.instance().clear()"
   ]
  },
  {
   "cell_type": "code",
   "execution_count": null,
   "id": "8a3cdc7f-829d-46a5-b803-d0a2b9010c54",
   "metadata": {
    "tags": []
   },
   "outputs": [],
   "source": [
    "DEFAULTS = {\n",
    "    'save': False,\n",
    "    'restore': False,\n",
    "    'init_aim': False,\n",
    "    'init_wandb': False,\n",
    "    'backend': 'DDP',\n",
    "    'framework': 'pytorch',\n",
    "    'conv': None,\n",
    "    'network': {\n",
    "        'use_batch_norm': True,\n",
    "        'activation_fn': 'tanh',\n",
    "        'dropout_prob': 0.0,\n",
    "        'units': [8, 8],\n",
    "    },\n",
    "    'dynamics': {\n",
    "        'group': 'SU3',\n",
    "        'eps': 0.1,\n",
    "        'nchains': 2,\n",
    "        'nleapfrog': 2,\n",
    "        'verbose': True,\n",
    "        'latvolume': [4, 4, 4, 4],\n",
    "        'eps_fixed': False,\n",
    "    },\n",
    "    'net_weights': {\n",
    "        'x': {\n",
    "            's': 0.0,\n",
    "            't': 1.0,\n",
    "            'q': 1.0,\n",
    "        },\n",
    "        'v': {\n",
    "            's': 1.0,\n",
    "            't': 1.0,\n",
    "            'q': 1.0,\n",
    "        },\n",
    "    },\n",
    "    'loss': {\n",
    "        'rmse_weight': 1.0,\n",
    "        'plaq_weight': 0.0,\n",
    "        'charge_weight': 0.0,\n",
    "        'use_mixed_loss': False,\n",
    "    },\n",
    "    'steps': {\n",
    "        'nera': 1,\n",
    "        'nepoch': 10,\n",
    "        'test': 50,\n",
    "        'print': 1,\n",
    "        'log': 1,\n",
    "    },\n",
    "    'learning_rate': {\n",
    "        'lr_init': 0.00001,\n",
    "        'clip_norm': 1e-8,\n",
    "    },\n",
    "    'annealing_schedule': {\n",
    "        'beta_init': 6.0,\n",
    "        'beta_final': 6.0,\n",
    "    },\n",
    "}"
   ]
  },
  {
   "cell_type": "code",
   "execution_count": null,
   "id": "8c371243-fc97-4a64-a584-2327429cc8d9",
   "metadata": {
    "tags": []
   },
   "outputs": [],
   "source": [
    "try:\n",
    "    import gc\n",
    "    import GPUtil\n",
    "\n",
    "    gc.collect()\n",
    "    with torch.no_grad():\n",
    "        torch.cuda.empty_cache()\n",
    "    torch.clear_autocast_cache()\n",
    "    GPUtil.showUtilization()\n",
    "except ImportError:\n",
    "    pass"
   ]
  },
  {
   "cell_type": "markdown",
   "id": "888b06d3-9700-4793-aacc-c7cea3336334",
   "metadata": {},
   "source": [
    "## Build Experiment"
   ]
  },
  {
   "cell_type": "code",
   "execution_count": null,
   "id": "3abd58fa-13a0-4eaa-8fb4-ec1ba453dadb",
   "metadata": {
    "tags": []
   },
   "outputs": [],
   "source": [
    "from l2hmc.configs import dict_to_list_of_overrides\n",
    "OVERRIDES = dict_to_list_of_overrides(DEFAULTS)\n",
    "OVERRIDES"
   ]
  },
  {
   "cell_type": "code",
   "execution_count": null,
   "id": "7ae7a51b-2c63-480f-933f-dc26c7a1dbe4",
   "metadata": {
    "tags": []
   },
   "outputs": [],
   "source": [
    "from l2hmc.configs import get_experiment  # noqa\n",
    "from l2hmc.configs import dict_to_list_of_overrides\n",
    "\n",
    "GlobalHydra.instance().clear()\n",
    "\n",
    "OVERRIDES = dict_to_list_of_overrides(DEFAULTS)\n",
    "\n",
    "ptExpSU3 = get_experiment(\n",
    "    overrides=[\n",
    "        *OVERRIDES,\n",
    "        'framework=pytorch',\n",
    "        'backend=DDP',\n",
    "        'init_wandb=False',\n",
    "        'init_aim=False',\n",
    "        'learning_rate.clip_norm=1.0',\n",
    "        'restore=false',\n",
    "        'save=false',\n",
    "    ],\n",
    "    build_networks=True,\n",
    ")"
   ]
  },
  {
   "cell_type": "markdown",
   "id": "224894c7-845d-414c-b992-6a70f330af56",
   "metadata": {},
   "source": [
    "## Evaluate"
   ]
  },
  {
   "cell_type": "code",
   "execution_count": null,
   "id": "e248871f-e74f-45c7-bc3b-ec285a283038",
   "metadata": {
    "tags": []
   },
   "outputs": [],
   "source": [
    "state = ptExpSU3.trainer.dynamics.random_state(6.0)\n",
    "x0 = state.x"
   ]
  },
  {
   "cell_type": "markdown",
   "id": "7f9b14a1-d979-4516-b258-f1f4e4e58809",
   "metadata": {
    "tags": []
   },
   "source": [
    "### HMC"
   ]
  },
  {
   "cell_type": "code",
   "execution_count": null,
   "id": "45f521d8-640d-4cd5-a104-640e08cecd4c",
   "metadata": {
    "tags": []
   },
   "outputs": [],
   "source": [
    "from l2hmc.experiment.pytorch.experiment import evaluate  # noqa\n",
    "\n",
    "xhmc, history_hmc = evaluate(\n",
    "    nsteps=100,\n",
    "    exp=ptExpSU3,\n",
    "    beta=6.0,\n",
    "    x=x0,\n",
    "    eps=0.1,\n",
    "    nleapfrog=4,\n",
    "    job_type='hmc',\n",
    "    nlog=1,\n",
    "    nprint=1,\n",
    "    grab=True\n",
    ")"
   ]
  },
  {
   "cell_type": "code",
   "execution_count": null,
   "id": "2d17dd6c-482c-4bc6-b65b-d861fc0cf6d8",
   "metadata": {
    "tags": []
   },
   "outputs": [],
   "source": [
    "plot_metrics(history_hmc, title='HMC')"
   ]
  },
  {
   "cell_type": "markdown",
   "id": "d3649c07-aa32-4db6-9f2c-5b151e8869c8",
   "metadata": {},
   "source": [
    "### Inference"
   ]
  },
  {
   "cell_type": "code",
   "execution_count": null,
   "id": "883ea62b-29f3-4a3e-bd70-efd20e8919f1",
   "metadata": {
    "tags": []
   },
   "outputs": [],
   "source": [
    "ptExpSU3.trainer.dynamics.init_weights(\n",
    "    method='uniform',\n",
    "    min=-1e-16,\n",
    "    max=1e-16,\n",
    "    bias=True,\n",
    ")\n",
    "\n",
    "nlf = ptExpSU3.trainer.dynamics.config.nleapfrog\n",
    "eps = torch.tensor(0.10)\n",
    "\n",
    "#ptExpSU3.trainer.dynamics.xeps = torch.stack(\n",
    "#    [\n",
    "#        eps for _ in range(nlf)\n",
    "#    ]\n",
    "#)\n",
    "#ptExpSU3.trainer.dynamics.veps = torch.stack(\n",
    "#    [\n",
    "#        eps for _ in range(nlf)\n",
    "#    ]\n",
    "#)"
   ]
  },
  {
   "cell_type": "code",
   "execution_count": null,
   "id": "44d1860b-a83b-466e-89cc-e5d00f987a08",
   "metadata": {
    "tags": []
   },
   "outputs": [],
   "source": [
    "np.set_printoptions(precision=5)\n",
    "torch.set_printoptions(precision=5)"
   ]
  },
  {
   "cell_type": "code",
   "execution_count": null,
   "id": "75846b36-844c-4639-af39-d8917380f966",
   "metadata": {
    "tags": []
   },
   "outputs": [],
   "source": [
    "_ = print_dict({\n",
    "    k: v for k, v in ptExpSU3.trainer.dynamics.named_parameters()\n",
    "}, grab=True)"
   ]
  },
  {
   "cell_type": "code",
   "execution_count": null,
   "id": "f06a4804-f8b1-4199-a548-93bc4fb2e34b",
   "metadata": {
    "tags": []
   },
   "outputs": [],
   "source": [
    "from l2hmc.experiment.pytorch.experiment import evaluate  # noqa\n",
    "\n",
    "#ptExpSU3.trainer.dynamics.init_weights()\n",
    "#    #constant=np.random.randn() / 1e10\n",
    "#    constant=0.0,\n",
    "#)\n",
    "\n",
    "xeval, history_eval = evaluate(\n",
    "    nsteps=100,\n",
    "    exp=ptExpSU3,\n",
    "    beta=6.0,\n",
    "    x=x0,\n",
    "    job_type='eval',\n",
    "    nlog=1,\n",
    "    nprint=1,\n",
    "    grab=True,\n",
    ")"
   ]
  },
  {
   "cell_type": "code",
   "execution_count": null,
   "id": "767fdf64-d0ad-43ed-98fd-c23db06db263",
   "metadata": {
    "tags": []
   },
   "outputs": [],
   "source": [
    "plot_metrics(history_eval, title='Evaluate')"
   ]
  },
  {
   "cell_type": "code",
   "execution_count": null,
   "id": "f8e29abb-1fd0-4e48-9b4f-8a23a2b3c5d9",
   "metadata": {
    "tags": []
   },
   "outputs": [],
   "source": [
    "_ = plot_metric(history_hmc['plaqs'], name='hmc/plaqs')"
   ]
  },
  {
   "cell_type": "code",
   "execution_count": null,
   "id": "ed7b83d5-4705-4576-bb8e-fc80a7b27dc4",
   "metadata": {
    "tags": []
   },
   "outputs": [],
   "source": [
    "pratio = [\n",
    "    ph / pe for (pe, ph) in zip(history_hmc['plaqs'], history_eval['plaqs'])\n",
    "]\n",
    "pdiff = [\n",
    "    (ph - pe).abs() for (pe, ph) in zip(history_hmc['plaqs'], history_eval['plaqs'])\n",
    "]"
   ]
  },
  {
   "cell_type": "code",
   "execution_count": null,
   "id": "b462c110-2c2b-4728-8885-9882eca5f506",
   "metadata": {
    "tags": []
   },
   "outputs": [],
   "source": [
    "_ = plot_metric(pratio, name='plaqs [hmc / eval]')"
   ]
  },
  {
   "cell_type": "code",
   "execution_count": null,
   "id": "7b2a1499-3194-40b5-86fe-1bd44d04cc16",
   "metadata": {
    "tags": []
   },
   "outputs": [],
   "source": [
    "_ = plot_metric(pdiff, name='plaqs [abs(hmc - eval)]')"
   ]
  },
  {
   "cell_type": "markdown",
   "id": "5ab96657-2105-4c18-b065-f0b1f657b4ac",
   "metadata": {},
   "source": [
    "### Training"
   ]
  },
  {
   "cell_type": "code",
   "execution_count": null,
   "id": "01baf686-613b-44b0-8cfe-9470671327dd",
   "metadata": {
    "tags": []
   },
   "outputs": [],
   "source": [
    "from l2hmc.trainers.pytorch.trainer import Trainer  # noqa\n",
    "\n",
    "\n",
    "def train_step(\n",
    "        x: torch.Tensor,\n",
    "        beta: float | torch.Tensor,\n",
    "        trainer: Trainer,\n",
    "):\n",
    "    if isinstance(beta, float):\n",
    "        beta = torch.tensor(beta)\n",
    "    x.requires_grad_(True)\n",
    "    trainer.optimizer.zero_grad()\n",
    "    xout, metrics = trainer.dynamics_engine((x, beta))\n",
    "    xprop = metrics.pop('mc_states').proposed.x\n",
    "    #dx = (x - xprop).abs().flatten(1).mean(-1)\n",
    "    #loss = (metrics['acc'] * dx).mean()\n",
    "    loss = trainer.calc_loss(\n",
    "        xinit=x,\n",
    "        xprop=xprop,\n",
    "        acc=metrics['acc']\n",
    "    )\n",
    "    loss.backward()\n",
    "    trainer.optimizer.step()\n",
    "    metrics = {'loss': loss.item(), **metrics}\n",
    "    print_dict(metrics)\n",
    "    return x.detach(), metrics"
   ]
  },
  {
   "cell_type": "code",
   "execution_count": null,
   "id": "8e4f9750-9eb2-497d-b100-58a7781c3305",
   "metadata": {
    "tags": []
   },
   "outputs": [],
   "source": [
    "trainer = ptExpSU3.trainer\n",
    "dynamics = trainer.dynamics\n",
    "\n",
    "_ = print_dict({\n",
    "    k: v.grad for k, v in dynamics.named_parameters()\n",
    "})"
   ]
  },
  {
   "cell_type": "code",
   "execution_count": null,
   "id": "9fb175a3-dac0-4b79-84d2-231b34249cb5",
   "metadata": {
    "tags": []
   },
   "outputs": [],
   "source": [
    "_ = print_dict({\n",
    "    k: v for k, v in dynamics.named_parameters()\n",
    "}, grab=False)"
   ]
  },
  {
   "cell_type": "code",
   "execution_count": null,
   "id": "b977a75f-3c3d-4759-905c-c105ec77e08c",
   "metadata": {
    "tags": []
   },
   "outputs": [],
   "source": [
    "beta = 6.0\n",
    "state = dynamics.random_state(beta)\n",
    "xinit = state.x\n",
    "xinit.requires_grad_(True)\n",
    "xout, metrics = train_step(x=xinit, beta=beta, trainer=ptExpSU3.trainer)"
   ]
  },
  {
   "cell_type": "code",
   "execution_count": null,
   "id": "593b1134-7b63-433f-ac38-f3bef0b9989a",
   "metadata": {
    "tags": []
   },
   "outputs": [],
   "source": [
    "x, metrics = train_step(x=x0, beta=beta, trainer=ptExpSU3.trainer)"
   ]
  },
  {
   "cell_type": "code",
   "execution_count": null,
   "id": "9166d396-82f9-463a-8196-4fb2a4692a3d",
   "metadata": {
    "tags": []
   },
   "outputs": [],
   "source": [
    "print_dict??"
   ]
  },
  {
   "cell_type": "code",
   "execution_count": null,
   "id": "264afbe7-0050-415f-bbca-024dc89fff46",
   "metadata": {
    "tags": []
   },
   "outputs": [],
   "source": [
    "_ = print_dict(\n",
    "    {\n",
    "        k: v.grad for k, v in dynamics.named_parameters()\n",
    "    },\n",
    "    grab=True,\n",
    ")"
   ]
  },
  {
   "cell_type": "code",
   "execution_count": null,
   "id": "af412e45-fc21-44d4-8618-be80b478fbc4",
   "metadata": {
    "tags": []
   },
   "outputs": [],
   "source": [
    "dynamics"
   ]
  },
  {
   "cell_type": "code",
   "execution_count": null,
   "id": "88e830a7-98cd-4554-a6c2-2ee07a4df752",
   "metadata": {
    "tags": []
   },
   "outputs": [],
   "source": [
    "_ = print_dict(\n",
    "    {\n",
    "        k: v for k, v in dynamics.named_parameters()\n",
    "    },\n",
    "    grab=True,\n",
    ")"
   ]
  },
  {
   "cell_type": "code",
   "execution_count": null,
   "id": "f5f2c889-22dc-41c8-add3-fac4b52cd793",
   "metadata": {
    "tags": []
   },
   "outputs": [],
   "source": [
    "ptExpSU3.trainer.dynamics.init_weights(constant=0.0)"
   ]
  },
  {
   "cell_type": "code",
   "execution_count": null,
   "id": "20ad053e-a6db-4b9f-b4b3-a363f7e486a9",
   "metadata": {
    "tags": []
   },
   "outputs": [],
   "source": [
    "ptExpSU3.trainer.optimizer.step()"
   ]
  },
  {
   "cell_type": "code",
   "execution_count": null,
   "id": "f3fbc9b6-cbe0-4ce4-9bc9-f935b8ac132e",
   "metadata": {
    "tags": []
   },
   "outputs": [],
   "source": [
    "ptExpSU3.trainer.optimizer.zero_grad()"
   ]
  },
  {
   "cell_type": "code",
   "execution_count": null,
   "id": "44ffb264-8ffa-47c1-a4f7-8d23e18045d8",
   "metadata": {
    "tags": []
   },
   "outputs": [],
   "source": [
    "_ = print_dict({\n",
    "    k: torch.nan_to_num(v) for k, v in dynamics.named_parameters()\n",
    "}, grab=True)"
   ]
  },
  {
   "cell_type": "code",
   "execution_count": null,
   "id": "23c41e22-0aa5-4d11-b3b5-6d208e112432",
   "metadata": {
    "tags": []
   },
   "outputs": [],
   "source": [
    "xout, metrics = train_step(x=xinit.requires_grad_(True), beta=beta, trainer=ptExpSU3.trainer)"
   ]
  },
  {
   "cell_type": "code",
   "execution_count": null,
   "id": "30458847-fec8-4727-b112-264cae0d406e",
   "metadata": {},
   "outputs": [],
   "source": [
    "dynamics.networks.vnet.1.tran"
   ]
  },
  {
   "cell_type": "code",
   "execution_count": null,
   "id": "e03e7e44-d63e-4379-b056-c3bb4eafefd3",
   "metadata": {},
   "outputs": [],
   "source": [
    "xout, metrics = train_step(x=xinit, beta=beta, trainer=ptExpSU3.trainer)"
   ]
  },
  {
   "cell_type": "code",
   "execution_count": null,
   "id": "45a11fab-f927-4841-99c2-9b4e68812481",
   "metadata": {},
   "outputs": [],
   "source": []
  },
  {
   "cell_type": "code",
   "execution_count": null,
   "id": "97f5efb2-b3ff-42e7-8f09-83d3af47feb3",
   "metadata": {
    "tags": []
   },
   "outputs": [],
   "source": [
    "x = xout"
   ]
  },
  {
   "cell_type": "code",
   "execution_count": null,
   "id": "1141c9cc-4009-424f-b164-9599c08ed10d",
   "metadata": {
    "tags": []
   },
   "outputs": [],
   "source": [
    "trainer.optimizer.zero_grad()\n",
    "# xout, metrics = trainer.dynamics_engine((xinit, beta))\n",
    "xout, metrics = dynamics((x, torch.tensor(beta)))"
   ]
  },
  {
   "cell_type": "code",
   "execution_count": null,
   "id": "b4c5dab5-218e-4e4d-86fb-7bc287645e60",
   "metadata": {
    "tags": []
   },
   "outputs": [],
   "source": [
    "xprop = dynamics.g.compat_proj(metrics.pop('mc_states').proposed.x)\n",
    "loss = trainer.calc_loss(\n",
    "    xinit=xinit,\n",
    "    xprop=xprop,\n",
    "    acc=metrics['acc']\n",
    ")"
   ]
  },
  {
   "cell_type": "code",
   "execution_count": null,
   "id": "15cf2854-4be3-43e3-88b5-fe9d1437cb93",
   "metadata": {
    "tags": []
   },
   "outputs": [],
   "source": [
    "loss.backward()\n",
    "trainer.optimizer.step()\n",
    "metrics = {\n",
    "    'loss': loss.item(),\n",
    "    **metrics,\n",
    "}\n",
    "_ = print_dict(metrics, grab=True)"
   ]
  },
  {
   "cell_type": "code",
   "execution_count": null,
   "id": "17bde209-425d-488e-bfd2-b18ab3bec6bd",
   "metadata": {
    "tags": []
   },
   "outputs": [],
   "source": [
    "loss"
   ]
  },
  {
   "cell_type": "code",
   "execution_count": null,
   "id": "2d8c8788-66ee-4bf9-b8b9-c38deee17ce6",
   "metadata": {
    "tags": []
   },
   "outputs": [],
   "source": [
    "_ = print_dict(metrics, grab=True)"
   ]
  },
  {
   "cell_type": "code",
   "execution_count": null,
   "id": "f54aedfe-7179-4125-9b61-40341ba04367",
   "metadata": {},
   "outputs": [],
   "source": [
    "loss"
   ]
  },
  {
   "cell_type": "code",
   "execution_count": null,
   "id": "c8ecc527-a0ec-464e-8911-e70cfdf21e8f",
   "metadata": {
    "tags": []
   },
   "outputs": [],
   "source": [
    "beta = torch.tensor(6.0)\n",
    "xout1, metrics = dynamics((xout, beta))"
   ]
  },
  {
   "cell_type": "code",
   "execution_count": null,
   "id": "3c7f3d95-819c-47b7-9c13-816d7ff77ccf",
   "metadata": {
    "tags": []
   },
   "outputs": [],
   "source": [
    "print_dict({\n",
    "    k: v.grad for k, v in trainer.dynamics.named_parameters()\n",
    "})\n",
    "for name, param in trainer.dynamics.named_parameters():\n",
    "    #print(name, torch.isnan(param.grad))\n",
    "    console.print(f'{name}:\\n{param.grad}')"
   ]
  },
  {
   "cell_type": "code",
   "execution_count": null,
   "id": "8eb0f159-4521-4285-9890-b5a38ac6484b",
   "metadata": {
    "tags": []
   },
   "outputs": [],
   "source": [
    "x"
   ]
  },
  {
   "cell_type": "code",
   "execution_count": null,
   "id": "214b9156-ffbd-47a6-abc1-836239be4bd7",
   "metadata": {
    "tags": []
   },
   "outputs": [],
   "source": [
    "loss"
   ]
  },
  {
   "cell_type": "code",
   "execution_count": null,
   "id": "cefd7af9-2ffa-46de-934f-05be31942165",
   "metadata": {},
   "outputs": [],
   "source": []
  },
  {
   "cell_type": "code",
   "execution_count": null,
   "id": "55d9768c-5910-4069-84d3-b4b71b2c9598",
   "metadata": {
    "tags": []
   },
   "outputs": [],
   "source": [
    "trainer = ptExpSU3.trainer\n",
    "dynamics = trainer.dynamics\n",
    "beta = torch.tensor(6.0).to(trainer.device)\n",
    "\n",
    "x, metrics = train_step(x=xeval, beta=beta, trainer=trainer)"
   ]
  },
  {
   "cell_type": "code",
   "execution_count": null,
   "id": "8b0ee148-7c15-46d8-8b1e-506dd573fde9",
   "metadata": {
    "tags": []
   },
   "outputs": [],
   "source": [
    "x, metrics = train_step(x=xhmc, beta=beta, trainer=trainer)"
   ]
  },
  {
   "cell_type": "code",
   "execution_count": null,
   "id": "b0f59f4b-1322-4e1c-9043-b57bd20083bf",
   "metadata": {
    "tags": []
   },
   "outputs": [],
   "source": [
    "for name, param in ptExpSU3.trainer.dynamics.named_parameters():\n",
    "    #print(name, torch.isnan(param.grad))\n",
    "    console.print(f'{name}: {param.grad.sum()}')"
   ]
  },
  {
   "cell_type": "code",
   "execution_count": null,
   "id": "c6332b2c-bf53-4292-96f1-a3eedce18e05",
   "metadata": {
    "tags": []
   },
   "outputs": [],
   "source": [
    "loss.item()"
   ]
  },
  {
   "cell_type": "code",
   "execution_count": null,
   "id": "8db58931-a351-467e-80f0-118adb15ffb4",
   "metadata": {
    "tags": []
   },
   "outputs": [],
   "source": [
    "x.requires_grad_(True)\n",
    "trainer.optimizer.zero_grad()\n",
    "xout, metrics = trainer.dynamics_engine((x, beta))\n",
    "xprop = metrics.pop('mc_states').proposed.x\n",
    "ploss = trainer.calc_loss(\n",
    "    xinit=x,\n",
    "    xprop=xprop,\n",
    "    acc=metrics['acc']\n",
    ")\n",
    "dx = (xprop.flatten(1) - xout.flatten(1)).abs().sum(-1)\n",
    "rmse_loss = (metrics['acc'] * dx).mean()\n",
    "loss = ploss + rmse_loss\n",
    "loss.backward()\n",
    "trainer.optimizer.step()"
   ]
  },
  {
   "cell_type": "code",
   "execution_count": null,
   "id": "16e268bf-8d54-4e1f-be7b-884d38aa9b1b",
   "metadata": {
    "tags": []
   },
   "outputs": [],
   "source": [
    "xout, metrics = trainer.forward_step(x, beta)\n",
    "xprop = metrics.pop('mc_states').proposed.x\n",
    "loss = trainer.calc_loss(xinit=x, xprop=xprop, acc=metrics['acc'])\n",
    "#loss = ((x - xprop) ** 2).sum()\n",
    "loss"
   ]
  },
  {
   "cell_type": "code",
   "execution_count": null,
   "id": "96263314-c2b5-4961-87ae-0321e63767a3",
   "metadata": {
    "tags": []
   },
   "outputs": [],
   "source": [
    "x, metrics = ptExpSU3.trainer.train_step((x, state.beta))\n",
    "print_dict(metrics)"
   ]
  },
  {
   "cell_type": "code",
   "execution_count": null,
   "id": "713f1a6b-4b5e-416f-8509-0f8c6148b9e2",
   "metadata": {
    "tags": []
   },
   "outputs": [],
   "source": [
    "from l2hmc.utils.rich import get_console\n",
    "console = get_console()\n",
    "for name, param in ptExpSU3.trainer.dynamics.named_parameters():\n",
    "    #print(name, torch.isnan(param.grad))\n",
    "    console.print(f'{name}: {param.grad}')"
   ]
  },
  {
   "cell_type": "code",
   "execution_count": null,
   "id": "d3e466fe-3138-4154-a7e3-960338107725",
   "metadata": {
    "tags": []
   },
   "outputs": [],
   "source": [
    "ptExpSU3.trainer.optimizer.zero_grad()"
   ]
  },
  {
   "cell_type": "code",
   "execution_count": null,
   "id": "cc22d5a1-1b09-4970-9cda-64a37289a168",
   "metadata": {
    "tags": []
   },
   "outputs": [],
   "source": [
    "x, metrics = ptExpSU3.trainer.train_step((x, state.beta))\n",
    "print_dict(metrics)"
   ]
  },
  {
   "cell_type": "code",
   "execution_count": null,
   "id": "09e887df-5fa5-4423-8ba5-a8d9f1a41ccd",
   "metadata": {
    "tags": []
   },
   "outputs": [],
   "source": [
    "x, metrics = ptExpSU3.trainer.train_step((x, state.beta))\n",
    "print_dict(metrics)"
   ]
  },
  {
   "cell_type": "code",
   "execution_count": null,
   "id": "16af8928-9acc-460e-add8-afe1aff880cf",
   "metadata": {
    "tags": []
   },
   "outputs": [],
   "source": [
    "ptExpSU3.trainer.optimizer.zero_grad()"
   ]
  },
  {
   "cell_type": "code",
   "execution_count": null,
   "id": "c7b65424-3bf5-4bbb-93bb-c392bf6f747c",
   "metadata": {
    "tags": []
   },
   "outputs": [],
   "source": [
    "from rich import print  # noqa\n",
    "for name, param in ptExpSU3.trainer.dynamics.named_parameters():\n",
    "    #print(name, torch.isnan(param.grad))\n",
    "    print(f'{name}: {param.grad}')"
   ]
  },
  {
   "cell_type": "code",
   "execution_count": null,
   "id": "5bce8989-a616-4285-ad73-b5a7866d4148",
   "metadata": {
    "tags": []
   },
   "outputs": [],
   "source": [
    "loss"
   ]
  },
  {
   "cell_type": "code",
   "execution_count": null,
   "id": "02f01ac0-855f-4ed1-86ef-9f9c5579209f",
   "metadata": {
    "tags": []
   },
   "outputs": [],
   "source": [
    "loss = trainer.backward_step(loss)"
   ]
  },
  {
   "cell_type": "code",
   "execution_count": null,
   "id": "e758eb56-3460-41d0-8f63-ffa3a51cb6ec",
   "metadata": {
    "tags": []
   },
   "outputs": [],
   "source": [
    "loss"
   ]
  },
  {
   "cell_type": "code",
   "execution_count": null,
   "id": "0db98a10-44a2-46b1-b13d-5094325860c1",
   "metadata": {
    "tags": []
   },
   "outputs": [],
   "source": [
    "from l2hmc.common import print_dict  # noqa\n",
    "\n",
    "xinit = x.detach()\n",
    "xout, metrics = trainer.forward_step(xinit, beta)\n",
    "xprop = metrics.pop('mc_states').proposed.x\n",
    "loss = trainer.calc_loss(xinit=xinit, xprop=xprop, acc=metrics['acc'])\n",
    "loss = trainer.backward_step(loss)\n",
    "print_dict(metrics)"
   ]
  },
  {
   "cell_type": "code",
   "execution_count": null,
   "id": "0c3d2e76-878a-4ace-ac69-d70bf2da3341",
   "metadata": {},
   "outputs": [],
   "source": []
  },
  {
   "cell_type": "code",
   "execution_count": null,
   "id": "972ef255-5b15-4836-88c4-63ab87b619e5",
   "metadata": {},
   "outputs": [],
   "source": []
  },
  {
   "cell_type": "code",
   "execution_count": null,
   "id": "bf490000-71f7-4d0c-9ca1-b5cea061d71f",
   "metadata": {
    "tags": []
   },
   "outputs": [],
   "source": [
    "x, metrics = ptExpSU3.trainer.train_step((x, state.beta))\n",
    "print_dict(metrics)"
   ]
  },
  {
   "cell_type": "code",
   "execution_count": null,
   "id": "d3b18de5-f07f-4e49-ba26-60cefcb78cfd",
   "metadata": {
    "tags": []
   },
   "outputs": [],
   "source": [
    "ptExpSU3.trainer.grad_scaler"
   ]
  },
  {
   "cell_type": "markdown",
   "id": "5127fe99-5569-4a60-84bf-40e20f409b7e",
   "metadata": {},
   "source": [
    "## Train"
   ]
  },
  {
   "cell_type": "code",
   "execution_count": null,
   "id": "b1d1574b-e622-4f63-961d-1609af870e5b",
   "metadata": {
    "tags": []
   },
   "outputs": [],
   "source": [
    "for step in range(10):\n",
    "    log.info(f'Train step: {step}')\n",
    "    x, metrics = ptExpSU3.trainer.train_step((x, state.beta))\n",
    "    print_dict(metrics)"
   ]
  },
  {
   "cell_type": "code",
   "execution_count": null,
   "id": "f9ad9242-8c28-4475-94c5-d861b9fddb73",
   "metadata": {
    "tags": []
   },
   "outputs": [],
   "source": [
    "log.info('\\n'.join([f'{k}={grab_tensor(v)}' for k, v in metrics.items()]))"
   ]
  },
  {
   "cell_type": "code",
   "execution_count": null,
   "id": "491a46a0-b077-4ada-a52d-18c3d7c3108c",
   "metadata": {
    "tags": []
   },
   "outputs": [],
   "source": [
    "state = ptExpSU3.trainer.dynamics.random_state(6.0)\n",
    "x, metrics = ptExpSU3.trainer.train_step_detailed(x=state.x)"
   ]
  },
  {
   "cell_type": "code",
   "execution_count": null,
   "id": "7ee45976-0939-44ab-9c72-c2fa09505f2e",
   "metadata": {
    "tags": []
   },
   "outputs": [],
   "source": [
    "state = ptExpSU3.trainer.dynamics.random_state(6.0)\n",
    "#x, metrics = ptExpSU3.trainer.train_step_detailed(x=state.x)\n",
    "x = state.x\n",
    "for _ in range(10):\n",
    "    x, metrics = ptExpSU3.trainer.train_step_detailed(x=x)"
   ]
  },
  {
   "cell_type": "code",
   "execution_count": null,
   "id": "86b5c4b7-62b3-43d6-b9d9-aa83246fd3f9",
   "metadata": {
    "tags": []
   },
   "outputs": [],
   "source": [
    "%matplotlib widget\n",
    "import seaborn as sns\n",
    "from l2hmc.utils.plot_helpers import set_plot_style\n",
    "\n",
    "set_plot_style()\n",
    "sns.set(rc={\"figure.dpi\":100, 'savefig.dpi':300})\n",
    "sns.set_context('notebook')\n",
    "sns.set_style(\"ticks\")\n",
    "from IPython.display import set_matplotlib_formats\n",
    "set_matplotlib_formats('retina')\n",
    "\n",
    "train_out = ptExpSU3.train(beta=6.0)"
   ]
  },
  {
   "cell_type": "markdown",
   "id": "4b8ad09a-2241-42bd-a062-d6dfd8d4606b",
   "metadata": {},
   "source": [
    "## Evaluation"
   ]
  },
  {
   "cell_type": "code",
   "execution_count": null,
   "id": "bf94a077-73e6-41f3-9f52-6b3bf4af5eb1",
   "metadata": {
    "tags": []
   },
   "outputs": [],
   "source": [
    "from l2hmc.utils.plot_helpers import set_plot_style\n",
    "\n",
    "set_plot_style()\n",
    "\n",
    "eval_out = ptExpSU3.evaluate(\n",
    "    job_type='eval',\n",
    "    beta=6.0,\n",
    "    eval_steps=100,\n",
    "    nprint=1,\n",
    ")"
   ]
  },
  {
   "cell_type": "markdown",
   "id": "49e36fe0-d4a8-4ea5-9938-2fdc1a6288c9",
   "metadata": {},
   "source": [
    "## Generic HMC"
   ]
  },
  {
   "cell_type": "code",
   "execution_count": null,
   "id": "0df4e14f-c40d-4271-84ef-098865b80fea",
   "metadata": {
    "tags": []
   },
   "outputs": [],
   "source": [
    "hmc_out = ptExpSU3.evaluate(\n",
    "    job_type='hmc',\n",
    "    beta=6.0,\n",
    "    eval_steps=10,\n",
    "    nprint=1,\n",
    "    eps=0.075,\n",
    ")"
   ]
  }
 ],
 "metadata": {
  "kernelspec": {
   "display_name": "l2hmc (py310)",
   "language": "python",
   "name": "l2hmc"
  },
  "language_info": {
   "codemirror_mode": {
    "name": "ipython",
    "version": 3
   },
   "file_extension": ".py",
   "mimetype": "text/x-python",
   "name": "python",
   "nbconvert_exporter": "python",
   "pygments_lexer": "ipython3",
   "version": "3.10.9"
  }
 },
 "nbformat": 4,
 "nbformat_minor": 5
}
