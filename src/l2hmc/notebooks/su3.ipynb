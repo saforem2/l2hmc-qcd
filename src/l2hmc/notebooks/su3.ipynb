{
 "cells": [
  {
   "cell_type": "markdown",
   "id": "ab64884c",
   "metadata": {},
   "source": [
    "# `l2hmc`-qcd"
   ]
  },
  {
   "cell_type": "markdown",
   "id": "4a5cd87f",
   "metadata": {},
   "source": [
    "## Imports / Setup"
   ]
  },
  {
   "cell_type": "code",
   "execution_count": 1,
   "id": "1ba0315b",
   "metadata": {
    "ExecuteTime": {
     "end_time": "2022-06-05T11:17:40.134781Z",
     "start_time": "2022-06-05T11:17:40.115688Z"
    }
   },
   "outputs": [],
   "source": [
    "%load_ext autoreload\n",
    "%autoreload 2"
   ]
  },
  {
   "cell_type": "code",
   "execution_count": 2,
   "id": "27bd8185",
   "metadata": {
    "ExecuteTime": {
     "end_time": "2022-06-05T11:17:43.872426Z",
     "start_time": "2022-06-05T11:17:40.454098Z"
    }
   },
   "outputs": [],
   "source": [
    "import tensorflow as tf\n",
    "#tf.keras.backend.set_floatx()\n",
    "import horovod.tensorflow as hvd\n",
    "hvd.init()\n",
    "gpus = tf.config.experimental.list_physical_devices('GPU')\n",
    "for gpu in gpus:\n",
    "    tf.config.experimental.set_memory_growth(gpu, True)\n",
    "if gpus:\n",
    "    gpu = gpus[hvd.local_rank()]\n",
    "    tf.config.experimental.set_visible_devices(gpu, 'GPU')\n",
    "    \n",
    "import numpy as np\n",
    "import torch"
   ]
  },
  {
   "cell_type": "code",
   "execution_count": 3,
   "id": "ea7c7bba",
   "metadata": {
    "ExecuteTime": {
     "end_time": "2022-06-05T11:17:44.966768Z",
     "start_time": "2022-06-05T11:17:44.776751Z"
    }
   },
   "outputs": [
    {
     "name": "stderr",
     "output_type": "stream",
     "text": [
      "2022-06-05 06:17:44.960566: I tensorflow/core/platform/cpu_feature_guard.cc:193] This TensorFlow binary is optimized with oneAPI Deep Neural Network Library (oneDNN) to use the following CPU instructions in performance-critical operations:  AVX2 FMA\n",
      "To enable them in other operations, rebuild TensorFlow with the appropriate compiler flags.\n"
     ]
    }
   ],
   "source": [
    "from l2hmc.lattice.su3.pytorch.lattice import LatticeSU3 as LatticeSU3pt\n",
    "from l2hmc.lattice.su3.tensorflow.lattice import LatticeSU3 as LatticeSU3tf\n",
    "\n",
    "import l2hmc.group.pytorch.group as gpt\n",
    "import l2hmc.group.tensorflow.group as gtf"
   ]
  },
  {
   "cell_type": "code",
   "execution_count": 4,
   "id": "588d5e8e",
   "metadata": {
    "ExecuteTime": {
     "end_time": "2022-06-05T11:17:47.224031Z",
     "start_time": "2022-06-05T11:17:45.926437Z"
    }
   },
   "outputs": [],
   "source": [
    "from __future__ import absolute_import, print_function, annotations, division\n",
    "import os\n",
    "import hydra\n",
    "\n",
    "from typing import Optional\n",
    "from pathlib import Path\n",
    "\n",
    "from omegaconf import OmegaConf\n",
    "from hydra import (\n",
    "    initialize,\n",
    "    initialize_config_module,\n",
    "    initialize_config_dir,\n",
    "    compose\n",
    ")\n",
    "\n",
    "from l2hmc.common import get_timestamp\n",
    "from l2hmc.configs import CONF_DIR\n",
    "from l2hmc.experiment import Experiment\n",
    "from hydra.core.global_hydra import GlobalHydra\n",
    "\n",
    "from l2hmc.utils.rich import print_config"
   ]
  },
  {
   "cell_type": "markdown",
   "id": "48088939",
   "metadata": {},
   "source": [
    "## Instantiate Configs\n",
    "\n",
    "1. Initialize [`Hydra`](https://hydra.cc) by registering `CONF_DIR` as `config_dir`\n",
    "2. Compose `conf/config.yaml` with user-specified `overrides` to create `DictConfig` for `Experiment`"
   ]
  },
  {
   "cell_type": "code",
   "execution_count": 5,
   "id": "bc2efdf1",
   "metadata": {
    "ExecuteTime": {
     "end_time": "2022-06-05T11:17:48.753966Z",
     "start_time": "2022-06-05T11:17:48.696661Z"
    }
   },
   "outputs": [],
   "source": [
    "from l2hmc.utils.rich import print_config\n",
    "from l2hmc.experiment import Experiment\n",
    "import l2hmc.group.pytorch.group as gpt\n",
    "import l2hmc.group.tensorflow.group as gtf\n",
    "#from hydra.core.hydra_config import HydraConfig\n",
    "\n",
    "def get_experiment(overrides: list[str] = None):\n",
    "    GlobalHydra.instance().clear()\n",
    "    with initialize_config_dir(CONF_DIR.absolute().as_posix()):\n",
    "        cfg = compose('config', overrides=overrides)\n",
    "        \n",
    "    return Experiment(cfg)\n",
    "\n",
    "\n",
    "def train(overrides: list[str] = None):\n",
    "    GlobalHydra.instance().clear()\n",
    "    with initialize_config_dir(CONF_DIR.absolute().as_posix()):\n",
    "        cfg = compose('config', overrides=overrides)\n",
    "        #print(cfg.hydra.runtime.output_dir)\n",
    "        #print(f'Output_dir = {HydraConfig.get().runtime.output_dir}')\n",
    "        if cfg.framework == 'pytorch':\n",
    "            from l2hmc.scripts.pytorch.main import main as main_pt\n",
    "            return main_pt(cfg)\n",
    "        elif cfg.framework == 'tensorflow':\n",
    "            from l2hmc.scripts.tensorflow.main import main as main_tf\n",
    "            return main_tf(cfg)\n",
    "\n",
    "        raise ValueError('Expected `cfg.framework` to be one of \"pytorch\", \"tensorflow\".')"
   ]
  },
  {
   "cell_type": "code",
   "execution_count": 17,
   "id": "7fac2d74",
   "metadata": {
    "ExecuteTime": {
     "end_time": "2022-06-05T11:22:44.380540Z",
     "start_time": "2022-06-05T11:22:41.445880Z"
    },
    "scrolled": true
   },
   "outputs": [
    {
     "name": "stderr",
     "output_type": "stream",
     "text": [
      "xdim: 32768\n",
      "group: SU3\n",
      "xshape: (64, 4, 4, 4, 4, 16, 3, 3)\n",
      "latvolume: [4, 4, 4, 16]\n",
      "xdim: 32768\n",
      "group: SU3\n",
      "xshape: (64, 4, 4, 4, 4, 16, 3, 3)\n",
      "latvolume: [4, 4, 4, 16]\n"
     ]
    },
    {
     "data": {
      "text/plain": [
       "torch.Size([64, 4, 4, 4, 4, 16, 3, 3])"
      ]
     },
     "execution_count": 17,
     "metadata": {},
     "output_type": "execute_result"
    },
    {
     "data": {
      "text/plain": [
       "0j"
      ]
     },
     "execution_count": 17,
     "metadata": {},
     "output_type": "execute_result"
    }
   ],
   "source": [
    "GlobalHydra.instance().clear()\n",
    "defaults = [\n",
    "    'mode=debug',\n",
    "    'steps.nera=0',\n",
    "    'steps.nepoch=0',\n",
    "    'steps.test=1000',\n",
    "    'eps_hmc=0.001',\n",
    "    'dynamics=su3',\n",
    "    'dynamics.nchains=64',\n",
    "    'dynamics.nleapfrog=8',\n",
    "    'dynamics.latvolume=[4, 4, 4, 16]',\n",
    "    'annealing_schedule.beta_init=6.0',\n",
    "    'annealing_schedule.beta_final=6.0',\n",
    "    'wandb.setup.sync_tensorboard=false',\n",
    "]\n",
    "exp_pt = get_experiment(overrides=[\n",
    "    *defaults,\n",
    "    'framework=pytorch',\n",
    "])\n",
    "\n",
    "exp_tf = get_experiment(overrides=[\n",
    "    *defaults,\n",
    "    'framework=tensorflow',\n",
    "])\n",
    "\n",
    "objs_pt = exp_pt.build(init_wandb=False)\n",
    "objs_tf = exp_tf.build(init_wandb=False)\n",
    "\n",
    "trainer_pt = exp_pt.trainer\n",
    "dynamics_pt = exp_pt.dynamics\n",
    "lattice_pt = exp_pt.lattice\n",
    "\n",
    "trainer_tf = exp_tf.trainer\n",
    "dynamics_tf = exp_tf.dynamics\n",
    "lattice_tf = exp_tf.lattice\n",
    "\n",
    "xpt = lattice_pt.random()\n",
    "xtf = tf.constant(xpt.detach().numpy())\n",
    "\n",
    "xpt.shape\n",
    "(xpt.numpy() - xtf.numpy()).sum()"
   ]
  },
  {
   "cell_type": "code",
   "execution_count": 18,
   "id": "480c1694",
   "metadata": {
    "ExecuteTime": {
     "end_time": "2022-06-05T11:22:45.323300Z",
     "start_time": "2022-06-05T11:22:45.272359Z"
    }
   },
   "outputs": [],
   "source": [
    "from l2hmc.distributions.pytorch.haarSUN import HaarSUN as HaarSUNpt\n",
    "hSU3 = HaarSUNpt(3)"
   ]
  },
  {
   "cell_type": "code",
   "execution_count": 19,
   "id": "61eb4cf2",
   "metadata": {
    "ExecuteTime": {
     "end_time": "2022-06-05T11:23:21.275180Z",
     "start_time": "2022-06-05T11:22:46.028997Z"
    }
   },
   "outputs": [
    {
     "data": {
      "text/plain": [
       "torch.Size([64, 4, 4, 4, 4, 16, 3, 3])"
      ]
     },
     "execution_count": 19,
     "metadata": {},
     "output_type": "execute_result"
    }
   ],
   "source": [
    "nsamples = lattice_pt.nlinks * dynamics_pt.config.nchains\n",
    "zpt = hSU3.rsample(nsamples)\n",
    "zpt = zpt.reshape_as(xpt)\n",
    "zpt.shape"
   ]
  },
  {
   "cell_type": "code",
   "execution_count": 20,
   "id": "49e6dc12",
   "metadata": {
    "ExecuteTime": {
     "end_time": "2022-06-05T11:27:13.128775Z",
     "start_time": "2022-06-05T11:27:13.072832Z"
    }
   },
   "outputs": [
    {
     "data": {
      "text/plain": [
       "torch.Size([1, 3, 3])"
      ]
     },
     "execution_count": 20,
     "metadata": {},
     "output_type": "execute_result"
    }
   ],
   "source": [
    "z = hSU3.rsample(1)\n",
    "z.shape"
   ]
  },
  {
   "cell_type": "code",
   "execution_count": 21,
   "id": "1f847555",
   "metadata": {
    "ExecuteTime": {
     "end_time": "2022-06-05T11:27:15.271835Z",
     "start_time": "2022-06-05T11:27:15.211668Z"
    }
   },
   "outputs": [
    {
     "data": {
      "text/plain": [
       "tensor([[[-0.0052-0.0233j, -0.0364+0.0879j, -1.7248-0.2367j],\n",
       "         [ 0.9736-0.4418j,  0.3871+0.6046j, -0.0729-0.0018j],\n",
       "         [-0.1766+0.7463j, -1.0287-0.1943j, -0.0377-0.0266j]]])"
      ]
     },
     "execution_count": 21,
     "metadata": {},
     "output_type": "execute_result"
    }
   ],
   "source": [
    "z"
   ]
  },
  {
   "cell_type": "code",
   "execution_count": 23,
   "id": "45573333",
   "metadata": {
    "ExecuteTime": {
     "end_time": "2022-06-05T11:27:18.043393Z",
     "start_time": "2022-06-05T11:27:17.980872Z"
    }
   },
   "outputs": [
    {
     "data": {
      "text/plain": [
       "tensor(1.-0.j)"
      ]
     },
     "execution_count": 23,
     "metadata": {},
     "output_type": "execute_result"
    }
   ],
   "source": [
    "zHz = (z.mH @ z)[0]\n",
    "zHz.det()"
   ]
  },
  {
   "cell_type": "code",
   "execution_count": 24,
   "id": "cbe293a5",
   "metadata": {
    "ExecuteTime": {
     "end_time": "2022-06-05T11:27:18.741488Z",
     "start_time": "2022-06-05T11:27:18.667686Z"
    }
   },
   "outputs": [
    {
     "data": {
      "text/plain": [
       "(tensor(0.8398), tensor(0.8398))"
      ]
     },
     "execution_count": 24,
     "metadata": {},
     "output_type": "execute_result"
    },
    {
     "data": {
      "text/plain": [
       "(tensor(0.7109+0.j), tensor(0.7109+0.j))"
      ]
     },
     "execution_count": 24,
     "metadata": {},
     "output_type": "execute_result"
    }
   ],
   "source": [
    "gpt.checkSU(z)\n",
    "gpt.checkU(z)"
   ]
  },
  {
   "cell_type": "markdown",
   "id": "ec632e86",
   "metadata": {},
   "source": [
    "## Run HMC with $SU(3)$"
   ]
  },
  {
   "cell_type": "code",
   "execution_count": 25,
   "id": "9d4ce8b4",
   "metadata": {
    "ExecuteTime": {
     "end_time": "2022-06-05T11:27:27.084338Z",
     "start_time": "2022-06-05T11:27:27.025328Z"
    }
   },
   "outputs": [],
   "source": [
    "from rich.console import Console\n",
    "\n",
    "console = Console(force_jupyter=True, log_path=False)\n",
    "\n",
    "def run_hmc(\n",
    "    experiment: Experiment,\n",
    "    beta: float = 1.0,\n",
    "    nlog: int = 10,\n",
    "    nsteps: Optional[int] = None,\n",
    "    x: Optional[torch.Tensor | tf.Tensor] = None,\n",
    ") -> dict:\n",
    "    trainer = experiment.trainer\n",
    "    dynamics = experiment.dynamics\n",
    "    lattice = experiment.lattice\n",
    "    if x is None:\n",
    "        x = trainer.g.random(lattice._shape)\n",
    "    #x = lattice.random()\n",
    "    if isinstance(x, torch.Tensor):\n",
    "        beta = torch.tensor(beta)\n",
    "    elif isinstance(x, tf.Tensor):\n",
    "        beta = tf.constant(beta)\n",
    "        \n",
    "    nsteps = (\n",
    "        experiment.cfg.steps.test\n",
    "        if nsteps is None else nsteps\n",
    "    )\n",
    "    metrics = {}\n",
    "    for step in range(nsteps):\n",
    "        x, metrics_ = experiment.dynamics.apply_transition_hmc(\n",
    "            (x, beta), eps=experiment.cfg.eps_hmc\n",
    "        )\n",
    "        _ = metrics_.pop('mc_states')\n",
    "        \n",
    "        if step % nlog == 0:\n",
    "            mstrs = []\n",
    "            lmetrics = lattice.calc_metrics(x=x)\n",
    "            for key, val in metrics_.items():\n",
    "                if isinstance(x, torch.Tensor):\n",
    "                    mstrs.append(\n",
    "                        f'{key}: {val.detach().numpy().mean():.4f}'\n",
    "                    )\n",
    "                elif isinstance(x, tf.Tensor):\n",
    "                    mstrs.append(\n",
    "                        f'{key}: {val.numpy().mean():.4f}'\n",
    "                    )\n",
    "\n",
    "                try:\n",
    "                    metrics[key].append(val)\n",
    "                except KeyError:\n",
    "                    metrics[key] = [val]\n",
    "\n",
    "            if isinstance(x, torch.Tensor):\n",
    "                lmstrs = [\n",
    "                    f'{k}: {v.detach().numpy().mean():.4f}'\n",
    "                    for k, v in lmetrics.items()\n",
    "                ]\n",
    "            elif isinstance(x, tf.Tensor):\n",
    "                lmstrs = [\n",
    "                    f'{k}: {v.numpy().mean():.4f}'\n",
    "                    for k, v in lmetrics.items()\n",
    "                ]\n",
    "                \n",
    "            console.log(', '.join(\n",
    "                [f'{step} / {experiment.cfg.steps.test}', *mstrs, *lmstrs]\n",
    "            ))\n",
    "    return metrics"
   ]
  },
  {
   "cell_type": "code",
   "execution_count": 27,
   "id": "e976e0a2",
   "metadata": {
    "ExecuteTime": {
     "end_time": "2022-06-05T11:41:58.428080Z",
     "start_time": "2022-06-05T11:38:35.414937Z"
    }
   },
   "outputs": [
    {
     "data": {
      "text/html": [
       "<pre style=\"white-space:pre;overflow-x:auto;line-height:normal;font-family:Menlo,'DejaVu Sans Mono',consolas,'Courier New',monospace\"><span style=\"color: #7fbfbf; text-decoration-color: #7fbfbf\">[06:38:52] </span><span style=\"color: #008080; text-decoration-color: #008080; font-weight: bold\">0</span> <span style=\"color: #800080; text-decoration-color: #800080\">/</span> <span style=\"color: #008080; text-decoration-color: #008080; font-weight: bold\">1000</span>, energy: <span style=\"color: #008080; text-decoration-color: #008080; font-weight: bold\">17.4181</span>, logprob: <span style=\"color: #008080; text-decoration-color: #008080; font-weight: bold\">17.4181</span>, logdet: <span style=\"color: #008080; text-decoration-color: #008080; font-weight: bold\">0.0000</span>, acc: <span style=\"color: #008080; text-decoration-color: #008080; font-weight: bold\">0.0000</span>,         \n",
       "<span style=\"color: #7fbfbf; text-decoration-color: #7fbfbf\">           </span>sumlogdet: <span style=\"color: #008080; text-decoration-color: #008080; font-weight: bold\">0.0000</span>, acc_mask: <span style=\"color: #008080; text-decoration-color: #008080; font-weight: bold\">0.0000</span>, sinQ: <span style=\"color: #008080; text-decoration-color: #008080; font-weight: bold\">0.0002</span>, intQ: <span style=\"color: #008080; text-decoration-color: #008080; font-weight: bold\">0.0140</span>, plaqs: <span style=\"color: #008080; text-decoration-color: #008080; font-weight: bold\">0.0001</span>    \n",
       "</pre>\n"
      ],
      "text/plain": [
       "\u001b[2;36m[06:38:52]\u001b[0m\u001b[2;36m \u001b[0m\u001b[1;36m0\u001b[0m \u001b[35m/\u001b[0m \u001b[1;36m1000\u001b[0m, energy: \u001b[1;36m17.4181\u001b[0m, logprob: \u001b[1;36m17.4181\u001b[0m, logdet: \u001b[1;36m0.0000\u001b[0m, acc: \u001b[1;36m0.0000\u001b[0m,         \n",
       "\u001b[2;36m           \u001b[0msumlogdet: \u001b[1;36m0.0000\u001b[0m, acc_mask: \u001b[1;36m0.0000\u001b[0m, sinQ: \u001b[1;36m0.0002\u001b[0m, intQ: \u001b[1;36m0.0140\u001b[0m, plaqs: \u001b[1;36m0.0001\u001b[0m    \n"
      ]
     },
     "metadata": {},
     "output_type": "display_data"
    },
    {
     "data": {
      "text/html": [
       "<pre style=\"white-space:pre;overflow-x:auto;line-height:normal;font-family:Menlo,'DejaVu Sans Mono',consolas,'Courier New',monospace\"><span style=\"color: #7fbfbf; text-decoration-color: #7fbfbf\">[06:39:10] </span><span style=\"color: #008080; text-decoration-color: #008080; font-weight: bold\">1</span> <span style=\"color: #800080; text-decoration-color: #800080\">/</span> <span style=\"color: #008080; text-decoration-color: #008080; font-weight: bold\">1000</span>, energy: <span style=\"color: #008080; text-decoration-color: #008080; font-weight: bold\">-24.7137</span>, logprob: <span style=\"color: #008080; text-decoration-color: #008080; font-weight: bold\">-24.7137</span>, logdet: <span style=\"color: #008080; text-decoration-color: #008080; font-weight: bold\">0.0000</span>, acc: <span style=\"color: #008080; text-decoration-color: #008080; font-weight: bold\">0.0000</span>,       \n",
       "<span style=\"color: #7fbfbf; text-decoration-color: #7fbfbf\">           </span>sumlogdet: <span style=\"color: #008080; text-decoration-color: #008080; font-weight: bold\">0.0000</span>, acc_mask: <span style=\"color: #008080; text-decoration-color: #008080; font-weight: bold\">0.0000</span>, sinQ: <span style=\"color: #008080; text-decoration-color: #008080; font-weight: bold\">0.0002</span>, intQ: <span style=\"color: #008080; text-decoration-color: #008080; font-weight: bold\">0.0140</span>, plaqs: <span style=\"color: #008080; text-decoration-color: #008080; font-weight: bold\">0.0001</span>    \n",
       "</pre>\n"
      ],
      "text/plain": [
       "\u001b[2;36m[06:39:10]\u001b[0m\u001b[2;36m \u001b[0m\u001b[1;36m1\u001b[0m \u001b[35m/\u001b[0m \u001b[1;36m1000\u001b[0m, energy: \u001b[1;36m-24.7137\u001b[0m, logprob: \u001b[1;36m-24.7137\u001b[0m, logdet: \u001b[1;36m0.0000\u001b[0m, acc: \u001b[1;36m0.0000\u001b[0m,       \n",
       "\u001b[2;36m           \u001b[0msumlogdet: \u001b[1;36m0.0000\u001b[0m, acc_mask: \u001b[1;36m0.0000\u001b[0m, sinQ: \u001b[1;36m0.0002\u001b[0m, intQ: \u001b[1;36m0.0140\u001b[0m, plaqs: \u001b[1;36m0.0001\u001b[0m    \n"
      ]
     },
     "metadata": {},
     "output_type": "display_data"
    },
    {
     "data": {
      "text/html": [
       "<pre style=\"white-space:pre;overflow-x:auto;line-height:normal;font-family:Menlo,'DejaVu Sans Mono',consolas,'Courier New',monospace\"><span style=\"color: #7fbfbf; text-decoration-color: #7fbfbf\">[06:39:26] </span><span style=\"color: #008080; text-decoration-color: #008080; font-weight: bold\">2</span> <span style=\"color: #800080; text-decoration-color: #800080\">/</span> <span style=\"color: #008080; text-decoration-color: #008080; font-weight: bold\">1000</span>, energy: <span style=\"color: #008080; text-decoration-color: #008080; font-weight: bold\">20.0416</span>, logprob: <span style=\"color: #008080; text-decoration-color: #008080; font-weight: bold\">20.0416</span>, logdet: <span style=\"color: #008080; text-decoration-color: #008080; font-weight: bold\">0.0000</span>, acc: <span style=\"color: #008080; text-decoration-color: #008080; font-weight: bold\">0.0000</span>,         \n",
       "<span style=\"color: #7fbfbf; text-decoration-color: #7fbfbf\">           </span>sumlogdet: <span style=\"color: #008080; text-decoration-color: #008080; font-weight: bold\">0.0000</span>, acc_mask: <span style=\"color: #008080; text-decoration-color: #008080; font-weight: bold\">0.0000</span>, sinQ: <span style=\"color: #008080; text-decoration-color: #008080; font-weight: bold\">0.0002</span>, intQ: <span style=\"color: #008080; text-decoration-color: #008080; font-weight: bold\">0.0140</span>, plaqs: <span style=\"color: #008080; text-decoration-color: #008080; font-weight: bold\">0.0001</span>    \n",
       "</pre>\n"
      ],
      "text/plain": [
       "\u001b[2;36m[06:39:26]\u001b[0m\u001b[2;36m \u001b[0m\u001b[1;36m2\u001b[0m \u001b[35m/\u001b[0m \u001b[1;36m1000\u001b[0m, energy: \u001b[1;36m20.0416\u001b[0m, logprob: \u001b[1;36m20.0416\u001b[0m, logdet: \u001b[1;36m0.0000\u001b[0m, acc: \u001b[1;36m0.0000\u001b[0m,         \n",
       "\u001b[2;36m           \u001b[0msumlogdet: \u001b[1;36m0.0000\u001b[0m, acc_mask: \u001b[1;36m0.0000\u001b[0m, sinQ: \u001b[1;36m0.0002\u001b[0m, intQ: \u001b[1;36m0.0140\u001b[0m, plaqs: \u001b[1;36m0.0001\u001b[0m    \n"
      ]
     },
     "metadata": {},
     "output_type": "display_data"
    },
    {
     "data": {
      "text/html": [
       "<pre style=\"white-space:pre;overflow-x:auto;line-height:normal;font-family:Menlo,'DejaVu Sans Mono',consolas,'Courier New',monospace\"><span style=\"color: #7fbfbf; text-decoration-color: #7fbfbf\">[06:39:41] </span><span style=\"color: #008080; text-decoration-color: #008080; font-weight: bold\">3</span> <span style=\"color: #800080; text-decoration-color: #800080\">/</span> <span style=\"color: #008080; text-decoration-color: #008080; font-weight: bold\">1000</span>, energy: <span style=\"color: #008080; text-decoration-color: #008080; font-weight: bold\">22.3528</span>, logprob: <span style=\"color: #008080; text-decoration-color: #008080; font-weight: bold\">22.3528</span>, logdet: <span style=\"color: #008080; text-decoration-color: #008080; font-weight: bold\">0.0000</span>, acc: <span style=\"color: #008080; text-decoration-color: #008080; font-weight: bold\">0.0000</span>,         \n",
       "<span style=\"color: #7fbfbf; text-decoration-color: #7fbfbf\">           </span>sumlogdet: <span style=\"color: #008080; text-decoration-color: #008080; font-weight: bold\">0.0000</span>, acc_mask: <span style=\"color: #008080; text-decoration-color: #008080; font-weight: bold\">0.0000</span>, sinQ: <span style=\"color: #008080; text-decoration-color: #008080; font-weight: bold\">0.0002</span>, intQ: <span style=\"color: #008080; text-decoration-color: #008080; font-weight: bold\">0.0140</span>, plaqs: <span style=\"color: #008080; text-decoration-color: #008080; font-weight: bold\">0.0001</span>    \n",
       "</pre>\n"
      ],
      "text/plain": [
       "\u001b[2;36m[06:39:41]\u001b[0m\u001b[2;36m \u001b[0m\u001b[1;36m3\u001b[0m \u001b[35m/\u001b[0m \u001b[1;36m1000\u001b[0m, energy: \u001b[1;36m22.3528\u001b[0m, logprob: \u001b[1;36m22.3528\u001b[0m, logdet: \u001b[1;36m0.0000\u001b[0m, acc: \u001b[1;36m0.0000\u001b[0m,         \n",
       "\u001b[2;36m           \u001b[0msumlogdet: \u001b[1;36m0.0000\u001b[0m, acc_mask: \u001b[1;36m0.0000\u001b[0m, sinQ: \u001b[1;36m0.0002\u001b[0m, intQ: \u001b[1;36m0.0140\u001b[0m, plaqs: \u001b[1;36m0.0001\u001b[0m    \n"
      ]
     },
     "metadata": {},
     "output_type": "display_data"
    },
    {
     "data": {
      "text/html": [
       "<pre style=\"white-space:pre;overflow-x:auto;line-height:normal;font-family:Menlo,'DejaVu Sans Mono',consolas,'Courier New',monospace\"><span style=\"color: #7fbfbf; text-decoration-color: #7fbfbf\">[06:40:00] </span><span style=\"color: #008080; text-decoration-color: #008080; font-weight: bold\">4</span> <span style=\"color: #800080; text-decoration-color: #800080\">/</span> <span style=\"color: #008080; text-decoration-color: #008080; font-weight: bold\">1000</span>, energy: <span style=\"color: #008080; text-decoration-color: #008080; font-weight: bold\">2.9820</span>, logprob: <span style=\"color: #008080; text-decoration-color: #008080; font-weight: bold\">2.9820</span>, logdet: <span style=\"color: #008080; text-decoration-color: #008080; font-weight: bold\">0.0000</span>, acc: <span style=\"color: #008080; text-decoration-color: #008080; font-weight: bold\">0.0000</span>, sumlogdet:\n",
       "<span style=\"color: #7fbfbf; text-decoration-color: #7fbfbf\">           </span><span style=\"color: #008080; text-decoration-color: #008080; font-weight: bold\">0.0000</span>, acc_mask: <span style=\"color: #008080; text-decoration-color: #008080; font-weight: bold\">0.0000</span>, sinQ: <span style=\"color: #008080; text-decoration-color: #008080; font-weight: bold\">0.0002</span>, intQ: <span style=\"color: #008080; text-decoration-color: #008080; font-weight: bold\">0.0140</span>, plaqs: <span style=\"color: #008080; text-decoration-color: #008080; font-weight: bold\">0.0001</span>               \n",
       "</pre>\n"
      ],
      "text/plain": [
       "\u001b[2;36m[06:40:00]\u001b[0m\u001b[2;36m \u001b[0m\u001b[1;36m4\u001b[0m \u001b[35m/\u001b[0m \u001b[1;36m1000\u001b[0m, energy: \u001b[1;36m2.9820\u001b[0m, logprob: \u001b[1;36m2.9820\u001b[0m, logdet: \u001b[1;36m0.0000\u001b[0m, acc: \u001b[1;36m0.0000\u001b[0m, sumlogdet:\n",
       "\u001b[2;36m           \u001b[0m\u001b[1;36m0.0000\u001b[0m, acc_mask: \u001b[1;36m0.0000\u001b[0m, sinQ: \u001b[1;36m0.0002\u001b[0m, intQ: \u001b[1;36m0.0140\u001b[0m, plaqs: \u001b[1;36m0.0001\u001b[0m               \n"
      ]
     },
     "metadata": {},
     "output_type": "display_data"
    },
    {
     "data": {
      "text/html": [
       "<pre style=\"white-space:pre;overflow-x:auto;line-height:normal;font-family:Menlo,'DejaVu Sans Mono',consolas,'Courier New',monospace\"><span style=\"color: #7fbfbf; text-decoration-color: #7fbfbf\">[06:40:18] </span><span style=\"color: #008080; text-decoration-color: #008080; font-weight: bold\">5</span> <span style=\"color: #800080; text-decoration-color: #800080\">/</span> <span style=\"color: #008080; text-decoration-color: #008080; font-weight: bold\">1000</span>, energy: <span style=\"color: #008080; text-decoration-color: #008080; font-weight: bold\">30.5779</span>, logprob: <span style=\"color: #008080; text-decoration-color: #008080; font-weight: bold\">30.5779</span>, logdet: <span style=\"color: #008080; text-decoration-color: #008080; font-weight: bold\">0.0000</span>, acc: <span style=\"color: #008080; text-decoration-color: #008080; font-weight: bold\">0.0000</span>,         \n",
       "<span style=\"color: #7fbfbf; text-decoration-color: #7fbfbf\">           </span>sumlogdet: <span style=\"color: #008080; text-decoration-color: #008080; font-weight: bold\">0.0000</span>, acc_mask: <span style=\"color: #008080; text-decoration-color: #008080; font-weight: bold\">0.0000</span>, sinQ: <span style=\"color: #008080; text-decoration-color: #008080; font-weight: bold\">0.0002</span>, intQ: <span style=\"color: #008080; text-decoration-color: #008080; font-weight: bold\">0.0140</span>, plaqs: <span style=\"color: #008080; text-decoration-color: #008080; font-weight: bold\">0.0001</span>    \n",
       "</pre>\n"
      ],
      "text/plain": [
       "\u001b[2;36m[06:40:18]\u001b[0m\u001b[2;36m \u001b[0m\u001b[1;36m5\u001b[0m \u001b[35m/\u001b[0m \u001b[1;36m1000\u001b[0m, energy: \u001b[1;36m30.5779\u001b[0m, logprob: \u001b[1;36m30.5779\u001b[0m, logdet: \u001b[1;36m0.0000\u001b[0m, acc: \u001b[1;36m0.0000\u001b[0m,         \n",
       "\u001b[2;36m           \u001b[0msumlogdet: \u001b[1;36m0.0000\u001b[0m, acc_mask: \u001b[1;36m0.0000\u001b[0m, sinQ: \u001b[1;36m0.0002\u001b[0m, intQ: \u001b[1;36m0.0140\u001b[0m, plaqs: \u001b[1;36m0.0001\u001b[0m    \n"
      ]
     },
     "metadata": {},
     "output_type": "display_data"
    },
    {
     "data": {
      "text/html": [
       "<pre style=\"white-space:pre;overflow-x:auto;line-height:normal;font-family:Menlo,'DejaVu Sans Mono',consolas,'Courier New',monospace\"><span style=\"color: #7fbfbf; text-decoration-color: #7fbfbf\">[06:40:36] </span><span style=\"color: #008080; text-decoration-color: #008080; font-weight: bold\">6</span> <span style=\"color: #800080; text-decoration-color: #800080\">/</span> <span style=\"color: #008080; text-decoration-color: #008080; font-weight: bold\">1000</span>, energy: <span style=\"color: #008080; text-decoration-color: #008080; font-weight: bold\">-2.0000</span>, logprob: <span style=\"color: #008080; text-decoration-color: #008080; font-weight: bold\">-2.0000</span>, logdet: <span style=\"color: #008080; text-decoration-color: #008080; font-weight: bold\">0.0000</span>, acc: <span style=\"color: #008080; text-decoration-color: #008080; font-weight: bold\">0.0000</span>,         \n",
       "<span style=\"color: #7fbfbf; text-decoration-color: #7fbfbf\">           </span>sumlogdet: <span style=\"color: #008080; text-decoration-color: #008080; font-weight: bold\">0.0000</span>, acc_mask: <span style=\"color: #008080; text-decoration-color: #008080; font-weight: bold\">0.0000</span>, sinQ: <span style=\"color: #008080; text-decoration-color: #008080; font-weight: bold\">0.0002</span>, intQ: <span style=\"color: #008080; text-decoration-color: #008080; font-weight: bold\">0.0140</span>, plaqs: <span style=\"color: #008080; text-decoration-color: #008080; font-weight: bold\">0.0001</span>    \n",
       "</pre>\n"
      ],
      "text/plain": [
       "\u001b[2;36m[06:40:36]\u001b[0m\u001b[2;36m \u001b[0m\u001b[1;36m6\u001b[0m \u001b[35m/\u001b[0m \u001b[1;36m1000\u001b[0m, energy: \u001b[1;36m-2.0000\u001b[0m, logprob: \u001b[1;36m-2.0000\u001b[0m, logdet: \u001b[1;36m0.0000\u001b[0m, acc: \u001b[1;36m0.0000\u001b[0m,         \n",
       "\u001b[2;36m           \u001b[0msumlogdet: \u001b[1;36m0.0000\u001b[0m, acc_mask: \u001b[1;36m0.0000\u001b[0m, sinQ: \u001b[1;36m0.0002\u001b[0m, intQ: \u001b[1;36m0.0140\u001b[0m, plaqs: \u001b[1;36m0.0001\u001b[0m    \n"
      ]
     },
     "metadata": {},
     "output_type": "display_data"
    },
    {
     "data": {
      "text/html": [
       "<pre style=\"white-space:pre;overflow-x:auto;line-height:normal;font-family:Menlo,'DejaVu Sans Mono',consolas,'Courier New',monospace\"><span style=\"color: #7fbfbf; text-decoration-color: #7fbfbf\">[06:40:57] </span><span style=\"color: #008080; text-decoration-color: #008080; font-weight: bold\">7</span> <span style=\"color: #800080; text-decoration-color: #800080\">/</span> <span style=\"color: #008080; text-decoration-color: #008080; font-weight: bold\">1000</span>, energy: <span style=\"color: #008080; text-decoration-color: #008080; font-weight: bold\">19.2119</span>, logprob: <span style=\"color: #008080; text-decoration-color: #008080; font-weight: bold\">19.2119</span>, logdet: <span style=\"color: #008080; text-decoration-color: #008080; font-weight: bold\">0.0000</span>, acc: <span style=\"color: #008080; text-decoration-color: #008080; font-weight: bold\">0.0000</span>,         \n",
       "<span style=\"color: #7fbfbf; text-decoration-color: #7fbfbf\">           </span>sumlogdet: <span style=\"color: #008080; text-decoration-color: #008080; font-weight: bold\">0.0000</span>, acc_mask: <span style=\"color: #008080; text-decoration-color: #008080; font-weight: bold\">0.0000</span>, sinQ: <span style=\"color: #008080; text-decoration-color: #008080; font-weight: bold\">0.0002</span>, intQ: <span style=\"color: #008080; text-decoration-color: #008080; font-weight: bold\">0.0140</span>, plaqs: <span style=\"color: #008080; text-decoration-color: #008080; font-weight: bold\">0.0001</span>    \n",
       "</pre>\n"
      ],
      "text/plain": [
       "\u001b[2;36m[06:40:57]\u001b[0m\u001b[2;36m \u001b[0m\u001b[1;36m7\u001b[0m \u001b[35m/\u001b[0m \u001b[1;36m1000\u001b[0m, energy: \u001b[1;36m19.2119\u001b[0m, logprob: \u001b[1;36m19.2119\u001b[0m, logdet: \u001b[1;36m0.0000\u001b[0m, acc: \u001b[1;36m0.0000\u001b[0m,         \n",
       "\u001b[2;36m           \u001b[0msumlogdet: \u001b[1;36m0.0000\u001b[0m, acc_mask: \u001b[1;36m0.0000\u001b[0m, sinQ: \u001b[1;36m0.0002\u001b[0m, intQ: \u001b[1;36m0.0140\u001b[0m, plaqs: \u001b[1;36m0.0001\u001b[0m    \n"
      ]
     },
     "metadata": {},
     "output_type": "display_data"
    },
    {
     "ename": "KeyboardInterrupt",
     "evalue": "",
     "output_type": "error",
     "traceback": [
      "\u001b[0;31m---------------------------------------------------------------------------\u001b[0m",
      "\u001b[0;31mKeyboardInterrupt\u001b[0m                         Traceback (most recent call last)",
      "Input \u001b[0;32mIn [27]\u001b[0m, in \u001b[0;36m<cell line: 1>\u001b[0;34m()\u001b[0m\n\u001b[0;32m----> 1\u001b[0m \u001b[43mrun_hmc\u001b[49m\u001b[43m(\u001b[49m\u001b[43mexp_pt\u001b[49m\u001b[43m,\u001b[49m\u001b[43m \u001b[49m\u001b[43mbeta\u001b[49m\u001b[38;5;241;43m=\u001b[39;49m\u001b[38;5;241;43m6.0\u001b[39;49m\u001b[43m,\u001b[49m\u001b[43m \u001b[49m\u001b[43mx\u001b[49m\u001b[38;5;241;43m=\u001b[39;49m\u001b[43mxpt\u001b[49m\u001b[43m,\u001b[49m\u001b[43m \u001b[49m\u001b[43mnsteps\u001b[49m\u001b[38;5;241;43m=\u001b[39;49m\u001b[38;5;241;43m1000\u001b[39;49m\u001b[43m,\u001b[49m\u001b[43m \u001b[49m\u001b[43mnlog\u001b[49m\u001b[38;5;241;43m=\u001b[39;49m\u001b[38;5;241;43m1\u001b[39;49m\u001b[43m)\u001b[49m\n",
      "Input \u001b[0;32mIn [25]\u001b[0m, in \u001b[0;36mrun_hmc\u001b[0;34m(experiment, beta, nlog, nsteps, x)\u001b[0m\n\u001b[1;32m     27\u001b[0m metrics \u001b[38;5;241m=\u001b[39m {}\n\u001b[1;32m     28\u001b[0m \u001b[38;5;28;01mfor\u001b[39;00m step \u001b[38;5;129;01min\u001b[39;00m \u001b[38;5;28mrange\u001b[39m(nsteps):\n\u001b[0;32m---> 29\u001b[0m     x, metrics_ \u001b[38;5;241m=\u001b[39m \u001b[43mexperiment\u001b[49m\u001b[38;5;241;43m.\u001b[39;49m\u001b[43mdynamics\u001b[49m\u001b[38;5;241;43m.\u001b[39;49m\u001b[43mapply_transition_hmc\u001b[49m\u001b[43m(\u001b[49m\n\u001b[1;32m     30\u001b[0m \u001b[43m        \u001b[49m\u001b[43m(\u001b[49m\u001b[43mx\u001b[49m\u001b[43m,\u001b[49m\u001b[43m \u001b[49m\u001b[43mbeta\u001b[49m\u001b[43m)\u001b[49m\u001b[43m,\u001b[49m\u001b[43m \u001b[49m\u001b[43meps\u001b[49m\u001b[38;5;241;43m=\u001b[39;49m\u001b[43mexperiment\u001b[49m\u001b[38;5;241;43m.\u001b[39;49m\u001b[43mcfg\u001b[49m\u001b[38;5;241;43m.\u001b[39;49m\u001b[43meps_hmc\u001b[49m\n\u001b[1;32m     31\u001b[0m \u001b[43m    \u001b[49m\u001b[43m)\u001b[49m\n\u001b[1;32m     32\u001b[0m     _ \u001b[38;5;241m=\u001b[39m metrics_\u001b[38;5;241m.\u001b[39mpop(\u001b[38;5;124m'\u001b[39m\u001b[38;5;124mmc_states\u001b[39m\u001b[38;5;124m'\u001b[39m)\n\u001b[1;32m     34\u001b[0m     \u001b[38;5;28;01mif\u001b[39;00m step \u001b[38;5;241m%\u001b[39m nlog \u001b[38;5;241m==\u001b[39m \u001b[38;5;241m0\u001b[39m:\n",
      "File \u001b[0;32m~/projects/l2hmc-qcd/src/l2hmc/dynamics/pytorch/dynamics.py:246\u001b[0m, in \u001b[0;36mDynamics.apply_transition_hmc\u001b[0;34m(self, inputs, eps, nsteps)\u001b[0m\n\u001b[1;32m    240\u001b[0m \u001b[38;5;28;01mdef\u001b[39;00m \u001b[38;5;21mapply_transition_hmc\u001b[39m(\n\u001b[1;32m    241\u001b[0m         \u001b[38;5;28mself\u001b[39m,\n\u001b[1;32m    242\u001b[0m         inputs: \u001b[38;5;28mtuple\u001b[39m[Tensor, Tensor],  \u001b[38;5;66;03m# x, beta\u001b[39;00m\n\u001b[1;32m    243\u001b[0m         eps: Tensor,\n\u001b[1;32m    244\u001b[0m         nsteps: Optional[\u001b[38;5;28mint\u001b[39m] \u001b[38;5;241m=\u001b[39m \u001b[38;5;28;01mNone\u001b[39;00m,\n\u001b[1;32m    245\u001b[0m ) \u001b[38;5;241m-\u001b[39m\u001b[38;5;241m>\u001b[39m \u001b[38;5;28mtuple\u001b[39m[Tensor, \u001b[38;5;28mdict\u001b[39m]:\n\u001b[0;32m--> 246\u001b[0m     data \u001b[38;5;241m=\u001b[39m \u001b[38;5;28;43mself\u001b[39;49m\u001b[38;5;241;43m.\u001b[39;49m\u001b[43mgenerate_proposal_hmc\u001b[49m\u001b[43m(\u001b[49m\u001b[43minputs\u001b[49m\u001b[43m,\u001b[49m\u001b[43m \u001b[49m\u001b[43meps\u001b[49m\u001b[38;5;241;43m=\u001b[39;49m\u001b[43meps\u001b[49m\u001b[43m,\u001b[49m\u001b[43m \u001b[49m\u001b[43mnsteps\u001b[49m\u001b[38;5;241;43m=\u001b[39;49m\u001b[43mnsteps\u001b[49m\u001b[43m)\u001b[49m\n\u001b[1;32m    247\u001b[0m     ma_, mr_ \u001b[38;5;241m=\u001b[39m \u001b[38;5;28mself\u001b[39m\u001b[38;5;241m.\u001b[39m_get_accept_masks(data[\u001b[38;5;124m'\u001b[39m\u001b[38;5;124mmetrics\u001b[39m\u001b[38;5;124m'\u001b[39m][\u001b[38;5;124m'\u001b[39m\u001b[38;5;124macc\u001b[39m\u001b[38;5;124m'\u001b[39m])\n\u001b[1;32m    248\u001b[0m     ma_ \u001b[38;5;241m=\u001b[39m ma_\u001b[38;5;241m.\u001b[39mto(inputs[\u001b[38;5;241m0\u001b[39m]\u001b[38;5;241m.\u001b[39mdevice)\n",
      "File \u001b[0;32m~/projects/l2hmc-qcd/src/l2hmc/dynamics/pytorch/dynamics.py:400\u001b[0m, in \u001b[0;36mDynamics.generate_proposal_hmc\u001b[0;34m(self, inputs, eps, nsteps)\u001b[0m\n\u001b[1;32m    398\u001b[0m init \u001b[38;5;241m=\u001b[39m State(x\u001b[38;5;241m=\u001b[39mx, v\u001b[38;5;241m=\u001b[39mv, beta\u001b[38;5;241m=\u001b[39mbeta)\n\u001b[1;32m    399\u001b[0m nsteps \u001b[38;5;241m=\u001b[39m \u001b[38;5;241m2\u001b[39m \u001b[38;5;241m*\u001b[39m \u001b[38;5;28mself\u001b[39m\u001b[38;5;241m.\u001b[39mnlf \u001b[38;5;28;01mif\u001b[39;00m \u001b[38;5;28mself\u001b[39m\u001b[38;5;241m.\u001b[39mconfig\u001b[38;5;241m.\u001b[39mmerge_directions \u001b[38;5;28;01melse\u001b[39;00m \u001b[38;5;28mself\u001b[39m\u001b[38;5;241m.\u001b[39mnlf\n\u001b[0;32m--> 400\u001b[0m proposed, metrics \u001b[38;5;241m=\u001b[39m \u001b[38;5;28;43mself\u001b[39;49m\u001b[38;5;241;43m.\u001b[39;49m\u001b[43mtransition_kernel_hmc\u001b[49m\u001b[43m(\u001b[49m\n\u001b[1;32m    401\u001b[0m \u001b[43m    \u001b[49m\u001b[43minit\u001b[49m\u001b[43m,\u001b[49m\n\u001b[1;32m    402\u001b[0m \u001b[43m    \u001b[49m\u001b[43meps\u001b[49m\u001b[38;5;241;43m=\u001b[39;49m\u001b[43meps\u001b[49m\u001b[43m,\u001b[49m\n\u001b[1;32m    403\u001b[0m \u001b[43m    \u001b[49m\u001b[43mnsteps\u001b[49m\u001b[38;5;241;43m=\u001b[39;49m\u001b[43mnsteps\u001b[49m\n\u001b[1;32m    404\u001b[0m \u001b[43m\u001b[49m\u001b[43m)\u001b[49m\n\u001b[1;32m    406\u001b[0m \u001b[38;5;28;01mreturn\u001b[39;00m {\u001b[38;5;124m'\u001b[39m\u001b[38;5;124minit\u001b[39m\u001b[38;5;124m'\u001b[39m: init, \u001b[38;5;124m'\u001b[39m\u001b[38;5;124mproposed\u001b[39m\u001b[38;5;124m'\u001b[39m: proposed, \u001b[38;5;124m'\u001b[39m\u001b[38;5;124mmetrics\u001b[39m\u001b[38;5;124m'\u001b[39m: metrics}\n",
      "File \u001b[0;32m~/projects/l2hmc-qcd/src/l2hmc/dynamics/pytorch/dynamics.py:506\u001b[0m, in \u001b[0;36mDynamics.transition_kernel_hmc\u001b[0;34m(self, state, eps, nsteps)\u001b[0m\n\u001b[1;32m    503\u001b[0m     nsteps \u001b[38;5;241m=\u001b[39m \u001b[38;5;28mself\u001b[39m\u001b[38;5;241m.\u001b[39mconfig\u001b[38;5;241m.\u001b[39mnleapfrog \u001b[38;5;28;01mif\u001b[39;00m nsteps \u001b[38;5;129;01mis\u001b[39;00m \u001b[38;5;28;01mNone\u001b[39;00m \u001b[38;5;28;01melse\u001b[39;00m nsteps\n\u001b[1;32m    505\u001b[0m \u001b[38;5;28;01mfor\u001b[39;00m _ \u001b[38;5;129;01min\u001b[39;00m \u001b[38;5;28mrange\u001b[39m(nsteps):\n\u001b[0;32m--> 506\u001b[0m     state_ \u001b[38;5;241m=\u001b[39m \u001b[38;5;28;43mself\u001b[39;49m\u001b[38;5;241;43m.\u001b[39;49m\u001b[43mleapfrog_hmc\u001b[49m\u001b[43m(\u001b[49m\u001b[43mstate_\u001b[49m\u001b[43m,\u001b[49m\u001b[43m \u001b[49m\u001b[43meps\u001b[49m\u001b[38;5;241;43m=\u001b[39;49m\u001b[43meps\u001b[49m\u001b[43m)\u001b[49m\n\u001b[1;32m    507\u001b[0m     \u001b[38;5;28;01mif\u001b[39;00m \u001b[38;5;28mself\u001b[39m\u001b[38;5;241m.\u001b[39mconfig\u001b[38;5;241m.\u001b[39mverbose:\n\u001b[1;32m    508\u001b[0m         history \u001b[38;5;241m=\u001b[39m \u001b[38;5;28mself\u001b[39m\u001b[38;5;241m.\u001b[39mupdate_history(\n\u001b[1;32m    509\u001b[0m             \u001b[38;5;28mself\u001b[39m\u001b[38;5;241m.\u001b[39mget_metrics(state_, sumlogdet),\n\u001b[1;32m    510\u001b[0m             history\u001b[38;5;241m=\u001b[39mhistory,\n\u001b[1;32m    511\u001b[0m         )\n",
      "File \u001b[0;32m~/projects/l2hmc-qcd/src/l2hmc/dynamics/pytorch/dynamics.py:478\u001b[0m, in \u001b[0;36mDynamics.leapfrog_hmc\u001b[0;34m(self, state, eps)\u001b[0m\n\u001b[1;32m    476\u001b[0m xp \u001b[38;5;241m=\u001b[39m \u001b[38;5;28mself\u001b[39m\u001b[38;5;241m.\u001b[39mg\u001b[38;5;241m.\u001b[39mupdate_gauge(x_, eps \u001b[38;5;241m*\u001b[39m v1)\n\u001b[1;32m    477\u001b[0m \u001b[38;5;66;03m# xp = x_ + eps * v1                                 # x += xeps * v\u001b[39;00m\n\u001b[0;32m--> 478\u001b[0m force2 \u001b[38;5;241m=\u001b[39m \u001b[38;5;28;43mself\u001b[39;49m\u001b[38;5;241;43m.\u001b[39;49m\u001b[43mgrad_potential\u001b[49m\u001b[43m(\u001b[49m\u001b[43mxp\u001b[49m\u001b[43m,\u001b[49m\u001b[43m \u001b[49m\u001b[43mstate\u001b[49m\u001b[38;5;241;43m.\u001b[39;49m\u001b[43mbeta\u001b[49m\u001b[43m)\u001b[49m       \u001b[38;5;66;03m# calc force, again\u001b[39;00m\n\u001b[1;32m    479\u001b[0m v2 \u001b[38;5;241m=\u001b[39m v1 \u001b[38;5;241m-\u001b[39m \u001b[38;5;241m0.5\u001b[39m \u001b[38;5;241m*\u001b[39m eps \u001b[38;5;241m*\u001b[39m force2                       \u001b[38;5;66;03m# v -= ½ veps * f\u001b[39;00m\n\u001b[1;32m    480\u001b[0m \u001b[38;5;28;01mreturn\u001b[39;00m State(x\u001b[38;5;241m=\u001b[39mxp, v\u001b[38;5;241m=\u001b[39mv2, beta\u001b[38;5;241m=\u001b[39mstate\u001b[38;5;241m.\u001b[39mbeta)\n",
      "File \u001b[0;32m~/projects/l2hmc-qcd/src/l2hmc/dynamics/pytorch/dynamics.py:912\u001b[0m, in \u001b[0;36mDynamics.grad_potential\u001b[0;34m(self, x, beta)\u001b[0m\n\u001b[1;32m    910\u001b[0m \u001b[38;5;124;03m\"\"\"Compute the gradient of the potential function.\"\"\"\u001b[39;00m\n\u001b[1;32m    911\u001b[0m x\u001b[38;5;241m.\u001b[39mrequires_grad_(\u001b[38;5;28;01mTrue\u001b[39;00m)\n\u001b[0;32m--> 912\u001b[0m s \u001b[38;5;241m=\u001b[39m \u001b[38;5;28;43mself\u001b[39;49m\u001b[38;5;241;43m.\u001b[39;49m\u001b[43mpotential_energy\u001b[49m\u001b[43m(\u001b[49m\u001b[43mx\u001b[49m\u001b[43m,\u001b[49m\u001b[43m \u001b[49m\u001b[43mbeta\u001b[49m\u001b[43m)\u001b[49m\n\u001b[1;32m    913\u001b[0m \u001b[38;5;28mid\u001b[39m \u001b[38;5;241m=\u001b[39m torch\u001b[38;5;241m.\u001b[39mones(x\u001b[38;5;241m.\u001b[39mshape[\u001b[38;5;241m0\u001b[39m], device\u001b[38;5;241m=\u001b[39mx\u001b[38;5;241m.\u001b[39mdevice)\n\u001b[1;32m    914\u001b[0m dsdx, \u001b[38;5;241m=\u001b[39m torch\u001b[38;5;241m.\u001b[39mautograd\u001b[38;5;241m.\u001b[39mgrad(s, x,\n\u001b[1;32m    915\u001b[0m                             \u001b[38;5;66;03m# create_graph=create_graph,\u001b[39;00m\n\u001b[1;32m    916\u001b[0m                             \u001b[38;5;66;03m# retain_graph=True,\u001b[39;00m\n\u001b[1;32m    917\u001b[0m                             grad_outputs\u001b[38;5;241m=\u001b[39m\u001b[38;5;28mid\u001b[39m)\n",
      "File \u001b[0;32m~/projects/l2hmc-qcd/src/l2hmc/dynamics/pytorch/dynamics.py:902\u001b[0m, in \u001b[0;36mDynamics.potential_energy\u001b[0;34m(self, x, beta)\u001b[0m\n\u001b[1;32m    900\u001b[0m \u001b[38;5;124;03m\"\"\"Returns the potential energy, PE = beta * action(x).\"\"\"\u001b[39;00m\n\u001b[1;32m    901\u001b[0m \u001b[38;5;66;03m# return beta * self.potential_fn(x)\u001b[39;00m\n\u001b[0;32m--> 902\u001b[0m \u001b[38;5;28;01mreturn\u001b[39;00m \u001b[38;5;28;43mself\u001b[39;49m\u001b[38;5;241;43m.\u001b[39;49m\u001b[43mpotential_fn\u001b[49m\u001b[43m(\u001b[49m\u001b[43mx\u001b[49m\u001b[43m,\u001b[49m\u001b[43m \u001b[49m\u001b[43mbeta\u001b[49m\u001b[43m)\u001b[49m\n",
      "File \u001b[0;32m~/projects/l2hmc-qcd/src/l2hmc/lattice/su3/pytorch/lattice.py:299\u001b[0m, in \u001b[0;36mLatticeSU3.action\u001b[0;34m(self, x, beta)\u001b[0m\n\u001b[1;32m    297\u001b[0m \u001b[38;5;124;03m\"\"\"Returns the action\"\"\"\u001b[39;00m\n\u001b[1;32m    298\u001b[0m coeffs \u001b[38;5;241m=\u001b[39m \u001b[38;5;28mself\u001b[39m\u001b[38;5;241m.\u001b[39mcoeffs(beta)\n\u001b[0;32m--> 299\u001b[0m ps, rs \u001b[38;5;241m=\u001b[39m \u001b[38;5;28;43mself\u001b[39;49m\u001b[38;5;241;43m.\u001b[39;49m\u001b[43m_wilson_loops\u001b[49m\u001b[43m(\u001b[49m\u001b[43mx\u001b[49m\u001b[43m,\u001b[49m\u001b[43m \u001b[49m\u001b[43mneeds_rect\u001b[49m\u001b[38;5;241;43m=\u001b[39;49m\u001b[43m(\u001b[49m\u001b[38;5;28;43mself\u001b[39;49m\u001b[38;5;241;43m.\u001b[39;49m\u001b[43mc1\u001b[49m\u001b[43m \u001b[49m\u001b[38;5;241;43m!=\u001b[39;49m\u001b[43m \u001b[49m\u001b[38;5;241;43m0\u001b[39;49m\u001b[43m)\u001b[49m\u001b[43m)\u001b[49m\n\u001b[1;32m    300\u001b[0m \u001b[38;5;28;01massert\u001b[39;00m \u001b[38;5;28misinstance\u001b[39m(x, Tensor)\n\u001b[1;32m    301\u001b[0m psum \u001b[38;5;241m=\u001b[39m ps\u001b[38;5;241m.\u001b[39mreal\u001b[38;5;241m.\u001b[39msum(\u001b[38;5;28mtuple\u001b[39m(\u001b[38;5;28mrange\u001b[39m(\u001b[38;5;241m2\u001b[39m, \u001b[38;5;28mlen\u001b[39m(ps\u001b[38;5;241m.\u001b[39mshape))))\u001b[38;5;241m.\u001b[39msum(\u001b[38;5;241m0\u001b[39m)\n",
      "File \u001b[0;32m~/projects/l2hmc-qcd/src/l2hmc/lattice/su3/pytorch/lattice.py:228\u001b[0m, in \u001b[0;36mLatticeSU3._wilson_loops\u001b[0;34m(self, x, needs_rect)\u001b[0m\n\u001b[1;32m    225\u001b[0m             rects\u001b[38;5;241m.\u001b[39mappend(torch\u001b[38;5;241m.\u001b[39mzeros_like(plaq))\n\u001b[1;32m    226\u001b[0m             rects\u001b[38;5;241m.\u001b[39mappend(torch\u001b[38;5;241m.\u001b[39mzeros_like(plaq))\n\u001b[0;32m--> 228\u001b[0m \u001b[38;5;28;01mreturn\u001b[39;00m torch\u001b[38;5;241m.\u001b[39mstack(plaqs), \u001b[43mtorch\u001b[49m\u001b[38;5;241;43m.\u001b[39;49m\u001b[43mstack\u001b[49m\u001b[43m(\u001b[49m\u001b[43mrects\u001b[49m\u001b[43m)\u001b[49m\n",
      "\u001b[0;31mKeyboardInterrupt\u001b[0m: "
     ]
    }
   ],
   "source": [
    "run_hmc(exp_pt, beta=6.0, x=xpt, nsteps=1000, nlog=1)"
   ]
  },
  {
   "cell_type": "code",
   "execution_count": 12,
   "id": "ede3ee5e",
   "metadata": {
    "ExecuteTime": {
     "end_time": "2022-06-05T02:08:55.427268Z",
     "start_time": "2022-06-05T01:56:31.044042Z"
    }
   },
   "outputs": [
    {
     "data": {
      "text/html": [
       "<pre style=\"white-space:pre;overflow-x:auto;line-height:normal;font-family:Menlo,'DejaVu Sans Mono',consolas,'Courier New',monospace\"><span style=\"color: #7fbfbf; text-decoration-color: #7fbfbf\">[20:56:31] </span><span style=\"color: #008080; text-decoration-color: #008080; font-weight: bold\">0</span> <span style=\"color: #800080; text-decoration-color: #800080\">/</span> <span style=\"color: #008080; text-decoration-color: #008080; font-weight: bold\">1000</span>, energy: <span style=\"color: #008080; text-decoration-color: #008080; font-weight: bold\">0.4590</span>, logprob: <span style=\"color: #008080; text-decoration-color: #008080; font-weight: bold\">0.4590</span>, logdet: <span style=\"color: #008080; text-decoration-color: #008080; font-weight: bold\">0.0000</span>, acc: <span style=\"color: #008080; text-decoration-color: #008080; font-weight: bold\">1.0000</span>, sumlogdet:\n",
       "<span style=\"color: #7fbfbf; text-decoration-color: #7fbfbf\">           </span><span style=\"color: #008080; text-decoration-color: #008080; font-weight: bold\">0.0000</span>, acc_mask: <span style=\"color: #008080; text-decoration-color: #008080; font-weight: bold\">1.0000</span>, sinQ: <span style=\"color: #008080; text-decoration-color: #008080; font-weight: bold\">-0.0019</span>, intQ: <span style=\"color: #008080; text-decoration-color: #008080; font-weight: bold\">-0.0277</span>, plaqs: <span style=\"color: #008080; text-decoration-color: #008080; font-weight: bold\">0.0028</span>             \n",
       "</pre>\n"
      ],
      "text/plain": [
       "\u001b[2;36m[20:56:31]\u001b[0m\u001b[2;36m \u001b[0m\u001b[1;36m0\u001b[0m \u001b[35m/\u001b[0m \u001b[1;36m1000\u001b[0m, energy: \u001b[1;36m0.4590\u001b[0m, logprob: \u001b[1;36m0.4590\u001b[0m, logdet: \u001b[1;36m0.0000\u001b[0m, acc: \u001b[1;36m1.0000\u001b[0m, sumlogdet:\n",
       "\u001b[2;36m           \u001b[0m\u001b[1;36m0.0000\u001b[0m, acc_mask: \u001b[1;36m1.0000\u001b[0m, sinQ: \u001b[1;36m-0.0019\u001b[0m, intQ: \u001b[1;36m-0.0277\u001b[0m, plaqs: \u001b[1;36m0.0028\u001b[0m             \n"
      ]
     },
     "metadata": {},
     "output_type": "display_data"
    },
    {
     "data": {
      "text/html": [
       "<pre style=\"white-space:pre;overflow-x:auto;line-height:normal;font-family:Menlo,'DejaVu Sans Mono',consolas,'Courier New',monospace\"><span style=\"color: #7fbfbf; text-decoration-color: #7fbfbf\">[20:56:44] </span><span style=\"color: #008080; text-decoration-color: #008080; font-weight: bold\">20</span> <span style=\"color: #800080; text-decoration-color: #800080\">/</span> <span style=\"color: #008080; text-decoration-color: #008080; font-weight: bold\">1000</span>, energy: <span style=\"color: #008080; text-decoration-color: #008080; font-weight: bold\">-38.0777</span>, logprob: <span style=\"color: #008080; text-decoration-color: #008080; font-weight: bold\">-38.0777</span>, logdet: <span style=\"color: #008080; text-decoration-color: #008080; font-weight: bold\">0.0000</span>, acc: <span style=\"color: #008080; text-decoration-color: #008080; font-weight: bold\">1.0000</span>,      \n",
       "<span style=\"color: #7fbfbf; text-decoration-color: #7fbfbf\">           </span>sumlogdet: <span style=\"color: #008080; text-decoration-color: #008080; font-weight: bold\">0.0000</span>, acc_mask: <span style=\"color: #008080; text-decoration-color: #008080; font-weight: bold\">1.0000</span>, sinQ: <span style=\"color: #008080; text-decoration-color: #008080; font-weight: bold\">0.0014</span>, intQ: <span style=\"color: #008080; text-decoration-color: #008080; font-weight: bold\">0.0209</span>, plaqs: <span style=\"color: #008080; text-decoration-color: #008080; font-weight: bold\">0.0203</span>    \n",
       "</pre>\n"
      ],
      "text/plain": [
       "\u001b[2;36m[20:56:44]\u001b[0m\u001b[2;36m \u001b[0m\u001b[1;36m20\u001b[0m \u001b[35m/\u001b[0m \u001b[1;36m1000\u001b[0m, energy: \u001b[1;36m-38.0777\u001b[0m, logprob: \u001b[1;36m-38.0777\u001b[0m, logdet: \u001b[1;36m0.0000\u001b[0m, acc: \u001b[1;36m1.0000\u001b[0m,      \n",
       "\u001b[2;36m           \u001b[0msumlogdet: \u001b[1;36m0.0000\u001b[0m, acc_mask: \u001b[1;36m1.0000\u001b[0m, sinQ: \u001b[1;36m0.0014\u001b[0m, intQ: \u001b[1;36m0.0209\u001b[0m, plaqs: \u001b[1;36m0.0203\u001b[0m    \n"
      ]
     },
     "metadata": {},
     "output_type": "display_data"
    },
    {
     "data": {
      "text/html": [
       "<pre style=\"white-space:pre;overflow-x:auto;line-height:normal;font-family:Menlo,'DejaVu Sans Mono',consolas,'Courier New',monospace\"><span style=\"color: #7fbfbf; text-decoration-color: #7fbfbf\">[20:56:54] </span><span style=\"color: #008080; text-decoration-color: #008080; font-weight: bold\">40</span> <span style=\"color: #800080; text-decoration-color: #800080\">/</span> <span style=\"color: #008080; text-decoration-color: #008080; font-weight: bold\">1000</span>, energy: <span style=\"color: #008080; text-decoration-color: #008080; font-weight: bold\">-15.9243</span>, logprob: <span style=\"color: #008080; text-decoration-color: #008080; font-weight: bold\">-15.9243</span>, logdet: <span style=\"color: #008080; text-decoration-color: #008080; font-weight: bold\">0.0000</span>, acc: <span style=\"color: #008080; text-decoration-color: #008080; font-weight: bold\">1.0000</span>,      \n",
       "<span style=\"color: #7fbfbf; text-decoration-color: #7fbfbf\">           </span>sumlogdet: <span style=\"color: #008080; text-decoration-color: #008080; font-weight: bold\">0.0000</span>, acc_mask: <span style=\"color: #008080; text-decoration-color: #008080; font-weight: bold\">1.0000</span>, sinQ: <span style=\"color: #008080; text-decoration-color: #008080; font-weight: bold\">0.0015</span>, intQ: <span style=\"color: #008080; text-decoration-color: #008080; font-weight: bold\">0.0215</span>, plaqs: <span style=\"color: #008080; text-decoration-color: #008080; font-weight: bold\">0.0371</span>    \n",
       "</pre>\n"
      ],
      "text/plain": [
       "\u001b[2;36m[20:56:54]\u001b[0m\u001b[2;36m \u001b[0m\u001b[1;36m40\u001b[0m \u001b[35m/\u001b[0m \u001b[1;36m1000\u001b[0m, energy: \u001b[1;36m-15.9243\u001b[0m, logprob: \u001b[1;36m-15.9243\u001b[0m, logdet: \u001b[1;36m0.0000\u001b[0m, acc: \u001b[1;36m1.0000\u001b[0m,      \n",
       "\u001b[2;36m           \u001b[0msumlogdet: \u001b[1;36m0.0000\u001b[0m, acc_mask: \u001b[1;36m1.0000\u001b[0m, sinQ: \u001b[1;36m0.0015\u001b[0m, intQ: \u001b[1;36m0.0215\u001b[0m, plaqs: \u001b[1;36m0.0371\u001b[0m    \n"
      ]
     },
     "metadata": {},
     "output_type": "display_data"
    },
    {
     "data": {
      "text/html": [
       "<pre style=\"white-space:pre;overflow-x:auto;line-height:normal;font-family:Menlo,'DejaVu Sans Mono',consolas,'Courier New',monospace\"><span style=\"color: #7fbfbf; text-decoration-color: #7fbfbf\">[20:57:05] </span><span style=\"color: #008080; text-decoration-color: #008080; font-weight: bold\">60</span> <span style=\"color: #800080; text-decoration-color: #800080\">/</span> <span style=\"color: #008080; text-decoration-color: #008080; font-weight: bold\">1000</span>, energy: <span style=\"color: #008080; text-decoration-color: #008080; font-weight: bold\">-13.1612</span>, logprob: <span style=\"color: #008080; text-decoration-color: #008080; font-weight: bold\">-13.1612</span>, logdet: <span style=\"color: #008080; text-decoration-color: #008080; font-weight: bold\">0.0000</span>, acc: <span style=\"color: #008080; text-decoration-color: #008080; font-weight: bold\">1.0000</span>,      \n",
       "<span style=\"color: #7fbfbf; text-decoration-color: #7fbfbf\">           </span>sumlogdet: <span style=\"color: #008080; text-decoration-color: #008080; font-weight: bold\">0.0000</span>, acc_mask: <span style=\"color: #008080; text-decoration-color: #008080; font-weight: bold\">1.0000</span>, sinQ: <span style=\"color: #008080; text-decoration-color: #008080; font-weight: bold\">-0.0019</span>, intQ: <span style=\"color: #008080; text-decoration-color: #008080; font-weight: bold\">-0.0270</span>, plaqs: <span style=\"color: #008080; text-decoration-color: #008080; font-weight: bold\">0.0585</span>  \n",
       "</pre>\n"
      ],
      "text/plain": [
       "\u001b[2;36m[20:57:05]\u001b[0m\u001b[2;36m \u001b[0m\u001b[1;36m60\u001b[0m \u001b[35m/\u001b[0m \u001b[1;36m1000\u001b[0m, energy: \u001b[1;36m-13.1612\u001b[0m, logprob: \u001b[1;36m-13.1612\u001b[0m, logdet: \u001b[1;36m0.0000\u001b[0m, acc: \u001b[1;36m1.0000\u001b[0m,      \n",
       "\u001b[2;36m           \u001b[0msumlogdet: \u001b[1;36m0.0000\u001b[0m, acc_mask: \u001b[1;36m1.0000\u001b[0m, sinQ: \u001b[1;36m-0.0019\u001b[0m, intQ: \u001b[1;36m-0.0270\u001b[0m, plaqs: \u001b[1;36m0.0585\u001b[0m  \n"
      ]
     },
     "metadata": {},
     "output_type": "display_data"
    },
    {
     "data": {
      "text/html": [
       "<pre style=\"white-space:pre;overflow-x:auto;line-height:normal;font-family:Menlo,'DejaVu Sans Mono',consolas,'Courier New',monospace\"><span style=\"color: #7fbfbf; text-decoration-color: #7fbfbf\">[20:57:16] </span><span style=\"color: #008080; text-decoration-color: #008080; font-weight: bold\">80</span> <span style=\"color: #800080; text-decoration-color: #800080\">/</span> <span style=\"color: #008080; text-decoration-color: #008080; font-weight: bold\">1000</span>, energy: <span style=\"color: #008080; text-decoration-color: #008080; font-weight: bold\">-117.2990</span>, logprob: <span style=\"color: #008080; text-decoration-color: #008080; font-weight: bold\">-117.2990</span>, logdet: <span style=\"color: #008080; text-decoration-color: #008080; font-weight: bold\">0.0000</span>, acc: <span style=\"color: #008080; text-decoration-color: #008080; font-weight: bold\">1.0000</span>,    \n",
       "<span style=\"color: #7fbfbf; text-decoration-color: #7fbfbf\">           </span>sumlogdet: <span style=\"color: #008080; text-decoration-color: #008080; font-weight: bold\">0.0000</span>, acc_mask: <span style=\"color: #008080; text-decoration-color: #008080; font-weight: bold\">1.0000</span>, sinQ: <span style=\"color: #008080; text-decoration-color: #008080; font-weight: bold\">-0.0005</span>, intQ: <span style=\"color: #008080; text-decoration-color: #008080; font-weight: bold\">-0.0078</span>, plaqs: <span style=\"color: #008080; text-decoration-color: #008080; font-weight: bold\">0.0826</span>  \n",
       "</pre>\n"
      ],
      "text/plain": [
       "\u001b[2;36m[20:57:16]\u001b[0m\u001b[2;36m \u001b[0m\u001b[1;36m80\u001b[0m \u001b[35m/\u001b[0m \u001b[1;36m1000\u001b[0m, energy: \u001b[1;36m-117.2990\u001b[0m, logprob: \u001b[1;36m-117.2990\u001b[0m, logdet: \u001b[1;36m0.0000\u001b[0m, acc: \u001b[1;36m1.0000\u001b[0m,    \n",
       "\u001b[2;36m           \u001b[0msumlogdet: \u001b[1;36m0.0000\u001b[0m, acc_mask: \u001b[1;36m1.0000\u001b[0m, sinQ: \u001b[1;36m-0.0005\u001b[0m, intQ: \u001b[1;36m-0.0078\u001b[0m, plaqs: \u001b[1;36m0.0826\u001b[0m  \n"
      ]
     },
     "metadata": {},
     "output_type": "display_data"
    },
    {
     "data": {
      "text/html": [
       "<pre style=\"white-space:pre;overflow-x:auto;line-height:normal;font-family:Menlo,'DejaVu Sans Mono',consolas,'Courier New',monospace\"><span style=\"color: #7fbfbf; text-decoration-color: #7fbfbf\">[20:57:26] </span><span style=\"color: #008080; text-decoration-color: #008080; font-weight: bold\">100</span> <span style=\"color: #800080; text-decoration-color: #800080\">/</span> <span style=\"color: #008080; text-decoration-color: #008080; font-weight: bold\">1000</span>, energy: <span style=\"color: #008080; text-decoration-color: #008080; font-weight: bold\">-191.0015</span>, logprob: <span style=\"color: #008080; text-decoration-color: #008080; font-weight: bold\">-191.0015</span>, logdet: <span style=\"color: #008080; text-decoration-color: #008080; font-weight: bold\">0.0000</span>, acc: <span style=\"color: #008080; text-decoration-color: #008080; font-weight: bold\">1.0000</span>,   \n",
       "<span style=\"color: #7fbfbf; text-decoration-color: #7fbfbf\">           </span>sumlogdet: <span style=\"color: #008080; text-decoration-color: #008080; font-weight: bold\">0.0000</span>, acc_mask: <span style=\"color: #008080; text-decoration-color: #008080; font-weight: bold\">1.0000</span>, sinQ: <span style=\"color: #008080; text-decoration-color: #008080; font-weight: bold\">-0.0000</span>, intQ: <span style=\"color: #008080; text-decoration-color: #008080; font-weight: bold\">-0.0007</span>, plaqs: <span style=\"color: #008080; text-decoration-color: #008080; font-weight: bold\">0.1127</span>  \n",
       "</pre>\n"
      ],
      "text/plain": [
       "\u001b[2;36m[20:57:26]\u001b[0m\u001b[2;36m \u001b[0m\u001b[1;36m100\u001b[0m \u001b[35m/\u001b[0m \u001b[1;36m1000\u001b[0m, energy: \u001b[1;36m-191.0015\u001b[0m, logprob: \u001b[1;36m-191.0015\u001b[0m, logdet: \u001b[1;36m0.0000\u001b[0m, acc: \u001b[1;36m1.0000\u001b[0m,   \n",
       "\u001b[2;36m           \u001b[0msumlogdet: \u001b[1;36m0.0000\u001b[0m, acc_mask: \u001b[1;36m1.0000\u001b[0m, sinQ: \u001b[1;36m-0.0000\u001b[0m, intQ: \u001b[1;36m-0.0007\u001b[0m, plaqs: \u001b[1;36m0.1127\u001b[0m  \n"
      ]
     },
     "metadata": {},
     "output_type": "display_data"
    },
    {
     "data": {
      "text/html": [
       "<pre style=\"white-space:pre;overflow-x:auto;line-height:normal;font-family:Menlo,'DejaVu Sans Mono',consolas,'Courier New',monospace\"><span style=\"color: #7fbfbf; text-decoration-color: #7fbfbf\">[20:57:37] </span><span style=\"color: #008080; text-decoration-color: #008080; font-weight: bold\">120</span> <span style=\"color: #800080; text-decoration-color: #800080\">/</span> <span style=\"color: #008080; text-decoration-color: #008080; font-weight: bold\">1000</span>, energy: <span style=\"color: #008080; text-decoration-color: #008080; font-weight: bold\">-243.6814</span>, logprob: <span style=\"color: #008080; text-decoration-color: #008080; font-weight: bold\">-243.6814</span>, logdet: <span style=\"color: #008080; text-decoration-color: #008080; font-weight: bold\">0.0000</span>, acc: <span style=\"color: #008080; text-decoration-color: #008080; font-weight: bold\">1.0000</span>,   \n",
       "<span style=\"color: #7fbfbf; text-decoration-color: #7fbfbf\">           </span>sumlogdet: <span style=\"color: #008080; text-decoration-color: #008080; font-weight: bold\">0.0000</span>, acc_mask: <span style=\"color: #008080; text-decoration-color: #008080; font-weight: bold\">1.0000</span>, sinQ: <span style=\"color: #008080; text-decoration-color: #008080; font-weight: bold\">-0.0015</span>, intQ: <span style=\"color: #008080; text-decoration-color: #008080; font-weight: bold\">-0.0216</span>, plaqs: <span style=\"color: #008080; text-decoration-color: #008080; font-weight: bold\">0.1468</span>  \n",
       "</pre>\n"
      ],
      "text/plain": [
       "\u001b[2;36m[20:57:37]\u001b[0m\u001b[2;36m \u001b[0m\u001b[1;36m120\u001b[0m \u001b[35m/\u001b[0m \u001b[1;36m1000\u001b[0m, energy: \u001b[1;36m-243.6814\u001b[0m, logprob: \u001b[1;36m-243.6814\u001b[0m, logdet: \u001b[1;36m0.0000\u001b[0m, acc: \u001b[1;36m1.0000\u001b[0m,   \n",
       "\u001b[2;36m           \u001b[0msumlogdet: \u001b[1;36m0.0000\u001b[0m, acc_mask: \u001b[1;36m1.0000\u001b[0m, sinQ: \u001b[1;36m-0.0015\u001b[0m, intQ: \u001b[1;36m-0.0216\u001b[0m, plaqs: \u001b[1;36m0.1468\u001b[0m  \n"
      ]
     },
     "metadata": {},
     "output_type": "display_data"
    },
    {
     "data": {
      "text/html": [
       "<pre style=\"white-space:pre;overflow-x:auto;line-height:normal;font-family:Menlo,'DejaVu Sans Mono',consolas,'Courier New',monospace\"><span style=\"color: #7fbfbf; text-decoration-color: #7fbfbf\">[20:57:49] </span><span style=\"color: #008080; text-decoration-color: #008080; font-weight: bold\">140</span> <span style=\"color: #800080; text-decoration-color: #800080\">/</span> <span style=\"color: #008080; text-decoration-color: #008080; font-weight: bold\">1000</span>, energy: <span style=\"color: #008080; text-decoration-color: #008080; font-weight: bold\">-260.6533</span>, logprob: <span style=\"color: #008080; text-decoration-color: #008080; font-weight: bold\">-260.6533</span>, logdet: <span style=\"color: #008080; text-decoration-color: #008080; font-weight: bold\">0.0000</span>, acc: <span style=\"color: #008080; text-decoration-color: #008080; font-weight: bold\">1.0000</span>,   \n",
       "<span style=\"color: #7fbfbf; text-decoration-color: #7fbfbf\">           </span>sumlogdet: <span style=\"color: #008080; text-decoration-color: #008080; font-weight: bold\">0.0000</span>, acc_mask: <span style=\"color: #008080; text-decoration-color: #008080; font-weight: bold\">1.0000</span>, sinQ: <span style=\"color: #008080; text-decoration-color: #008080; font-weight: bold\">-0.0034</span>, intQ: <span style=\"color: #008080; text-decoration-color: #008080; font-weight: bold\">-0.0489</span>, plaqs: <span style=\"color: #008080; text-decoration-color: #008080; font-weight: bold\">0.1834</span>  \n",
       "</pre>\n"
      ],
      "text/plain": [
       "\u001b[2;36m[20:57:49]\u001b[0m\u001b[2;36m \u001b[0m\u001b[1;36m140\u001b[0m \u001b[35m/\u001b[0m \u001b[1;36m1000\u001b[0m, energy: \u001b[1;36m-260.6533\u001b[0m, logprob: \u001b[1;36m-260.6533\u001b[0m, logdet: \u001b[1;36m0.0000\u001b[0m, acc: \u001b[1;36m1.0000\u001b[0m,   \n",
       "\u001b[2;36m           \u001b[0msumlogdet: \u001b[1;36m0.0000\u001b[0m, acc_mask: \u001b[1;36m1.0000\u001b[0m, sinQ: \u001b[1;36m-0.0034\u001b[0m, intQ: \u001b[1;36m-0.0489\u001b[0m, plaqs: \u001b[1;36m0.1834\u001b[0m  \n"
      ]
     },
     "metadata": {},
     "output_type": "display_data"
    },
    {
     "data": {
      "text/html": [
       "<pre style=\"white-space:pre;overflow-x:auto;line-height:normal;font-family:Menlo,'DejaVu Sans Mono',consolas,'Courier New',monospace\"><span style=\"color: #7fbfbf; text-decoration-color: #7fbfbf\">[20:58:00] </span><span style=\"color: #008080; text-decoration-color: #008080; font-weight: bold\">160</span> <span style=\"color: #800080; text-decoration-color: #800080\">/</span> <span style=\"color: #008080; text-decoration-color: #008080; font-weight: bold\">1000</span>, energy: <span style=\"color: #008080; text-decoration-color: #008080; font-weight: bold\">-352.9695</span>, logprob: <span style=\"color: #008080; text-decoration-color: #008080; font-weight: bold\">-352.9695</span>, logdet: <span style=\"color: #008080; text-decoration-color: #008080; font-weight: bold\">0.0000</span>, acc: <span style=\"color: #008080; text-decoration-color: #008080; font-weight: bold\">1.0000</span>,   \n",
       "<span style=\"color: #7fbfbf; text-decoration-color: #7fbfbf\">           </span>sumlogdet: <span style=\"color: #008080; text-decoration-color: #008080; font-weight: bold\">0.0000</span>, acc_mask: <span style=\"color: #008080; text-decoration-color: #008080; font-weight: bold\">1.0000</span>, sinQ: <span style=\"color: #008080; text-decoration-color: #008080; font-weight: bold\">-0.0003</span>, intQ: <span style=\"color: #008080; text-decoration-color: #008080; font-weight: bold\">-0.0040</span>, plaqs: <span style=\"color: #008080; text-decoration-color: #008080; font-weight: bold\">0.2256</span>  \n",
       "</pre>\n"
      ],
      "text/plain": [
       "\u001b[2;36m[20:58:00]\u001b[0m\u001b[2;36m \u001b[0m\u001b[1;36m160\u001b[0m \u001b[35m/\u001b[0m \u001b[1;36m1000\u001b[0m, energy: \u001b[1;36m-352.9695\u001b[0m, logprob: \u001b[1;36m-352.9695\u001b[0m, logdet: \u001b[1;36m0.0000\u001b[0m, acc: \u001b[1;36m1.0000\u001b[0m,   \n",
       "\u001b[2;36m           \u001b[0msumlogdet: \u001b[1;36m0.0000\u001b[0m, acc_mask: \u001b[1;36m1.0000\u001b[0m, sinQ: \u001b[1;36m-0.0003\u001b[0m, intQ: \u001b[1;36m-0.0040\u001b[0m, plaqs: \u001b[1;36m0.2256\u001b[0m  \n"
      ]
     },
     "metadata": {},
     "output_type": "display_data"
    },
    {
     "data": {
      "text/html": [
       "<pre style=\"white-space:pre;overflow-x:auto;line-height:normal;font-family:Menlo,'DejaVu Sans Mono',consolas,'Courier New',monospace\"><span style=\"color: #7fbfbf; text-decoration-color: #7fbfbf\">[20:58:12] </span><span style=\"color: #008080; text-decoration-color: #008080; font-weight: bold\">180</span> <span style=\"color: #800080; text-decoration-color: #800080\">/</span> <span style=\"color: #008080; text-decoration-color: #008080; font-weight: bold\">1000</span>, energy: <span style=\"color: #008080; text-decoration-color: #008080; font-weight: bold\">-402.8637</span>, logprob: <span style=\"color: #008080; text-decoration-color: #008080; font-weight: bold\">-402.8637</span>, logdet: <span style=\"color: #008080; text-decoration-color: #008080; font-weight: bold\">0.0000</span>, acc: <span style=\"color: #008080; text-decoration-color: #008080; font-weight: bold\">1.0000</span>,   \n",
       "<span style=\"color: #7fbfbf; text-decoration-color: #7fbfbf\">           </span>sumlogdet: <span style=\"color: #008080; text-decoration-color: #008080; font-weight: bold\">0.0000</span>, acc_mask: <span style=\"color: #008080; text-decoration-color: #008080; font-weight: bold\">1.0000</span>, sinQ: <span style=\"color: #008080; text-decoration-color: #008080; font-weight: bold\">-0.0039</span>, intQ: <span style=\"color: #008080; text-decoration-color: #008080; font-weight: bold\">-0.0562</span>, plaqs: <span style=\"color: #008080; text-decoration-color: #008080; font-weight: bold\">0.2717</span>  \n",
       "</pre>\n"
      ],
      "text/plain": [
       "\u001b[2;36m[20:58:12]\u001b[0m\u001b[2;36m \u001b[0m\u001b[1;36m180\u001b[0m \u001b[35m/\u001b[0m \u001b[1;36m1000\u001b[0m, energy: \u001b[1;36m-402.8637\u001b[0m, logprob: \u001b[1;36m-402.8637\u001b[0m, logdet: \u001b[1;36m0.0000\u001b[0m, acc: \u001b[1;36m1.0000\u001b[0m,   \n",
       "\u001b[2;36m           \u001b[0msumlogdet: \u001b[1;36m0.0000\u001b[0m, acc_mask: \u001b[1;36m1.0000\u001b[0m, sinQ: \u001b[1;36m-0.0039\u001b[0m, intQ: \u001b[1;36m-0.0562\u001b[0m, plaqs: \u001b[1;36m0.2717\u001b[0m  \n"
      ]
     },
     "metadata": {},
     "output_type": "display_data"
    },
    {
     "data": {
      "text/html": [
       "<pre style=\"white-space:pre;overflow-x:auto;line-height:normal;font-family:Menlo,'DejaVu Sans Mono',consolas,'Courier New',monospace\"><span style=\"color: #7fbfbf; text-decoration-color: #7fbfbf\">[20:58:23] </span><span style=\"color: #008080; text-decoration-color: #008080; font-weight: bold\">200</span> <span style=\"color: #800080; text-decoration-color: #800080\">/</span> <span style=\"color: #008080; text-decoration-color: #008080; font-weight: bold\">1000</span>, energy: <span style=\"color: #008080; text-decoration-color: #008080; font-weight: bold\">-474.9406</span>, logprob: <span style=\"color: #008080; text-decoration-color: #008080; font-weight: bold\">-474.9406</span>, logdet: <span style=\"color: #008080; text-decoration-color: #008080; font-weight: bold\">0.0000</span>, acc: <span style=\"color: #008080; text-decoration-color: #008080; font-weight: bold\">1.0000</span>,   \n",
       "<span style=\"color: #7fbfbf; text-decoration-color: #7fbfbf\">           </span>sumlogdet: <span style=\"color: #008080; text-decoration-color: #008080; font-weight: bold\">0.0000</span>, acc_mask: <span style=\"color: #008080; text-decoration-color: #008080; font-weight: bold\">1.0000</span>, sinQ: <span style=\"color: #008080; text-decoration-color: #008080; font-weight: bold\">-0.0036</span>, intQ: <span style=\"color: #008080; text-decoration-color: #008080; font-weight: bold\">-0.0530</span>, plaqs: <span style=\"color: #008080; text-decoration-color: #008080; font-weight: bold\">0.3300</span>  \n",
       "</pre>\n"
      ],
      "text/plain": [
       "\u001b[2;36m[20:58:23]\u001b[0m\u001b[2;36m \u001b[0m\u001b[1;36m200\u001b[0m \u001b[35m/\u001b[0m \u001b[1;36m1000\u001b[0m, energy: \u001b[1;36m-474.9406\u001b[0m, logprob: \u001b[1;36m-474.9406\u001b[0m, logdet: \u001b[1;36m0.0000\u001b[0m, acc: \u001b[1;36m1.0000\u001b[0m,   \n",
       "\u001b[2;36m           \u001b[0msumlogdet: \u001b[1;36m0.0000\u001b[0m, acc_mask: \u001b[1;36m1.0000\u001b[0m, sinQ: \u001b[1;36m-0.0036\u001b[0m, intQ: \u001b[1;36m-0.0530\u001b[0m, plaqs: \u001b[1;36m0.3300\u001b[0m  \n"
      ]
     },
     "metadata": {},
     "output_type": "display_data"
    },
    {
     "data": {
      "text/html": [
       "<pre style=\"white-space:pre;overflow-x:auto;line-height:normal;font-family:Menlo,'DejaVu Sans Mono',consolas,'Courier New',monospace\"><span style=\"color: #7fbfbf; text-decoration-color: #7fbfbf\">[20:58:35] </span><span style=\"color: #008080; text-decoration-color: #008080; font-weight: bold\">220</span> <span style=\"color: #800080; text-decoration-color: #800080\">/</span> <span style=\"color: #008080; text-decoration-color: #008080; font-weight: bold\">1000</span>, energy: <span style=\"color: #008080; text-decoration-color: #008080; font-weight: bold\">-622.4846</span>, logprob: <span style=\"color: #008080; text-decoration-color: #008080; font-weight: bold\">-622.4846</span>, logdet: <span style=\"color: #008080; text-decoration-color: #008080; font-weight: bold\">0.0000</span>, acc: <span style=\"color: #008080; text-decoration-color: #008080; font-weight: bold\">1.0000</span>,   \n",
       "<span style=\"color: #7fbfbf; text-decoration-color: #7fbfbf\">           </span>sumlogdet: <span style=\"color: #008080; text-decoration-color: #008080; font-weight: bold\">0.0000</span>, acc_mask: <span style=\"color: #008080; text-decoration-color: #008080; font-weight: bold\">1.0000</span>, sinQ: <span style=\"color: #008080; text-decoration-color: #008080; font-weight: bold\">-0.0044</span>, intQ: <span style=\"color: #008080; text-decoration-color: #008080; font-weight: bold\">-0.0637</span>, plaqs: <span style=\"color: #008080; text-decoration-color: #008080; font-weight: bold\">0.3970</span>  \n",
       "</pre>\n"
      ],
      "text/plain": [
       "\u001b[2;36m[20:58:35]\u001b[0m\u001b[2;36m \u001b[0m\u001b[1;36m220\u001b[0m \u001b[35m/\u001b[0m \u001b[1;36m1000\u001b[0m, energy: \u001b[1;36m-622.4846\u001b[0m, logprob: \u001b[1;36m-622.4846\u001b[0m, logdet: \u001b[1;36m0.0000\u001b[0m, acc: \u001b[1;36m1.0000\u001b[0m,   \n",
       "\u001b[2;36m           \u001b[0msumlogdet: \u001b[1;36m0.0000\u001b[0m, acc_mask: \u001b[1;36m1.0000\u001b[0m, sinQ: \u001b[1;36m-0.0044\u001b[0m, intQ: \u001b[1;36m-0.0637\u001b[0m, plaqs: \u001b[1;36m0.3970\u001b[0m  \n"
      ]
     },
     "metadata": {},
     "output_type": "display_data"
    },
    {
     "data": {
      "text/html": [
       "<pre style=\"white-space:pre;overflow-x:auto;line-height:normal;font-family:Menlo,'DejaVu Sans Mono',consolas,'Courier New',monospace\"><span style=\"color: #7fbfbf; text-decoration-color: #7fbfbf\">[20:58:46] </span><span style=\"color: #008080; text-decoration-color: #008080; font-weight: bold\">240</span> <span style=\"color: #800080; text-decoration-color: #800080\">/</span> <span style=\"color: #008080; text-decoration-color: #008080; font-weight: bold\">1000</span>, energy: <span style=\"color: #008080; text-decoration-color: #008080; font-weight: bold\">-705.4581</span>, logprob: <span style=\"color: #008080; text-decoration-color: #008080; font-weight: bold\">-705.4581</span>, logdet: <span style=\"color: #008080; text-decoration-color: #008080; font-weight: bold\">0.0000</span>, acc: <span style=\"color: #008080; text-decoration-color: #008080; font-weight: bold\">1.0000</span>,   \n",
       "<span style=\"color: #7fbfbf; text-decoration-color: #7fbfbf\">           </span>sumlogdet: <span style=\"color: #008080; text-decoration-color: #008080; font-weight: bold\">0.0000</span>, acc_mask: <span style=\"color: #008080; text-decoration-color: #008080; font-weight: bold\">1.0000</span>, sinQ: <span style=\"color: #008080; text-decoration-color: #008080; font-weight: bold\">-0.0039</span>, intQ: <span style=\"color: #008080; text-decoration-color: #008080; font-weight: bold\">-0.0562</span>, plaqs: <span style=\"color: #008080; text-decoration-color: #008080; font-weight: bold\">0.4720</span>  \n",
       "</pre>\n"
      ],
      "text/plain": [
       "\u001b[2;36m[20:58:46]\u001b[0m\u001b[2;36m \u001b[0m\u001b[1;36m240\u001b[0m \u001b[35m/\u001b[0m \u001b[1;36m1000\u001b[0m, energy: \u001b[1;36m-705.4581\u001b[0m, logprob: \u001b[1;36m-705.4581\u001b[0m, logdet: \u001b[1;36m0.0000\u001b[0m, acc: \u001b[1;36m1.0000\u001b[0m,   \n",
       "\u001b[2;36m           \u001b[0msumlogdet: \u001b[1;36m0.0000\u001b[0m, acc_mask: \u001b[1;36m1.0000\u001b[0m, sinQ: \u001b[1;36m-0.0039\u001b[0m, intQ: \u001b[1;36m-0.0562\u001b[0m, plaqs: \u001b[1;36m0.4720\u001b[0m  \n"
      ]
     },
     "metadata": {},
     "output_type": "display_data"
    },
    {
     "data": {
      "text/html": [
       "<pre style=\"white-space:pre;overflow-x:auto;line-height:normal;font-family:Menlo,'DejaVu Sans Mono',consolas,'Courier New',monospace\"><span style=\"color: #7fbfbf; text-decoration-color: #7fbfbf\">[20:58:58] </span><span style=\"color: #008080; text-decoration-color: #008080; font-weight: bold\">260</span> <span style=\"color: #800080; text-decoration-color: #800080\">/</span> <span style=\"color: #008080; text-decoration-color: #008080; font-weight: bold\">1000</span>, energy: <span style=\"color: #008080; text-decoration-color: #008080; font-weight: bold\">-856.0013</span>, logprob: <span style=\"color: #008080; text-decoration-color: #008080; font-weight: bold\">-856.0013</span>, logdet: <span style=\"color: #008080; text-decoration-color: #008080; font-weight: bold\">0.0000</span>, acc: <span style=\"color: #008080; text-decoration-color: #008080; font-weight: bold\">0.9999</span>,   \n",
       "<span style=\"color: #7fbfbf; text-decoration-color: #7fbfbf\">           </span>sumlogdet: <span style=\"color: #008080; text-decoration-color: #008080; font-weight: bold\">0.0000</span>, acc_mask: <span style=\"color: #008080; text-decoration-color: #008080; font-weight: bold\">1.0000</span>, sinQ: <span style=\"color: #008080; text-decoration-color: #008080; font-weight: bold\">-0.0050</span>, intQ: <span style=\"color: #008080; text-decoration-color: #008080; font-weight: bold\">-0.0736</span>, plaqs: <span style=\"color: #008080; text-decoration-color: #008080; font-weight: bold\">0.5579</span>  \n",
       "</pre>\n"
      ],
      "text/plain": [
       "\u001b[2;36m[20:58:58]\u001b[0m\u001b[2;36m \u001b[0m\u001b[1;36m260\u001b[0m \u001b[35m/\u001b[0m \u001b[1;36m1000\u001b[0m, energy: \u001b[1;36m-856.0013\u001b[0m, logprob: \u001b[1;36m-856.0013\u001b[0m, logdet: \u001b[1;36m0.0000\u001b[0m, acc: \u001b[1;36m0.9999\u001b[0m,   \n",
       "\u001b[2;36m           \u001b[0msumlogdet: \u001b[1;36m0.0000\u001b[0m, acc_mask: \u001b[1;36m1.0000\u001b[0m, sinQ: \u001b[1;36m-0.0050\u001b[0m, intQ: \u001b[1;36m-0.0736\u001b[0m, plaqs: \u001b[1;36m0.5579\u001b[0m  \n"
      ]
     },
     "metadata": {},
     "output_type": "display_data"
    },
    {
     "data": {
      "text/html": [
       "<pre style=\"white-space:pre;overflow-x:auto;line-height:normal;font-family:Menlo,'DejaVu Sans Mono',consolas,'Courier New',monospace\"><span style=\"color: #7fbfbf; text-decoration-color: #7fbfbf\">[20:59:10] </span><span style=\"color: #008080; text-decoration-color: #008080; font-weight: bold\">280</span> <span style=\"color: #800080; text-decoration-color: #800080\">/</span> <span style=\"color: #008080; text-decoration-color: #008080; font-weight: bold\">1000</span>, energy: <span style=\"color: #008080; text-decoration-color: #008080; font-weight: bold\">-1014.0726</span>, logprob: <span style=\"color: #008080; text-decoration-color: #008080; font-weight: bold\">-1014.0726</span>, logdet: <span style=\"color: #008080; text-decoration-color: #008080; font-weight: bold\">0.0000</span>, acc: <span style=\"color: #008080; text-decoration-color: #008080; font-weight: bold\">1.0000</span>, \n",
       "<span style=\"color: #7fbfbf; text-decoration-color: #7fbfbf\">           </span>sumlogdet: <span style=\"color: #008080; text-decoration-color: #008080; font-weight: bold\">0.0000</span>, acc_mask: <span style=\"color: #008080; text-decoration-color: #008080; font-weight: bold\">1.0000</span>, sinQ: <span style=\"color: #008080; text-decoration-color: #008080; font-weight: bold\">-0.0063</span>, intQ: <span style=\"color: #008080; text-decoration-color: #008080; font-weight: bold\">-0.0921</span>, plaqs: <span style=\"color: #008080; text-decoration-color: #008080; font-weight: bold\">0.6620</span>  \n",
       "</pre>\n"
      ],
      "text/plain": [
       "\u001b[2;36m[20:59:10]\u001b[0m\u001b[2;36m \u001b[0m\u001b[1;36m280\u001b[0m \u001b[35m/\u001b[0m \u001b[1;36m1000\u001b[0m, energy: \u001b[1;36m-1014.0726\u001b[0m, logprob: \u001b[1;36m-1014.0726\u001b[0m, logdet: \u001b[1;36m0.0000\u001b[0m, acc: \u001b[1;36m1.0000\u001b[0m, \n",
       "\u001b[2;36m           \u001b[0msumlogdet: \u001b[1;36m0.0000\u001b[0m, acc_mask: \u001b[1;36m1.0000\u001b[0m, sinQ: \u001b[1;36m-0.0063\u001b[0m, intQ: \u001b[1;36m-0.0921\u001b[0m, plaqs: \u001b[1;36m0.6620\u001b[0m  \n"
      ]
     },
     "metadata": {},
     "output_type": "display_data"
    },
    {
     "data": {
      "text/html": [
       "<pre style=\"white-space:pre;overflow-x:auto;line-height:normal;font-family:Menlo,'DejaVu Sans Mono',consolas,'Courier New',monospace\"><span style=\"color: #7fbfbf; text-decoration-color: #7fbfbf\">[20:59:25] </span><span style=\"color: #008080; text-decoration-color: #008080; font-weight: bold\">300</span> <span style=\"color: #800080; text-decoration-color: #800080\">/</span> <span style=\"color: #008080; text-decoration-color: #008080; font-weight: bold\">1000</span>, energy: <span style=\"color: #008080; text-decoration-color: #008080; font-weight: bold\">-1201.5293</span>, logprob: <span style=\"color: #008080; text-decoration-color: #008080; font-weight: bold\">-1201.5293</span>, logdet: <span style=\"color: #008080; text-decoration-color: #008080; font-weight: bold\">0.0000</span>, acc: <span style=\"color: #008080; text-decoration-color: #008080; font-weight: bold\">1.0000</span>, \n",
       "<span style=\"color: #7fbfbf; text-decoration-color: #7fbfbf\">           </span>sumlogdet: <span style=\"color: #008080; text-decoration-color: #008080; font-weight: bold\">0.0000</span>, acc_mask: <span style=\"color: #008080; text-decoration-color: #008080; font-weight: bold\">1.0000</span>, sinQ: <span style=\"color: #008080; text-decoration-color: #008080; font-weight: bold\">-0.0042</span>, intQ: <span style=\"color: #008080; text-decoration-color: #008080; font-weight: bold\">-0.0606</span>, plaqs: <span style=\"color: #008080; text-decoration-color: #008080; font-weight: bold\">0.7844</span>  \n",
       "</pre>\n"
      ],
      "text/plain": [
       "\u001b[2;36m[20:59:25]\u001b[0m\u001b[2;36m \u001b[0m\u001b[1;36m300\u001b[0m \u001b[35m/\u001b[0m \u001b[1;36m1000\u001b[0m, energy: \u001b[1;36m-1201.5293\u001b[0m, logprob: \u001b[1;36m-1201.5293\u001b[0m, logdet: \u001b[1;36m0.0000\u001b[0m, acc: \u001b[1;36m1.0000\u001b[0m, \n",
       "\u001b[2;36m           \u001b[0msumlogdet: \u001b[1;36m0.0000\u001b[0m, acc_mask: \u001b[1;36m1.0000\u001b[0m, sinQ: \u001b[1;36m-0.0042\u001b[0m, intQ: \u001b[1;36m-0.0606\u001b[0m, plaqs: \u001b[1;36m0.7844\u001b[0m  \n"
      ]
     },
     "metadata": {},
     "output_type": "display_data"
    },
    {
     "data": {
      "text/html": [
       "<pre style=\"white-space:pre;overflow-x:auto;line-height:normal;font-family:Menlo,'DejaVu Sans Mono',consolas,'Courier New',monospace\"><span style=\"color: #7fbfbf; text-decoration-color: #7fbfbf\">[20:59:40] </span><span style=\"color: #008080; text-decoration-color: #008080; font-weight: bold\">320</span> <span style=\"color: #800080; text-decoration-color: #800080\">/</span> <span style=\"color: #008080; text-decoration-color: #008080; font-weight: bold\">1000</span>, energy: <span style=\"color: #008080; text-decoration-color: #008080; font-weight: bold\">-1396.0524</span>, logprob: <span style=\"color: #008080; text-decoration-color: #008080; font-weight: bold\">-1396.0524</span>, logdet: <span style=\"color: #008080; text-decoration-color: #008080; font-weight: bold\">0.0000</span>, acc: <span style=\"color: #008080; text-decoration-color: #008080; font-weight: bold\">1.0000</span>, \n",
       "<span style=\"color: #7fbfbf; text-decoration-color: #7fbfbf\">           </span>sumlogdet: <span style=\"color: #008080; text-decoration-color: #008080; font-weight: bold\">0.0000</span>, acc_mask: <span style=\"color: #008080; text-decoration-color: #008080; font-weight: bold\">1.0000</span>, sinQ: <span style=\"color: #008080; text-decoration-color: #008080; font-weight: bold\">-0.0092</span>, intQ: <span style=\"color: #008080; text-decoration-color: #008080; font-weight: bold\">-0.1344</span>, plaqs: <span style=\"color: #008080; text-decoration-color: #008080; font-weight: bold\">0.9285</span>  \n",
       "</pre>\n"
      ],
      "text/plain": [
       "\u001b[2;36m[20:59:40]\u001b[0m\u001b[2;36m \u001b[0m\u001b[1;36m320\u001b[0m \u001b[35m/\u001b[0m \u001b[1;36m1000\u001b[0m, energy: \u001b[1;36m-1396.0524\u001b[0m, logprob: \u001b[1;36m-1396.0524\u001b[0m, logdet: \u001b[1;36m0.0000\u001b[0m, acc: \u001b[1;36m1.0000\u001b[0m, \n",
       "\u001b[2;36m           \u001b[0msumlogdet: \u001b[1;36m0.0000\u001b[0m, acc_mask: \u001b[1;36m1.0000\u001b[0m, sinQ: \u001b[1;36m-0.0092\u001b[0m, intQ: \u001b[1;36m-0.1344\u001b[0m, plaqs: \u001b[1;36m0.9285\u001b[0m  \n"
      ]
     },
     "metadata": {},
     "output_type": "display_data"
    },
    {
     "data": {
      "text/html": [
       "<pre style=\"white-space:pre;overflow-x:auto;line-height:normal;font-family:Menlo,'DejaVu Sans Mono',consolas,'Courier New',monospace\"><span style=\"color: #7fbfbf; text-decoration-color: #7fbfbf\">[20:59:54] </span><span style=\"color: #008080; text-decoration-color: #008080; font-weight: bold\">340</span> <span style=\"color: #800080; text-decoration-color: #800080\">/</span> <span style=\"color: #008080; text-decoration-color: #008080; font-weight: bold\">1000</span>, energy: <span style=\"color: #008080; text-decoration-color: #008080; font-weight: bold\">-1663.9742</span>, logprob: <span style=\"color: #008080; text-decoration-color: #008080; font-weight: bold\">-1663.9742</span>, logdet: <span style=\"color: #008080; text-decoration-color: #008080; font-weight: bold\">0.0000</span>, acc: <span style=\"color: #008080; text-decoration-color: #008080; font-weight: bold\">1.0000</span>, \n",
       "<span style=\"color: #7fbfbf; text-decoration-color: #7fbfbf\">           </span>sumlogdet: <span style=\"color: #008080; text-decoration-color: #008080; font-weight: bold\">0.0000</span>, acc_mask: <span style=\"color: #008080; text-decoration-color: #008080; font-weight: bold\">1.0000</span>, sinQ: <span style=\"color: #008080; text-decoration-color: #008080; font-weight: bold\">-0.0074</span>, intQ: <span style=\"color: #008080; text-decoration-color: #008080; font-weight: bold\">-0.1073</span>, plaqs: <span style=\"color: #008080; text-decoration-color: #008080; font-weight: bold\">1.0910</span>  \n",
       "</pre>\n"
      ],
      "text/plain": [
       "\u001b[2;36m[20:59:54]\u001b[0m\u001b[2;36m \u001b[0m\u001b[1;36m340\u001b[0m \u001b[35m/\u001b[0m \u001b[1;36m1000\u001b[0m, energy: \u001b[1;36m-1663.9742\u001b[0m, logprob: \u001b[1;36m-1663.9742\u001b[0m, logdet: \u001b[1;36m0.0000\u001b[0m, acc: \u001b[1;36m1.0000\u001b[0m, \n",
       "\u001b[2;36m           \u001b[0msumlogdet: \u001b[1;36m0.0000\u001b[0m, acc_mask: \u001b[1;36m1.0000\u001b[0m, sinQ: \u001b[1;36m-0.0074\u001b[0m, intQ: \u001b[1;36m-0.1073\u001b[0m, plaqs: \u001b[1;36m1.0910\u001b[0m  \n"
      ]
     },
     "metadata": {},
     "output_type": "display_data"
    },
    {
     "data": {
      "text/html": [
       "<pre style=\"white-space:pre;overflow-x:auto;line-height:normal;font-family:Menlo,'DejaVu Sans Mono',consolas,'Courier New',monospace\"><span style=\"color: #7fbfbf; text-decoration-color: #7fbfbf\">[21:00:07] </span><span style=\"color: #008080; text-decoration-color: #008080; font-weight: bold\">360</span> <span style=\"color: #800080; text-decoration-color: #800080\">/</span> <span style=\"color: #008080; text-decoration-color: #008080; font-weight: bold\">1000</span>, energy: <span style=\"color: #008080; text-decoration-color: #008080; font-weight: bold\">-1994.3602</span>, logprob: <span style=\"color: #008080; text-decoration-color: #008080; font-weight: bold\">-1994.3602</span>, logdet: <span style=\"color: #008080; text-decoration-color: #008080; font-weight: bold\">0.0000</span>, acc: <span style=\"color: #008080; text-decoration-color: #008080; font-weight: bold\">1.0000</span>, \n",
       "<span style=\"color: #7fbfbf; text-decoration-color: #7fbfbf\">           </span>sumlogdet: <span style=\"color: #008080; text-decoration-color: #008080; font-weight: bold\">0.0000</span>, acc_mask: <span style=\"color: #008080; text-decoration-color: #008080; font-weight: bold\">1.0000</span>, sinQ: <span style=\"color: #008080; text-decoration-color: #008080; font-weight: bold\">-0.0065</span>, intQ: <span style=\"color: #008080; text-decoration-color: #008080; font-weight: bold\">-0.0955</span>, plaqs: <span style=\"color: #008080; text-decoration-color: #008080; font-weight: bold\">1.2950</span>  \n",
       "</pre>\n"
      ],
      "text/plain": [
       "\u001b[2;36m[21:00:07]\u001b[0m\u001b[2;36m \u001b[0m\u001b[1;36m360\u001b[0m \u001b[35m/\u001b[0m \u001b[1;36m1000\u001b[0m, energy: \u001b[1;36m-1994.3602\u001b[0m, logprob: \u001b[1;36m-1994.3602\u001b[0m, logdet: \u001b[1;36m0.0000\u001b[0m, acc: \u001b[1;36m1.0000\u001b[0m, \n",
       "\u001b[2;36m           \u001b[0msumlogdet: \u001b[1;36m0.0000\u001b[0m, acc_mask: \u001b[1;36m1.0000\u001b[0m, sinQ: \u001b[1;36m-0.0065\u001b[0m, intQ: \u001b[1;36m-0.0955\u001b[0m, plaqs: \u001b[1;36m1.2950\u001b[0m  \n"
      ]
     },
     "metadata": {},
     "output_type": "display_data"
    },
    {
     "data": {
      "text/html": [
       "<pre style=\"white-space:pre;overflow-x:auto;line-height:normal;font-family:Menlo,'DejaVu Sans Mono',consolas,'Courier New',monospace\"><span style=\"color: #7fbfbf; text-decoration-color: #7fbfbf\">[21:00:20] </span><span style=\"color: #008080; text-decoration-color: #008080; font-weight: bold\">380</span> <span style=\"color: #800080; text-decoration-color: #800080\">/</span> <span style=\"color: #008080; text-decoration-color: #008080; font-weight: bold\">1000</span>, energy: <span style=\"color: #008080; text-decoration-color: #008080; font-weight: bold\">-2314.1731</span>, logprob: <span style=\"color: #008080; text-decoration-color: #008080; font-weight: bold\">-2314.1731</span>, logdet: <span style=\"color: #008080; text-decoration-color: #008080; font-weight: bold\">0.0000</span>, acc: <span style=\"color: #008080; text-decoration-color: #008080; font-weight: bold\">0.9999</span>, \n",
       "<span style=\"color: #7fbfbf; text-decoration-color: #7fbfbf\">           </span>sumlogdet: <span style=\"color: #008080; text-decoration-color: #008080; font-weight: bold\">0.0000</span>, acc_mask: <span style=\"color: #008080; text-decoration-color: #008080; font-weight: bold\">1.0000</span>, sinQ: <span style=\"color: #008080; text-decoration-color: #008080; font-weight: bold\">-0.0014</span>, intQ: <span style=\"color: #008080; text-decoration-color: #008080; font-weight: bold\">-0.0199</span>, plaqs: <span style=\"color: #008080; text-decoration-color: #008080; font-weight: bold\">1.5432</span>  \n",
       "</pre>\n"
      ],
      "text/plain": [
       "\u001b[2;36m[21:00:20]\u001b[0m\u001b[2;36m \u001b[0m\u001b[1;36m380\u001b[0m \u001b[35m/\u001b[0m \u001b[1;36m1000\u001b[0m, energy: \u001b[1;36m-2314.1731\u001b[0m, logprob: \u001b[1;36m-2314.1731\u001b[0m, logdet: \u001b[1;36m0.0000\u001b[0m, acc: \u001b[1;36m0.9999\u001b[0m, \n",
       "\u001b[2;36m           \u001b[0msumlogdet: \u001b[1;36m0.0000\u001b[0m, acc_mask: \u001b[1;36m1.0000\u001b[0m, sinQ: \u001b[1;36m-0.0014\u001b[0m, intQ: \u001b[1;36m-0.0199\u001b[0m, plaqs: \u001b[1;36m1.5432\u001b[0m  \n"
      ]
     },
     "metadata": {},
     "output_type": "display_data"
    },
    {
     "data": {
      "text/html": [
       "<pre style=\"white-space:pre;overflow-x:auto;line-height:normal;font-family:Menlo,'DejaVu Sans Mono',consolas,'Courier New',monospace\"><span style=\"color: #7fbfbf; text-decoration-color: #7fbfbf\">[21:00:33] </span><span style=\"color: #008080; text-decoration-color: #008080; font-weight: bold\">400</span> <span style=\"color: #800080; text-decoration-color: #800080\">/</span> <span style=\"color: #008080; text-decoration-color: #008080; font-weight: bold\">1000</span>, energy: <span style=\"color: #008080; text-decoration-color: #008080; font-weight: bold\">-2765.6521</span>, logprob: <span style=\"color: #008080; text-decoration-color: #008080; font-weight: bold\">-2765.6521</span>, logdet: <span style=\"color: #008080; text-decoration-color: #008080; font-weight: bold\">0.0000</span>, acc: <span style=\"color: #008080; text-decoration-color: #008080; font-weight: bold\">0.9999</span>, \n",
       "<span style=\"color: #7fbfbf; text-decoration-color: #7fbfbf\">           </span>sumlogdet: <span style=\"color: #008080; text-decoration-color: #008080; font-weight: bold\">0.0000</span>, acc_mask: <span style=\"color: #008080; text-decoration-color: #008080; font-weight: bold\">1.0000</span>, sinQ: <span style=\"color: #008080; text-decoration-color: #008080; font-weight: bold\">-0.0104</span>, intQ: <span style=\"color: #008080; text-decoration-color: #008080; font-weight: bold\">-0.1514</span>, plaqs: <span style=\"color: #008080; text-decoration-color: #008080; font-weight: bold\">1.8359</span>  \n",
       "</pre>\n"
      ],
      "text/plain": [
       "\u001b[2;36m[21:00:33]\u001b[0m\u001b[2;36m \u001b[0m\u001b[1;36m400\u001b[0m \u001b[35m/\u001b[0m \u001b[1;36m1000\u001b[0m, energy: \u001b[1;36m-2765.6521\u001b[0m, logprob: \u001b[1;36m-2765.6521\u001b[0m, logdet: \u001b[1;36m0.0000\u001b[0m, acc: \u001b[1;36m0.9999\u001b[0m, \n",
       "\u001b[2;36m           \u001b[0msumlogdet: \u001b[1;36m0.0000\u001b[0m, acc_mask: \u001b[1;36m1.0000\u001b[0m, sinQ: \u001b[1;36m-0.0104\u001b[0m, intQ: \u001b[1;36m-0.1514\u001b[0m, plaqs: \u001b[1;36m1.8359\u001b[0m  \n"
      ]
     },
     "metadata": {},
     "output_type": "display_data"
    },
    {
     "data": {
      "text/html": [
       "<pre style=\"white-space:pre;overflow-x:auto;line-height:normal;font-family:Menlo,'DejaVu Sans Mono',consolas,'Courier New',monospace\"><span style=\"color: #7fbfbf; text-decoration-color: #7fbfbf\">[21:00:46] </span><span style=\"color: #008080; text-decoration-color: #008080; font-weight: bold\">420</span> <span style=\"color: #800080; text-decoration-color: #800080\">/</span> <span style=\"color: #008080; text-decoration-color: #008080; font-weight: bold\">1000</span>, energy: <span style=\"color: #008080; text-decoration-color: #008080; font-weight: bold\">-3377.0811</span>, logprob: <span style=\"color: #008080; text-decoration-color: #008080; font-weight: bold\">-3377.0811</span>, logdet: <span style=\"color: #008080; text-decoration-color: #008080; font-weight: bold\">0.0000</span>, acc: <span style=\"color: #008080; text-decoration-color: #008080; font-weight: bold\">1.0000</span>, \n",
       "<span style=\"color: #7fbfbf; text-decoration-color: #7fbfbf\">           </span>sumlogdet: <span style=\"color: #008080; text-decoration-color: #008080; font-weight: bold\">0.0000</span>, acc_mask: <span style=\"color: #008080; text-decoration-color: #008080; font-weight: bold\">1.0000</span>, sinQ: <span style=\"color: #008080; text-decoration-color: #008080; font-weight: bold\">-0.0211</span>, intQ: <span style=\"color: #008080; text-decoration-color: #008080; font-weight: bold\">-0.3083</span>, plaqs: <span style=\"color: #008080; text-decoration-color: #008080; font-weight: bold\">2.1979</span>  \n",
       "</pre>\n"
      ],
      "text/plain": [
       "\u001b[2;36m[21:00:46]\u001b[0m\u001b[2;36m \u001b[0m\u001b[1;36m420\u001b[0m \u001b[35m/\u001b[0m \u001b[1;36m1000\u001b[0m, energy: \u001b[1;36m-3377.0811\u001b[0m, logprob: \u001b[1;36m-3377.0811\u001b[0m, logdet: \u001b[1;36m0.0000\u001b[0m, acc: \u001b[1;36m1.0000\u001b[0m, \n",
       "\u001b[2;36m           \u001b[0msumlogdet: \u001b[1;36m0.0000\u001b[0m, acc_mask: \u001b[1;36m1.0000\u001b[0m, sinQ: \u001b[1;36m-0.0211\u001b[0m, intQ: \u001b[1;36m-0.3083\u001b[0m, plaqs: \u001b[1;36m2.1979\u001b[0m  \n"
      ]
     },
     "metadata": {},
     "output_type": "display_data"
    },
    {
     "data": {
      "text/html": [
       "<pre style=\"white-space:pre;overflow-x:auto;line-height:normal;font-family:Menlo,'DejaVu Sans Mono',consolas,'Courier New',monospace\"><span style=\"color: #7fbfbf; text-decoration-color: #7fbfbf\">[21:00:59] </span><span style=\"color: #008080; text-decoration-color: #008080; font-weight: bold\">440</span> <span style=\"color: #800080; text-decoration-color: #800080\">/</span> <span style=\"color: #008080; text-decoration-color: #008080; font-weight: bold\">1000</span>, energy: <span style=\"color: #008080; text-decoration-color: #008080; font-weight: bold\">-4078.9932</span>, logprob: <span style=\"color: #008080; text-decoration-color: #008080; font-weight: bold\">-4078.9932</span>, logdet: <span style=\"color: #008080; text-decoration-color: #008080; font-weight: bold\">0.0000</span>, acc: <span style=\"color: #008080; text-decoration-color: #008080; font-weight: bold\">0.9998</span>, \n",
       "<span style=\"color: #7fbfbf; text-decoration-color: #7fbfbf\">           </span>sumlogdet: <span style=\"color: #008080; text-decoration-color: #008080; font-weight: bold\">0.0000</span>, acc_mask: <span style=\"color: #008080; text-decoration-color: #008080; font-weight: bold\">1.0000</span>, sinQ: <span style=\"color: #008080; text-decoration-color: #008080; font-weight: bold\">-0.0235</span>, intQ: <span style=\"color: #008080; text-decoration-color: #008080; font-weight: bold\">-0.3435</span>, plaqs: <span style=\"color: #008080; text-decoration-color: #008080; font-weight: bold\">2.6502</span>  \n",
       "</pre>\n"
      ],
      "text/plain": [
       "\u001b[2;36m[21:00:59]\u001b[0m\u001b[2;36m \u001b[0m\u001b[1;36m440\u001b[0m \u001b[35m/\u001b[0m \u001b[1;36m1000\u001b[0m, energy: \u001b[1;36m-4078.9932\u001b[0m, logprob: \u001b[1;36m-4078.9932\u001b[0m, logdet: \u001b[1;36m0.0000\u001b[0m, acc: \u001b[1;36m0.9998\u001b[0m, \n",
       "\u001b[2;36m           \u001b[0msumlogdet: \u001b[1;36m0.0000\u001b[0m, acc_mask: \u001b[1;36m1.0000\u001b[0m, sinQ: \u001b[1;36m-0.0235\u001b[0m, intQ: \u001b[1;36m-0.3435\u001b[0m, plaqs: \u001b[1;36m2.6502\u001b[0m  \n"
      ]
     },
     "metadata": {},
     "output_type": "display_data"
    },
    {
     "data": {
      "text/html": [
       "<pre style=\"white-space:pre;overflow-x:auto;line-height:normal;font-family:Menlo,'DejaVu Sans Mono',consolas,'Courier New',monospace\"><span style=\"color: #7fbfbf; text-decoration-color: #7fbfbf\">[21:01:12] </span><span style=\"color: #008080; text-decoration-color: #008080; font-weight: bold\">460</span> <span style=\"color: #800080; text-decoration-color: #800080\">/</span> <span style=\"color: #008080; text-decoration-color: #008080; font-weight: bold\">1000</span>, energy: <span style=\"color: #008080; text-decoration-color: #008080; font-weight: bold\">-4855.2798</span>, logprob: <span style=\"color: #008080; text-decoration-color: #008080; font-weight: bold\">-4855.2798</span>, logdet: <span style=\"color: #008080; text-decoration-color: #008080; font-weight: bold\">0.0000</span>, acc: <span style=\"color: #008080; text-decoration-color: #008080; font-weight: bold\">0.9999</span>, \n",
       "<span style=\"color: #7fbfbf; text-decoration-color: #7fbfbf\">           </span>sumlogdet: <span style=\"color: #008080; text-decoration-color: #008080; font-weight: bold\">0.0000</span>, acc_mask: <span style=\"color: #008080; text-decoration-color: #008080; font-weight: bold\">1.0000</span>, sinQ: <span style=\"color: #008080; text-decoration-color: #008080; font-weight: bold\">-0.0212</span>, intQ: <span style=\"color: #008080; text-decoration-color: #008080; font-weight: bold\">-0.3090</span>, plaqs: <span style=\"color: #008080; text-decoration-color: #008080; font-weight: bold\">3.2243</span>  \n",
       "</pre>\n"
      ],
      "text/plain": [
       "\u001b[2;36m[21:01:12]\u001b[0m\u001b[2;36m \u001b[0m\u001b[1;36m460\u001b[0m \u001b[35m/\u001b[0m \u001b[1;36m1000\u001b[0m, energy: \u001b[1;36m-4855.2798\u001b[0m, logprob: \u001b[1;36m-4855.2798\u001b[0m, logdet: \u001b[1;36m0.0000\u001b[0m, acc: \u001b[1;36m0.9999\u001b[0m, \n",
       "\u001b[2;36m           \u001b[0msumlogdet: \u001b[1;36m0.0000\u001b[0m, acc_mask: \u001b[1;36m1.0000\u001b[0m, sinQ: \u001b[1;36m-0.0212\u001b[0m, intQ: \u001b[1;36m-0.3090\u001b[0m, plaqs: \u001b[1;36m3.2243\u001b[0m  \n"
      ]
     },
     "metadata": {},
     "output_type": "display_data"
    },
    {
     "data": {
      "text/html": [
       "<pre style=\"white-space:pre;overflow-x:auto;line-height:normal;font-family:Menlo,'DejaVu Sans Mono',consolas,'Courier New',monospace\"><span style=\"color: #7fbfbf; text-decoration-color: #7fbfbf\">[21:01:26] </span><span style=\"color: #008080; text-decoration-color: #008080; font-weight: bold\">480</span> <span style=\"color: #800080; text-decoration-color: #800080\">/</span> <span style=\"color: #008080; text-decoration-color: #008080; font-weight: bold\">1000</span>, energy: <span style=\"color: #008080; text-decoration-color: #008080; font-weight: bold\">-6058.2720</span>, logprob: <span style=\"color: #008080; text-decoration-color: #008080; font-weight: bold\">-6058.2720</span>, logdet: <span style=\"color: #008080; text-decoration-color: #008080; font-weight: bold\">0.0000</span>, acc: <span style=\"color: #008080; text-decoration-color: #008080; font-weight: bold\">0.9998</span>, \n",
       "<span style=\"color: #7fbfbf; text-decoration-color: #7fbfbf\">           </span>sumlogdet: <span style=\"color: #008080; text-decoration-color: #008080; font-weight: bold\">0.0000</span>, acc_mask: <span style=\"color: #008080; text-decoration-color: #008080; font-weight: bold\">1.0000</span>, sinQ: <span style=\"color: #008080; text-decoration-color: #008080; font-weight: bold\">-0.0201</span>, intQ: <span style=\"color: #008080; text-decoration-color: #008080; font-weight: bold\">-0.2934</span>, plaqs: <span style=\"color: #008080; text-decoration-color: #008080; font-weight: bold\">3.9698</span>  \n",
       "</pre>\n"
      ],
      "text/plain": [
       "\u001b[2;36m[21:01:26]\u001b[0m\u001b[2;36m \u001b[0m\u001b[1;36m480\u001b[0m \u001b[35m/\u001b[0m \u001b[1;36m1000\u001b[0m, energy: \u001b[1;36m-6058.2720\u001b[0m, logprob: \u001b[1;36m-6058.2720\u001b[0m, logdet: \u001b[1;36m0.0000\u001b[0m, acc: \u001b[1;36m0.9998\u001b[0m, \n",
       "\u001b[2;36m           \u001b[0msumlogdet: \u001b[1;36m0.0000\u001b[0m, acc_mask: \u001b[1;36m1.0000\u001b[0m, sinQ: \u001b[1;36m-0.0201\u001b[0m, intQ: \u001b[1;36m-0.2934\u001b[0m, plaqs: \u001b[1;36m3.9698\u001b[0m  \n"
      ]
     },
     "metadata": {},
     "output_type": "display_data"
    },
    {
     "data": {
      "text/html": [
       "<pre style=\"white-space:pre;overflow-x:auto;line-height:normal;font-family:Menlo,'DejaVu Sans Mono',consolas,'Courier New',monospace\"><span style=\"color: #7fbfbf; text-decoration-color: #7fbfbf\">[21:01:44] </span><span style=\"color: #008080; text-decoration-color: #008080; font-weight: bold\">500</span> <span style=\"color: #800080; text-decoration-color: #800080\">/</span> <span style=\"color: #008080; text-decoration-color: #008080; font-weight: bold\">1000</span>, energy: <span style=\"color: #008080; text-decoration-color: #008080; font-weight: bold\">-7550.2925</span>, logprob: <span style=\"color: #008080; text-decoration-color: #008080; font-weight: bold\">-7550.2925</span>, logdet: <span style=\"color: #008080; text-decoration-color: #008080; font-weight: bold\">0.0000</span>, acc: <span style=\"color: #008080; text-decoration-color: #008080; font-weight: bold\">0.9990</span>, \n",
       "<span style=\"color: #7fbfbf; text-decoration-color: #7fbfbf\">           </span>sumlogdet: <span style=\"color: #008080; text-decoration-color: #008080; font-weight: bold\">0.0000</span>, acc_mask: <span style=\"color: #008080; text-decoration-color: #008080; font-weight: bold\">1.0000</span>, sinQ: <span style=\"color: #008080; text-decoration-color: #008080; font-weight: bold\">-0.0223</span>, intQ: <span style=\"color: #008080; text-decoration-color: #008080; font-weight: bold\">-0.3255</span>, plaqs: <span style=\"color: #008080; text-decoration-color: #008080; font-weight: bold\">4.9748</span>  \n",
       "</pre>\n"
      ],
      "text/plain": [
       "\u001b[2;36m[21:01:44]\u001b[0m\u001b[2;36m \u001b[0m\u001b[1;36m500\u001b[0m \u001b[35m/\u001b[0m \u001b[1;36m1000\u001b[0m, energy: \u001b[1;36m-7550.2925\u001b[0m, logprob: \u001b[1;36m-7550.2925\u001b[0m, logdet: \u001b[1;36m0.0000\u001b[0m, acc: \u001b[1;36m0.9990\u001b[0m, \n",
       "\u001b[2;36m           \u001b[0msumlogdet: \u001b[1;36m0.0000\u001b[0m, acc_mask: \u001b[1;36m1.0000\u001b[0m, sinQ: \u001b[1;36m-0.0223\u001b[0m, intQ: \u001b[1;36m-0.3255\u001b[0m, plaqs: \u001b[1;36m4.9748\u001b[0m  \n"
      ]
     },
     "metadata": {},
     "output_type": "display_data"
    },
    {
     "data": {
      "text/html": [
       "<pre style=\"white-space:pre;overflow-x:auto;line-height:normal;font-family:Menlo,'DejaVu Sans Mono',consolas,'Courier New',monospace\"><span style=\"color: #7fbfbf; text-decoration-color: #7fbfbf\">[21:02:01] </span><span style=\"color: #008080; text-decoration-color: #008080; font-weight: bold\">520</span> <span style=\"color: #800080; text-decoration-color: #800080\">/</span> <span style=\"color: #008080; text-decoration-color: #008080; font-weight: bold\">1000</span>, energy: <span style=\"color: #008080; text-decoration-color: #008080; font-weight: bold\">-9777.1211</span>, logprob: <span style=\"color: #008080; text-decoration-color: #008080; font-weight: bold\">-9777.1211</span>, logdet: <span style=\"color: #008080; text-decoration-color: #008080; font-weight: bold\">0.0000</span>, acc: <span style=\"color: #008080; text-decoration-color: #008080; font-weight: bold\">0.9993</span>, \n",
       "<span style=\"color: #7fbfbf; text-decoration-color: #7fbfbf\">           </span>sumlogdet: <span style=\"color: #008080; text-decoration-color: #008080; font-weight: bold\">0.0000</span>, acc_mask: <span style=\"color: #008080; text-decoration-color: #008080; font-weight: bold\">1.0000</span>, sinQ: <span style=\"color: #008080; text-decoration-color: #008080; font-weight: bold\">-0.0300</span>, intQ: <span style=\"color: #008080; text-decoration-color: #008080; font-weight: bold\">-0.4374</span>, plaqs: <span style=\"color: #008080; text-decoration-color: #008080; font-weight: bold\">6.4038</span>  \n",
       "</pre>\n"
      ],
      "text/plain": [
       "\u001b[2;36m[21:02:01]\u001b[0m\u001b[2;36m \u001b[0m\u001b[1;36m520\u001b[0m \u001b[35m/\u001b[0m \u001b[1;36m1000\u001b[0m, energy: \u001b[1;36m-9777.1211\u001b[0m, logprob: \u001b[1;36m-9777.1211\u001b[0m, logdet: \u001b[1;36m0.0000\u001b[0m, acc: \u001b[1;36m0.9993\u001b[0m, \n",
       "\u001b[2;36m           \u001b[0msumlogdet: \u001b[1;36m0.0000\u001b[0m, acc_mask: \u001b[1;36m1.0000\u001b[0m, sinQ: \u001b[1;36m-0.0300\u001b[0m, intQ: \u001b[1;36m-0.4374\u001b[0m, plaqs: \u001b[1;36m6.4038\u001b[0m  \n"
      ]
     },
     "metadata": {},
     "output_type": "display_data"
    },
    {
     "data": {
      "text/html": [
       "<pre style=\"white-space:pre;overflow-x:auto;line-height:normal;font-family:Menlo,'DejaVu Sans Mono',consolas,'Courier New',monospace\"><span style=\"color: #7fbfbf; text-decoration-color: #7fbfbf\">[21:02:18] </span><span style=\"color: #008080; text-decoration-color: #008080; font-weight: bold\">540</span> <span style=\"color: #800080; text-decoration-color: #800080\">/</span> <span style=\"color: #008080; text-decoration-color: #008080; font-weight: bold\">1000</span>, energy: <span style=\"color: #008080; text-decoration-color: #008080; font-weight: bold\">-12792.2275</span>, logprob: <span style=\"color: #008080; text-decoration-color: #008080; font-weight: bold\">-12792.2275</span>, logdet: <span style=\"color: #008080; text-decoration-color: #008080; font-weight: bold\">0.0000</span>, acc:       \n",
       "<span style=\"color: #7fbfbf; text-decoration-color: #7fbfbf\">           </span><span style=\"color: #008080; text-decoration-color: #008080; font-weight: bold\">0.9988</span>, sumlogdet: <span style=\"color: #008080; text-decoration-color: #008080; font-weight: bold\">0.0000</span>, acc_mask: <span style=\"color: #008080; text-decoration-color: #008080; font-weight: bold\">1.0000</span>, sinQ: <span style=\"color: #008080; text-decoration-color: #008080; font-weight: bold\">-0.0172</span>, intQ: <span style=\"color: #008080; text-decoration-color: #008080; font-weight: bold\">-0.2506</span>, plaqs: \n",
       "<span style=\"color: #7fbfbf; text-decoration-color: #7fbfbf\">           </span><span style=\"color: #008080; text-decoration-color: #008080; font-weight: bold\">8.4599</span>                                                                            \n",
       "</pre>\n"
      ],
      "text/plain": [
       "\u001b[2;36m[21:02:18]\u001b[0m\u001b[2;36m \u001b[0m\u001b[1;36m540\u001b[0m \u001b[35m/\u001b[0m \u001b[1;36m1000\u001b[0m, energy: \u001b[1;36m-12792.2275\u001b[0m, logprob: \u001b[1;36m-12792.2275\u001b[0m, logdet: \u001b[1;36m0.0000\u001b[0m, acc:       \n",
       "\u001b[2;36m           \u001b[0m\u001b[1;36m0.9988\u001b[0m, sumlogdet: \u001b[1;36m0.0000\u001b[0m, acc_mask: \u001b[1;36m1.0000\u001b[0m, sinQ: \u001b[1;36m-0.0172\u001b[0m, intQ: \u001b[1;36m-0.2506\u001b[0m, plaqs: \n",
       "\u001b[2;36m           \u001b[0m\u001b[1;36m8.4599\u001b[0m                                                                            \n"
      ]
     },
     "metadata": {},
     "output_type": "display_data"
    },
    {
     "data": {
      "text/html": [
       "<pre style=\"white-space:pre;overflow-x:auto;line-height:normal;font-family:Menlo,'DejaVu Sans Mono',consolas,'Courier New',monospace\"><span style=\"color: #7fbfbf; text-decoration-color: #7fbfbf\">[21:02:35] </span><span style=\"color: #008080; text-decoration-color: #008080; font-weight: bold\">560</span> <span style=\"color: #800080; text-decoration-color: #800080\">/</span> <span style=\"color: #008080; text-decoration-color: #008080; font-weight: bold\">1000</span>, energy: <span style=\"color: #008080; text-decoration-color: #008080; font-weight: bold\">-17730.8848</span>, logprob: <span style=\"color: #008080; text-decoration-color: #008080; font-weight: bold\">-17730.8848</span>, logdet: <span style=\"color: #008080; text-decoration-color: #008080; font-weight: bold\">0.0000</span>, acc:       \n",
       "<span style=\"color: #7fbfbf; text-decoration-color: #7fbfbf\">           </span><span style=\"color: #008080; text-decoration-color: #008080; font-weight: bold\">0.9967</span>, sumlogdet: <span style=\"color: #008080; text-decoration-color: #008080; font-weight: bold\">0.0000</span>, acc_mask: <span style=\"color: #008080; text-decoration-color: #008080; font-weight: bold\">1.0000</span>, sinQ: <span style=\"color: #008080; text-decoration-color: #008080; font-weight: bold\">0.0073</span>, intQ: <span style=\"color: #008080; text-decoration-color: #008080; font-weight: bold\">0.1060</span>, plaqs:   \n",
       "<span style=\"color: #7fbfbf; text-decoration-color: #7fbfbf\">           </span><span style=\"color: #008080; text-decoration-color: #008080; font-weight: bold\">11.7456</span>                                                                           \n",
       "</pre>\n"
      ],
      "text/plain": [
       "\u001b[2;36m[21:02:35]\u001b[0m\u001b[2;36m \u001b[0m\u001b[1;36m560\u001b[0m \u001b[35m/\u001b[0m \u001b[1;36m1000\u001b[0m, energy: \u001b[1;36m-17730.8848\u001b[0m, logprob: \u001b[1;36m-17730.8848\u001b[0m, logdet: \u001b[1;36m0.0000\u001b[0m, acc:       \n",
       "\u001b[2;36m           \u001b[0m\u001b[1;36m0.9967\u001b[0m, sumlogdet: \u001b[1;36m0.0000\u001b[0m, acc_mask: \u001b[1;36m1.0000\u001b[0m, sinQ: \u001b[1;36m0.0073\u001b[0m, intQ: \u001b[1;36m0.1060\u001b[0m, plaqs:   \n",
       "\u001b[2;36m           \u001b[0m\u001b[1;36m11.7456\u001b[0m                                                                           \n"
      ]
     },
     "metadata": {},
     "output_type": "display_data"
    },
    {
     "data": {
      "text/html": [
       "<pre style=\"white-space:pre;overflow-x:auto;line-height:normal;font-family:Menlo,'DejaVu Sans Mono',consolas,'Courier New',monospace\"><span style=\"color: #7fbfbf; text-decoration-color: #7fbfbf\">[21:02:52] </span><span style=\"color: #008080; text-decoration-color: #008080; font-weight: bold\">580</span> <span style=\"color: #800080; text-decoration-color: #800080\">/</span> <span style=\"color: #008080; text-decoration-color: #008080; font-weight: bold\">1000</span>, energy: <span style=\"color: #008080; text-decoration-color: #008080; font-weight: bold\">-26711.2188</span>, logprob: <span style=\"color: #008080; text-decoration-color: #008080; font-weight: bold\">-26711.2188</span>, logdet: <span style=\"color: #008080; text-decoration-color: #008080; font-weight: bold\">0.0000</span>, acc:       \n",
       "<span style=\"color: #7fbfbf; text-decoration-color: #7fbfbf\">           </span><span style=\"color: #008080; text-decoration-color: #008080; font-weight: bold\">0.9949</span>, sumlogdet: <span style=\"color: #008080; text-decoration-color: #008080; font-weight: bold\">0.0000</span>, acc_mask: <span style=\"color: #008080; text-decoration-color: #008080; font-weight: bold\">1.0000</span>, sinQ: <span style=\"color: #008080; text-decoration-color: #008080; font-weight: bold\">0.0428</span>, intQ: <span style=\"color: #008080; text-decoration-color: #008080; font-weight: bold\">0.6246</span>, plaqs:   \n",
       "<span style=\"color: #7fbfbf; text-decoration-color: #7fbfbf\">           </span><span style=\"color: #008080; text-decoration-color: #008080; font-weight: bold\">17.8252</span>                                                                           \n",
       "</pre>\n"
      ],
      "text/plain": [
       "\u001b[2;36m[21:02:52]\u001b[0m\u001b[2;36m \u001b[0m\u001b[1;36m580\u001b[0m \u001b[35m/\u001b[0m \u001b[1;36m1000\u001b[0m, energy: \u001b[1;36m-26711.2188\u001b[0m, logprob: \u001b[1;36m-26711.2188\u001b[0m, logdet: \u001b[1;36m0.0000\u001b[0m, acc:       \n",
       "\u001b[2;36m           \u001b[0m\u001b[1;36m0.9949\u001b[0m, sumlogdet: \u001b[1;36m0.0000\u001b[0m, acc_mask: \u001b[1;36m1.0000\u001b[0m, sinQ: \u001b[1;36m0.0428\u001b[0m, intQ: \u001b[1;36m0.6246\u001b[0m, plaqs:   \n",
       "\u001b[2;36m           \u001b[0m\u001b[1;36m17.8252\u001b[0m                                                                           \n"
      ]
     },
     "metadata": {},
     "output_type": "display_data"
    },
    {
     "data": {
      "text/html": [
       "<pre style=\"white-space:pre;overflow-x:auto;line-height:normal;font-family:Menlo,'DejaVu Sans Mono',consolas,'Courier New',monospace\"><span style=\"color: #7fbfbf; text-decoration-color: #7fbfbf\">[21:03:08] </span><span style=\"color: #008080; text-decoration-color: #008080; font-weight: bold\">600</span> <span style=\"color: #800080; text-decoration-color: #800080\">/</span> <span style=\"color: #008080; text-decoration-color: #008080; font-weight: bold\">1000</span>, energy: <span style=\"color: #008080; text-decoration-color: #008080; font-weight: bold\">-47946.1133</span>, logprob: <span style=\"color: #008080; text-decoration-color: #008080; font-weight: bold\">-47946.1133</span>, logdet: <span style=\"color: #008080; text-decoration-color: #008080; font-weight: bold\">0.0000</span>, acc:       \n",
       "<span style=\"color: #7fbfbf; text-decoration-color: #7fbfbf\">           </span><span style=\"color: #008080; text-decoration-color: #008080; font-weight: bold\">0.9642</span>, sumlogdet: <span style=\"color: #008080; text-decoration-color: #008080; font-weight: bold\">0.0000</span>, acc_mask: <span style=\"color: #008080; text-decoration-color: #008080; font-weight: bold\">1.0000</span>, sinQ: <span style=\"color: #008080; text-decoration-color: #008080; font-weight: bold\">0.2451</span>, intQ: <span style=\"color: #008080; text-decoration-color: #008080; font-weight: bold\">3.5767</span>, plaqs:   \n",
       "<span style=\"color: #7fbfbf; text-decoration-color: #7fbfbf\">           </span><span style=\"color: #008080; text-decoration-color: #008080; font-weight: bold\">32.4868</span>                                                                           \n",
       "</pre>\n"
      ],
      "text/plain": [
       "\u001b[2;36m[21:03:08]\u001b[0m\u001b[2;36m \u001b[0m\u001b[1;36m600\u001b[0m \u001b[35m/\u001b[0m \u001b[1;36m1000\u001b[0m, energy: \u001b[1;36m-47946.1133\u001b[0m, logprob: \u001b[1;36m-47946.1133\u001b[0m, logdet: \u001b[1;36m0.0000\u001b[0m, acc:       \n",
       "\u001b[2;36m           \u001b[0m\u001b[1;36m0.9642\u001b[0m, sumlogdet: \u001b[1;36m0.0000\u001b[0m, acc_mask: \u001b[1;36m1.0000\u001b[0m, sinQ: \u001b[1;36m0.2451\u001b[0m, intQ: \u001b[1;36m3.5767\u001b[0m, plaqs:   \n",
       "\u001b[2;36m           \u001b[0m\u001b[1;36m32.4868\u001b[0m                                                                           \n"
      ]
     },
     "metadata": {},
     "output_type": "display_data"
    },
    {
     "data": {
      "text/html": [
       "<pre style=\"white-space:pre;overflow-x:auto;line-height:normal;font-family:Menlo,'DejaVu Sans Mono',consolas,'Courier New',monospace\"><span style=\"color: #7fbfbf; text-decoration-color: #7fbfbf\">[21:03:26] </span><span style=\"color: #008080; text-decoration-color: #008080; font-weight: bold\">620</span> <span style=\"color: #800080; text-decoration-color: #800080\">/</span> <span style=\"color: #008080; text-decoration-color: #008080; font-weight: bold\">1000</span>, energy: <span style=\"color: #008080; text-decoration-color: #008080; font-weight: bold\">-112646.3516</span>, logprob: <span style=\"color: #008080; text-decoration-color: #008080; font-weight: bold\">-112646.3516</span>, logdet: <span style=\"color: #008080; text-decoration-color: #008080; font-weight: bold\">0.0000</span>, acc:     \n",
       "<span style=\"color: #7fbfbf; text-decoration-color: #7fbfbf\">           </span><span style=\"color: #008080; text-decoration-color: #008080; font-weight: bold\">0.5804</span>, sumlogdet: <span style=\"color: #008080; text-decoration-color: #008080; font-weight: bold\">0.0000</span>, acc_mask: <span style=\"color: #008080; text-decoration-color: #008080; font-weight: bold\">0.6000</span>, sinQ: <span style=\"color: #008080; text-decoration-color: #008080; font-weight: bold\">1.0351</span>, intQ: <span style=\"color: #008080; text-decoration-color: #008080; font-weight: bold\">15.1027</span>, plaqs:  \n",
       "<span style=\"color: #7fbfbf; text-decoration-color: #7fbfbf\">           </span><span style=\"color: #008080; text-decoration-color: #008080; font-weight: bold\">75.8598</span>                                                                           \n",
       "</pre>\n"
      ],
      "text/plain": [
       "\u001b[2;36m[21:03:26]\u001b[0m\u001b[2;36m \u001b[0m\u001b[1;36m620\u001b[0m \u001b[35m/\u001b[0m \u001b[1;36m1000\u001b[0m, energy: \u001b[1;36m-112646.3516\u001b[0m, logprob: \u001b[1;36m-112646.3516\u001b[0m, logdet: \u001b[1;36m0.0000\u001b[0m, acc:     \n",
       "\u001b[2;36m           \u001b[0m\u001b[1;36m0.5804\u001b[0m, sumlogdet: \u001b[1;36m0.0000\u001b[0m, acc_mask: \u001b[1;36m0.6000\u001b[0m, sinQ: \u001b[1;36m1.0351\u001b[0m, intQ: \u001b[1;36m15.1027\u001b[0m, plaqs:  \n",
       "\u001b[2;36m           \u001b[0m\u001b[1;36m75.8598\u001b[0m                                                                           \n"
      ]
     },
     "metadata": {},
     "output_type": "display_data"
    },
    {
     "data": {
      "text/html": [
       "<pre style=\"white-space:pre;overflow-x:auto;line-height:normal;font-family:Menlo,'DejaVu Sans Mono',consolas,'Courier New',monospace\"><span style=\"color: #7fbfbf; text-decoration-color: #7fbfbf\">[21:03:44] </span><span style=\"color: #008080; text-decoration-color: #008080; font-weight: bold\">640</span> <span style=\"color: #800080; text-decoration-color: #800080\">/</span> <span style=\"color: #008080; text-decoration-color: #008080; font-weight: bold\">1000</span>, energy: <span style=\"color: #008080; text-decoration-color: #008080; font-weight: bold\">-186145.5938</span>, logprob: <span style=\"color: #008080; text-decoration-color: #008080; font-weight: bold\">-186145.5938</span>, logdet: <span style=\"color: #008080; text-decoration-color: #008080; font-weight: bold\">0.0000</span>, acc:     \n",
       "<span style=\"color: #7fbfbf; text-decoration-color: #7fbfbf\">           </span><span style=\"color: #008080; text-decoration-color: #008080; font-weight: bold\">0.1525</span>, sumlogdet: <span style=\"color: #008080; text-decoration-color: #008080; font-weight: bold\">0.0000</span>, acc_mask: <span style=\"color: #008080; text-decoration-color: #008080; font-weight: bold\">0.2000</span>, sinQ: <span style=\"color: #008080; text-decoration-color: #008080; font-weight: bold\">1.7027</span>, intQ: <span style=\"color: #008080; text-decoration-color: #008080; font-weight: bold\">24.8429</span>, plaqs:  \n",
       "<span style=\"color: #7fbfbf; text-decoration-color: #7fbfbf\">           </span><span style=\"color: #008080; text-decoration-color: #008080; font-weight: bold\">122.9065</span>                                                                          \n",
       "</pre>\n"
      ],
      "text/plain": [
       "\u001b[2;36m[21:03:44]\u001b[0m\u001b[2;36m \u001b[0m\u001b[1;36m640\u001b[0m \u001b[35m/\u001b[0m \u001b[1;36m1000\u001b[0m, energy: \u001b[1;36m-186145.5938\u001b[0m, logprob: \u001b[1;36m-186145.5938\u001b[0m, logdet: \u001b[1;36m0.0000\u001b[0m, acc:     \n",
       "\u001b[2;36m           \u001b[0m\u001b[1;36m0.1525\u001b[0m, sumlogdet: \u001b[1;36m0.0000\u001b[0m, acc_mask: \u001b[1;36m0.2000\u001b[0m, sinQ: \u001b[1;36m1.7027\u001b[0m, intQ: \u001b[1;36m24.8429\u001b[0m, plaqs:  \n",
       "\u001b[2;36m           \u001b[0m\u001b[1;36m122.9065\u001b[0m                                                                          \n"
      ]
     },
     "metadata": {},
     "output_type": "display_data"
    },
    {
     "data": {
      "text/html": [
       "<pre style=\"white-space:pre;overflow-x:auto;line-height:normal;font-family:Menlo,'DejaVu Sans Mono',consolas,'Courier New',monospace\"><span style=\"color: #7fbfbf; text-decoration-color: #7fbfbf\">[21:04:00] </span><span style=\"color: #008080; text-decoration-color: #008080; font-weight: bold\">660</span> <span style=\"color: #800080; text-decoration-color: #800080\">/</span> <span style=\"color: #008080; text-decoration-color: #008080; font-weight: bold\">1000</span>, energy: <span style=\"color: #008080; text-decoration-color: #008080; font-weight: bold\">-221067.2500</span>, logprob: <span style=\"color: #008080; text-decoration-color: #008080; font-weight: bold\">-221067.2500</span>, logdet: <span style=\"color: #008080; text-decoration-color: #008080; font-weight: bold\">0.0000</span>, acc:     \n",
       "<span style=\"color: #7fbfbf; text-decoration-color: #7fbfbf\">           </span><span style=\"color: #008080; text-decoration-color: #008080; font-weight: bold\">0.0226</span>, sumlogdet: <span style=\"color: #008080; text-decoration-color: #008080; font-weight: bold\">0.0000</span>, acc_mask: <span style=\"color: #008080; text-decoration-color: #008080; font-weight: bold\">0.0000</span>, sinQ: <span style=\"color: #008080; text-decoration-color: #008080; font-weight: bold\">1.9415</span>, intQ: <span style=\"color: #008080; text-decoration-color: #008080; font-weight: bold\">28.3269</span>, plaqs:  \n",
       "<span style=\"color: #7fbfbf; text-decoration-color: #7fbfbf\">           </span><span style=\"color: #008080; text-decoration-color: #008080; font-weight: bold\">143.9217</span>                                                                          \n",
       "</pre>\n"
      ],
      "text/plain": [
       "\u001b[2;36m[21:04:00]\u001b[0m\u001b[2;36m \u001b[0m\u001b[1;36m660\u001b[0m \u001b[35m/\u001b[0m \u001b[1;36m1000\u001b[0m, energy: \u001b[1;36m-221067.2500\u001b[0m, logprob: \u001b[1;36m-221067.2500\u001b[0m, logdet: \u001b[1;36m0.0000\u001b[0m, acc:     \n",
       "\u001b[2;36m           \u001b[0m\u001b[1;36m0.0226\u001b[0m, sumlogdet: \u001b[1;36m0.0000\u001b[0m, acc_mask: \u001b[1;36m0.0000\u001b[0m, sinQ: \u001b[1;36m1.9415\u001b[0m, intQ: \u001b[1;36m28.3269\u001b[0m, plaqs:  \n",
       "\u001b[2;36m           \u001b[0m\u001b[1;36m143.9217\u001b[0m                                                                          \n"
      ]
     },
     "metadata": {},
     "output_type": "display_data"
    },
    {
     "data": {
      "text/html": [
       "<pre style=\"white-space:pre;overflow-x:auto;line-height:normal;font-family:Menlo,'DejaVu Sans Mono',consolas,'Courier New',monospace\"><span style=\"color: #7fbfbf; text-decoration-color: #7fbfbf\">[21:04:15] </span><span style=\"color: #008080; text-decoration-color: #008080; font-weight: bold\">680</span> <span style=\"color: #800080; text-decoration-color: #800080\">/</span> <span style=\"color: #008080; text-decoration-color: #008080; font-weight: bold\">1000</span>, energy: <span style=\"color: #008080; text-decoration-color: #008080; font-weight: bold\">-243317.6719</span>, logprob: <span style=\"color: #008080; text-decoration-color: #008080; font-weight: bold\">-243317.6719</span>, logdet: <span style=\"color: #008080; text-decoration-color: #008080; font-weight: bold\">0.0000</span>, acc:     \n",
       "<span style=\"color: #7fbfbf; text-decoration-color: #7fbfbf\">           </span><span style=\"color: #008080; text-decoration-color: #008080; font-weight: bold\">0.0047</span>, sumlogdet: <span style=\"color: #008080; text-decoration-color: #008080; font-weight: bold\">0.0000</span>, acc_mask: <span style=\"color: #008080; text-decoration-color: #008080; font-weight: bold\">0.0000</span>, sinQ: <span style=\"color: #008080; text-decoration-color: #008080; font-weight: bold\">2.2523</span>, intQ: <span style=\"color: #008080; text-decoration-color: #008080; font-weight: bold\">32.8613</span>, plaqs:  \n",
       "<span style=\"color: #7fbfbf; text-decoration-color: #7fbfbf\">           </span><span style=\"color: #008080; text-decoration-color: #008080; font-weight: bold\">158.4177</span>                                                                          \n",
       "</pre>\n"
      ],
      "text/plain": [
       "\u001b[2;36m[21:04:15]\u001b[0m\u001b[2;36m \u001b[0m\u001b[1;36m680\u001b[0m \u001b[35m/\u001b[0m \u001b[1;36m1000\u001b[0m, energy: \u001b[1;36m-243317.6719\u001b[0m, logprob: \u001b[1;36m-243317.6719\u001b[0m, logdet: \u001b[1;36m0.0000\u001b[0m, acc:     \n",
       "\u001b[2;36m           \u001b[0m\u001b[1;36m0.0047\u001b[0m, sumlogdet: \u001b[1;36m0.0000\u001b[0m, acc_mask: \u001b[1;36m0.0000\u001b[0m, sinQ: \u001b[1;36m2.2523\u001b[0m, intQ: \u001b[1;36m32.8613\u001b[0m, plaqs:  \n",
       "\u001b[2;36m           \u001b[0m\u001b[1;36m158.4177\u001b[0m                                                                          \n"
      ]
     },
     "metadata": {},
     "output_type": "display_data"
    },
    {
     "data": {
      "text/html": [
       "<pre style=\"white-space:pre;overflow-x:auto;line-height:normal;font-family:Menlo,'DejaVu Sans Mono',consolas,'Courier New',monospace\"><span style=\"color: #7fbfbf; text-decoration-color: #7fbfbf\">[21:04:30] </span><span style=\"color: #008080; text-decoration-color: #008080; font-weight: bold\">700</span> <span style=\"color: #800080; text-decoration-color: #800080\">/</span> <span style=\"color: #008080; text-decoration-color: #008080; font-weight: bold\">1000</span>, energy: <span style=\"color: #008080; text-decoration-color: #008080; font-weight: bold\">-243351.1250</span>, logprob: <span style=\"color: #008080; text-decoration-color: #008080; font-weight: bold\">-243351.1250</span>, logdet: <span style=\"color: #008080; text-decoration-color: #008080; font-weight: bold\">0.0000</span>, acc:     \n",
       "<span style=\"color: #7fbfbf; text-decoration-color: #7fbfbf\">           </span><span style=\"color: #008080; text-decoration-color: #008080; font-weight: bold\">0.0047</span>, sumlogdet: <span style=\"color: #008080; text-decoration-color: #008080; font-weight: bold\">0.0000</span>, acc_mask: <span style=\"color: #008080; text-decoration-color: #008080; font-weight: bold\">0.0000</span>, sinQ: <span style=\"color: #008080; text-decoration-color: #008080; font-weight: bold\">2.2523</span>, intQ: <span style=\"color: #008080; text-decoration-color: #008080; font-weight: bold\">32.8613</span>, plaqs:  \n",
       "<span style=\"color: #7fbfbf; text-decoration-color: #7fbfbf\">           </span><span style=\"color: #008080; text-decoration-color: #008080; font-weight: bold\">158.4177</span>                                                                          \n",
       "</pre>\n"
      ],
      "text/plain": [
       "\u001b[2;36m[21:04:30]\u001b[0m\u001b[2;36m \u001b[0m\u001b[1;36m700\u001b[0m \u001b[35m/\u001b[0m \u001b[1;36m1000\u001b[0m, energy: \u001b[1;36m-243351.1250\u001b[0m, logprob: \u001b[1;36m-243351.1250\u001b[0m, logdet: \u001b[1;36m0.0000\u001b[0m, acc:     \n",
       "\u001b[2;36m           \u001b[0m\u001b[1;36m0.0047\u001b[0m, sumlogdet: \u001b[1;36m0.0000\u001b[0m, acc_mask: \u001b[1;36m0.0000\u001b[0m, sinQ: \u001b[1;36m2.2523\u001b[0m, intQ: \u001b[1;36m32.8613\u001b[0m, plaqs:  \n",
       "\u001b[2;36m           \u001b[0m\u001b[1;36m158.4177\u001b[0m                                                                          \n"
      ]
     },
     "metadata": {},
     "output_type": "display_data"
    },
    {
     "data": {
      "text/html": [
       "<pre style=\"white-space:pre;overflow-x:auto;line-height:normal;font-family:Menlo,'DejaVu Sans Mono',consolas,'Courier New',monospace\"><span style=\"color: #7fbfbf; text-decoration-color: #7fbfbf\">[21:04:44] </span><span style=\"color: #008080; text-decoration-color: #008080; font-weight: bold\">720</span> <span style=\"color: #800080; text-decoration-color: #800080\">/</span> <span style=\"color: #008080; text-decoration-color: #008080; font-weight: bold\">1000</span>, energy: <span style=\"color: #008080; text-decoration-color: #008080; font-weight: bold\">-253135.4688</span>, logprob: <span style=\"color: #008080; text-decoration-color: #008080; font-weight: bold\">-253135.4688</span>, logdet: <span style=\"color: #008080; text-decoration-color: #008080; font-weight: bold\">0.0000</span>, acc:     \n",
       "<span style=\"color: #7fbfbf; text-decoration-color: #7fbfbf\">           </span><span style=\"color: #008080; text-decoration-color: #008080; font-weight: bold\">0.0027</span>, sumlogdet: <span style=\"color: #008080; text-decoration-color: #008080; font-weight: bold\">0.0000</span>, acc_mask: <span style=\"color: #008080; text-decoration-color: #008080; font-weight: bold\">0.0000</span>, sinQ: <span style=\"color: #008080; text-decoration-color: #008080; font-weight: bold\">2.3652</span>, intQ: <span style=\"color: #008080; text-decoration-color: #008080; font-weight: bold\">34.5085</span>, plaqs:  \n",
       "<span style=\"color: #7fbfbf; text-decoration-color: #7fbfbf\">           </span><span style=\"color: #008080; text-decoration-color: #008080; font-weight: bold\">164.7803</span>                                                                          \n",
       "</pre>\n"
      ],
      "text/plain": [
       "\u001b[2;36m[21:04:44]\u001b[0m\u001b[2;36m \u001b[0m\u001b[1;36m720\u001b[0m \u001b[35m/\u001b[0m \u001b[1;36m1000\u001b[0m, energy: \u001b[1;36m-253135.4688\u001b[0m, logprob: \u001b[1;36m-253135.4688\u001b[0m, logdet: \u001b[1;36m0.0000\u001b[0m, acc:     \n",
       "\u001b[2;36m           \u001b[0m\u001b[1;36m0.0027\u001b[0m, sumlogdet: \u001b[1;36m0.0000\u001b[0m, acc_mask: \u001b[1;36m0.0000\u001b[0m, sinQ: \u001b[1;36m2.3652\u001b[0m, intQ: \u001b[1;36m34.5085\u001b[0m, plaqs:  \n",
       "\u001b[2;36m           \u001b[0m\u001b[1;36m164.7803\u001b[0m                                                                          \n"
      ]
     },
     "metadata": {},
     "output_type": "display_data"
    },
    {
     "data": {
      "text/html": [
       "<pre style=\"white-space:pre;overflow-x:auto;line-height:normal;font-family:Menlo,'DejaVu Sans Mono',consolas,'Courier New',monospace\"><span style=\"color: #7fbfbf; text-decoration-color: #7fbfbf\">[21:04:57] </span><span style=\"color: #008080; text-decoration-color: #008080; font-weight: bold\">740</span> <span style=\"color: #800080; text-decoration-color: #800080\">/</span> <span style=\"color: #008080; text-decoration-color: #008080; font-weight: bold\">1000</span>, energy: <span style=\"color: #008080; text-decoration-color: #008080; font-weight: bold\">-253090.8438</span>, logprob: <span style=\"color: #008080; text-decoration-color: #008080; font-weight: bold\">-253090.8438</span>, logdet: <span style=\"color: #008080; text-decoration-color: #008080; font-weight: bold\">0.0000</span>, acc:     \n",
       "<span style=\"color: #7fbfbf; text-decoration-color: #7fbfbf\">           </span><span style=\"color: #008080; text-decoration-color: #008080; font-weight: bold\">0.0026</span>, sumlogdet: <span style=\"color: #008080; text-decoration-color: #008080; font-weight: bold\">0.0000</span>, acc_mask: <span style=\"color: #008080; text-decoration-color: #008080; font-weight: bold\">0.0000</span>, sinQ: <span style=\"color: #008080; text-decoration-color: #008080; font-weight: bold\">2.3652</span>, intQ: <span style=\"color: #008080; text-decoration-color: #008080; font-weight: bold\">34.5085</span>, plaqs:  \n",
       "<span style=\"color: #7fbfbf; text-decoration-color: #7fbfbf\">           </span><span style=\"color: #008080; text-decoration-color: #008080; font-weight: bold\">164.7803</span>                                                                          \n",
       "</pre>\n"
      ],
      "text/plain": [
       "\u001b[2;36m[21:04:57]\u001b[0m\u001b[2;36m \u001b[0m\u001b[1;36m740\u001b[0m \u001b[35m/\u001b[0m \u001b[1;36m1000\u001b[0m, energy: \u001b[1;36m-253090.8438\u001b[0m, logprob: \u001b[1;36m-253090.8438\u001b[0m, logdet: \u001b[1;36m0.0000\u001b[0m, acc:     \n",
       "\u001b[2;36m           \u001b[0m\u001b[1;36m0.0026\u001b[0m, sumlogdet: \u001b[1;36m0.0000\u001b[0m, acc_mask: \u001b[1;36m0.0000\u001b[0m, sinQ: \u001b[1;36m2.3652\u001b[0m, intQ: \u001b[1;36m34.5085\u001b[0m, plaqs:  \n",
       "\u001b[2;36m           \u001b[0m\u001b[1;36m164.7803\u001b[0m                                                                          \n"
      ]
     },
     "metadata": {},
     "output_type": "display_data"
    },
    {
     "data": {
      "text/html": [
       "<pre style=\"white-space:pre;overflow-x:auto;line-height:normal;font-family:Menlo,'DejaVu Sans Mono',consolas,'Courier New',monospace\"><span style=\"color: #7fbfbf; text-decoration-color: #7fbfbf\">[21:05:11] </span><span style=\"color: #008080; text-decoration-color: #008080; font-weight: bold\">760</span> <span style=\"color: #800080; text-decoration-color: #800080\">/</span> <span style=\"color: #008080; text-decoration-color: #008080; font-weight: bold\">1000</span>, energy: <span style=\"color: #008080; text-decoration-color: #008080; font-weight: bold\">-253099.2031</span>, logprob: <span style=\"color: #008080; text-decoration-color: #008080; font-weight: bold\">-253099.2031</span>, logdet: <span style=\"color: #008080; text-decoration-color: #008080; font-weight: bold\">0.0000</span>, acc:     \n",
       "<span style=\"color: #7fbfbf; text-decoration-color: #7fbfbf\">           </span><span style=\"color: #008080; text-decoration-color: #008080; font-weight: bold\">0.0026</span>, sumlogdet: <span style=\"color: #008080; text-decoration-color: #008080; font-weight: bold\">0.0000</span>, acc_mask: <span style=\"color: #008080; text-decoration-color: #008080; font-weight: bold\">0.2000</span>, sinQ: <span style=\"color: #008080; text-decoration-color: #008080; font-weight: bold\">2.4351</span>, intQ: <span style=\"color: #008080; text-decoration-color: #008080; font-weight: bold\">35.5288</span>, plaqs:  \n",
       "<span style=\"color: #7fbfbf; text-decoration-color: #7fbfbf\">           </span><span style=\"color: #008080; text-decoration-color: #008080; font-weight: bold\">171.9099</span>                                                                          \n",
       "</pre>\n"
      ],
      "text/plain": [
       "\u001b[2;36m[21:05:11]\u001b[0m\u001b[2;36m \u001b[0m\u001b[1;36m760\u001b[0m \u001b[35m/\u001b[0m \u001b[1;36m1000\u001b[0m, energy: \u001b[1;36m-253099.2031\u001b[0m, logprob: \u001b[1;36m-253099.2031\u001b[0m, logdet: \u001b[1;36m0.0000\u001b[0m, acc:     \n",
       "\u001b[2;36m           \u001b[0m\u001b[1;36m0.0026\u001b[0m, sumlogdet: \u001b[1;36m0.0000\u001b[0m, acc_mask: \u001b[1;36m0.2000\u001b[0m, sinQ: \u001b[1;36m2.4351\u001b[0m, intQ: \u001b[1;36m35.5288\u001b[0m, plaqs:  \n",
       "\u001b[2;36m           \u001b[0m\u001b[1;36m171.9099\u001b[0m                                                                          \n"
      ]
     },
     "metadata": {},
     "output_type": "display_data"
    },
    {
     "data": {
      "text/html": [
       "<pre style=\"white-space:pre;overflow-x:auto;line-height:normal;font-family:Menlo,'DejaVu Sans Mono',consolas,'Courier New',monospace\"><span style=\"color: #7fbfbf; text-decoration-color: #7fbfbf\">[21:05:25] </span><span style=\"color: #008080; text-decoration-color: #008080; font-weight: bold\">780</span> <span style=\"color: #800080; text-decoration-color: #800080\">/</span> <span style=\"color: #008080; text-decoration-color: #008080; font-weight: bold\">1000</span>, energy: <span style=\"color: #008080; text-decoration-color: #008080; font-weight: bold\">-272677.9688</span>, logprob: <span style=\"color: #008080; text-decoration-color: #008080; font-weight: bold\">-272677.9688</span>, logdet: <span style=\"color: #008080; text-decoration-color: #008080; font-weight: bold\">0.0000</span>, acc:     \n",
       "<span style=\"color: #7fbfbf; text-decoration-color: #7fbfbf\">           </span><span style=\"color: #008080; text-decoration-color: #008080; font-weight: bold\">0.0006</span>, sumlogdet: <span style=\"color: #008080; text-decoration-color: #008080; font-weight: bold\">0.0000</span>, acc_mask: <span style=\"color: #008080; text-decoration-color: #008080; font-weight: bold\">0.0000</span>, sinQ: <span style=\"color: #008080; text-decoration-color: #008080; font-weight: bold\">2.5535</span>, intQ: <span style=\"color: #008080; text-decoration-color: #008080; font-weight: bold\">37.2558</span>, plaqs:  \n",
       "<span style=\"color: #7fbfbf; text-decoration-color: #7fbfbf\">           </span><span style=\"color: #008080; text-decoration-color: #008080; font-weight: bold\">177.5215</span>                                                                          \n",
       "</pre>\n"
      ],
      "text/plain": [
       "\u001b[2;36m[21:05:25]\u001b[0m\u001b[2;36m \u001b[0m\u001b[1;36m780\u001b[0m \u001b[35m/\u001b[0m \u001b[1;36m1000\u001b[0m, energy: \u001b[1;36m-272677.9688\u001b[0m, logprob: \u001b[1;36m-272677.9688\u001b[0m, logdet: \u001b[1;36m0.0000\u001b[0m, acc:     \n",
       "\u001b[2;36m           \u001b[0m\u001b[1;36m0.0006\u001b[0m, sumlogdet: \u001b[1;36m0.0000\u001b[0m, acc_mask: \u001b[1;36m0.0000\u001b[0m, sinQ: \u001b[1;36m2.5535\u001b[0m, intQ: \u001b[1;36m37.2558\u001b[0m, plaqs:  \n",
       "\u001b[2;36m           \u001b[0m\u001b[1;36m177.5215\u001b[0m                                                                          \n"
      ]
     },
     "metadata": {},
     "output_type": "display_data"
    },
    {
     "data": {
      "text/html": [
       "<pre style=\"white-space:pre;overflow-x:auto;line-height:normal;font-family:Menlo,'DejaVu Sans Mono',consolas,'Courier New',monospace\"><span style=\"color: #7fbfbf; text-decoration-color: #7fbfbf\">[21:05:40] </span><span style=\"color: #008080; text-decoration-color: #008080; font-weight: bold\">800</span> <span style=\"color: #800080; text-decoration-color: #800080\">/</span> <span style=\"color: #008080; text-decoration-color: #008080; font-weight: bold\">1000</span>, energy: <span style=\"color: #008080; text-decoration-color: #008080; font-weight: bold\">-272669.3438</span>, logprob: <span style=\"color: #008080; text-decoration-color: #008080; font-weight: bold\">-272669.3438</span>, logdet: <span style=\"color: #008080; text-decoration-color: #008080; font-weight: bold\">0.0000</span>, acc:     \n",
       "<span style=\"color: #7fbfbf; text-decoration-color: #7fbfbf\">           </span><span style=\"color: #008080; text-decoration-color: #008080; font-weight: bold\">0.0006</span>, sumlogdet: <span style=\"color: #008080; text-decoration-color: #008080; font-weight: bold\">0.0000</span>, acc_mask: <span style=\"color: #008080; text-decoration-color: #008080; font-weight: bold\">0.0000</span>, sinQ: <span style=\"color: #008080; text-decoration-color: #008080; font-weight: bold\">2.5535</span>, intQ: <span style=\"color: #008080; text-decoration-color: #008080; font-weight: bold\">37.2558</span>, plaqs:  \n",
       "<span style=\"color: #7fbfbf; text-decoration-color: #7fbfbf\">           </span><span style=\"color: #008080; text-decoration-color: #008080; font-weight: bold\">177.5215</span>                                                                          \n",
       "</pre>\n"
      ],
      "text/plain": [
       "\u001b[2;36m[21:05:40]\u001b[0m\u001b[2;36m \u001b[0m\u001b[1;36m800\u001b[0m \u001b[35m/\u001b[0m \u001b[1;36m1000\u001b[0m, energy: \u001b[1;36m-272669.3438\u001b[0m, logprob: \u001b[1;36m-272669.3438\u001b[0m, logdet: \u001b[1;36m0.0000\u001b[0m, acc:     \n",
       "\u001b[2;36m           \u001b[0m\u001b[1;36m0.0006\u001b[0m, sumlogdet: \u001b[1;36m0.0000\u001b[0m, acc_mask: \u001b[1;36m0.0000\u001b[0m, sinQ: \u001b[1;36m2.5535\u001b[0m, intQ: \u001b[1;36m37.2558\u001b[0m, plaqs:  \n",
       "\u001b[2;36m           \u001b[0m\u001b[1;36m177.5215\u001b[0m                                                                          \n"
      ]
     },
     "metadata": {},
     "output_type": "display_data"
    },
    {
     "data": {
      "text/html": [
       "<pre style=\"white-space:pre;overflow-x:auto;line-height:normal;font-family:Menlo,'DejaVu Sans Mono',consolas,'Courier New',monospace\"><span style=\"color: #7fbfbf; text-decoration-color: #7fbfbf\">[21:05:56] </span><span style=\"color: #008080; text-decoration-color: #008080; font-weight: bold\">820</span> <span style=\"color: #800080; text-decoration-color: #800080\">/</span> <span style=\"color: #008080; text-decoration-color: #008080; font-weight: bold\">1000</span>, energy: <span style=\"color: #008080; text-decoration-color: #008080; font-weight: bold\">-272635.0938</span>, logprob: <span style=\"color: #008080; text-decoration-color: #008080; font-weight: bold\">-272635.0938</span>, logdet: <span style=\"color: #008080; text-decoration-color: #008080; font-weight: bold\">0.0000</span>, acc:     \n",
       "<span style=\"color: #7fbfbf; text-decoration-color: #7fbfbf\">           </span><span style=\"color: #008080; text-decoration-color: #008080; font-weight: bold\">0.0006</span>, sumlogdet: <span style=\"color: #008080; text-decoration-color: #008080; font-weight: bold\">0.0000</span>, acc_mask: <span style=\"color: #008080; text-decoration-color: #008080; font-weight: bold\">0.0000</span>, sinQ: <span style=\"color: #008080; text-decoration-color: #008080; font-weight: bold\">2.5535</span>, intQ: <span style=\"color: #008080; text-decoration-color: #008080; font-weight: bold\">37.2558</span>, plaqs:  \n",
       "<span style=\"color: #7fbfbf; text-decoration-color: #7fbfbf\">           </span><span style=\"color: #008080; text-decoration-color: #008080; font-weight: bold\">177.5215</span>                                                                          \n",
       "</pre>\n"
      ],
      "text/plain": [
       "\u001b[2;36m[21:05:56]\u001b[0m\u001b[2;36m \u001b[0m\u001b[1;36m820\u001b[0m \u001b[35m/\u001b[0m \u001b[1;36m1000\u001b[0m, energy: \u001b[1;36m-272635.0938\u001b[0m, logprob: \u001b[1;36m-272635.0938\u001b[0m, logdet: \u001b[1;36m0.0000\u001b[0m, acc:     \n",
       "\u001b[2;36m           \u001b[0m\u001b[1;36m0.0006\u001b[0m, sumlogdet: \u001b[1;36m0.0000\u001b[0m, acc_mask: \u001b[1;36m0.0000\u001b[0m, sinQ: \u001b[1;36m2.5535\u001b[0m, intQ: \u001b[1;36m37.2558\u001b[0m, plaqs:  \n",
       "\u001b[2;36m           \u001b[0m\u001b[1;36m177.5215\u001b[0m                                                                          \n"
      ]
     },
     "metadata": {},
     "output_type": "display_data"
    },
    {
     "data": {
      "text/html": [
       "<pre style=\"white-space:pre;overflow-x:auto;line-height:normal;font-family:Menlo,'DejaVu Sans Mono',consolas,'Courier New',monospace\"><span style=\"color: #7fbfbf; text-decoration-color: #7fbfbf\">[21:06:12] </span><span style=\"color: #008080; text-decoration-color: #008080; font-weight: bold\">840</span> <span style=\"color: #800080; text-decoration-color: #800080\">/</span> <span style=\"color: #008080; text-decoration-color: #008080; font-weight: bold\">1000</span>, energy: <span style=\"color: #008080; text-decoration-color: #008080; font-weight: bold\">-272664.0938</span>, logprob: <span style=\"color: #008080; text-decoration-color: #008080; font-weight: bold\">-272664.0938</span>, logdet: <span style=\"color: #008080; text-decoration-color: #008080; font-weight: bold\">0.0000</span>, acc:     \n",
       "<span style=\"color: #7fbfbf; text-decoration-color: #7fbfbf\">           </span><span style=\"color: #008080; text-decoration-color: #008080; font-weight: bold\">0.0006</span>, sumlogdet: <span style=\"color: #008080; text-decoration-color: #008080; font-weight: bold\">0.0000</span>, acc_mask: <span style=\"color: #008080; text-decoration-color: #008080; font-weight: bold\">0.0000</span>, sinQ: <span style=\"color: #008080; text-decoration-color: #008080; font-weight: bold\">2.5535</span>, intQ: <span style=\"color: #008080; text-decoration-color: #008080; font-weight: bold\">37.2558</span>, plaqs:  \n",
       "<span style=\"color: #7fbfbf; text-decoration-color: #7fbfbf\">           </span><span style=\"color: #008080; text-decoration-color: #008080; font-weight: bold\">177.5215</span>                                                                          \n",
       "</pre>\n"
      ],
      "text/plain": [
       "\u001b[2;36m[21:06:12]\u001b[0m\u001b[2;36m \u001b[0m\u001b[1;36m840\u001b[0m \u001b[35m/\u001b[0m \u001b[1;36m1000\u001b[0m, energy: \u001b[1;36m-272664.0938\u001b[0m, logprob: \u001b[1;36m-272664.0938\u001b[0m, logdet: \u001b[1;36m0.0000\u001b[0m, acc:     \n",
       "\u001b[2;36m           \u001b[0m\u001b[1;36m0.0006\u001b[0m, sumlogdet: \u001b[1;36m0.0000\u001b[0m, acc_mask: \u001b[1;36m0.0000\u001b[0m, sinQ: \u001b[1;36m2.5535\u001b[0m, intQ: \u001b[1;36m37.2558\u001b[0m, plaqs:  \n",
       "\u001b[2;36m           \u001b[0m\u001b[1;36m177.5215\u001b[0m                                                                          \n"
      ]
     },
     "metadata": {},
     "output_type": "display_data"
    },
    {
     "data": {
      "text/html": [
       "<pre style=\"white-space:pre;overflow-x:auto;line-height:normal;font-family:Menlo,'DejaVu Sans Mono',consolas,'Courier New',monospace\"><span style=\"color: #7fbfbf; text-decoration-color: #7fbfbf\">[21:06:29] </span><span style=\"color: #008080; text-decoration-color: #008080; font-weight: bold\">860</span> <span style=\"color: #800080; text-decoration-color: #800080\">/</span> <span style=\"color: #008080; text-decoration-color: #008080; font-weight: bold\">1000</span>, energy: <span style=\"color: #008080; text-decoration-color: #008080; font-weight: bold\">-272690.6562</span>, logprob: <span style=\"color: #008080; text-decoration-color: #008080; font-weight: bold\">-272690.6562</span>, logdet: <span style=\"color: #008080; text-decoration-color: #008080; font-weight: bold\">0.0000</span>, acc:     \n",
       "<span style=\"color: #7fbfbf; text-decoration-color: #7fbfbf\">           </span><span style=\"color: #008080; text-decoration-color: #008080; font-weight: bold\">0.0006</span>, sumlogdet: <span style=\"color: #008080; text-decoration-color: #008080; font-weight: bold\">0.0000</span>, acc_mask: <span style=\"color: #008080; text-decoration-color: #008080; font-weight: bold\">0.0000</span>, sinQ: <span style=\"color: #008080; text-decoration-color: #008080; font-weight: bold\">2.5535</span>, intQ: <span style=\"color: #008080; text-decoration-color: #008080; font-weight: bold\">37.2558</span>, plaqs:  \n",
       "<span style=\"color: #7fbfbf; text-decoration-color: #7fbfbf\">           </span><span style=\"color: #008080; text-decoration-color: #008080; font-weight: bold\">177.5215</span>                                                                          \n",
       "</pre>\n"
      ],
      "text/plain": [
       "\u001b[2;36m[21:06:29]\u001b[0m\u001b[2;36m \u001b[0m\u001b[1;36m860\u001b[0m \u001b[35m/\u001b[0m \u001b[1;36m1000\u001b[0m, energy: \u001b[1;36m-272690.6562\u001b[0m, logprob: \u001b[1;36m-272690.6562\u001b[0m, logdet: \u001b[1;36m0.0000\u001b[0m, acc:     \n",
       "\u001b[2;36m           \u001b[0m\u001b[1;36m0.0006\u001b[0m, sumlogdet: \u001b[1;36m0.0000\u001b[0m, acc_mask: \u001b[1;36m0.0000\u001b[0m, sinQ: \u001b[1;36m2.5535\u001b[0m, intQ: \u001b[1;36m37.2558\u001b[0m, plaqs:  \n",
       "\u001b[2;36m           \u001b[0m\u001b[1;36m177.5215\u001b[0m                                                                          \n"
      ]
     },
     "metadata": {},
     "output_type": "display_data"
    },
    {
     "data": {
      "text/html": [
       "<pre style=\"white-space:pre;overflow-x:auto;line-height:normal;font-family:Menlo,'DejaVu Sans Mono',consolas,'Courier New',monospace\"><span style=\"color: #7fbfbf; text-decoration-color: #7fbfbf\">[21:06:46] </span><span style=\"color: #008080; text-decoration-color: #008080; font-weight: bold\">880</span> <span style=\"color: #800080; text-decoration-color: #800080\">/</span> <span style=\"color: #008080; text-decoration-color: #008080; font-weight: bold\">1000</span>, energy: <span style=\"color: #008080; text-decoration-color: #008080; font-weight: bold\">-272691.3438</span>, logprob: <span style=\"color: #008080; text-decoration-color: #008080; font-weight: bold\">-272691.3438</span>, logdet: <span style=\"color: #008080; text-decoration-color: #008080; font-weight: bold\">0.0000</span>, acc:     \n",
       "<span style=\"color: #7fbfbf; text-decoration-color: #7fbfbf\">           </span><span style=\"color: #008080; text-decoration-color: #008080; font-weight: bold\">0.0006</span>, sumlogdet: <span style=\"color: #008080; text-decoration-color: #008080; font-weight: bold\">0.0000</span>, acc_mask: <span style=\"color: #008080; text-decoration-color: #008080; font-weight: bold\">0.0000</span>, sinQ: <span style=\"color: #008080; text-decoration-color: #008080; font-weight: bold\">2.5535</span>, intQ: <span style=\"color: #008080; text-decoration-color: #008080; font-weight: bold\">37.2558</span>, plaqs:  \n",
       "<span style=\"color: #7fbfbf; text-decoration-color: #7fbfbf\">           </span><span style=\"color: #008080; text-decoration-color: #008080; font-weight: bold\">177.5215</span>                                                                          \n",
       "</pre>\n"
      ],
      "text/plain": [
       "\u001b[2;36m[21:06:46]\u001b[0m\u001b[2;36m \u001b[0m\u001b[1;36m880\u001b[0m \u001b[35m/\u001b[0m \u001b[1;36m1000\u001b[0m, energy: \u001b[1;36m-272691.3438\u001b[0m, logprob: \u001b[1;36m-272691.3438\u001b[0m, logdet: \u001b[1;36m0.0000\u001b[0m, acc:     \n",
       "\u001b[2;36m           \u001b[0m\u001b[1;36m0.0006\u001b[0m, sumlogdet: \u001b[1;36m0.0000\u001b[0m, acc_mask: \u001b[1;36m0.0000\u001b[0m, sinQ: \u001b[1;36m2.5535\u001b[0m, intQ: \u001b[1;36m37.2558\u001b[0m, plaqs:  \n",
       "\u001b[2;36m           \u001b[0m\u001b[1;36m177.5215\u001b[0m                                                                          \n"
      ]
     },
     "metadata": {},
     "output_type": "display_data"
    },
    {
     "data": {
      "text/html": [
       "<pre style=\"white-space:pre;overflow-x:auto;line-height:normal;font-family:Menlo,'DejaVu Sans Mono',consolas,'Courier New',monospace\"><span style=\"color: #7fbfbf; text-decoration-color: #7fbfbf\">[21:07:06] </span><span style=\"color: #008080; text-decoration-color: #008080; font-weight: bold\">900</span> <span style=\"color: #800080; text-decoration-color: #800080\">/</span> <span style=\"color: #008080; text-decoration-color: #008080; font-weight: bold\">1000</span>, energy: <span style=\"color: #008080; text-decoration-color: #008080; font-weight: bold\">-272736.0938</span>, logprob: <span style=\"color: #008080; text-decoration-color: #008080; font-weight: bold\">-272736.0938</span>, logdet: <span style=\"color: #008080; text-decoration-color: #008080; font-weight: bold\">0.0000</span>, acc:     \n",
       "<span style=\"color: #7fbfbf; text-decoration-color: #7fbfbf\">           </span><span style=\"color: #008080; text-decoration-color: #008080; font-weight: bold\">0.0006</span>, sumlogdet: <span style=\"color: #008080; text-decoration-color: #008080; font-weight: bold\">0.0000</span>, acc_mask: <span style=\"color: #008080; text-decoration-color: #008080; font-weight: bold\">0.0000</span>, sinQ: <span style=\"color: #008080; text-decoration-color: #008080; font-weight: bold\">2.5535</span>, intQ: <span style=\"color: #008080; text-decoration-color: #008080; font-weight: bold\">37.2558</span>, plaqs:  \n",
       "<span style=\"color: #7fbfbf; text-decoration-color: #7fbfbf\">           </span><span style=\"color: #008080; text-decoration-color: #008080; font-weight: bold\">177.5215</span>                                                                          \n",
       "</pre>\n"
      ],
      "text/plain": [
       "\u001b[2;36m[21:07:06]\u001b[0m\u001b[2;36m \u001b[0m\u001b[1;36m900\u001b[0m \u001b[35m/\u001b[0m \u001b[1;36m1000\u001b[0m, energy: \u001b[1;36m-272736.0938\u001b[0m, logprob: \u001b[1;36m-272736.0938\u001b[0m, logdet: \u001b[1;36m0.0000\u001b[0m, acc:     \n",
       "\u001b[2;36m           \u001b[0m\u001b[1;36m0.0006\u001b[0m, sumlogdet: \u001b[1;36m0.0000\u001b[0m, acc_mask: \u001b[1;36m0.0000\u001b[0m, sinQ: \u001b[1;36m2.5535\u001b[0m, intQ: \u001b[1;36m37.2558\u001b[0m, plaqs:  \n",
       "\u001b[2;36m           \u001b[0m\u001b[1;36m177.5215\u001b[0m                                                                          \n"
      ]
     },
     "metadata": {},
     "output_type": "display_data"
    },
    {
     "data": {
      "text/html": [
       "<pre style=\"white-space:pre;overflow-x:auto;line-height:normal;font-family:Menlo,'DejaVu Sans Mono',consolas,'Courier New',monospace\"><span style=\"color: #7fbfbf; text-decoration-color: #7fbfbf\">[21:07:27] </span><span style=\"color: #008080; text-decoration-color: #008080; font-weight: bold\">920</span> <span style=\"color: #800080; text-decoration-color: #800080\">/</span> <span style=\"color: #008080; text-decoration-color: #008080; font-weight: bold\">1000</span>, energy: <span style=\"color: #008080; text-decoration-color: #008080; font-weight: bold\">-272674.0938</span>, logprob: <span style=\"color: #008080; text-decoration-color: #008080; font-weight: bold\">-272674.0938</span>, logdet: <span style=\"color: #008080; text-decoration-color: #008080; font-weight: bold\">0.0000</span>, acc:     \n",
       "<span style=\"color: #7fbfbf; text-decoration-color: #7fbfbf\">           </span><span style=\"color: #008080; text-decoration-color: #008080; font-weight: bold\">0.0006</span>, sumlogdet: <span style=\"color: #008080; text-decoration-color: #008080; font-weight: bold\">0.0000</span>, acc_mask: <span style=\"color: #008080; text-decoration-color: #008080; font-weight: bold\">0.0000</span>, sinQ: <span style=\"color: #008080; text-decoration-color: #008080; font-weight: bold\">2.5535</span>, intQ: <span style=\"color: #008080; text-decoration-color: #008080; font-weight: bold\">37.2558</span>, plaqs:  \n",
       "<span style=\"color: #7fbfbf; text-decoration-color: #7fbfbf\">           </span><span style=\"color: #008080; text-decoration-color: #008080; font-weight: bold\">177.5215</span>                                                                          \n",
       "</pre>\n"
      ],
      "text/plain": [
       "\u001b[2;36m[21:07:27]\u001b[0m\u001b[2;36m \u001b[0m\u001b[1;36m920\u001b[0m \u001b[35m/\u001b[0m \u001b[1;36m1000\u001b[0m, energy: \u001b[1;36m-272674.0938\u001b[0m, logprob: \u001b[1;36m-272674.0938\u001b[0m, logdet: \u001b[1;36m0.0000\u001b[0m, acc:     \n",
       "\u001b[2;36m           \u001b[0m\u001b[1;36m0.0006\u001b[0m, sumlogdet: \u001b[1;36m0.0000\u001b[0m, acc_mask: \u001b[1;36m0.0000\u001b[0m, sinQ: \u001b[1;36m2.5535\u001b[0m, intQ: \u001b[1;36m37.2558\u001b[0m, plaqs:  \n",
       "\u001b[2;36m           \u001b[0m\u001b[1;36m177.5215\u001b[0m                                                                          \n"
      ]
     },
     "metadata": {},
     "output_type": "display_data"
    },
    {
     "data": {
      "text/html": [
       "<pre style=\"white-space:pre;overflow-x:auto;line-height:normal;font-family:Menlo,'DejaVu Sans Mono',consolas,'Courier New',monospace\"><span style=\"color: #7fbfbf; text-decoration-color: #7fbfbf\">[21:07:48] </span><span style=\"color: #008080; text-decoration-color: #008080; font-weight: bold\">940</span> <span style=\"color: #800080; text-decoration-color: #800080\">/</span> <span style=\"color: #008080; text-decoration-color: #008080; font-weight: bold\">1000</span>, energy: <span style=\"color: #008080; text-decoration-color: #008080; font-weight: bold\">-272621.5625</span>, logprob: <span style=\"color: #008080; text-decoration-color: #008080; font-weight: bold\">-272621.5625</span>, logdet: <span style=\"color: #008080; text-decoration-color: #008080; font-weight: bold\">0.0000</span>, acc:     \n",
       "<span style=\"color: #7fbfbf; text-decoration-color: #7fbfbf\">           </span><span style=\"color: #008080; text-decoration-color: #008080; font-weight: bold\">0.0006</span>, sumlogdet: <span style=\"color: #008080; text-decoration-color: #008080; font-weight: bold\">0.0000</span>, acc_mask: <span style=\"color: #008080; text-decoration-color: #008080; font-weight: bold\">0.0000</span>, sinQ: <span style=\"color: #008080; text-decoration-color: #008080; font-weight: bold\">2.5535</span>, intQ: <span style=\"color: #008080; text-decoration-color: #008080; font-weight: bold\">37.2558</span>, plaqs:  \n",
       "<span style=\"color: #7fbfbf; text-decoration-color: #7fbfbf\">           </span><span style=\"color: #008080; text-decoration-color: #008080; font-weight: bold\">177.5215</span>                                                                          \n",
       "</pre>\n"
      ],
      "text/plain": [
       "\u001b[2;36m[21:07:48]\u001b[0m\u001b[2;36m \u001b[0m\u001b[1;36m940\u001b[0m \u001b[35m/\u001b[0m \u001b[1;36m1000\u001b[0m, energy: \u001b[1;36m-272621.5625\u001b[0m, logprob: \u001b[1;36m-272621.5625\u001b[0m, logdet: \u001b[1;36m0.0000\u001b[0m, acc:     \n",
       "\u001b[2;36m           \u001b[0m\u001b[1;36m0.0006\u001b[0m, sumlogdet: \u001b[1;36m0.0000\u001b[0m, acc_mask: \u001b[1;36m0.0000\u001b[0m, sinQ: \u001b[1;36m2.5535\u001b[0m, intQ: \u001b[1;36m37.2558\u001b[0m, plaqs:  \n",
       "\u001b[2;36m           \u001b[0m\u001b[1;36m177.5215\u001b[0m                                                                          \n"
      ]
     },
     "metadata": {},
     "output_type": "display_data"
    },
    {
     "data": {
      "text/html": [
       "<pre style=\"white-space:pre;overflow-x:auto;line-height:normal;font-family:Menlo,'DejaVu Sans Mono',consolas,'Courier New',monospace\"><span style=\"color: #7fbfbf; text-decoration-color: #7fbfbf\">[21:08:11] </span><span style=\"color: #008080; text-decoration-color: #008080; font-weight: bold\">960</span> <span style=\"color: #800080; text-decoration-color: #800080\">/</span> <span style=\"color: #008080; text-decoration-color: #008080; font-weight: bold\">1000</span>, energy: <span style=\"color: #008080; text-decoration-color: #008080; font-weight: bold\">-272664.2812</span>, logprob: <span style=\"color: #008080; text-decoration-color: #008080; font-weight: bold\">-272664.2812</span>, logdet: <span style=\"color: #008080; text-decoration-color: #008080; font-weight: bold\">0.0000</span>, acc:     \n",
       "<span style=\"color: #7fbfbf; text-decoration-color: #7fbfbf\">           </span><span style=\"color: #008080; text-decoration-color: #008080; font-weight: bold\">0.0006</span>, sumlogdet: <span style=\"color: #008080; text-decoration-color: #008080; font-weight: bold\">0.0000</span>, acc_mask: <span style=\"color: #008080; text-decoration-color: #008080; font-weight: bold\">0.0000</span>, sinQ: <span style=\"color: #008080; text-decoration-color: #008080; font-weight: bold\">2.5535</span>, intQ: <span style=\"color: #008080; text-decoration-color: #008080; font-weight: bold\">37.2558</span>, plaqs:  \n",
       "<span style=\"color: #7fbfbf; text-decoration-color: #7fbfbf\">           </span><span style=\"color: #008080; text-decoration-color: #008080; font-weight: bold\">177.5215</span>                                                                          \n",
       "</pre>\n"
      ],
      "text/plain": [
       "\u001b[2;36m[21:08:11]\u001b[0m\u001b[2;36m \u001b[0m\u001b[1;36m960\u001b[0m \u001b[35m/\u001b[0m \u001b[1;36m1000\u001b[0m, energy: \u001b[1;36m-272664.2812\u001b[0m, logprob: \u001b[1;36m-272664.2812\u001b[0m, logdet: \u001b[1;36m0.0000\u001b[0m, acc:     \n",
       "\u001b[2;36m           \u001b[0m\u001b[1;36m0.0006\u001b[0m, sumlogdet: \u001b[1;36m0.0000\u001b[0m, acc_mask: \u001b[1;36m0.0000\u001b[0m, sinQ: \u001b[1;36m2.5535\u001b[0m, intQ: \u001b[1;36m37.2558\u001b[0m, plaqs:  \n",
       "\u001b[2;36m           \u001b[0m\u001b[1;36m177.5215\u001b[0m                                                                          \n"
      ]
     },
     "metadata": {},
     "output_type": "display_data"
    },
    {
     "data": {
      "text/html": [
       "<pre style=\"white-space:pre;overflow-x:auto;line-height:normal;font-family:Menlo,'DejaVu Sans Mono',consolas,'Courier New',monospace\"><span style=\"color: #7fbfbf; text-decoration-color: #7fbfbf\">[21:08:33] </span><span style=\"color: #008080; text-decoration-color: #008080; font-weight: bold\">980</span> <span style=\"color: #800080; text-decoration-color: #800080\">/</span> <span style=\"color: #008080; text-decoration-color: #008080; font-weight: bold\">1000</span>, energy: <span style=\"color: #008080; text-decoration-color: #008080; font-weight: bold\">-272707.6250</span>, logprob: <span style=\"color: #008080; text-decoration-color: #008080; font-weight: bold\">-272707.6250</span>, logdet: <span style=\"color: #008080; text-decoration-color: #008080; font-weight: bold\">0.0000</span>, acc:     \n",
       "<span style=\"color: #7fbfbf; text-decoration-color: #7fbfbf\">           </span><span style=\"color: #008080; text-decoration-color: #008080; font-weight: bold\">0.0006</span>, sumlogdet: <span style=\"color: #008080; text-decoration-color: #008080; font-weight: bold\">0.0000</span>, acc_mask: <span style=\"color: #008080; text-decoration-color: #008080; font-weight: bold\">0.0000</span>, sinQ: <span style=\"color: #008080; text-decoration-color: #008080; font-weight: bold\">2.5535</span>, intQ: <span style=\"color: #008080; text-decoration-color: #008080; font-weight: bold\">37.2558</span>, plaqs:  \n",
       "<span style=\"color: #7fbfbf; text-decoration-color: #7fbfbf\">           </span><span style=\"color: #008080; text-decoration-color: #008080; font-weight: bold\">177.5215</span>                                                                          \n",
       "</pre>\n"
      ],
      "text/plain": [
       "\u001b[2;36m[21:08:33]\u001b[0m\u001b[2;36m \u001b[0m\u001b[1;36m980\u001b[0m \u001b[35m/\u001b[0m \u001b[1;36m1000\u001b[0m, energy: \u001b[1;36m-272707.6250\u001b[0m, logprob: \u001b[1;36m-272707.6250\u001b[0m, logdet: \u001b[1;36m0.0000\u001b[0m, acc:     \n",
       "\u001b[2;36m           \u001b[0m\u001b[1;36m0.0006\u001b[0m, sumlogdet: \u001b[1;36m0.0000\u001b[0m, acc_mask: \u001b[1;36m0.0000\u001b[0m, sinQ: \u001b[1;36m2.5535\u001b[0m, intQ: \u001b[1;36m37.2558\u001b[0m, plaqs:  \n",
       "\u001b[2;36m           \u001b[0m\u001b[1;36m177.5215\u001b[0m                                                                          \n"
      ]
     },
     "metadata": {},
     "output_type": "display_data"
    }
   ],
   "source": [
    "run_hmc(exp_pt)"
   ]
  },
  {
   "cell_type": "code",
   "execution_count": 23,
   "id": "6d31b411",
   "metadata": {
    "ExecuteTime": {
     "end_time": "2022-06-05T04:03:54.270886Z",
     "start_time": "2022-06-05T03:56:48.511331Z"
    }
   },
   "outputs": [
    {
     "data": {
      "text/html": [
       "<pre style=\"white-space:pre;overflow-x:auto;line-height:normal;font-family:Menlo,'DejaVu Sans Mono',consolas,'Courier New',monospace\"><span style=\"color: #7fbfbf; text-decoration-color: #7fbfbf\">[22:56:50] </span><span style=\"color: #008080; text-decoration-color: #008080; font-weight: bold\">0</span> <span style=\"color: #800080; text-decoration-color: #800080\">/</span> <span style=\"color: #008080; text-decoration-color: #008080; font-weight: bold\">1000</span>, energy: <span style=\"color: #008080; text-decoration-color: #008080; font-weight: bold\">-82.4791</span>, logprob: <span style=\"color: #008080; text-decoration-color: #008080; font-weight: bold\">-82.4791</span>, logdet: <span style=\"color: #008080; text-decoration-color: #008080; font-weight: bold\">0.0000</span>, acc: <span style=\"color: #008080; text-decoration-color: #008080; font-weight: bold\">0.9729</span>,       \n",
       "<span style=\"color: #7fbfbf; text-decoration-color: #7fbfbf\">           </span>sumlogdet: <span style=\"color: #008080; text-decoration-color: #008080; font-weight: bold\">0.0000</span>, acc_mask: <span style=\"color: #008080; text-decoration-color: #008080; font-weight: bold\">1.0000</span>, sinQ: <span style=\"color: #008080; text-decoration-color: #008080; font-weight: bold\">0.0016</span>, intQ: <span style=\"color: #008080; text-decoration-color: #008080; font-weight: bold\">0.0238</span>, plaqs: <span style=\"color: #008080; text-decoration-color: #008080; font-weight: bold\">0.0047</span>    \n",
       "</pre>\n"
      ],
      "text/plain": [
       "\u001b[2;36m[22:56:50]\u001b[0m\u001b[2;36m \u001b[0m\u001b[1;36m0\u001b[0m \u001b[35m/\u001b[0m \u001b[1;36m1000\u001b[0m, energy: \u001b[1;36m-82.4791\u001b[0m, logprob: \u001b[1;36m-82.4791\u001b[0m, logdet: \u001b[1;36m0.0000\u001b[0m, acc: \u001b[1;36m0.9729\u001b[0m,       \n",
       "\u001b[2;36m           \u001b[0msumlogdet: \u001b[1;36m0.0000\u001b[0m, acc_mask: \u001b[1;36m1.0000\u001b[0m, sinQ: \u001b[1;36m0.0016\u001b[0m, intQ: \u001b[1;36m0.0238\u001b[0m, plaqs: \u001b[1;36m0.0047\u001b[0m    \n"
      ]
     },
     "metadata": {},
     "output_type": "display_data"
    },
    {
     "data": {
      "text/html": [
       "<pre style=\"white-space:pre;overflow-x:auto;line-height:normal;font-family:Menlo,'DejaVu Sans Mono',consolas,'Courier New',monospace\"><span style=\"color: #7fbfbf; text-decoration-color: #7fbfbf\">[22:57:01] </span><span style=\"color: #008080; text-decoration-color: #008080; font-weight: bold\">20</span> <span style=\"color: #800080; text-decoration-color: #800080\">/</span> <span style=\"color: #008080; text-decoration-color: #008080; font-weight: bold\">1000</span>, energy: <span style=\"color: #008080; text-decoration-color: #008080; font-weight: bold\">-92.5592</span>, logprob: <span style=\"color: #008080; text-decoration-color: #008080; font-weight: bold\">-92.5592</span>, logdet: <span style=\"color: #008080; text-decoration-color: #008080; font-weight: bold\">0.0000</span>, acc: <span style=\"color: #008080; text-decoration-color: #008080; font-weight: bold\">0.8232</span>,      \n",
       "<span style=\"color: #7fbfbf; text-decoration-color: #7fbfbf\">           </span>sumlogdet: <span style=\"color: #008080; text-decoration-color: #008080; font-weight: bold\">0.0000</span>, acc_mask: <span style=\"color: #008080; text-decoration-color: #008080; font-weight: bold\">1.0000</span>, sinQ: <span style=\"color: #008080; text-decoration-color: #008080; font-weight: bold\">0.0015</span>, intQ: <span style=\"color: #008080; text-decoration-color: #008080; font-weight: bold\">0.0223</span>, plaqs: <span style=\"color: #008080; text-decoration-color: #008080; font-weight: bold\">0.0048</span>    \n",
       "</pre>\n"
      ],
      "text/plain": [
       "\u001b[2;36m[22:57:01]\u001b[0m\u001b[2;36m \u001b[0m\u001b[1;36m20\u001b[0m \u001b[35m/\u001b[0m \u001b[1;36m1000\u001b[0m, energy: \u001b[1;36m-92.5592\u001b[0m, logprob: \u001b[1;36m-92.5592\u001b[0m, logdet: \u001b[1;36m0.0000\u001b[0m, acc: \u001b[1;36m0.8232\u001b[0m,      \n",
       "\u001b[2;36m           \u001b[0msumlogdet: \u001b[1;36m0.0000\u001b[0m, acc_mask: \u001b[1;36m1.0000\u001b[0m, sinQ: \u001b[1;36m0.0015\u001b[0m, intQ: \u001b[1;36m0.0223\u001b[0m, plaqs: \u001b[1;36m0.0048\u001b[0m    \n"
      ]
     },
     "metadata": {},
     "output_type": "display_data"
    },
    {
     "data": {
      "text/html": [
       "<pre style=\"white-space:pre;overflow-x:auto;line-height:normal;font-family:Menlo,'DejaVu Sans Mono',consolas,'Courier New',monospace\"><span style=\"color: #7fbfbf; text-decoration-color: #7fbfbf\">[22:57:09] </span><span style=\"color: #008080; text-decoration-color: #008080; font-weight: bold\">40</span> <span style=\"color: #800080; text-decoration-color: #800080\">/</span> <span style=\"color: #008080; text-decoration-color: #008080; font-weight: bold\">1000</span>, energy: <span style=\"color: #008080; text-decoration-color: #008080; font-weight: bold\">-34.4372</span>, logprob: <span style=\"color: #008080; text-decoration-color: #008080; font-weight: bold\">-34.4372</span>, logdet: <span style=\"color: #008080; text-decoration-color: #008080; font-weight: bold\">0.0000</span>, acc: <span style=\"color: #008080; text-decoration-color: #008080; font-weight: bold\">0.7840</span>,      \n",
       "<span style=\"color: #7fbfbf; text-decoration-color: #7fbfbf\">           </span>sumlogdet: <span style=\"color: #008080; text-decoration-color: #008080; font-weight: bold\">0.0000</span>, acc_mask: <span style=\"color: #008080; text-decoration-color: #008080; font-weight: bold\">1.0000</span>, sinQ: <span style=\"color: #008080; text-decoration-color: #008080; font-weight: bold\">0.0014</span>, intQ: <span style=\"color: #008080; text-decoration-color: #008080; font-weight: bold\">0.0210</span>, plaqs: <span style=\"color: #008080; text-decoration-color: #008080; font-weight: bold\">0.0049</span>    \n",
       "</pre>\n"
      ],
      "text/plain": [
       "\u001b[2;36m[22:57:09]\u001b[0m\u001b[2;36m \u001b[0m\u001b[1;36m40\u001b[0m \u001b[35m/\u001b[0m \u001b[1;36m1000\u001b[0m, energy: \u001b[1;36m-34.4372\u001b[0m, logprob: \u001b[1;36m-34.4372\u001b[0m, logdet: \u001b[1;36m0.0000\u001b[0m, acc: \u001b[1;36m0.7840\u001b[0m,      \n",
       "\u001b[2;36m           \u001b[0msumlogdet: \u001b[1;36m0.0000\u001b[0m, acc_mask: \u001b[1;36m1.0000\u001b[0m, sinQ: \u001b[1;36m0.0014\u001b[0m, intQ: \u001b[1;36m0.0210\u001b[0m, plaqs: \u001b[1;36m0.0049\u001b[0m    \n"
      ]
     },
     "metadata": {},
     "output_type": "display_data"
    },
    {
     "data": {
      "text/html": [
       "<pre style=\"white-space:pre;overflow-x:auto;line-height:normal;font-family:Menlo,'DejaVu Sans Mono',consolas,'Courier New',monospace\"><span style=\"color: #7fbfbf; text-decoration-color: #7fbfbf\">[22:57:16] </span><span style=\"color: #008080; text-decoration-color: #008080; font-weight: bold\">60</span> <span style=\"color: #800080; text-decoration-color: #800080\">/</span> <span style=\"color: #008080; text-decoration-color: #008080; font-weight: bold\">1000</span>, energy: <span style=\"color: #008080; text-decoration-color: #008080; font-weight: bold\">-52.6966</span>, logprob: <span style=\"color: #008080; text-decoration-color: #008080; font-weight: bold\">-52.6966</span>, logdet: <span style=\"color: #008080; text-decoration-color: #008080; font-weight: bold\">0.0000</span>, acc: <span style=\"color: #008080; text-decoration-color: #008080; font-weight: bold\">0.9316</span>,      \n",
       "<span style=\"color: #7fbfbf; text-decoration-color: #7fbfbf\">           </span>sumlogdet: <span style=\"color: #008080; text-decoration-color: #008080; font-weight: bold\">0.0000</span>, acc_mask: <span style=\"color: #008080; text-decoration-color: #008080; font-weight: bold\">1.0000</span>, sinQ: <span style=\"color: #008080; text-decoration-color: #008080; font-weight: bold\">0.0015</span>, intQ: <span style=\"color: #008080; text-decoration-color: #008080; font-weight: bold\">0.0212</span>, plaqs: <span style=\"color: #008080; text-decoration-color: #008080; font-weight: bold\">0.0050</span>    \n",
       "</pre>\n"
      ],
      "text/plain": [
       "\u001b[2;36m[22:57:16]\u001b[0m\u001b[2;36m \u001b[0m\u001b[1;36m60\u001b[0m \u001b[35m/\u001b[0m \u001b[1;36m1000\u001b[0m, energy: \u001b[1;36m-52.6966\u001b[0m, logprob: \u001b[1;36m-52.6966\u001b[0m, logdet: \u001b[1;36m0.0000\u001b[0m, acc: \u001b[1;36m0.9316\u001b[0m,      \n",
       "\u001b[2;36m           \u001b[0msumlogdet: \u001b[1;36m0.0000\u001b[0m, acc_mask: \u001b[1;36m1.0000\u001b[0m, sinQ: \u001b[1;36m0.0015\u001b[0m, intQ: \u001b[1;36m0.0212\u001b[0m, plaqs: \u001b[1;36m0.0050\u001b[0m    \n"
      ]
     },
     "metadata": {},
     "output_type": "display_data"
    },
    {
     "data": {
      "text/html": [
       "<pre style=\"white-space:pre;overflow-x:auto;line-height:normal;font-family:Menlo,'DejaVu Sans Mono',consolas,'Courier New',monospace\"><span style=\"color: #7fbfbf; text-decoration-color: #7fbfbf\">[22:57:23] </span><span style=\"color: #008080; text-decoration-color: #008080; font-weight: bold\">80</span> <span style=\"color: #800080; text-decoration-color: #800080\">/</span> <span style=\"color: #008080; text-decoration-color: #008080; font-weight: bold\">1000</span>, energy: <span style=\"color: #008080; text-decoration-color: #008080; font-weight: bold\">-69.0476</span>, logprob: <span style=\"color: #008080; text-decoration-color: #008080; font-weight: bold\">-69.0476</span>, logdet: <span style=\"color: #008080; text-decoration-color: #008080; font-weight: bold\">0.0000</span>, acc: <span style=\"color: #008080; text-decoration-color: #008080; font-weight: bold\">0.9717</span>,      \n",
       "<span style=\"color: #7fbfbf; text-decoration-color: #7fbfbf\">           </span>sumlogdet: <span style=\"color: #008080; text-decoration-color: #008080; font-weight: bold\">0.0000</span>, acc_mask: <span style=\"color: #008080; text-decoration-color: #008080; font-weight: bold\">1.0000</span>, sinQ: <span style=\"color: #008080; text-decoration-color: #008080; font-weight: bold\">0.0014</span>, intQ: <span style=\"color: #008080; text-decoration-color: #008080; font-weight: bold\">0.0209</span>, plaqs: <span style=\"color: #008080; text-decoration-color: #008080; font-weight: bold\">0.0050</span>    \n",
       "</pre>\n"
      ],
      "text/plain": [
       "\u001b[2;36m[22:57:23]\u001b[0m\u001b[2;36m \u001b[0m\u001b[1;36m80\u001b[0m \u001b[35m/\u001b[0m \u001b[1;36m1000\u001b[0m, energy: \u001b[1;36m-69.0476\u001b[0m, logprob: \u001b[1;36m-69.0476\u001b[0m, logdet: \u001b[1;36m0.0000\u001b[0m, acc: \u001b[1;36m0.9717\u001b[0m,      \n",
       "\u001b[2;36m           \u001b[0msumlogdet: \u001b[1;36m0.0000\u001b[0m, acc_mask: \u001b[1;36m1.0000\u001b[0m, sinQ: \u001b[1;36m0.0014\u001b[0m, intQ: \u001b[1;36m0.0209\u001b[0m, plaqs: \u001b[1;36m0.0050\u001b[0m    \n"
      ]
     },
     "metadata": {},
     "output_type": "display_data"
    },
    {
     "data": {
      "text/html": [
       "<pre style=\"white-space:pre;overflow-x:auto;line-height:normal;font-family:Menlo,'DejaVu Sans Mono',consolas,'Courier New',monospace\"><span style=\"color: #7fbfbf; text-decoration-color: #7fbfbf\">[22:57:31] </span><span style=\"color: #008080; text-decoration-color: #008080; font-weight: bold\">100</span> <span style=\"color: #800080; text-decoration-color: #800080\">/</span> <span style=\"color: #008080; text-decoration-color: #008080; font-weight: bold\">1000</span>, energy: <span style=\"color: #008080; text-decoration-color: #008080; font-weight: bold\">-51.3351</span>, logprob: <span style=\"color: #008080; text-decoration-color: #008080; font-weight: bold\">-51.3351</span>, logdet: <span style=\"color: #008080; text-decoration-color: #008080; font-weight: bold\">0.0000</span>, acc: <span style=\"color: #008080; text-decoration-color: #008080; font-weight: bold\">0.9893</span>,     \n",
       "<span style=\"color: #7fbfbf; text-decoration-color: #7fbfbf\">           </span>sumlogdet: <span style=\"color: #008080; text-decoration-color: #008080; font-weight: bold\">0.0000</span>, acc_mask: <span style=\"color: #008080; text-decoration-color: #008080; font-weight: bold\">1.0000</span>, sinQ: <span style=\"color: #008080; text-decoration-color: #008080; font-weight: bold\">0.0014</span>, intQ: <span style=\"color: #008080; text-decoration-color: #008080; font-weight: bold\">0.0201</span>, plaqs: <span style=\"color: #008080; text-decoration-color: #008080; font-weight: bold\">0.0051</span>    \n",
       "</pre>\n"
      ],
      "text/plain": [
       "\u001b[2;36m[22:57:31]\u001b[0m\u001b[2;36m \u001b[0m\u001b[1;36m100\u001b[0m \u001b[35m/\u001b[0m \u001b[1;36m1000\u001b[0m, energy: \u001b[1;36m-51.3351\u001b[0m, logprob: \u001b[1;36m-51.3351\u001b[0m, logdet: \u001b[1;36m0.0000\u001b[0m, acc: \u001b[1;36m0.9893\u001b[0m,     \n",
       "\u001b[2;36m           \u001b[0msumlogdet: \u001b[1;36m0.0000\u001b[0m, acc_mask: \u001b[1;36m1.0000\u001b[0m, sinQ: \u001b[1;36m0.0014\u001b[0m, intQ: \u001b[1;36m0.0201\u001b[0m, plaqs: \u001b[1;36m0.0051\u001b[0m    \n"
      ]
     },
     "metadata": {},
     "output_type": "display_data"
    },
    {
     "data": {
      "text/html": [
       "<pre style=\"white-space:pre;overflow-x:auto;line-height:normal;font-family:Menlo,'DejaVu Sans Mono',consolas,'Courier New',monospace\"><span style=\"color: #7fbfbf; text-decoration-color: #7fbfbf\">[22:57:38] </span><span style=\"color: #008080; text-decoration-color: #008080; font-weight: bold\">120</span> <span style=\"color: #800080; text-decoration-color: #800080\">/</span> <span style=\"color: #008080; text-decoration-color: #008080; font-weight: bold\">1000</span>, energy: <span style=\"color: #008080; text-decoration-color: #008080; font-weight: bold\">-22.9857</span>, logprob: <span style=\"color: #008080; text-decoration-color: #008080; font-weight: bold\">-22.9857</span>, logdet: <span style=\"color: #008080; text-decoration-color: #008080; font-weight: bold\">0.0000</span>, acc: <span style=\"color: #008080; text-decoration-color: #008080; font-weight: bold\">0.6961</span>,     \n",
       "<span style=\"color: #7fbfbf; text-decoration-color: #7fbfbf\">           </span>sumlogdet: <span style=\"color: #008080; text-decoration-color: #008080; font-weight: bold\">0.0000</span>, acc_mask: <span style=\"color: #008080; text-decoration-color: #008080; font-weight: bold\">0.8000</span>, sinQ: <span style=\"color: #008080; text-decoration-color: #008080; font-weight: bold\">0.0014</span>, intQ: <span style=\"color: #008080; text-decoration-color: #008080; font-weight: bold\">0.0210</span>, plaqs: <span style=\"color: #008080; text-decoration-color: #008080; font-weight: bold\">0.0052</span>    \n",
       "</pre>\n"
      ],
      "text/plain": [
       "\u001b[2;36m[22:57:38]\u001b[0m\u001b[2;36m \u001b[0m\u001b[1;36m120\u001b[0m \u001b[35m/\u001b[0m \u001b[1;36m1000\u001b[0m, energy: \u001b[1;36m-22.9857\u001b[0m, logprob: \u001b[1;36m-22.9857\u001b[0m, logdet: \u001b[1;36m0.0000\u001b[0m, acc: \u001b[1;36m0.6961\u001b[0m,     \n",
       "\u001b[2;36m           \u001b[0msumlogdet: \u001b[1;36m0.0000\u001b[0m, acc_mask: \u001b[1;36m0.8000\u001b[0m, sinQ: \u001b[1;36m0.0014\u001b[0m, intQ: \u001b[1;36m0.0210\u001b[0m, plaqs: \u001b[1;36m0.0052\u001b[0m    \n"
      ]
     },
     "metadata": {},
     "output_type": "display_data"
    },
    {
     "data": {
      "text/html": [
       "<pre style=\"white-space:pre;overflow-x:auto;line-height:normal;font-family:Menlo,'DejaVu Sans Mono',consolas,'Courier New',monospace\"><span style=\"color: #7fbfbf; text-decoration-color: #7fbfbf\">[22:57:45] </span><span style=\"color: #008080; text-decoration-color: #008080; font-weight: bold\">140</span> <span style=\"color: #800080; text-decoration-color: #800080\">/</span> <span style=\"color: #008080; text-decoration-color: #008080; font-weight: bold\">1000</span>, energy: <span style=\"color: #008080; text-decoration-color: #008080; font-weight: bold\">-56.7801</span>, logprob: <span style=\"color: #008080; text-decoration-color: #008080; font-weight: bold\">-56.7801</span>, logdet: <span style=\"color: #008080; text-decoration-color: #008080; font-weight: bold\">0.0000</span>, acc: <span style=\"color: #008080; text-decoration-color: #008080; font-weight: bold\">0.9545</span>,     \n",
       "<span style=\"color: #7fbfbf; text-decoration-color: #7fbfbf\">           </span>sumlogdet: <span style=\"color: #008080; text-decoration-color: #008080; font-weight: bold\">0.0000</span>, acc_mask: <span style=\"color: #008080; text-decoration-color: #008080; font-weight: bold\">1.0000</span>, sinQ: <span style=\"color: #008080; text-decoration-color: #008080; font-weight: bold\">0.0014</span>, intQ: <span style=\"color: #008080; text-decoration-color: #008080; font-weight: bold\">0.0206</span>, plaqs: <span style=\"color: #008080; text-decoration-color: #008080; font-weight: bold\">0.0052</span>    \n",
       "</pre>\n"
      ],
      "text/plain": [
       "\u001b[2;36m[22:57:45]\u001b[0m\u001b[2;36m \u001b[0m\u001b[1;36m140\u001b[0m \u001b[35m/\u001b[0m \u001b[1;36m1000\u001b[0m, energy: \u001b[1;36m-56.7801\u001b[0m, logprob: \u001b[1;36m-56.7801\u001b[0m, logdet: \u001b[1;36m0.0000\u001b[0m, acc: \u001b[1;36m0.9545\u001b[0m,     \n",
       "\u001b[2;36m           \u001b[0msumlogdet: \u001b[1;36m0.0000\u001b[0m, acc_mask: \u001b[1;36m1.0000\u001b[0m, sinQ: \u001b[1;36m0.0014\u001b[0m, intQ: \u001b[1;36m0.0206\u001b[0m, plaqs: \u001b[1;36m0.0052\u001b[0m    \n"
      ]
     },
     "metadata": {},
     "output_type": "display_data"
    },
    {
     "data": {
      "text/html": [
       "<pre style=\"white-space:pre;overflow-x:auto;line-height:normal;font-family:Menlo,'DejaVu Sans Mono',consolas,'Courier New',monospace\"><span style=\"color: #7fbfbf; text-decoration-color: #7fbfbf\">[22:57:55] </span><span style=\"color: #008080; text-decoration-color: #008080; font-weight: bold\">160</span> <span style=\"color: #800080; text-decoration-color: #800080\">/</span> <span style=\"color: #008080; text-decoration-color: #008080; font-weight: bold\">1000</span>, energy: <span style=\"color: #008080; text-decoration-color: #008080; font-weight: bold\">-41.0127</span>, logprob: <span style=\"color: #008080; text-decoration-color: #008080; font-weight: bold\">-41.0127</span>, logdet: <span style=\"color: #008080; text-decoration-color: #008080; font-weight: bold\">0.0000</span>, acc: <span style=\"color: #008080; text-decoration-color: #008080; font-weight: bold\">0.7778</span>,     \n",
       "<span style=\"color: #7fbfbf; text-decoration-color: #7fbfbf\">           </span>sumlogdet: <span style=\"color: #008080; text-decoration-color: #008080; font-weight: bold\">0.0000</span>, acc_mask: <span style=\"color: #008080; text-decoration-color: #008080; font-weight: bold\">1.0000</span>, sinQ: <span style=\"color: #008080; text-decoration-color: #008080; font-weight: bold\">0.0013</span>, intQ: <span style=\"color: #008080; text-decoration-color: #008080; font-weight: bold\">0.0192</span>, plaqs: <span style=\"color: #008080; text-decoration-color: #008080; font-weight: bold\">0.0054</span>    \n",
       "</pre>\n"
      ],
      "text/plain": [
       "\u001b[2;36m[22:57:55]\u001b[0m\u001b[2;36m \u001b[0m\u001b[1;36m160\u001b[0m \u001b[35m/\u001b[0m \u001b[1;36m1000\u001b[0m, energy: \u001b[1;36m-41.0127\u001b[0m, logprob: \u001b[1;36m-41.0127\u001b[0m, logdet: \u001b[1;36m0.0000\u001b[0m, acc: \u001b[1;36m0.7778\u001b[0m,     \n",
       "\u001b[2;36m           \u001b[0msumlogdet: \u001b[1;36m0.0000\u001b[0m, acc_mask: \u001b[1;36m1.0000\u001b[0m, sinQ: \u001b[1;36m0.0013\u001b[0m, intQ: \u001b[1;36m0.0192\u001b[0m, plaqs: \u001b[1;36m0.0054\u001b[0m    \n"
      ]
     },
     "metadata": {},
     "output_type": "display_data"
    },
    {
     "data": {
      "text/html": [
       "<pre style=\"white-space:pre;overflow-x:auto;line-height:normal;font-family:Menlo,'DejaVu Sans Mono',consolas,'Courier New',monospace\"><span style=\"color: #7fbfbf; text-decoration-color: #7fbfbf\">[22:58:03] </span><span style=\"color: #008080; text-decoration-color: #008080; font-weight: bold\">180</span> <span style=\"color: #800080; text-decoration-color: #800080\">/</span> <span style=\"color: #008080; text-decoration-color: #008080; font-weight: bold\">1000</span>, energy: <span style=\"color: #008080; text-decoration-color: #008080; font-weight: bold\">-49.7996</span>, logprob: <span style=\"color: #008080; text-decoration-color: #008080; font-weight: bold\">-49.7996</span>, logdet: <span style=\"color: #008080; text-decoration-color: #008080; font-weight: bold\">0.0000</span>, acc: <span style=\"color: #008080; text-decoration-color: #008080; font-weight: bold\">0.7098</span>,     \n",
       "<span style=\"color: #7fbfbf; text-decoration-color: #7fbfbf\">           </span>sumlogdet: <span style=\"color: #008080; text-decoration-color: #008080; font-weight: bold\">0.0000</span>, acc_mask: <span style=\"color: #008080; text-decoration-color: #008080; font-weight: bold\">0.6000</span>, sinQ: <span style=\"color: #008080; text-decoration-color: #008080; font-weight: bold\">0.0013</span>, intQ: <span style=\"color: #008080; text-decoration-color: #008080; font-weight: bold\">0.0194</span>, plaqs: <span style=\"color: #008080; text-decoration-color: #008080; font-weight: bold\">0.0054</span>    \n",
       "</pre>\n"
      ],
      "text/plain": [
       "\u001b[2;36m[22:58:03]\u001b[0m\u001b[2;36m \u001b[0m\u001b[1;36m180\u001b[0m \u001b[35m/\u001b[0m \u001b[1;36m1000\u001b[0m, energy: \u001b[1;36m-49.7996\u001b[0m, logprob: \u001b[1;36m-49.7996\u001b[0m, logdet: \u001b[1;36m0.0000\u001b[0m, acc: \u001b[1;36m0.7098\u001b[0m,     \n",
       "\u001b[2;36m           \u001b[0msumlogdet: \u001b[1;36m0.0000\u001b[0m, acc_mask: \u001b[1;36m0.6000\u001b[0m, sinQ: \u001b[1;36m0.0013\u001b[0m, intQ: \u001b[1;36m0.0194\u001b[0m, plaqs: \u001b[1;36m0.0054\u001b[0m    \n"
      ]
     },
     "metadata": {},
     "output_type": "display_data"
    },
    {
     "data": {
      "text/html": [
       "<pre style=\"white-space:pre;overflow-x:auto;line-height:normal;font-family:Menlo,'DejaVu Sans Mono',consolas,'Courier New',monospace\"><span style=\"color: #7fbfbf; text-decoration-color: #7fbfbf\">[22:58:12] </span><span style=\"color: #008080; text-decoration-color: #008080; font-weight: bold\">200</span> <span style=\"color: #800080; text-decoration-color: #800080\">/</span> <span style=\"color: #008080; text-decoration-color: #008080; font-weight: bold\">1000</span>, energy: <span style=\"color: #008080; text-decoration-color: #008080; font-weight: bold\">-26.9887</span>, logprob: <span style=\"color: #008080; text-decoration-color: #008080; font-weight: bold\">-26.9887</span>, logdet: <span style=\"color: #008080; text-decoration-color: #008080; font-weight: bold\">0.0000</span>, acc: <span style=\"color: #008080; text-decoration-color: #008080; font-weight: bold\">0.8514</span>,     \n",
       "<span style=\"color: #7fbfbf; text-decoration-color: #7fbfbf\">           </span>sumlogdet: <span style=\"color: #008080; text-decoration-color: #008080; font-weight: bold\">0.0000</span>, acc_mask: <span style=\"color: #008080; text-decoration-color: #008080; font-weight: bold\">1.0000</span>, sinQ: <span style=\"color: #008080; text-decoration-color: #008080; font-weight: bold\">0.0014</span>, intQ: <span style=\"color: #008080; text-decoration-color: #008080; font-weight: bold\">0.0207</span>, plaqs: <span style=\"color: #008080; text-decoration-color: #008080; font-weight: bold\">0.0056</span>    \n",
       "</pre>\n"
      ],
      "text/plain": [
       "\u001b[2;36m[22:58:12]\u001b[0m\u001b[2;36m \u001b[0m\u001b[1;36m200\u001b[0m \u001b[35m/\u001b[0m \u001b[1;36m1000\u001b[0m, energy: \u001b[1;36m-26.9887\u001b[0m, logprob: \u001b[1;36m-26.9887\u001b[0m, logdet: \u001b[1;36m0.0000\u001b[0m, acc: \u001b[1;36m0.8514\u001b[0m,     \n",
       "\u001b[2;36m           \u001b[0msumlogdet: \u001b[1;36m0.0000\u001b[0m, acc_mask: \u001b[1;36m1.0000\u001b[0m, sinQ: \u001b[1;36m0.0014\u001b[0m, intQ: \u001b[1;36m0.0207\u001b[0m, plaqs: \u001b[1;36m0.0056\u001b[0m    \n"
      ]
     },
     "metadata": {},
     "output_type": "display_data"
    },
    {
     "data": {
      "text/html": [
       "<pre style=\"white-space:pre;overflow-x:auto;line-height:normal;font-family:Menlo,'DejaVu Sans Mono',consolas,'Courier New',monospace\"><span style=\"color: #7fbfbf; text-decoration-color: #7fbfbf\">[22:58:20] </span><span style=\"color: #008080; text-decoration-color: #008080; font-weight: bold\">220</span> <span style=\"color: #800080; text-decoration-color: #800080\">/</span> <span style=\"color: #008080; text-decoration-color: #008080; font-weight: bold\">1000</span>, energy: <span style=\"color: #008080; text-decoration-color: #008080; font-weight: bold\">-58.3102</span>, logprob: <span style=\"color: #008080; text-decoration-color: #008080; font-weight: bold\">-58.3102</span>, logdet: <span style=\"color: #008080; text-decoration-color: #008080; font-weight: bold\">0.0000</span>, acc: <span style=\"color: #008080; text-decoration-color: #008080; font-weight: bold\">0.8918</span>,     \n",
       "<span style=\"color: #7fbfbf; text-decoration-color: #7fbfbf\">           </span>sumlogdet: <span style=\"color: #008080; text-decoration-color: #008080; font-weight: bold\">0.0000</span>, acc_mask: <span style=\"color: #008080; text-decoration-color: #008080; font-weight: bold\">1.0000</span>, sinQ: <span style=\"color: #008080; text-decoration-color: #008080; font-weight: bold\">0.0014</span>, intQ: <span style=\"color: #008080; text-decoration-color: #008080; font-weight: bold\">0.0201</span>, plaqs: <span style=\"color: #008080; text-decoration-color: #008080; font-weight: bold\">0.0056</span>    \n",
       "</pre>\n"
      ],
      "text/plain": [
       "\u001b[2;36m[22:58:20]\u001b[0m\u001b[2;36m \u001b[0m\u001b[1;36m220\u001b[0m \u001b[35m/\u001b[0m \u001b[1;36m1000\u001b[0m, energy: \u001b[1;36m-58.3102\u001b[0m, logprob: \u001b[1;36m-58.3102\u001b[0m, logdet: \u001b[1;36m0.0000\u001b[0m, acc: \u001b[1;36m0.8918\u001b[0m,     \n",
       "\u001b[2;36m           \u001b[0msumlogdet: \u001b[1;36m0.0000\u001b[0m, acc_mask: \u001b[1;36m1.0000\u001b[0m, sinQ: \u001b[1;36m0.0014\u001b[0m, intQ: \u001b[1;36m0.0201\u001b[0m, plaqs: \u001b[1;36m0.0056\u001b[0m    \n"
      ]
     },
     "metadata": {},
     "output_type": "display_data"
    },
    {
     "data": {
      "text/html": [
       "<pre style=\"white-space:pre;overflow-x:auto;line-height:normal;font-family:Menlo,'DejaVu Sans Mono',consolas,'Courier New',monospace\"><span style=\"color: #7fbfbf; text-decoration-color: #7fbfbf\">[22:58:29] </span><span style=\"color: #008080; text-decoration-color: #008080; font-weight: bold\">240</span> <span style=\"color: #800080; text-decoration-color: #800080\">/</span> <span style=\"color: #008080; text-decoration-color: #008080; font-weight: bold\">1000</span>, energy: <span style=\"color: #008080; text-decoration-color: #008080; font-weight: bold\">-34.7131</span>, logprob: <span style=\"color: #008080; text-decoration-color: #008080; font-weight: bold\">-34.7131</span>, logdet: <span style=\"color: #008080; text-decoration-color: #008080; font-weight: bold\">0.0000</span>, acc: <span style=\"color: #008080; text-decoration-color: #008080; font-weight: bold\">0.7803</span>,     \n",
       "<span style=\"color: #7fbfbf; text-decoration-color: #7fbfbf\">           </span>sumlogdet: <span style=\"color: #008080; text-decoration-color: #008080; font-weight: bold\">0.0000</span>, acc_mask: <span style=\"color: #008080; text-decoration-color: #008080; font-weight: bold\">0.8000</span>, sinQ: <span style=\"color: #008080; text-decoration-color: #008080; font-weight: bold\">0.0014</span>, intQ: <span style=\"color: #008080; text-decoration-color: #008080; font-weight: bold\">0.0211</span>, plaqs: <span style=\"color: #008080; text-decoration-color: #008080; font-weight: bold\">0.0057</span>    \n",
       "</pre>\n"
      ],
      "text/plain": [
       "\u001b[2;36m[22:58:29]\u001b[0m\u001b[2;36m \u001b[0m\u001b[1;36m240\u001b[0m \u001b[35m/\u001b[0m \u001b[1;36m1000\u001b[0m, energy: \u001b[1;36m-34.7131\u001b[0m, logprob: \u001b[1;36m-34.7131\u001b[0m, logdet: \u001b[1;36m0.0000\u001b[0m, acc: \u001b[1;36m0.7803\u001b[0m,     \n",
       "\u001b[2;36m           \u001b[0msumlogdet: \u001b[1;36m0.0000\u001b[0m, acc_mask: \u001b[1;36m0.8000\u001b[0m, sinQ: \u001b[1;36m0.0014\u001b[0m, intQ: \u001b[1;36m0.0211\u001b[0m, plaqs: \u001b[1;36m0.0057\u001b[0m    \n"
      ]
     },
     "metadata": {},
     "output_type": "display_data"
    },
    {
     "data": {
      "text/html": [
       "<pre style=\"white-space:pre;overflow-x:auto;line-height:normal;font-family:Menlo,'DejaVu Sans Mono',consolas,'Courier New',monospace\"><span style=\"color: #7fbfbf; text-decoration-color: #7fbfbf\">[22:58:38] </span><span style=\"color: #008080; text-decoration-color: #008080; font-weight: bold\">260</span> <span style=\"color: #800080; text-decoration-color: #800080\">/</span> <span style=\"color: #008080; text-decoration-color: #008080; font-weight: bold\">1000</span>, energy: <span style=\"color: #008080; text-decoration-color: #008080; font-weight: bold\">-67.6753</span>, logprob: <span style=\"color: #008080; text-decoration-color: #008080; font-weight: bold\">-67.6753</span>, logdet: <span style=\"color: #008080; text-decoration-color: #008080; font-weight: bold\">0.0000</span>, acc: <span style=\"color: #008080; text-decoration-color: #008080; font-weight: bold\">0.8159</span>,     \n",
       "<span style=\"color: #7fbfbf; text-decoration-color: #7fbfbf\">           </span>sumlogdet: <span style=\"color: #008080; text-decoration-color: #008080; font-weight: bold\">0.0000</span>, acc_mask: <span style=\"color: #008080; text-decoration-color: #008080; font-weight: bold\">1.0000</span>, sinQ: <span style=\"color: #008080; text-decoration-color: #008080; font-weight: bold\">0.0015</span>, intQ: <span style=\"color: #008080; text-decoration-color: #008080; font-weight: bold\">0.0217</span>, plaqs: <span style=\"color: #008080; text-decoration-color: #008080; font-weight: bold\">0.0058</span>    \n",
       "</pre>\n"
      ],
      "text/plain": [
       "\u001b[2;36m[22:58:38]\u001b[0m\u001b[2;36m \u001b[0m\u001b[1;36m260\u001b[0m \u001b[35m/\u001b[0m \u001b[1;36m1000\u001b[0m, energy: \u001b[1;36m-67.6753\u001b[0m, logprob: \u001b[1;36m-67.6753\u001b[0m, logdet: \u001b[1;36m0.0000\u001b[0m, acc: \u001b[1;36m0.8159\u001b[0m,     \n",
       "\u001b[2;36m           \u001b[0msumlogdet: \u001b[1;36m0.0000\u001b[0m, acc_mask: \u001b[1;36m1.0000\u001b[0m, sinQ: \u001b[1;36m0.0015\u001b[0m, intQ: \u001b[1;36m0.0217\u001b[0m, plaqs: \u001b[1;36m0.0058\u001b[0m    \n"
      ]
     },
     "metadata": {},
     "output_type": "display_data"
    },
    {
     "data": {
      "text/html": [
       "<pre style=\"white-space:pre;overflow-x:auto;line-height:normal;font-family:Menlo,'DejaVu Sans Mono',consolas,'Courier New',monospace\"><span style=\"color: #7fbfbf; text-decoration-color: #7fbfbf\">[22:58:48] </span><span style=\"color: #008080; text-decoration-color: #008080; font-weight: bold\">280</span> <span style=\"color: #800080; text-decoration-color: #800080\">/</span> <span style=\"color: #008080; text-decoration-color: #008080; font-weight: bold\">1000</span>, energy: <span style=\"color: #008080; text-decoration-color: #008080; font-weight: bold\">-25.8228</span>, logprob: <span style=\"color: #008080; text-decoration-color: #008080; font-weight: bold\">-25.8228</span>, logdet: <span style=\"color: #008080; text-decoration-color: #008080; font-weight: bold\">0.0000</span>, acc: <span style=\"color: #008080; text-decoration-color: #008080; font-weight: bold\">0.9200</span>,     \n",
       "<span style=\"color: #7fbfbf; text-decoration-color: #7fbfbf\">           </span>sumlogdet: <span style=\"color: #008080; text-decoration-color: #008080; font-weight: bold\">0.0000</span>, acc_mask: <span style=\"color: #008080; text-decoration-color: #008080; font-weight: bold\">1.0000</span>, sinQ: <span style=\"color: #008080; text-decoration-color: #008080; font-weight: bold\">0.0015</span>, intQ: <span style=\"color: #008080; text-decoration-color: #008080; font-weight: bold\">0.0223</span>, plaqs: <span style=\"color: #008080; text-decoration-color: #008080; font-weight: bold\">0.0059</span>    \n",
       "</pre>\n"
      ],
      "text/plain": [
       "\u001b[2;36m[22:58:48]\u001b[0m\u001b[2;36m \u001b[0m\u001b[1;36m280\u001b[0m \u001b[35m/\u001b[0m \u001b[1;36m1000\u001b[0m, energy: \u001b[1;36m-25.8228\u001b[0m, logprob: \u001b[1;36m-25.8228\u001b[0m, logdet: \u001b[1;36m0.0000\u001b[0m, acc: \u001b[1;36m0.9200\u001b[0m,     \n",
       "\u001b[2;36m           \u001b[0msumlogdet: \u001b[1;36m0.0000\u001b[0m, acc_mask: \u001b[1;36m1.0000\u001b[0m, sinQ: \u001b[1;36m0.0015\u001b[0m, intQ: \u001b[1;36m0.0223\u001b[0m, plaqs: \u001b[1;36m0.0059\u001b[0m    \n"
      ]
     },
     "metadata": {},
     "output_type": "display_data"
    },
    {
     "data": {
      "text/html": [
       "<pre style=\"white-space:pre;overflow-x:auto;line-height:normal;font-family:Menlo,'DejaVu Sans Mono',consolas,'Courier New',monospace\"><span style=\"color: #7fbfbf; text-decoration-color: #7fbfbf\">[22:58:58] </span><span style=\"color: #008080; text-decoration-color: #008080; font-weight: bold\">300</span> <span style=\"color: #800080; text-decoration-color: #800080\">/</span> <span style=\"color: #008080; text-decoration-color: #008080; font-weight: bold\">1000</span>, energy: <span style=\"color: #008080; text-decoration-color: #008080; font-weight: bold\">-22.1105</span>, logprob: <span style=\"color: #008080; text-decoration-color: #008080; font-weight: bold\">-22.1105</span>, logdet: <span style=\"color: #008080; text-decoration-color: #008080; font-weight: bold\">0.0000</span>, acc: <span style=\"color: #008080; text-decoration-color: #008080; font-weight: bold\">0.8585</span>,     \n",
       "<span style=\"color: #7fbfbf; text-decoration-color: #7fbfbf\">           </span>sumlogdet: <span style=\"color: #008080; text-decoration-color: #008080; font-weight: bold\">0.0000</span>, acc_mask: <span style=\"color: #008080; text-decoration-color: #008080; font-weight: bold\">0.8000</span>, sinQ: <span style=\"color: #008080; text-decoration-color: #008080; font-weight: bold\">0.0015</span>, intQ: <span style=\"color: #008080; text-decoration-color: #008080; font-weight: bold\">0.0217</span>, plaqs: <span style=\"color: #008080; text-decoration-color: #008080; font-weight: bold\">0.0060</span>    \n",
       "</pre>\n"
      ],
      "text/plain": [
       "\u001b[2;36m[22:58:58]\u001b[0m\u001b[2;36m \u001b[0m\u001b[1;36m300\u001b[0m \u001b[35m/\u001b[0m \u001b[1;36m1000\u001b[0m, energy: \u001b[1;36m-22.1105\u001b[0m, logprob: \u001b[1;36m-22.1105\u001b[0m, logdet: \u001b[1;36m0.0000\u001b[0m, acc: \u001b[1;36m0.8585\u001b[0m,     \n",
       "\u001b[2;36m           \u001b[0msumlogdet: \u001b[1;36m0.0000\u001b[0m, acc_mask: \u001b[1;36m0.8000\u001b[0m, sinQ: \u001b[1;36m0.0015\u001b[0m, intQ: \u001b[1;36m0.0217\u001b[0m, plaqs: \u001b[1;36m0.0060\u001b[0m    \n"
      ]
     },
     "metadata": {},
     "output_type": "display_data"
    },
    {
     "data": {
      "text/html": [
       "<pre style=\"white-space:pre;overflow-x:auto;line-height:normal;font-family:Menlo,'DejaVu Sans Mono',consolas,'Courier New',monospace\"><span style=\"color: #7fbfbf; text-decoration-color: #7fbfbf\">[22:59:06] </span><span style=\"color: #008080; text-decoration-color: #008080; font-weight: bold\">320</span> <span style=\"color: #800080; text-decoration-color: #800080\">/</span> <span style=\"color: #008080; text-decoration-color: #008080; font-weight: bold\">1000</span>, energy: <span style=\"color: #008080; text-decoration-color: #008080; font-weight: bold\">-81.6646</span>, logprob: <span style=\"color: #008080; text-decoration-color: #008080; font-weight: bold\">-81.6646</span>, logdet: <span style=\"color: #008080; text-decoration-color: #008080; font-weight: bold\">0.0000</span>, acc: <span style=\"color: #008080; text-decoration-color: #008080; font-weight: bold\">0.9427</span>,     \n",
       "<span style=\"color: #7fbfbf; text-decoration-color: #7fbfbf\">           </span>sumlogdet: <span style=\"color: #008080; text-decoration-color: #008080; font-weight: bold\">0.0000</span>, acc_mask: <span style=\"color: #008080; text-decoration-color: #008080; font-weight: bold\">0.8000</span>, sinQ: <span style=\"color: #008080; text-decoration-color: #008080; font-weight: bold\">0.0014</span>, intQ: <span style=\"color: #008080; text-decoration-color: #008080; font-weight: bold\">0.0210</span>, plaqs: <span style=\"color: #008080; text-decoration-color: #008080; font-weight: bold\">0.0061</span>    \n",
       "</pre>\n"
      ],
      "text/plain": [
       "\u001b[2;36m[22:59:06]\u001b[0m\u001b[2;36m \u001b[0m\u001b[1;36m320\u001b[0m \u001b[35m/\u001b[0m \u001b[1;36m1000\u001b[0m, energy: \u001b[1;36m-81.6646\u001b[0m, logprob: \u001b[1;36m-81.6646\u001b[0m, logdet: \u001b[1;36m0.0000\u001b[0m, acc: \u001b[1;36m0.9427\u001b[0m,     \n",
       "\u001b[2;36m           \u001b[0msumlogdet: \u001b[1;36m0.0000\u001b[0m, acc_mask: \u001b[1;36m0.8000\u001b[0m, sinQ: \u001b[1;36m0.0014\u001b[0m, intQ: \u001b[1;36m0.0210\u001b[0m, plaqs: \u001b[1;36m0.0061\u001b[0m    \n"
      ]
     },
     "metadata": {},
     "output_type": "display_data"
    },
    {
     "data": {
      "text/html": [
       "<pre style=\"white-space:pre;overflow-x:auto;line-height:normal;font-family:Menlo,'DejaVu Sans Mono',consolas,'Courier New',monospace\"><span style=\"color: #7fbfbf; text-decoration-color: #7fbfbf\">[22:59:14] </span><span style=\"color: #008080; text-decoration-color: #008080; font-weight: bold\">340</span> <span style=\"color: #800080; text-decoration-color: #800080\">/</span> <span style=\"color: #008080; text-decoration-color: #008080; font-weight: bold\">1000</span>, energy: <span style=\"color: #008080; text-decoration-color: #008080; font-weight: bold\">-85.4100</span>, logprob: <span style=\"color: #008080; text-decoration-color: #008080; font-weight: bold\">-85.4100</span>, logdet: <span style=\"color: #008080; text-decoration-color: #008080; font-weight: bold\">0.0000</span>, acc: <span style=\"color: #008080; text-decoration-color: #008080; font-weight: bold\">0.8644</span>,     \n",
       "<span style=\"color: #7fbfbf; text-decoration-color: #7fbfbf\">           </span>sumlogdet: <span style=\"color: #008080; text-decoration-color: #008080; font-weight: bold\">0.0000</span>, acc_mask: <span style=\"color: #008080; text-decoration-color: #008080; font-weight: bold\">0.8000</span>, sinQ: <span style=\"color: #008080; text-decoration-color: #008080; font-weight: bold\">0.0015</span>, intQ: <span style=\"color: #008080; text-decoration-color: #008080; font-weight: bold\">0.0213</span>, plaqs: <span style=\"color: #008080; text-decoration-color: #008080; font-weight: bold\">0.0062</span>    \n",
       "</pre>\n"
      ],
      "text/plain": [
       "\u001b[2;36m[22:59:14]\u001b[0m\u001b[2;36m \u001b[0m\u001b[1;36m340\u001b[0m \u001b[35m/\u001b[0m \u001b[1;36m1000\u001b[0m, energy: \u001b[1;36m-85.4100\u001b[0m, logprob: \u001b[1;36m-85.4100\u001b[0m, logdet: \u001b[1;36m0.0000\u001b[0m, acc: \u001b[1;36m0.8644\u001b[0m,     \n",
       "\u001b[2;36m           \u001b[0msumlogdet: \u001b[1;36m0.0000\u001b[0m, acc_mask: \u001b[1;36m0.8000\u001b[0m, sinQ: \u001b[1;36m0.0015\u001b[0m, intQ: \u001b[1;36m0.0213\u001b[0m, plaqs: \u001b[1;36m0.0062\u001b[0m    \n"
      ]
     },
     "metadata": {},
     "output_type": "display_data"
    },
    {
     "data": {
      "text/html": [
       "<pre style=\"white-space:pre;overflow-x:auto;line-height:normal;font-family:Menlo,'DejaVu Sans Mono',consolas,'Courier New',monospace\"><span style=\"color: #7fbfbf; text-decoration-color: #7fbfbf\">[22:59:22] </span><span style=\"color: #008080; text-decoration-color: #008080; font-weight: bold\">360</span> <span style=\"color: #800080; text-decoration-color: #800080\">/</span> <span style=\"color: #008080; text-decoration-color: #008080; font-weight: bold\">1000</span>, energy: <span style=\"color: #008080; text-decoration-color: #008080; font-weight: bold\">-75.7516</span>, logprob: <span style=\"color: #008080; text-decoration-color: #008080; font-weight: bold\">-75.7516</span>, logdet: <span style=\"color: #008080; text-decoration-color: #008080; font-weight: bold\">0.0000</span>, acc: <span style=\"color: #008080; text-decoration-color: #008080; font-weight: bold\">0.5730</span>,     \n",
       "<span style=\"color: #7fbfbf; text-decoration-color: #7fbfbf\">           </span>sumlogdet: <span style=\"color: #008080; text-decoration-color: #008080; font-weight: bold\">0.0000</span>, acc_mask: <span style=\"color: #008080; text-decoration-color: #008080; font-weight: bold\">0.6000</span>, sinQ: <span style=\"color: #008080; text-decoration-color: #008080; font-weight: bold\">0.0015</span>, intQ: <span style=\"color: #008080; text-decoration-color: #008080; font-weight: bold\">0.0214</span>, plaqs: <span style=\"color: #008080; text-decoration-color: #008080; font-weight: bold\">0.0063</span>    \n",
       "</pre>\n"
      ],
      "text/plain": [
       "\u001b[2;36m[22:59:22]\u001b[0m\u001b[2;36m \u001b[0m\u001b[1;36m360\u001b[0m \u001b[35m/\u001b[0m \u001b[1;36m1000\u001b[0m, energy: \u001b[1;36m-75.7516\u001b[0m, logprob: \u001b[1;36m-75.7516\u001b[0m, logdet: \u001b[1;36m0.0000\u001b[0m, acc: \u001b[1;36m0.5730\u001b[0m,     \n",
       "\u001b[2;36m           \u001b[0msumlogdet: \u001b[1;36m0.0000\u001b[0m, acc_mask: \u001b[1;36m0.6000\u001b[0m, sinQ: \u001b[1;36m0.0015\u001b[0m, intQ: \u001b[1;36m0.0214\u001b[0m, plaqs: \u001b[1;36m0.0063\u001b[0m    \n"
      ]
     },
     "metadata": {},
     "output_type": "display_data"
    },
    {
     "data": {
      "text/html": [
       "<pre style=\"white-space:pre;overflow-x:auto;line-height:normal;font-family:Menlo,'DejaVu Sans Mono',consolas,'Courier New',monospace\"><span style=\"color: #7fbfbf; text-decoration-color: #7fbfbf\">[22:59:31] </span><span style=\"color: #008080; text-decoration-color: #008080; font-weight: bold\">380</span> <span style=\"color: #800080; text-decoration-color: #800080\">/</span> <span style=\"color: #008080; text-decoration-color: #008080; font-weight: bold\">1000</span>, energy: <span style=\"color: #008080; text-decoration-color: #008080; font-weight: bold\">-73.7986</span>, logprob: <span style=\"color: #008080; text-decoration-color: #008080; font-weight: bold\">-73.7986</span>, logdet: <span style=\"color: #008080; text-decoration-color: #008080; font-weight: bold\">0.0000</span>, acc: <span style=\"color: #008080; text-decoration-color: #008080; font-weight: bold\">0.9314</span>,     \n",
       "<span style=\"color: #7fbfbf; text-decoration-color: #7fbfbf\">           </span>sumlogdet: <span style=\"color: #008080; text-decoration-color: #008080; font-weight: bold\">0.0000</span>, acc_mask: <span style=\"color: #008080; text-decoration-color: #008080; font-weight: bold\">1.0000</span>, sinQ: <span style=\"color: #008080; text-decoration-color: #008080; font-weight: bold\">0.0013</span>, intQ: <span style=\"color: #008080; text-decoration-color: #008080; font-weight: bold\">0.0195</span>, plaqs: <span style=\"color: #008080; text-decoration-color: #008080; font-weight: bold\">0.0064</span>    \n",
       "</pre>\n"
      ],
      "text/plain": [
       "\u001b[2;36m[22:59:31]\u001b[0m\u001b[2;36m \u001b[0m\u001b[1;36m380\u001b[0m \u001b[35m/\u001b[0m \u001b[1;36m1000\u001b[0m, energy: \u001b[1;36m-73.7986\u001b[0m, logprob: \u001b[1;36m-73.7986\u001b[0m, logdet: \u001b[1;36m0.0000\u001b[0m, acc: \u001b[1;36m0.9314\u001b[0m,     \n",
       "\u001b[2;36m           \u001b[0msumlogdet: \u001b[1;36m0.0000\u001b[0m, acc_mask: \u001b[1;36m1.0000\u001b[0m, sinQ: \u001b[1;36m0.0013\u001b[0m, intQ: \u001b[1;36m0.0195\u001b[0m, plaqs: \u001b[1;36m0.0064\u001b[0m    \n"
      ]
     },
     "metadata": {},
     "output_type": "display_data"
    },
    {
     "data": {
      "text/html": [
       "<pre style=\"white-space:pre;overflow-x:auto;line-height:normal;font-family:Menlo,'DejaVu Sans Mono',consolas,'Courier New',monospace\"><span style=\"color: #7fbfbf; text-decoration-color: #7fbfbf\">[22:59:39] </span><span style=\"color: #008080; text-decoration-color: #008080; font-weight: bold\">400</span> <span style=\"color: #800080; text-decoration-color: #800080\">/</span> <span style=\"color: #008080; text-decoration-color: #008080; font-weight: bold\">1000</span>, energy: <span style=\"color: #008080; text-decoration-color: #008080; font-weight: bold\">-48.3751</span>, logprob: <span style=\"color: #008080; text-decoration-color: #008080; font-weight: bold\">-48.3751</span>, logdet: <span style=\"color: #008080; text-decoration-color: #008080; font-weight: bold\">0.0000</span>, acc: <span style=\"color: #008080; text-decoration-color: #008080; font-weight: bold\">0.7595</span>,     \n",
       "<span style=\"color: #7fbfbf; text-decoration-color: #7fbfbf\">           </span>sumlogdet: <span style=\"color: #008080; text-decoration-color: #008080; font-weight: bold\">0.0000</span>, acc_mask: <span style=\"color: #008080; text-decoration-color: #008080; font-weight: bold\">0.8000</span>, sinQ: <span style=\"color: #008080; text-decoration-color: #008080; font-weight: bold\">0.0013</span>, intQ: <span style=\"color: #008080; text-decoration-color: #008080; font-weight: bold\">0.0188</span>, plaqs: <span style=\"color: #008080; text-decoration-color: #008080; font-weight: bold\">0.0063</span>    \n",
       "</pre>\n"
      ],
      "text/plain": [
       "\u001b[2;36m[22:59:39]\u001b[0m\u001b[2;36m \u001b[0m\u001b[1;36m400\u001b[0m \u001b[35m/\u001b[0m \u001b[1;36m1000\u001b[0m, energy: \u001b[1;36m-48.3751\u001b[0m, logprob: \u001b[1;36m-48.3751\u001b[0m, logdet: \u001b[1;36m0.0000\u001b[0m, acc: \u001b[1;36m0.7595\u001b[0m,     \n",
       "\u001b[2;36m           \u001b[0msumlogdet: \u001b[1;36m0.0000\u001b[0m, acc_mask: \u001b[1;36m0.8000\u001b[0m, sinQ: \u001b[1;36m0.0013\u001b[0m, intQ: \u001b[1;36m0.0188\u001b[0m, plaqs: \u001b[1;36m0.0063\u001b[0m    \n"
      ]
     },
     "metadata": {},
     "output_type": "display_data"
    },
    {
     "data": {
      "text/html": [
       "<pre style=\"white-space:pre;overflow-x:auto;line-height:normal;font-family:Menlo,'DejaVu Sans Mono',consolas,'Courier New',monospace\"><span style=\"color: #7fbfbf; text-decoration-color: #7fbfbf\">[22:59:47] </span><span style=\"color: #008080; text-decoration-color: #008080; font-weight: bold\">420</span> <span style=\"color: #800080; text-decoration-color: #800080\">/</span> <span style=\"color: #008080; text-decoration-color: #008080; font-weight: bold\">1000</span>, energy: <span style=\"color: #008080; text-decoration-color: #008080; font-weight: bold\">-129.6327</span>, logprob: <span style=\"color: #008080; text-decoration-color: #008080; font-weight: bold\">-129.6327</span>, logdet: <span style=\"color: #008080; text-decoration-color: #008080; font-weight: bold\">0.0000</span>, acc: <span style=\"color: #008080; text-decoration-color: #008080; font-weight: bold\">0.8988</span>,   \n",
       "<span style=\"color: #7fbfbf; text-decoration-color: #7fbfbf\">           </span>sumlogdet: <span style=\"color: #008080; text-decoration-color: #008080; font-weight: bold\">0.0000</span>, acc_mask: <span style=\"color: #008080; text-decoration-color: #008080; font-weight: bold\">1.0000</span>, sinQ: <span style=\"color: #008080; text-decoration-color: #008080; font-weight: bold\">0.0014</span>, intQ: <span style=\"color: #008080; text-decoration-color: #008080; font-weight: bold\">0.0201</span>, plaqs: <span style=\"color: #008080; text-decoration-color: #008080; font-weight: bold\">0.0064</span>    \n",
       "</pre>\n"
      ],
      "text/plain": [
       "\u001b[2;36m[22:59:47]\u001b[0m\u001b[2;36m \u001b[0m\u001b[1;36m420\u001b[0m \u001b[35m/\u001b[0m \u001b[1;36m1000\u001b[0m, energy: \u001b[1;36m-129.6327\u001b[0m, logprob: \u001b[1;36m-129.6327\u001b[0m, logdet: \u001b[1;36m0.0000\u001b[0m, acc: \u001b[1;36m0.8988\u001b[0m,   \n",
       "\u001b[2;36m           \u001b[0msumlogdet: \u001b[1;36m0.0000\u001b[0m, acc_mask: \u001b[1;36m1.0000\u001b[0m, sinQ: \u001b[1;36m0.0014\u001b[0m, intQ: \u001b[1;36m0.0201\u001b[0m, plaqs: \u001b[1;36m0.0064\u001b[0m    \n"
      ]
     },
     "metadata": {},
     "output_type": "display_data"
    },
    {
     "data": {
      "text/html": [
       "<pre style=\"white-space:pre;overflow-x:auto;line-height:normal;font-family:Menlo,'DejaVu Sans Mono',consolas,'Courier New',monospace\"><span style=\"color: #7fbfbf; text-decoration-color: #7fbfbf\">[22:59:55] </span><span style=\"color: #008080; text-decoration-color: #008080; font-weight: bold\">440</span> <span style=\"color: #800080; text-decoration-color: #800080\">/</span> <span style=\"color: #008080; text-decoration-color: #008080; font-weight: bold\">1000</span>, energy: <span style=\"color: #008080; text-decoration-color: #008080; font-weight: bold\">-15.5410</span>, logprob: <span style=\"color: #008080; text-decoration-color: #008080; font-weight: bold\">-15.5410</span>, logdet: <span style=\"color: #008080; text-decoration-color: #008080; font-weight: bold\">0.0000</span>, acc: <span style=\"color: #008080; text-decoration-color: #008080; font-weight: bold\">0.6750</span>,     \n",
       "<span style=\"color: #7fbfbf; text-decoration-color: #7fbfbf\">           </span>sumlogdet: <span style=\"color: #008080; text-decoration-color: #008080; font-weight: bold\">0.0000</span>, acc_mask: <span style=\"color: #008080; text-decoration-color: #008080; font-weight: bold\">1.0000</span>, sinQ: <span style=\"color: #008080; text-decoration-color: #008080; font-weight: bold\">0.0013</span>, intQ: <span style=\"color: #008080; text-decoration-color: #008080; font-weight: bold\">0.0193</span>, plaqs: <span style=\"color: #008080; text-decoration-color: #008080; font-weight: bold\">0.0064</span>    \n",
       "</pre>\n"
      ],
      "text/plain": [
       "\u001b[2;36m[22:59:55]\u001b[0m\u001b[2;36m \u001b[0m\u001b[1;36m440\u001b[0m \u001b[35m/\u001b[0m \u001b[1;36m1000\u001b[0m, energy: \u001b[1;36m-15.5410\u001b[0m, logprob: \u001b[1;36m-15.5410\u001b[0m, logdet: \u001b[1;36m0.0000\u001b[0m, acc: \u001b[1;36m0.6750\u001b[0m,     \n",
       "\u001b[2;36m           \u001b[0msumlogdet: \u001b[1;36m0.0000\u001b[0m, acc_mask: \u001b[1;36m1.0000\u001b[0m, sinQ: \u001b[1;36m0.0013\u001b[0m, intQ: \u001b[1;36m0.0193\u001b[0m, plaqs: \u001b[1;36m0.0064\u001b[0m    \n"
      ]
     },
     "metadata": {},
     "output_type": "display_data"
    },
    {
     "data": {
      "text/html": [
       "<pre style=\"white-space:pre;overflow-x:auto;line-height:normal;font-family:Menlo,'DejaVu Sans Mono',consolas,'Courier New',monospace\"><span style=\"color: #7fbfbf; text-decoration-color: #7fbfbf\">[23:00:03] </span><span style=\"color: #008080; text-decoration-color: #008080; font-weight: bold\">460</span> <span style=\"color: #800080; text-decoration-color: #800080\">/</span> <span style=\"color: #008080; text-decoration-color: #008080; font-weight: bold\">1000</span>, energy: <span style=\"color: #008080; text-decoration-color: #008080; font-weight: bold\">-91.4586</span>, logprob: <span style=\"color: #008080; text-decoration-color: #008080; font-weight: bold\">-91.4586</span>, logdet: <span style=\"color: #008080; text-decoration-color: #008080; font-weight: bold\">0.0000</span>, acc: <span style=\"color: #008080; text-decoration-color: #008080; font-weight: bold\">0.7481</span>,     \n",
       "<span style=\"color: #7fbfbf; text-decoration-color: #7fbfbf\">           </span>sumlogdet: <span style=\"color: #008080; text-decoration-color: #008080; font-weight: bold\">0.0000</span>, acc_mask: <span style=\"color: #008080; text-decoration-color: #008080; font-weight: bold\">0.8000</span>, sinQ: <span style=\"color: #008080; text-decoration-color: #008080; font-weight: bold\">0.0013</span>, intQ: <span style=\"color: #008080; text-decoration-color: #008080; font-weight: bold\">0.0191</span>, plaqs: <span style=\"color: #008080; text-decoration-color: #008080; font-weight: bold\">0.0065</span>    \n",
       "</pre>\n"
      ],
      "text/plain": [
       "\u001b[2;36m[23:00:03]\u001b[0m\u001b[2;36m \u001b[0m\u001b[1;36m460\u001b[0m \u001b[35m/\u001b[0m \u001b[1;36m1000\u001b[0m, energy: \u001b[1;36m-91.4586\u001b[0m, logprob: \u001b[1;36m-91.4586\u001b[0m, logdet: \u001b[1;36m0.0000\u001b[0m, acc: \u001b[1;36m0.7481\u001b[0m,     \n",
       "\u001b[2;36m           \u001b[0msumlogdet: \u001b[1;36m0.0000\u001b[0m, acc_mask: \u001b[1;36m0.8000\u001b[0m, sinQ: \u001b[1;36m0.0013\u001b[0m, intQ: \u001b[1;36m0.0191\u001b[0m, plaqs: \u001b[1;36m0.0065\u001b[0m    \n"
      ]
     },
     "metadata": {},
     "output_type": "display_data"
    },
    {
     "data": {
      "text/html": [
       "<pre style=\"white-space:pre;overflow-x:auto;line-height:normal;font-family:Menlo,'DejaVu Sans Mono',consolas,'Courier New',monospace\"><span style=\"color: #7fbfbf; text-decoration-color: #7fbfbf\">[23:00:11] </span><span style=\"color: #008080; text-decoration-color: #008080; font-weight: bold\">480</span> <span style=\"color: #800080; text-decoration-color: #800080\">/</span> <span style=\"color: #008080; text-decoration-color: #008080; font-weight: bold\">1000</span>, energy: <span style=\"color: #008080; text-decoration-color: #008080; font-weight: bold\">-98.3012</span>, logprob: <span style=\"color: #008080; text-decoration-color: #008080; font-weight: bold\">-98.3012</span>, logdet: <span style=\"color: #008080; text-decoration-color: #008080; font-weight: bold\">0.0000</span>, acc: <span style=\"color: #008080; text-decoration-color: #008080; font-weight: bold\">0.8527</span>,     \n",
       "<span style=\"color: #7fbfbf; text-decoration-color: #7fbfbf\">           </span>sumlogdet: <span style=\"color: #008080; text-decoration-color: #008080; font-weight: bold\">0.0000</span>, acc_mask: <span style=\"color: #008080; text-decoration-color: #008080; font-weight: bold\">0.8000</span>, sinQ: <span style=\"color: #008080; text-decoration-color: #008080; font-weight: bold\">0.0012</span>, intQ: <span style=\"color: #008080; text-decoration-color: #008080; font-weight: bold\">0.0169</span>, plaqs: <span style=\"color: #008080; text-decoration-color: #008080; font-weight: bold\">0.0066</span>    \n",
       "</pre>\n"
      ],
      "text/plain": [
       "\u001b[2;36m[23:00:11]\u001b[0m\u001b[2;36m \u001b[0m\u001b[1;36m480\u001b[0m \u001b[35m/\u001b[0m \u001b[1;36m1000\u001b[0m, energy: \u001b[1;36m-98.3012\u001b[0m, logprob: \u001b[1;36m-98.3012\u001b[0m, logdet: \u001b[1;36m0.0000\u001b[0m, acc: \u001b[1;36m0.8527\u001b[0m,     \n",
       "\u001b[2;36m           \u001b[0msumlogdet: \u001b[1;36m0.0000\u001b[0m, acc_mask: \u001b[1;36m0.8000\u001b[0m, sinQ: \u001b[1;36m0.0012\u001b[0m, intQ: \u001b[1;36m0.0169\u001b[0m, plaqs: \u001b[1;36m0.0066\u001b[0m    \n"
      ]
     },
     "metadata": {},
     "output_type": "display_data"
    },
    {
     "data": {
      "text/html": [
       "<pre style=\"white-space:pre;overflow-x:auto;line-height:normal;font-family:Menlo,'DejaVu Sans Mono',consolas,'Courier New',monospace\"><span style=\"color: #7fbfbf; text-decoration-color: #7fbfbf\">[23:00:20] </span><span style=\"color: #008080; text-decoration-color: #008080; font-weight: bold\">500</span> <span style=\"color: #800080; text-decoration-color: #800080\">/</span> <span style=\"color: #008080; text-decoration-color: #008080; font-weight: bold\">1000</span>, energy: <span style=\"color: #008080; text-decoration-color: #008080; font-weight: bold\">-25.3765</span>, logprob: <span style=\"color: #008080; text-decoration-color: #008080; font-weight: bold\">-25.3765</span>, logdet: <span style=\"color: #008080; text-decoration-color: #008080; font-weight: bold\">0.0000</span>, acc: <span style=\"color: #008080; text-decoration-color: #008080; font-weight: bold\">0.7802</span>,     \n",
       "<span style=\"color: #7fbfbf; text-decoration-color: #7fbfbf\">           </span>sumlogdet: <span style=\"color: #008080; text-decoration-color: #008080; font-weight: bold\">0.0000</span>, acc_mask: <span style=\"color: #008080; text-decoration-color: #008080; font-weight: bold\">1.0000</span>, sinQ: <span style=\"color: #008080; text-decoration-color: #008080; font-weight: bold\">0.0011</span>, intQ: <span style=\"color: #008080; text-decoration-color: #008080; font-weight: bold\">0.0161</span>, plaqs: <span style=\"color: #008080; text-decoration-color: #008080; font-weight: bold\">0.0066</span>    \n",
       "</pre>\n"
      ],
      "text/plain": [
       "\u001b[2;36m[23:00:20]\u001b[0m\u001b[2;36m \u001b[0m\u001b[1;36m500\u001b[0m \u001b[35m/\u001b[0m \u001b[1;36m1000\u001b[0m, energy: \u001b[1;36m-25.3765\u001b[0m, logprob: \u001b[1;36m-25.3765\u001b[0m, logdet: \u001b[1;36m0.0000\u001b[0m, acc: \u001b[1;36m0.7802\u001b[0m,     \n",
       "\u001b[2;36m           \u001b[0msumlogdet: \u001b[1;36m0.0000\u001b[0m, acc_mask: \u001b[1;36m1.0000\u001b[0m, sinQ: \u001b[1;36m0.0011\u001b[0m, intQ: \u001b[1;36m0.0161\u001b[0m, plaqs: \u001b[1;36m0.0066\u001b[0m    \n"
      ]
     },
     "metadata": {},
     "output_type": "display_data"
    },
    {
     "data": {
      "text/html": [
       "<pre style=\"white-space:pre;overflow-x:auto;line-height:normal;font-family:Menlo,'DejaVu Sans Mono',consolas,'Courier New',monospace\"><span style=\"color: #7fbfbf; text-decoration-color: #7fbfbf\">[23:00:29] </span><span style=\"color: #008080; text-decoration-color: #008080; font-weight: bold\">520</span> <span style=\"color: #800080; text-decoration-color: #800080\">/</span> <span style=\"color: #008080; text-decoration-color: #008080; font-weight: bold\">1000</span>, energy: <span style=\"color: #008080; text-decoration-color: #008080; font-weight: bold\">-112.5949</span>, logprob: <span style=\"color: #008080; text-decoration-color: #008080; font-weight: bold\">-112.5949</span>, logdet: <span style=\"color: #008080; text-decoration-color: #008080; font-weight: bold\">0.0000</span>, acc: <span style=\"color: #008080; text-decoration-color: #008080; font-weight: bold\">0.7400</span>,   \n",
       "<span style=\"color: #7fbfbf; text-decoration-color: #7fbfbf\">           </span>sumlogdet: <span style=\"color: #008080; text-decoration-color: #008080; font-weight: bold\">0.0000</span>, acc_mask: <span style=\"color: #008080; text-decoration-color: #008080; font-weight: bold\">0.8000</span>, sinQ: <span style=\"color: #008080; text-decoration-color: #008080; font-weight: bold\">0.0012</span>, intQ: <span style=\"color: #008080; text-decoration-color: #008080; font-weight: bold\">0.0171</span>, plaqs: <span style=\"color: #008080; text-decoration-color: #008080; font-weight: bold\">0.0067</span>    \n",
       "</pre>\n"
      ],
      "text/plain": [
       "\u001b[2;36m[23:00:29]\u001b[0m\u001b[2;36m \u001b[0m\u001b[1;36m520\u001b[0m \u001b[35m/\u001b[0m \u001b[1;36m1000\u001b[0m, energy: \u001b[1;36m-112.5949\u001b[0m, logprob: \u001b[1;36m-112.5949\u001b[0m, logdet: \u001b[1;36m0.0000\u001b[0m, acc: \u001b[1;36m0.7400\u001b[0m,   \n",
       "\u001b[2;36m           \u001b[0msumlogdet: \u001b[1;36m0.0000\u001b[0m, acc_mask: \u001b[1;36m0.8000\u001b[0m, sinQ: \u001b[1;36m0.0012\u001b[0m, intQ: \u001b[1;36m0.0171\u001b[0m, plaqs: \u001b[1;36m0.0067\u001b[0m    \n"
      ]
     },
     "metadata": {},
     "output_type": "display_data"
    },
    {
     "data": {
      "text/html": [
       "<pre style=\"white-space:pre;overflow-x:auto;line-height:normal;font-family:Menlo,'DejaVu Sans Mono',consolas,'Courier New',monospace\"><span style=\"color: #7fbfbf; text-decoration-color: #7fbfbf\">[23:00:37] </span><span style=\"color: #008080; text-decoration-color: #008080; font-weight: bold\">540</span> <span style=\"color: #800080; text-decoration-color: #800080\">/</span> <span style=\"color: #008080; text-decoration-color: #008080; font-weight: bold\">1000</span>, energy: <span style=\"color: #008080; text-decoration-color: #008080; font-weight: bold\">-72.2139</span>, logprob: <span style=\"color: #008080; text-decoration-color: #008080; font-weight: bold\">-72.2139</span>, logdet: <span style=\"color: #008080; text-decoration-color: #008080; font-weight: bold\">0.0000</span>, acc: <span style=\"color: #008080; text-decoration-color: #008080; font-weight: bold\">0.9939</span>,     \n",
       "<span style=\"color: #7fbfbf; text-decoration-color: #7fbfbf\">           </span>sumlogdet: <span style=\"color: #008080; text-decoration-color: #008080; font-weight: bold\">0.0000</span>, acc_mask: <span style=\"color: #008080; text-decoration-color: #008080; font-weight: bold\">1.0000</span>, sinQ: <span style=\"color: #008080; text-decoration-color: #008080; font-weight: bold\">0.0011</span>, intQ: <span style=\"color: #008080; text-decoration-color: #008080; font-weight: bold\">0.0165</span>, plaqs: <span style=\"color: #008080; text-decoration-color: #008080; font-weight: bold\">0.0067</span>    \n",
       "</pre>\n"
      ],
      "text/plain": [
       "\u001b[2;36m[23:00:37]\u001b[0m\u001b[2;36m \u001b[0m\u001b[1;36m540\u001b[0m \u001b[35m/\u001b[0m \u001b[1;36m1000\u001b[0m, energy: \u001b[1;36m-72.2139\u001b[0m, logprob: \u001b[1;36m-72.2139\u001b[0m, logdet: \u001b[1;36m0.0000\u001b[0m, acc: \u001b[1;36m0.9939\u001b[0m,     \n",
       "\u001b[2;36m           \u001b[0msumlogdet: \u001b[1;36m0.0000\u001b[0m, acc_mask: \u001b[1;36m1.0000\u001b[0m, sinQ: \u001b[1;36m0.0011\u001b[0m, intQ: \u001b[1;36m0.0165\u001b[0m, plaqs: \u001b[1;36m0.0067\u001b[0m    \n"
      ]
     },
     "metadata": {},
     "output_type": "display_data"
    },
    {
     "data": {
      "text/html": [
       "<pre style=\"white-space:pre;overflow-x:auto;line-height:normal;font-family:Menlo,'DejaVu Sans Mono',consolas,'Courier New',monospace\"><span style=\"color: #7fbfbf; text-decoration-color: #7fbfbf\">[23:00:45] </span><span style=\"color: #008080; text-decoration-color: #008080; font-weight: bold\">560</span> <span style=\"color: #800080; text-decoration-color: #800080\">/</span> <span style=\"color: #008080; text-decoration-color: #008080; font-weight: bold\">1000</span>, energy: <span style=\"color: #008080; text-decoration-color: #008080; font-weight: bold\">-26.0216</span>, logprob: <span style=\"color: #008080; text-decoration-color: #008080; font-weight: bold\">-26.0216</span>, logdet: <span style=\"color: #008080; text-decoration-color: #008080; font-weight: bold\">0.0000</span>, acc: <span style=\"color: #008080; text-decoration-color: #008080; font-weight: bold\">0.7801</span>,     \n",
       "<span style=\"color: #7fbfbf; text-decoration-color: #7fbfbf\">           </span>sumlogdet: <span style=\"color: #008080; text-decoration-color: #008080; font-weight: bold\">0.0000</span>, acc_mask: <span style=\"color: #008080; text-decoration-color: #008080; font-weight: bold\">0.8000</span>, sinQ: <span style=\"color: #008080; text-decoration-color: #008080; font-weight: bold\">0.0011</span>, intQ: <span style=\"color: #008080; text-decoration-color: #008080; font-weight: bold\">0.0160</span>, plaqs: <span style=\"color: #008080; text-decoration-color: #008080; font-weight: bold\">0.0068</span>    \n",
       "</pre>\n"
      ],
      "text/plain": [
       "\u001b[2;36m[23:00:45]\u001b[0m\u001b[2;36m \u001b[0m\u001b[1;36m560\u001b[0m \u001b[35m/\u001b[0m \u001b[1;36m1000\u001b[0m, energy: \u001b[1;36m-26.0216\u001b[0m, logprob: \u001b[1;36m-26.0216\u001b[0m, logdet: \u001b[1;36m0.0000\u001b[0m, acc: \u001b[1;36m0.7801\u001b[0m,     \n",
       "\u001b[2;36m           \u001b[0msumlogdet: \u001b[1;36m0.0000\u001b[0m, acc_mask: \u001b[1;36m0.8000\u001b[0m, sinQ: \u001b[1;36m0.0011\u001b[0m, intQ: \u001b[1;36m0.0160\u001b[0m, plaqs: \u001b[1;36m0.0068\u001b[0m    \n"
      ]
     },
     "metadata": {},
     "output_type": "display_data"
    },
    {
     "data": {
      "text/html": [
       "<pre style=\"white-space:pre;overflow-x:auto;line-height:normal;font-family:Menlo,'DejaVu Sans Mono',consolas,'Courier New',monospace\"><span style=\"color: #7fbfbf; text-decoration-color: #7fbfbf\">[23:00:53] </span><span style=\"color: #008080; text-decoration-color: #008080; font-weight: bold\">580</span> <span style=\"color: #800080; text-decoration-color: #800080\">/</span> <span style=\"color: #008080; text-decoration-color: #008080; font-weight: bold\">1000</span>, energy: <span style=\"color: #008080; text-decoration-color: #008080; font-weight: bold\">-46.7803</span>, logprob: <span style=\"color: #008080; text-decoration-color: #008080; font-weight: bold\">-46.7803</span>, logdet: <span style=\"color: #008080; text-decoration-color: #008080; font-weight: bold\">0.0000</span>, acc: <span style=\"color: #008080; text-decoration-color: #008080; font-weight: bold\">0.8295</span>,     \n",
       "<span style=\"color: #7fbfbf; text-decoration-color: #7fbfbf\">           </span>sumlogdet: <span style=\"color: #008080; text-decoration-color: #008080; font-weight: bold\">0.0000</span>, acc_mask: <span style=\"color: #008080; text-decoration-color: #008080; font-weight: bold\">0.6000</span>, sinQ: <span style=\"color: #008080; text-decoration-color: #008080; font-weight: bold\">0.0011</span>, intQ: <span style=\"color: #008080; text-decoration-color: #008080; font-weight: bold\">0.0158</span>, plaqs: <span style=\"color: #008080; text-decoration-color: #008080; font-weight: bold\">0.0068</span>    \n",
       "</pre>\n"
      ],
      "text/plain": [
       "\u001b[2;36m[23:00:53]\u001b[0m\u001b[2;36m \u001b[0m\u001b[1;36m580\u001b[0m \u001b[35m/\u001b[0m \u001b[1;36m1000\u001b[0m, energy: \u001b[1;36m-46.7803\u001b[0m, logprob: \u001b[1;36m-46.7803\u001b[0m, logdet: \u001b[1;36m0.0000\u001b[0m, acc: \u001b[1;36m0.8295\u001b[0m,     \n",
       "\u001b[2;36m           \u001b[0msumlogdet: \u001b[1;36m0.0000\u001b[0m, acc_mask: \u001b[1;36m0.6000\u001b[0m, sinQ: \u001b[1;36m0.0011\u001b[0m, intQ: \u001b[1;36m0.0158\u001b[0m, plaqs: \u001b[1;36m0.0068\u001b[0m    \n"
      ]
     },
     "metadata": {},
     "output_type": "display_data"
    },
    {
     "data": {
      "text/html": [
       "<pre style=\"white-space:pre;overflow-x:auto;line-height:normal;font-family:Menlo,'DejaVu Sans Mono',consolas,'Courier New',monospace\"><span style=\"color: #7fbfbf; text-decoration-color: #7fbfbf\">[23:01:01] </span><span style=\"color: #008080; text-decoration-color: #008080; font-weight: bold\">600</span> <span style=\"color: #800080; text-decoration-color: #800080\">/</span> <span style=\"color: #008080; text-decoration-color: #008080; font-weight: bold\">1000</span>, energy: <span style=\"color: #008080; text-decoration-color: #008080; font-weight: bold\">-75.8069</span>, logprob: <span style=\"color: #008080; text-decoration-color: #008080; font-weight: bold\">-75.8069</span>, logdet: <span style=\"color: #008080; text-decoration-color: #008080; font-weight: bold\">0.0000</span>, acc: <span style=\"color: #008080; text-decoration-color: #008080; font-weight: bold\">0.8645</span>,     \n",
       "<span style=\"color: #7fbfbf; text-decoration-color: #7fbfbf\">           </span>sumlogdet: <span style=\"color: #008080; text-decoration-color: #008080; font-weight: bold\">0.0000</span>, acc_mask: <span style=\"color: #008080; text-decoration-color: #008080; font-weight: bold\">0.8000</span>, sinQ: <span style=\"color: #008080; text-decoration-color: #008080; font-weight: bold\">0.0010</span>, intQ: <span style=\"color: #008080; text-decoration-color: #008080; font-weight: bold\">0.0145</span>, plaqs: <span style=\"color: #008080; text-decoration-color: #008080; font-weight: bold\">0.0069</span>    \n",
       "</pre>\n"
      ],
      "text/plain": [
       "\u001b[2;36m[23:01:01]\u001b[0m\u001b[2;36m \u001b[0m\u001b[1;36m600\u001b[0m \u001b[35m/\u001b[0m \u001b[1;36m1000\u001b[0m, energy: \u001b[1;36m-75.8069\u001b[0m, logprob: \u001b[1;36m-75.8069\u001b[0m, logdet: \u001b[1;36m0.0000\u001b[0m, acc: \u001b[1;36m0.8645\u001b[0m,     \n",
       "\u001b[2;36m           \u001b[0msumlogdet: \u001b[1;36m0.0000\u001b[0m, acc_mask: \u001b[1;36m0.8000\u001b[0m, sinQ: \u001b[1;36m0.0010\u001b[0m, intQ: \u001b[1;36m0.0145\u001b[0m, plaqs: \u001b[1;36m0.0069\u001b[0m    \n"
      ]
     },
     "metadata": {},
     "output_type": "display_data"
    },
    {
     "data": {
      "text/html": [
       "<pre style=\"white-space:pre;overflow-x:auto;line-height:normal;font-family:Menlo,'DejaVu Sans Mono',consolas,'Courier New',monospace\"><span style=\"color: #7fbfbf; text-decoration-color: #7fbfbf\">[23:01:08] </span><span style=\"color: #008080; text-decoration-color: #008080; font-weight: bold\">620</span> <span style=\"color: #800080; text-decoration-color: #800080\">/</span> <span style=\"color: #008080; text-decoration-color: #008080; font-weight: bold\">1000</span>, energy: <span style=\"color: #008080; text-decoration-color: #008080; font-weight: bold\">-43.9310</span>, logprob: <span style=\"color: #008080; text-decoration-color: #008080; font-weight: bold\">-43.9310</span>, logdet: <span style=\"color: #008080; text-decoration-color: #008080; font-weight: bold\">0.0000</span>, acc: <span style=\"color: #008080; text-decoration-color: #008080; font-weight: bold\">0.9431</span>,     \n",
       "<span style=\"color: #7fbfbf; text-decoration-color: #7fbfbf\">           </span>sumlogdet: <span style=\"color: #008080; text-decoration-color: #008080; font-weight: bold\">0.0000</span>, acc_mask: <span style=\"color: #008080; text-decoration-color: #008080; font-weight: bold\">1.0000</span>, sinQ: <span style=\"color: #008080; text-decoration-color: #008080; font-weight: bold\">0.0009</span>, intQ: <span style=\"color: #008080; text-decoration-color: #008080; font-weight: bold\">0.0133</span>, plaqs: <span style=\"color: #008080; text-decoration-color: #008080; font-weight: bold\">0.0070</span>    \n",
       "</pre>\n"
      ],
      "text/plain": [
       "\u001b[2;36m[23:01:08]\u001b[0m\u001b[2;36m \u001b[0m\u001b[1;36m620\u001b[0m \u001b[35m/\u001b[0m \u001b[1;36m1000\u001b[0m, energy: \u001b[1;36m-43.9310\u001b[0m, logprob: \u001b[1;36m-43.9310\u001b[0m, logdet: \u001b[1;36m0.0000\u001b[0m, acc: \u001b[1;36m0.9431\u001b[0m,     \n",
       "\u001b[2;36m           \u001b[0msumlogdet: \u001b[1;36m0.0000\u001b[0m, acc_mask: \u001b[1;36m1.0000\u001b[0m, sinQ: \u001b[1;36m0.0009\u001b[0m, intQ: \u001b[1;36m0.0133\u001b[0m, plaqs: \u001b[1;36m0.0070\u001b[0m    \n"
      ]
     },
     "metadata": {},
     "output_type": "display_data"
    },
    {
     "data": {
      "text/html": [
       "<pre style=\"white-space:pre;overflow-x:auto;line-height:normal;font-family:Menlo,'DejaVu Sans Mono',consolas,'Courier New',monospace\"><span style=\"color: #7fbfbf; text-decoration-color: #7fbfbf\">[23:01:16] </span><span style=\"color: #008080; text-decoration-color: #008080; font-weight: bold\">640</span> <span style=\"color: #800080; text-decoration-color: #800080\">/</span> <span style=\"color: #008080; text-decoration-color: #008080; font-weight: bold\">1000</span>, energy: <span style=\"color: #008080; text-decoration-color: #008080; font-weight: bold\">-84.6159</span>, logprob: <span style=\"color: #008080; text-decoration-color: #008080; font-weight: bold\">-84.6159</span>, logdet: <span style=\"color: #008080; text-decoration-color: #008080; font-weight: bold\">0.0000</span>, acc: <span style=\"color: #008080; text-decoration-color: #008080; font-weight: bold\">0.7657</span>,     \n",
       "<span style=\"color: #7fbfbf; text-decoration-color: #7fbfbf\">           </span>sumlogdet: <span style=\"color: #008080; text-decoration-color: #008080; font-weight: bold\">0.0000</span>, acc_mask: <span style=\"color: #008080; text-decoration-color: #008080; font-weight: bold\">0.8000</span>, sinQ: <span style=\"color: #008080; text-decoration-color: #008080; font-weight: bold\">0.0009</span>, intQ: <span style=\"color: #008080; text-decoration-color: #008080; font-weight: bold\">0.0128</span>, plaqs: <span style=\"color: #008080; text-decoration-color: #008080; font-weight: bold\">0.0071</span>    \n",
       "</pre>\n"
      ],
      "text/plain": [
       "\u001b[2;36m[23:01:16]\u001b[0m\u001b[2;36m \u001b[0m\u001b[1;36m640\u001b[0m \u001b[35m/\u001b[0m \u001b[1;36m1000\u001b[0m, energy: \u001b[1;36m-84.6159\u001b[0m, logprob: \u001b[1;36m-84.6159\u001b[0m, logdet: \u001b[1;36m0.0000\u001b[0m, acc: \u001b[1;36m0.7657\u001b[0m,     \n",
       "\u001b[2;36m           \u001b[0msumlogdet: \u001b[1;36m0.0000\u001b[0m, acc_mask: \u001b[1;36m0.8000\u001b[0m, sinQ: \u001b[1;36m0.0009\u001b[0m, intQ: \u001b[1;36m0.0128\u001b[0m, plaqs: \u001b[1;36m0.0071\u001b[0m    \n"
      ]
     },
     "metadata": {},
     "output_type": "display_data"
    },
    {
     "data": {
      "text/html": [
       "<pre style=\"white-space:pre;overflow-x:auto;line-height:normal;font-family:Menlo,'DejaVu Sans Mono',consolas,'Courier New',monospace\"><span style=\"color: #7fbfbf; text-decoration-color: #7fbfbf\">[23:01:25] </span><span style=\"color: #008080; text-decoration-color: #008080; font-weight: bold\">660</span> <span style=\"color: #800080; text-decoration-color: #800080\">/</span> <span style=\"color: #008080; text-decoration-color: #008080; font-weight: bold\">1000</span>, energy: <span style=\"color: #008080; text-decoration-color: #008080; font-weight: bold\">-51.1746</span>, logprob: <span style=\"color: #008080; text-decoration-color: #008080; font-weight: bold\">-51.1746</span>, logdet: <span style=\"color: #008080; text-decoration-color: #008080; font-weight: bold\">0.0000</span>, acc: <span style=\"color: #008080; text-decoration-color: #008080; font-weight: bold\">0.7972</span>,     \n",
       "<span style=\"color: #7fbfbf; text-decoration-color: #7fbfbf\">           </span>sumlogdet: <span style=\"color: #008080; text-decoration-color: #008080; font-weight: bold\">0.0000</span>, acc_mask: <span style=\"color: #008080; text-decoration-color: #008080; font-weight: bold\">1.0000</span>, sinQ: <span style=\"color: #008080; text-decoration-color: #008080; font-weight: bold\">0.0009</span>, intQ: <span style=\"color: #008080; text-decoration-color: #008080; font-weight: bold\">0.0126</span>, plaqs: <span style=\"color: #008080; text-decoration-color: #008080; font-weight: bold\">0.0072</span>    \n",
       "</pre>\n"
      ],
      "text/plain": [
       "\u001b[2;36m[23:01:25]\u001b[0m\u001b[2;36m \u001b[0m\u001b[1;36m660\u001b[0m \u001b[35m/\u001b[0m \u001b[1;36m1000\u001b[0m, energy: \u001b[1;36m-51.1746\u001b[0m, logprob: \u001b[1;36m-51.1746\u001b[0m, logdet: \u001b[1;36m0.0000\u001b[0m, acc: \u001b[1;36m0.7972\u001b[0m,     \n",
       "\u001b[2;36m           \u001b[0msumlogdet: \u001b[1;36m0.0000\u001b[0m, acc_mask: \u001b[1;36m1.0000\u001b[0m, sinQ: \u001b[1;36m0.0009\u001b[0m, intQ: \u001b[1;36m0.0126\u001b[0m, plaqs: \u001b[1;36m0.0072\u001b[0m    \n"
      ]
     },
     "metadata": {},
     "output_type": "display_data"
    },
    {
     "data": {
      "text/html": [
       "<pre style=\"white-space:pre;overflow-x:auto;line-height:normal;font-family:Menlo,'DejaVu Sans Mono',consolas,'Courier New',monospace\"><span style=\"color: #7fbfbf; text-decoration-color: #7fbfbf\">[23:01:33] </span><span style=\"color: #008080; text-decoration-color: #008080; font-weight: bold\">680</span> <span style=\"color: #800080; text-decoration-color: #800080\">/</span> <span style=\"color: #008080; text-decoration-color: #008080; font-weight: bold\">1000</span>, energy: <span style=\"color: #008080; text-decoration-color: #008080; font-weight: bold\">-73.0962</span>, logprob: <span style=\"color: #008080; text-decoration-color: #008080; font-weight: bold\">-73.0962</span>, logdet: <span style=\"color: #008080; text-decoration-color: #008080; font-weight: bold\">0.0000</span>, acc: <span style=\"color: #008080; text-decoration-color: #008080; font-weight: bold\">0.8544</span>,     \n",
       "<span style=\"color: #7fbfbf; text-decoration-color: #7fbfbf\">           </span>sumlogdet: <span style=\"color: #008080; text-decoration-color: #008080; font-weight: bold\">0.0000</span>, acc_mask: <span style=\"color: #008080; text-decoration-color: #008080; font-weight: bold\">1.0000</span>, sinQ: <span style=\"color: #008080; text-decoration-color: #008080; font-weight: bold\">0.0008</span>, intQ: <span style=\"color: #008080; text-decoration-color: #008080; font-weight: bold\">0.0123</span>, plaqs: <span style=\"color: #008080; text-decoration-color: #008080; font-weight: bold\">0.0072</span>    \n",
       "</pre>\n"
      ],
      "text/plain": [
       "\u001b[2;36m[23:01:33]\u001b[0m\u001b[2;36m \u001b[0m\u001b[1;36m680\u001b[0m \u001b[35m/\u001b[0m \u001b[1;36m1000\u001b[0m, energy: \u001b[1;36m-73.0962\u001b[0m, logprob: \u001b[1;36m-73.0962\u001b[0m, logdet: \u001b[1;36m0.0000\u001b[0m, acc: \u001b[1;36m0.8544\u001b[0m,     \n",
       "\u001b[2;36m           \u001b[0msumlogdet: \u001b[1;36m0.0000\u001b[0m, acc_mask: \u001b[1;36m1.0000\u001b[0m, sinQ: \u001b[1;36m0.0008\u001b[0m, intQ: \u001b[1;36m0.0123\u001b[0m, plaqs: \u001b[1;36m0.0072\u001b[0m    \n"
      ]
     },
     "metadata": {},
     "output_type": "display_data"
    },
    {
     "data": {
      "text/html": [
       "<pre style=\"white-space:pre;overflow-x:auto;line-height:normal;font-family:Menlo,'DejaVu Sans Mono',consolas,'Courier New',monospace\"><span style=\"color: #7fbfbf; text-decoration-color: #7fbfbf\">[23:01:42] </span><span style=\"color: #008080; text-decoration-color: #008080; font-weight: bold\">700</span> <span style=\"color: #800080; text-decoration-color: #800080\">/</span> <span style=\"color: #008080; text-decoration-color: #008080; font-weight: bold\">1000</span>, energy: <span style=\"color: #008080; text-decoration-color: #008080; font-weight: bold\">-36.3325</span>, logprob: <span style=\"color: #008080; text-decoration-color: #008080; font-weight: bold\">-36.3325</span>, logdet: <span style=\"color: #008080; text-decoration-color: #008080; font-weight: bold\">0.0000</span>, acc: <span style=\"color: #008080; text-decoration-color: #008080; font-weight: bold\">0.8886</span>,     \n",
       "<span style=\"color: #7fbfbf; text-decoration-color: #7fbfbf\">           </span>sumlogdet: <span style=\"color: #008080; text-decoration-color: #008080; font-weight: bold\">0.0000</span>, acc_mask: <span style=\"color: #008080; text-decoration-color: #008080; font-weight: bold\">1.0000</span>, sinQ: <span style=\"color: #008080; text-decoration-color: #008080; font-weight: bold\">0.0009</span>, intQ: <span style=\"color: #008080; text-decoration-color: #008080; font-weight: bold\">0.0126</span>, plaqs: <span style=\"color: #008080; text-decoration-color: #008080; font-weight: bold\">0.0073</span>    \n",
       "</pre>\n"
      ],
      "text/plain": [
       "\u001b[2;36m[23:01:42]\u001b[0m\u001b[2;36m \u001b[0m\u001b[1;36m700\u001b[0m \u001b[35m/\u001b[0m \u001b[1;36m1000\u001b[0m, energy: \u001b[1;36m-36.3325\u001b[0m, logprob: \u001b[1;36m-36.3325\u001b[0m, logdet: \u001b[1;36m0.0000\u001b[0m, acc: \u001b[1;36m0.8886\u001b[0m,     \n",
       "\u001b[2;36m           \u001b[0msumlogdet: \u001b[1;36m0.0000\u001b[0m, acc_mask: \u001b[1;36m1.0000\u001b[0m, sinQ: \u001b[1;36m0.0009\u001b[0m, intQ: \u001b[1;36m0.0126\u001b[0m, plaqs: \u001b[1;36m0.0073\u001b[0m    \n"
      ]
     },
     "metadata": {},
     "output_type": "display_data"
    },
    {
     "data": {
      "text/html": [
       "<pre style=\"white-space:pre;overflow-x:auto;line-height:normal;font-family:Menlo,'DejaVu Sans Mono',consolas,'Courier New',monospace\"><span style=\"color: #7fbfbf; text-decoration-color: #7fbfbf\">[23:01:50] </span><span style=\"color: #008080; text-decoration-color: #008080; font-weight: bold\">720</span> <span style=\"color: #800080; text-decoration-color: #800080\">/</span> <span style=\"color: #008080; text-decoration-color: #008080; font-weight: bold\">1000</span>, energy: <span style=\"color: #008080; text-decoration-color: #008080; font-weight: bold\">-34.5743</span>, logprob: <span style=\"color: #008080; text-decoration-color: #008080; font-weight: bold\">-34.5743</span>, logdet: <span style=\"color: #008080; text-decoration-color: #008080; font-weight: bold\">0.0000</span>, acc: <span style=\"color: #008080; text-decoration-color: #008080; font-weight: bold\">0.8506</span>,     \n",
       "<span style=\"color: #7fbfbf; text-decoration-color: #7fbfbf\">           </span>sumlogdet: <span style=\"color: #008080; text-decoration-color: #008080; font-weight: bold\">0.0000</span>, acc_mask: <span style=\"color: #008080; text-decoration-color: #008080; font-weight: bold\">1.0000</span>, sinQ: <span style=\"color: #008080; text-decoration-color: #008080; font-weight: bold\">0.0008</span>, intQ: <span style=\"color: #008080; text-decoration-color: #008080; font-weight: bold\">0.0122</span>, plaqs: <span style=\"color: #008080; text-decoration-color: #008080; font-weight: bold\">0.0074</span>    \n",
       "</pre>\n"
      ],
      "text/plain": [
       "\u001b[2;36m[23:01:50]\u001b[0m\u001b[2;36m \u001b[0m\u001b[1;36m720\u001b[0m \u001b[35m/\u001b[0m \u001b[1;36m1000\u001b[0m, energy: \u001b[1;36m-34.5743\u001b[0m, logprob: \u001b[1;36m-34.5743\u001b[0m, logdet: \u001b[1;36m0.0000\u001b[0m, acc: \u001b[1;36m0.8506\u001b[0m,     \n",
       "\u001b[2;36m           \u001b[0msumlogdet: \u001b[1;36m0.0000\u001b[0m, acc_mask: \u001b[1;36m1.0000\u001b[0m, sinQ: \u001b[1;36m0.0008\u001b[0m, intQ: \u001b[1;36m0.0122\u001b[0m, plaqs: \u001b[1;36m0.0074\u001b[0m    \n"
      ]
     },
     "metadata": {},
     "output_type": "display_data"
    },
    {
     "data": {
      "text/html": [
       "<pre style=\"white-space:pre;overflow-x:auto;line-height:normal;font-family:Menlo,'DejaVu Sans Mono',consolas,'Courier New',monospace\"><span style=\"color: #7fbfbf; text-decoration-color: #7fbfbf\">[23:01:59] </span><span style=\"color: #008080; text-decoration-color: #008080; font-weight: bold\">740</span> <span style=\"color: #800080; text-decoration-color: #800080\">/</span> <span style=\"color: #008080; text-decoration-color: #008080; font-weight: bold\">1000</span>, energy: <span style=\"color: #008080; text-decoration-color: #008080; font-weight: bold\">-69.4214</span>, logprob: <span style=\"color: #008080; text-decoration-color: #008080; font-weight: bold\">-69.4214</span>, logdet: <span style=\"color: #008080; text-decoration-color: #008080; font-weight: bold\">0.0000</span>, acc: <span style=\"color: #008080; text-decoration-color: #008080; font-weight: bold\">0.7818</span>,     \n",
       "<span style=\"color: #7fbfbf; text-decoration-color: #7fbfbf\">           </span>sumlogdet: <span style=\"color: #008080; text-decoration-color: #008080; font-weight: bold\">0.0000</span>, acc_mask: <span style=\"color: #008080; text-decoration-color: #008080; font-weight: bold\">0.8000</span>, sinQ: <span style=\"color: #008080; text-decoration-color: #008080; font-weight: bold\">0.0008</span>, intQ: <span style=\"color: #008080; text-decoration-color: #008080; font-weight: bold\">0.0119</span>, plaqs: <span style=\"color: #008080; text-decoration-color: #008080; font-weight: bold\">0.0074</span>    \n",
       "</pre>\n"
      ],
      "text/plain": [
       "\u001b[2;36m[23:01:59]\u001b[0m\u001b[2;36m \u001b[0m\u001b[1;36m740\u001b[0m \u001b[35m/\u001b[0m \u001b[1;36m1000\u001b[0m, energy: \u001b[1;36m-69.4214\u001b[0m, logprob: \u001b[1;36m-69.4214\u001b[0m, logdet: \u001b[1;36m0.0000\u001b[0m, acc: \u001b[1;36m0.7818\u001b[0m,     \n",
       "\u001b[2;36m           \u001b[0msumlogdet: \u001b[1;36m0.0000\u001b[0m, acc_mask: \u001b[1;36m0.8000\u001b[0m, sinQ: \u001b[1;36m0.0008\u001b[0m, intQ: \u001b[1;36m0.0119\u001b[0m, plaqs: \u001b[1;36m0.0074\u001b[0m    \n"
      ]
     },
     "metadata": {},
     "output_type": "display_data"
    },
    {
     "data": {
      "text/html": [
       "<pre style=\"white-space:pre;overflow-x:auto;line-height:normal;font-family:Menlo,'DejaVu Sans Mono',consolas,'Courier New',monospace\"><span style=\"color: #7fbfbf; text-decoration-color: #7fbfbf\">[23:02:08] </span><span style=\"color: #008080; text-decoration-color: #008080; font-weight: bold\">760</span> <span style=\"color: #800080; text-decoration-color: #800080\">/</span> <span style=\"color: #008080; text-decoration-color: #008080; font-weight: bold\">1000</span>, energy: <span style=\"color: #008080; text-decoration-color: #008080; font-weight: bold\">-89.0208</span>, logprob: <span style=\"color: #008080; text-decoration-color: #008080; font-weight: bold\">-89.0208</span>, logdet: <span style=\"color: #008080; text-decoration-color: #008080; font-weight: bold\">0.0000</span>, acc: <span style=\"color: #008080; text-decoration-color: #008080; font-weight: bold\">0.8557</span>,     \n",
       "<span style=\"color: #7fbfbf; text-decoration-color: #7fbfbf\">           </span>sumlogdet: <span style=\"color: #008080; text-decoration-color: #008080; font-weight: bold\">0.0000</span>, acc_mask: <span style=\"color: #008080; text-decoration-color: #008080; font-weight: bold\">1.0000</span>, sinQ: <span style=\"color: #008080; text-decoration-color: #008080; font-weight: bold\">0.0008</span>, intQ: <span style=\"color: #008080; text-decoration-color: #008080; font-weight: bold\">0.0123</span>, plaqs: <span style=\"color: #008080; text-decoration-color: #008080; font-weight: bold\">0.0075</span>    \n",
       "</pre>\n"
      ],
      "text/plain": [
       "\u001b[2;36m[23:02:08]\u001b[0m\u001b[2;36m \u001b[0m\u001b[1;36m760\u001b[0m \u001b[35m/\u001b[0m \u001b[1;36m1000\u001b[0m, energy: \u001b[1;36m-89.0208\u001b[0m, logprob: \u001b[1;36m-89.0208\u001b[0m, logdet: \u001b[1;36m0.0000\u001b[0m, acc: \u001b[1;36m0.8557\u001b[0m,     \n",
       "\u001b[2;36m           \u001b[0msumlogdet: \u001b[1;36m0.0000\u001b[0m, acc_mask: \u001b[1;36m1.0000\u001b[0m, sinQ: \u001b[1;36m0.0008\u001b[0m, intQ: \u001b[1;36m0.0123\u001b[0m, plaqs: \u001b[1;36m0.0075\u001b[0m    \n"
      ]
     },
     "metadata": {},
     "output_type": "display_data"
    },
    {
     "data": {
      "text/html": [
       "<pre style=\"white-space:pre;overflow-x:auto;line-height:normal;font-family:Menlo,'DejaVu Sans Mono',consolas,'Courier New',monospace\"><span style=\"color: #7fbfbf; text-decoration-color: #7fbfbf\">[23:02:16] </span><span style=\"color: #008080; text-decoration-color: #008080; font-weight: bold\">780</span> <span style=\"color: #800080; text-decoration-color: #800080\">/</span> <span style=\"color: #008080; text-decoration-color: #008080; font-weight: bold\">1000</span>, energy: <span style=\"color: #008080; text-decoration-color: #008080; font-weight: bold\">-50.8318</span>, logprob: <span style=\"color: #008080; text-decoration-color: #008080; font-weight: bold\">-50.8318</span>, logdet: <span style=\"color: #008080; text-decoration-color: #008080; font-weight: bold\">0.0000</span>, acc: <span style=\"color: #008080; text-decoration-color: #008080; font-weight: bold\">0.8181</span>,     \n",
       "<span style=\"color: #7fbfbf; text-decoration-color: #7fbfbf\">           </span>sumlogdet: <span style=\"color: #008080; text-decoration-color: #008080; font-weight: bold\">0.0000</span>, acc_mask: <span style=\"color: #008080; text-decoration-color: #008080; font-weight: bold\">0.8000</span>, sinQ: <span style=\"color: #008080; text-decoration-color: #008080; font-weight: bold\">0.0007</span>, intQ: <span style=\"color: #008080; text-decoration-color: #008080; font-weight: bold\">0.0099</span>, plaqs: <span style=\"color: #008080; text-decoration-color: #008080; font-weight: bold\">0.0075</span>    \n",
       "</pre>\n"
      ],
      "text/plain": [
       "\u001b[2;36m[23:02:16]\u001b[0m\u001b[2;36m \u001b[0m\u001b[1;36m780\u001b[0m \u001b[35m/\u001b[0m \u001b[1;36m1000\u001b[0m, energy: \u001b[1;36m-50.8318\u001b[0m, logprob: \u001b[1;36m-50.8318\u001b[0m, logdet: \u001b[1;36m0.0000\u001b[0m, acc: \u001b[1;36m0.8181\u001b[0m,     \n",
       "\u001b[2;36m           \u001b[0msumlogdet: \u001b[1;36m0.0000\u001b[0m, acc_mask: \u001b[1;36m0.8000\u001b[0m, sinQ: \u001b[1;36m0.0007\u001b[0m, intQ: \u001b[1;36m0.0099\u001b[0m, plaqs: \u001b[1;36m0.0075\u001b[0m    \n"
      ]
     },
     "metadata": {},
     "output_type": "display_data"
    },
    {
     "data": {
      "text/html": [
       "<pre style=\"white-space:pre;overflow-x:auto;line-height:normal;font-family:Menlo,'DejaVu Sans Mono',consolas,'Courier New',monospace\"><span style=\"color: #7fbfbf; text-decoration-color: #7fbfbf\">[23:02:24] </span><span style=\"color: #008080; text-decoration-color: #008080; font-weight: bold\">800</span> <span style=\"color: #800080; text-decoration-color: #800080\">/</span> <span style=\"color: #008080; text-decoration-color: #008080; font-weight: bold\">1000</span>, energy: <span style=\"color: #008080; text-decoration-color: #008080; font-weight: bold\">-11.5747</span>, logprob: <span style=\"color: #008080; text-decoration-color: #008080; font-weight: bold\">-11.5747</span>, logdet: <span style=\"color: #008080; text-decoration-color: #008080; font-weight: bold\">0.0000</span>, acc: <span style=\"color: #008080; text-decoration-color: #008080; font-weight: bold\">0.7477</span>,     \n",
       "<span style=\"color: #7fbfbf; text-decoration-color: #7fbfbf\">           </span>sumlogdet: <span style=\"color: #008080; text-decoration-color: #008080; font-weight: bold\">0.0000</span>, acc_mask: <span style=\"color: #008080; text-decoration-color: #008080; font-weight: bold\">0.8000</span>, sinQ: <span style=\"color: #008080; text-decoration-color: #008080; font-weight: bold\">0.0007</span>, intQ: <span style=\"color: #008080; text-decoration-color: #008080; font-weight: bold\">0.0109</span>, plaqs: <span style=\"color: #008080; text-decoration-color: #008080; font-weight: bold\">0.0076</span>    \n",
       "</pre>\n"
      ],
      "text/plain": [
       "\u001b[2;36m[23:02:24]\u001b[0m\u001b[2;36m \u001b[0m\u001b[1;36m800\u001b[0m \u001b[35m/\u001b[0m \u001b[1;36m1000\u001b[0m, energy: \u001b[1;36m-11.5747\u001b[0m, logprob: \u001b[1;36m-11.5747\u001b[0m, logdet: \u001b[1;36m0.0000\u001b[0m, acc: \u001b[1;36m0.7477\u001b[0m,     \n",
       "\u001b[2;36m           \u001b[0msumlogdet: \u001b[1;36m0.0000\u001b[0m, acc_mask: \u001b[1;36m0.8000\u001b[0m, sinQ: \u001b[1;36m0.0007\u001b[0m, intQ: \u001b[1;36m0.0109\u001b[0m, plaqs: \u001b[1;36m0.0076\u001b[0m    \n"
      ]
     },
     "metadata": {},
     "output_type": "display_data"
    },
    {
     "data": {
      "text/html": [
       "<pre style=\"white-space:pre;overflow-x:auto;line-height:normal;font-family:Menlo,'DejaVu Sans Mono',consolas,'Courier New',monospace\"><span style=\"color: #7fbfbf; text-decoration-color: #7fbfbf\">[23:02:33] </span><span style=\"color: #008080; text-decoration-color: #008080; font-weight: bold\">820</span> <span style=\"color: #800080; text-decoration-color: #800080\">/</span> <span style=\"color: #008080; text-decoration-color: #008080; font-weight: bold\">1000</span>, energy: <span style=\"color: #008080; text-decoration-color: #008080; font-weight: bold\">-80.3026</span>, logprob: <span style=\"color: #008080; text-decoration-color: #008080; font-weight: bold\">-80.3026</span>, logdet: <span style=\"color: #008080; text-decoration-color: #008080; font-weight: bold\">0.0000</span>, acc: <span style=\"color: #008080; text-decoration-color: #008080; font-weight: bold\">0.7351</span>,     \n",
       "<span style=\"color: #7fbfbf; text-decoration-color: #7fbfbf\">           </span>sumlogdet: <span style=\"color: #008080; text-decoration-color: #008080; font-weight: bold\">0.0000</span>, acc_mask: <span style=\"color: #008080; text-decoration-color: #008080; font-weight: bold\">0.6000</span>, sinQ: <span style=\"color: #008080; text-decoration-color: #008080; font-weight: bold\">0.0007</span>, intQ: <span style=\"color: #008080; text-decoration-color: #008080; font-weight: bold\">0.0108</span>, plaqs: <span style=\"color: #008080; text-decoration-color: #008080; font-weight: bold\">0.0078</span>    \n",
       "</pre>\n"
      ],
      "text/plain": [
       "\u001b[2;36m[23:02:33]\u001b[0m\u001b[2;36m \u001b[0m\u001b[1;36m820\u001b[0m \u001b[35m/\u001b[0m \u001b[1;36m1000\u001b[0m, energy: \u001b[1;36m-80.3026\u001b[0m, logprob: \u001b[1;36m-80.3026\u001b[0m, logdet: \u001b[1;36m0.0000\u001b[0m, acc: \u001b[1;36m0.7351\u001b[0m,     \n",
       "\u001b[2;36m           \u001b[0msumlogdet: \u001b[1;36m0.0000\u001b[0m, acc_mask: \u001b[1;36m0.6000\u001b[0m, sinQ: \u001b[1;36m0.0007\u001b[0m, intQ: \u001b[1;36m0.0108\u001b[0m, plaqs: \u001b[1;36m0.0078\u001b[0m    \n"
      ]
     },
     "metadata": {},
     "output_type": "display_data"
    },
    {
     "data": {
      "text/html": [
       "<pre style=\"white-space:pre;overflow-x:auto;line-height:normal;font-family:Menlo,'DejaVu Sans Mono',consolas,'Courier New',monospace\"><span style=\"color: #7fbfbf; text-decoration-color: #7fbfbf\">[23:02:42] </span><span style=\"color: #008080; text-decoration-color: #008080; font-weight: bold\">840</span> <span style=\"color: #800080; text-decoration-color: #800080\">/</span> <span style=\"color: #008080; text-decoration-color: #008080; font-weight: bold\">1000</span>, energy: <span style=\"color: #008080; text-decoration-color: #008080; font-weight: bold\">-71.3429</span>, logprob: <span style=\"color: #008080; text-decoration-color: #008080; font-weight: bold\">-71.3429</span>, logdet: <span style=\"color: #008080; text-decoration-color: #008080; font-weight: bold\">0.0000</span>, acc: <span style=\"color: #008080; text-decoration-color: #008080; font-weight: bold\">0.6800</span>,     \n",
       "<span style=\"color: #7fbfbf; text-decoration-color: #7fbfbf\">           </span>sumlogdet: <span style=\"color: #008080; text-decoration-color: #008080; font-weight: bold\">0.0000</span>, acc_mask: <span style=\"color: #008080; text-decoration-color: #008080; font-weight: bold\">0.6000</span>, sinQ: <span style=\"color: #008080; text-decoration-color: #008080; font-weight: bold\">0.0007</span>, intQ: <span style=\"color: #008080; text-decoration-color: #008080; font-weight: bold\">0.0097</span>, plaqs: <span style=\"color: #008080; text-decoration-color: #008080; font-weight: bold\">0.0079</span>    \n",
       "</pre>\n"
      ],
      "text/plain": [
       "\u001b[2;36m[23:02:42]\u001b[0m\u001b[2;36m \u001b[0m\u001b[1;36m840\u001b[0m \u001b[35m/\u001b[0m \u001b[1;36m1000\u001b[0m, energy: \u001b[1;36m-71.3429\u001b[0m, logprob: \u001b[1;36m-71.3429\u001b[0m, logdet: \u001b[1;36m0.0000\u001b[0m, acc: \u001b[1;36m0.6800\u001b[0m,     \n",
       "\u001b[2;36m           \u001b[0msumlogdet: \u001b[1;36m0.0000\u001b[0m, acc_mask: \u001b[1;36m0.6000\u001b[0m, sinQ: \u001b[1;36m0.0007\u001b[0m, intQ: \u001b[1;36m0.0097\u001b[0m, plaqs: \u001b[1;36m0.0079\u001b[0m    \n"
      ]
     },
     "metadata": {},
     "output_type": "display_data"
    },
    {
     "data": {
      "text/html": [
       "<pre style=\"white-space:pre;overflow-x:auto;line-height:normal;font-family:Menlo,'DejaVu Sans Mono',consolas,'Courier New',monospace\"><span style=\"color: #7fbfbf; text-decoration-color: #7fbfbf\">[23:02:50] </span><span style=\"color: #008080; text-decoration-color: #008080; font-weight: bold\">860</span> <span style=\"color: #800080; text-decoration-color: #800080\">/</span> <span style=\"color: #008080; text-decoration-color: #008080; font-weight: bold\">1000</span>, energy: <span style=\"color: #008080; text-decoration-color: #008080; font-weight: bold\">-54.6084</span>, logprob: <span style=\"color: #008080; text-decoration-color: #008080; font-weight: bold\">-54.6084</span>, logdet: <span style=\"color: #008080; text-decoration-color: #008080; font-weight: bold\">0.0000</span>, acc: <span style=\"color: #008080; text-decoration-color: #008080; font-weight: bold\">0.8599</span>,     \n",
       "<span style=\"color: #7fbfbf; text-decoration-color: #7fbfbf\">           </span>sumlogdet: <span style=\"color: #008080; text-decoration-color: #008080; font-weight: bold\">0.0000</span>, acc_mask: <span style=\"color: #008080; text-decoration-color: #008080; font-weight: bold\">0.8000</span>, sinQ: <span style=\"color: #008080; text-decoration-color: #008080; font-weight: bold\">0.0006</span>, intQ: <span style=\"color: #008080; text-decoration-color: #008080; font-weight: bold\">0.0084</span>, plaqs: <span style=\"color: #008080; text-decoration-color: #008080; font-weight: bold\">0.0080</span>    \n",
       "</pre>\n"
      ],
      "text/plain": [
       "\u001b[2;36m[23:02:50]\u001b[0m\u001b[2;36m \u001b[0m\u001b[1;36m860\u001b[0m \u001b[35m/\u001b[0m \u001b[1;36m1000\u001b[0m, energy: \u001b[1;36m-54.6084\u001b[0m, logprob: \u001b[1;36m-54.6084\u001b[0m, logdet: \u001b[1;36m0.0000\u001b[0m, acc: \u001b[1;36m0.8599\u001b[0m,     \n",
       "\u001b[2;36m           \u001b[0msumlogdet: \u001b[1;36m0.0000\u001b[0m, acc_mask: \u001b[1;36m0.8000\u001b[0m, sinQ: \u001b[1;36m0.0006\u001b[0m, intQ: \u001b[1;36m0.0084\u001b[0m, plaqs: \u001b[1;36m0.0080\u001b[0m    \n"
      ]
     },
     "metadata": {},
     "output_type": "display_data"
    },
    {
     "data": {
      "text/html": [
       "<pre style=\"white-space:pre;overflow-x:auto;line-height:normal;font-family:Menlo,'DejaVu Sans Mono',consolas,'Courier New',monospace\"><span style=\"color: #7fbfbf; text-decoration-color: #7fbfbf\">[23:02:59] </span><span style=\"color: #008080; text-decoration-color: #008080; font-weight: bold\">880</span> <span style=\"color: #800080; text-decoration-color: #800080\">/</span> <span style=\"color: #008080; text-decoration-color: #008080; font-weight: bold\">1000</span>, energy: <span style=\"color: #008080; text-decoration-color: #008080; font-weight: bold\">-12.1739</span>, logprob: <span style=\"color: #008080; text-decoration-color: #008080; font-weight: bold\">-12.1739</span>, logdet: <span style=\"color: #008080; text-decoration-color: #008080; font-weight: bold\">0.0000</span>, acc: <span style=\"color: #008080; text-decoration-color: #008080; font-weight: bold\">0.9423</span>,     \n",
       "<span style=\"color: #7fbfbf; text-decoration-color: #7fbfbf\">           </span>sumlogdet: <span style=\"color: #008080; text-decoration-color: #008080; font-weight: bold\">0.0000</span>, acc_mask: <span style=\"color: #008080; text-decoration-color: #008080; font-weight: bold\">1.0000</span>, sinQ: <span style=\"color: #008080; text-decoration-color: #008080; font-weight: bold\">0.0005</span>, intQ: <span style=\"color: #008080; text-decoration-color: #008080; font-weight: bold\">0.0080</span>, plaqs: <span style=\"color: #008080; text-decoration-color: #008080; font-weight: bold\">0.0081</span>    \n",
       "</pre>\n"
      ],
      "text/plain": [
       "\u001b[2;36m[23:02:59]\u001b[0m\u001b[2;36m \u001b[0m\u001b[1;36m880\u001b[0m \u001b[35m/\u001b[0m \u001b[1;36m1000\u001b[0m, energy: \u001b[1;36m-12.1739\u001b[0m, logprob: \u001b[1;36m-12.1739\u001b[0m, logdet: \u001b[1;36m0.0000\u001b[0m, acc: \u001b[1;36m0.9423\u001b[0m,     \n",
       "\u001b[2;36m           \u001b[0msumlogdet: \u001b[1;36m0.0000\u001b[0m, acc_mask: \u001b[1;36m1.0000\u001b[0m, sinQ: \u001b[1;36m0.0005\u001b[0m, intQ: \u001b[1;36m0.0080\u001b[0m, plaqs: \u001b[1;36m0.0081\u001b[0m    \n"
      ]
     },
     "metadata": {},
     "output_type": "display_data"
    },
    {
     "data": {
      "text/html": [
       "<pre style=\"white-space:pre;overflow-x:auto;line-height:normal;font-family:Menlo,'DejaVu Sans Mono',consolas,'Courier New',monospace\"><span style=\"color: #7fbfbf; text-decoration-color: #7fbfbf\">[23:03:07] </span><span style=\"color: #008080; text-decoration-color: #008080; font-weight: bold\">900</span> <span style=\"color: #800080; text-decoration-color: #800080\">/</span> <span style=\"color: #008080; text-decoration-color: #008080; font-weight: bold\">1000</span>, energy: <span style=\"color: #008080; text-decoration-color: #008080; font-weight: bold\">-94.8275</span>, logprob: <span style=\"color: #008080; text-decoration-color: #008080; font-weight: bold\">-94.8275</span>, logdet: <span style=\"color: #008080; text-decoration-color: #008080; font-weight: bold\">0.0000</span>, acc: <span style=\"color: #008080; text-decoration-color: #008080; font-weight: bold\">0.8409</span>,     \n",
       "<span style=\"color: #7fbfbf; text-decoration-color: #7fbfbf\">           </span>sumlogdet: <span style=\"color: #008080; text-decoration-color: #008080; font-weight: bold\">0.0000</span>, acc_mask: <span style=\"color: #008080; text-decoration-color: #008080; font-weight: bold\">1.0000</span>, sinQ: <span style=\"color: #008080; text-decoration-color: #008080; font-weight: bold\">0.0006</span>, intQ: <span style=\"color: #008080; text-decoration-color: #008080; font-weight: bold\">0.0094</span>, plaqs: <span style=\"color: #008080; text-decoration-color: #008080; font-weight: bold\">0.0082</span>    \n",
       "</pre>\n"
      ],
      "text/plain": [
       "\u001b[2;36m[23:03:07]\u001b[0m\u001b[2;36m \u001b[0m\u001b[1;36m900\u001b[0m \u001b[35m/\u001b[0m \u001b[1;36m1000\u001b[0m, energy: \u001b[1;36m-94.8275\u001b[0m, logprob: \u001b[1;36m-94.8275\u001b[0m, logdet: \u001b[1;36m0.0000\u001b[0m, acc: \u001b[1;36m0.8409\u001b[0m,     \n",
       "\u001b[2;36m           \u001b[0msumlogdet: \u001b[1;36m0.0000\u001b[0m, acc_mask: \u001b[1;36m1.0000\u001b[0m, sinQ: \u001b[1;36m0.0006\u001b[0m, intQ: \u001b[1;36m0.0094\u001b[0m, plaqs: \u001b[1;36m0.0082\u001b[0m    \n"
      ]
     },
     "metadata": {},
     "output_type": "display_data"
    },
    {
     "data": {
      "text/html": [
       "<pre style=\"white-space:pre;overflow-x:auto;line-height:normal;font-family:Menlo,'DejaVu Sans Mono',consolas,'Courier New',monospace\"><span style=\"color: #7fbfbf; text-decoration-color: #7fbfbf\">[23:03:15] </span><span style=\"color: #008080; text-decoration-color: #008080; font-weight: bold\">920</span> <span style=\"color: #800080; text-decoration-color: #800080\">/</span> <span style=\"color: #008080; text-decoration-color: #008080; font-weight: bold\">1000</span>, energy: <span style=\"color: #008080; text-decoration-color: #008080; font-weight: bold\">-140.5410</span>, logprob: <span style=\"color: #008080; text-decoration-color: #008080; font-weight: bold\">-140.5410</span>, logdet: <span style=\"color: #008080; text-decoration-color: #008080; font-weight: bold\">0.0000</span>, acc: <span style=\"color: #008080; text-decoration-color: #008080; font-weight: bold\">0.8500</span>,   \n",
       "<span style=\"color: #7fbfbf; text-decoration-color: #7fbfbf\">           </span>sumlogdet: <span style=\"color: #008080; text-decoration-color: #008080; font-weight: bold\">0.0000</span>, acc_mask: <span style=\"color: #008080; text-decoration-color: #008080; font-weight: bold\">0.4000</span>, sinQ: <span style=\"color: #008080; text-decoration-color: #008080; font-weight: bold\">0.0007</span>, intQ: <span style=\"color: #008080; text-decoration-color: #008080; font-weight: bold\">0.0097</span>, plaqs: <span style=\"color: #008080; text-decoration-color: #008080; font-weight: bold\">0.0083</span>    \n",
       "</pre>\n"
      ],
      "text/plain": [
       "\u001b[2;36m[23:03:15]\u001b[0m\u001b[2;36m \u001b[0m\u001b[1;36m920\u001b[0m \u001b[35m/\u001b[0m \u001b[1;36m1000\u001b[0m, energy: \u001b[1;36m-140.5410\u001b[0m, logprob: \u001b[1;36m-140.5410\u001b[0m, logdet: \u001b[1;36m0.0000\u001b[0m, acc: \u001b[1;36m0.8500\u001b[0m,   \n",
       "\u001b[2;36m           \u001b[0msumlogdet: \u001b[1;36m0.0000\u001b[0m, acc_mask: \u001b[1;36m0.4000\u001b[0m, sinQ: \u001b[1;36m0.0007\u001b[0m, intQ: \u001b[1;36m0.0097\u001b[0m, plaqs: \u001b[1;36m0.0083\u001b[0m    \n"
      ]
     },
     "metadata": {},
     "output_type": "display_data"
    },
    {
     "data": {
      "text/html": [
       "<pre style=\"white-space:pre;overflow-x:auto;line-height:normal;font-family:Menlo,'DejaVu Sans Mono',consolas,'Courier New',monospace\"><span style=\"color: #7fbfbf; text-decoration-color: #7fbfbf\">[23:03:24] </span><span style=\"color: #008080; text-decoration-color: #008080; font-weight: bold\">940</span> <span style=\"color: #800080; text-decoration-color: #800080\">/</span> <span style=\"color: #008080; text-decoration-color: #008080; font-weight: bold\">1000</span>, energy: <span style=\"color: #008080; text-decoration-color: #008080; font-weight: bold\">-10.3552</span>, logprob: <span style=\"color: #008080; text-decoration-color: #008080; font-weight: bold\">-10.3552</span>, logdet: <span style=\"color: #008080; text-decoration-color: #008080; font-weight: bold\">0.0000</span>, acc: <span style=\"color: #008080; text-decoration-color: #008080; font-weight: bold\">0.7166</span>,     \n",
       "<span style=\"color: #7fbfbf; text-decoration-color: #7fbfbf\">           </span>sumlogdet: <span style=\"color: #008080; text-decoration-color: #008080; font-weight: bold\">0.0000</span>, acc_mask: <span style=\"color: #008080; text-decoration-color: #008080; font-weight: bold\">0.8000</span>, sinQ: <span style=\"color: #008080; text-decoration-color: #008080; font-weight: bold\">0.0007</span>, intQ: <span style=\"color: #008080; text-decoration-color: #008080; font-weight: bold\">0.0104</span>, plaqs: <span style=\"color: #008080; text-decoration-color: #008080; font-weight: bold\">0.0083</span>    \n",
       "</pre>\n"
      ],
      "text/plain": [
       "\u001b[2;36m[23:03:24]\u001b[0m\u001b[2;36m \u001b[0m\u001b[1;36m940\u001b[0m \u001b[35m/\u001b[0m \u001b[1;36m1000\u001b[0m, energy: \u001b[1;36m-10.3552\u001b[0m, logprob: \u001b[1;36m-10.3552\u001b[0m, logdet: \u001b[1;36m0.0000\u001b[0m, acc: \u001b[1;36m0.7166\u001b[0m,     \n",
       "\u001b[2;36m           \u001b[0msumlogdet: \u001b[1;36m0.0000\u001b[0m, acc_mask: \u001b[1;36m0.8000\u001b[0m, sinQ: \u001b[1;36m0.0007\u001b[0m, intQ: \u001b[1;36m0.0104\u001b[0m, plaqs: \u001b[1;36m0.0083\u001b[0m    \n"
      ]
     },
     "metadata": {},
     "output_type": "display_data"
    },
    {
     "data": {
      "text/html": [
       "<pre style=\"white-space:pre;overflow-x:auto;line-height:normal;font-family:Menlo,'DejaVu Sans Mono',consolas,'Courier New',monospace\"><span style=\"color: #7fbfbf; text-decoration-color: #7fbfbf\">[23:03:32] </span><span style=\"color: #008080; text-decoration-color: #008080; font-weight: bold\">960</span> <span style=\"color: #800080; text-decoration-color: #800080\">/</span> <span style=\"color: #008080; text-decoration-color: #008080; font-weight: bold\">1000</span>, energy: <span style=\"color: #008080; text-decoration-color: #008080; font-weight: bold\">-76.9752</span>, logprob: <span style=\"color: #008080; text-decoration-color: #008080; font-weight: bold\">-76.9752</span>, logdet: <span style=\"color: #008080; text-decoration-color: #008080; font-weight: bold\">0.0000</span>, acc: <span style=\"color: #008080; text-decoration-color: #008080; font-weight: bold\">0.6380</span>,     \n",
       "<span style=\"color: #7fbfbf; text-decoration-color: #7fbfbf\">           </span>sumlogdet: <span style=\"color: #008080; text-decoration-color: #008080; font-weight: bold\">0.0000</span>, acc_mask: <span style=\"color: #008080; text-decoration-color: #008080; font-weight: bold\">0.6000</span>, sinQ: <span style=\"color: #008080; text-decoration-color: #008080; font-weight: bold\">0.0006</span>, intQ: <span style=\"color: #008080; text-decoration-color: #008080; font-weight: bold\">0.0094</span>, plaqs: <span style=\"color: #008080; text-decoration-color: #008080; font-weight: bold\">0.0084</span>    \n",
       "</pre>\n"
      ],
      "text/plain": [
       "\u001b[2;36m[23:03:32]\u001b[0m\u001b[2;36m \u001b[0m\u001b[1;36m960\u001b[0m \u001b[35m/\u001b[0m \u001b[1;36m1000\u001b[0m, energy: \u001b[1;36m-76.9752\u001b[0m, logprob: \u001b[1;36m-76.9752\u001b[0m, logdet: \u001b[1;36m0.0000\u001b[0m, acc: \u001b[1;36m0.6380\u001b[0m,     \n",
       "\u001b[2;36m           \u001b[0msumlogdet: \u001b[1;36m0.0000\u001b[0m, acc_mask: \u001b[1;36m0.6000\u001b[0m, sinQ: \u001b[1;36m0.0006\u001b[0m, intQ: \u001b[1;36m0.0094\u001b[0m, plaqs: \u001b[1;36m0.0084\u001b[0m    \n"
      ]
     },
     "metadata": {},
     "output_type": "display_data"
    },
    {
     "data": {
      "text/html": [
       "<pre style=\"white-space:pre;overflow-x:auto;line-height:normal;font-family:Menlo,'DejaVu Sans Mono',consolas,'Courier New',monospace\"><span style=\"color: #7fbfbf; text-decoration-color: #7fbfbf\">[23:03:40] </span><span style=\"color: #008080; text-decoration-color: #008080; font-weight: bold\">980</span> <span style=\"color: #800080; text-decoration-color: #800080\">/</span> <span style=\"color: #008080; text-decoration-color: #008080; font-weight: bold\">1000</span>, energy: <span style=\"color: #008080; text-decoration-color: #008080; font-weight: bold\">-107.8878</span>, logprob: <span style=\"color: #008080; text-decoration-color: #008080; font-weight: bold\">-107.8878</span>, logdet: <span style=\"color: #008080; text-decoration-color: #008080; font-weight: bold\">0.0000</span>, acc: <span style=\"color: #008080; text-decoration-color: #008080; font-weight: bold\">0.5969</span>,   \n",
       "<span style=\"color: #7fbfbf; text-decoration-color: #7fbfbf\">           </span>sumlogdet: <span style=\"color: #008080; text-decoration-color: #008080; font-weight: bold\">0.0000</span>, acc_mask: <span style=\"color: #008080; text-decoration-color: #008080; font-weight: bold\">0.4000</span>, sinQ: <span style=\"color: #008080; text-decoration-color: #008080; font-weight: bold\">0.0007</span>, intQ: <span style=\"color: #008080; text-decoration-color: #008080; font-weight: bold\">0.0097</span>, plaqs: <span style=\"color: #008080; text-decoration-color: #008080; font-weight: bold\">0.0085</span>    \n",
       "</pre>\n"
      ],
      "text/plain": [
       "\u001b[2;36m[23:03:40]\u001b[0m\u001b[2;36m \u001b[0m\u001b[1;36m980\u001b[0m \u001b[35m/\u001b[0m \u001b[1;36m1000\u001b[0m, energy: \u001b[1;36m-107.8878\u001b[0m, logprob: \u001b[1;36m-107.8878\u001b[0m, logdet: \u001b[1;36m0.0000\u001b[0m, acc: \u001b[1;36m0.5969\u001b[0m,   \n",
       "\u001b[2;36m           \u001b[0msumlogdet: \u001b[1;36m0.0000\u001b[0m, acc_mask: \u001b[1;36m0.4000\u001b[0m, sinQ: \u001b[1;36m0.0007\u001b[0m, intQ: \u001b[1;36m0.0097\u001b[0m, plaqs: \u001b[1;36m0.0085\u001b[0m    \n"
      ]
     },
     "metadata": {},
     "output_type": "display_data"
    }
   ],
   "source": [
    "run_hmc(exp_pt, beta=6.0, x=xpt)"
   ]
  },
  {
   "cell_type": "code",
   "execution_count": 24,
   "id": "5b2a0684",
   "metadata": {
    "ExecuteTime": {
     "end_time": "2022-06-05T04:06:06.337236Z",
     "start_time": "2022-06-05T04:06:04.251648Z"
    }
   },
   "outputs": [
    {
     "ename": "TypeError",
     "evalue": "`x` and `y` must have the same dtype, got tf.complex64 != tf.int32.",
     "output_type": "error",
     "traceback": [
      "\u001b[0;31m---------------------------------------------------------------------------\u001b[0m",
      "\u001b[0;31mTypeError\u001b[0m                                 Traceback (most recent call last)",
      "Input \u001b[0;32mIn [24]\u001b[0m, in \u001b[0;36m<cell line: 1>\u001b[0;34m()\u001b[0m\n\u001b[0;32m----> 1\u001b[0m \u001b[43mrun_hmc\u001b[49m\u001b[43m(\u001b[49m\u001b[43mexp_tf\u001b[49m\u001b[43m,\u001b[49m\u001b[43m \u001b[49m\u001b[43mbeta\u001b[49m\u001b[38;5;241;43m=\u001b[39;49m\u001b[38;5;241;43m6.0\u001b[39;49m\u001b[43m,\u001b[49m\u001b[43m \u001b[49m\u001b[43mx\u001b[49m\u001b[38;5;241;43m=\u001b[39;49m\u001b[43mxtf\u001b[49m\u001b[43m)\u001b[49m\n",
      "Input \u001b[0;32mIn [21]\u001b[0m, in \u001b[0;36mrun_hmc\u001b[0;34m(experiment, beta, x)\u001b[0m\n\u001b[1;32m     21\u001b[0m metrics \u001b[38;5;241m=\u001b[39m {}\n\u001b[1;32m     22\u001b[0m \u001b[38;5;28;01mfor\u001b[39;00m step \u001b[38;5;129;01min\u001b[39;00m \u001b[38;5;28mrange\u001b[39m(experiment\u001b[38;5;241m.\u001b[39mcfg\u001b[38;5;241m.\u001b[39msteps\u001b[38;5;241m.\u001b[39mtest):\n\u001b[0;32m---> 23\u001b[0m     x, metrics_ \u001b[38;5;241m=\u001b[39m \u001b[43mexperiment\u001b[49m\u001b[38;5;241;43m.\u001b[39;49m\u001b[43mdynamics\u001b[49m\u001b[38;5;241;43m.\u001b[39;49m\u001b[43mapply_transition_hmc\u001b[49m\u001b[43m(\u001b[49m\n\u001b[1;32m     24\u001b[0m \u001b[43m        \u001b[49m\u001b[43m(\u001b[49m\u001b[43mx\u001b[49m\u001b[43m,\u001b[49m\u001b[43m \u001b[49m\u001b[43mbeta\u001b[49m\u001b[43m)\u001b[49m\u001b[43m,\u001b[49m\u001b[43m \u001b[49m\u001b[43meps\u001b[49m\u001b[38;5;241;43m=\u001b[39;49m\u001b[43mexperiment\u001b[49m\u001b[38;5;241;43m.\u001b[39;49m\u001b[43mcfg\u001b[49m\u001b[38;5;241;43m.\u001b[39;49m\u001b[43meps_hmc\u001b[49m\n\u001b[1;32m     25\u001b[0m \u001b[43m    \u001b[49m\u001b[43m)\u001b[49m\n\u001b[1;32m     26\u001b[0m     _ \u001b[38;5;241m=\u001b[39m metrics_\u001b[38;5;241m.\u001b[39mpop(\u001b[38;5;124m'\u001b[39m\u001b[38;5;124mmc_states\u001b[39m\u001b[38;5;124m'\u001b[39m)\n\u001b[1;32m     28\u001b[0m     \u001b[38;5;28;01mif\u001b[39;00m step \u001b[38;5;241m%\u001b[39m \u001b[38;5;241m20\u001b[39m \u001b[38;5;241m==\u001b[39m \u001b[38;5;241m0\u001b[39m:\n",
      "File \u001b[0;32m~/projects/l2hmc-qcd/src/l2hmc/dynamics/tensorflow/dynamics.py:154\u001b[0m, in \u001b[0;36mDynamics.apply_transition_hmc\u001b[0;34m(self, inputs, eps)\u001b[0m\n\u001b[1;32m    149\u001b[0m \u001b[38;5;28;01mdef\u001b[39;00m \u001b[38;5;21mapply_transition_hmc\u001b[39m(\n\u001b[1;32m    150\u001b[0m         \u001b[38;5;28mself\u001b[39m,\n\u001b[1;32m    151\u001b[0m         inputs: \u001b[38;5;28mtuple\u001b[39m[Tensor, Tensor],\n\u001b[1;32m    152\u001b[0m         eps: Tensor,\n\u001b[1;32m    153\u001b[0m ) \u001b[38;5;241m-\u001b[39m\u001b[38;5;241m>\u001b[39m \u001b[38;5;28mtuple\u001b[39m[Tensor, \u001b[38;5;28mdict\u001b[39m]:\n\u001b[0;32m--> 154\u001b[0m     data \u001b[38;5;241m=\u001b[39m \u001b[38;5;28;43mself\u001b[39;49m\u001b[38;5;241;43m.\u001b[39;49m\u001b[43mgenerate_proposal_hmc\u001b[49m\u001b[43m(\u001b[49m\u001b[43minputs\u001b[49m\u001b[43m,\u001b[49m\u001b[43m \u001b[49m\u001b[43meps\u001b[49m\u001b[43m)\u001b[49m\n\u001b[1;32m    155\u001b[0m     ma_, mr_ \u001b[38;5;241m=\u001b[39m \u001b[38;5;28mself\u001b[39m\u001b[38;5;241m.\u001b[39m_get_accept_masks(data[\u001b[38;5;124m'\u001b[39m\u001b[38;5;124mmetrics\u001b[39m\u001b[38;5;124m'\u001b[39m][\u001b[38;5;124m'\u001b[39m\u001b[38;5;124macc\u001b[39m\u001b[38;5;124m'\u001b[39m])\n\u001b[1;32m    156\u001b[0m     ma_ \u001b[38;5;241m=\u001b[39m tf\u001b[38;5;241m.\u001b[39mcast(ma_, dtype\u001b[38;5;241m=\u001b[39mdata[\u001b[38;5;124m'\u001b[39m\u001b[38;5;124mproposed\u001b[39m\u001b[38;5;124m'\u001b[39m]\u001b[38;5;241m.\u001b[39mx\u001b[38;5;241m.\u001b[39mdtype)\n",
      "File \u001b[0;32m~/projects/l2hmc-qcd/src/l2hmc/dynamics/tensorflow/dynamics.py:282\u001b[0m, in \u001b[0;36mDynamics.generate_proposal_hmc\u001b[0;34m(self, inputs, eps)\u001b[0m\n\u001b[1;32m    280\u001b[0m v \u001b[38;5;241m=\u001b[39m \u001b[38;5;28mself\u001b[39m\u001b[38;5;241m.\u001b[39mg\u001b[38;5;241m.\u001b[39mrandom_momentum(\u001b[38;5;28mlist\u001b[39m(\u001b[38;5;28mself\u001b[39m\u001b[38;5;241m.\u001b[39mxshape))\n\u001b[1;32m    281\u001b[0m init \u001b[38;5;241m=\u001b[39m State(x, v, beta)\n\u001b[0;32m--> 282\u001b[0m proposed, metrics \u001b[38;5;241m=\u001b[39m \u001b[38;5;28;43mself\u001b[39;49m\u001b[38;5;241;43m.\u001b[39;49m\u001b[43mtransition_kernel_hmc\u001b[49m\u001b[43m(\u001b[49m\u001b[43minit\u001b[49m\u001b[43m,\u001b[49m\u001b[43m \u001b[49m\u001b[43meps\u001b[49m\u001b[38;5;241;43m=\u001b[39;49m\u001b[43meps\u001b[49m\u001b[43m)\u001b[49m\n\u001b[1;32m    284\u001b[0m \u001b[38;5;28;01mreturn\u001b[39;00m {\u001b[38;5;124m'\u001b[39m\u001b[38;5;124minit\u001b[39m\u001b[38;5;124m'\u001b[39m: init, \u001b[38;5;124m'\u001b[39m\u001b[38;5;124mproposed\u001b[39m\u001b[38;5;124m'\u001b[39m: proposed, \u001b[38;5;124m'\u001b[39m\u001b[38;5;124mmetrics\u001b[39m\u001b[38;5;124m'\u001b[39m: metrics}\n",
      "File \u001b[0;32m~/projects/l2hmc-qcd/src/l2hmc/dynamics/tensorflow/dynamics.py:408\u001b[0m, in \u001b[0;36mDynamics.transition_kernel_hmc\u001b[0;34m(self, state, eps, nsteps)\u001b[0m\n\u001b[1;32m    405\u001b[0m     nsteps \u001b[38;5;241m=\u001b[39m \u001b[38;5;28mself\u001b[39m\u001b[38;5;241m.\u001b[39mconfig\u001b[38;5;241m.\u001b[39mnleapfrog \u001b[38;5;28;01mif\u001b[39;00m nsteps \u001b[38;5;129;01mis\u001b[39;00m \u001b[38;5;28;01mNone\u001b[39;00m \u001b[38;5;28;01melse\u001b[39;00m nsteps\n\u001b[1;32m    407\u001b[0m \u001b[38;5;28;01mfor\u001b[39;00m _ \u001b[38;5;129;01min\u001b[39;00m \u001b[38;5;28mrange\u001b[39m(nsteps):\n\u001b[0;32m--> 408\u001b[0m     state_ \u001b[38;5;241m=\u001b[39m \u001b[38;5;28;43mself\u001b[39;49m\u001b[38;5;241;43m.\u001b[39;49m\u001b[43mleapfrog_hmc\u001b[49m\u001b[43m(\u001b[49m\u001b[43mstate_\u001b[49m\u001b[43m,\u001b[49m\u001b[43m \u001b[49m\u001b[43meps\u001b[49m\u001b[38;5;241;43m=\u001b[39;49m\u001b[43meps\u001b[49m\u001b[43m)\u001b[49m\n\u001b[1;32m    409\u001b[0m     \u001b[38;5;28;01mif\u001b[39;00m \u001b[38;5;28mself\u001b[39m\u001b[38;5;241m.\u001b[39mconfig\u001b[38;5;241m.\u001b[39mverbose:\n\u001b[1;32m    410\u001b[0m         history \u001b[38;5;241m=\u001b[39m \u001b[38;5;28mself\u001b[39m\u001b[38;5;241m.\u001b[39mupdate_history(\n\u001b[1;32m    411\u001b[0m             \u001b[38;5;28mself\u001b[39m\u001b[38;5;241m.\u001b[39mget_metrics(state_, sumlogdet),\n\u001b[1;32m    412\u001b[0m             history\u001b[38;5;241m=\u001b[39mhistory,\n\u001b[1;32m    413\u001b[0m         )\n",
      "File \u001b[0;32m~/projects/l2hmc-qcd/src/l2hmc/dynamics/tensorflow/dynamics.py:380\u001b[0m, in \u001b[0;36mDynamics.leapfrog_hmc\u001b[0;34m(self, state, eps)\u001b[0m\n\u001b[1;32m    378\u001b[0m v1 \u001b[38;5;241m=\u001b[39m state\u001b[38;5;241m.\u001b[39mv \u001b[38;5;241m-\u001b[39m \u001b[38;5;241m0.5\u001b[39m \u001b[38;5;241m*\u001b[39m dt \u001b[38;5;241m*\u001b[39m force1                   \u001b[38;5;66;03m# v -= ½ veps * f\u001b[39;00m\n\u001b[1;32m    379\u001b[0m \u001b[38;5;66;03m# xp = x + dt * v1                             # x += xeps * v\u001b[39;00m\n\u001b[0;32m--> 380\u001b[0m xp \u001b[38;5;241m=\u001b[39m \u001b[38;5;28;43mself\u001b[39;49m\u001b[38;5;241;43m.\u001b[39;49m\u001b[43mg\u001b[49m\u001b[38;5;241;43m.\u001b[39;49m\u001b[43mupdate_gauge\u001b[49m\u001b[43m(\u001b[49m\u001b[43mx\u001b[49m\u001b[43m,\u001b[49m\u001b[43m \u001b[49m\u001b[43mdt\u001b[49m\u001b[43m \u001b[49m\u001b[38;5;241;43m*\u001b[39;49m\u001b[43m \u001b[49m\u001b[43mv1\u001b[49m\u001b[43m)\u001b[49m\n\u001b[1;32m    381\u001b[0m force2 \u001b[38;5;241m=\u001b[39m \u001b[38;5;28mself\u001b[39m\u001b[38;5;241m.\u001b[39mgrad_potential(xp, state\u001b[38;5;241m.\u001b[39mbeta)       \u001b[38;5;66;03m# calc force, again\u001b[39;00m\n\u001b[1;32m    382\u001b[0m v2 \u001b[38;5;241m=\u001b[39m v1 \u001b[38;5;241m-\u001b[39m dt \u001b[38;5;241m*\u001b[39m force2                              \u001b[38;5;66;03m# v -= ½ veps * f\u001b[39;00m\n",
      "File \u001b[0;32m~/projects/l2hmc-qcd/src/l2hmc/group/tensorflow/group.py:113\u001b[0m, in \u001b[0;36mSU3.update_gauge\u001b[0;34m(self, x, p)\u001b[0m\n\u001b[1;32m    108\u001b[0m \u001b[38;5;28;01mdef\u001b[39;00m \u001b[38;5;21mupdate_gauge\u001b[39m(\n\u001b[1;32m    109\u001b[0m         \u001b[38;5;28mself\u001b[39m,\n\u001b[1;32m    110\u001b[0m         x: Tensor,\n\u001b[1;32m    111\u001b[0m         p: Tensor,\n\u001b[1;32m    112\u001b[0m ) \u001b[38;5;241m-\u001b[39m\u001b[38;5;241m>\u001b[39m Tensor:\n\u001b[0;32m--> 113\u001b[0m     \u001b[38;5;28;01mreturn\u001b[39;00m \u001b[38;5;28mself\u001b[39m\u001b[38;5;241m.\u001b[39mmul(\u001b[38;5;28;43mself\u001b[39;49m\u001b[38;5;241;43m.\u001b[39;49m\u001b[43mexp\u001b[49m\u001b[43m(\u001b[49m\u001b[43mp\u001b[49m\u001b[43m)\u001b[49m, x)\n",
      "File \u001b[0;32m~/projects/l2hmc-qcd/src/l2hmc/group/tensorflow/group.py:137\u001b[0m, in \u001b[0;36mSU3.exp\u001b[0;34m(self, x)\u001b[0m\n\u001b[1;32m    136\u001b[0m \u001b[38;5;28;01mdef\u001b[39;00m \u001b[38;5;21mexp\u001b[39m(\u001b[38;5;28mself\u001b[39m, x: Tensor) \u001b[38;5;241m-\u001b[39m\u001b[38;5;241m>\u001b[39m Tensor:\n\u001b[0;32m--> 137\u001b[0m     \u001b[38;5;28;01mreturn\u001b[39;00m \u001b[43mexp\u001b[49m\u001b[43m(\u001b[49m\u001b[43mx\u001b[49m\u001b[43m)\u001b[49m\n",
      "File \u001b[0;32m~/projects/l2hmc-qcd/src/l2hmc/group/tensorflow/group.py:417\u001b[0m, in \u001b[0;36mexp\u001b[0;34m(m, order)\u001b[0m\n\u001b[1;32m    415\u001b[0m \u001b[38;5;28;01mdef\u001b[39;00m \u001b[38;5;21mexp\u001b[39m(m: Tensor, order: \u001b[38;5;28mint\u001b[39m \u001b[38;5;241m=\u001b[39m \u001b[38;5;241m12\u001b[39m):\n\u001b[1;32m    416\u001b[0m     eye \u001b[38;5;241m=\u001b[39m eyeOf(m)\n\u001b[0;32m--> 417\u001b[0m     x \u001b[38;5;241m=\u001b[39m eye \u001b[38;5;241m+\u001b[39m \u001b[43mm\u001b[49m\u001b[43m \u001b[49m\u001b[38;5;241;43m/\u001b[39;49m\u001b[43m \u001b[49m\u001b[43mtf\u001b[49m\u001b[38;5;241;43m.\u001b[39;49m\u001b[43mconstant\u001b[49m\u001b[43m(\u001b[49m\u001b[43morder\u001b[49m\u001b[43m)\u001b[49m\n\u001b[1;32m    418\u001b[0m     \u001b[38;5;28;01mfor\u001b[39;00m i \u001b[38;5;129;01min\u001b[39;00m tf\u001b[38;5;241m.\u001b[39mrange(order\u001b[38;5;241m-\u001b[39m\u001b[38;5;241m1\u001b[39m, \u001b[38;5;241m0\u001b[39m, \u001b[38;5;241m-\u001b[39m\u001b[38;5;241m1\u001b[39m):\n\u001b[1;32m    419\u001b[0m         x \u001b[38;5;241m=\u001b[39m eye \u001b[38;5;241m+\u001b[39m tf\u001b[38;5;241m.\u001b[39mlinalg\u001b[38;5;241m.\u001b[39mmatmul(m, x) \u001b[38;5;241m/\u001b[39m tf\u001b[38;5;241m.\u001b[39mconstant(tf\u001b[38;5;241m.\u001b[39mcast(i, m\u001b[38;5;241m.\u001b[39mdtype))\n",
      "File \u001b[0;32m~/projects/l2hmc-qcd/.venv/lib/python3.10/site-packages/tensorflow/python/util/traceback_utils.py:153\u001b[0m, in \u001b[0;36mfilter_traceback.<locals>.error_handler\u001b[0;34m(*args, **kwargs)\u001b[0m\n\u001b[1;32m    151\u001b[0m \u001b[38;5;28;01mexcept\u001b[39;00m \u001b[38;5;167;01mException\u001b[39;00m \u001b[38;5;28;01mas\u001b[39;00m e:\n\u001b[1;32m    152\u001b[0m   filtered_tb \u001b[38;5;241m=\u001b[39m _process_traceback_frames(e\u001b[38;5;241m.\u001b[39m__traceback__)\n\u001b[0;32m--> 153\u001b[0m   \u001b[38;5;28;01mraise\u001b[39;00m e\u001b[38;5;241m.\u001b[39mwith_traceback(filtered_tb) \u001b[38;5;28;01mfrom\u001b[39;00m \u001b[38;5;28mNone\u001b[39m\n\u001b[1;32m    154\u001b[0m \u001b[38;5;28;01mfinally\u001b[39;00m:\n\u001b[1;32m    155\u001b[0m   \u001b[38;5;28;01mdel\u001b[39;00m filtered_tb\n",
      "File \u001b[0;32m~/projects/l2hmc-qcd/.venv/lib/python3.10/site-packages/tensorflow/python/ops/math_ops.py:1516\u001b[0m, in \u001b[0;36m_truediv_python3\u001b[0;34m(x, y, name)\u001b[0m\n\u001b[1;32m   1514\u001b[0m y_dtype \u001b[38;5;241m=\u001b[39m y\u001b[38;5;241m.\u001b[39mdtype\u001b[38;5;241m.\u001b[39mbase_dtype\n\u001b[1;32m   1515\u001b[0m \u001b[38;5;28;01mif\u001b[39;00m x_dtype \u001b[38;5;241m!=\u001b[39m y_dtype:\n\u001b[0;32m-> 1516\u001b[0m   \u001b[38;5;28;01mraise\u001b[39;00m \u001b[38;5;167;01mTypeError\u001b[39;00m(\u001b[38;5;124mf\u001b[39m\u001b[38;5;124m\"\u001b[39m\u001b[38;5;124m`x` and `y` must have the same dtype, \u001b[39m\u001b[38;5;124m\"\u001b[39m\n\u001b[1;32m   1517\u001b[0m                   \u001b[38;5;124mf\u001b[39m\u001b[38;5;124m\"\u001b[39m\u001b[38;5;124mgot \u001b[39m\u001b[38;5;132;01m{\u001b[39;00mx_dtype\u001b[38;5;132;01m!r}\u001b[39;00m\u001b[38;5;124m != \u001b[39m\u001b[38;5;132;01m{\u001b[39;00my_dtype\u001b[38;5;132;01m!r}\u001b[39;00m\u001b[38;5;124m.\u001b[39m\u001b[38;5;124m\"\u001b[39m)\n\u001b[1;32m   1518\u001b[0m \u001b[38;5;28;01mtry\u001b[39;00m:\n\u001b[1;32m   1519\u001b[0m   dtype \u001b[38;5;241m=\u001b[39m _TRUEDIV_TABLE[x_dtype]\n",
      "\u001b[0;31mTypeError\u001b[0m: `x` and `y` must have the same dtype, got tf.complex64 != tf.int32."
     ]
    }
   ],
   "source": [
    "run_hmc(exp_tf, beta=6.0, x=xtf)"
   ]
  },
  {
   "cell_type": "code",
   "execution_count": 25,
   "id": "7bc4dd1b",
   "metadata": {
    "ExecuteTime": {
     "end_time": "2022-06-05T11:12:28.553301Z",
     "start_time": "2022-06-05T10:55:52.912590Z"
    }
   },
   "outputs": [
    {
     "name": "stdout",
     "output_type": "stream",
     "text": [
      "> \u001b[0;32m/Users/saforem2/projects/l2hmc-qcd/.venv/lib/python3.10/site-packages/tensorflow/python/ops/math_ops.py\u001b[0m(1516)\u001b[0;36m_truediv_python3\u001b[0;34m()\u001b[0m\n",
      "\u001b[0;32m   1514 \u001b[0;31m    \u001b[0my_dtype\u001b[0m \u001b[0;34m=\u001b[0m \u001b[0my\u001b[0m\u001b[0;34m.\u001b[0m\u001b[0mdtype\u001b[0m\u001b[0;34m.\u001b[0m\u001b[0mbase_dtype\u001b[0m\u001b[0;34m\u001b[0m\u001b[0;34m\u001b[0m\u001b[0m\n",
      "\u001b[0m\u001b[0;32m   1515 \u001b[0;31m    \u001b[0;32mif\u001b[0m \u001b[0mx_dtype\u001b[0m \u001b[0;34m!=\u001b[0m \u001b[0my_dtype\u001b[0m\u001b[0;34m:\u001b[0m\u001b[0;34m\u001b[0m\u001b[0;34m\u001b[0m\u001b[0m\n",
      "\u001b[0m\u001b[0;32m-> 1516 \u001b[0;31m      raise TypeError(f\"`x` and `y` must have the same dtype, \"\n",
      "\u001b[0m\u001b[0;32m   1517 \u001b[0;31m                      f\"got {x_dtype!r} != {y_dtype!r}.\")\n",
      "\u001b[0m\u001b[0;32m   1518 \u001b[0;31m    \u001b[0;32mtry\u001b[0m\u001b[0;34m:\u001b[0m\u001b[0;34m\u001b[0m\u001b[0;34m\u001b[0m\u001b[0m\n",
      "\u001b[0m\n",
      "ipdb> up\n",
      "> \u001b[0;32m/Users/saforem2/projects/l2hmc-qcd/.venv/lib/python3.10/site-packages/tensorflow/python/util/traceback_utils.py\u001b[0m(153)\u001b[0;36merror_handler\u001b[0;34m()\u001b[0m\n",
      "\u001b[0;32m    151 \u001b[0;31m    \u001b[0;32mexcept\u001b[0m \u001b[0mException\u001b[0m \u001b[0;32mas\u001b[0m \u001b[0me\u001b[0m\u001b[0;34m:\u001b[0m\u001b[0;34m\u001b[0m\u001b[0;34m\u001b[0m\u001b[0m\n",
      "\u001b[0m\u001b[0;32m    152 \u001b[0;31m      \u001b[0mfiltered_tb\u001b[0m \u001b[0;34m=\u001b[0m \u001b[0m_process_traceback_frames\u001b[0m\u001b[0;34m(\u001b[0m\u001b[0me\u001b[0m\u001b[0;34m.\u001b[0m\u001b[0m__traceback__\u001b[0m\u001b[0;34m)\u001b[0m\u001b[0;34m\u001b[0m\u001b[0;34m\u001b[0m\u001b[0m\n",
      "\u001b[0m\u001b[0;32m--> 153 \u001b[0;31m      \u001b[0;32mraise\u001b[0m \u001b[0me\u001b[0m\u001b[0;34m.\u001b[0m\u001b[0mwith_traceback\u001b[0m\u001b[0;34m(\u001b[0m\u001b[0mfiltered_tb\u001b[0m\u001b[0;34m)\u001b[0m \u001b[0;32mfrom\u001b[0m \u001b[0;32mNone\u001b[0m\u001b[0;34m\u001b[0m\u001b[0;34m\u001b[0m\u001b[0m\n",
      "\u001b[0m\u001b[0;32m    154 \u001b[0;31m    \u001b[0;32mfinally\u001b[0m\u001b[0;34m:\u001b[0m\u001b[0;34m\u001b[0m\u001b[0;34m\u001b[0m\u001b[0m\n",
      "\u001b[0m\u001b[0;32m    155 \u001b[0;31m      \u001b[0;32mdel\u001b[0m \u001b[0mfiltered_tb\u001b[0m\u001b[0;34m\u001b[0m\u001b[0;34m\u001b[0m\u001b[0m\n",
      "\u001b[0m\n",
      "ipdb> up\n",
      "> \u001b[0;32m/Users/saforem2/projects/l2hmc-qcd/src/l2hmc/group/tensorflow/group.py\u001b[0m(417)\u001b[0;36mexp\u001b[0;34m()\u001b[0m\n",
      "\u001b[0;32m    415 \u001b[0;31m\u001b[0;32mdef\u001b[0m \u001b[0mexp\u001b[0m\u001b[0;34m(\u001b[0m\u001b[0mm\u001b[0m\u001b[0;34m:\u001b[0m \u001b[0mTensor\u001b[0m\u001b[0;34m,\u001b[0m \u001b[0morder\u001b[0m\u001b[0;34m:\u001b[0m \u001b[0mint\u001b[0m \u001b[0;34m=\u001b[0m \u001b[0;36m12\u001b[0m\u001b[0;34m)\u001b[0m\u001b[0;34m:\u001b[0m\u001b[0;34m\u001b[0m\u001b[0;34m\u001b[0m\u001b[0m\n",
      "\u001b[0m\u001b[0;32m    416 \u001b[0;31m    \u001b[0meye\u001b[0m \u001b[0;34m=\u001b[0m \u001b[0meyeOf\u001b[0m\u001b[0;34m(\u001b[0m\u001b[0mm\u001b[0m\u001b[0;34m)\u001b[0m\u001b[0;34m\u001b[0m\u001b[0;34m\u001b[0m\u001b[0m\n",
      "\u001b[0m\u001b[0;32m--> 417 \u001b[0;31m    \u001b[0mx\u001b[0m \u001b[0;34m=\u001b[0m \u001b[0meye\u001b[0m \u001b[0;34m+\u001b[0m \u001b[0mm\u001b[0m \u001b[0;34m/\u001b[0m \u001b[0mtf\u001b[0m\u001b[0;34m.\u001b[0m\u001b[0mconstant\u001b[0m\u001b[0;34m(\u001b[0m\u001b[0morder\u001b[0m\u001b[0;34m)\u001b[0m\u001b[0;34m\u001b[0m\u001b[0;34m\u001b[0m\u001b[0m\n",
      "\u001b[0m\u001b[0;32m    418 \u001b[0;31m    \u001b[0;32mfor\u001b[0m \u001b[0mi\u001b[0m \u001b[0;32min\u001b[0m \u001b[0mtf\u001b[0m\u001b[0;34m.\u001b[0m\u001b[0mrange\u001b[0m\u001b[0;34m(\u001b[0m\u001b[0morder\u001b[0m\u001b[0;34m-\u001b[0m\u001b[0;36m1\u001b[0m\u001b[0;34m,\u001b[0m \u001b[0;36m0\u001b[0m\u001b[0;34m,\u001b[0m \u001b[0;34m-\u001b[0m\u001b[0;36m1\u001b[0m\u001b[0;34m)\u001b[0m\u001b[0;34m:\u001b[0m\u001b[0;34m\u001b[0m\u001b[0;34m\u001b[0m\u001b[0m\n",
      "\u001b[0m\u001b[0;32m    419 \u001b[0;31m        \u001b[0mx\u001b[0m \u001b[0;34m=\u001b[0m \u001b[0meye\u001b[0m \u001b[0;34m+\u001b[0m \u001b[0mtf\u001b[0m\u001b[0;34m.\u001b[0m\u001b[0mlinalg\u001b[0m\u001b[0;34m.\u001b[0m\u001b[0mmatmul\u001b[0m\u001b[0;34m(\u001b[0m\u001b[0mm\u001b[0m\u001b[0;34m,\u001b[0m \u001b[0mx\u001b[0m\u001b[0;34m)\u001b[0m \u001b[0;34m/\u001b[0m \u001b[0mtf\u001b[0m\u001b[0;34m.\u001b[0m\u001b[0mconstant\u001b[0m\u001b[0;34m(\u001b[0m\u001b[0mtf\u001b[0m\u001b[0;34m.\u001b[0m\u001b[0mcast\u001b[0m\u001b[0;34m(\u001b[0m\u001b[0mi\u001b[0m\u001b[0;34m,\u001b[0m \u001b[0mm\u001b[0m\u001b[0;34m.\u001b[0m\u001b[0mdtype\u001b[0m\u001b[0;34m)\u001b[0m\u001b[0;34m)\u001b[0m\u001b[0;34m\u001b[0m\u001b[0;34m\u001b[0m\u001b[0m\n",
      "\u001b[0m\n",
      "ipdb> l\n",
      "\u001b[1;32m    412 \u001b[0m    \u001b[0;32mreturn\u001b[0m \u001b[0mtf\u001b[0m\u001b[0;34m.\u001b[0m\u001b[0meye\u001b[0m\u001b[0;34m(\u001b[0m\u001b[0;34m*\u001b[0m\u001b[0mm\u001b[0m\u001b[0;34m.\u001b[0m\u001b[0mshape\u001b[0m\u001b[0;34m[\u001b[0m\u001b[0;34m-\u001b[0m\u001b[0;36m2\u001b[0m\u001b[0;34m:\u001b[0m\u001b[0;34m]\u001b[0m\u001b[0;34m,\u001b[0m \u001b[0mbatch_shape\u001b[0m\u001b[0;34m=\u001b[0m\u001b[0mbatch_shape\u001b[0m\u001b[0;34m,\u001b[0m \u001b[0mdtype\u001b[0m\u001b[0;34m=\u001b[0m\u001b[0mm\u001b[0m\u001b[0;34m.\u001b[0m\u001b[0mdtype\u001b[0m\u001b[0;34m)\u001b[0m\u001b[0;34m\u001b[0m\u001b[0;34m\u001b[0m\u001b[0m\n",
      "\u001b[1;32m    413 \u001b[0m\u001b[0;34m\u001b[0m\u001b[0m\n",
      "\u001b[1;32m    414 \u001b[0m\u001b[0;34m\u001b[0m\u001b[0m\n",
      "\u001b[1;32m    415 \u001b[0m\u001b[0;32mdef\u001b[0m \u001b[0mexp\u001b[0m\u001b[0;34m(\u001b[0m\u001b[0mm\u001b[0m\u001b[0;34m:\u001b[0m \u001b[0mTensor\u001b[0m\u001b[0;34m,\u001b[0m \u001b[0morder\u001b[0m\u001b[0;34m:\u001b[0m \u001b[0mint\u001b[0m \u001b[0;34m=\u001b[0m \u001b[0;36m12\u001b[0m\u001b[0;34m)\u001b[0m\u001b[0;34m:\u001b[0m\u001b[0;34m\u001b[0m\u001b[0;34m\u001b[0m\u001b[0m\n",
      "\u001b[1;32m    416 \u001b[0m    \u001b[0meye\u001b[0m \u001b[0;34m=\u001b[0m \u001b[0meyeOf\u001b[0m\u001b[0;34m(\u001b[0m\u001b[0mm\u001b[0m\u001b[0;34m)\u001b[0m\u001b[0;34m\u001b[0m\u001b[0;34m\u001b[0m\u001b[0m\n",
      "\u001b[0;32m--> 417 \u001b[0;31m    \u001b[0mx\u001b[0m \u001b[0;34m=\u001b[0m \u001b[0meye\u001b[0m \u001b[0;34m+\u001b[0m \u001b[0mm\u001b[0m \u001b[0;34m/\u001b[0m \u001b[0mtf\u001b[0m\u001b[0;34m.\u001b[0m\u001b[0mconstant\u001b[0m\u001b[0;34m(\u001b[0m\u001b[0morder\u001b[0m\u001b[0;34m)\u001b[0m\u001b[0;34m\u001b[0m\u001b[0;34m\u001b[0m\u001b[0m\n",
      "\u001b[0m\u001b[1;32m    418 \u001b[0m    \u001b[0;32mfor\u001b[0m \u001b[0mi\u001b[0m \u001b[0;32min\u001b[0m \u001b[0mtf\u001b[0m\u001b[0;34m.\u001b[0m\u001b[0mrange\u001b[0m\u001b[0;34m(\u001b[0m\u001b[0morder\u001b[0m\u001b[0;34m-\u001b[0m\u001b[0;36m1\u001b[0m\u001b[0;34m,\u001b[0m \u001b[0;36m0\u001b[0m\u001b[0;34m,\u001b[0m \u001b[0;34m-\u001b[0m\u001b[0;36m1\u001b[0m\u001b[0;34m)\u001b[0m\u001b[0;34m:\u001b[0m\u001b[0;34m\u001b[0m\u001b[0;34m\u001b[0m\u001b[0m\n",
      "\u001b[1;32m    419 \u001b[0m        \u001b[0mx\u001b[0m \u001b[0;34m=\u001b[0m \u001b[0meye\u001b[0m \u001b[0;34m+\u001b[0m \u001b[0mtf\u001b[0m\u001b[0;34m.\u001b[0m\u001b[0mlinalg\u001b[0m\u001b[0;34m.\u001b[0m\u001b[0mmatmul\u001b[0m\u001b[0;34m(\u001b[0m\u001b[0mm\u001b[0m\u001b[0;34m,\u001b[0m \u001b[0mx\u001b[0m\u001b[0;34m)\u001b[0m \u001b[0;34m/\u001b[0m \u001b[0mtf\u001b[0m\u001b[0;34m.\u001b[0m\u001b[0mconstant\u001b[0m\u001b[0;34m(\u001b[0m\u001b[0mtf\u001b[0m\u001b[0;34m.\u001b[0m\u001b[0mcast\u001b[0m\u001b[0;34m(\u001b[0m\u001b[0mi\u001b[0m\u001b[0;34m,\u001b[0m \u001b[0mm\u001b[0m\u001b[0;34m.\u001b[0m\u001b[0mdtype\u001b[0m\u001b[0;34m)\u001b[0m\u001b[0;34m)\u001b[0m\u001b[0;34m\u001b[0m\u001b[0;34m\u001b[0m\u001b[0m\n",
      "\u001b[1;32m    420 \u001b[0m\u001b[0;34m\u001b[0m\u001b[0m\n",
      "\u001b[1;32m    421 \u001b[0m    \u001b[0;32mreturn\u001b[0m \u001b[0mx\u001b[0m\u001b[0;34m\u001b[0m\u001b[0;34m\u001b[0m\u001b[0m\n",
      "\u001b[1;32m    422 \u001b[0m\u001b[0;34m\u001b[0m\u001b[0m\n",
      "\n",
      "ipdb> up\n",
      "> \u001b[0;32m/Users/saforem2/projects/l2hmc-qcd/src/l2hmc/group/tensorflow/group.py\u001b[0m(137)\u001b[0;36mexp\u001b[0;34m()\u001b[0m\n",
      "\u001b[0;32m    135 \u001b[0;31m\u001b[0;34m\u001b[0m\u001b[0m\n",
      "\u001b[0m\u001b[0;32m    136 \u001b[0;31m    \u001b[0;32mdef\u001b[0m \u001b[0mexp\u001b[0m\u001b[0;34m(\u001b[0m\u001b[0mself\u001b[0m\u001b[0;34m,\u001b[0m \u001b[0mx\u001b[0m\u001b[0;34m:\u001b[0m \u001b[0mTensor\u001b[0m\u001b[0;34m)\u001b[0m \u001b[0;34m->\u001b[0m \u001b[0mTensor\u001b[0m\u001b[0;34m:\u001b[0m\u001b[0;34m\u001b[0m\u001b[0;34m\u001b[0m\u001b[0m\n",
      "\u001b[0m\u001b[0;32m--> 137 \u001b[0;31m        \u001b[0;32mreturn\u001b[0m \u001b[0mexp\u001b[0m\u001b[0;34m(\u001b[0m\u001b[0mx\u001b[0m\u001b[0;34m)\u001b[0m\u001b[0;34m\u001b[0m\u001b[0;34m\u001b[0m\u001b[0m\n",
      "\u001b[0m\u001b[0;32m    138 \u001b[0;31m\u001b[0;34m\u001b[0m\u001b[0m\n",
      "\u001b[0m\u001b[0;32m    139 \u001b[0;31m    \u001b[0;32mdef\u001b[0m \u001b[0mprojectTAH\u001b[0m\u001b[0;34m(\u001b[0m\u001b[0mself\u001b[0m\u001b[0;34m,\u001b[0m \u001b[0mx\u001b[0m\u001b[0;34m:\u001b[0m \u001b[0mTensor\u001b[0m\u001b[0;34m)\u001b[0m \u001b[0;34m->\u001b[0m \u001b[0mTensor\u001b[0m\u001b[0;34m:\u001b[0m\u001b[0;34m\u001b[0m\u001b[0;34m\u001b[0m\u001b[0m\n",
      "\u001b[0m\n",
      "ipdb> up\n",
      "> \u001b[0;32m/Users/saforem2/projects/l2hmc-qcd/src/l2hmc/group/tensorflow/group.py\u001b[0m(113)\u001b[0;36mupdate_gauge\u001b[0;34m()\u001b[0m\n",
      "\u001b[0;32m    111 \u001b[0;31m            \u001b[0mp\u001b[0m\u001b[0;34m:\u001b[0m \u001b[0mTensor\u001b[0m\u001b[0;34m,\u001b[0m\u001b[0;34m\u001b[0m\u001b[0;34m\u001b[0m\u001b[0m\n",
      "\u001b[0m\u001b[0;32m    112 \u001b[0;31m    ) -> Tensor:\n",
      "\u001b[0m\u001b[0;32m--> 113 \u001b[0;31m        \u001b[0;32mreturn\u001b[0m \u001b[0mself\u001b[0m\u001b[0;34m.\u001b[0m\u001b[0mmul\u001b[0m\u001b[0;34m(\u001b[0m\u001b[0mself\u001b[0m\u001b[0;34m.\u001b[0m\u001b[0mexp\u001b[0m\u001b[0;34m(\u001b[0m\u001b[0mp\u001b[0m\u001b[0;34m)\u001b[0m\u001b[0;34m,\u001b[0m \u001b[0mx\u001b[0m\u001b[0;34m)\u001b[0m\u001b[0;34m\u001b[0m\u001b[0;34m\u001b[0m\u001b[0m\n",
      "\u001b[0m\u001b[0;32m    114 \u001b[0;31m\u001b[0;34m\u001b[0m\u001b[0m\n",
      "\u001b[0m\u001b[0;32m    115 \u001b[0;31m    def mul(\n",
      "\u001b[0m\n",
      "ipdb> l\n",
      "\u001b[1;32m    108 \u001b[0m    def update_gauge(\n",
      "\u001b[1;32m    109 \u001b[0m            \u001b[0mself\u001b[0m\u001b[0;34m,\u001b[0m\u001b[0;34m\u001b[0m\u001b[0;34m\u001b[0m\u001b[0m\n",
      "\u001b[1;32m    110 \u001b[0m            \u001b[0mx\u001b[0m\u001b[0;34m:\u001b[0m \u001b[0mTensor\u001b[0m\u001b[0;34m,\u001b[0m\u001b[0;34m\u001b[0m\u001b[0;34m\u001b[0m\u001b[0m\n",
      "\u001b[1;32m    111 \u001b[0m            \u001b[0mp\u001b[0m\u001b[0;34m:\u001b[0m \u001b[0mTensor\u001b[0m\u001b[0;34m,\u001b[0m\u001b[0;34m\u001b[0m\u001b[0;34m\u001b[0m\u001b[0m\n",
      "\u001b[1;32m    112 \u001b[0m    ) -> Tensor:\n",
      "\u001b[0;32m--> 113 \u001b[0;31m        \u001b[0;32mreturn\u001b[0m \u001b[0mself\u001b[0m\u001b[0;34m.\u001b[0m\u001b[0mmul\u001b[0m\u001b[0;34m(\u001b[0m\u001b[0mself\u001b[0m\u001b[0;34m.\u001b[0m\u001b[0mexp\u001b[0m\u001b[0;34m(\u001b[0m\u001b[0mp\u001b[0m\u001b[0;34m)\u001b[0m\u001b[0;34m,\u001b[0m \u001b[0mx\u001b[0m\u001b[0;34m)\u001b[0m\u001b[0;34m\u001b[0m\u001b[0;34m\u001b[0m\u001b[0m\n",
      "\u001b[0m\u001b[1;32m    114 \u001b[0m\u001b[0;34m\u001b[0m\u001b[0m\n",
      "\u001b[1;32m    115 \u001b[0m    def mul(\n",
      "\u001b[1;32m    116 \u001b[0m            \u001b[0mself\u001b[0m\u001b[0;34m,\u001b[0m\u001b[0;34m\u001b[0m\u001b[0;34m\u001b[0m\u001b[0m\n",
      "\u001b[1;32m    117 \u001b[0m            \u001b[0ma\u001b[0m\u001b[0;34m:\u001b[0m \u001b[0mTensor\u001b[0m\u001b[0;34m,\u001b[0m\u001b[0;34m\u001b[0m\u001b[0;34m\u001b[0m\u001b[0m\n",
      "\u001b[1;32m    118 \u001b[0m            \u001b[0mb\u001b[0m\u001b[0;34m:\u001b[0m \u001b[0mTensor\u001b[0m\u001b[0;34m,\u001b[0m\u001b[0;34m\u001b[0m\u001b[0;34m\u001b[0m\u001b[0m\n",
      "\n",
      "ipdb> x.dtype\n",
      "tf.complex64\n",
      "ipdb> p.dtype\n",
      "*** SyntaxError: invalid syntax\n",
      "ipdb> z = p\n",
      "ipdb> z.dtype\n",
      "tf.complex64\n",
      "ipdb> q\n"
     ]
    }
   ],
   "source": [
    "%debug"
   ]
  },
  {
   "cell_type": "code",
   "execution_count": 17,
   "id": "5324fa40",
   "metadata": {
    "ExecuteTime": {
     "end_time": "2022-06-01T17:22:54.143174Z",
     "start_time": "2022-06-01T17:22:54.076392Z"
    }
   },
   "outputs": [
    {
     "data": {
      "text/plain": [
       "tensor([[[[[3.9512e+00+1.1921e-06j, 1.9212e-01-1.4901e-08j,\n",
       "            6.6092e+00+2.2650e-06j, 2.2727e+00+3.5167e-06j],\n",
       "           [2.5074e+00-6.5565e-07j, 3.4343e+01-7.1526e-06j,\n",
       "            8.2308e+00+0.0000e+00j, 3.8428e+00+1.1921e-07j],\n",
       "           [3.2881e+00-3.5763e-07j, 8.3902e+00-3.5763e-06j,\n",
       "            1.6303e+01-1.9073e-06j, 2.5934e+01-3.3379e-06j],\n",
       "           [1.4891e+00+1.4901e-06j, 4.8264e+00-4.7684e-07j,\n",
       "            4.3608e+00+1.1921e-07j, 3.4727e+01-1.9073e-06j]],\n",
       "\n",
       "          [[1.5873e+01+4.5300e-06j, 6.1351e+00+8.3447e-07j,\n",
       "            5.3375e+01-3.2425e-05j, 9.4761e-01+4.1723e-07j],\n",
       "           [1.1289e+01+9.5367e-07j, 4.1570e+01-3.0518e-05j,\n",
       "            1.7626e+00-1.0729e-06j, 1.0562e+00+1.7509e-07j],\n",
       "           [2.9871e-02+1.8626e-09j, 1.9787e+01-0.0000e+00j,\n",
       "            4.1281e+01-9.5367e-06j, 2.1909e+00+7.1526e-07j],\n",
       "           [6.8007e+00+9.5367e-07j, 5.7136e+00+9.5367e-07j,\n",
       "            4.3490e+00-3.5763e-07j, 7.5869e-01+0.0000e+00j]],\n",
       "\n",
       "          [[1.1828e+01+4.0531e-06j, 5.4147e+01+4.3869e-05j,\n",
       "            1.4480e+01-4.7684e-07j, 1.0848e+04+6.3965e-02j],\n",
       "           [6.4252e+00-4.7684e-07j, 8.1444e+00+2.9802e-08j,\n",
       "            6.1558e-01+8.9407e-08j, 4.0112e+01+1.2398e-05j],\n",
       "           [3.0662e+00-3.5763e-07j, 1.6040e+00-1.7881e-07j,\n",
       "            1.4376e+00+2.9802e-07j, 1.2974e+01+3.8385e-05j],\n",
       "           [2.1177e+00-1.9372e-07j, 1.3905e+00+1.4901e-08j,\n",
       "            1.3171e+01+0.0000e+00j, 3.1626e+00+2.3842e-07j]],\n",
       "\n",
       "          [[9.3418e+00-6.2585e-07j, 8.8312e+00+4.1723e-07j,\n",
       "            2.2917e+01-1.9073e-06j, 1.0838e+00+2.9802e-08j],\n",
       "           [7.8516e-02+1.6764e-08j, 1.0441e+00-2.9430e-07j,\n",
       "            8.6865e+01+7.2479e-05j, 8.0903e-01-2.9802e-08j],\n",
       "           [7.4264e+00+1.1921e-06j, 1.8619e+00+1.1921e-07j,\n",
       "            7.8817e+01-5.2452e-05j, 9.6343e+00+3.3379e-06j],\n",
       "           [9.2992e-01-2.3842e-07j, 2.8379e+00-2.9802e-07j,\n",
       "            5.3466e+00+4.7684e-07j, 2.4252e+01-4.7684e-05j]]],\n",
       "\n",
       "\n",
       "         [[[4.1405e+01+9.5367e-06j, 1.3688e+02-4.1962e-05j,\n",
       "            1.1062e+01+2.3842e-07j, 7.6471e+00-4.7684e-07j],\n",
       "           [5.3354e+00+0.0000e+00j, 4.3063e+01+7.6294e-06j,\n",
       "            1.0309e+01-1.1206e-05j, 1.3933e+01-1.4305e-06j],\n",
       "           [8.4278e+00+0.0000e+00j, 1.0042e+00+8.0168e-06j,\n",
       "            1.7604e+00+2.2352e-08j, 2.0525e+00+3.5763e-07j],\n",
       "           [5.0866e+00-7.1526e-07j, 7.6739e+00-2.6226e-06j,\n",
       "            4.4073e+00-1.1921e-07j, 4.3995e+00+2.3842e-07j]],\n",
       "\n",
       "          [[1.4618e+01+3.5763e-06j, 2.3757e+02-9.1553e-05j,\n",
       "            6.1281e+01+1.9073e-05j, 3.0417e+00+2.3842e-07j],\n",
       "           [2.2221e+00+2.0862e-07j, 2.2867e+00-4.1723e-07j,\n",
       "            1.3388e+00+0.0000e+00j, 4.3341e+00-7.1526e-07j],\n",
       "           [1.3613e+01-2.2650e-06j, 4.9672e+01-8.2016e-05j,\n",
       "            2.8294e-01-3.0547e-07j, 8.5469e+00+1.1921e-06j],\n",
       "           [4.8800e+00-9.1828e-07j, 8.3032e+00-3.3379e-06j,\n",
       "            3.5135e+00-3.5763e-07j, 9.1515e-01+5.9605e-08j]],\n",
       "\n",
       "          [[4.2192e+00+1.1921e-06j, 2.1116e+00-2.3842e-07j,\n",
       "            3.3065e-01+1.4901e-08j, 4.5384e+00+1.1921e-07j],\n",
       "           [3.2797e+00-5.9605e-07j, 4.4173e-01+5.9605e-08j,\n",
       "            5.5303e+00-1.5497e-06j, 4.8743e+00+1.3113e-06j],\n",
       "           [5.7380e+01+4.7684e-05j, 3.0083e-01-8.9407e-08j,\n",
       "            1.9993e+01+1.9073e-06j, 1.9857e+00+2.3842e-07j],\n",
       "           [1.0617e+01-4.2915e-06j, 1.1089e+01+3.8147e-06j,\n",
       "            2.4199e+01-9.5367e-06j, 7.4936e-01-3.5390e-07j]],\n",
       "\n",
       "          [[4.3279e+00-2.3842e-07j, 4.0407e-01+9.5018e-07j,\n",
       "            1.6612e+01+1.0967e-05j, 5.7743e+00-4.7684e-07j],\n",
       "           [2.5940e+01+6.6757e-06j, 1.7250e+00-1.7285e-06j,\n",
       "            5.4374e-01+2.9802e-08j, 1.0706e+02-2.2697e-04j],\n",
       "           [2.5569e+00-1.0729e-06j, 9.0115e+00-7.1526e-07j,\n",
       "            9.3055e+00-1.1921e-06j, 5.3671e-01-8.9407e-08j],\n",
       "           [8.0328e+00+1.4305e-06j, 2.1989e+01+4.7684e-06j,\n",
       "            8.5389e+00+2.3842e-06j, 4.9718e+01-1.3351e-05j]]],\n",
       "\n",
       "\n",
       "         [[[2.1852e+00+4.7684e-07j, 1.7702e+00+2.9802e-07j,\n",
       "            2.2718e-01+1.5832e-08j, 4.2503e+00-1.4305e-06j],\n",
       "           [4.9391e+00-3.5763e-07j, 5.6998e+00-1.1921e-06j,\n",
       "            8.2962e-01-5.9605e-08j, 1.8781e+01-3.3379e-06j],\n",
       "           [8.6298e-01+5.2154e-08j, 7.7592e+00-2.3842e-07j,\n",
       "            2.9913e+01-7.8678e-06j, 1.4920e+00-5.2294e-07j],\n",
       "           [1.3449e+02+1.1444e-05j, 2.2654e+00+5.9605e-07j,\n",
       "            4.1634e+00+8.3447e-07j, 2.0499e+01-9.0599e-06j]],\n",
       "\n",
       "          [[5.8662e+00+4.2915e-06j, 3.4852e+01+2.3842e-06j,\n",
       "            2.0451e+00-0.0000e+00j, 4.8942e-01-4.3958e-07j],\n",
       "           [9.5632e+01-1.4496e-04j, 1.2353e+00-1.7881e-07j,\n",
       "            1.5100e+01-5.2452e-06j, 7.0710e-01-5.9605e-08j],\n",
       "           [2.1136e+01-9.5367e-07j, 5.0186e+00-7.1526e-07j,\n",
       "            1.7516e+03-2.8381e-02j, 4.1637e+01+7.0572e-05j],\n",
       "           [7.5225e+00+4.7684e-07j, 6.1995e-01-3.8743e-07j,\n",
       "            1.8312e+01-0.0000e+00j, 1.9601e+00-1.1921e-06j]],\n",
       "\n",
       "          [[3.8713e+01+4.7684e-05j, 5.7915e+00-4.7684e-07j,\n",
       "            5.0982e+00-4.7684e-07j, 5.0116e-01-2.7893e-07j],\n",
       "           [1.4275e+00+3.8743e-07j, 7.5933e+01-2.0981e-05j,\n",
       "            8.7584e+00+3.0994e-06j, 2.2067e+00-8.8976e-07j],\n",
       "           [1.9918e-01-1.1921e-06j, 1.9552e+00-2.9802e-07j,\n",
       "            1.1844e-01+2.9802e-08j, 5.4802e-01+5.9605e-08j],\n",
       "           [7.4999e+00+7.1526e-07j, 1.8212e+01-3.3379e-06j,\n",
       "            9.3052e+00-7.1526e-07j, 4.5813e+00-4.2915e-06j]],\n",
       "\n",
       "          [[5.6696e+00-3.5763e-07j, 3.1655e+01+3.7253e-06j,\n",
       "            1.0921e+01-9.5367e-07j, 1.1381e+01-1.9073e-06j],\n",
       "           [3.8022e+00-4.7684e-07j, 5.9411e+02-2.6703e-03j,\n",
       "            2.1134e+00+0.0000e+00j, 1.4211e-01+6.3330e-08j],\n",
       "           [3.6436e+00-2.9802e-06j, 1.8667e+02+1.1444e-04j,\n",
       "            6.8486e+00+1.7285e-06j, 1.7470e+00-2.9802e-07j],\n",
       "           [3.0308e+00-3.1292e-07j, 7.5565e+00-1.9073e-06j,\n",
       "            3.4867e+00-6.9141e-06j, 2.9065e+02-3.0518e-05j]]],\n",
       "\n",
       "\n",
       "         [[[4.8109e+00-1.7881e-07j, 5.8113e+00+9.5367e-07j,\n",
       "            4.0592e+00-1.1623e-06j, 5.3300e+00+4.7684e-07j],\n",
       "           [4.8589e-01+2.2352e-08j, 7.6959e-01+2.9802e-08j,\n",
       "            7.1891e-01+8.9407e-08j, 1.5794e+00-5.9605e-08j],\n",
       "           [1.5713e+01+2.8610e-06j, 2.9177e+00-2.3842e-07j,\n",
       "            8.8715e+01-1.1659e-04j, 1.1182e+01-0.0000e+00j],\n",
       "           [6.3201e+00+1.1921e-06j, 4.7115e+01+9.5367e-06j,\n",
       "            8.9219e-02-5.7742e-08j, 2.8533e+00-1.1921e-06j]],\n",
       "\n",
       "          [[5.7570e+00+2.3842e-06j, 5.0388e+00-9.5367e-07j,\n",
       "            7.2097e+00-8.3447e-06j, 1.2902e+00-2.5034e-06j],\n",
       "           [5.2439e+00-2.3842e-07j, 7.7810e+00+4.7684e-07j,\n",
       "            7.3916e-01+0.0000e+00j, 5.4750e+01+1.7166e-05j],\n",
       "           [1.3247e+00+5.9605e-08j, 8.5060e+00+1.9073e-06j,\n",
       "            1.5255e+00-5.9605e-08j, 2.1264e+00+7.4506e-08j],\n",
       "           [9.2689e-01+1.4901e-08j, 2.9579e-01+4.4703e-08j,\n",
       "            2.0024e+00-1.7881e-07j, 4.8684e+02-1.5030e-03j]],\n",
       "\n",
       "          [[3.2956e-01-7.8976e-07j, 1.3889e+01+0.0000e+00j,\n",
       "            2.6793e+00-1.1921e-07j, 3.9157e+01-4.7684e-06j],\n",
       "           [2.5213e+00-2.3842e-07j, 5.1911e+00-5.2452e-06j,\n",
       "            6.1233e+00-0.0000e+00j, 1.6365e+01+3.5763e-06j],\n",
       "           [2.0946e+00-0.0000e+00j, 2.3112e+00-2.3842e-07j,\n",
       "            2.9581e+00+4.0889e-05j, 3.6756e-01+1.3039e-07j],\n",
       "           [6.4391e+01-6.2943e-05j, 1.1652e+01-5.6028e-06j,\n",
       "            1.9375e+01+4.7684e-07j, 1.9352e-01+2.7940e-08j]],\n",
       "\n",
       "          [[3.1299e+02-2.2507e-04j, 8.6741e-01+5.9605e-08j,\n",
       "            1.3986e+01-2.3842e-06j, 1.8794e+01+1.0014e-05j],\n",
       "           [8.0491e+00-9.5367e-07j, 5.2152e+00-1.7881e-06j,\n",
       "            5.2665e+00-5.9605e-07j, 4.0348e+01-1.7166e-05j],\n",
       "           [3.6558e+00-5.9605e-08j, 5.6000e+00-9.5367e-07j,\n",
       "            3.7292e+00-4.7684e-07j, 8.4820e+00-0.0000e+00j],\n",
       "           [1.0763e+01-4.1723e-06j, 2.7418e+00-0.0000e+00j,\n",
       "            5.2204e-01+1.7881e-07j, 1.2042e+00-5.9605e-08j]]]],\n",
       "\n",
       "\n",
       "\n",
       "        [[[[3.7776e+00-1.1921e-07j, 4.9798e-01+4.4703e-08j,\n",
       "            3.3184e+00+0.0000e+00j, 1.9000e+01-0.0000e+00j],\n",
       "           [7.1904e+00+7.1526e-07j, 2.1159e+01-1.1683e-05j,\n",
       "            4.7196e+00+1.1921e-07j, 2.8950e+00+3.5763e-07j],\n",
       "           [5.3292e+00+2.8610e-06j, 4.6065e+01+4.0531e-05j,\n",
       "            9.1825e-01-2.9802e-08j, 6.1462e+00+4.7684e-07j],\n",
       "           [9.2563e+00-2.2650e-06j, 5.2228e+00-7.1526e-07j,\n",
       "            2.9197e-02-2.6077e-08j, 4.8983e+00-1.6689e-06j]],\n",
       "\n",
       "          [[7.7605e+00-2.3842e-06j, 2.0476e+00+3.5763e-07j,\n",
       "            1.0873e+00+1.1101e-06j, 1.4214e+00-5.9605e-08j],\n",
       "           [3.0045e-01-3.0734e-07j, 1.4549e+00+2.9802e-07j,\n",
       "            3.3835e+01+2.3842e-05j, 1.1215e+01+4.7684e-07j],\n",
       "           [1.4451e+01+9.5367e-07j, 1.4958e+00+1.1921e-07j,\n",
       "            3.6541e+01+4.1962e-05j, 1.7445e+01-3.8147e-06j],\n",
       "           [1.5279e+01-3.3617e-05j, 7.1873e-01-7.4506e-09j,\n",
       "            1.1410e+03+1.8311e-04j, 2.4569e-01+2.2352e-07j]],\n",
       "\n",
       "          [[1.7378e+01-6.6757e-06j, 1.7596e+01+3.3379e-06j,\n",
       "            2.5978e+00+1.7881e-07j, 1.1593e+01+1.9073e-06j],\n",
       "           [6.7940e+00-4.5300e-06j, 1.7421e+01+3.8147e-06j,\n",
       "            4.1249e+00+3.5763e-07j, 2.6111e-01-7.4506e-09j],\n",
       "           [1.3971e+00-1.7881e-07j, 1.4620e+00+1.1921e-07j,\n",
       "            1.3311e+01+4.7684e-07j, 1.2619e-01-1.1176e-08j],\n",
       "           [1.8765e+01+1.1444e-05j, 1.3028e+01+1.4305e-06j,\n",
       "            7.0353e+00+1.7285e-06j, 1.4826e+00-2.9802e-08j]],\n",
       "\n",
       "          [[3.4929e+03+7.2021e-03j, 1.0450e+00-0.0000e+00j,\n",
       "            6.8699e+00+9.5367e-07j, 9.2013e+00-5.9605e-07j],\n",
       "           [1.4500e+01-2.5034e-06j, 1.9227e+00-5.9605e-08j,\n",
       "            9.9862e-01+0.0000e+00j, 3.1521e+01-1.1444e-05j],\n",
       "           [4.0128e-02-5.5879e-09j, 3.8089e-01+9.3877e-07j,\n",
       "            3.7452e+00+1.1921e-06j, 2.2854e-01+8.5682e-08j],\n",
       "           [1.3499e+00-2.3842e-07j, 6.0433e-02-6.0536e-09j,\n",
       "            1.9769e+01-8.5831e-06j, 1.2882e+01+4.7684e-07j]]],\n",
       "\n",
       "\n",
       "         [[[5.0886e+00-1.9073e-06j, 1.6285e+01-2.8610e-06j,\n",
       "            2.7495e-01-7.4506e-08j, 2.0240e+01-1.2159e-05j],\n",
       "           [1.3006e+00+1.1921e-07j, 6.0566e+00-1.1921e-06j,\n",
       "            1.1644e+01+2.1458e-06j, 2.6158e+00+5.3644e-07j],\n",
       "           [1.0127e+01-2.3842e-06j, 1.2177e+02+2.9945e-04j,\n",
       "            3.4745e-01+1.4901e-08j, 1.1126e+00-2.9802e-08j],\n",
       "           [1.0588e+01-8.1062e-06j, 5.2242e-01-1.4901e-08j,\n",
       "            3.0892e-01-7.4506e-09j, 1.0020e+01-2.6226e-06j]],\n",
       "\n",
       "          [[5.9460e+00-1.6689e-06j, 4.4070e-01+8.9407e-08j,\n",
       "            1.8083e+01+1.4305e-06j, 2.4838e+01-9.5367e-06j],\n",
       "           [1.6820e+02+2.4414e-04j, 4.3146e+01+7.2479e-05j,\n",
       "            2.6545e+01+1.3351e-05j, 2.7706e+00+4.9174e-07j],\n",
       "           [1.9830e+01+1.3590e-05j, 2.1984e+01+4.7684e-06j,\n",
       "            2.3753e+00+6.5565e-07j, 4.4181e+00-1.1921e-07j],\n",
       "           [1.1767e+01-1.0133e-06j, 5.0573e+00-1.3709e-06j,\n",
       "            1.9446e+00-1.7881e-07j, 1.2601e-01-4.4703e-08j]],\n",
       "\n",
       "          [[1.9099e+01-3.9577e-05j, 6.5865e+00+2.3842e-06j,\n",
       "            1.2976e+01-2.0266e-06j, 9.5127e+00+1.4305e-06j],\n",
       "           [2.2415e+01-2.8610e-06j, 1.4344e+00+1.7881e-07j,\n",
       "            6.7345e+00-1.1921e-06j, 3.3989e+01+3.8147e-06j],\n",
       "           [6.4419e+00-2.2650e-06j, 1.0444e+01+9.5367e-07j,\n",
       "            4.3638e+01+3.8147e-06j, 4.6617e+01-5.7220e-06j],\n",
       "           [7.7719e+00-7.4506e-09j, 1.3568e+00+1.9372e-07j,\n",
       "            4.5616e+01-3.3379e-06j, 8.4333e-01-2.9802e-08j]],\n",
       "\n",
       "          [[1.8497e+01-6.6757e-06j, 1.1797e+00-0.0000e+00j,\n",
       "            5.0463e+00-1.0729e-06j, 9.3555e-01+1.4901e-07j],\n",
       "           [1.9973e+01+4.2915e-06j, 4.1175e+00-1.1921e-07j,\n",
       "            4.6714e+00-1.1921e-07j, 6.7131e-01+3.3677e-06j],\n",
       "           [4.8534e+00+0.0000e+00j, 1.4017e+00-0.0000e+00j,\n",
       "            7.9523e+00+1.1921e-06j, 2.9507e+01+4.2915e-06j],\n",
       "           [1.6978e+00-2.3842e-07j, 5.3979e+00-1.4305e-06j,\n",
       "            2.2681e+01-2.0981e-05j, 7.4818e-01-1.4901e-08j]]],\n",
       "\n",
       "\n",
       "         [[[3.0323e+00-5.9605e-07j, 5.6145e+00-2.3842e-07j,\n",
       "            2.7890e+00+1.1921e-07j, 2.6009e+01-1.0490e-05j],\n",
       "           [6.4902e+00-1.6093e-06j, 6.1931e-01-2.9802e-08j,\n",
       "            1.7076e+00-2.3842e-07j, 1.2904e+01+4.7684e-07j],\n",
       "           [1.0069e+01-2.8610e-06j, 1.8302e-01+1.6764e-08j,\n",
       "            1.7096e+01+1.1921e-05j, 4.0217e+00+1.7881e-07j],\n",
       "           [7.3026e+00-2.3842e-07j, 3.4924e+01-0.0000e+00j,\n",
       "            1.8936e-01-7.4506e-09j, 4.3327e+01+6.2943e-05j]],\n",
       "\n",
       "          [[1.1269e+01-4.7684e-07j, 1.2415e+01-7.6294e-06j,\n",
       "            2.3743e+00+2.3842e-07j, 7.9230e+00-7.8678e-06j],\n",
       "           [3.2978e+00-5.9605e-08j, 2.4227e+00+5.9605e-07j,\n",
       "            7.2336e+00-9.5367e-07j, 1.0072e+01+1.6689e-06j],\n",
       "           [7.6807e+00-1.6689e-06j, 1.1579e+01-1.9073e-06j,\n",
       "            1.1209e+01-6.6757e-06j, 9.7817e-01+1.3411e-07j],\n",
       "           [4.3562e+01-3.2425e-05j, 4.1319e+00+4.1723e-07j,\n",
       "            1.0228e+01+2.6226e-06j, 7.0709e+00-1.6689e-06j]],\n",
       "\n",
       "          [[5.0870e+00+7.1526e-07j, 1.9247e+00-5.3644e-07j,\n",
       "            8.5446e+01+0.0000e+00j, 3.5953e+00-4.6939e-07j],\n",
       "           [2.7446e+00+2.5332e-07j, 1.9522e+01-1.9073e-06j,\n",
       "            5.3629e+01-1.7166e-05j, 1.1801e+01+5.4836e-06j],\n",
       "           [1.1379e+01+3.3379e-06j, 7.8388e+02-8.5449e-04j,\n",
       "            5.3210e+00+2.3842e-07j, 2.9731e+00-1.1921e-07j],\n",
       "           [9.4748e+00+1.6689e-06j, 7.9223e+00-1.9073e-06j,\n",
       "            2.1277e+00-3.9395e-07j, 5.8048e+00-6.5565e-07j]],\n",
       "\n",
       "          [[3.5272e+00+2.1458e-06j, 2.9019e+00-5.1260e-06j,\n",
       "            2.3856e+01-2.8610e-05j, 2.0316e+01+4.7088e-06j],\n",
       "           [1.6741e+02-3.8147e-06j, 1.7847e+00-2.3842e-07j,\n",
       "            8.2920e+02+6.1035e-05j, 7.4638e-01+5.9605e-08j],\n",
       "           [2.2602e+01-8.1062e-06j, 1.6481e+01-5.7220e-06j,\n",
       "            6.9182e+00-2.3842e-07j, 5.9986e+00+1.2994e-05j],\n",
       "           [4.4362e+00+2.9802e-07j, 6.1938e+00+2.3842e-07j,\n",
       "            8.8183e+00+2.3842e-07j, 4.6520e+00-1.2219e-06j]]],\n",
       "\n",
       "\n",
       "         [[[9.1805e+00+2.8610e-06j, 1.8778e+00+7.4506e-08j,\n",
       "            1.9483e+01-4.7684e-06j, 2.0718e+01+9.5367e-07j],\n",
       "           [1.4804e+00+1.7881e-07j, 7.6858e+00+2.3693e-06j,\n",
       "            2.0599e+00-1.3709e-06j, 3.1628e+00-1.1921e-07j],\n",
       "           [8.2465e+00+1.6689e-06j, 4.3174e+01-1.3351e-05j,\n",
       "            3.3409e+00-1.1921e-07j, 1.5089e+00-7.4506e-08j],\n",
       "           [8.1456e-01-1.7881e-07j, 1.7651e+01+2.8610e-06j,\n",
       "            3.1537e+00-2.3097e-07j, 8.7490e-01-1.7881e-07j]],\n",
       "\n",
       "          [[7.8236e-01+1.5646e-07j, 2.8848e+00-2.0862e-07j,\n",
       "            1.3748e+01-2.1458e-06j, 9.3874e+00+9.5367e-07j],\n",
       "           [1.2256e+01-2.3842e-07j, 1.1367e+02-4.5776e-05j,\n",
       "            3.5685e+00-0.0000e+00j, 8.9081e+01-4.1962e-05j],\n",
       "           [8.6227e+00+2.8610e-06j, 1.7954e+01+1.6212e-05j,\n",
       "            6.9522e-01-5.9605e-08j, 1.7895e+00+3.5763e-07j],\n",
       "           [1.3868e+00-1.1921e-07j, 1.3184e+01+1.4305e-06j,\n",
       "            2.9596e+00+1.0133e-06j, 1.1187e-01-7.4506e-09j]],\n",
       "\n",
       "          [[1.7999e+01+0.0000e+00j, 5.5325e+00+5.9605e-07j,\n",
       "            2.1543e+00-4.7684e-07j, 1.3458e+01-7.1526e-07j],\n",
       "           [2.8951e+00+3.5763e-07j, 1.8421e+01-2.3842e-06j,\n",
       "            1.8830e+01-7.6294e-06j, 1.4763e+01-1.9372e-06j],\n",
       "           [4.3616e+00+5.9605e-07j, 2.2308e+01-9.1553e-05j,\n",
       "            8.2417e+00+2.6226e-06j, 2.2289e+00-2.9802e-07j],\n",
       "           [2.8224e+00-6.9290e-07j, 5.0718e+00+1.1921e-07j,\n",
       "            8.7066e+00+3.8147e-06j, 6.5305e-01+2.6822e-07j]],\n",
       "\n",
       "          [[7.6736e+00-0.0000e+00j, 3.0510e+01-2.2888e-05j,\n",
       "            1.6128e+00+2.9802e-08j, 5.8386e+02+8.7357e-03j],\n",
       "           [1.7126e+00+0.0000e+00j, 1.6379e+01-6.4373e-06j,\n",
       "            1.2475e+01-6.6757e-06j, 2.1241e+00+1.7881e-07j],\n",
       "           [1.4158e+01-2.1458e-06j, 2.6143e+01-9.5367e-06j,\n",
       "            2.4205e+01-0.0000e+00j, 8.3997e-01-3.5763e-07j],\n",
       "           [7.4025e+01-3.0518e-05j, 1.8314e-01-3.7253e-08j,\n",
       "            7.2554e+00-5.3481e-07j, 5.1531e-02+0.0000e+00j]]]],\n",
       "\n",
       "\n",
       "\n",
       "        [[[[3.5951e+00-5.9605e-07j, 2.1161e+01+1.0729e-06j,\n",
       "            8.1377e+00-0.0000e+00j, 3.5277e+01+8.3923e-05j],\n",
       "           [7.5251e+00-4.7684e-07j, 7.7512e-01+2.3413e-06j,\n",
       "            3.1619e+00-5.9605e-07j, 5.7006e+00-2.3842e-07j],\n",
       "           [8.4132e+00-2.8610e-06j, 3.9493e+01-8.5831e-06j,\n",
       "            4.5552e+01-1.9836e-04j, 2.0601e+00-4.7684e-07j],\n",
       "           [4.4457e-01-8.9407e-08j, 2.6110e+00-9.5367e-07j,\n",
       "            8.8413e-02-5.9605e-08j, 1.3088e+01+0.0000e+00j]],\n",
       "\n",
       "          [[4.8451e+01+3.4332e-05j, 4.0881e+00-2.9802e-07j,\n",
       "            6.8808e+00-7.1526e-07j, 2.4020e-01+2.2352e-07j],\n",
       "           [2.8332e+00+1.4901e-07j, 1.9946e+00+0.0000e+00j,\n",
       "            3.2209e+02-1.0967e-04j, 4.9600e-01+2.8610e-06j],\n",
       "           [2.3625e+00-2.9802e-08j, 1.0479e+02-1.8120e-05j,\n",
       "            8.2413e+01+1.2779e-04j, 2.8099e+00+4.7684e-07j],\n",
       "           [3.5797e+01+7.5698e-06j, 2.6589e+01-5.7220e-06j,\n",
       "            1.1337e+00+8.9407e-08j, 5.6272e+00+2.0862e-06j]],\n",
       "\n",
       "          [[4.3955e-01+7.5996e-07j, 1.0620e+01-2.3842e-07j,\n",
       "            7.0626e+00-1.1921e-06j, 6.9394e+00+0.0000e+00j],\n",
       "           [9.2646e+00-1.1921e-06j, 8.6325e+00+3.3379e-06j,\n",
       "            1.1081e+01+3.2187e-06j, 5.7740e+00+2.3842e-07j],\n",
       "           [1.2605e+01+1.0490e-05j, 9.8415e-01+5.9605e-08j,\n",
       "            4.9679e+01+5.7220e-06j, 4.7790e+00-2.9802e-07j],\n",
       "           [8.3751e-02-1.1176e-08j, 1.6444e+00+4.9174e-07j,\n",
       "            4.1343e+00-4.7684e-07j, 7.6620e+00-2.3842e-06j]],\n",
       "\n",
       "          [[7.4409e+00-1.1921e-07j, 4.7828e-01-2.9802e-08j,\n",
       "            1.7409e+01-2.1935e-05j, 1.0474e+02+8.9645e-05j],\n",
       "           [2.1297e+00-2.3842e-07j, 4.5939e+02+1.5259e-05j,\n",
       "            1.0183e+01+1.0490e-05j, 3.2945e+01+1.0490e-05j],\n",
       "           [4.6175e+01+9.5367e-06j, 4.9486e+00-2.3842e-07j,\n",
       "            4.0094e+00-2.3842e-07j, 3.5342e+00+7.1526e-07j],\n",
       "           [1.0690e+00+8.9407e-08j, 1.2031e+00-1.4901e-07j,\n",
       "            1.9407e+00-2.3842e-07j, 8.6274e-01+5.3644e-07j]]],\n",
       "\n",
       "\n",
       "         [[[3.5727e+01-1.9073e-06j, 7.9877e-01-0.0000e+00j,\n",
       "            5.3604e+00-1.9073e-06j, 1.4227e+01+4.2915e-06j],\n",
       "           [2.8462e+01+1.5736e-05j, 7.7322e+00-4.7684e-07j,\n",
       "            8.9158e+00-4.7684e-06j, 3.5612e+00-1.9073e-06j],\n",
       "           [1.0545e+01+9.5367e-07j, 4.1783e+00-5.9605e-08j,\n",
       "            7.5407e-02+1.3039e-08j, 1.5836e+02-1.5259e-05j],\n",
       "           [4.5609e+00-9.5367e-07j, 9.4248e-02+1.9162e-07j,\n",
       "            1.3347e+01+1.0490e-05j, 9.3395e+00+4.7684e-07j]],\n",
       "\n",
       "          [[9.1963e+00-3.8147e-06j, 9.7849e+00+9.5367e-07j,\n",
       "            4.8013e+00+5.6624e-07j, 9.2203e+01-5.3406e-05j],\n",
       "           [4.1824e+01+2.0027e-05j, 2.1534e+01+3.0994e-06j,\n",
       "            1.3066e+01-1.0967e-05j, 6.1869e-01+1.9372e-07j],\n",
       "           [1.6448e+01+6.6757e-06j, 1.0115e+01+2.3842e-07j,\n",
       "            1.1712e+01-3.8147e-06j, 1.7381e+00-2.9802e-07j],\n",
       "           [7.4624e+00+4.7684e-07j, 2.3389e+00+5.9605e-08j,\n",
       "            6.2081e+00+4.7684e-07j, 1.3314e+01+1.6689e-06j]],\n",
       "\n",
       "          [[8.1417e-01-7.4506e-09j, 5.4831e+00+4.1723e-07j,\n",
       "            1.1926e+01-3.4571e-06j, 5.2527e+00+1.5497e-05j],\n",
       "           [2.0234e+01-1.8120e-05j, 2.7890e+00-1.1921e-07j,\n",
       "            8.6771e-01-4.4703e-07j, 4.2455e+01-7.6294e-06j],\n",
       "           [1.1141e+00-4.1723e-07j, 8.4701e+00-9.5367e-07j,\n",
       "            2.6217e+00+2.3842e-07j, 1.0547e+01+1.9073e-06j],\n",
       "           [2.3425e+00-3.3341e-07j, 5.8649e+01-4.2915e-06j,\n",
       "            3.6561e+00+1.1921e-07j, 2.0287e+01-1.9789e-05j]],\n",
       "\n",
       "          [[4.6841e+01+1.3351e-05j, 3.1525e-01+0.0000e+00j,\n",
       "            6.2160e+02+7.1716e-04j, 2.0973e+00+1.3113e-06j],\n",
       "           [1.6348e+01-1.0967e-05j, 4.7221e+00-9.5367e-07j,\n",
       "            5.3264e+00-3.0994e-06j, 7.5046e+00+1.1921e-07j],\n",
       "           [4.3384e+01-2.4796e-05j, 3.9197e-01-1.4901e-08j,\n",
       "            3.1295e+00-3.5763e-07j, 3.2848e+00-1.1921e-07j],\n",
       "           [2.2025e+00+1.1325e-06j, 4.5131e-02+2.7940e-08j,\n",
       "            1.4747e+01-2.8610e-06j, 9.8642e-02-1.5348e-06j]]],\n",
       "\n",
       "\n",
       "         [[[3.9562e-01+4.4703e-08j, 1.0954e+01-4.7684e-07j,\n",
       "            2.0250e+00-1.1921e-07j, 8.8210e-01-8.9407e-08j],\n",
       "           [2.7484e+02+7.7438e-04j, 6.7848e+00+1.5497e-06j,\n",
       "            1.3365e+02+3.8147e-05j, 4.6641e+00+5.3644e-07j],\n",
       "           [3.3074e+00-5.9605e-07j, 1.3033e+00-1.1921e-07j,\n",
       "            2.1763e+00-5.9605e-06j, 3.9130e+00-1.1921e-07j],\n",
       "           [1.0093e+02-3.8147e-05j, 1.6604e+00-8.9407e-08j,\n",
       "            3.1417e+00-2.3842e-07j, 4.0515e+00+2.3842e-07j]],\n",
       "\n",
       "          [[1.1413e+00+5.9605e-08j, 8.3127e-01+5.9605e-08j,\n",
       "            3.9534e+00+1.1921e-06j, 6.5511e+00-4.7684e-07j],\n",
       "           [4.1254e+00-7.1526e-07j, 2.0367e+00+1.9372e-07j,\n",
       "            1.2651e+02+9.5367e-06j, 3.9055e+00-8.3447e-07j],\n",
       "           [7.4462e-01+5.9605e-08j, 1.0864e+00-1.3411e-07j,\n",
       "            7.1915e+00-1.4305e-06j, 6.2568e+00+4.7684e-07j],\n",
       "           [1.0724e+00+2.0862e-07j, 7.0245e+00-2.3842e-07j,\n",
       "            3.8844e-01-7.4506e-09j, 3.2958e+00+0.0000e+00j]],\n",
       "\n",
       "          [[4.3844e+00-5.9605e-07j, 1.8035e+00+1.1921e-07j,\n",
       "            1.4809e+01-3.8147e-06j, 3.8274e+00-2.9802e-07j],\n",
       "           [5.4349e-01-1.4901e-07j, 1.7145e+00-5.9605e-08j,\n",
       "            2.2025e+01-9.0599e-06j, 2.0553e+00-2.9802e-07j],\n",
       "           [1.6391e+01-9.5367e-07j, 8.8598e-01+2.9802e-08j,\n",
       "            1.0515e+01-4.7684e-07j, 4.7093e+01-1.5259e-05j],\n",
       "           [2.4040e+00+1.0729e-06j, 1.7927e+01-9.5367e-07j,\n",
       "            2.8306e+00-2.9802e-07j, 8.9147e+00-1.9073e-06j]],\n",
       "\n",
       "          [[4.6897e+00+7.7486e-07j, 6.1487e-01-3.4343e-08j,\n",
       "            2.1788e+00+4.1723e-07j, 1.9751e+01-2.8610e-06j],\n",
       "           [1.0198e+02-6.8665e-04j, 1.2217e+01-4.7684e-07j,\n",
       "            6.9999e-01+3.8743e-07j, 5.5810e+01-3.6240e-05j],\n",
       "           [3.4375e+00+3.8743e-07j, 2.3359e+01-4.5776e-05j,\n",
       "            1.1762e+01-4.7684e-07j, 1.2193e+01+9.5367e-07j],\n",
       "           [7.7998e-01+8.9407e-08j, 4.1339e+00-5.9605e-07j,\n",
       "            1.6207e+00-1.1921e-07j, 6.1066e-01+2.9802e-08j]]],\n",
       "\n",
       "\n",
       "         [[[4.1132e-01+8.9407e-08j, 5.2576e+00+9.6858e-07j,\n",
       "            1.1144e+01+9.5367e-07j, 6.3337e+00-3.4869e-06j],\n",
       "           [1.4438e+01-3.8147e-06j, 1.1000e+01-2.3842e-06j,\n",
       "            3.3801e+00-8.9407e-08j, 1.8449e+01-9.5367e-07j],\n",
       "           [1.8582e+01-3.0994e-06j, 1.7508e+00+1.4901e-07j,\n",
       "            1.6244e+00+4.1723e-07j, 1.7782e+00-3.5763e-07j],\n",
       "           [1.7260e+00-1.7881e-07j, 2.4890e+01-1.8120e-05j,\n",
       "            4.0907e+00+4.7684e-07j, 1.2860e+01-2.8610e-06j]],\n",
       "\n",
       "          [[1.5181e+00+5.9605e-08j, 5.9222e+00-4.7684e-07j,\n",
       "            4.1694e+00-9.6858e-07j, 6.7474e-01+4.4703e-08j],\n",
       "           [1.9210e+01-4.7684e-06j, 9.1263e-01-5.9605e-08j,\n",
       "            1.0419e+01+9.5367e-07j, 2.0788e+01+6.1989e-06j],\n",
       "           [1.5102e-01-6.2259e-07j, 1.4492e-01+2.4587e-07j,\n",
       "            1.5400e+00+2.6822e-07j, 2.4755e+00-1.1921e-07j],\n",
       "           [3.6469e+00-5.9605e-07j, 2.2922e+00+0.0000e+00j,\n",
       "            5.8592e-03-1.4668e-08j, 1.3648e+01-2.8610e-06j]],\n",
       "\n",
       "          [[7.1330e+00+1.4305e-06j, 6.5889e-01+0.0000e+00j,\n",
       "            8.9087e+00+2.3842e-07j, 7.7056e+01-3.8147e-05j],\n",
       "           [5.9575e+00-4.7684e-07j, 1.5824e+00-8.9407e-08j,\n",
       "            2.1058e+00+2.3842e-07j, 2.5442e+00-1.7881e-07j],\n",
       "           [1.5247e+00+1.7881e-07j, 1.6841e+00+0.0000e+00j,\n",
       "            2.5085e+00-8.3447e-07j, 1.8157e+01-2.7657e-05j],\n",
       "           [3.0077e+01-0.0000e+00j, 5.6935e+01-6.1035e-05j,\n",
       "            1.9347e+00-1.7881e-07j, 5.2496e+00-7.1526e-07j]],\n",
       "\n",
       "          [[3.1034e+01-2.8610e-06j, 1.2962e+00-1.1921e-07j,\n",
       "            1.5996e+01+1.4305e-06j, 4.2193e+00-1.1921e-07j],\n",
       "           [4.0369e+00+7.6964e-06j, 6.1948e+02+1.5259e-05j,\n",
       "            6.1273e+00+9.5367e-07j, 2.3419e+01-4.7684e-06j],\n",
       "           [5.9160e+00-2.3842e-07j, 3.0556e+01+1.4305e-06j,\n",
       "            3.6716e+00-1.1921e-06j, 7.7878e+00-4.0531e-06j],\n",
       "           [2.9541e+00+2.3842e-07j, 4.6032e+01-3.8147e-06j,\n",
       "            2.0407e+01+1.9073e-06j, 1.7126e+02-1.3351e-05j]]]],\n",
       "\n",
       "\n",
       "\n",
       "        [[[[4.2919e+00+1.0729e-06j, 7.5602e+00-4.7684e-07j,\n",
       "            1.6521e-01-0.0000e+00j, 4.2841e+00-9.5367e-07j],\n",
       "           [2.1409e+01+7.6294e-06j, 1.2607e+00+2.9057e-07j,\n",
       "            1.7650e+01-9.5367e-07j, 1.0032e+02+7.2479e-05j],\n",
       "           [3.1857e+00+3.1590e-06j, 2.3486e+01+5.7220e-06j,\n",
       "            4.6274e+00+2.3842e-07j, 2.4714e+01-4.1962e-05j],\n",
       "           [2.3489e+01+2.8610e-06j, 3.0934e+01-1.9073e-06j,\n",
       "            1.4508e+01+7.6294e-06j, 7.1858e+00+2.6226e-06j]],\n",
       "\n",
       "          [[9.7503e+00+2.3842e-07j, 5.9388e-01+1.1921e-07j,\n",
       "            1.2701e+01+6.1989e-06j, 4.8037e-01+1.4901e-08j],\n",
       "           [1.0136e+01+3.1590e-06j, 2.6113e+00+2.3842e-07j,\n",
       "            1.3802e+00-1.1921e-07j, 4.5747e+00+5.9605e-08j],\n",
       "           [1.3143e+00+2.6822e-07j, 2.0005e+00-5.3644e-07j,\n",
       "            4.9095e+00-1.5497e-06j, 9.1266e+00+4.7684e-07j],\n",
       "           [1.4323e+00+1.9670e-06j, 4.1601e+00-1.0729e-06j,\n",
       "            1.3165e+00-0.0000e+00j, 1.2374e+01-8.5831e-06j]],\n",
       "\n",
       "          [[3.7472e-01+0.0000e+00j, 9.7426e-01+3.7253e-08j,\n",
       "            7.1764e+00+1.4305e-06j, 4.5160e+00-5.6624e-07j],\n",
       "           [3.2771e-01-4.6566e-09j, 1.3821e-01+1.4901e-08j,\n",
       "            3.0738e+00+1.3411e-07j, 7.2191e-01-2.9802e-07j],\n",
       "           [4.8593e+00+3.7253e-09j, 8.5744e+00-4.4703e-07j,\n",
       "            1.1996e+02+3.8147e-06j, 8.3732e-01+6.7055e-08j],\n",
       "           [9.8792e+00-2.3842e-06j, 3.5540e+00-3.5167e-06j,\n",
       "            5.3682e+00+2.7418e-06j, 2.1014e+01+1.6689e-06j]],\n",
       "\n",
       "          [[4.4742e-01+1.3411e-07j, 5.5057e+00+7.1526e-07j,\n",
       "            2.3240e+01-5.0068e-06j, 5.3465e+00-2.0862e-06j],\n",
       "           [7.6991e-01+1.9744e-07j, 5.5206e-01-2.3842e-07j,\n",
       "            9.9822e+00+2.9802e-06j, 9.7013e-01-1.1921e-07j],\n",
       "           [1.8127e+01-5.3644e-06j, 5.5697e+00-2.3842e-07j,\n",
       "            9.1131e-01-2.6822e-07j, 5.9024e+00+2.3842e-07j],\n",
       "           [3.1801e+01+3.5286e-05j, 1.0130e+01+4.7684e-06j,\n",
       "            3.7522e+00-1.1921e-07j, 1.0549e+01-7.8678e-06j]]],\n",
       "\n",
       "\n",
       "         [[[4.6056e+00-4.7684e-07j, 1.2870e-01-2.9802e-08j,\n",
       "            5.7130e+00+2.3842e-07j, 7.5389e+00-9.7752e-06j],\n",
       "           [1.2270e+01-2.3842e-07j, 2.0917e-01+5.2154e-08j,\n",
       "            1.8335e+01+3.8147e-06j, 3.7172e+01-1.9312e-05j],\n",
       "           [2.5228e+00-2.9802e-06j, 1.4571e+01+4.7684e-06j,\n",
       "            2.1948e+00-1.7881e-07j, 5.5813e-01+5.9605e-08j],\n",
       "           [8.7081e+00-4.7684e-07j, 3.9812e-01+1.0990e-07j,\n",
       "            5.0296e-01+1.7881e-07j, 1.9373e+01+9.5367e-07j]],\n",
       "\n",
       "          [[2.0348e-01+3.7253e-08j, 1.0803e+01+5.2452e-06j,\n",
       "            2.6888e+01+2.0444e-05j, 2.1281e+01-3.8147e-06j],\n",
       "           [5.1431e-01+1.0431e-07j, 1.2482e+01+1.7881e-06j,\n",
       "            1.3202e+00-2.3842e-07j, 1.1667e+01+1.9073e-06j],\n",
       "           [6.9113e+00+2.3842e-07j, 1.5689e+00-0.0000e+00j,\n",
       "            4.9465e+01+6.1035e-05j, 4.2459e+00+2.3842e-07j],\n",
       "           [3.7504e+00+1.1921e-06j, 3.2187e+01+2.5749e-05j,\n",
       "            2.5704e+00+2.0862e-06j, 1.5059e-01+7.4506e-09j]],\n",
       "\n",
       "          [[1.6606e+00-1.7881e-07j, 6.0627e+00-1.1921e-06j,\n",
       "            1.0076e+01-2.6226e-06j, 1.0014e+00-1.4901e-07j],\n",
       "           [4.6346e+00-8.9407e-07j, 1.0947e+00-2.9802e-08j,\n",
       "            4.5263e+00+5.9605e-07j, 2.1117e+01-2.8610e-06j],\n",
       "           [1.9464e+00+5.9605e-08j, 1.5223e+01+4.2915e-06j,\n",
       "            5.8231e-01+1.8068e-07j, 2.5916e+00-1.1921e-07j],\n",
       "           [2.2676e+00+1.0994e-06j, 4.3690e+01-3.8147e-06j,\n",
       "            2.7505e+00-1.9073e-06j, 5.6216e-01+2.2352e-08j]],\n",
       "\n",
       "          [[1.2995e+00+7.4506e-08j, 7.4190e-01+3.5763e-07j,\n",
       "            2.5674e+00-9.5367e-07j, 8.5390e+00-2.8610e-06j],\n",
       "           [2.2460e+00+4.8429e-07j, 2.8387e+00+0.0000e+00j,\n",
       "            2.6154e-01+0.0000e+00j, 1.1204e+01-2.8610e-06j],\n",
       "           [2.3031e+00-2.3842e-07j, 2.0091e+00+5.9605e-08j,\n",
       "            3.4744e+00-2.9802e-07j, 3.9248e+00-6.5565e-07j],\n",
       "           [1.7335e+00-2.3842e-07j, 4.1052e-01+5.2154e-08j,\n",
       "            3.6685e+01+1.5259e-05j, 6.9439e-01-2.7046e-06j]]],\n",
       "\n",
       "\n",
       "         [[[1.3759e+00-7.4506e-08j, 9.7704e-02-1.4901e-08j,\n",
       "            1.6932e+00+1.1921e-07j, 1.0938e+01+2.8610e-06j],\n",
       "           [1.7296e+00+1.7881e-07j, 4.8046e+00-1.4007e-06j,\n",
       "            1.5762e+01+8.1062e-06j, 2.6434e-01+2.2352e-08j],\n",
       "           [9.9467e+00-7.7486e-07j, 2.8671e+00+5.9605e-07j,\n",
       "            6.3273e+01-5.5790e-05j, 3.2487e+00+1.4901e-08j],\n",
       "           [3.9756e-02+2.4773e-07j, 1.1974e-01+3.7253e-08j,\n",
       "            2.9774e+00-1.1921e-07j, 5.4965e+00+1.1921e-06j]],\n",
       "\n",
       "          [[4.2410e+01-2.1935e-05j, 1.3902e+00+5.9605e-08j,\n",
       "            8.2177e+00+3.5763e-07j, 7.3995e-01-5.9605e-08j],\n",
       "           [7.3368e+00+1.4305e-06j, 6.3578e-01+1.4901e-07j,\n",
       "            1.9665e+00-8.1956e-08j, 8.8754e+01+2.3842e-06j],\n",
       "           [1.1923e+01+2.1458e-06j, 1.1052e+01-1.9073e-06j,\n",
       "            1.1937e+00+5.9605e-08j, 6.0746e+00+2.2650e-06j],\n",
       "           [1.1869e+01-1.9073e-06j, 1.0645e+01-9.5367e-07j,\n",
       "            5.9214e+01-7.6294e-06j, 7.6545e+00-9.5367e-07j]],\n",
       "\n",
       "          [[1.0546e+01+5.3644e-07j, 1.9127e+00-5.9605e-08j,\n",
       "            2.2663e+00+2.9802e-07j, 1.0026e+01-5.9605e-07j],\n",
       "           [7.9086e+00-4.7684e-07j, 4.7429e+01+3.0518e-05j,\n",
       "            1.9861e-01-7.8790e-07j, 1.0268e+00-5.9605e-08j],\n",
       "           [1.3733e+02-3.7956e-04j, 1.6572e+02-1.1063e-04j,\n",
       "            3.0937e+00+5.9605e-07j, 2.0588e+00+1.1921e-07j],\n",
       "           [4.5271e+00-1.1921e-07j, 5.3226e-01-7.4506e-08j,\n",
       "            4.1134e+00-1.6689e-06j, 3.3060e+01-1.9073e-05j]],\n",
       "\n",
       "          [[2.7382e+00-1.1921e-07j, 1.6270e+01+5.5552e-05j,\n",
       "            3.0054e+01+2.6703e-05j, 2.0148e+00-1.1921e-07j],\n",
       "           [4.6637e+00-2.3842e-07j, 2.6145e+00-4.7684e-07j,\n",
       "            3.2743e+00-4.7684e-07j, 3.1385e+00+1.3113e-06j],\n",
       "           [2.0069e+01+2.1458e-06j, 8.4402e+00+2.3842e-07j,\n",
       "            3.8488e+00+3.5763e-07j, 7.3609e+02-1.2207e-04j],\n",
       "           [7.4745e+01+5.6267e-05j, 3.7123e+00+1.0878e-06j,\n",
       "            1.1367e+01+1.1325e-05j, 3.9087e+00-5.9605e-07j]]],\n",
       "\n",
       "\n",
       "         [[[2.0157e+00-2.3842e-07j, 3.0166e+01-1.0681e-04j,\n",
       "            3.8850e+01+7.6294e-06j, 1.4781e-01+2.6077e-08j],\n",
       "           [3.8654e+00+7.1526e-07j, 1.7357e+00-5.9605e-08j,\n",
       "            6.2326e+00+0.0000e+00j, 6.7924e+00+3.0994e-06j],\n",
       "           [6.0249e-01+0.0000e+00j, 2.5638e+01-2.8610e-06j,\n",
       "            2.6481e+00+3.5763e-07j, 9.0888e-01-1.4901e-07j],\n",
       "           [9.7448e-01-8.9407e-08j, 1.6278e+01-9.5367e-07j,\n",
       "            2.1434e+00-2.3842e-07j, 2.4743e+00+1.1921e-07j]],\n",
       "\n",
       "          [[3.0654e+01-3.8147e-06j, 5.9728e-01-1.1921e-07j,\n",
       "            3.0985e+01+1.1444e-05j, 3.5606e+00+3.5763e-07j],\n",
       "           [6.5176e-01-3.1292e-06j, 3.7878e+00+1.7881e-06j,\n",
       "            2.1180e-01-2.2352e-08j, 3.2985e+00+1.5497e-06j],\n",
       "           [1.6012e+01-3.3379e-06j, 1.0306e+02-4.1199e-04j,\n",
       "            1.4879e+02+2.2888e-05j, 2.0926e+00-5.0664e-07j],\n",
       "           [2.3029e-02-2.1094e-07j, 2.7739e+00+1.7881e-07j,\n",
       "            1.7693e+00-2.9802e-08j, 1.4770e+01+4.7684e-07j]],\n",
       "\n",
       "          [[7.3164e+00+3.2783e-07j, 2.5771e+01-2.0027e-05j,\n",
       "            7.6028e-01-1.1921e-07j, 4.1619e+00+1.1921e-07j],\n",
       "           [7.7885e+00+1.1921e-06j, 7.6472e+00+2.6524e-06j,\n",
       "            1.8903e+01-1.5259e-05j, 5.4698e+00+2.3842e-07j],\n",
       "           [2.8342e+01+9.5367e-07j, 7.1828e+00-4.7684e-07j,\n",
       "            3.0332e+01+1.3351e-05j, 6.4079e+00-1.4305e-06j],\n",
       "           [1.3794e+00-2.3842e-07j, 3.7197e+01-9.3460e-05j,\n",
       "            1.8390e+00-5.9605e-08j, 2.8708e+00-2.3842e-07j]],\n",
       "\n",
       "          [[1.3102e+01-4.7684e-07j, 7.0469e+00+4.7684e-07j,\n",
       "            6.2895e-01-0.0000e+00j, 2.0484e+00-0.0000e+00j],\n",
       "           [6.9152e+00-1.1921e-06j, 1.3672e+00+8.9407e-08j,\n",
       "            6.8353e+00+9.5367e-07j, 3.8450e+00+0.0000e+00j],\n",
       "           [1.8704e+01+3.3379e-06j, 6.7039e+00-1.1921e-07j,\n",
       "            4.2201e+00-4.7684e-07j, 6.3828e+00-7.2718e-06j],\n",
       "           [2.2425e+02+4.1199e-04j, 1.3042e+02-1.2970e-04j,\n",
       "            4.4606e+00-4.7684e-07j, 9.9112e+00-9.5367e-07j]]]]])"
      ]
     },
     "execution_count": 17,
     "metadata": {},
     "output_type": "execute_result"
    }
   ],
   "source": [
    "xpt[0].det()"
   ]
  },
  {
   "cell_type": "code",
   "execution_count": 15,
   "id": "0fb33183",
   "metadata": {
    "ExecuteTime": {
     "end_time": "2022-05-31T21:26:29.532770Z",
     "start_time": "2022-05-31T21:26:29.270285Z"
    }
   },
   "outputs": [],
   "source": [
    "inputs_pt = (xpt, torch.tensor(1.0))\n",
    "xpt_, hmetrics_pt = exp_pt.dynamics.apply_transition_hmc(inputs_pt, eps=torch.tensor(0.00001))"
   ]
  },
  {
   "cell_type": "code",
   "execution_count": 12,
   "id": "ce553e2d",
   "metadata": {
    "ExecuteTime": {
     "end_time": "2022-05-31T21:25:18.704506Z",
     "start_time": "2022-05-31T21:25:17.280404Z"
    }
   },
   "outputs": [],
   "source": [
    "inputs_tf = (xtf, tf.constant(1.0))\n",
    "xtf_, hmetrics_tf = exp_tf.dynamics.apply_transition_hmc(inputs_tf, eps=tf.constant(0.000001))"
   ]
  },
  {
   "cell_type": "code",
   "execution_count": null,
   "id": "243dee1f",
   "metadata": {},
   "outputs": [],
   "source": []
  },
  {
   "cell_type": "code",
   "execution_count": 13,
   "id": "cb78ab16",
   "metadata": {
    "ExecuteTime": {
     "end_time": "2022-05-31T21:25:27.870847Z",
     "start_time": "2022-05-31T21:25:27.793593Z"
    }
   },
   "outputs": [
    {
     "data": {
      "text/plain": [
       "0j"
      ]
     },
     "execution_count": 13,
     "metadata": {},
     "output_type": "execute_result"
    }
   ],
   "source": [
    "(xpt.numpy() - xtf.numpy()).sum()"
   ]
  },
  {
   "cell_type": "code",
   "execution_count": 24,
   "id": "63e8099e",
   "metadata": {
    "ExecuteTime": {
     "end_time": "2022-05-31T21:29:27.597188Z",
     "start_time": "2022-05-31T21:29:27.546721Z"
    }
   },
   "outputs": [
    {
     "name": "stdout",
     "output_type": "stream",
     "text": [
      "energy (pt): 31637.9921875\n",
      "logprob (pt): 31637.9921875\n",
      "logdet (pt): 0.0\n",
      "acc (pt): 0.9787447452545166\n",
      "sumlogdet (pt): 0.0\n",
      "acc_mask (pt): 1.0\n",
      "--------------------------------------------------------------------------------\n",
      "energy (tf): 31656.37890625\n",
      "logprob (tf): 31656.37890625\n",
      "logdet (tf): 0.0\n",
      "acc (tf): 0.8470330238342285\n",
      "sumlogdet (tf): 0.0\n",
      "acc_mask (tf): (1+0j)\n"
     ]
    }
   ],
   "source": [
    "mcstates_pt = hmetrics_pt.pop('mc_states', None)\n",
    "mcstates_tf = hmetrics_tf.pop('mc_states', None)\n",
    "print('\\n'.join([f'{key} (pt): {val.mean()}' for key, val in hmetrics_pt.items()]))\n",
    "print(80 *'-')\n",
    "print('\\n'.join([f'{key} (tf): {val.numpy().mean()}' for key, val in hmetrics_tf.items()]))"
   ]
  },
  {
   "cell_type": "code",
   "execution_count": 25,
   "id": "f906044c",
   "metadata": {
    "ExecuteTime": {
     "end_time": "2022-05-31T21:30:51.746291Z",
     "start_time": "2022-05-31T21:30:51.655247Z"
    }
   },
   "outputs": [],
   "source": [
    "lmetrics_pt = lattice_pt.calc_metrics(x=xpt)"
   ]
  },
  {
   "cell_type": "code",
   "execution_count": 26,
   "id": "522defac",
   "metadata": {
    "ExecuteTime": {
     "end_time": "2022-05-31T21:30:55.548942Z",
     "start_time": "2022-05-31T21:30:55.490588Z"
    }
   },
   "outputs": [],
   "source": [
    "lmetrics_tf = lattice_tf.calc_metrics(x=xtf)"
   ]
  },
  {
   "cell_type": "code",
   "execution_count": 27,
   "id": "9254bf65",
   "metadata": {
    "ExecuteTime": {
     "end_time": "2022-05-31T21:30:59.291028Z",
     "start_time": "2022-05-31T21:30:59.234861Z"
    }
   },
   "outputs": [],
   "source": [
    "wlpt, _ = lattice_pt._wilson_loops(xpt, needs_rect=False)\n",
    "wltf, _ = lattice_tf._wilson_loops(xtf, needs_rect=False)"
   ]
  },
  {
   "cell_type": "code",
   "execution_count": 28,
   "id": "4244cfdf",
   "metadata": {
    "ExecuteTime": {
     "end_time": "2022-05-31T21:35:31.385355Z",
     "start_time": "2022-05-31T21:35:31.053805Z"
    }
   },
   "outputs": [],
   "source": [
    "dwl = (wlpt.numpy() - wltf.numpy())"
   ]
  },
  {
   "cell_type": "code",
   "execution_count": 29,
   "id": "8005ee4c",
   "metadata": {
    "ExecuteTime": {
     "end_time": "2022-05-31T21:35:35.399988Z",
     "start_time": "2022-05-31T21:35:35.349082Z"
    }
   },
   "outputs": [
    {
     "data": {
      "text/plain": [
       "0j"
      ]
     },
     "execution_count": 29,
     "metadata": {},
     "output_type": "execute_result"
    }
   ],
   "source": [
    "(dwl ** 2).sum()"
   ]
  },
  {
   "cell_type": "code",
   "execution_count": 30,
   "id": "49335323",
   "metadata": {
    "ExecuteTime": {
     "end_time": "2022-05-31T21:35:39.203835Z",
     "start_time": "2022-05-31T21:35:39.152248Z"
    }
   },
   "outputs": [],
   "source": [
    "qpt = wlpt.imag.sum(tuple(range(2, len(wlpt.shape)))).sum(0)\n",
    "qtf = tf.reduce_sum(\n",
    "    tf.reduce_sum(tf.math.imag(wltf), axis=range(2, len(wltf.shape))),\n",
    "    axis=0\n",
    ")\n",
    "qpt /= (32 * (np.pi ** 2))\n",
    "qtf /= (32 * (np.pi ** 2))"
   ]
  },
  {
   "cell_type": "code",
   "execution_count": 31,
   "id": "fe840c1b",
   "metadata": {
    "ExecuteTime": {
     "end_time": "2022-05-31T21:35:43.100578Z",
     "start_time": "2022-05-31T21:35:43.049151Z"
    }
   },
   "outputs": [
    {
     "data": {
      "text/plain": [
       "array([269.0069], dtype=float32)"
      ]
     },
     "execution_count": 31,
     "metadata": {},
     "output_type": "execute_result"
    }
   ],
   "source": [
    "qpt.numpy()"
   ]
  },
  {
   "cell_type": "code",
   "execution_count": 32,
   "id": "6440a0a7",
   "metadata": {
    "ExecuteTime": {
     "end_time": "2022-05-31T21:35:46.808861Z",
     "start_time": "2022-05-31T21:35:46.759128Z"
    }
   },
   "outputs": [
    {
     "data": {
      "text/plain": [
       "array([269.0069], dtype=float32)"
      ]
     },
     "execution_count": 32,
     "metadata": {},
     "output_type": "execute_result"
    }
   ],
   "source": [
    "qtf.numpy()"
   ]
  },
  {
   "cell_type": "code",
   "execution_count": 33,
   "id": "5c1db238",
   "metadata": {
    "ExecuteTime": {
     "end_time": "2022-05-31T21:35:51.367095Z",
     "start_time": "2022-05-31T21:35:51.310984Z"
    }
   },
   "outputs": [
    {
     "data": {
      "text/plain": [
       "0.0"
      ]
     },
     "execution_count": 33,
     "metadata": {},
     "output_type": "execute_result"
    }
   ],
   "source": [
    "((qpt.numpy() - qtf.numpy()) ** 2).sum()"
   ]
  },
  {
   "cell_type": "code",
   "execution_count": 37,
   "id": "ebab3f22",
   "metadata": {
    "ExecuteTime": {
     "end_time": "2022-05-31T21:46:25.332360Z",
     "start_time": "2022-05-31T21:46:24.523709Z"
    }
   },
   "outputs": [],
   "source": [
    "xpt_ = lattice_pt.g.compat_proj(xpt)\n",
    "xtf_ = lattice_tf.g.compat_proj(xtf)"
   ]
  },
  {
   "cell_type": "code",
   "execution_count": 46,
   "id": "a3b8c117",
   "metadata": {
    "ExecuteTime": {
     "end_time": "2022-05-31T21:49:08.099691Z",
     "start_time": "2022-05-31T21:49:08.042135Z"
    }
   },
   "outputs": [
    {
     "data": {
      "text/plain": [
       "array([[ -18.315264 -35.850132j, -410.2562  +170.15718j ,\n",
       "          15.325998 +98.029655j],\n",
       "       [   8.945226 +68.93815j ,  766.6843   -38.112377j,\n",
       "          32.19337 -168.39961j ],\n",
       "       [  41.667877 +35.655823j,  428.824   -426.66763j ,\n",
       "         -69.96763 -115.61467j ]], dtype=complex64)"
      ]
     },
     "execution_count": 46,
     "metadata": {},
     "output_type": "execute_result"
    },
    {
     "data": {
      "text/plain": [
       "array([[ -18.301857 -35.82389j , -409.95587 +170.03262j ,\n",
       "          15.314779 +97.9579j  ],\n",
       "       [   8.938678 +68.88769j ,  766.1231   -38.084476j,\n",
       "          32.169807-168.27635j ],\n",
       "       [  41.637375 +35.629723j,  428.51013 -426.3553j  ,\n",
       "         -69.91641 -115.53004j ]], dtype=complex64)"
      ]
     },
     "execution_count": 46,
     "metadata": {},
     "output_type": "execute_result"
    }
   ],
   "source": [
    "xpt_[0, 0, 0, 0, 0, 0].numpy()\n",
    "xtf_[0, 0, 0, 0, 0, 0].numpy()"
   ]
  },
  {
   "cell_type": "code",
   "execution_count": 42,
   "id": "f38ff380",
   "metadata": {
    "ExecuteTime": {
     "end_time": "2022-05-31T21:48:03.860163Z",
     "start_time": "2022-05-31T21:48:03.805666Z"
    }
   },
   "outputs": [],
   "source": [
    "xpt_2 = xpt_.adjoint() @ xpt_\n",
    "xtf_2 = tf.linalg.adjoint(xtf_) @ xtf_"
   ]
  },
  {
   "cell_type": "code",
   "execution_count": 43,
   "id": "bc9c62f7",
   "metadata": {
    "ExecuteTime": {
     "end_time": "2022-05-31T21:48:21.109281Z",
     "start_time": "2022-05-31T21:48:21.057095Z"
    }
   },
   "outputs": [
    {
     "data": {
      "text/plain": [
       "(nan+nanj)"
      ]
     },
     "execution_count": 43,
     "metadata": {},
     "output_type": "execute_result"
    }
   ],
   "source": [
    "((xpt_2.numpy() - xtf_2.numpy()) ** 2).sum()"
   ]
  },
  {
   "cell_type": "code",
   "execution_count": 39,
   "id": "bb1dcbd0",
   "metadata": {
    "ExecuteTime": {
     "end_time": "2022-05-31T21:46:53.625811Z",
     "start_time": "2022-05-31T21:46:53.574180Z"
    }
   },
   "outputs": [
    {
     "data": {
      "text/plain": [
       "(nan+nanj)"
      ]
     },
     "execution_count": 39,
     "metadata": {},
     "output_type": "execute_result"
    }
   ],
   "source": [
    "((xpt_.numpy() - xtf_.numpy()) ** 2).sum()"
   ]
  },
  {
   "cell_type": "code",
   "execution_count": 34,
   "id": "17ac48f0",
   "metadata": {
    "ExecuteTime": {
     "end_time": "2022-05-31T21:36:24.938047Z",
     "start_time": "2022-05-31T21:36:24.885133Z"
    }
   },
   "outputs": [
    {
     "name": "stdout",
     "output_type": "stream",
     "text": [
      "sinQ: 3.637978807091713e-12\n",
      "intQ: 0.0\n",
      "plaqs: 3.637978807091713e-12\n"
     ]
    }
   ],
   "source": [
    "diffs = {}\n",
    "for key, val in lmetrics_pt.items():\n",
    "    vpt = val.numpy()\n",
    "    vtf = lmetrics_tf[key].numpy()\n",
    "    diffs[key] = ((vpt - vtf) ** 2).sum()\n",
    "    \n",
    "print(f'\\n'.join([f'{k}: {v}' for k, v in diffs.items()]))"
   ]
  },
  {
   "cell_type": "code",
   "execution_count": 36,
   "id": "2ae09083",
   "metadata": {
    "ExecuteTime": {
     "end_time": "2022-05-31T21:36:58.011653Z",
     "start_time": "2022-05-31T21:36:57.959319Z"
    }
   },
   "outputs": [
    {
     "data": {
      "text/plain": [
       "tensor(582158.4375+0.j)"
      ]
     },
     "execution_count": 36,
     "metadata": {},
     "output_type": "execute_result"
    }
   ],
   "source": [
    "lattice_pt.g.trace(xpt.adjoint() @ xpt).sum()"
   ]
  },
  {
   "cell_type": "code",
   "execution_count": null,
   "id": "80b536b1",
   "metadata": {},
   "outputs": [],
   "source": [
    "lattice_tf.g.trace(tf.m)"
   ]
  },
  {
   "cell_type": "code",
   "execution_count": 60,
   "id": "03ce2da1",
   "metadata": {
    "ExecuteTime": {
     "end_time": "2022-05-31T20:25:14.975549Z",
     "start_time": "2022-05-31T20:25:14.922615Z"
    }
   },
   "outputs": [
    {
     "data": {
      "text/plain": [
       "torch.Size([4, 9216])"
      ]
     },
     "execution_count": 60,
     "metadata": {},
     "output_type": "execute_result"
    }
   ],
   "source": [
    "xpt_.shape"
   ]
  },
  {
   "cell_type": "code",
   "execution_count": 69,
   "id": "bc2f199c",
   "metadata": {
    "ExecuteTime": {
     "end_time": "2022-05-31T20:33:28.163269Z",
     "start_time": "2022-05-31T20:33:27.980459Z"
    }
   },
   "outputs": [],
   "source": [
    "wlpt, _ = lattice_pt._wilson_loops(xpt, needs_rect=False)\n",
    "wltf, _ = lattice_tf._wilson_loops(xtf, needs_rect=False)"
   ]
  },
  {
   "cell_type": "code",
   "execution_count": 70,
   "id": "1e107d61",
   "metadata": {
    "ExecuteTime": {
     "end_time": "2022-05-31T20:33:36.939237Z",
     "start_time": "2022-05-31T20:33:36.884360Z"
    }
   },
   "outputs": [
    {
     "data": {
      "text/plain": [
       "torch.Size([6, 4, 4, 4, 4, 4])"
      ]
     },
     "execution_count": 70,
     "metadata": {},
     "output_type": "execute_result"
    }
   ],
   "source": [
    "wlpt.shape"
   ]
  },
  {
   "cell_type": "code",
   "execution_count": 71,
   "id": "55cff20b",
   "metadata": {
    "ExecuteTime": {
     "end_time": "2022-05-31T20:36:01.793203Z",
     "start_time": "2022-05-31T20:36:01.472749Z"
    }
   },
   "outputs": [
    {
     "data": {
      "text/plain": [
       "torch.Size([6, 4])"
      ]
     },
     "execution_count": 71,
     "metadata": {},
     "output_type": "execute_result"
    }
   ],
   "source": [
    "pspt = wlpt.real.sum(tuple(range(2, len(wlpt.shape))))\n",
    "pspt.shape"
   ]
  },
  {
   "cell_type": "code",
   "execution_count": 63,
   "id": "f27c36ad",
   "metadata": {
    "ExecuteTime": {
     "end_time": "2022-05-31T20:28:54.911333Z",
     "start_time": "2022-05-31T20:28:54.849368Z"
    }
   },
   "outputs": [],
   "source": [
    "wltf, _ = lattice_tf._wilson_loops(xtf, needs_rect=False)"
   ]
  },
  {
   "cell_type": "code",
   "execution_count": 72,
   "id": "024dd164",
   "metadata": {
    "ExecuteTime": {
     "end_time": "2022-05-31T20:39:01.527082Z",
     "start_time": "2022-05-31T20:39:01.219134Z"
    }
   },
   "outputs": [
    {
     "data": {
      "text/plain": [
       "0j"
      ]
     },
     "execution_count": 72,
     "metadata": {},
     "output_type": "execute_result"
    }
   ],
   "source": [
    "(wlpt.numpy() - wltf.numpy()).sum()"
   ]
  },
  {
   "cell_type": "code",
   "execution_count": 73,
   "id": "935fa86b",
   "metadata": {
    "ExecuteTime": {
     "end_time": "2022-05-31T20:39:33.201901Z",
     "start_time": "2022-05-31T20:39:33.133333Z"
    }
   },
   "outputs": [
    {
     "data": {
      "text/plain": [
       "-3.4332275e-05"
      ]
     },
     "execution_count": 73,
     "metadata": {},
     "output_type": "execute_result"
    }
   ],
   "source": [
    "qsin_pt = lattice_pt.sin_charges(xpt)\n",
    "qsin_tf = lattice_tf.sin_charges(xtf)\n",
    "(qsin_pt.numpy() - qsin_tf.numpy()).sum()"
   ]
  },
  {
   "cell_type": "code",
   "execution_count": null,
   "id": "7a040e34",
   "metadata": {},
   "outputs": [],
   "source": [
    "qint_pt = lattice_pt.int_charges"
   ]
  },
  {
   "cell_type": "code",
   "execution_count": null,
   "id": "07c9f226",
   "metadata": {},
   "outputs": [],
   "source": []
  },
  {
   "cell_type": "code",
   "execution_count": 65,
   "id": "aafbdfd7",
   "metadata": {
    "ExecuteTime": {
     "end_time": "2022-05-31T20:29:59.430029Z",
     "start_time": "2022-05-31T20:29:59.367202Z"
    }
   },
   "outputs": [],
   "source": [
    "plaqs_tf = lattice_tf._plaquettes(xtf)"
   ]
  },
  {
   "cell_type": "code",
   "execution_count": 67,
   "id": "cc03c752",
   "metadata": {
    "ExecuteTime": {
     "end_time": "2022-05-31T20:30:17.571065Z",
     "start_time": "2022-05-31T20:30:17.516333Z"
    }
   },
   "outputs": [],
   "source": [
    "plaqs_pt = lattice_pt._plaquettes(xpt)"
   ]
  },
  {
   "cell_type": "code",
   "execution_count": 68,
   "id": "1c954c01",
   "metadata": {
    "ExecuteTime": {
     "end_time": "2022-05-31T20:30:26.302654Z",
     "start_time": "2022-05-31T20:30:26.249407Z"
    }
   },
   "outputs": [
    {
     "data": {
      "text/plain": [
       "torch.Size([4])"
      ]
     },
     "execution_count": 68,
     "metadata": {},
     "output_type": "execute_result"
    }
   ],
   "source": [
    "plaqs_pt.shape"
   ]
  },
  {
   "cell_type": "code",
   "execution_count": 66,
   "id": "08da83b4",
   "metadata": {
    "ExecuteTime": {
     "end_time": "2022-05-31T20:30:08.621066Z",
     "start_time": "2022-05-31T20:30:08.545205Z"
    }
   },
   "outputs": [
    {
     "data": {
      "text/plain": [
       "TensorShape([4])"
      ]
     },
     "execution_count": 66,
     "metadata": {},
     "output_type": "execute_result"
    }
   ],
   "source": [
    "plaqs_tf.shape"
   ]
  },
  {
   "cell_type": "code",
   "execution_count": 64,
   "id": "87d14bbd",
   "metadata": {
    "ExecuteTime": {
     "end_time": "2022-05-31T20:29:03.989345Z",
     "start_time": "2022-05-31T20:29:03.933456Z"
    }
   },
   "outputs": [
    {
     "data": {
      "text/plain": [
       "TensorShape([6, 4, 4, 4, 4, 4])"
      ]
     },
     "execution_count": 64,
     "metadata": {},
     "output_type": "execute_result"
    }
   ],
   "source": [
    "wltf.shape"
   ]
  },
  {
   "cell_type": "code",
   "execution_count": 53,
   "id": "8ba2b9ba",
   "metadata": {
    "ExecuteTime": {
     "end_time": "2022-05-31T20:18:43.036761Z",
     "start_time": "2022-05-31T20:18:42.981299Z"
    }
   },
   "outputs": [],
   "source": [
    "ps, _ = lattice_pt._wilson_loops(xpt_)"
   ]
  },
  {
   "cell_type": "code",
   "execution_count": 54,
   "id": "a7a971f5",
   "metadata": {
    "ExecuteTime": {
     "end_time": "2022-05-31T20:18:52.216842Z",
     "start_time": "2022-05-31T20:18:52.154181Z"
    }
   },
   "outputs": [
    {
     "data": {
      "text/plain": [
       "torch.Size([6, 4, 4, 4, 4, 4])"
      ]
     },
     "execution_count": 54,
     "metadata": {},
     "output_type": "execute_result"
    }
   ],
   "source": [
    "ps.shape"
   ]
  },
  {
   "cell_type": "code",
   "execution_count": 48,
   "id": "1b891d88",
   "metadata": {
    "ExecuteTime": {
     "end_time": "2022-05-31T20:16:42.884155Z",
     "start_time": "2022-05-31T20:16:42.295926Z"
    }
   },
   "outputs": [],
   "source": [
    "qsinpt_ = lattice_pt.sin_charges(xpt_)"
   ]
  },
  {
   "cell_type": "code",
   "execution_count": 49,
   "id": "b657dbaf",
   "metadata": {
    "ExecuteTime": {
     "end_time": "2022-05-31T20:16:55.610633Z",
     "start_time": "2022-05-31T20:16:55.555615Z"
    }
   },
   "outputs": [],
   "source": [
    "qintpt_ = lattice_pt.int_charges(xpt_)"
   ]
  },
  {
   "cell_type": "code",
   "execution_count": 50,
   "id": "4d0b8fdc",
   "metadata": {
    "ExecuteTime": {
     "end_time": "2022-05-31T20:17:04.972504Z",
     "start_time": "2022-05-31T20:17:04.917858Z"
    }
   },
   "outputs": [
    {
     "data": {
      "text/plain": [
       "torch.Size([4])"
      ]
     },
     "execution_count": 50,
     "metadata": {},
     "output_type": "execute_result"
    }
   ],
   "source": [
    "qsinpt_.shape"
   ]
  },
  {
   "cell_type": "code",
   "execution_count": 52,
   "id": "434916d1",
   "metadata": {
    "ExecuteTime": {
     "end_time": "2022-05-31T20:17:23.587195Z",
     "start_time": "2022-05-31T20:17:23.533815Z"
    }
   },
   "outputs": [
    {
     "data": {
      "text/plain": [
       "tensor([  48.5113,   10.5180,   -3.0380, -132.9389], grad_fn=<DivBackward0>)"
      ]
     },
     "execution_count": 52,
     "metadata": {},
     "output_type": "execute_result"
    }
   ],
   "source": [
    "qsinpt_"
   ]
  },
  {
   "cell_type": "code",
   "execution_count": 51,
   "id": "8a23a933",
   "metadata": {
    "ExecuteTime": {
     "end_time": "2022-05-31T20:17:14.790583Z",
     "start_time": "2022-05-31T20:17:14.737811Z"
    }
   },
   "outputs": [
    {
     "data": {
      "text/plain": [
       "tensor([  707.7921,   153.4606,   -44.3246, -1939.6115],\n",
       "       grad_fn=<DivBackward0>)"
      ]
     },
     "execution_count": 51,
     "metadata": {},
     "output_type": "execute_result"
    }
   ],
   "source": [
    "qintpt_"
   ]
  },
  {
   "cell_type": "code",
   "execution_count": 28,
   "id": "abf25276",
   "metadata": {
    "ExecuteTime": {
     "end_time": "2022-05-31T19:33:58.297507Z",
     "start_time": "2022-05-31T19:33:58.240601Z"
    }
   },
   "outputs": [
    {
     "data": {
      "text/plain": [
       "torch.Size([4, 9216])"
      ]
     },
     "execution_count": 28,
     "metadata": {},
     "output_type": "execute_result"
    }
   ],
   "source": [
    "xpt_.shape"
   ]
  },
  {
   "cell_type": "code",
   "execution_count": 29,
   "id": "8c55746d",
   "metadata": {
    "ExecuteTime": {
     "end_time": "2022-05-31T19:34:04.340617Z",
     "start_time": "2022-05-31T19:34:04.236315Z"
    }
   },
   "outputs": [
    {
     "data": {
      "text/plain": [
       "dict_keys(['energy', 'logprob', 'logdet', 'acc', 'sumlogdet', 'acc_mask', 'mc_states'])"
      ]
     },
     "execution_count": 29,
     "metadata": {},
     "output_type": "execute_result"
    }
   ],
   "source": [
    "hmetrics_pt.keys()"
   ]
  },
  {
   "cell_type": "code",
   "execution_count": 31,
   "id": "48ff2f47",
   "metadata": {
    "ExecuteTime": {
     "end_time": "2022-05-31T19:34:16.301806Z",
     "start_time": "2022-05-31T19:34:16.247636Z"
    }
   },
   "outputs": [
    {
     "data": {
      "text/plain": [
       "tensor([0.9394, 0.9248, 0.9321, 1.0000], grad_fn=<SWhereBackward0>)"
      ]
     },
     "execution_count": 31,
     "metadata": {},
     "output_type": "execute_result"
    }
   ],
   "source": [
    "hmetrics_pt['acc']"
   ]
  },
  {
   "cell_type": "code",
   "execution_count": null,
   "id": "8e3ea53e",
   "metadata": {},
   "outputs": [],
   "source": []
  },
  {
   "cell_type": "code",
   "execution_count": 32,
   "id": "44c42b53",
   "metadata": {
    "ExecuteTime": {
     "end_time": "2022-05-31T19:34:54.980111Z",
     "start_time": "2022-05-31T19:34:54.916856Z"
    }
   },
   "outputs": [
    {
     "data": {
      "text/plain": [
       "tensor([0., 0., 0., 0.])"
      ]
     },
     "execution_count": 32,
     "metadata": {},
     "output_type": "execute_result"
    }
   ],
   "source": [
    "hmetrics_pt['sumlogdet']"
   ]
  },
  {
   "cell_type": "code",
   "execution_count": 33,
   "id": "4a9d46f7",
   "metadata": {
    "ExecuteTime": {
     "end_time": "2022-05-31T19:36:51.336242Z",
     "start_time": "2022-05-31T19:36:50.562580Z"
    }
   },
   "outputs": [],
   "source": [
    "xout, metrics = trainer_pt.hmc_step(inputs_pt, eps=torch.tensor(0.0001))"
   ]
  },
  {
   "cell_type": "code",
   "execution_count": 47,
   "id": "acc80ef2",
   "metadata": {
    "ExecuteTime": {
     "end_time": "2022-05-31T19:59:36.826056Z",
     "start_time": "2022-05-31T19:59:05.158488Z"
    }
   },
   "outputs": [
    {
     "ename": "ValueError",
     "evalue": "in user code:\n\n    File \"/Users/saforem2/projects/l2hmc-qcd/src/l2hmc/trainers/tensorflow/trainer.py\", line 334, in hmc_step  *\n        xo = self.dynamics.g.compat_proj(xo)\n    File \"/Users/saforem2/projects/l2hmc-qcd/src/l2hmc/group/tensorflow/group.py\", line 133, in compat_proj  *\n        return projectSU(x)\n    File \"/Users/saforem2/projects/l2hmc-qcd/src/l2hmc/group/tensorflow/group.py\", line 273, in projectSU  *\n        m = projectU(x)\n    File \"/Users/saforem2/projects/l2hmc-qcd/src/l2hmc/group/tensorflow/group.py\", line 267, in projectU  *\n        t2 = rsqrtPHM3(t)\n    File \"/Users/saforem2/projects/l2hmc-qcd/src/l2hmc/group/tensorflow/group.py\", line 260, in rsqrtPHM3  *\n        return term0 + term1 + term2\n\n    ValueError: Dimensions must be equal, but are 3 and 9216 for '{{node add_53}} = AddV2[T=DT_COMPLEX64](Cast_19, Mul_404)' with input shapes: [3,3], [9216,9216].\n",
     "output_type": "error",
     "traceback": [
      "\u001b[0;31m---------------------------------------------------------------------------\u001b[0m",
      "\u001b[0;31mValueError\u001b[0m                                Traceback (most recent call last)",
      "Input \u001b[0;32mIn [47]\u001b[0m, in \u001b[0;36m<cell line: 2>\u001b[0;34m()\u001b[0m\n\u001b[1;32m      1\u001b[0m inputs_tf \u001b[38;5;241m=\u001b[39m (xtf, tf\u001b[38;5;241m.\u001b[39mconstant(\u001b[38;5;241m1.0\u001b[39m))\n\u001b[0;32m----> 2\u001b[0m xout_tf, metrics_tf \u001b[38;5;241m=\u001b[39m \u001b[43mtrainer_tf\u001b[49m\u001b[38;5;241;43m.\u001b[39;49m\u001b[43mhmc_step\u001b[49m\u001b[43m(\u001b[49m\u001b[43minputs_tf\u001b[49m\u001b[43m,\u001b[49m\u001b[43m \u001b[49m\u001b[43meps\u001b[49m\u001b[38;5;241;43m=\u001b[39;49m\u001b[43mtf\u001b[49m\u001b[38;5;241;43m.\u001b[39;49m\u001b[43mconstant\u001b[49m\u001b[43m(\u001b[49m\u001b[38;5;241;43m0.0001\u001b[39;49m\u001b[43m)\u001b[49m\u001b[43m)\u001b[49m\n",
      "File \u001b[0;32m~/projects/l2hmc-qcd/.venv/lib/python3.10/site-packages/tensorflow/python/util/traceback_utils.py:153\u001b[0m, in \u001b[0;36mfilter_traceback.<locals>.error_handler\u001b[0;34m(*args, **kwargs)\u001b[0m\n\u001b[1;32m    151\u001b[0m \u001b[38;5;28;01mexcept\u001b[39;00m \u001b[38;5;167;01mException\u001b[39;00m \u001b[38;5;28;01mas\u001b[39;00m e:\n\u001b[1;32m    152\u001b[0m   filtered_tb \u001b[38;5;241m=\u001b[39m _process_traceback_frames(e\u001b[38;5;241m.\u001b[39m__traceback__)\n\u001b[0;32m--> 153\u001b[0m   \u001b[38;5;28;01mraise\u001b[39;00m e\u001b[38;5;241m.\u001b[39mwith_traceback(filtered_tb) \u001b[38;5;28;01mfrom\u001b[39;00m \u001b[38;5;28mNone\u001b[39m\n\u001b[1;32m    154\u001b[0m \u001b[38;5;28;01mfinally\u001b[39;00m:\n\u001b[1;32m    155\u001b[0m   \u001b[38;5;28;01mdel\u001b[39;00m filtered_tb\n",
      "File \u001b[0;32m/var/folders/b0/s0cn4kh53l55xstxzzsd3dn00000gn/T/__autograph_generated_fileuyymt7i7.py:12\u001b[0m, in \u001b[0;36mouter_factory.<locals>.inner_factory.<locals>.tf__hmc_step\u001b[0;34m(self, inputs, eps)\u001b[0m\n\u001b[1;32m     10\u001b[0m retval_ \u001b[38;5;241m=\u001b[39m ag__\u001b[38;5;241m.\u001b[39mUndefinedReturnValue()\n\u001b[1;32m     11\u001b[0m (xo, metrics) \u001b[38;5;241m=\u001b[39m ag__\u001b[38;5;241m.\u001b[39mconverted_call(ag__\u001b[38;5;241m.\u001b[39mld(\u001b[38;5;28mself\u001b[39m)\u001b[38;5;241m.\u001b[39mdynamics\u001b[38;5;241m.\u001b[39mapply_transition_hmc, (ag__\u001b[38;5;241m.\u001b[39mld(inputs),), \u001b[38;5;28mdict\u001b[39m(eps\u001b[38;5;241m=\u001b[39mag__\u001b[38;5;241m.\u001b[39mld(eps)), fscope)\n\u001b[0;32m---> 12\u001b[0m xo \u001b[38;5;241m=\u001b[39m \u001b[43mag__\u001b[49m\u001b[38;5;241;43m.\u001b[39;49m\u001b[43mconverted_call\u001b[49m\u001b[43m(\u001b[49m\u001b[43mag__\u001b[49m\u001b[38;5;241;43m.\u001b[39;49m\u001b[43mld\u001b[49m\u001b[43m(\u001b[49m\u001b[38;5;28;43mself\u001b[39;49m\u001b[43m)\u001b[49m\u001b[38;5;241;43m.\u001b[39;49m\u001b[43mdynamics\u001b[49m\u001b[38;5;241;43m.\u001b[39;49m\u001b[43mg\u001b[49m\u001b[38;5;241;43m.\u001b[39;49m\u001b[43mcompat_proj\u001b[49m\u001b[43m,\u001b[49m\u001b[43m \u001b[49m\u001b[43m(\u001b[49m\u001b[43mag__\u001b[49m\u001b[38;5;241;43m.\u001b[39;49m\u001b[43mld\u001b[49m\u001b[43m(\u001b[49m\u001b[43mxo\u001b[49m\u001b[43m)\u001b[49m\u001b[43m,\u001b[49m\u001b[43m)\u001b[49m\u001b[43m,\u001b[49m\u001b[43m \u001b[49m\u001b[38;5;28;43;01mNone\u001b[39;49;00m\u001b[43m,\u001b[49m\u001b[43m \u001b[49m\u001b[43mfscope\u001b[49m\u001b[43m)\u001b[49m\n\u001b[1;32m     13\u001b[0m xp \u001b[38;5;241m=\u001b[39m ag__\u001b[38;5;241m.\u001b[39mconverted_call(ag__\u001b[38;5;241m.\u001b[39mld(\u001b[38;5;28mself\u001b[39m)\u001b[38;5;241m.\u001b[39mdynamics\u001b[38;5;241m.\u001b[39mg\u001b[38;5;241m.\u001b[39mcompat_proj, (ag__\u001b[38;5;241m.\u001b[39mconverted_call(ag__\u001b[38;5;241m.\u001b[39mld(metrics)\u001b[38;5;241m.\u001b[39mpop, (\u001b[38;5;124m'\u001b[39m\u001b[38;5;124mmc_states\u001b[39m\u001b[38;5;124m'\u001b[39m,), \u001b[38;5;28;01mNone\u001b[39;00m, fscope)\u001b[38;5;241m.\u001b[39mproposed\u001b[38;5;241m.\u001b[39mx,), \u001b[38;5;28;01mNone\u001b[39;00m, fscope)\n\u001b[1;32m     14\u001b[0m loss \u001b[38;5;241m=\u001b[39m ag__\u001b[38;5;241m.\u001b[39mconverted_call(ag__\u001b[38;5;241m.\u001b[39mld(\u001b[38;5;28mself\u001b[39m)\u001b[38;5;241m.\u001b[39mloss_fn, (), \u001b[38;5;28mdict\u001b[39m(x_init\u001b[38;5;241m=\u001b[39mag__\u001b[38;5;241m.\u001b[39mld(inputs)[\u001b[38;5;241m0\u001b[39m], x_prop\u001b[38;5;241m=\u001b[39mag__\u001b[38;5;241m.\u001b[39mld(xp), acc\u001b[38;5;241m=\u001b[39mag__\u001b[38;5;241m.\u001b[39mld(metrics)[\u001b[38;5;124m'\u001b[39m\u001b[38;5;124macc\u001b[39m\u001b[38;5;124m'\u001b[39m]), fscope)\n",
      "File \u001b[0;32m/var/folders/b0/s0cn4kh53l55xstxzzsd3dn00000gn/T/__autograph_generated_filei7s16okl.py:17\u001b[0m, in \u001b[0;36mouter_factory.<locals>.inner_factory.<locals>.tf__compat_proj\u001b[0;34m(self, x)\u001b[0m\n\u001b[1;32m     15\u001b[0m \u001b[38;5;28;01mtry\u001b[39;00m:\n\u001b[1;32m     16\u001b[0m     do_return \u001b[38;5;241m=\u001b[39m \u001b[38;5;28;01mTrue\u001b[39;00m\n\u001b[0;32m---> 17\u001b[0m     retval_ \u001b[38;5;241m=\u001b[39m ag__\u001b[38;5;241m.\u001b[39mconverted_call(ag__\u001b[38;5;241m.\u001b[39mld(projectSU), (ag__\u001b[38;5;241m.\u001b[39mld(x),), \u001b[38;5;28;01mNone\u001b[39;00m, fscope)\n\u001b[1;32m     18\u001b[0m \u001b[38;5;28;01mexcept\u001b[39;00m:\n\u001b[1;32m     19\u001b[0m     do_return \u001b[38;5;241m=\u001b[39m \u001b[38;5;28;01mFalse\u001b[39;00m\n",
      "File \u001b[0;32m/var/folders/b0/s0cn4kh53l55xstxzzsd3dn00000gn/T/__autograph_generated_file6hq0j2ma.py:12\u001b[0m, in \u001b[0;36mouter_factory.<locals>.inner_factory.<locals>.tf__projectSU\u001b[0;34m(x)\u001b[0m\n\u001b[1;32m     10\u001b[0m retval_ \u001b[38;5;241m=\u001b[39m ag__\u001b[38;5;241m.\u001b[39mUndefinedReturnValue()\n\u001b[1;32m     11\u001b[0m nc \u001b[38;5;241m=\u001b[39m ag__\u001b[38;5;241m.\u001b[39mconverted_call(ag__\u001b[38;5;241m.\u001b[39mld(tf)\u001b[38;5;241m.\u001b[39mconstant, (ag__\u001b[38;5;241m.\u001b[39mld(x)\u001b[38;5;241m.\u001b[39mshape[\u001b[38;5;241m-\u001b[39m\u001b[38;5;241m1\u001b[39m], ag__\u001b[38;5;241m.\u001b[39mld(TF_FLOAT)), \u001b[38;5;28;01mNone\u001b[39;00m, fscope)\n\u001b[0;32m---> 12\u001b[0m m \u001b[38;5;241m=\u001b[39m \u001b[43mag__\u001b[49m\u001b[38;5;241;43m.\u001b[39;49m\u001b[43mconverted_call\u001b[49m\u001b[43m(\u001b[49m\u001b[43mag__\u001b[49m\u001b[38;5;241;43m.\u001b[39;49m\u001b[43mld\u001b[49m\u001b[43m(\u001b[49m\u001b[43mprojectU\u001b[49m\u001b[43m)\u001b[49m\u001b[43m,\u001b[49m\u001b[43m \u001b[49m\u001b[43m(\u001b[49m\u001b[43mag__\u001b[49m\u001b[38;5;241;43m.\u001b[39;49m\u001b[43mld\u001b[49m\u001b[43m(\u001b[49m\u001b[43mx\u001b[49m\u001b[43m)\u001b[49m\u001b[43m,\u001b[49m\u001b[43m)\u001b[49m\u001b[43m,\u001b[49m\u001b[43m \u001b[49m\u001b[38;5;28;43;01mNone\u001b[39;49;00m\u001b[43m,\u001b[49m\u001b[43m \u001b[49m\u001b[43mfscope\u001b[49m\u001b[43m)\u001b[49m\n\u001b[1;32m     13\u001b[0m d \u001b[38;5;241m=\u001b[39m ag__\u001b[38;5;241m.\u001b[39mconverted_call(ag__\u001b[38;5;241m.\u001b[39mld(tf)\u001b[38;5;241m.\u001b[39mlinalg\u001b[38;5;241m.\u001b[39mdet, (ag__\u001b[38;5;241m.\u001b[39mld(m),), \u001b[38;5;28;01mNone\u001b[39;00m, fscope)\n\u001b[1;32m     14\u001b[0m tmp \u001b[38;5;241m=\u001b[39m ag__\u001b[38;5;241m.\u001b[39mconverted_call(ag__\u001b[38;5;241m.\u001b[39mld(tf)\u001b[38;5;241m.\u001b[39mmath\u001b[38;5;241m.\u001b[39matan2, (ag__\u001b[38;5;241m.\u001b[39mconverted_call(ag__\u001b[38;5;241m.\u001b[39mld(tf)\u001b[38;5;241m.\u001b[39mmath\u001b[38;5;241m.\u001b[39mimag, (ag__\u001b[38;5;241m.\u001b[39mld(d),), \u001b[38;5;28;01mNone\u001b[39;00m, fscope), ag__\u001b[38;5;241m.\u001b[39mconverted_call(ag__\u001b[38;5;241m.\u001b[39mld(tf)\u001b[38;5;241m.\u001b[39mmath\u001b[38;5;241m.\u001b[39mreal, (ag__\u001b[38;5;241m.\u001b[39mld(d),), \u001b[38;5;28;01mNone\u001b[39;00m, fscope)), \u001b[38;5;28;01mNone\u001b[39;00m, fscope)\n",
      "File \u001b[0;32m/var/folders/b0/s0cn4kh53l55xstxzzsd3dn00000gn/T/__autograph_generated_file507u1vmk.py:13\u001b[0m, in \u001b[0;36mouter_factory.<locals>.inner_factory.<locals>.tf__projectU\u001b[0;34m(x)\u001b[0m\n\u001b[1;32m     11\u001b[0m retval_ \u001b[38;5;241m=\u001b[39m ag__\u001b[38;5;241m.\u001b[39mUndefinedReturnValue()\n\u001b[1;32m     12\u001b[0m t \u001b[38;5;241m=\u001b[39m ag__\u001b[38;5;241m.\u001b[39mconverted_call(ag__\u001b[38;5;241m.\u001b[39mld(tf)\u001b[38;5;241m.\u001b[39mlinalg\u001b[38;5;241m.\u001b[39mmatmul, (ag__\u001b[38;5;241m.\u001b[39mld(x), ag__\u001b[38;5;241m.\u001b[39mld(x)), \u001b[38;5;28mdict\u001b[39m(adjoint_a\u001b[38;5;241m=\u001b[39m\u001b[38;5;28;01mTrue\u001b[39;00m), fscope)\n\u001b[0;32m---> 13\u001b[0m t2 \u001b[38;5;241m=\u001b[39m \u001b[43mag__\u001b[49m\u001b[38;5;241;43m.\u001b[39;49m\u001b[43mconverted_call\u001b[49m\u001b[43m(\u001b[49m\u001b[43mag__\u001b[49m\u001b[38;5;241;43m.\u001b[39;49m\u001b[43mld\u001b[49m\u001b[43m(\u001b[49m\u001b[43mrsqrtPHM3\u001b[49m\u001b[43m)\u001b[49m\u001b[43m,\u001b[49m\u001b[43m \u001b[49m\u001b[43m(\u001b[49m\u001b[43mag__\u001b[49m\u001b[38;5;241;43m.\u001b[39;49m\u001b[43mld\u001b[49m\u001b[43m(\u001b[49m\u001b[43mt\u001b[49m\u001b[43m)\u001b[49m\u001b[43m,\u001b[49m\u001b[43m)\u001b[49m\u001b[43m,\u001b[49m\u001b[43m \u001b[49m\u001b[38;5;28;43;01mNone\u001b[39;49;00m\u001b[43m,\u001b[49m\u001b[43m \u001b[49m\u001b[43mfscope\u001b[49m\u001b[43m)\u001b[49m\n\u001b[1;32m     14\u001b[0m \u001b[38;5;28;01mtry\u001b[39;00m:\n\u001b[1;32m     15\u001b[0m     do_return \u001b[38;5;241m=\u001b[39m \u001b[38;5;28;01mTrue\u001b[39;00m\n",
      "File \u001b[0;32m/var/folders/b0/s0cn4kh53l55xstxzzsd3dn00000gn/T/__autograph_generated_file8hskylkq.py:24\u001b[0m, in \u001b[0;36mouter_factory.<locals>.inner_factory.<locals>.tf__rsqrtPHM3\u001b[0;34m(x)\u001b[0m\n\u001b[1;32m     22\u001b[0m \u001b[38;5;28;01mtry\u001b[39;00m:\n\u001b[1;32m     23\u001b[0m     do_return \u001b[38;5;241m=\u001b[39m \u001b[38;5;28;01mTrue\u001b[39;00m\n\u001b[0;32m---> 24\u001b[0m     retval_ \u001b[38;5;241m=\u001b[39m ag__\u001b[38;5;241m.\u001b[39mld(term0) \u001b[38;5;241m+\u001b[39m ag__\u001b[38;5;241m.\u001b[39mld(term1) \u001b[38;5;241m+\u001b[39m ag__\u001b[38;5;241m.\u001b[39mld(term2)\n\u001b[1;32m     25\u001b[0m \u001b[38;5;28;01mexcept\u001b[39;00m:\n\u001b[1;32m     26\u001b[0m     do_return \u001b[38;5;241m=\u001b[39m \u001b[38;5;28;01mFalse\u001b[39;00m\n",
      "\u001b[0;31mValueError\u001b[0m: in user code:\n\n    File \"/Users/saforem2/projects/l2hmc-qcd/src/l2hmc/trainers/tensorflow/trainer.py\", line 334, in hmc_step  *\n        xo = self.dynamics.g.compat_proj(xo)\n    File \"/Users/saforem2/projects/l2hmc-qcd/src/l2hmc/group/tensorflow/group.py\", line 133, in compat_proj  *\n        return projectSU(x)\n    File \"/Users/saforem2/projects/l2hmc-qcd/src/l2hmc/group/tensorflow/group.py\", line 273, in projectSU  *\n        m = projectU(x)\n    File \"/Users/saforem2/projects/l2hmc-qcd/src/l2hmc/group/tensorflow/group.py\", line 267, in projectU  *\n        t2 = rsqrtPHM3(t)\n    File \"/Users/saforem2/projects/l2hmc-qcd/src/l2hmc/group/tensorflow/group.py\", line 260, in rsqrtPHM3  *\n        return term0 + term1 + term2\n\n    ValueError: Dimensions must be equal, but are 3 and 9216 for '{{node add_53}} = AddV2[T=DT_COMPLEX64](Cast_19, Mul_404)' with input shapes: [3,3], [9216,9216].\n"
     ]
    }
   ],
   "source": [
    "inputs_tf = (xtf, tf.constant(1.0))\n",
    "xout_tf, metrics_tf = trainer_tf.hmc_step(inputs_tf, eps=tf.constant(0.0001))"
   ]
  },
  {
   "cell_type": "code",
   "execution_count": null,
   "id": "3d51639e",
   "metadata": {},
   "outputs": [],
   "source": []
  },
  {
   "cell_type": "code",
   "execution_count": 46,
   "id": "a3f891e6",
   "metadata": {
    "ExecuteTime": {
     "end_time": "2022-05-31T19:58:23.505646Z",
     "start_time": "2022-05-31T19:58:23.452986Z"
    }
   },
   "outputs": [
    {
     "data": {
      "text/plain": [
       "TensorShape([4, 9216])"
      ]
     },
     "execution_count": 46,
     "metadata": {},
     "output_type": "execute_result"
    }
   ],
   "source": [
    "xtf_.shape"
   ]
  },
  {
   "cell_type": "code",
   "execution_count": null,
   "id": "2eab6125",
   "metadata": {},
   "outputs": [],
   "source": []
  },
  {
   "cell_type": "code",
   "execution_count": 41,
   "id": "87937a25",
   "metadata": {
    "ExecuteTime": {
     "end_time": "2022-05-31T19:48:53.346728Z",
     "start_time": "2022-05-31T19:43:51.722073Z"
    }
   },
   "outputs": [
    {
     "name": "stdout",
     "output_type": "stream",
     "text": [
      "> \u001b[0;32m/Users/saforem2/projects/l2hmc-qcd/.venv/lib/python3.10/site-packages/tensorflow/python/framework/ops.py\u001b[0m(7164)\u001b[0;36mraise_from_not_ok_status\u001b[0;34m()\u001b[0m\n",
      "\u001b[0;32m   7162 \u001b[0;31m\u001b[0;32mdef\u001b[0m \u001b[0mraise_from_not_ok_status\u001b[0m\u001b[0;34m(\u001b[0m\u001b[0me\u001b[0m\u001b[0;34m,\u001b[0m \u001b[0mname\u001b[0m\u001b[0;34m)\u001b[0m\u001b[0;34m:\u001b[0m\u001b[0;34m\u001b[0m\u001b[0;34m\u001b[0m\u001b[0m\n",
      "\u001b[0m\u001b[0;32m   7163 \u001b[0;31m  \u001b[0me\u001b[0m\u001b[0;34m.\u001b[0m\u001b[0mmessage\u001b[0m \u001b[0;34m+=\u001b[0m \u001b[0;34m(\u001b[0m\u001b[0;34m\" name: \"\u001b[0m \u001b[0;34m+\u001b[0m \u001b[0mname\u001b[0m \u001b[0;32mif\u001b[0m \u001b[0mname\u001b[0m \u001b[0;32mis\u001b[0m \u001b[0;32mnot\u001b[0m \u001b[0;32mNone\u001b[0m \u001b[0;32melse\u001b[0m \u001b[0;34m\"\"\u001b[0m\u001b[0;34m)\u001b[0m\u001b[0;34m\u001b[0m\u001b[0;34m\u001b[0m\u001b[0m\n",
      "\u001b[0m\u001b[0;32m-> 7164 \u001b[0;31m  \u001b[0;32mraise\u001b[0m \u001b[0mcore\u001b[0m\u001b[0;34m.\u001b[0m\u001b[0m_status_to_exception\u001b[0m\u001b[0;34m(\u001b[0m\u001b[0me\u001b[0m\u001b[0;34m)\u001b[0m \u001b[0;32mfrom\u001b[0m \u001b[0;32mNone\u001b[0m  \u001b[0;31m# pylint: disable=protected-access\u001b[0m\u001b[0;34m\u001b[0m\u001b[0;34m\u001b[0m\u001b[0m\n",
      "\u001b[0m\u001b[0;32m   7165 \u001b[0;31m\u001b[0;34m\u001b[0m\u001b[0m\n",
      "\u001b[0m\u001b[0;32m   7166 \u001b[0;31m\u001b[0;34m\u001b[0m\u001b[0m\n",
      "\u001b[0m\n",
      "ipdb> l\n",
      "\u001b[1;32m   7159 \u001b[0m  \u001b[0;32mreturn\u001b[0m \u001b[0mkwarg_only\u001b[0m\u001b[0;34m(\u001b[0m\u001b[0mf\u001b[0m\u001b[0;34m)\u001b[0m\u001b[0;34m\u001b[0m\u001b[0;34m\u001b[0m\u001b[0m\n",
      "\u001b[1;32m   7160 \u001b[0m\u001b[0;34m\u001b[0m\u001b[0m\n",
      "\u001b[1;32m   7161 \u001b[0m\u001b[0;34m\u001b[0m\u001b[0m\n",
      "\u001b[1;32m   7162 \u001b[0m\u001b[0;32mdef\u001b[0m \u001b[0mraise_from_not_ok_status\u001b[0m\u001b[0;34m(\u001b[0m\u001b[0me\u001b[0m\u001b[0;34m,\u001b[0m \u001b[0mname\u001b[0m\u001b[0;34m)\u001b[0m\u001b[0;34m:\u001b[0m\u001b[0;34m\u001b[0m\u001b[0;34m\u001b[0m\u001b[0m\n",
      "\u001b[1;32m   7163 \u001b[0m  \u001b[0me\u001b[0m\u001b[0;34m.\u001b[0m\u001b[0mmessage\u001b[0m \u001b[0;34m+=\u001b[0m \u001b[0;34m(\u001b[0m\u001b[0;34m\" name: \"\u001b[0m \u001b[0;34m+\u001b[0m \u001b[0mname\u001b[0m \u001b[0;32mif\u001b[0m \u001b[0mname\u001b[0m \u001b[0;32mis\u001b[0m \u001b[0;32mnot\u001b[0m \u001b[0;32mNone\u001b[0m \u001b[0;32melse\u001b[0m \u001b[0;34m\"\"\u001b[0m\u001b[0;34m)\u001b[0m\u001b[0;34m\u001b[0m\u001b[0;34m\u001b[0m\u001b[0m\n",
      "\u001b[0;32m-> 7164 \u001b[0;31m  \u001b[0;32mraise\u001b[0m \u001b[0mcore\u001b[0m\u001b[0;34m.\u001b[0m\u001b[0m_status_to_exception\u001b[0m\u001b[0;34m(\u001b[0m\u001b[0me\u001b[0m\u001b[0;34m)\u001b[0m \u001b[0;32mfrom\u001b[0m \u001b[0;32mNone\u001b[0m  \u001b[0;31m# pylint: disable=protected-access\u001b[0m\u001b[0;34m\u001b[0m\u001b[0;34m\u001b[0m\u001b[0m\n",
      "\u001b[0m\u001b[1;32m   7165 \u001b[0m\u001b[0;34m\u001b[0m\u001b[0m\n",
      "\u001b[1;32m   7166 \u001b[0m\u001b[0;34m\u001b[0m\u001b[0m\n",
      "\u001b[1;32m   7167 \u001b[0m\u001b[0;32mdef\u001b[0m \u001b[0madd_exit_callback_to_default_func_graph\u001b[0m\u001b[0;34m(\u001b[0m\u001b[0mfn\u001b[0m\u001b[0;34m)\u001b[0m\u001b[0;34m:\u001b[0m\u001b[0;34m\u001b[0m\u001b[0;34m\u001b[0m\u001b[0m\n",
      "\u001b[1;32m   7168 \u001b[0m  \"\"\"Add a callback to run when the default function graph goes out of scope.\n",
      "\u001b[1;32m   7169 \u001b[0m\u001b[0;34m\u001b[0m\u001b[0m\n",
      "\n",
      "ipdb> up\n",
      "> \u001b[0;32m/Users/saforem2/projects/l2hmc-qcd/.venv/lib/python3.10/site-packages/tensorflow/python/util/traceback_utils.py\u001b[0m(153)\u001b[0;36merror_handler\u001b[0;34m()\u001b[0m\n",
      "\u001b[0;32m    151 \u001b[0;31m    \u001b[0;32mexcept\u001b[0m \u001b[0mException\u001b[0m \u001b[0;32mas\u001b[0m \u001b[0me\u001b[0m\u001b[0;34m:\u001b[0m\u001b[0;34m\u001b[0m\u001b[0;34m\u001b[0m\u001b[0m\n",
      "\u001b[0m\u001b[0;32m    152 \u001b[0;31m      \u001b[0mfiltered_tb\u001b[0m \u001b[0;34m=\u001b[0m \u001b[0m_process_traceback_frames\u001b[0m\u001b[0;34m(\u001b[0m\u001b[0me\u001b[0m\u001b[0;34m.\u001b[0m\u001b[0m__traceback__\u001b[0m\u001b[0;34m)\u001b[0m\u001b[0;34m\u001b[0m\u001b[0;34m\u001b[0m\u001b[0m\n",
      "\u001b[0m\u001b[0;32m--> 153 \u001b[0;31m      \u001b[0;32mraise\u001b[0m \u001b[0me\u001b[0m\u001b[0;34m.\u001b[0m\u001b[0mwith_traceback\u001b[0m\u001b[0;34m(\u001b[0m\u001b[0mfiltered_tb\u001b[0m\u001b[0;34m)\u001b[0m \u001b[0;32mfrom\u001b[0m \u001b[0;32mNone\u001b[0m\u001b[0;34m\u001b[0m\u001b[0;34m\u001b[0m\u001b[0m\n",
      "\u001b[0m\u001b[0;32m    154 \u001b[0;31m    \u001b[0;32mfinally\u001b[0m\u001b[0;34m:\u001b[0m\u001b[0;34m\u001b[0m\u001b[0;34m\u001b[0m\u001b[0m\n",
      "\u001b[0m\u001b[0;32m    155 \u001b[0;31m      \u001b[0;32mdel\u001b[0m \u001b[0mfiltered_tb\u001b[0m\u001b[0;34m\u001b[0m\u001b[0;34m\u001b[0m\u001b[0m\n",
      "\u001b[0m\n",
      "ipdb> up\n",
      "> \u001b[0;32m/Users/saforem2/projects/l2hmc-qcd/src/l2hmc/dynamics/tensorflow/dynamics.py\u001b[0m(364)\u001b[0;36mleapfrog_hmc\u001b[0;34m()\u001b[0m\n",
      "\u001b[0;32m    362 \u001b[0;31m        \u001b[0mforce1\u001b[0m \u001b[0;34m=\u001b[0m \u001b[0mself\u001b[0m\u001b[0;34m.\u001b[0m\u001b[0mgrad_potential\u001b[0m\u001b[0;34m(\u001b[0m\u001b[0mstate\u001b[0m\u001b[0;34m.\u001b[0m\u001b[0mx\u001b[0m\u001b[0;34m,\u001b[0m \u001b[0mstate\u001b[0m\u001b[0;34m.\u001b[0m\u001b[0mbeta\u001b[0m\u001b[0;34m)\u001b[0m  \u001b[0;31m# f = dU / dx\u001b[0m\u001b[0;34m\u001b[0m\u001b[0;34m\u001b[0m\u001b[0m\n",
      "\u001b[0m\u001b[0;32m    363 \u001b[0;31m        \u001b[0mdt\u001b[0m \u001b[0;34m=\u001b[0m \u001b[0mtf\u001b[0m\u001b[0;34m.\u001b[0m\u001b[0mconstant\u001b[0m\u001b[0;34m(\u001b[0m\u001b[0;36m0.5\u001b[0m \u001b[0;34m*\u001b[0m \u001b[0mtf\u001b[0m\u001b[0;34m.\u001b[0m\u001b[0mconstant\u001b[0m\u001b[0;34m(\u001b[0m\u001b[0meps\u001b[0m\u001b[0;34m)\u001b[0m\u001b[0;34m)\u001b[0m\u001b[0;34m\u001b[0m\u001b[0;34m\u001b[0m\u001b[0m\n",
      "\u001b[0m\u001b[0;32m--> 364 \u001b[0;31m        \u001b[0mv1\u001b[0m \u001b[0;34m=\u001b[0m \u001b[0mstate\u001b[0m\u001b[0;34m.\u001b[0m\u001b[0mv\u001b[0m \u001b[0;34m-\u001b[0m \u001b[0mdt\u001b[0m \u001b[0;34m*\u001b[0m \u001b[0mforce1\u001b[0m                         \u001b[0;31m# v -= ½ veps * f\u001b[0m\u001b[0;34m\u001b[0m\u001b[0;34m\u001b[0m\u001b[0m\n",
      "\u001b[0m\u001b[0;32m    365 \u001b[0;31m        \u001b[0mxp\u001b[0m \u001b[0;34m=\u001b[0m \u001b[0mstate\u001b[0m\u001b[0;34m.\u001b[0m\u001b[0mx\u001b[0m \u001b[0;34m+\u001b[0m \u001b[0meps\u001b[0m \u001b[0;34m*\u001b[0m \u001b[0mv1\u001b[0m                            \u001b[0;31m# x += xeps * v\u001b[0m\u001b[0;34m\u001b[0m\u001b[0;34m\u001b[0m\u001b[0m\n",
      "\u001b[0m\u001b[0;32m    366 \u001b[0;31m        \u001b[0mforce2\u001b[0m \u001b[0;34m=\u001b[0m \u001b[0mself\u001b[0m\u001b[0;34m.\u001b[0m\u001b[0mgrad_potential\u001b[0m\u001b[0;34m(\u001b[0m\u001b[0mxp\u001b[0m\u001b[0;34m,\u001b[0m \u001b[0mstate\u001b[0m\u001b[0;34m.\u001b[0m\u001b[0mbeta\u001b[0m\u001b[0;34m)\u001b[0m       \u001b[0;31m# calc force, again\u001b[0m\u001b[0;34m\u001b[0m\u001b[0;34m\u001b[0m\u001b[0m\n",
      "\u001b[0m\n",
      "ipdb> dt.dtype\n",
      "tf.float32\n",
      "ipdb> force1.dtype\n",
      "tf.complex64\n",
      "ipdb> state.v.dtype\n",
      "tf.complex64\n",
      "ipdb> state.v.shape\n",
      "TensorShape([4, 4, 4, 4, 4, 4, 3, 3])\n",
      "ipdb> force1.shape\n",
      "TensorShape([4, 4, 4, 4, 4, 4, 3, 3])\n",
      "ipdb> dt = tf.constant(0.5 * tf.constant(eps), dtype=force1.dtype)\n",
      "*** TypeError: Expected tensor 4.999999987376214e-07 with dtype tf.complex64, but got dtype tf.float32.\n",
      "ipdb> eps = tf.constant(eps, dtype=force1.dtype)\n",
      "*** TypeError: Expected tensor 9.999999974752427e-07 with dtype tf.complex64, but got dtype tf.float32.\n",
      "ipdb> eps = tf.cast(eps, dtype=force1.dtype)\n",
      "ipdb> eps.dtype\n",
      "tf.complex64\n",
      "ipdb> dt = 0.5 * eps\n",
      "ipdb> dt.dtype\n",
      "tf.complex64\n",
      "ipdb> q\n"
     ]
    }
   ],
   "source": [
    "xtf_, metrics_tf = dynamics_tf(inputs_tf)"
   ]
  },
  {
   "cell_type": "code",
   "execution_count": 19,
   "id": "df5364f3",
   "metadata": {
    "ExecuteTime": {
     "end_time": "2022-04-21T05:26:34.427963Z",
     "start_time": "2022-04-21T05:26:34.309930Z"
    }
   },
   "outputs": [
    {
     "ename": "ValueError",
     "evalue": "Exception encountered when calling layer \"dynamics\" (type Dynamics).\n\nInput 0 of layer \"vnet_0\" is incompatible with the layer: expected shape=(None, 9216), found shape=(4, 4, 4, 4, 4, 4, 3, 3)\n\nCall arguments received:\n  • inputs=('tf.Tensor(shape=(4, 4, 4, 4, 4, 4, 3, 3), dtype=complex64)', 'tf.Tensor(shape=(), dtype=float32)')\n  • training=True",
     "output_type": "error",
     "traceback": [
      "\u001b[0;31m---------------------------------------------------------------------------\u001b[0m",
      "\u001b[0;31mValueError\u001b[0m                                Traceback (most recent call last)",
      "Input \u001b[0;32mIn [19]\u001b[0m, in \u001b[0;36m<cell line: 1>\u001b[0;34m()\u001b[0m\n\u001b[0;32m----> 1\u001b[0m xtf_, metrics_tf \u001b[38;5;241m=\u001b[39m \u001b[43mdynamics_tf\u001b[49m\u001b[43m(\u001b[49m\u001b[43minputs_tf\u001b[49m\u001b[43m)\u001b[49m\n",
      "File \u001b[0;32m~/projects/l2hmc-qcd/.venv/lib/python3.10/site-packages/keras/utils/traceback_utils.py:67\u001b[0m, in \u001b[0;36mfilter_traceback.<locals>.error_handler\u001b[0;34m(*args, **kwargs)\u001b[0m\n\u001b[1;32m     65\u001b[0m \u001b[38;5;28;01mexcept\u001b[39;00m \u001b[38;5;167;01mException\u001b[39;00m \u001b[38;5;28;01mas\u001b[39;00m e:  \u001b[38;5;66;03m# pylint: disable=broad-except\u001b[39;00m\n\u001b[1;32m     66\u001b[0m   filtered_tb \u001b[38;5;241m=\u001b[39m _process_traceback_frames(e\u001b[38;5;241m.\u001b[39m__traceback__)\n\u001b[0;32m---> 67\u001b[0m   \u001b[38;5;28;01mraise\u001b[39;00m e\u001b[38;5;241m.\u001b[39mwith_traceback(filtered_tb) \u001b[38;5;28;01mfrom\u001b[39;00m \u001b[38;5;28mNone\u001b[39m\n\u001b[1;32m     68\u001b[0m \u001b[38;5;28;01mfinally\u001b[39;00m:\n\u001b[1;32m     69\u001b[0m   \u001b[38;5;28;01mdel\u001b[39;00m filtered_tb\n",
      "File \u001b[0;32m~/projects/l2hmc-qcd/src/l2hmc/dynamics/tensorflow/dynamics.py:123\u001b[0m, in \u001b[0;36mcall\u001b[0;34m(self, inputs, training)\u001b[0m\n\u001b[1;32m    121\u001b[0m \"\"\"Call Dynamics object.\"\"\"\n\u001b[1;32m    122\u001b[0m if self.config.merge_directions:\n\u001b[0;32m--> 123\u001b[0m     return self.apply_transition_fb(inputs, training=training)\n\u001b[1;32m    124\u001b[0m return self.apply_transition(inputs, training=training)\n\u001b[1;32m    125\u001b[0m \n",
      "File \u001b[0;32m~/projects/l2hmc-qcd/src/l2hmc/dynamics/tensorflow/dynamics.py:173\u001b[0m, in \u001b[0;36mapply_transition_fb\u001b[0;34m(self, inputs, training)\u001b[0m\n\u001b[1;32m    171\u001b[0m ) -> tuple[TensorLike, dict]:\n\u001b[1;32m    172\u001b[0m     \"\"\"Apply transition using single forward/backward update.\"\"\"\n\u001b[0;32m--> 173\u001b[0m     data = self.generate_proposal_fb(inputs, training=training)\n\u001b[1;32m    174\u001b[0m     ma_, mr_ = self._get_accept_masks(data['metrics']['acc'])\n\u001b[1;32m    175\u001b[0m     ma = ma_[:, None]\n",
      "File \u001b[0;32m~/projects/l2hmc-qcd/src/l2hmc/dynamics/tensorflow/dynamics.py:288\u001b[0m, in \u001b[0;36mgenerate_proposal_fb\u001b[0;34m(self, inputs, training)\u001b[0m\n\u001b[1;32m    286\u001b[0m     return {'init': init, 'proposed': proposed, 'metrics': metrics}\n\u001b[1;32m    287\u001b[0m \n\u001b[0;32m--> 288\u001b[0m def generate_proposal(\n\u001b[1;32m    289\u001b[0m         self,\n\u001b[1;32m    290\u001b[0m         inputs: tuple[TensorLike, TensorLike],\n",
      "File \u001b[0;32m~/projects/l2hmc-qcd/src/l2hmc/dynamics/tensorflow/dynamics.py:407\u001b[0m, in \u001b[0;36mtransition_kernel_fb\u001b[0;34m(self, state, training)\u001b[0m\n\u001b[1;32m    405\u001b[0m     if self.config.verbose:\n\u001b[1;32m    406\u001b[0m         metrics = self.get_metrics(state_, sumlogdet, step=step)\n\u001b[0;32m--> 407\u001b[0m         history = self.update_history(metrics, history=history)\n\u001b[1;32m    408\u001b[0m \n\u001b[1;32m    409\u001b[0m # Flip momentum\n",
      "File \u001b[0;32m~/projects/l2hmc-qcd/src/l2hmc/dynamics/tensorflow/dynamics.py:588\u001b[0m, in \u001b[0;36m_forward_lf\u001b[0;34m(self, step, state, training)\u001b[0m\n\u001b[1;32m    586\u001b[0m \n\u001b[1;32m    587\u001b[0m         state, logdet = self._update_x_fwd(step, state, m,\n\u001b[0;32m--> 588\u001b[0m                                            first=True, training=training)\n\u001b[1;32m    589\u001b[0m         sumlogdet = sumlogdet + logdet\n\u001b[1;32m    590\u001b[0m \n",
      "File \u001b[0;32m~/projects/l2hmc-qcd/src/l2hmc/dynamics/tensorflow/dynamics.py:643\u001b[0m, in \u001b[0;36m_update_v_fwd\u001b[0;34m(self, step, state, training)\u001b[0m\n\u001b[1;32m    641\u001b[0m jac = eps * s / 2.  # jacobian factor, also used in exp_s below\n\u001b[1;32m    642\u001b[0m logdet = tf.reduce_sum(jac, axis=1)\n\u001b[0;32m--> 643\u001b[0m \n\u001b[1;32m    644\u001b[0m exp_s = tf.exp(jac)\n\u001b[1;32m    645\u001b[0m exp_q = tf.exp(eps * q)\n",
      "File \u001b[0;32m~/projects/l2hmc-qcd/src/l2hmc/dynamics/tensorflow/dynamics.py:545\u001b[0m, in \u001b[0;36m_call_vnet\u001b[0;34m(self, step, inputs, training)\u001b[0m\n\u001b[1;32m    543\u001b[0m def _get_xnet(self, step: int, first: bool) -> CallableNetwork:\n\u001b[1;32m    544\u001b[0m     \"\"\"Returns position network to be used for updating x.\"\"\"\n\u001b[0;32m--> 545\u001b[0m     xnet = self.xnet\n\u001b[1;32m    546\u001b[0m     if self.config.use_separate_networks:\n\u001b[1;32m    547\u001b[0m         xnet = xnet[str(step)]\n",
      "\u001b[0;31mValueError\u001b[0m: Exception encountered when calling layer \"dynamics\" (type Dynamics).\n\nInput 0 of layer \"vnet_0\" is incompatible with the layer: expected shape=(None, 9216), found shape=(4, 4, 4, 4, 4, 4, 3, 3)\n\nCall arguments received:\n  • inputs=('tf.Tensor(shape=(4, 4, 4, 4, 4, 4, 3, 3), dtype=complex64)', 'tf.Tensor(shape=(), dtype=float32)')\n  • training=True"
     ]
    }
   ],
   "source": [
    "xtf_, metrics_tf = dynamics_tf(inputs_tf)"
   ]
  },
  {
   "cell_type": "code",
   "execution_count": 20,
   "id": "4952dd21",
   "metadata": {
    "ExecuteTime": {
     "end_time": "2022-04-21T05:39:52.710874Z",
     "start_time": "2022-04-21T05:26:42.196433Z"
    }
   },
   "outputs": [
    {
     "name": "stdout",
     "output_type": "stream",
     "text": [
      "> \u001b[0;32m/Users/saforem2/projects/l2hmc-qcd/src/l2hmc/dynamics/tensorflow/dynamics.py\u001b[0m(545)\u001b[0;36m_call_vnet\u001b[0;34m()\u001b[0m\n",
      "\u001b[0;32m    543 \u001b[0;31m        \u001b[0mvnet\u001b[0m \u001b[0;34m=\u001b[0m \u001b[0mself\u001b[0m\u001b[0;34m.\u001b[0m\u001b[0m_get_vnet\u001b[0m\u001b[0;34m(\u001b[0m\u001b[0mstep\u001b[0m\u001b[0;34m)\u001b[0m\u001b[0;34m\u001b[0m\u001b[0;34m\u001b[0m\u001b[0m\n",
      "\u001b[0m\u001b[0;32m    544 \u001b[0;31m        \u001b[0;32massert\u001b[0m \u001b[0mcallable\u001b[0m\u001b[0;34m(\u001b[0m\u001b[0mvnet\u001b[0m\u001b[0;34m)\u001b[0m\u001b[0;34m\u001b[0m\u001b[0;34m\u001b[0m\u001b[0m\n",
      "\u001b[0m\u001b[0;32m--> 545 \u001b[0;31m        \u001b[0;32mreturn\u001b[0m \u001b[0mvnet\u001b[0m\u001b[0;34m(\u001b[0m\u001b[0minputs\u001b[0m\u001b[0;34m,\u001b[0m \u001b[0mtraining\u001b[0m\u001b[0;34m)\u001b[0m\u001b[0;34m\u001b[0m\u001b[0;34m\u001b[0m\u001b[0m\n",
      "\u001b[0m\u001b[0;32m    546 \u001b[0;31m\u001b[0;34m\u001b[0m\u001b[0m\n",
      "\u001b[0m\u001b[0;32m    547 \u001b[0;31m    \u001b[0;32mdef\u001b[0m \u001b[0m_get_xnet\u001b[0m\u001b[0;34m(\u001b[0m\u001b[0mself\u001b[0m\u001b[0;34m,\u001b[0m \u001b[0mstep\u001b[0m\u001b[0;34m:\u001b[0m \u001b[0mint\u001b[0m\u001b[0;34m,\u001b[0m \u001b[0mfirst\u001b[0m\u001b[0;34m:\u001b[0m \u001b[0mbool\u001b[0m\u001b[0;34m)\u001b[0m \u001b[0;34m->\u001b[0m \u001b[0mCallableNetwork\u001b[0m\u001b[0;34m:\u001b[0m\u001b[0;34m\u001b[0m\u001b[0;34m\u001b[0m\u001b[0m\n",
      "\u001b[0m\n",
      "ipdb> x, beta = inputs\n",
      "ipdb> x.shape\n",
      "TensorShape([4, 4, 4, 4, 4, 4, 3, 3])\n",
      "ipdb> xf = x.reshape(x.shape[0], -1)\n",
      "*** AttributeError: \n",
      "        'EagerTensor' object has no attribute 'reshape'.\n",
      "        If you are looking for numpy-related methods, please run the following:\n",
      "        from tensorflow.python.ops.numpy_ops import np_config\n",
      "        np_config.enable_numpy_behavior()\n",
      "ipdb> xf = tf.reshape(x, (x.shape[0], -1))\n",
      "ipdb> xf.shape\n",
      "TensorShape([4, 9216])\n",
      "ipdb> vout = vnet((xf, beta), training)\n",
      "*** ValueError: Input 1 of layer \"vnet_0\" is incompatible with the layer: expected shape=(None, 9216), found shape=(4, 4, 4, 4, 4, 4, 3, 3)\n",
      "ipdb> vout = vnet((tf.reshape(x, (x.shape[0], -1)), beta), training)\n",
      "*** ValueError: Input 1 of layer \"vnet_0\" is incompatible with the layer: expected shape=(None, 9216), found shape=(4, 4, 4, 4, 4, 4, 3, 3)\n",
      "ipdb> down\n",
      "*** Newest frame\n",
      "ipdb> q\n"
     ]
    }
   ],
   "source": [
    "%debug"
   ]
  },
  {
   "cell_type": "code",
   "execution_count": 13,
   "id": "46900aa7",
   "metadata": {
    "ExecuteTime": {
     "end_time": "2022-04-21T03:32:50.689219Z",
     "start_time": "2022-04-21T03:32:50.137935Z"
    }
   },
   "outputs": [
    {
     "ename": "ConfigCompositionException",
     "evalue": "",
     "output_type": "error",
     "traceback": [
      "\u001b[0;31m---------------------------------------------------------------------------\u001b[0m",
      "\u001b[0;31mConfigKeyError\u001b[0m                            Traceback (most recent call last)",
      "File \u001b[0;32m~/projects/l2hmc-qcd/.venv/lib/python3.10/site-packages/hydra/_internal/config_loader_impl.py:141\u001b[0m, in \u001b[0;36mConfigLoaderImpl.load_configuration\u001b[0;34m(self, config_name, overrides, run_mode, from_shell)\u001b[0m\n\u001b[1;32m    140\u001b[0m \u001b[38;5;28;01mtry\u001b[39;00m:\n\u001b[0;32m--> 141\u001b[0m     \u001b[38;5;28;01mreturn\u001b[39;00m \u001b[38;5;28;43mself\u001b[39;49m\u001b[38;5;241;43m.\u001b[39;49m\u001b[43m_load_configuration_impl\u001b[49m\u001b[43m(\u001b[49m\n\u001b[1;32m    142\u001b[0m \u001b[43m        \u001b[49m\u001b[43mconfig_name\u001b[49m\u001b[38;5;241;43m=\u001b[39;49m\u001b[43mconfig_name\u001b[49m\u001b[43m,\u001b[49m\n\u001b[1;32m    143\u001b[0m \u001b[43m        \u001b[49m\u001b[43moverrides\u001b[49m\u001b[38;5;241;43m=\u001b[39;49m\u001b[43moverrides\u001b[49m\u001b[43m,\u001b[49m\n\u001b[1;32m    144\u001b[0m \u001b[43m        \u001b[49m\u001b[43mrun_mode\u001b[49m\u001b[38;5;241;43m=\u001b[39;49m\u001b[43mrun_mode\u001b[49m\u001b[43m,\u001b[49m\n\u001b[1;32m    145\u001b[0m \u001b[43m        \u001b[49m\u001b[43mfrom_shell\u001b[49m\u001b[38;5;241;43m=\u001b[39;49m\u001b[43mfrom_shell\u001b[49m\u001b[43m,\u001b[49m\n\u001b[1;32m    146\u001b[0m \u001b[43m    \u001b[49m\u001b[43m)\u001b[49m\n\u001b[1;32m    147\u001b[0m \u001b[38;5;28;01mexcept\u001b[39;00m OmegaConfBaseException \u001b[38;5;28;01mas\u001b[39;00m e:\n",
      "File \u001b[0;32m~/projects/l2hmc-qcd/.venv/lib/python3.10/site-packages/hydra/_internal/config_loader_impl.py:249\u001b[0m, in \u001b[0;36mConfigLoaderImpl._load_configuration_impl\u001b[0;34m(self, config_name, overrides, run_mode, from_shell)\u001b[0m\n\u001b[1;32m    247\u001b[0m config_overrides \u001b[38;5;241m=\u001b[39m defaults_list\u001b[38;5;241m.\u001b[39mconfig_overrides\n\u001b[0;32m--> 249\u001b[0m cfg \u001b[38;5;241m=\u001b[39m \u001b[38;5;28;43mself\u001b[39;49m\u001b[38;5;241;43m.\u001b[39;49m\u001b[43m_compose_config_from_defaults_list\u001b[49m\u001b[43m(\u001b[49m\n\u001b[1;32m    250\u001b[0m \u001b[43m    \u001b[49m\u001b[43mdefaults\u001b[49m\u001b[38;5;241;43m=\u001b[39;49m\u001b[43mdefaults_list\u001b[49m\u001b[38;5;241;43m.\u001b[39;49m\u001b[43mdefaults\u001b[49m\u001b[43m,\u001b[49m\u001b[43m \u001b[49m\u001b[43mrepo\u001b[49m\u001b[38;5;241;43m=\u001b[39;49m\u001b[43mcaching_repo\u001b[49m\n\u001b[1;32m    251\u001b[0m \u001b[43m\u001b[49m\u001b[43m)\u001b[49m\n\u001b[1;32m    253\u001b[0m \u001b[38;5;66;03m# Set config root to struct mode.\u001b[39;00m\n\u001b[1;32m    254\u001b[0m \u001b[38;5;66;03m# Note that this will close any dictionaries (including dicts annotated as Dict[K, V].\u001b[39;00m\n\u001b[1;32m    255\u001b[0m \u001b[38;5;66;03m# One must use + to add new fields to them.\u001b[39;00m\n",
      "File \u001b[0;32m~/projects/l2hmc-qcd/.venv/lib/python3.10/site-packages/hydra/_internal/config_loader_impl.py:519\u001b[0m, in \u001b[0;36mConfigLoaderImpl._compose_config_from_defaults_list\u001b[0;34m(self, defaults, repo)\u001b[0m\n\u001b[1;32m    518\u001b[0m \u001b[38;5;28;01mtry\u001b[39;00m:\n\u001b[0;32m--> 519\u001b[0m     \u001b[43mcfg\u001b[49m\u001b[38;5;241;43m.\u001b[39;49m\u001b[43mmerge_with\u001b[49m\u001b[43m(\u001b[49m\u001b[43mloaded\u001b[49m\u001b[38;5;241;43m.\u001b[39;49m\u001b[43mconfig\u001b[49m\u001b[43m)\u001b[49m\n\u001b[1;32m    520\u001b[0m \u001b[38;5;28;01mexcept\u001b[39;00m ValidationError \u001b[38;5;28;01mas\u001b[39;00m e:\n",
      "File \u001b[0;32m~/projects/l2hmc-qcd/.venv/lib/python3.10/site-packages/omegaconf/basecontainer.py:452\u001b[0m, in \u001b[0;36mBaseContainer.merge_with\u001b[0;34m(self, *others)\u001b[0m\n\u001b[1;32m    451\u001b[0m \u001b[38;5;28;01mexcept\u001b[39;00m \u001b[38;5;167;01mException\u001b[39;00m \u001b[38;5;28;01mas\u001b[39;00m e:\n\u001b[0;32m--> 452\u001b[0m     \u001b[38;5;28;43mself\u001b[39;49m\u001b[38;5;241;43m.\u001b[39;49m\u001b[43m_format_and_raise\u001b[49m\u001b[43m(\u001b[49m\u001b[43mkey\u001b[49m\u001b[38;5;241;43m=\u001b[39;49m\u001b[38;5;28;43;01mNone\u001b[39;49;00m\u001b[43m,\u001b[49m\u001b[43m \u001b[49m\u001b[43mvalue\u001b[49m\u001b[38;5;241;43m=\u001b[39;49m\u001b[38;5;28;43;01mNone\u001b[39;49;00m\u001b[43m,\u001b[49m\u001b[43m \u001b[49m\u001b[43mcause\u001b[49m\u001b[38;5;241;43m=\u001b[39;49m\u001b[43me\u001b[49m\u001b[43m)\u001b[49m\n",
      "File \u001b[0;32m~/projects/l2hmc-qcd/.venv/lib/python3.10/site-packages/omegaconf/base.py:190\u001b[0m, in \u001b[0;36mNode._format_and_raise\u001b[0;34m(self, key, value, cause, type_override)\u001b[0m\n\u001b[1;32m    187\u001b[0m \u001b[38;5;28;01mdef\u001b[39;00m \u001b[38;5;21m_format_and_raise\u001b[39m(\n\u001b[1;32m    188\u001b[0m     \u001b[38;5;28mself\u001b[39m, key: Any, value: Any, cause: \u001b[38;5;167;01mException\u001b[39;00m, type_override: Any \u001b[38;5;241m=\u001b[39m \u001b[38;5;28;01mNone\u001b[39;00m\n\u001b[1;32m    189\u001b[0m ) \u001b[38;5;241m-\u001b[39m\u001b[38;5;241m>\u001b[39m \u001b[38;5;28;01mNone\u001b[39;00m:\n\u001b[0;32m--> 190\u001b[0m     \u001b[43mformat_and_raise\u001b[49m\u001b[43m(\u001b[49m\n\u001b[1;32m    191\u001b[0m \u001b[43m        \u001b[49m\u001b[43mnode\u001b[49m\u001b[38;5;241;43m=\u001b[39;49m\u001b[38;5;28;43mself\u001b[39;49m\u001b[43m,\u001b[49m\n\u001b[1;32m    192\u001b[0m \u001b[43m        \u001b[49m\u001b[43mkey\u001b[49m\u001b[38;5;241;43m=\u001b[39;49m\u001b[43mkey\u001b[49m\u001b[43m,\u001b[49m\n\u001b[1;32m    193\u001b[0m \u001b[43m        \u001b[49m\u001b[43mvalue\u001b[49m\u001b[38;5;241;43m=\u001b[39;49m\u001b[43mvalue\u001b[49m\u001b[43m,\u001b[49m\n\u001b[1;32m    194\u001b[0m \u001b[43m        \u001b[49m\u001b[43mmsg\u001b[49m\u001b[38;5;241;43m=\u001b[39;49m\u001b[38;5;28;43mstr\u001b[39;49m\u001b[43m(\u001b[49m\u001b[43mcause\u001b[49m\u001b[43m)\u001b[49m\u001b[43m,\u001b[49m\n\u001b[1;32m    195\u001b[0m \u001b[43m        \u001b[49m\u001b[43mcause\u001b[49m\u001b[38;5;241;43m=\u001b[39;49m\u001b[43mcause\u001b[49m\u001b[43m,\u001b[49m\n\u001b[1;32m    196\u001b[0m \u001b[43m        \u001b[49m\u001b[43mtype_override\u001b[49m\u001b[38;5;241;43m=\u001b[39;49m\u001b[43mtype_override\u001b[49m\u001b[43m,\u001b[49m\n\u001b[1;32m    197\u001b[0m \u001b[43m    \u001b[49m\u001b[43m)\u001b[49m\n\u001b[1;32m    198\u001b[0m     \u001b[38;5;28;01massert\u001b[39;00m \u001b[38;5;28;01mFalse\u001b[39;00m\n",
      "File \u001b[0;32m~/projects/l2hmc-qcd/.venv/lib/python3.10/site-packages/omegaconf/_utils.py:738\u001b[0m, in \u001b[0;36mformat_and_raise\u001b[0;34m(node, key, value, msg, cause, type_override)\u001b[0m\n\u001b[1;32m    737\u001b[0m         ex\u001b[38;5;241m.\u001b[39m\u001b[38;5;18m__dict__\u001b[39m \u001b[38;5;241m=\u001b[39m copy\u001b[38;5;241m.\u001b[39mdeepcopy(cause\u001b[38;5;241m.\u001b[39m\u001b[38;5;18m__dict__\u001b[39m)\n\u001b[0;32m--> 738\u001b[0m     \u001b[43m_raise\u001b[49m\u001b[43m(\u001b[49m\u001b[43mex\u001b[49m\u001b[43m,\u001b[49m\u001b[43m \u001b[49m\u001b[43mcause\u001b[49m\u001b[43m)\u001b[49m\n\u001b[1;32m    740\u001b[0m object_type: Optional[Type[Any]]\n",
      "File \u001b[0;32m~/projects/l2hmc-qcd/.venv/lib/python3.10/site-packages/omegaconf/_utils.py:716\u001b[0m, in \u001b[0;36m_raise\u001b[0;34m(ex, cause)\u001b[0m\n\u001b[1;32m    715\u001b[0m     ex\u001b[38;5;241m.\u001b[39m__cause__ \u001b[38;5;241m=\u001b[39m \u001b[38;5;28;01mNone\u001b[39;00m\n\u001b[0;32m--> 716\u001b[0m \u001b[38;5;28;01mraise\u001b[39;00m ex\u001b[38;5;241m.\u001b[39mwith_traceback(sys\u001b[38;5;241m.\u001b[39mexc_info()[\u001b[38;5;241m2\u001b[39m])\n",
      "File \u001b[0;32m~/projects/l2hmc-qcd/.venv/lib/python3.10/site-packages/omegaconf/basecontainer.py:450\u001b[0m, in \u001b[0;36mBaseContainer.merge_with\u001b[0;34m(self, *others)\u001b[0m\n\u001b[1;32m    449\u001b[0m \u001b[38;5;28;01mtry\u001b[39;00m:\n\u001b[0;32m--> 450\u001b[0m     \u001b[38;5;28;43mself\u001b[39;49m\u001b[38;5;241;43m.\u001b[39;49m\u001b[43m_merge_with\u001b[49m\u001b[43m(\u001b[49m\u001b[38;5;241;43m*\u001b[39;49m\u001b[43mothers\u001b[49m\u001b[43m)\u001b[49m\n\u001b[1;32m    451\u001b[0m \u001b[38;5;28;01mexcept\u001b[39;00m \u001b[38;5;167;01mException\u001b[39;00m \u001b[38;5;28;01mas\u001b[39;00m e:\n",
      "File \u001b[0;32m~/projects/l2hmc-qcd/.venv/lib/python3.10/site-packages/omegaconf/basecontainer.py:474\u001b[0m, in \u001b[0;36mBaseContainer._merge_with\u001b[0;34m(self, *others)\u001b[0m\n\u001b[1;32m    473\u001b[0m \u001b[38;5;28;01mif\u001b[39;00m \u001b[38;5;28misinstance\u001b[39m(\u001b[38;5;28mself\u001b[39m, DictConfig) \u001b[38;5;129;01mand\u001b[39;00m \u001b[38;5;28misinstance\u001b[39m(other, DictConfig):\n\u001b[0;32m--> 474\u001b[0m     \u001b[43mBaseContainer\u001b[49m\u001b[38;5;241;43m.\u001b[39;49m\u001b[43m_map_merge\u001b[49m\u001b[43m(\u001b[49m\u001b[38;5;28;43mself\u001b[39;49m\u001b[43m,\u001b[49m\u001b[43m \u001b[49m\u001b[43mother\u001b[49m\u001b[43m)\u001b[49m\n\u001b[1;32m    475\u001b[0m \u001b[38;5;28;01melif\u001b[39;00m \u001b[38;5;28misinstance\u001b[39m(\u001b[38;5;28mself\u001b[39m, ListConfig) \u001b[38;5;129;01mand\u001b[39;00m \u001b[38;5;28misinstance\u001b[39m(other, ListConfig):\n",
      "File \u001b[0;32m~/projects/l2hmc-qcd/.venv/lib/python3.10/site-packages/omegaconf/basecontainer.py:392\u001b[0m, in \u001b[0;36mBaseContainer._map_merge\u001b[0;34m(dest, src)\u001b[0m\n\u001b[1;32m    391\u001b[0m         \u001b[38;5;28;01melse\u001b[39;00m:\n\u001b[0;32m--> 392\u001b[0m             dest[key] \u001b[38;5;241m=\u001b[39m src\u001b[38;5;241m.\u001b[39m_get_node(key)\n\u001b[1;32m    394\u001b[0m _update_types(node\u001b[38;5;241m=\u001b[39mdest, ref_type\u001b[38;5;241m=\u001b[39msrc_ref_type, object_type\u001b[38;5;241m=\u001b[39msrc_type)\n",
      "File \u001b[0;32m~/projects/l2hmc-qcd/.venv/lib/python3.10/site-packages/omegaconf/dictconfig.py:310\u001b[0m, in \u001b[0;36mDictConfig.__setitem__\u001b[0;34m(self, key, value)\u001b[0m\n\u001b[1;32m    309\u001b[0m \u001b[38;5;28;01mexcept\u001b[39;00m \u001b[38;5;167;01mAttributeError\u001b[39;00m \u001b[38;5;28;01mas\u001b[39;00m e:\n\u001b[0;32m--> 310\u001b[0m     \u001b[38;5;28;43mself\u001b[39;49m\u001b[38;5;241;43m.\u001b[39;49m\u001b[43m_format_and_raise\u001b[49m\u001b[43m(\u001b[49m\n\u001b[1;32m    311\u001b[0m \u001b[43m        \u001b[49m\u001b[43mkey\u001b[49m\u001b[38;5;241;43m=\u001b[39;49m\u001b[43mkey\u001b[49m\u001b[43m,\u001b[49m\u001b[43m \u001b[49m\u001b[43mvalue\u001b[49m\u001b[38;5;241;43m=\u001b[39;49m\u001b[43mvalue\u001b[49m\u001b[43m,\u001b[49m\u001b[43m \u001b[49m\u001b[43mtype_override\u001b[49m\u001b[38;5;241;43m=\u001b[39;49m\u001b[43mConfigKeyError\u001b[49m\u001b[43m,\u001b[49m\u001b[43m \u001b[49m\u001b[43mcause\u001b[49m\u001b[38;5;241;43m=\u001b[39;49m\u001b[43me\u001b[49m\n\u001b[1;32m    312\u001b[0m \u001b[43m    \u001b[49m\u001b[43m)\u001b[49m\n\u001b[1;32m    313\u001b[0m \u001b[38;5;28;01mexcept\u001b[39;00m \u001b[38;5;167;01mException\u001b[39;00m \u001b[38;5;28;01mas\u001b[39;00m e:\n",
      "File \u001b[0;32m~/projects/l2hmc-qcd/.venv/lib/python3.10/site-packages/omegaconf/base.py:190\u001b[0m, in \u001b[0;36mNode._format_and_raise\u001b[0;34m(self, key, value, cause, type_override)\u001b[0m\n\u001b[1;32m    187\u001b[0m \u001b[38;5;28;01mdef\u001b[39;00m \u001b[38;5;21m_format_and_raise\u001b[39m(\n\u001b[1;32m    188\u001b[0m     \u001b[38;5;28mself\u001b[39m, key: Any, value: Any, cause: \u001b[38;5;167;01mException\u001b[39;00m, type_override: Any \u001b[38;5;241m=\u001b[39m \u001b[38;5;28;01mNone\u001b[39;00m\n\u001b[1;32m    189\u001b[0m ) \u001b[38;5;241m-\u001b[39m\u001b[38;5;241m>\u001b[39m \u001b[38;5;28;01mNone\u001b[39;00m:\n\u001b[0;32m--> 190\u001b[0m     \u001b[43mformat_and_raise\u001b[49m\u001b[43m(\u001b[49m\n\u001b[1;32m    191\u001b[0m \u001b[43m        \u001b[49m\u001b[43mnode\u001b[49m\u001b[38;5;241;43m=\u001b[39;49m\u001b[38;5;28;43mself\u001b[39;49m\u001b[43m,\u001b[49m\n\u001b[1;32m    192\u001b[0m \u001b[43m        \u001b[49m\u001b[43mkey\u001b[49m\u001b[38;5;241;43m=\u001b[39;49m\u001b[43mkey\u001b[49m\u001b[43m,\u001b[49m\n\u001b[1;32m    193\u001b[0m \u001b[43m        \u001b[49m\u001b[43mvalue\u001b[49m\u001b[38;5;241;43m=\u001b[39;49m\u001b[43mvalue\u001b[49m\u001b[43m,\u001b[49m\n\u001b[1;32m    194\u001b[0m \u001b[43m        \u001b[49m\u001b[43mmsg\u001b[49m\u001b[38;5;241;43m=\u001b[39;49m\u001b[38;5;28;43mstr\u001b[39;49m\u001b[43m(\u001b[49m\u001b[43mcause\u001b[49m\u001b[43m)\u001b[49m\u001b[43m,\u001b[49m\n\u001b[1;32m    195\u001b[0m \u001b[43m        \u001b[49m\u001b[43mcause\u001b[49m\u001b[38;5;241;43m=\u001b[39;49m\u001b[43mcause\u001b[49m\u001b[43m,\u001b[49m\n\u001b[1;32m    196\u001b[0m \u001b[43m        \u001b[49m\u001b[43mtype_override\u001b[49m\u001b[38;5;241;43m=\u001b[39;49m\u001b[43mtype_override\u001b[49m\u001b[43m,\u001b[49m\n\u001b[1;32m    197\u001b[0m \u001b[43m    \u001b[49m\u001b[43m)\u001b[49m\n\u001b[1;32m    198\u001b[0m     \u001b[38;5;28;01massert\u001b[39;00m \u001b[38;5;28;01mFalse\u001b[39;00m\n",
      "File \u001b[0;32m~/projects/l2hmc-qcd/.venv/lib/python3.10/site-packages/omegaconf/_utils.py:738\u001b[0m, in \u001b[0;36mformat_and_raise\u001b[0;34m(node, key, value, msg, cause, type_override)\u001b[0m\n\u001b[1;32m    737\u001b[0m         ex\u001b[38;5;241m.\u001b[39m\u001b[38;5;18m__dict__\u001b[39m \u001b[38;5;241m=\u001b[39m copy\u001b[38;5;241m.\u001b[39mdeepcopy(cause\u001b[38;5;241m.\u001b[39m\u001b[38;5;18m__dict__\u001b[39m)\n\u001b[0;32m--> 738\u001b[0m     \u001b[43m_raise\u001b[49m\u001b[43m(\u001b[49m\u001b[43mex\u001b[49m\u001b[43m,\u001b[49m\u001b[43m \u001b[49m\u001b[43mcause\u001b[49m\u001b[43m)\u001b[49m\n\u001b[1;32m    740\u001b[0m object_type: Optional[Type[Any]]\n",
      "File \u001b[0;32m~/projects/l2hmc-qcd/.venv/lib/python3.10/site-packages/omegaconf/_utils.py:716\u001b[0m, in \u001b[0;36m_raise\u001b[0;34m(ex, cause)\u001b[0m\n\u001b[1;32m    715\u001b[0m     ex\u001b[38;5;241m.\u001b[39m__cause__ \u001b[38;5;241m=\u001b[39m \u001b[38;5;28;01mNone\u001b[39;00m\n\u001b[0;32m--> 716\u001b[0m \u001b[38;5;28;01mraise\u001b[39;00m ex\u001b[38;5;241m.\u001b[39mwith_traceback(sys\u001b[38;5;241m.\u001b[39mexc_info()[\u001b[38;5;241m2\u001b[39m])\n",
      "File \u001b[0;32m~/projects/l2hmc-qcd/.venv/lib/python3.10/site-packages/omegaconf/dictconfig.py:308\u001b[0m, in \u001b[0;36mDictConfig.__setitem__\u001b[0;34m(self, key, value)\u001b[0m\n\u001b[1;32m    307\u001b[0m \u001b[38;5;28;01mtry\u001b[39;00m:\n\u001b[0;32m--> 308\u001b[0m     \u001b[38;5;28;43mself\u001b[39;49m\u001b[38;5;241;43m.\u001b[39;49m\u001b[43m__set_impl\u001b[49m\u001b[43m(\u001b[49m\u001b[43mkey\u001b[49m\u001b[38;5;241;43m=\u001b[39;49m\u001b[43mkey\u001b[49m\u001b[43m,\u001b[49m\u001b[43m \u001b[49m\u001b[43mvalue\u001b[49m\u001b[38;5;241;43m=\u001b[39;49m\u001b[43mvalue\u001b[49m\u001b[43m)\u001b[49m\n\u001b[1;32m    309\u001b[0m \u001b[38;5;28;01mexcept\u001b[39;00m \u001b[38;5;167;01mAttributeError\u001b[39;00m \u001b[38;5;28;01mas\u001b[39;00m e:\n",
      "File \u001b[0;32m~/projects/l2hmc-qcd/.venv/lib/python3.10/site-packages/omegaconf/dictconfig.py:318\u001b[0m, in \u001b[0;36mDictConfig.__set_impl\u001b[0;34m(self, key, value)\u001b[0m\n\u001b[1;32m    317\u001b[0m key \u001b[38;5;241m=\u001b[39m \u001b[38;5;28mself\u001b[39m\u001b[38;5;241m.\u001b[39m_validate_and_normalize_key(key)\n\u001b[0;32m--> 318\u001b[0m \u001b[38;5;28;43mself\u001b[39;49m\u001b[38;5;241;43m.\u001b[39;49m\u001b[43m_set_item_impl\u001b[49m\u001b[43m(\u001b[49m\u001b[43mkey\u001b[49m\u001b[43m,\u001b[49m\u001b[43m \u001b[49m\u001b[43mvalue\u001b[49m\u001b[43m)\u001b[49m\n",
      "File \u001b[0;32m~/projects/l2hmc-qcd/.venv/lib/python3.10/site-packages/omegaconf/basecontainer.py:507\u001b[0m, in \u001b[0;36mBaseContainer._set_item_impl\u001b[0;34m(self, key, value)\u001b[0m\n\u001b[1;32m    506\u001b[0m     value\u001b[38;5;241m.\u001b[39m_set_key(key)\n\u001b[0;32m--> 507\u001b[0m     \u001b[38;5;28;43mself\u001b[39;49m\u001b[38;5;241;43m.\u001b[39;49m\u001b[43m_validate_set\u001b[49m\u001b[43m(\u001b[49m\u001b[43mkey\u001b[49m\u001b[43m,\u001b[49m\u001b[43m \u001b[49m\u001b[43mvalue\u001b[49m\u001b[43m)\u001b[49m\n\u001b[1;32m    508\u001b[0m \u001b[38;5;28;01mfinally\u001b[39;00m:\n",
      "File \u001b[0;32m~/projects/l2hmc-qcd/.venv/lib/python3.10/site-packages/omegaconf/dictconfig.py:180\u001b[0m, in \u001b[0;36mDictConfig._validate_set\u001b[0;34m(self, key, value)\u001b[0m\n\u001b[1;32m    178\u001b[0m     \u001b[38;5;28;01mreturn\u001b[39;00m\n\u001b[0;32m--> 180\u001b[0m target \u001b[38;5;241m=\u001b[39m \u001b[38;5;28;43mself\u001b[39;49m\u001b[38;5;241;43m.\u001b[39;49m\u001b[43m_get_node\u001b[49m\u001b[43m(\u001b[49m\u001b[43mkey\u001b[49m\u001b[43m)\u001b[49m \u001b[38;5;28;01mif\u001b[39;00m key \u001b[38;5;129;01mis\u001b[39;00m \u001b[38;5;129;01mnot\u001b[39;00m \u001b[38;5;28;01mNone\u001b[39;00m \u001b[38;5;28;01melse\u001b[39;00m \u001b[38;5;28mself\u001b[39m\n\u001b[1;32m    182\u001b[0m target_has_ref_type \u001b[38;5;241m=\u001b[39m \u001b[38;5;28misinstance\u001b[39m(\n\u001b[1;32m    183\u001b[0m     target, DictConfig\n\u001b[1;32m    184\u001b[0m ) \u001b[38;5;129;01mand\u001b[39;00m target\u001b[38;5;241m.\u001b[39m_metadata\u001b[38;5;241m.\u001b[39mref_type \u001b[38;5;129;01mnot\u001b[39;00m \u001b[38;5;129;01min\u001b[39;00m (Any, \u001b[38;5;28mdict\u001b[39m)\n",
      "File \u001b[0;32m~/projects/l2hmc-qcd/.venv/lib/python3.10/site-packages/omegaconf/dictconfig.py:465\u001b[0m, in \u001b[0;36mDictConfig._get_node\u001b[0;34m(self, key, validate_access, throw_on_missing_value, throw_on_missing_key)\u001b[0m\n\u001b[1;32m    464\u001b[0m \u001b[38;5;28;01mif\u001b[39;00m validate_access:\n\u001b[0;32m--> 465\u001b[0m     \u001b[38;5;28;43mself\u001b[39;49m\u001b[38;5;241;43m.\u001b[39;49m\u001b[43m_validate_get\u001b[49m\u001b[43m(\u001b[49m\u001b[43mkey\u001b[49m\u001b[43m)\u001b[49m\n\u001b[1;32m    467\u001b[0m value: Optional[Node] \u001b[38;5;241m=\u001b[39m \u001b[38;5;28mself\u001b[39m\u001b[38;5;241m.\u001b[39m\u001b[38;5;18m__dict__\u001b[39m[\u001b[38;5;124m\"\u001b[39m\u001b[38;5;124m_content\u001b[39m\u001b[38;5;124m\"\u001b[39m]\u001b[38;5;241m.\u001b[39mget(key)\n",
      "File \u001b[0;32m~/projects/l2hmc-qcd/.venv/lib/python3.10/site-packages/omegaconf/dictconfig.py:166\u001b[0m, in \u001b[0;36mDictConfig._validate_get\u001b[0;34m(self, key, value)\u001b[0m\n\u001b[1;32m    165\u001b[0m     msg \u001b[38;5;241m=\u001b[39m \u001b[38;5;124mf\u001b[39m\u001b[38;5;124m\"\u001b[39m\u001b[38;5;124mKey \u001b[39m\u001b[38;5;124m'\u001b[39m\u001b[38;5;132;01m{\u001b[39;00mkey\u001b[38;5;132;01m}\u001b[39;00m\u001b[38;5;124m'\u001b[39m\u001b[38;5;124m is not in struct\u001b[39m\u001b[38;5;124m\"\u001b[39m\n\u001b[0;32m--> 166\u001b[0m \u001b[38;5;28;43mself\u001b[39;49m\u001b[38;5;241;43m.\u001b[39;49m\u001b[43m_format_and_raise\u001b[49m\u001b[43m(\u001b[49m\n\u001b[1;32m    167\u001b[0m \u001b[43m    \u001b[49m\u001b[43mkey\u001b[49m\u001b[38;5;241;43m=\u001b[39;49m\u001b[43mkey\u001b[49m\u001b[43m,\u001b[49m\u001b[43m \u001b[49m\u001b[43mvalue\u001b[49m\u001b[38;5;241;43m=\u001b[39;49m\u001b[43mvalue\u001b[49m\u001b[43m,\u001b[49m\u001b[43m \u001b[49m\u001b[43mcause\u001b[49m\u001b[38;5;241;43m=\u001b[39;49m\u001b[43mConfigAttributeError\u001b[49m\u001b[43m(\u001b[49m\u001b[43mmsg\u001b[49m\u001b[43m)\u001b[49m\n\u001b[1;32m    168\u001b[0m \u001b[43m\u001b[49m\u001b[43m)\u001b[49m\n",
      "File \u001b[0;32m~/projects/l2hmc-qcd/.venv/lib/python3.10/site-packages/omegaconf/base.py:190\u001b[0m, in \u001b[0;36mNode._format_and_raise\u001b[0;34m(self, key, value, cause, type_override)\u001b[0m\n\u001b[1;32m    187\u001b[0m \u001b[38;5;28;01mdef\u001b[39;00m \u001b[38;5;21m_format_and_raise\u001b[39m(\n\u001b[1;32m    188\u001b[0m     \u001b[38;5;28mself\u001b[39m, key: Any, value: Any, cause: \u001b[38;5;167;01mException\u001b[39;00m, type_override: Any \u001b[38;5;241m=\u001b[39m \u001b[38;5;28;01mNone\u001b[39;00m\n\u001b[1;32m    189\u001b[0m ) \u001b[38;5;241m-\u001b[39m\u001b[38;5;241m>\u001b[39m \u001b[38;5;28;01mNone\u001b[39;00m:\n\u001b[0;32m--> 190\u001b[0m     \u001b[43mformat_and_raise\u001b[49m\u001b[43m(\u001b[49m\n\u001b[1;32m    191\u001b[0m \u001b[43m        \u001b[49m\u001b[43mnode\u001b[49m\u001b[38;5;241;43m=\u001b[39;49m\u001b[38;5;28;43mself\u001b[39;49m\u001b[43m,\u001b[49m\n\u001b[1;32m    192\u001b[0m \u001b[43m        \u001b[49m\u001b[43mkey\u001b[49m\u001b[38;5;241;43m=\u001b[39;49m\u001b[43mkey\u001b[49m\u001b[43m,\u001b[49m\n\u001b[1;32m    193\u001b[0m \u001b[43m        \u001b[49m\u001b[43mvalue\u001b[49m\u001b[38;5;241;43m=\u001b[39;49m\u001b[43mvalue\u001b[49m\u001b[43m,\u001b[49m\n\u001b[1;32m    194\u001b[0m \u001b[43m        \u001b[49m\u001b[43mmsg\u001b[49m\u001b[38;5;241;43m=\u001b[39;49m\u001b[38;5;28;43mstr\u001b[39;49m\u001b[43m(\u001b[49m\u001b[43mcause\u001b[49m\u001b[43m)\u001b[49m\u001b[43m,\u001b[49m\n\u001b[1;32m    195\u001b[0m \u001b[43m        \u001b[49m\u001b[43mcause\u001b[49m\u001b[38;5;241;43m=\u001b[39;49m\u001b[43mcause\u001b[49m\u001b[43m,\u001b[49m\n\u001b[1;32m    196\u001b[0m \u001b[43m        \u001b[49m\u001b[43mtype_override\u001b[49m\u001b[38;5;241;43m=\u001b[39;49m\u001b[43mtype_override\u001b[49m\u001b[43m,\u001b[49m\n\u001b[1;32m    197\u001b[0m \u001b[43m    \u001b[49m\u001b[43m)\u001b[49m\n\u001b[1;32m    198\u001b[0m     \u001b[38;5;28;01massert\u001b[39;00m \u001b[38;5;28;01mFalse\u001b[39;00m\n",
      "File \u001b[0;32m~/projects/l2hmc-qcd/.venv/lib/python3.10/site-packages/omegaconf/_utils.py:818\u001b[0m, in \u001b[0;36mformat_and_raise\u001b[0;34m(node, key, value, msg, cause, type_override)\u001b[0m\n\u001b[1;32m    816\u001b[0m     ex\u001b[38;5;241m.\u001b[39mref_type_str \u001b[38;5;241m=\u001b[39m ref_type_str\n\u001b[0;32m--> 818\u001b[0m \u001b[43m_raise\u001b[49m\u001b[43m(\u001b[49m\u001b[43mex\u001b[49m\u001b[43m,\u001b[49m\u001b[43m \u001b[49m\u001b[43mcause\u001b[49m\u001b[43m)\u001b[49m\n",
      "File \u001b[0;32m~/projects/l2hmc-qcd/.venv/lib/python3.10/site-packages/omegaconf/_utils.py:716\u001b[0m, in \u001b[0;36m_raise\u001b[0;34m(ex, cause)\u001b[0m\n\u001b[1;32m    715\u001b[0m     ex\u001b[38;5;241m.\u001b[39m__cause__ \u001b[38;5;241m=\u001b[39m \u001b[38;5;28;01mNone\u001b[39;00m\n\u001b[0;32m--> 716\u001b[0m \u001b[38;5;28;01mraise\u001b[39;00m ex\u001b[38;5;241m.\u001b[39mwith_traceback(sys\u001b[38;5;241m.\u001b[39mexc_info()[\u001b[38;5;241m2\u001b[39m])\n",
      "\u001b[0;31mConfigKeyError\u001b[0m: Key '_target_' not in 'ExperimentConfig'\n    full_key: _target_\n    object_type=ExperimentConfig",
      "\nThe above exception was the direct cause of the following exception:\n",
      "\u001b[0;31mConfigCompositionException\u001b[0m                Traceback (most recent call last)",
      "Input \u001b[0;32mIn [13]\u001b[0m, in \u001b[0;36m<cell line: 1>\u001b[0;34m()\u001b[0m\n\u001b[0;32m----> 1\u001b[0m cfg \u001b[38;5;241m=\u001b[39m \u001b[43mcompose\u001b[49m\u001b[43m(\u001b[49m\u001b[38;5;124;43m'\u001b[39;49m\u001b[38;5;124;43mconfig.yaml\u001b[39;49m\u001b[38;5;124;43m'\u001b[39;49m\u001b[43m,\u001b[49m\u001b[43m \u001b[49m\u001b[43moverrides\u001b[49m\u001b[38;5;241;43m=\u001b[39;49m\u001b[43m[\u001b[49m\u001b[38;5;124;43m'\u001b[39;49m\u001b[38;5;124;43mframework=pytorch\u001b[39;49m\u001b[38;5;124;43m'\u001b[39;49m\u001b[43m]\u001b[49m\u001b[43m)\u001b[49m\n",
      "File \u001b[0;32m~/projects/l2hmc-qcd/.venv/lib/python3.10/site-packages/hydra/compose.py:33\u001b[0m, in \u001b[0;36mcompose\u001b[0;34m(config_name, overrides, return_hydra_config, strict)\u001b[0m\n\u001b[1;32m     31\u001b[0m gh \u001b[38;5;241m=\u001b[39m GlobalHydra\u001b[38;5;241m.\u001b[39minstance()\n\u001b[1;32m     32\u001b[0m \u001b[38;5;28;01massert\u001b[39;00m gh\u001b[38;5;241m.\u001b[39mhydra \u001b[38;5;129;01mis\u001b[39;00m \u001b[38;5;129;01mnot\u001b[39;00m \u001b[38;5;28;01mNone\u001b[39;00m\n\u001b[0;32m---> 33\u001b[0m cfg \u001b[38;5;241m=\u001b[39m \u001b[43mgh\u001b[49m\u001b[38;5;241;43m.\u001b[39;49m\u001b[43mhydra\u001b[49m\u001b[38;5;241;43m.\u001b[39;49m\u001b[43mcompose_config\u001b[49m\u001b[43m(\u001b[49m\n\u001b[1;32m     34\u001b[0m \u001b[43m    \u001b[49m\u001b[43mconfig_name\u001b[49m\u001b[38;5;241;43m=\u001b[39;49m\u001b[43mconfig_name\u001b[49m\u001b[43m,\u001b[49m\n\u001b[1;32m     35\u001b[0m \u001b[43m    \u001b[49m\u001b[43moverrides\u001b[49m\u001b[38;5;241;43m=\u001b[39;49m\u001b[43moverrides\u001b[49m\u001b[43m,\u001b[49m\n\u001b[1;32m     36\u001b[0m \u001b[43m    \u001b[49m\u001b[43mrun_mode\u001b[49m\u001b[38;5;241;43m=\u001b[39;49m\u001b[43mRunMode\u001b[49m\u001b[38;5;241;43m.\u001b[39;49m\u001b[43mRUN\u001b[49m\u001b[43m,\u001b[49m\n\u001b[1;32m     37\u001b[0m \u001b[43m    \u001b[49m\u001b[43mfrom_shell\u001b[49m\u001b[38;5;241;43m=\u001b[39;49m\u001b[38;5;28;43;01mFalse\u001b[39;49;00m\u001b[43m,\u001b[49m\n\u001b[1;32m     38\u001b[0m \u001b[43m    \u001b[49m\u001b[43mwith_log_configuration\u001b[49m\u001b[38;5;241;43m=\u001b[39;49m\u001b[38;5;28;43;01mFalse\u001b[39;49;00m\u001b[43m,\u001b[49m\n\u001b[1;32m     39\u001b[0m \u001b[43m\u001b[49m\u001b[43m)\u001b[49m\n\u001b[1;32m     40\u001b[0m \u001b[38;5;28;01massert\u001b[39;00m \u001b[38;5;28misinstance\u001b[39m(cfg, DictConfig)\n\u001b[1;32m     42\u001b[0m \u001b[38;5;28;01mif\u001b[39;00m \u001b[38;5;129;01mnot\u001b[39;00m return_hydra_config:\n",
      "File \u001b[0;32m~/projects/l2hmc-qcd/.venv/lib/python3.10/site-packages/hydra/_internal/hydra.py:559\u001b[0m, in \u001b[0;36mHydra.compose_config\u001b[0;34m(self, config_name, overrides, run_mode, with_log_configuration, from_shell)\u001b[0m\n\u001b[1;32m    542\u001b[0m \u001b[38;5;28;01mdef\u001b[39;00m \u001b[38;5;21mcompose_config\u001b[39m(\n\u001b[1;32m    543\u001b[0m     \u001b[38;5;28mself\u001b[39m,\n\u001b[1;32m    544\u001b[0m     config_name: Optional[\u001b[38;5;28mstr\u001b[39m],\n\u001b[0;32m   (...)\u001b[0m\n\u001b[1;32m    548\u001b[0m     from_shell: \u001b[38;5;28mbool\u001b[39m \u001b[38;5;241m=\u001b[39m \u001b[38;5;28;01mTrue\u001b[39;00m,\n\u001b[1;32m    549\u001b[0m ) \u001b[38;5;241m-\u001b[39m\u001b[38;5;241m>\u001b[39m DictConfig:\n\u001b[1;32m    550\u001b[0m     \u001b[38;5;124;03m\"\"\"\u001b[39;00m\n\u001b[1;32m    551\u001b[0m \u001b[38;5;124;03m    :param config_name:\u001b[39;00m\n\u001b[1;32m    552\u001b[0m \u001b[38;5;124;03m    :param overrides:\u001b[39;00m\n\u001b[0;32m   (...)\u001b[0m\n\u001b[1;32m    556\u001b[0m \u001b[38;5;124;03m    :return:\u001b[39;00m\n\u001b[1;32m    557\u001b[0m \u001b[38;5;124;03m    \"\"\"\u001b[39;00m\n\u001b[0;32m--> 559\u001b[0m     cfg \u001b[38;5;241m=\u001b[39m \u001b[38;5;28;43mself\u001b[39;49m\u001b[38;5;241;43m.\u001b[39;49m\u001b[43mconfig_loader\u001b[49m\u001b[38;5;241;43m.\u001b[39;49m\u001b[43mload_configuration\u001b[49m\u001b[43m(\u001b[49m\n\u001b[1;32m    560\u001b[0m \u001b[43m        \u001b[49m\u001b[43mconfig_name\u001b[49m\u001b[38;5;241;43m=\u001b[39;49m\u001b[43mconfig_name\u001b[49m\u001b[43m,\u001b[49m\n\u001b[1;32m    561\u001b[0m \u001b[43m        \u001b[49m\u001b[43moverrides\u001b[49m\u001b[38;5;241;43m=\u001b[39;49m\u001b[43moverrides\u001b[49m\u001b[43m,\u001b[49m\n\u001b[1;32m    562\u001b[0m \u001b[43m        \u001b[49m\u001b[43mrun_mode\u001b[49m\u001b[38;5;241;43m=\u001b[39;49m\u001b[43mrun_mode\u001b[49m\u001b[43m,\u001b[49m\n\u001b[1;32m    563\u001b[0m \u001b[43m        \u001b[49m\u001b[43mfrom_shell\u001b[49m\u001b[38;5;241;43m=\u001b[39;49m\u001b[43mfrom_shell\u001b[49m\u001b[43m,\u001b[49m\n\u001b[1;32m    564\u001b[0m \u001b[43m    \u001b[49m\u001b[43m)\u001b[49m\n\u001b[1;32m    565\u001b[0m     \u001b[38;5;28;01mif\u001b[39;00m with_log_configuration:\n\u001b[1;32m    566\u001b[0m         configure_log(cfg\u001b[38;5;241m.\u001b[39mhydra\u001b[38;5;241m.\u001b[39mhydra_logging, cfg\u001b[38;5;241m.\u001b[39mhydra\u001b[38;5;241m.\u001b[39mverbose)\n",
      "File \u001b[0;32m~/projects/l2hmc-qcd/.venv/lib/python3.10/site-packages/hydra/_internal/config_loader_impl.py:148\u001b[0m, in \u001b[0;36mConfigLoaderImpl.load_configuration\u001b[0;34m(self, config_name, overrides, run_mode, from_shell)\u001b[0m\n\u001b[1;32m    141\u001b[0m     \u001b[38;5;28;01mreturn\u001b[39;00m \u001b[38;5;28mself\u001b[39m\u001b[38;5;241m.\u001b[39m_load_configuration_impl(\n\u001b[1;32m    142\u001b[0m         config_name\u001b[38;5;241m=\u001b[39mconfig_name,\n\u001b[1;32m    143\u001b[0m         overrides\u001b[38;5;241m=\u001b[39moverrides,\n\u001b[1;32m    144\u001b[0m         run_mode\u001b[38;5;241m=\u001b[39mrun_mode,\n\u001b[1;32m    145\u001b[0m         from_shell\u001b[38;5;241m=\u001b[39mfrom_shell,\n\u001b[1;32m    146\u001b[0m     )\n\u001b[1;32m    147\u001b[0m \u001b[38;5;28;01mexcept\u001b[39;00m OmegaConfBaseException \u001b[38;5;28;01mas\u001b[39;00m e:\n\u001b[0;32m--> 148\u001b[0m     \u001b[38;5;28;01mraise\u001b[39;00m ConfigCompositionException()\u001b[38;5;241m.\u001b[39mwith_traceback(sys\u001b[38;5;241m.\u001b[39mexc_info()[\u001b[38;5;241m2\u001b[39m]) \u001b[38;5;28;01mfrom\u001b[39;00m \u001b[38;5;21;01me\u001b[39;00m\n",
      "File \u001b[0;32m~/projects/l2hmc-qcd/.venv/lib/python3.10/site-packages/hydra/_internal/config_loader_impl.py:141\u001b[0m, in \u001b[0;36mConfigLoaderImpl.load_configuration\u001b[0;34m(self, config_name, overrides, run_mode, from_shell)\u001b[0m\n\u001b[1;32m    133\u001b[0m \u001b[38;5;28;01mdef\u001b[39;00m \u001b[38;5;21mload_configuration\u001b[39m(\n\u001b[1;32m    134\u001b[0m     \u001b[38;5;28mself\u001b[39m,\n\u001b[1;32m    135\u001b[0m     config_name: Optional[\u001b[38;5;28mstr\u001b[39m],\n\u001b[0;32m   (...)\u001b[0m\n\u001b[1;32m    138\u001b[0m     from_shell: \u001b[38;5;28mbool\u001b[39m \u001b[38;5;241m=\u001b[39m \u001b[38;5;28;01mTrue\u001b[39;00m,\n\u001b[1;32m    139\u001b[0m ) \u001b[38;5;241m-\u001b[39m\u001b[38;5;241m>\u001b[39m DictConfig:\n\u001b[1;32m    140\u001b[0m     \u001b[38;5;28;01mtry\u001b[39;00m:\n\u001b[0;32m--> 141\u001b[0m         \u001b[38;5;28;01mreturn\u001b[39;00m \u001b[38;5;28;43mself\u001b[39;49m\u001b[38;5;241;43m.\u001b[39;49m\u001b[43m_load_configuration_impl\u001b[49m\u001b[43m(\u001b[49m\n\u001b[1;32m    142\u001b[0m \u001b[43m            \u001b[49m\u001b[43mconfig_name\u001b[49m\u001b[38;5;241;43m=\u001b[39;49m\u001b[43mconfig_name\u001b[49m\u001b[43m,\u001b[49m\n\u001b[1;32m    143\u001b[0m \u001b[43m            \u001b[49m\u001b[43moverrides\u001b[49m\u001b[38;5;241;43m=\u001b[39;49m\u001b[43moverrides\u001b[49m\u001b[43m,\u001b[49m\n\u001b[1;32m    144\u001b[0m \u001b[43m            \u001b[49m\u001b[43mrun_mode\u001b[49m\u001b[38;5;241;43m=\u001b[39;49m\u001b[43mrun_mode\u001b[49m\u001b[43m,\u001b[49m\n\u001b[1;32m    145\u001b[0m \u001b[43m            \u001b[49m\u001b[43mfrom_shell\u001b[49m\u001b[38;5;241;43m=\u001b[39;49m\u001b[43mfrom_shell\u001b[49m\u001b[43m,\u001b[49m\n\u001b[1;32m    146\u001b[0m \u001b[43m        \u001b[49m\u001b[43m)\u001b[49m\n\u001b[1;32m    147\u001b[0m     \u001b[38;5;28;01mexcept\u001b[39;00m OmegaConfBaseException \u001b[38;5;28;01mas\u001b[39;00m e:\n\u001b[1;32m    148\u001b[0m         \u001b[38;5;28;01mraise\u001b[39;00m ConfigCompositionException()\u001b[38;5;241m.\u001b[39mwith_traceback(sys\u001b[38;5;241m.\u001b[39mexc_info()[\u001b[38;5;241m2\u001b[39m]) \u001b[38;5;28;01mfrom\u001b[39;00m \u001b[38;5;21;01me\u001b[39;00m\n",
      "File \u001b[0;32m~/projects/l2hmc-qcd/.venv/lib/python3.10/site-packages/hydra/_internal/config_loader_impl.py:249\u001b[0m, in \u001b[0;36mConfigLoaderImpl._load_configuration_impl\u001b[0;34m(self, config_name, overrides, run_mode, from_shell)\u001b[0m\n\u001b[1;32m    239\u001b[0m defaults_list \u001b[38;5;241m=\u001b[39m create_defaults_list(\n\u001b[1;32m    240\u001b[0m     repo\u001b[38;5;241m=\u001b[39mcaching_repo,\n\u001b[1;32m    241\u001b[0m     config_name\u001b[38;5;241m=\u001b[39mconfig_name,\n\u001b[0;32m   (...)\u001b[0m\n\u001b[1;32m    244\u001b[0m     skip_missing\u001b[38;5;241m=\u001b[39mrun_mode \u001b[38;5;241m==\u001b[39m RunMode\u001b[38;5;241m.\u001b[39mMULTIRUN,\n\u001b[1;32m    245\u001b[0m )\n\u001b[1;32m    247\u001b[0m config_overrides \u001b[38;5;241m=\u001b[39m defaults_list\u001b[38;5;241m.\u001b[39mconfig_overrides\n\u001b[0;32m--> 249\u001b[0m cfg \u001b[38;5;241m=\u001b[39m \u001b[38;5;28;43mself\u001b[39;49m\u001b[38;5;241;43m.\u001b[39;49m\u001b[43m_compose_config_from_defaults_list\u001b[49m\u001b[43m(\u001b[49m\n\u001b[1;32m    250\u001b[0m \u001b[43m    \u001b[49m\u001b[43mdefaults\u001b[49m\u001b[38;5;241;43m=\u001b[39;49m\u001b[43mdefaults_list\u001b[49m\u001b[38;5;241;43m.\u001b[39;49m\u001b[43mdefaults\u001b[49m\u001b[43m,\u001b[49m\u001b[43m \u001b[49m\u001b[43mrepo\u001b[49m\u001b[38;5;241;43m=\u001b[39;49m\u001b[43mcaching_repo\u001b[49m\n\u001b[1;32m    251\u001b[0m \u001b[43m\u001b[49m\u001b[43m)\u001b[49m\n\u001b[1;32m    253\u001b[0m \u001b[38;5;66;03m# Set config root to struct mode.\u001b[39;00m\n\u001b[1;32m    254\u001b[0m \u001b[38;5;66;03m# Note that this will close any dictionaries (including dicts annotated as Dict[K, V].\u001b[39;00m\n\u001b[1;32m    255\u001b[0m \u001b[38;5;66;03m# One must use + to add new fields to them.\u001b[39;00m\n\u001b[1;32m    256\u001b[0m OmegaConf\u001b[38;5;241m.\u001b[39mset_struct(cfg, \u001b[38;5;28;01mTrue\u001b[39;00m)\n",
      "File \u001b[0;32m~/projects/l2hmc-qcd/.venv/lib/python3.10/site-packages/hydra/_internal/config_loader_impl.py:519\u001b[0m, in \u001b[0;36mConfigLoaderImpl._compose_config_from_defaults_list\u001b[0;34m(self, defaults, repo)\u001b[0m\n\u001b[1;32m    517\u001b[0m loaded \u001b[38;5;241m=\u001b[39m \u001b[38;5;28mself\u001b[39m\u001b[38;5;241m.\u001b[39m_load_single_config(default\u001b[38;5;241m=\u001b[39mdefault, repo\u001b[38;5;241m=\u001b[39mrepo)\n\u001b[1;32m    518\u001b[0m \u001b[38;5;28;01mtry\u001b[39;00m:\n\u001b[0;32m--> 519\u001b[0m     \u001b[43mcfg\u001b[49m\u001b[38;5;241;43m.\u001b[39;49m\u001b[43mmerge_with\u001b[49m\u001b[43m(\u001b[49m\u001b[43mloaded\u001b[49m\u001b[38;5;241;43m.\u001b[39;49m\u001b[43mconfig\u001b[49m\u001b[43m)\u001b[49m\n\u001b[1;32m    520\u001b[0m \u001b[38;5;28;01mexcept\u001b[39;00m ValidationError \u001b[38;5;28;01mas\u001b[39;00m e:\n\u001b[1;32m    521\u001b[0m     \u001b[38;5;28;01mraise\u001b[39;00m ConfigCompositionException(\n\u001b[1;32m    522\u001b[0m         \u001b[38;5;124mf\u001b[39m\u001b[38;5;124m\"\u001b[39m\u001b[38;5;124mIn \u001b[39m\u001b[38;5;124m'\u001b[39m\u001b[38;5;132;01m{\u001b[39;00mdefault\u001b[38;5;241m.\u001b[39mconfig_path\u001b[38;5;132;01m}\u001b[39;00m\u001b[38;5;124m'\u001b[39m\u001b[38;5;124m: Validation error while composing config:\u001b[39m\u001b[38;5;130;01m\\n\u001b[39;00m\u001b[38;5;132;01m{\u001b[39;00me\u001b[38;5;132;01m}\u001b[39;00m\u001b[38;5;124m\"\u001b[39m\n\u001b[1;32m    523\u001b[0m     )\u001b[38;5;241m.\u001b[39mwith_traceback(sys\u001b[38;5;241m.\u001b[39mexc_info()[\u001b[38;5;241m2\u001b[39m])\n",
      "File \u001b[0;32m~/projects/l2hmc-qcd/.venv/lib/python3.10/site-packages/omegaconf/basecontainer.py:452\u001b[0m, in \u001b[0;36mBaseContainer.merge_with\u001b[0;34m(self, *others)\u001b[0m\n\u001b[1;32m    450\u001b[0m     \u001b[38;5;28mself\u001b[39m\u001b[38;5;241m.\u001b[39m_merge_with(\u001b[38;5;241m*\u001b[39mothers)\n\u001b[1;32m    451\u001b[0m \u001b[38;5;28;01mexcept\u001b[39;00m \u001b[38;5;167;01mException\u001b[39;00m \u001b[38;5;28;01mas\u001b[39;00m e:\n\u001b[0;32m--> 452\u001b[0m     \u001b[38;5;28;43mself\u001b[39;49m\u001b[38;5;241;43m.\u001b[39;49m\u001b[43m_format_and_raise\u001b[49m\u001b[43m(\u001b[49m\u001b[43mkey\u001b[49m\u001b[38;5;241;43m=\u001b[39;49m\u001b[38;5;28;43;01mNone\u001b[39;49;00m\u001b[43m,\u001b[49m\u001b[43m \u001b[49m\u001b[43mvalue\u001b[49m\u001b[38;5;241;43m=\u001b[39;49m\u001b[38;5;28;43;01mNone\u001b[39;49;00m\u001b[43m,\u001b[49m\u001b[43m \u001b[49m\u001b[43mcause\u001b[49m\u001b[38;5;241;43m=\u001b[39;49m\u001b[43me\u001b[49m\u001b[43m)\u001b[49m\n",
      "File \u001b[0;32m~/projects/l2hmc-qcd/.venv/lib/python3.10/site-packages/omegaconf/base.py:190\u001b[0m, in \u001b[0;36mNode._format_and_raise\u001b[0;34m(self, key, value, cause, type_override)\u001b[0m\n\u001b[1;32m    187\u001b[0m \u001b[38;5;28;01mdef\u001b[39;00m \u001b[38;5;21m_format_and_raise\u001b[39m(\n\u001b[1;32m    188\u001b[0m     \u001b[38;5;28mself\u001b[39m, key: Any, value: Any, cause: \u001b[38;5;167;01mException\u001b[39;00m, type_override: Any \u001b[38;5;241m=\u001b[39m \u001b[38;5;28;01mNone\u001b[39;00m\n\u001b[1;32m    189\u001b[0m ) \u001b[38;5;241m-\u001b[39m\u001b[38;5;241m>\u001b[39m \u001b[38;5;28;01mNone\u001b[39;00m:\n\u001b[0;32m--> 190\u001b[0m     \u001b[43mformat_and_raise\u001b[49m\u001b[43m(\u001b[49m\n\u001b[1;32m    191\u001b[0m \u001b[43m        \u001b[49m\u001b[43mnode\u001b[49m\u001b[38;5;241;43m=\u001b[39;49m\u001b[38;5;28;43mself\u001b[39;49m\u001b[43m,\u001b[49m\n\u001b[1;32m    192\u001b[0m \u001b[43m        \u001b[49m\u001b[43mkey\u001b[49m\u001b[38;5;241;43m=\u001b[39;49m\u001b[43mkey\u001b[49m\u001b[43m,\u001b[49m\n\u001b[1;32m    193\u001b[0m \u001b[43m        \u001b[49m\u001b[43mvalue\u001b[49m\u001b[38;5;241;43m=\u001b[39;49m\u001b[43mvalue\u001b[49m\u001b[43m,\u001b[49m\n\u001b[1;32m    194\u001b[0m \u001b[43m        \u001b[49m\u001b[43mmsg\u001b[49m\u001b[38;5;241;43m=\u001b[39;49m\u001b[38;5;28;43mstr\u001b[39;49m\u001b[43m(\u001b[49m\u001b[43mcause\u001b[49m\u001b[43m)\u001b[49m\u001b[43m,\u001b[49m\n\u001b[1;32m    195\u001b[0m \u001b[43m        \u001b[49m\u001b[43mcause\u001b[49m\u001b[38;5;241;43m=\u001b[39;49m\u001b[43mcause\u001b[49m\u001b[43m,\u001b[49m\n\u001b[1;32m    196\u001b[0m \u001b[43m        \u001b[49m\u001b[43mtype_override\u001b[49m\u001b[38;5;241;43m=\u001b[39;49m\u001b[43mtype_override\u001b[49m\u001b[43m,\u001b[49m\n\u001b[1;32m    197\u001b[0m \u001b[43m    \u001b[49m\u001b[43m)\u001b[49m\n\u001b[1;32m    198\u001b[0m     \u001b[38;5;28;01massert\u001b[39;00m \u001b[38;5;28;01mFalse\u001b[39;00m\n",
      "File \u001b[0;32m~/projects/l2hmc-qcd/.venv/lib/python3.10/site-packages/omegaconf/_utils.py:738\u001b[0m, in \u001b[0;36mformat_and_raise\u001b[0;34m(node, key, value, msg, cause, type_override)\u001b[0m\n\u001b[1;32m    736\u001b[0m         ex \u001b[38;5;241m=\u001b[39m type_override(\u001b[38;5;28mstr\u001b[39m(cause))\n\u001b[1;32m    737\u001b[0m         ex\u001b[38;5;241m.\u001b[39m\u001b[38;5;18m__dict__\u001b[39m \u001b[38;5;241m=\u001b[39m copy\u001b[38;5;241m.\u001b[39mdeepcopy(cause\u001b[38;5;241m.\u001b[39m\u001b[38;5;18m__dict__\u001b[39m)\n\u001b[0;32m--> 738\u001b[0m     \u001b[43m_raise\u001b[49m\u001b[43m(\u001b[49m\u001b[43mex\u001b[49m\u001b[43m,\u001b[49m\u001b[43m \u001b[49m\u001b[43mcause\u001b[49m\u001b[43m)\u001b[49m\n\u001b[1;32m    740\u001b[0m object_type: Optional[Type[Any]]\n\u001b[1;32m    741\u001b[0m object_type_str: Optional[\u001b[38;5;28mstr\u001b[39m] \u001b[38;5;241m=\u001b[39m \u001b[38;5;28;01mNone\u001b[39;00m\n",
      "File \u001b[0;32m~/projects/l2hmc-qcd/.venv/lib/python3.10/site-packages/omegaconf/_utils.py:716\u001b[0m, in \u001b[0;36m_raise\u001b[0;34m(ex, cause)\u001b[0m\n\u001b[1;32m    714\u001b[0m \u001b[38;5;28;01melse\u001b[39;00m:\n\u001b[1;32m    715\u001b[0m     ex\u001b[38;5;241m.\u001b[39m__cause__ \u001b[38;5;241m=\u001b[39m \u001b[38;5;28;01mNone\u001b[39;00m\n\u001b[0;32m--> 716\u001b[0m \u001b[38;5;28;01mraise\u001b[39;00m ex\u001b[38;5;241m.\u001b[39mwith_traceback(sys\u001b[38;5;241m.\u001b[39mexc_info()[\u001b[38;5;241m2\u001b[39m])\n",
      "File \u001b[0;32m~/projects/l2hmc-qcd/.venv/lib/python3.10/site-packages/omegaconf/basecontainer.py:450\u001b[0m, in \u001b[0;36mBaseContainer.merge_with\u001b[0;34m(self, *others)\u001b[0m\n\u001b[1;32m    443\u001b[0m \u001b[38;5;28;01mdef\u001b[39;00m \u001b[38;5;21mmerge_with\u001b[39m(\n\u001b[1;32m    444\u001b[0m     \u001b[38;5;28mself\u001b[39m,\n\u001b[1;32m    445\u001b[0m     \u001b[38;5;241m*\u001b[39mothers: Union[\n\u001b[1;32m    446\u001b[0m         \u001b[38;5;124m\"\u001b[39m\u001b[38;5;124mBaseContainer\u001b[39m\u001b[38;5;124m\"\u001b[39m, Dict[\u001b[38;5;28mstr\u001b[39m, Any], List[Any], Tuple[Any, \u001b[38;5;241m.\u001b[39m\u001b[38;5;241m.\u001b[39m\u001b[38;5;241m.\u001b[39m], Any\n\u001b[1;32m    447\u001b[0m     ],\n\u001b[1;32m    448\u001b[0m ) \u001b[38;5;241m-\u001b[39m\u001b[38;5;241m>\u001b[39m \u001b[38;5;28;01mNone\u001b[39;00m:\n\u001b[1;32m    449\u001b[0m     \u001b[38;5;28;01mtry\u001b[39;00m:\n\u001b[0;32m--> 450\u001b[0m         \u001b[38;5;28;43mself\u001b[39;49m\u001b[38;5;241;43m.\u001b[39;49m\u001b[43m_merge_with\u001b[49m\u001b[43m(\u001b[49m\u001b[38;5;241;43m*\u001b[39;49m\u001b[43mothers\u001b[49m\u001b[43m)\u001b[49m\n\u001b[1;32m    451\u001b[0m     \u001b[38;5;28;01mexcept\u001b[39;00m \u001b[38;5;167;01mException\u001b[39;00m \u001b[38;5;28;01mas\u001b[39;00m e:\n\u001b[1;32m    452\u001b[0m         \u001b[38;5;28mself\u001b[39m\u001b[38;5;241m.\u001b[39m_format_and_raise(key\u001b[38;5;241m=\u001b[39m\u001b[38;5;28;01mNone\u001b[39;00m, value\u001b[38;5;241m=\u001b[39m\u001b[38;5;28;01mNone\u001b[39;00m, cause\u001b[38;5;241m=\u001b[39me)\n",
      "File \u001b[0;32m~/projects/l2hmc-qcd/.venv/lib/python3.10/site-packages/omegaconf/basecontainer.py:474\u001b[0m, in \u001b[0;36mBaseContainer._merge_with\u001b[0;34m(self, *others)\u001b[0m\n\u001b[1;32m    471\u001b[0m other \u001b[38;5;241m=\u001b[39m _ensure_container(other, flags\u001b[38;5;241m=\u001b[39mmy_flags)\n\u001b[1;32m    473\u001b[0m \u001b[38;5;28;01mif\u001b[39;00m \u001b[38;5;28misinstance\u001b[39m(\u001b[38;5;28mself\u001b[39m, DictConfig) \u001b[38;5;129;01mand\u001b[39;00m \u001b[38;5;28misinstance\u001b[39m(other, DictConfig):\n\u001b[0;32m--> 474\u001b[0m     \u001b[43mBaseContainer\u001b[49m\u001b[38;5;241;43m.\u001b[39;49m\u001b[43m_map_merge\u001b[49m\u001b[43m(\u001b[49m\u001b[38;5;28;43mself\u001b[39;49m\u001b[43m,\u001b[49m\u001b[43m \u001b[49m\u001b[43mother\u001b[49m\u001b[43m)\u001b[49m\n\u001b[1;32m    475\u001b[0m \u001b[38;5;28;01melif\u001b[39;00m \u001b[38;5;28misinstance\u001b[39m(\u001b[38;5;28mself\u001b[39m, ListConfig) \u001b[38;5;129;01mand\u001b[39;00m \u001b[38;5;28misinstance\u001b[39m(other, ListConfig):\n\u001b[1;32m    476\u001b[0m     BaseContainer\u001b[38;5;241m.\u001b[39m_list_merge(\u001b[38;5;28mself\u001b[39m, other)\n",
      "File \u001b[0;32m~/projects/l2hmc-qcd/.venv/lib/python3.10/site-packages/omegaconf/basecontainer.py:392\u001b[0m, in \u001b[0;36mBaseContainer._map_merge\u001b[0;34m(dest, src)\u001b[0m\n\u001b[1;32m    390\u001b[0m                 dest[key] \u001b[38;5;241m=\u001b[39m src\u001b[38;5;241m.\u001b[39m_get_node(key)\n\u001b[1;32m    391\u001b[0m         \u001b[38;5;28;01melse\u001b[39;00m:\n\u001b[0;32m--> 392\u001b[0m             dest[key] \u001b[38;5;241m=\u001b[39m src\u001b[38;5;241m.\u001b[39m_get_node(key)\n\u001b[1;32m    394\u001b[0m _update_types(node\u001b[38;5;241m=\u001b[39mdest, ref_type\u001b[38;5;241m=\u001b[39msrc_ref_type, object_type\u001b[38;5;241m=\u001b[39msrc_type)\n\u001b[1;32m    396\u001b[0m \u001b[38;5;66;03m# explicit flags on the source config are replacing the flag values in the destination\u001b[39;00m\n",
      "File \u001b[0;32m~/projects/l2hmc-qcd/.venv/lib/python3.10/site-packages/omegaconf/dictconfig.py:310\u001b[0m, in \u001b[0;36mDictConfig.__setitem__\u001b[0;34m(self, key, value)\u001b[0m\n\u001b[1;32m    308\u001b[0m     \u001b[38;5;28mself\u001b[39m\u001b[38;5;241m.\u001b[39m__set_impl(key\u001b[38;5;241m=\u001b[39mkey, value\u001b[38;5;241m=\u001b[39mvalue)\n\u001b[1;32m    309\u001b[0m \u001b[38;5;28;01mexcept\u001b[39;00m \u001b[38;5;167;01mAttributeError\u001b[39;00m \u001b[38;5;28;01mas\u001b[39;00m e:\n\u001b[0;32m--> 310\u001b[0m     \u001b[38;5;28;43mself\u001b[39;49m\u001b[38;5;241;43m.\u001b[39;49m\u001b[43m_format_and_raise\u001b[49m\u001b[43m(\u001b[49m\n\u001b[1;32m    311\u001b[0m \u001b[43m        \u001b[49m\u001b[43mkey\u001b[49m\u001b[38;5;241;43m=\u001b[39;49m\u001b[43mkey\u001b[49m\u001b[43m,\u001b[49m\u001b[43m \u001b[49m\u001b[43mvalue\u001b[49m\u001b[38;5;241;43m=\u001b[39;49m\u001b[43mvalue\u001b[49m\u001b[43m,\u001b[49m\u001b[43m \u001b[49m\u001b[43mtype_override\u001b[49m\u001b[38;5;241;43m=\u001b[39;49m\u001b[43mConfigKeyError\u001b[49m\u001b[43m,\u001b[49m\u001b[43m \u001b[49m\u001b[43mcause\u001b[49m\u001b[38;5;241;43m=\u001b[39;49m\u001b[43me\u001b[49m\n\u001b[1;32m    312\u001b[0m \u001b[43m    \u001b[49m\u001b[43m)\u001b[49m\n\u001b[1;32m    313\u001b[0m \u001b[38;5;28;01mexcept\u001b[39;00m \u001b[38;5;167;01mException\u001b[39;00m \u001b[38;5;28;01mas\u001b[39;00m e:\n\u001b[1;32m    314\u001b[0m     \u001b[38;5;28mself\u001b[39m\u001b[38;5;241m.\u001b[39m_format_and_raise(key\u001b[38;5;241m=\u001b[39mkey, value\u001b[38;5;241m=\u001b[39mvalue, cause\u001b[38;5;241m=\u001b[39me)\n",
      "File \u001b[0;32m~/projects/l2hmc-qcd/.venv/lib/python3.10/site-packages/omegaconf/base.py:190\u001b[0m, in \u001b[0;36mNode._format_and_raise\u001b[0;34m(self, key, value, cause, type_override)\u001b[0m\n\u001b[1;32m    187\u001b[0m \u001b[38;5;28;01mdef\u001b[39;00m \u001b[38;5;21m_format_and_raise\u001b[39m(\n\u001b[1;32m    188\u001b[0m     \u001b[38;5;28mself\u001b[39m, key: Any, value: Any, cause: \u001b[38;5;167;01mException\u001b[39;00m, type_override: Any \u001b[38;5;241m=\u001b[39m \u001b[38;5;28;01mNone\u001b[39;00m\n\u001b[1;32m    189\u001b[0m ) \u001b[38;5;241m-\u001b[39m\u001b[38;5;241m>\u001b[39m \u001b[38;5;28;01mNone\u001b[39;00m:\n\u001b[0;32m--> 190\u001b[0m     \u001b[43mformat_and_raise\u001b[49m\u001b[43m(\u001b[49m\n\u001b[1;32m    191\u001b[0m \u001b[43m        \u001b[49m\u001b[43mnode\u001b[49m\u001b[38;5;241;43m=\u001b[39;49m\u001b[38;5;28;43mself\u001b[39;49m\u001b[43m,\u001b[49m\n\u001b[1;32m    192\u001b[0m \u001b[43m        \u001b[49m\u001b[43mkey\u001b[49m\u001b[38;5;241;43m=\u001b[39;49m\u001b[43mkey\u001b[49m\u001b[43m,\u001b[49m\n\u001b[1;32m    193\u001b[0m \u001b[43m        \u001b[49m\u001b[43mvalue\u001b[49m\u001b[38;5;241;43m=\u001b[39;49m\u001b[43mvalue\u001b[49m\u001b[43m,\u001b[49m\n\u001b[1;32m    194\u001b[0m \u001b[43m        \u001b[49m\u001b[43mmsg\u001b[49m\u001b[38;5;241;43m=\u001b[39;49m\u001b[38;5;28;43mstr\u001b[39;49m\u001b[43m(\u001b[49m\u001b[43mcause\u001b[49m\u001b[43m)\u001b[49m\u001b[43m,\u001b[49m\n\u001b[1;32m    195\u001b[0m \u001b[43m        \u001b[49m\u001b[43mcause\u001b[49m\u001b[38;5;241;43m=\u001b[39;49m\u001b[43mcause\u001b[49m\u001b[43m,\u001b[49m\n\u001b[1;32m    196\u001b[0m \u001b[43m        \u001b[49m\u001b[43mtype_override\u001b[49m\u001b[38;5;241;43m=\u001b[39;49m\u001b[43mtype_override\u001b[49m\u001b[43m,\u001b[49m\n\u001b[1;32m    197\u001b[0m \u001b[43m    \u001b[49m\u001b[43m)\u001b[49m\n\u001b[1;32m    198\u001b[0m     \u001b[38;5;28;01massert\u001b[39;00m \u001b[38;5;28;01mFalse\u001b[39;00m\n",
      "File \u001b[0;32m~/projects/l2hmc-qcd/.venv/lib/python3.10/site-packages/omegaconf/_utils.py:738\u001b[0m, in \u001b[0;36mformat_and_raise\u001b[0;34m(node, key, value, msg, cause, type_override)\u001b[0m\n\u001b[1;32m    736\u001b[0m         ex \u001b[38;5;241m=\u001b[39m type_override(\u001b[38;5;28mstr\u001b[39m(cause))\n\u001b[1;32m    737\u001b[0m         ex\u001b[38;5;241m.\u001b[39m\u001b[38;5;18m__dict__\u001b[39m \u001b[38;5;241m=\u001b[39m copy\u001b[38;5;241m.\u001b[39mdeepcopy(cause\u001b[38;5;241m.\u001b[39m\u001b[38;5;18m__dict__\u001b[39m)\n\u001b[0;32m--> 738\u001b[0m     \u001b[43m_raise\u001b[49m\u001b[43m(\u001b[49m\u001b[43mex\u001b[49m\u001b[43m,\u001b[49m\u001b[43m \u001b[49m\u001b[43mcause\u001b[49m\u001b[43m)\u001b[49m\n\u001b[1;32m    740\u001b[0m object_type: Optional[Type[Any]]\n\u001b[1;32m    741\u001b[0m object_type_str: Optional[\u001b[38;5;28mstr\u001b[39m] \u001b[38;5;241m=\u001b[39m \u001b[38;5;28;01mNone\u001b[39;00m\n",
      "File \u001b[0;32m~/projects/l2hmc-qcd/.venv/lib/python3.10/site-packages/omegaconf/_utils.py:716\u001b[0m, in \u001b[0;36m_raise\u001b[0;34m(ex, cause)\u001b[0m\n\u001b[1;32m    714\u001b[0m \u001b[38;5;28;01melse\u001b[39;00m:\n\u001b[1;32m    715\u001b[0m     ex\u001b[38;5;241m.\u001b[39m__cause__ \u001b[38;5;241m=\u001b[39m \u001b[38;5;28;01mNone\u001b[39;00m\n\u001b[0;32m--> 716\u001b[0m \u001b[38;5;28;01mraise\u001b[39;00m ex\u001b[38;5;241m.\u001b[39mwith_traceback(sys\u001b[38;5;241m.\u001b[39mexc_info()[\u001b[38;5;241m2\u001b[39m])\n",
      "File \u001b[0;32m~/projects/l2hmc-qcd/.venv/lib/python3.10/site-packages/omegaconf/dictconfig.py:308\u001b[0m, in \u001b[0;36mDictConfig.__setitem__\u001b[0;34m(self, key, value)\u001b[0m\n\u001b[1;32m    306\u001b[0m \u001b[38;5;28;01mdef\u001b[39;00m \u001b[38;5;21m__setitem__\u001b[39m(\u001b[38;5;28mself\u001b[39m, key: DictKeyType, value: Any) \u001b[38;5;241m-\u001b[39m\u001b[38;5;241m>\u001b[39m \u001b[38;5;28;01mNone\u001b[39;00m:\n\u001b[1;32m    307\u001b[0m     \u001b[38;5;28;01mtry\u001b[39;00m:\n\u001b[0;32m--> 308\u001b[0m         \u001b[38;5;28;43mself\u001b[39;49m\u001b[38;5;241;43m.\u001b[39;49m\u001b[43m__set_impl\u001b[49m\u001b[43m(\u001b[49m\u001b[43mkey\u001b[49m\u001b[38;5;241;43m=\u001b[39;49m\u001b[43mkey\u001b[49m\u001b[43m,\u001b[49m\u001b[43m \u001b[49m\u001b[43mvalue\u001b[49m\u001b[38;5;241;43m=\u001b[39;49m\u001b[43mvalue\u001b[49m\u001b[43m)\u001b[49m\n\u001b[1;32m    309\u001b[0m     \u001b[38;5;28;01mexcept\u001b[39;00m \u001b[38;5;167;01mAttributeError\u001b[39;00m \u001b[38;5;28;01mas\u001b[39;00m e:\n\u001b[1;32m    310\u001b[0m         \u001b[38;5;28mself\u001b[39m\u001b[38;5;241m.\u001b[39m_format_and_raise(\n\u001b[1;32m    311\u001b[0m             key\u001b[38;5;241m=\u001b[39mkey, value\u001b[38;5;241m=\u001b[39mvalue, type_override\u001b[38;5;241m=\u001b[39mConfigKeyError, cause\u001b[38;5;241m=\u001b[39me\n\u001b[1;32m    312\u001b[0m         )\n",
      "File \u001b[0;32m~/projects/l2hmc-qcd/.venv/lib/python3.10/site-packages/omegaconf/dictconfig.py:318\u001b[0m, in \u001b[0;36mDictConfig.__set_impl\u001b[0;34m(self, key, value)\u001b[0m\n\u001b[1;32m    316\u001b[0m \u001b[38;5;28;01mdef\u001b[39;00m \u001b[38;5;21m__set_impl\u001b[39m(\u001b[38;5;28mself\u001b[39m, key: DictKeyType, value: Any) \u001b[38;5;241m-\u001b[39m\u001b[38;5;241m>\u001b[39m \u001b[38;5;28;01mNone\u001b[39;00m:\n\u001b[1;32m    317\u001b[0m     key \u001b[38;5;241m=\u001b[39m \u001b[38;5;28mself\u001b[39m\u001b[38;5;241m.\u001b[39m_validate_and_normalize_key(key)\n\u001b[0;32m--> 318\u001b[0m     \u001b[38;5;28;43mself\u001b[39;49m\u001b[38;5;241;43m.\u001b[39;49m\u001b[43m_set_item_impl\u001b[49m\u001b[43m(\u001b[49m\u001b[43mkey\u001b[49m\u001b[43m,\u001b[49m\u001b[43m \u001b[49m\u001b[43mvalue\u001b[49m\u001b[43m)\u001b[49m\n",
      "File \u001b[0;32m~/projects/l2hmc-qcd/.venv/lib/python3.10/site-packages/omegaconf/basecontainer.py:507\u001b[0m, in \u001b[0;36mBaseContainer._set_item_impl\u001b[0;34m(self, key, value)\u001b[0m\n\u001b[1;32m    505\u001b[0m     old \u001b[38;5;241m=\u001b[39m value\u001b[38;5;241m.\u001b[39m_key()\n\u001b[1;32m    506\u001b[0m     value\u001b[38;5;241m.\u001b[39m_set_key(key)\n\u001b[0;32m--> 507\u001b[0m     \u001b[38;5;28;43mself\u001b[39;49m\u001b[38;5;241;43m.\u001b[39;49m\u001b[43m_validate_set\u001b[49m\u001b[43m(\u001b[49m\u001b[43mkey\u001b[49m\u001b[43m,\u001b[49m\u001b[43m \u001b[49m\u001b[43mvalue\u001b[49m\u001b[43m)\u001b[49m\n\u001b[1;32m    508\u001b[0m \u001b[38;5;28;01mfinally\u001b[39;00m:\n\u001b[1;32m    509\u001b[0m     value\u001b[38;5;241m.\u001b[39m_set_key(old)\n",
      "File \u001b[0;32m~/projects/l2hmc-qcd/.venv/lib/python3.10/site-packages/omegaconf/dictconfig.py:180\u001b[0m, in \u001b[0;36mDictConfig._validate_set\u001b[0;34m(self, key, value)\u001b[0m\n\u001b[1;32m    177\u001b[0m \u001b[38;5;28;01mif\u001b[39;00m vk \u001b[38;5;241m==\u001b[39m ValueKind\u001b[38;5;241m.\u001b[39mMANDATORY_MISSING \u001b[38;5;129;01mor\u001b[39;00m value \u001b[38;5;129;01mis\u001b[39;00m \u001b[38;5;28;01mNone\u001b[39;00m:\n\u001b[1;32m    178\u001b[0m     \u001b[38;5;28;01mreturn\u001b[39;00m\n\u001b[0;32m--> 180\u001b[0m target \u001b[38;5;241m=\u001b[39m \u001b[38;5;28;43mself\u001b[39;49m\u001b[38;5;241;43m.\u001b[39;49m\u001b[43m_get_node\u001b[49m\u001b[43m(\u001b[49m\u001b[43mkey\u001b[49m\u001b[43m)\u001b[49m \u001b[38;5;28;01mif\u001b[39;00m key \u001b[38;5;129;01mis\u001b[39;00m \u001b[38;5;129;01mnot\u001b[39;00m \u001b[38;5;28;01mNone\u001b[39;00m \u001b[38;5;28;01melse\u001b[39;00m \u001b[38;5;28mself\u001b[39m\n\u001b[1;32m    182\u001b[0m target_has_ref_type \u001b[38;5;241m=\u001b[39m \u001b[38;5;28misinstance\u001b[39m(\n\u001b[1;32m    183\u001b[0m     target, DictConfig\n\u001b[1;32m    184\u001b[0m ) \u001b[38;5;129;01mand\u001b[39;00m target\u001b[38;5;241m.\u001b[39m_metadata\u001b[38;5;241m.\u001b[39mref_type \u001b[38;5;129;01mnot\u001b[39;00m \u001b[38;5;129;01min\u001b[39;00m (Any, \u001b[38;5;28mdict\u001b[39m)\n\u001b[1;32m    185\u001b[0m is_valid_target \u001b[38;5;241m=\u001b[39m target \u001b[38;5;129;01mis\u001b[39;00m \u001b[38;5;28;01mNone\u001b[39;00m \u001b[38;5;129;01mor\u001b[39;00m \u001b[38;5;129;01mnot\u001b[39;00m target_has_ref_type\n",
      "File \u001b[0;32m~/projects/l2hmc-qcd/.venv/lib/python3.10/site-packages/omegaconf/dictconfig.py:465\u001b[0m, in \u001b[0;36mDictConfig._get_node\u001b[0;34m(self, key, validate_access, throw_on_missing_value, throw_on_missing_key)\u001b[0m\n\u001b[1;32m    462\u001b[0m         \u001b[38;5;28;01mreturn\u001b[39;00m \u001b[38;5;28;01mNone\u001b[39;00m\n\u001b[1;32m    464\u001b[0m \u001b[38;5;28;01mif\u001b[39;00m validate_access:\n\u001b[0;32m--> 465\u001b[0m     \u001b[38;5;28;43mself\u001b[39;49m\u001b[38;5;241;43m.\u001b[39;49m\u001b[43m_validate_get\u001b[49m\u001b[43m(\u001b[49m\u001b[43mkey\u001b[49m\u001b[43m)\u001b[49m\n\u001b[1;32m    467\u001b[0m value: Optional[Node] \u001b[38;5;241m=\u001b[39m \u001b[38;5;28mself\u001b[39m\u001b[38;5;241m.\u001b[39m\u001b[38;5;18m__dict__\u001b[39m[\u001b[38;5;124m\"\u001b[39m\u001b[38;5;124m_content\u001b[39m\u001b[38;5;124m\"\u001b[39m]\u001b[38;5;241m.\u001b[39mget(key)\n\u001b[1;32m    468\u001b[0m \u001b[38;5;28;01mif\u001b[39;00m value \u001b[38;5;129;01mis\u001b[39;00m \u001b[38;5;28;01mNone\u001b[39;00m:\n",
      "File \u001b[0;32m~/projects/l2hmc-qcd/.venv/lib/python3.10/site-packages/omegaconf/dictconfig.py:166\u001b[0m, in \u001b[0;36mDictConfig._validate_get\u001b[0;34m(self, key, value)\u001b[0m\n\u001b[1;32m    164\u001b[0m \u001b[38;5;28;01melse\u001b[39;00m:\n\u001b[1;32m    165\u001b[0m     msg \u001b[38;5;241m=\u001b[39m \u001b[38;5;124mf\u001b[39m\u001b[38;5;124m\"\u001b[39m\u001b[38;5;124mKey \u001b[39m\u001b[38;5;124m'\u001b[39m\u001b[38;5;132;01m{\u001b[39;00mkey\u001b[38;5;132;01m}\u001b[39;00m\u001b[38;5;124m'\u001b[39m\u001b[38;5;124m is not in struct\u001b[39m\u001b[38;5;124m\"\u001b[39m\n\u001b[0;32m--> 166\u001b[0m \u001b[38;5;28;43mself\u001b[39;49m\u001b[38;5;241;43m.\u001b[39;49m\u001b[43m_format_and_raise\u001b[49m\u001b[43m(\u001b[49m\n\u001b[1;32m    167\u001b[0m \u001b[43m    \u001b[49m\u001b[43mkey\u001b[49m\u001b[38;5;241;43m=\u001b[39;49m\u001b[43mkey\u001b[49m\u001b[43m,\u001b[49m\u001b[43m \u001b[49m\u001b[43mvalue\u001b[49m\u001b[38;5;241;43m=\u001b[39;49m\u001b[43mvalue\u001b[49m\u001b[43m,\u001b[49m\u001b[43m \u001b[49m\u001b[43mcause\u001b[49m\u001b[38;5;241;43m=\u001b[39;49m\u001b[43mConfigAttributeError\u001b[49m\u001b[43m(\u001b[49m\u001b[43mmsg\u001b[49m\u001b[43m)\u001b[49m\n\u001b[1;32m    168\u001b[0m \u001b[43m\u001b[49m\u001b[43m)\u001b[49m\n",
      "File \u001b[0;32m~/projects/l2hmc-qcd/.venv/lib/python3.10/site-packages/omegaconf/base.py:190\u001b[0m, in \u001b[0;36mNode._format_and_raise\u001b[0;34m(self, key, value, cause, type_override)\u001b[0m\n\u001b[1;32m    187\u001b[0m \u001b[38;5;28;01mdef\u001b[39;00m \u001b[38;5;21m_format_and_raise\u001b[39m(\n\u001b[1;32m    188\u001b[0m     \u001b[38;5;28mself\u001b[39m, key: Any, value: Any, cause: \u001b[38;5;167;01mException\u001b[39;00m, type_override: Any \u001b[38;5;241m=\u001b[39m \u001b[38;5;28;01mNone\u001b[39;00m\n\u001b[1;32m    189\u001b[0m ) \u001b[38;5;241m-\u001b[39m\u001b[38;5;241m>\u001b[39m \u001b[38;5;28;01mNone\u001b[39;00m:\n\u001b[0;32m--> 190\u001b[0m     \u001b[43mformat_and_raise\u001b[49m\u001b[43m(\u001b[49m\n\u001b[1;32m    191\u001b[0m \u001b[43m        \u001b[49m\u001b[43mnode\u001b[49m\u001b[38;5;241;43m=\u001b[39;49m\u001b[38;5;28;43mself\u001b[39;49m\u001b[43m,\u001b[49m\n\u001b[1;32m    192\u001b[0m \u001b[43m        \u001b[49m\u001b[43mkey\u001b[49m\u001b[38;5;241;43m=\u001b[39;49m\u001b[43mkey\u001b[49m\u001b[43m,\u001b[49m\n\u001b[1;32m    193\u001b[0m \u001b[43m        \u001b[49m\u001b[43mvalue\u001b[49m\u001b[38;5;241;43m=\u001b[39;49m\u001b[43mvalue\u001b[49m\u001b[43m,\u001b[49m\n\u001b[1;32m    194\u001b[0m \u001b[43m        \u001b[49m\u001b[43mmsg\u001b[49m\u001b[38;5;241;43m=\u001b[39;49m\u001b[38;5;28;43mstr\u001b[39;49m\u001b[43m(\u001b[49m\u001b[43mcause\u001b[49m\u001b[43m)\u001b[49m\u001b[43m,\u001b[49m\n\u001b[1;32m    195\u001b[0m \u001b[43m        \u001b[49m\u001b[43mcause\u001b[49m\u001b[38;5;241;43m=\u001b[39;49m\u001b[43mcause\u001b[49m\u001b[43m,\u001b[49m\n\u001b[1;32m    196\u001b[0m \u001b[43m        \u001b[49m\u001b[43mtype_override\u001b[49m\u001b[38;5;241;43m=\u001b[39;49m\u001b[43mtype_override\u001b[49m\u001b[43m,\u001b[49m\n\u001b[1;32m    197\u001b[0m \u001b[43m    \u001b[49m\u001b[43m)\u001b[49m\n\u001b[1;32m    198\u001b[0m     \u001b[38;5;28;01massert\u001b[39;00m \u001b[38;5;28;01mFalse\u001b[39;00m\n",
      "File \u001b[0;32m~/projects/l2hmc-qcd/.venv/lib/python3.10/site-packages/omegaconf/_utils.py:818\u001b[0m, in \u001b[0;36mformat_and_raise\u001b[0;34m(node, key, value, msg, cause, type_override)\u001b[0m\n\u001b[1;32m    815\u001b[0m     ex\u001b[38;5;241m.\u001b[39mref_type \u001b[38;5;241m=\u001b[39m ref_type\n\u001b[1;32m    816\u001b[0m     ex\u001b[38;5;241m.\u001b[39mref_type_str \u001b[38;5;241m=\u001b[39m ref_type_str\n\u001b[0;32m--> 818\u001b[0m \u001b[43m_raise\u001b[49m\u001b[43m(\u001b[49m\u001b[43mex\u001b[49m\u001b[43m,\u001b[49m\u001b[43m \u001b[49m\u001b[43mcause\u001b[49m\u001b[43m)\u001b[49m\n",
      "File \u001b[0;32m~/projects/l2hmc-qcd/.venv/lib/python3.10/site-packages/omegaconf/_utils.py:716\u001b[0m, in \u001b[0;36m_raise\u001b[0;34m(ex, cause)\u001b[0m\n\u001b[1;32m    714\u001b[0m \u001b[38;5;28;01melse\u001b[39;00m:\n\u001b[1;32m    715\u001b[0m     ex\u001b[38;5;241m.\u001b[39m__cause__ \u001b[38;5;241m=\u001b[39m \u001b[38;5;28;01mNone\u001b[39;00m\n\u001b[0;32m--> 716\u001b[0m \u001b[38;5;28;01mraise\u001b[39;00m ex\u001b[38;5;241m.\u001b[39mwith_traceback(sys\u001b[38;5;241m.\u001b[39mexc_info()[\u001b[38;5;241m2\u001b[39m])\n",
      "\u001b[0;31mConfigCompositionException\u001b[0m: "
     ]
    }
   ],
   "source": [
    "cfg = compose('config.yaml', overrides=['framework=pytorch'])"
   ]
  },
  {
   "cell_type": "code",
   "execution_count": 14,
   "id": "6e9fd486",
   "metadata": {
    "ExecuteTime": {
     "end_time": "2022-04-21T03:33:00.529003Z",
     "start_time": "2022-04-21T03:32:54.558989Z"
    }
   },
   "outputs": [
    {
     "name": "stdout",
     "output_type": "stream",
     "text": [
      "> \u001b[0;32m/Users/saforem2/projects/l2hmc-qcd/.venv/lib/python3.10/site-packages/omegaconf/_utils.py\u001b[0m(716)\u001b[0;36m_raise\u001b[0;34m()\u001b[0m\n",
      "\u001b[0;32m    714 \u001b[0;31m    \u001b[0;32melse\u001b[0m\u001b[0;34m:\u001b[0m\u001b[0;34m\u001b[0m\u001b[0;34m\u001b[0m\u001b[0m\n",
      "\u001b[0m\u001b[0;32m    715 \u001b[0;31m        \u001b[0mex\u001b[0m\u001b[0;34m.\u001b[0m\u001b[0m__cause__\u001b[0m \u001b[0;34m=\u001b[0m \u001b[0;32mNone\u001b[0m\u001b[0;34m\u001b[0m\u001b[0;34m\u001b[0m\u001b[0m\n",
      "\u001b[0m\u001b[0;32m--> 716 \u001b[0;31m    \u001b[0;32mraise\u001b[0m \u001b[0mex\u001b[0m\u001b[0;34m.\u001b[0m\u001b[0mwith_traceback\u001b[0m\u001b[0;34m(\u001b[0m\u001b[0msys\u001b[0m\u001b[0;34m.\u001b[0m\u001b[0mexc_info\u001b[0m\u001b[0;34m(\u001b[0m\u001b[0;34m)\u001b[0m\u001b[0;34m[\u001b[0m\u001b[0;36m2\u001b[0m\u001b[0;34m]\u001b[0m\u001b[0;34m)\u001b[0m  \u001b[0;31m# set end OC_CAUSE=1 for full backtrace\u001b[0m\u001b[0;34m\u001b[0m\u001b[0;34m\u001b[0m\u001b[0m\n",
      "\u001b[0m\u001b[0;32m    717 \u001b[0;31m\u001b[0;34m\u001b[0m\u001b[0m\n",
      "\u001b[0m\u001b[0;32m    718 \u001b[0;31m\u001b[0;34m\u001b[0m\u001b[0m\n",
      "\u001b[0m\n",
      "ipdb> q\n"
     ]
    }
   ],
   "source": [
    "%debug"
   ]
  },
  {
   "cell_type": "code",
   "execution_count": 11,
   "id": "5de492bf",
   "metadata": {
    "ExecuteTime": {
     "end_time": "2022-04-21T03:32:29.803882Z",
     "start_time": "2022-04-21T03:32:29.750989Z"
    }
   },
   "outputs": [
    {
     "data": {
      "text/plain": [
       "{}"
      ]
     },
     "execution_count": 11,
     "metadata": {},
     "output_type": "execute_result"
    }
   ],
   "source": []
  },
  {
   "cell_type": "code",
   "execution_count": null,
   "id": "f67cdb39",
   "metadata": {
    "ExecuteTime": {
     "end_time": "2022-04-21T03:16:22.833111Z",
     "start_time": "2022-04-21T03:16:22.424368Z"
    }
   },
   "outputs": [],
   "source": [
    "GlobalHydra.instance().clear()\n",
    "conf_dir = CONF_DIR.resolve().absolute().as_posix()\n",
    "initialize_config_dir(conf_dir)\n",
    "cfg = compose('config')  # , overrides=overrides)"
   ]
  },
  {
   "cell_type": "code",
   "execution_count": 15,
   "id": "841f7567",
   "metadata": {
    "ExecuteTime": {
     "end_time": "2022-04-21T03:11:39.399442Z",
     "start_time": "2022-04-21T03:11:39.061212Z"
    }
   },
   "outputs": [
    {
     "ename": "MissingConfigException",
     "evalue": "Cannot find primary config 'ExperimentConfig'. Check that it's in your config search path.\n\nConfig search path:\n\tprovider=hydra, path=pkg://hydra.conf\n\tprovider=main, path=file:///Users/saforem2/projects/l2hmc-qcd/src/l2hmc/conf\n\tprovider=hydra-colorlog, path=pkg://hydra_plugins.hydra_colorlog.conf\n\tprovider=schema, path=structured://",
     "output_type": "error",
     "traceback": [
      "\u001b[0;31m---------------------------------------------------------------------------\u001b[0m",
      "\u001b[0;31mMissingConfigException\u001b[0m                    Traceback (most recent call last)",
      "Input \u001b[0;32mIn [15]\u001b[0m, in \u001b[0;36m<cell line: 1>\u001b[0;34m()\u001b[0m\n\u001b[0;32m----> 1\u001b[0m cfg \u001b[38;5;241m=\u001b[39m \u001b[43mget_cfg\u001b[49m\u001b[43m(\u001b[49m\u001b[43m[\u001b[49m\u001b[43m]\u001b[49m\u001b[43m)\u001b[49m\n",
      "Input \u001b[0;32mIn [14]\u001b[0m, in \u001b[0;36mget_cfg\u001b[0;34m(overrides)\u001b[0m\n\u001b[1;32m      3\u001b[0m conf_dir \u001b[38;5;241m=\u001b[39m CONF_DIR\u001b[38;5;241m.\u001b[39mresolve()\u001b[38;5;241m.\u001b[39mabsolute()\u001b[38;5;241m.\u001b[39mas_posix()\n\u001b[1;32m      4\u001b[0m initialize_config_dir(conf_dir)\n\u001b[0;32m----> 5\u001b[0m cfg \u001b[38;5;241m=\u001b[39m \u001b[43mcompose\u001b[49m\u001b[43m(\u001b[49m\u001b[38;5;124;43m'\u001b[39;49m\u001b[38;5;124;43mExperimentConfig\u001b[39;49m\u001b[38;5;124;43m'\u001b[39;49m\u001b[43m,\u001b[49m\u001b[43m \u001b[49m\u001b[43moverrides\u001b[49m\u001b[38;5;241;43m=\u001b[39;49m\u001b[43moverrides\u001b[49m\u001b[43m)\u001b[49m\n\u001b[1;32m      6\u001b[0m \u001b[38;5;28;01mreturn\u001b[39;00m cfg\n",
      "File \u001b[0;32m~/projects/l2hmc-qcd/.venv/lib/python3.10/site-packages/hydra/compose.py:33\u001b[0m, in \u001b[0;36mcompose\u001b[0;34m(config_name, overrides, return_hydra_config, strict)\u001b[0m\n\u001b[1;32m     31\u001b[0m gh \u001b[38;5;241m=\u001b[39m GlobalHydra\u001b[38;5;241m.\u001b[39minstance()\n\u001b[1;32m     32\u001b[0m \u001b[38;5;28;01massert\u001b[39;00m gh\u001b[38;5;241m.\u001b[39mhydra \u001b[38;5;129;01mis\u001b[39;00m \u001b[38;5;129;01mnot\u001b[39;00m \u001b[38;5;28;01mNone\u001b[39;00m\n\u001b[0;32m---> 33\u001b[0m cfg \u001b[38;5;241m=\u001b[39m \u001b[43mgh\u001b[49m\u001b[38;5;241;43m.\u001b[39;49m\u001b[43mhydra\u001b[49m\u001b[38;5;241;43m.\u001b[39;49m\u001b[43mcompose_config\u001b[49m\u001b[43m(\u001b[49m\n\u001b[1;32m     34\u001b[0m \u001b[43m    \u001b[49m\u001b[43mconfig_name\u001b[49m\u001b[38;5;241;43m=\u001b[39;49m\u001b[43mconfig_name\u001b[49m\u001b[43m,\u001b[49m\n\u001b[1;32m     35\u001b[0m \u001b[43m    \u001b[49m\u001b[43moverrides\u001b[49m\u001b[38;5;241;43m=\u001b[39;49m\u001b[43moverrides\u001b[49m\u001b[43m,\u001b[49m\n\u001b[1;32m     36\u001b[0m \u001b[43m    \u001b[49m\u001b[43mrun_mode\u001b[49m\u001b[38;5;241;43m=\u001b[39;49m\u001b[43mRunMode\u001b[49m\u001b[38;5;241;43m.\u001b[39;49m\u001b[43mRUN\u001b[49m\u001b[43m,\u001b[49m\n\u001b[1;32m     37\u001b[0m \u001b[43m    \u001b[49m\u001b[43mfrom_shell\u001b[49m\u001b[38;5;241;43m=\u001b[39;49m\u001b[38;5;28;43;01mFalse\u001b[39;49;00m\u001b[43m,\u001b[49m\n\u001b[1;32m     38\u001b[0m \u001b[43m    \u001b[49m\u001b[43mwith_log_configuration\u001b[49m\u001b[38;5;241;43m=\u001b[39;49m\u001b[38;5;28;43;01mFalse\u001b[39;49;00m\u001b[43m,\u001b[49m\n\u001b[1;32m     39\u001b[0m \u001b[43m\u001b[49m\u001b[43m)\u001b[49m\n\u001b[1;32m     40\u001b[0m \u001b[38;5;28;01massert\u001b[39;00m \u001b[38;5;28misinstance\u001b[39m(cfg, DictConfig)\n\u001b[1;32m     42\u001b[0m \u001b[38;5;28;01mif\u001b[39;00m \u001b[38;5;129;01mnot\u001b[39;00m return_hydra_config:\n",
      "File \u001b[0;32m~/projects/l2hmc-qcd/.venv/lib/python3.10/site-packages/hydra/_internal/hydra.py:559\u001b[0m, in \u001b[0;36mHydra.compose_config\u001b[0;34m(self, config_name, overrides, run_mode, with_log_configuration, from_shell)\u001b[0m\n\u001b[1;32m    542\u001b[0m \u001b[38;5;28;01mdef\u001b[39;00m \u001b[38;5;21mcompose_config\u001b[39m(\n\u001b[1;32m    543\u001b[0m     \u001b[38;5;28mself\u001b[39m,\n\u001b[1;32m    544\u001b[0m     config_name: Optional[\u001b[38;5;28mstr\u001b[39m],\n\u001b[0;32m   (...)\u001b[0m\n\u001b[1;32m    548\u001b[0m     from_shell: \u001b[38;5;28mbool\u001b[39m \u001b[38;5;241m=\u001b[39m \u001b[38;5;28;01mTrue\u001b[39;00m,\n\u001b[1;32m    549\u001b[0m ) \u001b[38;5;241m-\u001b[39m\u001b[38;5;241m>\u001b[39m DictConfig:\n\u001b[1;32m    550\u001b[0m     \u001b[38;5;124;03m\"\"\"\u001b[39;00m\n\u001b[1;32m    551\u001b[0m \u001b[38;5;124;03m    :param config_name:\u001b[39;00m\n\u001b[1;32m    552\u001b[0m \u001b[38;5;124;03m    :param overrides:\u001b[39;00m\n\u001b[0;32m   (...)\u001b[0m\n\u001b[1;32m    556\u001b[0m \u001b[38;5;124;03m    :return:\u001b[39;00m\n\u001b[1;32m    557\u001b[0m \u001b[38;5;124;03m    \"\"\"\u001b[39;00m\n\u001b[0;32m--> 559\u001b[0m     cfg \u001b[38;5;241m=\u001b[39m \u001b[38;5;28;43mself\u001b[39;49m\u001b[38;5;241;43m.\u001b[39;49m\u001b[43mconfig_loader\u001b[49m\u001b[38;5;241;43m.\u001b[39;49m\u001b[43mload_configuration\u001b[49m\u001b[43m(\u001b[49m\n\u001b[1;32m    560\u001b[0m \u001b[43m        \u001b[49m\u001b[43mconfig_name\u001b[49m\u001b[38;5;241;43m=\u001b[39;49m\u001b[43mconfig_name\u001b[49m\u001b[43m,\u001b[49m\n\u001b[1;32m    561\u001b[0m \u001b[43m        \u001b[49m\u001b[43moverrides\u001b[49m\u001b[38;5;241;43m=\u001b[39;49m\u001b[43moverrides\u001b[49m\u001b[43m,\u001b[49m\n\u001b[1;32m    562\u001b[0m \u001b[43m        \u001b[49m\u001b[43mrun_mode\u001b[49m\u001b[38;5;241;43m=\u001b[39;49m\u001b[43mrun_mode\u001b[49m\u001b[43m,\u001b[49m\n\u001b[1;32m    563\u001b[0m \u001b[43m        \u001b[49m\u001b[43mfrom_shell\u001b[49m\u001b[38;5;241;43m=\u001b[39;49m\u001b[43mfrom_shell\u001b[49m\u001b[43m,\u001b[49m\n\u001b[1;32m    564\u001b[0m \u001b[43m    \u001b[49m\u001b[43m)\u001b[49m\n\u001b[1;32m    565\u001b[0m     \u001b[38;5;28;01mif\u001b[39;00m with_log_configuration:\n\u001b[1;32m    566\u001b[0m         configure_log(cfg\u001b[38;5;241m.\u001b[39mhydra\u001b[38;5;241m.\u001b[39mhydra_logging, cfg\u001b[38;5;241m.\u001b[39mhydra\u001b[38;5;241m.\u001b[39mverbose)\n",
      "File \u001b[0;32m~/projects/l2hmc-qcd/.venv/lib/python3.10/site-packages/hydra/_internal/config_loader_impl.py:141\u001b[0m, in \u001b[0;36mConfigLoaderImpl.load_configuration\u001b[0;34m(self, config_name, overrides, run_mode, from_shell)\u001b[0m\n\u001b[1;32m    133\u001b[0m \u001b[38;5;28;01mdef\u001b[39;00m \u001b[38;5;21mload_configuration\u001b[39m(\n\u001b[1;32m    134\u001b[0m     \u001b[38;5;28mself\u001b[39m,\n\u001b[1;32m    135\u001b[0m     config_name: Optional[\u001b[38;5;28mstr\u001b[39m],\n\u001b[0;32m   (...)\u001b[0m\n\u001b[1;32m    138\u001b[0m     from_shell: \u001b[38;5;28mbool\u001b[39m \u001b[38;5;241m=\u001b[39m \u001b[38;5;28;01mTrue\u001b[39;00m,\n\u001b[1;32m    139\u001b[0m ) \u001b[38;5;241m-\u001b[39m\u001b[38;5;241m>\u001b[39m DictConfig:\n\u001b[1;32m    140\u001b[0m     \u001b[38;5;28;01mtry\u001b[39;00m:\n\u001b[0;32m--> 141\u001b[0m         \u001b[38;5;28;01mreturn\u001b[39;00m \u001b[38;5;28;43mself\u001b[39;49m\u001b[38;5;241;43m.\u001b[39;49m\u001b[43m_load_configuration_impl\u001b[49m\u001b[43m(\u001b[49m\n\u001b[1;32m    142\u001b[0m \u001b[43m            \u001b[49m\u001b[43mconfig_name\u001b[49m\u001b[38;5;241;43m=\u001b[39;49m\u001b[43mconfig_name\u001b[49m\u001b[43m,\u001b[49m\n\u001b[1;32m    143\u001b[0m \u001b[43m            \u001b[49m\u001b[43moverrides\u001b[49m\u001b[38;5;241;43m=\u001b[39;49m\u001b[43moverrides\u001b[49m\u001b[43m,\u001b[49m\n\u001b[1;32m    144\u001b[0m \u001b[43m            \u001b[49m\u001b[43mrun_mode\u001b[49m\u001b[38;5;241;43m=\u001b[39;49m\u001b[43mrun_mode\u001b[49m\u001b[43m,\u001b[49m\n\u001b[1;32m    145\u001b[0m \u001b[43m            \u001b[49m\u001b[43mfrom_shell\u001b[49m\u001b[38;5;241;43m=\u001b[39;49m\u001b[43mfrom_shell\u001b[49m\u001b[43m,\u001b[49m\n\u001b[1;32m    146\u001b[0m \u001b[43m        \u001b[49m\u001b[43m)\u001b[49m\n\u001b[1;32m    147\u001b[0m     \u001b[38;5;28;01mexcept\u001b[39;00m OmegaConfBaseException \u001b[38;5;28;01mas\u001b[39;00m e:\n\u001b[1;32m    148\u001b[0m         \u001b[38;5;28;01mraise\u001b[39;00m ConfigCompositionException()\u001b[38;5;241m.\u001b[39mwith_traceback(sys\u001b[38;5;241m.\u001b[39mexc_info()[\u001b[38;5;241m2\u001b[39m]) \u001b[38;5;28;01mfrom\u001b[39;00m \u001b[38;5;21;01me\u001b[39;00m\n",
      "File \u001b[0;32m~/projects/l2hmc-qcd/.venv/lib/python3.10/site-packages/hydra/_internal/config_loader_impl.py:239\u001b[0m, in \u001b[0;36mConfigLoaderImpl._load_configuration_impl\u001b[0;34m(self, config_name, overrides, run_mode, from_shell)\u001b[0m\n\u001b[1;32m    233\u001b[0m \u001b[38;5;28mself\u001b[39m\u001b[38;5;241m.\u001b[39m_process_config_searchpath(config_name, parsed_overrides, caching_repo)\n\u001b[1;32m    235\u001b[0m \u001b[38;5;28mself\u001b[39m\u001b[38;5;241m.\u001b[39mvalidate_sweep_overrides_legal(\n\u001b[1;32m    236\u001b[0m     overrides\u001b[38;5;241m=\u001b[39mparsed_overrides, run_mode\u001b[38;5;241m=\u001b[39mrun_mode, from_shell\u001b[38;5;241m=\u001b[39mfrom_shell\n\u001b[1;32m    237\u001b[0m )\n\u001b[0;32m--> 239\u001b[0m defaults_list \u001b[38;5;241m=\u001b[39m \u001b[43mcreate_defaults_list\u001b[49m\u001b[43m(\u001b[49m\n\u001b[1;32m    240\u001b[0m \u001b[43m    \u001b[49m\u001b[43mrepo\u001b[49m\u001b[38;5;241;43m=\u001b[39;49m\u001b[43mcaching_repo\u001b[49m\u001b[43m,\u001b[49m\n\u001b[1;32m    241\u001b[0m \u001b[43m    \u001b[49m\u001b[43mconfig_name\u001b[49m\u001b[38;5;241;43m=\u001b[39;49m\u001b[43mconfig_name\u001b[49m\u001b[43m,\u001b[49m\n\u001b[1;32m    242\u001b[0m \u001b[43m    \u001b[49m\u001b[43moverrides_list\u001b[49m\u001b[38;5;241;43m=\u001b[39;49m\u001b[43mparsed_overrides\u001b[49m\u001b[43m,\u001b[49m\n\u001b[1;32m    243\u001b[0m \u001b[43m    \u001b[49m\u001b[43mprepend_hydra\u001b[49m\u001b[38;5;241;43m=\u001b[39;49m\u001b[38;5;28;43;01mTrue\u001b[39;49;00m\u001b[43m,\u001b[49m\n\u001b[1;32m    244\u001b[0m \u001b[43m    \u001b[49m\u001b[43mskip_missing\u001b[49m\u001b[38;5;241;43m=\u001b[39;49m\u001b[43mrun_mode\u001b[49m\u001b[43m \u001b[49m\u001b[38;5;241;43m==\u001b[39;49m\u001b[43m \u001b[49m\u001b[43mRunMode\u001b[49m\u001b[38;5;241;43m.\u001b[39;49m\u001b[43mMULTIRUN\u001b[49m\u001b[43m,\u001b[49m\n\u001b[1;32m    245\u001b[0m \u001b[43m\u001b[49m\u001b[43m)\u001b[49m\n\u001b[1;32m    247\u001b[0m config_overrides \u001b[38;5;241m=\u001b[39m defaults_list\u001b[38;5;241m.\u001b[39mconfig_overrides\n\u001b[1;32m    249\u001b[0m cfg \u001b[38;5;241m=\u001b[39m \u001b[38;5;28mself\u001b[39m\u001b[38;5;241m.\u001b[39m_compose_config_from_defaults_list(\n\u001b[1;32m    250\u001b[0m     defaults\u001b[38;5;241m=\u001b[39mdefaults_list\u001b[38;5;241m.\u001b[39mdefaults, repo\u001b[38;5;241m=\u001b[39mcaching_repo\n\u001b[1;32m    251\u001b[0m )\n",
      "File \u001b[0;32m~/projects/l2hmc-qcd/.venv/lib/python3.10/site-packages/hydra/_internal/defaults_list.py:748\u001b[0m, in \u001b[0;36mcreate_defaults_list\u001b[0;34m(repo, config_name, overrides_list, prepend_hydra, skip_missing)\u001b[0m\n\u001b[1;32m    739\u001b[0m \u001b[38;5;124;03m\"\"\"\u001b[39;00m\n\u001b[1;32m    740\u001b[0m \u001b[38;5;124;03m:param repo:\u001b[39;00m\n\u001b[1;32m    741\u001b[0m \u001b[38;5;124;03m:param config_name:\u001b[39;00m\n\u001b[0;32m   (...)\u001b[0m\n\u001b[1;32m    745\u001b[0m \u001b[38;5;124;03m:return:\u001b[39;00m\n\u001b[1;32m    746\u001b[0m \u001b[38;5;124;03m\"\"\"\u001b[39;00m\n\u001b[1;32m    747\u001b[0m overrides \u001b[38;5;241m=\u001b[39m Overrides(repo\u001b[38;5;241m=\u001b[39mrepo, overrides_list\u001b[38;5;241m=\u001b[39moverrides_list)\n\u001b[0;32m--> 748\u001b[0m defaults, tree \u001b[38;5;241m=\u001b[39m \u001b[43m_create_defaults_list\u001b[49m\u001b[43m(\u001b[49m\n\u001b[1;32m    749\u001b[0m \u001b[43m    \u001b[49m\u001b[43mrepo\u001b[49m\u001b[43m,\u001b[49m\n\u001b[1;32m    750\u001b[0m \u001b[43m    \u001b[49m\u001b[43mconfig_name\u001b[49m\u001b[43m,\u001b[49m\n\u001b[1;32m    751\u001b[0m \u001b[43m    \u001b[49m\u001b[43moverrides\u001b[49m\u001b[43m,\u001b[49m\n\u001b[1;32m    752\u001b[0m \u001b[43m    \u001b[49m\u001b[43mprepend_hydra\u001b[49m\u001b[38;5;241;43m=\u001b[39;49m\u001b[43mprepend_hydra\u001b[49m\u001b[43m,\u001b[49m\n\u001b[1;32m    753\u001b[0m \u001b[43m    \u001b[49m\u001b[43mskip_missing\u001b[49m\u001b[38;5;241;43m=\u001b[39;49m\u001b[43mskip_missing\u001b[49m\u001b[43m,\u001b[49m\n\u001b[1;32m    754\u001b[0m \u001b[43m\u001b[49m\u001b[43m)\u001b[49m\n\u001b[1;32m    755\u001b[0m overrides\u001b[38;5;241m.\u001b[39mensure_overrides_used()\n\u001b[1;32m    756\u001b[0m overrides\u001b[38;5;241m.\u001b[39mensure_deletions_used()\n",
      "File \u001b[0;32m~/projects/l2hmc-qcd/.venv/lib/python3.10/site-packages/hydra/_internal/defaults_list.py:718\u001b[0m, in \u001b[0;36m_create_defaults_list\u001b[0;34m(repo, config_name, overrides, prepend_hydra, skip_missing)\u001b[0m\n\u001b[1;32m    708\u001b[0m \u001b[38;5;28;01mdef\u001b[39;00m \u001b[38;5;21m_create_defaults_list\u001b[39m(\n\u001b[1;32m    709\u001b[0m     repo: IConfigRepository,\n\u001b[1;32m    710\u001b[0m     config_name: Optional[\u001b[38;5;28mstr\u001b[39m],\n\u001b[0;32m   (...)\u001b[0m\n\u001b[1;32m    713\u001b[0m     skip_missing: \u001b[38;5;28mbool\u001b[39m,\n\u001b[1;32m    714\u001b[0m ) \u001b[38;5;241m-\u001b[39m\u001b[38;5;241m>\u001b[39m Tuple[List[ResultDefault], DefaultsTreeNode]:\n\u001b[1;32m    716\u001b[0m     root \u001b[38;5;241m=\u001b[39m _create_root(config_name\u001b[38;5;241m=\u001b[39mconfig_name, with_hydra\u001b[38;5;241m=\u001b[39mprepend_hydra)\n\u001b[0;32m--> 718\u001b[0m     defaults_tree \u001b[38;5;241m=\u001b[39m \u001b[43m_create_defaults_tree\u001b[49m\u001b[43m(\u001b[49m\n\u001b[1;32m    719\u001b[0m \u001b[43m        \u001b[49m\u001b[43mrepo\u001b[49m\u001b[38;5;241;43m=\u001b[39;49m\u001b[43mrepo\u001b[49m\u001b[43m,\u001b[49m\n\u001b[1;32m    720\u001b[0m \u001b[43m        \u001b[49m\u001b[43mroot\u001b[49m\u001b[38;5;241;43m=\u001b[39;49m\u001b[43mroot\u001b[49m\u001b[43m,\u001b[49m\n\u001b[1;32m    721\u001b[0m \u001b[43m        \u001b[49m\u001b[43moverrides\u001b[49m\u001b[38;5;241;43m=\u001b[39;49m\u001b[43moverrides\u001b[49m\u001b[43m,\u001b[49m\n\u001b[1;32m    722\u001b[0m \u001b[43m        \u001b[49m\u001b[43mis_root_config\u001b[49m\u001b[38;5;241;43m=\u001b[39;49m\u001b[38;5;28;43;01mTrue\u001b[39;49;00m\u001b[43m,\u001b[49m\n\u001b[1;32m    723\u001b[0m \u001b[43m        \u001b[49m\u001b[43minterpolated_subtree\u001b[49m\u001b[38;5;241;43m=\u001b[39;49m\u001b[38;5;28;43;01mFalse\u001b[39;49;00m\u001b[43m,\u001b[49m\n\u001b[1;32m    724\u001b[0m \u001b[43m        \u001b[49m\u001b[43mskip_missing\u001b[49m\u001b[38;5;241;43m=\u001b[39;49m\u001b[43mskip_missing\u001b[49m\u001b[43m,\u001b[49m\n\u001b[1;32m    725\u001b[0m \u001b[43m    \u001b[49m\u001b[43m)\u001b[49m\n\u001b[1;32m    727\u001b[0m     output \u001b[38;5;241m=\u001b[39m _tree_to_list(tree\u001b[38;5;241m=\u001b[39mdefaults_tree)\n\u001b[1;32m    728\u001b[0m     ensure_no_duplicates_in_list(output)\n",
      "File \u001b[0;32m~/projects/l2hmc-qcd/.venv/lib/python3.10/site-packages/hydra/_internal/defaults_list.py:356\u001b[0m, in \u001b[0;36m_create_defaults_tree\u001b[0;34m(repo, root, is_root_config, skip_missing, interpolated_subtree, overrides)\u001b[0m\n\u001b[1;32m    348\u001b[0m \u001b[38;5;28;01mdef\u001b[39;00m \u001b[38;5;21m_create_defaults_tree\u001b[39m(\n\u001b[1;32m    349\u001b[0m     repo: IConfigRepository,\n\u001b[1;32m    350\u001b[0m     root: DefaultsTreeNode,\n\u001b[0;32m   (...)\u001b[0m\n\u001b[1;32m    354\u001b[0m     overrides: Overrides,\n\u001b[1;32m    355\u001b[0m ) \u001b[38;5;241m-\u001b[39m\u001b[38;5;241m>\u001b[39m DefaultsTreeNode:\n\u001b[0;32m--> 356\u001b[0m     ret \u001b[38;5;241m=\u001b[39m \u001b[43m_create_defaults_tree_impl\u001b[49m\u001b[43m(\u001b[49m\n\u001b[1;32m    357\u001b[0m \u001b[43m        \u001b[49m\u001b[43mrepo\u001b[49m\u001b[38;5;241;43m=\u001b[39;49m\u001b[43mrepo\u001b[49m\u001b[43m,\u001b[49m\n\u001b[1;32m    358\u001b[0m \u001b[43m        \u001b[49m\u001b[43mroot\u001b[49m\u001b[38;5;241;43m=\u001b[39;49m\u001b[43mroot\u001b[49m\u001b[43m,\u001b[49m\n\u001b[1;32m    359\u001b[0m \u001b[43m        \u001b[49m\u001b[43mis_root_config\u001b[49m\u001b[38;5;241;43m=\u001b[39;49m\u001b[43mis_root_config\u001b[49m\u001b[43m,\u001b[49m\n\u001b[1;32m    360\u001b[0m \u001b[43m        \u001b[49m\u001b[43mskip_missing\u001b[49m\u001b[38;5;241;43m=\u001b[39;49m\u001b[43mskip_missing\u001b[49m\u001b[43m,\u001b[49m\n\u001b[1;32m    361\u001b[0m \u001b[43m        \u001b[49m\u001b[43minterpolated_subtree\u001b[49m\u001b[38;5;241;43m=\u001b[39;49m\u001b[43minterpolated_subtree\u001b[49m\u001b[43m,\u001b[49m\n\u001b[1;32m    362\u001b[0m \u001b[43m        \u001b[49m\u001b[43moverrides\u001b[49m\u001b[38;5;241;43m=\u001b[39;49m\u001b[43moverrides\u001b[49m\u001b[43m,\u001b[49m\n\u001b[1;32m    363\u001b[0m \u001b[43m    \u001b[49m\u001b[43m)\u001b[49m\n\u001b[1;32m    365\u001b[0m     \u001b[38;5;28;01mreturn\u001b[39;00m ret\n",
      "File \u001b[0;32m~/projects/l2hmc-qcd/.venv/lib/python3.10/site-packages/hydra/_internal/defaults_list.py:455\u001b[0m, in \u001b[0;36m_create_defaults_tree_impl\u001b[0;34m(repo, root, is_root_config, skip_missing, interpolated_subtree, overrides)\u001b[0m\n\u001b[1;32m    453\u001b[0m \u001b[38;5;28;01mif\u001b[39;00m parent\u001b[38;5;241m.\u001b[39mis_virtual():\n\u001b[1;32m    454\u001b[0m     \u001b[38;5;28;01mif\u001b[39;00m is_root_config:\n\u001b[0;32m--> 455\u001b[0m         \u001b[38;5;28;01mreturn\u001b[39;00m \u001b[43m_expand_virtual_root\u001b[49m\u001b[43m(\u001b[49m\u001b[43mrepo\u001b[49m\u001b[43m,\u001b[49m\u001b[43m \u001b[49m\u001b[43mroot\u001b[49m\u001b[43m,\u001b[49m\u001b[43m \u001b[49m\u001b[43moverrides\u001b[49m\u001b[43m,\u001b[49m\u001b[43m \u001b[49m\u001b[43mskip_missing\u001b[49m\u001b[43m)\u001b[49m\n\u001b[1;32m    456\u001b[0m     \u001b[38;5;28;01melse\u001b[39;00m:\n\u001b[1;32m    457\u001b[0m         \u001b[38;5;28;01mreturn\u001b[39;00m root\n",
      "File \u001b[0;32m~/projects/l2hmc-qcd/.venv/lib/python3.10/site-packages/hydra/_internal/defaults_list.py:280\u001b[0m, in \u001b[0;36m_expand_virtual_root\u001b[0;34m(repo, root, overrides, skip_missing)\u001b[0m\n\u001b[1;32m    277\u001b[0m new_root \u001b[38;5;241m=\u001b[39m DefaultsTreeNode(node\u001b[38;5;241m=\u001b[39md, parent\u001b[38;5;241m=\u001b[39mroot)\n\u001b[1;32m    278\u001b[0m d\u001b[38;5;241m.\u001b[39mupdate_parent(\u001b[38;5;124m\"\u001b[39m\u001b[38;5;124m\"\u001b[39m, \u001b[38;5;124m\"\u001b[39m\u001b[38;5;124m\"\u001b[39m)\n\u001b[0;32m--> 280\u001b[0m subtree \u001b[38;5;241m=\u001b[39m \u001b[43m_create_defaults_tree_impl\u001b[49m\u001b[43m(\u001b[49m\n\u001b[1;32m    281\u001b[0m \u001b[43m    \u001b[49m\u001b[43mrepo\u001b[49m\u001b[38;5;241;43m=\u001b[39;49m\u001b[43mrepo\u001b[49m\u001b[43m,\u001b[49m\n\u001b[1;32m    282\u001b[0m \u001b[43m    \u001b[49m\u001b[43mroot\u001b[49m\u001b[38;5;241;43m=\u001b[39;49m\u001b[43mnew_root\u001b[49m\u001b[43m,\u001b[49m\n\u001b[1;32m    283\u001b[0m \u001b[43m    \u001b[49m\u001b[43mis_root_config\u001b[49m\u001b[38;5;241;43m=\u001b[39;49m\u001b[43md\u001b[49m\u001b[38;5;241;43m.\u001b[39;49m\u001b[43mprimary\u001b[49m\u001b[43m,\u001b[49m\n\u001b[1;32m    284\u001b[0m \u001b[43m    \u001b[49m\u001b[43mskip_missing\u001b[49m\u001b[38;5;241;43m=\u001b[39;49m\u001b[43mskip_missing\u001b[49m\u001b[43m,\u001b[49m\n\u001b[1;32m    285\u001b[0m \u001b[43m    \u001b[49m\u001b[43minterpolated_subtree\u001b[49m\u001b[38;5;241;43m=\u001b[39;49m\u001b[38;5;28;43;01mFalse\u001b[39;49;00m\u001b[43m,\u001b[49m\n\u001b[1;32m    286\u001b[0m \u001b[43m    \u001b[49m\u001b[43moverrides\u001b[49m\u001b[38;5;241;43m=\u001b[39;49m\u001b[43moverrides\u001b[49m\u001b[43m,\u001b[49m\n\u001b[1;32m    287\u001b[0m \u001b[43m\u001b[49m\u001b[43m)\u001b[49m\n\u001b[1;32m    288\u001b[0m \u001b[38;5;28;01mif\u001b[39;00m subtree\u001b[38;5;241m.\u001b[39mchildren \u001b[38;5;129;01mis\u001b[39;00m \u001b[38;5;28;01mNone\u001b[39;00m:\n\u001b[1;32m    289\u001b[0m     children\u001b[38;5;241m.\u001b[39mappend(d)\n",
      "File \u001b[0;32m~/projects/l2hmc-qcd/.venv/lib/python3.10/site-packages/hydra/_internal/defaults_list.py:462\u001b[0m, in \u001b[0;36m_create_defaults_tree_impl\u001b[0;34m(repo, root, is_root_config, skip_missing, interpolated_subtree, overrides)\u001b[0m\n\u001b[1;32m    460\u001b[0m     root\u001b[38;5;241m.\u001b[39mnode\u001b[38;5;241m.\u001b[39mupdate_parent(\u001b[38;5;124m\"\u001b[39m\u001b[38;5;124m\"\u001b[39m, \u001b[38;5;124m\"\u001b[39m\u001b[38;5;124m\"\u001b[39m)\n\u001b[1;32m    461\u001b[0m     \u001b[38;5;28;01mif\u001b[39;00m \u001b[38;5;129;01mnot\u001b[39;00m repo\u001b[38;5;241m.\u001b[39mconfig_exists(root\u001b[38;5;241m.\u001b[39mnode\u001b[38;5;241m.\u001b[39mget_config_path()):\n\u001b[0;32m--> 462\u001b[0m         \u001b[43mconfig_not_found_error\u001b[49m\u001b[43m(\u001b[49m\u001b[43mrepo\u001b[49m\u001b[38;5;241;43m=\u001b[39;49m\u001b[43mrepo\u001b[49m\u001b[43m,\u001b[49m\u001b[43m \u001b[49m\u001b[43mtree\u001b[49m\u001b[38;5;241;43m=\u001b[39;49m\u001b[43mroot\u001b[49m\u001b[43m)\u001b[49m\n\u001b[1;32m    464\u001b[0m update_package_header(repo\u001b[38;5;241m=\u001b[39mrepo, node\u001b[38;5;241m=\u001b[39mparent)\n\u001b[1;32m    466\u001b[0m \u001b[38;5;28;01mif\u001b[39;00m overrides\u001b[38;5;241m.\u001b[39mis_deleted(parent):\n",
      "File \u001b[0;32m~/projects/l2hmc-qcd/.venv/lib/python3.10/site-packages/hydra/_internal/defaults_list.py:802\u001b[0m, in \u001b[0;36mconfig_not_found_error\u001b[0;34m(repo, tree)\u001b[0m\n\u001b[1;32m    799\u001b[0m lines \u001b[38;5;241m=\u001b[39m \u001b[38;5;124m\"\u001b[39m\u001b[38;5;130;01m\\n\u001b[39;00m\u001b[38;5;124m\"\u001b[39m\u001b[38;5;241m.\u001b[39mjoin(descs)\n\u001b[1;32m    800\u001b[0m msg \u001b[38;5;241m+\u001b[39m\u001b[38;5;241m=\u001b[39m \u001b[38;5;124m\"\u001b[39m\u001b[38;5;130;01m\\n\u001b[39;00m\u001b[38;5;124mConfig search path:\u001b[39m\u001b[38;5;124m\"\u001b[39m \u001b[38;5;241m+\u001b[39m \u001b[38;5;124mf\u001b[39m\u001b[38;5;124m\"\u001b[39m\u001b[38;5;130;01m\\n\u001b[39;00m\u001b[38;5;132;01m{\u001b[39;00mlines\u001b[38;5;132;01m}\u001b[39;00m\u001b[38;5;124m\"\u001b[39m\n\u001b[0;32m--> 802\u001b[0m \u001b[38;5;28;01mraise\u001b[39;00m MissingConfigException(\n\u001b[1;32m    803\u001b[0m     missing_cfg_file\u001b[38;5;241m=\u001b[39melement\u001b[38;5;241m.\u001b[39mget_config_path(),\n\u001b[1;32m    804\u001b[0m     message\u001b[38;5;241m=\u001b[39mmsg,\n\u001b[1;32m    805\u001b[0m     options\u001b[38;5;241m=\u001b[39moptions,\n\u001b[1;32m    806\u001b[0m )\n",
      "\u001b[0;31mMissingConfigException\u001b[0m: Cannot find primary config 'ExperimentConfig'. Check that it's in your config search path.\n\nConfig search path:\n\tprovider=hydra, path=pkg://hydra.conf\n\tprovider=main, path=file:///Users/saforem2/projects/l2hmc-qcd/src/l2hmc/conf\n\tprovider=hydra-colorlog, path=pkg://hydra_plugins.hydra_colorlog.conf\n\tprovider=schema, path=structured://"
     ]
    }
   ],
   "source": [
    "cfg = get_cfg([])"
   ]
  },
  {
   "cell_type": "code",
   "execution_count": 6,
   "id": "47a53478",
   "metadata": {
    "ExecuteTime": {
     "end_time": "2022-04-21T03:09:09.642034Z",
     "start_time": "2022-04-21T03:09:08.306471Z"
    }
   },
   "outputs": [
    {
     "ename": "ConfigCompositionException",
     "evalue": "Error merging 'config' with schema",
     "output_type": "error",
     "traceback": [
      "\u001b[0;31m---------------------------------------------------------------------------\u001b[0m",
      "\u001b[0;31mConfigKeyError\u001b[0m                            Traceback (most recent call last)",
      "File \u001b[0;32m~/projects/l2hmc-qcd/.venv/lib/python3.10/site-packages/hydra/_internal/config_loader_impl.py:456\u001b[0m, in \u001b[0;36mConfigLoaderImpl._load_single_config\u001b[0;34m(self, default, repo)\u001b[0m\n\u001b[1;32m    454\u001b[0m     hydra \u001b[38;5;241m=\u001b[39m config\u001b[38;5;241m.\u001b[39mpop(\u001b[38;5;124m\"\u001b[39m\u001b[38;5;124mhydra\u001b[39m\u001b[38;5;124m\"\u001b[39m)\n\u001b[0;32m--> 456\u001b[0m merged \u001b[38;5;241m=\u001b[39m \u001b[43mOmegaConf\u001b[49m\u001b[38;5;241;43m.\u001b[39;49m\u001b[43mmerge\u001b[49m\u001b[43m(\u001b[49m\u001b[43mschema\u001b[49m\u001b[38;5;241;43m.\u001b[39;49m\u001b[43mconfig\u001b[49m\u001b[43m,\u001b[49m\u001b[43m \u001b[49m\u001b[43mconfig\u001b[49m\u001b[43m)\u001b[49m\n\u001b[1;32m    457\u001b[0m \u001b[38;5;28;01massert\u001b[39;00m \u001b[38;5;28misinstance\u001b[39m(merged, DictConfig)\n",
      "File \u001b[0;32m~/projects/l2hmc-qcd/.venv/lib/python3.10/site-packages/omegaconf/omegaconf.py:264\u001b[0m, in \u001b[0;36mOmegaConf.merge\u001b[0;34m(*configs)\u001b[0m\n\u001b[1;32m    263\u001b[0m \u001b[38;5;28;01mwith\u001b[39;00m flag_override(target, \u001b[38;5;124m\"\u001b[39m\u001b[38;5;124mreadonly\u001b[39m\u001b[38;5;124m\"\u001b[39m, \u001b[38;5;28;01mFalse\u001b[39;00m):\n\u001b[0;32m--> 264\u001b[0m     \u001b[43mtarget\u001b[49m\u001b[38;5;241;43m.\u001b[39;49m\u001b[43mmerge_with\u001b[49m\u001b[43m(\u001b[49m\u001b[38;5;241;43m*\u001b[39;49m\u001b[43mconfigs\u001b[49m\u001b[43m[\u001b[49m\u001b[38;5;241;43m1\u001b[39;49m\u001b[43m:\u001b[49m\u001b[43m]\u001b[49m\u001b[43m)\u001b[49m\n\u001b[1;32m    265\u001b[0m     turned_readonly \u001b[38;5;241m=\u001b[39m target\u001b[38;5;241m.\u001b[39m_get_flag(\u001b[38;5;124m\"\u001b[39m\u001b[38;5;124mreadonly\u001b[39m\u001b[38;5;124m\"\u001b[39m) \u001b[38;5;129;01mis\u001b[39;00m \u001b[38;5;28;01mTrue\u001b[39;00m\n",
      "File \u001b[0;32m~/projects/l2hmc-qcd/.venv/lib/python3.10/site-packages/omegaconf/basecontainer.py:452\u001b[0m, in \u001b[0;36mBaseContainer.merge_with\u001b[0;34m(self, *others)\u001b[0m\n\u001b[1;32m    451\u001b[0m \u001b[38;5;28;01mexcept\u001b[39;00m \u001b[38;5;167;01mException\u001b[39;00m \u001b[38;5;28;01mas\u001b[39;00m e:\n\u001b[0;32m--> 452\u001b[0m     \u001b[38;5;28;43mself\u001b[39;49m\u001b[38;5;241;43m.\u001b[39;49m\u001b[43m_format_and_raise\u001b[49m\u001b[43m(\u001b[49m\u001b[43mkey\u001b[49m\u001b[38;5;241;43m=\u001b[39;49m\u001b[38;5;28;43;01mNone\u001b[39;49;00m\u001b[43m,\u001b[49m\u001b[43m \u001b[49m\u001b[43mvalue\u001b[49m\u001b[38;5;241;43m=\u001b[39;49m\u001b[38;5;28;43;01mNone\u001b[39;49;00m\u001b[43m,\u001b[49m\u001b[43m \u001b[49m\u001b[43mcause\u001b[49m\u001b[38;5;241;43m=\u001b[39;49m\u001b[43me\u001b[49m\u001b[43m)\u001b[49m\n",
      "File \u001b[0;32m~/projects/l2hmc-qcd/.venv/lib/python3.10/site-packages/omegaconf/base.py:190\u001b[0m, in \u001b[0;36mNode._format_and_raise\u001b[0;34m(self, key, value, cause, type_override)\u001b[0m\n\u001b[1;32m    187\u001b[0m \u001b[38;5;28;01mdef\u001b[39;00m \u001b[38;5;21m_format_and_raise\u001b[39m(\n\u001b[1;32m    188\u001b[0m     \u001b[38;5;28mself\u001b[39m, key: Any, value: Any, cause: \u001b[38;5;167;01mException\u001b[39;00m, type_override: Any \u001b[38;5;241m=\u001b[39m \u001b[38;5;28;01mNone\u001b[39;00m\n\u001b[1;32m    189\u001b[0m ) \u001b[38;5;241m-\u001b[39m\u001b[38;5;241m>\u001b[39m \u001b[38;5;28;01mNone\u001b[39;00m:\n\u001b[0;32m--> 190\u001b[0m     \u001b[43mformat_and_raise\u001b[49m\u001b[43m(\u001b[49m\n\u001b[1;32m    191\u001b[0m \u001b[43m        \u001b[49m\u001b[43mnode\u001b[49m\u001b[38;5;241;43m=\u001b[39;49m\u001b[38;5;28;43mself\u001b[39;49m\u001b[43m,\u001b[49m\n\u001b[1;32m    192\u001b[0m \u001b[43m        \u001b[49m\u001b[43mkey\u001b[49m\u001b[38;5;241;43m=\u001b[39;49m\u001b[43mkey\u001b[49m\u001b[43m,\u001b[49m\n\u001b[1;32m    193\u001b[0m \u001b[43m        \u001b[49m\u001b[43mvalue\u001b[49m\u001b[38;5;241;43m=\u001b[39;49m\u001b[43mvalue\u001b[49m\u001b[43m,\u001b[49m\n\u001b[1;32m    194\u001b[0m \u001b[43m        \u001b[49m\u001b[43mmsg\u001b[49m\u001b[38;5;241;43m=\u001b[39;49m\u001b[38;5;28;43mstr\u001b[39;49m\u001b[43m(\u001b[49m\u001b[43mcause\u001b[49m\u001b[43m)\u001b[49m\u001b[43m,\u001b[49m\n\u001b[1;32m    195\u001b[0m \u001b[43m        \u001b[49m\u001b[43mcause\u001b[49m\u001b[38;5;241;43m=\u001b[39;49m\u001b[43mcause\u001b[49m\u001b[43m,\u001b[49m\n\u001b[1;32m    196\u001b[0m \u001b[43m        \u001b[49m\u001b[43mtype_override\u001b[49m\u001b[38;5;241;43m=\u001b[39;49m\u001b[43mtype_override\u001b[49m\u001b[43m,\u001b[49m\n\u001b[1;32m    197\u001b[0m \u001b[43m    \u001b[49m\u001b[43m)\u001b[49m\n\u001b[1;32m    198\u001b[0m     \u001b[38;5;28;01massert\u001b[39;00m \u001b[38;5;28;01mFalse\u001b[39;00m\n",
      "File \u001b[0;32m~/projects/l2hmc-qcd/.venv/lib/python3.10/site-packages/omegaconf/_utils.py:738\u001b[0m, in \u001b[0;36mformat_and_raise\u001b[0;34m(node, key, value, msg, cause, type_override)\u001b[0m\n\u001b[1;32m    737\u001b[0m         ex\u001b[38;5;241m.\u001b[39m\u001b[38;5;18m__dict__\u001b[39m \u001b[38;5;241m=\u001b[39m copy\u001b[38;5;241m.\u001b[39mdeepcopy(cause\u001b[38;5;241m.\u001b[39m\u001b[38;5;18m__dict__\u001b[39m)\n\u001b[0;32m--> 738\u001b[0m     \u001b[43m_raise\u001b[49m\u001b[43m(\u001b[49m\u001b[43mex\u001b[49m\u001b[43m,\u001b[49m\u001b[43m \u001b[49m\u001b[43mcause\u001b[49m\u001b[43m)\u001b[49m\n\u001b[1;32m    740\u001b[0m object_type: Optional[Type[Any]]\n",
      "File \u001b[0;32m~/projects/l2hmc-qcd/.venv/lib/python3.10/site-packages/omegaconf/_utils.py:716\u001b[0m, in \u001b[0;36m_raise\u001b[0;34m(ex, cause)\u001b[0m\n\u001b[1;32m    715\u001b[0m     ex\u001b[38;5;241m.\u001b[39m__cause__ \u001b[38;5;241m=\u001b[39m \u001b[38;5;28;01mNone\u001b[39;00m\n\u001b[0;32m--> 716\u001b[0m \u001b[38;5;28;01mraise\u001b[39;00m ex\u001b[38;5;241m.\u001b[39mwith_traceback(sys\u001b[38;5;241m.\u001b[39mexc_info()[\u001b[38;5;241m2\u001b[39m])\n",
      "File \u001b[0;32m~/projects/l2hmc-qcd/.venv/lib/python3.10/site-packages/omegaconf/basecontainer.py:450\u001b[0m, in \u001b[0;36mBaseContainer.merge_with\u001b[0;34m(self, *others)\u001b[0m\n\u001b[1;32m    449\u001b[0m \u001b[38;5;28;01mtry\u001b[39;00m:\n\u001b[0;32m--> 450\u001b[0m     \u001b[38;5;28;43mself\u001b[39;49m\u001b[38;5;241;43m.\u001b[39;49m\u001b[43m_merge_with\u001b[49m\u001b[43m(\u001b[49m\u001b[38;5;241;43m*\u001b[39;49m\u001b[43mothers\u001b[49m\u001b[43m)\u001b[49m\n\u001b[1;32m    451\u001b[0m \u001b[38;5;28;01mexcept\u001b[39;00m \u001b[38;5;167;01mException\u001b[39;00m \u001b[38;5;28;01mas\u001b[39;00m e:\n",
      "File \u001b[0;32m~/projects/l2hmc-qcd/.venv/lib/python3.10/site-packages/omegaconf/basecontainer.py:474\u001b[0m, in \u001b[0;36mBaseContainer._merge_with\u001b[0;34m(self, *others)\u001b[0m\n\u001b[1;32m    473\u001b[0m \u001b[38;5;28;01mif\u001b[39;00m \u001b[38;5;28misinstance\u001b[39m(\u001b[38;5;28mself\u001b[39m, DictConfig) \u001b[38;5;129;01mand\u001b[39;00m \u001b[38;5;28misinstance\u001b[39m(other, DictConfig):\n\u001b[0;32m--> 474\u001b[0m     \u001b[43mBaseContainer\u001b[49m\u001b[38;5;241;43m.\u001b[39;49m\u001b[43m_map_merge\u001b[49m\u001b[43m(\u001b[49m\u001b[38;5;28;43mself\u001b[39;49m\u001b[43m,\u001b[49m\u001b[43m \u001b[49m\u001b[43mother\u001b[49m\u001b[43m)\u001b[49m\n\u001b[1;32m    475\u001b[0m \u001b[38;5;28;01melif\u001b[39;00m \u001b[38;5;28misinstance\u001b[39m(\u001b[38;5;28mself\u001b[39m, ListConfig) \u001b[38;5;129;01mand\u001b[39;00m \u001b[38;5;28misinstance\u001b[39m(other, ListConfig):\n",
      "File \u001b[0;32m~/projects/l2hmc-qcd/.venv/lib/python3.10/site-packages/omegaconf/basecontainer.py:392\u001b[0m, in \u001b[0;36mBaseContainer._map_merge\u001b[0;34m(dest, src)\u001b[0m\n\u001b[1;32m    391\u001b[0m         \u001b[38;5;28;01melse\u001b[39;00m:\n\u001b[0;32m--> 392\u001b[0m             dest[key] \u001b[38;5;241m=\u001b[39m src\u001b[38;5;241m.\u001b[39m_get_node(key)\n\u001b[1;32m    394\u001b[0m _update_types(node\u001b[38;5;241m=\u001b[39mdest, ref_type\u001b[38;5;241m=\u001b[39msrc_ref_type, object_type\u001b[38;5;241m=\u001b[39msrc_type)\n",
      "File \u001b[0;32m~/projects/l2hmc-qcd/.venv/lib/python3.10/site-packages/omegaconf/dictconfig.py:310\u001b[0m, in \u001b[0;36mDictConfig.__setitem__\u001b[0;34m(self, key, value)\u001b[0m\n\u001b[1;32m    309\u001b[0m \u001b[38;5;28;01mexcept\u001b[39;00m \u001b[38;5;167;01mAttributeError\u001b[39;00m \u001b[38;5;28;01mas\u001b[39;00m e:\n\u001b[0;32m--> 310\u001b[0m     \u001b[38;5;28;43mself\u001b[39;49m\u001b[38;5;241;43m.\u001b[39;49m\u001b[43m_format_and_raise\u001b[49m\u001b[43m(\u001b[49m\n\u001b[1;32m    311\u001b[0m \u001b[43m        \u001b[49m\u001b[43mkey\u001b[49m\u001b[38;5;241;43m=\u001b[39;49m\u001b[43mkey\u001b[49m\u001b[43m,\u001b[49m\u001b[43m \u001b[49m\u001b[43mvalue\u001b[49m\u001b[38;5;241;43m=\u001b[39;49m\u001b[43mvalue\u001b[49m\u001b[43m,\u001b[49m\u001b[43m \u001b[49m\u001b[43mtype_override\u001b[49m\u001b[38;5;241;43m=\u001b[39;49m\u001b[43mConfigKeyError\u001b[49m\u001b[43m,\u001b[49m\u001b[43m \u001b[49m\u001b[43mcause\u001b[49m\u001b[38;5;241;43m=\u001b[39;49m\u001b[43me\u001b[49m\n\u001b[1;32m    312\u001b[0m \u001b[43m    \u001b[49m\u001b[43m)\u001b[49m\n\u001b[1;32m    313\u001b[0m \u001b[38;5;28;01mexcept\u001b[39;00m \u001b[38;5;167;01mException\u001b[39;00m \u001b[38;5;28;01mas\u001b[39;00m e:\n",
      "File \u001b[0;32m~/projects/l2hmc-qcd/.venv/lib/python3.10/site-packages/omegaconf/base.py:190\u001b[0m, in \u001b[0;36mNode._format_and_raise\u001b[0;34m(self, key, value, cause, type_override)\u001b[0m\n\u001b[1;32m    187\u001b[0m \u001b[38;5;28;01mdef\u001b[39;00m \u001b[38;5;21m_format_and_raise\u001b[39m(\n\u001b[1;32m    188\u001b[0m     \u001b[38;5;28mself\u001b[39m, key: Any, value: Any, cause: \u001b[38;5;167;01mException\u001b[39;00m, type_override: Any \u001b[38;5;241m=\u001b[39m \u001b[38;5;28;01mNone\u001b[39;00m\n\u001b[1;32m    189\u001b[0m ) \u001b[38;5;241m-\u001b[39m\u001b[38;5;241m>\u001b[39m \u001b[38;5;28;01mNone\u001b[39;00m:\n\u001b[0;32m--> 190\u001b[0m     \u001b[43mformat_and_raise\u001b[49m\u001b[43m(\u001b[49m\n\u001b[1;32m    191\u001b[0m \u001b[43m        \u001b[49m\u001b[43mnode\u001b[49m\u001b[38;5;241;43m=\u001b[39;49m\u001b[38;5;28;43mself\u001b[39;49m\u001b[43m,\u001b[49m\n\u001b[1;32m    192\u001b[0m \u001b[43m        \u001b[49m\u001b[43mkey\u001b[49m\u001b[38;5;241;43m=\u001b[39;49m\u001b[43mkey\u001b[49m\u001b[43m,\u001b[49m\n\u001b[1;32m    193\u001b[0m \u001b[43m        \u001b[49m\u001b[43mvalue\u001b[49m\u001b[38;5;241;43m=\u001b[39;49m\u001b[43mvalue\u001b[49m\u001b[43m,\u001b[49m\n\u001b[1;32m    194\u001b[0m \u001b[43m        \u001b[49m\u001b[43mmsg\u001b[49m\u001b[38;5;241;43m=\u001b[39;49m\u001b[38;5;28;43mstr\u001b[39;49m\u001b[43m(\u001b[49m\u001b[43mcause\u001b[49m\u001b[43m)\u001b[49m\u001b[43m,\u001b[49m\n\u001b[1;32m    195\u001b[0m \u001b[43m        \u001b[49m\u001b[43mcause\u001b[49m\u001b[38;5;241;43m=\u001b[39;49m\u001b[43mcause\u001b[49m\u001b[43m,\u001b[49m\n\u001b[1;32m    196\u001b[0m \u001b[43m        \u001b[49m\u001b[43mtype_override\u001b[49m\u001b[38;5;241;43m=\u001b[39;49m\u001b[43mtype_override\u001b[49m\u001b[43m,\u001b[49m\n\u001b[1;32m    197\u001b[0m \u001b[43m    \u001b[49m\u001b[43m)\u001b[49m\n\u001b[1;32m    198\u001b[0m     \u001b[38;5;28;01massert\u001b[39;00m \u001b[38;5;28;01mFalse\u001b[39;00m\n",
      "File \u001b[0;32m~/projects/l2hmc-qcd/.venv/lib/python3.10/site-packages/omegaconf/_utils.py:738\u001b[0m, in \u001b[0;36mformat_and_raise\u001b[0;34m(node, key, value, msg, cause, type_override)\u001b[0m\n\u001b[1;32m    737\u001b[0m         ex\u001b[38;5;241m.\u001b[39m\u001b[38;5;18m__dict__\u001b[39m \u001b[38;5;241m=\u001b[39m copy\u001b[38;5;241m.\u001b[39mdeepcopy(cause\u001b[38;5;241m.\u001b[39m\u001b[38;5;18m__dict__\u001b[39m)\n\u001b[0;32m--> 738\u001b[0m     \u001b[43m_raise\u001b[49m\u001b[43m(\u001b[49m\u001b[43mex\u001b[49m\u001b[43m,\u001b[49m\u001b[43m \u001b[49m\u001b[43mcause\u001b[49m\u001b[43m)\u001b[49m\n\u001b[1;32m    740\u001b[0m object_type: Optional[Type[Any]]\n",
      "File \u001b[0;32m~/projects/l2hmc-qcd/.venv/lib/python3.10/site-packages/omegaconf/_utils.py:716\u001b[0m, in \u001b[0;36m_raise\u001b[0;34m(ex, cause)\u001b[0m\n\u001b[1;32m    715\u001b[0m     ex\u001b[38;5;241m.\u001b[39m__cause__ \u001b[38;5;241m=\u001b[39m \u001b[38;5;28;01mNone\u001b[39;00m\n\u001b[0;32m--> 716\u001b[0m \u001b[38;5;28;01mraise\u001b[39;00m ex\u001b[38;5;241m.\u001b[39mwith_traceback(sys\u001b[38;5;241m.\u001b[39mexc_info()[\u001b[38;5;241m2\u001b[39m])\n",
      "File \u001b[0;32m~/projects/l2hmc-qcd/.venv/lib/python3.10/site-packages/omegaconf/dictconfig.py:308\u001b[0m, in \u001b[0;36mDictConfig.__setitem__\u001b[0;34m(self, key, value)\u001b[0m\n\u001b[1;32m    307\u001b[0m \u001b[38;5;28;01mtry\u001b[39;00m:\n\u001b[0;32m--> 308\u001b[0m     \u001b[38;5;28;43mself\u001b[39;49m\u001b[38;5;241;43m.\u001b[39;49m\u001b[43m__set_impl\u001b[49m\u001b[43m(\u001b[49m\u001b[43mkey\u001b[49m\u001b[38;5;241;43m=\u001b[39;49m\u001b[43mkey\u001b[49m\u001b[43m,\u001b[49m\u001b[43m \u001b[49m\u001b[43mvalue\u001b[49m\u001b[38;5;241;43m=\u001b[39;49m\u001b[43mvalue\u001b[49m\u001b[43m)\u001b[49m\n\u001b[1;32m    309\u001b[0m \u001b[38;5;28;01mexcept\u001b[39;00m \u001b[38;5;167;01mAttributeError\u001b[39;00m \u001b[38;5;28;01mas\u001b[39;00m e:\n",
      "File \u001b[0;32m~/projects/l2hmc-qcd/.venv/lib/python3.10/site-packages/omegaconf/dictconfig.py:318\u001b[0m, in \u001b[0;36mDictConfig.__set_impl\u001b[0;34m(self, key, value)\u001b[0m\n\u001b[1;32m    317\u001b[0m key \u001b[38;5;241m=\u001b[39m \u001b[38;5;28mself\u001b[39m\u001b[38;5;241m.\u001b[39m_validate_and_normalize_key(key)\n\u001b[0;32m--> 318\u001b[0m \u001b[38;5;28;43mself\u001b[39;49m\u001b[38;5;241;43m.\u001b[39;49m\u001b[43m_set_item_impl\u001b[49m\u001b[43m(\u001b[49m\u001b[43mkey\u001b[49m\u001b[43m,\u001b[49m\u001b[43m \u001b[49m\u001b[43mvalue\u001b[49m\u001b[43m)\u001b[49m\n",
      "File \u001b[0;32m~/projects/l2hmc-qcd/.venv/lib/python3.10/site-packages/omegaconf/basecontainer.py:507\u001b[0m, in \u001b[0;36mBaseContainer._set_item_impl\u001b[0;34m(self, key, value)\u001b[0m\n\u001b[1;32m    506\u001b[0m     value\u001b[38;5;241m.\u001b[39m_set_key(key)\n\u001b[0;32m--> 507\u001b[0m     \u001b[38;5;28;43mself\u001b[39;49m\u001b[38;5;241;43m.\u001b[39;49m\u001b[43m_validate_set\u001b[49m\u001b[43m(\u001b[49m\u001b[43mkey\u001b[49m\u001b[43m,\u001b[49m\u001b[43m \u001b[49m\u001b[43mvalue\u001b[49m\u001b[43m)\u001b[49m\n\u001b[1;32m    508\u001b[0m \u001b[38;5;28;01mfinally\u001b[39;00m:\n",
      "File \u001b[0;32m~/projects/l2hmc-qcd/.venv/lib/python3.10/site-packages/omegaconf/dictconfig.py:180\u001b[0m, in \u001b[0;36mDictConfig._validate_set\u001b[0;34m(self, key, value)\u001b[0m\n\u001b[1;32m    178\u001b[0m     \u001b[38;5;28;01mreturn\u001b[39;00m\n\u001b[0;32m--> 180\u001b[0m target \u001b[38;5;241m=\u001b[39m \u001b[38;5;28;43mself\u001b[39;49m\u001b[38;5;241;43m.\u001b[39;49m\u001b[43m_get_node\u001b[49m\u001b[43m(\u001b[49m\u001b[43mkey\u001b[49m\u001b[43m)\u001b[49m \u001b[38;5;28;01mif\u001b[39;00m key \u001b[38;5;129;01mis\u001b[39;00m \u001b[38;5;129;01mnot\u001b[39;00m \u001b[38;5;28;01mNone\u001b[39;00m \u001b[38;5;28;01melse\u001b[39;00m \u001b[38;5;28mself\u001b[39m\n\u001b[1;32m    182\u001b[0m target_has_ref_type \u001b[38;5;241m=\u001b[39m \u001b[38;5;28misinstance\u001b[39m(\n\u001b[1;32m    183\u001b[0m     target, DictConfig\n\u001b[1;32m    184\u001b[0m ) \u001b[38;5;129;01mand\u001b[39;00m target\u001b[38;5;241m.\u001b[39m_metadata\u001b[38;5;241m.\u001b[39mref_type \u001b[38;5;129;01mnot\u001b[39;00m \u001b[38;5;129;01min\u001b[39;00m (Any, \u001b[38;5;28mdict\u001b[39m)\n",
      "File \u001b[0;32m~/projects/l2hmc-qcd/.venv/lib/python3.10/site-packages/omegaconf/dictconfig.py:465\u001b[0m, in \u001b[0;36mDictConfig._get_node\u001b[0;34m(self, key, validate_access, throw_on_missing_value, throw_on_missing_key)\u001b[0m\n\u001b[1;32m    464\u001b[0m \u001b[38;5;28;01mif\u001b[39;00m validate_access:\n\u001b[0;32m--> 465\u001b[0m     \u001b[38;5;28;43mself\u001b[39;49m\u001b[38;5;241;43m.\u001b[39;49m\u001b[43m_validate_get\u001b[49m\u001b[43m(\u001b[49m\u001b[43mkey\u001b[49m\u001b[43m)\u001b[49m\n\u001b[1;32m    467\u001b[0m value: Optional[Node] \u001b[38;5;241m=\u001b[39m \u001b[38;5;28mself\u001b[39m\u001b[38;5;241m.\u001b[39m\u001b[38;5;18m__dict__\u001b[39m[\u001b[38;5;124m\"\u001b[39m\u001b[38;5;124m_content\u001b[39m\u001b[38;5;124m\"\u001b[39m]\u001b[38;5;241m.\u001b[39mget(key)\n",
      "File \u001b[0;32m~/projects/l2hmc-qcd/.venv/lib/python3.10/site-packages/omegaconf/dictconfig.py:166\u001b[0m, in \u001b[0;36mDictConfig._validate_get\u001b[0;34m(self, key, value)\u001b[0m\n\u001b[1;32m    165\u001b[0m     msg \u001b[38;5;241m=\u001b[39m \u001b[38;5;124mf\u001b[39m\u001b[38;5;124m\"\u001b[39m\u001b[38;5;124mKey \u001b[39m\u001b[38;5;124m'\u001b[39m\u001b[38;5;132;01m{\u001b[39;00mkey\u001b[38;5;132;01m}\u001b[39;00m\u001b[38;5;124m'\u001b[39m\u001b[38;5;124m is not in struct\u001b[39m\u001b[38;5;124m\"\u001b[39m\n\u001b[0;32m--> 166\u001b[0m \u001b[38;5;28;43mself\u001b[39;49m\u001b[38;5;241;43m.\u001b[39;49m\u001b[43m_format_and_raise\u001b[49m\u001b[43m(\u001b[49m\n\u001b[1;32m    167\u001b[0m \u001b[43m    \u001b[49m\u001b[43mkey\u001b[49m\u001b[38;5;241;43m=\u001b[39;49m\u001b[43mkey\u001b[49m\u001b[43m,\u001b[49m\u001b[43m \u001b[49m\u001b[43mvalue\u001b[49m\u001b[38;5;241;43m=\u001b[39;49m\u001b[43mvalue\u001b[49m\u001b[43m,\u001b[49m\u001b[43m \u001b[49m\u001b[43mcause\u001b[49m\u001b[38;5;241;43m=\u001b[39;49m\u001b[43mConfigAttributeError\u001b[49m\u001b[43m(\u001b[49m\u001b[43mmsg\u001b[49m\u001b[43m)\u001b[49m\n\u001b[1;32m    168\u001b[0m \u001b[43m\u001b[49m\u001b[43m)\u001b[49m\n",
      "File \u001b[0;32m~/projects/l2hmc-qcd/.venv/lib/python3.10/site-packages/omegaconf/base.py:190\u001b[0m, in \u001b[0;36mNode._format_and_raise\u001b[0;34m(self, key, value, cause, type_override)\u001b[0m\n\u001b[1;32m    187\u001b[0m \u001b[38;5;28;01mdef\u001b[39;00m \u001b[38;5;21m_format_and_raise\u001b[39m(\n\u001b[1;32m    188\u001b[0m     \u001b[38;5;28mself\u001b[39m, key: Any, value: Any, cause: \u001b[38;5;167;01mException\u001b[39;00m, type_override: Any \u001b[38;5;241m=\u001b[39m \u001b[38;5;28;01mNone\u001b[39;00m\n\u001b[1;32m    189\u001b[0m ) \u001b[38;5;241m-\u001b[39m\u001b[38;5;241m>\u001b[39m \u001b[38;5;28;01mNone\u001b[39;00m:\n\u001b[0;32m--> 190\u001b[0m     \u001b[43mformat_and_raise\u001b[49m\u001b[43m(\u001b[49m\n\u001b[1;32m    191\u001b[0m \u001b[43m        \u001b[49m\u001b[43mnode\u001b[49m\u001b[38;5;241;43m=\u001b[39;49m\u001b[38;5;28;43mself\u001b[39;49m\u001b[43m,\u001b[49m\n\u001b[1;32m    192\u001b[0m \u001b[43m        \u001b[49m\u001b[43mkey\u001b[49m\u001b[38;5;241;43m=\u001b[39;49m\u001b[43mkey\u001b[49m\u001b[43m,\u001b[49m\n\u001b[1;32m    193\u001b[0m \u001b[43m        \u001b[49m\u001b[43mvalue\u001b[49m\u001b[38;5;241;43m=\u001b[39;49m\u001b[43mvalue\u001b[49m\u001b[43m,\u001b[49m\n\u001b[1;32m    194\u001b[0m \u001b[43m        \u001b[49m\u001b[43mmsg\u001b[49m\u001b[38;5;241;43m=\u001b[39;49m\u001b[38;5;28;43mstr\u001b[39;49m\u001b[43m(\u001b[49m\u001b[43mcause\u001b[49m\u001b[43m)\u001b[49m\u001b[43m,\u001b[49m\n\u001b[1;32m    195\u001b[0m \u001b[43m        \u001b[49m\u001b[43mcause\u001b[49m\u001b[38;5;241;43m=\u001b[39;49m\u001b[43mcause\u001b[49m\u001b[43m,\u001b[49m\n\u001b[1;32m    196\u001b[0m \u001b[43m        \u001b[49m\u001b[43mtype_override\u001b[49m\u001b[38;5;241;43m=\u001b[39;49m\u001b[43mtype_override\u001b[49m\u001b[43m,\u001b[49m\n\u001b[1;32m    197\u001b[0m \u001b[43m    \u001b[49m\u001b[43m)\u001b[49m\n\u001b[1;32m    198\u001b[0m     \u001b[38;5;28;01massert\u001b[39;00m \u001b[38;5;28;01mFalse\u001b[39;00m\n",
      "File \u001b[0;32m~/projects/l2hmc-qcd/.venv/lib/python3.10/site-packages/omegaconf/_utils.py:818\u001b[0m, in \u001b[0;36mformat_and_raise\u001b[0;34m(node, key, value, msg, cause, type_override)\u001b[0m\n\u001b[1;32m    816\u001b[0m     ex\u001b[38;5;241m.\u001b[39mref_type_str \u001b[38;5;241m=\u001b[39m ref_type_str\n\u001b[0;32m--> 818\u001b[0m \u001b[43m_raise\u001b[49m\u001b[43m(\u001b[49m\u001b[43mex\u001b[49m\u001b[43m,\u001b[49m\u001b[43m \u001b[49m\u001b[43mcause\u001b[49m\u001b[43m)\u001b[49m\n",
      "File \u001b[0;32m~/projects/l2hmc-qcd/.venv/lib/python3.10/site-packages/omegaconf/_utils.py:716\u001b[0m, in \u001b[0;36m_raise\u001b[0;34m(ex, cause)\u001b[0m\n\u001b[1;32m    715\u001b[0m     ex\u001b[38;5;241m.\u001b[39m__cause__ \u001b[38;5;241m=\u001b[39m \u001b[38;5;28;01mNone\u001b[39;00m\n\u001b[0;32m--> 716\u001b[0m \u001b[38;5;28;01mraise\u001b[39;00m ex\u001b[38;5;241m.\u001b[39mwith_traceback(sys\u001b[38;5;241m.\u001b[39mexc_info()[\u001b[38;5;241m2\u001b[39m])\n",
      "\u001b[0;31mConfigKeyError\u001b[0m: Key '_target_' not in 'ExperimentConfig'\n    full_key: _target_\n    object_type=ExperimentConfig",
      "\nThe above exception was the direct cause of the following exception:\n",
      "\u001b[0;31mConfigCompositionException\u001b[0m                Traceback (most recent call last)",
      "Input \u001b[0;32mIn [6]\u001b[0m, in \u001b[0;36m<cell line: 1>\u001b[0;34m()\u001b[0m\n\u001b[0;32m----> 1\u001b[0m conf \u001b[38;5;241m=\u001b[39m \u001b[43mcompose\u001b[49m\u001b[43m(\u001b[49m\u001b[43mconfig_name\u001b[49m\u001b[38;5;241;43m=\u001b[39;49m\u001b[38;5;124;43m'\u001b[39;49m\u001b[38;5;124;43mconfig\u001b[39;49m\u001b[38;5;124;43m'\u001b[39;49m\u001b[43m)\u001b[49m\n",
      "File \u001b[0;32m~/projects/l2hmc-qcd/.venv/lib/python3.10/site-packages/hydra/compose.py:33\u001b[0m, in \u001b[0;36mcompose\u001b[0;34m(config_name, overrides, return_hydra_config, strict)\u001b[0m\n\u001b[1;32m     31\u001b[0m gh \u001b[38;5;241m=\u001b[39m GlobalHydra\u001b[38;5;241m.\u001b[39minstance()\n\u001b[1;32m     32\u001b[0m \u001b[38;5;28;01massert\u001b[39;00m gh\u001b[38;5;241m.\u001b[39mhydra \u001b[38;5;129;01mis\u001b[39;00m \u001b[38;5;129;01mnot\u001b[39;00m \u001b[38;5;28;01mNone\u001b[39;00m\n\u001b[0;32m---> 33\u001b[0m cfg \u001b[38;5;241m=\u001b[39m \u001b[43mgh\u001b[49m\u001b[38;5;241;43m.\u001b[39;49m\u001b[43mhydra\u001b[49m\u001b[38;5;241;43m.\u001b[39;49m\u001b[43mcompose_config\u001b[49m\u001b[43m(\u001b[49m\n\u001b[1;32m     34\u001b[0m \u001b[43m    \u001b[49m\u001b[43mconfig_name\u001b[49m\u001b[38;5;241;43m=\u001b[39;49m\u001b[43mconfig_name\u001b[49m\u001b[43m,\u001b[49m\n\u001b[1;32m     35\u001b[0m \u001b[43m    \u001b[49m\u001b[43moverrides\u001b[49m\u001b[38;5;241;43m=\u001b[39;49m\u001b[43moverrides\u001b[49m\u001b[43m,\u001b[49m\n\u001b[1;32m     36\u001b[0m \u001b[43m    \u001b[49m\u001b[43mrun_mode\u001b[49m\u001b[38;5;241;43m=\u001b[39;49m\u001b[43mRunMode\u001b[49m\u001b[38;5;241;43m.\u001b[39;49m\u001b[43mRUN\u001b[49m\u001b[43m,\u001b[49m\n\u001b[1;32m     37\u001b[0m \u001b[43m    \u001b[49m\u001b[43mfrom_shell\u001b[49m\u001b[38;5;241;43m=\u001b[39;49m\u001b[38;5;28;43;01mFalse\u001b[39;49;00m\u001b[43m,\u001b[49m\n\u001b[1;32m     38\u001b[0m \u001b[43m    \u001b[49m\u001b[43mwith_log_configuration\u001b[49m\u001b[38;5;241;43m=\u001b[39;49m\u001b[38;5;28;43;01mFalse\u001b[39;49;00m\u001b[43m,\u001b[49m\n\u001b[1;32m     39\u001b[0m \u001b[43m\u001b[49m\u001b[43m)\u001b[49m\n\u001b[1;32m     40\u001b[0m \u001b[38;5;28;01massert\u001b[39;00m \u001b[38;5;28misinstance\u001b[39m(cfg, DictConfig)\n\u001b[1;32m     42\u001b[0m \u001b[38;5;28;01mif\u001b[39;00m \u001b[38;5;129;01mnot\u001b[39;00m return_hydra_config:\n",
      "File \u001b[0;32m~/projects/l2hmc-qcd/.venv/lib/python3.10/site-packages/hydra/_internal/hydra.py:559\u001b[0m, in \u001b[0;36mHydra.compose_config\u001b[0;34m(self, config_name, overrides, run_mode, with_log_configuration, from_shell)\u001b[0m\n\u001b[1;32m    542\u001b[0m \u001b[38;5;28;01mdef\u001b[39;00m \u001b[38;5;21mcompose_config\u001b[39m(\n\u001b[1;32m    543\u001b[0m     \u001b[38;5;28mself\u001b[39m,\n\u001b[1;32m    544\u001b[0m     config_name: Optional[\u001b[38;5;28mstr\u001b[39m],\n\u001b[0;32m   (...)\u001b[0m\n\u001b[1;32m    548\u001b[0m     from_shell: \u001b[38;5;28mbool\u001b[39m \u001b[38;5;241m=\u001b[39m \u001b[38;5;28;01mTrue\u001b[39;00m,\n\u001b[1;32m    549\u001b[0m ) \u001b[38;5;241m-\u001b[39m\u001b[38;5;241m>\u001b[39m DictConfig:\n\u001b[1;32m    550\u001b[0m     \u001b[38;5;124;03m\"\"\"\u001b[39;00m\n\u001b[1;32m    551\u001b[0m \u001b[38;5;124;03m    :param config_name:\u001b[39;00m\n\u001b[1;32m    552\u001b[0m \u001b[38;5;124;03m    :param overrides:\u001b[39;00m\n\u001b[0;32m   (...)\u001b[0m\n\u001b[1;32m    556\u001b[0m \u001b[38;5;124;03m    :return:\u001b[39;00m\n\u001b[1;32m    557\u001b[0m \u001b[38;5;124;03m    \"\"\"\u001b[39;00m\n\u001b[0;32m--> 559\u001b[0m     cfg \u001b[38;5;241m=\u001b[39m \u001b[38;5;28;43mself\u001b[39;49m\u001b[38;5;241;43m.\u001b[39;49m\u001b[43mconfig_loader\u001b[49m\u001b[38;5;241;43m.\u001b[39;49m\u001b[43mload_configuration\u001b[49m\u001b[43m(\u001b[49m\n\u001b[1;32m    560\u001b[0m \u001b[43m        \u001b[49m\u001b[43mconfig_name\u001b[49m\u001b[38;5;241;43m=\u001b[39;49m\u001b[43mconfig_name\u001b[49m\u001b[43m,\u001b[49m\n\u001b[1;32m    561\u001b[0m \u001b[43m        \u001b[49m\u001b[43moverrides\u001b[49m\u001b[38;5;241;43m=\u001b[39;49m\u001b[43moverrides\u001b[49m\u001b[43m,\u001b[49m\n\u001b[1;32m    562\u001b[0m \u001b[43m        \u001b[49m\u001b[43mrun_mode\u001b[49m\u001b[38;5;241;43m=\u001b[39;49m\u001b[43mrun_mode\u001b[49m\u001b[43m,\u001b[49m\n\u001b[1;32m    563\u001b[0m \u001b[43m        \u001b[49m\u001b[43mfrom_shell\u001b[49m\u001b[38;5;241;43m=\u001b[39;49m\u001b[43mfrom_shell\u001b[49m\u001b[43m,\u001b[49m\n\u001b[1;32m    564\u001b[0m \u001b[43m    \u001b[49m\u001b[43m)\u001b[49m\n\u001b[1;32m    565\u001b[0m     \u001b[38;5;28;01mif\u001b[39;00m with_log_configuration:\n\u001b[1;32m    566\u001b[0m         configure_log(cfg\u001b[38;5;241m.\u001b[39mhydra\u001b[38;5;241m.\u001b[39mhydra_logging, cfg\u001b[38;5;241m.\u001b[39mhydra\u001b[38;5;241m.\u001b[39mverbose)\n",
      "File \u001b[0;32m~/projects/l2hmc-qcd/.venv/lib/python3.10/site-packages/hydra/_internal/config_loader_impl.py:141\u001b[0m, in \u001b[0;36mConfigLoaderImpl.load_configuration\u001b[0;34m(self, config_name, overrides, run_mode, from_shell)\u001b[0m\n\u001b[1;32m    133\u001b[0m \u001b[38;5;28;01mdef\u001b[39;00m \u001b[38;5;21mload_configuration\u001b[39m(\n\u001b[1;32m    134\u001b[0m     \u001b[38;5;28mself\u001b[39m,\n\u001b[1;32m    135\u001b[0m     config_name: Optional[\u001b[38;5;28mstr\u001b[39m],\n\u001b[0;32m   (...)\u001b[0m\n\u001b[1;32m    138\u001b[0m     from_shell: \u001b[38;5;28mbool\u001b[39m \u001b[38;5;241m=\u001b[39m \u001b[38;5;28;01mTrue\u001b[39;00m,\n\u001b[1;32m    139\u001b[0m ) \u001b[38;5;241m-\u001b[39m\u001b[38;5;241m>\u001b[39m DictConfig:\n\u001b[1;32m    140\u001b[0m     \u001b[38;5;28;01mtry\u001b[39;00m:\n\u001b[0;32m--> 141\u001b[0m         \u001b[38;5;28;01mreturn\u001b[39;00m \u001b[38;5;28;43mself\u001b[39;49m\u001b[38;5;241;43m.\u001b[39;49m\u001b[43m_load_configuration_impl\u001b[49m\u001b[43m(\u001b[49m\n\u001b[1;32m    142\u001b[0m \u001b[43m            \u001b[49m\u001b[43mconfig_name\u001b[49m\u001b[38;5;241;43m=\u001b[39;49m\u001b[43mconfig_name\u001b[49m\u001b[43m,\u001b[49m\n\u001b[1;32m    143\u001b[0m \u001b[43m            \u001b[49m\u001b[43moverrides\u001b[49m\u001b[38;5;241;43m=\u001b[39;49m\u001b[43moverrides\u001b[49m\u001b[43m,\u001b[49m\n\u001b[1;32m    144\u001b[0m \u001b[43m            \u001b[49m\u001b[43mrun_mode\u001b[49m\u001b[38;5;241;43m=\u001b[39;49m\u001b[43mrun_mode\u001b[49m\u001b[43m,\u001b[49m\n\u001b[1;32m    145\u001b[0m \u001b[43m            \u001b[49m\u001b[43mfrom_shell\u001b[49m\u001b[38;5;241;43m=\u001b[39;49m\u001b[43mfrom_shell\u001b[49m\u001b[43m,\u001b[49m\n\u001b[1;32m    146\u001b[0m \u001b[43m        \u001b[49m\u001b[43m)\u001b[49m\n\u001b[1;32m    147\u001b[0m     \u001b[38;5;28;01mexcept\u001b[39;00m OmegaConfBaseException \u001b[38;5;28;01mas\u001b[39;00m e:\n\u001b[1;32m    148\u001b[0m         \u001b[38;5;28;01mraise\u001b[39;00m ConfigCompositionException()\u001b[38;5;241m.\u001b[39mwith_traceback(sys\u001b[38;5;241m.\u001b[39mexc_info()[\u001b[38;5;241m2\u001b[39m]) \u001b[38;5;28;01mfrom\u001b[39;00m \u001b[38;5;21;01me\u001b[39;00m\n",
      "File \u001b[0;32m~/projects/l2hmc-qcd/.venv/lib/python3.10/site-packages/hydra/_internal/config_loader_impl.py:249\u001b[0m, in \u001b[0;36mConfigLoaderImpl._load_configuration_impl\u001b[0;34m(self, config_name, overrides, run_mode, from_shell)\u001b[0m\n\u001b[1;32m    239\u001b[0m defaults_list \u001b[38;5;241m=\u001b[39m create_defaults_list(\n\u001b[1;32m    240\u001b[0m     repo\u001b[38;5;241m=\u001b[39mcaching_repo,\n\u001b[1;32m    241\u001b[0m     config_name\u001b[38;5;241m=\u001b[39mconfig_name,\n\u001b[0;32m   (...)\u001b[0m\n\u001b[1;32m    244\u001b[0m     skip_missing\u001b[38;5;241m=\u001b[39mrun_mode \u001b[38;5;241m==\u001b[39m RunMode\u001b[38;5;241m.\u001b[39mMULTIRUN,\n\u001b[1;32m    245\u001b[0m )\n\u001b[1;32m    247\u001b[0m config_overrides \u001b[38;5;241m=\u001b[39m defaults_list\u001b[38;5;241m.\u001b[39mconfig_overrides\n\u001b[0;32m--> 249\u001b[0m cfg \u001b[38;5;241m=\u001b[39m \u001b[38;5;28;43mself\u001b[39;49m\u001b[38;5;241;43m.\u001b[39;49m\u001b[43m_compose_config_from_defaults_list\u001b[49m\u001b[43m(\u001b[49m\n\u001b[1;32m    250\u001b[0m \u001b[43m    \u001b[49m\u001b[43mdefaults\u001b[49m\u001b[38;5;241;43m=\u001b[39;49m\u001b[43mdefaults_list\u001b[49m\u001b[38;5;241;43m.\u001b[39;49m\u001b[43mdefaults\u001b[49m\u001b[43m,\u001b[49m\u001b[43m \u001b[49m\u001b[43mrepo\u001b[49m\u001b[38;5;241;43m=\u001b[39;49m\u001b[43mcaching_repo\u001b[49m\n\u001b[1;32m    251\u001b[0m \u001b[43m\u001b[49m\u001b[43m)\u001b[49m\n\u001b[1;32m    253\u001b[0m \u001b[38;5;66;03m# Set config root to struct mode.\u001b[39;00m\n\u001b[1;32m    254\u001b[0m \u001b[38;5;66;03m# Note that this will close any dictionaries (including dicts annotated as Dict[K, V].\u001b[39;00m\n\u001b[1;32m    255\u001b[0m \u001b[38;5;66;03m# One must use + to add new fields to them.\u001b[39;00m\n\u001b[1;32m    256\u001b[0m OmegaConf\u001b[38;5;241m.\u001b[39mset_struct(cfg, \u001b[38;5;28;01mTrue\u001b[39;00m)\n",
      "File \u001b[0;32m~/projects/l2hmc-qcd/.venv/lib/python3.10/site-packages/hydra/_internal/config_loader_impl.py:517\u001b[0m, in \u001b[0;36mConfigLoaderImpl._compose_config_from_defaults_list\u001b[0;34m(self, defaults, repo)\u001b[0m\n\u001b[1;32m    515\u001b[0m \u001b[38;5;28;01mwith\u001b[39;00m flag_override(cfg, \u001b[38;5;124m\"\u001b[39m\u001b[38;5;124mno_deepcopy_set_nodes\u001b[39m\u001b[38;5;124m\"\u001b[39m, \u001b[38;5;28;01mTrue\u001b[39;00m):\n\u001b[1;32m    516\u001b[0m     \u001b[38;5;28;01mfor\u001b[39;00m default \u001b[38;5;129;01min\u001b[39;00m defaults:\n\u001b[0;32m--> 517\u001b[0m         loaded \u001b[38;5;241m=\u001b[39m \u001b[38;5;28;43mself\u001b[39;49m\u001b[38;5;241;43m.\u001b[39;49m\u001b[43m_load_single_config\u001b[49m\u001b[43m(\u001b[49m\u001b[43mdefault\u001b[49m\u001b[38;5;241;43m=\u001b[39;49m\u001b[43mdefault\u001b[49m\u001b[43m,\u001b[49m\u001b[43m \u001b[49m\u001b[43mrepo\u001b[49m\u001b[38;5;241;43m=\u001b[39;49m\u001b[43mrepo\u001b[49m\u001b[43m)\u001b[49m\n\u001b[1;32m    518\u001b[0m         \u001b[38;5;28;01mtry\u001b[39;00m:\n\u001b[1;32m    519\u001b[0m             cfg\u001b[38;5;241m.\u001b[39mmerge_with(loaded\u001b[38;5;241m.\u001b[39mconfig)\n",
      "File \u001b[0;32m~/projects/l2hmc-qcd/.venv/lib/python3.10/site-packages/hydra/_internal/config_loader_impl.py:464\u001b[0m, in \u001b[0;36mConfigLoaderImpl._load_single_config\u001b[0;34m(self, default, repo)\u001b[0m\n\u001b[1;32m    462\u001b[0m             ret\u001b[38;5;241m.\u001b[39mconfig \u001b[38;5;241m=\u001b[39m merged\n\u001b[1;32m    463\u001b[0m         \u001b[38;5;28;01mexcept\u001b[39;00m OmegaConfBaseException \u001b[38;5;28;01mas\u001b[39;00m e:\n\u001b[0;32m--> 464\u001b[0m             \u001b[38;5;28;01mraise\u001b[39;00m ConfigCompositionException(\n\u001b[1;32m    465\u001b[0m                 \u001b[38;5;124mf\u001b[39m\u001b[38;5;124m\"\u001b[39m\u001b[38;5;124mError merging \u001b[39m\u001b[38;5;124m'\u001b[39m\u001b[38;5;132;01m{\u001b[39;00mconfig_path\u001b[38;5;132;01m}\u001b[39;00m\u001b[38;5;124m'\u001b[39m\u001b[38;5;124m with schema\u001b[39m\u001b[38;5;124m\"\u001b[39m\n\u001b[1;32m    466\u001b[0m             ) \u001b[38;5;28;01mfrom\u001b[39;00m \u001b[38;5;21;01me\u001b[39;00m\n\u001b[1;32m    468\u001b[0m         \u001b[38;5;28;01massert\u001b[39;00m \u001b[38;5;28misinstance\u001b[39m(merged, DictConfig)\n\u001b[1;32m    470\u001b[0m res \u001b[38;5;241m=\u001b[39m \u001b[38;5;28mself\u001b[39m\u001b[38;5;241m.\u001b[39m_embed_result_config(ret, default\u001b[38;5;241m.\u001b[39mpackage)\n",
      "\u001b[0;31mConfigCompositionException\u001b[0m: Error merging 'config' with schema"
     ]
    }
   ],
   "source": [
    "conf = compose(config_name='config')"
   ]
  },
  {
   "cell_type": "code",
   "execution_count": 14,
   "id": "afd2254a",
   "metadata": {
    "ExecuteTime": {
     "end_time": "2022-04-21T03:03:52.728112Z",
     "start_time": "2022-04-21T03:03:52.648538Z"
    }
   },
   "outputs": [
    {
     "ename": "TypeError",
     "evalue": "'NoneType' object is not iterable",
     "output_type": "error",
     "traceback": [
      "\u001b[0;31m---------------------------------------------------------------------------\u001b[0m",
      "\u001b[0;31mTypeError\u001b[0m                                 Traceback (most recent call last)",
      "Input \u001b[0;32mIn [14]\u001b[0m, in \u001b[0;36m<cell line: 1>\u001b[0;34m()\u001b[0m\n\u001b[0;32m----> 1\u001b[0m \u001b[43mprint_config\u001b[49m\u001b[43m(\u001b[49m\u001b[43mOmegaConf\u001b[49m\u001b[38;5;241;43m.\u001b[39;49m\u001b[43mresolve\u001b[49m\u001b[43m(\u001b[49m\u001b[43mOmegaConf\u001b[49m\u001b[38;5;241;43m.\u001b[39;49m\u001b[43mload\u001b[49m\u001b[43m(\u001b[49m\u001b[38;5;124;43m'\u001b[39;49m\u001b[38;5;124;43m../conf/config.yaml\u001b[39;49m\u001b[38;5;124;43m'\u001b[39;49m\u001b[43m)\u001b[49m\u001b[43m)\u001b[49m\u001b[43m)\u001b[49m\n",
      "File \u001b[0;32m~/projects/l2hmc-qcd/src/l2hmc/utils/rich.py:207\u001b[0m, in \u001b[0;36mprint_config\u001b[0;34m(config, resolve)\u001b[0m\n\u001b[1;32m    203\u001b[0m tree \u001b[38;5;241m=\u001b[39m rich\u001b[38;5;241m.\u001b[39mtree\u001b[38;5;241m.\u001b[39mTree(\u001b[38;5;124m\"\u001b[39m\u001b[38;5;124mCONFIG\u001b[39m\u001b[38;5;124m\"\u001b[39m)  \u001b[38;5;66;03m# , style=style, guide_style=style)\u001b[39;00m\n\u001b[1;32m    205\u001b[0m quee \u001b[38;5;241m=\u001b[39m []\n\u001b[0;32m--> 207\u001b[0m \u001b[38;5;28;01mfor\u001b[39;00m field \u001b[38;5;129;01min\u001b[39;00m config:\n\u001b[1;32m    208\u001b[0m     \u001b[38;5;28;01mif\u001b[39;00m field \u001b[38;5;129;01mnot\u001b[39;00m \u001b[38;5;129;01min\u001b[39;00m quee:\n\u001b[1;32m    209\u001b[0m         quee\u001b[38;5;241m.\u001b[39mappend(field)\n",
      "\u001b[0;31mTypeError\u001b[0m: 'NoneType' object is not iterable"
     ]
    }
   ],
   "source": [
    "#print_config(OmegaConf.to_object('../conf/config.yaml'))"
   ]
  },
  {
   "cell_type": "code",
   "execution_count": 4,
   "id": "9d020902",
   "metadata": {
    "ExecuteTime": {
     "end_time": "2022-04-21T02:31:56.993413Z",
     "start_time": "2022-04-21T02:31:56.956700Z"
    }
   },
   "outputs": [],
   "source": [
    "latpt = LatticeSU3pt(5, (4, 4, 4, 4))\n",
    "lattf = LatticeSU3tf(5, (4, 4, 4, 4))"
   ]
  },
  {
   "cell_type": "code",
   "execution_count": 5,
   "id": "badc4613",
   "metadata": {
    "ExecuteTime": {
     "end_time": "2022-04-21T02:31:57.670347Z",
     "start_time": "2022-04-21T02:31:57.625442Z"
    }
   },
   "outputs": [],
   "source": [
    "xpt = latpt.random()\n",
    "xnp = xpt.numpy()\n",
    "xtf = tf.constant(xnp)"
   ]
  },
  {
   "cell_type": "code",
   "execution_count": 7,
   "id": "2e30284d",
   "metadata": {
    "ExecuteTime": {
     "end_time": "2022-04-21T02:32:15.115632Z",
     "start_time": "2022-04-21T02:32:15.060684Z"
    }
   },
   "outputs": [],
   "source": [
    "wlpt = latpt.wilson_loops(xpt)\n",
    "wltf = lattf.wilson_loops(xtf)"
   ]
  },
  {
   "cell_type": "code",
   "execution_count": 8,
   "id": "f433423d",
   "metadata": {
    "ExecuteTime": {
     "end_time": "2022-04-21T02:32:26.191727Z",
     "start_time": "2022-04-21T02:32:26.150548Z"
    }
   },
   "outputs": [
    {
     "data": {
      "text/plain": [
       "0j"
      ]
     },
     "execution_count": 8,
     "metadata": {},
     "output_type": "execute_result"
    }
   ],
   "source": [
    "(wlpt.numpy() - wltf.numpy()).sum()"
   ]
  },
  {
   "cell_type": "code",
   "execution_count": 9,
   "id": "e8d760aa",
   "metadata": {
    "ExecuteTime": {
     "end_time": "2022-04-21T02:32:37.309869Z",
     "start_time": "2022-04-21T02:32:37.259583Z"
    }
   },
   "outputs": [],
   "source": [
    "plaqs_pt = latpt._plaquettes(xpt)\n",
    "plaqs_tf = lattf._plaquettes(xtf)"
   ]
  },
  {
   "cell_type": "code",
   "execution_count": 10,
   "id": "4a02c660",
   "metadata": {
    "ExecuteTime": {
     "end_time": "2022-04-21T02:36:16.732878Z",
     "start_time": "2022-04-21T02:36:16.695340Z"
    }
   },
   "outputs": [
    {
     "data": {
      "text/plain": [
       "-3.6001205e-05"
      ]
     },
     "execution_count": 10,
     "metadata": {},
     "output_type": "execute_result"
    }
   ],
   "source": [
    "(plaqs_pt.numpy() - plaqs_tf.numpy()).sum()"
   ]
  },
  {
   "cell_type": "code",
   "execution_count": 11,
   "id": "45a80cd5",
   "metadata": {
    "ExecuteTime": {
     "end_time": "2022-04-21T02:36:28.129295Z",
     "start_time": "2022-04-21T02:36:28.091287Z"
    }
   },
   "outputs": [],
   "source": [
    "qint_pt = latpt._int_charges(wlpt)\n",
    "qint_tf = lattf._int_charges(wltf)"
   ]
  },
  {
   "cell_type": "code",
   "execution_count": 12,
   "id": "cf59f17c",
   "metadata": {
    "ExecuteTime": {
     "end_time": "2022-04-21T02:36:39.377775Z",
     "start_time": "2022-04-21T02:36:39.341835Z"
    }
   },
   "outputs": [
    {
     "data": {
      "text/plain": [
       "-0.00024414062"
      ]
     },
     "execution_count": 12,
     "metadata": {},
     "output_type": "execute_result"
    }
   ],
   "source": [
    "(qint_pt.numpy() - qint_tf.numpy()).sum()"
   ]
  },
  {
   "cell_type": "code",
   "execution_count": 13,
   "id": "ae6276b4",
   "metadata": {
    "ExecuteTime": {
     "end_time": "2022-04-21T02:36:50.505727Z",
     "start_time": "2022-04-21T02:36:50.450949Z"
    }
   },
   "outputs": [],
   "source": [
    "charges_pt = latpt.charges(xpt)\n",
    "charges_tf = lattf.charges(xtf)"
   ]
  },
  {
   "cell_type": "code",
   "execution_count": 14,
   "id": "697c8385",
   "metadata": {
    "ExecuteTime": {
     "end_time": "2022-04-21T02:37:03.623095Z",
     "start_time": "2022-04-21T02:37:03.580042Z"
    }
   },
   "outputs": [
    {
     "data": {
      "text/plain": [
       "-0.00024414062"
      ]
     },
     "execution_count": 14,
     "metadata": {},
     "output_type": "execute_result"
    }
   ],
   "source": [
    "(charges_pt['qint'].numpy() - charges_tf['qint'].numpy()).sum()"
   ]
  },
  {
   "cell_type": "code",
   "execution_count": 15,
   "id": "2a480d3e",
   "metadata": {
    "ExecuteTime": {
     "end_time": "2022-04-21T02:37:14.647731Z",
     "start_time": "2022-04-21T02:37:14.611183Z"
    }
   },
   "outputs": [
    {
     "data": {
      "text/plain": [
       "-1.9073486e-05"
      ]
     },
     "execution_count": 15,
     "metadata": {},
     "output_type": "execute_result"
    }
   ],
   "source": [
    "(charges_pt['qsin'].numpy() - charges_tf['qsin'].numpy()).sum()"
   ]
  },
  {
   "cell_type": "code",
   "execution_count": 16,
   "id": "160fabd9",
   "metadata": {
    "ExecuteTime": {
     "end_time": "2022-04-21T02:37:25.873717Z",
     "start_time": "2022-04-21T02:37:25.713100Z"
    }
   },
   "outputs": [],
   "source": [
    "from l2hmc.configs import DynamicsConfig\n",
    "from l2hmc.dynamics.pytorch.dynamics import Dynamics as ptDynamics\n",
    "from l2hmc.dynamics.tensorflow.dynamics import Dynamics as tfDynamics"
   ]
  },
  {
   "cell_type": "code",
   "execution_count": 17,
   "id": "1883aa4d",
   "metadata": {
    "ExecuteTime": {
     "end_time": "2022-04-21T02:38:13.886048Z",
     "start_time": "2022-04-21T02:38:12.535937Z"
    }
   },
   "outputs": [],
   "source": [
    "from __future__ import absolute_import, print_function, annotations, division\n",
    "import os\n",
    "import hydra\n",
    "\n",
    "from typing import Optional\n",
    "from pathlib import Path\n",
    "\n",
    "from omegaconf import OmegaConf\n",
    "from hydra import (\n",
    "    initialize,\n",
    "    initialize_config_module,\n",
    "    initialize_config_dir,\n",
    "    compose\n",
    ")\n",
    "\n",
    "from l2hmc.common import get_timestamp\n",
    "from l2hmc.configs import CONF_DIR\n",
    "from l2hmc.experiment import Experiment\n",
    "from hydra.core.global_hydra import GlobalHydra\n",
    "\n",
    "from l2hmc.utils.rich import print_config\n"
   ]
  },
  {
   "cell_type": "code",
   "execution_count": 35,
   "id": "dd519b12",
   "metadata": {
    "ExecuteTime": {
     "end_time": "2022-04-21T02:57:22.533887Z",
     "start_time": "2022-04-21T02:57:21.979418Z"
    }
   },
   "outputs": [
    {
     "data": {
      "text/plain": [
       "hydra.initialize()"
      ]
     },
     "execution_count": 35,
     "metadata": {},
     "output_type": "execute_result"
    },
    {
     "ename": "ConfigCompositionException",
     "evalue": "",
     "output_type": "error",
     "traceback": [
      "\u001b[0;31m---------------------------------------------------------------------------\u001b[0m",
      "\u001b[0;31mConfigKeyError\u001b[0m                            Traceback (most recent call last)",
      "File \u001b[0;32m~/projects/l2hmc-qcd/.venv/lib/python3.10/site-packages/hydra/_internal/config_loader_impl.py:141\u001b[0m, in \u001b[0;36mConfigLoaderImpl.load_configuration\u001b[0;34m(self, config_name, overrides, run_mode, from_shell)\u001b[0m\n\u001b[1;32m    140\u001b[0m \u001b[38;5;28;01mtry\u001b[39;00m:\n\u001b[0;32m--> 141\u001b[0m     \u001b[38;5;28;01mreturn\u001b[39;00m \u001b[38;5;28;43mself\u001b[39;49m\u001b[38;5;241;43m.\u001b[39;49m\u001b[43m_load_configuration_impl\u001b[49m\u001b[43m(\u001b[49m\n\u001b[1;32m    142\u001b[0m \u001b[43m        \u001b[49m\u001b[43mconfig_name\u001b[49m\u001b[38;5;241;43m=\u001b[39;49m\u001b[43mconfig_name\u001b[49m\u001b[43m,\u001b[49m\n\u001b[1;32m    143\u001b[0m \u001b[43m        \u001b[49m\u001b[43moverrides\u001b[49m\u001b[38;5;241;43m=\u001b[39;49m\u001b[43moverrides\u001b[49m\u001b[43m,\u001b[49m\n\u001b[1;32m    144\u001b[0m \u001b[43m        \u001b[49m\u001b[43mrun_mode\u001b[49m\u001b[38;5;241;43m=\u001b[39;49m\u001b[43mrun_mode\u001b[49m\u001b[43m,\u001b[49m\n\u001b[1;32m    145\u001b[0m \u001b[43m        \u001b[49m\u001b[43mfrom_shell\u001b[49m\u001b[38;5;241;43m=\u001b[39;49m\u001b[43mfrom_shell\u001b[49m\u001b[43m,\u001b[49m\n\u001b[1;32m    146\u001b[0m \u001b[43m    \u001b[49m\u001b[43m)\u001b[49m\n\u001b[1;32m    147\u001b[0m \u001b[38;5;28;01mexcept\u001b[39;00m OmegaConfBaseException \u001b[38;5;28;01mas\u001b[39;00m e:\n",
      "File \u001b[0;32m~/projects/l2hmc-qcd/.venv/lib/python3.10/site-packages/hydra/_internal/config_loader_impl.py:249\u001b[0m, in \u001b[0;36mConfigLoaderImpl._load_configuration_impl\u001b[0;34m(self, config_name, overrides, run_mode, from_shell)\u001b[0m\n\u001b[1;32m    247\u001b[0m config_overrides \u001b[38;5;241m=\u001b[39m defaults_list\u001b[38;5;241m.\u001b[39mconfig_overrides\n\u001b[0;32m--> 249\u001b[0m cfg \u001b[38;5;241m=\u001b[39m \u001b[38;5;28;43mself\u001b[39;49m\u001b[38;5;241;43m.\u001b[39;49m\u001b[43m_compose_config_from_defaults_list\u001b[49m\u001b[43m(\u001b[49m\n\u001b[1;32m    250\u001b[0m \u001b[43m    \u001b[49m\u001b[43mdefaults\u001b[49m\u001b[38;5;241;43m=\u001b[39;49m\u001b[43mdefaults_list\u001b[49m\u001b[38;5;241;43m.\u001b[39;49m\u001b[43mdefaults\u001b[49m\u001b[43m,\u001b[49m\u001b[43m \u001b[49m\u001b[43mrepo\u001b[49m\u001b[38;5;241;43m=\u001b[39;49m\u001b[43mcaching_repo\u001b[49m\n\u001b[1;32m    251\u001b[0m \u001b[43m\u001b[49m\u001b[43m)\u001b[49m\n\u001b[1;32m    253\u001b[0m \u001b[38;5;66;03m# Set config root to struct mode.\u001b[39;00m\n\u001b[1;32m    254\u001b[0m \u001b[38;5;66;03m# Note that this will close any dictionaries (including dicts annotated as Dict[K, V].\u001b[39;00m\n\u001b[1;32m    255\u001b[0m \u001b[38;5;66;03m# One must use + to add new fields to them.\u001b[39;00m\n",
      "File \u001b[0;32m~/projects/l2hmc-qcd/.venv/lib/python3.10/site-packages/hydra/_internal/config_loader_impl.py:519\u001b[0m, in \u001b[0;36mConfigLoaderImpl._compose_config_from_defaults_list\u001b[0;34m(self, defaults, repo)\u001b[0m\n\u001b[1;32m    518\u001b[0m \u001b[38;5;28;01mtry\u001b[39;00m:\n\u001b[0;32m--> 519\u001b[0m     \u001b[43mcfg\u001b[49m\u001b[38;5;241;43m.\u001b[39;49m\u001b[43mmerge_with\u001b[49m\u001b[43m(\u001b[49m\u001b[43mloaded\u001b[49m\u001b[38;5;241;43m.\u001b[39;49m\u001b[43mconfig\u001b[49m\u001b[43m)\u001b[49m\n\u001b[1;32m    520\u001b[0m \u001b[38;5;28;01mexcept\u001b[39;00m ValidationError \u001b[38;5;28;01mas\u001b[39;00m e:\n",
      "File \u001b[0;32m~/projects/l2hmc-qcd/.venv/lib/python3.10/site-packages/omegaconf/basecontainer.py:452\u001b[0m, in \u001b[0;36mBaseContainer.merge_with\u001b[0;34m(self, *others)\u001b[0m\n\u001b[1;32m    451\u001b[0m \u001b[38;5;28;01mexcept\u001b[39;00m \u001b[38;5;167;01mException\u001b[39;00m \u001b[38;5;28;01mas\u001b[39;00m e:\n\u001b[0;32m--> 452\u001b[0m     \u001b[38;5;28;43mself\u001b[39;49m\u001b[38;5;241;43m.\u001b[39;49m\u001b[43m_format_and_raise\u001b[49m\u001b[43m(\u001b[49m\u001b[43mkey\u001b[49m\u001b[38;5;241;43m=\u001b[39;49m\u001b[38;5;28;43;01mNone\u001b[39;49;00m\u001b[43m,\u001b[49m\u001b[43m \u001b[49m\u001b[43mvalue\u001b[49m\u001b[38;5;241;43m=\u001b[39;49m\u001b[38;5;28;43;01mNone\u001b[39;49;00m\u001b[43m,\u001b[49m\u001b[43m \u001b[49m\u001b[43mcause\u001b[49m\u001b[38;5;241;43m=\u001b[39;49m\u001b[43me\u001b[49m\u001b[43m)\u001b[49m\n",
      "File \u001b[0;32m~/projects/l2hmc-qcd/.venv/lib/python3.10/site-packages/omegaconf/base.py:190\u001b[0m, in \u001b[0;36mNode._format_and_raise\u001b[0;34m(self, key, value, cause, type_override)\u001b[0m\n\u001b[1;32m    187\u001b[0m \u001b[38;5;28;01mdef\u001b[39;00m \u001b[38;5;21m_format_and_raise\u001b[39m(\n\u001b[1;32m    188\u001b[0m     \u001b[38;5;28mself\u001b[39m, key: Any, value: Any, cause: \u001b[38;5;167;01mException\u001b[39;00m, type_override: Any \u001b[38;5;241m=\u001b[39m \u001b[38;5;28;01mNone\u001b[39;00m\n\u001b[1;32m    189\u001b[0m ) \u001b[38;5;241m-\u001b[39m\u001b[38;5;241m>\u001b[39m \u001b[38;5;28;01mNone\u001b[39;00m:\n\u001b[0;32m--> 190\u001b[0m     \u001b[43mformat_and_raise\u001b[49m\u001b[43m(\u001b[49m\n\u001b[1;32m    191\u001b[0m \u001b[43m        \u001b[49m\u001b[43mnode\u001b[49m\u001b[38;5;241;43m=\u001b[39;49m\u001b[38;5;28;43mself\u001b[39;49m\u001b[43m,\u001b[49m\n\u001b[1;32m    192\u001b[0m \u001b[43m        \u001b[49m\u001b[43mkey\u001b[49m\u001b[38;5;241;43m=\u001b[39;49m\u001b[43mkey\u001b[49m\u001b[43m,\u001b[49m\n\u001b[1;32m    193\u001b[0m \u001b[43m        \u001b[49m\u001b[43mvalue\u001b[49m\u001b[38;5;241;43m=\u001b[39;49m\u001b[43mvalue\u001b[49m\u001b[43m,\u001b[49m\n\u001b[1;32m    194\u001b[0m \u001b[43m        \u001b[49m\u001b[43mmsg\u001b[49m\u001b[38;5;241;43m=\u001b[39;49m\u001b[38;5;28;43mstr\u001b[39;49m\u001b[43m(\u001b[49m\u001b[43mcause\u001b[49m\u001b[43m)\u001b[49m\u001b[43m,\u001b[49m\n\u001b[1;32m    195\u001b[0m \u001b[43m        \u001b[49m\u001b[43mcause\u001b[49m\u001b[38;5;241;43m=\u001b[39;49m\u001b[43mcause\u001b[49m\u001b[43m,\u001b[49m\n\u001b[1;32m    196\u001b[0m \u001b[43m        \u001b[49m\u001b[43mtype_override\u001b[49m\u001b[38;5;241;43m=\u001b[39;49m\u001b[43mtype_override\u001b[49m\u001b[43m,\u001b[49m\n\u001b[1;32m    197\u001b[0m \u001b[43m    \u001b[49m\u001b[43m)\u001b[49m\n\u001b[1;32m    198\u001b[0m     \u001b[38;5;28;01massert\u001b[39;00m \u001b[38;5;28;01mFalse\u001b[39;00m\n",
      "File \u001b[0;32m~/projects/l2hmc-qcd/.venv/lib/python3.10/site-packages/omegaconf/_utils.py:738\u001b[0m, in \u001b[0;36mformat_and_raise\u001b[0;34m(node, key, value, msg, cause, type_override)\u001b[0m\n\u001b[1;32m    737\u001b[0m         ex\u001b[38;5;241m.\u001b[39m\u001b[38;5;18m__dict__\u001b[39m \u001b[38;5;241m=\u001b[39m copy\u001b[38;5;241m.\u001b[39mdeepcopy(cause\u001b[38;5;241m.\u001b[39m\u001b[38;5;18m__dict__\u001b[39m)\n\u001b[0;32m--> 738\u001b[0m     \u001b[43m_raise\u001b[49m\u001b[43m(\u001b[49m\u001b[43mex\u001b[49m\u001b[43m,\u001b[49m\u001b[43m \u001b[49m\u001b[43mcause\u001b[49m\u001b[43m)\u001b[49m\n\u001b[1;32m    740\u001b[0m object_type: Optional[Type[Any]]\n",
      "File \u001b[0;32m~/projects/l2hmc-qcd/.venv/lib/python3.10/site-packages/omegaconf/_utils.py:716\u001b[0m, in \u001b[0;36m_raise\u001b[0;34m(ex, cause)\u001b[0m\n\u001b[1;32m    715\u001b[0m     ex\u001b[38;5;241m.\u001b[39m__cause__ \u001b[38;5;241m=\u001b[39m \u001b[38;5;28;01mNone\u001b[39;00m\n\u001b[0;32m--> 716\u001b[0m \u001b[38;5;28;01mraise\u001b[39;00m ex\u001b[38;5;241m.\u001b[39mwith_traceback(sys\u001b[38;5;241m.\u001b[39mexc_info()[\u001b[38;5;241m2\u001b[39m])\n",
      "File \u001b[0;32m~/projects/l2hmc-qcd/.venv/lib/python3.10/site-packages/omegaconf/basecontainer.py:450\u001b[0m, in \u001b[0;36mBaseContainer.merge_with\u001b[0;34m(self, *others)\u001b[0m\n\u001b[1;32m    449\u001b[0m \u001b[38;5;28;01mtry\u001b[39;00m:\n\u001b[0;32m--> 450\u001b[0m     \u001b[38;5;28;43mself\u001b[39;49m\u001b[38;5;241;43m.\u001b[39;49m\u001b[43m_merge_with\u001b[49m\u001b[43m(\u001b[49m\u001b[38;5;241;43m*\u001b[39;49m\u001b[43mothers\u001b[49m\u001b[43m)\u001b[49m\n\u001b[1;32m    451\u001b[0m \u001b[38;5;28;01mexcept\u001b[39;00m \u001b[38;5;167;01mException\u001b[39;00m \u001b[38;5;28;01mas\u001b[39;00m e:\n",
      "File \u001b[0;32m~/projects/l2hmc-qcd/.venv/lib/python3.10/site-packages/omegaconf/basecontainer.py:474\u001b[0m, in \u001b[0;36mBaseContainer._merge_with\u001b[0;34m(self, *others)\u001b[0m\n\u001b[1;32m    473\u001b[0m \u001b[38;5;28;01mif\u001b[39;00m \u001b[38;5;28misinstance\u001b[39m(\u001b[38;5;28mself\u001b[39m, DictConfig) \u001b[38;5;129;01mand\u001b[39;00m \u001b[38;5;28misinstance\u001b[39m(other, DictConfig):\n\u001b[0;32m--> 474\u001b[0m     \u001b[43mBaseContainer\u001b[49m\u001b[38;5;241;43m.\u001b[39;49m\u001b[43m_map_merge\u001b[49m\u001b[43m(\u001b[49m\u001b[38;5;28;43mself\u001b[39;49m\u001b[43m,\u001b[49m\u001b[43m \u001b[49m\u001b[43mother\u001b[49m\u001b[43m)\u001b[49m\n\u001b[1;32m    475\u001b[0m \u001b[38;5;28;01melif\u001b[39;00m \u001b[38;5;28misinstance\u001b[39m(\u001b[38;5;28mself\u001b[39m, ListConfig) \u001b[38;5;129;01mand\u001b[39;00m \u001b[38;5;28misinstance\u001b[39m(other, ListConfig):\n",
      "File \u001b[0;32m~/projects/l2hmc-qcd/.venv/lib/python3.10/site-packages/omegaconf/basecontainer.py:392\u001b[0m, in \u001b[0;36mBaseContainer._map_merge\u001b[0;34m(dest, src)\u001b[0m\n\u001b[1;32m    391\u001b[0m         \u001b[38;5;28;01melse\u001b[39;00m:\n\u001b[0;32m--> 392\u001b[0m             dest[key] \u001b[38;5;241m=\u001b[39m src\u001b[38;5;241m.\u001b[39m_get_node(key)\n\u001b[1;32m    394\u001b[0m _update_types(node\u001b[38;5;241m=\u001b[39mdest, ref_type\u001b[38;5;241m=\u001b[39msrc_ref_type, object_type\u001b[38;5;241m=\u001b[39msrc_type)\n",
      "File \u001b[0;32m~/projects/l2hmc-qcd/.venv/lib/python3.10/site-packages/omegaconf/dictconfig.py:310\u001b[0m, in \u001b[0;36mDictConfig.__setitem__\u001b[0;34m(self, key, value)\u001b[0m\n\u001b[1;32m    309\u001b[0m \u001b[38;5;28;01mexcept\u001b[39;00m \u001b[38;5;167;01mAttributeError\u001b[39;00m \u001b[38;5;28;01mas\u001b[39;00m e:\n\u001b[0;32m--> 310\u001b[0m     \u001b[38;5;28;43mself\u001b[39;49m\u001b[38;5;241;43m.\u001b[39;49m\u001b[43m_format_and_raise\u001b[49m\u001b[43m(\u001b[49m\n\u001b[1;32m    311\u001b[0m \u001b[43m        \u001b[49m\u001b[43mkey\u001b[49m\u001b[38;5;241;43m=\u001b[39;49m\u001b[43mkey\u001b[49m\u001b[43m,\u001b[49m\u001b[43m \u001b[49m\u001b[43mvalue\u001b[49m\u001b[38;5;241;43m=\u001b[39;49m\u001b[43mvalue\u001b[49m\u001b[43m,\u001b[49m\u001b[43m \u001b[49m\u001b[43mtype_override\u001b[49m\u001b[38;5;241;43m=\u001b[39;49m\u001b[43mConfigKeyError\u001b[49m\u001b[43m,\u001b[49m\u001b[43m \u001b[49m\u001b[43mcause\u001b[49m\u001b[38;5;241;43m=\u001b[39;49m\u001b[43me\u001b[49m\n\u001b[1;32m    312\u001b[0m \u001b[43m    \u001b[49m\u001b[43m)\u001b[49m\n\u001b[1;32m    313\u001b[0m \u001b[38;5;28;01mexcept\u001b[39;00m \u001b[38;5;167;01mException\u001b[39;00m \u001b[38;5;28;01mas\u001b[39;00m e:\n",
      "File \u001b[0;32m~/projects/l2hmc-qcd/.venv/lib/python3.10/site-packages/omegaconf/base.py:190\u001b[0m, in \u001b[0;36mNode._format_and_raise\u001b[0;34m(self, key, value, cause, type_override)\u001b[0m\n\u001b[1;32m    187\u001b[0m \u001b[38;5;28;01mdef\u001b[39;00m \u001b[38;5;21m_format_and_raise\u001b[39m(\n\u001b[1;32m    188\u001b[0m     \u001b[38;5;28mself\u001b[39m, key: Any, value: Any, cause: \u001b[38;5;167;01mException\u001b[39;00m, type_override: Any \u001b[38;5;241m=\u001b[39m \u001b[38;5;28;01mNone\u001b[39;00m\n\u001b[1;32m    189\u001b[0m ) \u001b[38;5;241m-\u001b[39m\u001b[38;5;241m>\u001b[39m \u001b[38;5;28;01mNone\u001b[39;00m:\n\u001b[0;32m--> 190\u001b[0m     \u001b[43mformat_and_raise\u001b[49m\u001b[43m(\u001b[49m\n\u001b[1;32m    191\u001b[0m \u001b[43m        \u001b[49m\u001b[43mnode\u001b[49m\u001b[38;5;241;43m=\u001b[39;49m\u001b[38;5;28;43mself\u001b[39;49m\u001b[43m,\u001b[49m\n\u001b[1;32m    192\u001b[0m \u001b[43m        \u001b[49m\u001b[43mkey\u001b[49m\u001b[38;5;241;43m=\u001b[39;49m\u001b[43mkey\u001b[49m\u001b[43m,\u001b[49m\n\u001b[1;32m    193\u001b[0m \u001b[43m        \u001b[49m\u001b[43mvalue\u001b[49m\u001b[38;5;241;43m=\u001b[39;49m\u001b[43mvalue\u001b[49m\u001b[43m,\u001b[49m\n\u001b[1;32m    194\u001b[0m \u001b[43m        \u001b[49m\u001b[43mmsg\u001b[49m\u001b[38;5;241;43m=\u001b[39;49m\u001b[38;5;28;43mstr\u001b[39;49m\u001b[43m(\u001b[49m\u001b[43mcause\u001b[49m\u001b[43m)\u001b[49m\u001b[43m,\u001b[49m\n\u001b[1;32m    195\u001b[0m \u001b[43m        \u001b[49m\u001b[43mcause\u001b[49m\u001b[38;5;241;43m=\u001b[39;49m\u001b[43mcause\u001b[49m\u001b[43m,\u001b[49m\n\u001b[1;32m    196\u001b[0m \u001b[43m        \u001b[49m\u001b[43mtype_override\u001b[49m\u001b[38;5;241;43m=\u001b[39;49m\u001b[43mtype_override\u001b[49m\u001b[43m,\u001b[49m\n\u001b[1;32m    197\u001b[0m \u001b[43m    \u001b[49m\u001b[43m)\u001b[49m\n\u001b[1;32m    198\u001b[0m     \u001b[38;5;28;01massert\u001b[39;00m \u001b[38;5;28;01mFalse\u001b[39;00m\n",
      "File \u001b[0;32m~/projects/l2hmc-qcd/.venv/lib/python3.10/site-packages/omegaconf/_utils.py:738\u001b[0m, in \u001b[0;36mformat_and_raise\u001b[0;34m(node, key, value, msg, cause, type_override)\u001b[0m\n\u001b[1;32m    737\u001b[0m         ex\u001b[38;5;241m.\u001b[39m\u001b[38;5;18m__dict__\u001b[39m \u001b[38;5;241m=\u001b[39m copy\u001b[38;5;241m.\u001b[39mdeepcopy(cause\u001b[38;5;241m.\u001b[39m\u001b[38;5;18m__dict__\u001b[39m)\n\u001b[0;32m--> 738\u001b[0m     \u001b[43m_raise\u001b[49m\u001b[43m(\u001b[49m\u001b[43mex\u001b[49m\u001b[43m,\u001b[49m\u001b[43m \u001b[49m\u001b[43mcause\u001b[49m\u001b[43m)\u001b[49m\n\u001b[1;32m    740\u001b[0m object_type: Optional[Type[Any]]\n",
      "File \u001b[0;32m~/projects/l2hmc-qcd/.venv/lib/python3.10/site-packages/omegaconf/_utils.py:716\u001b[0m, in \u001b[0;36m_raise\u001b[0;34m(ex, cause)\u001b[0m\n\u001b[1;32m    715\u001b[0m     ex\u001b[38;5;241m.\u001b[39m__cause__ \u001b[38;5;241m=\u001b[39m \u001b[38;5;28;01mNone\u001b[39;00m\n\u001b[0;32m--> 716\u001b[0m \u001b[38;5;28;01mraise\u001b[39;00m ex\u001b[38;5;241m.\u001b[39mwith_traceback(sys\u001b[38;5;241m.\u001b[39mexc_info()[\u001b[38;5;241m2\u001b[39m])\n",
      "File \u001b[0;32m~/projects/l2hmc-qcd/.venv/lib/python3.10/site-packages/omegaconf/dictconfig.py:308\u001b[0m, in \u001b[0;36mDictConfig.__setitem__\u001b[0;34m(self, key, value)\u001b[0m\n\u001b[1;32m    307\u001b[0m \u001b[38;5;28;01mtry\u001b[39;00m:\n\u001b[0;32m--> 308\u001b[0m     \u001b[38;5;28;43mself\u001b[39;49m\u001b[38;5;241;43m.\u001b[39;49m\u001b[43m__set_impl\u001b[49m\u001b[43m(\u001b[49m\u001b[43mkey\u001b[49m\u001b[38;5;241;43m=\u001b[39;49m\u001b[43mkey\u001b[49m\u001b[43m,\u001b[49m\u001b[43m \u001b[49m\u001b[43mvalue\u001b[49m\u001b[38;5;241;43m=\u001b[39;49m\u001b[43mvalue\u001b[49m\u001b[43m)\u001b[49m\n\u001b[1;32m    309\u001b[0m \u001b[38;5;28;01mexcept\u001b[39;00m \u001b[38;5;167;01mAttributeError\u001b[39;00m \u001b[38;5;28;01mas\u001b[39;00m e:\n",
      "File \u001b[0;32m~/projects/l2hmc-qcd/.venv/lib/python3.10/site-packages/omegaconf/dictconfig.py:318\u001b[0m, in \u001b[0;36mDictConfig.__set_impl\u001b[0;34m(self, key, value)\u001b[0m\n\u001b[1;32m    317\u001b[0m key \u001b[38;5;241m=\u001b[39m \u001b[38;5;28mself\u001b[39m\u001b[38;5;241m.\u001b[39m_validate_and_normalize_key(key)\n\u001b[0;32m--> 318\u001b[0m \u001b[38;5;28;43mself\u001b[39;49m\u001b[38;5;241;43m.\u001b[39;49m\u001b[43m_set_item_impl\u001b[49m\u001b[43m(\u001b[49m\u001b[43mkey\u001b[49m\u001b[43m,\u001b[49m\u001b[43m \u001b[49m\u001b[43mvalue\u001b[49m\u001b[43m)\u001b[49m\n",
      "File \u001b[0;32m~/projects/l2hmc-qcd/.venv/lib/python3.10/site-packages/omegaconf/basecontainer.py:507\u001b[0m, in \u001b[0;36mBaseContainer._set_item_impl\u001b[0;34m(self, key, value)\u001b[0m\n\u001b[1;32m    506\u001b[0m     value\u001b[38;5;241m.\u001b[39m_set_key(key)\n\u001b[0;32m--> 507\u001b[0m     \u001b[38;5;28;43mself\u001b[39;49m\u001b[38;5;241;43m.\u001b[39;49m\u001b[43m_validate_set\u001b[49m\u001b[43m(\u001b[49m\u001b[43mkey\u001b[49m\u001b[43m,\u001b[49m\u001b[43m \u001b[49m\u001b[43mvalue\u001b[49m\u001b[43m)\u001b[49m\n\u001b[1;32m    508\u001b[0m \u001b[38;5;28;01mfinally\u001b[39;00m:\n",
      "File \u001b[0;32m~/projects/l2hmc-qcd/.venv/lib/python3.10/site-packages/omegaconf/dictconfig.py:180\u001b[0m, in \u001b[0;36mDictConfig._validate_set\u001b[0;34m(self, key, value)\u001b[0m\n\u001b[1;32m    178\u001b[0m     \u001b[38;5;28;01mreturn\u001b[39;00m\n\u001b[0;32m--> 180\u001b[0m target \u001b[38;5;241m=\u001b[39m \u001b[38;5;28;43mself\u001b[39;49m\u001b[38;5;241;43m.\u001b[39;49m\u001b[43m_get_node\u001b[49m\u001b[43m(\u001b[49m\u001b[43mkey\u001b[49m\u001b[43m)\u001b[49m \u001b[38;5;28;01mif\u001b[39;00m key \u001b[38;5;129;01mis\u001b[39;00m \u001b[38;5;129;01mnot\u001b[39;00m \u001b[38;5;28;01mNone\u001b[39;00m \u001b[38;5;28;01melse\u001b[39;00m \u001b[38;5;28mself\u001b[39m\n\u001b[1;32m    182\u001b[0m target_has_ref_type \u001b[38;5;241m=\u001b[39m \u001b[38;5;28misinstance\u001b[39m(\n\u001b[1;32m    183\u001b[0m     target, DictConfig\n\u001b[1;32m    184\u001b[0m ) \u001b[38;5;129;01mand\u001b[39;00m target\u001b[38;5;241m.\u001b[39m_metadata\u001b[38;5;241m.\u001b[39mref_type \u001b[38;5;129;01mnot\u001b[39;00m \u001b[38;5;129;01min\u001b[39;00m (Any, \u001b[38;5;28mdict\u001b[39m)\n",
      "File \u001b[0;32m~/projects/l2hmc-qcd/.venv/lib/python3.10/site-packages/omegaconf/dictconfig.py:465\u001b[0m, in \u001b[0;36mDictConfig._get_node\u001b[0;34m(self, key, validate_access, throw_on_missing_value, throw_on_missing_key)\u001b[0m\n\u001b[1;32m    464\u001b[0m \u001b[38;5;28;01mif\u001b[39;00m validate_access:\n\u001b[0;32m--> 465\u001b[0m     \u001b[38;5;28;43mself\u001b[39;49m\u001b[38;5;241;43m.\u001b[39;49m\u001b[43m_validate_get\u001b[49m\u001b[43m(\u001b[49m\u001b[43mkey\u001b[49m\u001b[43m)\u001b[49m\n\u001b[1;32m    467\u001b[0m value: Optional[Node] \u001b[38;5;241m=\u001b[39m \u001b[38;5;28mself\u001b[39m\u001b[38;5;241m.\u001b[39m\u001b[38;5;18m__dict__\u001b[39m[\u001b[38;5;124m\"\u001b[39m\u001b[38;5;124m_content\u001b[39m\u001b[38;5;124m\"\u001b[39m]\u001b[38;5;241m.\u001b[39mget(key)\n",
      "File \u001b[0;32m~/projects/l2hmc-qcd/.venv/lib/python3.10/site-packages/omegaconf/dictconfig.py:166\u001b[0m, in \u001b[0;36mDictConfig._validate_get\u001b[0;34m(self, key, value)\u001b[0m\n\u001b[1;32m    165\u001b[0m     msg \u001b[38;5;241m=\u001b[39m \u001b[38;5;124mf\u001b[39m\u001b[38;5;124m\"\u001b[39m\u001b[38;5;124mKey \u001b[39m\u001b[38;5;124m'\u001b[39m\u001b[38;5;132;01m{\u001b[39;00mkey\u001b[38;5;132;01m}\u001b[39;00m\u001b[38;5;124m'\u001b[39m\u001b[38;5;124m is not in struct\u001b[39m\u001b[38;5;124m\"\u001b[39m\n\u001b[0;32m--> 166\u001b[0m \u001b[38;5;28;43mself\u001b[39;49m\u001b[38;5;241;43m.\u001b[39;49m\u001b[43m_format_and_raise\u001b[49m\u001b[43m(\u001b[49m\n\u001b[1;32m    167\u001b[0m \u001b[43m    \u001b[49m\u001b[43mkey\u001b[49m\u001b[38;5;241;43m=\u001b[39;49m\u001b[43mkey\u001b[49m\u001b[43m,\u001b[49m\u001b[43m \u001b[49m\u001b[43mvalue\u001b[49m\u001b[38;5;241;43m=\u001b[39;49m\u001b[43mvalue\u001b[49m\u001b[43m,\u001b[49m\u001b[43m \u001b[49m\u001b[43mcause\u001b[49m\u001b[38;5;241;43m=\u001b[39;49m\u001b[43mConfigAttributeError\u001b[49m\u001b[43m(\u001b[49m\u001b[43mmsg\u001b[49m\u001b[43m)\u001b[49m\n\u001b[1;32m    168\u001b[0m \u001b[43m\u001b[49m\u001b[43m)\u001b[49m\n",
      "File \u001b[0;32m~/projects/l2hmc-qcd/.venv/lib/python3.10/site-packages/omegaconf/base.py:190\u001b[0m, in \u001b[0;36mNode._format_and_raise\u001b[0;34m(self, key, value, cause, type_override)\u001b[0m\n\u001b[1;32m    187\u001b[0m \u001b[38;5;28;01mdef\u001b[39;00m \u001b[38;5;21m_format_and_raise\u001b[39m(\n\u001b[1;32m    188\u001b[0m     \u001b[38;5;28mself\u001b[39m, key: Any, value: Any, cause: \u001b[38;5;167;01mException\u001b[39;00m, type_override: Any \u001b[38;5;241m=\u001b[39m \u001b[38;5;28;01mNone\u001b[39;00m\n\u001b[1;32m    189\u001b[0m ) \u001b[38;5;241m-\u001b[39m\u001b[38;5;241m>\u001b[39m \u001b[38;5;28;01mNone\u001b[39;00m:\n\u001b[0;32m--> 190\u001b[0m     \u001b[43mformat_and_raise\u001b[49m\u001b[43m(\u001b[49m\n\u001b[1;32m    191\u001b[0m \u001b[43m        \u001b[49m\u001b[43mnode\u001b[49m\u001b[38;5;241;43m=\u001b[39;49m\u001b[38;5;28;43mself\u001b[39;49m\u001b[43m,\u001b[49m\n\u001b[1;32m    192\u001b[0m \u001b[43m        \u001b[49m\u001b[43mkey\u001b[49m\u001b[38;5;241;43m=\u001b[39;49m\u001b[43mkey\u001b[49m\u001b[43m,\u001b[49m\n\u001b[1;32m    193\u001b[0m \u001b[43m        \u001b[49m\u001b[43mvalue\u001b[49m\u001b[38;5;241;43m=\u001b[39;49m\u001b[43mvalue\u001b[49m\u001b[43m,\u001b[49m\n\u001b[1;32m    194\u001b[0m \u001b[43m        \u001b[49m\u001b[43mmsg\u001b[49m\u001b[38;5;241;43m=\u001b[39;49m\u001b[38;5;28;43mstr\u001b[39;49m\u001b[43m(\u001b[49m\u001b[43mcause\u001b[49m\u001b[43m)\u001b[49m\u001b[43m,\u001b[49m\n\u001b[1;32m    195\u001b[0m \u001b[43m        \u001b[49m\u001b[43mcause\u001b[49m\u001b[38;5;241;43m=\u001b[39;49m\u001b[43mcause\u001b[49m\u001b[43m,\u001b[49m\n\u001b[1;32m    196\u001b[0m \u001b[43m        \u001b[49m\u001b[43mtype_override\u001b[49m\u001b[38;5;241;43m=\u001b[39;49m\u001b[43mtype_override\u001b[49m\u001b[43m,\u001b[49m\n\u001b[1;32m    197\u001b[0m \u001b[43m    \u001b[49m\u001b[43m)\u001b[49m\n\u001b[1;32m    198\u001b[0m     \u001b[38;5;28;01massert\u001b[39;00m \u001b[38;5;28;01mFalse\u001b[39;00m\n",
      "File \u001b[0;32m~/projects/l2hmc-qcd/.venv/lib/python3.10/site-packages/omegaconf/_utils.py:818\u001b[0m, in \u001b[0;36mformat_and_raise\u001b[0;34m(node, key, value, msg, cause, type_override)\u001b[0m\n\u001b[1;32m    816\u001b[0m     ex\u001b[38;5;241m.\u001b[39mref_type_str \u001b[38;5;241m=\u001b[39m ref_type_str\n\u001b[0;32m--> 818\u001b[0m \u001b[43m_raise\u001b[49m\u001b[43m(\u001b[49m\u001b[43mex\u001b[49m\u001b[43m,\u001b[49m\u001b[43m \u001b[49m\u001b[43mcause\u001b[49m\u001b[43m)\u001b[49m\n",
      "File \u001b[0;32m~/projects/l2hmc-qcd/.venv/lib/python3.10/site-packages/omegaconf/_utils.py:716\u001b[0m, in \u001b[0;36m_raise\u001b[0;34m(ex, cause)\u001b[0m\n\u001b[1;32m    715\u001b[0m     ex\u001b[38;5;241m.\u001b[39m__cause__ \u001b[38;5;241m=\u001b[39m \u001b[38;5;28;01mNone\u001b[39;00m\n\u001b[0;32m--> 716\u001b[0m \u001b[38;5;28;01mraise\u001b[39;00m ex\u001b[38;5;241m.\u001b[39mwith_traceback(sys\u001b[38;5;241m.\u001b[39mexc_info()[\u001b[38;5;241m2\u001b[39m])\n",
      "\u001b[0;31mConfigKeyError\u001b[0m: Key '_target_' not in 'ExperimentConfig'\n    full_key: _target_\n    object_type=ExperimentConfig",
      "\nThe above exception was the direct cause of the following exception:\n",
      "\u001b[0;31mConfigCompositionException\u001b[0m                Traceback (most recent call last)",
      "Input \u001b[0;32mIn [35]\u001b[0m, in \u001b[0;36m<cell line: 3>\u001b[0;34m()\u001b[0m\n\u001b[1;32m      1\u001b[0m GlobalHydra\u001b[38;5;241m.\u001b[39minstance()\u001b[38;5;241m.\u001b[39mclear()\n\u001b[1;32m      2\u001b[0m initialize(config_path\u001b[38;5;241m=\u001b[39m\u001b[38;5;124m\"\u001b[39m\u001b[38;5;124m../conf/\u001b[39m\u001b[38;5;124m\"\u001b[39m)\n\u001b[0;32m----> 3\u001b[0m cfg \u001b[38;5;241m=\u001b[39m \u001b[43mcompose\u001b[49m\u001b[43m(\u001b[49m\u001b[38;5;124;43m'\u001b[39;49m\u001b[38;5;124;43mconfig\u001b[39;49m\u001b[38;5;124;43m'\u001b[39;49m\u001b[43m,\u001b[49m\u001b[43m \u001b[49m\u001b[43moverrides\u001b[49m\u001b[38;5;241;43m=\u001b[39;49m\u001b[43m[\u001b[49m\u001b[38;5;124;43m'\u001b[39;49m\u001b[38;5;124;43mmode=debug\u001b[39;49m\u001b[38;5;124;43m'\u001b[39;49m\u001b[43m,\u001b[49m\u001b[43m \u001b[49m\u001b[38;5;124;43m'\u001b[39;49m\u001b[38;5;124;43mframework=pytorch\u001b[39;49m\u001b[38;5;124;43m'\u001b[39;49m\u001b[43m]\u001b[49m\u001b[43m)\u001b[49m\n\u001b[1;32m      4\u001b[0m \u001b[38;5;66;03m#conf = OmegaConf.load('../conf/config.yaml')\u001b[39;00m\n\u001b[1;32m      5\u001b[0m print_config(conf)\n",
      "File \u001b[0;32m~/projects/l2hmc-qcd/.venv/lib/python3.10/site-packages/hydra/compose.py:33\u001b[0m, in \u001b[0;36mcompose\u001b[0;34m(config_name, overrides, return_hydra_config, strict)\u001b[0m\n\u001b[1;32m     31\u001b[0m gh \u001b[38;5;241m=\u001b[39m GlobalHydra\u001b[38;5;241m.\u001b[39minstance()\n\u001b[1;32m     32\u001b[0m \u001b[38;5;28;01massert\u001b[39;00m gh\u001b[38;5;241m.\u001b[39mhydra \u001b[38;5;129;01mis\u001b[39;00m \u001b[38;5;129;01mnot\u001b[39;00m \u001b[38;5;28;01mNone\u001b[39;00m\n\u001b[0;32m---> 33\u001b[0m cfg \u001b[38;5;241m=\u001b[39m \u001b[43mgh\u001b[49m\u001b[38;5;241;43m.\u001b[39;49m\u001b[43mhydra\u001b[49m\u001b[38;5;241;43m.\u001b[39;49m\u001b[43mcompose_config\u001b[49m\u001b[43m(\u001b[49m\n\u001b[1;32m     34\u001b[0m \u001b[43m    \u001b[49m\u001b[43mconfig_name\u001b[49m\u001b[38;5;241;43m=\u001b[39;49m\u001b[43mconfig_name\u001b[49m\u001b[43m,\u001b[49m\n\u001b[1;32m     35\u001b[0m \u001b[43m    \u001b[49m\u001b[43moverrides\u001b[49m\u001b[38;5;241;43m=\u001b[39;49m\u001b[43moverrides\u001b[49m\u001b[43m,\u001b[49m\n\u001b[1;32m     36\u001b[0m \u001b[43m    \u001b[49m\u001b[43mrun_mode\u001b[49m\u001b[38;5;241;43m=\u001b[39;49m\u001b[43mRunMode\u001b[49m\u001b[38;5;241;43m.\u001b[39;49m\u001b[43mRUN\u001b[49m\u001b[43m,\u001b[49m\n\u001b[1;32m     37\u001b[0m \u001b[43m    \u001b[49m\u001b[43mfrom_shell\u001b[49m\u001b[38;5;241;43m=\u001b[39;49m\u001b[38;5;28;43;01mFalse\u001b[39;49;00m\u001b[43m,\u001b[49m\n\u001b[1;32m     38\u001b[0m \u001b[43m    \u001b[49m\u001b[43mwith_log_configuration\u001b[49m\u001b[38;5;241;43m=\u001b[39;49m\u001b[38;5;28;43;01mFalse\u001b[39;49;00m\u001b[43m,\u001b[49m\n\u001b[1;32m     39\u001b[0m \u001b[43m\u001b[49m\u001b[43m)\u001b[49m\n\u001b[1;32m     40\u001b[0m \u001b[38;5;28;01massert\u001b[39;00m \u001b[38;5;28misinstance\u001b[39m(cfg, DictConfig)\n\u001b[1;32m     42\u001b[0m \u001b[38;5;28;01mif\u001b[39;00m \u001b[38;5;129;01mnot\u001b[39;00m return_hydra_config:\n",
      "File \u001b[0;32m~/projects/l2hmc-qcd/.venv/lib/python3.10/site-packages/hydra/_internal/hydra.py:559\u001b[0m, in \u001b[0;36mHydra.compose_config\u001b[0;34m(self, config_name, overrides, run_mode, with_log_configuration, from_shell)\u001b[0m\n\u001b[1;32m    542\u001b[0m \u001b[38;5;28;01mdef\u001b[39;00m \u001b[38;5;21mcompose_config\u001b[39m(\n\u001b[1;32m    543\u001b[0m     \u001b[38;5;28mself\u001b[39m,\n\u001b[1;32m    544\u001b[0m     config_name: Optional[\u001b[38;5;28mstr\u001b[39m],\n\u001b[0;32m   (...)\u001b[0m\n\u001b[1;32m    548\u001b[0m     from_shell: \u001b[38;5;28mbool\u001b[39m \u001b[38;5;241m=\u001b[39m \u001b[38;5;28;01mTrue\u001b[39;00m,\n\u001b[1;32m    549\u001b[0m ) \u001b[38;5;241m-\u001b[39m\u001b[38;5;241m>\u001b[39m DictConfig:\n\u001b[1;32m    550\u001b[0m     \u001b[38;5;124;03m\"\"\"\u001b[39;00m\n\u001b[1;32m    551\u001b[0m \u001b[38;5;124;03m    :param config_name:\u001b[39;00m\n\u001b[1;32m    552\u001b[0m \u001b[38;5;124;03m    :param overrides:\u001b[39;00m\n\u001b[0;32m   (...)\u001b[0m\n\u001b[1;32m    556\u001b[0m \u001b[38;5;124;03m    :return:\u001b[39;00m\n\u001b[1;32m    557\u001b[0m \u001b[38;5;124;03m    \"\"\"\u001b[39;00m\n\u001b[0;32m--> 559\u001b[0m     cfg \u001b[38;5;241m=\u001b[39m \u001b[38;5;28;43mself\u001b[39;49m\u001b[38;5;241;43m.\u001b[39;49m\u001b[43mconfig_loader\u001b[49m\u001b[38;5;241;43m.\u001b[39;49m\u001b[43mload_configuration\u001b[49m\u001b[43m(\u001b[49m\n\u001b[1;32m    560\u001b[0m \u001b[43m        \u001b[49m\u001b[43mconfig_name\u001b[49m\u001b[38;5;241;43m=\u001b[39;49m\u001b[43mconfig_name\u001b[49m\u001b[43m,\u001b[49m\n\u001b[1;32m    561\u001b[0m \u001b[43m        \u001b[49m\u001b[43moverrides\u001b[49m\u001b[38;5;241;43m=\u001b[39;49m\u001b[43moverrides\u001b[49m\u001b[43m,\u001b[49m\n\u001b[1;32m    562\u001b[0m \u001b[43m        \u001b[49m\u001b[43mrun_mode\u001b[49m\u001b[38;5;241;43m=\u001b[39;49m\u001b[43mrun_mode\u001b[49m\u001b[43m,\u001b[49m\n\u001b[1;32m    563\u001b[0m \u001b[43m        \u001b[49m\u001b[43mfrom_shell\u001b[49m\u001b[38;5;241;43m=\u001b[39;49m\u001b[43mfrom_shell\u001b[49m\u001b[43m,\u001b[49m\n\u001b[1;32m    564\u001b[0m \u001b[43m    \u001b[49m\u001b[43m)\u001b[49m\n\u001b[1;32m    565\u001b[0m     \u001b[38;5;28;01mif\u001b[39;00m with_log_configuration:\n\u001b[1;32m    566\u001b[0m         configure_log(cfg\u001b[38;5;241m.\u001b[39mhydra\u001b[38;5;241m.\u001b[39mhydra_logging, cfg\u001b[38;5;241m.\u001b[39mhydra\u001b[38;5;241m.\u001b[39mverbose)\n",
      "File \u001b[0;32m~/projects/l2hmc-qcd/.venv/lib/python3.10/site-packages/hydra/_internal/config_loader_impl.py:148\u001b[0m, in \u001b[0;36mConfigLoaderImpl.load_configuration\u001b[0;34m(self, config_name, overrides, run_mode, from_shell)\u001b[0m\n\u001b[1;32m    141\u001b[0m     \u001b[38;5;28;01mreturn\u001b[39;00m \u001b[38;5;28mself\u001b[39m\u001b[38;5;241m.\u001b[39m_load_configuration_impl(\n\u001b[1;32m    142\u001b[0m         config_name\u001b[38;5;241m=\u001b[39mconfig_name,\n\u001b[1;32m    143\u001b[0m         overrides\u001b[38;5;241m=\u001b[39moverrides,\n\u001b[1;32m    144\u001b[0m         run_mode\u001b[38;5;241m=\u001b[39mrun_mode,\n\u001b[1;32m    145\u001b[0m         from_shell\u001b[38;5;241m=\u001b[39mfrom_shell,\n\u001b[1;32m    146\u001b[0m     )\n\u001b[1;32m    147\u001b[0m \u001b[38;5;28;01mexcept\u001b[39;00m OmegaConfBaseException \u001b[38;5;28;01mas\u001b[39;00m e:\n\u001b[0;32m--> 148\u001b[0m     \u001b[38;5;28;01mraise\u001b[39;00m ConfigCompositionException()\u001b[38;5;241m.\u001b[39mwith_traceback(sys\u001b[38;5;241m.\u001b[39mexc_info()[\u001b[38;5;241m2\u001b[39m]) \u001b[38;5;28;01mfrom\u001b[39;00m \u001b[38;5;21;01me\u001b[39;00m\n",
      "File \u001b[0;32m~/projects/l2hmc-qcd/.venv/lib/python3.10/site-packages/hydra/_internal/config_loader_impl.py:141\u001b[0m, in \u001b[0;36mConfigLoaderImpl.load_configuration\u001b[0;34m(self, config_name, overrides, run_mode, from_shell)\u001b[0m\n\u001b[1;32m    133\u001b[0m \u001b[38;5;28;01mdef\u001b[39;00m \u001b[38;5;21mload_configuration\u001b[39m(\n\u001b[1;32m    134\u001b[0m     \u001b[38;5;28mself\u001b[39m,\n\u001b[1;32m    135\u001b[0m     config_name: Optional[\u001b[38;5;28mstr\u001b[39m],\n\u001b[0;32m   (...)\u001b[0m\n\u001b[1;32m    138\u001b[0m     from_shell: \u001b[38;5;28mbool\u001b[39m \u001b[38;5;241m=\u001b[39m \u001b[38;5;28;01mTrue\u001b[39;00m,\n\u001b[1;32m    139\u001b[0m ) \u001b[38;5;241m-\u001b[39m\u001b[38;5;241m>\u001b[39m DictConfig:\n\u001b[1;32m    140\u001b[0m     \u001b[38;5;28;01mtry\u001b[39;00m:\n\u001b[0;32m--> 141\u001b[0m         \u001b[38;5;28;01mreturn\u001b[39;00m \u001b[38;5;28;43mself\u001b[39;49m\u001b[38;5;241;43m.\u001b[39;49m\u001b[43m_load_configuration_impl\u001b[49m\u001b[43m(\u001b[49m\n\u001b[1;32m    142\u001b[0m \u001b[43m            \u001b[49m\u001b[43mconfig_name\u001b[49m\u001b[38;5;241;43m=\u001b[39;49m\u001b[43mconfig_name\u001b[49m\u001b[43m,\u001b[49m\n\u001b[1;32m    143\u001b[0m \u001b[43m            \u001b[49m\u001b[43moverrides\u001b[49m\u001b[38;5;241;43m=\u001b[39;49m\u001b[43moverrides\u001b[49m\u001b[43m,\u001b[49m\n\u001b[1;32m    144\u001b[0m \u001b[43m            \u001b[49m\u001b[43mrun_mode\u001b[49m\u001b[38;5;241;43m=\u001b[39;49m\u001b[43mrun_mode\u001b[49m\u001b[43m,\u001b[49m\n\u001b[1;32m    145\u001b[0m \u001b[43m            \u001b[49m\u001b[43mfrom_shell\u001b[49m\u001b[38;5;241;43m=\u001b[39;49m\u001b[43mfrom_shell\u001b[49m\u001b[43m,\u001b[49m\n\u001b[1;32m    146\u001b[0m \u001b[43m        \u001b[49m\u001b[43m)\u001b[49m\n\u001b[1;32m    147\u001b[0m     \u001b[38;5;28;01mexcept\u001b[39;00m OmegaConfBaseException \u001b[38;5;28;01mas\u001b[39;00m e:\n\u001b[1;32m    148\u001b[0m         \u001b[38;5;28;01mraise\u001b[39;00m ConfigCompositionException()\u001b[38;5;241m.\u001b[39mwith_traceback(sys\u001b[38;5;241m.\u001b[39mexc_info()[\u001b[38;5;241m2\u001b[39m]) \u001b[38;5;28;01mfrom\u001b[39;00m \u001b[38;5;21;01me\u001b[39;00m\n",
      "File \u001b[0;32m~/projects/l2hmc-qcd/.venv/lib/python3.10/site-packages/hydra/_internal/config_loader_impl.py:249\u001b[0m, in \u001b[0;36mConfigLoaderImpl._load_configuration_impl\u001b[0;34m(self, config_name, overrides, run_mode, from_shell)\u001b[0m\n\u001b[1;32m    239\u001b[0m defaults_list \u001b[38;5;241m=\u001b[39m create_defaults_list(\n\u001b[1;32m    240\u001b[0m     repo\u001b[38;5;241m=\u001b[39mcaching_repo,\n\u001b[1;32m    241\u001b[0m     config_name\u001b[38;5;241m=\u001b[39mconfig_name,\n\u001b[0;32m   (...)\u001b[0m\n\u001b[1;32m    244\u001b[0m     skip_missing\u001b[38;5;241m=\u001b[39mrun_mode \u001b[38;5;241m==\u001b[39m RunMode\u001b[38;5;241m.\u001b[39mMULTIRUN,\n\u001b[1;32m    245\u001b[0m )\n\u001b[1;32m    247\u001b[0m config_overrides \u001b[38;5;241m=\u001b[39m defaults_list\u001b[38;5;241m.\u001b[39mconfig_overrides\n\u001b[0;32m--> 249\u001b[0m cfg \u001b[38;5;241m=\u001b[39m \u001b[38;5;28;43mself\u001b[39;49m\u001b[38;5;241;43m.\u001b[39;49m\u001b[43m_compose_config_from_defaults_list\u001b[49m\u001b[43m(\u001b[49m\n\u001b[1;32m    250\u001b[0m \u001b[43m    \u001b[49m\u001b[43mdefaults\u001b[49m\u001b[38;5;241;43m=\u001b[39;49m\u001b[43mdefaults_list\u001b[49m\u001b[38;5;241;43m.\u001b[39;49m\u001b[43mdefaults\u001b[49m\u001b[43m,\u001b[49m\u001b[43m \u001b[49m\u001b[43mrepo\u001b[49m\u001b[38;5;241;43m=\u001b[39;49m\u001b[43mcaching_repo\u001b[49m\n\u001b[1;32m    251\u001b[0m \u001b[43m\u001b[49m\u001b[43m)\u001b[49m\n\u001b[1;32m    253\u001b[0m \u001b[38;5;66;03m# Set config root to struct mode.\u001b[39;00m\n\u001b[1;32m    254\u001b[0m \u001b[38;5;66;03m# Note that this will close any dictionaries (including dicts annotated as Dict[K, V].\u001b[39;00m\n\u001b[1;32m    255\u001b[0m \u001b[38;5;66;03m# One must use + to add new fields to them.\u001b[39;00m\n\u001b[1;32m    256\u001b[0m OmegaConf\u001b[38;5;241m.\u001b[39mset_struct(cfg, \u001b[38;5;28;01mTrue\u001b[39;00m)\n",
      "File \u001b[0;32m~/projects/l2hmc-qcd/.venv/lib/python3.10/site-packages/hydra/_internal/config_loader_impl.py:519\u001b[0m, in \u001b[0;36mConfigLoaderImpl._compose_config_from_defaults_list\u001b[0;34m(self, defaults, repo)\u001b[0m\n\u001b[1;32m    517\u001b[0m loaded \u001b[38;5;241m=\u001b[39m \u001b[38;5;28mself\u001b[39m\u001b[38;5;241m.\u001b[39m_load_single_config(default\u001b[38;5;241m=\u001b[39mdefault, repo\u001b[38;5;241m=\u001b[39mrepo)\n\u001b[1;32m    518\u001b[0m \u001b[38;5;28;01mtry\u001b[39;00m:\n\u001b[0;32m--> 519\u001b[0m     \u001b[43mcfg\u001b[49m\u001b[38;5;241;43m.\u001b[39;49m\u001b[43mmerge_with\u001b[49m\u001b[43m(\u001b[49m\u001b[43mloaded\u001b[49m\u001b[38;5;241;43m.\u001b[39;49m\u001b[43mconfig\u001b[49m\u001b[43m)\u001b[49m\n\u001b[1;32m    520\u001b[0m \u001b[38;5;28;01mexcept\u001b[39;00m ValidationError \u001b[38;5;28;01mas\u001b[39;00m e:\n\u001b[1;32m    521\u001b[0m     \u001b[38;5;28;01mraise\u001b[39;00m ConfigCompositionException(\n\u001b[1;32m    522\u001b[0m         \u001b[38;5;124mf\u001b[39m\u001b[38;5;124m\"\u001b[39m\u001b[38;5;124mIn \u001b[39m\u001b[38;5;124m'\u001b[39m\u001b[38;5;132;01m{\u001b[39;00mdefault\u001b[38;5;241m.\u001b[39mconfig_path\u001b[38;5;132;01m}\u001b[39;00m\u001b[38;5;124m'\u001b[39m\u001b[38;5;124m: Validation error while composing config:\u001b[39m\u001b[38;5;130;01m\\n\u001b[39;00m\u001b[38;5;132;01m{\u001b[39;00me\u001b[38;5;132;01m}\u001b[39;00m\u001b[38;5;124m\"\u001b[39m\n\u001b[1;32m    523\u001b[0m     )\u001b[38;5;241m.\u001b[39mwith_traceback(sys\u001b[38;5;241m.\u001b[39mexc_info()[\u001b[38;5;241m2\u001b[39m])\n",
      "File \u001b[0;32m~/projects/l2hmc-qcd/.venv/lib/python3.10/site-packages/omegaconf/basecontainer.py:452\u001b[0m, in \u001b[0;36mBaseContainer.merge_with\u001b[0;34m(self, *others)\u001b[0m\n\u001b[1;32m    450\u001b[0m     \u001b[38;5;28mself\u001b[39m\u001b[38;5;241m.\u001b[39m_merge_with(\u001b[38;5;241m*\u001b[39mothers)\n\u001b[1;32m    451\u001b[0m \u001b[38;5;28;01mexcept\u001b[39;00m \u001b[38;5;167;01mException\u001b[39;00m \u001b[38;5;28;01mas\u001b[39;00m e:\n\u001b[0;32m--> 452\u001b[0m     \u001b[38;5;28;43mself\u001b[39;49m\u001b[38;5;241;43m.\u001b[39;49m\u001b[43m_format_and_raise\u001b[49m\u001b[43m(\u001b[49m\u001b[43mkey\u001b[49m\u001b[38;5;241;43m=\u001b[39;49m\u001b[38;5;28;43;01mNone\u001b[39;49;00m\u001b[43m,\u001b[49m\u001b[43m \u001b[49m\u001b[43mvalue\u001b[49m\u001b[38;5;241;43m=\u001b[39;49m\u001b[38;5;28;43;01mNone\u001b[39;49;00m\u001b[43m,\u001b[49m\u001b[43m \u001b[49m\u001b[43mcause\u001b[49m\u001b[38;5;241;43m=\u001b[39;49m\u001b[43me\u001b[49m\u001b[43m)\u001b[49m\n",
      "File \u001b[0;32m~/projects/l2hmc-qcd/.venv/lib/python3.10/site-packages/omegaconf/base.py:190\u001b[0m, in \u001b[0;36mNode._format_and_raise\u001b[0;34m(self, key, value, cause, type_override)\u001b[0m\n\u001b[1;32m    187\u001b[0m \u001b[38;5;28;01mdef\u001b[39;00m \u001b[38;5;21m_format_and_raise\u001b[39m(\n\u001b[1;32m    188\u001b[0m     \u001b[38;5;28mself\u001b[39m, key: Any, value: Any, cause: \u001b[38;5;167;01mException\u001b[39;00m, type_override: Any \u001b[38;5;241m=\u001b[39m \u001b[38;5;28;01mNone\u001b[39;00m\n\u001b[1;32m    189\u001b[0m ) \u001b[38;5;241m-\u001b[39m\u001b[38;5;241m>\u001b[39m \u001b[38;5;28;01mNone\u001b[39;00m:\n\u001b[0;32m--> 190\u001b[0m     \u001b[43mformat_and_raise\u001b[49m\u001b[43m(\u001b[49m\n\u001b[1;32m    191\u001b[0m \u001b[43m        \u001b[49m\u001b[43mnode\u001b[49m\u001b[38;5;241;43m=\u001b[39;49m\u001b[38;5;28;43mself\u001b[39;49m\u001b[43m,\u001b[49m\n\u001b[1;32m    192\u001b[0m \u001b[43m        \u001b[49m\u001b[43mkey\u001b[49m\u001b[38;5;241;43m=\u001b[39;49m\u001b[43mkey\u001b[49m\u001b[43m,\u001b[49m\n\u001b[1;32m    193\u001b[0m \u001b[43m        \u001b[49m\u001b[43mvalue\u001b[49m\u001b[38;5;241;43m=\u001b[39;49m\u001b[43mvalue\u001b[49m\u001b[43m,\u001b[49m\n\u001b[1;32m    194\u001b[0m \u001b[43m        \u001b[49m\u001b[43mmsg\u001b[49m\u001b[38;5;241;43m=\u001b[39;49m\u001b[38;5;28;43mstr\u001b[39;49m\u001b[43m(\u001b[49m\u001b[43mcause\u001b[49m\u001b[43m)\u001b[49m\u001b[43m,\u001b[49m\n\u001b[1;32m    195\u001b[0m \u001b[43m        \u001b[49m\u001b[43mcause\u001b[49m\u001b[38;5;241;43m=\u001b[39;49m\u001b[43mcause\u001b[49m\u001b[43m,\u001b[49m\n\u001b[1;32m    196\u001b[0m \u001b[43m        \u001b[49m\u001b[43mtype_override\u001b[49m\u001b[38;5;241;43m=\u001b[39;49m\u001b[43mtype_override\u001b[49m\u001b[43m,\u001b[49m\n\u001b[1;32m    197\u001b[0m \u001b[43m    \u001b[49m\u001b[43m)\u001b[49m\n\u001b[1;32m    198\u001b[0m     \u001b[38;5;28;01massert\u001b[39;00m \u001b[38;5;28;01mFalse\u001b[39;00m\n",
      "File \u001b[0;32m~/projects/l2hmc-qcd/.venv/lib/python3.10/site-packages/omegaconf/_utils.py:738\u001b[0m, in \u001b[0;36mformat_and_raise\u001b[0;34m(node, key, value, msg, cause, type_override)\u001b[0m\n\u001b[1;32m    736\u001b[0m         ex \u001b[38;5;241m=\u001b[39m type_override(\u001b[38;5;28mstr\u001b[39m(cause))\n\u001b[1;32m    737\u001b[0m         ex\u001b[38;5;241m.\u001b[39m\u001b[38;5;18m__dict__\u001b[39m \u001b[38;5;241m=\u001b[39m copy\u001b[38;5;241m.\u001b[39mdeepcopy(cause\u001b[38;5;241m.\u001b[39m\u001b[38;5;18m__dict__\u001b[39m)\n\u001b[0;32m--> 738\u001b[0m     \u001b[43m_raise\u001b[49m\u001b[43m(\u001b[49m\u001b[43mex\u001b[49m\u001b[43m,\u001b[49m\u001b[43m \u001b[49m\u001b[43mcause\u001b[49m\u001b[43m)\u001b[49m\n\u001b[1;32m    740\u001b[0m object_type: Optional[Type[Any]]\n\u001b[1;32m    741\u001b[0m object_type_str: Optional[\u001b[38;5;28mstr\u001b[39m] \u001b[38;5;241m=\u001b[39m \u001b[38;5;28;01mNone\u001b[39;00m\n",
      "File \u001b[0;32m~/projects/l2hmc-qcd/.venv/lib/python3.10/site-packages/omegaconf/_utils.py:716\u001b[0m, in \u001b[0;36m_raise\u001b[0;34m(ex, cause)\u001b[0m\n\u001b[1;32m    714\u001b[0m \u001b[38;5;28;01melse\u001b[39;00m:\n\u001b[1;32m    715\u001b[0m     ex\u001b[38;5;241m.\u001b[39m__cause__ \u001b[38;5;241m=\u001b[39m \u001b[38;5;28;01mNone\u001b[39;00m\n\u001b[0;32m--> 716\u001b[0m \u001b[38;5;28;01mraise\u001b[39;00m ex\u001b[38;5;241m.\u001b[39mwith_traceback(sys\u001b[38;5;241m.\u001b[39mexc_info()[\u001b[38;5;241m2\u001b[39m])\n",
      "File \u001b[0;32m~/projects/l2hmc-qcd/.venv/lib/python3.10/site-packages/omegaconf/basecontainer.py:450\u001b[0m, in \u001b[0;36mBaseContainer.merge_with\u001b[0;34m(self, *others)\u001b[0m\n\u001b[1;32m    443\u001b[0m \u001b[38;5;28;01mdef\u001b[39;00m \u001b[38;5;21mmerge_with\u001b[39m(\n\u001b[1;32m    444\u001b[0m     \u001b[38;5;28mself\u001b[39m,\n\u001b[1;32m    445\u001b[0m     \u001b[38;5;241m*\u001b[39mothers: Union[\n\u001b[1;32m    446\u001b[0m         \u001b[38;5;124m\"\u001b[39m\u001b[38;5;124mBaseContainer\u001b[39m\u001b[38;5;124m\"\u001b[39m, Dict[\u001b[38;5;28mstr\u001b[39m, Any], List[Any], Tuple[Any, \u001b[38;5;241m.\u001b[39m\u001b[38;5;241m.\u001b[39m\u001b[38;5;241m.\u001b[39m], Any\n\u001b[1;32m    447\u001b[0m     ],\n\u001b[1;32m    448\u001b[0m ) \u001b[38;5;241m-\u001b[39m\u001b[38;5;241m>\u001b[39m \u001b[38;5;28;01mNone\u001b[39;00m:\n\u001b[1;32m    449\u001b[0m     \u001b[38;5;28;01mtry\u001b[39;00m:\n\u001b[0;32m--> 450\u001b[0m         \u001b[38;5;28;43mself\u001b[39;49m\u001b[38;5;241;43m.\u001b[39;49m\u001b[43m_merge_with\u001b[49m\u001b[43m(\u001b[49m\u001b[38;5;241;43m*\u001b[39;49m\u001b[43mothers\u001b[49m\u001b[43m)\u001b[49m\n\u001b[1;32m    451\u001b[0m     \u001b[38;5;28;01mexcept\u001b[39;00m \u001b[38;5;167;01mException\u001b[39;00m \u001b[38;5;28;01mas\u001b[39;00m e:\n\u001b[1;32m    452\u001b[0m         \u001b[38;5;28mself\u001b[39m\u001b[38;5;241m.\u001b[39m_format_and_raise(key\u001b[38;5;241m=\u001b[39m\u001b[38;5;28;01mNone\u001b[39;00m, value\u001b[38;5;241m=\u001b[39m\u001b[38;5;28;01mNone\u001b[39;00m, cause\u001b[38;5;241m=\u001b[39me)\n",
      "File \u001b[0;32m~/projects/l2hmc-qcd/.venv/lib/python3.10/site-packages/omegaconf/basecontainer.py:474\u001b[0m, in \u001b[0;36mBaseContainer._merge_with\u001b[0;34m(self, *others)\u001b[0m\n\u001b[1;32m    471\u001b[0m other \u001b[38;5;241m=\u001b[39m _ensure_container(other, flags\u001b[38;5;241m=\u001b[39mmy_flags)\n\u001b[1;32m    473\u001b[0m \u001b[38;5;28;01mif\u001b[39;00m \u001b[38;5;28misinstance\u001b[39m(\u001b[38;5;28mself\u001b[39m, DictConfig) \u001b[38;5;129;01mand\u001b[39;00m \u001b[38;5;28misinstance\u001b[39m(other, DictConfig):\n\u001b[0;32m--> 474\u001b[0m     \u001b[43mBaseContainer\u001b[49m\u001b[38;5;241;43m.\u001b[39;49m\u001b[43m_map_merge\u001b[49m\u001b[43m(\u001b[49m\u001b[38;5;28;43mself\u001b[39;49m\u001b[43m,\u001b[49m\u001b[43m \u001b[49m\u001b[43mother\u001b[49m\u001b[43m)\u001b[49m\n\u001b[1;32m    475\u001b[0m \u001b[38;5;28;01melif\u001b[39;00m \u001b[38;5;28misinstance\u001b[39m(\u001b[38;5;28mself\u001b[39m, ListConfig) \u001b[38;5;129;01mand\u001b[39;00m \u001b[38;5;28misinstance\u001b[39m(other, ListConfig):\n\u001b[1;32m    476\u001b[0m     BaseContainer\u001b[38;5;241m.\u001b[39m_list_merge(\u001b[38;5;28mself\u001b[39m, other)\n",
      "File \u001b[0;32m~/projects/l2hmc-qcd/.venv/lib/python3.10/site-packages/omegaconf/basecontainer.py:392\u001b[0m, in \u001b[0;36mBaseContainer._map_merge\u001b[0;34m(dest, src)\u001b[0m\n\u001b[1;32m    390\u001b[0m                 dest[key] \u001b[38;5;241m=\u001b[39m src\u001b[38;5;241m.\u001b[39m_get_node(key)\n\u001b[1;32m    391\u001b[0m         \u001b[38;5;28;01melse\u001b[39;00m:\n\u001b[0;32m--> 392\u001b[0m             dest[key] \u001b[38;5;241m=\u001b[39m src\u001b[38;5;241m.\u001b[39m_get_node(key)\n\u001b[1;32m    394\u001b[0m _update_types(node\u001b[38;5;241m=\u001b[39mdest, ref_type\u001b[38;5;241m=\u001b[39msrc_ref_type, object_type\u001b[38;5;241m=\u001b[39msrc_type)\n\u001b[1;32m    396\u001b[0m \u001b[38;5;66;03m# explicit flags on the source config are replacing the flag values in the destination\u001b[39;00m\n",
      "File \u001b[0;32m~/projects/l2hmc-qcd/.venv/lib/python3.10/site-packages/omegaconf/dictconfig.py:310\u001b[0m, in \u001b[0;36mDictConfig.__setitem__\u001b[0;34m(self, key, value)\u001b[0m\n\u001b[1;32m    308\u001b[0m     \u001b[38;5;28mself\u001b[39m\u001b[38;5;241m.\u001b[39m__set_impl(key\u001b[38;5;241m=\u001b[39mkey, value\u001b[38;5;241m=\u001b[39mvalue)\n\u001b[1;32m    309\u001b[0m \u001b[38;5;28;01mexcept\u001b[39;00m \u001b[38;5;167;01mAttributeError\u001b[39;00m \u001b[38;5;28;01mas\u001b[39;00m e:\n\u001b[0;32m--> 310\u001b[0m     \u001b[38;5;28;43mself\u001b[39;49m\u001b[38;5;241;43m.\u001b[39;49m\u001b[43m_format_and_raise\u001b[49m\u001b[43m(\u001b[49m\n\u001b[1;32m    311\u001b[0m \u001b[43m        \u001b[49m\u001b[43mkey\u001b[49m\u001b[38;5;241;43m=\u001b[39;49m\u001b[43mkey\u001b[49m\u001b[43m,\u001b[49m\u001b[43m \u001b[49m\u001b[43mvalue\u001b[49m\u001b[38;5;241;43m=\u001b[39;49m\u001b[43mvalue\u001b[49m\u001b[43m,\u001b[49m\u001b[43m \u001b[49m\u001b[43mtype_override\u001b[49m\u001b[38;5;241;43m=\u001b[39;49m\u001b[43mConfigKeyError\u001b[49m\u001b[43m,\u001b[49m\u001b[43m \u001b[49m\u001b[43mcause\u001b[49m\u001b[38;5;241;43m=\u001b[39;49m\u001b[43me\u001b[49m\n\u001b[1;32m    312\u001b[0m \u001b[43m    \u001b[49m\u001b[43m)\u001b[49m\n\u001b[1;32m    313\u001b[0m \u001b[38;5;28;01mexcept\u001b[39;00m \u001b[38;5;167;01mException\u001b[39;00m \u001b[38;5;28;01mas\u001b[39;00m e:\n\u001b[1;32m    314\u001b[0m     \u001b[38;5;28mself\u001b[39m\u001b[38;5;241m.\u001b[39m_format_and_raise(key\u001b[38;5;241m=\u001b[39mkey, value\u001b[38;5;241m=\u001b[39mvalue, cause\u001b[38;5;241m=\u001b[39me)\n",
      "File \u001b[0;32m~/projects/l2hmc-qcd/.venv/lib/python3.10/site-packages/omegaconf/base.py:190\u001b[0m, in \u001b[0;36mNode._format_and_raise\u001b[0;34m(self, key, value, cause, type_override)\u001b[0m\n\u001b[1;32m    187\u001b[0m \u001b[38;5;28;01mdef\u001b[39;00m \u001b[38;5;21m_format_and_raise\u001b[39m(\n\u001b[1;32m    188\u001b[0m     \u001b[38;5;28mself\u001b[39m, key: Any, value: Any, cause: \u001b[38;5;167;01mException\u001b[39;00m, type_override: Any \u001b[38;5;241m=\u001b[39m \u001b[38;5;28;01mNone\u001b[39;00m\n\u001b[1;32m    189\u001b[0m ) \u001b[38;5;241m-\u001b[39m\u001b[38;5;241m>\u001b[39m \u001b[38;5;28;01mNone\u001b[39;00m:\n\u001b[0;32m--> 190\u001b[0m     \u001b[43mformat_and_raise\u001b[49m\u001b[43m(\u001b[49m\n\u001b[1;32m    191\u001b[0m \u001b[43m        \u001b[49m\u001b[43mnode\u001b[49m\u001b[38;5;241;43m=\u001b[39;49m\u001b[38;5;28;43mself\u001b[39;49m\u001b[43m,\u001b[49m\n\u001b[1;32m    192\u001b[0m \u001b[43m        \u001b[49m\u001b[43mkey\u001b[49m\u001b[38;5;241;43m=\u001b[39;49m\u001b[43mkey\u001b[49m\u001b[43m,\u001b[49m\n\u001b[1;32m    193\u001b[0m \u001b[43m        \u001b[49m\u001b[43mvalue\u001b[49m\u001b[38;5;241;43m=\u001b[39;49m\u001b[43mvalue\u001b[49m\u001b[43m,\u001b[49m\n\u001b[1;32m    194\u001b[0m \u001b[43m        \u001b[49m\u001b[43mmsg\u001b[49m\u001b[38;5;241;43m=\u001b[39;49m\u001b[38;5;28;43mstr\u001b[39;49m\u001b[43m(\u001b[49m\u001b[43mcause\u001b[49m\u001b[43m)\u001b[49m\u001b[43m,\u001b[49m\n\u001b[1;32m    195\u001b[0m \u001b[43m        \u001b[49m\u001b[43mcause\u001b[49m\u001b[38;5;241;43m=\u001b[39;49m\u001b[43mcause\u001b[49m\u001b[43m,\u001b[49m\n\u001b[1;32m    196\u001b[0m \u001b[43m        \u001b[49m\u001b[43mtype_override\u001b[49m\u001b[38;5;241;43m=\u001b[39;49m\u001b[43mtype_override\u001b[49m\u001b[43m,\u001b[49m\n\u001b[1;32m    197\u001b[0m \u001b[43m    \u001b[49m\u001b[43m)\u001b[49m\n\u001b[1;32m    198\u001b[0m     \u001b[38;5;28;01massert\u001b[39;00m \u001b[38;5;28;01mFalse\u001b[39;00m\n",
      "File \u001b[0;32m~/projects/l2hmc-qcd/.venv/lib/python3.10/site-packages/omegaconf/_utils.py:738\u001b[0m, in \u001b[0;36mformat_and_raise\u001b[0;34m(node, key, value, msg, cause, type_override)\u001b[0m\n\u001b[1;32m    736\u001b[0m         ex \u001b[38;5;241m=\u001b[39m type_override(\u001b[38;5;28mstr\u001b[39m(cause))\n\u001b[1;32m    737\u001b[0m         ex\u001b[38;5;241m.\u001b[39m\u001b[38;5;18m__dict__\u001b[39m \u001b[38;5;241m=\u001b[39m copy\u001b[38;5;241m.\u001b[39mdeepcopy(cause\u001b[38;5;241m.\u001b[39m\u001b[38;5;18m__dict__\u001b[39m)\n\u001b[0;32m--> 738\u001b[0m     \u001b[43m_raise\u001b[49m\u001b[43m(\u001b[49m\u001b[43mex\u001b[49m\u001b[43m,\u001b[49m\u001b[43m \u001b[49m\u001b[43mcause\u001b[49m\u001b[43m)\u001b[49m\n\u001b[1;32m    740\u001b[0m object_type: Optional[Type[Any]]\n\u001b[1;32m    741\u001b[0m object_type_str: Optional[\u001b[38;5;28mstr\u001b[39m] \u001b[38;5;241m=\u001b[39m \u001b[38;5;28;01mNone\u001b[39;00m\n",
      "File \u001b[0;32m~/projects/l2hmc-qcd/.venv/lib/python3.10/site-packages/omegaconf/_utils.py:716\u001b[0m, in \u001b[0;36m_raise\u001b[0;34m(ex, cause)\u001b[0m\n\u001b[1;32m    714\u001b[0m \u001b[38;5;28;01melse\u001b[39;00m:\n\u001b[1;32m    715\u001b[0m     ex\u001b[38;5;241m.\u001b[39m__cause__ \u001b[38;5;241m=\u001b[39m \u001b[38;5;28;01mNone\u001b[39;00m\n\u001b[0;32m--> 716\u001b[0m \u001b[38;5;28;01mraise\u001b[39;00m ex\u001b[38;5;241m.\u001b[39mwith_traceback(sys\u001b[38;5;241m.\u001b[39mexc_info()[\u001b[38;5;241m2\u001b[39m])\n",
      "File \u001b[0;32m~/projects/l2hmc-qcd/.venv/lib/python3.10/site-packages/omegaconf/dictconfig.py:308\u001b[0m, in \u001b[0;36mDictConfig.__setitem__\u001b[0;34m(self, key, value)\u001b[0m\n\u001b[1;32m    306\u001b[0m \u001b[38;5;28;01mdef\u001b[39;00m \u001b[38;5;21m__setitem__\u001b[39m(\u001b[38;5;28mself\u001b[39m, key: DictKeyType, value: Any) \u001b[38;5;241m-\u001b[39m\u001b[38;5;241m>\u001b[39m \u001b[38;5;28;01mNone\u001b[39;00m:\n\u001b[1;32m    307\u001b[0m     \u001b[38;5;28;01mtry\u001b[39;00m:\n\u001b[0;32m--> 308\u001b[0m         \u001b[38;5;28;43mself\u001b[39;49m\u001b[38;5;241;43m.\u001b[39;49m\u001b[43m__set_impl\u001b[49m\u001b[43m(\u001b[49m\u001b[43mkey\u001b[49m\u001b[38;5;241;43m=\u001b[39;49m\u001b[43mkey\u001b[49m\u001b[43m,\u001b[49m\u001b[43m \u001b[49m\u001b[43mvalue\u001b[49m\u001b[38;5;241;43m=\u001b[39;49m\u001b[43mvalue\u001b[49m\u001b[43m)\u001b[49m\n\u001b[1;32m    309\u001b[0m     \u001b[38;5;28;01mexcept\u001b[39;00m \u001b[38;5;167;01mAttributeError\u001b[39;00m \u001b[38;5;28;01mas\u001b[39;00m e:\n\u001b[1;32m    310\u001b[0m         \u001b[38;5;28mself\u001b[39m\u001b[38;5;241m.\u001b[39m_format_and_raise(\n\u001b[1;32m    311\u001b[0m             key\u001b[38;5;241m=\u001b[39mkey, value\u001b[38;5;241m=\u001b[39mvalue, type_override\u001b[38;5;241m=\u001b[39mConfigKeyError, cause\u001b[38;5;241m=\u001b[39me\n\u001b[1;32m    312\u001b[0m         )\n",
      "File \u001b[0;32m~/projects/l2hmc-qcd/.venv/lib/python3.10/site-packages/omegaconf/dictconfig.py:318\u001b[0m, in \u001b[0;36mDictConfig.__set_impl\u001b[0;34m(self, key, value)\u001b[0m\n\u001b[1;32m    316\u001b[0m \u001b[38;5;28;01mdef\u001b[39;00m \u001b[38;5;21m__set_impl\u001b[39m(\u001b[38;5;28mself\u001b[39m, key: DictKeyType, value: Any) \u001b[38;5;241m-\u001b[39m\u001b[38;5;241m>\u001b[39m \u001b[38;5;28;01mNone\u001b[39;00m:\n\u001b[1;32m    317\u001b[0m     key \u001b[38;5;241m=\u001b[39m \u001b[38;5;28mself\u001b[39m\u001b[38;5;241m.\u001b[39m_validate_and_normalize_key(key)\n\u001b[0;32m--> 318\u001b[0m     \u001b[38;5;28;43mself\u001b[39;49m\u001b[38;5;241;43m.\u001b[39;49m\u001b[43m_set_item_impl\u001b[49m\u001b[43m(\u001b[49m\u001b[43mkey\u001b[49m\u001b[43m,\u001b[49m\u001b[43m \u001b[49m\u001b[43mvalue\u001b[49m\u001b[43m)\u001b[49m\n",
      "File \u001b[0;32m~/projects/l2hmc-qcd/.venv/lib/python3.10/site-packages/omegaconf/basecontainer.py:507\u001b[0m, in \u001b[0;36mBaseContainer._set_item_impl\u001b[0;34m(self, key, value)\u001b[0m\n\u001b[1;32m    505\u001b[0m     old \u001b[38;5;241m=\u001b[39m value\u001b[38;5;241m.\u001b[39m_key()\n\u001b[1;32m    506\u001b[0m     value\u001b[38;5;241m.\u001b[39m_set_key(key)\n\u001b[0;32m--> 507\u001b[0m     \u001b[38;5;28;43mself\u001b[39;49m\u001b[38;5;241;43m.\u001b[39;49m\u001b[43m_validate_set\u001b[49m\u001b[43m(\u001b[49m\u001b[43mkey\u001b[49m\u001b[43m,\u001b[49m\u001b[43m \u001b[49m\u001b[43mvalue\u001b[49m\u001b[43m)\u001b[49m\n\u001b[1;32m    508\u001b[0m \u001b[38;5;28;01mfinally\u001b[39;00m:\n\u001b[1;32m    509\u001b[0m     value\u001b[38;5;241m.\u001b[39m_set_key(old)\n",
      "File \u001b[0;32m~/projects/l2hmc-qcd/.venv/lib/python3.10/site-packages/omegaconf/dictconfig.py:180\u001b[0m, in \u001b[0;36mDictConfig._validate_set\u001b[0;34m(self, key, value)\u001b[0m\n\u001b[1;32m    177\u001b[0m \u001b[38;5;28;01mif\u001b[39;00m vk \u001b[38;5;241m==\u001b[39m ValueKind\u001b[38;5;241m.\u001b[39mMANDATORY_MISSING \u001b[38;5;129;01mor\u001b[39;00m value \u001b[38;5;129;01mis\u001b[39;00m \u001b[38;5;28;01mNone\u001b[39;00m:\n\u001b[1;32m    178\u001b[0m     \u001b[38;5;28;01mreturn\u001b[39;00m\n\u001b[0;32m--> 180\u001b[0m target \u001b[38;5;241m=\u001b[39m \u001b[38;5;28;43mself\u001b[39;49m\u001b[38;5;241;43m.\u001b[39;49m\u001b[43m_get_node\u001b[49m\u001b[43m(\u001b[49m\u001b[43mkey\u001b[49m\u001b[43m)\u001b[49m \u001b[38;5;28;01mif\u001b[39;00m key \u001b[38;5;129;01mis\u001b[39;00m \u001b[38;5;129;01mnot\u001b[39;00m \u001b[38;5;28;01mNone\u001b[39;00m \u001b[38;5;28;01melse\u001b[39;00m \u001b[38;5;28mself\u001b[39m\n\u001b[1;32m    182\u001b[0m target_has_ref_type \u001b[38;5;241m=\u001b[39m \u001b[38;5;28misinstance\u001b[39m(\n\u001b[1;32m    183\u001b[0m     target, DictConfig\n\u001b[1;32m    184\u001b[0m ) \u001b[38;5;129;01mand\u001b[39;00m target\u001b[38;5;241m.\u001b[39m_metadata\u001b[38;5;241m.\u001b[39mref_type \u001b[38;5;129;01mnot\u001b[39;00m \u001b[38;5;129;01min\u001b[39;00m (Any, \u001b[38;5;28mdict\u001b[39m)\n\u001b[1;32m    185\u001b[0m is_valid_target \u001b[38;5;241m=\u001b[39m target \u001b[38;5;129;01mis\u001b[39;00m \u001b[38;5;28;01mNone\u001b[39;00m \u001b[38;5;129;01mor\u001b[39;00m \u001b[38;5;129;01mnot\u001b[39;00m target_has_ref_type\n",
      "File \u001b[0;32m~/projects/l2hmc-qcd/.venv/lib/python3.10/site-packages/omegaconf/dictconfig.py:465\u001b[0m, in \u001b[0;36mDictConfig._get_node\u001b[0;34m(self, key, validate_access, throw_on_missing_value, throw_on_missing_key)\u001b[0m\n\u001b[1;32m    462\u001b[0m         \u001b[38;5;28;01mreturn\u001b[39;00m \u001b[38;5;28;01mNone\u001b[39;00m\n\u001b[1;32m    464\u001b[0m \u001b[38;5;28;01mif\u001b[39;00m validate_access:\n\u001b[0;32m--> 465\u001b[0m     \u001b[38;5;28;43mself\u001b[39;49m\u001b[38;5;241;43m.\u001b[39;49m\u001b[43m_validate_get\u001b[49m\u001b[43m(\u001b[49m\u001b[43mkey\u001b[49m\u001b[43m)\u001b[49m\n\u001b[1;32m    467\u001b[0m value: Optional[Node] \u001b[38;5;241m=\u001b[39m \u001b[38;5;28mself\u001b[39m\u001b[38;5;241m.\u001b[39m\u001b[38;5;18m__dict__\u001b[39m[\u001b[38;5;124m\"\u001b[39m\u001b[38;5;124m_content\u001b[39m\u001b[38;5;124m\"\u001b[39m]\u001b[38;5;241m.\u001b[39mget(key)\n\u001b[1;32m    468\u001b[0m \u001b[38;5;28;01mif\u001b[39;00m value \u001b[38;5;129;01mis\u001b[39;00m \u001b[38;5;28;01mNone\u001b[39;00m:\n",
      "File \u001b[0;32m~/projects/l2hmc-qcd/.venv/lib/python3.10/site-packages/omegaconf/dictconfig.py:166\u001b[0m, in \u001b[0;36mDictConfig._validate_get\u001b[0;34m(self, key, value)\u001b[0m\n\u001b[1;32m    164\u001b[0m \u001b[38;5;28;01melse\u001b[39;00m:\n\u001b[1;32m    165\u001b[0m     msg \u001b[38;5;241m=\u001b[39m \u001b[38;5;124mf\u001b[39m\u001b[38;5;124m\"\u001b[39m\u001b[38;5;124mKey \u001b[39m\u001b[38;5;124m'\u001b[39m\u001b[38;5;132;01m{\u001b[39;00mkey\u001b[38;5;132;01m}\u001b[39;00m\u001b[38;5;124m'\u001b[39m\u001b[38;5;124m is not in struct\u001b[39m\u001b[38;5;124m\"\u001b[39m\n\u001b[0;32m--> 166\u001b[0m \u001b[38;5;28;43mself\u001b[39;49m\u001b[38;5;241;43m.\u001b[39;49m\u001b[43m_format_and_raise\u001b[49m\u001b[43m(\u001b[49m\n\u001b[1;32m    167\u001b[0m \u001b[43m    \u001b[49m\u001b[43mkey\u001b[49m\u001b[38;5;241;43m=\u001b[39;49m\u001b[43mkey\u001b[49m\u001b[43m,\u001b[49m\u001b[43m \u001b[49m\u001b[43mvalue\u001b[49m\u001b[38;5;241;43m=\u001b[39;49m\u001b[43mvalue\u001b[49m\u001b[43m,\u001b[49m\u001b[43m \u001b[49m\u001b[43mcause\u001b[49m\u001b[38;5;241;43m=\u001b[39;49m\u001b[43mConfigAttributeError\u001b[49m\u001b[43m(\u001b[49m\u001b[43mmsg\u001b[49m\u001b[43m)\u001b[49m\n\u001b[1;32m    168\u001b[0m \u001b[43m\u001b[49m\u001b[43m)\u001b[49m\n",
      "File \u001b[0;32m~/projects/l2hmc-qcd/.venv/lib/python3.10/site-packages/omegaconf/base.py:190\u001b[0m, in \u001b[0;36mNode._format_and_raise\u001b[0;34m(self, key, value, cause, type_override)\u001b[0m\n\u001b[1;32m    187\u001b[0m \u001b[38;5;28;01mdef\u001b[39;00m \u001b[38;5;21m_format_and_raise\u001b[39m(\n\u001b[1;32m    188\u001b[0m     \u001b[38;5;28mself\u001b[39m, key: Any, value: Any, cause: \u001b[38;5;167;01mException\u001b[39;00m, type_override: Any \u001b[38;5;241m=\u001b[39m \u001b[38;5;28;01mNone\u001b[39;00m\n\u001b[1;32m    189\u001b[0m ) \u001b[38;5;241m-\u001b[39m\u001b[38;5;241m>\u001b[39m \u001b[38;5;28;01mNone\u001b[39;00m:\n\u001b[0;32m--> 190\u001b[0m     \u001b[43mformat_and_raise\u001b[49m\u001b[43m(\u001b[49m\n\u001b[1;32m    191\u001b[0m \u001b[43m        \u001b[49m\u001b[43mnode\u001b[49m\u001b[38;5;241;43m=\u001b[39;49m\u001b[38;5;28;43mself\u001b[39;49m\u001b[43m,\u001b[49m\n\u001b[1;32m    192\u001b[0m \u001b[43m        \u001b[49m\u001b[43mkey\u001b[49m\u001b[38;5;241;43m=\u001b[39;49m\u001b[43mkey\u001b[49m\u001b[43m,\u001b[49m\n\u001b[1;32m    193\u001b[0m \u001b[43m        \u001b[49m\u001b[43mvalue\u001b[49m\u001b[38;5;241;43m=\u001b[39;49m\u001b[43mvalue\u001b[49m\u001b[43m,\u001b[49m\n\u001b[1;32m    194\u001b[0m \u001b[43m        \u001b[49m\u001b[43mmsg\u001b[49m\u001b[38;5;241;43m=\u001b[39;49m\u001b[38;5;28;43mstr\u001b[39;49m\u001b[43m(\u001b[49m\u001b[43mcause\u001b[49m\u001b[43m)\u001b[49m\u001b[43m,\u001b[49m\n\u001b[1;32m    195\u001b[0m \u001b[43m        \u001b[49m\u001b[43mcause\u001b[49m\u001b[38;5;241;43m=\u001b[39;49m\u001b[43mcause\u001b[49m\u001b[43m,\u001b[49m\n\u001b[1;32m    196\u001b[0m \u001b[43m        \u001b[49m\u001b[43mtype_override\u001b[49m\u001b[38;5;241;43m=\u001b[39;49m\u001b[43mtype_override\u001b[49m\u001b[43m,\u001b[49m\n\u001b[1;32m    197\u001b[0m \u001b[43m    \u001b[49m\u001b[43m)\u001b[49m\n\u001b[1;32m    198\u001b[0m     \u001b[38;5;28;01massert\u001b[39;00m \u001b[38;5;28;01mFalse\u001b[39;00m\n",
      "File \u001b[0;32m~/projects/l2hmc-qcd/.venv/lib/python3.10/site-packages/omegaconf/_utils.py:818\u001b[0m, in \u001b[0;36mformat_and_raise\u001b[0;34m(node, key, value, msg, cause, type_override)\u001b[0m\n\u001b[1;32m    815\u001b[0m     ex\u001b[38;5;241m.\u001b[39mref_type \u001b[38;5;241m=\u001b[39m ref_type\n\u001b[1;32m    816\u001b[0m     ex\u001b[38;5;241m.\u001b[39mref_type_str \u001b[38;5;241m=\u001b[39m ref_type_str\n\u001b[0;32m--> 818\u001b[0m \u001b[43m_raise\u001b[49m\u001b[43m(\u001b[49m\u001b[43mex\u001b[49m\u001b[43m,\u001b[49m\u001b[43m \u001b[49m\u001b[43mcause\u001b[49m\u001b[43m)\u001b[49m\n",
      "File \u001b[0;32m~/projects/l2hmc-qcd/.venv/lib/python3.10/site-packages/omegaconf/_utils.py:716\u001b[0m, in \u001b[0;36m_raise\u001b[0;34m(ex, cause)\u001b[0m\n\u001b[1;32m    714\u001b[0m \u001b[38;5;28;01melse\u001b[39;00m:\n\u001b[1;32m    715\u001b[0m     ex\u001b[38;5;241m.\u001b[39m__cause__ \u001b[38;5;241m=\u001b[39m \u001b[38;5;28;01mNone\u001b[39;00m\n\u001b[0;32m--> 716\u001b[0m \u001b[38;5;28;01mraise\u001b[39;00m ex\u001b[38;5;241m.\u001b[39mwith_traceback(sys\u001b[38;5;241m.\u001b[39mexc_info()[\u001b[38;5;241m2\u001b[39m])\n",
      "\u001b[0;31mConfigCompositionException\u001b[0m: "
     ]
    }
   ],
   "source": [
    "GlobalHydra.instance().clear()\n",
    "initialize(config_path=\"../conf/\")\n",
    "cfg = compose('config', overrides=['mode=debug', 'framework=pytorch'])\n",
    "#conf = OmegaConf.load('../conf/config.yaml')\n",
    "print_config(conf)"
   ]
  },
  {
   "cell_type": "code",
   "execution_count": 36,
   "id": "31a29be4",
   "metadata": {
    "ExecuteTime": {
     "end_time": "2022-04-21T02:59:42.782020Z",
     "start_time": "2022-04-21T02:57:25.795687Z"
    }
   },
   "outputs": [
    {
     "name": "stdout",
     "output_type": "stream",
     "text": [
      "> \u001b[0;32m/Users/saforem2/projects/l2hmc-qcd/.venv/lib/python3.10/site-packages/omegaconf/_utils.py\u001b[0m(716)\u001b[0;36m_raise\u001b[0;34m()\u001b[0m\n",
      "\u001b[0;32m    714 \u001b[0;31m    \u001b[0;32melse\u001b[0m\u001b[0;34m:\u001b[0m\u001b[0;34m\u001b[0m\u001b[0;34m\u001b[0m\u001b[0m\n",
      "\u001b[0m\u001b[0;32m    715 \u001b[0;31m        \u001b[0mex\u001b[0m\u001b[0;34m.\u001b[0m\u001b[0m__cause__\u001b[0m \u001b[0;34m=\u001b[0m \u001b[0;32mNone\u001b[0m\u001b[0;34m\u001b[0m\u001b[0;34m\u001b[0m\u001b[0m\n",
      "\u001b[0m\u001b[0;32m--> 716 \u001b[0;31m    \u001b[0;32mraise\u001b[0m \u001b[0mex\u001b[0m\u001b[0;34m.\u001b[0m\u001b[0mwith_traceback\u001b[0m\u001b[0;34m(\u001b[0m\u001b[0msys\u001b[0m\u001b[0;34m.\u001b[0m\u001b[0mexc_info\u001b[0m\u001b[0;34m(\u001b[0m\u001b[0;34m)\u001b[0m\u001b[0;34m[\u001b[0m\u001b[0;36m2\u001b[0m\u001b[0;34m]\u001b[0m\u001b[0;34m)\u001b[0m  \u001b[0;31m# set end OC_CAUSE=1 for full backtrace\u001b[0m\u001b[0;34m\u001b[0m\u001b[0;34m\u001b[0m\u001b[0m\n",
      "\u001b[0m\u001b[0;32m    717 \u001b[0;31m\u001b[0;34m\u001b[0m\u001b[0m\n",
      "\u001b[0m\u001b[0;32m    718 \u001b[0;31m\u001b[0;34m\u001b[0m\u001b[0m\n",
      "\u001b[0m\n",
      "ipdb> up\n",
      "> \u001b[0;32m/Users/saforem2/projects/l2hmc-qcd/.venv/lib/python3.10/site-packages/omegaconf/_utils.py\u001b[0m(818)\u001b[0;36mformat_and_raise\u001b[0;34m()\u001b[0m\n",
      "\u001b[0;32m    816 \u001b[0;31m        \u001b[0mex\u001b[0m\u001b[0;34m.\u001b[0m\u001b[0mref_type_str\u001b[0m \u001b[0;34m=\u001b[0m \u001b[0mref_type_str\u001b[0m\u001b[0;34m\u001b[0m\u001b[0;34m\u001b[0m\u001b[0m\n",
      "\u001b[0m\u001b[0;32m    817 \u001b[0;31m\u001b[0;34m\u001b[0m\u001b[0m\n",
      "\u001b[0m\u001b[0;32m--> 818 \u001b[0;31m    \u001b[0m_raise\u001b[0m\u001b[0;34m(\u001b[0m\u001b[0mex\u001b[0m\u001b[0;34m,\u001b[0m \u001b[0mcause\u001b[0m\u001b[0;34m)\u001b[0m\u001b[0;34m\u001b[0m\u001b[0;34m\u001b[0m\u001b[0m\n",
      "\u001b[0m\u001b[0;32m    819 \u001b[0;31m\u001b[0;34m\u001b[0m\u001b[0m\n",
      "\u001b[0m\u001b[0;32m    820 \u001b[0;31m\u001b[0;34m\u001b[0m\u001b[0m\n",
      "\u001b[0m\n",
      "ipdb> up\n",
      "> \u001b[0;32m/Users/saforem2/projects/l2hmc-qcd/.venv/lib/python3.10/site-packages/omegaconf/base.py\u001b[0m(190)\u001b[0;36m_format_and_raise\u001b[0;34m()\u001b[0m\n",
      "\u001b[0;32m    188 \u001b[0;31m        \u001b[0mself\u001b[0m\u001b[0;34m,\u001b[0m \u001b[0mkey\u001b[0m\u001b[0;34m:\u001b[0m \u001b[0mAny\u001b[0m\u001b[0;34m,\u001b[0m \u001b[0mvalue\u001b[0m\u001b[0;34m:\u001b[0m \u001b[0mAny\u001b[0m\u001b[0;34m,\u001b[0m \u001b[0mcause\u001b[0m\u001b[0;34m:\u001b[0m \u001b[0mException\u001b[0m\u001b[0;34m,\u001b[0m \u001b[0mtype_override\u001b[0m\u001b[0;34m:\u001b[0m \u001b[0mAny\u001b[0m \u001b[0;34m=\u001b[0m \u001b[0;32mNone\u001b[0m\u001b[0;34m\u001b[0m\u001b[0;34m\u001b[0m\u001b[0m\n",
      "\u001b[0m\u001b[0;32m    189 \u001b[0;31m    ) -> None:\n",
      "\u001b[0m\u001b[0;32m--> 190 \u001b[0;31m        format_and_raise(\n",
      "\u001b[0m\u001b[0;32m    191 \u001b[0;31m            \u001b[0mnode\u001b[0m\u001b[0;34m=\u001b[0m\u001b[0mself\u001b[0m\u001b[0;34m,\u001b[0m\u001b[0;34m\u001b[0m\u001b[0;34m\u001b[0m\u001b[0m\n",
      "\u001b[0m\u001b[0;32m    192 \u001b[0;31m            \u001b[0mkey\u001b[0m\u001b[0;34m=\u001b[0m\u001b[0mkey\u001b[0m\u001b[0;34m,\u001b[0m\u001b[0;34m\u001b[0m\u001b[0;34m\u001b[0m\u001b[0m\n",
      "\u001b[0m\n",
      "ipdb> up\n",
      "> \u001b[0;32m/Users/saforem2/projects/l2hmc-qcd/.venv/lib/python3.10/site-packages/omegaconf/dictconfig.py\u001b[0m(166)\u001b[0;36m_validate_get\u001b[0;34m()\u001b[0m\n",
      "\u001b[0;32m    164 \u001b[0;31m                \u001b[0;32melse\u001b[0m\u001b[0;34m:\u001b[0m\u001b[0;34m\u001b[0m\u001b[0;34m\u001b[0m\u001b[0m\n",
      "\u001b[0m\u001b[0;32m    165 \u001b[0;31m                    \u001b[0mmsg\u001b[0m \u001b[0;34m=\u001b[0m \u001b[0;34mf\"Key '{key}' is not in struct\"\u001b[0m\u001b[0;34m\u001b[0m\u001b[0;34m\u001b[0m\u001b[0m\n",
      "\u001b[0m\u001b[0;32m--> 166 \u001b[0;31m                self._format_and_raise(\n",
      "\u001b[0m\u001b[0;32m    167 \u001b[0;31m                    \u001b[0mkey\u001b[0m\u001b[0;34m=\u001b[0m\u001b[0mkey\u001b[0m\u001b[0;34m,\u001b[0m \u001b[0mvalue\u001b[0m\u001b[0;34m=\u001b[0m\u001b[0mvalue\u001b[0m\u001b[0;34m,\u001b[0m \u001b[0mcause\u001b[0m\u001b[0;34m=\u001b[0m\u001b[0mConfigAttributeError\u001b[0m\u001b[0;34m(\u001b[0m\u001b[0mmsg\u001b[0m\u001b[0;34m)\u001b[0m\u001b[0;34m\u001b[0m\u001b[0;34m\u001b[0m\u001b[0m\n",
      "\u001b[0m\u001b[0;32m    168 \u001b[0;31m                )\n",
      "\u001b[0m\n",
      "ipdb> key\n",
      "'_target_'\n",
      "ipdb> up\n",
      "> \u001b[0;32m/Users/saforem2/projects/l2hmc-qcd/.venv/lib/python3.10/site-packages/omegaconf/dictconfig.py\u001b[0m(465)\u001b[0;36m_get_node\u001b[0;34m()\u001b[0m\n",
      "\u001b[0;32m    463 \u001b[0;31m\u001b[0;34m\u001b[0m\u001b[0m\n",
      "\u001b[0m\u001b[0;32m    464 \u001b[0;31m        \u001b[0;32mif\u001b[0m \u001b[0mvalidate_access\u001b[0m\u001b[0;34m:\u001b[0m\u001b[0;34m\u001b[0m\u001b[0;34m\u001b[0m\u001b[0m\n",
      "\u001b[0m\u001b[0;32m--> 465 \u001b[0;31m            \u001b[0mself\u001b[0m\u001b[0;34m.\u001b[0m\u001b[0m_validate_get\u001b[0m\u001b[0;34m(\u001b[0m\u001b[0mkey\u001b[0m\u001b[0;34m)\u001b[0m\u001b[0;34m\u001b[0m\u001b[0;34m\u001b[0m\u001b[0m\n",
      "\u001b[0m\u001b[0;32m    466 \u001b[0;31m\u001b[0;34m\u001b[0m\u001b[0m\n",
      "\u001b[0m\u001b[0;32m    467 \u001b[0;31m        \u001b[0mvalue\u001b[0m\u001b[0;34m:\u001b[0m \u001b[0mOptional\u001b[0m\u001b[0;34m[\u001b[0m\u001b[0mNode\u001b[0m\u001b[0;34m]\u001b[0m \u001b[0;34m=\u001b[0m \u001b[0mself\u001b[0m\u001b[0;34m.\u001b[0m\u001b[0m__dict__\u001b[0m\u001b[0;34m[\u001b[0m\u001b[0;34m\"_content\"\u001b[0m\u001b[0;34m]\u001b[0m\u001b[0;34m.\u001b[0m\u001b[0mget\u001b[0m\u001b[0;34m(\u001b[0m\u001b[0mkey\u001b[0m\u001b[0;34m)\u001b[0m\u001b[0;34m\u001b[0m\u001b[0;34m\u001b[0m\u001b[0m\n",
      "\u001b[0m\n",
      "ipdb> key\n",
      "'_target_'\n",
      "ipdb> up\n",
      "> \u001b[0;32m/Users/saforem2/projects/l2hmc-qcd/.venv/lib/python3.10/site-packages/omegaconf/dictconfig.py\u001b[0m(180)\u001b[0;36m_validate_set\u001b[0;34m()\u001b[0m\n",
      "\u001b[0;32m    178 \u001b[0;31m            \u001b[0;32mreturn\u001b[0m\u001b[0;34m\u001b[0m\u001b[0;34m\u001b[0m\u001b[0m\n",
      "\u001b[0m\u001b[0;32m    179 \u001b[0;31m\u001b[0;34m\u001b[0m\u001b[0m\n",
      "\u001b[0m\u001b[0;32m--> 180 \u001b[0;31m        \u001b[0mtarget\u001b[0m \u001b[0;34m=\u001b[0m \u001b[0mself\u001b[0m\u001b[0;34m.\u001b[0m\u001b[0m_get_node\u001b[0m\u001b[0;34m(\u001b[0m\u001b[0mkey\u001b[0m\u001b[0;34m)\u001b[0m \u001b[0;32mif\u001b[0m \u001b[0mkey\u001b[0m \u001b[0;32mis\u001b[0m \u001b[0;32mnot\u001b[0m \u001b[0;32mNone\u001b[0m \u001b[0;32melse\u001b[0m \u001b[0mself\u001b[0m\u001b[0;34m\u001b[0m\u001b[0;34m\u001b[0m\u001b[0m\n",
      "\u001b[0m\u001b[0;32m    181 \u001b[0;31m\u001b[0;34m\u001b[0m\u001b[0m\n",
      "\u001b[0m\u001b[0;32m    182 \u001b[0;31m        target_has_ref_type = isinstance(\n",
      "\u001b[0m\n",
      "ipdb> key\n",
      "'_target_'\n",
      "ipdb> up\n",
      "> \u001b[0;32m/Users/saforem2/projects/l2hmc-qcd/.venv/lib/python3.10/site-packages/omegaconf/basecontainer.py\u001b[0m(507)\u001b[0;36m_set_item_impl\u001b[0;34m()\u001b[0m\n",
      "\u001b[0;32m    505 \u001b[0;31m                \u001b[0mold\u001b[0m \u001b[0;34m=\u001b[0m \u001b[0mvalue\u001b[0m\u001b[0;34m.\u001b[0m\u001b[0m_key\u001b[0m\u001b[0;34m(\u001b[0m\u001b[0;34m)\u001b[0m\u001b[0;34m\u001b[0m\u001b[0;34m\u001b[0m\u001b[0m\n",
      "\u001b[0m\u001b[0;32m    506 \u001b[0;31m                \u001b[0mvalue\u001b[0m\u001b[0;34m.\u001b[0m\u001b[0m_set_key\u001b[0m\u001b[0;34m(\u001b[0m\u001b[0mkey\u001b[0m\u001b[0;34m)\u001b[0m\u001b[0;34m\u001b[0m\u001b[0;34m\u001b[0m\u001b[0m\n",
      "\u001b[0m\u001b[0;32m--> 507 \u001b[0;31m                \u001b[0mself\u001b[0m\u001b[0;34m.\u001b[0m\u001b[0m_validate_set\u001b[0m\u001b[0;34m(\u001b[0m\u001b[0mkey\u001b[0m\u001b[0;34m,\u001b[0m \u001b[0mvalue\u001b[0m\u001b[0;34m)\u001b[0m\u001b[0;34m\u001b[0m\u001b[0;34m\u001b[0m\u001b[0m\n",
      "\u001b[0m\u001b[0;32m    508 \u001b[0;31m            \u001b[0;32mfinally\u001b[0m\u001b[0;34m:\u001b[0m\u001b[0;34m\u001b[0m\u001b[0;34m\u001b[0m\u001b[0m\n",
      "\u001b[0m\u001b[0;32m    509 \u001b[0;31m                \u001b[0mvalue\u001b[0m\u001b[0;34m.\u001b[0m\u001b[0m_set_key\u001b[0m\u001b[0;34m(\u001b[0m\u001b[0mold\u001b[0m\u001b[0;34m)\u001b[0m\u001b[0;34m\u001b[0m\u001b[0;34m\u001b[0m\u001b[0m\n",
      "\u001b[0m\n",
      "ipdb> key\n",
      "'_target_'\n",
      "ipdb> up\n",
      "> \u001b[0;32m/Users/saforem2/projects/l2hmc-qcd/.venv/lib/python3.10/site-packages/omegaconf/dictconfig.py\u001b[0m(318)\u001b[0;36m__set_impl\u001b[0;34m()\u001b[0m\n",
      "\u001b[0;32m    316 \u001b[0;31m    \u001b[0;32mdef\u001b[0m \u001b[0m__set_impl\u001b[0m\u001b[0;34m(\u001b[0m\u001b[0mself\u001b[0m\u001b[0;34m,\u001b[0m \u001b[0mkey\u001b[0m\u001b[0;34m:\u001b[0m \u001b[0mDictKeyType\u001b[0m\u001b[0;34m,\u001b[0m \u001b[0mvalue\u001b[0m\u001b[0;34m:\u001b[0m \u001b[0mAny\u001b[0m\u001b[0;34m)\u001b[0m \u001b[0;34m->\u001b[0m \u001b[0;32mNone\u001b[0m\u001b[0;34m:\u001b[0m\u001b[0;34m\u001b[0m\u001b[0;34m\u001b[0m\u001b[0m\n",
      "\u001b[0m\u001b[0;32m    317 \u001b[0;31m        \u001b[0mkey\u001b[0m \u001b[0;34m=\u001b[0m \u001b[0mself\u001b[0m\u001b[0;34m.\u001b[0m\u001b[0m_validate_and_normalize_key\u001b[0m\u001b[0;34m(\u001b[0m\u001b[0mkey\u001b[0m\u001b[0;34m)\u001b[0m\u001b[0;34m\u001b[0m\u001b[0;34m\u001b[0m\u001b[0m\n",
      "\u001b[0m\u001b[0;32m--> 318 \u001b[0;31m        \u001b[0mself\u001b[0m\u001b[0;34m.\u001b[0m\u001b[0m_set_item_impl\u001b[0m\u001b[0;34m(\u001b[0m\u001b[0mkey\u001b[0m\u001b[0;34m,\u001b[0m \u001b[0mvalue\u001b[0m\u001b[0;34m)\u001b[0m\u001b[0;34m\u001b[0m\u001b[0;34m\u001b[0m\u001b[0m\n",
      "\u001b[0m\u001b[0;32m    319 \u001b[0;31m\u001b[0;34m\u001b[0m\u001b[0m\n",
      "\u001b[0m\u001b[0;32m    320 \u001b[0;31m    \u001b[0;31m# hide content while inspecting in debugger\u001b[0m\u001b[0;34m\u001b[0m\u001b[0;34m\u001b[0m\u001b[0m\n",
      "\u001b[0m\n",
      "ipdb> key\n",
      "'_target_'\n",
      "ipdb> up\n",
      "> \u001b[0;32m/Users/saforem2/projects/l2hmc-qcd/.venv/lib/python3.10/site-packages/omegaconf/dictconfig.py\u001b[0m(308)\u001b[0;36m__setitem__\u001b[0;34m()\u001b[0m\n",
      "\u001b[0;32m    306 \u001b[0;31m    \u001b[0;32mdef\u001b[0m \u001b[0m__setitem__\u001b[0m\u001b[0;34m(\u001b[0m\u001b[0mself\u001b[0m\u001b[0;34m,\u001b[0m \u001b[0mkey\u001b[0m\u001b[0;34m:\u001b[0m \u001b[0mDictKeyType\u001b[0m\u001b[0;34m,\u001b[0m \u001b[0mvalue\u001b[0m\u001b[0;34m:\u001b[0m \u001b[0mAny\u001b[0m\u001b[0;34m)\u001b[0m \u001b[0;34m->\u001b[0m \u001b[0;32mNone\u001b[0m\u001b[0;34m:\u001b[0m\u001b[0;34m\u001b[0m\u001b[0;34m\u001b[0m\u001b[0m\n",
      "\u001b[0m\u001b[0;32m    307 \u001b[0;31m        \u001b[0;32mtry\u001b[0m\u001b[0;34m:\u001b[0m\u001b[0;34m\u001b[0m\u001b[0;34m\u001b[0m\u001b[0m\n",
      "\u001b[0m\u001b[0;32m--> 308 \u001b[0;31m            \u001b[0mself\u001b[0m\u001b[0;34m.\u001b[0m\u001b[0m__set_impl\u001b[0m\u001b[0;34m(\u001b[0m\u001b[0mkey\u001b[0m\u001b[0;34m=\u001b[0m\u001b[0mkey\u001b[0m\u001b[0;34m,\u001b[0m \u001b[0mvalue\u001b[0m\u001b[0;34m=\u001b[0m\u001b[0mvalue\u001b[0m\u001b[0;34m)\u001b[0m\u001b[0;34m\u001b[0m\u001b[0;34m\u001b[0m\u001b[0m\n",
      "\u001b[0m\u001b[0;32m    309 \u001b[0;31m        \u001b[0;32mexcept\u001b[0m \u001b[0mAttributeError\u001b[0m \u001b[0;32mas\u001b[0m \u001b[0me\u001b[0m\u001b[0;34m:\u001b[0m\u001b[0;34m\u001b[0m\u001b[0;34m\u001b[0m\u001b[0m\n",
      "\u001b[0m\u001b[0;32m    310 \u001b[0;31m            self._format_and_raise(\n",
      "\u001b[0m\n",
      "ipdb> key\n",
      "'_target_'\n",
      "ipdb> up\n",
      "> \u001b[0;32m/Users/saforem2/projects/l2hmc-qcd/.venv/lib/python3.10/site-packages/omegaconf/_utils.py\u001b[0m(716)\u001b[0;36m_raise\u001b[0;34m()\u001b[0m\n",
      "\u001b[0;32m    714 \u001b[0;31m    \u001b[0;32melse\u001b[0m\u001b[0;34m:\u001b[0m\u001b[0;34m\u001b[0m\u001b[0;34m\u001b[0m\u001b[0m\n",
      "\u001b[0m\u001b[0;32m    715 \u001b[0;31m        \u001b[0mex\u001b[0m\u001b[0;34m.\u001b[0m\u001b[0m__cause__\u001b[0m \u001b[0;34m=\u001b[0m \u001b[0;32mNone\u001b[0m\u001b[0;34m\u001b[0m\u001b[0;34m\u001b[0m\u001b[0m\n",
      "\u001b[0m\u001b[0;32m--> 716 \u001b[0;31m    \u001b[0;32mraise\u001b[0m \u001b[0mex\u001b[0m\u001b[0;34m.\u001b[0m\u001b[0mwith_traceback\u001b[0m\u001b[0;34m(\u001b[0m\u001b[0msys\u001b[0m\u001b[0;34m.\u001b[0m\u001b[0mexc_info\u001b[0m\u001b[0;34m(\u001b[0m\u001b[0;34m)\u001b[0m\u001b[0;34m[\u001b[0m\u001b[0;36m2\u001b[0m\u001b[0;34m]\u001b[0m\u001b[0;34m)\u001b[0m  \u001b[0;31m# set end OC_CAUSE=1 for full backtrace\u001b[0m\u001b[0;34m\u001b[0m\u001b[0;34m\u001b[0m\u001b[0m\n",
      "\u001b[0m\u001b[0;32m    717 \u001b[0;31m\u001b[0;34m\u001b[0m\u001b[0m\n",
      "\u001b[0m\u001b[0;32m    718 \u001b[0;31m\u001b[0;34m\u001b[0m\u001b[0m\n",
      "\u001b[0m\n",
      "ipdb> up\n",
      "> \u001b[0;32m/Users/saforem2/projects/l2hmc-qcd/.venv/lib/python3.10/site-packages/omegaconf/_utils.py\u001b[0m(738)\u001b[0;36mformat_and_raise\u001b[0;34m()\u001b[0m\n",
      "\u001b[0;32m    736 \u001b[0;31m            \u001b[0mex\u001b[0m \u001b[0;34m=\u001b[0m \u001b[0mtype_override\u001b[0m\u001b[0;34m(\u001b[0m\u001b[0mstr\u001b[0m\u001b[0;34m(\u001b[0m\u001b[0mcause\u001b[0m\u001b[0;34m)\u001b[0m\u001b[0;34m)\u001b[0m\u001b[0;34m\u001b[0m\u001b[0;34m\u001b[0m\u001b[0m\n",
      "\u001b[0m\u001b[0;32m    737 \u001b[0;31m            \u001b[0mex\u001b[0m\u001b[0;34m.\u001b[0m\u001b[0m__dict__\u001b[0m \u001b[0;34m=\u001b[0m \u001b[0mcopy\u001b[0m\u001b[0;34m.\u001b[0m\u001b[0mdeepcopy\u001b[0m\u001b[0;34m(\u001b[0m\u001b[0mcause\u001b[0m\u001b[0;34m.\u001b[0m\u001b[0m__dict__\u001b[0m\u001b[0;34m)\u001b[0m\u001b[0;34m\u001b[0m\u001b[0;34m\u001b[0m\u001b[0m\n",
      "\u001b[0m\u001b[0;32m--> 738 \u001b[0;31m        \u001b[0m_raise\u001b[0m\u001b[0;34m(\u001b[0m\u001b[0mex\u001b[0m\u001b[0;34m,\u001b[0m \u001b[0mcause\u001b[0m\u001b[0;34m)\u001b[0m\u001b[0;34m\u001b[0m\u001b[0;34m\u001b[0m\u001b[0m\n",
      "\u001b[0m\u001b[0;32m    739 \u001b[0;31m\u001b[0;34m\u001b[0m\u001b[0m\n",
      "\u001b[0m\u001b[0;32m    740 \u001b[0;31m    \u001b[0mobject_type\u001b[0m\u001b[0;34m:\u001b[0m \u001b[0mOptional\u001b[0m\u001b[0;34m[\u001b[0m\u001b[0mType\u001b[0m\u001b[0;34m[\u001b[0m\u001b[0mAny\u001b[0m\u001b[0;34m]\u001b[0m\u001b[0;34m]\u001b[0m\u001b[0;34m\u001b[0m\u001b[0;34m\u001b[0m\u001b[0m\n",
      "\u001b[0m\n"
     ]
    },
    {
     "name": "stdout",
     "output_type": "stream",
     "text": [
      "ipdb> up\n",
      "> \u001b[0;32m/Users/saforem2/projects/l2hmc-qcd/.venv/lib/python3.10/site-packages/omegaconf/base.py\u001b[0m(190)\u001b[0;36m_format_and_raise\u001b[0;34m()\u001b[0m\n",
      "\u001b[0;32m    188 \u001b[0;31m        \u001b[0mself\u001b[0m\u001b[0;34m,\u001b[0m \u001b[0mkey\u001b[0m\u001b[0;34m:\u001b[0m \u001b[0mAny\u001b[0m\u001b[0;34m,\u001b[0m \u001b[0mvalue\u001b[0m\u001b[0;34m:\u001b[0m \u001b[0mAny\u001b[0m\u001b[0;34m,\u001b[0m \u001b[0mcause\u001b[0m\u001b[0;34m:\u001b[0m \u001b[0mException\u001b[0m\u001b[0;34m,\u001b[0m \u001b[0mtype_override\u001b[0m\u001b[0;34m:\u001b[0m \u001b[0mAny\u001b[0m \u001b[0;34m=\u001b[0m \u001b[0;32mNone\u001b[0m\u001b[0;34m\u001b[0m\u001b[0;34m\u001b[0m\u001b[0m\n",
      "\u001b[0m\u001b[0;32m    189 \u001b[0;31m    ) -> None:\n",
      "\u001b[0m\u001b[0;32m--> 190 \u001b[0;31m        format_and_raise(\n",
      "\u001b[0m\u001b[0;32m    191 \u001b[0;31m            \u001b[0mnode\u001b[0m\u001b[0;34m=\u001b[0m\u001b[0mself\u001b[0m\u001b[0;34m,\u001b[0m\u001b[0;34m\u001b[0m\u001b[0;34m\u001b[0m\u001b[0m\n",
      "\u001b[0m\u001b[0;32m    192 \u001b[0;31m            \u001b[0mkey\u001b[0m\u001b[0;34m=\u001b[0m\u001b[0mkey\u001b[0m\u001b[0;34m,\u001b[0m\u001b[0;34m\u001b[0m\u001b[0;34m\u001b[0m\u001b[0m\n",
      "\u001b[0m\n",
      "ipdb> key\n",
      "'_target_'\n",
      "ipdb> up\n",
      "> \u001b[0;32m/Users/saforem2/projects/l2hmc-qcd/.venv/lib/python3.10/site-packages/omegaconf/dictconfig.py\u001b[0m(310)\u001b[0;36m__setitem__\u001b[0;34m()\u001b[0m\n",
      "\u001b[0;32m    308 \u001b[0;31m            \u001b[0mself\u001b[0m\u001b[0;34m.\u001b[0m\u001b[0m__set_impl\u001b[0m\u001b[0;34m(\u001b[0m\u001b[0mkey\u001b[0m\u001b[0;34m=\u001b[0m\u001b[0mkey\u001b[0m\u001b[0;34m,\u001b[0m \u001b[0mvalue\u001b[0m\u001b[0;34m=\u001b[0m\u001b[0mvalue\u001b[0m\u001b[0;34m)\u001b[0m\u001b[0;34m\u001b[0m\u001b[0;34m\u001b[0m\u001b[0m\n",
      "\u001b[0m\u001b[0;32m    309 \u001b[0;31m        \u001b[0;32mexcept\u001b[0m \u001b[0mAttributeError\u001b[0m \u001b[0;32mas\u001b[0m \u001b[0me\u001b[0m\u001b[0;34m:\u001b[0m\u001b[0;34m\u001b[0m\u001b[0;34m\u001b[0m\u001b[0m\n",
      "\u001b[0m\u001b[0;32m--> 310 \u001b[0;31m            self._format_and_raise(\n",
      "\u001b[0m\u001b[0;32m    311 \u001b[0;31m                \u001b[0mkey\u001b[0m\u001b[0;34m=\u001b[0m\u001b[0mkey\u001b[0m\u001b[0;34m,\u001b[0m \u001b[0mvalue\u001b[0m\u001b[0;34m=\u001b[0m\u001b[0mvalue\u001b[0m\u001b[0;34m,\u001b[0m \u001b[0mtype_override\u001b[0m\u001b[0;34m=\u001b[0m\u001b[0mConfigKeyError\u001b[0m\u001b[0;34m,\u001b[0m \u001b[0mcause\u001b[0m\u001b[0;34m=\u001b[0m\u001b[0me\u001b[0m\u001b[0;34m\u001b[0m\u001b[0;34m\u001b[0m\u001b[0m\n",
      "\u001b[0m\u001b[0;32m    312 \u001b[0;31m            )\n",
      "\u001b[0m\n",
      "ipdb> up\n",
      "> \u001b[0;32m/Users/saforem2/projects/l2hmc-qcd/.venv/lib/python3.10/site-packages/omegaconf/basecontainer.py\u001b[0m(392)\u001b[0;36m_map_merge\u001b[0;34m()\u001b[0m\n",
      "\u001b[0;32m    390 \u001b[0;31m                        \u001b[0mdest\u001b[0m\u001b[0;34m[\u001b[0m\u001b[0mkey\u001b[0m\u001b[0;34m]\u001b[0m \u001b[0;34m=\u001b[0m \u001b[0msrc\u001b[0m\u001b[0;34m.\u001b[0m\u001b[0m_get_node\u001b[0m\u001b[0;34m(\u001b[0m\u001b[0mkey\u001b[0m\u001b[0;34m)\u001b[0m\u001b[0;34m\u001b[0m\u001b[0;34m\u001b[0m\u001b[0m\n",
      "\u001b[0m\u001b[0;32m    391 \u001b[0;31m                \u001b[0;32melse\u001b[0m\u001b[0;34m:\u001b[0m\u001b[0;34m\u001b[0m\u001b[0;34m\u001b[0m\u001b[0m\n",
      "\u001b[0m\u001b[0;32m--> 392 \u001b[0;31m                    \u001b[0mdest\u001b[0m\u001b[0;34m[\u001b[0m\u001b[0mkey\u001b[0m\u001b[0;34m]\u001b[0m \u001b[0;34m=\u001b[0m \u001b[0msrc\u001b[0m\u001b[0;34m.\u001b[0m\u001b[0m_get_node\u001b[0m\u001b[0;34m(\u001b[0m\u001b[0mkey\u001b[0m\u001b[0;34m)\u001b[0m\u001b[0;34m\u001b[0m\u001b[0;34m\u001b[0m\u001b[0m\n",
      "\u001b[0m\u001b[0;32m    393 \u001b[0;31m\u001b[0;34m\u001b[0m\u001b[0m\n",
      "\u001b[0m\u001b[0;32m    394 \u001b[0;31m        \u001b[0m_update_types\u001b[0m\u001b[0;34m(\u001b[0m\u001b[0mnode\u001b[0m\u001b[0;34m=\u001b[0m\u001b[0mdest\u001b[0m\u001b[0;34m,\u001b[0m \u001b[0mref_type\u001b[0m\u001b[0;34m=\u001b[0m\u001b[0msrc_ref_type\u001b[0m\u001b[0;34m,\u001b[0m \u001b[0mobject_type\u001b[0m\u001b[0;34m=\u001b[0m\u001b[0msrc_type\u001b[0m\u001b[0;34m)\u001b[0m\u001b[0;34m\u001b[0m\u001b[0;34m\u001b[0m\u001b[0m\n",
      "\u001b[0m\n",
      "ipdb> key\n",
      "'_target_'\n",
      "ipdb> up\n",
      "> \u001b[0;32m/Users/saforem2/projects/l2hmc-qcd/.venv/lib/python3.10/site-packages/omegaconf/basecontainer.py\u001b[0m(474)\u001b[0;36m_merge_with\u001b[0;34m()\u001b[0m\n",
      "\u001b[0;32m    472 \u001b[0;31m\u001b[0;34m\u001b[0m\u001b[0m\n",
      "\u001b[0m\u001b[0;32m    473 \u001b[0;31m            \u001b[0;32mif\u001b[0m \u001b[0misinstance\u001b[0m\u001b[0;34m(\u001b[0m\u001b[0mself\u001b[0m\u001b[0;34m,\u001b[0m \u001b[0mDictConfig\u001b[0m\u001b[0;34m)\u001b[0m \u001b[0;32mand\u001b[0m \u001b[0misinstance\u001b[0m\u001b[0;34m(\u001b[0m\u001b[0mother\u001b[0m\u001b[0;34m,\u001b[0m \u001b[0mDictConfig\u001b[0m\u001b[0;34m)\u001b[0m\u001b[0;34m:\u001b[0m\u001b[0;34m\u001b[0m\u001b[0;34m\u001b[0m\u001b[0m\n",
      "\u001b[0m\u001b[0;32m--> 474 \u001b[0;31m                \u001b[0mBaseContainer\u001b[0m\u001b[0;34m.\u001b[0m\u001b[0m_map_merge\u001b[0m\u001b[0;34m(\u001b[0m\u001b[0mself\u001b[0m\u001b[0;34m,\u001b[0m \u001b[0mother\u001b[0m\u001b[0;34m)\u001b[0m\u001b[0;34m\u001b[0m\u001b[0;34m\u001b[0m\u001b[0m\n",
      "\u001b[0m\u001b[0;32m    475 \u001b[0;31m            \u001b[0;32melif\u001b[0m \u001b[0misinstance\u001b[0m\u001b[0;34m(\u001b[0m\u001b[0mself\u001b[0m\u001b[0;34m,\u001b[0m \u001b[0mListConfig\u001b[0m\u001b[0;34m)\u001b[0m \u001b[0;32mand\u001b[0m \u001b[0misinstance\u001b[0m\u001b[0;34m(\u001b[0m\u001b[0mother\u001b[0m\u001b[0;34m,\u001b[0m \u001b[0mListConfig\u001b[0m\u001b[0;34m)\u001b[0m\u001b[0;34m:\u001b[0m\u001b[0;34m\u001b[0m\u001b[0;34m\u001b[0m\u001b[0m\n",
      "\u001b[0m\u001b[0;32m    476 \u001b[0;31m                \u001b[0mBaseContainer\u001b[0m\u001b[0;34m.\u001b[0m\u001b[0m_list_merge\u001b[0m\u001b[0;34m(\u001b[0m\u001b[0mself\u001b[0m\u001b[0;34m,\u001b[0m \u001b[0mother\u001b[0m\u001b[0;34m)\u001b[0m\u001b[0;34m\u001b[0m\u001b[0;34m\u001b[0m\u001b[0m\n",
      "\u001b[0m\n",
      "ipdb> self\n",
      "{'hydra': {'run': {'dir': 'outputs/${now:%Y-%m-%d}/${now:%H-%M-%S}'}, 'sweep': {'dir': 'multirun/${now:%Y-%m-%d}/${now:%H-%M-%S}', 'subdir': '${hydra.job.num}'}, 'launcher': {'_target_': 'hydra._internal.core_plugins.basic_launcher.BasicLauncher'}, 'sweeper': {'_target_': 'hydra._internal.core_plugins.basic_sweeper.BasicSweeper', 'max_batch_size': None}, 'help': {'app_name': '${hydra.job.name}', 'header': '${hydra.help.app_name} is powered by Hydra.\\n', 'footer': 'Powered by Hydra (https://hydra.cc)\\nUse --hydra-help to view Hydra specific help\\n', 'template': '${hydra.help.header}\\n== Configuration groups ==\\nCompose your configuration from those groups (group=option)\\n\\n$APP_CONFIG_GROUPS\\n\\n== Config ==\\nOverride anything in the config (foo.bar=value)\\n\\n$CONFIG\\n\\n${hydra.help.footer}\\n'}, 'hydra_help': {'template': \"Hydra (${hydra.runtime.version})\\nSee https://hydra.cc for more info.\\n\\n== Flags ==\\n$FLAGS_HELP\\n\\n== Configuration groups ==\\nCompose your configuration from those groups (For example, append hydra/job_logging=disabled to command line)\\n\\n$HYDRA_CONFIG_GROUPS\\n\\nUse '--cfg hydra' to Show the Hydra config.\\n\", 'hydra_help': '???'}, 'hydra_logging': {'version': 1, 'formatters': {'colorlog': {'()': 'colorlog.ColoredFormatter', 'format': '[%(cyan)s%(asctime)s%(reset)s][%(purple)sHYDRA%(reset)s] %(message)s'}}, 'handlers': {'console': {'class': 'logging.StreamHandler', 'formatter': 'colorlog', 'stream': 'ext://sys.stdout'}}, 'root': {'level': 'INFO', 'handlers': ['console']}, 'disable_existing_loggers': False}, 'job_logging': {'version': 1, 'formatters': {'simple': {'format': '[%(asctime)s][%(name)s][%(levelname)s] - %(message)s'}, 'colorlog': {'()': 'colorlog.ColoredFormatter', 'format': '[%(cyan)s%(asctime)s%(reset)s][%(blue)s%(name)s%(reset)s][%(log_color)s%(levelname)s%(reset)s] - %(message)s', 'log_colors': {'DEBUG': 'purple', 'INFO': 'green', 'WARNING': 'yellow', 'ERROR': 'red', 'CRITICAL': 'red'}}}, 'handlers': {'console': {'class': 'logging.StreamHandler', 'formatter': 'colorlog', 'stream': 'ext://sys.stdout'}, 'file': {'class': 'logging.FileHandler', 'formatter': 'simple', 'filename': '${hydra.job.name}.log'}}, 'root': {'level': 'INFO', 'handlers': ['console', 'file']}, 'disable_existing_loggers': False}, 'env': {}, 'defaults': [{'output': 'default'}, {'launcher': 'basic'}, {'sweeper': 'basic'}, {'help': 'default'}, {'hydra_help': 'default'}, {'hydra_logging': 'default'}, {'job_logging': 'default'}, {'callbacks': None}, {'env': 'default'}], 'searchpath': [], 'callbacks': {}, 'output_subdir': '.hydra', 'overrides': {'hydra': [], 'task': []}, 'job': {'name': '???', 'override_dirname': '???', 'id': '???', 'num': '???', 'config_name': '???', 'env_set': {}, 'env_copy': [], 'config': {'override_dirname': {'kv_sep': '=', 'item_sep': ',', 'exclude_keys': []}}}, 'runtime': {'version': '???', 'cwd': '???', 'config_sources': '???', 'choices': {}}, 'verbose': False}, 'framework': 'pytorch', 'steps': '???', 'loss': '???', 'network': '???', 'net_weights': '???', 'dynamics': '???', 'annealing_schedule': '???', 'learning_rate': '???', 'wandb': '???', 'conv': None, 'c1': 0.0, 'width': 235, 'nchains': 128, 'profile': False, 'eps_hmc': 0.1181, 'debug_mode': False, 'default_mode': True, 'print_config': True, 'precision': 'float32', 'ignore_warnings': True, 'compile': True, 'name': None}\n",
      "ipdb> self.dynamics\n",
      "*** omegaconf.errors.MissingMandatoryValue: Missing mandatory value: dynamics\n",
      "    full_key: dynamics\n",
      "    object_type=ExperimentConfig\n",
      "ipdb> self['dynamics']\n",
      "*** omegaconf.errors.MissingMandatoryValue: Missing mandatory value: dynamics\n",
      "    full_key: dynamics\n",
      "    object_type=ExperimentConfig\n",
      "ipdb> up\n",
      "> \u001b[0;32m/Users/saforem2/projects/l2hmc-qcd/.venv/lib/python3.10/site-packages/omegaconf/basecontainer.py\u001b[0m(450)\u001b[0;36mmerge_with\u001b[0;34m()\u001b[0m\n",
      "\u001b[0;32m    448 \u001b[0;31m    ) -> None:\n",
      "\u001b[0m\u001b[0;32m    449 \u001b[0;31m        \u001b[0;32mtry\u001b[0m\u001b[0;34m:\u001b[0m\u001b[0;34m\u001b[0m\u001b[0;34m\u001b[0m\u001b[0m\n",
      "\u001b[0m\u001b[0;32m--> 450 \u001b[0;31m            \u001b[0mself\u001b[0m\u001b[0;34m.\u001b[0m\u001b[0m_merge_with\u001b[0m\u001b[0;34m(\u001b[0m\u001b[0;34m*\u001b[0m\u001b[0mothers\u001b[0m\u001b[0;34m)\u001b[0m\u001b[0;34m\u001b[0m\u001b[0;34m\u001b[0m\u001b[0m\n",
      "\u001b[0m\u001b[0;32m    451 \u001b[0;31m        \u001b[0;32mexcept\u001b[0m \u001b[0mException\u001b[0m \u001b[0;32mas\u001b[0m \u001b[0me\u001b[0m\u001b[0;34m:\u001b[0m\u001b[0;34m\u001b[0m\u001b[0;34m\u001b[0m\u001b[0m\n",
      "\u001b[0m\u001b[0;32m    452 \u001b[0;31m            \u001b[0mself\u001b[0m\u001b[0;34m.\u001b[0m\u001b[0m_format_and_raise\u001b[0m\u001b[0;34m(\u001b[0m\u001b[0mkey\u001b[0m\u001b[0;34m=\u001b[0m\u001b[0;32mNone\u001b[0m\u001b[0;34m,\u001b[0m \u001b[0mvalue\u001b[0m\u001b[0;34m=\u001b[0m\u001b[0;32mNone\u001b[0m\u001b[0;34m,\u001b[0m \u001b[0mcause\u001b[0m\u001b[0;34m=\u001b[0m\u001b[0me\u001b[0m\u001b[0;34m)\u001b[0m\u001b[0;34m\u001b[0m\u001b[0;34m\u001b[0m\u001b[0m\n",
      "\u001b[0m\n"
     ]
    },
    {
     "name": "stdout",
     "output_type": "stream",
     "text": [
      "ipdb> others.keys()\n",
      "*** AttributeError: 'tuple' object has no attribute 'keys'\n",
      "ipdb> others[0]\n",
      "{'_target_': 'l2hmc.configs.Steps', 'nera': 2, 'nepoch': 5, 'test': 50, 'log': 1, 'print': 1}\n",
      "ipdb> up\n",
      "> \u001b[0;32m/Users/saforem2/projects/l2hmc-qcd/.venv/lib/python3.10/site-packages/omegaconf/_utils.py\u001b[0m(716)\u001b[0;36m_raise\u001b[0;34m()\u001b[0m\n",
      "\u001b[0;32m    714 \u001b[0;31m    \u001b[0;32melse\u001b[0m\u001b[0;34m:\u001b[0m\u001b[0;34m\u001b[0m\u001b[0;34m\u001b[0m\u001b[0m\n",
      "\u001b[0m\u001b[0;32m    715 \u001b[0;31m        \u001b[0mex\u001b[0m\u001b[0;34m.\u001b[0m\u001b[0m__cause__\u001b[0m \u001b[0;34m=\u001b[0m \u001b[0;32mNone\u001b[0m\u001b[0;34m\u001b[0m\u001b[0;34m\u001b[0m\u001b[0m\n",
      "\u001b[0m\u001b[0;32m--> 716 \u001b[0;31m    \u001b[0;32mraise\u001b[0m \u001b[0mex\u001b[0m\u001b[0;34m.\u001b[0m\u001b[0mwith_traceback\u001b[0m\u001b[0;34m(\u001b[0m\u001b[0msys\u001b[0m\u001b[0;34m.\u001b[0m\u001b[0mexc_info\u001b[0m\u001b[0;34m(\u001b[0m\u001b[0;34m)\u001b[0m\u001b[0;34m[\u001b[0m\u001b[0;36m2\u001b[0m\u001b[0;34m]\u001b[0m\u001b[0;34m)\u001b[0m  \u001b[0;31m# set end OC_CAUSE=1 for full backtrace\u001b[0m\u001b[0;34m\u001b[0m\u001b[0;34m\u001b[0m\u001b[0m\n",
      "\u001b[0m\u001b[0;32m    717 \u001b[0;31m\u001b[0;34m\u001b[0m\u001b[0m\n",
      "\u001b[0m\u001b[0;32m    718 \u001b[0;31m\u001b[0;34m\u001b[0m\u001b[0m\n",
      "\u001b[0m\n",
      "ipdb> q\n"
     ]
    }
   ],
   "source": [
    "%debug"
   ]
  },
  {
   "cell_type": "code",
   "execution_count": null,
   "id": "f9d84290",
   "metadata": {
    "ExecuteTime": {
     "end_time": "2022-04-21T02:47:10.026586Z",
     "start_time": "2022-04-21T02:47:09.540359Z"
    }
   },
   "outputs": [],
   "source": [
    "GlobalHydra.instance().clear()\n",
    "initialize(config_path='../conf/') # Assume the configuration file is in the current folder\n",
    "cfg = compose('config', strict=False)\n",
    "#cfg = compose('config', return_hydra_config=True)\n",
    "print_config(cfg)"
   ]
  },
  {
   "cell_type": "code",
   "execution_count": 34,
   "id": "00c6d53e",
   "metadata": {
    "ExecuteTime": {
     "end_time": "2022-04-21T02:00:32.399122Z",
     "start_time": "2022-04-21T02:00:32.349300Z"
    }
   },
   "outputs": [
    {
     "ename": "SyntaxError",
     "evalue": "'return' outside function (1456260.py, line 7)",
     "output_type": "error",
     "traceback": [
      "\u001b[0;36m  Input \u001b[0;32mIn [34]\u001b[0;36m\u001b[0m\n\u001b[0;31m    return Experiment(cfg)\u001b[0m\n\u001b[0m    ^\u001b[0m\n\u001b[0;31mSyntaxError\u001b[0m\u001b[0;31m:\u001b[0m 'return' outside function\n"
     ]
    }
   ],
   "source": [
    "def get_experiment():\n",
    "    with initialize_config_dir(CONF_DIR):\n",
    "        cfg = compose(config_name='config.yaml', overrides=overrides)\n",
    "        print(OmegaConf.to_yaml(cfg, resolve=True))\n",
    "        #cfile = outdir.joinpath('config.yaml')\n",
    "        #assert callable(main)\n",
    "        #output = main(cfg)\n",
    "        return Experiment(cfg)\n",
    "\n",
    "    #print(f'Saving config to: {cfile}')\n",
    "    #with open(cfile, 'w') as f:\n",
    "    #    f.write(OmegaConf.to_yaml(cfg, resolve=True))"
   ]
  },
  {
   "cell_type": "code",
   "execution_count": 46,
   "id": "53cb33a4",
   "metadata": {
    "ExecuteTime": {
     "end_time": "2022-04-21T02:11:42.078109Z",
     "start_time": "2022-04-21T02:11:42.027689Z"
    }
   },
   "outputs": [
    {
     "data": {
      "text/plain": [
       "hydra.initialize_config_dir()"
      ]
     },
     "execution_count": 46,
     "metadata": {},
     "output_type": "execute_result"
    }
   ],
   "source": [
    "\n",
    "#initialize(config_path='../conf')  # , job_name=\"test_app\")\n",
    "initialize_config_dir(CONF_DIR.as_posix())\n",
    "#cfg = compose(config_name=\"config\")  # , overrides=['dynamics=su3', 'framework=pytorch'])\n",
    "#print_config(cfg)\n",
    "#print(OmegaConf.to_yaml(cfg))\n",
    "#cfg = compose(config_name='config.yaml')"
   ]
  },
  {
   "cell_type": "code",
   "execution_count": 57,
   "id": "a0eed5cc",
   "metadata": {
    "ExecuteTime": {
     "end_time": "2022-04-21T02:23:28.612819Z",
     "start_time": "2022-04-21T02:23:28.233911Z"
    }
   },
   "outputs": [
    {
     "ename": "ConfigCompositionException",
     "evalue": "Error merging 'config' with schema",
     "output_type": "error",
     "traceback": [
      "\u001b[0;31m---------------------------------------------------------------------------\u001b[0m",
      "\u001b[0;31mConfigKeyError\u001b[0m                            Traceback (most recent call last)",
      "File \u001b[0;32m~/projects/l2hmc-qcd/.venv/lib/python3.10/site-packages/hydra/_internal/config_loader_impl.py:456\u001b[0m, in \u001b[0;36mConfigLoaderImpl._load_single_config\u001b[0;34m(self, default, repo)\u001b[0m\n\u001b[1;32m    454\u001b[0m     hydra \u001b[38;5;241m=\u001b[39m config\u001b[38;5;241m.\u001b[39mpop(\u001b[38;5;124m\"\u001b[39m\u001b[38;5;124mhydra\u001b[39m\u001b[38;5;124m\"\u001b[39m)\n\u001b[0;32m--> 456\u001b[0m merged \u001b[38;5;241m=\u001b[39m \u001b[43mOmegaConf\u001b[49m\u001b[38;5;241;43m.\u001b[39;49m\u001b[43mmerge\u001b[49m\u001b[43m(\u001b[49m\u001b[43mschema\u001b[49m\u001b[38;5;241;43m.\u001b[39;49m\u001b[43mconfig\u001b[49m\u001b[43m,\u001b[49m\u001b[43m \u001b[49m\u001b[43mconfig\u001b[49m\u001b[43m)\u001b[49m\n\u001b[1;32m    457\u001b[0m \u001b[38;5;28;01massert\u001b[39;00m \u001b[38;5;28misinstance\u001b[39m(merged, DictConfig)\n",
      "File \u001b[0;32m~/projects/l2hmc-qcd/.venv/lib/python3.10/site-packages/omegaconf/omegaconf.py:264\u001b[0m, in \u001b[0;36mOmegaConf.merge\u001b[0;34m(*configs)\u001b[0m\n\u001b[1;32m    263\u001b[0m \u001b[38;5;28;01mwith\u001b[39;00m flag_override(target, \u001b[38;5;124m\"\u001b[39m\u001b[38;5;124mreadonly\u001b[39m\u001b[38;5;124m\"\u001b[39m, \u001b[38;5;28;01mFalse\u001b[39;00m):\n\u001b[0;32m--> 264\u001b[0m     \u001b[43mtarget\u001b[49m\u001b[38;5;241;43m.\u001b[39;49m\u001b[43mmerge_with\u001b[49m\u001b[43m(\u001b[49m\u001b[38;5;241;43m*\u001b[39;49m\u001b[43mconfigs\u001b[49m\u001b[43m[\u001b[49m\u001b[38;5;241;43m1\u001b[39;49m\u001b[43m:\u001b[49m\u001b[43m]\u001b[49m\u001b[43m)\u001b[49m\n\u001b[1;32m    265\u001b[0m     turned_readonly \u001b[38;5;241m=\u001b[39m target\u001b[38;5;241m.\u001b[39m_get_flag(\u001b[38;5;124m\"\u001b[39m\u001b[38;5;124mreadonly\u001b[39m\u001b[38;5;124m\"\u001b[39m) \u001b[38;5;129;01mis\u001b[39;00m \u001b[38;5;28;01mTrue\u001b[39;00m\n",
      "File \u001b[0;32m~/projects/l2hmc-qcd/.venv/lib/python3.10/site-packages/omegaconf/basecontainer.py:452\u001b[0m, in \u001b[0;36mBaseContainer.merge_with\u001b[0;34m(self, *others)\u001b[0m\n\u001b[1;32m    451\u001b[0m \u001b[38;5;28;01mexcept\u001b[39;00m \u001b[38;5;167;01mException\u001b[39;00m \u001b[38;5;28;01mas\u001b[39;00m e:\n\u001b[0;32m--> 452\u001b[0m     \u001b[38;5;28;43mself\u001b[39;49m\u001b[38;5;241;43m.\u001b[39;49m\u001b[43m_format_and_raise\u001b[49m\u001b[43m(\u001b[49m\u001b[43mkey\u001b[49m\u001b[38;5;241;43m=\u001b[39;49m\u001b[38;5;28;43;01mNone\u001b[39;49;00m\u001b[43m,\u001b[49m\u001b[43m \u001b[49m\u001b[43mvalue\u001b[49m\u001b[38;5;241;43m=\u001b[39;49m\u001b[38;5;28;43;01mNone\u001b[39;49;00m\u001b[43m,\u001b[49m\u001b[43m \u001b[49m\u001b[43mcause\u001b[49m\u001b[38;5;241;43m=\u001b[39;49m\u001b[43me\u001b[49m\u001b[43m)\u001b[49m\n",
      "File \u001b[0;32m~/projects/l2hmc-qcd/.venv/lib/python3.10/site-packages/omegaconf/base.py:190\u001b[0m, in \u001b[0;36mNode._format_and_raise\u001b[0;34m(self, key, value, cause, type_override)\u001b[0m\n\u001b[1;32m    187\u001b[0m \u001b[38;5;28;01mdef\u001b[39;00m \u001b[38;5;21m_format_and_raise\u001b[39m(\n\u001b[1;32m    188\u001b[0m     \u001b[38;5;28mself\u001b[39m, key: Any, value: Any, cause: \u001b[38;5;167;01mException\u001b[39;00m, type_override: Any \u001b[38;5;241m=\u001b[39m \u001b[38;5;28;01mNone\u001b[39;00m\n\u001b[1;32m    189\u001b[0m ) \u001b[38;5;241m-\u001b[39m\u001b[38;5;241m>\u001b[39m \u001b[38;5;28;01mNone\u001b[39;00m:\n\u001b[0;32m--> 190\u001b[0m     \u001b[43mformat_and_raise\u001b[49m\u001b[43m(\u001b[49m\n\u001b[1;32m    191\u001b[0m \u001b[43m        \u001b[49m\u001b[43mnode\u001b[49m\u001b[38;5;241;43m=\u001b[39;49m\u001b[38;5;28;43mself\u001b[39;49m\u001b[43m,\u001b[49m\n\u001b[1;32m    192\u001b[0m \u001b[43m        \u001b[49m\u001b[43mkey\u001b[49m\u001b[38;5;241;43m=\u001b[39;49m\u001b[43mkey\u001b[49m\u001b[43m,\u001b[49m\n\u001b[1;32m    193\u001b[0m \u001b[43m        \u001b[49m\u001b[43mvalue\u001b[49m\u001b[38;5;241;43m=\u001b[39;49m\u001b[43mvalue\u001b[49m\u001b[43m,\u001b[49m\n\u001b[1;32m    194\u001b[0m \u001b[43m        \u001b[49m\u001b[43mmsg\u001b[49m\u001b[38;5;241;43m=\u001b[39;49m\u001b[38;5;28;43mstr\u001b[39;49m\u001b[43m(\u001b[49m\u001b[43mcause\u001b[49m\u001b[43m)\u001b[49m\u001b[43m,\u001b[49m\n\u001b[1;32m    195\u001b[0m \u001b[43m        \u001b[49m\u001b[43mcause\u001b[49m\u001b[38;5;241;43m=\u001b[39;49m\u001b[43mcause\u001b[49m\u001b[43m,\u001b[49m\n\u001b[1;32m    196\u001b[0m \u001b[43m        \u001b[49m\u001b[43mtype_override\u001b[49m\u001b[38;5;241;43m=\u001b[39;49m\u001b[43mtype_override\u001b[49m\u001b[43m,\u001b[49m\n\u001b[1;32m    197\u001b[0m \u001b[43m    \u001b[49m\u001b[43m)\u001b[49m\n\u001b[1;32m    198\u001b[0m     \u001b[38;5;28;01massert\u001b[39;00m \u001b[38;5;28;01mFalse\u001b[39;00m\n",
      "File \u001b[0;32m~/projects/l2hmc-qcd/.venv/lib/python3.10/site-packages/omegaconf/_utils.py:738\u001b[0m, in \u001b[0;36mformat_and_raise\u001b[0;34m(node, key, value, msg, cause, type_override)\u001b[0m\n\u001b[1;32m    737\u001b[0m         ex\u001b[38;5;241m.\u001b[39m\u001b[38;5;18m__dict__\u001b[39m \u001b[38;5;241m=\u001b[39m copy\u001b[38;5;241m.\u001b[39mdeepcopy(cause\u001b[38;5;241m.\u001b[39m\u001b[38;5;18m__dict__\u001b[39m)\n\u001b[0;32m--> 738\u001b[0m     \u001b[43m_raise\u001b[49m\u001b[43m(\u001b[49m\u001b[43mex\u001b[49m\u001b[43m,\u001b[49m\u001b[43m \u001b[49m\u001b[43mcause\u001b[49m\u001b[43m)\u001b[49m\n\u001b[1;32m    740\u001b[0m object_type: Optional[Type[Any]]\n",
      "File \u001b[0;32m~/projects/l2hmc-qcd/.venv/lib/python3.10/site-packages/omegaconf/_utils.py:716\u001b[0m, in \u001b[0;36m_raise\u001b[0;34m(ex, cause)\u001b[0m\n\u001b[1;32m    715\u001b[0m     ex\u001b[38;5;241m.\u001b[39m__cause__ \u001b[38;5;241m=\u001b[39m \u001b[38;5;28;01mNone\u001b[39;00m\n\u001b[0;32m--> 716\u001b[0m \u001b[38;5;28;01mraise\u001b[39;00m ex\u001b[38;5;241m.\u001b[39mwith_traceback(sys\u001b[38;5;241m.\u001b[39mexc_info()[\u001b[38;5;241m2\u001b[39m])\n",
      "File \u001b[0;32m~/projects/l2hmc-qcd/.venv/lib/python3.10/site-packages/omegaconf/basecontainer.py:450\u001b[0m, in \u001b[0;36mBaseContainer.merge_with\u001b[0;34m(self, *others)\u001b[0m\n\u001b[1;32m    449\u001b[0m \u001b[38;5;28;01mtry\u001b[39;00m:\n\u001b[0;32m--> 450\u001b[0m     \u001b[38;5;28;43mself\u001b[39;49m\u001b[38;5;241;43m.\u001b[39;49m\u001b[43m_merge_with\u001b[49m\u001b[43m(\u001b[49m\u001b[38;5;241;43m*\u001b[39;49m\u001b[43mothers\u001b[49m\u001b[43m)\u001b[49m\n\u001b[1;32m    451\u001b[0m \u001b[38;5;28;01mexcept\u001b[39;00m \u001b[38;5;167;01mException\u001b[39;00m \u001b[38;5;28;01mas\u001b[39;00m e:\n",
      "File \u001b[0;32m~/projects/l2hmc-qcd/.venv/lib/python3.10/site-packages/omegaconf/basecontainer.py:474\u001b[0m, in \u001b[0;36mBaseContainer._merge_with\u001b[0;34m(self, *others)\u001b[0m\n\u001b[1;32m    473\u001b[0m \u001b[38;5;28;01mif\u001b[39;00m \u001b[38;5;28misinstance\u001b[39m(\u001b[38;5;28mself\u001b[39m, DictConfig) \u001b[38;5;129;01mand\u001b[39;00m \u001b[38;5;28misinstance\u001b[39m(other, DictConfig):\n\u001b[0;32m--> 474\u001b[0m     \u001b[43mBaseContainer\u001b[49m\u001b[38;5;241;43m.\u001b[39;49m\u001b[43m_map_merge\u001b[49m\u001b[43m(\u001b[49m\u001b[38;5;28;43mself\u001b[39;49m\u001b[43m,\u001b[49m\u001b[43m \u001b[49m\u001b[43mother\u001b[49m\u001b[43m)\u001b[49m\n\u001b[1;32m    475\u001b[0m \u001b[38;5;28;01melif\u001b[39;00m \u001b[38;5;28misinstance\u001b[39m(\u001b[38;5;28mself\u001b[39m, ListConfig) \u001b[38;5;129;01mand\u001b[39;00m \u001b[38;5;28misinstance\u001b[39m(other, ListConfig):\n",
      "File \u001b[0;32m~/projects/l2hmc-qcd/.venv/lib/python3.10/site-packages/omegaconf/basecontainer.py:392\u001b[0m, in \u001b[0;36mBaseContainer._map_merge\u001b[0;34m(dest, src)\u001b[0m\n\u001b[1;32m    391\u001b[0m         \u001b[38;5;28;01melse\u001b[39;00m:\n\u001b[0;32m--> 392\u001b[0m             dest[key] \u001b[38;5;241m=\u001b[39m src\u001b[38;5;241m.\u001b[39m_get_node(key)\n\u001b[1;32m    394\u001b[0m _update_types(node\u001b[38;5;241m=\u001b[39mdest, ref_type\u001b[38;5;241m=\u001b[39msrc_ref_type, object_type\u001b[38;5;241m=\u001b[39msrc_type)\n",
      "File \u001b[0;32m~/projects/l2hmc-qcd/.venv/lib/python3.10/site-packages/omegaconf/dictconfig.py:310\u001b[0m, in \u001b[0;36mDictConfig.__setitem__\u001b[0;34m(self, key, value)\u001b[0m\n\u001b[1;32m    309\u001b[0m \u001b[38;5;28;01mexcept\u001b[39;00m \u001b[38;5;167;01mAttributeError\u001b[39;00m \u001b[38;5;28;01mas\u001b[39;00m e:\n\u001b[0;32m--> 310\u001b[0m     \u001b[38;5;28;43mself\u001b[39;49m\u001b[38;5;241;43m.\u001b[39;49m\u001b[43m_format_and_raise\u001b[49m\u001b[43m(\u001b[49m\n\u001b[1;32m    311\u001b[0m \u001b[43m        \u001b[49m\u001b[43mkey\u001b[49m\u001b[38;5;241;43m=\u001b[39;49m\u001b[43mkey\u001b[49m\u001b[43m,\u001b[49m\u001b[43m \u001b[49m\u001b[43mvalue\u001b[49m\u001b[38;5;241;43m=\u001b[39;49m\u001b[43mvalue\u001b[49m\u001b[43m,\u001b[49m\u001b[43m \u001b[49m\u001b[43mtype_override\u001b[49m\u001b[38;5;241;43m=\u001b[39;49m\u001b[43mConfigKeyError\u001b[49m\u001b[43m,\u001b[49m\u001b[43m \u001b[49m\u001b[43mcause\u001b[49m\u001b[38;5;241;43m=\u001b[39;49m\u001b[43me\u001b[49m\n\u001b[1;32m    312\u001b[0m \u001b[43m    \u001b[49m\u001b[43m)\u001b[49m\n\u001b[1;32m    313\u001b[0m \u001b[38;5;28;01mexcept\u001b[39;00m \u001b[38;5;167;01mException\u001b[39;00m \u001b[38;5;28;01mas\u001b[39;00m e:\n",
      "File \u001b[0;32m~/projects/l2hmc-qcd/.venv/lib/python3.10/site-packages/omegaconf/base.py:190\u001b[0m, in \u001b[0;36mNode._format_and_raise\u001b[0;34m(self, key, value, cause, type_override)\u001b[0m\n\u001b[1;32m    187\u001b[0m \u001b[38;5;28;01mdef\u001b[39;00m \u001b[38;5;21m_format_and_raise\u001b[39m(\n\u001b[1;32m    188\u001b[0m     \u001b[38;5;28mself\u001b[39m, key: Any, value: Any, cause: \u001b[38;5;167;01mException\u001b[39;00m, type_override: Any \u001b[38;5;241m=\u001b[39m \u001b[38;5;28;01mNone\u001b[39;00m\n\u001b[1;32m    189\u001b[0m ) \u001b[38;5;241m-\u001b[39m\u001b[38;5;241m>\u001b[39m \u001b[38;5;28;01mNone\u001b[39;00m:\n\u001b[0;32m--> 190\u001b[0m     \u001b[43mformat_and_raise\u001b[49m\u001b[43m(\u001b[49m\n\u001b[1;32m    191\u001b[0m \u001b[43m        \u001b[49m\u001b[43mnode\u001b[49m\u001b[38;5;241;43m=\u001b[39;49m\u001b[38;5;28;43mself\u001b[39;49m\u001b[43m,\u001b[49m\n\u001b[1;32m    192\u001b[0m \u001b[43m        \u001b[49m\u001b[43mkey\u001b[49m\u001b[38;5;241;43m=\u001b[39;49m\u001b[43mkey\u001b[49m\u001b[43m,\u001b[49m\n\u001b[1;32m    193\u001b[0m \u001b[43m        \u001b[49m\u001b[43mvalue\u001b[49m\u001b[38;5;241;43m=\u001b[39;49m\u001b[43mvalue\u001b[49m\u001b[43m,\u001b[49m\n\u001b[1;32m    194\u001b[0m \u001b[43m        \u001b[49m\u001b[43mmsg\u001b[49m\u001b[38;5;241;43m=\u001b[39;49m\u001b[38;5;28;43mstr\u001b[39;49m\u001b[43m(\u001b[49m\u001b[43mcause\u001b[49m\u001b[43m)\u001b[49m\u001b[43m,\u001b[49m\n\u001b[1;32m    195\u001b[0m \u001b[43m        \u001b[49m\u001b[43mcause\u001b[49m\u001b[38;5;241;43m=\u001b[39;49m\u001b[43mcause\u001b[49m\u001b[43m,\u001b[49m\n\u001b[1;32m    196\u001b[0m \u001b[43m        \u001b[49m\u001b[43mtype_override\u001b[49m\u001b[38;5;241;43m=\u001b[39;49m\u001b[43mtype_override\u001b[49m\u001b[43m,\u001b[49m\n\u001b[1;32m    197\u001b[0m \u001b[43m    \u001b[49m\u001b[43m)\u001b[49m\n\u001b[1;32m    198\u001b[0m     \u001b[38;5;28;01massert\u001b[39;00m \u001b[38;5;28;01mFalse\u001b[39;00m\n",
      "File \u001b[0;32m~/projects/l2hmc-qcd/.venv/lib/python3.10/site-packages/omegaconf/_utils.py:738\u001b[0m, in \u001b[0;36mformat_and_raise\u001b[0;34m(node, key, value, msg, cause, type_override)\u001b[0m\n\u001b[1;32m    737\u001b[0m         ex\u001b[38;5;241m.\u001b[39m\u001b[38;5;18m__dict__\u001b[39m \u001b[38;5;241m=\u001b[39m copy\u001b[38;5;241m.\u001b[39mdeepcopy(cause\u001b[38;5;241m.\u001b[39m\u001b[38;5;18m__dict__\u001b[39m)\n\u001b[0;32m--> 738\u001b[0m     \u001b[43m_raise\u001b[49m\u001b[43m(\u001b[49m\u001b[43mex\u001b[49m\u001b[43m,\u001b[49m\u001b[43m \u001b[49m\u001b[43mcause\u001b[49m\u001b[43m)\u001b[49m\n\u001b[1;32m    740\u001b[0m object_type: Optional[Type[Any]]\n",
      "File \u001b[0;32m~/projects/l2hmc-qcd/.venv/lib/python3.10/site-packages/omegaconf/_utils.py:716\u001b[0m, in \u001b[0;36m_raise\u001b[0;34m(ex, cause)\u001b[0m\n\u001b[1;32m    715\u001b[0m     ex\u001b[38;5;241m.\u001b[39m__cause__ \u001b[38;5;241m=\u001b[39m \u001b[38;5;28;01mNone\u001b[39;00m\n\u001b[0;32m--> 716\u001b[0m \u001b[38;5;28;01mraise\u001b[39;00m ex\u001b[38;5;241m.\u001b[39mwith_traceback(sys\u001b[38;5;241m.\u001b[39mexc_info()[\u001b[38;5;241m2\u001b[39m])\n",
      "File \u001b[0;32m~/projects/l2hmc-qcd/.venv/lib/python3.10/site-packages/omegaconf/dictconfig.py:308\u001b[0m, in \u001b[0;36mDictConfig.__setitem__\u001b[0;34m(self, key, value)\u001b[0m\n\u001b[1;32m    307\u001b[0m \u001b[38;5;28;01mtry\u001b[39;00m:\n\u001b[0;32m--> 308\u001b[0m     \u001b[38;5;28;43mself\u001b[39;49m\u001b[38;5;241;43m.\u001b[39;49m\u001b[43m__set_impl\u001b[49m\u001b[43m(\u001b[49m\u001b[43mkey\u001b[49m\u001b[38;5;241;43m=\u001b[39;49m\u001b[43mkey\u001b[49m\u001b[43m,\u001b[49m\u001b[43m \u001b[49m\u001b[43mvalue\u001b[49m\u001b[38;5;241;43m=\u001b[39;49m\u001b[43mvalue\u001b[49m\u001b[43m)\u001b[49m\n\u001b[1;32m    309\u001b[0m \u001b[38;5;28;01mexcept\u001b[39;00m \u001b[38;5;167;01mAttributeError\u001b[39;00m \u001b[38;5;28;01mas\u001b[39;00m e:\n",
      "File \u001b[0;32m~/projects/l2hmc-qcd/.venv/lib/python3.10/site-packages/omegaconf/dictconfig.py:318\u001b[0m, in \u001b[0;36mDictConfig.__set_impl\u001b[0;34m(self, key, value)\u001b[0m\n\u001b[1;32m    317\u001b[0m key \u001b[38;5;241m=\u001b[39m \u001b[38;5;28mself\u001b[39m\u001b[38;5;241m.\u001b[39m_validate_and_normalize_key(key)\n\u001b[0;32m--> 318\u001b[0m \u001b[38;5;28;43mself\u001b[39;49m\u001b[38;5;241;43m.\u001b[39;49m\u001b[43m_set_item_impl\u001b[49m\u001b[43m(\u001b[49m\u001b[43mkey\u001b[49m\u001b[43m,\u001b[49m\u001b[43m \u001b[49m\u001b[43mvalue\u001b[49m\u001b[43m)\u001b[49m\n",
      "File \u001b[0;32m~/projects/l2hmc-qcd/.venv/lib/python3.10/site-packages/omegaconf/basecontainer.py:507\u001b[0m, in \u001b[0;36mBaseContainer._set_item_impl\u001b[0;34m(self, key, value)\u001b[0m\n\u001b[1;32m    506\u001b[0m     value\u001b[38;5;241m.\u001b[39m_set_key(key)\n\u001b[0;32m--> 507\u001b[0m     \u001b[38;5;28;43mself\u001b[39;49m\u001b[38;5;241;43m.\u001b[39;49m\u001b[43m_validate_set\u001b[49m\u001b[43m(\u001b[49m\u001b[43mkey\u001b[49m\u001b[43m,\u001b[49m\u001b[43m \u001b[49m\u001b[43mvalue\u001b[49m\u001b[43m)\u001b[49m\n\u001b[1;32m    508\u001b[0m \u001b[38;5;28;01mfinally\u001b[39;00m:\n",
      "File \u001b[0;32m~/projects/l2hmc-qcd/.venv/lib/python3.10/site-packages/omegaconf/dictconfig.py:180\u001b[0m, in \u001b[0;36mDictConfig._validate_set\u001b[0;34m(self, key, value)\u001b[0m\n\u001b[1;32m    178\u001b[0m     \u001b[38;5;28;01mreturn\u001b[39;00m\n\u001b[0;32m--> 180\u001b[0m target \u001b[38;5;241m=\u001b[39m \u001b[38;5;28;43mself\u001b[39;49m\u001b[38;5;241;43m.\u001b[39;49m\u001b[43m_get_node\u001b[49m\u001b[43m(\u001b[49m\u001b[43mkey\u001b[49m\u001b[43m)\u001b[49m \u001b[38;5;28;01mif\u001b[39;00m key \u001b[38;5;129;01mis\u001b[39;00m \u001b[38;5;129;01mnot\u001b[39;00m \u001b[38;5;28;01mNone\u001b[39;00m \u001b[38;5;28;01melse\u001b[39;00m \u001b[38;5;28mself\u001b[39m\n\u001b[1;32m    182\u001b[0m target_has_ref_type \u001b[38;5;241m=\u001b[39m \u001b[38;5;28misinstance\u001b[39m(\n\u001b[1;32m    183\u001b[0m     target, DictConfig\n\u001b[1;32m    184\u001b[0m ) \u001b[38;5;129;01mand\u001b[39;00m target\u001b[38;5;241m.\u001b[39m_metadata\u001b[38;5;241m.\u001b[39mref_type \u001b[38;5;129;01mnot\u001b[39;00m \u001b[38;5;129;01min\u001b[39;00m (Any, \u001b[38;5;28mdict\u001b[39m)\n",
      "File \u001b[0;32m~/projects/l2hmc-qcd/.venv/lib/python3.10/site-packages/omegaconf/dictconfig.py:465\u001b[0m, in \u001b[0;36mDictConfig._get_node\u001b[0;34m(self, key, validate_access, throw_on_missing_value, throw_on_missing_key)\u001b[0m\n\u001b[1;32m    464\u001b[0m \u001b[38;5;28;01mif\u001b[39;00m validate_access:\n\u001b[0;32m--> 465\u001b[0m     \u001b[38;5;28;43mself\u001b[39;49m\u001b[38;5;241;43m.\u001b[39;49m\u001b[43m_validate_get\u001b[49m\u001b[43m(\u001b[49m\u001b[43mkey\u001b[49m\u001b[43m)\u001b[49m\n\u001b[1;32m    467\u001b[0m value: Optional[Node] \u001b[38;5;241m=\u001b[39m \u001b[38;5;28mself\u001b[39m\u001b[38;5;241m.\u001b[39m\u001b[38;5;18m__dict__\u001b[39m[\u001b[38;5;124m\"\u001b[39m\u001b[38;5;124m_content\u001b[39m\u001b[38;5;124m\"\u001b[39m]\u001b[38;5;241m.\u001b[39mget(key)\n",
      "File \u001b[0;32m~/projects/l2hmc-qcd/.venv/lib/python3.10/site-packages/omegaconf/dictconfig.py:166\u001b[0m, in \u001b[0;36mDictConfig._validate_get\u001b[0;34m(self, key, value)\u001b[0m\n\u001b[1;32m    165\u001b[0m     msg \u001b[38;5;241m=\u001b[39m \u001b[38;5;124mf\u001b[39m\u001b[38;5;124m\"\u001b[39m\u001b[38;5;124mKey \u001b[39m\u001b[38;5;124m'\u001b[39m\u001b[38;5;132;01m{\u001b[39;00mkey\u001b[38;5;132;01m}\u001b[39;00m\u001b[38;5;124m'\u001b[39m\u001b[38;5;124m is not in struct\u001b[39m\u001b[38;5;124m\"\u001b[39m\n\u001b[0;32m--> 166\u001b[0m \u001b[38;5;28;43mself\u001b[39;49m\u001b[38;5;241;43m.\u001b[39;49m\u001b[43m_format_and_raise\u001b[49m\u001b[43m(\u001b[49m\n\u001b[1;32m    167\u001b[0m \u001b[43m    \u001b[49m\u001b[43mkey\u001b[49m\u001b[38;5;241;43m=\u001b[39;49m\u001b[43mkey\u001b[49m\u001b[43m,\u001b[49m\u001b[43m \u001b[49m\u001b[43mvalue\u001b[49m\u001b[38;5;241;43m=\u001b[39;49m\u001b[43mvalue\u001b[49m\u001b[43m,\u001b[49m\u001b[43m \u001b[49m\u001b[43mcause\u001b[49m\u001b[38;5;241;43m=\u001b[39;49m\u001b[43mConfigAttributeError\u001b[49m\u001b[43m(\u001b[49m\u001b[43mmsg\u001b[49m\u001b[43m)\u001b[49m\n\u001b[1;32m    168\u001b[0m \u001b[43m\u001b[49m\u001b[43m)\u001b[49m\n",
      "File \u001b[0;32m~/projects/l2hmc-qcd/.venv/lib/python3.10/site-packages/omegaconf/base.py:190\u001b[0m, in \u001b[0;36mNode._format_and_raise\u001b[0;34m(self, key, value, cause, type_override)\u001b[0m\n\u001b[1;32m    187\u001b[0m \u001b[38;5;28;01mdef\u001b[39;00m \u001b[38;5;21m_format_and_raise\u001b[39m(\n\u001b[1;32m    188\u001b[0m     \u001b[38;5;28mself\u001b[39m, key: Any, value: Any, cause: \u001b[38;5;167;01mException\u001b[39;00m, type_override: Any \u001b[38;5;241m=\u001b[39m \u001b[38;5;28;01mNone\u001b[39;00m\n\u001b[1;32m    189\u001b[0m ) \u001b[38;5;241m-\u001b[39m\u001b[38;5;241m>\u001b[39m \u001b[38;5;28;01mNone\u001b[39;00m:\n\u001b[0;32m--> 190\u001b[0m     \u001b[43mformat_and_raise\u001b[49m\u001b[43m(\u001b[49m\n\u001b[1;32m    191\u001b[0m \u001b[43m        \u001b[49m\u001b[43mnode\u001b[49m\u001b[38;5;241;43m=\u001b[39;49m\u001b[38;5;28;43mself\u001b[39;49m\u001b[43m,\u001b[49m\n\u001b[1;32m    192\u001b[0m \u001b[43m        \u001b[49m\u001b[43mkey\u001b[49m\u001b[38;5;241;43m=\u001b[39;49m\u001b[43mkey\u001b[49m\u001b[43m,\u001b[49m\n\u001b[1;32m    193\u001b[0m \u001b[43m        \u001b[49m\u001b[43mvalue\u001b[49m\u001b[38;5;241;43m=\u001b[39;49m\u001b[43mvalue\u001b[49m\u001b[43m,\u001b[49m\n\u001b[1;32m    194\u001b[0m \u001b[43m        \u001b[49m\u001b[43mmsg\u001b[49m\u001b[38;5;241;43m=\u001b[39;49m\u001b[38;5;28;43mstr\u001b[39;49m\u001b[43m(\u001b[49m\u001b[43mcause\u001b[49m\u001b[43m)\u001b[49m\u001b[43m,\u001b[49m\n\u001b[1;32m    195\u001b[0m \u001b[43m        \u001b[49m\u001b[43mcause\u001b[49m\u001b[38;5;241;43m=\u001b[39;49m\u001b[43mcause\u001b[49m\u001b[43m,\u001b[49m\n\u001b[1;32m    196\u001b[0m \u001b[43m        \u001b[49m\u001b[43mtype_override\u001b[49m\u001b[38;5;241;43m=\u001b[39;49m\u001b[43mtype_override\u001b[49m\u001b[43m,\u001b[49m\n\u001b[1;32m    197\u001b[0m \u001b[43m    \u001b[49m\u001b[43m)\u001b[49m\n\u001b[1;32m    198\u001b[0m     \u001b[38;5;28;01massert\u001b[39;00m \u001b[38;5;28;01mFalse\u001b[39;00m\n",
      "File \u001b[0;32m~/projects/l2hmc-qcd/.venv/lib/python3.10/site-packages/omegaconf/_utils.py:818\u001b[0m, in \u001b[0;36mformat_and_raise\u001b[0;34m(node, key, value, msg, cause, type_override)\u001b[0m\n\u001b[1;32m    816\u001b[0m     ex\u001b[38;5;241m.\u001b[39mref_type_str \u001b[38;5;241m=\u001b[39m ref_type_str\n\u001b[0;32m--> 818\u001b[0m \u001b[43m_raise\u001b[49m\u001b[43m(\u001b[49m\u001b[43mex\u001b[49m\u001b[43m,\u001b[49m\u001b[43m \u001b[49m\u001b[43mcause\u001b[49m\u001b[43m)\u001b[49m\n",
      "File \u001b[0;32m~/projects/l2hmc-qcd/.venv/lib/python3.10/site-packages/omegaconf/_utils.py:716\u001b[0m, in \u001b[0;36m_raise\u001b[0;34m(ex, cause)\u001b[0m\n\u001b[1;32m    715\u001b[0m     ex\u001b[38;5;241m.\u001b[39m__cause__ \u001b[38;5;241m=\u001b[39m \u001b[38;5;28;01mNone\u001b[39;00m\n\u001b[0;32m--> 716\u001b[0m \u001b[38;5;28;01mraise\u001b[39;00m ex\u001b[38;5;241m.\u001b[39mwith_traceback(sys\u001b[38;5;241m.\u001b[39mexc_info()[\u001b[38;5;241m2\u001b[39m])\n",
      "\u001b[0;31mConfigKeyError\u001b[0m: Key '_target_' not in 'ExperimentConfig'\n    full_key: _target_\n    object_type=ExperimentConfig",
      "\nThe above exception was the direct cause of the following exception:\n",
      "\u001b[0;31mConfigCompositionException\u001b[0m                Traceback (most recent call last)",
      "Input \u001b[0;32mIn [57]\u001b[0m, in \u001b[0;36m<cell line: 3>\u001b[0;34m()\u001b[0m\n\u001b[1;32m      2\u001b[0m \u001b[38;5;66;03m#with initialize(config_path=\"../conf/\"):\u001b[39;00m\n\u001b[1;32m      3\u001b[0m \u001b[38;5;28;01mwith\u001b[39;00m initialize_config_dir(CONF_DIR\u001b[38;5;241m.\u001b[39mas_posix()):\n\u001b[0;32m----> 4\u001b[0m     cfg \u001b[38;5;241m=\u001b[39m \u001b[43mcompose\u001b[49m\u001b[43m(\u001b[49m\u001b[43mconfig_name\u001b[49m\u001b[38;5;241;43m=\u001b[39;49m\u001b[38;5;124;43m'\u001b[39;49m\u001b[38;5;124;43mconfig\u001b[39;49m\u001b[38;5;124;43m'\u001b[39;49m\u001b[43m)\u001b[49m \u001b[38;5;66;03m#, overrides=['mode=debug', 'framework=pytorch'])\u001b[39;00m\n\u001b[1;32m      5\u001b[0m     \u001b[38;5;28mprint\u001b[39m(OmegaConf\u001b[38;5;241m.\u001b[39mto_yaml(cfg))\n",
      "File \u001b[0;32m~/projects/l2hmc-qcd/.venv/lib/python3.10/site-packages/hydra/compose.py:33\u001b[0m, in \u001b[0;36mcompose\u001b[0;34m(config_name, overrides, return_hydra_config, strict)\u001b[0m\n\u001b[1;32m     31\u001b[0m gh \u001b[38;5;241m=\u001b[39m GlobalHydra\u001b[38;5;241m.\u001b[39minstance()\n\u001b[1;32m     32\u001b[0m \u001b[38;5;28;01massert\u001b[39;00m gh\u001b[38;5;241m.\u001b[39mhydra \u001b[38;5;129;01mis\u001b[39;00m \u001b[38;5;129;01mnot\u001b[39;00m \u001b[38;5;28;01mNone\u001b[39;00m\n\u001b[0;32m---> 33\u001b[0m cfg \u001b[38;5;241m=\u001b[39m \u001b[43mgh\u001b[49m\u001b[38;5;241;43m.\u001b[39;49m\u001b[43mhydra\u001b[49m\u001b[38;5;241;43m.\u001b[39;49m\u001b[43mcompose_config\u001b[49m\u001b[43m(\u001b[49m\n\u001b[1;32m     34\u001b[0m \u001b[43m    \u001b[49m\u001b[43mconfig_name\u001b[49m\u001b[38;5;241;43m=\u001b[39;49m\u001b[43mconfig_name\u001b[49m\u001b[43m,\u001b[49m\n\u001b[1;32m     35\u001b[0m \u001b[43m    \u001b[49m\u001b[43moverrides\u001b[49m\u001b[38;5;241;43m=\u001b[39;49m\u001b[43moverrides\u001b[49m\u001b[43m,\u001b[49m\n\u001b[1;32m     36\u001b[0m \u001b[43m    \u001b[49m\u001b[43mrun_mode\u001b[49m\u001b[38;5;241;43m=\u001b[39;49m\u001b[43mRunMode\u001b[49m\u001b[38;5;241;43m.\u001b[39;49m\u001b[43mRUN\u001b[49m\u001b[43m,\u001b[49m\n\u001b[1;32m     37\u001b[0m \u001b[43m    \u001b[49m\u001b[43mfrom_shell\u001b[49m\u001b[38;5;241;43m=\u001b[39;49m\u001b[38;5;28;43;01mFalse\u001b[39;49;00m\u001b[43m,\u001b[49m\n\u001b[1;32m     38\u001b[0m \u001b[43m    \u001b[49m\u001b[43mwith_log_configuration\u001b[49m\u001b[38;5;241;43m=\u001b[39;49m\u001b[38;5;28;43;01mFalse\u001b[39;49;00m\u001b[43m,\u001b[49m\n\u001b[1;32m     39\u001b[0m \u001b[43m\u001b[49m\u001b[43m)\u001b[49m\n\u001b[1;32m     40\u001b[0m \u001b[38;5;28;01massert\u001b[39;00m \u001b[38;5;28misinstance\u001b[39m(cfg, DictConfig)\n\u001b[1;32m     42\u001b[0m \u001b[38;5;28;01mif\u001b[39;00m \u001b[38;5;129;01mnot\u001b[39;00m return_hydra_config:\n",
      "File \u001b[0;32m~/projects/l2hmc-qcd/.venv/lib/python3.10/site-packages/hydra/_internal/hydra.py:559\u001b[0m, in \u001b[0;36mHydra.compose_config\u001b[0;34m(self, config_name, overrides, run_mode, with_log_configuration, from_shell)\u001b[0m\n\u001b[1;32m    542\u001b[0m \u001b[38;5;28;01mdef\u001b[39;00m \u001b[38;5;21mcompose_config\u001b[39m(\n\u001b[1;32m    543\u001b[0m     \u001b[38;5;28mself\u001b[39m,\n\u001b[1;32m    544\u001b[0m     config_name: Optional[\u001b[38;5;28mstr\u001b[39m],\n\u001b[0;32m   (...)\u001b[0m\n\u001b[1;32m    548\u001b[0m     from_shell: \u001b[38;5;28mbool\u001b[39m \u001b[38;5;241m=\u001b[39m \u001b[38;5;28;01mTrue\u001b[39;00m,\n\u001b[1;32m    549\u001b[0m ) \u001b[38;5;241m-\u001b[39m\u001b[38;5;241m>\u001b[39m DictConfig:\n\u001b[1;32m    550\u001b[0m     \u001b[38;5;124;03m\"\"\"\u001b[39;00m\n\u001b[1;32m    551\u001b[0m \u001b[38;5;124;03m    :param config_name:\u001b[39;00m\n\u001b[1;32m    552\u001b[0m \u001b[38;5;124;03m    :param overrides:\u001b[39;00m\n\u001b[0;32m   (...)\u001b[0m\n\u001b[1;32m    556\u001b[0m \u001b[38;5;124;03m    :return:\u001b[39;00m\n\u001b[1;32m    557\u001b[0m \u001b[38;5;124;03m    \"\"\"\u001b[39;00m\n\u001b[0;32m--> 559\u001b[0m     cfg \u001b[38;5;241m=\u001b[39m \u001b[38;5;28;43mself\u001b[39;49m\u001b[38;5;241;43m.\u001b[39;49m\u001b[43mconfig_loader\u001b[49m\u001b[38;5;241;43m.\u001b[39;49m\u001b[43mload_configuration\u001b[49m\u001b[43m(\u001b[49m\n\u001b[1;32m    560\u001b[0m \u001b[43m        \u001b[49m\u001b[43mconfig_name\u001b[49m\u001b[38;5;241;43m=\u001b[39;49m\u001b[43mconfig_name\u001b[49m\u001b[43m,\u001b[49m\n\u001b[1;32m    561\u001b[0m \u001b[43m        \u001b[49m\u001b[43moverrides\u001b[49m\u001b[38;5;241;43m=\u001b[39;49m\u001b[43moverrides\u001b[49m\u001b[43m,\u001b[49m\n\u001b[1;32m    562\u001b[0m \u001b[43m        \u001b[49m\u001b[43mrun_mode\u001b[49m\u001b[38;5;241;43m=\u001b[39;49m\u001b[43mrun_mode\u001b[49m\u001b[43m,\u001b[49m\n\u001b[1;32m    563\u001b[0m \u001b[43m        \u001b[49m\u001b[43mfrom_shell\u001b[49m\u001b[38;5;241;43m=\u001b[39;49m\u001b[43mfrom_shell\u001b[49m\u001b[43m,\u001b[49m\n\u001b[1;32m    564\u001b[0m \u001b[43m    \u001b[49m\u001b[43m)\u001b[49m\n\u001b[1;32m    565\u001b[0m     \u001b[38;5;28;01mif\u001b[39;00m with_log_configuration:\n\u001b[1;32m    566\u001b[0m         configure_log(cfg\u001b[38;5;241m.\u001b[39mhydra\u001b[38;5;241m.\u001b[39mhydra_logging, cfg\u001b[38;5;241m.\u001b[39mhydra\u001b[38;5;241m.\u001b[39mverbose)\n",
      "File \u001b[0;32m~/projects/l2hmc-qcd/.venv/lib/python3.10/site-packages/hydra/_internal/config_loader_impl.py:141\u001b[0m, in \u001b[0;36mConfigLoaderImpl.load_configuration\u001b[0;34m(self, config_name, overrides, run_mode, from_shell)\u001b[0m\n\u001b[1;32m    133\u001b[0m \u001b[38;5;28;01mdef\u001b[39;00m \u001b[38;5;21mload_configuration\u001b[39m(\n\u001b[1;32m    134\u001b[0m     \u001b[38;5;28mself\u001b[39m,\n\u001b[1;32m    135\u001b[0m     config_name: Optional[\u001b[38;5;28mstr\u001b[39m],\n\u001b[0;32m   (...)\u001b[0m\n\u001b[1;32m    138\u001b[0m     from_shell: \u001b[38;5;28mbool\u001b[39m \u001b[38;5;241m=\u001b[39m \u001b[38;5;28;01mTrue\u001b[39;00m,\n\u001b[1;32m    139\u001b[0m ) \u001b[38;5;241m-\u001b[39m\u001b[38;5;241m>\u001b[39m DictConfig:\n\u001b[1;32m    140\u001b[0m     \u001b[38;5;28;01mtry\u001b[39;00m:\n\u001b[0;32m--> 141\u001b[0m         \u001b[38;5;28;01mreturn\u001b[39;00m \u001b[38;5;28;43mself\u001b[39;49m\u001b[38;5;241;43m.\u001b[39;49m\u001b[43m_load_configuration_impl\u001b[49m\u001b[43m(\u001b[49m\n\u001b[1;32m    142\u001b[0m \u001b[43m            \u001b[49m\u001b[43mconfig_name\u001b[49m\u001b[38;5;241;43m=\u001b[39;49m\u001b[43mconfig_name\u001b[49m\u001b[43m,\u001b[49m\n\u001b[1;32m    143\u001b[0m \u001b[43m            \u001b[49m\u001b[43moverrides\u001b[49m\u001b[38;5;241;43m=\u001b[39;49m\u001b[43moverrides\u001b[49m\u001b[43m,\u001b[49m\n\u001b[1;32m    144\u001b[0m \u001b[43m            \u001b[49m\u001b[43mrun_mode\u001b[49m\u001b[38;5;241;43m=\u001b[39;49m\u001b[43mrun_mode\u001b[49m\u001b[43m,\u001b[49m\n\u001b[1;32m    145\u001b[0m \u001b[43m            \u001b[49m\u001b[43mfrom_shell\u001b[49m\u001b[38;5;241;43m=\u001b[39;49m\u001b[43mfrom_shell\u001b[49m\u001b[43m,\u001b[49m\n\u001b[1;32m    146\u001b[0m \u001b[43m        \u001b[49m\u001b[43m)\u001b[49m\n\u001b[1;32m    147\u001b[0m     \u001b[38;5;28;01mexcept\u001b[39;00m OmegaConfBaseException \u001b[38;5;28;01mas\u001b[39;00m e:\n\u001b[1;32m    148\u001b[0m         \u001b[38;5;28;01mraise\u001b[39;00m ConfigCompositionException()\u001b[38;5;241m.\u001b[39mwith_traceback(sys\u001b[38;5;241m.\u001b[39mexc_info()[\u001b[38;5;241m2\u001b[39m]) \u001b[38;5;28;01mfrom\u001b[39;00m \u001b[38;5;21;01me\u001b[39;00m\n",
      "File \u001b[0;32m~/projects/l2hmc-qcd/.venv/lib/python3.10/site-packages/hydra/_internal/config_loader_impl.py:249\u001b[0m, in \u001b[0;36mConfigLoaderImpl._load_configuration_impl\u001b[0;34m(self, config_name, overrides, run_mode, from_shell)\u001b[0m\n\u001b[1;32m    239\u001b[0m defaults_list \u001b[38;5;241m=\u001b[39m create_defaults_list(\n\u001b[1;32m    240\u001b[0m     repo\u001b[38;5;241m=\u001b[39mcaching_repo,\n\u001b[1;32m    241\u001b[0m     config_name\u001b[38;5;241m=\u001b[39mconfig_name,\n\u001b[0;32m   (...)\u001b[0m\n\u001b[1;32m    244\u001b[0m     skip_missing\u001b[38;5;241m=\u001b[39mrun_mode \u001b[38;5;241m==\u001b[39m RunMode\u001b[38;5;241m.\u001b[39mMULTIRUN,\n\u001b[1;32m    245\u001b[0m )\n\u001b[1;32m    247\u001b[0m config_overrides \u001b[38;5;241m=\u001b[39m defaults_list\u001b[38;5;241m.\u001b[39mconfig_overrides\n\u001b[0;32m--> 249\u001b[0m cfg \u001b[38;5;241m=\u001b[39m \u001b[38;5;28;43mself\u001b[39;49m\u001b[38;5;241;43m.\u001b[39;49m\u001b[43m_compose_config_from_defaults_list\u001b[49m\u001b[43m(\u001b[49m\n\u001b[1;32m    250\u001b[0m \u001b[43m    \u001b[49m\u001b[43mdefaults\u001b[49m\u001b[38;5;241;43m=\u001b[39;49m\u001b[43mdefaults_list\u001b[49m\u001b[38;5;241;43m.\u001b[39;49m\u001b[43mdefaults\u001b[49m\u001b[43m,\u001b[49m\u001b[43m \u001b[49m\u001b[43mrepo\u001b[49m\u001b[38;5;241;43m=\u001b[39;49m\u001b[43mcaching_repo\u001b[49m\n\u001b[1;32m    251\u001b[0m \u001b[43m\u001b[49m\u001b[43m)\u001b[49m\n\u001b[1;32m    253\u001b[0m \u001b[38;5;66;03m# Set config root to struct mode.\u001b[39;00m\n\u001b[1;32m    254\u001b[0m \u001b[38;5;66;03m# Note that this will close any dictionaries (including dicts annotated as Dict[K, V].\u001b[39;00m\n\u001b[1;32m    255\u001b[0m \u001b[38;5;66;03m# One must use + to add new fields to them.\u001b[39;00m\n\u001b[1;32m    256\u001b[0m OmegaConf\u001b[38;5;241m.\u001b[39mset_struct(cfg, \u001b[38;5;28;01mTrue\u001b[39;00m)\n",
      "File \u001b[0;32m~/projects/l2hmc-qcd/.venv/lib/python3.10/site-packages/hydra/_internal/config_loader_impl.py:517\u001b[0m, in \u001b[0;36mConfigLoaderImpl._compose_config_from_defaults_list\u001b[0;34m(self, defaults, repo)\u001b[0m\n\u001b[1;32m    515\u001b[0m \u001b[38;5;28;01mwith\u001b[39;00m flag_override(cfg, \u001b[38;5;124m\"\u001b[39m\u001b[38;5;124mno_deepcopy_set_nodes\u001b[39m\u001b[38;5;124m\"\u001b[39m, \u001b[38;5;28;01mTrue\u001b[39;00m):\n\u001b[1;32m    516\u001b[0m     \u001b[38;5;28;01mfor\u001b[39;00m default \u001b[38;5;129;01min\u001b[39;00m defaults:\n\u001b[0;32m--> 517\u001b[0m         loaded \u001b[38;5;241m=\u001b[39m \u001b[38;5;28;43mself\u001b[39;49m\u001b[38;5;241;43m.\u001b[39;49m\u001b[43m_load_single_config\u001b[49m\u001b[43m(\u001b[49m\u001b[43mdefault\u001b[49m\u001b[38;5;241;43m=\u001b[39;49m\u001b[43mdefault\u001b[49m\u001b[43m,\u001b[49m\u001b[43m \u001b[49m\u001b[43mrepo\u001b[49m\u001b[38;5;241;43m=\u001b[39;49m\u001b[43mrepo\u001b[49m\u001b[43m)\u001b[49m\n\u001b[1;32m    518\u001b[0m         \u001b[38;5;28;01mtry\u001b[39;00m:\n\u001b[1;32m    519\u001b[0m             cfg\u001b[38;5;241m.\u001b[39mmerge_with(loaded\u001b[38;5;241m.\u001b[39mconfig)\n",
      "File \u001b[0;32m~/projects/l2hmc-qcd/.venv/lib/python3.10/site-packages/hydra/_internal/config_loader_impl.py:464\u001b[0m, in \u001b[0;36mConfigLoaderImpl._load_single_config\u001b[0;34m(self, default, repo)\u001b[0m\n\u001b[1;32m    462\u001b[0m             ret\u001b[38;5;241m.\u001b[39mconfig \u001b[38;5;241m=\u001b[39m merged\n\u001b[1;32m    463\u001b[0m         \u001b[38;5;28;01mexcept\u001b[39;00m OmegaConfBaseException \u001b[38;5;28;01mas\u001b[39;00m e:\n\u001b[0;32m--> 464\u001b[0m             \u001b[38;5;28;01mraise\u001b[39;00m ConfigCompositionException(\n\u001b[1;32m    465\u001b[0m                 \u001b[38;5;124mf\u001b[39m\u001b[38;5;124m\"\u001b[39m\u001b[38;5;124mError merging \u001b[39m\u001b[38;5;124m'\u001b[39m\u001b[38;5;132;01m{\u001b[39;00mconfig_path\u001b[38;5;132;01m}\u001b[39;00m\u001b[38;5;124m'\u001b[39m\u001b[38;5;124m with schema\u001b[39m\u001b[38;5;124m\"\u001b[39m\n\u001b[1;32m    466\u001b[0m             ) \u001b[38;5;28;01mfrom\u001b[39;00m \u001b[38;5;21;01me\u001b[39;00m\n\u001b[1;32m    468\u001b[0m         \u001b[38;5;28;01massert\u001b[39;00m \u001b[38;5;28misinstance\u001b[39m(merged, DictConfig)\n\u001b[1;32m    470\u001b[0m res \u001b[38;5;241m=\u001b[39m \u001b[38;5;28mself\u001b[39m\u001b[38;5;241m.\u001b[39m_embed_result_config(ret, default\u001b[38;5;241m.\u001b[39mpackage)\n",
      "\u001b[0;31mConfigCompositionException\u001b[0m: Error merging 'config' with schema"
     ]
    }
   ],
   "source": [
    "GlobalHydra.instance().clear()\n",
    "#with initialize(config_path=\"../conf/\"):\n",
    "with initialize_config_dir(CONF_DIR.as_posix()):\n",
    "    cfg = compose(config_name='config') #, overrides=['mode=debug', 'framework=pytorch'])\n",
    "    print(OmegaConf.to_yaml(cfg))\n",
    "    #experiment = Experiment(cfg)"
   ]
  },
  {
   "cell_type": "code",
   "execution_count": 60,
   "id": "422342ac",
   "metadata": {
    "ExecuteTime": {
     "end_time": "2022-04-21T02:27:24.691193Z",
     "start_time": "2022-04-21T02:27:24.446514Z"
    }
   },
   "outputs": [
    {
     "ename": "ConfigKeyError",
     "evalue": "Key '_target_' not in 'ExperimentConfig'\n    full_key: _target_\n    object_type=ExperimentConfig",
     "output_type": "error",
     "traceback": [
      "\u001b[0;31m---------------------------------------------------------------------------\u001b[0m",
      "\u001b[0;31mConfigKeyError\u001b[0m                            Traceback (most recent call last)",
      "Input \u001b[0;32mIn [60]\u001b[0m, in \u001b[0;36m<cell line: 5>\u001b[0;34m()\u001b[0m\n\u001b[1;32m      3\u001b[0m conf \u001b[38;5;241m=\u001b[39m OmegaConf\u001b[38;5;241m.\u001b[39mload(\u001b[38;5;124m\"\u001b[39m\u001b[38;5;124m../conf/config.yaml\u001b[39m\u001b[38;5;124m\"\u001b[39m)\n\u001b[1;32m      4\u001b[0m \u001b[38;5;66;03m#with raises(ValidationError):\u001b[39;00m\n\u001b[0;32m----> 5\u001b[0m cfg \u001b[38;5;241m=\u001b[39m \u001b[43mOmegaConf\u001b[49m\u001b[38;5;241;43m.\u001b[39;49m\u001b[43mmerge\u001b[49m\u001b[43m(\u001b[49m\u001b[43mschema\u001b[49m\u001b[43m,\u001b[49m\u001b[43m \u001b[49m\u001b[43mconf\u001b[49m\u001b[43m)\u001b[49m\n",
      "File \u001b[0;32m~/projects/l2hmc-qcd/.venv/lib/python3.10/site-packages/omegaconf/omegaconf.py:264\u001b[0m, in \u001b[0;36mOmegaConf.merge\u001b[0;34m(*configs)\u001b[0m\n\u001b[1;32m    261\u001b[0m \u001b[38;5;28;01massert\u001b[39;00m \u001b[38;5;28misinstance\u001b[39m(target, (DictConfig, ListConfig))\n\u001b[1;32m    263\u001b[0m \u001b[38;5;28;01mwith\u001b[39;00m flag_override(target, \u001b[38;5;124m\"\u001b[39m\u001b[38;5;124mreadonly\u001b[39m\u001b[38;5;124m\"\u001b[39m, \u001b[38;5;28;01mFalse\u001b[39;00m):\n\u001b[0;32m--> 264\u001b[0m     \u001b[43mtarget\u001b[49m\u001b[38;5;241;43m.\u001b[39;49m\u001b[43mmerge_with\u001b[49m\u001b[43m(\u001b[49m\u001b[38;5;241;43m*\u001b[39;49m\u001b[43mconfigs\u001b[49m\u001b[43m[\u001b[49m\u001b[38;5;241;43m1\u001b[39;49m\u001b[43m:\u001b[49m\u001b[43m]\u001b[49m\u001b[43m)\u001b[49m\n\u001b[1;32m    265\u001b[0m     turned_readonly \u001b[38;5;241m=\u001b[39m target\u001b[38;5;241m.\u001b[39m_get_flag(\u001b[38;5;124m\"\u001b[39m\u001b[38;5;124mreadonly\u001b[39m\u001b[38;5;124m\"\u001b[39m) \u001b[38;5;129;01mis\u001b[39;00m \u001b[38;5;28;01mTrue\u001b[39;00m\n\u001b[1;32m    267\u001b[0m \u001b[38;5;28;01mif\u001b[39;00m turned_readonly:\n",
      "File \u001b[0;32m~/projects/l2hmc-qcd/.venv/lib/python3.10/site-packages/omegaconf/basecontainer.py:452\u001b[0m, in \u001b[0;36mBaseContainer.merge_with\u001b[0;34m(self, *others)\u001b[0m\n\u001b[1;32m    450\u001b[0m     \u001b[38;5;28mself\u001b[39m\u001b[38;5;241m.\u001b[39m_merge_with(\u001b[38;5;241m*\u001b[39mothers)\n\u001b[1;32m    451\u001b[0m \u001b[38;5;28;01mexcept\u001b[39;00m \u001b[38;5;167;01mException\u001b[39;00m \u001b[38;5;28;01mas\u001b[39;00m e:\n\u001b[0;32m--> 452\u001b[0m     \u001b[38;5;28;43mself\u001b[39;49m\u001b[38;5;241;43m.\u001b[39;49m\u001b[43m_format_and_raise\u001b[49m\u001b[43m(\u001b[49m\u001b[43mkey\u001b[49m\u001b[38;5;241;43m=\u001b[39;49m\u001b[38;5;28;43;01mNone\u001b[39;49;00m\u001b[43m,\u001b[49m\u001b[43m \u001b[49m\u001b[43mvalue\u001b[49m\u001b[38;5;241;43m=\u001b[39;49m\u001b[38;5;28;43;01mNone\u001b[39;49;00m\u001b[43m,\u001b[49m\u001b[43m \u001b[49m\u001b[43mcause\u001b[49m\u001b[38;5;241;43m=\u001b[39;49m\u001b[43me\u001b[49m\u001b[43m)\u001b[49m\n",
      "File \u001b[0;32m~/projects/l2hmc-qcd/.venv/lib/python3.10/site-packages/omegaconf/base.py:190\u001b[0m, in \u001b[0;36mNode._format_and_raise\u001b[0;34m(self, key, value, cause, type_override)\u001b[0m\n\u001b[1;32m    187\u001b[0m \u001b[38;5;28;01mdef\u001b[39;00m \u001b[38;5;21m_format_and_raise\u001b[39m(\n\u001b[1;32m    188\u001b[0m     \u001b[38;5;28mself\u001b[39m, key: Any, value: Any, cause: \u001b[38;5;167;01mException\u001b[39;00m, type_override: Any \u001b[38;5;241m=\u001b[39m \u001b[38;5;28;01mNone\u001b[39;00m\n\u001b[1;32m    189\u001b[0m ) \u001b[38;5;241m-\u001b[39m\u001b[38;5;241m>\u001b[39m \u001b[38;5;28;01mNone\u001b[39;00m:\n\u001b[0;32m--> 190\u001b[0m     \u001b[43mformat_and_raise\u001b[49m\u001b[43m(\u001b[49m\n\u001b[1;32m    191\u001b[0m \u001b[43m        \u001b[49m\u001b[43mnode\u001b[49m\u001b[38;5;241;43m=\u001b[39;49m\u001b[38;5;28;43mself\u001b[39;49m\u001b[43m,\u001b[49m\n\u001b[1;32m    192\u001b[0m \u001b[43m        \u001b[49m\u001b[43mkey\u001b[49m\u001b[38;5;241;43m=\u001b[39;49m\u001b[43mkey\u001b[49m\u001b[43m,\u001b[49m\n\u001b[1;32m    193\u001b[0m \u001b[43m        \u001b[49m\u001b[43mvalue\u001b[49m\u001b[38;5;241;43m=\u001b[39;49m\u001b[43mvalue\u001b[49m\u001b[43m,\u001b[49m\n\u001b[1;32m    194\u001b[0m \u001b[43m        \u001b[49m\u001b[43mmsg\u001b[49m\u001b[38;5;241;43m=\u001b[39;49m\u001b[38;5;28;43mstr\u001b[39;49m\u001b[43m(\u001b[49m\u001b[43mcause\u001b[49m\u001b[43m)\u001b[49m\u001b[43m,\u001b[49m\n\u001b[1;32m    195\u001b[0m \u001b[43m        \u001b[49m\u001b[43mcause\u001b[49m\u001b[38;5;241;43m=\u001b[39;49m\u001b[43mcause\u001b[49m\u001b[43m,\u001b[49m\n\u001b[1;32m    196\u001b[0m \u001b[43m        \u001b[49m\u001b[43mtype_override\u001b[49m\u001b[38;5;241;43m=\u001b[39;49m\u001b[43mtype_override\u001b[49m\u001b[43m,\u001b[49m\n\u001b[1;32m    197\u001b[0m \u001b[43m    \u001b[49m\u001b[43m)\u001b[49m\n\u001b[1;32m    198\u001b[0m     \u001b[38;5;28;01massert\u001b[39;00m \u001b[38;5;28;01mFalse\u001b[39;00m\n",
      "File \u001b[0;32m~/projects/l2hmc-qcd/.venv/lib/python3.10/site-packages/omegaconf/_utils.py:738\u001b[0m, in \u001b[0;36mformat_and_raise\u001b[0;34m(node, key, value, msg, cause, type_override)\u001b[0m\n\u001b[1;32m    736\u001b[0m         ex \u001b[38;5;241m=\u001b[39m type_override(\u001b[38;5;28mstr\u001b[39m(cause))\n\u001b[1;32m    737\u001b[0m         ex\u001b[38;5;241m.\u001b[39m\u001b[38;5;18m__dict__\u001b[39m \u001b[38;5;241m=\u001b[39m copy\u001b[38;5;241m.\u001b[39mdeepcopy(cause\u001b[38;5;241m.\u001b[39m\u001b[38;5;18m__dict__\u001b[39m)\n\u001b[0;32m--> 738\u001b[0m     \u001b[43m_raise\u001b[49m\u001b[43m(\u001b[49m\u001b[43mex\u001b[49m\u001b[43m,\u001b[49m\u001b[43m \u001b[49m\u001b[43mcause\u001b[49m\u001b[43m)\u001b[49m\n\u001b[1;32m    740\u001b[0m object_type: Optional[Type[Any]]\n\u001b[1;32m    741\u001b[0m object_type_str: Optional[\u001b[38;5;28mstr\u001b[39m] \u001b[38;5;241m=\u001b[39m \u001b[38;5;28;01mNone\u001b[39;00m\n",
      "File \u001b[0;32m~/projects/l2hmc-qcd/.venv/lib/python3.10/site-packages/omegaconf/_utils.py:716\u001b[0m, in \u001b[0;36m_raise\u001b[0;34m(ex, cause)\u001b[0m\n\u001b[1;32m    714\u001b[0m \u001b[38;5;28;01melse\u001b[39;00m:\n\u001b[1;32m    715\u001b[0m     ex\u001b[38;5;241m.\u001b[39m__cause__ \u001b[38;5;241m=\u001b[39m \u001b[38;5;28;01mNone\u001b[39;00m\n\u001b[0;32m--> 716\u001b[0m \u001b[38;5;28;01mraise\u001b[39;00m ex\u001b[38;5;241m.\u001b[39mwith_traceback(sys\u001b[38;5;241m.\u001b[39mexc_info()[\u001b[38;5;241m2\u001b[39m])\n",
      "File \u001b[0;32m~/projects/l2hmc-qcd/.venv/lib/python3.10/site-packages/omegaconf/basecontainer.py:450\u001b[0m, in \u001b[0;36mBaseContainer.merge_with\u001b[0;34m(self, *others)\u001b[0m\n\u001b[1;32m    443\u001b[0m \u001b[38;5;28;01mdef\u001b[39;00m \u001b[38;5;21mmerge_with\u001b[39m(\n\u001b[1;32m    444\u001b[0m     \u001b[38;5;28mself\u001b[39m,\n\u001b[1;32m    445\u001b[0m     \u001b[38;5;241m*\u001b[39mothers: Union[\n\u001b[1;32m    446\u001b[0m         \u001b[38;5;124m\"\u001b[39m\u001b[38;5;124mBaseContainer\u001b[39m\u001b[38;5;124m\"\u001b[39m, Dict[\u001b[38;5;28mstr\u001b[39m, Any], List[Any], Tuple[Any, \u001b[38;5;241m.\u001b[39m\u001b[38;5;241m.\u001b[39m\u001b[38;5;241m.\u001b[39m], Any\n\u001b[1;32m    447\u001b[0m     ],\n\u001b[1;32m    448\u001b[0m ) \u001b[38;5;241m-\u001b[39m\u001b[38;5;241m>\u001b[39m \u001b[38;5;28;01mNone\u001b[39;00m:\n\u001b[1;32m    449\u001b[0m     \u001b[38;5;28;01mtry\u001b[39;00m:\n\u001b[0;32m--> 450\u001b[0m         \u001b[38;5;28;43mself\u001b[39;49m\u001b[38;5;241;43m.\u001b[39;49m\u001b[43m_merge_with\u001b[49m\u001b[43m(\u001b[49m\u001b[38;5;241;43m*\u001b[39;49m\u001b[43mothers\u001b[49m\u001b[43m)\u001b[49m\n\u001b[1;32m    451\u001b[0m     \u001b[38;5;28;01mexcept\u001b[39;00m \u001b[38;5;167;01mException\u001b[39;00m \u001b[38;5;28;01mas\u001b[39;00m e:\n\u001b[1;32m    452\u001b[0m         \u001b[38;5;28mself\u001b[39m\u001b[38;5;241m.\u001b[39m_format_and_raise(key\u001b[38;5;241m=\u001b[39m\u001b[38;5;28;01mNone\u001b[39;00m, value\u001b[38;5;241m=\u001b[39m\u001b[38;5;28;01mNone\u001b[39;00m, cause\u001b[38;5;241m=\u001b[39me)\n",
      "File \u001b[0;32m~/projects/l2hmc-qcd/.venv/lib/python3.10/site-packages/omegaconf/basecontainer.py:474\u001b[0m, in \u001b[0;36mBaseContainer._merge_with\u001b[0;34m(self, *others)\u001b[0m\n\u001b[1;32m    471\u001b[0m other \u001b[38;5;241m=\u001b[39m _ensure_container(other, flags\u001b[38;5;241m=\u001b[39mmy_flags)\n\u001b[1;32m    473\u001b[0m \u001b[38;5;28;01mif\u001b[39;00m \u001b[38;5;28misinstance\u001b[39m(\u001b[38;5;28mself\u001b[39m, DictConfig) \u001b[38;5;129;01mand\u001b[39;00m \u001b[38;5;28misinstance\u001b[39m(other, DictConfig):\n\u001b[0;32m--> 474\u001b[0m     \u001b[43mBaseContainer\u001b[49m\u001b[38;5;241;43m.\u001b[39;49m\u001b[43m_map_merge\u001b[49m\u001b[43m(\u001b[49m\u001b[38;5;28;43mself\u001b[39;49m\u001b[43m,\u001b[49m\u001b[43m \u001b[49m\u001b[43mother\u001b[49m\u001b[43m)\u001b[49m\n\u001b[1;32m    475\u001b[0m \u001b[38;5;28;01melif\u001b[39;00m \u001b[38;5;28misinstance\u001b[39m(\u001b[38;5;28mself\u001b[39m, ListConfig) \u001b[38;5;129;01mand\u001b[39;00m \u001b[38;5;28misinstance\u001b[39m(other, ListConfig):\n\u001b[1;32m    476\u001b[0m     BaseContainer\u001b[38;5;241m.\u001b[39m_list_merge(\u001b[38;5;28mself\u001b[39m, other)\n",
      "File \u001b[0;32m~/projects/l2hmc-qcd/.venv/lib/python3.10/site-packages/omegaconf/basecontainer.py:392\u001b[0m, in \u001b[0;36mBaseContainer._map_merge\u001b[0;34m(dest, src)\u001b[0m\n\u001b[1;32m    390\u001b[0m                 dest[key] \u001b[38;5;241m=\u001b[39m src\u001b[38;5;241m.\u001b[39m_get_node(key)\n\u001b[1;32m    391\u001b[0m         \u001b[38;5;28;01melse\u001b[39;00m:\n\u001b[0;32m--> 392\u001b[0m             dest[key] \u001b[38;5;241m=\u001b[39m src\u001b[38;5;241m.\u001b[39m_get_node(key)\n\u001b[1;32m    394\u001b[0m _update_types(node\u001b[38;5;241m=\u001b[39mdest, ref_type\u001b[38;5;241m=\u001b[39msrc_ref_type, object_type\u001b[38;5;241m=\u001b[39msrc_type)\n\u001b[1;32m    396\u001b[0m \u001b[38;5;66;03m# explicit flags on the source config are replacing the flag values in the destination\u001b[39;00m\n",
      "File \u001b[0;32m~/projects/l2hmc-qcd/.venv/lib/python3.10/site-packages/omegaconf/dictconfig.py:310\u001b[0m, in \u001b[0;36mDictConfig.__setitem__\u001b[0;34m(self, key, value)\u001b[0m\n\u001b[1;32m    308\u001b[0m     \u001b[38;5;28mself\u001b[39m\u001b[38;5;241m.\u001b[39m__set_impl(key\u001b[38;5;241m=\u001b[39mkey, value\u001b[38;5;241m=\u001b[39mvalue)\n\u001b[1;32m    309\u001b[0m \u001b[38;5;28;01mexcept\u001b[39;00m \u001b[38;5;167;01mAttributeError\u001b[39;00m \u001b[38;5;28;01mas\u001b[39;00m e:\n\u001b[0;32m--> 310\u001b[0m     \u001b[38;5;28;43mself\u001b[39;49m\u001b[38;5;241;43m.\u001b[39;49m\u001b[43m_format_and_raise\u001b[49m\u001b[43m(\u001b[49m\n\u001b[1;32m    311\u001b[0m \u001b[43m        \u001b[49m\u001b[43mkey\u001b[49m\u001b[38;5;241;43m=\u001b[39;49m\u001b[43mkey\u001b[49m\u001b[43m,\u001b[49m\u001b[43m \u001b[49m\u001b[43mvalue\u001b[49m\u001b[38;5;241;43m=\u001b[39;49m\u001b[43mvalue\u001b[49m\u001b[43m,\u001b[49m\u001b[43m \u001b[49m\u001b[43mtype_override\u001b[49m\u001b[38;5;241;43m=\u001b[39;49m\u001b[43mConfigKeyError\u001b[49m\u001b[43m,\u001b[49m\u001b[43m \u001b[49m\u001b[43mcause\u001b[49m\u001b[38;5;241;43m=\u001b[39;49m\u001b[43me\u001b[49m\n\u001b[1;32m    312\u001b[0m \u001b[43m    \u001b[49m\u001b[43m)\u001b[49m\n\u001b[1;32m    313\u001b[0m \u001b[38;5;28;01mexcept\u001b[39;00m \u001b[38;5;167;01mException\u001b[39;00m \u001b[38;5;28;01mas\u001b[39;00m e:\n\u001b[1;32m    314\u001b[0m     \u001b[38;5;28mself\u001b[39m\u001b[38;5;241m.\u001b[39m_format_and_raise(key\u001b[38;5;241m=\u001b[39mkey, value\u001b[38;5;241m=\u001b[39mvalue, cause\u001b[38;5;241m=\u001b[39me)\n",
      "File \u001b[0;32m~/projects/l2hmc-qcd/.venv/lib/python3.10/site-packages/omegaconf/base.py:190\u001b[0m, in \u001b[0;36mNode._format_and_raise\u001b[0;34m(self, key, value, cause, type_override)\u001b[0m\n\u001b[1;32m    187\u001b[0m \u001b[38;5;28;01mdef\u001b[39;00m \u001b[38;5;21m_format_and_raise\u001b[39m(\n\u001b[1;32m    188\u001b[0m     \u001b[38;5;28mself\u001b[39m, key: Any, value: Any, cause: \u001b[38;5;167;01mException\u001b[39;00m, type_override: Any \u001b[38;5;241m=\u001b[39m \u001b[38;5;28;01mNone\u001b[39;00m\n\u001b[1;32m    189\u001b[0m ) \u001b[38;5;241m-\u001b[39m\u001b[38;5;241m>\u001b[39m \u001b[38;5;28;01mNone\u001b[39;00m:\n\u001b[0;32m--> 190\u001b[0m     \u001b[43mformat_and_raise\u001b[49m\u001b[43m(\u001b[49m\n\u001b[1;32m    191\u001b[0m \u001b[43m        \u001b[49m\u001b[43mnode\u001b[49m\u001b[38;5;241;43m=\u001b[39;49m\u001b[38;5;28;43mself\u001b[39;49m\u001b[43m,\u001b[49m\n\u001b[1;32m    192\u001b[0m \u001b[43m        \u001b[49m\u001b[43mkey\u001b[49m\u001b[38;5;241;43m=\u001b[39;49m\u001b[43mkey\u001b[49m\u001b[43m,\u001b[49m\n\u001b[1;32m    193\u001b[0m \u001b[43m        \u001b[49m\u001b[43mvalue\u001b[49m\u001b[38;5;241;43m=\u001b[39;49m\u001b[43mvalue\u001b[49m\u001b[43m,\u001b[49m\n\u001b[1;32m    194\u001b[0m \u001b[43m        \u001b[49m\u001b[43mmsg\u001b[49m\u001b[38;5;241;43m=\u001b[39;49m\u001b[38;5;28;43mstr\u001b[39;49m\u001b[43m(\u001b[49m\u001b[43mcause\u001b[49m\u001b[43m)\u001b[49m\u001b[43m,\u001b[49m\n\u001b[1;32m    195\u001b[0m \u001b[43m        \u001b[49m\u001b[43mcause\u001b[49m\u001b[38;5;241;43m=\u001b[39;49m\u001b[43mcause\u001b[49m\u001b[43m,\u001b[49m\n\u001b[1;32m    196\u001b[0m \u001b[43m        \u001b[49m\u001b[43mtype_override\u001b[49m\u001b[38;5;241;43m=\u001b[39;49m\u001b[43mtype_override\u001b[49m\u001b[43m,\u001b[49m\n\u001b[1;32m    197\u001b[0m \u001b[43m    \u001b[49m\u001b[43m)\u001b[49m\n\u001b[1;32m    198\u001b[0m     \u001b[38;5;28;01massert\u001b[39;00m \u001b[38;5;28;01mFalse\u001b[39;00m\n",
      "File \u001b[0;32m~/projects/l2hmc-qcd/.venv/lib/python3.10/site-packages/omegaconf/_utils.py:738\u001b[0m, in \u001b[0;36mformat_and_raise\u001b[0;34m(node, key, value, msg, cause, type_override)\u001b[0m\n\u001b[1;32m    736\u001b[0m         ex \u001b[38;5;241m=\u001b[39m type_override(\u001b[38;5;28mstr\u001b[39m(cause))\n\u001b[1;32m    737\u001b[0m         ex\u001b[38;5;241m.\u001b[39m\u001b[38;5;18m__dict__\u001b[39m \u001b[38;5;241m=\u001b[39m copy\u001b[38;5;241m.\u001b[39mdeepcopy(cause\u001b[38;5;241m.\u001b[39m\u001b[38;5;18m__dict__\u001b[39m)\n\u001b[0;32m--> 738\u001b[0m     \u001b[43m_raise\u001b[49m\u001b[43m(\u001b[49m\u001b[43mex\u001b[49m\u001b[43m,\u001b[49m\u001b[43m \u001b[49m\u001b[43mcause\u001b[49m\u001b[43m)\u001b[49m\n\u001b[1;32m    740\u001b[0m object_type: Optional[Type[Any]]\n\u001b[1;32m    741\u001b[0m object_type_str: Optional[\u001b[38;5;28mstr\u001b[39m] \u001b[38;5;241m=\u001b[39m \u001b[38;5;28;01mNone\u001b[39;00m\n",
      "File \u001b[0;32m~/projects/l2hmc-qcd/.venv/lib/python3.10/site-packages/omegaconf/_utils.py:716\u001b[0m, in \u001b[0;36m_raise\u001b[0;34m(ex, cause)\u001b[0m\n\u001b[1;32m    714\u001b[0m \u001b[38;5;28;01melse\u001b[39;00m:\n\u001b[1;32m    715\u001b[0m     ex\u001b[38;5;241m.\u001b[39m__cause__ \u001b[38;5;241m=\u001b[39m \u001b[38;5;28;01mNone\u001b[39;00m\n\u001b[0;32m--> 716\u001b[0m \u001b[38;5;28;01mraise\u001b[39;00m ex\u001b[38;5;241m.\u001b[39mwith_traceback(sys\u001b[38;5;241m.\u001b[39mexc_info()[\u001b[38;5;241m2\u001b[39m])\n",
      "File \u001b[0;32m~/projects/l2hmc-qcd/.venv/lib/python3.10/site-packages/omegaconf/dictconfig.py:308\u001b[0m, in \u001b[0;36mDictConfig.__setitem__\u001b[0;34m(self, key, value)\u001b[0m\n\u001b[1;32m    306\u001b[0m \u001b[38;5;28;01mdef\u001b[39;00m \u001b[38;5;21m__setitem__\u001b[39m(\u001b[38;5;28mself\u001b[39m, key: DictKeyType, value: Any) \u001b[38;5;241m-\u001b[39m\u001b[38;5;241m>\u001b[39m \u001b[38;5;28;01mNone\u001b[39;00m:\n\u001b[1;32m    307\u001b[0m     \u001b[38;5;28;01mtry\u001b[39;00m:\n\u001b[0;32m--> 308\u001b[0m         \u001b[38;5;28;43mself\u001b[39;49m\u001b[38;5;241;43m.\u001b[39;49m\u001b[43m__set_impl\u001b[49m\u001b[43m(\u001b[49m\u001b[43mkey\u001b[49m\u001b[38;5;241;43m=\u001b[39;49m\u001b[43mkey\u001b[49m\u001b[43m,\u001b[49m\u001b[43m \u001b[49m\u001b[43mvalue\u001b[49m\u001b[38;5;241;43m=\u001b[39;49m\u001b[43mvalue\u001b[49m\u001b[43m)\u001b[49m\n\u001b[1;32m    309\u001b[0m     \u001b[38;5;28;01mexcept\u001b[39;00m \u001b[38;5;167;01mAttributeError\u001b[39;00m \u001b[38;5;28;01mas\u001b[39;00m e:\n\u001b[1;32m    310\u001b[0m         \u001b[38;5;28mself\u001b[39m\u001b[38;5;241m.\u001b[39m_format_and_raise(\n\u001b[1;32m    311\u001b[0m             key\u001b[38;5;241m=\u001b[39mkey, value\u001b[38;5;241m=\u001b[39mvalue, type_override\u001b[38;5;241m=\u001b[39mConfigKeyError, cause\u001b[38;5;241m=\u001b[39me\n\u001b[1;32m    312\u001b[0m         )\n",
      "File \u001b[0;32m~/projects/l2hmc-qcd/.venv/lib/python3.10/site-packages/omegaconf/dictconfig.py:318\u001b[0m, in \u001b[0;36mDictConfig.__set_impl\u001b[0;34m(self, key, value)\u001b[0m\n\u001b[1;32m    316\u001b[0m \u001b[38;5;28;01mdef\u001b[39;00m \u001b[38;5;21m__set_impl\u001b[39m(\u001b[38;5;28mself\u001b[39m, key: DictKeyType, value: Any) \u001b[38;5;241m-\u001b[39m\u001b[38;5;241m>\u001b[39m \u001b[38;5;28;01mNone\u001b[39;00m:\n\u001b[1;32m    317\u001b[0m     key \u001b[38;5;241m=\u001b[39m \u001b[38;5;28mself\u001b[39m\u001b[38;5;241m.\u001b[39m_validate_and_normalize_key(key)\n\u001b[0;32m--> 318\u001b[0m     \u001b[38;5;28;43mself\u001b[39;49m\u001b[38;5;241;43m.\u001b[39;49m\u001b[43m_set_item_impl\u001b[49m\u001b[43m(\u001b[49m\u001b[43mkey\u001b[49m\u001b[43m,\u001b[49m\u001b[43m \u001b[49m\u001b[43mvalue\u001b[49m\u001b[43m)\u001b[49m\n",
      "File \u001b[0;32m~/projects/l2hmc-qcd/.venv/lib/python3.10/site-packages/omegaconf/basecontainer.py:507\u001b[0m, in \u001b[0;36mBaseContainer._set_item_impl\u001b[0;34m(self, key, value)\u001b[0m\n\u001b[1;32m    505\u001b[0m     old \u001b[38;5;241m=\u001b[39m value\u001b[38;5;241m.\u001b[39m_key()\n\u001b[1;32m    506\u001b[0m     value\u001b[38;5;241m.\u001b[39m_set_key(key)\n\u001b[0;32m--> 507\u001b[0m     \u001b[38;5;28;43mself\u001b[39;49m\u001b[38;5;241;43m.\u001b[39;49m\u001b[43m_validate_set\u001b[49m\u001b[43m(\u001b[49m\u001b[43mkey\u001b[49m\u001b[43m,\u001b[49m\u001b[43m \u001b[49m\u001b[43mvalue\u001b[49m\u001b[43m)\u001b[49m\n\u001b[1;32m    508\u001b[0m \u001b[38;5;28;01mfinally\u001b[39;00m:\n\u001b[1;32m    509\u001b[0m     value\u001b[38;5;241m.\u001b[39m_set_key(old)\n",
      "File \u001b[0;32m~/projects/l2hmc-qcd/.venv/lib/python3.10/site-packages/omegaconf/dictconfig.py:180\u001b[0m, in \u001b[0;36mDictConfig._validate_set\u001b[0;34m(self, key, value)\u001b[0m\n\u001b[1;32m    177\u001b[0m \u001b[38;5;28;01mif\u001b[39;00m vk \u001b[38;5;241m==\u001b[39m ValueKind\u001b[38;5;241m.\u001b[39mMANDATORY_MISSING \u001b[38;5;129;01mor\u001b[39;00m value \u001b[38;5;129;01mis\u001b[39;00m \u001b[38;5;28;01mNone\u001b[39;00m:\n\u001b[1;32m    178\u001b[0m     \u001b[38;5;28;01mreturn\u001b[39;00m\n\u001b[0;32m--> 180\u001b[0m target \u001b[38;5;241m=\u001b[39m \u001b[38;5;28;43mself\u001b[39;49m\u001b[38;5;241;43m.\u001b[39;49m\u001b[43m_get_node\u001b[49m\u001b[43m(\u001b[49m\u001b[43mkey\u001b[49m\u001b[43m)\u001b[49m \u001b[38;5;28;01mif\u001b[39;00m key \u001b[38;5;129;01mis\u001b[39;00m \u001b[38;5;129;01mnot\u001b[39;00m \u001b[38;5;28;01mNone\u001b[39;00m \u001b[38;5;28;01melse\u001b[39;00m \u001b[38;5;28mself\u001b[39m\n\u001b[1;32m    182\u001b[0m target_has_ref_type \u001b[38;5;241m=\u001b[39m \u001b[38;5;28misinstance\u001b[39m(\n\u001b[1;32m    183\u001b[0m     target, DictConfig\n\u001b[1;32m    184\u001b[0m ) \u001b[38;5;129;01mand\u001b[39;00m target\u001b[38;5;241m.\u001b[39m_metadata\u001b[38;5;241m.\u001b[39mref_type \u001b[38;5;129;01mnot\u001b[39;00m \u001b[38;5;129;01min\u001b[39;00m (Any, \u001b[38;5;28mdict\u001b[39m)\n\u001b[1;32m    185\u001b[0m is_valid_target \u001b[38;5;241m=\u001b[39m target \u001b[38;5;129;01mis\u001b[39;00m \u001b[38;5;28;01mNone\u001b[39;00m \u001b[38;5;129;01mor\u001b[39;00m \u001b[38;5;129;01mnot\u001b[39;00m target_has_ref_type\n",
      "File \u001b[0;32m~/projects/l2hmc-qcd/.venv/lib/python3.10/site-packages/omegaconf/dictconfig.py:465\u001b[0m, in \u001b[0;36mDictConfig._get_node\u001b[0;34m(self, key, validate_access, throw_on_missing_value, throw_on_missing_key)\u001b[0m\n\u001b[1;32m    462\u001b[0m         \u001b[38;5;28;01mreturn\u001b[39;00m \u001b[38;5;28;01mNone\u001b[39;00m\n\u001b[1;32m    464\u001b[0m \u001b[38;5;28;01mif\u001b[39;00m validate_access:\n\u001b[0;32m--> 465\u001b[0m     \u001b[38;5;28;43mself\u001b[39;49m\u001b[38;5;241;43m.\u001b[39;49m\u001b[43m_validate_get\u001b[49m\u001b[43m(\u001b[49m\u001b[43mkey\u001b[49m\u001b[43m)\u001b[49m\n\u001b[1;32m    467\u001b[0m value: Optional[Node] \u001b[38;5;241m=\u001b[39m \u001b[38;5;28mself\u001b[39m\u001b[38;5;241m.\u001b[39m\u001b[38;5;18m__dict__\u001b[39m[\u001b[38;5;124m\"\u001b[39m\u001b[38;5;124m_content\u001b[39m\u001b[38;5;124m\"\u001b[39m]\u001b[38;5;241m.\u001b[39mget(key)\n\u001b[1;32m    468\u001b[0m \u001b[38;5;28;01mif\u001b[39;00m value \u001b[38;5;129;01mis\u001b[39;00m \u001b[38;5;28;01mNone\u001b[39;00m:\n",
      "File \u001b[0;32m~/projects/l2hmc-qcd/.venv/lib/python3.10/site-packages/omegaconf/dictconfig.py:166\u001b[0m, in \u001b[0;36mDictConfig._validate_get\u001b[0;34m(self, key, value)\u001b[0m\n\u001b[1;32m    164\u001b[0m \u001b[38;5;28;01melse\u001b[39;00m:\n\u001b[1;32m    165\u001b[0m     msg \u001b[38;5;241m=\u001b[39m \u001b[38;5;124mf\u001b[39m\u001b[38;5;124m\"\u001b[39m\u001b[38;5;124mKey \u001b[39m\u001b[38;5;124m'\u001b[39m\u001b[38;5;132;01m{\u001b[39;00mkey\u001b[38;5;132;01m}\u001b[39;00m\u001b[38;5;124m'\u001b[39m\u001b[38;5;124m is not in struct\u001b[39m\u001b[38;5;124m\"\u001b[39m\n\u001b[0;32m--> 166\u001b[0m \u001b[38;5;28;43mself\u001b[39;49m\u001b[38;5;241;43m.\u001b[39;49m\u001b[43m_format_and_raise\u001b[49m\u001b[43m(\u001b[49m\n\u001b[1;32m    167\u001b[0m \u001b[43m    \u001b[49m\u001b[43mkey\u001b[49m\u001b[38;5;241;43m=\u001b[39;49m\u001b[43mkey\u001b[49m\u001b[43m,\u001b[49m\u001b[43m \u001b[49m\u001b[43mvalue\u001b[49m\u001b[38;5;241;43m=\u001b[39;49m\u001b[43mvalue\u001b[49m\u001b[43m,\u001b[49m\u001b[43m \u001b[49m\u001b[43mcause\u001b[49m\u001b[38;5;241;43m=\u001b[39;49m\u001b[43mConfigAttributeError\u001b[49m\u001b[43m(\u001b[49m\u001b[43mmsg\u001b[49m\u001b[43m)\u001b[49m\n\u001b[1;32m    168\u001b[0m \u001b[43m\u001b[49m\u001b[43m)\u001b[49m\n",
      "File \u001b[0;32m~/projects/l2hmc-qcd/.venv/lib/python3.10/site-packages/omegaconf/base.py:190\u001b[0m, in \u001b[0;36mNode._format_and_raise\u001b[0;34m(self, key, value, cause, type_override)\u001b[0m\n\u001b[1;32m    187\u001b[0m \u001b[38;5;28;01mdef\u001b[39;00m \u001b[38;5;21m_format_and_raise\u001b[39m(\n\u001b[1;32m    188\u001b[0m     \u001b[38;5;28mself\u001b[39m, key: Any, value: Any, cause: \u001b[38;5;167;01mException\u001b[39;00m, type_override: Any \u001b[38;5;241m=\u001b[39m \u001b[38;5;28;01mNone\u001b[39;00m\n\u001b[1;32m    189\u001b[0m ) \u001b[38;5;241m-\u001b[39m\u001b[38;5;241m>\u001b[39m \u001b[38;5;28;01mNone\u001b[39;00m:\n\u001b[0;32m--> 190\u001b[0m     \u001b[43mformat_and_raise\u001b[49m\u001b[43m(\u001b[49m\n\u001b[1;32m    191\u001b[0m \u001b[43m        \u001b[49m\u001b[43mnode\u001b[49m\u001b[38;5;241;43m=\u001b[39;49m\u001b[38;5;28;43mself\u001b[39;49m\u001b[43m,\u001b[49m\n\u001b[1;32m    192\u001b[0m \u001b[43m        \u001b[49m\u001b[43mkey\u001b[49m\u001b[38;5;241;43m=\u001b[39;49m\u001b[43mkey\u001b[49m\u001b[43m,\u001b[49m\n\u001b[1;32m    193\u001b[0m \u001b[43m        \u001b[49m\u001b[43mvalue\u001b[49m\u001b[38;5;241;43m=\u001b[39;49m\u001b[43mvalue\u001b[49m\u001b[43m,\u001b[49m\n\u001b[1;32m    194\u001b[0m \u001b[43m        \u001b[49m\u001b[43mmsg\u001b[49m\u001b[38;5;241;43m=\u001b[39;49m\u001b[38;5;28;43mstr\u001b[39;49m\u001b[43m(\u001b[49m\u001b[43mcause\u001b[49m\u001b[43m)\u001b[49m\u001b[43m,\u001b[49m\n\u001b[1;32m    195\u001b[0m \u001b[43m        \u001b[49m\u001b[43mcause\u001b[49m\u001b[38;5;241;43m=\u001b[39;49m\u001b[43mcause\u001b[49m\u001b[43m,\u001b[49m\n\u001b[1;32m    196\u001b[0m \u001b[43m        \u001b[49m\u001b[43mtype_override\u001b[49m\u001b[38;5;241;43m=\u001b[39;49m\u001b[43mtype_override\u001b[49m\u001b[43m,\u001b[49m\n\u001b[1;32m    197\u001b[0m \u001b[43m    \u001b[49m\u001b[43m)\u001b[49m\n\u001b[1;32m    198\u001b[0m     \u001b[38;5;28;01massert\u001b[39;00m \u001b[38;5;28;01mFalse\u001b[39;00m\n",
      "File \u001b[0;32m~/projects/l2hmc-qcd/.venv/lib/python3.10/site-packages/omegaconf/_utils.py:818\u001b[0m, in \u001b[0;36mformat_and_raise\u001b[0;34m(node, key, value, msg, cause, type_override)\u001b[0m\n\u001b[1;32m    815\u001b[0m     ex\u001b[38;5;241m.\u001b[39mref_type \u001b[38;5;241m=\u001b[39m ref_type\n\u001b[1;32m    816\u001b[0m     ex\u001b[38;5;241m.\u001b[39mref_type_str \u001b[38;5;241m=\u001b[39m ref_type_str\n\u001b[0;32m--> 818\u001b[0m \u001b[43m_raise\u001b[49m\u001b[43m(\u001b[49m\u001b[43mex\u001b[49m\u001b[43m,\u001b[49m\u001b[43m \u001b[49m\u001b[43mcause\u001b[49m\u001b[43m)\u001b[49m\n",
      "File \u001b[0;32m~/projects/l2hmc-qcd/.venv/lib/python3.10/site-packages/omegaconf/_utils.py:716\u001b[0m, in \u001b[0;36m_raise\u001b[0;34m(ex, cause)\u001b[0m\n\u001b[1;32m    714\u001b[0m \u001b[38;5;28;01melse\u001b[39;00m:\n\u001b[1;32m    715\u001b[0m     ex\u001b[38;5;241m.\u001b[39m__cause__ \u001b[38;5;241m=\u001b[39m \u001b[38;5;28;01mNone\u001b[39;00m\n\u001b[0;32m--> 716\u001b[0m \u001b[38;5;28;01mraise\u001b[39;00m ex\u001b[38;5;241m.\u001b[39mwith_traceback(sys\u001b[38;5;241m.\u001b[39mexc_info()[\u001b[38;5;241m2\u001b[39m])\n",
      "\u001b[0;31mConfigKeyError\u001b[0m: Key '_target_' not in 'ExperimentConfig'\n    full_key: _target_\n    object_type=ExperimentConfig"
     ]
    }
   ],
   "source": [
    "from l2hmc.configs import ExperimentConfig\n",
    "schema = OmegaConf.structured(ExperimentConfig)\n",
    "conf = OmegaConf.load(\"../conf/config.yaml\")\n",
    "#with raises(ValidationError):\n",
    "cfg = OmegaConf.merge(schema, conf)"
   ]
  },
  {
   "cell_type": "code",
   "execution_count": 63,
   "id": "0d1729e0",
   "metadata": {
    "ExecuteTime": {
     "end_time": "2022-04-21T02:31:01.854140Z",
     "start_time": "2022-04-21T02:31:01.712712Z"
    }
   },
   "outputs": [
    {
     "data": {
      "text/plain": [
       "hydra.initialize()"
      ]
     },
     "execution_count": 63,
     "metadata": {},
     "output_type": "execute_result"
    }
   ],
   "source": [
    "from hydra import initialize, compose\n",
    "GlobalHydra.instance().clear()\n",
    "initialize(config_path='../') # Assume the configuration file is in the current folder\n",
    "cfg = compose()\n",
    "#cfg = compose(config_name='config', overrides=['framework=pytorch', 'mode=debug'])"
   ]
  },
  {
   "cell_type": "code",
   "execution_count": 47,
   "id": "813bbf63",
   "metadata": {
    "ExecuteTime": {
     "end_time": "2022-04-21T02:12:19.528772Z",
     "start_time": "2022-04-21T02:12:19.122445Z"
    }
   },
   "outputs": [
    {
     "ename": "ConfigCompositionException",
     "evalue": "Error merging 'config.yaml' with schema",
     "output_type": "error",
     "traceback": [
      "\u001b[0;31m---------------------------------------------------------------------------\u001b[0m",
      "\u001b[0;31mConfigKeyError\u001b[0m                            Traceback (most recent call last)",
      "File \u001b[0;32m~/projects/l2hmc-qcd/.venv/lib/python3.10/site-packages/hydra/_internal/config_loader_impl.py:456\u001b[0m, in \u001b[0;36mConfigLoaderImpl._load_single_config\u001b[0;34m(self, default, repo)\u001b[0m\n\u001b[1;32m    454\u001b[0m     hydra \u001b[38;5;241m=\u001b[39m config\u001b[38;5;241m.\u001b[39mpop(\u001b[38;5;124m\"\u001b[39m\u001b[38;5;124mhydra\u001b[39m\u001b[38;5;124m\"\u001b[39m)\n\u001b[0;32m--> 456\u001b[0m merged \u001b[38;5;241m=\u001b[39m \u001b[43mOmegaConf\u001b[49m\u001b[38;5;241;43m.\u001b[39;49m\u001b[43mmerge\u001b[49m\u001b[43m(\u001b[49m\u001b[43mschema\u001b[49m\u001b[38;5;241;43m.\u001b[39;49m\u001b[43mconfig\u001b[49m\u001b[43m,\u001b[49m\u001b[43m \u001b[49m\u001b[43mconfig\u001b[49m\u001b[43m)\u001b[49m\n\u001b[1;32m    457\u001b[0m \u001b[38;5;28;01massert\u001b[39;00m \u001b[38;5;28misinstance\u001b[39m(merged, DictConfig)\n",
      "File \u001b[0;32m~/projects/l2hmc-qcd/.venv/lib/python3.10/site-packages/omegaconf/omegaconf.py:264\u001b[0m, in \u001b[0;36mOmegaConf.merge\u001b[0;34m(*configs)\u001b[0m\n\u001b[1;32m    263\u001b[0m \u001b[38;5;28;01mwith\u001b[39;00m flag_override(target, \u001b[38;5;124m\"\u001b[39m\u001b[38;5;124mreadonly\u001b[39m\u001b[38;5;124m\"\u001b[39m, \u001b[38;5;28;01mFalse\u001b[39;00m):\n\u001b[0;32m--> 264\u001b[0m     \u001b[43mtarget\u001b[49m\u001b[38;5;241;43m.\u001b[39;49m\u001b[43mmerge_with\u001b[49m\u001b[43m(\u001b[49m\u001b[38;5;241;43m*\u001b[39;49m\u001b[43mconfigs\u001b[49m\u001b[43m[\u001b[49m\u001b[38;5;241;43m1\u001b[39;49m\u001b[43m:\u001b[49m\u001b[43m]\u001b[49m\u001b[43m)\u001b[49m\n\u001b[1;32m    265\u001b[0m     turned_readonly \u001b[38;5;241m=\u001b[39m target\u001b[38;5;241m.\u001b[39m_get_flag(\u001b[38;5;124m\"\u001b[39m\u001b[38;5;124mreadonly\u001b[39m\u001b[38;5;124m\"\u001b[39m) \u001b[38;5;129;01mis\u001b[39;00m \u001b[38;5;28;01mTrue\u001b[39;00m\n",
      "File \u001b[0;32m~/projects/l2hmc-qcd/.venv/lib/python3.10/site-packages/omegaconf/basecontainer.py:452\u001b[0m, in \u001b[0;36mBaseContainer.merge_with\u001b[0;34m(self, *others)\u001b[0m\n\u001b[1;32m    451\u001b[0m \u001b[38;5;28;01mexcept\u001b[39;00m \u001b[38;5;167;01mException\u001b[39;00m \u001b[38;5;28;01mas\u001b[39;00m e:\n\u001b[0;32m--> 452\u001b[0m     \u001b[38;5;28;43mself\u001b[39;49m\u001b[38;5;241;43m.\u001b[39;49m\u001b[43m_format_and_raise\u001b[49m\u001b[43m(\u001b[49m\u001b[43mkey\u001b[49m\u001b[38;5;241;43m=\u001b[39;49m\u001b[38;5;28;43;01mNone\u001b[39;49;00m\u001b[43m,\u001b[49m\u001b[43m \u001b[49m\u001b[43mvalue\u001b[49m\u001b[38;5;241;43m=\u001b[39;49m\u001b[38;5;28;43;01mNone\u001b[39;49;00m\u001b[43m,\u001b[49m\u001b[43m \u001b[49m\u001b[43mcause\u001b[49m\u001b[38;5;241;43m=\u001b[39;49m\u001b[43me\u001b[49m\u001b[43m)\u001b[49m\n",
      "File \u001b[0;32m~/projects/l2hmc-qcd/.venv/lib/python3.10/site-packages/omegaconf/base.py:190\u001b[0m, in \u001b[0;36mNode._format_and_raise\u001b[0;34m(self, key, value, cause, type_override)\u001b[0m\n\u001b[1;32m    187\u001b[0m \u001b[38;5;28;01mdef\u001b[39;00m \u001b[38;5;21m_format_and_raise\u001b[39m(\n\u001b[1;32m    188\u001b[0m     \u001b[38;5;28mself\u001b[39m, key: Any, value: Any, cause: \u001b[38;5;167;01mException\u001b[39;00m, type_override: Any \u001b[38;5;241m=\u001b[39m \u001b[38;5;28;01mNone\u001b[39;00m\n\u001b[1;32m    189\u001b[0m ) \u001b[38;5;241m-\u001b[39m\u001b[38;5;241m>\u001b[39m \u001b[38;5;28;01mNone\u001b[39;00m:\n\u001b[0;32m--> 190\u001b[0m     \u001b[43mformat_and_raise\u001b[49m\u001b[43m(\u001b[49m\n\u001b[1;32m    191\u001b[0m \u001b[43m        \u001b[49m\u001b[43mnode\u001b[49m\u001b[38;5;241;43m=\u001b[39;49m\u001b[38;5;28;43mself\u001b[39;49m\u001b[43m,\u001b[49m\n\u001b[1;32m    192\u001b[0m \u001b[43m        \u001b[49m\u001b[43mkey\u001b[49m\u001b[38;5;241;43m=\u001b[39;49m\u001b[43mkey\u001b[49m\u001b[43m,\u001b[49m\n\u001b[1;32m    193\u001b[0m \u001b[43m        \u001b[49m\u001b[43mvalue\u001b[49m\u001b[38;5;241;43m=\u001b[39;49m\u001b[43mvalue\u001b[49m\u001b[43m,\u001b[49m\n\u001b[1;32m    194\u001b[0m \u001b[43m        \u001b[49m\u001b[43mmsg\u001b[49m\u001b[38;5;241;43m=\u001b[39;49m\u001b[38;5;28;43mstr\u001b[39;49m\u001b[43m(\u001b[49m\u001b[43mcause\u001b[49m\u001b[43m)\u001b[49m\u001b[43m,\u001b[49m\n\u001b[1;32m    195\u001b[0m \u001b[43m        \u001b[49m\u001b[43mcause\u001b[49m\u001b[38;5;241;43m=\u001b[39;49m\u001b[43mcause\u001b[49m\u001b[43m,\u001b[49m\n\u001b[1;32m    196\u001b[0m \u001b[43m        \u001b[49m\u001b[43mtype_override\u001b[49m\u001b[38;5;241;43m=\u001b[39;49m\u001b[43mtype_override\u001b[49m\u001b[43m,\u001b[49m\n\u001b[1;32m    197\u001b[0m \u001b[43m    \u001b[49m\u001b[43m)\u001b[49m\n\u001b[1;32m    198\u001b[0m     \u001b[38;5;28;01massert\u001b[39;00m \u001b[38;5;28;01mFalse\u001b[39;00m\n",
      "File \u001b[0;32m~/projects/l2hmc-qcd/.venv/lib/python3.10/site-packages/omegaconf/_utils.py:738\u001b[0m, in \u001b[0;36mformat_and_raise\u001b[0;34m(node, key, value, msg, cause, type_override)\u001b[0m\n\u001b[1;32m    737\u001b[0m         ex\u001b[38;5;241m.\u001b[39m\u001b[38;5;18m__dict__\u001b[39m \u001b[38;5;241m=\u001b[39m copy\u001b[38;5;241m.\u001b[39mdeepcopy(cause\u001b[38;5;241m.\u001b[39m\u001b[38;5;18m__dict__\u001b[39m)\n\u001b[0;32m--> 738\u001b[0m     \u001b[43m_raise\u001b[49m\u001b[43m(\u001b[49m\u001b[43mex\u001b[49m\u001b[43m,\u001b[49m\u001b[43m \u001b[49m\u001b[43mcause\u001b[49m\u001b[43m)\u001b[49m\n\u001b[1;32m    740\u001b[0m object_type: Optional[Type[Any]]\n",
      "File \u001b[0;32m~/projects/l2hmc-qcd/.venv/lib/python3.10/site-packages/omegaconf/_utils.py:716\u001b[0m, in \u001b[0;36m_raise\u001b[0;34m(ex, cause)\u001b[0m\n\u001b[1;32m    715\u001b[0m     ex\u001b[38;5;241m.\u001b[39m__cause__ \u001b[38;5;241m=\u001b[39m \u001b[38;5;28;01mNone\u001b[39;00m\n\u001b[0;32m--> 716\u001b[0m \u001b[38;5;28;01mraise\u001b[39;00m ex\u001b[38;5;241m.\u001b[39mwith_traceback(sys\u001b[38;5;241m.\u001b[39mexc_info()[\u001b[38;5;241m2\u001b[39m])\n",
      "File \u001b[0;32m~/projects/l2hmc-qcd/.venv/lib/python3.10/site-packages/omegaconf/basecontainer.py:450\u001b[0m, in \u001b[0;36mBaseContainer.merge_with\u001b[0;34m(self, *others)\u001b[0m\n\u001b[1;32m    449\u001b[0m \u001b[38;5;28;01mtry\u001b[39;00m:\n\u001b[0;32m--> 450\u001b[0m     \u001b[38;5;28;43mself\u001b[39;49m\u001b[38;5;241;43m.\u001b[39;49m\u001b[43m_merge_with\u001b[49m\u001b[43m(\u001b[49m\u001b[38;5;241;43m*\u001b[39;49m\u001b[43mothers\u001b[49m\u001b[43m)\u001b[49m\n\u001b[1;32m    451\u001b[0m \u001b[38;5;28;01mexcept\u001b[39;00m \u001b[38;5;167;01mException\u001b[39;00m \u001b[38;5;28;01mas\u001b[39;00m e:\n",
      "File \u001b[0;32m~/projects/l2hmc-qcd/.venv/lib/python3.10/site-packages/omegaconf/basecontainer.py:474\u001b[0m, in \u001b[0;36mBaseContainer._merge_with\u001b[0;34m(self, *others)\u001b[0m\n\u001b[1;32m    473\u001b[0m \u001b[38;5;28;01mif\u001b[39;00m \u001b[38;5;28misinstance\u001b[39m(\u001b[38;5;28mself\u001b[39m, DictConfig) \u001b[38;5;129;01mand\u001b[39;00m \u001b[38;5;28misinstance\u001b[39m(other, DictConfig):\n\u001b[0;32m--> 474\u001b[0m     \u001b[43mBaseContainer\u001b[49m\u001b[38;5;241;43m.\u001b[39;49m\u001b[43m_map_merge\u001b[49m\u001b[43m(\u001b[49m\u001b[38;5;28;43mself\u001b[39;49m\u001b[43m,\u001b[49m\u001b[43m \u001b[49m\u001b[43mother\u001b[49m\u001b[43m)\u001b[49m\n\u001b[1;32m    475\u001b[0m \u001b[38;5;28;01melif\u001b[39;00m \u001b[38;5;28misinstance\u001b[39m(\u001b[38;5;28mself\u001b[39m, ListConfig) \u001b[38;5;129;01mand\u001b[39;00m \u001b[38;5;28misinstance\u001b[39m(other, ListConfig):\n",
      "File \u001b[0;32m~/projects/l2hmc-qcd/.venv/lib/python3.10/site-packages/omegaconf/basecontainer.py:392\u001b[0m, in \u001b[0;36mBaseContainer._map_merge\u001b[0;34m(dest, src)\u001b[0m\n\u001b[1;32m    391\u001b[0m         \u001b[38;5;28;01melse\u001b[39;00m:\n\u001b[0;32m--> 392\u001b[0m             dest[key] \u001b[38;5;241m=\u001b[39m src\u001b[38;5;241m.\u001b[39m_get_node(key)\n\u001b[1;32m    394\u001b[0m _update_types(node\u001b[38;5;241m=\u001b[39mdest, ref_type\u001b[38;5;241m=\u001b[39msrc_ref_type, object_type\u001b[38;5;241m=\u001b[39msrc_type)\n",
      "File \u001b[0;32m~/projects/l2hmc-qcd/.venv/lib/python3.10/site-packages/omegaconf/dictconfig.py:310\u001b[0m, in \u001b[0;36mDictConfig.__setitem__\u001b[0;34m(self, key, value)\u001b[0m\n\u001b[1;32m    309\u001b[0m \u001b[38;5;28;01mexcept\u001b[39;00m \u001b[38;5;167;01mAttributeError\u001b[39;00m \u001b[38;5;28;01mas\u001b[39;00m e:\n\u001b[0;32m--> 310\u001b[0m     \u001b[38;5;28;43mself\u001b[39;49m\u001b[38;5;241;43m.\u001b[39;49m\u001b[43m_format_and_raise\u001b[49m\u001b[43m(\u001b[49m\n\u001b[1;32m    311\u001b[0m \u001b[43m        \u001b[49m\u001b[43mkey\u001b[49m\u001b[38;5;241;43m=\u001b[39;49m\u001b[43mkey\u001b[49m\u001b[43m,\u001b[49m\u001b[43m \u001b[49m\u001b[43mvalue\u001b[49m\u001b[38;5;241;43m=\u001b[39;49m\u001b[43mvalue\u001b[49m\u001b[43m,\u001b[49m\u001b[43m \u001b[49m\u001b[43mtype_override\u001b[49m\u001b[38;5;241;43m=\u001b[39;49m\u001b[43mConfigKeyError\u001b[49m\u001b[43m,\u001b[49m\u001b[43m \u001b[49m\u001b[43mcause\u001b[49m\u001b[38;5;241;43m=\u001b[39;49m\u001b[43me\u001b[49m\n\u001b[1;32m    312\u001b[0m \u001b[43m    \u001b[49m\u001b[43m)\u001b[49m\n\u001b[1;32m    313\u001b[0m \u001b[38;5;28;01mexcept\u001b[39;00m \u001b[38;5;167;01mException\u001b[39;00m \u001b[38;5;28;01mas\u001b[39;00m e:\n",
      "File \u001b[0;32m~/projects/l2hmc-qcd/.venv/lib/python3.10/site-packages/omegaconf/base.py:190\u001b[0m, in \u001b[0;36mNode._format_and_raise\u001b[0;34m(self, key, value, cause, type_override)\u001b[0m\n\u001b[1;32m    187\u001b[0m \u001b[38;5;28;01mdef\u001b[39;00m \u001b[38;5;21m_format_and_raise\u001b[39m(\n\u001b[1;32m    188\u001b[0m     \u001b[38;5;28mself\u001b[39m, key: Any, value: Any, cause: \u001b[38;5;167;01mException\u001b[39;00m, type_override: Any \u001b[38;5;241m=\u001b[39m \u001b[38;5;28;01mNone\u001b[39;00m\n\u001b[1;32m    189\u001b[0m ) \u001b[38;5;241m-\u001b[39m\u001b[38;5;241m>\u001b[39m \u001b[38;5;28;01mNone\u001b[39;00m:\n\u001b[0;32m--> 190\u001b[0m     \u001b[43mformat_and_raise\u001b[49m\u001b[43m(\u001b[49m\n\u001b[1;32m    191\u001b[0m \u001b[43m        \u001b[49m\u001b[43mnode\u001b[49m\u001b[38;5;241;43m=\u001b[39;49m\u001b[38;5;28;43mself\u001b[39;49m\u001b[43m,\u001b[49m\n\u001b[1;32m    192\u001b[0m \u001b[43m        \u001b[49m\u001b[43mkey\u001b[49m\u001b[38;5;241;43m=\u001b[39;49m\u001b[43mkey\u001b[49m\u001b[43m,\u001b[49m\n\u001b[1;32m    193\u001b[0m \u001b[43m        \u001b[49m\u001b[43mvalue\u001b[49m\u001b[38;5;241;43m=\u001b[39;49m\u001b[43mvalue\u001b[49m\u001b[43m,\u001b[49m\n\u001b[1;32m    194\u001b[0m \u001b[43m        \u001b[49m\u001b[43mmsg\u001b[49m\u001b[38;5;241;43m=\u001b[39;49m\u001b[38;5;28;43mstr\u001b[39;49m\u001b[43m(\u001b[49m\u001b[43mcause\u001b[49m\u001b[43m)\u001b[49m\u001b[43m,\u001b[49m\n\u001b[1;32m    195\u001b[0m \u001b[43m        \u001b[49m\u001b[43mcause\u001b[49m\u001b[38;5;241;43m=\u001b[39;49m\u001b[43mcause\u001b[49m\u001b[43m,\u001b[49m\n\u001b[1;32m    196\u001b[0m \u001b[43m        \u001b[49m\u001b[43mtype_override\u001b[49m\u001b[38;5;241;43m=\u001b[39;49m\u001b[43mtype_override\u001b[49m\u001b[43m,\u001b[49m\n\u001b[1;32m    197\u001b[0m \u001b[43m    \u001b[49m\u001b[43m)\u001b[49m\n\u001b[1;32m    198\u001b[0m     \u001b[38;5;28;01massert\u001b[39;00m \u001b[38;5;28;01mFalse\u001b[39;00m\n",
      "File \u001b[0;32m~/projects/l2hmc-qcd/.venv/lib/python3.10/site-packages/omegaconf/_utils.py:738\u001b[0m, in \u001b[0;36mformat_and_raise\u001b[0;34m(node, key, value, msg, cause, type_override)\u001b[0m\n\u001b[1;32m    737\u001b[0m         ex\u001b[38;5;241m.\u001b[39m\u001b[38;5;18m__dict__\u001b[39m \u001b[38;5;241m=\u001b[39m copy\u001b[38;5;241m.\u001b[39mdeepcopy(cause\u001b[38;5;241m.\u001b[39m\u001b[38;5;18m__dict__\u001b[39m)\n\u001b[0;32m--> 738\u001b[0m     \u001b[43m_raise\u001b[49m\u001b[43m(\u001b[49m\u001b[43mex\u001b[49m\u001b[43m,\u001b[49m\u001b[43m \u001b[49m\u001b[43mcause\u001b[49m\u001b[43m)\u001b[49m\n\u001b[1;32m    740\u001b[0m object_type: Optional[Type[Any]]\n",
      "File \u001b[0;32m~/projects/l2hmc-qcd/.venv/lib/python3.10/site-packages/omegaconf/_utils.py:716\u001b[0m, in \u001b[0;36m_raise\u001b[0;34m(ex, cause)\u001b[0m\n\u001b[1;32m    715\u001b[0m     ex\u001b[38;5;241m.\u001b[39m__cause__ \u001b[38;5;241m=\u001b[39m \u001b[38;5;28;01mNone\u001b[39;00m\n\u001b[0;32m--> 716\u001b[0m \u001b[38;5;28;01mraise\u001b[39;00m ex\u001b[38;5;241m.\u001b[39mwith_traceback(sys\u001b[38;5;241m.\u001b[39mexc_info()[\u001b[38;5;241m2\u001b[39m])\n",
      "File \u001b[0;32m~/projects/l2hmc-qcd/.venv/lib/python3.10/site-packages/omegaconf/dictconfig.py:308\u001b[0m, in \u001b[0;36mDictConfig.__setitem__\u001b[0;34m(self, key, value)\u001b[0m\n\u001b[1;32m    307\u001b[0m \u001b[38;5;28;01mtry\u001b[39;00m:\n\u001b[0;32m--> 308\u001b[0m     \u001b[38;5;28;43mself\u001b[39;49m\u001b[38;5;241;43m.\u001b[39;49m\u001b[43m__set_impl\u001b[49m\u001b[43m(\u001b[49m\u001b[43mkey\u001b[49m\u001b[38;5;241;43m=\u001b[39;49m\u001b[43mkey\u001b[49m\u001b[43m,\u001b[49m\u001b[43m \u001b[49m\u001b[43mvalue\u001b[49m\u001b[38;5;241;43m=\u001b[39;49m\u001b[43mvalue\u001b[49m\u001b[43m)\u001b[49m\n\u001b[1;32m    309\u001b[0m \u001b[38;5;28;01mexcept\u001b[39;00m \u001b[38;5;167;01mAttributeError\u001b[39;00m \u001b[38;5;28;01mas\u001b[39;00m e:\n",
      "File \u001b[0;32m~/projects/l2hmc-qcd/.venv/lib/python3.10/site-packages/omegaconf/dictconfig.py:318\u001b[0m, in \u001b[0;36mDictConfig.__set_impl\u001b[0;34m(self, key, value)\u001b[0m\n\u001b[1;32m    317\u001b[0m key \u001b[38;5;241m=\u001b[39m \u001b[38;5;28mself\u001b[39m\u001b[38;5;241m.\u001b[39m_validate_and_normalize_key(key)\n\u001b[0;32m--> 318\u001b[0m \u001b[38;5;28;43mself\u001b[39;49m\u001b[38;5;241;43m.\u001b[39;49m\u001b[43m_set_item_impl\u001b[49m\u001b[43m(\u001b[49m\u001b[43mkey\u001b[49m\u001b[43m,\u001b[49m\u001b[43m \u001b[49m\u001b[43mvalue\u001b[49m\u001b[43m)\u001b[49m\n",
      "File \u001b[0;32m~/projects/l2hmc-qcd/.venv/lib/python3.10/site-packages/omegaconf/basecontainer.py:507\u001b[0m, in \u001b[0;36mBaseContainer._set_item_impl\u001b[0;34m(self, key, value)\u001b[0m\n\u001b[1;32m    506\u001b[0m     value\u001b[38;5;241m.\u001b[39m_set_key(key)\n\u001b[0;32m--> 507\u001b[0m     \u001b[38;5;28;43mself\u001b[39;49m\u001b[38;5;241;43m.\u001b[39;49m\u001b[43m_validate_set\u001b[49m\u001b[43m(\u001b[49m\u001b[43mkey\u001b[49m\u001b[43m,\u001b[49m\u001b[43m \u001b[49m\u001b[43mvalue\u001b[49m\u001b[43m)\u001b[49m\n\u001b[1;32m    508\u001b[0m \u001b[38;5;28;01mfinally\u001b[39;00m:\n",
      "File \u001b[0;32m~/projects/l2hmc-qcd/.venv/lib/python3.10/site-packages/omegaconf/dictconfig.py:180\u001b[0m, in \u001b[0;36mDictConfig._validate_set\u001b[0;34m(self, key, value)\u001b[0m\n\u001b[1;32m    178\u001b[0m     \u001b[38;5;28;01mreturn\u001b[39;00m\n\u001b[0;32m--> 180\u001b[0m target \u001b[38;5;241m=\u001b[39m \u001b[38;5;28;43mself\u001b[39;49m\u001b[38;5;241;43m.\u001b[39;49m\u001b[43m_get_node\u001b[49m\u001b[43m(\u001b[49m\u001b[43mkey\u001b[49m\u001b[43m)\u001b[49m \u001b[38;5;28;01mif\u001b[39;00m key \u001b[38;5;129;01mis\u001b[39;00m \u001b[38;5;129;01mnot\u001b[39;00m \u001b[38;5;28;01mNone\u001b[39;00m \u001b[38;5;28;01melse\u001b[39;00m \u001b[38;5;28mself\u001b[39m\n\u001b[1;32m    182\u001b[0m target_has_ref_type \u001b[38;5;241m=\u001b[39m \u001b[38;5;28misinstance\u001b[39m(\n\u001b[1;32m    183\u001b[0m     target, DictConfig\n\u001b[1;32m    184\u001b[0m ) \u001b[38;5;129;01mand\u001b[39;00m target\u001b[38;5;241m.\u001b[39m_metadata\u001b[38;5;241m.\u001b[39mref_type \u001b[38;5;129;01mnot\u001b[39;00m \u001b[38;5;129;01min\u001b[39;00m (Any, \u001b[38;5;28mdict\u001b[39m)\n",
      "File \u001b[0;32m~/projects/l2hmc-qcd/.venv/lib/python3.10/site-packages/omegaconf/dictconfig.py:465\u001b[0m, in \u001b[0;36mDictConfig._get_node\u001b[0;34m(self, key, validate_access, throw_on_missing_value, throw_on_missing_key)\u001b[0m\n\u001b[1;32m    464\u001b[0m \u001b[38;5;28;01mif\u001b[39;00m validate_access:\n\u001b[0;32m--> 465\u001b[0m     \u001b[38;5;28;43mself\u001b[39;49m\u001b[38;5;241;43m.\u001b[39;49m\u001b[43m_validate_get\u001b[49m\u001b[43m(\u001b[49m\u001b[43mkey\u001b[49m\u001b[43m)\u001b[49m\n\u001b[1;32m    467\u001b[0m value: Optional[Node] \u001b[38;5;241m=\u001b[39m \u001b[38;5;28mself\u001b[39m\u001b[38;5;241m.\u001b[39m\u001b[38;5;18m__dict__\u001b[39m[\u001b[38;5;124m\"\u001b[39m\u001b[38;5;124m_content\u001b[39m\u001b[38;5;124m\"\u001b[39m]\u001b[38;5;241m.\u001b[39mget(key)\n",
      "File \u001b[0;32m~/projects/l2hmc-qcd/.venv/lib/python3.10/site-packages/omegaconf/dictconfig.py:166\u001b[0m, in \u001b[0;36mDictConfig._validate_get\u001b[0;34m(self, key, value)\u001b[0m\n\u001b[1;32m    165\u001b[0m     msg \u001b[38;5;241m=\u001b[39m \u001b[38;5;124mf\u001b[39m\u001b[38;5;124m\"\u001b[39m\u001b[38;5;124mKey \u001b[39m\u001b[38;5;124m'\u001b[39m\u001b[38;5;132;01m{\u001b[39;00mkey\u001b[38;5;132;01m}\u001b[39;00m\u001b[38;5;124m'\u001b[39m\u001b[38;5;124m is not in struct\u001b[39m\u001b[38;5;124m\"\u001b[39m\n\u001b[0;32m--> 166\u001b[0m \u001b[38;5;28;43mself\u001b[39;49m\u001b[38;5;241;43m.\u001b[39;49m\u001b[43m_format_and_raise\u001b[49m\u001b[43m(\u001b[49m\n\u001b[1;32m    167\u001b[0m \u001b[43m    \u001b[49m\u001b[43mkey\u001b[49m\u001b[38;5;241;43m=\u001b[39;49m\u001b[43mkey\u001b[49m\u001b[43m,\u001b[49m\u001b[43m \u001b[49m\u001b[43mvalue\u001b[49m\u001b[38;5;241;43m=\u001b[39;49m\u001b[43mvalue\u001b[49m\u001b[43m,\u001b[49m\u001b[43m \u001b[49m\u001b[43mcause\u001b[49m\u001b[38;5;241;43m=\u001b[39;49m\u001b[43mConfigAttributeError\u001b[49m\u001b[43m(\u001b[49m\u001b[43mmsg\u001b[49m\u001b[43m)\u001b[49m\n\u001b[1;32m    168\u001b[0m \u001b[43m\u001b[49m\u001b[43m)\u001b[49m\n",
      "File \u001b[0;32m~/projects/l2hmc-qcd/.venv/lib/python3.10/site-packages/omegaconf/base.py:190\u001b[0m, in \u001b[0;36mNode._format_and_raise\u001b[0;34m(self, key, value, cause, type_override)\u001b[0m\n\u001b[1;32m    187\u001b[0m \u001b[38;5;28;01mdef\u001b[39;00m \u001b[38;5;21m_format_and_raise\u001b[39m(\n\u001b[1;32m    188\u001b[0m     \u001b[38;5;28mself\u001b[39m, key: Any, value: Any, cause: \u001b[38;5;167;01mException\u001b[39;00m, type_override: Any \u001b[38;5;241m=\u001b[39m \u001b[38;5;28;01mNone\u001b[39;00m\n\u001b[1;32m    189\u001b[0m ) \u001b[38;5;241m-\u001b[39m\u001b[38;5;241m>\u001b[39m \u001b[38;5;28;01mNone\u001b[39;00m:\n\u001b[0;32m--> 190\u001b[0m     \u001b[43mformat_and_raise\u001b[49m\u001b[43m(\u001b[49m\n\u001b[1;32m    191\u001b[0m \u001b[43m        \u001b[49m\u001b[43mnode\u001b[49m\u001b[38;5;241;43m=\u001b[39;49m\u001b[38;5;28;43mself\u001b[39;49m\u001b[43m,\u001b[49m\n\u001b[1;32m    192\u001b[0m \u001b[43m        \u001b[49m\u001b[43mkey\u001b[49m\u001b[38;5;241;43m=\u001b[39;49m\u001b[43mkey\u001b[49m\u001b[43m,\u001b[49m\n\u001b[1;32m    193\u001b[0m \u001b[43m        \u001b[49m\u001b[43mvalue\u001b[49m\u001b[38;5;241;43m=\u001b[39;49m\u001b[43mvalue\u001b[49m\u001b[43m,\u001b[49m\n\u001b[1;32m    194\u001b[0m \u001b[43m        \u001b[49m\u001b[43mmsg\u001b[49m\u001b[38;5;241;43m=\u001b[39;49m\u001b[38;5;28;43mstr\u001b[39;49m\u001b[43m(\u001b[49m\u001b[43mcause\u001b[49m\u001b[43m)\u001b[49m\u001b[43m,\u001b[49m\n\u001b[1;32m    195\u001b[0m \u001b[43m        \u001b[49m\u001b[43mcause\u001b[49m\u001b[38;5;241;43m=\u001b[39;49m\u001b[43mcause\u001b[49m\u001b[43m,\u001b[49m\n\u001b[1;32m    196\u001b[0m \u001b[43m        \u001b[49m\u001b[43mtype_override\u001b[49m\u001b[38;5;241;43m=\u001b[39;49m\u001b[43mtype_override\u001b[49m\u001b[43m,\u001b[49m\n\u001b[1;32m    197\u001b[0m \u001b[43m    \u001b[49m\u001b[43m)\u001b[49m\n\u001b[1;32m    198\u001b[0m     \u001b[38;5;28;01massert\u001b[39;00m \u001b[38;5;28;01mFalse\u001b[39;00m\n",
      "File \u001b[0;32m~/projects/l2hmc-qcd/.venv/lib/python3.10/site-packages/omegaconf/_utils.py:818\u001b[0m, in \u001b[0;36mformat_and_raise\u001b[0;34m(node, key, value, msg, cause, type_override)\u001b[0m\n\u001b[1;32m    816\u001b[0m     ex\u001b[38;5;241m.\u001b[39mref_type_str \u001b[38;5;241m=\u001b[39m ref_type_str\n\u001b[0;32m--> 818\u001b[0m \u001b[43m_raise\u001b[49m\u001b[43m(\u001b[49m\u001b[43mex\u001b[49m\u001b[43m,\u001b[49m\u001b[43m \u001b[49m\u001b[43mcause\u001b[49m\u001b[43m)\u001b[49m\n",
      "File \u001b[0;32m~/projects/l2hmc-qcd/.venv/lib/python3.10/site-packages/omegaconf/_utils.py:716\u001b[0m, in \u001b[0;36m_raise\u001b[0;34m(ex, cause)\u001b[0m\n\u001b[1;32m    715\u001b[0m     ex\u001b[38;5;241m.\u001b[39m__cause__ \u001b[38;5;241m=\u001b[39m \u001b[38;5;28;01mNone\u001b[39;00m\n\u001b[0;32m--> 716\u001b[0m \u001b[38;5;28;01mraise\u001b[39;00m ex\u001b[38;5;241m.\u001b[39mwith_traceback(sys\u001b[38;5;241m.\u001b[39mexc_info()[\u001b[38;5;241m2\u001b[39m])\n",
      "\u001b[0;31mConfigKeyError\u001b[0m: Key '_target_' not in 'ExperimentConfig'\n    full_key: _target_\n    object_type=ExperimentConfig",
      "\nThe above exception was the direct cause of the following exception:\n",
      "\u001b[0;31mConfigCompositionException\u001b[0m                Traceback (most recent call last)",
      "Input \u001b[0;32mIn [47]\u001b[0m, in \u001b[0;36m<cell line: 1>\u001b[0;34m()\u001b[0m\n\u001b[0;32m----> 1\u001b[0m cfg \u001b[38;5;241m=\u001b[39m \u001b[43mcompose\u001b[49m\u001b[43m(\u001b[49m\u001b[43mconfig_name\u001b[49m\u001b[38;5;241;43m=\u001b[39;49m\u001b[38;5;124;43m'\u001b[39;49m\u001b[38;5;124;43mconfig.yaml\u001b[39;49m\u001b[38;5;124;43m'\u001b[39;49m\u001b[43m)\u001b[49m\n",
      "File \u001b[0;32m~/projects/l2hmc-qcd/.venv/lib/python3.10/site-packages/hydra/compose.py:33\u001b[0m, in \u001b[0;36mcompose\u001b[0;34m(config_name, overrides, return_hydra_config, strict)\u001b[0m\n\u001b[1;32m     31\u001b[0m gh \u001b[38;5;241m=\u001b[39m GlobalHydra\u001b[38;5;241m.\u001b[39minstance()\n\u001b[1;32m     32\u001b[0m \u001b[38;5;28;01massert\u001b[39;00m gh\u001b[38;5;241m.\u001b[39mhydra \u001b[38;5;129;01mis\u001b[39;00m \u001b[38;5;129;01mnot\u001b[39;00m \u001b[38;5;28;01mNone\u001b[39;00m\n\u001b[0;32m---> 33\u001b[0m cfg \u001b[38;5;241m=\u001b[39m \u001b[43mgh\u001b[49m\u001b[38;5;241;43m.\u001b[39;49m\u001b[43mhydra\u001b[49m\u001b[38;5;241;43m.\u001b[39;49m\u001b[43mcompose_config\u001b[49m\u001b[43m(\u001b[49m\n\u001b[1;32m     34\u001b[0m \u001b[43m    \u001b[49m\u001b[43mconfig_name\u001b[49m\u001b[38;5;241;43m=\u001b[39;49m\u001b[43mconfig_name\u001b[49m\u001b[43m,\u001b[49m\n\u001b[1;32m     35\u001b[0m \u001b[43m    \u001b[49m\u001b[43moverrides\u001b[49m\u001b[38;5;241;43m=\u001b[39;49m\u001b[43moverrides\u001b[49m\u001b[43m,\u001b[49m\n\u001b[1;32m     36\u001b[0m \u001b[43m    \u001b[49m\u001b[43mrun_mode\u001b[49m\u001b[38;5;241;43m=\u001b[39;49m\u001b[43mRunMode\u001b[49m\u001b[38;5;241;43m.\u001b[39;49m\u001b[43mRUN\u001b[49m\u001b[43m,\u001b[49m\n\u001b[1;32m     37\u001b[0m \u001b[43m    \u001b[49m\u001b[43mfrom_shell\u001b[49m\u001b[38;5;241;43m=\u001b[39;49m\u001b[38;5;28;43;01mFalse\u001b[39;49;00m\u001b[43m,\u001b[49m\n\u001b[1;32m     38\u001b[0m \u001b[43m    \u001b[49m\u001b[43mwith_log_configuration\u001b[49m\u001b[38;5;241;43m=\u001b[39;49m\u001b[38;5;28;43;01mFalse\u001b[39;49;00m\u001b[43m,\u001b[49m\n\u001b[1;32m     39\u001b[0m \u001b[43m\u001b[49m\u001b[43m)\u001b[49m\n\u001b[1;32m     40\u001b[0m \u001b[38;5;28;01massert\u001b[39;00m \u001b[38;5;28misinstance\u001b[39m(cfg, DictConfig)\n\u001b[1;32m     42\u001b[0m \u001b[38;5;28;01mif\u001b[39;00m \u001b[38;5;129;01mnot\u001b[39;00m return_hydra_config:\n",
      "File \u001b[0;32m~/projects/l2hmc-qcd/.venv/lib/python3.10/site-packages/hydra/_internal/hydra.py:559\u001b[0m, in \u001b[0;36mHydra.compose_config\u001b[0;34m(self, config_name, overrides, run_mode, with_log_configuration, from_shell)\u001b[0m\n\u001b[1;32m    542\u001b[0m \u001b[38;5;28;01mdef\u001b[39;00m \u001b[38;5;21mcompose_config\u001b[39m(\n\u001b[1;32m    543\u001b[0m     \u001b[38;5;28mself\u001b[39m,\n\u001b[1;32m    544\u001b[0m     config_name: Optional[\u001b[38;5;28mstr\u001b[39m],\n\u001b[0;32m   (...)\u001b[0m\n\u001b[1;32m    548\u001b[0m     from_shell: \u001b[38;5;28mbool\u001b[39m \u001b[38;5;241m=\u001b[39m \u001b[38;5;28;01mTrue\u001b[39;00m,\n\u001b[1;32m    549\u001b[0m ) \u001b[38;5;241m-\u001b[39m\u001b[38;5;241m>\u001b[39m DictConfig:\n\u001b[1;32m    550\u001b[0m     \u001b[38;5;124;03m\"\"\"\u001b[39;00m\n\u001b[1;32m    551\u001b[0m \u001b[38;5;124;03m    :param config_name:\u001b[39;00m\n\u001b[1;32m    552\u001b[0m \u001b[38;5;124;03m    :param overrides:\u001b[39;00m\n\u001b[0;32m   (...)\u001b[0m\n\u001b[1;32m    556\u001b[0m \u001b[38;5;124;03m    :return:\u001b[39;00m\n\u001b[1;32m    557\u001b[0m \u001b[38;5;124;03m    \"\"\"\u001b[39;00m\n\u001b[0;32m--> 559\u001b[0m     cfg \u001b[38;5;241m=\u001b[39m \u001b[38;5;28;43mself\u001b[39;49m\u001b[38;5;241;43m.\u001b[39;49m\u001b[43mconfig_loader\u001b[49m\u001b[38;5;241;43m.\u001b[39;49m\u001b[43mload_configuration\u001b[49m\u001b[43m(\u001b[49m\n\u001b[1;32m    560\u001b[0m \u001b[43m        \u001b[49m\u001b[43mconfig_name\u001b[49m\u001b[38;5;241;43m=\u001b[39;49m\u001b[43mconfig_name\u001b[49m\u001b[43m,\u001b[49m\n\u001b[1;32m    561\u001b[0m \u001b[43m        \u001b[49m\u001b[43moverrides\u001b[49m\u001b[38;5;241;43m=\u001b[39;49m\u001b[43moverrides\u001b[49m\u001b[43m,\u001b[49m\n\u001b[1;32m    562\u001b[0m \u001b[43m        \u001b[49m\u001b[43mrun_mode\u001b[49m\u001b[38;5;241;43m=\u001b[39;49m\u001b[43mrun_mode\u001b[49m\u001b[43m,\u001b[49m\n\u001b[1;32m    563\u001b[0m \u001b[43m        \u001b[49m\u001b[43mfrom_shell\u001b[49m\u001b[38;5;241;43m=\u001b[39;49m\u001b[43mfrom_shell\u001b[49m\u001b[43m,\u001b[49m\n\u001b[1;32m    564\u001b[0m \u001b[43m    \u001b[49m\u001b[43m)\u001b[49m\n\u001b[1;32m    565\u001b[0m     \u001b[38;5;28;01mif\u001b[39;00m with_log_configuration:\n\u001b[1;32m    566\u001b[0m         configure_log(cfg\u001b[38;5;241m.\u001b[39mhydra\u001b[38;5;241m.\u001b[39mhydra_logging, cfg\u001b[38;5;241m.\u001b[39mhydra\u001b[38;5;241m.\u001b[39mverbose)\n",
      "File \u001b[0;32m~/projects/l2hmc-qcd/.venv/lib/python3.10/site-packages/hydra/_internal/config_loader_impl.py:141\u001b[0m, in \u001b[0;36mConfigLoaderImpl.load_configuration\u001b[0;34m(self, config_name, overrides, run_mode, from_shell)\u001b[0m\n\u001b[1;32m    133\u001b[0m \u001b[38;5;28;01mdef\u001b[39;00m \u001b[38;5;21mload_configuration\u001b[39m(\n\u001b[1;32m    134\u001b[0m     \u001b[38;5;28mself\u001b[39m,\n\u001b[1;32m    135\u001b[0m     config_name: Optional[\u001b[38;5;28mstr\u001b[39m],\n\u001b[0;32m   (...)\u001b[0m\n\u001b[1;32m    138\u001b[0m     from_shell: \u001b[38;5;28mbool\u001b[39m \u001b[38;5;241m=\u001b[39m \u001b[38;5;28;01mTrue\u001b[39;00m,\n\u001b[1;32m    139\u001b[0m ) \u001b[38;5;241m-\u001b[39m\u001b[38;5;241m>\u001b[39m DictConfig:\n\u001b[1;32m    140\u001b[0m     \u001b[38;5;28;01mtry\u001b[39;00m:\n\u001b[0;32m--> 141\u001b[0m         \u001b[38;5;28;01mreturn\u001b[39;00m \u001b[38;5;28;43mself\u001b[39;49m\u001b[38;5;241;43m.\u001b[39;49m\u001b[43m_load_configuration_impl\u001b[49m\u001b[43m(\u001b[49m\n\u001b[1;32m    142\u001b[0m \u001b[43m            \u001b[49m\u001b[43mconfig_name\u001b[49m\u001b[38;5;241;43m=\u001b[39;49m\u001b[43mconfig_name\u001b[49m\u001b[43m,\u001b[49m\n\u001b[1;32m    143\u001b[0m \u001b[43m            \u001b[49m\u001b[43moverrides\u001b[49m\u001b[38;5;241;43m=\u001b[39;49m\u001b[43moverrides\u001b[49m\u001b[43m,\u001b[49m\n\u001b[1;32m    144\u001b[0m \u001b[43m            \u001b[49m\u001b[43mrun_mode\u001b[49m\u001b[38;5;241;43m=\u001b[39;49m\u001b[43mrun_mode\u001b[49m\u001b[43m,\u001b[49m\n\u001b[1;32m    145\u001b[0m \u001b[43m            \u001b[49m\u001b[43mfrom_shell\u001b[49m\u001b[38;5;241;43m=\u001b[39;49m\u001b[43mfrom_shell\u001b[49m\u001b[43m,\u001b[49m\n\u001b[1;32m    146\u001b[0m \u001b[43m        \u001b[49m\u001b[43m)\u001b[49m\n\u001b[1;32m    147\u001b[0m     \u001b[38;5;28;01mexcept\u001b[39;00m OmegaConfBaseException \u001b[38;5;28;01mas\u001b[39;00m e:\n\u001b[1;32m    148\u001b[0m         \u001b[38;5;28;01mraise\u001b[39;00m ConfigCompositionException()\u001b[38;5;241m.\u001b[39mwith_traceback(sys\u001b[38;5;241m.\u001b[39mexc_info()[\u001b[38;5;241m2\u001b[39m]) \u001b[38;5;28;01mfrom\u001b[39;00m \u001b[38;5;21;01me\u001b[39;00m\n",
      "File \u001b[0;32m~/projects/l2hmc-qcd/.venv/lib/python3.10/site-packages/hydra/_internal/config_loader_impl.py:249\u001b[0m, in \u001b[0;36mConfigLoaderImpl._load_configuration_impl\u001b[0;34m(self, config_name, overrides, run_mode, from_shell)\u001b[0m\n\u001b[1;32m    239\u001b[0m defaults_list \u001b[38;5;241m=\u001b[39m create_defaults_list(\n\u001b[1;32m    240\u001b[0m     repo\u001b[38;5;241m=\u001b[39mcaching_repo,\n\u001b[1;32m    241\u001b[0m     config_name\u001b[38;5;241m=\u001b[39mconfig_name,\n\u001b[0;32m   (...)\u001b[0m\n\u001b[1;32m    244\u001b[0m     skip_missing\u001b[38;5;241m=\u001b[39mrun_mode \u001b[38;5;241m==\u001b[39m RunMode\u001b[38;5;241m.\u001b[39mMULTIRUN,\n\u001b[1;32m    245\u001b[0m )\n\u001b[1;32m    247\u001b[0m config_overrides \u001b[38;5;241m=\u001b[39m defaults_list\u001b[38;5;241m.\u001b[39mconfig_overrides\n\u001b[0;32m--> 249\u001b[0m cfg \u001b[38;5;241m=\u001b[39m \u001b[38;5;28;43mself\u001b[39;49m\u001b[38;5;241;43m.\u001b[39;49m\u001b[43m_compose_config_from_defaults_list\u001b[49m\u001b[43m(\u001b[49m\n\u001b[1;32m    250\u001b[0m \u001b[43m    \u001b[49m\u001b[43mdefaults\u001b[49m\u001b[38;5;241;43m=\u001b[39;49m\u001b[43mdefaults_list\u001b[49m\u001b[38;5;241;43m.\u001b[39;49m\u001b[43mdefaults\u001b[49m\u001b[43m,\u001b[49m\u001b[43m \u001b[49m\u001b[43mrepo\u001b[49m\u001b[38;5;241;43m=\u001b[39;49m\u001b[43mcaching_repo\u001b[49m\n\u001b[1;32m    251\u001b[0m \u001b[43m\u001b[49m\u001b[43m)\u001b[49m\n\u001b[1;32m    253\u001b[0m \u001b[38;5;66;03m# Set config root to struct mode.\u001b[39;00m\n\u001b[1;32m    254\u001b[0m \u001b[38;5;66;03m# Note that this will close any dictionaries (including dicts annotated as Dict[K, V].\u001b[39;00m\n\u001b[1;32m    255\u001b[0m \u001b[38;5;66;03m# One must use + to add new fields to them.\u001b[39;00m\n\u001b[1;32m    256\u001b[0m OmegaConf\u001b[38;5;241m.\u001b[39mset_struct(cfg, \u001b[38;5;28;01mTrue\u001b[39;00m)\n",
      "File \u001b[0;32m~/projects/l2hmc-qcd/.venv/lib/python3.10/site-packages/hydra/_internal/config_loader_impl.py:517\u001b[0m, in \u001b[0;36mConfigLoaderImpl._compose_config_from_defaults_list\u001b[0;34m(self, defaults, repo)\u001b[0m\n\u001b[1;32m    515\u001b[0m \u001b[38;5;28;01mwith\u001b[39;00m flag_override(cfg, \u001b[38;5;124m\"\u001b[39m\u001b[38;5;124mno_deepcopy_set_nodes\u001b[39m\u001b[38;5;124m\"\u001b[39m, \u001b[38;5;28;01mTrue\u001b[39;00m):\n\u001b[1;32m    516\u001b[0m     \u001b[38;5;28;01mfor\u001b[39;00m default \u001b[38;5;129;01min\u001b[39;00m defaults:\n\u001b[0;32m--> 517\u001b[0m         loaded \u001b[38;5;241m=\u001b[39m \u001b[38;5;28;43mself\u001b[39;49m\u001b[38;5;241;43m.\u001b[39;49m\u001b[43m_load_single_config\u001b[49m\u001b[43m(\u001b[49m\u001b[43mdefault\u001b[49m\u001b[38;5;241;43m=\u001b[39;49m\u001b[43mdefault\u001b[49m\u001b[43m,\u001b[49m\u001b[43m \u001b[49m\u001b[43mrepo\u001b[49m\u001b[38;5;241;43m=\u001b[39;49m\u001b[43mrepo\u001b[49m\u001b[43m)\u001b[49m\n\u001b[1;32m    518\u001b[0m         \u001b[38;5;28;01mtry\u001b[39;00m:\n\u001b[1;32m    519\u001b[0m             cfg\u001b[38;5;241m.\u001b[39mmerge_with(loaded\u001b[38;5;241m.\u001b[39mconfig)\n",
      "File \u001b[0;32m~/projects/l2hmc-qcd/.venv/lib/python3.10/site-packages/hydra/_internal/config_loader_impl.py:464\u001b[0m, in \u001b[0;36mConfigLoaderImpl._load_single_config\u001b[0;34m(self, default, repo)\u001b[0m\n\u001b[1;32m    462\u001b[0m             ret\u001b[38;5;241m.\u001b[39mconfig \u001b[38;5;241m=\u001b[39m merged\n\u001b[1;32m    463\u001b[0m         \u001b[38;5;28;01mexcept\u001b[39;00m OmegaConfBaseException \u001b[38;5;28;01mas\u001b[39;00m e:\n\u001b[0;32m--> 464\u001b[0m             \u001b[38;5;28;01mraise\u001b[39;00m ConfigCompositionException(\n\u001b[1;32m    465\u001b[0m                 \u001b[38;5;124mf\u001b[39m\u001b[38;5;124m\"\u001b[39m\u001b[38;5;124mError merging \u001b[39m\u001b[38;5;124m'\u001b[39m\u001b[38;5;132;01m{\u001b[39;00mconfig_path\u001b[38;5;132;01m}\u001b[39;00m\u001b[38;5;124m'\u001b[39m\u001b[38;5;124m with schema\u001b[39m\u001b[38;5;124m\"\u001b[39m\n\u001b[1;32m    466\u001b[0m             ) \u001b[38;5;28;01mfrom\u001b[39;00m \u001b[38;5;21;01me\u001b[39;00m\n\u001b[1;32m    468\u001b[0m         \u001b[38;5;28;01massert\u001b[39;00m \u001b[38;5;28misinstance\u001b[39m(merged, DictConfig)\n\u001b[1;32m    470\u001b[0m res \u001b[38;5;241m=\u001b[39m \u001b[38;5;28mself\u001b[39m\u001b[38;5;241m.\u001b[39m_embed_result_config(ret, default\u001b[38;5;241m.\u001b[39mpackage)\n",
      "\u001b[0;31mConfigCompositionException\u001b[0m: Error merging 'config.yaml' with schema"
     ]
    }
   ],
   "source": [
    "cfg = compose(config_name='config.yaml')  # , overrides=['dynamics=su3', 'framework=pytorch'])"
   ]
  },
  {
   "cell_type": "code",
   "execution_count": 33,
   "id": "15a7ec75",
   "metadata": {
    "ExecuteTime": {
     "end_time": "2022-04-21T01:58:52.961008Z",
     "start_time": "2022-04-21T01:58:52.898539Z"
    }
   },
   "outputs": [
    {
     "data": {
      "text/plain": [
       "{'_target_': 'l2hmc.configs.ExperimentConfig', 'framework': '???', 'profile': False, 'precision': 'float32', 'width': 235, 'eps_hmc': 0.1181, 'compile': True, 'nchains': 128, 'ignore_warnings': True, 'name': None, 'defaults': ['_self_', {'steps': 'default.yaml'}, {'dynamics': 'default.yaml'}, {'wandb': 'default.yaml'}, {'logdir': 'default.yaml'}, {'loss': 'default.yaml'}, {'network': 'default.yaml'}, {'conv': 'default.yaml'}, {'net_weights': 'default.yaml'}, {'learning_rate': 'default.yaml'}, {'annealing_schedule': 'default.yaml'}, {'mode': 'default.yaml'}, {'experiment': None}, {'override hydra/hydra_logging': 'colorlog'}, {'override hydra/job_logging': 'colorlog'}]}"
      ]
     },
     "execution_count": 33,
     "metadata": {},
     "output_type": "execute_result"
    }
   ],
   "source": [
    "from omegaconf import DictConfig, OmegaConf\n",
    "\n",
    "cfg = OmegaConf.load(CONF_DIR.joinpath('config.yaml').as_posix())\n",
    "cfg = DictConfig()"
   ]
  },
  {
   "cell_type": "code",
   "execution_count": null,
   "id": "89838cbb",
   "metadata": {},
   "outputs": [],
   "source": []
  }
 ],
 "metadata": {
  "kernelspec": {
   "display_name": "Python 3 (ipykernel)",
   "language": "python",
   "name": "python3"
  },
  "language_info": {
   "codemirror_mode": {
    "name": "ipython",
    "version": 3
   },
   "file_extension": ".py",
   "mimetype": "text/x-python",
   "name": "python",
   "nbconvert_exporter": "python",
   "pygments_lexer": "ipython3",
   "version": "3.10.4"
  },
  "nbTranslate": {
   "displayLangs": [
    "*"
   ],
   "hotkey": "alt-t",
   "langInMainMenu": true,
   "sourceLang": "en",
   "targetLang": "fr",
   "useGoogleTranslate": true
  },
  "toc": {
   "base_numbering": 1,
   "nav_menu": {},
   "number_sections": true,
   "sideBar": true,
   "skip_h1_title": true,
   "title_cell": "Table of Contents",
   "title_sidebar": "Contents",
   "toc_cell": false,
   "toc_position": {},
   "toc_section_display": true,
   "toc_window_display": false
  },
  "varInspector": {
   "cols": {
    "lenName": 16,
    "lenType": 16,
    "lenVar": 40
   },
   "kernels_config": {
    "python": {
     "delete_cmd_postfix": "",
     "delete_cmd_prefix": "del ",
     "library": "var_list.py",
     "varRefreshCmd": "print(var_dic_list())"
    },
    "r": {
     "delete_cmd_postfix": ") ",
     "delete_cmd_prefix": "rm(",
     "library": "var_list.r",
     "varRefreshCmd": "cat(var_dic_list()) "
    }
   },
   "types_to_exclude": [
    "module",
    "function",
    "builtin_function_or_method",
    "instance",
    "_Feature"
   ],
   "window_display": false
  }
 },
 "nbformat": 4,
 "nbformat_minor": 5
}
