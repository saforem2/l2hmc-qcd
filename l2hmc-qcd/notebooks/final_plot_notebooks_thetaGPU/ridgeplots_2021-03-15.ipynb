{
 "cells": [
  {
   "cell_type": "code",
   "execution_count": 1,
   "metadata": {
    "ExecuteTime": {
     "end_time": "2021-04-15T15:40:21.464737Z",
     "start_time": "2021-04-15T15:39:37.915597Z"
    }
   },
   "outputs": [
    {
     "name": "stderr",
     "output_type": "stream",
     "text": [
      "\n",
      "Bad key \"text.kerning_factor\" on line 4 in\n",
      "/lus/grand/projects/DLHMC/tf_master-2021-03-02/lib/python3.8/site-packages/matplotlib/mpl-data/stylelib/_classic_test_patch.mplstyle.\n",
      "You probably need to get an updated matplotlibrc file from\n",
      "https://github.com/matplotlib/matplotlib/blob/v3.1.3/matplotlibrc.template\n",
      "or from the matplotlib source distribution\n"
     ]
    }
   ],
   "source": [
    "import datetime\n",
    "import os\n",
    "import sys\n",
    "import time\n",
    "\n",
    "import matplotlib.pyplot as plt\n",
    "import numpy as np\n",
    "import pandas as pd\n",
    "import seaborn as sns\n",
    "import tensorflow as tf\n",
    "from rich.console import Console\n",
    "from rich.theme import Theme\n",
    "\n",
    "project_dir = os.path.abspath('../../')\n",
    "if project_dir not in sys.path:\n",
    "    sys.path.append(project_dir)\n",
    "    \n",
    "sns.set_palette('bright')\n",
    "%load_ext autoreload\n",
    "%autoreload 2\n",
    "theme = Theme({\"repr.number\": \"#ff79ff\", \"repr.path\": '#f92672'})\n",
    "console = Console(theme=theme, width=240, log_path=False,\n",
    "                  log_time=True, log_time_format='[%X]')\n",
    "#%matplotlib notebook\n",
    "plt.style.use('default')\n",
    "sns.set_context('talk')\n",
    "sns.set_style('whitegrid')\n",
    "sns.set_palette('bright')\n",
    "%matplotlib inline\n",
    "\n",
    "GREEN = '#87ff00'\n",
    "PINK = '#F92672'\n",
    "BLUE = '#007dff'\n",
    "YELLOW = '#FFFF00'\n",
    "RED = '#FF4050'"
   ]
  },
  {
   "cell_type": "code",
   "execution_count": 2,
   "metadata": {
    "ExecuteTime": {
     "end_time": "2021-04-15T15:40:21.638295Z",
     "start_time": "2021-04-15T15:40:21.581817Z"
    }
   },
   "outputs": [],
   "source": [
    "rc_context = {\n",
    "    'font.family': 'lmodern',\n",
    "    'font.size': 12.,  # 9.6000000000000000001\n",
    "    'figure.figsize': (4, 3),\n",
    "    'axes.labelsize': 12.,\n",
    "    'legend.fontsize': 8.,\n",
    "    'legend.labelspacing': 0.2, # 0.5\n",
    "    'legend.handletextpad': 0.3,  # 0.8\n",
    "    'text.usetex': False,\n",
    "    'text.latex.preamble': (            # LaTeX preamble\n",
    "        #r'\\usepackage{lmodern}'\n",
    "        r'\\usepackage{amsmath}'\n",
    "        r'\\usepackage{amssymb}'\n",
    "        r'\\usepackage{microtype}'\n",
    "        r'\\usepackage{bm}'\n",
    "        r'\\usepackage{bbm}'\n",
    "    )\n",
    "}"
   ]
  },
  {
   "cell_type": "code",
   "execution_count": 3,
   "metadata": {
    "ExecuteTime": {
     "end_time": "2021-04-15T15:40:21.900507Z",
     "start_time": "2021-04-15T15:40:21.754246Z"
    }
   },
   "outputs": [],
   "source": [
    "from rich import print"
   ]
  },
  {
   "cell_type": "code",
   "execution_count": 4,
   "metadata": {
    "ExecuteTime": {
     "end_time": "2021-04-15T15:41:25.368392Z",
     "start_time": "2021-04-15T15:40:26.241361Z"
    }
   },
   "outputs": [
    {
     "name": "stdout",
     "output_type": "stream",
     "text": [
      "tf.__version__: 2.5.0\n"
     ]
    },
    {
     "data": {
      "text/html": [
       "<pre style=\"white-space:pre;overflow-x:auto;line-height:normal;font-family:Menlo,'DejaVu Sans Mono',consolas,'Courier New',monospace\"><span style=\"color: #7fbfbf; text-decoration-color: #7fbfbf\">[15:41:23]  </span><span style=\"color: #87ff00; text-decoration-color: #87ff00\">0</span> :: Using horovod version: <span style=\"color: #87ff00; text-decoration-color: #87ff00\">0.21</span>.<span style=\"color: #87ff00; text-decoration-color: #87ff00\">3</span>                                                                                                                                                                                                  \n",
       "</pre>\n"
      ],
      "text/plain": [
       "<rich.jupyter.JupyterRenderable at 0x7f2bf9400a60>"
      ]
     },
     "metadata": {},
     "output_type": "display_data"
    },
    {
     "data": {
      "text/html": [
       "<pre style=\"white-space:pre;overflow-x:auto;line-height:normal;font-family:Menlo,'DejaVu Sans Mono',consolas,'Courier New',monospace\"><span style=\"color: #7fbfbf; text-decoration-color: #7fbfbf\">            </span><span style=\"color: #87ff00; text-decoration-color: #87ff00\">0</span> :: Using horovod from: <span style=\"color: #800080; text-decoration-color: #800080\">/lus/grand/projects/DLHMC/tf_master-2021-03-02/lib/python3.8/site-packages/horovod/</span><span style=\"color: #ff00ff; text-decoration-color: #ff00ff\">__init__.py</span>                                                                                                             \n",
       "</pre>\n"
      ],
      "text/plain": [
       "<rich.jupyter.JupyterRenderable at 0x7f2bf9400ac0>"
      ]
     },
     "metadata": {},
     "output_type": "display_data"
    },
    {
     "data": {
      "text/html": [
       "<pre style=\"white-space:pre;overflow-x:auto;line-height:normal;font-family:Menlo,'DejaVu Sans Mono',consolas,'Courier New',monospace\"><span style=\"color: #7fbfbf; text-decoration-color: #7fbfbf\">            </span>rank: <span style=\"color: #87ff00; text-decoration-color: #87ff00\">0</span> local_rank: <span style=\"color: #87ff00; text-decoration-color: #87ff00\">0</span> size: <span style=\"color: #87ff00; text-decoration-color: #87ff00\">1</span> local_size: <span style=\"color: #87ff00; text-decoration-color: #87ff00\">1</span>                                                                                                                                                                                         \n",
       "</pre>\n"
      ],
      "text/plain": [
       "<rich.jupyter.JupyterRenderable at 0x7f2bf9400a30>"
      ]
     },
     "metadata": {},
     "output_type": "display_data"
    }
   ],
   "source": [
    "from utils.data_containers import DataContainer\n",
    "from config import PLOTS_DIR\n",
    "import utils.file_io as io\n",
    "\n",
    "def get_dataset(data_dir, therm_frac=0.2, num_chains=4, label=None):\n",
    "    container = DataContainer(0)\n",
    "    data = container.load_data(data_dir)\n",
    "    for key, val in data.items():\n",
    "        container.data[key] = np.array(val).tolist()\n",
    "        \n",
    "    dataset = container.get_dataset(therm_frac=therm_frac)\n",
    "    return dataset\n",
    "\n",
    "def remake_ridgeplot(dataset, label_str, num_chains=4):\n",
    "        \n",
    "    tstamp = io.get_timestamp('%Y-%m-%d')\n",
    "    outdir = os.path.join(PLOTS_DIR, 'ridgeplots', tstamp)\n",
    "    io.check_else_make_dir(outdir)\n",
    "    \n",
    "    fig, ax = make_ridgeplots1(dataset, num_chains=num_chains, out_dir=outdir, label_str=label_str)\n",
    "    \n",
    "    return fig, ax"
   ]
  },
  {
   "cell_type": "code",
   "execution_count": 22,
   "metadata": {
    "ExecuteTime": {
     "end_time": "2021-04-15T15:51:38.499026Z",
     "start_time": "2021-04-15T15:51:38.416636Z"
    }
   },
   "outputs": [
    {
     "data": {
      "text/html": [
       "<pre style=\"white-space:pre;overflow-x:auto;line-height:normal;font-family:Menlo,'DejaVu Sans Mono',consolas,'Courier New',monospace\"><span style=\"color: #00ff00; text-decoration-color: #00ff00; font-style: italic\">True</span>\n",
       "</pre>\n"
      ],
      "text/plain": [
       "<rich.jupyter.JupyterRenderable at 0x7f2bed56a670>"
      ]
     },
     "metadata": {},
     "output_type": "display_data"
    },
    {
     "data": {
      "text/html": [
       "<pre style=\"white-space:pre;overflow-x:auto;line-height:normal;font-family:Menlo,'DejaVu Sans Mono',consolas,'Courier New',monospace\"><span style=\"font-weight: bold\">[</span>\n",
       "    <span style=\"color: #008000; text-decoration-color: #008000\">'summaries'</span>,\n",
       "    <span style=\"color: #008000; text-decoration-color: #008000\">'run_params.txt'</span>,\n",
       "    <span style=\"color: #008000; text-decoration-color: #008000\">'inference_configs.txt'</span>,\n",
       "    <span style=\"color: #008000; text-decoration-color: #008000\">'run_data'</span>,\n",
       "    <span style=\"color: #008000; text-decoration-color: #008000\">'run_log.txt'</span>,\n",
       "    <span style=\"color: #008000; text-decoration-color: #008000\">'tint_data.z'</span>,\n",
       "    <span style=\"color: #008000; text-decoration-color: #008000\">'tint_vs_draws.pdf'</span>,\n",
       "    <span style=\"color: #008000; text-decoration-color: #008000\">'inference_configs.json'</span>,\n",
       "    <span style=\"color: #008000; text-decoration-color: #008000\">'dataset.nc'</span>,\n",
       "    <span style=\"color: #008000; text-decoration-color: #008000\">'plots'</span>,\n",
       "    <span style=\"color: #008000; text-decoration-color: #008000\">'inference_configs.z'</span>,\n",
       "    <span style=\"color: #008000; text-decoration-color: #008000\">'run_params.z'</span>\n",
       "<span style=\"font-weight: bold\">]</span>\n",
       "</pre>\n"
      ],
      "text/plain": [
       "<rich.jupyter.JupyterRenderable at 0x7f2b448cb850>"
      ]
     },
     "metadata": {},
     "output_type": "display_data"
    }
   ],
   "source": [
    "#run_dir = os.path.abspath('/lus/grand/projects/DLHMC/training/annealing_schedules/bi1bf7/l2hmc-qcd/logs/GaugeModel_logs/2021_02/L16_b1024_lf11_actswish_bi1_bf7_dp01_sepNets_NCProj/inference/L16_b1024__lf11_eps005-2021-02-26-0545/')\n",
    "#run_dir = os.path.abspath('/Users/saforem2/grand/projects/DLHMC/training/annealing_schedules/bi1bf7/l2hmc-qcd/logs/GaugeModel_logs/2021_02/L16_b1024_lf11_actswish_bi1_bf7_dp01_sepNets_NCProj/inference/L16_b1024__lf11_eps005-2021-02-26-0545/')\n",
    "#run_dir = os.path.abspath('/lus/grand/projects/DLHMC/training/annealing_schedules/bi4bf5/l2hmc-qcd/logs/GaugeModel_logs/2021_02/L16_b2048_lf13_actswish_bi4_bf5_dp01_sepNets_NCProj/inference/L16_b2048__lf13_eps005-2021-02-16-1958/')\n",
    "#run_dir = os.path.abspath('/lus/grand/projects/DLHMC/l2hmc-qcd/logs/GaugeModel_logs/2021_03/L16_b2048_lf9_actswish_bi4_bf5_dp01_sepNets_NCProj_nw111111/inference/L16_b2048__lf9_eps005-2021-03-24-0405/')\n",
    "#run_dir = os.path.abspath('/lus/grand/projects/DLHMC/l2hmc-qcd/logs/GaugeModel_logs/2021_02/L16_b2048_lf9_actswish_bi4_bf4_dp01_sepNets_NCProj_nw111111/inference/L16_b2048__lf9_eps005-2021-02-28-0816/')\n",
    "run_dir = os.path.abspath('/lus/grand/projects/DLHMC/l2hmc-qcd/logs/GaugeModel_logs/2021_03/L16_b2048_lf9_actswish_bi4_bf5_dp01_sepNets_NCProj_nw111111/inference/L16_b2048__lf9_eps005-2021-03-24-0405/')\n",
    "print(os.path.isdir(run_dir))\n",
    "print(os.listdir(run_dir))"
   ]
  },
  {
   "cell_type": "code",
   "execution_count": 23,
   "metadata": {
    "ExecuteTime": {
     "end_time": "2021-04-15T15:51:38.726856Z",
     "start_time": "2021-04-15T15:51:38.648466Z"
    },
    "code_folding": [],
    "run_control": {
     "marked": false
    }
   },
   "outputs": [],
   "source": [
    "import pandas as pd\n",
    "from utils.plotting_utils import truncate_colormap\n",
    "\n",
    "from utils.data_utils import therm_arr\n",
    "\n",
    "import matplotlib as mpl\n",
    "import utils.file_io as io\n",
    "from config import PLOTS_DIR, MARKERS\n",
    "\n",
    "pfplotdir = os.path.join(PLOTS_DIR, 'plaqsf_vs_lf')\n",
    "betas = np.arange(2, 8)\n",
    "\n",
    "plt.style.use('default')\n",
    "sns.set_context('paper')\n",
    "sns.set_palette('bright')\n",
    "sns.set_style('whitegrid')\n",
    "plt.rc('text', usetex=True)\n",
    "\n",
    "\n",
    "def make_ridgeplots1(\n",
    "    dataset,\n",
    "    num_chains=-1,\n",
    "    num_pts=-1,\n",
    "    therm_frac=0.1,\n",
    "    aspect=15,\n",
    "    height=0.15,\n",
    "    out_dir=None,\n",
    "    drop_zeros=False,\n",
    "    label_str=None,\n",
    "    cmap='rocket_r',\n",
    "    usetex=True,\n",
    "    ylabels=True,\n",
    "    xticks=None,\n",
    "    hspace=-0.25,\n",
    "    #labelsize='medium',\n",
    "):\n",
    "    sns.set_style(style='white', rc={'axes.facecolor': (0, 0, 0, 0)})\n",
    "    rc_context = {\n",
    "        'text.usetex': usetex,\n",
    "        #'axes.labelsize': 'xsmall',\n",
    "        #'axes.labelsize': labelsize,\n",
    "    }#, axes.labelsize}\n",
    "    #$'axes.labelsize': 12.,\n",
    "    with mpl.rc_context(rc_context):\n",
    "        data = {}\n",
    "        for key, val in dataset.data_vars.items():\n",
    "            if 'leapfrog' in val.coords.dims:\n",
    "                lf_data = {\n",
    "                    key: [],\n",
    "                    'lf': [],\n",
    "                }\n",
    "                for lf in val.leapfrog.values:\n",
    "                    x = val[{'leapfrog': lf}].values\n",
    "                    if num_chains is not None:\n",
    "                        console.log(f'x.shape: {x.shape}')\n",
    "                        x = therm_arr(x, therm_frac=therm_frac, ret_steps=False)\n",
    "                        x = x[:num_chains, :num_pts]\n",
    "                        #console.log(f'x.shape: {x.shape}')\n",
    "\n",
    "                    x = x.flatten()\n",
    "                    lf_arr = np.array(len(x) * [f'{lf}'])\n",
    "                    lf_data[key].extend(x)\n",
    "                    lf_data['lf'].extend(lf_arr)\n",
    "\n",
    "                lfdf = pd.DataFrame(lf_data)\n",
    "                data[key] = {\n",
    "                    'lfdf': lfdf,\n",
    "                    'val': val,\n",
    "                }\n",
    "                \n",
    "                pal = sns.color_palette(cmap, n_colors=len(val.leapfrog.values))\n",
    "                #g = sns.facetgrid(lfdf, row='lf', hue='lf', aspect=1, height=3, palette=pal)\n",
    "                g = sns.FacetGrid(lfdf, row='lf', hue='lf',  aspect=aspect, height=height, palette=pal)\n",
    "                #g = sns.FacetGrid(df, row=\"g\", hue=\"g\", aspect=15, height=.5, palette=pal)\n",
    "                    \n",
    "                # Draw the densities in a few steps\n",
    "                #g.map(sns.kdeplot, \"x\",\n",
    "                #      bw_adjust=.5, clip_on=False,\n",
    "                #      fill=True, alpha=1, linewidth=1.5)\n",
    "                _ = g.map(sns.kdeplot, key, cut=1, shade=True, alpha=0.7, linewidth=1.5, clip_on=False)\n",
    "                \n",
    "                #g.map(sns.kdeplot, \"x\", clip_on=False, color=\"w\", lw=2, bw_adjust=.5)\n",
    "                g.map(sns.kdeplot, key, clip_on=False, lw=1.5)\n",
    "                \n",
    "                #g.map(plt.axhline, y=0, lw=2, clip_on=False)\n",
    "                _ = g.map(plt.axhline, y=0, lw=1.5, alpha=1., clip_on=False, ls='-')\n",
    "                def get_label(x, color, label):\n",
    "                    ax = plt.gca()\n",
    "                    #ax.text(0, 0.01, label, color=color, ha='left', va='bottom', fontweight='bold',\n",
    "                    #        transform=ax.transAxes)#, fontsize='small')\n",
    "                    ax.text(0, 0.075, label, fontweight=\"bold\", color=color,\n",
    "                            ha=\"left\", va=\"center\", transform=ax.transAxes, fontsize='small')\n",
    "\n",
    "\n",
    "                if ylabels:\n",
    "                    _ = g.map(get_label, key)\n",
    "                    \n",
    "                if xticks is not None:\n",
    "                    plt.xticks(xticks)\n",
    "                    #plt.xlim(xlim)\n",
    "                    \n",
    "                #if xticks is not None:\n",
    "                #    _ = g.set(xticks=xticks)#, fontsize='small')\n",
    "                    \n",
    "                #_ = g.set(xlabel=label_str, fontsize='small')\n",
    "                \n",
    "                #if xticks is not None:\n",
    "                #    _ = ax.set_xticks(xticks)\n",
    "                    #_ = ax.set_xticklabels([str(i) for i in xticks])\n",
    "                fig = plt.gcf()\n",
    "                ax = plt.gca()\n",
    "                \n",
    "                _ = ax.set_xlabel(label_str, fontsize='small')\n",
    "                \n",
    "                #_ = g.fig.subplots_adjust(hspace=-0.725)\n",
    "                _ = g.fig.subplots_adjust(hspace=hspace)\n",
    "                _ = g.set_titles('')\n",
    "                _ = g.set(yticks=[])\n",
    "                _ = g.despine(bottom=True, left=True)\n",
    "                \n",
    "                #if xticks is not None:\n",
    "                #    xticklabels = [str(i) for i in xticks]\n",
    "                #else:\n",
    "                #    xticklabels = [str(i) for i in ax.get_xticks()]\n",
    "                    \n",
    "                #_ = ax.set_xticklabels(xticklabels, fontsize='small')\n",
    "                #_ = fig.align_labels(axs=ax)\n",
    "                \n",
    "                #if xticks is None:\n",
    "                #xticks = ax.get_xticklabels()\n",
    "                \n",
    "                #_ = ax.set_xticklabels(xticks, fontsize='small')\n",
    "                \n",
    "                #_ = plt.tight_layout()\n",
    "                #_ = fig.align_labels(axs=ax)\n",
    "                #_ = plt.tight_layout()\n",
    "                _ = fig.execute_constrained_layout()\n",
    "                #_ = plt.Axes.autoscale_view(tight=True)\n",
    "                if out_dir is not None:\n",
    "                    timestr = io.get_timestamp('%H%M')\n",
    "                    #plt.tight_layout()\n",
    "                    io.check_else_make_dir(out_dir)\n",
    "                    out_file = os.path.join(out_dir, f'{key}_{timestr}.pdf')\n",
    "                    io.log(f'Saving figure to: {out_file}')\n",
    "                    plt.savefig(out_file, dpi=400, bbox_inches='tight')\n",
    "\n",
    "    return data, (fig, ax)"
   ]
  },
  {
   "cell_type": "code",
   "execution_count": 24,
   "metadata": {
    "ExecuteTime": {
     "end_time": "2021-04-15T15:51:38.941934Z",
     "start_time": "2021-04-15T15:51:38.728096Z"
    }
   },
   "outputs": [],
   "source": [
    "import xarray as xr\n",
    "from utils.data_utils import therm_arr\n",
    "\n",
    "def make_dataset(arr, name, therm_frac=0.2, num_pts=None, num_chains=None):\n",
    "    arr, steps = therm_arr(arr, therm_frac=therm_frac)\n",
    "    if num_pts is not None:\n",
    "        arr = arr[:num_pts]\n",
    "        \n",
    "    data_vars = {}\n",
    "    if len(arr.shape) == 1:\n",
    "        data_vars[name] = xr.DataArray(arr, dims=['draw'], coords=[steps])\n",
    "        \n",
    "    elif len(arr.shape) == 3:\n",
    "        if num_chains is not None:\n",
    "            arr = arr[:, :, :num_chains]\n",
    "        \n",
    "        arr = arr.T\n",
    "        chains, leapfrogs, _ = arr.shape\n",
    "        \n",
    "        dims = ['chain', 'leapfrog', 'draw']\n",
    "        coords = [np.arange(chains), np.arange(leapfrogs), steps]\n",
    "        data_vars[name] = xr.DataArray(arr, dims=dims, coords=coords)\n",
    "    else:\n",
    "        if num_chains is not None:\n",
    "            arr = arr[:, :num_chains]\n",
    "            \n",
    "        chains = np.arange(arr.shape[1])\n",
    "        data_vars[name] = xr.DataArray(arr.T, dims=['chain', 'draw'], coords=[chains, steps])\n",
    "        \n",
    "    return xr.Dataset(data_vars)"
   ]
  },
  {
   "cell_type": "markdown",
   "metadata": {},
   "source": [
    "## Load `sinQf` data from `run_dir` and create `xr.Dataset` for plotting"
   ]
  },
  {
   "cell_type": "code",
   "execution_count": 25,
   "metadata": {
    "ExecuteTime": {
     "end_time": "2021-04-15T15:51:44.447093Z",
     "start_time": "2021-04-15T15:51:39.633984Z"
    }
   },
   "outputs": [
    {
     "data": {
      "text/html": [
       "<pre style=\"white-space:pre;overflow-x:auto;line-height:normal;font-family:Menlo,'DejaVu Sans Mono',consolas,'Courier New',monospace\"><span style=\"color: #7fbfbf; text-decoration-color: #7fbfbf\">[15:51:44] </span><span style=\"font-weight: bold\">&lt;</span><span style=\"color: #ff00ff; text-decoration-color: #ff00ff; font-weight: bold\">xarray.Dataset</span><span style=\"font-weight: bold\">&gt;</span>                                                                                                                                                                                                                     \n",
       "           Dimensions:   <span style=\"font-weight: bold\">(</span>chain: <span style=\"color: #ff79ff; text-decoration-color: #ff79ff\">2048</span>, draw: <span style=\"color: #ff79ff; text-decoration-color: #ff79ff\">5000</span>, leapfrog: <span style=\"color: #ff79ff; text-decoration-color: #ff79ff\">10</span><span style=\"font-weight: bold\">)</span>                                                                                                                                                                                \n",
       "           Coordinates:                                                                                                                                                                                                                         \n",
       "             * chain     <span style=\"font-weight: bold\">(</span>chain<span style=\"font-weight: bold\">)</span> int64 <span style=\"color: #ff79ff; text-decoration-color: #ff79ff\">0</span> <span style=\"color: #ff79ff; text-decoration-color: #ff79ff\">1</span> <span style=\"color: #ff79ff; text-decoration-color: #ff79ff\">2</span> <span style=\"color: #ff79ff; text-decoration-color: #ff79ff\">3</span> <span style=\"color: #ff79ff; text-decoration-color: #ff79ff\">4</span> <span style=\"color: #ff79ff; text-decoration-color: #ff79ff\">5</span> <span style=\"color: #ff79ff; text-decoration-color: #ff79ff\">6</span> <span style=\"color: #808000; text-decoration-color: #808000\">...</span> <span style=\"color: #ff79ff; text-decoration-color: #ff79ff\">2041</span> <span style=\"color: #ff79ff; text-decoration-color: #ff79ff\">2042</span> <span style=\"color: #ff79ff; text-decoration-color: #ff79ff\">2043</span> <span style=\"color: #ff79ff; text-decoration-color: #ff79ff\">2044</span> <span style=\"color: #ff79ff; text-decoration-color: #ff79ff\">2045</span> <span style=\"color: #ff79ff; text-decoration-color: #ff79ff\">2046</span> <span style=\"color: #ff79ff; text-decoration-color: #ff79ff\">2047</span>                                                                                                                                                     \n",
       "             * leapfrog  <span style=\"font-weight: bold\">(</span>leapfrog<span style=\"font-weight: bold\">)</span> int64 <span style=\"color: #ff79ff; text-decoration-color: #ff79ff\">0</span> <span style=\"color: #ff79ff; text-decoration-color: #ff79ff\">1</span> <span style=\"color: #ff79ff; text-decoration-color: #ff79ff\">2</span> <span style=\"color: #ff79ff; text-decoration-color: #ff79ff\">3</span> <span style=\"color: #ff79ff; text-decoration-color: #ff79ff\">4</span> <span style=\"color: #ff79ff; text-decoration-color: #ff79ff\">5</span> <span style=\"color: #ff79ff; text-decoration-color: #ff79ff\">6</span> <span style=\"color: #ff79ff; text-decoration-color: #ff79ff\">7</span> <span style=\"color: #ff79ff; text-decoration-color: #ff79ff\">8</span> <span style=\"color: #ff79ff; text-decoration-color: #ff79ff\">9</span>                                                                                                                                                                                   \n",
       "             * draw      <span style=\"font-weight: bold\">(</span>draw<span style=\"font-weight: bold\">)</span> int64 <span style=\"color: #ff79ff; text-decoration-color: #ff79ff\">5000</span> <span style=\"color: #ff79ff; text-decoration-color: #ff79ff\">5001</span> <span style=\"color: #ff79ff; text-decoration-color: #ff79ff\">5002</span> <span style=\"color: #ff79ff; text-decoration-color: #ff79ff\">5003</span> <span style=\"color: #ff79ff; text-decoration-color: #ff79ff\">5004</span> <span style=\"color: #808000; text-decoration-color: #808000\">...</span> <span style=\"color: #ff79ff; text-decoration-color: #ff79ff\">9995</span> <span style=\"color: #ff79ff; text-decoration-color: #ff79ff\">9996</span> <span style=\"color: #ff79ff; text-decoration-color: #ff79ff\">9997</span> <span style=\"color: #ff79ff; text-decoration-color: #ff79ff\">9998</span> <span style=\"color: #ff79ff; text-decoration-color: #ff79ff\">9999</span>                                                                                                                                                     \n",
       "           Data variables:                                                                                                                                                                                                                      \n",
       "               sinQf     <span style=\"font-weight: bold\">(</span>chain, leapfrog, draw<span style=\"font-weight: bold\">)</span> float32 <span style=\"color: #ff79ff; text-decoration-color: #ff79ff\">-0.1999</span> <span style=\"color: #ff79ff; text-decoration-color: #ff79ff\">0.01445</span> <span style=\"color: #808000; text-decoration-color: #808000\">...</span> <span style=\"color: #ff79ff; text-decoration-color: #ff79ff\">-0.9028</span>                                                                                                                                                            \n",
       "</pre>\n"
      ],
      "text/plain": [
       "<rich.jupyter.JupyterRenderable at 0x7f2b973bb790>"
      ]
     },
     "metadata": {},
     "output_type": "display_data"
    }
   ],
   "source": [
    "from config import PLOTS_DIR\n",
    "#ridgeplots_dir = os.path.join(PLOTS_DIR, 'ridgeplots', '2021-01-20')\n",
    "\n",
    "sfile = os.path.join(run_dir, 'run_data', 'sinQf.z')\n",
    "sinQf = io.loadz(sfile)\n",
    "sinQf_dataset = make_dataset(sinQf, name='sinQf', therm_frac=0.5)\n",
    "\n",
    "sdataset_file = os.path.join(run_dir, 'run_data', 'sinQf.nc')\n",
    "if not os.path.isfile(sdataset_file):\n",
    "    console.log(f'Saving sinQf dataset to: {sdataset_file}')\n",
    "    sinQf_dataset.to_netcdf(sdataset_file)\n",
    "\n",
    "console.log(sinQf_dataset)"
   ]
  },
  {
   "cell_type": "code",
   "execution_count": 26,
   "metadata": {
    "ExecuteTime": {
     "end_time": "2021-04-15T15:51:50.947796Z",
     "start_time": "2021-04-15T15:51:44.679970Z"
    }
   },
   "outputs": [
    {
     "data": {
      "text/html": [
       "<pre style=\"white-space:pre;overflow-x:auto;line-height:normal;font-family:Menlo,'DejaVu Sans Mono',consolas,'Courier New',monospace\"><span style=\"color: #7fbfbf; text-decoration-color: #7fbfbf\">[15:51:50] </span><span style=\"font-weight: bold\">&lt;</span><span style=\"color: #ff00ff; text-decoration-color: #ff00ff; font-weight: bold\">xarray.Dataset</span><span style=\"font-weight: bold\">&gt;</span>                                                                                                                                                                                                                     \n",
       "           Dimensions:   <span style=\"font-weight: bold\">(</span>chain: <span style=\"color: #ff79ff; text-decoration-color: #ff79ff\">2048</span>, draw: <span style=\"color: #ff79ff; text-decoration-color: #ff79ff\">5000</span>, leapfrog: <span style=\"color: #ff79ff; text-decoration-color: #ff79ff\">10</span><span style=\"font-weight: bold\">)</span>                                                                                                                                                                                \n",
       "           Coordinates:                                                                                                                                                                                                                         \n",
       "             * chain     <span style=\"font-weight: bold\">(</span>chain<span style=\"font-weight: bold\">)</span> int64 <span style=\"color: #ff79ff; text-decoration-color: #ff79ff\">0</span> <span style=\"color: #ff79ff; text-decoration-color: #ff79ff\">1</span> <span style=\"color: #ff79ff; text-decoration-color: #ff79ff\">2</span> <span style=\"color: #ff79ff; text-decoration-color: #ff79ff\">3</span> <span style=\"color: #ff79ff; text-decoration-color: #ff79ff\">4</span> <span style=\"color: #ff79ff; text-decoration-color: #ff79ff\">5</span> <span style=\"color: #ff79ff; text-decoration-color: #ff79ff\">6</span> <span style=\"color: #808000; text-decoration-color: #808000\">...</span> <span style=\"color: #ff79ff; text-decoration-color: #ff79ff\">2041</span> <span style=\"color: #ff79ff; text-decoration-color: #ff79ff\">2042</span> <span style=\"color: #ff79ff; text-decoration-color: #ff79ff\">2043</span> <span style=\"color: #ff79ff; text-decoration-color: #ff79ff\">2044</span> <span style=\"color: #ff79ff; text-decoration-color: #ff79ff\">2045</span> <span style=\"color: #ff79ff; text-decoration-color: #ff79ff\">2046</span> <span style=\"color: #ff79ff; text-decoration-color: #ff79ff\">2047</span>                                                                                                                                                     \n",
       "             * leapfrog  <span style=\"font-weight: bold\">(</span>leapfrog<span style=\"font-weight: bold\">)</span> int64 <span style=\"color: #ff79ff; text-decoration-color: #ff79ff\">0</span> <span style=\"color: #ff79ff; text-decoration-color: #ff79ff\">1</span> <span style=\"color: #ff79ff; text-decoration-color: #ff79ff\">2</span> <span style=\"color: #ff79ff; text-decoration-color: #ff79ff\">3</span> <span style=\"color: #ff79ff; text-decoration-color: #ff79ff\">4</span> <span style=\"color: #ff79ff; text-decoration-color: #ff79ff\">5</span> <span style=\"color: #ff79ff; text-decoration-color: #ff79ff\">6</span> <span style=\"color: #ff79ff; text-decoration-color: #ff79ff\">7</span> <span style=\"color: #ff79ff; text-decoration-color: #ff79ff\">8</span> <span style=\"color: #ff79ff; text-decoration-color: #ff79ff\">9</span>                                                                                                                                                                                   \n",
       "             * draw      <span style=\"font-weight: bold\">(</span>draw<span style=\"font-weight: bold\">)</span> int64 <span style=\"color: #ff79ff; text-decoration-color: #ff79ff\">5000</span> <span style=\"color: #ff79ff; text-decoration-color: #ff79ff\">5001</span> <span style=\"color: #ff79ff; text-decoration-color: #ff79ff\">5002</span> <span style=\"color: #ff79ff; text-decoration-color: #ff79ff\">5003</span> <span style=\"color: #ff79ff; text-decoration-color: #ff79ff\">5004</span> <span style=\"color: #808000; text-decoration-color: #808000\">...</span> <span style=\"color: #ff79ff; text-decoration-color: #ff79ff\">9995</span> <span style=\"color: #ff79ff; text-decoration-color: #ff79ff\">9996</span> <span style=\"color: #ff79ff; text-decoration-color: #ff79ff\">9997</span> <span style=\"color: #ff79ff; text-decoration-color: #ff79ff\">9998</span> <span style=\"color: #ff79ff; text-decoration-color: #ff79ff\">9999</span>                                                                                                                                                     \n",
       "           Data variables:                                                                                                                                                                                                                      \n",
       "               plaqsf    <span style=\"font-weight: bold\">(</span>chain, leapfrog, draw<span style=\"font-weight: bold\">)</span> float32 <span style=\"color: #ff79ff; text-decoration-color: #ff79ff\">0.002118</span> <span style=\"color: #ff79ff; text-decoration-color: #ff79ff\">0.006118</span> <span style=\"color: #808000; text-decoration-color: #808000\">...</span> <span style=\"color: #ff79ff; text-decoration-color: #ff79ff\">0.006023</span>                                                                                                                                                         \n",
       "</pre>\n"
      ],
      "text/plain": [
       "<rich.jupyter.JupyterRenderable at 0x7f2bed56adc0>"
      ]
     },
     "metadata": {},
     "output_type": "display_data"
    }
   ],
   "source": [
    "pfile = os.path.join(run_dir, 'run_data', 'plaqsf.z')\n",
    "\n",
    "plaqsf = io.loadz(pfile)\n",
    "plaqsf_dataset = make_dataset(plaqsf, name='plaqsf', therm_frac=0.5)\n",
    "\n",
    "pdataset_file = os.path.join(run_dir, 'run_data', 'plaqsf.nc')\n",
    "if not os.path.isfile(pdataset_file):\n",
    "    console.log(f'Saving plaqsf dataset to: {pdataset_file}')\n",
    "    plaqsf_dataset.to_netcdf(pdataset_file)\n",
    "\n",
    "console.log(plaqsf_dataset)"
   ]
  },
  {
   "cell_type": "code",
   "execution_count": 27,
   "metadata": {
    "ExecuteTime": {
     "end_time": "2021-04-15T15:51:56.943669Z",
     "start_time": "2021-04-15T15:51:51.176446Z"
    }
   },
   "outputs": [],
   "source": [
    "hfile = os.path.join(run_dir ,'run_data', 'Hwf.z')\n",
    "hwf = io.loadz(hfile)\n",
    "hwf_dataset = make_dataset(hwf, name='hwf', therm_frac=0.5)\n",
    "\n",
    "hdataset_file = os.path.join(run_dir, 'run_data', 'Hwf.nc')\n",
    "if not os.path.isfile(hdataset_file):\n",
    "    console.log(f'Saving hwf_dataset to : {hdataset_file}')\n",
    "    hwf_dataset.to_netcdf(hdataset_file)"
   ]
  },
  {
   "cell_type": "code",
   "execution_count": 28,
   "metadata": {
    "ExecuteTime": {
     "end_time": "2021-04-15T15:51:57.251362Z",
     "start_time": "2021-04-15T15:51:57.185624Z"
    }
   },
   "outputs": [],
   "source": [
    "import utils.file_io as io\n",
    "from config import PLOTS_DIR\n",
    "\n",
    "daystr = io.get_timestamp('%Y-%m-%d')\n",
    "timestr = io.get_timestamp('%H%M')\n",
    "\n",
    "ridgeplots_dir = os.path.join(PLOTS_DIR, 'ridgeplots')\n",
    "outdir = os.path.join(ridgeplots_dir, daystr)"
   ]
  },
  {
   "cell_type": "code",
   "execution_count": 29,
   "metadata": {
    "ExecuteTime": {
     "end_time": "2021-04-15T15:52:50.906122Z",
     "start_time": "2021-04-15T15:51:57.726592Z"
    }
   },
   "outputs": [
    {
     "data": {
      "text/html": [
       "<pre style=\"white-space:pre;overflow-x:auto;line-height:normal;font-family:Menlo,'DejaVu Sans Mono',consolas,'Courier New',monospace\"><span style=\"color: #7fbfbf; text-decoration-color: #7fbfbf\">[15:51:57] </span>x.shape: <span style=\"font-weight: bold\">(</span><span style=\"color: #ff79ff; text-decoration-color: #ff79ff\">2048</span>, <span style=\"color: #ff79ff; text-decoration-color: #ff79ff\">5000</span><span style=\"font-weight: bold\">)</span>                                                                                                                                                                                                                \n",
       "</pre>\n"
      ],
      "text/plain": [
       "<rich.jupyter.JupyterRenderable at 0x7f2764c2a640>"
      ]
     },
     "metadata": {},
     "output_type": "display_data"
    },
    {
     "data": {
      "text/html": [
       "<pre style=\"white-space:pre;overflow-x:auto;line-height:normal;font-family:Menlo,'DejaVu Sans Mono',consolas,'Courier New',monospace\"><span style=\"color: #7fbfbf; text-decoration-color: #7fbfbf\">[15:51:58] </span>x.shape: <span style=\"font-weight: bold\">(</span><span style=\"color: #ff79ff; text-decoration-color: #ff79ff\">2048</span>, <span style=\"color: #ff79ff; text-decoration-color: #ff79ff\">5000</span><span style=\"font-weight: bold\">)</span>                                                                                                                                                                                                                \n",
       "</pre>\n"
      ],
      "text/plain": [
       "<rich.jupyter.JupyterRenderable at 0x7f2ca03831c0>"
      ]
     },
     "metadata": {},
     "output_type": "display_data"
    },
    {
     "data": {
      "text/html": [
       "<pre style=\"white-space:pre;overflow-x:auto;line-height:normal;font-family:Menlo,'DejaVu Sans Mono',consolas,'Courier New',monospace\"><span style=\"color: #7fbfbf; text-decoration-color: #7fbfbf\">           </span>x.shape: <span style=\"font-weight: bold\">(</span><span style=\"color: #ff79ff; text-decoration-color: #ff79ff\">2048</span>, <span style=\"color: #ff79ff; text-decoration-color: #ff79ff\">5000</span><span style=\"font-weight: bold\">)</span>                                                                                                                                                                                                                \n",
       "</pre>\n"
      ],
      "text/plain": [
       "<rich.jupyter.JupyterRenderable at 0x7f2ca03835e0>"
      ]
     },
     "metadata": {},
     "output_type": "display_data"
    },
    {
     "data": {
      "text/html": [
       "<pre style=\"white-space:pre;overflow-x:auto;line-height:normal;font-family:Menlo,'DejaVu Sans Mono',consolas,'Courier New',monospace\"><span style=\"color: #7fbfbf; text-decoration-color: #7fbfbf\">[15:51:59] </span>x.shape: <span style=\"font-weight: bold\">(</span><span style=\"color: #ff79ff; text-decoration-color: #ff79ff\">2048</span>, <span style=\"color: #ff79ff; text-decoration-color: #ff79ff\">5000</span><span style=\"font-weight: bold\">)</span>                                                                                                                                                                                                                \n",
       "</pre>\n"
      ],
      "text/plain": [
       "<rich.jupyter.JupyterRenderable at 0x7f2ca03837f0>"
      ]
     },
     "metadata": {},
     "output_type": "display_data"
    },
    {
     "data": {
      "text/html": [
       "<pre style=\"white-space:pre;overflow-x:auto;line-height:normal;font-family:Menlo,'DejaVu Sans Mono',consolas,'Courier New',monospace\"><span style=\"color: #7fbfbf; text-decoration-color: #7fbfbf\">           </span>x.shape: <span style=\"font-weight: bold\">(</span><span style=\"color: #ff79ff; text-decoration-color: #ff79ff\">2048</span>, <span style=\"color: #ff79ff; text-decoration-color: #ff79ff\">5000</span><span style=\"font-weight: bold\">)</span>                                                                                                                                                                                                                \n",
       "</pre>\n"
      ],
      "text/plain": [
       "<rich.jupyter.JupyterRenderable at 0x7f2ca03834f0>"
      ]
     },
     "metadata": {},
     "output_type": "display_data"
    },
    {
     "data": {
      "text/html": [
       "<pre style=\"white-space:pre;overflow-x:auto;line-height:normal;font-family:Menlo,'DejaVu Sans Mono',consolas,'Courier New',monospace\"><span style=\"color: #7fbfbf; text-decoration-color: #7fbfbf\">           </span>x.shape: <span style=\"font-weight: bold\">(</span><span style=\"color: #ff79ff; text-decoration-color: #ff79ff\">2048</span>, <span style=\"color: #ff79ff; text-decoration-color: #ff79ff\">5000</span><span style=\"font-weight: bold\">)</span>                                                                                                                                                                                                                \n",
       "</pre>\n"
      ],
      "text/plain": [
       "<rich.jupyter.JupyterRenderable at 0x7f2ca0383550>"
      ]
     },
     "metadata": {},
     "output_type": "display_data"
    },
    {
     "data": {
      "text/html": [
       "<pre style=\"white-space:pre;overflow-x:auto;line-height:normal;font-family:Menlo,'DejaVu Sans Mono',consolas,'Courier New',monospace\"><span style=\"color: #7fbfbf; text-decoration-color: #7fbfbf\">[15:52:00] </span>x.shape: <span style=\"font-weight: bold\">(</span><span style=\"color: #ff79ff; text-decoration-color: #ff79ff\">2048</span>, <span style=\"color: #ff79ff; text-decoration-color: #ff79ff\">5000</span><span style=\"font-weight: bold\">)</span>                                                                                                                                                                                                                \n",
       "</pre>\n"
      ],
      "text/plain": [
       "<rich.jupyter.JupyterRenderable at 0x7f2ca0383160>"
      ]
     },
     "metadata": {},
     "output_type": "display_data"
    },
    {
     "data": {
      "text/html": [
       "<pre style=\"white-space:pre;overflow-x:auto;line-height:normal;font-family:Menlo,'DejaVu Sans Mono',consolas,'Courier New',monospace\"><span style=\"color: #7fbfbf; text-decoration-color: #7fbfbf\">           </span>x.shape: <span style=\"font-weight: bold\">(</span><span style=\"color: #ff79ff; text-decoration-color: #ff79ff\">2048</span>, <span style=\"color: #ff79ff; text-decoration-color: #ff79ff\">5000</span><span style=\"font-weight: bold\">)</span>                                                                                                                                                                                                                \n",
       "</pre>\n"
      ],
      "text/plain": [
       "<rich.jupyter.JupyterRenderable at 0x7f2b448ff220>"
      ]
     },
     "metadata": {},
     "output_type": "display_data"
    },
    {
     "data": {
      "text/html": [
       "<pre style=\"white-space:pre;overflow-x:auto;line-height:normal;font-family:Menlo,'DejaVu Sans Mono',consolas,'Courier New',monospace\"><span style=\"color: #7fbfbf; text-decoration-color: #7fbfbf\">[15:52:01] </span>x.shape: <span style=\"font-weight: bold\">(</span><span style=\"color: #ff79ff; text-decoration-color: #ff79ff\">2048</span>, <span style=\"color: #ff79ff; text-decoration-color: #ff79ff\">5000</span><span style=\"font-weight: bold\">)</span>                                                                                                                                                                                                                \n",
       "</pre>\n"
      ],
      "text/plain": [
       "<rich.jupyter.JupyterRenderable at 0x7f2bed5a6460>"
      ]
     },
     "metadata": {},
     "output_type": "display_data"
    },
    {
     "data": {
      "text/html": [
       "<pre style=\"white-space:pre;overflow-x:auto;line-height:normal;font-family:Menlo,'DejaVu Sans Mono',consolas,'Courier New',monospace\"><span style=\"color: #7fbfbf; text-decoration-color: #7fbfbf\">           </span>x.shape: <span style=\"font-weight: bold\">(</span><span style=\"color: #ff79ff; text-decoration-color: #ff79ff\">2048</span>, <span style=\"color: #ff79ff; text-decoration-color: #ff79ff\">5000</span><span style=\"font-weight: bold\">)</span>                                                                                                                                                                                                                \n",
       "</pre>\n"
      ],
      "text/plain": [
       "<rich.jupyter.JupyterRenderable at 0x7f2bed5a63d0>"
      ]
     },
     "metadata": {},
     "output_type": "display_data"
    },
    {
     "name": "stderr",
     "output_type": "stream",
     "text": [
      "/lus/grand/projects/DLHMC/tf_master-2021-03-02/lib/python3.8/site-packages/seaborn/axisgrid.py:64: UserWarning: Tight layout not applied. tight_layout cannot make axes height small enough to accommodate all axes decorations\n",
      "  self.fig.tight_layout(*args, **kwargs)\n",
      "/lus/grand/projects/DLHMC/tf_master-2021-03-02/lib/python3.8/site-packages/seaborn/axisgrid.py:64: UserWarning: Tight layout not applied. tight_layout cannot make axes height small enough to accommodate all axes decorations\n",
      "  self.fig.tight_layout(*args, **kwargs)\n",
      "/lus/grand/projects/DLHMC/tf_master-2021-03-02/lib/python3.8/site-packages/seaborn/axisgrid.py:64: UserWarning: Tight layout not applied. tight_layout cannot make axes height small enough to accommodate all axes decorations\n",
      "  self.fig.tight_layout(*args, **kwargs)\n",
      "<ipython-input-23-aa700ae7141a>:137: UserWarning: Calling figure.constrained_layout, but figure not setup to do constrained layout.  You either called GridSpec without the fig keyword, you are using plt.subplot, or you need to call figure or subplots with the constrained_layout=True kwarg.\n",
      "  _ = fig.execute_constrained_layout()\n"
     ]
    },
    {
     "data": {
      "text/html": [
       "<pre style=\"white-space:pre;overflow-x:auto;line-height:normal;font-family:Menlo,'DejaVu Sans Mono',consolas,'Courier New',monospace\"><span style=\"color: #7fbfbf; text-decoration-color: #7fbfbf\">[15:52:14]  </span>Saving figure to: <span style=\"color: #800080; text-decoration-color: #800080\">/lus/grand/projects/DLHMC/l2hmc-qcd/plots/ridgeplots/2021-04-15/</span><span style=\"color: #ff00ff; text-decoration-color: #ff00ff\">plaqsf_1552.pdf</span>                                                                                                                                   \n",
       "</pre>\n"
      ],
      "text/plain": [
       "<rich.jupyter.JupyterRenderable at 0x7f2beec8d370>"
      ]
     },
     "metadata": {},
     "output_type": "display_data"
    },
    {
     "data": {
      "text/html": [
       "<pre style=\"white-space:pre;overflow-x:auto;line-height:normal;font-family:Menlo,'DejaVu Sans Mono',consolas,'Courier New',monospace\"><span style=\"color: #7fbfbf; text-decoration-color: #7fbfbf\">[15:52:15] </span>x.shape: <span style=\"font-weight: bold\">(</span><span style=\"color: #ff79ff; text-decoration-color: #ff79ff\">2048</span>, <span style=\"color: #ff79ff; text-decoration-color: #ff79ff\">5000</span><span style=\"font-weight: bold\">)</span>                                                                                                                                                                                                                \n",
       "</pre>\n"
      ],
      "text/plain": [
       "<rich.jupyter.JupyterRenderable at 0x7f2beed8d3a0>"
      ]
     },
     "metadata": {},
     "output_type": "display_data"
    },
    {
     "data": {
      "text/html": [
       "<pre style=\"white-space:pre;overflow-x:auto;line-height:normal;font-family:Menlo,'DejaVu Sans Mono',consolas,'Courier New',monospace\"><span style=\"color: #7fbfbf; text-decoration-color: #7fbfbf\">[15:52:16] </span>x.shape: <span style=\"font-weight: bold\">(</span><span style=\"color: #ff79ff; text-decoration-color: #ff79ff\">2048</span>, <span style=\"color: #ff79ff; text-decoration-color: #ff79ff\">5000</span><span style=\"font-weight: bold\">)</span>                                                                                                                                                                                                                \n",
       "</pre>\n"
      ],
      "text/plain": [
       "<rich.jupyter.JupyterRenderable at 0x7f2b448ff340>"
      ]
     },
     "metadata": {},
     "output_type": "display_data"
    },
    {
     "data": {
      "text/html": [
       "<pre style=\"white-space:pre;overflow-x:auto;line-height:normal;font-family:Menlo,'DejaVu Sans Mono',consolas,'Courier New',monospace\"><span style=\"color: #7fbfbf; text-decoration-color: #7fbfbf\">           </span>x.shape: <span style=\"font-weight: bold\">(</span><span style=\"color: #ff79ff; text-decoration-color: #ff79ff\">2048</span>, <span style=\"color: #ff79ff; text-decoration-color: #ff79ff\">5000</span><span style=\"font-weight: bold\">)</span>                                                                                                                                                                                                                \n",
       "</pre>\n"
      ],
      "text/plain": [
       "<rich.jupyter.JupyterRenderable at 0x7f27635b23d0>"
      ]
     },
     "metadata": {},
     "output_type": "display_data"
    },
    {
     "data": {
      "text/html": [
       "<pre style=\"white-space:pre;overflow-x:auto;line-height:normal;font-family:Menlo,'DejaVu Sans Mono',consolas,'Courier New',monospace\"><span style=\"color: #7fbfbf; text-decoration-color: #7fbfbf\">[15:52:17] </span>x.shape: <span style=\"font-weight: bold\">(</span><span style=\"color: #ff79ff; text-decoration-color: #ff79ff\">2048</span>, <span style=\"color: #ff79ff; text-decoration-color: #ff79ff\">5000</span><span style=\"font-weight: bold\">)</span>                                                                                                                                                                                                                \n",
       "</pre>\n"
      ],
      "text/plain": [
       "<rich.jupyter.JupyterRenderable at 0x7f2b448ffa30>"
      ]
     },
     "metadata": {},
     "output_type": "display_data"
    },
    {
     "data": {
      "text/html": [
       "<pre style=\"white-space:pre;overflow-x:auto;line-height:normal;font-family:Menlo,'DejaVu Sans Mono',consolas,'Courier New',monospace\"><span style=\"color: #7fbfbf; text-decoration-color: #7fbfbf\">           </span>x.shape: <span style=\"font-weight: bold\">(</span><span style=\"color: #ff79ff; text-decoration-color: #ff79ff\">2048</span>, <span style=\"color: #ff79ff; text-decoration-color: #ff79ff\">5000</span><span style=\"font-weight: bold\">)</span>                                                                                                                                                                                                                \n",
       "</pre>\n"
      ],
      "text/plain": [
       "<rich.jupyter.JupyterRenderable at 0x7f2b448ff880>"
      ]
     },
     "metadata": {},
     "output_type": "display_data"
    },
    {
     "data": {
      "text/html": [
       "<pre style=\"white-space:pre;overflow-x:auto;line-height:normal;font-family:Menlo,'DejaVu Sans Mono',consolas,'Courier New',monospace\"><span style=\"color: #7fbfbf; text-decoration-color: #7fbfbf\">[15:52:18] </span>x.shape: <span style=\"font-weight: bold\">(</span><span style=\"color: #ff79ff; text-decoration-color: #ff79ff\">2048</span>, <span style=\"color: #ff79ff; text-decoration-color: #ff79ff\">5000</span><span style=\"font-weight: bold\">)</span>                                                                                                                                                                                                                \n",
       "</pre>\n"
      ],
      "text/plain": [
       "<rich.jupyter.JupyterRenderable at 0x7f2b448ff340>"
      ]
     },
     "metadata": {},
     "output_type": "display_data"
    },
    {
     "data": {
      "text/html": [
       "<pre style=\"white-space:pre;overflow-x:auto;line-height:normal;font-family:Menlo,'DejaVu Sans Mono',consolas,'Courier New',monospace\"><span style=\"color: #7fbfbf; text-decoration-color: #7fbfbf\">           </span>x.shape: <span style=\"font-weight: bold\">(</span><span style=\"color: #ff79ff; text-decoration-color: #ff79ff\">2048</span>, <span style=\"color: #ff79ff; text-decoration-color: #ff79ff\">5000</span><span style=\"font-weight: bold\">)</span>                                                                                                                                                                                                                \n",
       "</pre>\n"
      ],
      "text/plain": [
       "<rich.jupyter.JupyterRenderable at 0x7f2bc4a33b50>"
      ]
     },
     "metadata": {},
     "output_type": "display_data"
    },
    {
     "data": {
      "text/html": [
       "<pre style=\"white-space:pre;overflow-x:auto;line-height:normal;font-family:Menlo,'DejaVu Sans Mono',consolas,'Courier New',monospace\"><span style=\"color: #7fbfbf; text-decoration-color: #7fbfbf\">           </span>x.shape: <span style=\"font-weight: bold\">(</span><span style=\"color: #ff79ff; text-decoration-color: #ff79ff\">2048</span>, <span style=\"color: #ff79ff; text-decoration-color: #ff79ff\">5000</span><span style=\"font-weight: bold\">)</span>                                                                                                                                                                                                                \n",
       "</pre>\n"
      ],
      "text/plain": [
       "<rich.jupyter.JupyterRenderable at 0x7f2bc4a33520>"
      ]
     },
     "metadata": {},
     "output_type": "display_data"
    },
    {
     "data": {
      "text/html": [
       "<pre style=\"white-space:pre;overflow-x:auto;line-height:normal;font-family:Menlo,'DejaVu Sans Mono',consolas,'Courier New',monospace\"><span style=\"color: #7fbfbf; text-decoration-color: #7fbfbf\">[15:52:19] </span>x.shape: <span style=\"font-weight: bold\">(</span><span style=\"color: #ff79ff; text-decoration-color: #ff79ff\">2048</span>, <span style=\"color: #ff79ff; text-decoration-color: #ff79ff\">5000</span><span style=\"font-weight: bold\">)</span>                                                                                                                                                                                                                \n",
       "</pre>\n"
      ],
      "text/plain": [
       "<rich.jupyter.JupyterRenderable at 0x7f2bc4a33520>"
      ]
     },
     "metadata": {},
     "output_type": "display_data"
    },
    {
     "data": {
      "text/html": [
       "<pre style=\"white-space:pre;overflow-x:auto;line-height:normal;font-family:Menlo,'DejaVu Sans Mono',consolas,'Courier New',monospace\"><span style=\"color: #7fbfbf; text-decoration-color: #7fbfbf\">           </span>x.shape: <span style=\"font-weight: bold\">(</span><span style=\"color: #ff79ff; text-decoration-color: #ff79ff\">2048</span>, <span style=\"color: #ff79ff; text-decoration-color: #ff79ff\">5000</span><span style=\"font-weight: bold\">)</span>                                                                                                                                                                                                                \n",
       "</pre>\n"
      ],
      "text/plain": [
       "<rich.jupyter.JupyterRenderable at 0x7f2bcd483df0>"
      ]
     },
     "metadata": {},
     "output_type": "display_data"
    },
    {
     "name": "stderr",
     "output_type": "stream",
     "text": [
      "/lus/grand/projects/DLHMC/tf_master-2021-03-02/lib/python3.8/site-packages/seaborn/axisgrid.py:64: UserWarning: Tight layout not applied. tight_layout cannot make axes height small enough to accommodate all axes decorations\n",
      "  self.fig.tight_layout(*args, **kwargs)\n",
      "/lus/grand/projects/DLHMC/tf_master-2021-03-02/lib/python3.8/site-packages/seaborn/axisgrid.py:64: UserWarning: Tight layout not applied. tight_layout cannot make axes height small enough to accommodate all axes decorations\n",
      "  self.fig.tight_layout(*args, **kwargs)\n",
      "/lus/grand/projects/DLHMC/tf_master-2021-03-02/lib/python3.8/site-packages/seaborn/axisgrid.py:64: UserWarning: Tight layout not applied. tight_layout cannot make axes height small enough to accommodate all axes decorations\n",
      "  self.fig.tight_layout(*args, **kwargs)\n",
      "<ipython-input-23-aa700ae7141a>:137: UserWarning: Calling figure.constrained_layout, but figure not setup to do constrained layout.  You either called GridSpec without the fig keyword, you are using plt.subplot, or you need to call figure or subplots with the constrained_layout=True kwarg.\n",
      "  _ = fig.execute_constrained_layout()\n"
     ]
    },
    {
     "data": {
      "text/html": [
       "<pre style=\"white-space:pre;overflow-x:auto;line-height:normal;font-family:Menlo,'DejaVu Sans Mono',consolas,'Courier New',monospace\"><span style=\"color: #7fbfbf; text-decoration-color: #7fbfbf\">[15:52:31]  </span>Saving figure to: <span style=\"color: #800080; text-decoration-color: #800080\">/lus/grand/projects/DLHMC/l2hmc-qcd/plots/ridgeplots/2021-04-15/</span><span style=\"color: #ff00ff; text-decoration-color: #ff00ff\">sinQf_1552.pdf</span>                                                                                                                                    \n",
       "</pre>\n"
      ],
      "text/plain": [
       "<rich.jupyter.JupyterRenderable at 0x7f2a4c33a970>"
      ]
     },
     "metadata": {},
     "output_type": "display_data"
    },
    {
     "data": {
      "text/html": [
       "<pre style=\"white-space:pre;overflow-x:auto;line-height:normal;font-family:Menlo,'DejaVu Sans Mono',consolas,'Courier New',monospace\"><span style=\"color: #7fbfbf; text-decoration-color: #7fbfbf\">[15:52:32] </span>x.shape: <span style=\"font-weight: bold\">(</span><span style=\"color: #ff79ff; text-decoration-color: #ff79ff\">2048</span>, <span style=\"color: #ff79ff; text-decoration-color: #ff79ff\">5000</span><span style=\"font-weight: bold\">)</span>                                                                                                                                                                                                                \n",
       "</pre>\n"
      ],
      "text/plain": [
       "<rich.jupyter.JupyterRenderable at 0x7f2b960b5f10>"
      ]
     },
     "metadata": {},
     "output_type": "display_data"
    },
    {
     "data": {
      "text/html": [
       "<pre style=\"white-space:pre;overflow-x:auto;line-height:normal;font-family:Menlo,'DejaVu Sans Mono',consolas,'Courier New',monospace\"><span style=\"color: #7fbfbf; text-decoration-color: #7fbfbf\">           </span>x.shape: <span style=\"font-weight: bold\">(</span><span style=\"color: #ff79ff; text-decoration-color: #ff79ff\">2048</span>, <span style=\"color: #ff79ff; text-decoration-color: #ff79ff\">5000</span><span style=\"font-weight: bold\">)</span>                                                                                                                                                                                                                \n",
       "</pre>\n"
      ],
      "text/plain": [
       "<rich.jupyter.JupyterRenderable at 0x7f2a4c4df280>"
      ]
     },
     "metadata": {},
     "output_type": "display_data"
    },
    {
     "data": {
      "text/html": [
       "<pre style=\"white-space:pre;overflow-x:auto;line-height:normal;font-family:Menlo,'DejaVu Sans Mono',consolas,'Courier New',monospace\"><span style=\"color: #7fbfbf; text-decoration-color: #7fbfbf\">[15:52:33] </span>x.shape: <span style=\"font-weight: bold\">(</span><span style=\"color: #ff79ff; text-decoration-color: #ff79ff\">2048</span>, <span style=\"color: #ff79ff; text-decoration-color: #ff79ff\">5000</span><span style=\"font-weight: bold\">)</span>                                                                                                                                                                                                                \n",
       "</pre>\n"
      ],
      "text/plain": [
       "<rich.jupyter.JupyterRenderable at 0x7f2b449291f0>"
      ]
     },
     "metadata": {},
     "output_type": "display_data"
    },
    {
     "data": {
      "text/html": [
       "<pre style=\"white-space:pre;overflow-x:auto;line-height:normal;font-family:Menlo,'DejaVu Sans Mono',consolas,'Courier New',monospace\"><span style=\"color: #7fbfbf; text-decoration-color: #7fbfbf\">           </span>x.shape: <span style=\"font-weight: bold\">(</span><span style=\"color: #ff79ff; text-decoration-color: #ff79ff\">2048</span>, <span style=\"color: #ff79ff; text-decoration-color: #ff79ff\">5000</span><span style=\"font-weight: bold\">)</span>                                                                                                                                                                                                                \n",
       "</pre>\n"
      ],
      "text/plain": [
       "<rich.jupyter.JupyterRenderable at 0x7f2b973bb6d0>"
      ]
     },
     "metadata": {},
     "output_type": "display_data"
    },
    {
     "data": {
      "text/html": [
       "<pre style=\"white-space:pre;overflow-x:auto;line-height:normal;font-family:Menlo,'DejaVu Sans Mono',consolas,'Courier New',monospace\"><span style=\"color: #7fbfbf; text-decoration-color: #7fbfbf\">[15:52:34] </span>x.shape: <span style=\"font-weight: bold\">(</span><span style=\"color: #ff79ff; text-decoration-color: #ff79ff\">2048</span>, <span style=\"color: #ff79ff; text-decoration-color: #ff79ff\">5000</span><span style=\"font-weight: bold\">)</span>                                                                                                                                                                                                                \n",
       "</pre>\n"
      ],
      "text/plain": [
       "<rich.jupyter.JupyterRenderable at 0x7f2beec53190>"
      ]
     },
     "metadata": {},
     "output_type": "display_data"
    },
    {
     "data": {
      "text/html": [
       "<pre style=\"white-space:pre;overflow-x:auto;line-height:normal;font-family:Menlo,'DejaVu Sans Mono',consolas,'Courier New',monospace\"><span style=\"color: #7fbfbf; text-decoration-color: #7fbfbf\">           </span>x.shape: <span style=\"font-weight: bold\">(</span><span style=\"color: #ff79ff; text-decoration-color: #ff79ff\">2048</span>, <span style=\"color: #ff79ff; text-decoration-color: #ff79ff\">5000</span><span style=\"font-weight: bold\">)</span>                                                                                                                                                                                                                \n",
       "</pre>\n"
      ],
      "text/plain": [
       "<rich.jupyter.JupyterRenderable at 0x7f267f9975b0>"
      ]
     },
     "metadata": {},
     "output_type": "display_data"
    },
    {
     "data": {
      "text/html": [
       "<pre style=\"white-space:pre;overflow-x:auto;line-height:normal;font-family:Menlo,'DejaVu Sans Mono',consolas,'Courier New',monospace\"><span style=\"color: #7fbfbf; text-decoration-color: #7fbfbf\">           </span>x.shape: <span style=\"font-weight: bold\">(</span><span style=\"color: #ff79ff; text-decoration-color: #ff79ff\">2048</span>, <span style=\"color: #ff79ff; text-decoration-color: #ff79ff\">5000</span><span style=\"font-weight: bold\">)</span>                                                                                                                                                                                                                \n",
       "</pre>\n"
      ],
      "text/plain": [
       "<rich.jupyter.JupyterRenderable at 0x7f267f9975b0>"
      ]
     },
     "metadata": {},
     "output_type": "display_data"
    },
    {
     "data": {
      "text/html": [
       "<pre style=\"white-space:pre;overflow-x:auto;line-height:normal;font-family:Menlo,'DejaVu Sans Mono',consolas,'Courier New',monospace\"><span style=\"color: #7fbfbf; text-decoration-color: #7fbfbf\">[15:52:35] </span>x.shape: <span style=\"font-weight: bold\">(</span><span style=\"color: #ff79ff; text-decoration-color: #ff79ff\">2048</span>, <span style=\"color: #ff79ff; text-decoration-color: #ff79ff\">5000</span><span style=\"font-weight: bold\">)</span>                                                                                                                                                                                                                \n",
       "</pre>\n"
      ],
      "text/plain": [
       "<rich.jupyter.JupyterRenderable at 0x7f2b9734c910>"
      ]
     },
     "metadata": {},
     "output_type": "display_data"
    },
    {
     "data": {
      "text/html": [
       "<pre style=\"white-space:pre;overflow-x:auto;line-height:normal;font-family:Menlo,'DejaVu Sans Mono',consolas,'Courier New',monospace\"><span style=\"color: #7fbfbf; text-decoration-color: #7fbfbf\">           </span>x.shape: <span style=\"font-weight: bold\">(</span><span style=\"color: #ff79ff; text-decoration-color: #ff79ff\">2048</span>, <span style=\"color: #ff79ff; text-decoration-color: #ff79ff\">5000</span><span style=\"font-weight: bold\">)</span>                                                                                                                                                                                                                \n",
       "</pre>\n"
      ],
      "text/plain": [
       "<rich.jupyter.JupyterRenderable at 0x7f2b9734c130>"
      ]
     },
     "metadata": {},
     "output_type": "display_data"
    },
    {
     "data": {
      "text/html": [
       "<pre style=\"white-space:pre;overflow-x:auto;line-height:normal;font-family:Menlo,'DejaVu Sans Mono',consolas,'Courier New',monospace\"><span style=\"color: #7fbfbf; text-decoration-color: #7fbfbf\">[15:52:36] </span>x.shape: <span style=\"font-weight: bold\">(</span><span style=\"color: #ff79ff; text-decoration-color: #ff79ff\">2048</span>, <span style=\"color: #ff79ff; text-decoration-color: #ff79ff\">5000</span><span style=\"font-weight: bold\">)</span>                                                                                                                                                                                                                \n",
       "</pre>\n"
      ],
      "text/plain": [
       "<rich.jupyter.JupyterRenderable at 0x7f2b9734c2b0>"
      ]
     },
     "metadata": {},
     "output_type": "display_data"
    },
    {
     "name": "stderr",
     "output_type": "stream",
     "text": [
      "/lus/grand/projects/DLHMC/tf_master-2021-03-02/lib/python3.8/site-packages/seaborn/axisgrid.py:64: UserWarning: Tight layout not applied. tight_layout cannot make axes height small enough to accommodate all axes decorations\n",
      "  self.fig.tight_layout(*args, **kwargs)\n",
      "/lus/grand/projects/DLHMC/tf_master-2021-03-02/lib/python3.8/site-packages/seaborn/axisgrid.py:64: UserWarning: Tight layout not applied. tight_layout cannot make axes height small enough to accommodate all axes decorations\n",
      "  self.fig.tight_layout(*args, **kwargs)\n",
      "/lus/grand/projects/DLHMC/tf_master-2021-03-02/lib/python3.8/site-packages/seaborn/axisgrid.py:64: UserWarning: Tight layout not applied. tight_layout cannot make axes height small enough to accommodate all axes decorations\n",
      "  self.fig.tight_layout(*args, **kwargs)\n",
      "<ipython-input-23-aa700ae7141a>:137: UserWarning: Calling figure.constrained_layout, but figure not setup to do constrained layout.  You either called GridSpec without the fig keyword, you are using plt.subplot, or you need to call figure or subplots with the constrained_layout=True kwarg.\n",
      "  _ = fig.execute_constrained_layout()\n"
     ]
    },
    {
     "data": {
      "text/html": [
       "<pre style=\"white-space:pre;overflow-x:auto;line-height:normal;font-family:Menlo,'DejaVu Sans Mono',consolas,'Courier New',monospace\"><span style=\"color: #7fbfbf; text-decoration-color: #7fbfbf\">[15:52:47]  </span>Saving figure to: <span style=\"color: #800080; text-decoration-color: #800080\">/lus/grand/projects/DLHMC/l2hmc-qcd/plots/ridgeplots/2021-04-15/</span><span style=\"color: #ff00ff; text-decoration-color: #ff00ff\">hwf_1552.pdf</span>                                                                                                                                      \n",
       "</pre>\n"
      ],
      "text/plain": [
       "<rich.jupyter.JupyterRenderable at 0x7f2b96223910>"
      ]
     },
     "metadata": {},
     "output_type": "display_data"
    },
    {
     "data": {
      "image/png": "[encoded data removed]",
      "text/plain": [
       "<Figure size 300x300 with 10 Axes>"
      ]
     },
     "metadata": {},
     "output_type": "display_data"
    },
    {
     "ename": "RuntimeError",
     "evalue": "latex was not able to process the following string:\nb'$\\\\\\\\mathcal{Q}_{\\\\\\\\mathbb{R}}$'\n\nHere is the full report generated by latex:\nThis is pdfTeX, Version 3.14159265-2.6-1.40.21 (TeX Live 2020) (preloaded format=latex)\n restricted \\write18 enabled.\nentering extended mode\n\n(/home/foremans/.cache/matplotlib/tex.cache/a6fe0a71563a7421859f424e6dbebba5.te\nx\nLaTeX2e <2020-10-01> patch level 4\nL3 programming layer <2021-02-18>\n(/gpfs/mira-home/foremans/.linuxbrew/Cellar/texlive/20200715_1/texlive/texmf-di\nst/tex/latex/base/article.cls\nDocument Class: article 2020/04/10 v1.4m Standard LaTeX document class\n\n(/gpfs/mira-home/foremans/.linuxbrew/Cellar/texlive/20200715_1/texlive/texmf-di\nst/tex/latex/base/size10.clo))\n(/gpfs/mira-home/foremans/.linuxbrew/Cellar/texlive/20200715_1/texlive/texmf-di\nst/tex/latex/type1cm/type1cm.sty)\n(/gpfs/mira-home/foremans/.linuxbrew/Cellar/texlive/20200715_1/texlive/texmf-di\nst/tex/latex/base/textcomp.sty)\n(/gpfs/mira-home/foremans/.linuxbrew/Cellar/texlive/20200715_1/texlive/texmf-di\nst/tex/latex/base/inputenc.sty)\n(/gpfs/mira-home/foremans/.linuxbrew/Cellar/texlive/20200715_1/texlive/texmf-di\nst/tex/latex/geometry/geometry.sty\n(/gpfs/mira-home/foremans/.linuxbrew/Cellar/texlive/20200715_1/texlive/texmf-di\nst/tex/latex/graphics/keyval.sty)\n(/gpfs/mira-home/foremans/.linuxbrew/Cellar/texlive/20200715_1/texlive/texmf-di\nst/tex/generic/iftex/ifvtex.sty\n(/gpfs/mira-home/foremans/.linuxbrew/Cellar/texlive/20200715_1/texlive/texmf-di\nst/tex/generic/iftex/iftex.sty))\n\nPackage geometry Warning: Over-specification in `h'-direction.\n    `width' (5058.9pt) is ignored.\n\n\nPackage geometry Warning: Over-specification in `v'-direction.\n    `height' (5058.9pt) is ignored.\n\n)\n(/gpfs/mira-home/foremans/.linuxbrew/Cellar/texlive/20200715_1/texlive/texmf-di\nst/tex/latex/l3backend/l3backend-dvips.def)\n(./a6fe0a71563a7421859f424e6dbebba5.aux)\n*geometry* driver: auto-detecting\n*geometry* detected driver: dvips\n! Undefined control sequence.\nl.14 ...18.742500}{\\sffamily $\\mathcal{Q}_{\\mathbb\n                                                  {R}}$}\nNo pages of output.\nTranscript written on a6fe0a71563a7421859f424e6dbebba5.log.\n\n\n",
     "output_type": "error",
     "traceback": [
      "\u001b[0;31m---------------------------------------------------------------------------\u001b[0m",
      "\u001b[0;31mCalledProcessError\u001b[0m                        Traceback (most recent call last)",
      "\u001b[0;32m/lus/grand/projects/DLHMC/tf_master-2021-03-02/lib/python3.8/site-packages/matplotlib/texmanager.py\u001b[0m in \u001b[0;36m_run_checked_subprocess\u001b[0;34m(self, command, tex)\u001b[0m\n\u001b[1;32m    301\u001b[0m         \u001b[0;32mtry\u001b[0m\u001b[0;34m:\u001b[0m\u001b[0;34m\u001b[0m\u001b[0;34m\u001b[0m\u001b[0m\n\u001b[0;32m--> 302\u001b[0;31m             report = subprocess.check_output(command,\n\u001b[0m\u001b[1;32m    303\u001b[0m                                              \u001b[0mcwd\u001b[0m\u001b[0;34m=\u001b[0m\u001b[0mself\u001b[0m\u001b[0;34m.\u001b[0m\u001b[0mtexcache\u001b[0m\u001b[0;34m,\u001b[0m\u001b[0;34m\u001b[0m\u001b[0;34m\u001b[0m\u001b[0m\n",
      "\u001b[0;32m/lus/grand/projects/DLHMC/tf_master-2021-03-02/lib/python3.8/subprocess.py\u001b[0m in \u001b[0;36mcheck_output\u001b[0;34m(timeout, *popenargs, **kwargs)\u001b[0m\n\u001b[1;32m    410\u001b[0m \u001b[0;34m\u001b[0m\u001b[0m\n\u001b[0;32m--> 411\u001b[0;31m     return run(*popenargs, stdout=PIPE, timeout=timeout, check=True,\n\u001b[0m\u001b[1;32m    412\u001b[0m                **kwargs).stdout\n",
      "\u001b[0;32m/lus/grand/projects/DLHMC/tf_master-2021-03-02/lib/python3.8/subprocess.py\u001b[0m in \u001b[0;36mrun\u001b[0;34m(input, capture_output, timeout, check, *popenargs, **kwargs)\u001b[0m\n\u001b[1;32m    511\u001b[0m         \u001b[0;32mif\u001b[0m \u001b[0mcheck\u001b[0m \u001b[0;32mand\u001b[0m \u001b[0mretcode\u001b[0m\u001b[0;34m:\u001b[0m\u001b[0;34m\u001b[0m\u001b[0;34m\u001b[0m\u001b[0m\n\u001b[0;32m--> 512\u001b[0;31m             raise CalledProcessError(retcode, process.args,\n\u001b[0m\u001b[1;32m    513\u001b[0m                                      output=stdout, stderr=stderr)\n",
      "\u001b[0;31mCalledProcessError\u001b[0m: Command '['latex', '-interaction=nonstopmode', '--halt-on-error', '/home/foremans/.cache/matplotlib/tex.cache/a6fe0a71563a7421859f424e6dbebba5.tex']' returned non-zero exit status 1.",
      "\nThe above exception was the direct cause of the following exception:\n",
      "\u001b[0;31mRuntimeError\u001b[0m                              Traceback (most recent call last)",
      "\u001b[0;32m/lus/grand/projects/DLHMC/tf_master-2021-03-02/lib/python3.8/site-packages/IPython/core/formatters.py\u001b[0m in \u001b[0;36m__call__\u001b[0;34m(self, obj)\u001b[0m\n\u001b[1;32m    339\u001b[0m                 \u001b[0;32mpass\u001b[0m\u001b[0;34m\u001b[0m\u001b[0;34m\u001b[0m\u001b[0m\n\u001b[1;32m    340\u001b[0m             \u001b[0;32melse\u001b[0m\u001b[0;34m:\u001b[0m\u001b[0;34m\u001b[0m\u001b[0;34m\u001b[0m\u001b[0m\n\u001b[0;32m--> 341\u001b[0;31m                 \u001b[0;32mreturn\u001b[0m \u001b[0mprinter\u001b[0m\u001b[0;34m(\u001b[0m\u001b[0mobj\u001b[0m\u001b[0;34m)\u001b[0m\u001b[0;34m\u001b[0m\u001b[0;34m\u001b[0m\u001b[0m\n\u001b[0m\u001b[1;32m    342\u001b[0m             \u001b[0;31m# Finally look for special method names\u001b[0m\u001b[0;34m\u001b[0m\u001b[0;34m\u001b[0m\u001b[0;34m\u001b[0m\u001b[0m\n\u001b[1;32m    343\u001b[0m             \u001b[0mmethod\u001b[0m \u001b[0;34m=\u001b[0m \u001b[0mget_real_method\u001b[0m\u001b[0;34m(\u001b[0m\u001b[0mobj\u001b[0m\u001b[0;34m,\u001b[0m \u001b[0mself\u001b[0m\u001b[0;34m.\u001b[0m\u001b[0mprint_method\u001b[0m\u001b[0;34m)\u001b[0m\u001b[0;34m\u001b[0m\u001b[0;34m\u001b[0m\u001b[0m\n",
      "\u001b[0;32m/lus/grand/projects/DLHMC/tf_master-2021-03-02/lib/python3.8/site-packages/IPython/core/pylabtools.py\u001b[0m in \u001b[0;36m<lambda>\u001b[0;34m(fig)\u001b[0m\n\u001b[1;32m    246\u001b[0m \u001b[0;34m\u001b[0m\u001b[0m\n\u001b[1;32m    247\u001b[0m     \u001b[0;32mif\u001b[0m \u001b[0;34m'png'\u001b[0m \u001b[0;32min\u001b[0m \u001b[0mformats\u001b[0m\u001b[0;34m:\u001b[0m\u001b[0;34m\u001b[0m\u001b[0;34m\u001b[0m\u001b[0m\n\u001b[0;32m--> 248\u001b[0;31m         \u001b[0mpng_formatter\u001b[0m\u001b[0;34m.\u001b[0m\u001b[0mfor_type\u001b[0m\u001b[0;34m(\u001b[0m\u001b[0mFigure\u001b[0m\u001b[0;34m,\u001b[0m \u001b[0;32mlambda\u001b[0m \u001b[0mfig\u001b[0m\u001b[0;34m:\u001b[0m \u001b[0mprint_figure\u001b[0m\u001b[0;34m(\u001b[0m\u001b[0mfig\u001b[0m\u001b[0;34m,\u001b[0m \u001b[0;34m'png'\u001b[0m\u001b[0;34m,\u001b[0m \u001b[0;34m**\u001b[0m\u001b[0mkwargs\u001b[0m\u001b[0;34m)\u001b[0m\u001b[0;34m)\u001b[0m\u001b[0;34m\u001b[0m\u001b[0;34m\u001b[0m\u001b[0m\n\u001b[0m\u001b[1;32m    249\u001b[0m     \u001b[0;32mif\u001b[0m \u001b[0;34m'retina'\u001b[0m \u001b[0;32min\u001b[0m \u001b[0mformats\u001b[0m \u001b[0;32mor\u001b[0m \u001b[0;34m'png2x'\u001b[0m \u001b[0;32min\u001b[0m \u001b[0mformats\u001b[0m\u001b[0;34m:\u001b[0m\u001b[0;34m\u001b[0m\u001b[0;34m\u001b[0m\u001b[0m\n\u001b[1;32m    250\u001b[0m         \u001b[0mpng_formatter\u001b[0m\u001b[0;34m.\u001b[0m\u001b[0mfor_type\u001b[0m\u001b[0;34m(\u001b[0m\u001b[0mFigure\u001b[0m\u001b[0;34m,\u001b[0m \u001b[0;32mlambda\u001b[0m \u001b[0mfig\u001b[0m\u001b[0;34m:\u001b[0m \u001b[0mretina_figure\u001b[0m\u001b[0;34m(\u001b[0m\u001b[0mfig\u001b[0m\u001b[0;34m,\u001b[0m \u001b[0;34m**\u001b[0m\u001b[0mkwargs\u001b[0m\u001b[0;34m)\u001b[0m\u001b[0;34m)\u001b[0m\u001b[0;34m\u001b[0m\u001b[0;34m\u001b[0m\u001b[0m\n",
      "\u001b[0;32m/lus/grand/projects/DLHMC/tf_master-2021-03-02/lib/python3.8/site-packages/IPython/core/pylabtools.py\u001b[0m in \u001b[0;36mprint_figure\u001b[0;34m(fig, fmt, bbox_inches, **kwargs)\u001b[0m\n\u001b[1;32m    130\u001b[0m         \u001b[0mFigureCanvasBase\u001b[0m\u001b[0;34m(\u001b[0m\u001b[0mfig\u001b[0m\u001b[0;34m)\u001b[0m\u001b[0;34m\u001b[0m\u001b[0;34m\u001b[0m\u001b[0m\n\u001b[1;32m    131\u001b[0m \u001b[0;34m\u001b[0m\u001b[0m\n\u001b[0;32m--> 132\u001b[0;31m     \u001b[0mfig\u001b[0m\u001b[0;34m.\u001b[0m\u001b[0mcanvas\u001b[0m\u001b[0;34m.\u001b[0m\u001b[0mprint_figure\u001b[0m\u001b[0;34m(\u001b[0m\u001b[0mbytes_io\u001b[0m\u001b[0;34m,\u001b[0m \u001b[0;34m**\u001b[0m\u001b[0mkw\u001b[0m\u001b[0;34m)\u001b[0m\u001b[0;34m\u001b[0m\u001b[0;34m\u001b[0m\u001b[0m\n\u001b[0m\u001b[1;32m    133\u001b[0m     \u001b[0mdata\u001b[0m \u001b[0;34m=\u001b[0m \u001b[0mbytes_io\u001b[0m\u001b[0;34m.\u001b[0m\u001b[0mgetvalue\u001b[0m\u001b[0;34m(\u001b[0m\u001b[0;34m)\u001b[0m\u001b[0;34m\u001b[0m\u001b[0;34m\u001b[0m\u001b[0m\n\u001b[1;32m    134\u001b[0m     \u001b[0;32mif\u001b[0m \u001b[0mfmt\u001b[0m \u001b[0;34m==\u001b[0m \u001b[0;34m'svg'\u001b[0m\u001b[0;34m:\u001b[0m\u001b[0;34m\u001b[0m\u001b[0;34m\u001b[0m\u001b[0m\n",
      "\u001b[0;32m/lus/grand/projects/DLHMC/tf_master-2021-03-02/lib/python3.8/site-packages/matplotlib/backend_bases.py\u001b[0m in \u001b[0;36mprint_figure\u001b[0;34m(self, filename, dpi, facecolor, edgecolor, orientation, format, bbox_inches, **kwargs)\u001b[0m\n\u001b[1;32m   2056\u001b[0m                     \u001b[0;31m# The first save command (to a BytesIO) is just to estimate\u001b[0m\u001b[0;34m\u001b[0m\u001b[0;34m\u001b[0m\u001b[0;34m\u001b[0m\u001b[0m\n\u001b[1;32m   2057\u001b[0m                     \u001b[0;31m# the bounding box of the figure.\u001b[0m\u001b[0;34m\u001b[0m\u001b[0;34m\u001b[0m\u001b[0;34m\u001b[0m\u001b[0m\n\u001b[0;32m-> 2058\u001b[0;31m                     result = print_method(\n\u001b[0m\u001b[1;32m   2059\u001b[0m                         \u001b[0mio\u001b[0m\u001b[0;34m.\u001b[0m\u001b[0mBytesIO\u001b[0m\u001b[0;34m(\u001b[0m\u001b[0;34m)\u001b[0m\u001b[0;34m,\u001b[0m\u001b[0;34m\u001b[0m\u001b[0;34m\u001b[0m\u001b[0m\n\u001b[1;32m   2060\u001b[0m                         \u001b[0mdpi\u001b[0m\u001b[0;34m=\u001b[0m\u001b[0mdpi\u001b[0m\u001b[0;34m,\u001b[0m\u001b[0;34m\u001b[0m\u001b[0;34m\u001b[0m\u001b[0m\n",
      "\u001b[0;32m/lus/grand/projects/DLHMC/tf_master-2021-03-02/lib/python3.8/site-packages/matplotlib/backends/backend_agg.py\u001b[0m in \u001b[0;36mprint_png\u001b[0;34m(self, filename_or_obj, metadata, pil_kwargs, *args, **kwargs)\u001b[0m\n\u001b[1;32m    525\u001b[0m \u001b[0;34m\u001b[0m\u001b[0m\n\u001b[1;32m    526\u001b[0m         \u001b[0;32melse\u001b[0m\u001b[0;34m:\u001b[0m\u001b[0;34m\u001b[0m\u001b[0;34m\u001b[0m\u001b[0m\n\u001b[0;32m--> 527\u001b[0;31m             \u001b[0mFigureCanvasAgg\u001b[0m\u001b[0;34m.\u001b[0m\u001b[0mdraw\u001b[0m\u001b[0;34m(\u001b[0m\u001b[0mself\u001b[0m\u001b[0;34m)\u001b[0m\u001b[0;34m\u001b[0m\u001b[0;34m\u001b[0m\u001b[0m\n\u001b[0m\u001b[1;32m    528\u001b[0m             \u001b[0mrenderer\u001b[0m \u001b[0;34m=\u001b[0m \u001b[0mself\u001b[0m\u001b[0;34m.\u001b[0m\u001b[0mget_renderer\u001b[0m\u001b[0;34m(\u001b[0m\u001b[0;34m)\u001b[0m\u001b[0;34m\u001b[0m\u001b[0;34m\u001b[0m\u001b[0m\n\u001b[1;32m    529\u001b[0m             \u001b[0;32mwith\u001b[0m \u001b[0mcbook\u001b[0m\u001b[0;34m.\u001b[0m\u001b[0m_setattr_cm\u001b[0m\u001b[0;34m(\u001b[0m\u001b[0mrenderer\u001b[0m\u001b[0;34m,\u001b[0m \u001b[0mdpi\u001b[0m\u001b[0;34m=\u001b[0m\u001b[0mself\u001b[0m\u001b[0;34m.\u001b[0m\u001b[0mfigure\u001b[0m\u001b[0;34m.\u001b[0m\u001b[0mdpi\u001b[0m\u001b[0;34m)\u001b[0m\u001b[0;34m,\u001b[0m\u001b[0;31m \u001b[0m\u001b[0;31m\\\u001b[0m\u001b[0;34m\u001b[0m\u001b[0;34m\u001b[0m\u001b[0m\n",
      "\u001b[0;32m/lus/grand/projects/DLHMC/tf_master-2021-03-02/lib/python3.8/site-packages/matplotlib/backends/backend_agg.py\u001b[0m in \u001b[0;36mdraw\u001b[0;34m(self)\u001b[0m\n\u001b[1;32m    386\u001b[0m         \u001b[0mself\u001b[0m\u001b[0;34m.\u001b[0m\u001b[0mrenderer\u001b[0m \u001b[0;34m=\u001b[0m \u001b[0mself\u001b[0m\u001b[0;34m.\u001b[0m\u001b[0mget_renderer\u001b[0m\u001b[0;34m(\u001b[0m\u001b[0mcleared\u001b[0m\u001b[0;34m=\u001b[0m\u001b[0;32mTrue\u001b[0m\u001b[0;34m)\u001b[0m\u001b[0;34m\u001b[0m\u001b[0;34m\u001b[0m\u001b[0m\n\u001b[1;32m    387\u001b[0m         \u001b[0;32mwith\u001b[0m \u001b[0mRendererAgg\u001b[0m\u001b[0;34m.\u001b[0m\u001b[0mlock\u001b[0m\u001b[0;34m:\u001b[0m\u001b[0;34m\u001b[0m\u001b[0;34m\u001b[0m\u001b[0m\n\u001b[0;32m--> 388\u001b[0;31m             \u001b[0mself\u001b[0m\u001b[0;34m.\u001b[0m\u001b[0mfigure\u001b[0m\u001b[0;34m.\u001b[0m\u001b[0mdraw\u001b[0m\u001b[0;34m(\u001b[0m\u001b[0mself\u001b[0m\u001b[0;34m.\u001b[0m\u001b[0mrenderer\u001b[0m\u001b[0;34m)\u001b[0m\u001b[0;34m\u001b[0m\u001b[0;34m\u001b[0m\u001b[0m\n\u001b[0m\u001b[1;32m    389\u001b[0m             \u001b[0;31m# A GUI class may be need to update a window using this draw, so\u001b[0m\u001b[0;34m\u001b[0m\u001b[0;34m\u001b[0m\u001b[0;34m\u001b[0m\u001b[0m\n\u001b[1;32m    390\u001b[0m             \u001b[0;31m# don't forget to call the superclass.\u001b[0m\u001b[0;34m\u001b[0m\u001b[0;34m\u001b[0m\u001b[0;34m\u001b[0m\u001b[0m\n",
      "\u001b[0;32m/lus/grand/projects/DLHMC/tf_master-2021-03-02/lib/python3.8/site-packages/matplotlib/artist.py\u001b[0m in \u001b[0;36mdraw_wrapper\u001b[0;34m(artist, renderer, *args, **kwargs)\u001b[0m\n\u001b[1;32m     36\u001b[0m                 \u001b[0mrenderer\u001b[0m\u001b[0;34m.\u001b[0m\u001b[0mstart_filter\u001b[0m\u001b[0;34m(\u001b[0m\u001b[0;34m)\u001b[0m\u001b[0;34m\u001b[0m\u001b[0;34m\u001b[0m\u001b[0m\n\u001b[1;32m     37\u001b[0m \u001b[0;34m\u001b[0m\u001b[0m\n\u001b[0;32m---> 38\u001b[0;31m             \u001b[0;32mreturn\u001b[0m \u001b[0mdraw\u001b[0m\u001b[0;34m(\u001b[0m\u001b[0martist\u001b[0m\u001b[0;34m,\u001b[0m \u001b[0mrenderer\u001b[0m\u001b[0;34m,\u001b[0m \u001b[0;34m*\u001b[0m\u001b[0margs\u001b[0m\u001b[0;34m,\u001b[0m \u001b[0;34m**\u001b[0m\u001b[0mkwargs\u001b[0m\u001b[0;34m)\u001b[0m\u001b[0;34m\u001b[0m\u001b[0;34m\u001b[0m\u001b[0m\n\u001b[0m\u001b[1;32m     39\u001b[0m         \u001b[0;32mfinally\u001b[0m\u001b[0;34m:\u001b[0m\u001b[0;34m\u001b[0m\u001b[0;34m\u001b[0m\u001b[0m\n\u001b[1;32m     40\u001b[0m             \u001b[0;32mif\u001b[0m \u001b[0martist\u001b[0m\u001b[0;34m.\u001b[0m\u001b[0mget_agg_filter\u001b[0m\u001b[0;34m(\u001b[0m\u001b[0;34m)\u001b[0m \u001b[0;32mis\u001b[0m \u001b[0;32mnot\u001b[0m \u001b[0;32mNone\u001b[0m\u001b[0;34m:\u001b[0m\u001b[0;34m\u001b[0m\u001b[0;34m\u001b[0m\u001b[0m\n",
      "\u001b[0;32m/lus/grand/projects/DLHMC/tf_master-2021-03-02/lib/python3.8/site-packages/matplotlib/figure.py\u001b[0m in \u001b[0;36mdraw\u001b[0;34m(self, renderer)\u001b[0m\n\u001b[1;32m   1706\u001b[0m \u001b[0;34m\u001b[0m\u001b[0m\n\u001b[1;32m   1707\u001b[0m             \u001b[0mself\u001b[0m\u001b[0;34m.\u001b[0m\u001b[0mpatch\u001b[0m\u001b[0;34m.\u001b[0m\u001b[0mdraw\u001b[0m\u001b[0;34m(\u001b[0m\u001b[0mrenderer\u001b[0m\u001b[0;34m)\u001b[0m\u001b[0;34m\u001b[0m\u001b[0;34m\u001b[0m\u001b[0m\n\u001b[0;32m-> 1708\u001b[0;31m             mimage._draw_list_compositing_images(\n\u001b[0m\u001b[1;32m   1709\u001b[0m                 renderer, self, artists, self.suppressComposite)\n\u001b[1;32m   1710\u001b[0m \u001b[0;34m\u001b[0m\u001b[0m\n",
      "\u001b[0;32m/lus/grand/projects/DLHMC/tf_master-2021-03-02/lib/python3.8/site-packages/matplotlib/image.py\u001b[0m in \u001b[0;36m_draw_list_compositing_images\u001b[0;34m(renderer, parent, artists, suppress_composite)\u001b[0m\n\u001b[1;32m    133\u001b[0m     \u001b[0;32mif\u001b[0m \u001b[0mnot_composite\u001b[0m \u001b[0;32mor\u001b[0m \u001b[0;32mnot\u001b[0m \u001b[0mhas_images\u001b[0m\u001b[0;34m:\u001b[0m\u001b[0;34m\u001b[0m\u001b[0;34m\u001b[0m\u001b[0m\n\u001b[1;32m    134\u001b[0m         \u001b[0;32mfor\u001b[0m \u001b[0ma\u001b[0m \u001b[0;32min\u001b[0m \u001b[0martists\u001b[0m\u001b[0;34m:\u001b[0m\u001b[0;34m\u001b[0m\u001b[0;34m\u001b[0m\u001b[0m\n\u001b[0;32m--> 135\u001b[0;31m             \u001b[0ma\u001b[0m\u001b[0;34m.\u001b[0m\u001b[0mdraw\u001b[0m\u001b[0;34m(\u001b[0m\u001b[0mrenderer\u001b[0m\u001b[0;34m)\u001b[0m\u001b[0;34m\u001b[0m\u001b[0;34m\u001b[0m\u001b[0m\n\u001b[0m\u001b[1;32m    136\u001b[0m     \u001b[0;32melse\u001b[0m\u001b[0;34m:\u001b[0m\u001b[0;34m\u001b[0m\u001b[0;34m\u001b[0m\u001b[0m\n\u001b[1;32m    137\u001b[0m         \u001b[0;31m# Composite any adjacent images together\u001b[0m\u001b[0;34m\u001b[0m\u001b[0;34m\u001b[0m\u001b[0;34m\u001b[0m\u001b[0m\n",
      "\u001b[0;32m/lus/grand/projects/DLHMC/tf_master-2021-03-02/lib/python3.8/site-packages/matplotlib/artist.py\u001b[0m in \u001b[0;36mdraw_wrapper\u001b[0;34m(artist, renderer, *args, **kwargs)\u001b[0m\n\u001b[1;32m     36\u001b[0m                 \u001b[0mrenderer\u001b[0m\u001b[0;34m.\u001b[0m\u001b[0mstart_filter\u001b[0m\u001b[0;34m(\u001b[0m\u001b[0;34m)\u001b[0m\u001b[0;34m\u001b[0m\u001b[0;34m\u001b[0m\u001b[0m\n\u001b[1;32m     37\u001b[0m \u001b[0;34m\u001b[0m\u001b[0m\n\u001b[0;32m---> 38\u001b[0;31m             \u001b[0;32mreturn\u001b[0m \u001b[0mdraw\u001b[0m\u001b[0;34m(\u001b[0m\u001b[0martist\u001b[0m\u001b[0;34m,\u001b[0m \u001b[0mrenderer\u001b[0m\u001b[0;34m,\u001b[0m \u001b[0;34m*\u001b[0m\u001b[0margs\u001b[0m\u001b[0;34m,\u001b[0m \u001b[0;34m**\u001b[0m\u001b[0mkwargs\u001b[0m\u001b[0;34m)\u001b[0m\u001b[0;34m\u001b[0m\u001b[0;34m\u001b[0m\u001b[0m\n\u001b[0m\u001b[1;32m     39\u001b[0m         \u001b[0;32mfinally\u001b[0m\u001b[0;34m:\u001b[0m\u001b[0;34m\u001b[0m\u001b[0;34m\u001b[0m\u001b[0m\n\u001b[1;32m     40\u001b[0m             \u001b[0;32mif\u001b[0m \u001b[0martist\u001b[0m\u001b[0;34m.\u001b[0m\u001b[0mget_agg_filter\u001b[0m\u001b[0;34m(\u001b[0m\u001b[0;34m)\u001b[0m \u001b[0;32mis\u001b[0m \u001b[0;32mnot\u001b[0m \u001b[0;32mNone\u001b[0m\u001b[0;34m:\u001b[0m\u001b[0;34m\u001b[0m\u001b[0;34m\u001b[0m\u001b[0m\n",
      "\u001b[0;32m/lus/grand/projects/DLHMC/tf_master-2021-03-02/lib/python3.8/site-packages/matplotlib/axes/_base.py\u001b[0m in \u001b[0;36mdraw\u001b[0;34m(self, renderer, inframe)\u001b[0m\n\u001b[1;32m   2605\u001b[0m                 \u001b[0martists\u001b[0m\u001b[0;34m.\u001b[0m\u001b[0mremove\u001b[0m\u001b[0;34m(\u001b[0m\u001b[0mspine\u001b[0m\u001b[0;34m)\u001b[0m\u001b[0;34m\u001b[0m\u001b[0;34m\u001b[0m\u001b[0m\n\u001b[1;32m   2606\u001b[0m \u001b[0;34m\u001b[0m\u001b[0m\n\u001b[0;32m-> 2607\u001b[0;31m         \u001b[0mself\u001b[0m\u001b[0;34m.\u001b[0m\u001b[0m_update_title_position\u001b[0m\u001b[0;34m(\u001b[0m\u001b[0mrenderer\u001b[0m\u001b[0;34m)\u001b[0m\u001b[0;34m\u001b[0m\u001b[0;34m\u001b[0m\u001b[0m\n\u001b[0m\u001b[1;32m   2608\u001b[0m \u001b[0;34m\u001b[0m\u001b[0m\n\u001b[1;32m   2609\u001b[0m         \u001b[0;32mif\u001b[0m \u001b[0;32mnot\u001b[0m \u001b[0mself\u001b[0m\u001b[0;34m.\u001b[0m\u001b[0maxison\u001b[0m \u001b[0;32mor\u001b[0m \u001b[0minframe\u001b[0m\u001b[0;34m:\u001b[0m\u001b[0;34m\u001b[0m\u001b[0;34m\u001b[0m\u001b[0m\n",
      "\u001b[0;32m/lus/grand/projects/DLHMC/tf_master-2021-03-02/lib/python3.8/site-packages/matplotlib/axes/_base.py\u001b[0m in \u001b[0;36m_update_title_position\u001b[0;34m(self, renderer)\u001b[0m\n\u001b[1;32m   2547\u001b[0m                     if (ax.xaxis.get_label_position() == 'top' or\n\u001b[1;32m   2548\u001b[0m                             ax.xaxis.get_ticks_position() in choices):\n\u001b[0;32m-> 2549\u001b[0;31m                         \u001b[0mbb\u001b[0m \u001b[0;34m=\u001b[0m \u001b[0max\u001b[0m\u001b[0;34m.\u001b[0m\u001b[0mxaxis\u001b[0m\u001b[0;34m.\u001b[0m\u001b[0mget_tightbbox\u001b[0m\u001b[0;34m(\u001b[0m\u001b[0mrenderer\u001b[0m\u001b[0;34m)\u001b[0m\u001b[0;34m\u001b[0m\u001b[0;34m\u001b[0m\u001b[0m\n\u001b[0m\u001b[1;32m   2550\u001b[0m                     \u001b[0;32melse\u001b[0m\u001b[0;34m:\u001b[0m\u001b[0;34m\u001b[0m\u001b[0;34m\u001b[0m\u001b[0m\n\u001b[1;32m   2551\u001b[0m                         \u001b[0mbb\u001b[0m \u001b[0;34m=\u001b[0m \u001b[0max\u001b[0m\u001b[0;34m.\u001b[0m\u001b[0mget_window_extent\u001b[0m\u001b[0;34m(\u001b[0m\u001b[0mrenderer\u001b[0m\u001b[0;34m)\u001b[0m\u001b[0;34m\u001b[0m\u001b[0;34m\u001b[0m\u001b[0m\n",
      "\u001b[0;32m/lus/grand/projects/DLHMC/tf_master-2021-03-02/lib/python3.8/site-packages/matplotlib/axis.py\u001b[0m in \u001b[0;36mget_tightbbox\u001b[0;34m(self, renderer)\u001b[0m\n\u001b[1;32m   1171\u001b[0m         \u001b[0mself\u001b[0m\u001b[0;34m.\u001b[0m\u001b[0moffsetText\u001b[0m\u001b[0;34m.\u001b[0m\u001b[0mset_text\u001b[0m\u001b[0;34m(\u001b[0m\u001b[0mself\u001b[0m\u001b[0;34m.\u001b[0m\u001b[0mmajor\u001b[0m\u001b[0;34m.\u001b[0m\u001b[0mformatter\u001b[0m\u001b[0;34m.\u001b[0m\u001b[0mget_offset\u001b[0m\u001b[0;34m(\u001b[0m\u001b[0;34m)\u001b[0m\u001b[0;34m)\u001b[0m\u001b[0;34m\u001b[0m\u001b[0;34m\u001b[0m\u001b[0m\n\u001b[1;32m   1172\u001b[0m \u001b[0;34m\u001b[0m\u001b[0m\n\u001b[0;32m-> 1173\u001b[0;31m         bboxes = [\n\u001b[0m\u001b[1;32m   1174\u001b[0m             *(a.get_window_extent(renderer)\n\u001b[1;32m   1175\u001b[0m               \u001b[0;32mfor\u001b[0m \u001b[0ma\u001b[0m \u001b[0;32min\u001b[0m \u001b[0;34m[\u001b[0m\u001b[0mself\u001b[0m\u001b[0;34m.\u001b[0m\u001b[0mlabel\u001b[0m\u001b[0;34m,\u001b[0m \u001b[0mself\u001b[0m\u001b[0;34m.\u001b[0m\u001b[0moffsetText\u001b[0m\u001b[0;34m]\u001b[0m\u001b[0;34m\u001b[0m\u001b[0;34m\u001b[0m\u001b[0m\n",
      "\u001b[0;32m/lus/grand/projects/DLHMC/tf_master-2021-03-02/lib/python3.8/site-packages/matplotlib/axis.py\u001b[0m in \u001b[0;36m<genexpr>\u001b[0;34m(.0)\u001b[0m\n\u001b[1;32m   1172\u001b[0m \u001b[0;34m\u001b[0m\u001b[0m\n\u001b[1;32m   1173\u001b[0m         bboxes = [\n\u001b[0;32m-> 1174\u001b[0;31m             *(a.get_window_extent(renderer)\n\u001b[0m\u001b[1;32m   1175\u001b[0m               \u001b[0;32mfor\u001b[0m \u001b[0ma\u001b[0m \u001b[0;32min\u001b[0m \u001b[0;34m[\u001b[0m\u001b[0mself\u001b[0m\u001b[0;34m.\u001b[0m\u001b[0mlabel\u001b[0m\u001b[0;34m,\u001b[0m \u001b[0mself\u001b[0m\u001b[0;34m.\u001b[0m\u001b[0moffsetText\u001b[0m\u001b[0;34m]\u001b[0m\u001b[0;34m\u001b[0m\u001b[0;34m\u001b[0m\u001b[0m\n\u001b[1;32m   1176\u001b[0m               if a.get_visible()),\n",
      "\u001b[0;32m/lus/grand/projects/DLHMC/tf_master-2021-03-02/lib/python3.8/site-packages/matplotlib/text.py\u001b[0m in \u001b[0;36mget_window_extent\u001b[0;34m(self, renderer, dpi)\u001b[0m\n\u001b[1;32m    888\u001b[0m             \u001b[0;32mraise\u001b[0m \u001b[0mRuntimeError\u001b[0m\u001b[0;34m(\u001b[0m\u001b[0;34m'Cannot get window extent w/o renderer'\u001b[0m\u001b[0;34m)\u001b[0m\u001b[0;34m\u001b[0m\u001b[0;34m\u001b[0m\u001b[0m\n\u001b[1;32m    889\u001b[0m \u001b[0;34m\u001b[0m\u001b[0m\n\u001b[0;32m--> 890\u001b[0;31m         \u001b[0mbbox\u001b[0m\u001b[0;34m,\u001b[0m \u001b[0minfo\u001b[0m\u001b[0;34m,\u001b[0m \u001b[0mdescent\u001b[0m \u001b[0;34m=\u001b[0m \u001b[0mself\u001b[0m\u001b[0;34m.\u001b[0m\u001b[0m_get_layout\u001b[0m\u001b[0;34m(\u001b[0m\u001b[0mself\u001b[0m\u001b[0;34m.\u001b[0m\u001b[0m_renderer\u001b[0m\u001b[0;34m)\u001b[0m\u001b[0;34m\u001b[0m\u001b[0;34m\u001b[0m\u001b[0m\n\u001b[0m\u001b[1;32m    891\u001b[0m         \u001b[0mx\u001b[0m\u001b[0;34m,\u001b[0m \u001b[0my\u001b[0m \u001b[0;34m=\u001b[0m \u001b[0mself\u001b[0m\u001b[0;34m.\u001b[0m\u001b[0mget_unitless_position\u001b[0m\u001b[0;34m(\u001b[0m\u001b[0;34m)\u001b[0m\u001b[0;34m\u001b[0m\u001b[0;34m\u001b[0m\u001b[0m\n\u001b[1;32m    892\u001b[0m         \u001b[0mx\u001b[0m\u001b[0;34m,\u001b[0m \u001b[0my\u001b[0m \u001b[0;34m=\u001b[0m \u001b[0mself\u001b[0m\u001b[0;34m.\u001b[0m\u001b[0mget_transform\u001b[0m\u001b[0;34m(\u001b[0m\u001b[0;34m)\u001b[0m\u001b[0;34m.\u001b[0m\u001b[0mtransform_point\u001b[0m\u001b[0;34m(\u001b[0m\u001b[0;34m(\u001b[0m\u001b[0mx\u001b[0m\u001b[0;34m,\u001b[0m \u001b[0my\u001b[0m\u001b[0;34m)\u001b[0m\u001b[0;34m)\u001b[0m\u001b[0;34m\u001b[0m\u001b[0;34m\u001b[0m\u001b[0m\n",
      "\u001b[0;32m/lus/grand/projects/DLHMC/tf_master-2021-03-02/lib/python3.8/site-packages/matplotlib/text.py\u001b[0m in \u001b[0;36m_get_layout\u001b[0;34m(self, renderer)\u001b[0m\n\u001b[1;32m    295\u001b[0m             \u001b[0mclean_line\u001b[0m\u001b[0;34m,\u001b[0m \u001b[0mismath\u001b[0m \u001b[0;34m=\u001b[0m \u001b[0mself\u001b[0m\u001b[0;34m.\u001b[0m\u001b[0m_preprocess_math\u001b[0m\u001b[0;34m(\u001b[0m\u001b[0mline\u001b[0m\u001b[0;34m)\u001b[0m\u001b[0;34m\u001b[0m\u001b[0;34m\u001b[0m\u001b[0m\n\u001b[1;32m    296\u001b[0m             \u001b[0;32mif\u001b[0m \u001b[0mclean_line\u001b[0m\u001b[0;34m:\u001b[0m\u001b[0;34m\u001b[0m\u001b[0;34m\u001b[0m\u001b[0m\n\u001b[0;32m--> 297\u001b[0;31m                 w, h, d = renderer.get_text_width_height_descent(\n\u001b[0m\u001b[1;32m    298\u001b[0m                     clean_line, self._fontproperties, ismath=ismath)\n\u001b[1;32m    299\u001b[0m             \u001b[0;32melse\u001b[0m\u001b[0;34m:\u001b[0m\u001b[0;34m\u001b[0m\u001b[0;34m\u001b[0m\u001b[0m\n",
      "\u001b[0;32m/lus/grand/projects/DLHMC/tf_master-2021-03-02/lib/python3.8/site-packages/matplotlib/backends/backend_agg.py\u001b[0m in \u001b[0;36mget_text_width_height_descent\u001b[0;34m(self, s, prop, ismath)\u001b[0m\n\u001b[1;32m    198\u001b[0m             \u001b[0mtexmanager\u001b[0m \u001b[0;34m=\u001b[0m \u001b[0mself\u001b[0m\u001b[0;34m.\u001b[0m\u001b[0mget_texmanager\u001b[0m\u001b[0;34m(\u001b[0m\u001b[0;34m)\u001b[0m\u001b[0;34m\u001b[0m\u001b[0;34m\u001b[0m\u001b[0m\n\u001b[1;32m    199\u001b[0m             \u001b[0mfontsize\u001b[0m \u001b[0;34m=\u001b[0m \u001b[0mprop\u001b[0m\u001b[0;34m.\u001b[0m\u001b[0mget_size_in_points\u001b[0m\u001b[0;34m(\u001b[0m\u001b[0;34m)\u001b[0m\u001b[0;34m\u001b[0m\u001b[0;34m\u001b[0m\u001b[0m\n\u001b[0;32m--> 200\u001b[0;31m             w, h, d = texmanager.get_text_width_height_descent(\n\u001b[0m\u001b[1;32m    201\u001b[0m                 s, fontsize, renderer=self)\n\u001b[1;32m    202\u001b[0m             \u001b[0;32mreturn\u001b[0m \u001b[0mw\u001b[0m\u001b[0;34m,\u001b[0m \u001b[0mh\u001b[0m\u001b[0;34m,\u001b[0m \u001b[0md\u001b[0m\u001b[0;34m\u001b[0m\u001b[0;34m\u001b[0m\u001b[0m\n",
      "\u001b[0;32m/lus/grand/projects/DLHMC/tf_master-2021-03-02/lib/python3.8/site-packages/matplotlib/texmanager.py\u001b[0m in \u001b[0;36mget_text_width_height_descent\u001b[0;34m(self, tex, fontsize, renderer)\u001b[0m\n\u001b[1;32m    446\u001b[0m         \u001b[0;32melse\u001b[0m\u001b[0;34m:\u001b[0m\u001b[0;34m\u001b[0m\u001b[0;34m\u001b[0m\u001b[0m\n\u001b[1;32m    447\u001b[0m             \u001b[0;31m# use dviread. It sometimes returns a wrong descent.\u001b[0m\u001b[0;34m\u001b[0m\u001b[0;34m\u001b[0m\u001b[0;34m\u001b[0m\u001b[0m\n\u001b[0;32m--> 448\u001b[0;31m             \u001b[0mdvifile\u001b[0m \u001b[0;34m=\u001b[0m \u001b[0mself\u001b[0m\u001b[0;34m.\u001b[0m\u001b[0mmake_dvi\u001b[0m\u001b[0;34m(\u001b[0m\u001b[0mtex\u001b[0m\u001b[0;34m,\u001b[0m \u001b[0mfontsize\u001b[0m\u001b[0;34m)\u001b[0m\u001b[0;34m\u001b[0m\u001b[0;34m\u001b[0m\u001b[0m\n\u001b[0m\u001b[1;32m    449\u001b[0m             \u001b[0;32mwith\u001b[0m \u001b[0mdviread\u001b[0m\u001b[0;34m.\u001b[0m\u001b[0mDvi\u001b[0m\u001b[0;34m(\u001b[0m\u001b[0mdvifile\u001b[0m\u001b[0;34m,\u001b[0m \u001b[0;36m72\u001b[0m \u001b[0;34m*\u001b[0m \u001b[0mdpi_fraction\u001b[0m\u001b[0;34m)\u001b[0m \u001b[0;32mas\u001b[0m \u001b[0mdvi\u001b[0m\u001b[0;34m:\u001b[0m\u001b[0;34m\u001b[0m\u001b[0;34m\u001b[0m\u001b[0m\n\u001b[1;32m    450\u001b[0m                 \u001b[0mpage\u001b[0m\u001b[0;34m,\u001b[0m \u001b[0;34m=\u001b[0m \u001b[0mdvi\u001b[0m\u001b[0;34m\u001b[0m\u001b[0;34m\u001b[0m\u001b[0m\n",
      "\u001b[0;32m/lus/grand/projects/DLHMC/tf_master-2021-03-02/lib/python3.8/site-packages/matplotlib/texmanager.py\u001b[0m in \u001b[0;36mmake_dvi\u001b[0;34m(self, tex, fontsize)\u001b[0m\n\u001b[1;32m    334\u001b[0m             \u001b[0mtexfile\u001b[0m \u001b[0;34m=\u001b[0m \u001b[0mself\u001b[0m\u001b[0;34m.\u001b[0m\u001b[0mmake_tex\u001b[0m\u001b[0;34m(\u001b[0m\u001b[0mtex\u001b[0m\u001b[0;34m,\u001b[0m \u001b[0mfontsize\u001b[0m\u001b[0;34m)\u001b[0m\u001b[0;34m\u001b[0m\u001b[0;34m\u001b[0m\u001b[0m\n\u001b[1;32m    335\u001b[0m             \u001b[0;32mwith\u001b[0m \u001b[0mcbook\u001b[0m\u001b[0;34m.\u001b[0m\u001b[0m_lock_path\u001b[0m\u001b[0;34m(\u001b[0m\u001b[0mtexfile\u001b[0m\u001b[0;34m)\u001b[0m\u001b[0;34m:\u001b[0m\u001b[0;34m\u001b[0m\u001b[0;34m\u001b[0m\u001b[0m\n\u001b[0;32m--> 336\u001b[0;31m                 self._run_checked_subprocess(\n\u001b[0m\u001b[1;32m    337\u001b[0m                     [\"latex\", \"-interaction=nonstopmode\", \"--halt-on-error\",\n\u001b[1;32m    338\u001b[0m                      texfile], tex)\n",
      "\u001b[0;32m/lus/grand/projects/DLHMC/tf_master-2021-03-02/lib/python3.8/site-packages/matplotlib/texmanager.py\u001b[0m in \u001b[0;36m_run_checked_subprocess\u001b[0;34m(self, command, tex)\u001b[0m\n\u001b[1;32m    308\u001b[0m                 'found'.format(command[0])) from exc\n\u001b[1;32m    309\u001b[0m         \u001b[0;32mexcept\u001b[0m \u001b[0msubprocess\u001b[0m\u001b[0;34m.\u001b[0m\u001b[0mCalledProcessError\u001b[0m \u001b[0;32mas\u001b[0m \u001b[0mexc\u001b[0m\u001b[0;34m:\u001b[0m\u001b[0;34m\u001b[0m\u001b[0;34m\u001b[0m\u001b[0m\n\u001b[0;32m--> 310\u001b[0;31m             raise RuntimeError(\n\u001b[0m\u001b[1;32m    311\u001b[0m                 \u001b[0;34m'{prog} was not able to process the following string:\\n'\u001b[0m\u001b[0;34m\u001b[0m\u001b[0;34m\u001b[0m\u001b[0m\n\u001b[1;32m    312\u001b[0m                 \u001b[0;34m'{tex!r}\\n\\n'\u001b[0m\u001b[0;34m\u001b[0m\u001b[0;34m\u001b[0m\u001b[0m\n",
      "\u001b[0;31mRuntimeError\u001b[0m: latex was not able to process the following string:\nb'$\\\\\\\\mathcal{Q}_{\\\\\\\\mathbb{R}}$'\n\nHere is the full report generated by latex:\nThis is pdfTeX, Version 3.14159265-2.6-1.40.21 (TeX Live 2020) (preloaded format=latex)\n restricted \\write18 enabled.\nentering extended mode\n\n(/home/foremans/.cache/matplotlib/tex.cache/a6fe0a71563a7421859f424e6dbebba5.te\nx\nLaTeX2e <2020-10-01> patch level 4\nL3 programming layer <2021-02-18>\n(/gpfs/mira-home/foremans/.linuxbrew/Cellar/texlive/20200715_1/texlive/texmf-di\nst/tex/latex/base/article.cls\nDocument Class: article 2020/04/10 v1.4m Standard LaTeX document class\n\n(/gpfs/mira-home/foremans/.linuxbrew/Cellar/texlive/20200715_1/texlive/texmf-di\nst/tex/latex/base/size10.clo))\n(/gpfs/mira-home/foremans/.linuxbrew/Cellar/texlive/20200715_1/texlive/texmf-di\nst/tex/latex/type1cm/type1cm.sty)\n(/gpfs/mira-home/foremans/.linuxbrew/Cellar/texlive/20200715_1/texlive/texmf-di\nst/tex/latex/base/textcomp.sty)\n(/gpfs/mira-home/foremans/.linuxbrew/Cellar/texlive/20200715_1/texlive/texmf-di\nst/tex/latex/base/inputenc.sty)\n(/gpfs/mira-home/foremans/.linuxbrew/Cellar/texlive/20200715_1/texlive/texmf-di\nst/tex/latex/geometry/geometry.sty\n(/gpfs/mira-home/foremans/.linuxbrew/Cellar/texlive/20200715_1/texlive/texmf-di\nst/tex/latex/graphics/keyval.sty)\n(/gpfs/mira-home/foremans/.linuxbrew/Cellar/texlive/20200715_1/texlive/texmf-di\nst/tex/generic/iftex/ifvtex.sty\n(/gpfs/mira-home/foremans/.linuxbrew/Cellar/texlive/20200715_1/texlive/texmf-di\nst/tex/generic/iftex/iftex.sty))\n\nPackage geometry Warning: Over-specification in `h'-direction.\n    `width' (5058.9pt) is ignored.\n\n\nPackage geometry Warning: Over-specification in `v'-direction.\n    `height' (5058.9pt) is ignored.\n\n)\n(/gpfs/mira-home/foremans/.linuxbrew/Cellar/texlive/20200715_1/texlive/texmf-di\nst/tex/latex/l3backend/l3backend-dvips.def)\n(./a6fe0a71563a7421859f424e6dbebba5.aux)\n*geometry* driver: auto-detecting\n*geometry* detected driver: dvips\n! Undefined control sequence.\nl.14 ...18.742500}{\\sffamily $\\mathcal{Q}_{\\mathbb\n                                                  {R}}$}\nNo pages of output.\nTranscript written on a6fe0a71563a7421859f424e6dbebba5.log.\n\n\n"
     ]
    },
    {
     "data": {
      "text/plain": [
       "<Figure size 300x300 with 10 Axes>"
      ]
     },
     "metadata": {},
     "output_type": "display_data"
    },
    {
     "data": {
      "image/png": "[encoded data removed]",
      "text/plain": [
       "<Figure size 300x300 with 10 Axes>"
      ]
     },
     "metadata": {},
     "output_type": "display_data"
    }
   ],
   "source": [
    "sinQf_label = r\"\"\"$\\mathcal{Q}_{\\mathbb{R}}$\"\"\"\n",
    "sinQf_fout = os.path.join(outdir, f'sinQf_{timestr}.pdf')\n",
    "\n",
    "hwf_label = r\"\"\"$\\mathcal{H} - \\sum\\log|\\mathcal{J}|$\"\"\"\n",
    "hwf_fout = os.path.join(outdir, f'Hwf_{timestr}_1.pdf')\n",
    "\n",
    "plaqsf_label = r\"\"\"$\\langle x_{P} - x_{P}^{*}\\rangle$\"\"\"\n",
    "plaqsf_fout = os.path.join(outdir, f'plaqsf_{timestr}.pdf')\n",
    "\n",
    "plt.style.use('default')\n",
    "sns.set_context('paper')\n",
    "sns.set_palette('bright')\n",
    "sns.set_style('whitegrid')\n",
    "plt.rc('text', usetex=True)\n",
    "#plt.rcParams.update(rc_context)\n",
    "\n",
    "sns.set_palette('bright')\n",
    "sns.set_context('talk')#, font_scale=0.85)#)#, font_scale=1.25)\n",
    "cmap = plt.get_cmap('viridis_r')\n",
    "#color = '#0182CA'\n",
    "color = '#1AC938'\n",
    "sns.set_style('whitegrid')#\n",
    "with mpl.rc_context({\n",
    "    #'font.family': 'lmodern',\n",
    "    #'font.size': 12.,  # 9.6000000000000000001\n",
    "    #'figure.figsize': (4, 3),\n",
    "    #'axes.labelsize': 12.,\n",
    "    #'legend.fontsize': 8.,\n",
    "    #'legend.labelspacing': 0.2, # 0.5\n",
    "    #'legend.handletextpad': 0.3,  # 0.8\n",
    "    'text.usetex': True,\n",
    "    'text.latex.preamble': (            # LaTeX preamble\n",
    "        #r'\\usepackage{lmodern}'\n",
    "        r'\\usepackage{amsmath}'\n",
    "        r'\\usepackage{amssymb}'\n",
    "        r'\\usepackage{microtype}'\n",
    "        r'\\usepackage{bm}'\n",
    "        r'\\usepackage{bbm}'\n",
    "    )\n",
    "}):\n",
    "    plaqsf_data_, (fig, ax) = make_ridgeplots1(plaqsf_dataset, label_str=plaqsf_label, cmap='viridis_r',\n",
    "                                               num_chains=64, num_pts=1000, therm_frac=0.5,\n",
    "                                               aspect=10, height=0.3, hspace=-0.8, out_dir=outdir,#, labelsize='small',\n",
    "                                               usetex=True, ylabels=True)#, xticks=((-4, 4)))\n",
    "    \n",
    "    sinQf_data_, (fig, ax) = make_ridgeplots1(sinQf_dataset, label_str=sinQf_label, cmap='viridis_r',\n",
    "                                              num_chains=64, num_pts=1000, therm_frac=0.5,\n",
    "                                              aspect=10, height=0.3, hspace=-0.8, out_dir=outdir,#, labelsize='small',\n",
    "                                              usetex=True, ylabels=False)#, xticks=((-4, 4)))\n",
    "    \n",
    "    hwf_data_, (fig, ax) = make_ridgeplots1(hwf_dataset, label_str=hwf_label, cmap='viridis_r',\n",
    "                                            num_chains=64, num_pts=1000, therm_frac=0.5,\n",
    "                                            aspect=10, height=0.3, hspace=-0.8, out_dir=outdir,#, labelsize='small',\n",
    "                                            usetex=True, ylabels=False)#, xticks=((-4, 4)))\n",
    "    \n"
   ]
  },
  {
   "cell_type": "code",
   "execution_count": 13,
   "metadata": {
    "ExecuteTime": {
     "end_time": "2021-04-13T04:58:51.398486Z",
     "start_time": "2021-04-13T04:58:51.323073Z"
    }
   },
   "outputs": [
    {
     "ename": "NameError",
     "evalue": "name 'hwf_dataset' is not defined",
     "output_type": "error",
     "traceback": [
      "\u001b[0;31m---------------------------------------------------------------------------\u001b[0m",
      "\u001b[0;31mNameError\u001b[0m                                 Traceback (most recent call last)",
      "\u001b[0;32m<ipython-input-13-70363e3236ed>\u001b[0m in \u001b[0;36m<module>\u001b[0;34m\u001b[0m\n\u001b[0;32m----> 1\u001b[0;31m \u001b[0mconsole\u001b[0m\u001b[0;34m.\u001b[0m\u001b[0mlog\u001b[0m\u001b[0;34m(\u001b[0m\u001b[0mhwf_dataset\u001b[0m\u001b[0;34m)\u001b[0m\u001b[0;34m\u001b[0m\u001b[0;34m\u001b[0m\u001b[0m\n\u001b[0m",
      "\u001b[0;31mNameError\u001b[0m: name 'hwf_dataset' is not defined"
     ]
    }
   ],
   "source": []
  },
  {
   "cell_type": "code",
   "execution_count": 80,
   "metadata": {
    "ExecuteTime": {
     "end_time": "2021-04-12T22:02:42.432714Z",
     "start_time": "2021-04-12T22:02:21.980007Z"
    },
    "scrolled": false
   },
   "outputs": [
    {
     "data": {
      "text/html": [
       "<pre style=\"white-space:pre;overflow-x:auto;line-height:normal;font-family:Menlo,'DejaVu Sans Mono',consolas,'Courier New',monospace\"><span style=\"color: #7fbfbf; text-decoration-color: #7fbfbf\">[22:02:22] </span>x.shape: <span style=\"font-weight: bold\">(</span><span style=\"color: #ff79ff; text-decoration-color: #ff79ff\">1024</span>, <span style=\"color: #ff79ff; text-decoration-color: #ff79ff\">25000</span><span style=\"font-weight: bold\">)</span>                                                                                                                                                                                                               \n",
       "</pre>\n"
      ],
      "text/plain": [
       "<rich.jupyter.JupyterRenderable at 0x7fd685bb7a60>"
      ]
     },
     "metadata": {},
     "output_type": "display_data"
    },
    {
     "data": {
      "text/html": [
       "<pre style=\"white-space:pre;overflow-x:auto;line-height:normal;font-family:Menlo,'DejaVu Sans Mono',consolas,'Courier New',monospace\"><span style=\"color: #7fbfbf; text-decoration-color: #7fbfbf\">[22:02:23] </span>x.shape: <span style=\"font-weight: bold\">(</span><span style=\"color: #ff79ff; text-decoration-color: #ff79ff\">1024</span>, <span style=\"color: #ff79ff; text-decoration-color: #ff79ff\">25000</span><span style=\"font-weight: bold\">)</span>                                                                                                                                                                                                               \n",
       "</pre>\n"
      ],
      "text/plain": [
       "<rich.jupyter.JupyterRenderable at 0x7fd685bb70a0>"
      ]
     },
     "metadata": {},
     "output_type": "display_data"
    },
    {
     "data": {
      "text/html": [
       "<pre style=\"white-space:pre;overflow-x:auto;line-height:normal;font-family:Menlo,'DejaVu Sans Mono',consolas,'Courier New',monospace\"><span style=\"color: #7fbfbf; text-decoration-color: #7fbfbf\">[22:02:24] </span>x.shape: <span style=\"font-weight: bold\">(</span><span style=\"color: #ff79ff; text-decoration-color: #ff79ff\">1024</span>, <span style=\"color: #ff79ff; text-decoration-color: #ff79ff\">25000</span><span style=\"font-weight: bold\">)</span>                                                                                                                                                                                                               \n",
       "</pre>\n"
      ],
      "text/plain": [
       "<rich.jupyter.JupyterRenderable at 0x7fd77bf00190>"
      ]
     },
     "metadata": {},
     "output_type": "display_data"
    },
    {
     "data": {
      "text/html": [
       "<pre style=\"white-space:pre;overflow-x:auto;line-height:normal;font-family:Menlo,'DejaVu Sans Mono',consolas,'Courier New',monospace\"><span style=\"color: #7fbfbf; text-decoration-color: #7fbfbf\">[22:02:25] </span>x.shape: <span style=\"font-weight: bold\">(</span><span style=\"color: #ff79ff; text-decoration-color: #ff79ff\">1024</span>, <span style=\"color: #ff79ff; text-decoration-color: #ff79ff\">25000</span><span style=\"font-weight: bold\">)</span>                                                                                                                                                                                                               \n",
       "</pre>\n"
      ],
      "text/plain": [
       "<rich.jupyter.JupyterRenderable at 0x7fd685bb70a0>"
      ]
     },
     "metadata": {},
     "output_type": "display_data"
    },
    {
     "data": {
      "text/html": [
       "<pre style=\"white-space:pre;overflow-x:auto;line-height:normal;font-family:Menlo,'DejaVu Sans Mono',consolas,'Courier New',monospace\"><span style=\"color: #7fbfbf; text-decoration-color: #7fbfbf\">[22:02:26] </span>x.shape: <span style=\"font-weight: bold\">(</span><span style=\"color: #ff79ff; text-decoration-color: #ff79ff\">1024</span>, <span style=\"color: #ff79ff; text-decoration-color: #ff79ff\">25000</span><span style=\"font-weight: bold\">)</span>                                                                                                                                                                                                               \n",
       "</pre>\n"
      ],
      "text/plain": [
       "<rich.jupyter.JupyterRenderable at 0x7fd737821d90>"
      ]
     },
     "metadata": {},
     "output_type": "display_data"
    },
    {
     "data": {
      "text/html": [
       "<pre style=\"white-space:pre;overflow-x:auto;line-height:normal;font-family:Menlo,'DejaVu Sans Mono',consolas,'Courier New',monospace\"><span style=\"color: #7fbfbf; text-decoration-color: #7fbfbf\">[22:02:27] </span>x.shape: <span style=\"font-weight: bold\">(</span><span style=\"color: #ff79ff; text-decoration-color: #ff79ff\">1024</span>, <span style=\"color: #ff79ff; text-decoration-color: #ff79ff\">25000</span><span style=\"font-weight: bold\">)</span>                                                                                                                                                                                                               \n",
       "</pre>\n"
      ],
      "text/plain": [
       "<rich.jupyter.JupyterRenderable at 0x7fd685bb70a0>"
      ]
     },
     "metadata": {},
     "output_type": "display_data"
    },
    {
     "data": {
      "text/html": [
       "<pre style=\"white-space:pre;overflow-x:auto;line-height:normal;font-family:Menlo,'DejaVu Sans Mono',consolas,'Courier New',monospace\"><span style=\"color: #7fbfbf; text-decoration-color: #7fbfbf\">[22:02:28] </span>x.shape: <span style=\"font-weight: bold\">(</span><span style=\"color: #ff79ff; text-decoration-color: #ff79ff\">1024</span>, <span style=\"color: #ff79ff; text-decoration-color: #ff79ff\">25000</span><span style=\"font-weight: bold\">)</span>                                                                                                                                                                                                               \n",
       "</pre>\n"
      ],
      "text/plain": [
       "<rich.jupyter.JupyterRenderable at 0x7fd737821f70>"
      ]
     },
     "metadata": {},
     "output_type": "display_data"
    },
    {
     "data": {
      "text/html": [
       "<pre style=\"white-space:pre;overflow-x:auto;line-height:normal;font-family:Menlo,'DejaVu Sans Mono',consolas,'Courier New',monospace\"><span style=\"color: #7fbfbf; text-decoration-color: #7fbfbf\">[22:02:29] </span>x.shape: <span style=\"font-weight: bold\">(</span><span style=\"color: #ff79ff; text-decoration-color: #ff79ff\">1024</span>, <span style=\"color: #ff79ff; text-decoration-color: #ff79ff\">25000</span><span style=\"font-weight: bold\">)</span>                                                                                                                                                                                                               \n",
       "</pre>\n"
      ],
      "text/plain": [
       "<rich.jupyter.JupyterRenderable at 0x7fd685bb70a0>"
      ]
     },
     "metadata": {},
     "output_type": "display_data"
    },
    {
     "data": {
      "text/html": [
       "<pre style=\"white-space:pre;overflow-x:auto;line-height:normal;font-family:Menlo,'DejaVu Sans Mono',consolas,'Courier New',monospace\"><span style=\"color: #7fbfbf; text-decoration-color: #7fbfbf\">[22:02:30] </span>x.shape: <span style=\"font-weight: bold\">(</span><span style=\"color: #ff79ff; text-decoration-color: #ff79ff\">1024</span>, <span style=\"color: #ff79ff; text-decoration-color: #ff79ff\">25000</span><span style=\"font-weight: bold\">)</span>                                                                                                                                                                                                               \n",
       "</pre>\n"
      ],
      "text/plain": [
       "<rich.jupyter.JupyterRenderable at 0x7fd7378212b0>"
      ]
     },
     "metadata": {},
     "output_type": "display_data"
    },
    {
     "data": {
      "text/html": [
       "<pre style=\"white-space:pre;overflow-x:auto;line-height:normal;font-family:Menlo,'DejaVu Sans Mono',consolas,'Courier New',monospace\"><span style=\"color: #7fbfbf; text-decoration-color: #7fbfbf\">[22:02:31] </span>x.shape: <span style=\"font-weight: bold\">(</span><span style=\"color: #ff79ff; text-decoration-color: #ff79ff\">1024</span>, <span style=\"color: #ff79ff; text-decoration-color: #ff79ff\">25000</span><span style=\"font-weight: bold\">)</span>                                                                                                                                                                                                               \n",
       "</pre>\n"
      ],
      "text/plain": [
       "<rich.jupyter.JupyterRenderable at 0x7fd7378210d0>"
      ]
     },
     "metadata": {},
     "output_type": "display_data"
    },
    {
     "data": {
      "text/html": [
       "<pre style=\"white-space:pre;overflow-x:auto;line-height:normal;font-family:Menlo,'DejaVu Sans Mono',consolas,'Courier New',monospace\"><span style=\"color: #7fbfbf; text-decoration-color: #7fbfbf\">[22:02:32] </span>x.shape: <span style=\"font-weight: bold\">(</span><span style=\"color: #ff79ff; text-decoration-color: #ff79ff\">1024</span>, <span style=\"color: #ff79ff; text-decoration-color: #ff79ff\">25000</span><span style=\"font-weight: bold\">)</span>                                                                                                                                                                                                               \n",
       "</pre>\n"
      ],
      "text/plain": [
       "<rich.jupyter.JupyterRenderable at 0x7fd737821d90>"
      ]
     },
     "metadata": {},
     "output_type": "display_data"
    },
    {
     "data": {
      "text/html": [
       "<pre style=\"white-space:pre;overflow-x:auto;line-height:normal;font-family:Menlo,'DejaVu Sans Mono',consolas,'Courier New',monospace\"><span style=\"color: #7fbfbf; text-decoration-color: #7fbfbf\">[22:02:33] </span>x.shape: <span style=\"font-weight: bold\">(</span><span style=\"color: #ff79ff; text-decoration-color: #ff79ff\">1024</span>, <span style=\"color: #ff79ff; text-decoration-color: #ff79ff\">25000</span><span style=\"font-weight: bold\">)</span>                                                                                                                                                                                                               \n",
       "</pre>\n"
      ],
      "text/plain": [
       "<rich.jupyter.JupyterRenderable at 0x7fd7378210d0>"
      ]
     },
     "metadata": {},
     "output_type": "display_data"
    },
    {
     "data": {
      "application/javascript": [
       "/* Put everything inside the global mpl namespace */\n",
       "window.mpl = {};\n",
       "\n",
       "\n",
       "mpl.get_websocket_type = function() {\n",
       "    if (typeof(WebSocket) !== 'undefined') {\n",
       "        return WebSocket;\n",
       "    } else if (typeof(MozWebSocket) !== 'undefined') {\n",
       "        return MozWebSocket;\n",
       "    } else {\n",
       "        alert('Your browser does not have WebSocket support. ' +\n",
       "              'Please try Chrome, Safari or Firefox ≥ 6. ' +\n",
       "              'Firefox 4 and 5 are also supported but you ' +\n",
       "              'have to enable WebSockets in about:config.');\n",
       "    };\n",
       "}\n",
       "\n",
       "mpl.figure = function(figure_id, websocket, ondownload, parent_element) {\n",
       "    this.id = figure_id;\n",
       "\n",
       "    this.ws = websocket;\n",
       "\n",
       "    this.supports_binary = (this.ws.binaryType != undefined);\n",
       "\n",
       "    if (!this.supports_binary) {\n",
       "        var warnings = document.getElementById(\"mpl-warnings\");\n",
       "        if (warnings) {\n",
       "            warnings.style.display = 'block';\n",
       "            warnings.textContent = (\n",
       "                \"This browser does not support binary websocket messages. \" +\n",
       "                    \"Performance may be slow.\");\n",
       "        }\n",
       "    }\n",
       "\n",
       "    this.imageObj = new Image();\n",
       "\n",
       "    this.context = undefined;\n",
       "    this.message = undefined;\n",
       "    this.canvas = undefined;\n",
       "    this.rubberband_canvas = undefined;\n",
       "    this.rubberband_context = undefined;\n",
       "    this.format_dropdown = undefined;\n",
       "\n",
       "    this.image_mode = 'full';\n",
       "\n",
       "    this.root = $('<div/>');\n",
       "    this._root_extra_style(this.root)\n",
       "    this.root.attr('style', 'display: inline-block');\n",
       "\n",
       "    $(parent_element).append(this.root);\n",
       "\n",
       "    this._init_header(this);\n",
       "    this._init_canvas(this);\n",
       "    this._init_toolbar(this);\n",
       "\n",
       "    var fig = this;\n",
       "\n",
       "    this.waiting = false;\n",
       "\n",
       "    this.ws.onopen =  function () {\n",
       "            fig.send_message(\"supports_binary\", {value: fig.supports_binary});\n",
       "            fig.send_message(\"send_image_mode\", {});\n",
       "            if (mpl.ratio != 1) {\n",
       "                fig.send_message(\"set_dpi_ratio\", {'dpi_ratio': mpl.ratio});\n",
       "            }\n",
       "            fig.send_message(\"refresh\", {});\n",
       "        }\n",
       "\n",
       "    this.imageObj.onload = function() {\n",
       "            if (fig.image_mode == 'full') {\n",
       "                // Full images could contain transparency (where diff images\n",
       "                // almost always do), so we need to clear the canvas so that\n",
       "                // there is no ghosting.\n",
       "                fig.context.clearRect(0, 0, fig.canvas.width, fig.canvas.height);\n",
       "            }\n",
       "            fig.context.drawImage(fig.imageObj, 0, 0);\n",
       "        };\n",
       "\n",
       "    this.imageObj.onunload = function() {\n",
       "        fig.ws.close();\n",
       "    }\n",
       "\n",
       "    this.ws.onmessage = this._make_on_message_function(this);\n",
       "\n",
       "    this.ondownload = ondownload;\n",
       "}\n",
       "\n",
       "mpl.figure.prototype._init_header = function() {\n",
       "    var titlebar = $(\n",
       "        '<div class=\"ui-dialog-titlebar ui-widget-header ui-corner-all ' +\n",
       "        'ui-helper-clearfix\"/>');\n",
       "    var titletext = $(\n",
       "        '<div class=\"ui-dialog-title\" style=\"width: 100%; ' +\n",
       "        'text-align: center; padding: 3px;\"/>');\n",
       "    titlebar.append(titletext)\n",
       "    this.root.append(titlebar);\n",
       "    this.header = titletext[0];\n",
       "}\n",
       "\n",
       "\n",
       "\n",
       "mpl.figure.prototype._canvas_extra_style = function(canvas_div) {\n",
       "\n",
       "}\n",
       "\n",
       "\n",
       "mpl.figure.prototype._root_extra_style = function(canvas_div) {\n",
       "\n",
       "}\n",
       "\n",
       "mpl.figure.prototype._init_canvas = function() {\n",
       "    var fig = this;\n",
       "\n",
       "    var canvas_div = $('<div/>');\n",
       "\n",
       "    canvas_div.attr('style', 'position: relative; clear: both; outline: 0');\n",
       "\n",
       "    function canvas_keyboard_event(event) {\n",
       "        return fig.key_event(event, event['data']);\n",
       "    }\n",
       "\n",
       "    canvas_div.keydown('key_press', canvas_keyboard_event);\n",
       "    canvas_div.keyup('key_release', canvas_keyboard_event);\n",
       "    this.canvas_div = canvas_div\n",
       "    this._canvas_extra_style(canvas_div)\n",
       "    this.root.append(canvas_div);\n",
       "\n",
       "    var canvas = $('<canvas/>');\n",
       "    canvas.addClass('mpl-canvas');\n",
       "    canvas.attr('style', \"left: 0; top: 0; z-index: 0; outline: 0\")\n",
       "\n",
       "    this.canvas = canvas[0];\n",
       "    this.context = canvas[0].getContext(\"2d\");\n",
       "\n",
       "    var backingStore = this.context.backingStorePixelRatio ||\n",
       "\tthis.context.webkitBackingStorePixelRatio ||\n",
       "\tthis.context.mozBackingStorePixelRatio ||\n",
       "\tthis.context.msBackingStorePixelRatio ||\n",
       "\tthis.context.oBackingStorePixelRatio ||\n",
       "\tthis.context.backingStorePixelRatio || 1;\n",
       "\n",
       "    mpl.ratio = (window.devicePixelRatio || 1) / backingStore;\n",
       "\n",
       "    var rubberband = $('<canvas/>');\n",
       "    rubberband.attr('style', \"position: absolute; left: 0; top: 0; z-index: 1;\")\n",
       "\n",
       "    var pass_mouse_events = true;\n",
       "\n",
       "    canvas_div.resizable({\n",
       "        start: function(event, ui) {\n",
       "            pass_mouse_events = false;\n",
       "        },\n",
       "        resize: function(event, ui) {\n",
       "            fig.request_resize(ui.size.width, ui.size.height);\n",
       "        },\n",
       "        stop: function(event, ui) {\n",
       "            pass_mouse_events = true;\n",
       "            fig.request_resize(ui.size.width, ui.size.height);\n",
       "        },\n",
       "    });\n",
       "\n",
       "    function mouse_event_fn(event) {\n",
       "        if (pass_mouse_events)\n",
       "            return fig.mouse_event(event, event['data']);\n",
       "    }\n",
       "\n",
       "    rubberband.mousedown('button_press', mouse_event_fn);\n",
       "    rubberband.mouseup('button_release', mouse_event_fn);\n",
       "    // Throttle sequential mouse events to 1 every 20ms.\n",
       "    rubberband.mousemove('motion_notify', mouse_event_fn);\n",
       "\n",
       "    rubberband.mouseenter('figure_enter', mouse_event_fn);\n",
       "    rubberband.mouseleave('figure_leave', mouse_event_fn);\n",
       "\n",
       "    canvas_div.on(\"wheel\", function (event) {\n",
       "        event = event.originalEvent;\n",
       "        event['data'] = 'scroll'\n",
       "        if (event.deltaY < 0) {\n",
       "            event.step = 1;\n",
       "        } else {\n",
       "            event.step = -1;\n",
       "        }\n",
       "        mouse_event_fn(event);\n",
       "    });\n",
       "\n",
       "    canvas_div.append(canvas);\n",
       "    canvas_div.append(rubberband);\n",
       "\n",
       "    this.rubberband = rubberband;\n",
       "    this.rubberband_canvas = rubberband[0];\n",
       "    this.rubberband_context = rubberband[0].getContext(\"2d\");\n",
       "    this.rubberband_context.strokeStyle = \"#000000\";\n",
       "\n",
       "    this._resize_canvas = function(width, height) {\n",
       "        // Keep the size of the canvas, canvas container, and rubber band\n",
       "        // canvas in synch.\n",
       "        canvas_div.css('width', width)\n",
       "        canvas_div.css('height', height)\n",
       "\n",
       "        canvas.attr('width', width * mpl.ratio);\n",
       "        canvas.attr('height', height * mpl.ratio);\n",
       "        canvas.attr('style', 'width: ' + width + 'px; height: ' + height + 'px;');\n",
       "\n",
       "        rubberband.attr('width', width);\n",
       "        rubberband.attr('height', height);\n",
       "    }\n",
       "\n",
       "    // Set the figure to an initial 600x600px, this will subsequently be updated\n",
       "    // upon first draw.\n",
       "    this._resize_canvas(600, 600);\n",
       "\n",
       "    // Disable right mouse context menu.\n",
       "    $(this.rubberband_canvas).bind(\"contextmenu\",function(e){\n",
       "        return false;\n",
       "    });\n",
       "\n",
       "    function set_focus () {\n",
       "        canvas.focus();\n",
       "        canvas_div.focus();\n",
       "    }\n",
       "\n",
       "    window.setTimeout(set_focus, 100);\n",
       "}\n",
       "\n",
       "mpl.figure.prototype._init_toolbar = function() {\n",
       "    var fig = this;\n",
       "\n",
       "    var nav_element = $('<div/>');\n",
       "    nav_element.attr('style', 'width: 100%');\n",
       "    this.root.append(nav_element);\n",
       "\n",
       "    // Define a callback function for later on.\n",
       "    function toolbar_event(event) {\n",
       "        return fig.toolbar_button_onclick(event['data']);\n",
       "    }\n",
       "    function toolbar_mouse_event(event) {\n",
       "        return fig.toolbar_button_onmouseover(event['data']);\n",
       "    }\n",
       "\n",
       "    for(var toolbar_ind in mpl.toolbar_items) {\n",
       "        var name = mpl.toolbar_items[toolbar_ind][0];\n",
       "        var tooltip = mpl.toolbar_items[toolbar_ind][1];\n",
       "        var image = mpl.toolbar_items[toolbar_ind][2];\n",
       "        var method_name = mpl.toolbar_items[toolbar_ind][3];\n",
       "\n",
       "        if (!name) {\n",
       "            // put a spacer in here.\n",
       "            continue;\n",
       "        }\n",
       "        var button = $('<button/>');\n",
       "        button.addClass('ui-button ui-widget ui-state-default ui-corner-all ' +\n",
       "                        'ui-button-icon-only');\n",
       "        button.attr('role', 'button');\n",
       "        button.attr('aria-disabled', 'false');\n",
       "        button.click(method_name, toolbar_event);\n",
       "        button.mouseover(tooltip, toolbar_mouse_event);\n",
       "\n",
       "        var icon_img = $('<span/>');\n",
       "        icon_img.addClass('ui-button-icon-primary ui-icon');\n",
       "        icon_img.addClass(image);\n",
       "        icon_img.addClass('ui-corner-all');\n",
       "\n",
       "        var tooltip_span = $('<span/>');\n",
       "        tooltip_span.addClass('ui-button-text');\n",
       "        tooltip_span.html(tooltip);\n",
       "\n",
       "        button.append(icon_img);\n",
       "        button.append(tooltip_span);\n",
       "\n",
       "        nav_element.append(button);\n",
       "    }\n",
       "\n",
       "    var fmt_picker_span = $('<span/>');\n",
       "\n",
       "    var fmt_picker = $('<select/>');\n",
       "    fmt_picker.addClass('mpl-toolbar-option ui-widget ui-widget-content');\n",
       "    fmt_picker_span.append(fmt_picker);\n",
       "    nav_element.append(fmt_picker_span);\n",
       "    this.format_dropdown = fmt_picker[0];\n",
       "\n",
       "    for (var ind in mpl.extensions) {\n",
       "        var fmt = mpl.extensions[ind];\n",
       "        var option = $(\n",
       "            '<option/>', {selected: fmt === mpl.default_extension}).html(fmt);\n",
       "        fmt_picker.append(option);\n",
       "    }\n",
       "\n",
       "    // Add hover states to the ui-buttons\n",
       "    $( \".ui-button\" ).hover(\n",
       "        function() { $(this).addClass(\"ui-state-hover\");},\n",
       "        function() { $(this).removeClass(\"ui-state-hover\");}\n",
       "    );\n",
       "\n",
       "    var status_bar = $('<span class=\"mpl-message\"/>');\n",
       "    nav_element.append(status_bar);\n",
       "    this.message = status_bar[0];\n",
       "}\n",
       "\n",
       "mpl.figure.prototype.request_resize = function(x_pixels, y_pixels) {\n",
       "    // Request matplotlib to resize the figure. Matplotlib will then trigger a resize in the client,\n",
       "    // which will in turn request a refresh of the image.\n",
       "    this.send_message('resize', {'width': x_pixels, 'height': y_pixels});\n",
       "}\n",
       "\n",
       "mpl.figure.prototype.send_message = function(type, properties) {\n",
       "    properties['type'] = type;\n",
       "    properties['figure_id'] = this.id;\n",
       "    this.ws.send(JSON.stringify(properties));\n",
       "}\n",
       "\n",
       "mpl.figure.prototype.send_draw_message = function() {\n",
       "    if (!this.waiting) {\n",
       "        this.waiting = true;\n",
       "        this.ws.send(JSON.stringify({type: \"draw\", figure_id: this.id}));\n",
       "    }\n",
       "}\n",
       "\n",
       "\n",
       "mpl.figure.prototype.handle_save = function(fig, msg) {\n",
       "    var format_dropdown = fig.format_dropdown;\n",
       "    var format = format_dropdown.options[format_dropdown.selectedIndex].value;\n",
       "    fig.ondownload(fig, format);\n",
       "}\n",
       "\n",
       "\n",
       "mpl.figure.prototype.handle_resize = function(fig, msg) {\n",
       "    var size = msg['size'];\n",
       "    if (size[0] != fig.canvas.width || size[1] != fig.canvas.height) {\n",
       "        fig._resize_canvas(size[0], size[1]);\n",
       "        fig.send_message(\"refresh\", {});\n",
       "    };\n",
       "}\n",
       "\n",
       "mpl.figure.prototype.handle_rubberband = function(fig, msg) {\n",
       "    var x0 = msg['x0'] / mpl.ratio;\n",
       "    var y0 = (fig.canvas.height - msg['y0']) / mpl.ratio;\n",
       "    var x1 = msg['x1'] / mpl.ratio;\n",
       "    var y1 = (fig.canvas.height - msg['y1']) / mpl.ratio;\n",
       "    x0 = Math.floor(x0) + 0.5;\n",
       "    y0 = Math.floor(y0) + 0.5;\n",
       "    x1 = Math.floor(x1) + 0.5;\n",
       "    y1 = Math.floor(y1) + 0.5;\n",
       "    var min_x = Math.min(x0, x1);\n",
       "    var min_y = Math.min(y0, y1);\n",
       "    var width = Math.abs(x1 - x0);\n",
       "    var height = Math.abs(y1 - y0);\n",
       "\n",
       "    fig.rubberband_context.clearRect(\n",
       "        0, 0, fig.canvas.width / mpl.ratio, fig.canvas.height / mpl.ratio);\n",
       "\n",
       "    fig.rubberband_context.strokeRect(min_x, min_y, width, height);\n",
       "}\n",
       "\n",
       "mpl.figure.prototype.handle_figure_label = function(fig, msg) {\n",
       "    // Updates the figure title.\n",
       "    fig.header.textContent = msg['label'];\n",
       "}\n",
       "\n",
       "mpl.figure.prototype.handle_cursor = function(fig, msg) {\n",
       "    var cursor = msg['cursor'];\n",
       "    switch(cursor)\n",
       "    {\n",
       "    case 0:\n",
       "        cursor = 'pointer';\n",
       "        break;\n",
       "    case 1:\n",
       "        cursor = 'default';\n",
       "        break;\n",
       "    case 2:\n",
       "        cursor = 'crosshair';\n",
       "        break;\n",
       "    case 3:\n",
       "        cursor = 'move';\n",
       "        break;\n",
       "    }\n",
       "    fig.rubberband_canvas.style.cursor = cursor;\n",
       "}\n",
       "\n",
       "mpl.figure.prototype.handle_message = function(fig, msg) {\n",
       "    fig.message.textContent = msg['message'];\n",
       "}\n",
       "\n",
       "mpl.figure.prototype.handle_draw = function(fig, msg) {\n",
       "    // Request the server to send over a new figure.\n",
       "    fig.send_draw_message();\n",
       "}\n",
       "\n",
       "mpl.figure.prototype.handle_image_mode = function(fig, msg) {\n",
       "    fig.image_mode = msg['mode'];\n",
       "}\n",
       "\n",
       "mpl.figure.prototype.updated_canvas_event = function() {\n",
       "    // Called whenever the canvas gets updated.\n",
       "    this.send_message(\"ack\", {});\n",
       "}\n",
       "\n",
       "// A function to construct a web socket function for onmessage handling.\n",
       "// Called in the figure constructor.\n",
       "mpl.figure.prototype._make_on_message_function = function(fig) {\n",
       "    return function socket_on_message(evt) {\n",
       "        if (evt.data instanceof Blob) {\n",
       "            /* FIXME: We get \"Resource interpreted as Image but\n",
       "             * transferred with MIME type text/plain:\" errors on\n",
       "             * Chrome.  But how to set the MIME type?  It doesn't seem\n",
       "             * to be part of the websocket stream */\n",
       "            evt.data.type = \"image/png\";\n",
       "\n",
       "            /* Free the memory for the previous frames */\n",
       "            if (fig.imageObj.src) {\n",
       "                (window.URL || window.webkitURL).revokeObjectURL(\n",
       "                    fig.imageObj.src);\n",
       "            }\n",
       "\n",
       "            fig.imageObj.src = (window.URL || window.webkitURL).createObjectURL(\n",
       "                evt.data);\n",
       "            fig.updated_canvas_event();\n",
       "            fig.waiting = false;\n",
       "            return;\n",
       "        }\n",
       "        else if (typeof evt.data === 'string' && evt.data.slice(0, 21) == \"data:image/png;base64\") {\n",
       "            fig.imageObj.src = evt.data;\n",
       "            fig.updated_canvas_event();\n",
       "            fig.waiting = false;\n",
       "            return;\n",
       "        }\n",
       "\n",
       "        var msg = JSON.parse(evt.data);\n",
       "        var msg_type = msg['type'];\n",
       "\n",
       "        // Call the  \"handle_{type}\" callback, which takes\n",
       "        // the figure and JSON message as its only arguments.\n",
       "        try {\n",
       "            var callback = fig[\"handle_\" + msg_type];\n",
       "        } catch (e) {\n",
       "            console.log(\"No handler for the '\" + msg_type + \"' message type: \", msg);\n",
       "            return;\n",
       "        }\n",
       "\n",
       "        if (callback) {\n",
       "            try {\n",
       "                // console.log(\"Handling '\" + msg_type + \"' message: \", msg);\n",
       "                callback(fig, msg);\n",
       "            } catch (e) {\n",
       "                console.log(\"Exception inside the 'handler_\" + msg_type + \"' callback:\", e, e.stack, msg);\n",
       "            }\n",
       "        }\n",
       "    };\n",
       "}\n",
       "\n",
       "// from http://stackoverflow.com/questions/1114465/getting-mouse-location-in-canvas\n",
       "mpl.findpos = function(e) {\n",
       "    //this section is from http://www.quirksmode.org/js/events_properties.html\n",
       "    var targ;\n",
       "    if (!e)\n",
       "        e = window.event;\n",
       "    if (e.target)\n",
       "        targ = e.target;\n",
       "    else if (e.srcElement)\n",
       "        targ = e.srcElement;\n",
       "    if (targ.nodeType == 3) // defeat Safari bug\n",
       "        targ = targ.parentNode;\n",
       "\n",
       "    // jQuery normalizes the pageX and pageY\n",
       "    // pageX,Y are the mouse positions relative to the document\n",
       "    // offset() returns the position of the element relative to the document\n",
       "    var x = e.pageX - $(targ).offset().left;\n",
       "    var y = e.pageY - $(targ).offset().top;\n",
       "\n",
       "    return {\"x\": x, \"y\": y};\n",
       "};\n",
       "\n",
       "/*\n",
       " * return a copy of an object with only non-object keys\n",
       " * we need this to avoid circular references\n",
       " * http://stackoverflow.com/a/24161582/3208463\n",
       " */\n",
       "function simpleKeys (original) {\n",
       "  return Object.keys(original).reduce(function (obj, key) {\n",
       "    if (typeof original[key] !== 'object')\n",
       "        obj[key] = original[key]\n",
       "    return obj;\n",
       "  }, {});\n",
       "}\n",
       "\n",
       "mpl.figure.prototype.mouse_event = function(event, name) {\n",
       "    var canvas_pos = mpl.findpos(event)\n",
       "\n",
       "    if (name === 'button_press')\n",
       "    {\n",
       "        this.canvas.focus();\n",
       "        this.canvas_div.focus();\n",
       "    }\n",
       "\n",
       "    var x = canvas_pos.x * mpl.ratio;\n",
       "    var y = canvas_pos.y * mpl.ratio;\n",
       "\n",
       "    this.send_message(name, {x: x, y: y, button: event.button,\n",
       "                             step: event.step,\n",
       "                             guiEvent: simpleKeys(event)});\n",
       "\n",
       "    /* This prevents the web browser from automatically changing to\n",
       "     * the text insertion cursor when the button is pressed.  We want\n",
       "     * to control all of the cursor setting manually through the\n",
       "     * 'cursor' event from matplotlib */\n",
       "    event.preventDefault();\n",
       "    return false;\n",
       "}\n",
       "\n",
       "mpl.figure.prototype._key_event_extra = function(event, name) {\n",
       "    // Handle any extra behaviour associated with a key event\n",
       "}\n",
       "\n",
       "mpl.figure.prototype.key_event = function(event, name) {\n",
       "\n",
       "    // Prevent repeat events\n",
       "    if (name == 'key_press')\n",
       "    {\n",
       "        if (event.which === this._key)\n",
       "            return;\n",
       "        else\n",
       "            this._key = event.which;\n",
       "    }\n",
       "    if (name == 'key_release')\n",
       "        this._key = null;\n",
       "\n",
       "    var value = '';\n",
       "    if (event.ctrlKey && event.which != 17)\n",
       "        value += \"ctrl+\";\n",
       "    if (event.altKey && event.which != 18)\n",
       "        value += \"alt+\";\n",
       "    if (event.shiftKey && event.which != 16)\n",
       "        value += \"shift+\";\n",
       "\n",
       "    value += 'k';\n",
       "    value += event.which.toString();\n",
       "\n",
       "    this._key_event_extra(event, name);\n",
       "\n",
       "    this.send_message(name, {key: value,\n",
       "                             guiEvent: simpleKeys(event)});\n",
       "    return false;\n",
       "}\n",
       "\n",
       "mpl.figure.prototype.toolbar_button_onclick = function(name) {\n",
       "    if (name == 'download') {\n",
       "        this.handle_save(this, null);\n",
       "    } else {\n",
       "        this.send_message(\"toolbar_button\", {name: name});\n",
       "    }\n",
       "};\n",
       "\n",
       "mpl.figure.prototype.toolbar_button_onmouseover = function(tooltip) {\n",
       "    this.message.textContent = tooltip;\n",
       "};\n",
       "mpl.toolbar_items = [[\"Home\", \"Reset original view\", \"fa fa-home icon-home\", \"home\"], [\"Back\", \"Back to previous view\", \"fa fa-arrow-left icon-arrow-left\", \"back\"], [\"Forward\", \"Forward to next view\", \"fa fa-arrow-right icon-arrow-right\", \"forward\"], [\"\", \"\", \"\", \"\"], [\"Pan\", \"Pan axes with left mouse, zoom with right\", \"fa fa-arrows icon-move\", \"pan\"], [\"Zoom\", \"Zoom to rectangle\", \"fa fa-square-o icon-check-empty\", \"zoom\"], [\"\", \"\", \"\", \"\"], [\"Download\", \"Download plot\", \"fa fa-floppy-o icon-save\", \"download\"]];\n",
       "\n",
       "mpl.extensions = [\"eps\", \"jpeg\", \"pdf\", \"png\", \"ps\", \"raw\", \"svg\", \"tif\"];\n",
       "\n",
       "mpl.default_extension = \"png\";var comm_websocket_adapter = function(comm) {\n",
       "    // Create a \"websocket\"-like object which calls the given IPython comm\n",
       "    // object with the appropriate methods. Currently this is a non binary\n",
       "    // socket, so there is still some room for performance tuning.\n",
       "    var ws = {};\n",
       "\n",
       "    ws.close = function() {\n",
       "        comm.close()\n",
       "    };\n",
       "    ws.send = function(m) {\n",
       "        //console.log('sending', m);\n",
       "        comm.send(m);\n",
       "    };\n",
       "    // Register the callback with on_msg.\n",
       "    comm.on_msg(function(msg) {\n",
       "        //console.log('receiving', msg['content']['data'], msg);\n",
       "        // Pass the mpl event to the overridden (by mpl) onmessage function.\n",
       "        ws.onmessage(msg['content']['data'])\n",
       "    });\n",
       "    return ws;\n",
       "}\n",
       "\n",
       "mpl.mpl_figure_comm = function(comm, msg) {\n",
       "    // This is the function which gets called when the mpl process\n",
       "    // starts-up an IPython Comm through the \"matplotlib\" channel.\n",
       "\n",
       "    var id = msg.content.data.id;\n",
       "    // Get hold of the div created by the display call when the Comm\n",
       "    // socket was opened in Python.\n",
       "    var element = $(\"#\" + id);\n",
       "    var ws_proxy = comm_websocket_adapter(comm)\n",
       "\n",
       "    function ondownload(figure, format) {\n",
       "        window.open(figure.imageObj.src);\n",
       "    }\n",
       "\n",
       "    var fig = new mpl.figure(id, ws_proxy,\n",
       "                           ondownload,\n",
       "                           element.get(0));\n",
       "\n",
       "    // Call onopen now - mpl needs it, as it is assuming we've passed it a real\n",
       "    // web socket which is closed, not our websocket->open comm proxy.\n",
       "    ws_proxy.onopen();\n",
       "\n",
       "    fig.parent_element = element.get(0);\n",
       "    fig.cell_info = mpl.find_output_cell(\"<div id='\" + id + \"'></div>\");\n",
       "    if (!fig.cell_info) {\n",
       "        console.error(\"Failed to find cell for figure\", id, fig);\n",
       "        return;\n",
       "    }\n",
       "\n",
       "    var output_index = fig.cell_info[2]\n",
       "    var cell = fig.cell_info[0];\n",
       "\n",
       "};\n",
       "\n",
       "mpl.figure.prototype.handle_close = function(fig, msg) {\n",
       "    var width = fig.canvas.width/mpl.ratio\n",
       "    fig.root.unbind('remove')\n",
       "\n",
       "    // Update the output cell to use the data from the current canvas.\n",
       "    fig.push_to_output();\n",
       "    var dataURL = fig.canvas.toDataURL();\n",
       "    // Re-enable the keyboard manager in IPython - without this line, in FF,\n",
       "    // the notebook keyboard shortcuts fail.\n",
       "    IPython.keyboard_manager.enable()\n",
       "    $(fig.parent_element).html('<img src=\"' + dataURL + '\" width=\"' + width + '\">');\n",
       "    fig.close_ws(fig, msg);\n",
       "}\n",
       "\n",
       "mpl.figure.prototype.close_ws = function(fig, msg){\n",
       "    fig.send_message('closing', msg);\n",
       "    // fig.ws.close()\n",
       "}\n",
       "\n",
       "mpl.figure.prototype.push_to_output = function(remove_interactive) {\n",
       "    // Turn the data on the canvas into data in the output cell.\n",
       "    var width = this.canvas.width/mpl.ratio\n",
       "    var dataURL = this.canvas.toDataURL();\n",
       "    this.cell_info[1]['text/html'] = '<img src=\"' + dataURL + '\" width=\"' + width + '\">';\n",
       "}\n",
       "\n",
       "mpl.figure.prototype.updated_canvas_event = function() {\n",
       "    // Tell IPython that the notebook contents must change.\n",
       "    IPython.notebook.set_dirty(true);\n",
       "    this.send_message(\"ack\", {});\n",
       "    var fig = this;\n",
       "    // Wait a second, then push the new image to the DOM so\n",
       "    // that it is saved nicely (might be nice to debounce this).\n",
       "    setTimeout(function () { fig.push_to_output() }, 1000);\n",
       "}\n",
       "\n",
       "mpl.figure.prototype._init_toolbar = function() {\n",
       "    var fig = this;\n",
       "\n",
       "    var nav_element = $('<div/>');\n",
       "    nav_element.attr('style', 'width: 100%');\n",
       "    this.root.append(nav_element);\n",
       "\n",
       "    // Define a callback function for later on.\n",
       "    function toolbar_event(event) {\n",
       "        return fig.toolbar_button_onclick(event['data']);\n",
       "    }\n",
       "    function toolbar_mouse_event(event) {\n",
       "        return fig.toolbar_button_onmouseover(event['data']);\n",
       "    }\n",
       "\n",
       "    for(var toolbar_ind in mpl.toolbar_items){\n",
       "        var name = mpl.toolbar_items[toolbar_ind][0];\n",
       "        var tooltip = mpl.toolbar_items[toolbar_ind][1];\n",
       "        var image = mpl.toolbar_items[toolbar_ind][2];\n",
       "        var method_name = mpl.toolbar_items[toolbar_ind][3];\n",
       "\n",
       "        if (!name) { continue; };\n",
       "\n",
       "        var button = $('<button class=\"btn btn-default\" href=\"#\" title=\"' + name + '\"><i class=\"fa ' + image + ' fa-lg\"></i></button>');\n",
       "        button.click(method_name, toolbar_event);\n",
       "        button.mouseover(tooltip, toolbar_mouse_event);\n",
       "        nav_element.append(button);\n",
       "    }\n",
       "\n",
       "    // Add the status bar.\n",
       "    var status_bar = $('<span class=\"mpl-message\" style=\"text-align:right; float: right;\"/>');\n",
       "    nav_element.append(status_bar);\n",
       "    this.message = status_bar[0];\n",
       "\n",
       "    // Add the close button to the window.\n",
       "    var buttongrp = $('<div class=\"btn-group inline pull-right\"></div>');\n",
       "    var button = $('<button class=\"btn btn-mini btn-primary\" href=\"#\" title=\"Stop Interaction\"><i class=\"fa fa-power-off icon-remove icon-large\"></i></button>');\n",
       "    button.click(function (evt) { fig.handle_close(fig, {}); } );\n",
       "    button.mouseover('Stop Interaction', toolbar_mouse_event);\n",
       "    buttongrp.append(button);\n",
       "    var titlebar = this.root.find($('.ui-dialog-titlebar'));\n",
       "    titlebar.prepend(buttongrp);\n",
       "}\n",
       "\n",
       "mpl.figure.prototype._root_extra_style = function(el){\n",
       "    var fig = this\n",
       "    el.on(\"remove\", function(){\n",
       "\tfig.close_ws(fig, {});\n",
       "    });\n",
       "}\n",
       "\n",
       "mpl.figure.prototype._canvas_extra_style = function(el){\n",
       "    // this is important to make the div 'focusable\n",
       "    el.attr('tabindex', 0)\n",
       "    // reach out to IPython and tell the keyboard manager to turn it's self\n",
       "    // off when our div gets focus\n",
       "\n",
       "    // location in version 3\n",
       "    if (IPython.notebook.keyboard_manager) {\n",
       "        IPython.notebook.keyboard_manager.register_events(el);\n",
       "    }\n",
       "    else {\n",
       "        // location in version 2\n",
       "        IPython.keyboard_manager.register_events(el);\n",
       "    }\n",
       "\n",
       "}\n",
       "\n",
       "mpl.figure.prototype._key_event_extra = function(event, name) {\n",
       "    var manager = IPython.notebook.keyboard_manager;\n",
       "    if (!manager)\n",
       "        manager = IPython.keyboard_manager;\n",
       "\n",
       "    // Check for shift+enter\n",
       "    if (event.shiftKey && event.which == 13) {\n",
       "        this.canvas_div.blur();\n",
       "        // select the cell after this one\n",
       "        var index = IPython.notebook.find_cell_index(this.cell_info[0]);\n",
       "        IPython.notebook.select(index + 1);\n",
       "    }\n",
       "}\n",
       "\n",
       "mpl.figure.prototype.handle_save = function(fig, msg) {\n",
       "    fig.ondownload(fig, null);\n",
       "}\n",
       "\n",
       "\n",
       "mpl.find_output_cell = function(html_output) {\n",
       "    // Return the cell and output element which can be found *uniquely* in the notebook.\n",
       "    // Note - this is a bit hacky, but it is done because the \"notebook_saving.Notebook\"\n",
       "    // IPython event is triggered only after the cells have been serialised, which for\n",
       "    // our purposes (turning an active figure into a static one), is too late.\n",
       "    var cells = IPython.notebook.get_cells();\n",
       "    var ncells = cells.length;\n",
       "    for (var i=0; i<ncells; i++) {\n",
       "        var cell = cells[i];\n",
       "        if (cell.cell_type === 'code'){\n",
       "            for (var j=0; j<cell.output_area.outputs.length; j++) {\n",
       "                var data = cell.output_area.outputs[j];\n",
       "                if (data.data) {\n",
       "                    // IPython >= 3 moved mimebundle to data attribute of output\n",
       "                    data = data.data;\n",
       "                }\n",
       "                if (data['text/html'] == html_output) {\n",
       "                    return [cell, data, j];\n",
       "                }\n",
       "            }\n",
       "        }\n",
       "    }\n",
       "}\n",
       "\n",
       "// Register the function which deals with the matplotlib target/channel.\n",
       "// The kernel may be null if the page has been refreshed.\n",
       "if (IPython.notebook.kernel != null) {\n",
       "    IPython.notebook.kernel.comm_manager.register_target('matplotlib', mpl.mpl_figure_comm);\n",
       "}\n"
      ],
      "text/plain": [
       "<IPython.core.display.Javascript object>"
      ]
     },
     "metadata": {},
     "output_type": "display_data"
    },
    {
     "data": {
      "text/html": [
       "<img src=\"data:image/png;base64,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\" width=\"208.8888944225548\">"
      ],
      "text/plain": [
       "<IPython.core.display.HTML object>"
      ]
     },
     "metadata": {},
     "output_type": "display_data"
    },
    {
     "name": "stderr",
     "output_type": "stream",
     "text": [
      "/lus/grand/projects/DLHMC/tf_master-2021-03-02/lib/python3.8/site-packages/seaborn/axisgrid.py:64: UserWarning: Tight layout not applied. tight_layout cannot make axes height small enough to accommodate all axes decorations\n",
      "  self.fig.tight_layout(*args, **kwargs)\n",
      "/lus/grand/projects/DLHMC/tf_master-2021-03-02/lib/python3.8/site-packages/seaborn/axisgrid.py:64: UserWarning: Tight layout not applied. tight_layout cannot make axes height small enough to accommodate all axes decorations\n",
      "  self.fig.tight_layout(*args, **kwargs)\n",
      "/lus/grand/projects/DLHMC/tf_master-2021-03-02/lib/python3.8/site-packages/seaborn/axisgrid.py:64: UserWarning: Tight layout not applied. tight_layout cannot make axes height small enough to accommodate all axes decorations\n",
      "  self.fig.tight_layout(*args, **kwargs)\n",
      "<ipython-input-79-e5020c6f38b0>:109: UserWarning: Tight layout not applied. tight_layout cannot make axes height small enough to accommodate all axes decorations\n",
      "  _ = plt.tight_layout()\n"
     ]
    },
    {
     "data": {
      "text/html": [
       "<pre style=\"white-space:pre;overflow-x:auto;line-height:normal;font-family:Menlo,'DejaVu Sans Mono',consolas,'Courier New',monospace\"><span style=\"color: #7fbfbf; text-decoration-color: #7fbfbf\">[22:02:41]  </span>Saving figure to: <span style=\"color: #800080; text-decoration-color: #800080\">/lus/grand/projects/DLHMC/l2hmc-qcd/plots/ridgeplots/2021-04-12/</span><span style=\"color: #ff00ff; text-decoration-color: #ff00ff\">sinQf_2202.pdf</span>                                                                                                                                    \n",
       "</pre>\n"
      ],
      "text/plain": [
       "<rich.jupyter.JupyterRenderable at 0x7fd737849f40>"
      ]
     },
     "metadata": {},
     "output_type": "display_data"
    }
   ],
   "source": [
    "#label_str = r\"$\\langle \\varphi_{P} - \\varphi_{P}^{*}\\rangle$\"\n",
    "label_str = r\"$\\mathcal{Q}_{\\mathbb{R}}$\"\n",
    "outfile = os.path.join(outdir, f'sinQf_{timestr}.pdf')\n",
    "\n",
    "plt.style.use('default')\n",
    "sns.set_context('paper', font)\n",
    "sns.set_palette('bright')\n",
    "sns.set_style('whitegrid')\n",
    "plt.rc('text', usetex=True)\n",
    "#plt.rcParams.update(rc_context)\n",
    "\n",
    "sns.set_palette('bright')\n",
    "sns.set_context('talk')#, font_scale=0.85)#)#, font_scale=1.25)\n",
    "cmap = plt.get_cmap('viridis_r')\n",
    "#color = '#0182CA'\n",
    "color = '#1AC938'\n",
    "sns.set_style('whitegrid')#\n",
    "with mpl.rc_context({\n",
    "    #'font.family': 'lmodern',\n",
    "    'font.size': 12.,  # 9.6000000000000000001\n",
    "    #'figure.figsize': (4, 3),\n",
    "    'axes.labelsize': 12.,\n",
    "    #'legend.fontsize': 8.,\n",
    "    #'legend.labelspacing': 0.2, # 0.5\n",
    "    #'legend.handletextpad': 0.3,  # 0.8\n",
    "    'text.usetex': True,\n",
    "    'text.latex.preamble': (            # LaTeX preamble\n",
    "        #r'\\usepackage{lmodern}'\n",
    "        r'\\usepackage{amsmath}'\n",
    "        r'\\usepackage{amssymb}'\n",
    "        r'\\usepackage{microtype}'\n",
    "        r'\\usepackage{bm}'\n",
    "        r'\\usepackage{bbm}'\n",
    "    )\n",
    "}):\n",
    "    sinQf_data_, (fig, ax) = make_ridgeplots1(sinQf_dataset, label_str=label_str, cmap='viridis_r',\n",
    "                                              num_chains=16, num_pts=1000, therm_frac=0.5,\n",
    "                                              aspect=7, height=0.3, hspace=-0.725, out_dir=outdir,#, labelsize='small',\n",
    "                                              usetex=True, ylabels=True)#, xticks=((-4, 4)))"
   ]
  },
  {
   "cell_type": "code",
   "execution_count": 81,
   "metadata": {
    "ExecuteTime": {
     "end_time": "2021-04-12T22:03:13.860097Z",
     "start_time": "2021-04-12T22:02:42.775676Z"
    },
    "scrolled": false
   },
   "outputs": [
    {
     "data": {
      "text/html": [
       "<pre style=\"white-space:pre;overflow-x:auto;line-height:normal;font-family:Menlo,'DejaVu Sans Mono',consolas,'Courier New',monospace\"><span style=\"color: #7fbfbf; text-decoration-color: #7fbfbf\">[22:02:42] </span>x.shape: <span style=\"font-weight: bold\">(</span><span style=\"color: #ff79ff; text-decoration-color: #ff79ff\">1024</span>, <span style=\"color: #ff79ff; text-decoration-color: #ff79ff\">25000</span><span style=\"font-weight: bold\">)</span>                                                                                                                                                                                                               \n",
       "</pre>\n"
      ],
      "text/plain": [
       "<rich.jupyter.JupyterRenderable at 0x7fd7599c4310>"
      ]
     },
     "metadata": {},
     "output_type": "display_data"
    },
    {
     "data": {
      "text/html": [
       "<pre style=\"white-space:pre;overflow-x:auto;line-height:normal;font-family:Menlo,'DejaVu Sans Mono',consolas,'Courier New',monospace\"><span style=\"color: #7fbfbf; text-decoration-color: #7fbfbf\">[22:02:43] </span>x.shape: <span style=\"font-weight: bold\">(</span><span style=\"color: #ff79ff; text-decoration-color: #ff79ff\">1024</span>, <span style=\"color: #ff79ff; text-decoration-color: #ff79ff\">25000</span><span style=\"font-weight: bold\">)</span>                                                                                                                                                                                                               \n",
       "</pre>\n"
      ],
      "text/plain": [
       "<rich.jupyter.JupyterRenderable at 0x7fd7599c4c10>"
      ]
     },
     "metadata": {},
     "output_type": "display_data"
    },
    {
     "data": {
      "text/html": [
       "<pre style=\"white-space:pre;overflow-x:auto;line-height:normal;font-family:Menlo,'DejaVu Sans Mono',consolas,'Courier New',monospace\"><span style=\"color: #7fbfbf; text-decoration-color: #7fbfbf\">[22:02:44] </span>x.shape: <span style=\"font-weight: bold\">(</span><span style=\"color: #ff79ff; text-decoration-color: #ff79ff\">1024</span>, <span style=\"color: #ff79ff; text-decoration-color: #ff79ff\">25000</span><span style=\"font-weight: bold\">)</span>                                                                                                                                                                                                               \n",
       "</pre>\n"
      ],
      "text/plain": [
       "<rich.jupyter.JupyterRenderable at 0x7fd7599c4f70>"
      ]
     },
     "metadata": {},
     "output_type": "display_data"
    },
    {
     "data": {
      "text/html": [
       "<pre style=\"white-space:pre;overflow-x:auto;line-height:normal;font-family:Menlo,'DejaVu Sans Mono',consolas,'Courier New',monospace\"><span style=\"color: #7fbfbf; text-decoration-color: #7fbfbf\">[22:02:46] </span>x.shape: <span style=\"font-weight: bold\">(</span><span style=\"color: #ff79ff; text-decoration-color: #ff79ff\">1024</span>, <span style=\"color: #ff79ff; text-decoration-color: #ff79ff\">25000</span><span style=\"font-weight: bold\">)</span>                                                                                                                                                                                                               \n",
       "</pre>\n"
      ],
      "text/plain": [
       "<rich.jupyter.JupyterRenderable at 0x7fd7599c4130>"
      ]
     },
     "metadata": {},
     "output_type": "display_data"
    },
    {
     "data": {
      "text/html": [
       "<pre style=\"white-space:pre;overflow-x:auto;line-height:normal;font-family:Menlo,'DejaVu Sans Mono',consolas,'Courier New',monospace\"><span style=\"color: #7fbfbf; text-decoration-color: #7fbfbf\">[22:02:47] </span>x.shape: <span style=\"font-weight: bold\">(</span><span style=\"color: #ff79ff; text-decoration-color: #ff79ff\">1024</span>, <span style=\"color: #ff79ff; text-decoration-color: #ff79ff\">25000</span><span style=\"font-weight: bold\">)</span>                                                                                                                                                                                                               \n",
       "</pre>\n"
      ],
      "text/plain": [
       "<rich.jupyter.JupyterRenderable at 0x7fd7599c4790>"
      ]
     },
     "metadata": {},
     "output_type": "display_data"
    },
    {
     "data": {
      "text/html": [
       "<pre style=\"white-space:pre;overflow-x:auto;line-height:normal;font-family:Menlo,'DejaVu Sans Mono',consolas,'Courier New',monospace\"><span style=\"color: #7fbfbf; text-decoration-color: #7fbfbf\">[22:02:48] </span>x.shape: <span style=\"font-weight: bold\">(</span><span style=\"color: #ff79ff; text-decoration-color: #ff79ff\">1024</span>, <span style=\"color: #ff79ff; text-decoration-color: #ff79ff\">25000</span><span style=\"font-weight: bold\">)</span>                                                                                                                                                                                                               \n",
       "</pre>\n"
      ],
      "text/plain": [
       "<rich.jupyter.JupyterRenderable at 0x7fd7599c4340>"
      ]
     },
     "metadata": {},
     "output_type": "display_data"
    },
    {
     "data": {
      "text/html": [
       "<pre style=\"white-space:pre;overflow-x:auto;line-height:normal;font-family:Menlo,'DejaVu Sans Mono',consolas,'Courier New',monospace\"><span style=\"color: #7fbfbf; text-decoration-color: #7fbfbf\">[22:02:49] </span>x.shape: <span style=\"font-weight: bold\">(</span><span style=\"color: #ff79ff; text-decoration-color: #ff79ff\">1024</span>, <span style=\"color: #ff79ff; text-decoration-color: #ff79ff\">25000</span><span style=\"font-weight: bold\">)</span>                                                                                                                                                                                                               \n",
       "</pre>\n"
      ],
      "text/plain": [
       "<rich.jupyter.JupyterRenderable at 0x7fd7599c4640>"
      ]
     },
     "metadata": {},
     "output_type": "display_data"
    },
    {
     "data": {
      "text/html": [
       "<pre style=\"white-space:pre;overflow-x:auto;line-height:normal;font-family:Menlo,'DejaVu Sans Mono',consolas,'Courier New',monospace\"><span style=\"color: #7fbfbf; text-decoration-color: #7fbfbf\">[22:02:50] </span>x.shape: <span style=\"font-weight: bold\">(</span><span style=\"color: #ff79ff; text-decoration-color: #ff79ff\">1024</span>, <span style=\"color: #ff79ff; text-decoration-color: #ff79ff\">25000</span><span style=\"font-weight: bold\">)</span>                                                                                                                                                                                                               \n",
       "</pre>\n"
      ],
      "text/plain": [
       "<rich.jupyter.JupyterRenderable at 0x7fd7599c4070>"
      ]
     },
     "metadata": {},
     "output_type": "display_data"
    },
    {
     "data": {
      "text/html": [
       "<pre style=\"white-space:pre;overflow-x:auto;line-height:normal;font-family:Menlo,'DejaVu Sans Mono',consolas,'Courier New',monospace\"><span style=\"color: #7fbfbf; text-decoration-color: #7fbfbf\">[22:02:51] </span>x.shape: <span style=\"font-weight: bold\">(</span><span style=\"color: #ff79ff; text-decoration-color: #ff79ff\">1024</span>, <span style=\"color: #ff79ff; text-decoration-color: #ff79ff\">25000</span><span style=\"font-weight: bold\">)</span>                                                                                                                                                                                                               \n",
       "</pre>\n"
      ],
      "text/plain": [
       "<rich.jupyter.JupyterRenderable at 0x7fd7599c4910>"
      ]
     },
     "metadata": {},
     "output_type": "display_data"
    },
    {
     "data": {
      "text/html": [
       "<pre style=\"white-space:pre;overflow-x:auto;line-height:normal;font-family:Menlo,'DejaVu Sans Mono',consolas,'Courier New',monospace\"><span style=\"color: #7fbfbf; text-decoration-color: #7fbfbf\">[22:02:52] </span>x.shape: <span style=\"font-weight: bold\">(</span><span style=\"color: #ff79ff; text-decoration-color: #ff79ff\">1024</span>, <span style=\"color: #ff79ff; text-decoration-color: #ff79ff\">25000</span><span style=\"font-weight: bold\">)</span>                                                                                                                                                                                                               \n",
       "</pre>\n"
      ],
      "text/plain": [
       "<rich.jupyter.JupyterRenderable at 0x7fd7599c4a30>"
      ]
     },
     "metadata": {},
     "output_type": "display_data"
    },
    {
     "data": {
      "text/html": [
       "<pre style=\"white-space:pre;overflow-x:auto;line-height:normal;font-family:Menlo,'DejaVu Sans Mono',consolas,'Courier New',monospace\"><span style=\"color: #7fbfbf; text-decoration-color: #7fbfbf\">[22:02:53] </span>x.shape: <span style=\"font-weight: bold\">(</span><span style=\"color: #ff79ff; text-decoration-color: #ff79ff\">1024</span>, <span style=\"color: #ff79ff; text-decoration-color: #ff79ff\">25000</span><span style=\"font-weight: bold\">)</span>                                                                                                                                                                                                               \n",
       "</pre>\n"
      ],
      "text/plain": [
       "<rich.jupyter.JupyterRenderable at 0x7fd7599c47f0>"
      ]
     },
     "metadata": {},
     "output_type": "display_data"
    },
    {
     "data": {
      "text/html": [
       "<pre style=\"white-space:pre;overflow-x:auto;line-height:normal;font-family:Menlo,'DejaVu Sans Mono',consolas,'Courier New',monospace\"><span style=\"color: #7fbfbf; text-decoration-color: #7fbfbf\">[22:02:54] </span>x.shape: <span style=\"font-weight: bold\">(</span><span style=\"color: #ff79ff; text-decoration-color: #ff79ff\">1024</span>, <span style=\"color: #ff79ff; text-decoration-color: #ff79ff\">25000</span><span style=\"font-weight: bold\">)</span>                                                                                                                                                                                                               \n",
       "</pre>\n"
      ],
      "text/plain": [
       "<rich.jupyter.JupyterRenderable at 0x7fd7599c48e0>"
      ]
     },
     "metadata": {},
     "output_type": "display_data"
    },
    {
     "data": {
      "application/javascript": [
       "/* Put everything inside the global mpl namespace */\n",
       "window.mpl = {};\n",
       "\n",
       "\n",
       "mpl.get_websocket_type = function() {\n",
       "    if (typeof(WebSocket) !== 'undefined') {\n",
       "        return WebSocket;\n",
       "    } else if (typeof(MozWebSocket) !== 'undefined') {\n",
       "        return MozWebSocket;\n",
       "    } else {\n",
       "        alert('Your browser does not have WebSocket support. ' +\n",
       "              'Please try Chrome, Safari or Firefox ≥ 6. ' +\n",
       "              'Firefox 4 and 5 are also supported but you ' +\n",
       "              'have to enable WebSockets in about:config.');\n",
       "    };\n",
       "}\n",
       "\n",
       "mpl.figure = function(figure_id, websocket, ondownload, parent_element) {\n",
       "    this.id = figure_id;\n",
       "\n",
       "    this.ws = websocket;\n",
       "\n",
       "    this.supports_binary = (this.ws.binaryType != undefined);\n",
       "\n",
       "    if (!this.supports_binary) {\n",
       "        var warnings = document.getElementById(\"mpl-warnings\");\n",
       "        if (warnings) {\n",
       "            warnings.style.display = 'block';\n",
       "            warnings.textContent = (\n",
       "                \"This browser does not support binary websocket messages. \" +\n",
       "                    \"Performance may be slow.\");\n",
       "        }\n",
       "    }\n",
       "\n",
       "    this.imageObj = new Image();\n",
       "\n",
       "    this.context = undefined;\n",
       "    this.message = undefined;\n",
       "    this.canvas = undefined;\n",
       "    this.rubberband_canvas = undefined;\n",
       "    this.rubberband_context = undefined;\n",
       "    this.format_dropdown = undefined;\n",
       "\n",
       "    this.image_mode = 'full';\n",
       "\n",
       "    this.root = $('<div/>');\n",
       "    this._root_extra_style(this.root)\n",
       "    this.root.attr('style', 'display: inline-block');\n",
       "\n",
       "    $(parent_element).append(this.root);\n",
       "\n",
       "    this._init_header(this);\n",
       "    this._init_canvas(this);\n",
       "    this._init_toolbar(this);\n",
       "\n",
       "    var fig = this;\n",
       "\n",
       "    this.waiting = false;\n",
       "\n",
       "    this.ws.onopen =  function () {\n",
       "            fig.send_message(\"supports_binary\", {value: fig.supports_binary});\n",
       "            fig.send_message(\"send_image_mode\", {});\n",
       "            if (mpl.ratio != 1) {\n",
       "                fig.send_message(\"set_dpi_ratio\", {'dpi_ratio': mpl.ratio});\n",
       "            }\n",
       "            fig.send_message(\"refresh\", {});\n",
       "        }\n",
       "\n",
       "    this.imageObj.onload = function() {\n",
       "            if (fig.image_mode == 'full') {\n",
       "                // Full images could contain transparency (where diff images\n",
       "                // almost always do), so we need to clear the canvas so that\n",
       "                // there is no ghosting.\n",
       "                fig.context.clearRect(0, 0, fig.canvas.width, fig.canvas.height);\n",
       "            }\n",
       "            fig.context.drawImage(fig.imageObj, 0, 0);\n",
       "        };\n",
       "\n",
       "    this.imageObj.onunload = function() {\n",
       "        fig.ws.close();\n",
       "    }\n",
       "\n",
       "    this.ws.onmessage = this._make_on_message_function(this);\n",
       "\n",
       "    this.ondownload = ondownload;\n",
       "}\n",
       "\n",
       "mpl.figure.prototype._init_header = function() {\n",
       "    var titlebar = $(\n",
       "        '<div class=\"ui-dialog-titlebar ui-widget-header ui-corner-all ' +\n",
       "        'ui-helper-clearfix\"/>');\n",
       "    var titletext = $(\n",
       "        '<div class=\"ui-dialog-title\" style=\"width: 100%; ' +\n",
       "        'text-align: center; padding: 3px;\"/>');\n",
       "    titlebar.append(titletext)\n",
       "    this.root.append(titlebar);\n",
       "    this.header = titletext[0];\n",
       "}\n",
       "\n",
       "\n",
       "\n",
       "mpl.figure.prototype._canvas_extra_style = function(canvas_div) {\n",
       "\n",
       "}\n",
       "\n",
       "\n",
       "mpl.figure.prototype._root_extra_style = function(canvas_div) {\n",
       "\n",
       "}\n",
       "\n",
       "mpl.figure.prototype._init_canvas = function() {\n",
       "    var fig = this;\n",
       "\n",
       "    var canvas_div = $('<div/>');\n",
       "\n",
       "    canvas_div.attr('style', 'position: relative; clear: both; outline: 0');\n",
       "\n",
       "    function canvas_keyboard_event(event) {\n",
       "        return fig.key_event(event, event['data']);\n",
       "    }\n",
       "\n",
       "    canvas_div.keydown('key_press', canvas_keyboard_event);\n",
       "    canvas_div.keyup('key_release', canvas_keyboard_event);\n",
       "    this.canvas_div = canvas_div\n",
       "    this._canvas_extra_style(canvas_div)\n",
       "    this.root.append(canvas_div);\n",
       "\n",
       "    var canvas = $('<canvas/>');\n",
       "    canvas.addClass('mpl-canvas');\n",
       "    canvas.attr('style', \"left: 0; top: 0; z-index: 0; outline: 0\")\n",
       "\n",
       "    this.canvas = canvas[0];\n",
       "    this.context = canvas[0].getContext(\"2d\");\n",
       "\n",
       "    var backingStore = this.context.backingStorePixelRatio ||\n",
       "\tthis.context.webkitBackingStorePixelRatio ||\n",
       "\tthis.context.mozBackingStorePixelRatio ||\n",
       "\tthis.context.msBackingStorePixelRatio ||\n",
       "\tthis.context.oBackingStorePixelRatio ||\n",
       "\tthis.context.backingStorePixelRatio || 1;\n",
       "\n",
       "    mpl.ratio = (window.devicePixelRatio || 1) / backingStore;\n",
       "\n",
       "    var rubberband = $('<canvas/>');\n",
       "    rubberband.attr('style', \"position: absolute; left: 0; top: 0; z-index: 1;\")\n",
       "\n",
       "    var pass_mouse_events = true;\n",
       "\n",
       "    canvas_div.resizable({\n",
       "        start: function(event, ui) {\n",
       "            pass_mouse_events = false;\n",
       "        },\n",
       "        resize: function(event, ui) {\n",
       "            fig.request_resize(ui.size.width, ui.size.height);\n",
       "        },\n",
       "        stop: function(event, ui) {\n",
       "            pass_mouse_events = true;\n",
       "            fig.request_resize(ui.size.width, ui.size.height);\n",
       "        },\n",
       "    });\n",
       "\n",
       "    function mouse_event_fn(event) {\n",
       "        if (pass_mouse_events)\n",
       "            return fig.mouse_event(event, event['data']);\n",
       "    }\n",
       "\n",
       "    rubberband.mousedown('button_press', mouse_event_fn);\n",
       "    rubberband.mouseup('button_release', mouse_event_fn);\n",
       "    // Throttle sequential mouse events to 1 every 20ms.\n",
       "    rubberband.mousemove('motion_notify', mouse_event_fn);\n",
       "\n",
       "    rubberband.mouseenter('figure_enter', mouse_event_fn);\n",
       "    rubberband.mouseleave('figure_leave', mouse_event_fn);\n",
       "\n",
       "    canvas_div.on(\"wheel\", function (event) {\n",
       "        event = event.originalEvent;\n",
       "        event['data'] = 'scroll'\n",
       "        if (event.deltaY < 0) {\n",
       "            event.step = 1;\n",
       "        } else {\n",
       "            event.step = -1;\n",
       "        }\n",
       "        mouse_event_fn(event);\n",
       "    });\n",
       "\n",
       "    canvas_div.append(canvas);\n",
       "    canvas_div.append(rubberband);\n",
       "\n",
       "    this.rubberband = rubberband;\n",
       "    this.rubberband_canvas = rubberband[0];\n",
       "    this.rubberband_context = rubberband[0].getContext(\"2d\");\n",
       "    this.rubberband_context.strokeStyle = \"#000000\";\n",
       "\n",
       "    this._resize_canvas = function(width, height) {\n",
       "        // Keep the size of the canvas, canvas container, and rubber band\n",
       "        // canvas in synch.\n",
       "        canvas_div.css('width', width)\n",
       "        canvas_div.css('height', height)\n",
       "\n",
       "        canvas.attr('width', width * mpl.ratio);\n",
       "        canvas.attr('height', height * mpl.ratio);\n",
       "        canvas.attr('style', 'width: ' + width + 'px; height: ' + height + 'px;');\n",
       "\n",
       "        rubberband.attr('width', width);\n",
       "        rubberband.attr('height', height);\n",
       "    }\n",
       "\n",
       "    // Set the figure to an initial 600x600px, this will subsequently be updated\n",
       "    // upon first draw.\n",
       "    this._resize_canvas(600, 600);\n",
       "\n",
       "    // Disable right mouse context menu.\n",
       "    $(this.rubberband_canvas).bind(\"contextmenu\",function(e){\n",
       "        return false;\n",
       "    });\n",
       "\n",
       "    function set_focus () {\n",
       "        canvas.focus();\n",
       "        canvas_div.focus();\n",
       "    }\n",
       "\n",
       "    window.setTimeout(set_focus, 100);\n",
       "}\n",
       "\n",
       "mpl.figure.prototype._init_toolbar = function() {\n",
       "    var fig = this;\n",
       "\n",
       "    var nav_element = $('<div/>');\n",
       "    nav_element.attr('style', 'width: 100%');\n",
       "    this.root.append(nav_element);\n",
       "\n",
       "    // Define a callback function for later on.\n",
       "    function toolbar_event(event) {\n",
       "        return fig.toolbar_button_onclick(event['data']);\n",
       "    }\n",
       "    function toolbar_mouse_event(event) {\n",
       "        return fig.toolbar_button_onmouseover(event['data']);\n",
       "    }\n",
       "\n",
       "    for(var toolbar_ind in mpl.toolbar_items) {\n",
       "        var name = mpl.toolbar_items[toolbar_ind][0];\n",
       "        var tooltip = mpl.toolbar_items[toolbar_ind][1];\n",
       "        var image = mpl.toolbar_items[toolbar_ind][2];\n",
       "        var method_name = mpl.toolbar_items[toolbar_ind][3];\n",
       "\n",
       "        if (!name) {\n",
       "            // put a spacer in here.\n",
       "            continue;\n",
       "        }\n",
       "        var button = $('<button/>');\n",
       "        button.addClass('ui-button ui-widget ui-state-default ui-corner-all ' +\n",
       "                        'ui-button-icon-only');\n",
       "        button.attr('role', 'button');\n",
       "        button.attr('aria-disabled', 'false');\n",
       "        button.click(method_name, toolbar_event);\n",
       "        button.mouseover(tooltip, toolbar_mouse_event);\n",
       "\n",
       "        var icon_img = $('<span/>');\n",
       "        icon_img.addClass('ui-button-icon-primary ui-icon');\n",
       "        icon_img.addClass(image);\n",
       "        icon_img.addClass('ui-corner-all');\n",
       "\n",
       "        var tooltip_span = $('<span/>');\n",
       "        tooltip_span.addClass('ui-button-text');\n",
       "        tooltip_span.html(tooltip);\n",
       "\n",
       "        button.append(icon_img);\n",
       "        button.append(tooltip_span);\n",
       "\n",
       "        nav_element.append(button);\n",
       "    }\n",
       "\n",
       "    var fmt_picker_span = $('<span/>');\n",
       "\n",
       "    var fmt_picker = $('<select/>');\n",
       "    fmt_picker.addClass('mpl-toolbar-option ui-widget ui-widget-content');\n",
       "    fmt_picker_span.append(fmt_picker);\n",
       "    nav_element.append(fmt_picker_span);\n",
       "    this.format_dropdown = fmt_picker[0];\n",
       "\n",
       "    for (var ind in mpl.extensions) {\n",
       "        var fmt = mpl.extensions[ind];\n",
       "        var option = $(\n",
       "            '<option/>', {selected: fmt === mpl.default_extension}).html(fmt);\n",
       "        fmt_picker.append(option);\n",
       "    }\n",
       "\n",
       "    // Add hover states to the ui-buttons\n",
       "    $( \".ui-button\" ).hover(\n",
       "        function() { $(this).addClass(\"ui-state-hover\");},\n",
       "        function() { $(this).removeClass(\"ui-state-hover\");}\n",
       "    );\n",
       "\n",
       "    var status_bar = $('<span class=\"mpl-message\"/>');\n",
       "    nav_element.append(status_bar);\n",
       "    this.message = status_bar[0];\n",
       "}\n",
       "\n",
       "mpl.figure.prototype.request_resize = function(x_pixels, y_pixels) {\n",
       "    // Request matplotlib to resize the figure. Matplotlib will then trigger a resize in the client,\n",
       "    // which will in turn request a refresh of the image.\n",
       "    this.send_message('resize', {'width': x_pixels, 'height': y_pixels});\n",
       "}\n",
       "\n",
       "mpl.figure.prototype.send_message = function(type, properties) {\n",
       "    properties['type'] = type;\n",
       "    properties['figure_id'] = this.id;\n",
       "    this.ws.send(JSON.stringify(properties));\n",
       "}\n",
       "\n",
       "mpl.figure.prototype.send_draw_message = function() {\n",
       "    if (!this.waiting) {\n",
       "        this.waiting = true;\n",
       "        this.ws.send(JSON.stringify({type: \"draw\", figure_id: this.id}));\n",
       "    }\n",
       "}\n",
       "\n",
       "\n",
       "mpl.figure.prototype.handle_save = function(fig, msg) {\n",
       "    var format_dropdown = fig.format_dropdown;\n",
       "    var format = format_dropdown.options[format_dropdown.selectedIndex].value;\n",
       "    fig.ondownload(fig, format);\n",
       "}\n",
       "\n",
       "\n",
       "mpl.figure.prototype.handle_resize = function(fig, msg) {\n",
       "    var size = msg['size'];\n",
       "    if (size[0] != fig.canvas.width || size[1] != fig.canvas.height) {\n",
       "        fig._resize_canvas(size[0], size[1]);\n",
       "        fig.send_message(\"refresh\", {});\n",
       "    };\n",
       "}\n",
       "\n",
       "mpl.figure.prototype.handle_rubberband = function(fig, msg) {\n",
       "    var x0 = msg['x0'] / mpl.ratio;\n",
       "    var y0 = (fig.canvas.height - msg['y0']) / mpl.ratio;\n",
       "    var x1 = msg['x1'] / mpl.ratio;\n",
       "    var y1 = (fig.canvas.height - msg['y1']) / mpl.ratio;\n",
       "    x0 = Math.floor(x0) + 0.5;\n",
       "    y0 = Math.floor(y0) + 0.5;\n",
       "    x1 = Math.floor(x1) + 0.5;\n",
       "    y1 = Math.floor(y1) + 0.5;\n",
       "    var min_x = Math.min(x0, x1);\n",
       "    var min_y = Math.min(y0, y1);\n",
       "    var width = Math.abs(x1 - x0);\n",
       "    var height = Math.abs(y1 - y0);\n",
       "\n",
       "    fig.rubberband_context.clearRect(\n",
       "        0, 0, fig.canvas.width / mpl.ratio, fig.canvas.height / mpl.ratio);\n",
       "\n",
       "    fig.rubberband_context.strokeRect(min_x, min_y, width, height);\n",
       "}\n",
       "\n",
       "mpl.figure.prototype.handle_figure_label = function(fig, msg) {\n",
       "    // Updates the figure title.\n",
       "    fig.header.textContent = msg['label'];\n",
       "}\n",
       "\n",
       "mpl.figure.prototype.handle_cursor = function(fig, msg) {\n",
       "    var cursor = msg['cursor'];\n",
       "    switch(cursor)\n",
       "    {\n",
       "    case 0:\n",
       "        cursor = 'pointer';\n",
       "        break;\n",
       "    case 1:\n",
       "        cursor = 'default';\n",
       "        break;\n",
       "    case 2:\n",
       "        cursor = 'crosshair';\n",
       "        break;\n",
       "    case 3:\n",
       "        cursor = 'move';\n",
       "        break;\n",
       "    }\n",
       "    fig.rubberband_canvas.style.cursor = cursor;\n",
       "}\n",
       "\n",
       "mpl.figure.prototype.handle_message = function(fig, msg) {\n",
       "    fig.message.textContent = msg['message'];\n",
       "}\n",
       "\n",
       "mpl.figure.prototype.handle_draw = function(fig, msg) {\n",
       "    // Request the server to send over a new figure.\n",
       "    fig.send_draw_message();\n",
       "}\n",
       "\n",
       "mpl.figure.prototype.handle_image_mode = function(fig, msg) {\n",
       "    fig.image_mode = msg['mode'];\n",
       "}\n",
       "\n",
       "mpl.figure.prototype.updated_canvas_event = function() {\n",
       "    // Called whenever the canvas gets updated.\n",
       "    this.send_message(\"ack\", {});\n",
       "}\n",
       "\n",
       "// A function to construct a web socket function for onmessage handling.\n",
       "// Called in the figure constructor.\n",
       "mpl.figure.prototype._make_on_message_function = function(fig) {\n",
       "    return function socket_on_message(evt) {\n",
       "        if (evt.data instanceof Blob) {\n",
       "            /* FIXME: We get \"Resource interpreted as Image but\n",
       "             * transferred with MIME type text/plain:\" errors on\n",
       "             * Chrome.  But how to set the MIME type?  It doesn't seem\n",
       "             * to be part of the websocket stream */\n",
       "            evt.data.type = \"image/png\";\n",
       "\n",
       "            /* Free the memory for the previous frames */\n",
       "            if (fig.imageObj.src) {\n",
       "                (window.URL || window.webkitURL).revokeObjectURL(\n",
       "                    fig.imageObj.src);\n",
       "            }\n",
       "\n",
       "            fig.imageObj.src = (window.URL || window.webkitURL).createObjectURL(\n",
       "                evt.data);\n",
       "            fig.updated_canvas_event();\n",
       "            fig.waiting = false;\n",
       "            return;\n",
       "        }\n",
       "        else if (typeof evt.data === 'string' && evt.data.slice(0, 21) == \"data:image/png;base64\") {\n",
       "            fig.imageObj.src = evt.data;\n",
       "            fig.updated_canvas_event();\n",
       "            fig.waiting = false;\n",
       "            return;\n",
       "        }\n",
       "\n",
       "        var msg = JSON.parse(evt.data);\n",
       "        var msg_type = msg['type'];\n",
       "\n",
       "        // Call the  \"handle_{type}\" callback, which takes\n",
       "        // the figure and JSON message as its only arguments.\n",
       "        try {\n",
       "            var callback = fig[\"handle_\" + msg_type];\n",
       "        } catch (e) {\n",
       "            console.log(\"No handler for the '\" + msg_type + \"' message type: \", msg);\n",
       "            return;\n",
       "        }\n",
       "\n",
       "        if (callback) {\n",
       "            try {\n",
       "                // console.log(\"Handling '\" + msg_type + \"' message: \", msg);\n",
       "                callback(fig, msg);\n",
       "            } catch (e) {\n",
       "                console.log(\"Exception inside the 'handler_\" + msg_type + \"' callback:\", e, e.stack, msg);\n",
       "            }\n",
       "        }\n",
       "    };\n",
       "}\n",
       "\n",
       "// from http://stackoverflow.com/questions/1114465/getting-mouse-location-in-canvas\n",
       "mpl.findpos = function(e) {\n",
       "    //this section is from http://www.quirksmode.org/js/events_properties.html\n",
       "    var targ;\n",
       "    if (!e)\n",
       "        e = window.event;\n",
       "    if (e.target)\n",
       "        targ = e.target;\n",
       "    else if (e.srcElement)\n",
       "        targ = e.srcElement;\n",
       "    if (targ.nodeType == 3) // defeat Safari bug\n",
       "        targ = targ.parentNode;\n",
       "\n",
       "    // jQuery normalizes the pageX and pageY\n",
       "    // pageX,Y are the mouse positions relative to the document\n",
       "    // offset() returns the position of the element relative to the document\n",
       "    var x = e.pageX - $(targ).offset().left;\n",
       "    var y = e.pageY - $(targ).offset().top;\n",
       "\n",
       "    return {\"x\": x, \"y\": y};\n",
       "};\n",
       "\n",
       "/*\n",
       " * return a copy of an object with only non-object keys\n",
       " * we need this to avoid circular references\n",
       " * http://stackoverflow.com/a/24161582/3208463\n",
       " */\n",
       "function simpleKeys (original) {\n",
       "  return Object.keys(original).reduce(function (obj, key) {\n",
       "    if (typeof original[key] !== 'object')\n",
       "        obj[key] = original[key]\n",
       "    return obj;\n",
       "  }, {});\n",
       "}\n",
       "\n",
       "mpl.figure.prototype.mouse_event = function(event, name) {\n",
       "    var canvas_pos = mpl.findpos(event)\n",
       "\n",
       "    if (name === 'button_press')\n",
       "    {\n",
       "        this.canvas.focus();\n",
       "        this.canvas_div.focus();\n",
       "    }\n",
       "\n",
       "    var x = canvas_pos.x * mpl.ratio;\n",
       "    var y = canvas_pos.y * mpl.ratio;\n",
       "\n",
       "    this.send_message(name, {x: x, y: y, button: event.button,\n",
       "                             step: event.step,\n",
       "                             guiEvent: simpleKeys(event)});\n",
       "\n",
       "    /* This prevents the web browser from automatically changing to\n",
       "     * the text insertion cursor when the button is pressed.  We want\n",
       "     * to control all of the cursor setting manually through the\n",
       "     * 'cursor' event from matplotlib */\n",
       "    event.preventDefault();\n",
       "    return false;\n",
       "}\n",
       "\n",
       "mpl.figure.prototype._key_event_extra = function(event, name) {\n",
       "    // Handle any extra behaviour associated with a key event\n",
       "}\n",
       "\n",
       "mpl.figure.prototype.key_event = function(event, name) {\n",
       "\n",
       "    // Prevent repeat events\n",
       "    if (name == 'key_press')\n",
       "    {\n",
       "        if (event.which === this._key)\n",
       "            return;\n",
       "        else\n",
       "            this._key = event.which;\n",
       "    }\n",
       "    if (name == 'key_release')\n",
       "        this._key = null;\n",
       "\n",
       "    var value = '';\n",
       "    if (event.ctrlKey && event.which != 17)\n",
       "        value += \"ctrl+\";\n",
       "    if (event.altKey && event.which != 18)\n",
       "        value += \"alt+\";\n",
       "    if (event.shiftKey && event.which != 16)\n",
       "        value += \"shift+\";\n",
       "\n",
       "    value += 'k';\n",
       "    value += event.which.toString();\n",
       "\n",
       "    this._key_event_extra(event, name);\n",
       "\n",
       "    this.send_message(name, {key: value,\n",
       "                             guiEvent: simpleKeys(event)});\n",
       "    return false;\n",
       "}\n",
       "\n",
       "mpl.figure.prototype.toolbar_button_onclick = function(name) {\n",
       "    if (name == 'download') {\n",
       "        this.handle_save(this, null);\n",
       "    } else {\n",
       "        this.send_message(\"toolbar_button\", {name: name});\n",
       "    }\n",
       "};\n",
       "\n",
       "mpl.figure.prototype.toolbar_button_onmouseover = function(tooltip) {\n",
       "    this.message.textContent = tooltip;\n",
       "};\n",
       "mpl.toolbar_items = [[\"Home\", \"Reset original view\", \"fa fa-home icon-home\", \"home\"], [\"Back\", \"Back to previous view\", \"fa fa-arrow-left icon-arrow-left\", \"back\"], [\"Forward\", \"Forward to next view\", \"fa fa-arrow-right icon-arrow-right\", \"forward\"], [\"\", \"\", \"\", \"\"], [\"Pan\", \"Pan axes with left mouse, zoom with right\", \"fa fa-arrows icon-move\", \"pan\"], [\"Zoom\", \"Zoom to rectangle\", \"fa fa-square-o icon-check-empty\", \"zoom\"], [\"\", \"\", \"\", \"\"], [\"Download\", \"Download plot\", \"fa fa-floppy-o icon-save\", \"download\"]];\n",
       "\n",
       "mpl.extensions = [\"eps\", \"jpeg\", \"pdf\", \"png\", \"ps\", \"raw\", \"svg\", \"tif\"];\n",
       "\n",
       "mpl.default_extension = \"png\";var comm_websocket_adapter = function(comm) {\n",
       "    // Create a \"websocket\"-like object which calls the given IPython comm\n",
       "    // object with the appropriate methods. Currently this is a non binary\n",
       "    // socket, so there is still some room for performance tuning.\n",
       "    var ws = {};\n",
       "\n",
       "    ws.close = function() {\n",
       "        comm.close()\n",
       "    };\n",
       "    ws.send = function(m) {\n",
       "        //console.log('sending', m);\n",
       "        comm.send(m);\n",
       "    };\n",
       "    // Register the callback with on_msg.\n",
       "    comm.on_msg(function(msg) {\n",
       "        //console.log('receiving', msg['content']['data'], msg);\n",
       "        // Pass the mpl event to the overridden (by mpl) onmessage function.\n",
       "        ws.onmessage(msg['content']['data'])\n",
       "    });\n",
       "    return ws;\n",
       "}\n",
       "\n",
       "mpl.mpl_figure_comm = function(comm, msg) {\n",
       "    // This is the function which gets called when the mpl process\n",
       "    // starts-up an IPython Comm through the \"matplotlib\" channel.\n",
       "\n",
       "    var id = msg.content.data.id;\n",
       "    // Get hold of the div created by the display call when the Comm\n",
       "    // socket was opened in Python.\n",
       "    var element = $(\"#\" + id);\n",
       "    var ws_proxy = comm_websocket_adapter(comm)\n",
       "\n",
       "    function ondownload(figure, format) {\n",
       "        window.open(figure.imageObj.src);\n",
       "    }\n",
       "\n",
       "    var fig = new mpl.figure(id, ws_proxy,\n",
       "                           ondownload,\n",
       "                           element.get(0));\n",
       "\n",
       "    // Call onopen now - mpl needs it, as it is assuming we've passed it a real\n",
       "    // web socket which is closed, not our websocket->open comm proxy.\n",
       "    ws_proxy.onopen();\n",
       "\n",
       "    fig.parent_element = element.get(0);\n",
       "    fig.cell_info = mpl.find_output_cell(\"<div id='\" + id + \"'></div>\");\n",
       "    if (!fig.cell_info) {\n",
       "        console.error(\"Failed to find cell for figure\", id, fig);\n",
       "        return;\n",
       "    }\n",
       "\n",
       "    var output_index = fig.cell_info[2]\n",
       "    var cell = fig.cell_info[0];\n",
       "\n",
       "};\n",
       "\n",
       "mpl.figure.prototype.handle_close = function(fig, msg) {\n",
       "    var width = fig.canvas.width/mpl.ratio\n",
       "    fig.root.unbind('remove')\n",
       "\n",
       "    // Update the output cell to use the data from the current canvas.\n",
       "    fig.push_to_output();\n",
       "    var dataURL = fig.canvas.toDataURL();\n",
       "    // Re-enable the keyboard manager in IPython - without this line, in FF,\n",
       "    // the notebook keyboard shortcuts fail.\n",
       "    IPython.keyboard_manager.enable()\n",
       "    $(fig.parent_element).html('<img src=\"' + dataURL + '\" width=\"' + width + '\">');\n",
       "    fig.close_ws(fig, msg);\n",
       "}\n",
       "\n",
       "mpl.figure.prototype.close_ws = function(fig, msg){\n",
       "    fig.send_message('closing', msg);\n",
       "    // fig.ws.close()\n",
       "}\n",
       "\n",
       "mpl.figure.prototype.push_to_output = function(remove_interactive) {\n",
       "    // Turn the data on the canvas into data in the output cell.\n",
       "    var width = this.canvas.width/mpl.ratio\n",
       "    var dataURL = this.canvas.toDataURL();\n",
       "    this.cell_info[1]['text/html'] = '<img src=\"' + dataURL + '\" width=\"' + width + '\">';\n",
       "}\n",
       "\n",
       "mpl.figure.prototype.updated_canvas_event = function() {\n",
       "    // Tell IPython that the notebook contents must change.\n",
       "    IPython.notebook.set_dirty(true);\n",
       "    this.send_message(\"ack\", {});\n",
       "    var fig = this;\n",
       "    // Wait a second, then push the new image to the DOM so\n",
       "    // that it is saved nicely (might be nice to debounce this).\n",
       "    setTimeout(function () { fig.push_to_output() }, 1000);\n",
       "}\n",
       "\n",
       "mpl.figure.prototype._init_toolbar = function() {\n",
       "    var fig = this;\n",
       "\n",
       "    var nav_element = $('<div/>');\n",
       "    nav_element.attr('style', 'width: 100%');\n",
       "    this.root.append(nav_element);\n",
       "\n",
       "    // Define a callback function for later on.\n",
       "    function toolbar_event(event) {\n",
       "        return fig.toolbar_button_onclick(event['data']);\n",
       "    }\n",
       "    function toolbar_mouse_event(event) {\n",
       "        return fig.toolbar_button_onmouseover(event['data']);\n",
       "    }\n",
       "\n",
       "    for(var toolbar_ind in mpl.toolbar_items){\n",
       "        var name = mpl.toolbar_items[toolbar_ind][0];\n",
       "        var tooltip = mpl.toolbar_items[toolbar_ind][1];\n",
       "        var image = mpl.toolbar_items[toolbar_ind][2];\n",
       "        var method_name = mpl.toolbar_items[toolbar_ind][3];\n",
       "\n",
       "        if (!name) { continue; };\n",
       "\n",
       "        var button = $('<button class=\"btn btn-default\" href=\"#\" title=\"' + name + '\"><i class=\"fa ' + image + ' fa-lg\"></i></button>');\n",
       "        button.click(method_name, toolbar_event);\n",
       "        button.mouseover(tooltip, toolbar_mouse_event);\n",
       "        nav_element.append(button);\n",
       "    }\n",
       "\n",
       "    // Add the status bar.\n",
       "    var status_bar = $('<span class=\"mpl-message\" style=\"text-align:right; float: right;\"/>');\n",
       "    nav_element.append(status_bar);\n",
       "    this.message = status_bar[0];\n",
       "\n",
       "    // Add the close button to the window.\n",
       "    var buttongrp = $('<div class=\"btn-group inline pull-right\"></div>');\n",
       "    var button = $('<button class=\"btn btn-mini btn-primary\" href=\"#\" title=\"Stop Interaction\"><i class=\"fa fa-power-off icon-remove icon-large\"></i></button>');\n",
       "    button.click(function (evt) { fig.handle_close(fig, {}); } );\n",
       "    button.mouseover('Stop Interaction', toolbar_mouse_event);\n",
       "    buttongrp.append(button);\n",
       "    var titlebar = this.root.find($('.ui-dialog-titlebar'));\n",
       "    titlebar.prepend(buttongrp);\n",
       "}\n",
       "\n",
       "mpl.figure.prototype._root_extra_style = function(el){\n",
       "    var fig = this\n",
       "    el.on(\"remove\", function(){\n",
       "\tfig.close_ws(fig, {});\n",
       "    });\n",
       "}\n",
       "\n",
       "mpl.figure.prototype._canvas_extra_style = function(el){\n",
       "    // this is important to make the div 'focusable\n",
       "    el.attr('tabindex', 0)\n",
       "    // reach out to IPython and tell the keyboard manager to turn it's self\n",
       "    // off when our div gets focus\n",
       "\n",
       "    // location in version 3\n",
       "    if (IPython.notebook.keyboard_manager) {\n",
       "        IPython.notebook.keyboard_manager.register_events(el);\n",
       "    }\n",
       "    else {\n",
       "        // location in version 2\n",
       "        IPython.keyboard_manager.register_events(el);\n",
       "    }\n",
       "\n",
       "}\n",
       "\n",
       "mpl.figure.prototype._key_event_extra = function(event, name) {\n",
       "    var manager = IPython.notebook.keyboard_manager;\n",
       "    if (!manager)\n",
       "        manager = IPython.keyboard_manager;\n",
       "\n",
       "    // Check for shift+enter\n",
       "    if (event.shiftKey && event.which == 13) {\n",
       "        this.canvas_div.blur();\n",
       "        // select the cell after this one\n",
       "        var index = IPython.notebook.find_cell_index(this.cell_info[0]);\n",
       "        IPython.notebook.select(index + 1);\n",
       "    }\n",
       "}\n",
       "\n",
       "mpl.figure.prototype.handle_save = function(fig, msg) {\n",
       "    fig.ondownload(fig, null);\n",
       "}\n",
       "\n",
       "\n",
       "mpl.find_output_cell = function(html_output) {\n",
       "    // Return the cell and output element which can be found *uniquely* in the notebook.\n",
       "    // Note - this is a bit hacky, but it is done because the \"notebook_saving.Notebook\"\n",
       "    // IPython event is triggered only after the cells have been serialised, which for\n",
       "    // our purposes (turning an active figure into a static one), is too late.\n",
       "    var cells = IPython.notebook.get_cells();\n",
       "    var ncells = cells.length;\n",
       "    for (var i=0; i<ncells; i++) {\n",
       "        var cell = cells[i];\n",
       "        if (cell.cell_type === 'code'){\n",
       "            for (var j=0; j<cell.output_area.outputs.length; j++) {\n",
       "                var data = cell.output_area.outputs[j];\n",
       "                if (data.data) {\n",
       "                    // IPython >= 3 moved mimebundle to data attribute of output\n",
       "                    data = data.data;\n",
       "                }\n",
       "                if (data['text/html'] == html_output) {\n",
       "                    return [cell, data, j];\n",
       "                }\n",
       "            }\n",
       "        }\n",
       "    }\n",
       "}\n",
       "\n",
       "// Register the function which deals with the matplotlib target/channel.\n",
       "// The kernel may be null if the page has been refreshed.\n",
       "if (IPython.notebook.kernel != null) {\n",
       "    IPython.notebook.kernel.comm_manager.register_target('matplotlib', mpl.mpl_figure_comm);\n",
       "}\n"
      ],
      "text/plain": [
       "<IPython.core.display.Javascript object>"
      ]
     },
     "metadata": {},
     "output_type": "display_data"
    },
    {
     "data": {
      "text/html": [
       "<img src=\"data:image/png;base64,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\" width=\"208.8888944225548\">"
      ],
      "text/plain": [
       "<IPython.core.display.HTML object>"
      ]
     },
     "metadata": {},
     "output_type": "display_data"
    },
    {
     "name": "stderr",
     "output_type": "stream",
     "text": [
      "/lus/grand/projects/DLHMC/tf_master-2021-03-02/lib/python3.8/site-packages/seaborn/axisgrid.py:64: UserWarning: Tight layout not applied. tight_layout cannot make axes height small enough to accommodate all axes decorations\n",
      "  self.fig.tight_layout(*args, **kwargs)\n",
      "/lus/grand/projects/DLHMC/tf_master-2021-03-02/lib/python3.8/site-packages/seaborn/axisgrid.py:64: UserWarning: Tight layout not applied. tight_layout cannot make axes height small enough to accommodate all axes decorations\n",
      "  self.fig.tight_layout(*args, **kwargs)\n",
      "/lus/grand/projects/DLHMC/tf_master-2021-03-02/lib/python3.8/site-packages/seaborn/axisgrid.py:64: UserWarning: Tight layout not applied. tight_layout cannot make axes height small enough to accommodate all axes decorations\n",
      "  self.fig.tight_layout(*args, **kwargs)\n",
      "<ipython-input-79-e5020c6f38b0>:109: UserWarning: Tight layout not applied. tight_layout cannot make axes height small enough to accommodate all axes decorations\n",
      "  _ = plt.tight_layout()\n"
     ]
    },
    {
     "data": {
      "text/html": [
       "<pre style=\"white-space:pre;overflow-x:auto;line-height:normal;font-family:Menlo,'DejaVu Sans Mono',consolas,'Courier New',monospace\"><span style=\"color: #7fbfbf; text-decoration-color: #7fbfbf\">[22:03:12]  </span>Saving figure to: <span style=\"color: #800080; text-decoration-color: #800080\">/lus/grand/projects/DLHMC/l2hmc-qcd/plots/ridgeplots/2021-04-12/</span><span style=\"color: #ff00ff; text-decoration-color: #ff00ff\">hwf_2203.pdf</span>                                                                                                                                      \n",
       "</pre>\n"
      ],
      "text/plain": [
       "<rich.jupyter.JupyterRenderable at 0x7fd6ca2a8fd0>"
      ]
     },
     "metadata": {},
     "output_type": "display_data"
    }
   ],
   "source": [
    "label_str = r\"$H - \\sum\\log|\\mathcal{J}|$\"\n",
    "\n",
    "daystr = io\n",
    "timestr = io.get_timestamp('%H%M')\n",
    "#outdir = os.path.abspath('/Users/saforem2/l2hmc-qcd/plots/ridgeplots')\n",
    "#outdir = os.path.abspath('/lus/grand/projects/DLHMC/l2hmc-qcd/plots/ridgeplots')\n",
    "\n",
    "label_str = r\"$H - \\sum\\log|\\mathcal{J}|$\"\n",
    "outfile = os.path.join(outdir, f'Hwf_{timestr}_1.pdf')\n",
    "\n",
    "plt.style.use('default')\n",
    "#sns.set_context('paper')\n",
    "sns.set_palette('bright')\n",
    "sns.set_style('whitegrid')\n",
    "plt.rc('text', usetex=True)\n",
    "\n",
    "#plt.rcParams.update(rc_context)\n",
    "\n",
    "sns.set_palette('bright')\n",
    "sns.set_context('talk')#, font_scale=0.85)#)#, font_scale=1.25)\n",
    "cmap = plt.get_cmap('viridis_r')\n",
    "#color = '#0182CA'\n",
    "color = '#1AC938'\n",
    "sns.set_style('whitegrid')\n",
    "\n",
    "#$'axes.labelsize': 12.,\n",
    "with mpl.rc_context({\n",
    "    #'font.family': 'lmodern',\n",
    "    #'font.size': 12.,  # 9.6000000000000000001\n",
    "    #'figure.figsize': (4, 3),\n",
    "    #'axes.labelsize': 12.,\n",
    "    #'legend.fontsize': 8.,\n",
    "    #'legend.labelspacing': 0.2, # 0.5\n",
    "    #'legend.handletextpad': 0.3,  # 0.8\n",
    "    'text.usetex': True,\n",
    "    'text.latex.preamble': (            # LaTeX preamble\n",
    "        #r'\\usepackage{lmodern}'\n",
    "        r'\\usepackage{amsmath}'\n",
    "        r'\\usepackage{amssymb}'\n",
    "        r'\\usepackage{microtype}'\n",
    "        r'\\usepackage{bm}'\n",
    "        r'\\usepackage{bbm}'\n",
    "    )\n",
    "}):\n",
    "    Hwf_data_, (fig, ax) = make_ridgeplots1(hwf_dataset, label_str=label_str, cmap='viridis_r',\n",
    "                                            num_chains=16, num_pts=5000, therm_frac=0.5,\n",
    "                                            aspect=7, height=0.3, hspace=-0.725, out_dir=outdir,#, labelsize='small',\n",
    "                                            #aspect=10, height=1.0, out_dir=outdir,\n",
    "                                            usetex=True, ylabels=False)\n"
   ]
  },
  {
   "cell_type": "code",
   "execution_count": 37,
   "metadata": {
    "ExecuteTime": {
     "end_time": "2021-04-12T21:03:55.415810Z",
     "start_time": "2021-04-12T21:03:55.290960Z"
    }
   },
   "outputs": [
    {
     "name": "stderr",
     "output_type": "stream",
     "text": [
      "UsageError: option --help not recognized ( allowed: \"drz\" )\n"
     ]
    }
   ],
   "source": [
    "%store "
   ]
  },
  {
   "cell_type": "code",
   "execution_count": 38,
   "metadata": {
    "ExecuteTime": {
     "end_time": "2021-04-12T21:04:33.900159Z",
     "start_time": "2021-04-12T21:04:26.114681Z"
    }
   },
   "outputs": [
    {
     "name": "stdout",
     "output_type": "stream",
     "text": [
      "Stored 'hwf_dataset' (Dataset)\n"
     ]
    }
   ],
   "source": [
    "%store hwf_dataset"
   ]
  },
  {
   "cell_type": "code",
   "execution_count": 35,
   "metadata": {
    "ExecuteTime": {
     "end_time": "2021-04-12T20:52:39.853740Z",
     "start_time": "2021-04-12T20:52:39.484455Z"
    }
   },
   "outputs": [
    {
     "name": "stdout",
     "output_type": "stream",
     "text": [
      "/usr/local/cuda/bin:/opt/bin/:/lus/theta-fs0/software/thetagpu/openmpi-4.0.5/bin:/lus/grand/projects/DLHMC/tf_master-2021-03-02/bin:/lus/theta-fs0/software/thetagpu/conda/tf_master/2021-03-02/mconda3/condabin:/lus/theta-fs0/projects/DLHMC/thetaGPU/deephyper/build/pgsql/bin:/lus/theta-fs0/software/thetagpu/openmpi-4.0.5/ucx-1.9.0rc7/include:/lus/theta-fs0/software/thetagpu/openmpi-4.0.5/ucx-1.9.0rc7/bin:/lus/theta-fs0/software/thetagpu/openmpi-4.0.5/include:/lus/theta-fs0/software/thetagpu/openmpi-4.0.5/bin:/usr/local/cuda/bin:/opt/bin:/usr/local/sbin:/usr/local/bin:/usr/sbin:/usr/bin:/sbin:/bin:/usr/games:/usr/local/games:/snap/bin:/gpfs/mira-home/foremans/.linuxbrew/bin:/gpfs/mira-home/foremans/.linuxbrew/sbin:/home/foremans/.cargo/bin:/home/foremans/.local/bin:/home/foremans/bin:/.local/bin:/home/foremans/bin:/gpfs/mira-home/foremans/.fzf/bin:/home/foremans/.local/bin\r\n"
     ]
    }
   ],
   "source": []
  },
  {
   "cell_type": "code",
   "execution_count": 87,
   "metadata": {
    "ExecuteTime": {
     "end_time": "2021-04-12T22:40:16.100323Z",
     "start_time": "2021-04-12T22:39:45.149359Z"
    },
    "scrolled": false
   },
   "outputs": [
    {
     "data": {
      "text/html": [
       "<pre style=\"white-space:pre;overflow-x:auto;line-height:normal;font-family:Menlo,'DejaVu Sans Mono',consolas,'Courier New',monospace\"><span style=\"color: #7fbfbf; text-decoration-color: #7fbfbf\">[22:39:45] </span>x.shape: <span style=\"font-weight: bold\">(</span><span style=\"color: #ff79ff; text-decoration-color: #ff79ff\">1024</span>, <span style=\"color: #ff79ff; text-decoration-color: #ff79ff\">25000</span><span style=\"font-weight: bold\">)</span>                                                                                                                                                                                                               \n",
       "</pre>\n"
      ],
      "text/plain": [
       "<rich.jupyter.JupyterRenderable at 0x7fd6013a5640>"
      ]
     },
     "metadata": {},
     "output_type": "display_data"
    },
    {
     "data": {
      "text/html": [
       "<pre style=\"white-space:pre;overflow-x:auto;line-height:normal;font-family:Menlo,'DejaVu Sans Mono',consolas,'Courier New',monospace\"><span style=\"color: #7fbfbf; text-decoration-color: #7fbfbf\">[22:39:46] </span>x.shape: <span style=\"font-weight: bold\">(</span><span style=\"color: #ff79ff; text-decoration-color: #ff79ff\">1024</span>, <span style=\"color: #ff79ff; text-decoration-color: #ff79ff\">25000</span><span style=\"font-weight: bold\">)</span>                                                                                                                                                                                                               \n",
       "</pre>\n"
      ],
      "text/plain": [
       "<rich.jupyter.JupyterRenderable at 0x7fd6013ec8b0>"
      ]
     },
     "metadata": {},
     "output_type": "display_data"
    },
    {
     "data": {
      "text/html": [
       "<pre style=\"white-space:pre;overflow-x:auto;line-height:normal;font-family:Menlo,'DejaVu Sans Mono',consolas,'Courier New',monospace\"><span style=\"color: #7fbfbf; text-decoration-color: #7fbfbf\">[22:39:47] </span>x.shape: <span style=\"font-weight: bold\">(</span><span style=\"color: #ff79ff; text-decoration-color: #ff79ff\">1024</span>, <span style=\"color: #ff79ff; text-decoration-color: #ff79ff\">25000</span><span style=\"font-weight: bold\">)</span>                                                                                                                                                                                                               \n",
       "</pre>\n"
      ],
      "text/plain": [
       "<rich.jupyter.JupyterRenderable at 0x7fd6013ec700>"
      ]
     },
     "metadata": {},
     "output_type": "display_data"
    },
    {
     "data": {
      "text/html": [
       "<pre style=\"white-space:pre;overflow-x:auto;line-height:normal;font-family:Menlo,'DejaVu Sans Mono',consolas,'Courier New',monospace\"><span style=\"color: #7fbfbf; text-decoration-color: #7fbfbf\">[22:39:48] </span>x.shape: <span style=\"font-weight: bold\">(</span><span style=\"color: #ff79ff; text-decoration-color: #ff79ff\">1024</span>, <span style=\"color: #ff79ff; text-decoration-color: #ff79ff\">25000</span><span style=\"font-weight: bold\">)</span>                                                                                                                                                                                                               \n",
       "</pre>\n"
      ],
      "text/plain": [
       "<rich.jupyter.JupyterRenderable at 0x7fd6013ec6d0>"
      ]
     },
     "metadata": {},
     "output_type": "display_data"
    },
    {
     "data": {
      "text/html": [
       "<pre style=\"white-space:pre;overflow-x:auto;line-height:normal;font-family:Menlo,'DejaVu Sans Mono',consolas,'Courier New',monospace\"><span style=\"color: #7fbfbf; text-decoration-color: #7fbfbf\">[22:39:49] </span>x.shape: <span style=\"font-weight: bold\">(</span><span style=\"color: #ff79ff; text-decoration-color: #ff79ff\">1024</span>, <span style=\"color: #ff79ff; text-decoration-color: #ff79ff\">25000</span><span style=\"font-weight: bold\">)</span>                                                                                                                                                                                                               \n",
       "</pre>\n"
      ],
      "text/plain": [
       "<rich.jupyter.JupyterRenderable at 0x7fd6013eca60>"
      ]
     },
     "metadata": {},
     "output_type": "display_data"
    },
    {
     "data": {
      "text/html": [
       "<pre style=\"white-space:pre;overflow-x:auto;line-height:normal;font-family:Menlo,'DejaVu Sans Mono',consolas,'Courier New',monospace\"><span style=\"color: #7fbfbf; text-decoration-color: #7fbfbf\">[22:39:50] </span>x.shape: <span style=\"font-weight: bold\">(</span><span style=\"color: #ff79ff; text-decoration-color: #ff79ff\">1024</span>, <span style=\"color: #ff79ff; text-decoration-color: #ff79ff\">25000</span><span style=\"font-weight: bold\">)</span>                                                                                                                                                                                                               \n",
       "</pre>\n"
      ],
      "text/plain": [
       "<rich.jupyter.JupyterRenderable at 0x7fd6013ece20>"
      ]
     },
     "metadata": {},
     "output_type": "display_data"
    },
    {
     "data": {
      "text/html": [
       "<pre style=\"white-space:pre;overflow-x:auto;line-height:normal;font-family:Menlo,'DejaVu Sans Mono',consolas,'Courier New',monospace\"><span style=\"color: #7fbfbf; text-decoration-color: #7fbfbf\">[22:39:51] </span>x.shape: <span style=\"font-weight: bold\">(</span><span style=\"color: #ff79ff; text-decoration-color: #ff79ff\">1024</span>, <span style=\"color: #ff79ff; text-decoration-color: #ff79ff\">25000</span><span style=\"font-weight: bold\">)</span>                                                                                                                                                                                                               \n",
       "</pre>\n"
      ],
      "text/plain": [
       "<rich.jupyter.JupyterRenderable at 0x7fd6013ecf10>"
      ]
     },
     "metadata": {},
     "output_type": "display_data"
    },
    {
     "data": {
      "text/html": [
       "<pre style=\"white-space:pre;overflow-x:auto;line-height:normal;font-family:Menlo,'DejaVu Sans Mono',consolas,'Courier New',monospace\"><span style=\"color: #7fbfbf; text-decoration-color: #7fbfbf\">[22:39:52] </span>x.shape: <span style=\"font-weight: bold\">(</span><span style=\"color: #ff79ff; text-decoration-color: #ff79ff\">1024</span>, <span style=\"color: #ff79ff; text-decoration-color: #ff79ff\">25000</span><span style=\"font-weight: bold\">)</span>                                                                                                                                                                                                               \n",
       "</pre>\n"
      ],
      "text/plain": [
       "<rich.jupyter.JupyterRenderable at 0x7fd6013ece50>"
      ]
     },
     "metadata": {},
     "output_type": "display_data"
    },
    {
     "data": {
      "text/html": [
       "<pre style=\"white-space:pre;overflow-x:auto;line-height:normal;font-family:Menlo,'DejaVu Sans Mono',consolas,'Courier New',monospace\"><span style=\"color: #7fbfbf; text-decoration-color: #7fbfbf\">[22:39:53] </span>x.shape: <span style=\"font-weight: bold\">(</span><span style=\"color: #ff79ff; text-decoration-color: #ff79ff\">1024</span>, <span style=\"color: #ff79ff; text-decoration-color: #ff79ff\">25000</span><span style=\"font-weight: bold\">)</span>                                                                                                                                                                                                               \n",
       "</pre>\n"
      ],
      "text/plain": [
       "<rich.jupyter.JupyterRenderable at 0x7fd6013ec1c0>"
      ]
     },
     "metadata": {},
     "output_type": "display_data"
    },
    {
     "data": {
      "text/html": [
       "<pre style=\"white-space:pre;overflow-x:auto;line-height:normal;font-family:Menlo,'DejaVu Sans Mono',consolas,'Courier New',monospace\"><span style=\"color: #7fbfbf; text-decoration-color: #7fbfbf\">[22:39:54] </span>x.shape: <span style=\"font-weight: bold\">(</span><span style=\"color: #ff79ff; text-decoration-color: #ff79ff\">1024</span>, <span style=\"color: #ff79ff; text-decoration-color: #ff79ff\">25000</span><span style=\"font-weight: bold\">)</span>                                                                                                                                                                                                               \n",
       "</pre>\n"
      ],
      "text/plain": [
       "<rich.jupyter.JupyterRenderable at 0x7fd6013ec490>"
      ]
     },
     "metadata": {},
     "output_type": "display_data"
    },
    {
     "data": {
      "text/html": [
       "<pre style=\"white-space:pre;overflow-x:auto;line-height:normal;font-family:Menlo,'DejaVu Sans Mono',consolas,'Courier New',monospace\"><span style=\"color: #7fbfbf; text-decoration-color: #7fbfbf\">[22:39:56] </span>x.shape: <span style=\"font-weight: bold\">(</span><span style=\"color: #ff79ff; text-decoration-color: #ff79ff\">1024</span>, <span style=\"color: #ff79ff; text-decoration-color: #ff79ff\">25000</span><span style=\"font-weight: bold\">)</span>                                                                                                                                                                                                               \n",
       "</pre>\n"
      ],
      "text/plain": [
       "<rich.jupyter.JupyterRenderable at 0x7fd6013ec370>"
      ]
     },
     "metadata": {},
     "output_type": "display_data"
    },
    {
     "data": {
      "text/html": [
       "<pre style=\"white-space:pre;overflow-x:auto;line-height:normal;font-family:Menlo,'DejaVu Sans Mono',consolas,'Courier New',monospace\"><span style=\"color: #7fbfbf; text-decoration-color: #7fbfbf\">[22:39:57] </span>x.shape: <span style=\"font-weight: bold\">(</span><span style=\"color: #ff79ff; text-decoration-color: #ff79ff\">1024</span>, <span style=\"color: #ff79ff; text-decoration-color: #ff79ff\">25000</span><span style=\"font-weight: bold\">)</span>                                                                                                                                                                                                               \n",
       "</pre>\n"
      ],
      "text/plain": [
       "<rich.jupyter.JupyterRenderable at 0x7fd6013ec400>"
      ]
     },
     "metadata": {},
     "output_type": "display_data"
    },
    {
     "data": {
      "application/javascript": [
       "/* Put everything inside the global mpl namespace */\n",
       "window.mpl = {};\n",
       "\n",
       "\n",
       "mpl.get_websocket_type = function() {\n",
       "    if (typeof(WebSocket) !== 'undefined') {\n",
       "        return WebSocket;\n",
       "    } else if (typeof(MozWebSocket) !== 'undefined') {\n",
       "        return MozWebSocket;\n",
       "    } else {\n",
       "        alert('Your browser does not have WebSocket support. ' +\n",
       "              'Please try Chrome, Safari or Firefox ≥ 6. ' +\n",
       "              'Firefox 4 and 5 are also supported but you ' +\n",
       "              'have to enable WebSockets in about:config.');\n",
       "    };\n",
       "}\n",
       "\n",
       "mpl.figure = function(figure_id, websocket, ondownload, parent_element) {\n",
       "    this.id = figure_id;\n",
       "\n",
       "    this.ws = websocket;\n",
       "\n",
       "    this.supports_binary = (this.ws.binaryType != undefined);\n",
       "\n",
       "    if (!this.supports_binary) {\n",
       "        var warnings = document.getElementById(\"mpl-warnings\");\n",
       "        if (warnings) {\n",
       "            warnings.style.display = 'block';\n",
       "            warnings.textContent = (\n",
       "                \"This browser does not support binary websocket messages. \" +\n",
       "                    \"Performance may be slow.\");\n",
       "        }\n",
       "    }\n",
       "\n",
       "    this.imageObj = new Image();\n",
       "\n",
       "    this.context = undefined;\n",
       "    this.message = undefined;\n",
       "    this.canvas = undefined;\n",
       "    this.rubberband_canvas = undefined;\n",
       "    this.rubberband_context = undefined;\n",
       "    this.format_dropdown = undefined;\n",
       "\n",
       "    this.image_mode = 'full';\n",
       "\n",
       "    this.root = $('<div/>');\n",
       "    this._root_extra_style(this.root)\n",
       "    this.root.attr('style', 'display: inline-block');\n",
       "\n",
       "    $(parent_element).append(this.root);\n",
       "\n",
       "    this._init_header(this);\n",
       "    this._init_canvas(this);\n",
       "    this._init_toolbar(this);\n",
       "\n",
       "    var fig = this;\n",
       "\n",
       "    this.waiting = false;\n",
       "\n",
       "    this.ws.onopen =  function () {\n",
       "            fig.send_message(\"supports_binary\", {value: fig.supports_binary});\n",
       "            fig.send_message(\"send_image_mode\", {});\n",
       "            if (mpl.ratio != 1) {\n",
       "                fig.send_message(\"set_dpi_ratio\", {'dpi_ratio': mpl.ratio});\n",
       "            }\n",
       "            fig.send_message(\"refresh\", {});\n",
       "        }\n",
       "\n",
       "    this.imageObj.onload = function() {\n",
       "            if (fig.image_mode == 'full') {\n",
       "                // Full images could contain transparency (where diff images\n",
       "                // almost always do), so we need to clear the canvas so that\n",
       "                // there is no ghosting.\n",
       "                fig.context.clearRect(0, 0, fig.canvas.width, fig.canvas.height);\n",
       "            }\n",
       "            fig.context.drawImage(fig.imageObj, 0, 0);\n",
       "        };\n",
       "\n",
       "    this.imageObj.onunload = function() {\n",
       "        fig.ws.close();\n",
       "    }\n",
       "\n",
       "    this.ws.onmessage = this._make_on_message_function(this);\n",
       "\n",
       "    this.ondownload = ondownload;\n",
       "}\n",
       "\n",
       "mpl.figure.prototype._init_header = function() {\n",
       "    var titlebar = $(\n",
       "        '<div class=\"ui-dialog-titlebar ui-widget-header ui-corner-all ' +\n",
       "        'ui-helper-clearfix\"/>');\n",
       "    var titletext = $(\n",
       "        '<div class=\"ui-dialog-title\" style=\"width: 100%; ' +\n",
       "        'text-align: center; padding: 3px;\"/>');\n",
       "    titlebar.append(titletext)\n",
       "    this.root.append(titlebar);\n",
       "    this.header = titletext[0];\n",
       "}\n",
       "\n",
       "\n",
       "\n",
       "mpl.figure.prototype._canvas_extra_style = function(canvas_div) {\n",
       "\n",
       "}\n",
       "\n",
       "\n",
       "mpl.figure.prototype._root_extra_style = function(canvas_div) {\n",
       "\n",
       "}\n",
       "\n",
       "mpl.figure.prototype._init_canvas = function() {\n",
       "    var fig = this;\n",
       "\n",
       "    var canvas_div = $('<div/>');\n",
       "\n",
       "    canvas_div.attr('style', 'position: relative; clear: both; outline: 0');\n",
       "\n",
       "    function canvas_keyboard_event(event) {\n",
       "        return fig.key_event(event, event['data']);\n",
       "    }\n",
       "\n",
       "    canvas_div.keydown('key_press', canvas_keyboard_event);\n",
       "    canvas_div.keyup('key_release', canvas_keyboard_event);\n",
       "    this.canvas_div = canvas_div\n",
       "    this._canvas_extra_style(canvas_div)\n",
       "    this.root.append(canvas_div);\n",
       "\n",
       "    var canvas = $('<canvas/>');\n",
       "    canvas.addClass('mpl-canvas');\n",
       "    canvas.attr('style', \"left: 0; top: 0; z-index: 0; outline: 0\")\n",
       "\n",
       "    this.canvas = canvas[0];\n",
       "    this.context = canvas[0].getContext(\"2d\");\n",
       "\n",
       "    var backingStore = this.context.backingStorePixelRatio ||\n",
       "\tthis.context.webkitBackingStorePixelRatio ||\n",
       "\tthis.context.mozBackingStorePixelRatio ||\n",
       "\tthis.context.msBackingStorePixelRatio ||\n",
       "\tthis.context.oBackingStorePixelRatio ||\n",
       "\tthis.context.backingStorePixelRatio || 1;\n",
       "\n",
       "    mpl.ratio = (window.devicePixelRatio || 1) / backingStore;\n",
       "\n",
       "    var rubberband = $('<canvas/>');\n",
       "    rubberband.attr('style', \"position: absolute; left: 0; top: 0; z-index: 1;\")\n",
       "\n",
       "    var pass_mouse_events = true;\n",
       "\n",
       "    canvas_div.resizable({\n",
       "        start: function(event, ui) {\n",
       "            pass_mouse_events = false;\n",
       "        },\n",
       "        resize: function(event, ui) {\n",
       "            fig.request_resize(ui.size.width, ui.size.height);\n",
       "        },\n",
       "        stop: function(event, ui) {\n",
       "            pass_mouse_events = true;\n",
       "            fig.request_resize(ui.size.width, ui.size.height);\n",
       "        },\n",
       "    });\n",
       "\n",
       "    function mouse_event_fn(event) {\n",
       "        if (pass_mouse_events)\n",
       "            return fig.mouse_event(event, event['data']);\n",
       "    }\n",
       "\n",
       "    rubberband.mousedown('button_press', mouse_event_fn);\n",
       "    rubberband.mouseup('button_release', mouse_event_fn);\n",
       "    // Throttle sequential mouse events to 1 every 20ms.\n",
       "    rubberband.mousemove('motion_notify', mouse_event_fn);\n",
       "\n",
       "    rubberband.mouseenter('figure_enter', mouse_event_fn);\n",
       "    rubberband.mouseleave('figure_leave', mouse_event_fn);\n",
       "\n",
       "    canvas_div.on(\"wheel\", function (event) {\n",
       "        event = event.originalEvent;\n",
       "        event['data'] = 'scroll'\n",
       "        if (event.deltaY < 0) {\n",
       "            event.step = 1;\n",
       "        } else {\n",
       "            event.step = -1;\n",
       "        }\n",
       "        mouse_event_fn(event);\n",
       "    });\n",
       "\n",
       "    canvas_div.append(canvas);\n",
       "    canvas_div.append(rubberband);\n",
       "\n",
       "    this.rubberband = rubberband;\n",
       "    this.rubberband_canvas = rubberband[0];\n",
       "    this.rubberband_context = rubberband[0].getContext(\"2d\");\n",
       "    this.rubberband_context.strokeStyle = \"#000000\";\n",
       "\n",
       "    this._resize_canvas = function(width, height) {\n",
       "        // Keep the size of the canvas, canvas container, and rubber band\n",
       "        // canvas in synch.\n",
       "        canvas_div.css('width', width)\n",
       "        canvas_div.css('height', height)\n",
       "\n",
       "        canvas.attr('width', width * mpl.ratio);\n",
       "        canvas.attr('height', height * mpl.ratio);\n",
       "        canvas.attr('style', 'width: ' + width + 'px; height: ' + height + 'px;');\n",
       "\n",
       "        rubberband.attr('width', width);\n",
       "        rubberband.attr('height', height);\n",
       "    }\n",
       "\n",
       "    // Set the figure to an initial 600x600px, this will subsequently be updated\n",
       "    // upon first draw.\n",
       "    this._resize_canvas(600, 600);\n",
       "\n",
       "    // Disable right mouse context menu.\n",
       "    $(this.rubberband_canvas).bind(\"contextmenu\",function(e){\n",
       "        return false;\n",
       "    });\n",
       "\n",
       "    function set_focus () {\n",
       "        canvas.focus();\n",
       "        canvas_div.focus();\n",
       "    }\n",
       "\n",
       "    window.setTimeout(set_focus, 100);\n",
       "}\n",
       "\n",
       "mpl.figure.prototype._init_toolbar = function() {\n",
       "    var fig = this;\n",
       "\n",
       "    var nav_element = $('<div/>');\n",
       "    nav_element.attr('style', 'width: 100%');\n",
       "    this.root.append(nav_element);\n",
       "\n",
       "    // Define a callback function for later on.\n",
       "    function toolbar_event(event) {\n",
       "        return fig.toolbar_button_onclick(event['data']);\n",
       "    }\n",
       "    function toolbar_mouse_event(event) {\n",
       "        return fig.toolbar_button_onmouseover(event['data']);\n",
       "    }\n",
       "\n",
       "    for(var toolbar_ind in mpl.toolbar_items) {\n",
       "        var name = mpl.toolbar_items[toolbar_ind][0];\n",
       "        var tooltip = mpl.toolbar_items[toolbar_ind][1];\n",
       "        var image = mpl.toolbar_items[toolbar_ind][2];\n",
       "        var method_name = mpl.toolbar_items[toolbar_ind][3];\n",
       "\n",
       "        if (!name) {\n",
       "            // put a spacer in here.\n",
       "            continue;\n",
       "        }\n",
       "        var button = $('<button/>');\n",
       "        button.addClass('ui-button ui-widget ui-state-default ui-corner-all ' +\n",
       "                        'ui-button-icon-only');\n",
       "        button.attr('role', 'button');\n",
       "        button.attr('aria-disabled', 'false');\n",
       "        button.click(method_name, toolbar_event);\n",
       "        button.mouseover(tooltip, toolbar_mouse_event);\n",
       "\n",
       "        var icon_img = $('<span/>');\n",
       "        icon_img.addClass('ui-button-icon-primary ui-icon');\n",
       "        icon_img.addClass(image);\n",
       "        icon_img.addClass('ui-corner-all');\n",
       "\n",
       "        var tooltip_span = $('<span/>');\n",
       "        tooltip_span.addClass('ui-button-text');\n",
       "        tooltip_span.html(tooltip);\n",
       "\n",
       "        button.append(icon_img);\n",
       "        button.append(tooltip_span);\n",
       "\n",
       "        nav_element.append(button);\n",
       "    }\n",
       "\n",
       "    var fmt_picker_span = $('<span/>');\n",
       "\n",
       "    var fmt_picker = $('<select/>');\n",
       "    fmt_picker.addClass('mpl-toolbar-option ui-widget ui-widget-content');\n",
       "    fmt_picker_span.append(fmt_picker);\n",
       "    nav_element.append(fmt_picker_span);\n",
       "    this.format_dropdown = fmt_picker[0];\n",
       "\n",
       "    for (var ind in mpl.extensions) {\n",
       "        var fmt = mpl.extensions[ind];\n",
       "        var option = $(\n",
       "            '<option/>', {selected: fmt === mpl.default_extension}).html(fmt);\n",
       "        fmt_picker.append(option);\n",
       "    }\n",
       "\n",
       "    // Add hover states to the ui-buttons\n",
       "    $( \".ui-button\" ).hover(\n",
       "        function() { $(this).addClass(\"ui-state-hover\");},\n",
       "        function() { $(this).removeClass(\"ui-state-hover\");}\n",
       "    );\n",
       "\n",
       "    var status_bar = $('<span class=\"mpl-message\"/>');\n",
       "    nav_element.append(status_bar);\n",
       "    this.message = status_bar[0];\n",
       "}\n",
       "\n",
       "mpl.figure.prototype.request_resize = function(x_pixels, y_pixels) {\n",
       "    // Request matplotlib to resize the figure. Matplotlib will then trigger a resize in the client,\n",
       "    // which will in turn request a refresh of the image.\n",
       "    this.send_message('resize', {'width': x_pixels, 'height': y_pixels});\n",
       "}\n",
       "\n",
       "mpl.figure.prototype.send_message = function(type, properties) {\n",
       "    properties['type'] = type;\n",
       "    properties['figure_id'] = this.id;\n",
       "    this.ws.send(JSON.stringify(properties));\n",
       "}\n",
       "\n",
       "mpl.figure.prototype.send_draw_message = function() {\n",
       "    if (!this.waiting) {\n",
       "        this.waiting = true;\n",
       "        this.ws.send(JSON.stringify({type: \"draw\", figure_id: this.id}));\n",
       "    }\n",
       "}\n",
       "\n",
       "\n",
       "mpl.figure.prototype.handle_save = function(fig, msg) {\n",
       "    var format_dropdown = fig.format_dropdown;\n",
       "    var format = format_dropdown.options[format_dropdown.selectedIndex].value;\n",
       "    fig.ondownload(fig, format);\n",
       "}\n",
       "\n",
       "\n",
       "mpl.figure.prototype.handle_resize = function(fig, msg) {\n",
       "    var size = msg['size'];\n",
       "    if (size[0] != fig.canvas.width || size[1] != fig.canvas.height) {\n",
       "        fig._resize_canvas(size[0], size[1]);\n",
       "        fig.send_message(\"refresh\", {});\n",
       "    };\n",
       "}\n",
       "\n",
       "mpl.figure.prototype.handle_rubberband = function(fig, msg) {\n",
       "    var x0 = msg['x0'] / mpl.ratio;\n",
       "    var y0 = (fig.canvas.height - msg['y0']) / mpl.ratio;\n",
       "    var x1 = msg['x1'] / mpl.ratio;\n",
       "    var y1 = (fig.canvas.height - msg['y1']) / mpl.ratio;\n",
       "    x0 = Math.floor(x0) + 0.5;\n",
       "    y0 = Math.floor(y0) + 0.5;\n",
       "    x1 = Math.floor(x1) + 0.5;\n",
       "    y1 = Math.floor(y1) + 0.5;\n",
       "    var min_x = Math.min(x0, x1);\n",
       "    var min_y = Math.min(y0, y1);\n",
       "    var width = Math.abs(x1 - x0);\n",
       "    var height = Math.abs(y1 - y0);\n",
       "\n",
       "    fig.rubberband_context.clearRect(\n",
       "        0, 0, fig.canvas.width / mpl.ratio, fig.canvas.height / mpl.ratio);\n",
       "\n",
       "    fig.rubberband_context.strokeRect(min_x, min_y, width, height);\n",
       "}\n",
       "\n",
       "mpl.figure.prototype.handle_figure_label = function(fig, msg) {\n",
       "    // Updates the figure title.\n",
       "    fig.header.textContent = msg['label'];\n",
       "}\n",
       "\n",
       "mpl.figure.prototype.handle_cursor = function(fig, msg) {\n",
       "    var cursor = msg['cursor'];\n",
       "    switch(cursor)\n",
       "    {\n",
       "    case 0:\n",
       "        cursor = 'pointer';\n",
       "        break;\n",
       "    case 1:\n",
       "        cursor = 'default';\n",
       "        break;\n",
       "    case 2:\n",
       "        cursor = 'crosshair';\n",
       "        break;\n",
       "    case 3:\n",
       "        cursor = 'move';\n",
       "        break;\n",
       "    }\n",
       "    fig.rubberband_canvas.style.cursor = cursor;\n",
       "}\n",
       "\n",
       "mpl.figure.prototype.handle_message = function(fig, msg) {\n",
       "    fig.message.textContent = msg['message'];\n",
       "}\n",
       "\n",
       "mpl.figure.prototype.handle_draw = function(fig, msg) {\n",
       "    // Request the server to send over a new figure.\n",
       "    fig.send_draw_message();\n",
       "}\n",
       "\n",
       "mpl.figure.prototype.handle_image_mode = function(fig, msg) {\n",
       "    fig.image_mode = msg['mode'];\n",
       "}\n",
       "\n",
       "mpl.figure.prototype.updated_canvas_event = function() {\n",
       "    // Called whenever the canvas gets updated.\n",
       "    this.send_message(\"ack\", {});\n",
       "}\n",
       "\n",
       "// A function to construct a web socket function for onmessage handling.\n",
       "// Called in the figure constructor.\n",
       "mpl.figure.prototype._make_on_message_function = function(fig) {\n",
       "    return function socket_on_message(evt) {\n",
       "        if (evt.data instanceof Blob) {\n",
       "            /* FIXME: We get \"Resource interpreted as Image but\n",
       "             * transferred with MIME type text/plain:\" errors on\n",
       "             * Chrome.  But how to set the MIME type?  It doesn't seem\n",
       "             * to be part of the websocket stream */\n",
       "            evt.data.type = \"image/png\";\n",
       "\n",
       "            /* Free the memory for the previous frames */\n",
       "            if (fig.imageObj.src) {\n",
       "                (window.URL || window.webkitURL).revokeObjectURL(\n",
       "                    fig.imageObj.src);\n",
       "            }\n",
       "\n",
       "            fig.imageObj.src = (window.URL || window.webkitURL).createObjectURL(\n",
       "                evt.data);\n",
       "            fig.updated_canvas_event();\n",
       "            fig.waiting = false;\n",
       "            return;\n",
       "        }\n",
       "        else if (typeof evt.data === 'string' && evt.data.slice(0, 21) == \"data:image/png;base64\") {\n",
       "            fig.imageObj.src = evt.data;\n",
       "            fig.updated_canvas_event();\n",
       "            fig.waiting = false;\n",
       "            return;\n",
       "        }\n",
       "\n",
       "        var msg = JSON.parse(evt.data);\n",
       "        var msg_type = msg['type'];\n",
       "\n",
       "        // Call the  \"handle_{type}\" callback, which takes\n",
       "        // the figure and JSON message as its only arguments.\n",
       "        try {\n",
       "            var callback = fig[\"handle_\" + msg_type];\n",
       "        } catch (e) {\n",
       "            console.log(\"No handler for the '\" + msg_type + \"' message type: \", msg);\n",
       "            return;\n",
       "        }\n",
       "\n",
       "        if (callback) {\n",
       "            try {\n",
       "                // console.log(\"Handling '\" + msg_type + \"' message: \", msg);\n",
       "                callback(fig, msg);\n",
       "            } catch (e) {\n",
       "                console.log(\"Exception inside the 'handler_\" + msg_type + \"' callback:\", e, e.stack, msg);\n",
       "            }\n",
       "        }\n",
       "    };\n",
       "}\n",
       "\n",
       "// from http://stackoverflow.com/questions/1114465/getting-mouse-location-in-canvas\n",
       "mpl.findpos = function(e) {\n",
       "    //this section is from http://www.quirksmode.org/js/events_properties.html\n",
       "    var targ;\n",
       "    if (!e)\n",
       "        e = window.event;\n",
       "    if (e.target)\n",
       "        targ = e.target;\n",
       "    else if (e.srcElement)\n",
       "        targ = e.srcElement;\n",
       "    if (targ.nodeType == 3) // defeat Safari bug\n",
       "        targ = targ.parentNode;\n",
       "\n",
       "    // jQuery normalizes the pageX and pageY\n",
       "    // pageX,Y are the mouse positions relative to the document\n",
       "    // offset() returns the position of the element relative to the document\n",
       "    var x = e.pageX - $(targ).offset().left;\n",
       "    var y = e.pageY - $(targ).offset().top;\n",
       "\n",
       "    return {\"x\": x, \"y\": y};\n",
       "};\n",
       "\n",
       "/*\n",
       " * return a copy of an object with only non-object keys\n",
       " * we need this to avoid circular references\n",
       " * http://stackoverflow.com/a/24161582/3208463\n",
       " */\n",
       "function simpleKeys (original) {\n",
       "  return Object.keys(original).reduce(function (obj, key) {\n",
       "    if (typeof original[key] !== 'object')\n",
       "        obj[key] = original[key]\n",
       "    return obj;\n",
       "  }, {});\n",
       "}\n",
       "\n",
       "mpl.figure.prototype.mouse_event = function(event, name) {\n",
       "    var canvas_pos = mpl.findpos(event)\n",
       "\n",
       "    if (name === 'button_press')\n",
       "    {\n",
       "        this.canvas.focus();\n",
       "        this.canvas_div.focus();\n",
       "    }\n",
       "\n",
       "    var x = canvas_pos.x * mpl.ratio;\n",
       "    var y = canvas_pos.y * mpl.ratio;\n",
       "\n",
       "    this.send_message(name, {x: x, y: y, button: event.button,\n",
       "                             step: event.step,\n",
       "                             guiEvent: simpleKeys(event)});\n",
       "\n",
       "    /* This prevents the web browser from automatically changing to\n",
       "     * the text insertion cursor when the button is pressed.  We want\n",
       "     * to control all of the cursor setting manually through the\n",
       "     * 'cursor' event from matplotlib */\n",
       "    event.preventDefault();\n",
       "    return false;\n",
       "}\n",
       "\n",
       "mpl.figure.prototype._key_event_extra = function(event, name) {\n",
       "    // Handle any extra behaviour associated with a key event\n",
       "}\n",
       "\n",
       "mpl.figure.prototype.key_event = function(event, name) {\n",
       "\n",
       "    // Prevent repeat events\n",
       "    if (name == 'key_press')\n",
       "    {\n",
       "        if (event.which === this._key)\n",
       "            return;\n",
       "        else\n",
       "            this._key = event.which;\n",
       "    }\n",
       "    if (name == 'key_release')\n",
       "        this._key = null;\n",
       "\n",
       "    var value = '';\n",
       "    if (event.ctrlKey && event.which != 17)\n",
       "        value += \"ctrl+\";\n",
       "    if (event.altKey && event.which != 18)\n",
       "        value += \"alt+\";\n",
       "    if (event.shiftKey && event.which != 16)\n",
       "        value += \"shift+\";\n",
       "\n",
       "    value += 'k';\n",
       "    value += event.which.toString();\n",
       "\n",
       "    this._key_event_extra(event, name);\n",
       "\n",
       "    this.send_message(name, {key: value,\n",
       "                             guiEvent: simpleKeys(event)});\n",
       "    return false;\n",
       "}\n",
       "\n",
       "mpl.figure.prototype.toolbar_button_onclick = function(name) {\n",
       "    if (name == 'download') {\n",
       "        this.handle_save(this, null);\n",
       "    } else {\n",
       "        this.send_message(\"toolbar_button\", {name: name});\n",
       "    }\n",
       "};\n",
       "\n",
       "mpl.figure.prototype.toolbar_button_onmouseover = function(tooltip) {\n",
       "    this.message.textContent = tooltip;\n",
       "};\n",
       "mpl.toolbar_items = [[\"Home\", \"Reset original view\", \"fa fa-home icon-home\", \"home\"], [\"Back\", \"Back to previous view\", \"fa fa-arrow-left icon-arrow-left\", \"back\"], [\"Forward\", \"Forward to next view\", \"fa fa-arrow-right icon-arrow-right\", \"forward\"], [\"\", \"\", \"\", \"\"], [\"Pan\", \"Pan axes with left mouse, zoom with right\", \"fa fa-arrows icon-move\", \"pan\"], [\"Zoom\", \"Zoom to rectangle\", \"fa fa-square-o icon-check-empty\", \"zoom\"], [\"\", \"\", \"\", \"\"], [\"Download\", \"Download plot\", \"fa fa-floppy-o icon-save\", \"download\"]];\n",
       "\n",
       "mpl.extensions = [\"eps\", \"jpeg\", \"pdf\", \"png\", \"ps\", \"raw\", \"svg\", \"tif\"];\n",
       "\n",
       "mpl.default_extension = \"png\";var comm_websocket_adapter = function(comm) {\n",
       "    // Create a \"websocket\"-like object which calls the given IPython comm\n",
       "    // object with the appropriate methods. Currently this is a non binary\n",
       "    // socket, so there is still some room for performance tuning.\n",
       "    var ws = {};\n",
       "\n",
       "    ws.close = function() {\n",
       "        comm.close()\n",
       "    };\n",
       "    ws.send = function(m) {\n",
       "        //console.log('sending', m);\n",
       "        comm.send(m);\n",
       "    };\n",
       "    // Register the callback with on_msg.\n",
       "    comm.on_msg(function(msg) {\n",
       "        //console.log('receiving', msg['content']['data'], msg);\n",
       "        // Pass the mpl event to the overridden (by mpl) onmessage function.\n",
       "        ws.onmessage(msg['content']['data'])\n",
       "    });\n",
       "    return ws;\n",
       "}\n",
       "\n",
       "mpl.mpl_figure_comm = function(comm, msg) {\n",
       "    // This is the function which gets called when the mpl process\n",
       "    // starts-up an IPython Comm through the \"matplotlib\" channel.\n",
       "\n",
       "    var id = msg.content.data.id;\n",
       "    // Get hold of the div created by the display call when the Comm\n",
       "    // socket was opened in Python.\n",
       "    var element = $(\"#\" + id);\n",
       "    var ws_proxy = comm_websocket_adapter(comm)\n",
       "\n",
       "    function ondownload(figure, format) {\n",
       "        window.open(figure.imageObj.src);\n",
       "    }\n",
       "\n",
       "    var fig = new mpl.figure(id, ws_proxy,\n",
       "                           ondownload,\n",
       "                           element.get(0));\n",
       "\n",
       "    // Call onopen now - mpl needs it, as it is assuming we've passed it a real\n",
       "    // web socket which is closed, not our websocket->open comm proxy.\n",
       "    ws_proxy.onopen();\n",
       "\n",
       "    fig.parent_element = element.get(0);\n",
       "    fig.cell_info = mpl.find_output_cell(\"<div id='\" + id + \"'></div>\");\n",
       "    if (!fig.cell_info) {\n",
       "        console.error(\"Failed to find cell for figure\", id, fig);\n",
       "        return;\n",
       "    }\n",
       "\n",
       "    var output_index = fig.cell_info[2]\n",
       "    var cell = fig.cell_info[0];\n",
       "\n",
       "};\n",
       "\n",
       "mpl.figure.prototype.handle_close = function(fig, msg) {\n",
       "    var width = fig.canvas.width/mpl.ratio\n",
       "    fig.root.unbind('remove')\n",
       "\n",
       "    // Update the output cell to use the data from the current canvas.\n",
       "    fig.push_to_output();\n",
       "    var dataURL = fig.canvas.toDataURL();\n",
       "    // Re-enable the keyboard manager in IPython - without this line, in FF,\n",
       "    // the notebook keyboard shortcuts fail.\n",
       "    IPython.keyboard_manager.enable()\n",
       "    $(fig.parent_element).html('<img src=\"' + dataURL + '\" width=\"' + width + '\">');\n",
       "    fig.close_ws(fig, msg);\n",
       "}\n",
       "\n",
       "mpl.figure.prototype.close_ws = function(fig, msg){\n",
       "    fig.send_message('closing', msg);\n",
       "    // fig.ws.close()\n",
       "}\n",
       "\n",
       "mpl.figure.prototype.push_to_output = function(remove_interactive) {\n",
       "    // Turn the data on the canvas into data in the output cell.\n",
       "    var width = this.canvas.width/mpl.ratio\n",
       "    var dataURL = this.canvas.toDataURL();\n",
       "    this.cell_info[1]['text/html'] = '<img src=\"' + dataURL + '\" width=\"' + width + '\">';\n",
       "}\n",
       "\n",
       "mpl.figure.prototype.updated_canvas_event = function() {\n",
       "    // Tell IPython that the notebook contents must change.\n",
       "    IPython.notebook.set_dirty(true);\n",
       "    this.send_message(\"ack\", {});\n",
       "    var fig = this;\n",
       "    // Wait a second, then push the new image to the DOM so\n",
       "    // that it is saved nicely (might be nice to debounce this).\n",
       "    setTimeout(function () { fig.push_to_output() }, 1000);\n",
       "}\n",
       "\n",
       "mpl.figure.prototype._init_toolbar = function() {\n",
       "    var fig = this;\n",
       "\n",
       "    var nav_element = $('<div/>');\n",
       "    nav_element.attr('style', 'width: 100%');\n",
       "    this.root.append(nav_element);\n",
       "\n",
       "    // Define a callback function for later on.\n",
       "    function toolbar_event(event) {\n",
       "        return fig.toolbar_button_onclick(event['data']);\n",
       "    }\n",
       "    function toolbar_mouse_event(event) {\n",
       "        return fig.toolbar_button_onmouseover(event['data']);\n",
       "    }\n",
       "\n",
       "    for(var toolbar_ind in mpl.toolbar_items){\n",
       "        var name = mpl.toolbar_items[toolbar_ind][0];\n",
       "        var tooltip = mpl.toolbar_items[toolbar_ind][1];\n",
       "        var image = mpl.toolbar_items[toolbar_ind][2];\n",
       "        var method_name = mpl.toolbar_items[toolbar_ind][3];\n",
       "\n",
       "        if (!name) { continue; };\n",
       "\n",
       "        var button = $('<button class=\"btn btn-default\" href=\"#\" title=\"' + name + '\"><i class=\"fa ' + image + ' fa-lg\"></i></button>');\n",
       "        button.click(method_name, toolbar_event);\n",
       "        button.mouseover(tooltip, toolbar_mouse_event);\n",
       "        nav_element.append(button);\n",
       "    }\n",
       "\n",
       "    // Add the status bar.\n",
       "    var status_bar = $('<span class=\"mpl-message\" style=\"text-align:right; float: right;\"/>');\n",
       "    nav_element.append(status_bar);\n",
       "    this.message = status_bar[0];\n",
       "\n",
       "    // Add the close button to the window.\n",
       "    var buttongrp = $('<div class=\"btn-group inline pull-right\"></div>');\n",
       "    var button = $('<button class=\"btn btn-mini btn-primary\" href=\"#\" title=\"Stop Interaction\"><i class=\"fa fa-power-off icon-remove icon-large\"></i></button>');\n",
       "    button.click(function (evt) { fig.handle_close(fig, {}); } );\n",
       "    button.mouseover('Stop Interaction', toolbar_mouse_event);\n",
       "    buttongrp.append(button);\n",
       "    var titlebar = this.root.find($('.ui-dialog-titlebar'));\n",
       "    titlebar.prepend(buttongrp);\n",
       "}\n",
       "\n",
       "mpl.figure.prototype._root_extra_style = function(el){\n",
       "    var fig = this\n",
       "    el.on(\"remove\", function(){\n",
       "\tfig.close_ws(fig, {});\n",
       "    });\n",
       "}\n",
       "\n",
       "mpl.figure.prototype._canvas_extra_style = function(el){\n",
       "    // this is important to make the div 'focusable\n",
       "    el.attr('tabindex', 0)\n",
       "    // reach out to IPython and tell the keyboard manager to turn it's self\n",
       "    // off when our div gets focus\n",
       "\n",
       "    // location in version 3\n",
       "    if (IPython.notebook.keyboard_manager) {\n",
       "        IPython.notebook.keyboard_manager.register_events(el);\n",
       "    }\n",
       "    else {\n",
       "        // location in version 2\n",
       "        IPython.keyboard_manager.register_events(el);\n",
       "    }\n",
       "\n",
       "}\n",
       "\n",
       "mpl.figure.prototype._key_event_extra = function(event, name) {\n",
       "    var manager = IPython.notebook.keyboard_manager;\n",
       "    if (!manager)\n",
       "        manager = IPython.keyboard_manager;\n",
       "\n",
       "    // Check for shift+enter\n",
       "    if (event.shiftKey && event.which == 13) {\n",
       "        this.canvas_div.blur();\n",
       "        // select the cell after this one\n",
       "        var index = IPython.notebook.find_cell_index(this.cell_info[0]);\n",
       "        IPython.notebook.select(index + 1);\n",
       "    }\n",
       "}\n",
       "\n",
       "mpl.figure.prototype.handle_save = function(fig, msg) {\n",
       "    fig.ondownload(fig, null);\n",
       "}\n",
       "\n",
       "\n",
       "mpl.find_output_cell = function(html_output) {\n",
       "    // Return the cell and output element which can be found *uniquely* in the notebook.\n",
       "    // Note - this is a bit hacky, but it is done because the \"notebook_saving.Notebook\"\n",
       "    // IPython event is triggered only after the cells have been serialised, which for\n",
       "    // our purposes (turning an active figure into a static one), is too late.\n",
       "    var cells = IPython.notebook.get_cells();\n",
       "    var ncells = cells.length;\n",
       "    for (var i=0; i<ncells; i++) {\n",
       "        var cell = cells[i];\n",
       "        if (cell.cell_type === 'code'){\n",
       "            for (var j=0; j<cell.output_area.outputs.length; j++) {\n",
       "                var data = cell.output_area.outputs[j];\n",
       "                if (data.data) {\n",
       "                    // IPython >= 3 moved mimebundle to data attribute of output\n",
       "                    data = data.data;\n",
       "                }\n",
       "                if (data['text/html'] == html_output) {\n",
       "                    return [cell, data, j];\n",
       "                }\n",
       "            }\n",
       "        }\n",
       "    }\n",
       "}\n",
       "\n",
       "// Register the function which deals with the matplotlib target/channel.\n",
       "// The kernel may be null if the page has been refreshed.\n",
       "if (IPython.notebook.kernel != null) {\n",
       "    IPython.notebook.kernel.comm_manager.register_target('matplotlib', mpl.mpl_figure_comm);\n",
       "}\n"
      ],
      "text/plain": [
       "<IPython.core.display.Javascript object>"
      ]
     },
     "metadata": {},
     "output_type": "display_data"
    },
    {
     "data": {
      "text/html": [
       "<img src=\"data:image/png;base64,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\" width=\"208.8888944225548\">"
      ],
      "text/plain": [
       "<IPython.core.display.HTML object>"
      ]
     },
     "metadata": {},
     "output_type": "display_data"
    },
    {
     "name": "stderr",
     "output_type": "stream",
     "text": [
      "/lus/grand/projects/DLHMC/tf_master-2021-03-02/lib/python3.8/site-packages/seaborn/axisgrid.py:64: UserWarning: Tight layout not applied. tight_layout cannot make axes height small enough to accommodate all axes decorations\n",
      "  self.fig.tight_layout(*args, **kwargs)\n",
      "/lus/grand/projects/DLHMC/tf_master-2021-03-02/lib/python3.8/site-packages/seaborn/axisgrid.py:64: UserWarning: Tight layout not applied. tight_layout cannot make axes height small enough to accommodate all axes decorations\n",
      "  self.fig.tight_layout(*args, **kwargs)\n",
      "/lus/grand/projects/DLHMC/tf_master-2021-03-02/lib/python3.8/site-packages/seaborn/axisgrid.py:64: UserWarning: Tight layout not applied. tight_layout cannot make axes height small enough to accommodate all axes decorations\n",
      "  self.fig.tight_layout(*args, **kwargs)\n",
      "<ipython-input-79-e5020c6f38b0>:109: UserWarning: Tight layout not applied. tight_layout cannot make axes height small enough to accommodate all axes decorations\n",
      "  _ = plt.tight_layout()\n"
     ]
    },
    {
     "data": {
      "text/html": [
       "<pre style=\"white-space:pre;overflow-x:auto;line-height:normal;font-family:Menlo,'DejaVu Sans Mono',consolas,'Courier New',monospace\"><span style=\"color: #7fbfbf; text-decoration-color: #7fbfbf\">[22:40:15]  </span>Saving figure to: <span style=\"color: #800080; text-decoration-color: #800080\">/lus/grand/projects/DLHMC/l2hmc-qcd/plots/ridgeplots/2021-04-12/</span><span style=\"color: #ff00ff; text-decoration-color: #ff00ff\">plaqsf_2240.pdf</span>                                                                                                                                   \n",
       "</pre>\n"
      ],
      "text/plain": [
       "<rich.jupyter.JupyterRenderable at 0x7fd6222f4940>"
      ]
     },
     "metadata": {},
     "output_type": "display_data"
    }
   ],
   "source": [
    "#label_str = r\"$\\langle\\varphi_{P} - \\varphi_{P}^{*}\\rangle$\"\n",
    "label_str = r\"$\\langle x_{P} - x_{P}^{*}\\rangle$\"\n",
    "outfile = os.path.join(outdir, f'plaqsf_{timestr}.pdf')\n",
    "sys.path.append('/gpfs/mira-home/foremans/.linuxbrew/bin')\n",
    "\n",
    "#with mpl.rc_context({\n",
    "#    'font.family': 'lmodern',\n",
    "#    #'font.size': 12.,  # 9.6000000000000000001\n",
    "#    '#axes.labelsize': 12.,\n",
    "#    #'figure.figsize': (4, 3),\n",
    "#    #'legend.fontsize': 8.,\n",
    "#    'legend.labelspacing': 0.2, # 0.5\n",
    "#    'legend.handletextpad': 0.3,  # 0.8\n",
    "#    'text.usetex': True,\n",
    "#    'text.latex.preamble': (            # LaTeX preamble\n",
    "#        r'\\usepackage{lmodern}'\n",
    "#        r'\\usepackage{amsmath}'\n",
    "#        r'\\usepackage{amssymb}'\n",
    "#        r'\\usepackage{microtype}'\n",
    "#        r'\\usepackage{bm}'\n",
    "#        r'\\usepackage{bbm}'\n",
    "#    )\n",
    "#}):\n",
    "#    plt.style.use('default')\n",
    "#    sns.set_context('paper')\n",
    "#    sns.set_palette('bright')\n",
    "#    sns.set_style('whitegrid')\n",
    "plt.rc('text', usetex=True)\n",
    "#sns.set_context('paper', font_scale=)\n",
    "\n",
    "plaqsf_data_, (fig, ax) = make_ridgeplots1(plaqsf_dataset, label_str=label_str, cmap='viridis_r',\n",
    "                                           num_chains=16, num_pts=5000, therm_frac=0.5,\n",
    "                                           #aspect=15, height=0.5, out_dir=outdir, usetex=True, ylabels=True)\n",
    "                                           aspect=7, height=0.3, hspace=-0.95, out_dir=outdir,#, labelsize='small',\n",
    "                                           usetex=True, ylabels=False)\n",
    "    "
   ]
  },
  {
   "cell_type": "code",
   "execution_count": 44,
   "metadata": {
    "ExecuteTime": {
     "end_time": "2021-04-12T21:11:46.931715Z",
     "start_time": "2021-04-12T21:11:46.862070Z"
    }
   },
   "outputs": [],
   "source": [
    "%matplotlib notebook"
   ]
  },
  {
   "cell_type": "code",
   "execution_count": 25,
   "metadata": {
    "ExecuteTime": {
     "end_time": "2021-03-01T20:33:58.193690Z",
     "start_time": "2021-03-01T20:33:58.138601Z"
    }
   },
   "outputs": [],
   "source": [
    "plt.show()"
   ]
  },
  {
   "cell_type": "code",
   "execution_count": 48,
   "metadata": {
    "ExecuteTime": {
     "end_time": "2021-03-29T20:27:58.539779Z",
     "start_time": "2021-03-29T20:27:58.459268Z"
    }
   },
   "outputs": [],
   "source": [
    "from config import PROJECT_DIR\n",
    "\n",
    "def save_dataset_to_netcdf(dataset, outfile):\n",
    "    console.log(f'Saving dataset to: {outfile}.')\n",
    "    dataset.to_netcdf(outfile)"
   ]
  },
  {
   "cell_type": "code",
   "execution_count": 49,
   "metadata": {
    "ExecuteTime": {
     "end_time": "2021-03-29T20:29:22.206920Z",
     "start_time": "2021-03-29T20:28:40.946791Z"
    }
   },
   "outputs": [
    {
     "data": {
      "text/html": [
       "<pre style=\"white-space:pre;overflow-x:auto;line-height:normal;font-family:Menlo,'DejaVu Sans Mono',consolas,'Courier New',monospace\"><span style=\"color: #7fbfbf; text-decoration-color: #7fbfbf\">[20:28:41]  </span>Creating directory: <span style=\"color: #800080; text-decoration-color: #800080\">/lus/grand/projects/DLHMC/l2hmc-qcd/datasets/</span><span style=\"color: #ff00ff; text-decoration-color: #ff00ff\">2021-03-29</span>                                                                                                                                                         \n",
       "</pre>\n"
      ],
      "text/plain": [
       "<rich.jupyter.JupyterRenderable at 0x7fe98e942550>"
      ]
     },
     "metadata": {},
     "output_type": "display_data"
    },
    {
     "data": {
      "text/html": [
       "<pre style=\"white-space:pre;overflow-x:auto;line-height:normal;font-family:Menlo,'DejaVu Sans Mono',consolas,'Courier New',monospace\"><span style=\"color: #7fbfbf; text-decoration-color: #7fbfbf\">[20:28:41] </span>Saving dataset to: <span style=\"color: #f92672; text-decoration-color: #f92672\">/lus/grand/projects/DLHMC/l2hmc-qcd/datasets/2021-03-29/</span><span style=\"color: #ff00ff; text-decoration-color: #ff00ff\">hwf_dataset.nc.</span>                                                                                                                                           \n",
       "</pre>\n"
      ],
      "text/plain": [
       "<rich.jupyter.JupyterRenderable at 0x7fe98e942640>"
      ]
     },
     "metadata": {},
     "output_type": "display_data"
    }
   ],
   "source": [
    "datasets_dir = os.path.join(PROJECT_DIR, 'datasets')\n",
    "daystr = io.get_timestamp('%Y-%m-%d')\n",
    "tstr = io.get_timestamp('%H%M')\n",
    "\n",
    "outdir = os.path.join(datasets_dir, daystr)\n",
    "io.check_else_make_dir(outdir)\n",
    "\n",
    "hwf_outfile = os.path.join(outdir, 'hwf_dataset.nc')\n",
    "save_dataset_to_netcdf(hwf_dataset, hwf_outfile)\n",
    "\n",
    "#outfile = os.path.join(outdir, 'sinQf_dataset.nc')\n",
    "#console.log(f'Saving sinQf_dataset to: {outfile}')\n",
    "#sinQf_dataset.to_netcdf(outfile)"
   ]
  },
  {
   "cell_type": "code",
   "execution_count": null,
   "metadata": {},
   "outputs": [],
   "source": []
  },
  {
   "cell_type": "code",
   "execution_count": null,
   "metadata": {},
   "outputs": [],
   "source": [
    "    "
   ]
  },
  {
   "cell_type": "code",
   "execution_count": null,
   "metadata": {},
   "outputs": [],
   "source": []
  },
  {
   "cell_type": "code",
   "execution_count": 1,
   "metadata": {
    "ExecuteTime": {
     "end_time": "2021-03-29T18:02:35.500638Z",
     "start_time": "2021-03-29T18:02:35.419531Z"
    }
   },
   "outputs": [
    {
     "ename": "ModuleNotFoundError",
     "evalue": "No module named 'utils'",
     "output_type": "error",
     "traceback": [
      "\u001b[0;31m---------------------------------------------------------------------------\u001b[0m",
      "\u001b[0;31mModuleNotFoundError\u001b[0m                       Traceback (most recent call last)",
      "\u001b[0;32m<ipython-input-1-fc8de31469df>\u001b[0m in \u001b[0;36m<module>\u001b[0;34m\u001b[0m\n\u001b[0;32m----> 1\u001b[0;31m \u001b[0;32mimport\u001b[0m \u001b[0mutils\u001b[0m\u001b[0;34m.\u001b[0m\u001b[0mfile_io\u001b[0m \u001b[0;32mas\u001b[0m \u001b[0mio\u001b[0m\u001b[0;34m\u001b[0m\u001b[0;34m\u001b[0m\u001b[0m\n\u001b[0m\u001b[1;32m      2\u001b[0m \u001b[0;32mfrom\u001b[0m \u001b[0mconfig\u001b[0m \u001b[0;32mimport\u001b[0m \u001b[0mPLOTS_DIR\u001b[0m\u001b[0;34m\u001b[0m\u001b[0;34m\u001b[0m\u001b[0m\n\u001b[1;32m      3\u001b[0m \u001b[0;34m\u001b[0m\u001b[0m\n\u001b[1;32m      4\u001b[0m \u001b[0mdaystr\u001b[0m \u001b[0;34m=\u001b[0m \u001b[0mio\u001b[0m\u001b[0;34m.\u001b[0m\u001b[0mget_timestamp\u001b[0m\u001b[0;34m(\u001b[0m\u001b[0;34m'%Y-%m-%d'\u001b[0m\u001b[0;34m)\u001b[0m\u001b[0;34m\u001b[0m\u001b[0;34m\u001b[0m\u001b[0m\n\u001b[1;32m      5\u001b[0m \u001b[0mtimestr\u001b[0m \u001b[0;34m=\u001b[0m \u001b[0mio\u001b[0m\u001b[0;34m.\u001b[0m\u001b[0mget_timestamp\u001b[0m\u001b[0;34m(\u001b[0m\u001b[0;34m'%H%M'\u001b[0m\u001b[0;34m)\u001b[0m\u001b[0;34m\u001b[0m\u001b[0;34m\u001b[0m\u001b[0m\n",
      "\u001b[0;31mModuleNotFoundError\u001b[0m: No module named 'utils'"
     ]
    }
   ],
   "source": [
    "import utils.file_io as io\n",
    "from config import PLOTS_DIR\n",
    "\n",
    "daystr = io.get_timestamp('%Y-%m-%d')\n",
    "timestr = io.get_timestamp('%H%M')\n",
    "\n",
    "ridgeplots_dir = os.path.join(PLOTS_DIR, 'ridgeplots')\n",
    "outdir = os.path.join(ridgeplots_dir, daystr)\n",
    "\n",
    "#label_str = r\"$\\langle \\varphi_{P} - \\varphi_{P}^{*}\\rangle$\"\n",
    "label_str = r\"$\\mathcal{Q}_{\\mathbb{R}}$\"\n",
    "outfile = os.path.join(outdir, f'plaqsf_{timestr}.pdf')\n",
    "sinQf_data_, (fig, ax) = make_ridgeplots1(sinQf_dataset, label_str=label_str,\n",
    "                                          num_chains=256, num_pts=500, therm_frac=0.5,\n",
    "                                          aspect=10, height=0.3, out_dir=outdir, ylabels=True)"
   ]
  },
  {
   "cell_type": "code",
   "execution_count": 36,
   "metadata": {
    "ExecuteTime": {
     "end_time": "2021-03-29T22:42:43.000900Z",
     "start_time": "2021-03-29T22:42:41.375620Z"
    }
   },
   "outputs": [
    {
     "data": {
      "text/plain": [
       "array(['0', '1', '10', '11', '2', '3', '4', '5', '6', '7', '8', '9'],\n",
       "      dtype=object)"
      ]
     },
     "execution_count": 36,
     "metadata": {},
     "output_type": "execute_result"
    }
   ],
   "source": [
    "np.unique(lfdf.lf)"
   ]
  },
  {
   "cell_type": "code",
   "execution_count": null,
   "metadata": {},
   "outputs": [],
   "source": [
    "fig, "
   ]
  },
  {
   "cell_type": "code",
   "execution_count": 52,
   "metadata": {
    "ExecuteTime": {
     "end_time": "2021-03-29T22:53:58.704082Z",
     "start_time": "2021-03-29T22:53:57.873573Z"
    }
   },
   "outputs": [
    {
     "ename": "KeyError",
     "evalue": "\"None of [Index(['0', '0', '0', '0', '0', '0', '0', '0', '0', '0',\\n       ...\\n       '11', '11', '11', '11', '11', '11', '11', '11', '11', '11'],\\n      dtype='object', length=960000)] are in the [index]\"",
     "output_type": "error",
     "traceback": [
      "\u001b[0;31m---------------------------------------------------------------------------\u001b[0m",
      "\u001b[0;31mKeyError\u001b[0m                                  Traceback (most recent call last)",
      "\u001b[0;32m<ipython-input-52-19ed53b04f93>\u001b[0m in \u001b[0;36m<module>\u001b[0;34m\u001b[0m\n\u001b[0;32m----> 1\u001b[0;31m \u001b[0mlfdf\u001b[0m\u001b[0;34m.\u001b[0m\u001b[0mloc\u001b[0m\u001b[0;34m[\u001b[0m\u001b[0mlfdf\u001b[0m\u001b[0;34m.\u001b[0m\u001b[0mlf\u001b[0m\u001b[0;34m]\u001b[0m \u001b[0;34m==\u001b[0m \u001b[0;36m4\u001b[0m\u001b[0;34m\u001b[0m\u001b[0;34m\u001b[0m\u001b[0m\n\u001b[0m",
      "\u001b[0;32m~/opt/anaconda3/envs/tf2.4_hvd/lib/python3.8/site-packages/pandas/core/indexing.py\u001b[0m in \u001b[0;36m__getitem__\u001b[0;34m(self, key)\u001b[0m\n\u001b[1;32m    893\u001b[0m \u001b[0;34m\u001b[0m\u001b[0m\n\u001b[1;32m    894\u001b[0m             \u001b[0mmaybe_callable\u001b[0m \u001b[0;34m=\u001b[0m \u001b[0mcom\u001b[0m\u001b[0;34m.\u001b[0m\u001b[0mapply_if_callable\u001b[0m\u001b[0;34m(\u001b[0m\u001b[0mkey\u001b[0m\u001b[0;34m,\u001b[0m \u001b[0mself\u001b[0m\u001b[0;34m.\u001b[0m\u001b[0mobj\u001b[0m\u001b[0;34m)\u001b[0m\u001b[0;34m\u001b[0m\u001b[0;34m\u001b[0m\u001b[0m\n\u001b[0;32m--> 895\u001b[0;31m             \u001b[0;32mreturn\u001b[0m \u001b[0mself\u001b[0m\u001b[0;34m.\u001b[0m\u001b[0m_getitem_axis\u001b[0m\u001b[0;34m(\u001b[0m\u001b[0mmaybe_callable\u001b[0m\u001b[0;34m,\u001b[0m \u001b[0maxis\u001b[0m\u001b[0;34m=\u001b[0m\u001b[0maxis\u001b[0m\u001b[0;34m)\u001b[0m\u001b[0;34m\u001b[0m\u001b[0;34m\u001b[0m\u001b[0m\n\u001b[0m\u001b[1;32m    896\u001b[0m \u001b[0;34m\u001b[0m\u001b[0m\n\u001b[1;32m    897\u001b[0m     \u001b[0;32mdef\u001b[0m \u001b[0m_is_scalar_access\u001b[0m\u001b[0;34m(\u001b[0m\u001b[0mself\u001b[0m\u001b[0;34m,\u001b[0m \u001b[0mkey\u001b[0m\u001b[0;34m:\u001b[0m \u001b[0mTuple\u001b[0m\u001b[0;34m)\u001b[0m\u001b[0;34m:\u001b[0m\u001b[0;34m\u001b[0m\u001b[0;34m\u001b[0m\u001b[0m\n",
      "\u001b[0;32m~/opt/anaconda3/envs/tf2.4_hvd/lib/python3.8/site-packages/pandas/core/indexing.py\u001b[0m in \u001b[0;36m_getitem_axis\u001b[0;34m(self, key, axis)\u001b[0m\n\u001b[1;32m   1111\u001b[0m                     \u001b[0;32mraise\u001b[0m \u001b[0mValueError\u001b[0m\u001b[0;34m(\u001b[0m\u001b[0;34m\"Cannot index with multidimensional key\"\u001b[0m\u001b[0;34m)\u001b[0m\u001b[0;34m\u001b[0m\u001b[0;34m\u001b[0m\u001b[0m\n\u001b[1;32m   1112\u001b[0m \u001b[0;34m\u001b[0m\u001b[0m\n\u001b[0;32m-> 1113\u001b[0;31m                 \u001b[0;32mreturn\u001b[0m \u001b[0mself\u001b[0m\u001b[0;34m.\u001b[0m\u001b[0m_getitem_iterable\u001b[0m\u001b[0;34m(\u001b[0m\u001b[0mkey\u001b[0m\u001b[0;34m,\u001b[0m \u001b[0maxis\u001b[0m\u001b[0;34m=\u001b[0m\u001b[0maxis\u001b[0m\u001b[0;34m)\u001b[0m\u001b[0;34m\u001b[0m\u001b[0;34m\u001b[0m\u001b[0m\n\u001b[0m\u001b[1;32m   1114\u001b[0m \u001b[0;34m\u001b[0m\u001b[0m\n\u001b[1;32m   1115\u001b[0m             \u001b[0;31m# nested tuple slicing\u001b[0m\u001b[0;34m\u001b[0m\u001b[0;34m\u001b[0m\u001b[0;34m\u001b[0m\u001b[0m\n",
      "\u001b[0;32m~/opt/anaconda3/envs/tf2.4_hvd/lib/python3.8/site-packages/pandas/core/indexing.py\u001b[0m in \u001b[0;36m_getitem_iterable\u001b[0;34m(self, key, axis)\u001b[0m\n\u001b[1;32m   1051\u001b[0m \u001b[0;34m\u001b[0m\u001b[0m\n\u001b[1;32m   1052\u001b[0m         \u001b[0;31m# A collection of keys\u001b[0m\u001b[0;34m\u001b[0m\u001b[0;34m\u001b[0m\u001b[0;34m\u001b[0m\u001b[0m\n\u001b[0;32m-> 1053\u001b[0;31m         \u001b[0mkeyarr\u001b[0m\u001b[0;34m,\u001b[0m \u001b[0mindexer\u001b[0m \u001b[0;34m=\u001b[0m \u001b[0mself\u001b[0m\u001b[0;34m.\u001b[0m\u001b[0m_get_listlike_indexer\u001b[0m\u001b[0;34m(\u001b[0m\u001b[0mkey\u001b[0m\u001b[0;34m,\u001b[0m \u001b[0maxis\u001b[0m\u001b[0;34m,\u001b[0m \u001b[0mraise_missing\u001b[0m\u001b[0;34m=\u001b[0m\u001b[0;32mFalse\u001b[0m\u001b[0;34m)\u001b[0m\u001b[0;34m\u001b[0m\u001b[0;34m\u001b[0m\u001b[0m\n\u001b[0m\u001b[1;32m   1054\u001b[0m         return self.obj._reindex_with_indexers(\n\u001b[1;32m   1055\u001b[0m             \u001b[0;34m{\u001b[0m\u001b[0maxis\u001b[0m\u001b[0;34m:\u001b[0m \u001b[0;34m[\u001b[0m\u001b[0mkeyarr\u001b[0m\u001b[0;34m,\u001b[0m \u001b[0mindexer\u001b[0m\u001b[0;34m]\u001b[0m\u001b[0;34m}\u001b[0m\u001b[0;34m,\u001b[0m \u001b[0mcopy\u001b[0m\u001b[0;34m=\u001b[0m\u001b[0;32mTrue\u001b[0m\u001b[0;34m,\u001b[0m \u001b[0mallow_dups\u001b[0m\u001b[0;34m=\u001b[0m\u001b[0;32mTrue\u001b[0m\u001b[0;34m\u001b[0m\u001b[0;34m\u001b[0m\u001b[0m\n",
      "\u001b[0;32m~/opt/anaconda3/envs/tf2.4_hvd/lib/python3.8/site-packages/pandas/core/indexing.py\u001b[0m in \u001b[0;36m_get_listlike_indexer\u001b[0;34m(self, key, axis, raise_missing)\u001b[0m\n\u001b[1;32m   1264\u001b[0m             \u001b[0mkeyarr\u001b[0m\u001b[0;34m,\u001b[0m \u001b[0mindexer\u001b[0m\u001b[0;34m,\u001b[0m \u001b[0mnew_indexer\u001b[0m \u001b[0;34m=\u001b[0m \u001b[0max\u001b[0m\u001b[0;34m.\u001b[0m\u001b[0m_reindex_non_unique\u001b[0m\u001b[0;34m(\u001b[0m\u001b[0mkeyarr\u001b[0m\u001b[0;34m)\u001b[0m\u001b[0;34m\u001b[0m\u001b[0;34m\u001b[0m\u001b[0m\n\u001b[1;32m   1265\u001b[0m \u001b[0;34m\u001b[0m\u001b[0m\n\u001b[0;32m-> 1266\u001b[0;31m         \u001b[0mself\u001b[0m\u001b[0;34m.\u001b[0m\u001b[0m_validate_read_indexer\u001b[0m\u001b[0;34m(\u001b[0m\u001b[0mkeyarr\u001b[0m\u001b[0;34m,\u001b[0m \u001b[0mindexer\u001b[0m\u001b[0;34m,\u001b[0m \u001b[0maxis\u001b[0m\u001b[0;34m,\u001b[0m \u001b[0mraise_missing\u001b[0m\u001b[0;34m=\u001b[0m\u001b[0mraise_missing\u001b[0m\u001b[0;34m)\u001b[0m\u001b[0;34m\u001b[0m\u001b[0;34m\u001b[0m\u001b[0m\n\u001b[0m\u001b[1;32m   1267\u001b[0m         \u001b[0;32mreturn\u001b[0m \u001b[0mkeyarr\u001b[0m\u001b[0;34m,\u001b[0m \u001b[0mindexer\u001b[0m\u001b[0;34m\u001b[0m\u001b[0;34m\u001b[0m\u001b[0m\n\u001b[1;32m   1268\u001b[0m \u001b[0;34m\u001b[0m\u001b[0m\n",
      "\u001b[0;32m~/opt/anaconda3/envs/tf2.4_hvd/lib/python3.8/site-packages/pandas/core/indexing.py\u001b[0m in \u001b[0;36m_validate_read_indexer\u001b[0;34m(self, key, indexer, axis, raise_missing)\u001b[0m\n\u001b[1;32m   1306\u001b[0m             \u001b[0;32mif\u001b[0m \u001b[0mmissing\u001b[0m \u001b[0;34m==\u001b[0m \u001b[0mlen\u001b[0m\u001b[0;34m(\u001b[0m\u001b[0mindexer\u001b[0m\u001b[0;34m)\u001b[0m\u001b[0;34m:\u001b[0m\u001b[0;34m\u001b[0m\u001b[0;34m\u001b[0m\u001b[0m\n\u001b[1;32m   1307\u001b[0m                 \u001b[0maxis_name\u001b[0m \u001b[0;34m=\u001b[0m \u001b[0mself\u001b[0m\u001b[0;34m.\u001b[0m\u001b[0mobj\u001b[0m\u001b[0;34m.\u001b[0m\u001b[0m_get_axis_name\u001b[0m\u001b[0;34m(\u001b[0m\u001b[0maxis\u001b[0m\u001b[0;34m)\u001b[0m\u001b[0;34m\u001b[0m\u001b[0;34m\u001b[0m\u001b[0m\n\u001b[0;32m-> 1308\u001b[0;31m                 \u001b[0;32mraise\u001b[0m \u001b[0mKeyError\u001b[0m\u001b[0;34m(\u001b[0m\u001b[0;34mf\"None of [{key}] are in the [{axis_name}]\"\u001b[0m\u001b[0;34m)\u001b[0m\u001b[0;34m\u001b[0m\u001b[0;34m\u001b[0m\u001b[0m\n\u001b[0m\u001b[1;32m   1309\u001b[0m \u001b[0;34m\u001b[0m\u001b[0m\n\u001b[1;32m   1310\u001b[0m             \u001b[0max\u001b[0m \u001b[0;34m=\u001b[0m \u001b[0mself\u001b[0m\u001b[0;34m.\u001b[0m\u001b[0mobj\u001b[0m\u001b[0;34m.\u001b[0m\u001b[0m_get_axis\u001b[0m\u001b[0;34m(\u001b[0m\u001b[0maxis\u001b[0m\u001b[0;34m)\u001b[0m\u001b[0;34m\u001b[0m\u001b[0;34m\u001b[0m\u001b[0m\n",
      "\u001b[0;31mKeyError\u001b[0m: \"None of [Index(['0', '0', '0', '0', '0', '0', '0', '0', '0', '0',\\n       ...\\n       '11', '11', '11', '11', '11', '11', '11', '11', '11', '11'],\\n      dtype='object', length=960000)] are in the [index]\""
     ]
    }
   ],
   "source": [
    "lfdf.loc[lfdf.lf] == 4\n",
    "\n",
    "console.log(lfdf.T)\n",
    "\n",
    "lfdf[lfdf.lf['4']]\n",
    "\n",
    "console.log(lfdf.loc[:100, 0])\n",
    "\n",
    "console.log(lfdf['9'])\n",
    "\n",
    "fig = plt.figure(figsize=(16, 9))\n",
    "axobjs = []\n",
    "for lf in [int(i) np.unique(lfdf.lf)]:\n",
    "    "
   ]
  },
  {
   "cell_type": "code",
   "execution_count": null,
   "metadata": {},
   "outputs": [],
   "source": [
    "countries = [x for x in np.unique(data.country)]\n",
    "colors = ['#0000ff', '#3300cc', '#660099', '#990066', '#cc0033', '#ff0000']\n",
    "\n",
    "gs = grid_spec.GridSpec(len(countries),1)\n",
    "fig = plt.figure(figsize=(16,9))\n",
    "\n",
    "i = 0\n",
    "\n",
    "ax_objs = []\n",
    "for country in countries:\n",
    "    country = countries[i]\n",
    "    x = np.array(data[data.country == country].score)\n",
    "    x_d = np.linspace(0,1, 1000)\n",
    "\n",
    "    kde = KernelDensity(bandwidth=0.03, kernel='gaussian')\n",
    "    kde.fit(x[:, None])\n",
    "\n",
    "    logprob = kde.score_samples(x_d[:, None])\n",
    "\n",
    "    # creating new axes object\n",
    "    ax_objs.append(fig.add_subplot(gs[i:i+1, 0:]))\n",
    "\n",
    "    # plotting the distribution\n",
    "    ax_objs[-1].plot(x_d, np.exp(logprob),color=\"#f0f0f0\",lw=1)\n",
    "    ax_objs[-1].fill_between(x_d, np.exp(logprob), alpha=1,color=colors[i])\n",
    "\n",
    "\n",
    "    # setting uniform x and y lims\n",
    "    ax_objs[-1].set_xlim(0,1)\n",
    "    ax_objs[-1].set_ylim(0,2.5)\n",
    "\n",
    "    # make background transparent\n",
    "    rect = ax_objs[-1].patch\n",
    "    rect.set_alpha(0)\n",
    "\n",
    "    # remove borders, axis ticks, and labels\n",
    "    ax_objs[-1].set_yticklabels([])\n",
    "\n",
    "    if i == len(countries)-1:\n",
    "        ax_objs[-1].set_xlabel(\"Test Score\", fontsize=16,fontweight=\"bold\")\n",
    "    else:\n",
    "        ax_objs[-1].set_xticklabels([])\n",
    "\n",
    "    spines = [\"top\",\"right\",\"left\",\"bottom\"]\n",
    "    for s in spines:\n",
    "        ax_objs[-1].spines[s].set_visible(False)\n",
    "\n",
    "    adj_country = country.replace(\" \",\"\\n\")\n",
    "    ax_objs[-1].text(-0.02,0,adj_country,fontweight=\"bold\",fontsize=14,ha=\"right\")\n",
    "\n",
    "\n",
    "    i += 1\n",
    "\n",
    "gs.update(hspace=-0.7)\n",
    "\n",
    "fig.text(0.07,0.85,\"Distribution of Aptitude Test Results from 18 – 24 year-olds\",fontsize=20)\n",
    "\n",
    "plt.tight_layout()\n",
    "plt.show()"
   ]
  },
  {
   "cell_type": "code",
   "execution_count": null,
   "metadata": {},
   "outputs": [],
   "source": [
    "make_ridgeplots1"
   ]
  },
  {
   "cell_type": "code",
   "execution_count": 26,
   "metadata": {
    "ExecuteTime": {
     "end_time": "2021-03-29T22:28:35.947334Z",
     "start_time": "2021-03-29T22:28:35.847405Z"
    }
   },
   "outputs": [
    {
     "data": {
      "text/plain": [
       "dict_keys(['hwf'])"
      ]
     },
     "execution_count": 26,
     "metadata": {},
     "output_type": "execute_result"
    }
   ],
   "source": [
    "Hwf_data_.keys()"
   ]
  },
  {
   "cell_type": "code",
   "execution_count": 35,
   "metadata": {
    "ExecuteTime": {
     "end_time": "2021-03-29T22:37:09.121422Z",
     "start_time": "2021-03-29T22:36:34.024911Z"
    }
   },
   "outputs": [
    {
     "data": {
      "application/vnd.jupyter.widget-view+json": {
       "model_id": "53ed7ca1be0044bc91a98542d23169a8",
       "version_major": 2,
       "version_minor": 0
      },
      "text/plain": [
       "Canvas(toolbar=Toolbar(toolitems=[('Home', 'Reset original view', 'home', 'home'), ('Back', 'Back to previous …"
      ]
     },
     "metadata": {},
     "output_type": "display_data"
    }
   ],
   "source": [
    "#console.log(Hwf_data_['hwf']['lfdf'])\n",
    "\n",
    "lfdf = Hwf_data_['hwf']['lfdf']\n",
    "pal = sns.color_palette('viridis_r', n_colors=len(Hwf_data_['hwf']['val'].leapfrog.values))\n",
    "g = sns.FacetGrid(lfdf, row='lf', hue='lf', palette=pal)#, aspect=10, height=0.3, palette=pal)\n",
    "#g = sns.FacetGrid(, row='lf', hue='lf',  aspect=aspect, height=height, palette=pal)\n",
    "_ = g.map(sns.kdeplot, 'hwf', shade=True, alpha=0.7, linewidth=1.5)\n",
    "_ = g.map(plt.axhline, y=0, lw=1.5, alpha=0.7, clip_on=False, ls='-')\n",
    "#_ = g.fig.subplots_adjust(hspace=-0.725)\n",
    "_ = g.set_titles('')\n",
    "_ = g.set(yticks=[])\n",
    "_ = g.despine(bottom=True, left=True)"
   ]
  },
  {
   "cell_type": "code",
   "execution_count": null,
   "metadata": {
    "code_folding": [
     3,
     9,
     21,
     31
    ]
   },
   "outputs": [],
   "source": [
    "data = {}\n",
    "for key, val in dataset.data_vars.items():\n",
    "    if 'leapfrog' in val.coords.dims:\n",
    "        lf_data = {\n",
    "            key: [],\n",
    "            'lf': [],\n",
    "        }\n",
    "        for lf in val.leapfrog.values:\n",
    "            x = val[{'leapfrog': lf}].values\n",
    "            if num_chains is not none:\n",
    "                console.log(f'x.shape: {x.shape}')\n",
    "                x = therm_arr(x, therm_frac=therm_frac, ret_steps=false)\n",
    "                x = x[:num_chains, :num_pts]\n",
    "                #console.log(f'x.shape: {x.shape}')\n",
    "\n",
    "            x = x.flatten()\n",
    "            lf_arr = np.array(len(x) * [f'{lf}'])\n",
    "            lf_data[key].extend(x)\n",
    "            lf_data['lf'].extend(lf_arr)\n",
    "\n",
    "        lfdf = pd.dataframe(lf_data)\n",
    "        data[key] = {\n",
    "            'lfdf': lfdf,\n",
    "            'val': val,\n",
    "        }\n",
    "\n",
    "        pal = sns.color_palette(cmap, n_colors=len(val.leapfrog.values))\n",
    "        #g = sns.facetgrid(lfdf, row='lf', hue='lf', aspect=1, height=3, palette=pal)\n",
    "        g = sns.facetgrid(lfdf, row='lf', hue='lf',  aspect=aspect, height=height, palette=pal)\n",
    "        _ = g.map(sns.kdeplot, key, cut=1, shade=true, alpha=0.7, linewidth=1.5)\n",
    "        _ = g.map(plt.axhline, y=0, lw=1.5, alpha=0.7, clip_on=false, ls='-')\n",
    "        def get_label(x, color, label):\n",
    "            ax = plt.gca()\n",
    "            ax.text(0, 0.01, label, color=color, ha='left', va='bottom', #fontweight='bold'\n",
    "                    transform=ax.transaxes)#, fontsize='small')\n",
    "\n",
    "        if ylabels:\n",
    "            _ = g.map(get_label, key)\n",
    "\n",
    "        if xticks is not none:\n",
    "            plt.xticks(xticks)\n",
    "            #plt.xlim(xlim)\n",
    "\n",
    "        _ = g.fig.subplots_adjust(hspace=-0.725)\n",
    "        _ = g.set_titles('')\n",
    "        _ = g.set(yticks=[])\n",
    "        _ = g.despine(bottom=true, left=true)\n",
    "        fig = plt.gcf()\n",
    "        ax = plt.gca()\n",
    "        _ = ax.set_xlabel(label_str)\n",
    "        _ = plt.tight_layout()"
   ]
  },
  {
   "cell_type": "code",
   "execution_count": null,
   "metadata": {},
   "outputs": [],
   "source": []
  },
  {
   "cell_type": "code",
   "execution_count": null,
   "metadata": {},
   "outputs": [],
   "source": [
    "import xarray as xr\n",
    "\n",
    "from utils.data_containers import DataContainer\n",
    "\n",
    "container = DataContainer(0)\n",
    "for \n",
    "data = container.load_data(data_dir)\n",
    "    for key, val in data.items():\n",
    "        container.data[key] = np.array(val).tolist()\n",
    "        \n",
    "    dataset = container.get_dataset(therm_frac=therm_frac)\n",
    "    return dataset"
   ]
  },
  {
   "cell_type": "code",
   "execution_count": 5,
   "metadata": {
    "ExecuteTime": {
     "end_time": "2021-03-01T03:53:51.260447Z",
     "start_time": "2021-03-01T03:53:51.147208Z"
    }
   },
   "outputs": [],
   "source": [
    "import arviz as az\n",
    "import xarray as xr\n",
    "\n",
    "\n",
    "dfile = os.path.join(ridgeplots_dir, 'plaqsf_dataset')\n",
    "plaqsf_dataset = xr.open_dataset(dfile)"
   ]
  },
  {
   "cell_type": "code",
   "execution_count": 6,
   "metadata": {
    "ExecuteTime": {
     "end_time": "2021-03-01T03:54:25.267408Z",
     "start_time": "2021-03-01T03:54:25.135884Z"
    }
   },
   "outputs": [
    {
     "data": {
      "text/plain": [
       "<bound method Mapping.values of <xarray.Dataset>\n",
       "Dimensions:   (chain: 512, draw: 100000, leapfrog: 16)\n",
       "Coordinates:\n",
       "  * chain     (chain) int64 0 1 2 3 4 5 6 7 ... 504 505 506 507 508 509 510 511\n",
       "  * leapfrog  (leapfrog) int64 0 1 2 3 4 5 6 7 8 9 10 11 12 13 14 15\n",
       "  * draw      (draw) int64 25000 25001 25002 25003 ... 124997 124998 124999\n",
       "Data variables:\n",
       "    plaqsf    (chain, leapfrog, draw) float64 -0.011 -0.011 ... 9.698e-05>"
      ]
     },
     "execution_count": 6,
     "metadata": {},
     "output_type": "execute_result"
    }
   ],
   "source": [
    "plaqsf_dataset.values"
   ]
  },
  {
   "cell_type": "markdown",
   "metadata": {},
   "source": [
    "# New heading"
   ]
  },
  {
   "cell_type": "code",
   "execution_count": 44,
   "metadata": {
    "ExecuteTime": {
     "end_time": "2021-03-01T06:59:45.524356Z",
     "start_time": "2021-03-01T06:59:45.362747Z"
    }
   },
   "outputs": [],
   "source": []
  },
  {
   "cell_type": "code",
   "execution_count": null,
   "metadata": {},
   "outputs": [],
   "source": []
  },
  {
   "cell_type": "code",
   "execution_count": 73,
   "metadata": {
    "ExecuteTime": {
     "end_time": "2021-03-01T07:51:49.593480Z",
     "start_time": "2021-03-01T07:51:49.368165Z"
    }
   },
   "outputs": [],
   "source": []
  },
  {
   "cell_type": "code",
   "execution_count": 78,
   "metadata": {
    "ExecuteTime": {
     "end_time": "2021-03-01T08:00:49.761803Z",
     "start_time": "2021-03-01T08:00:06.060845Z"
    }
   },
   "outputs": [
    {
     "data": {
      "text/html": [
       "<pre style=\"white-space:pre;overflow-x:auto;line-height:normal;font-family:Menlo,'DejaVu Sans Mono',consolas,'Courier New',monospace\"><span style=\"color: #7fbfbf\">[02:00:06] </span>x.shape: <span style=\"font-weight: bold\">(</span><span style=\"color: #ff79ff\">512</span>, <span style=\"color: #ff79ff\">100000</span><span style=\"font-weight: bold\">)</span>                                                                                                                                                                             <span style=\"color: #7f7f7f\">&lt;ipython-input-73-d171f903b959&gt;:66</span>\n",
       "</pre>\n"
      ],
      "text/plain": [
       "<rich.jupyter.JupyterRenderable at 0x7feaaff1bc40>"
      ]
     },
     "metadata": {},
     "output_type": "display_data"
    },
    {
     "data": {
      "text/html": [
       "<pre style=\"white-space:pre;overflow-x:auto;line-height:normal;font-family:Menlo,'DejaVu Sans Mono',consolas,'Courier New',monospace\"><span style=\"color: #7fbfbf\">           </span>x.shape: <span style=\"font-weight: bold\">(</span><span style=\"color: #ff79ff\">256</span>, <span style=\"color: #ff79ff\">500</span><span style=\"font-weight: bold\">)</span>                                                                                                                                                                                <span style=\"color: #7f7f7f\">&lt;ipython-input-73-d171f903b959&gt;:69</span>\n",
       "</pre>\n"
      ],
      "text/plain": [
       "<rich.jupyter.JupyterRenderable at 0x7feaaff1b340>"
      ]
     },
     "metadata": {},
     "output_type": "display_data"
    },
    {
     "data": {
      "text/html": [
       "<pre style=\"white-space:pre;overflow-x:auto;line-height:normal;font-family:Menlo,'DejaVu Sans Mono',consolas,'Courier New',monospace\"><span style=\"color: #7fbfbf\">           </span>x.shape: <span style=\"font-weight: bold\">(</span><span style=\"color: #ff79ff\">512</span>, <span style=\"color: #ff79ff\">100000</span><span style=\"font-weight: bold\">)</span>                                                                                                                                                                             <span style=\"color: #7f7f7f\">&lt;ipython-input-73-d171f903b959&gt;:66</span>\n",
       "</pre>\n"
      ],
      "text/plain": [
       "<rich.jupyter.JupyterRenderable at 0x7feaaff1be20>"
      ]
     },
     "metadata": {},
     "output_type": "display_data"
    },
    {
     "data": {
      "text/html": [
       "<pre style=\"white-space:pre;overflow-x:auto;line-height:normal;font-family:Menlo,'DejaVu Sans Mono',consolas,'Courier New',monospace\"><span style=\"color: #7fbfbf\">           </span>x.shape: <span style=\"font-weight: bold\">(</span><span style=\"color: #ff79ff\">256</span>, <span style=\"color: #ff79ff\">500</span><span style=\"font-weight: bold\">)</span>                                                                                                                                                                                <span style=\"color: #7f7f7f\">&lt;ipython-input-73-d171f903b959&gt;:69</span>\n",
       "</pre>\n"
      ],
      "text/plain": [
       "<rich.jupyter.JupyterRenderable at 0x7feaaff1bbb0>"
      ]
     },
     "metadata": {},
     "output_type": "display_data"
    },
    {
     "data": {
      "text/html": [
       "<pre style=\"white-space:pre;overflow-x:auto;line-height:normal;font-family:Menlo,'DejaVu Sans Mono',consolas,'Courier New',monospace\"><span style=\"color: #7fbfbf\">           </span>x.shape: <span style=\"font-weight: bold\">(</span><span style=\"color: #ff79ff\">512</span>, <span style=\"color: #ff79ff\">100000</span><span style=\"font-weight: bold\">)</span>                                                                                                                                                                             <span style=\"color: #7f7f7f\">&lt;ipython-input-73-d171f903b959&gt;:66</span>\n",
       "</pre>\n"
      ],
      "text/plain": [
       "<rich.jupyter.JupyterRenderable at 0x7feaaff1bc40>"
      ]
     },
     "metadata": {},
     "output_type": "display_data"
    },
    {
     "data": {
      "text/html": [
       "<pre style=\"white-space:pre;overflow-x:auto;line-height:normal;font-family:Menlo,'DejaVu Sans Mono',consolas,'Courier New',monospace\"><span style=\"color: #7fbfbf\">[02:00:07] </span>x.shape: <span style=\"font-weight: bold\">(</span><span style=\"color: #ff79ff\">256</span>, <span style=\"color: #ff79ff\">500</span><span style=\"font-weight: bold\">)</span>                                                                                                                                                                                <span style=\"color: #7f7f7f\">&lt;ipython-input-73-d171f903b959&gt;:69</span>\n",
       "</pre>\n"
      ],
      "text/plain": [
       "<rich.jupyter.JupyterRenderable at 0x7feaaff1be20>"
      ]
     },
     "metadata": {},
     "output_type": "display_data"
    },
    {
     "data": {
      "text/html": [
       "<pre style=\"white-space:pre;overflow-x:auto;line-height:normal;font-family:Menlo,'DejaVu Sans Mono',consolas,'Courier New',monospace\"><span style=\"color: #7fbfbf\">           </span>x.shape: <span style=\"font-weight: bold\">(</span><span style=\"color: #ff79ff\">512</span>, <span style=\"color: #ff79ff\">100000</span><span style=\"font-weight: bold\">)</span>                                                                                                                                                                             <span style=\"color: #7f7f7f\">&lt;ipython-input-73-d171f903b959&gt;:66</span>\n",
       "</pre>\n"
      ],
      "text/plain": [
       "<rich.jupyter.JupyterRenderable at 0x7feaaff1be20>"
      ]
     },
     "metadata": {},
     "output_type": "display_data"
    },
    {
     "data": {
      "text/html": [
       "<pre style=\"white-space:pre;overflow-x:auto;line-height:normal;font-family:Menlo,'DejaVu Sans Mono',consolas,'Courier New',monospace\"><span style=\"color: #7fbfbf\">           </span>x.shape: <span style=\"font-weight: bold\">(</span><span style=\"color: #ff79ff\">256</span>, <span style=\"color: #ff79ff\">500</span><span style=\"font-weight: bold\">)</span>                                                                                                                                                                                <span style=\"color: #7f7f7f\">&lt;ipython-input-73-d171f903b959&gt;:69</span>\n",
       "</pre>\n"
      ],
      "text/plain": [
       "<rich.jupyter.JupyterRenderable at 0x7feaaff1be20>"
      ]
     },
     "metadata": {},
     "output_type": "display_data"
    },
    {
     "data": {
      "text/html": [
       "<pre style=\"white-space:pre;overflow-x:auto;line-height:normal;font-family:Menlo,'DejaVu Sans Mono',consolas,'Courier New',monospace\"><span style=\"color: #7fbfbf\">           </span>x.shape: <span style=\"font-weight: bold\">(</span><span style=\"color: #ff79ff\">512</span>, <span style=\"color: #ff79ff\">100000</span><span style=\"font-weight: bold\">)</span>                                                                                                                                                                             <span style=\"color: #7f7f7f\">&lt;ipython-input-73-d171f903b959&gt;:66</span>\n",
       "</pre>\n"
      ],
      "text/plain": [
       "<rich.jupyter.JupyterRenderable at 0x7fea9eb48700>"
      ]
     },
     "metadata": {},
     "output_type": "display_data"
    },
    {
     "data": {
      "text/html": [
       "<pre style=\"white-space:pre;overflow-x:auto;line-height:normal;font-family:Menlo,'DejaVu Sans Mono',consolas,'Courier New',monospace\"><span style=\"color: #7fbfbf\">           </span>x.shape: <span style=\"font-weight: bold\">(</span><span style=\"color: #ff79ff\">256</span>, <span style=\"color: #ff79ff\">500</span><span style=\"font-weight: bold\">)</span>                                                                                                                                                                                <span style=\"color: #7f7f7f\">&lt;ipython-input-73-d171f903b959&gt;:69</span>\n",
       "</pre>\n"
      ],
      "text/plain": [
       "<rich.jupyter.JupyterRenderable at 0x7fe048b44190>"
      ]
     },
     "metadata": {},
     "output_type": "display_data"
    },
    {
     "data": {
      "text/html": [
       "<pre style=\"white-space:pre;overflow-x:auto;line-height:normal;font-family:Menlo,'DejaVu Sans Mono',consolas,'Courier New',monospace\"><span style=\"color: #7fbfbf\">           </span>x.shape: <span style=\"font-weight: bold\">(</span><span style=\"color: #ff79ff\">512</span>, <span style=\"color: #ff79ff\">100000</span><span style=\"font-weight: bold\">)</span>                                                                                                                                                                             <span style=\"color: #7f7f7f\">&lt;ipython-input-73-d171f903b959&gt;:66</span>\n",
       "</pre>\n"
      ],
      "text/plain": [
       "<rich.jupyter.JupyterRenderable at 0x7fdb88dd73a0>"
      ]
     },
     "metadata": {},
     "output_type": "display_data"
    },
    {
     "data": {
      "text/html": [
       "<pre style=\"white-space:pre;overflow-x:auto;line-height:normal;font-family:Menlo,'DejaVu Sans Mono',consolas,'Courier New',monospace\"><span style=\"color: #7fbfbf\">           </span>x.shape: <span style=\"font-weight: bold\">(</span><span style=\"color: #ff79ff\">256</span>, <span style=\"color: #ff79ff\">500</span><span style=\"font-weight: bold\">)</span>                                                                                                                                                                                <span style=\"color: #7f7f7f\">&lt;ipython-input-73-d171f903b959&gt;:69</span>\n",
       "</pre>\n"
      ],
      "text/plain": [
       "<rich.jupyter.JupyterRenderable at 0x7feaaff21490>"
      ]
     },
     "metadata": {},
     "output_type": "display_data"
    },
    {
     "data": {
      "text/html": [
       "<pre style=\"white-space:pre;overflow-x:auto;line-height:normal;font-family:Menlo,'DejaVu Sans Mono',consolas,'Courier New',monospace\"><span style=\"color: #7fbfbf\">           </span>x.shape: <span style=\"font-weight: bold\">(</span><span style=\"color: #ff79ff\">512</span>, <span style=\"color: #ff79ff\">100000</span><span style=\"font-weight: bold\">)</span>                                                                                                                                                                             <span style=\"color: #7f7f7f\">&lt;ipython-input-73-d171f903b959&gt;:66</span>\n",
       "</pre>\n"
      ],
      "text/plain": [
       "<rich.jupyter.JupyterRenderable at 0x7fea3c54b4f0>"
      ]
     },
     "metadata": {},
     "output_type": "display_data"
    },
    {
     "data": {
      "text/html": [
       "<pre style=\"white-space:pre;overflow-x:auto;line-height:normal;font-family:Menlo,'DejaVu Sans Mono',consolas,'Courier New',monospace\"><span style=\"color: #7fbfbf\">           </span>x.shape: <span style=\"font-weight: bold\">(</span><span style=\"color: #ff79ff\">256</span>, <span style=\"color: #ff79ff\">500</span><span style=\"font-weight: bold\">)</span>                                                                                                                                                                                <span style=\"color: #7f7f7f\">&lt;ipython-input-73-d171f903b959&gt;:69</span>\n",
       "</pre>\n"
      ],
      "text/plain": [
       "<rich.jupyter.JupyterRenderable at 0x7fea9eb48700>"
      ]
     },
     "metadata": {},
     "output_type": "display_data"
    },
    {
     "data": {
      "text/html": [
       "<pre style=\"white-space:pre;overflow-x:auto;line-height:normal;font-family:Menlo,'DejaVu Sans Mono',consolas,'Courier New',monospace\"><span style=\"color: #7fbfbf\">[02:00:08] </span>x.shape: <span style=\"font-weight: bold\">(</span><span style=\"color: #ff79ff\">512</span>, <span style=\"color: #ff79ff\">100000</span><span style=\"font-weight: bold\">)</span>                                                                                                                                                                             <span style=\"color: #7f7f7f\">&lt;ipython-input-73-d171f903b959&gt;:66</span>\n",
       "</pre>\n"
      ],
      "text/plain": [
       "<rich.jupyter.JupyterRenderable at 0x7feaaff21490>"
      ]
     },
     "metadata": {},
     "output_type": "display_data"
    },
    {
     "data": {
      "text/html": [
       "<pre style=\"white-space:pre;overflow-x:auto;line-height:normal;font-family:Menlo,'DejaVu Sans Mono',consolas,'Courier New',monospace\"><span style=\"color: #7fbfbf\">           </span>x.shape: <span style=\"font-weight: bold\">(</span><span style=\"color: #ff79ff\">256</span>, <span style=\"color: #ff79ff\">500</span><span style=\"font-weight: bold\">)</span>                                                                                                                                                                                <span style=\"color: #7f7f7f\">&lt;ipython-input-73-d171f903b959&gt;:69</span>\n",
       "</pre>\n"
      ],
      "text/plain": [
       "<rich.jupyter.JupyterRenderable at 0x7feaaff1b340>"
      ]
     },
     "metadata": {},
     "output_type": "display_data"
    },
    {
     "data": {
      "text/html": [
       "<pre style=\"white-space:pre;overflow-x:auto;line-height:normal;font-family:Menlo,'DejaVu Sans Mono',consolas,'Courier New',monospace\"><span style=\"color: #7fbfbf\">           </span>x.shape: <span style=\"font-weight: bold\">(</span><span style=\"color: #ff79ff\">512</span>, <span style=\"color: #ff79ff\">100000</span><span style=\"font-weight: bold\">)</span>                                                                                                                                                                             <span style=\"color: #7f7f7f\">&lt;ipython-input-73-d171f903b959&gt;:66</span>\n",
       "</pre>\n"
      ],
      "text/plain": [
       "<rich.jupyter.JupyterRenderable at 0x7feaaff1bc10>"
      ]
     },
     "metadata": {},
     "output_type": "display_data"
    },
    {
     "data": {
      "text/html": [
       "<pre style=\"white-space:pre;overflow-x:auto;line-height:normal;font-family:Menlo,'DejaVu Sans Mono',consolas,'Courier New',monospace\"><span style=\"color: #7fbfbf\">           </span>x.shape: <span style=\"font-weight: bold\">(</span><span style=\"color: #ff79ff\">256</span>, <span style=\"color: #ff79ff\">500</span><span style=\"font-weight: bold\">)</span>                                                                                                                                                                                <span style=\"color: #7f7f7f\">&lt;ipython-input-73-d171f903b959&gt;:69</span>\n",
       "</pre>\n"
      ],
      "text/plain": [
       "<rich.jupyter.JupyterRenderable at 0x7feaaff1b340>"
      ]
     },
     "metadata": {},
     "output_type": "display_data"
    },
    {
     "data": {
      "text/html": [
       "<pre style=\"white-space:pre;overflow-x:auto;line-height:normal;font-family:Menlo,'DejaVu Sans Mono',consolas,'Courier New',monospace\"><span style=\"color: #7fbfbf\">           </span>x.shape: <span style=\"font-weight: bold\">(</span><span style=\"color: #ff79ff\">512</span>, <span style=\"color: #ff79ff\">100000</span><span style=\"font-weight: bold\">)</span>                                                                                                                                                                             <span style=\"color: #7f7f7f\">&lt;ipython-input-73-d171f903b959&gt;:66</span>\n",
       "</pre>\n"
      ],
      "text/plain": [
       "<rich.jupyter.JupyterRenderable at 0x7fea9eb48970>"
      ]
     },
     "metadata": {},
     "output_type": "display_data"
    },
    {
     "data": {
      "text/html": [
       "<pre style=\"white-space:pre;overflow-x:auto;line-height:normal;font-family:Menlo,'DejaVu Sans Mono',consolas,'Courier New',monospace\"><span style=\"color: #7fbfbf\">           </span>x.shape: <span style=\"font-weight: bold\">(</span><span style=\"color: #ff79ff\">256</span>, <span style=\"color: #ff79ff\">500</span><span style=\"font-weight: bold\">)</span>                                                                                                                                                                                <span style=\"color: #7f7f7f\">&lt;ipython-input-73-d171f903b959&gt;:69</span>\n",
       "</pre>\n"
      ],
      "text/plain": [
       "<rich.jupyter.JupyterRenderable at 0x7fea98ed81c0>"
      ]
     },
     "metadata": {},
     "output_type": "display_data"
    },
    {
     "data": {
      "text/html": [
       "<pre style=\"white-space:pre;overflow-x:auto;line-height:normal;font-family:Menlo,'DejaVu Sans Mono',consolas,'Courier New',monospace\"><span style=\"color: #7fbfbf\">           </span>x.shape: <span style=\"font-weight: bold\">(</span><span style=\"color: #ff79ff\">512</span>, <span style=\"color: #ff79ff\">100000</span><span style=\"font-weight: bold\">)</span>                                                                                                                                                                             <span style=\"color: #7f7f7f\">&lt;ipython-input-73-d171f903b959&gt;:66</span>\n",
       "</pre>\n"
      ],
      "text/plain": [
       "<rich.jupyter.JupyterRenderable at 0x7fe048b44190>"
      ]
     },
     "metadata": {},
     "output_type": "display_data"
    },
    {
     "data": {
      "text/html": [
       "<pre style=\"white-space:pre;overflow-x:auto;line-height:normal;font-family:Menlo,'DejaVu Sans Mono',consolas,'Courier New',monospace\"><span style=\"color: #7fbfbf\">           </span>x.shape: <span style=\"font-weight: bold\">(</span><span style=\"color: #ff79ff\">256</span>, <span style=\"color: #ff79ff\">500</span><span style=\"font-weight: bold\">)</span>                                                                                                                                                                                <span style=\"color: #7f7f7f\">&lt;ipython-input-73-d171f903b959&gt;:69</span>\n",
       "</pre>\n"
      ],
      "text/plain": [
       "<rich.jupyter.JupyterRenderable at 0x7fe048b44190>"
      ]
     },
     "metadata": {},
     "output_type": "display_data"
    },
    {
     "data": {
      "text/html": [
       "<pre style=\"white-space:pre;overflow-x:auto;line-height:normal;font-family:Menlo,'DejaVu Sans Mono',consolas,'Courier New',monospace\"><span style=\"color: #7fbfbf\">           </span>x.shape: <span style=\"font-weight: bold\">(</span><span style=\"color: #ff79ff\">512</span>, <span style=\"color: #ff79ff\">100000</span><span style=\"font-weight: bold\">)</span>                                                                                                                                                                             <span style=\"color: #7f7f7f\">&lt;ipython-input-73-d171f903b959&gt;:66</span>\n",
       "</pre>\n"
      ],
      "text/plain": [
       "<rich.jupyter.JupyterRenderable at 0x7fe0788d0670>"
      ]
     },
     "metadata": {},
     "output_type": "display_data"
    },
    {
     "data": {
      "text/html": [
       "<pre style=\"white-space:pre;overflow-x:auto;line-height:normal;font-family:Menlo,'DejaVu Sans Mono',consolas,'Courier New',monospace\"><span style=\"color: #7fbfbf\">           </span>x.shape: <span style=\"font-weight: bold\">(</span><span style=\"color: #ff79ff\">256</span>, <span style=\"color: #ff79ff\">500</span><span style=\"font-weight: bold\">)</span>                                                                                                                                                                                <span style=\"color: #7f7f7f\">&lt;ipython-input-73-d171f903b959&gt;:69</span>\n",
       "</pre>\n"
      ],
      "text/plain": [
       "<rich.jupyter.JupyterRenderable at 0x7fea9eb48700>"
      ]
     },
     "metadata": {},
     "output_type": "display_data"
    },
    {
     "data": {
      "text/html": [
       "<pre style=\"white-space:pre;overflow-x:auto;line-height:normal;font-family:Menlo,'DejaVu Sans Mono',consolas,'Courier New',monospace\"><span style=\"color: #7fbfbf\">           </span>x.shape: <span style=\"font-weight: bold\">(</span><span style=\"color: #ff79ff\">512</span>, <span style=\"color: #ff79ff\">100000</span><span style=\"font-weight: bold\">)</span>                                                                                                                                                                             <span style=\"color: #7f7f7f\">&lt;ipython-input-73-d171f903b959&gt;:66</span>\n",
       "</pre>\n"
      ],
      "text/plain": [
       "<rich.jupyter.JupyterRenderable at 0x7feaaff1b340>"
      ]
     },
     "metadata": {},
     "output_type": "display_data"
    },
    {
     "data": {
      "text/html": [
       "<pre style=\"white-space:pre;overflow-x:auto;line-height:normal;font-family:Menlo,'DejaVu Sans Mono',consolas,'Courier New',monospace\"><span style=\"color: #7fbfbf\">[02:00:09] </span>x.shape: <span style=\"font-weight: bold\">(</span><span style=\"color: #ff79ff\">256</span>, <span style=\"color: #ff79ff\">500</span><span style=\"font-weight: bold\">)</span>                                                                                                                                                                                <span style=\"color: #7f7f7f\">&lt;ipython-input-73-d171f903b959&gt;:69</span>\n",
       "</pre>\n"
      ],
      "text/plain": [
       "<rich.jupyter.JupyterRenderable at 0x7feaaff1bc10>"
      ]
     },
     "metadata": {},
     "output_type": "display_data"
    },
    {
     "data": {
      "text/html": [
       "<pre style=\"white-space:pre;overflow-x:auto;line-height:normal;font-family:Menlo,'DejaVu Sans Mono',consolas,'Courier New',monospace\"><span style=\"color: #7fbfbf\">           </span>x.shape: <span style=\"font-weight: bold\">(</span><span style=\"color: #ff79ff\">512</span>, <span style=\"color: #ff79ff\">100000</span><span style=\"font-weight: bold\">)</span>                                                                                                                                                                             <span style=\"color: #7f7f7f\">&lt;ipython-input-73-d171f903b959&gt;:66</span>\n",
       "</pre>\n"
      ],
      "text/plain": [
       "<rich.jupyter.JupyterRenderable at 0x7fe0788d0670>"
      ]
     },
     "metadata": {},
     "output_type": "display_data"
    },
    {
     "data": {
      "text/html": [
       "<pre style=\"white-space:pre;overflow-x:auto;line-height:normal;font-family:Menlo,'DejaVu Sans Mono',consolas,'Courier New',monospace\"><span style=\"color: #7fbfbf\">           </span>x.shape: <span style=\"font-weight: bold\">(</span><span style=\"color: #ff79ff\">256</span>, <span style=\"color: #ff79ff\">500</span><span style=\"font-weight: bold\">)</span>                                                                                                                                                                                <span style=\"color: #7f7f7f\">&lt;ipython-input-73-d171f903b959&gt;:69</span>\n",
       "</pre>\n"
      ],
      "text/plain": [
       "<rich.jupyter.JupyterRenderable at 0x7fdb88dd73a0>"
      ]
     },
     "metadata": {},
     "output_type": "display_data"
    },
    {
     "data": {
      "text/html": [
       "<pre style=\"white-space:pre;overflow-x:auto;line-height:normal;font-family:Menlo,'DejaVu Sans Mono',consolas,'Courier New',monospace\"><span style=\"color: #7fbfbf\">           </span>x.shape: <span style=\"font-weight: bold\">(</span><span style=\"color: #ff79ff\">512</span>, <span style=\"color: #ff79ff\">100000</span><span style=\"font-weight: bold\">)</span>                                                                                                                                                                             <span style=\"color: #7f7f7f\">&lt;ipython-input-73-d171f903b959&gt;:66</span>\n",
       "</pre>\n"
      ],
      "text/plain": [
       "<rich.jupyter.JupyterRenderable at 0x7fe0788d0670>"
      ]
     },
     "metadata": {},
     "output_type": "display_data"
    },
    {
     "data": {
      "text/html": [
       "<pre style=\"white-space:pre;overflow-x:auto;line-height:normal;font-family:Menlo,'DejaVu Sans Mono',consolas,'Courier New',monospace\"><span style=\"color: #7fbfbf\">           </span>x.shape: <span style=\"font-weight: bold\">(</span><span style=\"color: #ff79ff\">256</span>, <span style=\"color: #ff79ff\">500</span><span style=\"font-weight: bold\">)</span>                                                                                                                                                                                <span style=\"color: #7f7f7f\">&lt;ipython-input-73-d171f903b959&gt;:69</span>\n",
       "</pre>\n"
      ],
      "text/plain": [
       "<rich.jupyter.JupyterRenderable at 0x7fe0788d0670>"
      ]
     },
     "metadata": {},
     "output_type": "display_data"
    },
    {
     "data": {
      "text/html": [
       "<pre style=\"white-space:pre;overflow-x:auto;line-height:normal;font-family:Menlo,'DejaVu Sans Mono',consolas,'Courier New',monospace\"><span style=\"color: #7fbfbf\">           </span>x.shape: <span style=\"font-weight: bold\">(</span><span style=\"color: #ff79ff\">512</span>, <span style=\"color: #ff79ff\">100000</span><span style=\"font-weight: bold\">)</span>                                                                                                                                                                             <span style=\"color: #7f7f7f\">&lt;ipython-input-73-d171f903b959&gt;:66</span>\n",
       "</pre>\n"
      ],
      "text/plain": [
       "<rich.jupyter.JupyterRenderable at 0x7fea3c54b610>"
      ]
     },
     "metadata": {},
     "output_type": "display_data"
    },
    {
     "data": {
      "text/html": [
       "<pre style=\"white-space:pre;overflow-x:auto;line-height:normal;font-family:Menlo,'DejaVu Sans Mono',consolas,'Courier New',monospace\"><span style=\"color: #7fbfbf\">           </span>x.shape: <span style=\"font-weight: bold\">(</span><span style=\"color: #ff79ff\">256</span>, <span style=\"color: #ff79ff\">500</span><span style=\"font-weight: bold\">)</span>                                                                                                                                                                                <span style=\"color: #7f7f7f\">&lt;ipython-input-73-d171f903b959&gt;:69</span>\n",
       "</pre>\n"
      ],
      "text/plain": [
       "<rich.jupyter.JupyterRenderable at 0x7feaaff21490>"
      ]
     },
     "metadata": {},
     "output_type": "display_data"
    },
    {
     "name": "stderr",
     "output_type": "stream",
     "text": [
      "/Users/saforem2/opt/anaconda3/envs/tf2.4/lib/python3.8/site-packages/seaborn/axisgrid.py:64: UserWarning: Tight layout not applied. tight_layout cannot make axes height small enough to accommodate all axes decorations\n",
      "  self.fig.tight_layout(*args, **kwargs)\n",
      "/Users/saforem2/opt/anaconda3/envs/tf2.4/lib/python3.8/site-packages/seaborn/axisgrid.py:64: UserWarning: Tight layout not applied. tight_layout cannot make axes height small enough to accommodate all axes decorations\n",
      "  self.fig.tight_layout(*args, **kwargs)\n"
     ]
    },
    {
     "data": {
      "text/html": [
       "<pre style=\"white-space:pre;overflow-x:auto;line-height:normal;font-family:Menlo,'DejaVu Sans Mono',consolas,'Courier New',monospace\"><span style=\"color: #7fbfbf\">[02:00:46]  </span>Saving figure to: <span style=\"color: #800080\">/Users/saforem2/l2hmc-qcd/plots/ridgeplots/2021-03-01/</span><span style=\"color: #ff00ff\">plaqsf_0200.pdf</span>                                                                                                                               <a href=\"file:///Users/saforem2/l2hmc-qcd/l2hmc-qcd/utils/file_io.py\"><span style=\"color: #7f7f7f\">file_io.py</span></a><span style=\"color: #7f7f7f\">:139</span>\n",
       "</pre>\n"
      ],
      "text/plain": [
       "<rich.jupyter.JupyterRenderable at 0x7fe56b654dc0>"
      ]
     },
     "metadata": {},
     "output_type": "display_data"
    },
    {
     "data": {
      "image/png": "[encoded data removed]",
      "text/plain": [
       "<Figure size 260x320 with 16 Axes>"
      ]
     },
     "metadata": {
      "image/png": {
       "height": 310,
       "width": 221
      }
     },
     "output_type": "display_data"
    }
   ],
   "source": [
    "import utils.file_io as io\n",
    "from config import PLOTS_DIR\n",
    "\n",
    "daystr = io.get_timestamp('%Y-%m-%d')\n",
    "timestr = io.get_timestamp('%H%M')\n",
    "\n",
    "ridgeplots_dir = os.path.join(PLOTS_DIR, 'ridgeplots')\n",
    "outdir = os.path.join(ridgeplots_dir, daystr)\n",
    "\n",
    "label_str = r\"$\\langle \\varphi_{P} - \\varphi_{P}^{*}\\rangle$\"\n",
    "outfile = os.path.join(outdir, f'plaqsf_{timestr}.pdf')\n",
    "#data, (fig, ax) = make_ridgeplots1(plaqsf_dataset, label_str=label_str,\n",
    "#                                   num_chains=256, num_pts=500, therm_frac=0.5,\n",
    "#                                   aspect=13, height=0.2, out_dir=outdir)\n",
    "\n",
    "with mpl.rc_context({\n",
    "    'font.family': 'lmodern',\n",
    "    'font.size': 12.,  # 9.6000000000000000001\n",
    "    'axes.labelsize': 12.,\n",
    "    'figure.figsize': (4, 3),\n",
    "    'legend.fontsize': 8.,\n",
    "    'legend.labelspacing': 0.2, # 0.5\n",
    "    'legend.handletextpad': 0.3,  # 0.8\n",
    "    'text.usetex': True,\n",
    "    'text.latex.preamble': (            # LaTeX preamble\n",
    "        r'\\usepackage{lmodern}'\n",
    "        r'\\usepackage{amsmath}'\n",
    "        r'\\usepackage{amssymb}'\n",
    "        r'\\usepackage{microtype}'\n",
    "        r'\\usepackage{bm}'\n",
    "        r'\\usepackage{bbm}'\n",
    "    )\n",
    "}):\n",
    "    plt.style.use('default')\n",
    "    sns.set_context('paper')\n",
    "    sns.set_palette('bright')\n",
    "    sns.set_style('whitegrid')\n",
    "    plt.rc('text', usetex=True)\n",
    "    data, (fig, ax) = make_ridgeplots1(plaqsf_dataset, label_str=label_str,\n",
    "                                       num_chains=256, num_pts=500, therm_frac=0.5,\n",
    "                                       aspect=13, height=0.2, out_dir=outdir)\n",
    "    \n",
    "    #print(f'Saving figure to: {outfile}')\n",
    "    #_ = plt.savefig(outfile, bbox_inches='tight')"
   ]
  },
  {
   "cell_type": "code",
   "execution_count": 45,
   "metadata": {
    "ExecuteTime": {
     "end_time": "2021-03-01T07:02:12.218066Z",
     "start_time": "2021-03-01T07:02:11.667114Z"
    }
   },
   "outputs": [
    {
     "data": {
      "text/html": [
       "<pre style=\"white-space:pre;overflow-x:auto;line-height:normal;font-family:Menlo,'DejaVu Sans Mono',consolas,'Courier New',monospace\"><span style=\"color: #7fbfbf\">[01:02:12] </span><span style=\"font-weight: bold\">{</span>                                                                                                                                                                                                   <span style=\"color: #7f7f7f\">&lt;ipython-input-45-7f731c6abc86&gt;:1</span>\n",
       "               <span style=\"color: #008000\">'plaqsf'</span>: <span style=\"font-weight: bold\">{</span>                                                                                                                                                                                                                      \n",
       "                   <span style=\"color: #008000\">'lfdf'</span>:            plaqsf  lf                                                                                                                                                                                                \n",
       "           <span style=\"color: #ff79ff\">0</span>       <span style=\"color: #ff79ff\">-0.010996</span>   <span style=\"color: #ff79ff\">0</span>                                                                                                                                                                                                                \n",
       "           <span style=\"color: #ff79ff\">1</span>       <span style=\"color: #ff79ff\">-0.010996</span>   <span style=\"color: #ff79ff\">0</span>                                                                                                                                                                                                                \n",
       "           <span style=\"color: #ff79ff\">2</span>       <span style=\"color: #ff79ff\">-0.010996</span>   <span style=\"color: #ff79ff\">0</span>                                                                                                                                                                                                                \n",
       "           <span style=\"color: #ff79ff\">3</span>       <span style=\"color: #ff79ff\">-0.002009</span>   <span style=\"color: #ff79ff\">0</span>                                                                                                                                                                                                                \n",
       "           <span style=\"color: #ff79ff\">4</span>       <span style=\"color: #ff79ff\">-0.002009</span>   <span style=\"color: #ff79ff\">0</span>                                                                                                                                                                                                                \n",
       "           <span style=\"color: #808000\">...</span>           <span style=\"color: #808000\">...</span>  ..                                                                                                                                                                                                                \n",
       "           <span style=\"color: #ff79ff\">1599995</span>  <span style=\"color: #ff79ff\">0.000206</span>  <span style=\"color: #ff79ff\">15</span>                                                                                                                                                                                                                \n",
       "           <span style=\"color: #ff79ff\">1599996</span> <span style=\"color: #ff79ff\">-0.009401</span>  <span style=\"color: #ff79ff\">15</span>                                                                                                                                                                                                                \n",
       "           <span style=\"color: #ff79ff\">1599997</span>  <span style=\"color: #ff79ff\">0.002635</span>  <span style=\"color: #ff79ff\">15</span>                                                                                                                                                                                                                \n",
       "           <span style=\"color: #ff79ff\">1599998</span> <span style=\"color: #ff79ff\">-0.005523</span>  <span style=\"color: #ff79ff\">15</span>                                                                                                                                                                                                                \n",
       "           <span style=\"color: #ff79ff\">1599999</span>  <span style=\"color: #ff79ff\">0.003013</span>  <span style=\"color: #ff79ff\">15</span>                                                                                                                                                                                                                \n",
       "                                                                                                                                                                                                                                                \n",
       "           <span style=\"font-weight: bold\">[</span><span style=\"color: #ff79ff\">1600000</span> rows x <span style=\"color: #ff79ff\">2</span> columns<span style=\"font-weight: bold\">]</span>,                                                                                                                                                                                                          \n",
       "                   <span style=\"color: #008000\">'val'</span>: <span style=\"font-weight: bold\">&lt;</span><span style=\"color: #ff00ff; font-weight: bold\">xarray.DataArray</span><span style=\"color: #000000\"> </span><span style=\"color: #008000\">'plaqsf'</span><span style=\"color: #000000\"> </span><span style=\"color: #000000; font-weight: bold\">(</span><span style=\"color: #000000\">chain: </span><span style=\"color: #ff79ff\">512</span><span style=\"color: #000000\">, leapfrog: </span><span style=\"color: #ff79ff\">16</span><span style=\"color: #000000\">, draw: </span><span style=\"color: #ff79ff\">100000</span><span style=\"color: #000000; font-weight: bold\">)</span><span style=\"font-weight: bold\">&gt;</span>                                                                                                                                                  \n",
       "           array<span style=\"font-weight: bold\">([[[</span><span style=\"color: #ff79ff\">-1.099598e-02</span>, <span style=\"color: #ff79ff\">-1.099598e-02</span>, <span style=\"color: #808000\">...</span>,  <span style=\"color: #ff79ff\">2.634645e-03</span>,  <span style=\"color: #ff79ff\">2.634645e-03</span><span style=\"font-weight: bold\">]</span>,                                                                                                                                                           \n",
       "                   <span style=\"font-weight: bold\">[</span> <span style=\"color: #ff79ff\">1.061624e-02</span>,  <span style=\"color: #ff79ff\">9.017825e-03</span>, <span style=\"color: #808000\">...</span>,  <span style=\"color: #ff79ff\">1.157814e-02</span>,  <span style=\"color: #ff79ff\">1.863611e-02</span><span style=\"font-weight: bold\">]</span>,                                                                                                                                                           \n",
       "                   <span style=\"color: #808000\">...</span>,                                                                                                                                                                                                                         \n",
       "                   <span style=\"font-weight: bold\">[</span> <span style=\"color: #ff79ff\">1.340306e-02</span>,  <span style=\"color: #ff79ff\">2.124798e-02</span>, <span style=\"color: #808000\">...</span>,  <span style=\"color: #ff79ff\">2.020323e-02</span>,  <span style=\"color: #ff79ff\">2.819526e-02</span><span style=\"font-weight: bold\">]</span>,                                                                                                                                                           \n",
       "                   <span style=\"font-weight: bold\">[</span><span style=\"color: #ff79ff\">-6.501377e-03</span>,  <span style=\"color: #ff79ff\">3.335595e-03</span>, <span style=\"color: #808000\">...</span>, <span style=\"color: #ff79ff\">-5.523324e-03</span>,  <span style=\"color: #ff79ff\">3.012776e-03</span><span style=\"font-weight: bold\">]]</span>,                                                                                                                                                          \n",
       "                                                                                                                                                                                                                                                \n",
       "                  <span style=\"font-weight: bold\">[[</span> <span style=\"color: #ff79ff\">8.016169e-03</span>,  <span style=\"color: #ff79ff\">8.016169e-03</span>, <span style=\"color: #808000\">...</span>,  <span style=\"color: #ff79ff\">2.663422e-02</span>,  <span style=\"color: #ff79ff\">2.663422e-02</span><span style=\"font-weight: bold\">]</span>,                                                                                                                                                           \n",
       "                   <span style=\"font-weight: bold\">[</span> <span style=\"color: #ff79ff\">2.780038e-02</span>,  <span style=\"color: #ff79ff\">4.707348e-02</span>, <span style=\"color: #808000\">...</span>,  <span style=\"color: #ff79ff\">4.041159e-02</span>,  <span style=\"color: #ff79ff\">4.046512e-02</span><span style=\"font-weight: bold\">]</span>,                                                                                                                                                           \n",
       "                   <span style=\"color: #808000\">...</span>,                                                                                                                                                                                                                         \n",
       "                   <span style=\"font-weight: bold\">[</span> <span style=\"color: #ff79ff\">3.116316e-02</span>,  <span style=\"color: #ff79ff\">2.006352e-02</span>, <span style=\"color: #808000\">...</span>,  <span style=\"color: #ff79ff\">4.092371e-02</span>,  <span style=\"color: #ff79ff\">3.994668e-02</span><span style=\"font-weight: bold\">]</span>,                                                                                                                                                           \n",
       "                   <span style=\"font-weight: bold\">[</span> <span style=\"color: #ff79ff\">3.674507e-03</span>,  <span style=\"color: #ff79ff\">4.220843e-03</span>, <span style=\"color: #808000\">...</span>,  <span style=\"color: #ff79ff\">1.637775e-02</span>,  <span style=\"color: #ff79ff\">1.551986e-02</span><span style=\"font-weight: bold\">]]</span>,                                                                                                                                                          \n",
       "                                                                                                                                                                                                                                                \n",
       "                  <span style=\"color: #808000\">...</span>,                                                                                                                                                                                                                          \n",
       "                                                                                                                                                                                                                                                \n",
       "                  <span style=\"font-weight: bold\">[[</span><span style=\"color: #ff79ff\">-2.087247e-02</span>,  <span style=\"color: #ff79ff\">2.553046e-03</span>, <span style=\"color: #808000\">...</span>,  <span style=\"color: #ff79ff\">6.526709e-03</span>,  <span style=\"color: #ff79ff\">8.165717e-03</span><span style=\"font-weight: bold\">]</span>,                                                                                                                                                           \n",
       "                   <span style=\"font-weight: bold\">[</span> <span style=\"color: #ff79ff\">4.963517e-03</span>,  <span style=\"color: #ff79ff\">1.814973e-02</span>, <span style=\"color: #808000\">...</span>,  <span style=\"color: #ff79ff\">3.072619e-02</span>,  <span style=\"color: #ff79ff\">2.544808e-02</span><span style=\"font-weight: bold\">]</span>,                                                                                                                                                           \n",
       "                   <span style=\"color: #808000\">...</span>,                                                                                                                                                                                                                         \n",
       "                   <span style=\"font-weight: bold\">[</span> <span style=\"color: #ff79ff\">2.112889e-02</span>, <span style=\"color: #ff79ff\">-2.259254e-03</span>, <span style=\"color: #808000\">...</span>,  <span style=\"color: #ff79ff\">3.076875e-02</span>,  <span style=\"color: #ff79ff\">3.283620e-02</span><span style=\"font-weight: bold\">]</span>,                                                                                                                                                           \n",
       "                   <span style=\"font-weight: bold\">[</span> <span style=\"color: #ff79ff\">2.553046e-03</span>, <span style=\"color: #ff79ff\">-2.007300e-02</span>, <span style=\"color: #808000\">...</span>,  <span style=\"color: #ff79ff\">8.165717e-03</span>,  <span style=\"color: #ff79ff\">1.850533e-02</span><span style=\"font-weight: bold\">]]</span>,                                                                                                                                                          \n",
       "                                                                                                                                                                                                                                                \n",
       "                  <span style=\"font-weight: bold\">[[</span><span style=\"color: #ff79ff\">-1.217490e-02</span>, <span style=\"color: #ff79ff\">-1.217490e-02</span>, <span style=\"color: #808000\">...</span>, <span style=\"color: #ff79ff\">-1.890588e-02</span>, <span style=\"color: #ff79ff\">-1.199174e-02</span><span style=\"font-weight: bold\">]</span>,                                                                                                                                                           \n",
       "                   <span style=\"font-weight: bold\">[</span> <span style=\"color: #ff79ff\">7.698476e-03</span>,  <span style=\"color: #ff79ff\">4.141569e-03</span>, <span style=\"color: #808000\">...</span>,  <span style=\"color: #ff79ff\">6.060481e-03</span>,  <span style=\"color: #ff79ff\">2.408266e-03</span><span style=\"font-weight: bold\">]</span>,                                                                                                                                                           \n",
       "                   <span style=\"color: #808000\">...</span>,                                                                                                                                                                                                                         \n",
       "                   <span style=\"font-weight: bold\">[</span> <span style=\"color: #ff79ff\">7.968545e-03</span>,  <span style=\"color: #ff79ff\">2.306223e-03</span>, <span style=\"color: #808000\">...</span>, <span style=\"color: #ff79ff\">-3.926337e-03</span>,  <span style=\"color: #ff79ff\">2.330399e-02</span><span style=\"font-weight: bold\">]</span>,                                                                                                                                                           \n",
       "                   <span style=\"font-weight: bold\">[</span><span style=\"color: #ff79ff\">-1.552248e-02</span>, <span style=\"color: #ff79ff\">-6.897449e-03</span>, <span style=\"color: #808000\">...</span>, <span style=\"color: #ff79ff\">-2.027571e-02</span>,  <span style=\"color: #ff79ff\">9.697676e-05</span><span style=\"font-weight: bold\">]]])</span>                                                                                                                                                         \n",
       "           Coordinates:                                                                                                                                                                                                                         \n",
       "             * chain     <span style=\"font-weight: bold\">(</span>chain<span style=\"font-weight: bold\">)</span> int64 <span style=\"color: #ff79ff\">0</span> <span style=\"color: #ff79ff\">1</span> <span style=\"color: #ff79ff\">2</span> <span style=\"color: #ff79ff\">3</span> <span style=\"color: #ff79ff\">4</span> <span style=\"color: #ff79ff\">5</span> <span style=\"color: #ff79ff\">6</span> <span style=\"color: #ff79ff\">7</span> <span style=\"color: #808000\">...</span> <span style=\"color: #ff79ff\">504</span> <span style=\"color: #ff79ff\">505</span> <span style=\"color: #ff79ff\">506</span> <span style=\"color: #ff79ff\">507</span> <span style=\"color: #ff79ff\">508</span> <span style=\"color: #ff79ff\">509</span> <span style=\"color: #ff79ff\">510</span> <span style=\"color: #ff79ff\">511</span>                                                                                                                                                      \n",
       "             * leapfrog  <span style=\"font-weight: bold\">(</span>leapfrog<span style=\"font-weight: bold\">)</span> int64 <span style=\"color: #ff79ff\">0</span> <span style=\"color: #ff79ff\">1</span> <span style=\"color: #ff79ff\">2</span> <span style=\"color: #ff79ff\">3</span> <span style=\"color: #ff79ff\">4</span> <span style=\"color: #ff79ff\">5</span> <span style=\"color: #ff79ff\">6</span> <span style=\"color: #ff79ff\">7</span> <span style=\"color: #ff79ff\">8</span> <span style=\"color: #ff79ff\">9</span> <span style=\"color: #ff79ff\">10</span> <span style=\"color: #ff79ff\">11</span> <span style=\"color: #ff79ff\">12</span> <span style=\"color: #ff79ff\">13</span> <span style=\"color: #ff79ff\">14</span> <span style=\"color: #ff79ff\">15</span>                                                                                                                                                                 \n",
       "             * draw      <span style=\"font-weight: bold\">(</span>draw<span style=\"font-weight: bold\">)</span> int64 <span style=\"color: #ff79ff\">25000</span> <span style=\"color: #ff79ff\">25001</span> <span style=\"color: #ff79ff\">25002</span> <span style=\"color: #ff79ff\">25003</span> <span style=\"color: #808000\">...</span> <span style=\"color: #ff79ff\">124997</span> <span style=\"color: #ff79ff\">124998</span> <span style=\"color: #ff79ff\">124999</span>                                                                                                                                                          \n",
       "               <span style=\"font-weight: bold\">}</span>                                                                                                                                                                                                                                \n",
       "           <span style=\"font-weight: bold\">}</span>                                                                                                                                                                                                                                    \n",
       "</pre>\n"
      ],
      "text/plain": [
       "<rich.jupyter.JupyterRenderable at 0x7fea865b7610>"
      ]
     },
     "metadata": {},
     "output_type": "display_data"
    }
   ],
   "source": [
    "console.log(data)"
   ]
  },
  {
   "cell_type": "code",
   "execution_count": 55,
   "metadata": {
    "ExecuteTime": {
     "end_time": "2021-03-01T07:14:11.794533Z",
     "start_time": "2021-03-01T07:12:54.961818Z"
    }
   },
   "outputs": [
    {
     "name": "stderr",
     "output_type": "stream",
     "text": [
      "/Users/saforem2/opt/anaconda3/envs/tf2.4/lib/python3.8/site-packages/seaborn/axisgrid.py:64: UserWarning: Tight layout not applied. tight_layout cannot make axes height small enough to accommodate all axes decorations\n",
      "  self.fig.tight_layout(*args, **kwargs)\n",
      "/Users/saforem2/opt/anaconda3/envs/tf2.4/lib/python3.8/site-packages/seaborn/axisgrid.py:64: UserWarning: Tight layout not applied. tight_layout cannot make axes height small enough to accommodate all axes decorations\n",
      "  self.fig.tight_layout(*args, **kwargs)\n",
      "<ipython-input-55-d1c104efc5aa>:37: UserWarning: Tight layout not applied. tight_layout cannot make axes height small enough to accommodate all axes decorations\n",
      "  _ = plt.tight_layout()\n"
     ]
    },
    {
     "data": {
      "text/html": [
       "<pre style=\"white-space:pre;overflow-x:auto;line-height:normal;font-family:Menlo,'DejaVu Sans Mono',consolas,'Courier New',monospace\">Saving figure to: <span style=\"color: #800080\">/Users/saforem2/l2hmc-qcd/plots/ridgeplots/2021-03-01/</span><span style=\"color: #ff00ff\">plaqsf_0110.pdf</span>\n",
       "</pre>\n"
      ],
      "text/plain": [
       "<rich.jupyter.JupyterRenderable at 0x7feaad8e1fa0>"
      ]
     },
     "metadata": {},
     "output_type": "display_data"
    },
    {
     "data": {
      "image/png": "[encoded data removed]",
      "text/plain": [
       "<Figure size 225x240 with 16 Axes>"
      ]
     },
     "metadata": {
      "image/png": {
       "height": 249,
       "width": 194
      }
     },
     "output_type": "display_data"
    }
   ],
   "source": [
    "with mpl.rc_context({\n",
    "    'font.family': 'lmodern',\n",
    "    'font.size': 12.,  # 9.6000000000000000001\n",
    "    'figure.figsize': (4, 3),\n",
    "    'axes.labelsize': 12.,\n",
    "    'legend.fontsize': 8.,\n",
    "    'legend.labelspacing': 0.2, # 0.5\n",
    "    'legend.handletextpad': 0.3,  # 0.8\n",
    "    'text.usetex': True,\n",
    "    'text.latex.preamble': (            # LaTeX preamble\n",
    "        #r'\\usepackage{lmodern}'\n",
    "        r'\\usepackage{amsmath}'\n",
    "        r'\\usepackage{amssymb}'\n",
    "        r'\\usepackage{microtype}'\n",
    "        r'\\usepackage{bm}'\n",
    "        r'\\usepackage{bbm}'\n",
    "    )\n",
    "}):\n",
    "    for key, entry in data.items():\n",
    "        val = entry['val']\n",
    "        lfdf = entry['lfdf']\n",
    "        pal = sns.color_palette('rocket_r', n_colors=len(val.leapfrog.values))\n",
    "        #g = sns.FacetGrid(lfdf, row='lf', hue='lf', aspect=1, height=3, palette=pal)\n",
    "        g = sns.FacetGrid(lfdf, row='lf', hue='lf', palette=pal, aspect=15, height=0.15)\n",
    "        _ = g.map(sns.kdeplot, key, cut=1, shade=True, alpha=0.7, linewidth=1.25)\n",
    "        _ = g.map(plt.axhline, y=0, lw=1.5, alpha=0.7, clip_on=False)\n",
    "        def get_label(x, color, label):\n",
    "            ax = plt.gca()\n",
    "            ax.text(0, 0.10, label, fontweight='bold', color=color, ha='left', va='center', transform=ax.transAxes, fontsize='small')\n",
    "\n",
    "        _ = g.map(get_label, key)\n",
    "        _ = g.fig.subplots_adjust(hspace=-0.75)\n",
    "        _ = g.set_titles('')\n",
    "        _ = g.set(yticks=[])\n",
    "        _ = g.despine(bottom=True, left=True)\n",
    "        fig = plt.gcf()\n",
    "        _ = plt.tight_layout()\n",
    "        ax = plt.gca()\n",
    "        _ = ax.set_xlabel(label_str)\n",
    "            \n",
    "    print(f'Saving figure to: {outfile}')\n",
    "    _ = plt.savefig(outfile, bbox_inches='tight')"
   ]
  },
  {
   "cell_type": "code",
   "execution_count": null,
   "metadata": {},
   "outputs": [],
   "source": []
  },
  {
   "cell_type": "code",
   "execution_count": 9,
   "metadata": {
    "ExecuteTime": {
     "end_time": "2021-03-01T05:22:56.142072Z",
     "start_time": "2021-03-01T04:14:45.572067Z"
    }
   },
   "outputs": [
    {
     "data": {
      "text/html": [
       "<pre style=\"white-space:pre;overflow-x:auto;line-height:normal;font-family:Menlo,'DejaVu Sans Mono',consolas,'Courier New',monospace\"><span style=\"color: #7fbfbf\">[23:20:54]  </span>Creating directory: <span style=\"color: #800080\">/Users/saforem2/l2hmc-qcd/plots/ridgeplots/</span><span style=\"color: #ff00ff\">2021-02-28</span>                                                                                                                                             <a href=\"file:///Users/saforem2/l2hmc-qcd/l2hmc-qcd/utils/file_io.py\"><span style=\"color: #7f7f7f\">file_io.py</span></a><span style=\"color: #7f7f7f\">:139</span>\n",
       "</pre>\n"
      ],
      "text/plain": [
       "<rich.jupyter.JupyterRenderable at 0x7fdb8c05fcd0>"
      ]
     },
     "metadata": {},
     "output_type": "display_data"
    },
    {
     "data": {
      "text/html": [
       "<pre style=\"white-space:pre;overflow-x:auto;line-height:normal;font-family:Menlo,'DejaVu Sans Mono',consolas,'Courier New',monospace\"><span style=\"color: #7fbfbf\">            </span>Saving figure to: <span style=\"color: #800080\">/Users/saforem2/l2hmc-qcd/plots/ridgeplots/2021-02-28/</span><span style=\"color: #ff00ff\">plaqsf.pdf</span>                                                                                                                                    <a href=\"file:///Users/saforem2/l2hmc-qcd/l2hmc-qcd/utils/file_io.py\"><span style=\"color: #7f7f7f\">file_io.py</span></a><span style=\"color: #7f7f7f\">:139</span>\n",
       "</pre>\n"
      ],
      "text/plain": [
       "<rich.jupyter.JupyterRenderable at 0x7fdb8c062610>"
      ]
     },
     "metadata": {},
     "output_type": "display_data"
    },
    {
     "data": {
      "image/png": "[encoded data removed]",
      "text/plain": [
       "<Figure size 300x4800 with 16 Axes>"
      ]
     },
     "metadata": {
      "image/png": {
       "height": 4766,
       "width": 259
      }
     },
     "output_type": "display_data"
    }
   ],
   "source": [
    "import utils.file_io as io\n",
    "from config import PLOTS_DIR\n",
    "\n",
    "daystr = io.get_timestamp('%Y-%m-%d')\n",
    "timestr = io.get_timestamp('%H%M')\n",
    "\n",
    "ridgeplots_dir = os.path.join(PLOTS_DIR, 'ridgeplots')\n",
    "outdir = os.path.join(ridgeplots_dir, daystr)\n",
    "\n",
    "label_str = r\"$\\langle \\varphi_{P} - \\varphi_{P}^{*}\\rangle$\"\n",
    "fig, ax = make_ridgeplots1(plaqsf_dataset, num_chains=128, out_dir=outdir, label_str=label_str)\n"
   ]
  },
  {
   "cell_type": "code",
   "execution_count": null,
   "metadata": {},
   "outputs": [],
   "source": []
  }
 ],
 "metadata": {
  "kernelspec": {
   "display_name": "Python [conda env:tf_master-2021-03-02] *",
   "language": "python",
   "name": "conda-env-tf_master-2021-03-02-py"
  },
  "language_info": {
   "codemirror_mode": {
    "name": "ipython",
    "version": 3
   },
   "file_extension": ".py",
   "mimetype": "text/x-python",
   "name": "python",
   "nbconvert_exporter": "python",
   "pygments_lexer": "ipython3",
   "version": "3.8.5"
  },
  "latex_envs": {
   "LaTeX_envs_menu_present": false,
   "autoclose": false,
   "autocomplete": false,
   "bibliofile": "biblio.bib",
   "cite_by": "apalike",
   "current_citInitial": 1,
   "eqLabelWithNumbers": true,
   "eqNumInitial": 1,
   "hotkeys": {
    "equation": ""
   },
   "labels_anchors": false,
   "latex_user_defs": false,
   "report_style_numbering": false,
   "user_envs_cfg": false
  },
  "nbTranslate": {
   "displayLangs": [
    "*"
   ],
   "hotkey": "alt-t",
   "langInMainMenu": true,
   "sourceLang": "en",
   "targetLang": "fr",
   "useGoogleTranslate": true
  },
  "notify_time": "5",
  "toc": {
   "base_numbering": 1,
   "nav_menu": {},
   "number_sections": true,
   "sideBar": true,
   "skip_h1_title": true,
   "title_cell": "Table of Contents",
   "title_sidebar": "Contents",
   "toc_cell": false,
   "toc_position": {},
   "toc_section_display": true,
   "toc_window_display": false
  },
  "varInspector": {
   "cols": {
    "lenName": 16,
    "lenType": 16,
    "lenVar": 40
   },
   "kernels_config": {
    "python": {
     "delete_cmd_postfix": "",
     "delete_cmd_prefix": "del ",
     "library": "var_list.py",
     "varRefreshCmd": "print(var_dic_list())"
    },
    "r": {
     "delete_cmd_postfix": ") ",
     "delete_cmd_prefix": "rm(",
     "library": "var_list.r",
     "varRefreshCmd": "cat(var_dic_list()) "
    }
   },
   "types_to_exclude": [
    "module",
    "function",
    "builtin_function_or_method",
    "instance",
    "_Feature"
   ],
   "window_display": false
  }
 },
 "nbformat": 4,
 "nbformat_minor": 4
}
