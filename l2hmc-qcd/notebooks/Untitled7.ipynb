{
 "cells": [
  {
   "cell_type": "markdown",
   "metadata": {},
   "source": [
    "# Testing methods from `utils/autocorr.py`"
   ]
  },
  {
   "cell_type": "markdown",
   "metadata": {},
   "source": [
    "## Imports"
   ]
  },
  {
   "cell_type": "code",
   "execution_count": 1,
   "metadata": {
    "ExecuteTime": {
     "end_time": "2021-02-06T03:23:41.461629Z",
     "start_time": "2021-02-06T03:23:38.122245Z"
    }
   },
   "outputs": [
    {
     "name": "stdout",
     "output_type": "stream",
     "text": [
      "The autoreload extension is already loaded. To reload it, use:\n",
      "  %reload_ext autoreload\n"
     ]
    }
   ],
   "source": [
    "import datetime\n",
    "import os\n",
    "import sys\n",
    "import time\n",
    "\n",
    "import matplotlib.pyplot as plt\n",
    "import numpy as np\n",
    "import pandas as pd\n",
    "import seaborn as sns\n",
    "import tensorflow as tf\n",
    "from rich.console import Console\n",
    "from rich.theme import Theme\n",
    "\n",
    "sys.path.append('..')\n",
    "sns.set_palette('bright')\n",
    "%load_ext autoreload\n",
    "%autoreload 2\n",
    "\n",
    "console = Console(theme=Theme({\"repr.number\": \"#ff79ff\"}), width=240, log_time=True, log_time_format='[%X]')\n",
    "#%matplotlib notebook\n",
    "plt.style.use('default')\n",
    "sns.set_context('talk')\n",
    "sns.set_style('whitegrid')\n",
    "sns.set_palette('bright')\n",
    "%matplotlib inline\n",
    "\n",
    "GREEN = '#87ff00'\n",
    "PINK = '#F92672'\n",
    "BLUE = '#007dff'\n",
    "YELLOW = '#FFFF00'\n",
    "RED = '#FF4050'"
   ]
  },
  {
   "cell_type": "code",
   "execution_count": 2,
   "metadata": {
    "ExecuteTime": {
     "end_time": "2021-02-06T03:23:41.521980Z",
     "start_time": "2021-02-06T03:23:41.463544Z"
    }
   },
   "outputs": [],
   "source": [
    "plt.style.use('default')\n",
    "sns.set_context('talk')\n",
    "sns.set_style('whitegrid')\n",
    "sns.set_palette('bright')"
   ]
  },
  {
   "cell_type": "markdown",
   "metadata": {},
   "source": [
    "## `HMC` dirs:"
   ]
  },
  {
   "cell_type": "code",
   "execution_count": 3,
   "metadata": {
    "ExecuteTime": {
     "end_time": "2021-02-06T03:24:42.230410Z",
     "start_time": "2021-02-06T03:24:15.479255Z"
    }
   },
   "outputs": [
    {
     "name": "stdout",
     "output_type": "stream",
     "text": [
      "tf.__version__: 2.4.0-dev20201016\n"
     ]
    },
    {
     "data": {
      "text/html": [
       "<pre style=\"white-space:pre;overflow-x:auto;line-height:normal;font-family:Menlo,'DejaVu Sans Mono',consolas,'Courier New',monospace\"><span style=\"color: #7fbfbf\">[21:24:16] </span>Looking in <span style=\"color: #800080\">/Users/saforem2/grand/projects/DLHMC/l2hmc-qcd/logs/GaugeModel_logs/</span><span style=\"color: #ff00ff\">hmc_logs...</span>                                                                                                          <span style=\"color: #7f7f7f\">&lt;ipython-input-3-d767967e53a9&gt;:27</span>\n",
       "</pre>\n"
      ],
      "text/plain": [
       "<rich.jupyter.JupyterRenderable at 0x7fe6b171afd0>"
      ]
     },
     "metadata": {},
     "output_type": "display_data"
    },
    {
     "data": {
      "text/html": [
       "<pre style=\"white-space:pre;overflow-x:auto;line-height:normal;font-family:Menlo,'DejaVu Sans Mono',consolas,'Courier New',monospace\"><span style=\"color: #7fbfbf\">[21:24:42] </span>len<span style=\"font-weight: bold\">(</span>hmc_dirs<span style=\"font-weight: bold\">)</span>: <span style=\"color: #ff79ff\">132</span>                                                                                                                                                                                  <span style=\"color: #7f7f7f\">&lt;ipython-input-3-d767967e53a9&gt;:29</span>\n",
       "</pre>\n"
      ],
      "text/plain": [
       "<rich.jupyter.JupyterRenderable at 0x7fe6b171af70>"
      ]
     },
     "metadata": {},
     "output_type": "display_data"
    }
   ],
   "source": [
    "import glob\n",
    "from pathlib import Path\n",
    "\n",
    "import utils.file_io as io\n",
    "import utils.autocorr as autocorr\n",
    "\n",
    "from config import LOGS_DIR\n",
    "\n",
    "\n",
    "base_dirs_hmc = [\n",
    "    os.path.abspath('/Users/saforem2/grand/projects/DLHMC/l2hmc-qcd/logs/GaugeModel_logs/hmc_logs/'),\n",
    "    os.path.abspath('/Users/saforem2/theta-fs0/projects/DLHMC/thetaGPU/inference/hmc_2020_12_20/l2hmc-qcd/logs/GaugeModel_logs/hmc_logs/'),\n",
    "    os.path.abspath('/Users/saforem2/theta-fs0/projects/DLHMC/thetaGPU/inference/hmc_2021_01_04/l2hmc-qcd/logs/GaugeModel_logs/hmc_logs/'),\n",
    "    os.path.abspath('/Users/saforem2/theta-fs0/projects/DLHMC/thetaGPU/inference/hmc_2021_01_05/l2hmc-qcd/logs/GaugeModel_logs/hmc_logs/'),\n",
    "    os.path.abspath('/Users/saforem2/theta-fs0/projects/DLHMC/thetaGPU/inference/hmc/l2hmc-qcd/logs/GaugeModel_logs/hmc_logs/'),\n",
    "    os.path.abspath('/Users/saforem2/theta-fs0/projects/DLHMC/thetaGPU/inference/hmc_2020-12-15/l2hmc-qcd/logs/GaugeModel_logs/hmc_logs'),\n",
    "    os.path.abspath('/Users/saforem2/theta-fs0/projects/DLHMC/thetaGPU/inference/hmc_2020_12_20/l2hmc-qcd/logs/GaugeModel_logs/hmc_logs/'),\n",
    "    os.path.abspath('/Users/saforem2/thetaGPU/inference/hmc/l2hmc-qcd/logs/GaugeModel_logs/hmc_logs/'),\n",
    "    os.path.abspath('/Users/saforem2/thetaGPU/inference/hmc_2020-12-15/l2hmc-qcd/logs/GaugeModel_logs/hmc_logs'),\n",
    "    os.path.abspath('/Users/saforem2/thetaGPU/inference/hmc_2020_12_20/l2hmc-qcd/logs/GaugeModel_logs/hmc_logs/'),\n",
    "    os.path.abspath('/Users/saforem2thetaGPU/inference/hmc_2021_01_04/l2hmc-qcd/logs/GaugeModel_logs/hmc_logs/'),\n",
    "]\n",
    "\n",
    "hmc_dirs = []\n",
    "for d in base_dirs_hmc:\n",
    "    if os.path.isdir(d):\n",
    "        console.log(f'Looking in {d}...')\n",
    "        hmc_dirs += [x for x in Path(d).rglob('*HMC_L16*') if x.is_dir()]\n",
    "        console.log(f'len(hmc_dirs): {len(hmc_dirs)}')\n",
    "        \n",
    "hmc_dirs = np.unique(hmc_dirs)"
   ]
  },
  {
   "cell_type": "code",
   "execution_count": 4,
   "metadata": {
    "ExecuteTime": {
     "end_time": "2021-02-06T03:56:47.274635Z",
     "start_time": "2021-02-06T03:56:47.090369Z"
    }
   },
   "outputs": [
    {
     "data": {
      "text/plain": [
       "132"
      ]
     },
     "execution_count": 4,
     "metadata": {},
     "output_type": "execute_result"
    }
   ],
   "source": [
    "len(hmc_dirs)"
   ]
  },
  {
   "cell_type": "markdown",
   "metadata": {},
   "source": [
    "## `L2HMC` dirs:"
   ]
  },
  {
   "cell_type": "code",
   "execution_count": 15,
   "metadata": {
    "ExecuteTime": {
     "end_time": "2021-02-06T04:12:22.251470Z",
     "start_time": "2021-02-06T04:10:04.093090Z"
    },
    "code_folding": []
   },
   "outputs": [
    {
     "data": {
      "text/html": [
       "<pre style=\"white-space:pre;overflow-x:auto;line-height:normal;font-family:Menlo,'DejaVu Sans Mono',consolas,'Courier New',monospace\"><span style=\"color: #7fbfbf\">[22:10:04] </span>Looking in: <span style=\"color: #800080\">/Users/saforem2/thetaGPU/</span><span style=\"color: #ff00ff\">training...</span>                                                                                                                                                   <span style=\"color: #7f7f7f\">&lt;ipython-input-15-a91b94e72d08&gt;:20</span>\n",
       "</pre>\n"
      ],
      "text/plain": [
       "<rich.jupyter.JupyterRenderable at 0x7fe710be8370>"
      ]
     },
     "metadata": {},
     "output_type": "display_data"
    },
    {
     "data": {
      "text/html": [
       "<pre style=\"white-space:pre;overflow-x:auto;line-height:normal;font-family:Menlo,'DejaVu Sans Mono',consolas,'Courier New',monospace\"><span style=\"color: #7fbfbf\">[22:11:10] </span>len<span style=\"font-weight: bold\">(</span>l2hmc_dirs<span style=\"font-weight: bold\">)</span>: <span style=\"color: #ff79ff\">18</span>                                                                                                                                                                                <span style=\"color: #7f7f7f\">&lt;ipython-input-15-a91b94e72d08&gt;:31</span>\n",
       "</pre>\n"
      ],
      "text/plain": [
       "<rich.jupyter.JupyterRenderable at 0x7fe710a861f0>"
      ]
     },
     "metadata": {},
     "output_type": "display_data"
    },
    {
     "data": {
      "text/html": [
       "<pre style=\"white-space:pre;overflow-x:auto;line-height:normal;font-family:Menlo,'DejaVu Sans Mono',consolas,'Courier New',monospace\"><span style=\"color: #7fbfbf\">           </span>Looking in: <span style=\"color: #800080\">/Users/saforem2/grand/projects/DLHMC/</span><span style=\"color: #ff00ff\">training...</span>                                                                                                                                       <span style=\"color: #7f7f7f\">&lt;ipython-input-15-a91b94e72d08&gt;:20</span>\n",
       "</pre>\n"
      ],
      "text/plain": [
       "<rich.jupyter.JupyterRenderable at 0x7fe710a861f0>"
      ]
     },
     "metadata": {},
     "output_type": "display_data"
    },
    {
     "data": {
      "text/html": [
       "<pre style=\"white-space:pre;overflow-x:auto;line-height:normal;font-family:Menlo,'DejaVu Sans Mono',consolas,'Courier New',monospace\"><span style=\"color: #7fbfbf\">[22:12:22] </span>len<span style=\"font-weight: bold\">(</span>l2hmc_dirs<span style=\"font-weight: bold\">)</span>: <span style=\"color: #ff79ff\">30</span>                                                                                                                                                                                <span style=\"color: #7f7f7f\">&lt;ipython-input-15-a91b94e72d08&gt;:31</span>\n",
       "</pre>\n"
      ],
      "text/plain": [
       "<rich.jupyter.JupyterRenderable at 0x7fe710a94160>"
      ]
     },
     "metadata": {},
     "output_type": "display_data"
    }
   ],
   "source": [
    "import utils.file_io as io\n",
    "import utils.autocorr as acr\n",
    "\n",
    "def _look(p, s, conds=None):\n",
    "    matches = [x for x in Path(p).rglob(f'*{s}*')]\n",
    "    if conds is not None:\n",
    "        if isinstance(conds, (list, tuple)):\n",
    "            for cond in conds:\n",
    "                matches = [x for x in matches if cond(x)]\n",
    "        else:\n",
    "            matches = [x for x in matches if cond(x)]\n",
    "    return matches\n",
    "\n",
    "base_dirs_l2hmc = [\n",
    "    os.path.abspath('/Users/saforem2/thetaGPU/training/'),\n",
    "    os.path.abspath('/Users/saforem2/grand/projects/DLHMC/training/'),\n",
    "]\n",
    "l2hmc_dirs = []\n",
    "for d in base_dirs_l2hmc:\n",
    "    console.log(f'Looking in: {d}...')\n",
    "    \n",
    "    conds = (\n",
    "        lambda x: 'GaugeModel_logs' in (str(x)),\n",
    "        lambda x: 'HMC_' not in str(x),\n",
    "        lambda x: Path(x).is_dir(),\n",
    "        lambda x: os.path.isdir(os.path.join(str(x), 'run_data')),\n",
    "        lambda x: os.path.isfile(os.path.join(str(x), 'run_params.z')),\n",
    "    )\n",
    "    l2hmc_dirs += _look(d, 'L16_b', conds)\n",
    "    \n",
    "    console.log(f'len(l2hmc_dirs): {len(l2hmc_dirs)}')"
   ]
  },
  {
   "cell_type": "code",
   "execution_count": 16,
   "metadata": {
    "ExecuteTime": {
     "end_time": "2021-02-06T04:33:43.473882Z",
     "start_time": "2021-02-06T04:32:47.120154Z"
    }
   },
   "outputs": [
    {
     "data": {
      "text/html": [
       "<pre style=\"white-space:pre;overflow-x:auto;line-height:normal;font-family:Menlo,'DejaVu Sans Mono',consolas,'Courier New',monospace\"><span style=\"color: #7fbfbf\">[22:32:47] </span><span style=\"font-weight: bold\">(</span><span style=\"color: #ff79ff\">0</span> <span style=\"color: #800080\">/</span> <span style=\"color: #ff79ff\">132</span><span style=\"font-weight: bold\">)</span> hdir: <span style=\"color: #800080\">/Users/saforem2/grand/projects/DLHMC/l2hmc-qcd/logs/GaugeModel_logs/hmc_logs/2021_01/beta1/</span><span style=\"color: #ff00ff\">HMC_L16_b512_beta1_lf10_eps005-2021-01-23-0040</span>                                           <span style=\"color: #7f7f7f\">&lt;ipython-input-16-d06d8338bca0&gt;:7</span>\n",
       "</pre>\n"
      ],
      "text/plain": [
       "<rich.jupyter.JupyterRenderable at 0x7fe6b1a45550>"
      ]
     },
     "metadata": {},
     "output_type": "display_data"
    },
    {
     "data": {
      "text/html": [
       "<pre style=\"white-space:pre;overflow-x:auto;line-height:normal;font-family:Menlo,'DejaVu Sans Mono',consolas,'Courier New',monospace\"><span style=\"color: #7fbfbf\">           </span><span style=\"font-weight: bold\">(</span><span style=\"color: #ff79ff\">1</span> <span style=\"color: #800080\">/</span> <span style=\"color: #ff79ff\">132</span><span style=\"font-weight: bold\">)</span> hdir: <span style=\"color: #800080\">/Users/saforem2/grand/projects/DLHMC/l2hmc-qcd/logs/GaugeModel_logs/hmc_logs/2021_01/beta1/</span><span style=\"color: #ff00ff\">HMC_L16_b512_beta1_lf10_eps01-2021-01-23-0038</span>                                            <span style=\"color: #7f7f7f\">&lt;ipython-input-16-d06d8338bca0&gt;:7</span>\n",
       "</pre>\n"
      ],
      "text/plain": [
       "<rich.jupyter.JupyterRenderable at 0x7fe6b17ead90>"
      ]
     },
     "metadata": {},
     "output_type": "display_data"
    },
    {
     "data": {
      "text/html": [
       "<pre style=\"white-space:pre;overflow-x:auto;line-height:normal;font-family:Menlo,'DejaVu Sans Mono',consolas,'Courier New',monospace\"><span style=\"color: #7fbfbf\">[22:32:48] </span><span style=\"font-weight: bold\">(</span><span style=\"color: #ff79ff\">2</span> <span style=\"color: #800080\">/</span> <span style=\"color: #ff79ff\">132</span><span style=\"font-weight: bold\">)</span> hdir: <span style=\"color: #800080\">/Users/saforem2/grand/projects/DLHMC/l2hmc-qcd/logs/GaugeModel_logs/hmc_logs/2021_01/beta1/</span><span style=\"color: #ff00ff\">HMC_L16_b512_beta1_lf10_eps02-2021-01-23-0040</span>                                            <span style=\"color: #7f7f7f\">&lt;ipython-input-16-d06d8338bca0&gt;:7</span>\n",
       "</pre>\n"
      ],
      "text/plain": [
       "<rich.jupyter.JupyterRenderable at 0x7fe6b17eacd0>"
      ]
     },
     "metadata": {},
     "output_type": "display_data"
    },
    {
     "data": {
      "text/html": [
       "<pre style=\"white-space:pre;overflow-x:auto;line-height:normal;font-family:Menlo,'DejaVu Sans Mono',consolas,'Courier New',monospace\"><span style=\"color: #7fbfbf\">           </span><span style=\"font-weight: bold\">(</span><span style=\"color: #ff79ff\">3</span> <span style=\"color: #800080\">/</span> <span style=\"color: #ff79ff\">132</span><span style=\"font-weight: bold\">)</span> hdir: <span style=\"color: #800080\">/Users/saforem2/grand/projects/DLHMC/l2hmc-qcd/logs/GaugeModel_logs/hmc_logs/2021_01/beta1/</span><span style=\"color: #ff00ff\">HMC_L16_b512_beta1_lf20_eps005-2021-01-23-0026</span>                                           <span style=\"color: #7f7f7f\">&lt;ipython-input-16-d06d8338bca0&gt;:7</span>\n",
       "</pre>\n"
      ],
      "text/plain": [
       "<rich.jupyter.JupyterRenderable at 0x7fe72105df40>"
      ]
     },
     "metadata": {},
     "output_type": "display_data"
    },
    {
     "data": {
      "text/html": [
       "<pre style=\"white-space:pre;overflow-x:auto;line-height:normal;font-family:Menlo,'DejaVu Sans Mono',consolas,'Courier New',monospace\"><span style=\"color: #7fbfbf\">           </span><span style=\"font-weight: bold\">(</span><span style=\"color: #ff79ff\">4</span> <span style=\"color: #800080\">/</span> <span style=\"color: #ff79ff\">132</span><span style=\"font-weight: bold\">)</span> hdir: <span style=\"color: #800080\">/Users/saforem2/grand/projects/DLHMC/l2hmc-qcd/logs/GaugeModel_logs/hmc_logs/2021_01/beta1/</span><span style=\"color: #ff00ff\">HMC_L16_b512_beta1_lf20_eps01-2021-01-23-0026</span>                                            <span style=\"color: #7f7f7f\">&lt;ipython-input-16-d06d8338bca0&gt;:7</span>\n",
       "</pre>\n"
      ],
      "text/plain": [
       "<rich.jupyter.JupyterRenderable at 0x7fe6b17eaa90>"
      ]
     },
     "metadata": {},
     "output_type": "display_data"
    },
    {
     "data": {
      "text/html": [
       "<pre style=\"white-space:pre;overflow-x:auto;line-height:normal;font-family:Menlo,'DejaVu Sans Mono',consolas,'Courier New',monospace\"><span style=\"color: #7fbfbf\">[22:32:49] </span><span style=\"font-weight: bold\">(</span><span style=\"color: #ff79ff\">5</span> <span style=\"color: #800080\">/</span> <span style=\"color: #ff79ff\">132</span><span style=\"font-weight: bold\">)</span> hdir: <span style=\"color: #800080\">/Users/saforem2/grand/projects/DLHMC/l2hmc-qcd/logs/GaugeModel_logs/hmc_logs/2021_01/beta1/</span><span style=\"color: #ff00ff\">HMC_L16_b512_beta1_lf20_eps02-2021-01-23-0013</span>                                            <span style=\"color: #7f7f7f\">&lt;ipython-input-16-d06d8338bca0&gt;:7</span>\n",
       "</pre>\n"
      ],
      "text/plain": [
       "<rich.jupyter.JupyterRenderable at 0x7fe6f12186d0>"
      ]
     },
     "metadata": {},
     "output_type": "display_data"
    },
    {
     "data": {
      "text/html": [
       "<pre style=\"white-space:pre;overflow-x:auto;line-height:normal;font-family:Menlo,'DejaVu Sans Mono',consolas,'Courier New',monospace\"><span style=\"color: #7fbfbf\">           </span><span style=\"font-weight: bold\">(</span><span style=\"color: #ff79ff\">6</span> <span style=\"color: #800080\">/</span> <span style=\"color: #ff79ff\">132</span><span style=\"font-weight: bold\">)</span> hdir: <span style=\"color: #800080\">/Users/saforem2/grand/projects/DLHMC/l2hmc-qcd/logs/GaugeModel_logs/hmc_logs/2021_01/beta2/</span><span style=\"color: #ff00ff\">HMC_L16_b512_beta2_lf10_eps005-2021-01-23-0040</span>                                           <span style=\"color: #7f7f7f\">&lt;ipython-input-16-d06d8338bca0&gt;:7</span>\n",
       "</pre>\n"
      ],
      "text/plain": [
       "<rich.jupyter.JupyterRenderable at 0x7fe6b1558fa0>"
      ]
     },
     "metadata": {},
     "output_type": "display_data"
    },
    {
     "data": {
      "text/html": [
       "<pre style=\"white-space:pre;overflow-x:auto;line-height:normal;font-family:Menlo,'DejaVu Sans Mono',consolas,'Courier New',monospace\"><span style=\"color: #7fbfbf\">           </span><span style=\"font-weight: bold\">(</span><span style=\"color: #ff79ff\">7</span> <span style=\"color: #800080\">/</span> <span style=\"color: #ff79ff\">132</span><span style=\"font-weight: bold\">)</span> hdir: <span style=\"color: #800080\">/Users/saforem2/grand/projects/DLHMC/l2hmc-qcd/logs/GaugeModel_logs/hmc_logs/2021_01/beta2/</span><span style=\"color: #ff00ff\">HMC_L16_b512_beta2_lf20_eps005-2021-01-23-0013</span>                                           <span style=\"color: #7f7f7f\">&lt;ipython-input-16-d06d8338bca0&gt;:7</span>\n",
       "</pre>\n"
      ],
      "text/plain": [
       "<rich.jupyter.JupyterRenderable at 0x7fe6c1e1b160>"
      ]
     },
     "metadata": {},
     "output_type": "display_data"
    },
    {
     "data": {
      "text/html": [
       "<pre style=\"white-space:pre;overflow-x:auto;line-height:normal;font-family:Menlo,'DejaVu Sans Mono',consolas,'Courier New',monospace\"><span style=\"color: #7fbfbf\">[22:32:50] </span><span style=\"font-weight: bold\">(</span><span style=\"color: #ff79ff\">8</span> <span style=\"color: #800080\">/</span> <span style=\"color: #ff79ff\">132</span><span style=\"font-weight: bold\">)</span> hdir: <span style=\"color: #800080\">/Users/saforem2/grand/projects/DLHMC/l2hmc-qcd/logs/GaugeModel_logs/hmc_logs/2021_01/beta2/</span><span style=\"color: #ff00ff\">HMC_L16_b512_beta2_lf20_eps01-2021-01-23-0040</span>                                            <span style=\"color: #7f7f7f\">&lt;ipython-input-16-d06d8338bca0&gt;:7</span>\n",
       "</pre>\n"
      ],
      "text/plain": [
       "<rich.jupyter.JupyterRenderable at 0x7fe6c1d83c70>"
      ]
     },
     "metadata": {},
     "output_type": "display_data"
    },
    {
     "data": {
      "text/html": [
       "<pre style=\"white-space:pre;overflow-x:auto;line-height:normal;font-family:Menlo,'DejaVu Sans Mono',consolas,'Courier New',monospace\"><span style=\"color: #7fbfbf\">           </span><span style=\"font-weight: bold\">(</span><span style=\"color: #ff79ff\">9</span> <span style=\"color: #800080\">/</span> <span style=\"color: #ff79ff\">132</span><span style=\"font-weight: bold\">)</span> hdir: <span style=\"color: #800080\">/Users/saforem2/grand/projects/DLHMC/l2hmc-qcd/logs/GaugeModel_logs/hmc_logs/2021_01/beta2/</span><span style=\"color: #ff00ff\">HMC_L16_b512_beta2_lf20_eps02-2021-01-23-0027</span>                                            <span style=\"color: #7f7f7f\">&lt;ipython-input-16-d06d8338bca0&gt;:7</span>\n",
       "</pre>\n"
      ],
      "text/plain": [
       "<rich.jupyter.JupyterRenderable at 0x7fe6b17d4940>"
      ]
     },
     "metadata": {},
     "output_type": "display_data"
    },
    {
     "data": {
      "text/html": [
       "<pre style=\"white-space:pre;overflow-x:auto;line-height:normal;font-family:Menlo,'DejaVu Sans Mono',consolas,'Courier New',monospace\"><span style=\"color: #7fbfbf\">           </span><span style=\"font-weight: bold\">(</span><span style=\"color: #ff79ff\">10</span> <span style=\"color: #800080\">/</span> <span style=\"color: #ff79ff\">132</span><span style=\"font-weight: bold\">)</span> hdir: <span style=\"color: #800080\">/Users/saforem2/grand/projects/DLHMC/l2hmc-qcd/logs/GaugeModel_logs/hmc_logs/2021_01/beta3/</span><span style=\"color: #ff00ff\">HMC_L16_b512_beta3_lf10_eps005-2021-01-23-0039</span>                                          <span style=\"color: #7f7f7f\">&lt;ipython-input-16-d06d8338bca0&gt;:7</span>\n",
       "</pre>\n"
      ],
      "text/plain": [
       "<rich.jupyter.JupyterRenderable at 0x7fe710af6d00>"
      ]
     },
     "metadata": {},
     "output_type": "display_data"
    },
    {
     "data": {
      "text/html": [
       "<pre style=\"white-space:pre;overflow-x:auto;line-height:normal;font-family:Menlo,'DejaVu Sans Mono',consolas,'Courier New',monospace\"><span style=\"color: #7fbfbf\">[22:32:51] </span><span style=\"font-weight: bold\">(</span><span style=\"color: #ff79ff\">11</span> <span style=\"color: #800080\">/</span> <span style=\"color: #ff79ff\">132</span><span style=\"font-weight: bold\">)</span> hdir: <span style=\"color: #800080\">/Users/saforem2/grand/projects/DLHMC/l2hmc-qcd/logs/GaugeModel_logs/hmc_logs/2021_01/beta3/</span><span style=\"color: #ff00ff\">HMC_L16_b512_beta3_lf10_eps01-2021-01-23-0027</span>                                           <span style=\"color: #7f7f7f\">&lt;ipython-input-16-d06d8338bca0&gt;:7</span>\n",
       "</pre>\n"
      ],
      "text/plain": [
       "<rich.jupyter.JupyterRenderable at 0x7fe6b17d4e80>"
      ]
     },
     "metadata": {},
     "output_type": "display_data"
    },
    {
     "data": {
      "text/html": [
       "<pre style=\"white-space:pre;overflow-x:auto;line-height:normal;font-family:Menlo,'DejaVu Sans Mono',consolas,'Courier New',monospace\"><span style=\"color: #7fbfbf\">           </span><span style=\"font-weight: bold\">(</span><span style=\"color: #ff79ff\">12</span> <span style=\"color: #800080\">/</span> <span style=\"color: #ff79ff\">132</span><span style=\"font-weight: bold\">)</span> hdir: <span style=\"color: #800080\">/Users/saforem2/grand/projects/DLHMC/l2hmc-qcd/logs/GaugeModel_logs/hmc_logs/2021_01/beta3/</span><span style=\"color: #ff00ff\">HMC_L16_b512_beta3_lf10_eps02-2021-01-23-0039</span>                                           <span style=\"color: #7f7f7f\">&lt;ipython-input-16-d06d8338bca0&gt;:7</span>\n",
       "</pre>\n"
      ],
      "text/plain": [
       "<rich.jupyter.JupyterRenderable at 0x7fe6c1d834c0>"
      ]
     },
     "metadata": {},
     "output_type": "display_data"
    },
    {
     "data": {
      "text/html": [
       "<pre style=\"white-space:pre;overflow-x:auto;line-height:normal;font-family:Menlo,'DejaVu Sans Mono',consolas,'Courier New',monospace\"><span style=\"color: #7fbfbf\">           </span><span style=\"font-weight: bold\">(</span><span style=\"color: #ff79ff\">13</span> <span style=\"color: #800080\">/</span> <span style=\"color: #ff79ff\">132</span><span style=\"font-weight: bold\">)</span> hdir: <span style=\"color: #800080\">/Users/saforem2/grand/projects/DLHMC/l2hmc-qcd/logs/GaugeModel_logs/hmc_logs/2021_01/beta3/</span><span style=\"color: #ff00ff\">HMC_L16_b512_beta3_lf20_eps005-2021-01-23-0013</span>                                          <span style=\"color: #7f7f7f\">&lt;ipython-input-16-d06d8338bca0&gt;:7</span>\n",
       "</pre>\n"
      ],
      "text/plain": [
       "<rich.jupyter.JupyterRenderable at 0x7fe710b16490>"
      ]
     },
     "metadata": {},
     "output_type": "display_data"
    },
    {
     "data": {
      "text/html": [
       "<pre style=\"white-space:pre;overflow-x:auto;line-height:normal;font-family:Menlo,'DejaVu Sans Mono',consolas,'Courier New',monospace\"><span style=\"color: #7fbfbf\">           </span><span style=\"font-weight: bold\">(</span><span style=\"color: #ff79ff\">14</span> <span style=\"color: #800080\">/</span> <span style=\"color: #ff79ff\">132</span><span style=\"font-weight: bold\">)</span> hdir: <span style=\"color: #800080\">/Users/saforem2/grand/projects/DLHMC/l2hmc-qcd/logs/GaugeModel_logs/hmc_logs/2021_01/beta3/</span><span style=\"color: #ff00ff\">HMC_L16_b512_beta3_lf20_eps01-2021-01-23-0026</span>                                           <span style=\"color: #7f7f7f\">&lt;ipython-input-16-d06d8338bca0&gt;:7</span>\n",
       "</pre>\n"
      ],
      "text/plain": [
       "<rich.jupyter.JupyterRenderable at 0x7fe6b17d41f0>"
      ]
     },
     "metadata": {},
     "output_type": "display_data"
    },
    {
     "data": {
      "text/html": [
       "<pre style=\"white-space:pre;overflow-x:auto;line-height:normal;font-family:Menlo,'DejaVu Sans Mono',consolas,'Courier New',monospace\"><span style=\"color: #7fbfbf\">[22:32:52] </span><span style=\"font-weight: bold\">(</span><span style=\"color: #ff79ff\">15</span> <span style=\"color: #800080\">/</span> <span style=\"color: #ff79ff\">132</span><span style=\"font-weight: bold\">)</span> hdir: <span style=\"color: #800080\">/Users/saforem2/grand/projects/DLHMC/l2hmc-qcd/logs/GaugeModel_logs/hmc_logs/2021_01/beta3/</span><span style=\"color: #ff00ff\">HMC_L16_b512_beta3_lf20_eps02-2021-01-23-0013</span>                                           <span style=\"color: #7f7f7f\">&lt;ipython-input-16-d06d8338bca0&gt;:7</span>\n",
       "</pre>\n"
      ],
      "text/plain": [
       "<rich.jupyter.JupyterRenderable at 0x7fe6c1d834c0>"
      ]
     },
     "metadata": {},
     "output_type": "display_data"
    },
    {
     "data": {
      "text/html": [
       "<pre style=\"white-space:pre;overflow-x:auto;line-height:normal;font-family:Menlo,'DejaVu Sans Mono',consolas,'Courier New',monospace\"><span style=\"color: #7fbfbf\">           </span><span style=\"font-weight: bold\">(</span><span style=\"color: #ff79ff\">16</span> <span style=\"color: #800080\">/</span> <span style=\"color: #ff79ff\">132</span><span style=\"font-weight: bold\">)</span> hdir: <span style=\"color: #800080\">/Users/saforem2/grand/projects/DLHMC/l2hmc-qcd/logs/GaugeModel_logs/hmc_logs/2021_01/beta4/</span><span style=\"color: #ff00ff\">HMC_L16_b512_beta4_lf10_eps005-2021-01-23-0025</span>                                          <span style=\"color: #7f7f7f\">&lt;ipython-input-16-d06d8338bca0&gt;:7</span>\n",
       "</pre>\n"
      ],
      "text/plain": [
       "<rich.jupyter.JupyterRenderable at 0x7fe700ae4310>"
      ]
     },
     "metadata": {},
     "output_type": "display_data"
    },
    {
     "data": {
      "text/html": [
       "<pre style=\"white-space:pre;overflow-x:auto;line-height:normal;font-family:Menlo,'DejaVu Sans Mono',consolas,'Courier New',monospace\"><span style=\"color: #7fbfbf\">           </span><span style=\"font-weight: bold\">(</span><span style=\"color: #ff79ff\">17</span> <span style=\"color: #800080\">/</span> <span style=\"color: #ff79ff\">132</span><span style=\"font-weight: bold\">)</span> hdir: <span style=\"color: #800080\">/Users/saforem2/grand/projects/DLHMC/l2hmc-qcd/logs/GaugeModel_logs/hmc_logs/2021_01/beta4/</span><span style=\"color: #ff00ff\">HMC_L16_b512_beta4_lf10_eps01-2021-01-23-0013</span>                                           <span style=\"color: #7f7f7f\">&lt;ipython-input-16-d06d8338bca0&gt;:7</span>\n",
       "</pre>\n"
      ],
      "text/plain": [
       "<rich.jupyter.JupyterRenderable at 0x7fe6b17d4fd0>"
      ]
     },
     "metadata": {},
     "output_type": "display_data"
    },
    {
     "data": {
      "text/html": [
       "<pre style=\"white-space:pre;overflow-x:auto;line-height:normal;font-family:Menlo,'DejaVu Sans Mono',consolas,'Courier New',monospace\"><span style=\"color: #7fbfbf\">[22:32:53] </span><span style=\"font-weight: bold\">(</span><span style=\"color: #ff79ff\">18</span> <span style=\"color: #800080\">/</span> <span style=\"color: #ff79ff\">132</span><span style=\"font-weight: bold\">)</span> hdir: <span style=\"color: #800080\">/Users/saforem2/grand/projects/DLHMC/l2hmc-qcd/logs/GaugeModel_logs/hmc_logs/2021_01/beta4/</span><span style=\"color: #ff00ff\">HMC_L16_b512_beta4_lf10_eps015-2021-01-29-0744</span>                                          <span style=\"color: #7f7f7f\">&lt;ipython-input-16-d06d8338bca0&gt;:7</span>\n",
       "</pre>\n"
      ],
      "text/plain": [
       "<rich.jupyter.JupyterRenderable at 0x7fe710af6a90>"
      ]
     },
     "metadata": {},
     "output_type": "display_data"
    },
    {
     "data": {
      "text/html": [
       "<pre style=\"white-space:pre;overflow-x:auto;line-height:normal;font-family:Menlo,'DejaVu Sans Mono',consolas,'Courier New',monospace\"><span style=\"color: #7fbfbf\">           </span><span style=\"font-weight: bold\">(</span><span style=\"color: #ff79ff\">19</span> <span style=\"color: #800080\">/</span> <span style=\"color: #ff79ff\">132</span><span style=\"font-weight: bold\">)</span> hdir: <span style=\"color: #800080\">/Users/saforem2/grand/projects/DLHMC/l2hmc-qcd/logs/GaugeModel_logs/hmc_logs/2021_01/beta4/</span><span style=\"color: #ff00ff\">HMC_L16_b512_beta4_lf10_eps02-2021-01-23-0027</span>                                           <span style=\"color: #7f7f7f\">&lt;ipython-input-16-d06d8338bca0&gt;:7</span>\n",
       "</pre>\n"
      ],
      "text/plain": [
       "<rich.jupyter.JupyterRenderable at 0x7fe6c1d839a0>"
      ]
     },
     "metadata": {},
     "output_type": "display_data"
    },
    {
     "data": {
      "text/html": [
       "<pre style=\"white-space:pre;overflow-x:auto;line-height:normal;font-family:Menlo,'DejaVu Sans Mono',consolas,'Courier New',monospace\"><span style=\"color: #7fbfbf\">           </span><span style=\"font-weight: bold\">(</span><span style=\"color: #ff79ff\">20</span> <span style=\"color: #800080\">/</span> <span style=\"color: #ff79ff\">132</span><span style=\"font-weight: bold\">)</span> hdir: <span style=\"color: #800080\">/Users/saforem2/grand/projects/DLHMC/l2hmc-qcd/logs/GaugeModel_logs/hmc_logs/2021_01/beta4/</span><span style=\"color: #ff00ff\">HMC_L16_b512_beta4_lf20_eps005-2021-01-23-0013</span>                                          <span style=\"color: #7f7f7f\">&lt;ipython-input-16-d06d8338bca0&gt;:7</span>\n",
       "</pre>\n"
      ],
      "text/plain": [
       "<rich.jupyter.JupyterRenderable at 0x7fe700acb400>"
      ]
     },
     "metadata": {},
     "output_type": "display_data"
    },
    {
     "data": {
      "text/html": [
       "<pre style=\"white-space:pre;overflow-x:auto;line-height:normal;font-family:Menlo,'DejaVu Sans Mono',consolas,'Courier New',monospace\"><span style=\"color: #7fbfbf\">[22:32:54] </span><span style=\"font-weight: bold\">(</span><span style=\"color: #ff79ff\">21</span> <span style=\"color: #800080\">/</span> <span style=\"color: #ff79ff\">132</span><span style=\"font-weight: bold\">)</span> hdir: <span style=\"color: #800080\">/Users/saforem2/grand/projects/DLHMC/l2hmc-qcd/logs/GaugeModel_logs/hmc_logs/2021_01/beta4/</span><span style=\"color: #ff00ff\">HMC_L16_b512_beta4_lf20_eps01-2021-01-23-0026</span>                                           <span style=\"color: #7f7f7f\">&lt;ipython-input-16-d06d8338bca0&gt;:7</span>\n",
       "</pre>\n"
      ],
      "text/plain": [
       "<rich.jupyter.JupyterRenderable at 0x7fe6b17d4e80>"
      ]
     },
     "metadata": {},
     "output_type": "display_data"
    },
    {
     "data": {
      "text/html": [
       "<pre style=\"white-space:pre;overflow-x:auto;line-height:normal;font-family:Menlo,'DejaVu Sans Mono',consolas,'Courier New',monospace\"><span style=\"color: #7fbfbf\">           </span><span style=\"font-weight: bold\">(</span><span style=\"color: #ff79ff\">22</span> <span style=\"color: #800080\">/</span> <span style=\"color: #ff79ff\">132</span><span style=\"font-weight: bold\">)</span> hdir: <span style=\"color: #800080\">/Users/saforem2/grand/projects/DLHMC/l2hmc-qcd/logs/GaugeModel_logs/hmc_logs/2021_01/beta4/</span><span style=\"color: #ff00ff\">HMC_L16_b512_beta4_lf20_eps02-2021-01-23-0013</span>                                           <span style=\"color: #7f7f7f\">&lt;ipython-input-16-d06d8338bca0&gt;:7</span>\n",
       "</pre>\n"
      ],
      "text/plain": [
       "<rich.jupyter.JupyterRenderable at 0x7fe700c1c3a0>"
      ]
     },
     "metadata": {},
     "output_type": "display_data"
    },
    {
     "data": {
      "text/html": [
       "<pre style=\"white-space:pre;overflow-x:auto;line-height:normal;font-family:Menlo,'DejaVu Sans Mono',consolas,'Courier New',monospace\"><span style=\"color: #7fbfbf\">           </span><span style=\"font-weight: bold\">(</span><span style=\"color: #ff79ff\">23</span> <span style=\"color: #800080\">/</span> <span style=\"color: #ff79ff\">132</span><span style=\"font-weight: bold\">)</span> hdir: <span style=\"color: #800080\">/Users/saforem2/grand/projects/DLHMC/l2hmc-qcd/logs/GaugeModel_logs/hmc_logs/2021_01/beta5/</span><span style=\"color: #ff00ff\">HMC_L16_b512_beta5_lf10_eps005-2021-01-27-1930</span>                                          <span style=\"color: #7f7f7f\">&lt;ipython-input-16-d06d8338bca0&gt;:7</span>\n",
       "</pre>\n"
      ],
      "text/plain": [
       "<rich.jupyter.JupyterRenderable at 0x7fe700c1c880>"
      ]
     },
     "metadata": {},
     "output_type": "display_data"
    },
    {
     "data": {
      "text/html": [
       "<pre style=\"white-space:pre;overflow-x:auto;line-height:normal;font-family:Menlo,'DejaVu Sans Mono',consolas,'Courier New',monospace\"><span style=\"color: #7fbfbf\">[22:32:55] </span><span style=\"font-weight: bold\">(</span><span style=\"color: #ff79ff\">24</span> <span style=\"color: #800080\">/</span> <span style=\"color: #ff79ff\">132</span><span style=\"font-weight: bold\">)</span> hdir: <span style=\"color: #800080\">/Users/saforem2/grand/projects/DLHMC/l2hmc-qcd/logs/GaugeModel_logs/hmc_logs/2021_01/beta5/</span><span style=\"color: #ff00ff\">HMC_L16_b512_beta5_lf10_eps01-2021-01-27-1621</span>                                           <span style=\"color: #7f7f7f\">&lt;ipython-input-16-d06d8338bca0&gt;:7</span>\n",
       "</pre>\n"
      ],
      "text/plain": [
       "<rich.jupyter.JupyterRenderable at 0x7fe700ae4e50>"
      ]
     },
     "metadata": {},
     "output_type": "display_data"
    },
    {
     "data": {
      "text/html": [
       "<pre style=\"white-space:pre;overflow-x:auto;line-height:normal;font-family:Menlo,'DejaVu Sans Mono',consolas,'Courier New',monospace\"><span style=\"color: #7fbfbf\">           </span><span style=\"font-weight: bold\">(</span><span style=\"color: #ff79ff\">25</span> <span style=\"color: #800080\">/</span> <span style=\"color: #ff79ff\">132</span><span style=\"font-weight: bold\">)</span> hdir: <span style=\"color: #800080\">/Users/saforem2/grand/projects/DLHMC/l2hmc-qcd/logs/GaugeModel_logs/hmc_logs/2021_01/beta5/</span><span style=\"color: #ff00ff\">HMC_L16_b512_beta5_lf10_eps0125-2021-01-28-0800</span>                                         <span style=\"color: #7f7f7f\">&lt;ipython-input-16-d06d8338bca0&gt;:7</span>\n",
       "</pre>\n"
      ],
      "text/plain": [
       "<rich.jupyter.JupyterRenderable at 0x7fe700ae4eb0>"
      ]
     },
     "metadata": {},
     "output_type": "display_data"
    },
    {
     "data": {
      "text/html": [
       "<pre style=\"white-space:pre;overflow-x:auto;line-height:normal;font-family:Menlo,'DejaVu Sans Mono',consolas,'Courier New',monospace\"><span style=\"color: #7fbfbf\">[22:32:56] </span><span style=\"font-weight: bold\">(</span><span style=\"color: #ff79ff\">26</span> <span style=\"color: #800080\">/</span> <span style=\"color: #ff79ff\">132</span><span style=\"font-weight: bold\">)</span> hdir: <span style=\"color: #800080\">/Users/saforem2/grand/projects/DLHMC/l2hmc-qcd/logs/GaugeModel_logs/hmc_logs/2021_01/beta5/</span><span style=\"color: #ff00ff\">HMC_L16_b512_beta5_lf10_eps0125-2021-01-28-080031</span>                                       <span style=\"color: #7f7f7f\">&lt;ipython-input-16-d06d8338bca0&gt;:7</span>\n",
       "</pre>\n"
      ],
      "text/plain": [
       "<rich.jupyter.JupyterRenderable at 0x7fe700acbb80>"
      ]
     },
     "metadata": {},
     "output_type": "display_data"
    },
    {
     "data": {
      "text/html": [
       "<pre style=\"white-space:pre;overflow-x:auto;line-height:normal;font-family:Menlo,'DejaVu Sans Mono',consolas,'Courier New',monospace\"><span style=\"color: #7fbfbf\">           </span><span style=\"font-weight: bold\">(</span><span style=\"color: #ff79ff\">27</span> <span style=\"color: #800080\">/</span> <span style=\"color: #ff79ff\">132</span><span style=\"font-weight: bold\">)</span> hdir: <span style=\"color: #800080\">/Users/saforem2/grand/projects/DLHMC/l2hmc-qcd/logs/GaugeModel_logs/hmc_logs/2021_01/beta5/</span><span style=\"color: #ff00ff\">HMC_L16_b512_beta5_lf10_eps015-2021-01-28-0800</span>                                          <span style=\"color: #7f7f7f\">&lt;ipython-input-16-d06d8338bca0&gt;:7</span>\n",
       "</pre>\n"
      ],
      "text/plain": [
       "<rich.jupyter.JupyterRenderable at 0x7fe700c08d60>"
      ]
     },
     "metadata": {},
     "output_type": "display_data"
    },
    {
     "data": {
      "text/html": [
       "<pre style=\"white-space:pre;overflow-x:auto;line-height:normal;font-family:Menlo,'DejaVu Sans Mono',consolas,'Courier New',monospace\"><span style=\"color: #7fbfbf\">           </span><span style=\"font-weight: bold\">(</span><span style=\"color: #ff79ff\">28</span> <span style=\"color: #800080\">/</span> <span style=\"color: #ff79ff\">132</span><span style=\"font-weight: bold\">)</span> hdir: <span style=\"color: #800080\">/Users/saforem2/grand/projects/DLHMC/l2hmc-qcd/logs/GaugeModel_logs/hmc_logs/2021_01/beta5/</span><span style=\"color: #ff00ff\">HMC_L16_b512_beta5_lf10_eps0175-2021-01-29-0744</span>                                         <span style=\"color: #7f7f7f\">&lt;ipython-input-16-d06d8338bca0&gt;:7</span>\n",
       "</pre>\n"
      ],
      "text/plain": [
       "<rich.jupyter.JupyterRenderable at 0x7fe700c088b0>"
      ]
     },
     "metadata": {},
     "output_type": "display_data"
    },
    {
     "data": {
      "text/html": [
       "<pre style=\"white-space:pre;overflow-x:auto;line-height:normal;font-family:Menlo,'DejaVu Sans Mono',consolas,'Courier New',monospace\"><span style=\"color: #7fbfbf\">[22:32:57] </span><span style=\"font-weight: bold\">(</span><span style=\"color: #ff79ff\">29</span> <span style=\"color: #800080\">/</span> <span style=\"color: #ff79ff\">132</span><span style=\"font-weight: bold\">)</span> hdir: <span style=\"color: #800080\">/Users/saforem2/grand/projects/DLHMC/l2hmc-qcd/logs/GaugeModel_logs/hmc_logs/2021_01/beta5/</span><span style=\"color: #ff00ff\">HMC_L16_b512_beta5_lf10_eps02-2021-01-27-2154</span>                                           <span style=\"color: #7f7f7f\">&lt;ipython-input-16-d06d8338bca0&gt;:7</span>\n",
       "</pre>\n"
      ],
      "text/plain": [
       "<rich.jupyter.JupyterRenderable at 0x7fe700c08a00>"
      ]
     },
     "metadata": {},
     "output_type": "display_data"
    },
    {
     "data": {
      "text/html": [
       "<pre style=\"white-space:pre;overflow-x:auto;line-height:normal;font-family:Menlo,'DejaVu Sans Mono',consolas,'Courier New',monospace\"><span style=\"color: #7fbfbf\">           </span><span style=\"font-weight: bold\">(</span><span style=\"color: #ff79ff\">30</span> <span style=\"color: #800080\">/</span> <span style=\"color: #ff79ff\">132</span><span style=\"font-weight: bold\">)</span> hdir: <span style=\"color: #800080\">/Users/saforem2/grand/projects/DLHMC/l2hmc-qcd/logs/GaugeModel_logs/hmc_logs/2021_01/beta5/</span><span style=\"color: #ff00ff\">HMC_L16_b512_beta5_lf20_eps005-2021-01-27-2204</span>                                          <span style=\"color: #7f7f7f\">&lt;ipython-input-16-d06d8338bca0&gt;:7</span>\n",
       "</pre>\n"
      ],
      "text/plain": [
       "<rich.jupyter.JupyterRenderable at 0x7fe700ac8100>"
      ]
     },
     "metadata": {},
     "output_type": "display_data"
    },
    {
     "data": {
      "text/html": [
       "<pre style=\"white-space:pre;overflow-x:auto;line-height:normal;font-family:Menlo,'DejaVu Sans Mono',consolas,'Courier New',monospace\"><span style=\"color: #7fbfbf\">           </span><span style=\"font-weight: bold\">(</span><span style=\"color: #ff79ff\">31</span> <span style=\"color: #800080\">/</span> <span style=\"color: #ff79ff\">132</span><span style=\"font-weight: bold\">)</span> hdir: <span style=\"color: #800080\">/Users/saforem2/grand/projects/DLHMC/l2hmc-qcd/logs/GaugeModel_logs/hmc_logs/2021_01/beta5/</span><span style=\"color: #ff00ff\">HMC_L16_b512_beta5_lf20_eps01-2021-01-27-1621</span>                                           <span style=\"color: #7f7f7f\">&lt;ipython-input-16-d06d8338bca0&gt;:7</span>\n",
       "</pre>\n"
      ],
      "text/plain": [
       "<rich.jupyter.JupyterRenderable at 0x7fe700aa6e80>"
      ]
     },
     "metadata": {},
     "output_type": "display_data"
    },
    {
     "data": {
      "text/html": [
       "<pre style=\"white-space:pre;overflow-x:auto;line-height:normal;font-family:Menlo,'DejaVu Sans Mono',consolas,'Courier New',monospace\"><span style=\"color: #7fbfbf\">[22:32:58] </span><span style=\"font-weight: bold\">(</span><span style=\"color: #ff79ff\">32</span> <span style=\"color: #800080\">/</span> <span style=\"color: #ff79ff\">132</span><span style=\"font-weight: bold\">)</span> hdir: <span style=\"color: #800080\">/Users/saforem2/grand/projects/DLHMC/l2hmc-qcd/logs/GaugeModel_logs/hmc_logs/2021_01/beta5/</span><span style=\"color: #ff00ff\">HMC_L16_b512_beta5_lf20_eps02-2021-01-27-1940</span>                                           <span style=\"color: #7f7f7f\">&lt;ipython-input-16-d06d8338bca0&gt;:7</span>\n",
       "</pre>\n"
      ],
      "text/plain": [
       "<rich.jupyter.JupyterRenderable at 0x7fe700c08490>"
      ]
     },
     "metadata": {},
     "output_type": "display_data"
    },
    {
     "data": {
      "text/html": [
       "<pre style=\"white-space:pre;overflow-x:auto;line-height:normal;font-family:Menlo,'DejaVu Sans Mono',consolas,'Courier New',monospace\"><span style=\"color: #7fbfbf\">           </span><span style=\"font-weight: bold\">(</span><span style=\"color: #ff79ff\">33</span> <span style=\"color: #800080\">/</span> <span style=\"color: #ff79ff\">132</span><span style=\"font-weight: bold\">)</span> hdir: <span style=\"color: #800080\">/Users/saforem2/grand/projects/DLHMC/l2hmc-qcd/logs/GaugeModel_logs/hmc_logs/2021_01/beta6/</span><span style=\"color: #ff00ff\">HMC_L16_b512_beta6_lf10_eps005-2021-01-27-1621</span>                                          <span style=\"color: #7f7f7f\">&lt;ipython-input-16-d06d8338bca0&gt;:7</span>\n",
       "</pre>\n"
      ],
      "text/plain": [
       "<rich.jupyter.JupyterRenderable at 0x7fe700aa6a60>"
      ]
     },
     "metadata": {},
     "output_type": "display_data"
    },
    {
     "data": {
      "text/html": [
       "<pre style=\"white-space:pre;overflow-x:auto;line-height:normal;font-family:Menlo,'DejaVu Sans Mono',consolas,'Courier New',monospace\"><span style=\"color: #7fbfbf\">           </span><span style=\"font-weight: bold\">(</span><span style=\"color: #ff79ff\">34</span> <span style=\"color: #800080\">/</span> <span style=\"color: #ff79ff\">132</span><span style=\"font-weight: bold\">)</span> hdir: <span style=\"color: #800080\">/Users/saforem2/grand/projects/DLHMC/l2hmc-qcd/logs/GaugeModel_logs/hmc_logs/2021_01/beta6/</span><span style=\"color: #ff00ff\">HMC_L16_b512_beta6_lf10_eps01-2021-01-27-1621</span>                                           <span style=\"color: #7f7f7f\">&lt;ipython-input-16-d06d8338bca0&gt;:7</span>\n",
       "</pre>\n"
      ],
      "text/plain": [
       "<rich.jupyter.JupyterRenderable at 0x7fe700ae4f10>"
      ]
     },
     "metadata": {},
     "output_type": "display_data"
    },
    {
     "data": {
      "text/html": [
       "<pre style=\"white-space:pre;overflow-x:auto;line-height:normal;font-family:Menlo,'DejaVu Sans Mono',consolas,'Courier New',monospace\"><span style=\"color: #7fbfbf\">[22:32:59] </span><span style=\"font-weight: bold\">(</span><span style=\"color: #ff79ff\">35</span> <span style=\"color: #800080\">/</span> <span style=\"color: #ff79ff\">132</span><span style=\"font-weight: bold\">)</span> hdir: <span style=\"color: #800080\">/Users/saforem2/grand/projects/DLHMC/l2hmc-qcd/logs/GaugeModel_logs/hmc_logs/2021_01/beta6/</span><span style=\"color: #ff00ff\">HMC_L16_b512_beta6_lf10_eps0125-2021-01-28-0800</span>                                         <span style=\"color: #7f7f7f\">&lt;ipython-input-16-d06d8338bca0&gt;:7</span>\n",
       "</pre>\n"
      ],
      "text/plain": [
       "<rich.jupyter.JupyterRenderable at 0x7fe700a94c70>"
      ]
     },
     "metadata": {},
     "output_type": "display_data"
    },
    {
     "data": {
      "text/html": [
       "<pre style=\"white-space:pre;overflow-x:auto;line-height:normal;font-family:Menlo,'DejaVu Sans Mono',consolas,'Courier New',monospace\"><span style=\"color: #7fbfbf\">           </span><span style=\"font-weight: bold\">(</span><span style=\"color: #ff79ff\">36</span> <span style=\"color: #800080\">/</span> <span style=\"color: #ff79ff\">132</span><span style=\"font-weight: bold\">)</span> hdir: <span style=\"color: #800080\">/Users/saforem2/grand/projects/DLHMC/l2hmc-qcd/logs/GaugeModel_logs/hmc_logs/2021_01/beta6/</span><span style=\"color: #ff00ff\">HMC_L16_b512_beta6_lf10_eps015-2021-01-28-0800</span>                                          <span style=\"color: #7f7f7f\">&lt;ipython-input-16-d06d8338bca0&gt;:7</span>\n",
       "</pre>\n"
      ],
      "text/plain": [
       "<rich.jupyter.JupyterRenderable at 0x7fe700ac8130>"
      ]
     },
     "metadata": {},
     "output_type": "display_data"
    },
    {
     "data": {
      "text/html": [
       "<pre style=\"white-space:pre;overflow-x:auto;line-height:normal;font-family:Menlo,'DejaVu Sans Mono',consolas,'Courier New',monospace\"><span style=\"color: #7fbfbf\">           </span><span style=\"font-weight: bold\">(</span><span style=\"color: #ff79ff\">37</span> <span style=\"color: #800080\">/</span> <span style=\"color: #ff79ff\">132</span><span style=\"font-weight: bold\">)</span> hdir: <span style=\"color: #800080\">/Users/saforem2/grand/projects/DLHMC/l2hmc-qcd/logs/GaugeModel_logs/hmc_logs/2021_01/beta6/</span><span style=\"color: #ff00ff\">HMC_L16_b512_beta6_lf10_eps0175-2021-01-29-0744</span>                                         <span style=\"color: #7f7f7f\">&lt;ipython-input-16-d06d8338bca0&gt;:7</span>\n",
       "</pre>\n"
      ],
      "text/plain": [
       "<rich.jupyter.JupyterRenderable at 0x7fe700aa65b0>"
      ]
     },
     "metadata": {},
     "output_type": "display_data"
    },
    {
     "data": {
      "text/html": [
       "<pre style=\"white-space:pre;overflow-x:auto;line-height:normal;font-family:Menlo,'DejaVu Sans Mono',consolas,'Courier New',monospace\"><span style=\"color: #7fbfbf\">[22:33:00] </span><span style=\"font-weight: bold\">(</span><span style=\"color: #ff79ff\">38</span> <span style=\"color: #800080\">/</span> <span style=\"color: #ff79ff\">132</span><span style=\"font-weight: bold\">)</span> hdir: <span style=\"color: #800080\">/Users/saforem2/grand/projects/DLHMC/l2hmc-qcd/logs/GaugeModel_logs/hmc_logs/2021_01/beta6/</span><span style=\"color: #ff00ff\">HMC_L16_b512_beta6_lf10_eps0175-2021-01-29-074450</span>                                       <span style=\"color: #7f7f7f\">&lt;ipython-input-16-d06d8338bca0&gt;:7</span>\n",
       "</pre>\n"
      ],
      "text/plain": [
       "<rich.jupyter.JupyterRenderable at 0x7fe700c1c550>"
      ]
     },
     "metadata": {},
     "output_type": "display_data"
    },
    {
     "data": {
      "text/html": [
       "<pre style=\"white-space:pre;overflow-x:auto;line-height:normal;font-family:Menlo,'DejaVu Sans Mono',consolas,'Courier New',monospace\"><span style=\"color: #7fbfbf\">           </span><span style=\"font-weight: bold\">(</span><span style=\"color: #ff79ff\">39</span> <span style=\"color: #800080\">/</span> <span style=\"color: #ff79ff\">132</span><span style=\"font-weight: bold\">)</span> hdir: <span style=\"color: #800080\">/Users/saforem2/grand/projects/DLHMC/l2hmc-qcd/logs/GaugeModel_logs/hmc_logs/2021_01/beta6/</span><span style=\"color: #ff00ff\">HMC_L16_b512_beta6_lf10_eps02-2021-01-27-1930</span>                                           <span style=\"color: #7f7f7f\">&lt;ipython-input-16-d06d8338bca0&gt;:7</span>\n",
       "</pre>\n"
      ],
      "text/plain": [
       "<rich.jupyter.JupyterRenderable at 0x7fe700aa6f10>"
      ]
     },
     "metadata": {},
     "output_type": "display_data"
    },
    {
     "data": {
      "text/html": [
       "<pre style=\"white-space:pre;overflow-x:auto;line-height:normal;font-family:Menlo,'DejaVu Sans Mono',consolas,'Courier New',monospace\"><span style=\"color: #7fbfbf\">           </span><span style=\"font-weight: bold\">(</span><span style=\"color: #ff79ff\">40</span> <span style=\"color: #800080\">/</span> <span style=\"color: #ff79ff\">132</span><span style=\"font-weight: bold\">)</span> hdir: <span style=\"color: #800080\">/Users/saforem2/grand/projects/DLHMC/l2hmc-qcd/logs/GaugeModel_logs/hmc_logs/2021_01/beta6/</span><span style=\"color: #ff00ff\">HMC_L16_b512_beta6_lf20_eps005-2021-01-27-1927</span>                                          <span style=\"color: #7f7f7f\">&lt;ipython-input-16-d06d8338bca0&gt;:7</span>\n",
       "</pre>\n"
      ],
      "text/plain": [
       "<rich.jupyter.JupyterRenderable at 0x7fe700a6c2b0>"
      ]
     },
     "metadata": {},
     "output_type": "display_data"
    },
    {
     "data": {
      "text/html": [
       "<pre style=\"white-space:pre;overflow-x:auto;line-height:normal;font-family:Menlo,'DejaVu Sans Mono',consolas,'Courier New',monospace\"><span style=\"color: #7fbfbf\">[22:33:01] </span><span style=\"font-weight: bold\">(</span><span style=\"color: #ff79ff\">41</span> <span style=\"color: #800080\">/</span> <span style=\"color: #ff79ff\">132</span><span style=\"font-weight: bold\">)</span> hdir: <span style=\"color: #800080\">/Users/saforem2/grand/projects/DLHMC/l2hmc-qcd/logs/GaugeModel_logs/hmc_logs/2021_01/beta6/</span><span style=\"color: #ff00ff\">HMC_L16_b512_beta6_lf20_eps01-2021-01-27-1931</span>                                           <span style=\"color: #7f7f7f\">&lt;ipython-input-16-d06d8338bca0&gt;:7</span>\n",
       "</pre>\n"
      ],
      "text/plain": [
       "<rich.jupyter.JupyterRenderable at 0x7fe700aa6070>"
      ]
     },
     "metadata": {},
     "output_type": "display_data"
    },
    {
     "data": {
      "text/html": [
       "<pre style=\"white-space:pre;overflow-x:auto;line-height:normal;font-family:Menlo,'DejaVu Sans Mono',consolas,'Courier New',monospace\"><span style=\"color: #7fbfbf\">           </span><span style=\"font-weight: bold\">(</span><span style=\"color: #ff79ff\">42</span> <span style=\"color: #800080\">/</span> <span style=\"color: #ff79ff\">132</span><span style=\"font-weight: bold\">)</span> hdir: <span style=\"color: #800080\">/Users/saforem2/grand/projects/DLHMC/l2hmc-qcd/logs/GaugeModel_logs/hmc_logs/2021_01/beta6/</span><span style=\"color: #ff00ff\">HMC_L16_b512_beta6_lf20_eps02-2021-01-27-1621</span>                                           <span style=\"color: #7f7f7f\">&lt;ipython-input-16-d06d8338bca0&gt;:7</span>\n",
       "</pre>\n"
      ],
      "text/plain": [
       "<rich.jupyter.JupyterRenderable at 0x7fe700c084c0>"
      ]
     },
     "metadata": {},
     "output_type": "display_data"
    },
    {
     "data": {
      "text/html": [
       "<pre style=\"white-space:pre;overflow-x:auto;line-height:normal;font-family:Menlo,'DejaVu Sans Mono',consolas,'Courier New',monospace\"><span style=\"color: #7fbfbf\">           </span><span style=\"font-weight: bold\">(</span><span style=\"color: #ff79ff\">43</span> <span style=\"color: #800080\">/</span> <span style=\"color: #ff79ff\">132</span><span style=\"font-weight: bold\">)</span> hdir: <span style=\"color: #800080\">/Users/saforem2/grand/projects/DLHMC/l2hmc-qcd/logs/GaugeModel_logs/hmc_logs/2021_01/beta7/</span><span style=\"color: #ff00ff\">HMC_L16_b512_beta7_lf10_eps005-2021-01-27-1854</span>                                          <span style=\"color: #7f7f7f\">&lt;ipython-input-16-d06d8338bca0&gt;:7</span>\n",
       "</pre>\n"
      ],
      "text/plain": [
       "<rich.jupyter.JupyterRenderable at 0x7fe700ac8130>"
      ]
     },
     "metadata": {},
     "output_type": "display_data"
    },
    {
     "data": {
      "text/html": [
       "<pre style=\"white-space:pre;overflow-x:auto;line-height:normal;font-family:Menlo,'DejaVu Sans Mono',consolas,'Courier New',monospace\"><span style=\"color: #7fbfbf\">[22:33:02] </span><span style=\"font-weight: bold\">(</span><span style=\"color: #ff79ff\">44</span> <span style=\"color: #800080\">/</span> <span style=\"color: #ff79ff\">132</span><span style=\"font-weight: bold\">)</span> hdir: <span style=\"color: #800080\">/Users/saforem2/grand/projects/DLHMC/l2hmc-qcd/logs/GaugeModel_logs/hmc_logs/2021_01/beta7/</span><span style=\"color: #ff00ff\">HMC_L16_b512_beta7_lf10_eps01-2021-01-27-1936</span>                                           <span style=\"color: #7f7f7f\">&lt;ipython-input-16-d06d8338bca0&gt;:7</span>\n",
       "</pre>\n"
      ],
      "text/plain": [
       "<rich.jupyter.JupyterRenderable at 0x7fe700ac8130>"
      ]
     },
     "metadata": {},
     "output_type": "display_data"
    },
    {
     "data": {
      "text/html": [
       "<pre style=\"white-space:pre;overflow-x:auto;line-height:normal;font-family:Menlo,'DejaVu Sans Mono',consolas,'Courier New',monospace\"><span style=\"color: #7fbfbf\">           </span><span style=\"font-weight: bold\">(</span><span style=\"color: #ff79ff\">45</span> <span style=\"color: #800080\">/</span> <span style=\"color: #ff79ff\">132</span><span style=\"font-weight: bold\">)</span> hdir: <span style=\"color: #800080\">/Users/saforem2/grand/projects/DLHMC/l2hmc-qcd/logs/GaugeModel_logs/hmc_logs/2021_01/beta7/</span><span style=\"color: #ff00ff\">HMC_L16_b512_beta7_lf10_eps0125-2021-01-28-0800</span>                                         <span style=\"color: #7f7f7f\">&lt;ipython-input-16-d06d8338bca0&gt;:7</span>\n",
       "</pre>\n"
      ],
      "text/plain": [
       "<rich.jupyter.JupyterRenderable at 0x7fe700a6c550>"
      ]
     },
     "metadata": {},
     "output_type": "display_data"
    },
    {
     "data": {
      "text/html": [
       "<pre style=\"white-space:pre;overflow-x:auto;line-height:normal;font-family:Menlo,'DejaVu Sans Mono',consolas,'Courier New',monospace\"><span style=\"color: #7fbfbf\">           </span><span style=\"font-weight: bold\">(</span><span style=\"color: #ff79ff\">46</span> <span style=\"color: #800080\">/</span> <span style=\"color: #ff79ff\">132</span><span style=\"font-weight: bold\">)</span> hdir: <span style=\"color: #800080\">/Users/saforem2/grand/projects/DLHMC/l2hmc-qcd/logs/GaugeModel_logs/hmc_logs/2021_01/beta7/</span><span style=\"color: #ff00ff\">HMC_L16_b512_beta7_lf10_eps015-2021-01-28-0800</span>                                          <span style=\"color: #7f7f7f\">&lt;ipython-input-16-d06d8338bca0&gt;:7</span>\n",
       "</pre>\n"
      ],
      "text/plain": [
       "<rich.jupyter.JupyterRenderable at 0x7fe6b19694f0>"
      ]
     },
     "metadata": {},
     "output_type": "display_data"
    },
    {
     "data": {
      "text/html": [
       "<pre style=\"white-space:pre;overflow-x:auto;line-height:normal;font-family:Menlo,'DejaVu Sans Mono',consolas,'Courier New',monospace\"><span style=\"color: #7fbfbf\">[22:33:03] </span><span style=\"font-weight: bold\">(</span><span style=\"color: #ff79ff\">47</span> <span style=\"color: #800080\">/</span> <span style=\"color: #ff79ff\">132</span><span style=\"font-weight: bold\">)</span> hdir: <span style=\"color: #800080\">/Users/saforem2/grand/projects/DLHMC/l2hmc-qcd/logs/GaugeModel_logs/hmc_logs/2021_01/beta7/</span><span style=\"color: #ff00ff\">HMC_L16_b512_beta7_lf10_eps0175-2021-01-29-0744</span>                                         <span style=\"color: #7f7f7f\">&lt;ipython-input-16-d06d8338bca0&gt;:7</span>\n",
       "</pre>\n"
      ],
      "text/plain": [
       "<rich.jupyter.JupyterRenderable at 0x7fe6b1a14550>"
      ]
     },
     "metadata": {},
     "output_type": "display_data"
    },
    {
     "data": {
      "text/html": [
       "<pre style=\"white-space:pre;overflow-x:auto;line-height:normal;font-family:Menlo,'DejaVu Sans Mono',consolas,'Courier New',monospace\"><span style=\"color: #7fbfbf\">           </span><span style=\"font-weight: bold\">(</span><span style=\"color: #ff79ff\">48</span> <span style=\"color: #800080\">/</span> <span style=\"color: #ff79ff\">132</span><span style=\"font-weight: bold\">)</span> hdir: <span style=\"color: #800080\">/Users/saforem2/grand/projects/DLHMC/l2hmc-qcd/logs/GaugeModel_logs/hmc_logs/2021_01/beta7/</span><span style=\"color: #ff00ff\">HMC_L16_b512_beta7_lf10_eps0175-2021-01-29-074448</span>                                       <span style=\"color: #7f7f7f\">&lt;ipython-input-16-d06d8338bca0&gt;:7</span>\n",
       "</pre>\n"
      ],
      "text/plain": [
       "<rich.jupyter.JupyterRenderable at 0x7fe6b1964b50>"
      ]
     },
     "metadata": {},
     "output_type": "display_data"
    },
    {
     "data": {
      "text/html": [
       "<pre style=\"white-space:pre;overflow-x:auto;line-height:normal;font-family:Menlo,'DejaVu Sans Mono',consolas,'Courier New',monospace\"><span style=\"color: #7fbfbf\">           </span><span style=\"font-weight: bold\">(</span><span style=\"color: #ff79ff\">49</span> <span style=\"color: #800080\">/</span> <span style=\"color: #ff79ff\">132</span><span style=\"font-weight: bold\">)</span> hdir: <span style=\"color: #800080\">/Users/saforem2/grand/projects/DLHMC/l2hmc-qcd/logs/GaugeModel_logs/hmc_logs/2021_01/beta7/</span><span style=\"color: #ff00ff\">HMC_L16_b512_beta7_lf10_eps0175-2021-01-29-074449</span>                                       <span style=\"color: #7f7f7f\">&lt;ipython-input-16-d06d8338bca0&gt;:7</span>\n",
       "</pre>\n"
      ],
      "text/plain": [
       "<rich.jupyter.JupyterRenderable at 0x7fe700aa6cd0>"
      ]
     },
     "metadata": {},
     "output_type": "display_data"
    },
    {
     "data": {
      "text/html": [
       "<pre style=\"white-space:pre;overflow-x:auto;line-height:normal;font-family:Menlo,'DejaVu Sans Mono',consolas,'Courier New',monospace\"><span style=\"color: #7fbfbf\">[22:33:04] </span><span style=\"font-weight: bold\">(</span><span style=\"color: #ff79ff\">50</span> <span style=\"color: #800080\">/</span> <span style=\"color: #ff79ff\">132</span><span style=\"font-weight: bold\">)</span> hdir: <span style=\"color: #800080\">/Users/saforem2/grand/projects/DLHMC/l2hmc-qcd/logs/GaugeModel_logs/hmc_logs/2021_01/beta7/</span><span style=\"color: #ff00ff\">HMC_L16_b512_beta7_lf10_eps02-2021-01-27-1621</span>                                           <span style=\"color: #7f7f7f\">&lt;ipython-input-16-d06d8338bca0&gt;:7</span>\n",
       "</pre>\n"
      ],
      "text/plain": [
       "<rich.jupyter.JupyterRenderable at 0x7fe6b1a143a0>"
      ]
     },
     "metadata": {},
     "output_type": "display_data"
    },
    {
     "data": {
      "text/html": [
       "<pre style=\"white-space:pre;overflow-x:auto;line-height:normal;font-family:Menlo,'DejaVu Sans Mono',consolas,'Courier New',monospace\"><span style=\"color: #7fbfbf\">           </span><span style=\"font-weight: bold\">(</span><span style=\"color: #ff79ff\">51</span> <span style=\"color: #800080\">/</span> <span style=\"color: #ff79ff\">132</span><span style=\"font-weight: bold\">)</span> hdir: <span style=\"color: #800080\">/Users/saforem2/grand/projects/DLHMC/l2hmc-qcd/logs/GaugeModel_logs/hmc_logs/2021_01/beta7/</span><span style=\"color: #ff00ff\">HMC_L16_b512_beta7_lf20_eps005-2021-01-27-1621</span>                                          <span style=\"color: #7f7f7f\">&lt;ipython-input-16-d06d8338bca0&gt;:7</span>\n",
       "</pre>\n"
      ],
      "text/plain": [
       "<rich.jupyter.JupyterRenderable at 0x7fe6b1812f70>"
      ]
     },
     "metadata": {},
     "output_type": "display_data"
    },
    {
     "data": {
      "text/html": [
       "<pre style=\"white-space:pre;overflow-x:auto;line-height:normal;font-family:Menlo,'DejaVu Sans Mono',consolas,'Courier New',monospace\"><span style=\"color: #7fbfbf\">           </span><span style=\"font-weight: bold\">(</span><span style=\"color: #ff79ff\">52</span> <span style=\"color: #800080\">/</span> <span style=\"color: #ff79ff\">132</span><span style=\"font-weight: bold\">)</span> hdir: <span style=\"color: #800080\">/Users/saforem2/grand/projects/DLHMC/l2hmc-qcd/logs/GaugeModel_logs/hmc_logs/2021_01/beta7/</span><span style=\"color: #ff00ff\">HMC_L16_b512_beta7_lf20_eps01-2021-01-27-1900</span>                                           <span style=\"color: #7f7f7f\">&lt;ipython-input-16-d06d8338bca0&gt;:7</span>\n",
       "</pre>\n"
      ],
      "text/plain": [
       "<rich.jupyter.JupyterRenderable at 0x7fe700ac8bb0>"
      ]
     },
     "metadata": {},
     "output_type": "display_data"
    },
    {
     "data": {
      "text/html": [
       "<pre style=\"white-space:pre;overflow-x:auto;line-height:normal;font-family:Menlo,'DejaVu Sans Mono',consolas,'Courier New',monospace\"><span style=\"color: #7fbfbf\">[22:33:05] </span><span style=\"font-weight: bold\">(</span><span style=\"color: #ff79ff\">53</span> <span style=\"color: #800080\">/</span> <span style=\"color: #ff79ff\">132</span><span style=\"font-weight: bold\">)</span> hdir: <span style=\"color: #800080\">/Users/saforem2/grand/projects/DLHMC/l2hmc-qcd/logs/GaugeModel_logs/hmc_logs/2021_01/beta7/</span><span style=\"color: #ff00ff\">HMC_L16_b512_beta7_lf20_eps02-2021-01-27-1621</span>                                           <span style=\"color: #7f7f7f\">&lt;ipython-input-16-d06d8338bca0&gt;:7</span>\n",
       "</pre>\n"
      ],
      "text/plain": [
       "<rich.jupyter.JupyterRenderable at 0x7fe6b1979730>"
      ]
     },
     "metadata": {},
     "output_type": "display_data"
    },
    {
     "data": {
      "text/html": [
       "<pre style=\"white-space:pre;overflow-x:auto;line-height:normal;font-family:Menlo,'DejaVu Sans Mono',consolas,'Courier New',monospace\"><span style=\"color: #7fbfbf\">           </span><span style=\"font-weight: bold\">(</span><span style=\"color: #ff79ff\">54</span> <span style=\"color: #800080\">/</span> <span style=\"color: #ff79ff\">132</span><span style=\"font-weight: bold\">)</span> hdir: <span style=\"color: #800080\">/Users/saforem2/grand/projects/DLHMC/l2hmc-qcd/logs/GaugeModel_logs/hmc_logs/2021_02/</span><span style=\"color: #ff00ff\">HMC_L16_b128_beta2_lf10_eps005-2021-02-04-0927</span>                                                <span style=\"color: #7f7f7f\">&lt;ipython-input-16-d06d8338bca0&gt;:7</span>\n",
       "</pre>\n"
      ],
      "text/plain": [
       "<rich.jupyter.JupyterRenderable at 0x7fe6c1d855b0>"
      ]
     },
     "metadata": {},
     "output_type": "display_data"
    },
    {
     "data": {
      "text/html": [
       "<pre style=\"white-space:pre;overflow-x:auto;line-height:normal;font-family:Menlo,'DejaVu Sans Mono',consolas,'Courier New',monospace\"><span style=\"color: #7fbfbf\">[22:33:06] </span><span style=\"font-weight: bold\">(</span><span style=\"color: #ff79ff\">55</span> <span style=\"color: #800080\">/</span> <span style=\"color: #ff79ff\">132</span><span style=\"font-weight: bold\">)</span> hdir: <span style=\"color: #800080\">/Users/saforem2/grand/projects/DLHMC/l2hmc-qcd/logs/GaugeModel_logs/hmc_logs/2021_02/</span><span style=\"color: #ff00ff\">HMC_L16_b128_beta2_lf10_eps015-2021-02-04-0927</span>                                                <span style=\"color: #7f7f7f\">&lt;ipython-input-16-d06d8338bca0&gt;:7</span>\n",
       "</pre>\n"
      ],
      "text/plain": [
       "<rich.jupyter.JupyterRenderable at 0x7fe6b12d29d0>"
      ]
     },
     "metadata": {},
     "output_type": "display_data"
    },
    {
     "data": {
      "text/html": [
       "<pre style=\"white-space:pre;overflow-x:auto;line-height:normal;font-family:Menlo,'DejaVu Sans Mono',consolas,'Courier New',monospace\"><span style=\"color: #7fbfbf\">           </span><span style=\"font-weight: bold\">(</span><span style=\"color: #ff79ff\">56</span> <span style=\"color: #800080\">/</span> <span style=\"color: #ff79ff\">132</span><span style=\"font-weight: bold\">)</span> hdir: <span style=\"color: #800080\">/Users/saforem2/grand/projects/DLHMC/l2hmc-qcd/logs/GaugeModel_logs/hmc_logs/2021_02/</span><span style=\"color: #ff00ff\">HMC_L16_b128_beta2_lf10_eps0175-2021-02-04-1043</span>                                               <span style=\"color: #7f7f7f\">&lt;ipython-input-16-d06d8338bca0&gt;:7</span>\n",
       "</pre>\n"
      ],
      "text/plain": [
       "<rich.jupyter.JupyterRenderable at 0x7fe6b1944dc0>"
      ]
     },
     "metadata": {},
     "output_type": "display_data"
    },
    {
     "data": {
      "text/html": [
       "<pre style=\"white-space:pre;overflow-x:auto;line-height:normal;font-family:Menlo,'DejaVu Sans Mono',consolas,'Courier New',monospace\"><span style=\"color: #7fbfbf\">           </span><span style=\"font-weight: bold\">(</span><span style=\"color: #ff79ff\">57</span> <span style=\"color: #800080\">/</span> <span style=\"color: #ff79ff\">132</span><span style=\"font-weight: bold\">)</span> hdir: <span style=\"color: #800080\">/Users/saforem2/grand/projects/DLHMC/l2hmc-qcd/logs/GaugeModel_logs/hmc_logs/2021_02/</span><span style=\"color: #ff00ff\">HMC_L16_b128_beta2_lf10_eps02-2021-02-04-1043</span>                                                 <span style=\"color: #7f7f7f\">&lt;ipython-input-16-d06d8338bca0&gt;:7</span>\n",
       "</pre>\n"
      ],
      "text/plain": [
       "<rich.jupyter.JupyterRenderable at 0x7fe6b1944370>"
      ]
     },
     "metadata": {},
     "output_type": "display_data"
    },
    {
     "data": {
      "text/html": [
       "<pre style=\"white-space:pre;overflow-x:auto;line-height:normal;font-family:Menlo,'DejaVu Sans Mono',consolas,'Courier New',monospace\"><span style=\"color: #7fbfbf\">[22:33:07] </span><span style=\"font-weight: bold\">(</span><span style=\"color: #ff79ff\">58</span> <span style=\"color: #800080\">/</span> <span style=\"color: #ff79ff\">132</span><span style=\"font-weight: bold\">)</span> hdir: <span style=\"color: #800080\">/Users/saforem2/grand/projects/DLHMC/l2hmc-qcd/logs/GaugeModel_logs/hmc_logs/2021_02/</span><span style=\"color: #ff00ff\">HMC_L16_b128_beta2_lf15_eps005-2021-02-04-1151</span>                                                <span style=\"color: #7f7f7f\">&lt;ipython-input-16-d06d8338bca0&gt;:7</span>\n",
       "</pre>\n"
      ],
      "text/plain": [
       "<rich.jupyter.JupyterRenderable at 0x7fe6c1e1ba30>"
      ]
     },
     "metadata": {},
     "output_type": "display_data"
    },
    {
     "data": {
      "text/html": [
       "<pre style=\"white-space:pre;overflow-x:auto;line-height:normal;font-family:Menlo,'DejaVu Sans Mono',consolas,'Courier New',monospace\"><span style=\"color: #7fbfbf\">           </span><span style=\"font-weight: bold\">(</span><span style=\"color: #ff79ff\">59</span> <span style=\"color: #800080\">/</span> <span style=\"color: #ff79ff\">132</span><span style=\"font-weight: bold\">)</span> hdir: <span style=\"color: #800080\">/Users/saforem2/grand/projects/DLHMC/l2hmc-qcd/logs/GaugeModel_logs/hmc_logs/2021_02/</span><span style=\"color: #ff00ff\">HMC_L16_b128_beta2_lf15_eps015-2021-02-04-1250</span>                                                <span style=\"color: #7f7f7f\">&lt;ipython-input-16-d06d8338bca0&gt;:7</span>\n",
       "</pre>\n"
      ],
      "text/plain": [
       "<rich.jupyter.JupyterRenderable at 0x7fe6b19591c0>"
      ]
     },
     "metadata": {},
     "output_type": "display_data"
    },
    {
     "data": {
      "text/html": [
       "<pre style=\"white-space:pre;overflow-x:auto;line-height:normal;font-family:Menlo,'DejaVu Sans Mono',consolas,'Courier New',monospace\"><span style=\"color: #7fbfbf\">           </span><span style=\"font-weight: bold\">(</span><span style=\"color: #ff79ff\">60</span> <span style=\"color: #800080\">/</span> <span style=\"color: #ff79ff\">132</span><span style=\"font-weight: bold\">)</span> hdir: <span style=\"color: #800080\">/Users/saforem2/grand/projects/DLHMC/l2hmc-qcd/logs/GaugeModel_logs/hmc_logs/2021_02/</span><span style=\"color: #ff00ff\">HMC_L16_b128_beta2_lf15_eps0175-2021-02-04-1250</span>                                               <span style=\"color: #7f7f7f\">&lt;ipython-input-16-d06d8338bca0&gt;:7</span>\n",
       "</pre>\n"
      ],
      "text/plain": [
       "<rich.jupyter.JupyterRenderable at 0x7fe6c1d6c160>"
      ]
     },
     "metadata": {},
     "output_type": "display_data"
    },
    {
     "data": {
      "text/html": [
       "<pre style=\"white-space:pre;overflow-x:auto;line-height:normal;font-family:Menlo,'DejaVu Sans Mono',consolas,'Courier New',monospace\"><span style=\"color: #7fbfbf\">[22:33:08] </span><span style=\"font-weight: bold\">(</span><span style=\"color: #ff79ff\">61</span> <span style=\"color: #800080\">/</span> <span style=\"color: #ff79ff\">132</span><span style=\"font-weight: bold\">)</span> hdir: <span style=\"color: #800080\">/Users/saforem2/grand/projects/DLHMC/l2hmc-qcd/logs/GaugeModel_logs/hmc_logs/2021_02/</span><span style=\"color: #ff00ff\">HMC_L16_b128_beta2_lf15_eps02-2021-02-04-1151</span>                                                 <span style=\"color: #7f7f7f\">&lt;ipython-input-16-d06d8338bca0&gt;:7</span>\n",
       "</pre>\n"
      ],
      "text/plain": [
       "<rich.jupyter.JupyterRenderable at 0x7fe6b17fe7c0>"
      ]
     },
     "metadata": {},
     "output_type": "display_data"
    },
    {
     "data": {
      "text/html": [
       "<pre style=\"white-space:pre;overflow-x:auto;line-height:normal;font-family:Menlo,'DejaVu Sans Mono',consolas,'Courier New',monospace\"><span style=\"color: #7fbfbf\">           </span><span style=\"font-weight: bold\">(</span><span style=\"color: #ff79ff\">62</span> <span style=\"color: #800080\">/</span> <span style=\"color: #ff79ff\">132</span><span style=\"font-weight: bold\">)</span> hdir: <span style=\"color: #800080\">/Users/saforem2/grand/projects/DLHMC/l2hmc-qcd/logs/GaugeModel_logs/hmc_logs/2021_02/</span><span style=\"color: #ff00ff\">HMC_L16_b128_beta2_lf20_eps005-2021-02-04-1458</span>                                                <span style=\"color: #7f7f7f\">&lt;ipython-input-16-d06d8338bca0&gt;:7</span>\n",
       "</pre>\n"
      ],
      "text/plain": [
       "<rich.jupyter.JupyterRenderable at 0x7fe6c1d6c160>"
      ]
     },
     "metadata": {},
     "output_type": "display_data"
    },
    {
     "data": {
      "text/html": [
       "<pre style=\"white-space:pre;overflow-x:auto;line-height:normal;font-family:Menlo,'DejaVu Sans Mono',consolas,'Courier New',monospace\"><span style=\"color: #7fbfbf\">           </span><span style=\"font-weight: bold\">(</span><span style=\"color: #ff79ff\">63</span> <span style=\"color: #800080\">/</span> <span style=\"color: #ff79ff\">132</span><span style=\"font-weight: bold\">)</span> hdir: <span style=\"color: #800080\">/Users/saforem2/grand/projects/DLHMC/l2hmc-qcd/logs/GaugeModel_logs/hmc_logs/2021_02/</span><span style=\"color: #ff00ff\">HMC_L16_b128_beta2_lf20_eps015-2021-02-04-1342</span>                                                <span style=\"color: #7f7f7f\">&lt;ipython-input-16-d06d8338bca0&gt;:7</span>\n",
       "</pre>\n"
      ],
      "text/plain": [
       "<rich.jupyter.JupyterRenderable at 0x7fe6c1d83f10>"
      ]
     },
     "metadata": {},
     "output_type": "display_data"
    },
    {
     "data": {
      "text/html": [
       "<pre style=\"white-space:pre;overflow-x:auto;line-height:normal;font-family:Menlo,'DejaVu Sans Mono',consolas,'Courier New',monospace\"><span style=\"color: #7fbfbf\">[22:33:09] </span><span style=\"font-weight: bold\">(</span><span style=\"color: #ff79ff\">64</span> <span style=\"color: #800080\">/</span> <span style=\"color: #ff79ff\">132</span><span style=\"font-weight: bold\">)</span> hdir: <span style=\"color: #800080\">/Users/saforem2/grand/projects/DLHMC/l2hmc-qcd/logs/GaugeModel_logs/hmc_logs/2021_02/</span><span style=\"color: #ff00ff\">HMC_L16_b128_beta2_lf20_eps0175-2021-02-04-1343</span>                                               <span style=\"color: #7f7f7f\">&lt;ipython-input-16-d06d8338bca0&gt;:7</span>\n",
       "</pre>\n"
      ],
      "text/plain": [
       "<rich.jupyter.JupyterRenderable at 0x7fe710b1cfa0>"
      ]
     },
     "metadata": {},
     "output_type": "display_data"
    },
    {
     "data": {
      "text/html": [
       "<pre style=\"white-space:pre;overflow-x:auto;line-height:normal;font-family:Menlo,'DejaVu Sans Mono',consolas,'Courier New',monospace\"><span style=\"color: #7fbfbf\">           </span><span style=\"font-weight: bold\">(</span><span style=\"color: #ff79ff\">65</span> <span style=\"color: #800080\">/</span> <span style=\"color: #ff79ff\">132</span><span style=\"font-weight: bold\">)</span> hdir: <span style=\"color: #800080\">/Users/saforem2/grand/projects/DLHMC/l2hmc-qcd/logs/GaugeModel_logs/hmc_logs/2021_02/</span><span style=\"color: #ff00ff\">HMC_L16_b128_beta2_lf20_eps02-2021-02-04-1457</span>                                                 <span style=\"color: #7f7f7f\">&lt;ipython-input-16-d06d8338bca0&gt;:7</span>\n",
       "</pre>\n"
      ],
      "text/plain": [
       "<rich.jupyter.JupyterRenderable at 0x7fe6b1a34700>"
      ]
     },
     "metadata": {},
     "output_type": "display_data"
    },
    {
     "data": {
      "text/html": [
       "<pre style=\"white-space:pre;overflow-x:auto;line-height:normal;font-family:Menlo,'DejaVu Sans Mono',consolas,'Courier New',monospace\"><span style=\"color: #7fbfbf\">           </span><span style=\"font-weight: bold\">(</span><span style=\"color: #ff79ff\">66</span> <span style=\"color: #800080\">/</span> <span style=\"color: #ff79ff\">132</span><span style=\"font-weight: bold\">)</span> hdir: <span style=\"color: #800080\">/Users/saforem2/grand/projects/DLHMC/l2hmc-qcd/logs/GaugeModel_logs/hmc_logs/2021_02/</span><span style=\"color: #ff00ff\">HMC_L16_b128_beta3_lf10_eps005-2021-02-04-2114</span>                                                <span style=\"color: #7f7f7f\">&lt;ipython-input-16-d06d8338bca0&gt;:7</span>\n",
       "</pre>\n"
      ],
      "text/plain": [
       "<rich.jupyter.JupyterRenderable at 0x7fe6d0f51fd0>"
      ]
     },
     "metadata": {},
     "output_type": "display_data"
    },
    {
     "data": {
      "text/html": [
       "<pre style=\"white-space:pre;overflow-x:auto;line-height:normal;font-family:Menlo,'DejaVu Sans Mono',consolas,'Courier New',monospace\"><span style=\"color: #7fbfbf\">[22:33:10] </span><span style=\"font-weight: bold\">(</span><span style=\"color: #ff79ff\">67</span> <span style=\"color: #800080\">/</span> <span style=\"color: #ff79ff\">132</span><span style=\"font-weight: bold\">)</span> hdir: <span style=\"color: #800080\">/Users/saforem2/grand/projects/DLHMC/l2hmc-qcd/logs/GaugeModel_logs/hmc_logs/2021_02/</span><span style=\"color: #ff00ff\">HMC_L16_b128_beta3_lf10_eps015-2021-02-04-2114</span>                                                <span style=\"color: #7f7f7f\">&lt;ipython-input-16-d06d8338bca0&gt;:7</span>\n",
       "</pre>\n"
      ],
      "text/plain": [
       "<rich.jupyter.JupyterRenderable at 0x7fe6d0f51fd0>"
      ]
     },
     "metadata": {},
     "output_type": "display_data"
    },
    {
     "data": {
      "text/html": [
       "<pre style=\"white-space:pre;overflow-x:auto;line-height:normal;font-family:Menlo,'DejaVu Sans Mono',consolas,'Courier New',monospace\"><span style=\"color: #7fbfbf\">           </span><span style=\"font-weight: bold\">(</span><span style=\"color: #ff79ff\">68</span> <span style=\"color: #800080\">/</span> <span style=\"color: #ff79ff\">132</span><span style=\"font-weight: bold\">)</span> hdir: <span style=\"color: #800080\">/Users/saforem2/grand/projects/DLHMC/l2hmc-qcd/logs/GaugeModel_logs/hmc_logs/2021_02/</span><span style=\"color: #ff00ff\">HMC_L16_b128_beta3_lf10_eps0175-2021-02-04-2114</span>                                               <span style=\"color: #7f7f7f\">&lt;ipython-input-16-d06d8338bca0&gt;:7</span>\n",
       "</pre>\n"
      ],
      "text/plain": [
       "<rich.jupyter.JupyterRenderable at 0x7fe6b17d4430>"
      ]
     },
     "metadata": {},
     "output_type": "display_data"
    },
    {
     "data": {
      "text/html": [
       "<pre style=\"white-space:pre;overflow-x:auto;line-height:normal;font-family:Menlo,'DejaVu Sans Mono',consolas,'Courier New',monospace\"><span style=\"color: #7fbfbf\">           </span><span style=\"font-weight: bold\">(</span><span style=\"color: #ff79ff\">69</span> <span style=\"color: #800080\">/</span> <span style=\"color: #ff79ff\">132</span><span style=\"font-weight: bold\">)</span> hdir: <span style=\"color: #800080\">/Users/saforem2/grand/projects/DLHMC/l2hmc-qcd/logs/GaugeModel_logs/hmc_logs/2021_02/</span><span style=\"color: #ff00ff\">HMC_L16_b128_beta3_lf10_eps02-2021-02-04-2224</span>                                                 <span style=\"color: #7f7f7f\">&lt;ipython-input-16-d06d8338bca0&gt;:7</span>\n",
       "</pre>\n"
      ],
      "text/plain": [
       "<rich.jupyter.JupyterRenderable at 0x7fe710b16fd0>"
      ]
     },
     "metadata": {},
     "output_type": "display_data"
    },
    {
     "data": {
      "text/html": [
       "<pre style=\"white-space:pre;overflow-x:auto;line-height:normal;font-family:Menlo,'DejaVu Sans Mono',consolas,'Courier New',monospace\"><span style=\"color: #7fbfbf\">[22:33:11] </span><span style=\"font-weight: bold\">(</span><span style=\"color: #ff79ff\">70</span> <span style=\"color: #800080\">/</span> <span style=\"color: #ff79ff\">132</span><span style=\"font-weight: bold\">)</span> hdir: <span style=\"color: #800080\">/Users/saforem2/grand/projects/DLHMC/l2hmc-qcd/logs/GaugeModel_logs/hmc_logs/2021_02/</span><span style=\"color: #ff00ff\">HMC_L16_b128_beta3_lf15_eps005-2021-02-04-2225</span>                                                <span style=\"color: #7f7f7f\">&lt;ipython-input-16-d06d8338bca0&gt;:7</span>\n",
       "</pre>\n"
      ],
      "text/plain": [
       "<rich.jupyter.JupyterRenderable at 0x7fe710af61c0>"
      ]
     },
     "metadata": {},
     "output_type": "display_data"
    },
    {
     "data": {
      "text/html": [
       "<pre style=\"white-space:pre;overflow-x:auto;line-height:normal;font-family:Menlo,'DejaVu Sans Mono',consolas,'Courier New',monospace\"><span style=\"color: #7fbfbf\">           </span><span style=\"font-weight: bold\">(</span><span style=\"color: #ff79ff\">71</span> <span style=\"color: #800080\">/</span> <span style=\"color: #ff79ff\">132</span><span style=\"font-weight: bold\">)</span> hdir: <span style=\"color: #800080\">/Users/saforem2/grand/projects/DLHMC/l2hmc-qcd/logs/GaugeModel_logs/hmc_logs/2021_02/</span><span style=\"color: #ff00ff\">HMC_L16_b128_beta3_lf15_eps015-2021-02-04-2224</span>                                                <span style=\"color: #7f7f7f\">&lt;ipython-input-16-d06d8338bca0&gt;:7</span>\n",
       "</pre>\n"
      ],
      "text/plain": [
       "<rich.jupyter.JupyterRenderable at 0x7fe73017c2e0>"
      ]
     },
     "metadata": {},
     "output_type": "display_data"
    },
    {
     "data": {
      "text/html": [
       "<pre style=\"white-space:pre;overflow-x:auto;line-height:normal;font-family:Menlo,'DejaVu Sans Mono',consolas,'Courier New',monospace\"><span style=\"color: #7fbfbf\">           </span><span style=\"font-weight: bold\">(</span><span style=\"color: #ff79ff\">72</span> <span style=\"color: #800080\">/</span> <span style=\"color: #ff79ff\">132</span><span style=\"font-weight: bold\">)</span> hdir: <span style=\"color: #800080\">/Users/saforem2/grand/projects/DLHMC/l2hmc-qcd/logs/GaugeModel_logs/hmc_logs/2021_02/</span><span style=\"color: #ff00ff\">HMC_L16_b128_beta3_lf15_eps0175-2021-02-04-2335</span>                                               <span style=\"color: #7f7f7f\">&lt;ipython-input-16-d06d8338bca0&gt;:7</span>\n",
       "</pre>\n"
      ],
      "text/plain": [
       "<rich.jupyter.JupyterRenderable at 0x7fe6c1d5bf10>"
      ]
     },
     "metadata": {},
     "output_type": "display_data"
    },
    {
     "data": {
      "text/html": [
       "<pre style=\"white-space:pre;overflow-x:auto;line-height:normal;font-family:Menlo,'DejaVu Sans Mono',consolas,'Courier New',monospace\"><span style=\"color: #7fbfbf\">[22:33:12] </span><span style=\"font-weight: bold\">(</span><span style=\"color: #ff79ff\">73</span> <span style=\"color: #800080\">/</span> <span style=\"color: #ff79ff\">132</span><span style=\"font-weight: bold\">)</span> hdir: <span style=\"color: #800080\">/Users/saforem2/grand/projects/DLHMC/l2hmc-qcd/logs/GaugeModel_logs/hmc_logs/2021_02/</span><span style=\"color: #ff00ff\">HMC_L16_b128_beta3_lf15_eps02-2021-02-04-2224</span>                                                 <span style=\"color: #7f7f7f\">&lt;ipython-input-16-d06d8338bca0&gt;:7</span>\n",
       "</pre>\n"
      ],
      "text/plain": [
       "<rich.jupyter.JupyterRenderable at 0x7fe720cc7190>"
      ]
     },
     "metadata": {},
     "output_type": "display_data"
    },
    {
     "data": {
      "text/html": [
       "<pre style=\"white-space:pre;overflow-x:auto;line-height:normal;font-family:Menlo,'DejaVu Sans Mono',consolas,'Courier New',monospace\"><span style=\"color: #7fbfbf\">           </span><span style=\"font-weight: bold\">(</span><span style=\"color: #ff79ff\">74</span> <span style=\"color: #800080\">/</span> <span style=\"color: #ff79ff\">132</span><span style=\"font-weight: bold\">)</span> hdir: <span style=\"color: #800080\">/Users/saforem2/grand/projects/DLHMC/l2hmc-qcd/logs/GaugeModel_logs/hmc_logs/2021_02/</span><span style=\"color: #ff00ff\">HMC_L16_b128_beta3_lf20_eps005-2021-02-04-2340</span>                                                <span style=\"color: #7f7f7f\">&lt;ipython-input-16-d06d8338bca0&gt;:7</span>\n",
       "</pre>\n"
      ],
      "text/plain": [
       "<rich.jupyter.JupyterRenderable at 0x7fe700ae45b0>"
      ]
     },
     "metadata": {},
     "output_type": "display_data"
    },
    {
     "data": {
      "text/html": [
       "<pre style=\"white-space:pre;overflow-x:auto;line-height:normal;font-family:Menlo,'DejaVu Sans Mono',consolas,'Courier New',monospace\"><span style=\"color: #7fbfbf\">           </span><span style=\"font-weight: bold\">(</span><span style=\"color: #ff79ff\">75</span> <span style=\"color: #800080\">/</span> <span style=\"color: #ff79ff\">132</span><span style=\"font-weight: bold\">)</span> hdir: <span style=\"color: #800080\">/Users/saforem2/grand/projects/DLHMC/l2hmc-qcd/logs/GaugeModel_logs/hmc_logs/2021_02/</span><span style=\"color: #ff00ff\">HMC_L16_b128_beta3_lf20_eps015-2021-02-05-0046</span>                                                <span style=\"color: #7f7f7f\">&lt;ipython-input-16-d06d8338bca0&gt;:7</span>\n",
       "</pre>\n"
      ],
      "text/plain": [
       "<rich.jupyter.JupyterRenderable at 0x7fe710b16ca0>"
      ]
     },
     "metadata": {},
     "output_type": "display_data"
    },
    {
     "data": {
      "text/html": [
       "<pre style=\"white-space:pre;overflow-x:auto;line-height:normal;font-family:Menlo,'DejaVu Sans Mono',consolas,'Courier New',monospace\"><span style=\"color: #7fbfbf\">           </span><span style=\"font-weight: bold\">(</span><span style=\"color: #ff79ff\">76</span> <span style=\"color: #800080\">/</span> <span style=\"color: #ff79ff\">132</span><span style=\"font-weight: bold\">)</span> hdir: <span style=\"color: #800080\">/Users/saforem2/grand/projects/DLHMC/l2hmc-qcd/logs/GaugeModel_logs/hmc_logs/2021_02/</span><span style=\"color: #ff00ff\">HMC_L16_b128_beta3_lf20_eps0175-2021-02-04-2340</span>                                               <span style=\"color: #7f7f7f\">&lt;ipython-input-16-d06d8338bca0&gt;:7</span>\n",
       "</pre>\n"
      ],
      "text/plain": [
       "<rich.jupyter.JupyterRenderable at 0x7fe6c1dfbd00>"
      ]
     },
     "metadata": {},
     "output_type": "display_data"
    },
    {
     "data": {
      "text/html": [
       "<pre style=\"white-space:pre;overflow-x:auto;line-height:normal;font-family:Menlo,'DejaVu Sans Mono',consolas,'Courier New',monospace\"><span style=\"color: #7fbfbf\">[22:33:13] </span><span style=\"font-weight: bold\">(</span><span style=\"color: #ff79ff\">77</span> <span style=\"color: #800080\">/</span> <span style=\"color: #ff79ff\">132</span><span style=\"font-weight: bold\">)</span> hdir: <span style=\"color: #800080\">/Users/saforem2/grand/projects/DLHMC/l2hmc-qcd/logs/GaugeModel_logs/hmc_logs/2021_02/</span><span style=\"color: #ff00ff\">HMC_L16_b128_beta3_lf20_eps02-2021-02-04-2341</span>                                                 <span style=\"color: #7f7f7f\">&lt;ipython-input-16-d06d8338bca0&gt;:7</span>\n",
       "</pre>\n"
      ],
      "text/plain": [
       "<rich.jupyter.JupyterRenderable at 0x7fe6b17bf130>"
      ]
     },
     "metadata": {},
     "output_type": "display_data"
    },
    {
     "data": {
      "text/html": [
       "<pre style=\"white-space:pre;overflow-x:auto;line-height:normal;font-family:Menlo,'DejaVu Sans Mono',consolas,'Courier New',monospace\"><span style=\"color: #7fbfbf\">           </span><span style=\"font-weight: bold\">(</span><span style=\"color: #ff79ff\">78</span> <span style=\"color: #800080\">/</span> <span style=\"color: #ff79ff\">132</span><span style=\"font-weight: bold\">)</span> hdir: <span style=\"color: #800080\">/Users/saforem2/grand/projects/DLHMC/l2hmc-qcd/logs/GaugeModel_logs/hmc_logs/2021_02/</span><span style=\"color: #ff00ff\">HMC_L16_b128_beta4_lf10_eps005-2021-02-04-1814</span>                                                <span style=\"color: #7f7f7f\">&lt;ipython-input-16-d06d8338bca0&gt;:7</span>\n",
       "</pre>\n"
      ],
      "text/plain": [
       "<rich.jupyter.JupyterRenderable at 0x7fe710afe700>"
      ]
     },
     "metadata": {},
     "output_type": "display_data"
    },
    {
     "data": {
      "text/html": [
       "<pre style=\"white-space:pre;overflow-x:auto;line-height:normal;font-family:Menlo,'DejaVu Sans Mono',consolas,'Courier New',monospace\"><span style=\"color: #7fbfbf\">           </span><span style=\"font-weight: bold\">(</span><span style=\"color: #ff79ff\">79</span> <span style=\"color: #800080\">/</span> <span style=\"color: #ff79ff\">132</span><span style=\"font-weight: bold\">)</span> hdir: <span style=\"color: #800080\">/Users/saforem2/grand/projects/DLHMC/l2hmc-qcd/logs/GaugeModel_logs/hmc_logs/2021_02/</span><span style=\"color: #ff00ff\">HMC_L16_b128_beta4_lf10_eps015-2021-02-04-0927</span>                                                <span style=\"color: #7f7f7f\">&lt;ipython-input-16-d06d8338bca0&gt;:7</span>\n",
       "</pre>\n"
      ],
      "text/plain": [
       "<rich.jupyter.JupyterRenderable at 0x7fe710b162e0>"
      ]
     },
     "metadata": {},
     "output_type": "display_data"
    },
    {
     "data": {
      "text/html": [
       "<pre style=\"white-space:pre;overflow-x:auto;line-height:normal;font-family:Menlo,'DejaVu Sans Mono',consolas,'Courier New',monospace\"><span style=\"color: #7fbfbf\">[22:33:14] </span><span style=\"font-weight: bold\">(</span><span style=\"color: #ff79ff\">80</span> <span style=\"color: #800080\">/</span> <span style=\"color: #ff79ff\">132</span><span style=\"font-weight: bold\">)</span> hdir: <span style=\"color: #800080\">/Users/saforem2/grand/projects/DLHMC/l2hmc-qcd/logs/GaugeModel_logs/hmc_logs/2021_02/</span><span style=\"color: #ff00ff\">HMC_L16_b128_beta4_lf10_eps0175-2021-02-04-2114</span>                                               <span style=\"color: #7f7f7f\">&lt;ipython-input-16-d06d8338bca0&gt;:7</span>\n",
       "</pre>\n"
      ],
      "text/plain": [
       "<rich.jupyter.JupyterRenderable at 0x7fe700c2a9d0>"
      ]
     },
     "metadata": {},
     "output_type": "display_data"
    },
    {
     "data": {
      "text/html": [
       "<pre style=\"white-space:pre;overflow-x:auto;line-height:normal;font-family:Menlo,'DejaVu Sans Mono',consolas,'Courier New',monospace\"><span style=\"color: #7fbfbf\">           </span><span style=\"font-weight: bold\">(</span><span style=\"color: #ff79ff\">81</span> <span style=\"color: #800080\">/</span> <span style=\"color: #ff79ff\">132</span><span style=\"font-weight: bold\">)</span> hdir: <span style=\"color: #800080\">/Users/saforem2/grand/projects/DLHMC/l2hmc-qcd/logs/GaugeModel_logs/hmc_logs/2021_02/</span><span style=\"color: #ff00ff\">HMC_L16_b128_beta4_lf10_eps0175-2021-02-04-211414</span>                                             <span style=\"color: #7f7f7f\">&lt;ipython-input-16-d06d8338bca0&gt;:7</span>\n",
       "</pre>\n"
      ],
      "text/plain": [
       "<rich.jupyter.JupyterRenderable at 0x7fe710b16dc0>"
      ]
     },
     "metadata": {},
     "output_type": "display_data"
    },
    {
     "data": {
      "text/html": [
       "<pre style=\"white-space:pre;overflow-x:auto;line-height:normal;font-family:Menlo,'DejaVu Sans Mono',consolas,'Courier New',monospace\"><span style=\"color: #7fbfbf\">           </span><span style=\"font-weight: bold\">(</span><span style=\"color: #ff79ff\">82</span> <span style=\"color: #800080\">/</span> <span style=\"color: #ff79ff\">132</span><span style=\"font-weight: bold\">)</span> hdir: <span style=\"color: #800080\">/Users/saforem2/grand/projects/DLHMC/l2hmc-qcd/logs/GaugeModel_logs/hmc_logs/2021_02/</span><span style=\"color: #ff00ff\">HMC_L16_b128_beta4_lf10_eps02-2021-02-04-1814</span>                                                 <span style=\"color: #7f7f7f\">&lt;ipython-input-16-d06d8338bca0&gt;:7</span>\n",
       "</pre>\n"
      ],
      "text/plain": [
       "<rich.jupyter.JupyterRenderable at 0x7fe710af60a0>"
      ]
     },
     "metadata": {},
     "output_type": "display_data"
    },
    {
     "data": {
      "text/html": [
       "<pre style=\"white-space:pre;overflow-x:auto;line-height:normal;font-family:Menlo,'DejaVu Sans Mono',consolas,'Courier New',monospace\"><span style=\"color: #7fbfbf\">           </span><span style=\"font-weight: bold\">(</span><span style=\"color: #ff79ff\">83</span> <span style=\"color: #800080\">/</span> <span style=\"color: #ff79ff\">132</span><span style=\"font-weight: bold\">)</span> hdir: <span style=\"color: #800080\">/Users/saforem2/grand/projects/DLHMC/l2hmc-qcd/logs/GaugeModel_logs/hmc_logs/2021_02/</span><span style=\"color: #ff00ff\">HMC_L16_b128_beta4_lf15_eps005-2021-02-05-0053</span>                                                <span style=\"color: #7f7f7f\">&lt;ipython-input-16-d06d8338bca0&gt;:7</span>\n",
       "</pre>\n"
      ],
      "text/plain": [
       "<rich.jupyter.JupyterRenderable at 0x7fe710af69a0>"
      ]
     },
     "metadata": {},
     "output_type": "display_data"
    },
    {
     "data": {
      "text/html": [
       "<pre style=\"white-space:pre;overflow-x:auto;line-height:normal;font-family:Menlo,'DejaVu Sans Mono',consolas,'Courier New',monospace\"><span style=\"color: #7fbfbf\">[22:33:15] </span><span style=\"font-weight: bold\">(</span><span style=\"color: #ff79ff\">84</span> <span style=\"color: #800080\">/</span> <span style=\"color: #ff79ff\">132</span><span style=\"font-weight: bold\">)</span> hdir: <span style=\"color: #800080\">/Users/saforem2/grand/projects/DLHMC/l2hmc-qcd/logs/GaugeModel_logs/hmc_logs/2021_02/</span><span style=\"color: #ff00ff\">HMC_L16_b128_beta4_lf15_eps015-2021-02-05-0347</span>                                                <span style=\"color: #7f7f7f\">&lt;ipython-input-16-d06d8338bca0&gt;:7</span>\n",
       "</pre>\n"
      ],
      "text/plain": [
       "<rich.jupyter.JupyterRenderable at 0x7fe6c1de54f0>"
      ]
     },
     "metadata": {},
     "output_type": "display_data"
    },
    {
     "data": {
      "text/html": [
       "<pre style=\"white-space:pre;overflow-x:auto;line-height:normal;font-family:Menlo,'DejaVu Sans Mono',consolas,'Courier New',monospace\"><span style=\"color: #7fbfbf\">           </span><span style=\"font-weight: bold\">(</span><span style=\"color: #ff79ff\">85</span> <span style=\"color: #800080\">/</span> <span style=\"color: #ff79ff\">132</span><span style=\"font-weight: bold\">)</span> hdir: <span style=\"color: #800080\">/Users/saforem2/grand/projects/DLHMC/l2hmc-qcd/logs/GaugeModel_logs/hmc_logs/2021_02/</span><span style=\"color: #ff00ff\">HMC_L16_b128_beta4_lf15_eps0175-2021-02-05-0157</span>                                               <span style=\"color: #7f7f7f\">&lt;ipython-input-16-d06d8338bca0&gt;:7</span>\n",
       "</pre>\n"
      ],
      "text/plain": [
       "<rich.jupyter.JupyterRenderable at 0x7fe700c0d460>"
      ]
     },
     "metadata": {},
     "output_type": "display_data"
    },
    {
     "data": {
      "text/html": [
       "<pre style=\"white-space:pre;overflow-x:auto;line-height:normal;font-family:Menlo,'DejaVu Sans Mono',consolas,'Courier New',monospace\"><span style=\"color: #7fbfbf\">           </span><span style=\"font-weight: bold\">(</span><span style=\"color: #ff79ff\">86</span> <span style=\"color: #800080\">/</span> <span style=\"color: #ff79ff\">132</span><span style=\"font-weight: bold\">)</span> hdir: <span style=\"color: #800080\">/Users/saforem2/grand/projects/DLHMC/l2hmc-qcd/logs/GaugeModel_logs/hmc_logs/2021_02/</span><span style=\"color: #ff00ff\">HMC_L16_b128_beta4_lf15_eps02-2021-02-05-0256</span>                                                 <span style=\"color: #7f7f7f\">&lt;ipython-input-16-d06d8338bca0&gt;:7</span>\n",
       "</pre>\n"
      ],
      "text/plain": [
       "<rich.jupyter.JupyterRenderable at 0x7fe710afe070>"
      ]
     },
     "metadata": {},
     "output_type": "display_data"
    },
    {
     "data": {
      "text/html": [
       "<pre style=\"white-space:pre;overflow-x:auto;line-height:normal;font-family:Menlo,'DejaVu Sans Mono',consolas,'Courier New',monospace\"><span style=\"color: #7fbfbf\">[22:33:16] </span><span style=\"font-weight: bold\">(</span><span style=\"color: #ff79ff\">87</span> <span style=\"color: #800080\">/</span> <span style=\"color: #ff79ff\">132</span><span style=\"font-weight: bold\">)</span> hdir: <span style=\"color: #800080\">/Users/saforem2/grand/projects/DLHMC/l2hmc-qcd/logs/GaugeModel_logs/hmc_logs/2021_02/</span><span style=\"color: #ff00ff\">HMC_L16_b128_beta4_lf20_eps005-2021-02-05-0604</span>                                                <span style=\"color: #7f7f7f\">&lt;ipython-input-16-d06d8338bca0&gt;:7</span>\n",
       "</pre>\n"
      ],
      "text/plain": [
       "<rich.jupyter.JupyterRenderable at 0x7fe710b11730>"
      ]
     },
     "metadata": {},
     "output_type": "display_data"
    },
    {
     "data": {
      "text/html": [
       "<pre style=\"white-space:pre;overflow-x:auto;line-height:normal;font-family:Menlo,'DejaVu Sans Mono',consolas,'Courier New',monospace\"><span style=\"color: #7fbfbf\">           </span><span style=\"font-weight: bold\">(</span><span style=\"color: #ff79ff\">88</span> <span style=\"color: #800080\">/</span> <span style=\"color: #ff79ff\">132</span><span style=\"font-weight: bold\">)</span> hdir: <span style=\"color: #800080\">/Users/saforem2/grand/projects/DLHMC/l2hmc-qcd/logs/GaugeModel_logs/hmc_logs/2021_02/</span><span style=\"color: #ff00ff\">HMC_L16_b128_beta4_lf20_eps015-2021-02-05-0537</span>                                                <span style=\"color: #7f7f7f\">&lt;ipython-input-16-d06d8338bca0&gt;:7</span>\n",
       "</pre>\n"
      ],
      "text/plain": [
       "<rich.jupyter.JupyterRenderable at 0x7fe710b118b0>"
      ]
     },
     "metadata": {},
     "output_type": "display_data"
    },
    {
     "data": {
      "text/html": [
       "<pre style=\"white-space:pre;overflow-x:auto;line-height:normal;font-family:Menlo,'DejaVu Sans Mono',consolas,'Courier New',monospace\"><span style=\"color: #7fbfbf\">           </span><span style=\"font-weight: bold\">(</span><span style=\"color: #ff79ff\">89</span> <span style=\"color: #800080\">/</span> <span style=\"color: #ff79ff\">132</span><span style=\"font-weight: bold\">)</span> hdir: <span style=\"color: #800080\">/Users/saforem2/grand/projects/DLHMC/l2hmc-qcd/logs/GaugeModel_logs/hmc_logs/2021_02/</span><span style=\"color: #ff00ff\">HMC_L16_b128_beta4_lf20_eps0175-2021-02-05-0604</span>                                               <span style=\"color: #7f7f7f\">&lt;ipython-input-16-d06d8338bca0&gt;:7</span>\n",
       "</pre>\n"
      ],
      "text/plain": [
       "<rich.jupyter.JupyterRenderable at 0x7fe6f116dd00>"
      ]
     },
     "metadata": {},
     "output_type": "display_data"
    },
    {
     "data": {
      "text/html": [
       "<pre style=\"white-space:pre;overflow-x:auto;line-height:normal;font-family:Menlo,'DejaVu Sans Mono',consolas,'Courier New',monospace\"><span style=\"color: #7fbfbf\">           </span><span style=\"font-weight: bold\">(</span><span style=\"color: #ff79ff\">90</span> <span style=\"color: #800080\">/</span> <span style=\"color: #ff79ff\">132</span><span style=\"font-weight: bold\">)</span> hdir: <span style=\"color: #800080\">/Users/saforem2/grand/projects/DLHMC/l2hmc-qcd/logs/GaugeModel_logs/hmc_logs/2021_02/</span><span style=\"color: #ff00ff\">HMC_L16_b128_beta4_lf20_eps02-2021-02-05-0435</span>                                                 <span style=\"color: #7f7f7f\">&lt;ipython-input-16-d06d8338bca0&gt;:7</span>\n",
       "</pre>\n"
      ],
      "text/plain": [
       "<rich.jupyter.JupyterRenderable at 0x7fe6f116df10>"
      ]
     },
     "metadata": {},
     "output_type": "display_data"
    },
    {
     "data": {
      "text/html": [
       "<pre style=\"white-space:pre;overflow-x:auto;line-height:normal;font-family:Menlo,'DejaVu Sans Mono',consolas,'Courier New',monospace\"><span style=\"color: #7fbfbf\">[22:33:17] </span><span style=\"font-weight: bold\">(</span><span style=\"color: #ff79ff\">91</span> <span style=\"color: #800080\">/</span> <span style=\"color: #ff79ff\">132</span><span style=\"font-weight: bold\">)</span> hdir: <span style=\"color: #800080\">/Users/saforem2/grand/projects/DLHMC/l2hmc-qcd/logs/GaugeModel_logs/hmc_logs/2021_02/</span><span style=\"color: #ff00ff\">HMC_L16_b128_beta5_lf10_eps005-2021-02-04-1340</span>                                                <span style=\"color: #7f7f7f\">&lt;ipython-input-16-d06d8338bca0&gt;:7</span>\n",
       "</pre>\n"
      ],
      "text/plain": [
       "<rich.jupyter.JupyterRenderable at 0x7fe710af6550>"
      ]
     },
     "metadata": {},
     "output_type": "display_data"
    },
    {
     "data": {
      "text/html": [
       "<pre style=\"white-space:pre;overflow-x:auto;line-height:normal;font-family:Menlo,'DejaVu Sans Mono',consolas,'Courier New',monospace\"><span style=\"color: #7fbfbf\">           </span><span style=\"font-weight: bold\">(</span><span style=\"color: #ff79ff\">92</span> <span style=\"color: #800080\">/</span> <span style=\"color: #ff79ff\">132</span><span style=\"font-weight: bold\">)</span> hdir: <span style=\"color: #800080\">/Users/saforem2/grand/projects/DLHMC/l2hmc-qcd/logs/GaugeModel_logs/hmc_logs/2021_02/</span><span style=\"color: #ff00ff\">HMC_L16_b128_beta5_lf10_eps015-2021-02-04-1337</span>                                                <span style=\"color: #7f7f7f\">&lt;ipython-input-16-d06d8338bca0&gt;:7</span>\n",
       "</pre>\n"
      ],
      "text/plain": [
       "<rich.jupyter.JupyterRenderable at 0x7fe700c1c730>"
      ]
     },
     "metadata": {},
     "output_type": "display_data"
    },
    {
     "data": {
      "text/html": [
       "<pre style=\"white-space:pre;overflow-x:auto;line-height:normal;font-family:Menlo,'DejaVu Sans Mono',consolas,'Courier New',monospace\"><span style=\"color: #7fbfbf\">           </span><span style=\"font-weight: bold\">(</span><span style=\"color: #ff79ff\">93</span> <span style=\"color: #800080\">/</span> <span style=\"color: #ff79ff\">132</span><span style=\"font-weight: bold\">)</span> hdir: <span style=\"color: #800080\">/Users/saforem2/grand/projects/DLHMC/l2hmc-qcd/logs/GaugeModel_logs/hmc_logs/2021_02/</span><span style=\"color: #ff00ff\">HMC_L16_b128_beta5_lf10_eps0175-2021-02-04-0927</span>                                               <span style=\"color: #7f7f7f\">&lt;ipython-input-16-d06d8338bca0&gt;:7</span>\n",
       "</pre>\n"
      ],
      "text/plain": [
       "<rich.jupyter.JupyterRenderable at 0x7fe700acb0d0>"
      ]
     },
     "metadata": {},
     "output_type": "display_data"
    },
    {
     "data": {
      "text/html": [
       "<pre style=\"white-space:pre;overflow-x:auto;line-height:normal;font-family:Menlo,'DejaVu Sans Mono',consolas,'Courier New',monospace\"><span style=\"color: #7fbfbf\">[22:33:18] </span><span style=\"font-weight: bold\">(</span><span style=\"color: #ff79ff\">94</span> <span style=\"color: #800080\">/</span> <span style=\"color: #ff79ff\">132</span><span style=\"font-weight: bold\">)</span> hdir: <span style=\"color: #800080\">/Users/saforem2/grand/projects/DLHMC/l2hmc-qcd/logs/GaugeModel_logs/hmc_logs/2021_02/</span><span style=\"color: #ff00ff\">HMC_L16_b128_beta5_lf10_eps02-2021-02-04-0927</span>                                                 <span style=\"color: #7f7f7f\">&lt;ipython-input-16-d06d8338bca0&gt;:7</span>\n",
       "</pre>\n"
      ],
      "text/plain": [
       "<rich.jupyter.JupyterRenderable at 0x7fe700aa6160>"
      ]
     },
     "metadata": {},
     "output_type": "display_data"
    },
    {
     "data": {
      "text/html": [
       "<pre style=\"white-space:pre;overflow-x:auto;line-height:normal;font-family:Menlo,'DejaVu Sans Mono',consolas,'Courier New',monospace\"><span style=\"color: #7fbfbf\">           </span><span style=\"font-weight: bold\">(</span><span style=\"color: #ff79ff\">95</span> <span style=\"color: #800080\">/</span> <span style=\"color: #ff79ff\">132</span><span style=\"font-weight: bold\">)</span> hdir: <span style=\"color: #800080\">/Users/saforem2/grand/projects/DLHMC/l2hmc-qcd/logs/GaugeModel_logs/hmc_logs/2021_02/</span><span style=\"color: #ff00ff\">HMC_L16_b128_beta5_lf15_eps005-2021-02-04-1734</span>                                                <span style=\"color: #7f7f7f\">&lt;ipython-input-16-d06d8338bca0&gt;:7</span>\n",
       "</pre>\n"
      ],
      "text/plain": [
       "<rich.jupyter.JupyterRenderable at 0x7fe700c1cd00>"
      ]
     },
     "metadata": {},
     "output_type": "display_data"
    },
    {
     "data": {
      "text/html": [
       "<pre style=\"white-space:pre;overflow-x:auto;line-height:normal;font-family:Menlo,'DejaVu Sans Mono',consolas,'Courier New',monospace\"><span style=\"color: #7fbfbf\">           </span><span style=\"font-weight: bold\">(</span><span style=\"color: #ff79ff\">96</span> <span style=\"color: #800080\">/</span> <span style=\"color: #ff79ff\">132</span><span style=\"font-weight: bold\">)</span> hdir: <span style=\"color: #800080\">/Users/saforem2/grand/projects/DLHMC/l2hmc-qcd/logs/GaugeModel_logs/hmc_logs/2021_02/</span><span style=\"color: #ff00ff\">HMC_L16_b128_beta5_lf15_eps015-2021-02-04-1731</span>                                                <span style=\"color: #7f7f7f\">&lt;ipython-input-16-d06d8338bca0&gt;:7</span>\n",
       "</pre>\n"
      ],
      "text/plain": [
       "<rich.jupyter.JupyterRenderable at 0x7fe700a7d430>"
      ]
     },
     "metadata": {},
     "output_type": "display_data"
    },
    {
     "data": {
      "text/html": [
       "<pre style=\"white-space:pre;overflow-x:auto;line-height:normal;font-family:Menlo,'DejaVu Sans Mono',consolas,'Courier New',monospace\"><span style=\"color: #7fbfbf\">[22:33:19] </span><span style=\"font-weight: bold\">(</span><span style=\"color: #ff79ff\">97</span> <span style=\"color: #800080\">/</span> <span style=\"color: #ff79ff\">132</span><span style=\"font-weight: bold\">)</span> hdir: <span style=\"color: #800080\">/Users/saforem2/grand/projects/DLHMC/l2hmc-qcd/logs/GaugeModel_logs/hmc_logs/2021_02/</span><span style=\"color: #ff00ff\">HMC_L16_b128_beta5_lf15_eps0175-2021-02-05-0053</span>                                               <span style=\"color: #7f7f7f\">&lt;ipython-input-16-d06d8338bca0&gt;:7</span>\n",
       "</pre>\n"
      ],
      "text/plain": [
       "<rich.jupyter.JupyterRenderable at 0x7fe700ac8f70>"
      ]
     },
     "metadata": {},
     "output_type": "display_data"
    },
    {
     "data": {
      "text/html": [
       "<pre style=\"white-space:pre;overflow-x:auto;line-height:normal;font-family:Menlo,'DejaVu Sans Mono',consolas,'Courier New',monospace\"><span style=\"color: #7fbfbf\">           </span><span style=\"font-weight: bold\">(</span><span style=\"color: #ff79ff\">98</span> <span style=\"color: #800080\">/</span> <span style=\"color: #ff79ff\">132</span><span style=\"font-weight: bold\">)</span> hdir: <span style=\"color: #800080\">/Users/saforem2/grand/projects/DLHMC/l2hmc-qcd/logs/GaugeModel_logs/hmc_logs/2021_02/</span><span style=\"color: #ff00ff\">HMC_L16_b128_beta5_lf15_eps02-2021-02-05-0435</span>                                                 <span style=\"color: #7f7f7f\">&lt;ipython-input-16-d06d8338bca0&gt;:7</span>\n",
       "</pre>\n"
      ],
      "text/plain": [
       "<rich.jupyter.JupyterRenderable at 0x7fe710b11400>"
      ]
     },
     "metadata": {},
     "output_type": "display_data"
    },
    {
     "data": {
      "text/html": [
       "<pre style=\"white-space:pre;overflow-x:auto;line-height:normal;font-family:Menlo,'DejaVu Sans Mono',consolas,'Courier New',monospace\"><span style=\"color: #7fbfbf\">           </span><span style=\"font-weight: bold\">(</span><span style=\"color: #ff79ff\">99</span> <span style=\"color: #800080\">/</span> <span style=\"color: #ff79ff\">132</span><span style=\"font-weight: bold\">)</span> hdir: <span style=\"color: #800080\">/Users/saforem2/grand/projects/DLHMC/l2hmc-qcd/logs/GaugeModel_logs/hmc_logs/2021_02/</span><span style=\"color: #ff00ff\">HMC_L16_b128_beta5_lf20_eps005-2021-02-05-0607</span>                                                <span style=\"color: #7f7f7f\">&lt;ipython-input-16-d06d8338bca0&gt;:7</span>\n",
       "</pre>\n"
      ],
      "text/plain": [
       "<rich.jupyter.JupyterRenderable at 0x7fe700c08610>"
      ]
     },
     "metadata": {},
     "output_type": "display_data"
    },
    {
     "data": {
      "text/html": [
       "<pre style=\"white-space:pre;overflow-x:auto;line-height:normal;font-family:Menlo,'DejaVu Sans Mono',consolas,'Courier New',monospace\"><span style=\"color: #7fbfbf\">[22:33:20] </span><span style=\"font-weight: bold\">(</span><span style=\"color: #ff79ff\">100</span> <span style=\"color: #800080\">/</span> <span style=\"color: #ff79ff\">132</span><span style=\"font-weight: bold\">)</span> hdir: <span style=\"color: #800080\">/Users/saforem2/grand/projects/DLHMC/l2hmc-qcd/logs/GaugeModel_logs/hmc_logs/2021_02/</span><span style=\"color: #ff00ff\">HMC_L16_b128_beta5_lf20_eps015-2021-02-05-1513</span>                                               <span style=\"color: #7f7f7f\">&lt;ipython-input-16-d06d8338bca0&gt;:7</span>\n",
       "</pre>\n"
      ],
      "text/plain": [
       "<rich.jupyter.JupyterRenderable at 0x7fe6c05f6d90>"
      ]
     },
     "metadata": {},
     "output_type": "display_data"
    },
    {
     "data": {
      "text/html": [
       "<pre style=\"white-space:pre;overflow-x:auto;line-height:normal;font-family:Menlo,'DejaVu Sans Mono',consolas,'Courier New',monospace\"><span style=\"color: #7fbfbf\">           </span><span style=\"font-weight: bold\">(</span><span style=\"color: #ff79ff\">101</span> <span style=\"color: #800080\">/</span> <span style=\"color: #ff79ff\">132</span><span style=\"font-weight: bold\">)</span> hdir: <span style=\"color: #800080\">/Users/saforem2/grand/projects/DLHMC/l2hmc-qcd/logs/GaugeModel_logs/hmc_logs/2021_02/</span><span style=\"color: #ff00ff\">HMC_L16_b128_beta5_lf20_eps0175-2021-02-05-0856</span>                                              <span style=\"color: #7f7f7f\">&lt;ipython-input-16-d06d8338bca0&gt;:7</span>\n",
       "</pre>\n"
      ],
      "text/plain": [
       "<rich.jupyter.JupyterRenderable at 0x7fe6f114d910>"
      ]
     },
     "metadata": {},
     "output_type": "display_data"
    },
    {
     "data": {
      "text/html": [
       "<pre style=\"white-space:pre;overflow-x:auto;line-height:normal;font-family:Menlo,'DejaVu Sans Mono',consolas,'Courier New',monospace\"><span style=\"color: #7fbfbf\">           </span><span style=\"font-weight: bold\">(</span><span style=\"color: #ff79ff\">102</span> <span style=\"color: #800080\">/</span> <span style=\"color: #ff79ff\">132</span><span style=\"font-weight: bold\">)</span> hdir: <span style=\"color: #800080\">/Users/saforem2/grand/projects/DLHMC/l2hmc-qcd/logs/GaugeModel_logs/hmc_logs/2021_02/</span><span style=\"color: #ff00ff\">HMC_L16_b128_beta5_lf20_eps02-2021-02-05-1512</span>                                                <span style=\"color: #7f7f7f\">&lt;ipython-input-16-d06d8338bca0&gt;:7</span>\n",
       "</pre>\n"
      ],
      "text/plain": [
       "<rich.jupyter.JupyterRenderable at 0x7fe6f114da90>"
      ]
     },
     "metadata": {},
     "output_type": "display_data"
    },
    {
     "data": {
      "text/html": [
       "<pre style=\"white-space:pre;overflow-x:auto;line-height:normal;font-family:Menlo,'DejaVu Sans Mono',consolas,'Courier New',monospace\"><span style=\"color: #7fbfbf\">           </span><span style=\"font-weight: bold\">(</span><span style=\"color: #ff79ff\">103</span> <span style=\"color: #800080\">/</span> <span style=\"color: #ff79ff\">132</span><span style=\"font-weight: bold\">)</span> hdir: <span style=\"color: #800080\">/Users/saforem2/grand/projects/DLHMC/l2hmc-qcd/logs/GaugeModel_logs/hmc_logs/2021_02/</span><span style=\"color: #ff00ff\">HMC_L16_b128_beta6_lf10_eps005-2021-02-04-1727</span>                                               <span style=\"color: #7f7f7f\">&lt;ipython-input-16-d06d8338bca0&gt;:7</span>\n",
       "</pre>\n"
      ],
      "text/plain": [
       "<rich.jupyter.JupyterRenderable at 0x7fe6b181e700>"
      ]
     },
     "metadata": {},
     "output_type": "display_data"
    },
    {
     "data": {
      "text/html": [
       "<pre style=\"white-space:pre;overflow-x:auto;line-height:normal;font-family:Menlo,'DejaVu Sans Mono',consolas,'Courier New',monospace\"><span style=\"color: #7fbfbf\">[22:33:21] </span><span style=\"font-weight: bold\">(</span><span style=\"color: #ff79ff\">104</span> <span style=\"color: #800080\">/</span> <span style=\"color: #ff79ff\">132</span><span style=\"font-weight: bold\">)</span> hdir: <span style=\"color: #800080\">/Users/saforem2/grand/projects/DLHMC/l2hmc-qcd/logs/GaugeModel_logs/hmc_logs/2021_02/</span><span style=\"color: #ff00ff\">HMC_L16_b128_beta6_lf10_eps015-2021-02-04-0927</span>                                               <span style=\"color: #7f7f7f\">&lt;ipython-input-16-d06d8338bca0&gt;:7</span>\n",
       "</pre>\n"
      ],
      "text/plain": [
       "<rich.jupyter.JupyterRenderable at 0x7fe6c05f6940>"
      ]
     },
     "metadata": {},
     "output_type": "display_data"
    },
    {
     "data": {
      "text/html": [
       "<pre style=\"white-space:pre;overflow-x:auto;line-height:normal;font-family:Menlo,'DejaVu Sans Mono',consolas,'Courier New',monospace\"><span style=\"color: #7fbfbf\">           </span><span style=\"font-weight: bold\">(</span><span style=\"color: #ff79ff\">105</span> <span style=\"color: #800080\">/</span> <span style=\"color: #ff79ff\">132</span><span style=\"font-weight: bold\">)</span> hdir: <span style=\"color: #800080\">/Users/saforem2/grand/projects/DLHMC/l2hmc-qcd/logs/GaugeModel_logs/hmc_logs/2021_02/</span><span style=\"color: #ff00ff\">HMC_L16_b128_beta6_lf10_eps0175-2021-02-04-1556</span>                                              <span style=\"color: #7f7f7f\">&lt;ipython-input-16-d06d8338bca0&gt;:7</span>\n",
       "</pre>\n"
      ],
      "text/plain": [
       "<rich.jupyter.JupyterRenderable at 0x7fe6c05f6940>"
      ]
     },
     "metadata": {},
     "output_type": "display_data"
    },
    {
     "data": {
      "text/html": [
       "<pre style=\"white-space:pre;overflow-x:auto;line-height:normal;font-family:Menlo,'DejaVu Sans Mono',consolas,'Courier New',monospace\"><span style=\"color: #7fbfbf\">           </span><span style=\"font-weight: bold\">(</span><span style=\"color: #ff79ff\">106</span> <span style=\"color: #800080\">/</span> <span style=\"color: #ff79ff\">132</span><span style=\"font-weight: bold\">)</span> hdir: <span style=\"color: #800080\">/Users/saforem2/grand/projects/DLHMC/l2hmc-qcd/logs/GaugeModel_logs/hmc_logs/2021_02/</span><span style=\"color: #ff00ff\">HMC_L16_b128_beta6_lf10_eps02-2021-02-04-1340</span>                                                <span style=\"color: #7f7f7f\">&lt;ipython-input-16-d06d8338bca0&gt;:7</span>\n",
       "</pre>\n"
      ],
      "text/plain": [
       "<rich.jupyter.JupyterRenderable at 0x7fe700a7de50>"
      ]
     },
     "metadata": {},
     "output_type": "display_data"
    },
    {
     "data": {
      "text/html": [
       "<pre style=\"white-space:pre;overflow-x:auto;line-height:normal;font-family:Menlo,'DejaVu Sans Mono',consolas,'Courier New',monospace\"><span style=\"color: #7fbfbf\">[22:33:22] </span><span style=\"font-weight: bold\">(</span><span style=\"color: #ff79ff\">107</span> <span style=\"color: #800080\">/</span> <span style=\"color: #ff79ff\">132</span><span style=\"font-weight: bold\">)</span> hdir: <span style=\"color: #800080\">/Users/saforem2/grand/projects/DLHMC/l2hmc-qcd/logs/GaugeModel_logs/hmc_logs/2021_02/</span><span style=\"color: #ff00ff\">HMC_L16_b128_beta6_lf15_eps005-2021-02-04-1939</span>                                               <span style=\"color: #7f7f7f\">&lt;ipython-input-16-d06d8338bca0&gt;:7</span>\n",
       "</pre>\n"
      ],
      "text/plain": [
       "<rich.jupyter.JupyterRenderable at 0x7fe6b1a2c9d0>"
      ]
     },
     "metadata": {},
     "output_type": "display_data"
    },
    {
     "data": {
      "text/html": [
       "<pre style=\"white-space:pre;overflow-x:auto;line-height:normal;font-family:Menlo,'DejaVu Sans Mono',consolas,'Courier New',monospace\"><span style=\"color: #7fbfbf\">           </span><span style=\"font-weight: bold\">(</span><span style=\"color: #ff79ff\">108</span> <span style=\"color: #800080\">/</span> <span style=\"color: #ff79ff\">132</span><span style=\"font-weight: bold\">)</span> hdir: <span style=\"color: #800080\">/Users/saforem2/grand/projects/DLHMC/l2hmc-qcd/logs/GaugeModel_logs/hmc_logs/2021_02/</span><span style=\"color: #ff00ff\">HMC_L16_b128_beta6_lf15_eps015-2021-02-05-0053</span>                                               <span style=\"color: #7f7f7f\">&lt;ipython-input-16-d06d8338bca0&gt;:7</span>\n",
       "</pre>\n"
      ],
      "text/plain": [
       "<rich.jupyter.JupyterRenderable at 0x7fe700ac80d0>"
      ]
     },
     "metadata": {},
     "output_type": "display_data"
    },
    {
     "data": {
      "text/html": [
       "<pre style=\"white-space:pre;overflow-x:auto;line-height:normal;font-family:Menlo,'DejaVu Sans Mono',consolas,'Courier New',monospace\"><span style=\"color: #7fbfbf\">           </span><span style=\"font-weight: bold\">(</span><span style=\"color: #ff79ff\">109</span> <span style=\"color: #800080\">/</span> <span style=\"color: #ff79ff\">132</span><span style=\"font-weight: bold\">)</span> hdir: <span style=\"color: #800080\">/Users/saforem2/grand/projects/DLHMC/l2hmc-qcd/logs/GaugeModel_logs/hmc_logs/2021_02/</span><span style=\"color: #ff00ff\">HMC_L16_b128_beta6_lf15_eps0175-2021-02-05-0149</span>                                              <span style=\"color: #7f7f7f\">&lt;ipython-input-16-d06d8338bca0&gt;:7</span>\n",
       "</pre>\n"
      ],
      "text/plain": [
       "<rich.jupyter.JupyterRenderable at 0x7fe6e0d605e0>"
      ]
     },
     "metadata": {},
     "output_type": "display_data"
    },
    {
     "data": {
      "text/html": [
       "<pre style=\"white-space:pre;overflow-x:auto;line-height:normal;font-family:Menlo,'DejaVu Sans Mono',consolas,'Courier New',monospace\"><span style=\"color: #7fbfbf\">           </span><span style=\"font-weight: bold\">(</span><span style=\"color: #ff79ff\">110</span> <span style=\"color: #800080\">/</span> <span style=\"color: #ff79ff\">132</span><span style=\"font-weight: bold\">)</span> hdir: <span style=\"color: #800080\">/Users/saforem2/grand/projects/DLHMC/l2hmc-qcd/logs/GaugeModel_logs/hmc_logs/2021_02/</span><span style=\"color: #ff00ff\">HMC_L16_b128_beta6_lf15_eps02-2021-02-05-0435</span>                                                <span style=\"color: #7f7f7f\">&lt;ipython-input-16-d06d8338bca0&gt;:7</span>\n",
       "</pre>\n"
      ],
      "text/plain": [
       "<rich.jupyter.JupyterRenderable at 0x7fe700aa6520>"
      ]
     },
     "metadata": {},
     "output_type": "display_data"
    },
    {
     "data": {
      "text/html": [
       "<pre style=\"white-space:pre;overflow-x:auto;line-height:normal;font-family:Menlo,'DejaVu Sans Mono',consolas,'Courier New',monospace\"><span style=\"color: #7fbfbf\">[22:33:23] </span><span style=\"font-weight: bold\">(</span><span style=\"color: #ff79ff\">111</span> <span style=\"color: #800080\">/</span> <span style=\"color: #ff79ff\">132</span><span style=\"font-weight: bold\">)</span> hdir: <span style=\"color: #800080\">/Users/saforem2/grand/projects/DLHMC/l2hmc-qcd/logs/GaugeModel_logs/hmc_logs/2021_02/</span><span style=\"color: #ff00ff\">HMC_L16_b128_beta6_lf20_eps005-2021-02-05-0521</span>                                               <span style=\"color: #7f7f7f\">&lt;ipython-input-16-d06d8338bca0&gt;:7</span>\n",
       "</pre>\n"
      ],
      "text/plain": [
       "<rich.jupyter.JupyterRenderable at 0x7fe6e0d88910>"
      ]
     },
     "metadata": {},
     "output_type": "display_data"
    },
    {
     "data": {
      "text/html": [
       "<pre style=\"white-space:pre;overflow-x:auto;line-height:normal;font-family:Menlo,'DejaVu Sans Mono',consolas,'Courier New',monospace\"><span style=\"color: #7fbfbf\">           </span><span style=\"font-weight: bold\">(</span><span style=\"color: #ff79ff\">112</span> <span style=\"color: #800080\">/</span> <span style=\"color: #ff79ff\">132</span><span style=\"font-weight: bold\">)</span> hdir: <span style=\"color: #800080\">/Users/saforem2/grand/projects/DLHMC/l2hmc-qcd/logs/GaugeModel_logs/hmc_logs/2021_02/</span><span style=\"color: #ff00ff\">HMC_L16_b128_beta6_lf20_eps015-2021-02-05-0854</span>                                               <span style=\"color: #7f7f7f\">&lt;ipython-input-16-d06d8338bca0&gt;:7</span>\n",
       "</pre>\n"
      ],
      "text/plain": [
       "<rich.jupyter.JupyterRenderable at 0x7fe6e0d88e20>"
      ]
     },
     "metadata": {},
     "output_type": "display_data"
    },
    {
     "data": {
      "text/html": [
       "<pre style=\"white-space:pre;overflow-x:auto;line-height:normal;font-family:Menlo,'DejaVu Sans Mono',consolas,'Courier New',monospace\"><span style=\"color: #7fbfbf\">           </span><span style=\"font-weight: bold\">(</span><span style=\"color: #ff79ff\">113</span> <span style=\"color: #800080\">/</span> <span style=\"color: #ff79ff\">132</span><span style=\"font-weight: bold\">)</span> hdir: <span style=\"color: #800080\">/Users/saforem2/grand/projects/DLHMC/l2hmc-qcd/logs/GaugeModel_logs/hmc_logs/2021_02/</span><span style=\"color: #ff00ff\">HMC_L16_b128_beta6_lf20_eps0175-2021-02-05-0605</span>                                              <span style=\"color: #7f7f7f\">&lt;ipython-input-16-d06d8338bca0&gt;:7</span>\n",
       "</pre>\n"
      ],
      "text/plain": [
       "<rich.jupyter.JupyterRenderable at 0x7fe6e0d88730>"
      ]
     },
     "metadata": {},
     "output_type": "display_data"
    },
    {
     "data": {
      "text/html": [
       "<pre style=\"white-space:pre;overflow-x:auto;line-height:normal;font-family:Menlo,'DejaVu Sans Mono',consolas,'Courier New',monospace\"><span style=\"color: #7fbfbf\">           </span><span style=\"font-weight: bold\">(</span><span style=\"color: #ff79ff\">114</span> <span style=\"color: #800080\">/</span> <span style=\"color: #ff79ff\">132</span><span style=\"font-weight: bold\">)</span> hdir: <span style=\"color: #800080\">/Users/saforem2/grand/projects/DLHMC/l2hmc-qcd/logs/GaugeModel_logs/hmc_logs/2021_02/</span><span style=\"color: #ff00ff\">HMC_L16_b128_beta6_lf20_eps02-2021-02-05-0652</span>                                                <span style=\"color: #7f7f7f\">&lt;ipython-input-16-d06d8338bca0&gt;:7</span>\n",
       "</pre>\n"
      ],
      "text/plain": [
       "<rich.jupyter.JupyterRenderable at 0x7fe6e0d88490>"
      ]
     },
     "metadata": {},
     "output_type": "display_data"
    },
    {
     "data": {
      "text/html": [
       "<pre style=\"white-space:pre;overflow-x:auto;line-height:normal;font-family:Menlo,'DejaVu Sans Mono',consolas,'Courier New',monospace\"><span style=\"color: #7fbfbf\">[22:33:24] </span><span style=\"font-weight: bold\">(</span><span style=\"color: #ff79ff\">115</span> <span style=\"color: #800080\">/</span> <span style=\"color: #ff79ff\">132</span><span style=\"font-weight: bold\">)</span> hdir: <span style=\"color: #800080\">/Users/saforem2/grand/projects/DLHMC/l2hmc-qcd/logs/GaugeModel_logs/hmc_logs/2021_02/</span><span style=\"color: #ff00ff\">HMC_L16_b128_beta7_lf10_eps005-2021-02-04-1555</span>                                               <span style=\"color: #7f7f7f\">&lt;ipython-input-16-d06d8338bca0&gt;:7</span>\n",
       "</pre>\n"
      ],
      "text/plain": [
       "<rich.jupyter.JupyterRenderable at 0x7fe6e0d88d60>"
      ]
     },
     "metadata": {},
     "output_type": "display_data"
    },
    {
     "data": {
      "text/html": [
       "<pre style=\"white-space:pre;overflow-x:auto;line-height:normal;font-family:Menlo,'DejaVu Sans Mono',consolas,'Courier New',monospace\"><span style=\"color: #7fbfbf\">           </span><span style=\"font-weight: bold\">(</span><span style=\"color: #ff79ff\">116</span> <span style=\"color: #800080\">/</span> <span style=\"color: #ff79ff\">132</span><span style=\"font-weight: bold\">)</span> hdir: <span style=\"color: #800080\">/Users/saforem2/grand/projects/DLHMC/l2hmc-qcd/logs/GaugeModel_logs/hmc_logs/2021_02/</span><span style=\"color: #ff00ff\">HMC_L16_b128_beta7_lf10_eps015-2021-02-04-1314</span>                                               <span style=\"color: #7f7f7f\">&lt;ipython-input-16-d06d8338bca0&gt;:7</span>\n",
       "</pre>\n"
      ],
      "text/plain": [
       "<rich.jupyter.JupyterRenderable at 0x7fe6b19f6b20>"
      ]
     },
     "metadata": {},
     "output_type": "display_data"
    },
    {
     "data": {
      "text/html": [
       "<pre style=\"white-space:pre;overflow-x:auto;line-height:normal;font-family:Menlo,'DejaVu Sans Mono',consolas,'Courier New',monospace\"><span style=\"color: #7fbfbf\">           </span><span style=\"font-weight: bold\">(</span><span style=\"color: #ff79ff\">117</span> <span style=\"color: #800080\">/</span> <span style=\"color: #ff79ff\">132</span><span style=\"font-weight: bold\">)</span> hdir: <span style=\"color: #800080\">/Users/saforem2/grand/projects/DLHMC/l2hmc-qcd/logs/GaugeModel_logs/hmc_logs/2021_02/</span><span style=\"color: #ff00ff\">HMC_L16_b128_beta7_lf10_eps0175-2021-02-04-1657</span>                                              <span style=\"color: #7f7f7f\">&lt;ipython-input-16-d06d8338bca0&gt;:7</span>\n",
       "</pre>\n"
      ],
      "text/plain": [
       "<rich.jupyter.JupyterRenderable at 0x7fe6e0d88c40>"
      ]
     },
     "metadata": {},
     "output_type": "display_data"
    },
    {
     "data": {
      "text/html": [
       "<pre style=\"white-space:pre;overflow-x:auto;line-height:normal;font-family:Menlo,'DejaVu Sans Mono',consolas,'Courier New',monospace\"><span style=\"color: #7fbfbf\">[22:33:25] </span><span style=\"font-weight: bold\">(</span><span style=\"color: #ff79ff\">118</span> <span style=\"color: #800080\">/</span> <span style=\"color: #ff79ff\">132</span><span style=\"font-weight: bold\">)</span> hdir: <span style=\"color: #800080\">/Users/saforem2/grand/projects/DLHMC/l2hmc-qcd/logs/GaugeModel_logs/hmc_logs/2021_02/</span><span style=\"color: #ff00ff\">HMC_L16_b128_beta7_lf10_eps02-2021-02-04-0927</span>                                                <span style=\"color: #7f7f7f\">&lt;ipython-input-16-d06d8338bca0&gt;:7</span>\n",
       "</pre>\n"
      ],
      "text/plain": [
       "<rich.jupyter.JupyterRenderable at 0x7fe6e0d88d60>"
      ]
     },
     "metadata": {},
     "output_type": "display_data"
    },
    {
     "data": {
      "text/html": [
       "<pre style=\"white-space:pre;overflow-x:auto;line-height:normal;font-family:Menlo,'DejaVu Sans Mono',consolas,'Courier New',monospace\"><span style=\"color: #7fbfbf\">           </span><span style=\"font-weight: bold\">(</span><span style=\"color: #ff79ff\">119</span> <span style=\"color: #800080\">/</span> <span style=\"color: #ff79ff\">132</span><span style=\"font-weight: bold\">)</span> hdir: <span style=\"color: #800080\">/Users/saforem2/grand/projects/DLHMC/l2hmc-qcd/logs/GaugeModel_logs/hmc_logs/2021_02/</span><span style=\"color: #ff00ff\">HMC_L16_b128_beta7_lf15_eps005-2021-02-05-1512</span>                                               <span style=\"color: #7f7f7f\">&lt;ipython-input-16-d06d8338bca0&gt;:7</span>\n",
       "</pre>\n"
      ],
      "text/plain": [
       "<rich.jupyter.JupyterRenderable at 0x7fe700a6c550>"
      ]
     },
     "metadata": {},
     "output_type": "display_data"
    },
    {
     "data": {
      "text/html": [
       "<pre style=\"white-space:pre;overflow-x:auto;line-height:normal;font-family:Menlo,'DejaVu Sans Mono',consolas,'Courier New',monospace\"><span style=\"color: #7fbfbf\">           </span><span style=\"font-weight: bold\">(</span><span style=\"color: #ff79ff\">120</span> <span style=\"color: #800080\">/</span> <span style=\"color: #ff79ff\">132</span><span style=\"font-weight: bold\">)</span> hdir: <span style=\"color: #800080\">/Users/saforem2/grand/projects/DLHMC/l2hmc-qcd/logs/GaugeModel_logs/hmc_logs/2021_02/</span><span style=\"color: #ff00ff\">HMC_L16_b128_beta7_lf15_eps015-2021-02-04-1944</span>                                               <span style=\"color: #7f7f7f\">&lt;ipython-input-16-d06d8338bca0&gt;:7</span>\n",
       "</pre>\n"
      ],
      "text/plain": [
       "<rich.jupyter.JupyterRenderable at 0x7fe720e9d8b0>"
      ]
     },
     "metadata": {},
     "output_type": "display_data"
    },
    {
     "data": {
      "text/html": [
       "<pre style=\"white-space:pre;overflow-x:auto;line-height:normal;font-family:Menlo,'DejaVu Sans Mono',consolas,'Courier New',monospace\"><span style=\"color: #7fbfbf\">           </span><span style=\"font-weight: bold\">(</span><span style=\"color: #ff79ff\">121</span> <span style=\"color: #800080\">/</span> <span style=\"color: #ff79ff\">132</span><span style=\"font-weight: bold\">)</span> hdir: <span style=\"color: #800080\">/Users/saforem2/grand/projects/DLHMC/l2hmc-qcd/logs/GaugeModel_logs/hmc_logs/2021_02/</span><span style=\"color: #ff00ff\">HMC_L16_b128_beta7_lf15_eps0175-2021-02-05-1513</span>                                              <span style=\"color: #7f7f7f\">&lt;ipython-input-16-d06d8338bca0&gt;:7</span>\n",
       "</pre>\n"
      ],
      "text/plain": [
       "<rich.jupyter.JupyterRenderable at 0x7fe720e9d970>"
      ]
     },
     "metadata": {},
     "output_type": "display_data"
    },
    {
     "data": {
      "text/html": [
       "<pre style=\"white-space:pre;overflow-x:auto;line-height:normal;font-family:Menlo,'DejaVu Sans Mono',consolas,'Courier New',monospace\"><span style=\"color: #7fbfbf\">[22:33:26] </span><span style=\"font-weight: bold\">(</span><span style=\"color: #ff79ff\">122</span> <span style=\"color: #800080\">/</span> <span style=\"color: #ff79ff\">132</span><span style=\"font-weight: bold\">)</span> hdir: <span style=\"color: #800080\">/Users/saforem2/grand/projects/DLHMC/l2hmc-qcd/logs/GaugeModel_logs/hmc_logs/2021_02/</span><span style=\"color: #ff00ff\">HMC_L16_b128_beta7_lf15_eps02-2021-02-05-1513</span>                                                <span style=\"color: #7f7f7f\">&lt;ipython-input-16-d06d8338bca0&gt;:7</span>\n",
       "</pre>\n"
      ],
      "text/plain": [
       "<rich.jupyter.JupyterRenderable at 0x7fe6b1a1c7c0>"
      ]
     },
     "metadata": {},
     "output_type": "display_data"
    },
    {
     "data": {
      "text/html": [
       "<pre style=\"white-space:pre;overflow-x:auto;line-height:normal;font-family:Menlo,'DejaVu Sans Mono',consolas,'Courier New',monospace\"><span style=\"color: #7fbfbf\">           </span><span style=\"font-weight: bold\">(</span><span style=\"color: #ff79ff\">123</span> <span style=\"color: #800080\">/</span> <span style=\"color: #ff79ff\">132</span><span style=\"font-weight: bold\">)</span> hdir: <span style=\"color: #800080\">/Users/saforem2/grand/projects/DLHMC/l2hmc-qcd/logs/GaugeModel_logs/hmc_logs/2021_02/</span><span style=\"color: #ff00ff\">HMC_L16_b128_beta7_lf20_eps005-2021-02-05-1909</span>                                               <span style=\"color: #7f7f7f\">&lt;ipython-input-16-d06d8338bca0&gt;:7</span>\n",
       "</pre>\n"
      ],
      "text/plain": [
       "<rich.jupyter.JupyterRenderable at 0x7fe720eadc10>"
      ]
     },
     "metadata": {},
     "output_type": "display_data"
    },
    {
     "data": {
      "text/html": [
       "<pre style=\"white-space:pre;overflow-x:auto;line-height:normal;font-family:Menlo,'DejaVu Sans Mono',consolas,'Courier New',monospace\"><span style=\"color: #7fbfbf\">           </span><span style=\"font-weight: bold\">(</span><span style=\"color: #ff79ff\">124</span> <span style=\"color: #800080\">/</span> <span style=\"color: #ff79ff\">132</span><span style=\"font-weight: bold\">)</span> hdir: <span style=\"color: #800080\">/Users/saforem2/grand/projects/DLHMC/l2hmc-qcd/logs/GaugeModel_logs/hmc_logs/2021_02/</span><span style=\"color: #ff00ff\">HMC_L16_b128_beta7_lf20_eps015-2021-02-05-1910</span>                                               <span style=\"color: #7f7f7f\">&lt;ipython-input-16-d06d8338bca0&gt;:7</span>\n",
       "</pre>\n"
      ],
      "text/plain": [
       "<rich.jupyter.JupyterRenderable at 0x7fe700a6c670>"
      ]
     },
     "metadata": {},
     "output_type": "display_data"
    },
    {
     "data": {
      "text/html": [
       "<pre style=\"white-space:pre;overflow-x:auto;line-height:normal;font-family:Menlo,'DejaVu Sans Mono',consolas,'Courier New',monospace\"><span style=\"color: #7fbfbf\">[22:33:27] </span><span style=\"font-weight: bold\">(</span><span style=\"color: #ff79ff\">125</span> <span style=\"color: #800080\">/</span> <span style=\"color: #ff79ff\">132</span><span style=\"font-weight: bold\">)</span> hdir: <span style=\"color: #800080\">/Users/saforem2/grand/projects/DLHMC/l2hmc-qcd/logs/GaugeModel_logs/hmc_logs/2021_02/</span><span style=\"color: #ff00ff\">HMC_L16_b128_beta7_lf20_eps0175-2021-02-05-1914</span>                                              <span style=\"color: #7f7f7f\">&lt;ipython-input-16-d06d8338bca0&gt;:7</span>\n",
       "</pre>\n"
      ],
      "text/plain": [
       "<rich.jupyter.JupyterRenderable at 0x7fe6d0f03a00>"
      ]
     },
     "metadata": {},
     "output_type": "display_data"
    },
    {
     "data": {
      "text/html": [
       "<pre style=\"white-space:pre;overflow-x:auto;line-height:normal;font-family:Menlo,'DejaVu Sans Mono',consolas,'Courier New',monospace\"><span style=\"color: #7fbfbf\">           </span><span style=\"font-weight: bold\">(</span><span style=\"color: #ff79ff\">126</span> <span style=\"color: #800080\">/</span> <span style=\"color: #ff79ff\">132</span><span style=\"font-weight: bold\">)</span> hdir: <span style=\"color: #800080\">/Users/saforem2/grand/projects/DLHMC/l2hmc-qcd/logs/GaugeModel_logs/hmc_logs/2021_02/</span><span style=\"color: #ff00ff\">HMC_L16_b128_beta7_lf20_eps02-2021-02-05-1513</span>                                                <span style=\"color: #7f7f7f\">&lt;ipython-input-16-d06d8338bca0&gt;:7</span>\n",
       "</pre>\n"
      ],
      "text/plain": [
       "<rich.jupyter.JupyterRenderable at 0x7fe700aa67f0>"
      ]
     },
     "metadata": {},
     "output_type": "display_data"
    },
    {
     "data": {
      "text/html": [
       "<pre style=\"white-space:pre;overflow-x:auto;line-height:normal;font-family:Menlo,'DejaVu Sans Mono',consolas,'Courier New',monospace\"><span style=\"color: #7fbfbf\">           </span><span style=\"font-weight: bold\">(</span><span style=\"color: #ff79ff\">127</span> <span style=\"color: #800080\">/</span> <span style=\"color: #ff79ff\">132</span><span style=\"font-weight: bold\">)</span> hdir: <span style=\"color: #800080\">/Users/saforem2/grand/projects/DLHMC/l2hmc-qcd/logs/GaugeModel_logs/hmc_logs/2021_02/</span><span style=\"color: #ff00ff\">HMC_L16_b512__lf10_eps015-2021-02-04-0807</span>                                                    <span style=\"color: #7f7f7f\">&lt;ipython-input-16-d06d8338bca0&gt;:7</span>\n",
       "</pre>\n"
      ],
      "text/plain": [
       "<rich.jupyter.JupyterRenderable at 0x7fe6b1812fd0>"
      ]
     },
     "metadata": {},
     "output_type": "display_data"
    },
    {
     "data": {
      "text/html": [
       "<pre style=\"white-space:pre;overflow-x:auto;line-height:normal;font-family:Menlo,'DejaVu Sans Mono',consolas,'Courier New',monospace\"><span style=\"color: #7fbfbf\">[22:33:28] </span><span style=\"font-weight: bold\">(</span><span style=\"color: #ff79ff\">128</span> <span style=\"color: #800080\">/</span> <span style=\"color: #ff79ff\">132</span><span style=\"font-weight: bold\">)</span> hdir: <span style=\"color: #800080\">/Users/saforem2/grand/projects/DLHMC/l2hmc-qcd/logs/GaugeModel_logs/hmc_logs/2021_02/</span><span style=\"color: #ff00ff\">HMC_L16_b512__lf7_eps015-2021-02-04-0830</span>                                                     <span style=\"color: #7f7f7f\">&lt;ipython-input-16-d06d8338bca0&gt;:7</span>\n",
       "</pre>\n"
      ],
      "text/plain": [
       "<rich.jupyter.JupyterRenderable at 0x7fe6d0cedd90>"
      ]
     },
     "metadata": {},
     "output_type": "display_data"
    },
    {
     "data": {
      "text/html": [
       "<pre style=\"white-space:pre;overflow-x:auto;line-height:normal;font-family:Menlo,'DejaVu Sans Mono',consolas,'Courier New',monospace\"><span style=\"color: #7fbfbf\">           </span><span style=\"font-weight: bold\">(</span><span style=\"color: #ff79ff\">129</span> <span style=\"color: #800080\">/</span> <span style=\"color: #ff79ff\">132</span><span style=\"font-weight: bold\">)</span> hdir: <span style=\"color: #800080\">/Users/saforem2/grand/projects/DLHMC/l2hmc-qcd/logs/GaugeModel_logs/hmc_logs/extras/</span><span style=\"color: #ff00ff\">HMC_L16_b512_beta2_lf10_eps01-2021-01-23-0040</span>                                                 <span style=\"color: #7f7f7f\">&lt;ipython-input-16-d06d8338bca0&gt;:7</span>\n",
       "</pre>\n"
      ],
      "text/plain": [
       "<rich.jupyter.JupyterRenderable at 0x7fe720e93c70>"
      ]
     },
     "metadata": {},
     "output_type": "display_data"
    },
    {
     "data": {
      "text/html": [
       "<pre style=\"white-space:pre;overflow-x:auto;line-height:normal;font-family:Menlo,'DejaVu Sans Mono',consolas,'Courier New',monospace\"><span style=\"color: #7fbfbf\">           </span><span style=\"font-weight: bold\">(</span><span style=\"color: #ff79ff\">130</span> <span style=\"color: #800080\">/</span> <span style=\"color: #ff79ff\">132</span><span style=\"font-weight: bold\">)</span> hdir: <span style=\"color: #800080\">/Users/saforem2/grand/projects/DLHMC/l2hmc-qcd/logs/GaugeModel_logs/hmc_logs/extras/</span><span style=\"color: #ff00ff\">HMC_L16_b512_beta2_lf10_eps02-2021-01-23-0051</span>                                                 <span style=\"color: #7f7f7f\">&lt;ipython-input-16-d06d8338bca0&gt;:7</span>\n",
       "</pre>\n"
      ],
      "text/plain": [
       "<rich.jupyter.JupyterRenderable at 0x7fe6d07ae400>"
      ]
     },
     "metadata": {},
     "output_type": "display_data"
    },
    {
     "data": {
      "text/html": [
       "<pre style=\"white-space:pre;overflow-x:auto;line-height:normal;font-family:Menlo,'DejaVu Sans Mono',consolas,'Courier New',monospace\"><span style=\"color: #7fbfbf\">           </span><span style=\"font-weight: bold\">(</span><span style=\"color: #ff79ff\">131</span> <span style=\"color: #800080\">/</span> <span style=\"color: #ff79ff\">132</span><span style=\"font-weight: bold\">)</span> hdir: <span style=\"color: #800080\">/Users/saforem2/grand/projects/DLHMC/l2hmc-qcd/logs/GaugeModel_logs/hmc_logs/extras/</span><span style=\"color: #ff00ff\">HMC_L16_b512_beta5_lf10_eps0125-2021-01-28-080030</span>                                             <span style=\"color: #7f7f7f\">&lt;ipython-input-16-d06d8338bca0&gt;:7</span>\n",
       "</pre>\n"
      ],
      "text/plain": [
       "<rich.jupyter.JupyterRenderable at 0x7fe6c1e103a0>"
      ]
     },
     "metadata": {},
     "output_type": "display_data"
    }
   ],
   "source": [
    "from copy import deepcopy\n",
    "import utils.autocorr as acr\n",
    "\n",
    "hdirs_bad = []\n",
    "hdata = {b: {} for b in np.arange(1, 8)}\n",
    "for idx, hdir in enumerate(hmc_dirs):\n",
    "    console.log(f'({idx} / {len(hmc_dirs)}) hdir: {hdir}')\n",
    "    tint_files = [x for x in Path(hdir).rglob('*tau_int_data.z*') if x.is_file()]\n",
    "    tint_files += [x for x in Path(hdir).rglob('*tint_data.z*') if x.is_file()]\n",
    "    for f in tint_files:\n",
    "        loaded = io.loadz(f)\n",
    "        \n",
    "        if 'tau_int_data' in str(f):\n",
    "            run_dir = os.path.dirname(os.path.split(f)[0])\n",
    "        else:\n",
    "            run_dir, _ = os.path.split(f)\n",
    "            \n",
    "        try:\n",
    "            params = acr._get_important_params(run_dir)\n",
    "        except (FileNotFoundError, ValueError) as err:\n",
    "            console.log(f'err: {err}, skipping!', style=RED)\n",
    "            hdirs_bad.append(hdir)\n",
    "            continue\n",
    "            \n",
    "        tint = loaded.get('tint', loaded.get('tau_int', None))\n",
    "        narr = loaded.get('narr', loaded.get('draws', None))\n",
    "        \n",
    "        if tint is not None and narr is not None:\n",
    "            data = deepcopy(params)\n",
    "            data.update({\n",
    "                'tint': tint,\n",
    "                'narr': narr,\n",
    "            })\n",
    "\n",
    "            beta = params['beta']\n",
    "            traj_len = params['traj_len']\n",
    "            hdata[beta][traj_len] = data"
   ]
  },
  {
   "cell_type": "code",
   "execution_count": 18,
   "metadata": {
    "ExecuteTime": {
     "end_time": "2021-02-06T04:34:50.979440Z",
     "start_time": "2021-02-06T04:33:57.777652Z"
    }
   },
   "outputs": [
    {
     "data": {
      "text/html": [
       "<pre style=\"white-space:pre;overflow-x:auto;line-height:normal;font-family:Menlo,'DejaVu Sans Mono',consolas,'Courier New',monospace\"><span style=\"color: #7fbfbf\">[22:33:57] </span><span style=\"font-weight: bold\">(</span><span style=\"color: #ff79ff\">0</span>/<span style=\"color: #ff79ff\">30</span><span style=\"font-weight: bold\">)</span> ldir: <span style=\"color: #800080\">/Users/saforem2/thetaGPU/training/2020_12_02/t16x16_b2048_lf10_bi6_bf7_4ranks/l2hmc-qcd/logs/GaugeModel_logs/2020_12/L16_b2048_lf10_bi6_bf7_dp02_clip500_sepNets_NCProj/LOADED/inferen</span> <span style=\"color: #7f7f7f\">&lt;ipython-input-18-435dd6807ca7&gt;:8</span>\n",
       "           <span style=\"color: #800080\">ce/</span><span style=\"color: #ff00ff\">L16_b2048__lf10_eps0208-2021-01-10-0716</span>                                                                                                                                                                                           \n",
       "</pre>\n"
      ],
      "text/plain": [
       "<rich.jupyter.JupyterRenderable at 0x7fe6b181eac0>"
      ]
     },
     "metadata": {},
     "output_type": "display_data"
    },
    {
     "data": {
      "text/html": [
       "<pre style=\"white-space:pre;overflow-x:auto;line-height:normal;font-family:Menlo,'DejaVu Sans Mono',consolas,'Courier New',monospace\"><span style=\"color: #7fbfbf\">[22:34:11] </span><span style=\"font-weight: bold\">(</span><span style=\"color: #ff79ff\">1</span>/<span style=\"color: #ff79ff\">30</span><span style=\"font-weight: bold\">)</span> ldir: <span style=\"color: #800080\">/Users/saforem2/thetaGPU/training/2020_12_02/t16x16_b2048_lf10_bi6_bf7_4ranks/l2hmc-qcd/logs/GaugeModel_logs/2020_12/L16_b2048_lf10_bi6_bf7_dp02_clip500_sepNets_NCProj/inference/</span><span style=\"color: #ff00ff\">L16_</span> <span style=\"color: #7f7f7f\">&lt;ipython-input-18-435dd6807ca7&gt;:8</span>\n",
       "           <span style=\"color: #ff00ff\">b2048__lf10_eps0208-2020-12-03-0410</span>                                                                                                                                                                                                  \n",
       "</pre>\n"
      ],
      "text/plain": [
       "<rich.jupyter.JupyterRenderable at 0x7fe6d07ae0d0>"
      ]
     },
     "metadata": {},
     "output_type": "display_data"
    },
    {
     "data": {
      "text/html": [
       "<pre style=\"white-space:pre;overflow-x:auto;line-height:normal;font-family:Menlo,'DejaVu Sans Mono',consolas,'Courier New',monospace\"><span style=\"color: #7fbfbf\">[22:34:12] </span><span style=\"font-weight: bold\">(</span><span style=\"color: #ff79ff\">2</span>/<span style=\"color: #ff79ff\">30</span><span style=\"font-weight: bold\">)</span> ldir: <span style=\"color: #800080\">/Users/saforem2/thetaGPU/training/2020_12_02/t16x16_b2048_lf10_bi4_bf5_4ranks_rep/l2hmc-qcd/logs/GaugeModel_logs/2020_12/L16_b2048_lf10_bi4_bf5_dp02_clip500_sepNets_NCProj/LOADED/inf</span> <span style=\"color: #7f7f7f\">&lt;ipython-input-18-435dd6807ca7&gt;:8</span>\n",
       "           <span style=\"color: #800080\">erence/</span><span style=\"color: #ff00ff\">L16_b8__lf10_eps0208-2020-12-20-1938</span>                                                                                                                                                                                          \n",
       "</pre>\n"
      ],
      "text/plain": [
       "<rich.jupyter.JupyterRenderable at 0x7fe6c19976a0>"
      ]
     },
     "metadata": {},
     "output_type": "display_data"
    },
    {
     "data": {
      "text/html": [
       "<pre style=\"white-space:pre;overflow-x:auto;line-height:normal;font-family:Menlo,'DejaVu Sans Mono',consolas,'Courier New',monospace\"><span style=\"color: #7fbfbf\">[22:34:13] </span><span style=\"font-weight: bold\">(</span><span style=\"color: #ff79ff\">3</span>/<span style=\"color: #ff79ff\">30</span><span style=\"font-weight: bold\">)</span> ldir: <span style=\"color: #800080\">/Users/saforem2/thetaGPU/training/2020_11_30/t16x16_b2048_lf10_bi5_bf6_4ranks/l2hmc-qcd/logs/GaugeModel_logs/2020_11/L16_b2048_lf10_bi5_bf6_dp02_clip500_sepNets_NCProj/LOADED/inferen</span> <span style=\"color: #7f7f7f\">&lt;ipython-input-18-435dd6807ca7&gt;:8</span>\n",
       "           <span style=\"color: #800080\">ce/</span><span style=\"color: #ff00ff\">L16_b2048__lf10_eps0184-2020-12-15-1757</span>                                                                                                                                                                                           \n",
       "</pre>\n"
      ],
      "text/plain": [
       "<rich.jupyter.JupyterRenderable at 0x7fe6d0f5b070>"
      ]
     },
     "metadata": {},
     "output_type": "display_data"
    },
    {
     "data": {
      "text/html": [
       "<pre style=\"white-space:pre;overflow-x:auto;line-height:normal;font-family:Menlo,'DejaVu Sans Mono',consolas,'Courier New',monospace\"><span style=\"color: #7fbfbf\">           </span><span style=\"font-weight: bold\">(</span><span style=\"color: #ff79ff\">4</span>/<span style=\"color: #ff79ff\">30</span><span style=\"font-weight: bold\">)</span> ldir: <span style=\"color: #800080\">/Users/saforem2/thetaGPU/training/2020_11_30/t16x16_b2048_lf10_bi5_bf6_4ranks/l2hmc-qcd/logs/GaugeModel_logs/2020_11/L16_b2048_lf10_bi5_bf6_dp02_clip500_sepNets_NCProj/LOADED/inferen</span> <span style=\"color: #7f7f7f\">&lt;ipython-input-18-435dd6807ca7&gt;:8</span>\n",
       "           <span style=\"color: #800080\">ce/</span><span style=\"color: #ff00ff\">L16_b512__lf10_eps0184-2020-12-15-2202</span>                                                                                                                                                                                            \n",
       "</pre>\n"
      ],
      "text/plain": [
       "<rich.jupyter.JupyterRenderable at 0x7fe720e93c70>"
      ]
     },
     "metadata": {},
     "output_type": "display_data"
    },
    {
     "data": {
      "text/html": [
       "<pre style=\"white-space:pre;overflow-x:auto;line-height:normal;font-family:Menlo,'DejaVu Sans Mono',consolas,'Courier New',monospace\"><span style=\"color: #7fbfbf\">[22:34:14] </span><span style=\"font-weight: bold\">(</span><span style=\"color: #ff79ff\">5</span>/<span style=\"color: #ff79ff\">30</span><span style=\"font-weight: bold\">)</span> ldir: <span style=\"color: #800080\">/Users/saforem2/thetaGPU/training/2020_11_30/t16x16_b2048_lf10_bi5_bf6_4ranks/l2hmc-qcd/logs/GaugeModel_logs/2020_11/L16_b2048_lf10_bi5_bf6_dp02_clip500_sepNets_NCProj/LOADED/inferen</span> <span style=\"color: #7f7f7f\">&lt;ipython-input-18-435dd6807ca7&gt;:8</span>\n",
       "           <span style=\"color: #800080\">ce/</span><span style=\"color: #ff00ff\">L16_b2048_beta4_lf10_eps0184-2020-12-03-0244</span>                                                                                                                                                                                      \n",
       "</pre>\n"
      ],
      "text/plain": [
       "<rich.jupyter.JupyterRenderable at 0x7fe6b17ea040>"
      ]
     },
     "metadata": {},
     "output_type": "display_data"
    },
    {
     "data": {
      "text/html": [
       "<pre style=\"white-space:pre;overflow-x:auto;line-height:normal;font-family:Menlo,'DejaVu Sans Mono',consolas,'Courier New',monospace\"><span style=\"color: #7fbfbf\">[22:34:17] </span><span style=\"font-weight: bold\">(</span><span style=\"color: #ff79ff\">6</span>/<span style=\"color: #ff79ff\">30</span><span style=\"font-weight: bold\">)</span> ldir: <span style=\"color: #800080\">/Users/saforem2/thetaGPU/training/2020_11_30/t16x16_b2048_lf10_bi5_bf6_4ranks/l2hmc-qcd/logs/GaugeModel_logs/2020_11/L16_b2048_lf10_bi5_bf6_dp02_clip500_sepNets_NCProj/LOADED/inferen</span> <span style=\"color: #7f7f7f\">&lt;ipython-input-18-435dd6807ca7&gt;:8</span>\n",
       "           <span style=\"color: #800080\">ce/</span><span style=\"color: #ff00ff\">L16_b2048__lf10_eps0208-2021-01-10-2155</span>                                                                                                                                                                                           \n",
       "</pre>\n"
      ],
      "text/plain": [
       "<rich.jupyter.JupyterRenderable at 0x7fe6d0f42fa0>"
      ]
     },
     "metadata": {},
     "output_type": "display_data"
    },
    {
     "data": {
      "text/html": [
       "<pre style=\"white-space:pre;overflow-x:auto;line-height:normal;font-family:Menlo,'DejaVu Sans Mono',consolas,'Courier New',monospace\"><span style=\"color: #7fbfbf\">[22:34:33] </span><span style=\"font-weight: bold\">(</span><span style=\"color: #ff79ff\">7</span>/<span style=\"color: #ff79ff\">30</span><span style=\"font-weight: bold\">)</span> ldir: <span style=\"color: #800080\">/Users/saforem2/thetaGPU/training/2020_11_30/t16x16_b2048_lf10_bi5_bf6_4ranks/l2hmc-qcd/logs/GaugeModel_logs/2020_11/L16_b2048_lf10_bi5_bf6_dp02_clip500_sepNets_NCProj/LOADED/inferen</span> <span style=\"color: #7f7f7f\">&lt;ipython-input-18-435dd6807ca7&gt;:8</span>\n",
       "           <span style=\"color: #800080\">ce/</span><span style=\"color: #ff00ff\">L16_b128__lf10_eps0208-2020-12-21-1920</span>                                                                                                                                                                                            \n",
       "</pre>\n"
      ],
      "text/plain": [
       "<rich.jupyter.JupyterRenderable at 0x7fe6b1944a00>"
      ]
     },
     "metadata": {},
     "output_type": "display_data"
    },
    {
     "data": {
      "text/html": [
       "<pre style=\"white-space:pre;overflow-x:auto;line-height:normal;font-family:Menlo,'DejaVu Sans Mono',consolas,'Courier New',monospace\"><span style=\"color: #7fbfbf\">[22:34:34] </span><span style=\"font-weight: bold\">(</span><span style=\"color: #ff79ff\">8</span>/<span style=\"color: #ff79ff\">30</span><span style=\"font-weight: bold\">)</span> ldir: <span style=\"color: #800080\">/Users/saforem2/thetaGPU/training/2020_11_30/t16x16_b2048_lf10_bi5_bf6_4ranks/l2hmc-qcd/logs/GaugeModel_logs/2020_11/L16_b2048_lf10_bi5_bf6_dp02_clip500_sepNets_NCProj/LOADED/inferen</span> <span style=\"color: #7f7f7f\">&lt;ipython-input-18-435dd6807ca7&gt;:8</span>\n",
       "           <span style=\"color: #800080\">ce/</span><span style=\"color: #ff00ff\">L16_b2048_beta4_lf10_eps0208-2020-12-03-0315</span>                                                                                                                                                                                      \n",
       "</pre>\n"
      ],
      "text/plain": [
       "<rich.jupyter.JupyterRenderable at 0x7fe6c1d851c0>"
      ]
     },
     "metadata": {},
     "output_type": "display_data"
    },
    {
     "data": {
      "text/html": [
       "<pre style=\"white-space:pre;overflow-x:auto;line-height:normal;font-family:Menlo,'DejaVu Sans Mono',consolas,'Courier New',monospace\"><span style=\"color: #7fbfbf\">[22:34:35] </span><span style=\"font-weight: bold\">(</span><span style=\"color: #ff79ff\">9</span>/<span style=\"color: #ff79ff\">30</span><span style=\"font-weight: bold\">)</span> ldir: <span style=\"color: #800080\">/Users/saforem2/thetaGPU/training/2020_11_30/t16x16_b2048_lf10_bi5_bf6_4ranks/l2hmc-qcd/logs/GaugeModel_logs/2020_11/L16_b2048_lf10_bi5_bf6_dp02_clip500_sepNets_NCProj/LOADED/inferen</span> <span style=\"color: #7f7f7f\">&lt;ipython-input-18-435dd6807ca7&gt;:8</span>\n",
       "           <span style=\"color: #800080\">ce/</span><span style=\"color: #ff00ff\">L16_b512__lf10_eps0184-2020-12-16-0856</span>                                                                                                                                                                                            \n",
       "</pre>\n"
      ],
      "text/plain": [
       "<rich.jupyter.JupyterRenderable at 0x7fe6b1959190>"
      ]
     },
     "metadata": {},
     "output_type": "display_data"
    },
    {
     "data": {
      "text/html": [
       "<pre style=\"white-space:pre;overflow-x:auto;line-height:normal;font-family:Menlo,'DejaVu Sans Mono',consolas,'Courier New',monospace\"><span style=\"color: #7fbfbf\">[22:34:36] </span><span style=\"font-weight: bold\">(</span><span style=\"color: #ff79ff\">10</span>/<span style=\"color: #ff79ff\">30</span><span style=\"font-weight: bold\">)</span> ldir: <span style=\"color: #800080\">/Users/saforem2/thetaGPU/training/2020_11_30/t16x16_b2048_lf10_bi5_bf6_4ranks/l2hmc-qcd/logs/GaugeModel_logs/2020_11/L16_b2048_lf10_bi5_bf6_dp02_clip500_sepNets_NCProj/LOADED/infere</span> <span style=\"color: #7f7f7f\">&lt;ipython-input-18-435dd6807ca7&gt;:8</span>\n",
       "           <span style=\"color: #800080\">nce/</span><span style=\"color: #ff00ff\">L16_b2048_beta5_lf10_eps0184-2020-12-03-0051</span>                                                                                                                                                                                     \n",
       "</pre>\n"
      ],
      "text/plain": [
       "<rich.jupyter.JupyterRenderable at 0x7fe6d0d03070>"
      ]
     },
     "metadata": {},
     "output_type": "display_data"
    },
    {
     "data": {
      "text/html": [
       "<pre style=\"white-space:pre;overflow-x:auto;line-height:normal;font-family:Menlo,'DejaVu Sans Mono',consolas,'Courier New',monospace\"><span style=\"color: #7fbfbf\">[22:34:38] </span><span style=\"font-weight: bold\">(</span><span style=\"color: #ff79ff\">11</span>/<span style=\"color: #ff79ff\">30</span><span style=\"font-weight: bold\">)</span> ldir: <span style=\"color: #800080\">/Users/saforem2/thetaGPU/training/2020_11_30/t16x16_b2048_lf10_bi5_bf6_4ranks/l2hmc-qcd/logs/GaugeModel_logs/2020_11/L16_b2048_lf10_bi5_bf6_dp02_clip500_sepNets_NCProj/LOADED/infere</span> <span style=\"color: #7f7f7f\">&lt;ipython-input-18-435dd6807ca7&gt;:8</span>\n",
       "           <span style=\"color: #800080\">nce/</span><span style=\"color: #ff00ff\">L16_b2048__lf10_eps0184-2020-12-02-2127</span>                                                                                                                                                                                          \n",
       "</pre>\n"
      ],
      "text/plain": [
       "<rich.jupyter.JupyterRenderable at 0x7fe6b181eac0>"
      ]
     },
     "metadata": {},
     "output_type": "display_data"
    },
    {
     "data": {
      "text/html": [
       "<pre style=\"white-space:pre;overflow-x:auto;line-height:normal;font-family:Menlo,'DejaVu Sans Mono',consolas,'Courier New',monospace\"><span style=\"color: #7fbfbf\">[22:34:39] </span><span style=\"font-weight: bold\">(</span><span style=\"color: #ff79ff\">12</span>/<span style=\"color: #ff79ff\">30</span><span style=\"font-weight: bold\">)</span> ldir: <span style=\"color: #800080\">/Users/saforem2/thetaGPU/training/2020_11_30/t16x16_b2048_lf10_bi5_bf6_4ranks/l2hmc-qcd/logs/GaugeModel_logs/2020_11/L16_b2048_lf10_bi5_bf6_dp02_clip500_sepNets_NCProj/LOADED/infere</span> <span style=\"color: #7f7f7f\">&lt;ipython-input-18-435dd6807ca7&gt;:8</span>\n",
       "           <span style=\"color: #800080\">nce/</span><span style=\"color: #ff00ff\">L16_b8__lf10_eps0184-2020-12-20-1938</span>                                                                                                                                                                                             \n",
       "</pre>\n"
      ],
      "text/plain": [
       "<rich.jupyter.JupyterRenderable at 0x7fe6d07d5c10>"
      ]
     },
     "metadata": {},
     "output_type": "display_data"
    },
    {
     "data": {
      "text/html": [
       "<pre style=\"white-space:pre;overflow-x:auto;line-height:normal;font-family:Menlo,'DejaVu Sans Mono',consolas,'Courier New',monospace\"><span style=\"color: #7fbfbf\">[22:34:40] </span><span style=\"font-weight: bold\">(</span><span style=\"color: #ff79ff\">13</span>/<span style=\"color: #ff79ff\">30</span><span style=\"font-weight: bold\">)</span> ldir: <span style=\"color: #800080\">/Users/saforem2/thetaGPU/training/2020_11_30/t16x16_b2048_lf10_bi5_bf6_4ranks/l2hmc-qcd/logs/GaugeModel_logs/2020_11/L16_b2048_lf10_bi5_bf6_dp02_clip500_sepNets_NCProj/LOADED/infere</span> <span style=\"color: #7f7f7f\">&lt;ipython-input-18-435dd6807ca7&gt;:8</span>\n",
       "           <span style=\"color: #800080\">nce/</span><span style=\"color: #ff00ff\">L16_b8__lf10_eps0184-2020-12-20-2225</span>                                                                                                                                                                                             \n",
       "</pre>\n"
      ],
      "text/plain": [
       "<rich.jupyter.JupyterRenderable at 0x7fe6b19698b0>"
      ]
     },
     "metadata": {},
     "output_type": "display_data"
    },
    {
     "data": {
      "text/html": [
       "<pre style=\"white-space:pre;overflow-x:auto;line-height:normal;font-family:Menlo,'DejaVu Sans Mono',consolas,'Courier New',monospace\"><span style=\"color: #7fbfbf\">[22:34:41] </span><span style=\"font-weight: bold\">(</span><span style=\"color: #ff79ff\">14</span>/<span style=\"color: #ff79ff\">30</span><span style=\"font-weight: bold\">)</span> ldir: <span style=\"color: #800080\">/Users/saforem2/thetaGPU/training/2020_11_30/t16x16_b2048_lf10_bi5_bf6_4ranks/l2hmc-qcd/logs/GaugeModel_logs/2020_11/L16_b2048_lf10_bi5_bf6_dp02_clip500_sepNets_NCProj/inference/</span><span style=\"color: #ff00ff\">L16</span> <span style=\"color: #7f7f7f\">&lt;ipython-input-18-435dd6807ca7&gt;:8</span>\n",
       "           <span style=\"color: #ff00ff\">_b2048__lf10_eps0208-2020-12-02-0125</span>                                                                                                                                                                                                 \n",
       "</pre>\n"
      ],
      "text/plain": [
       "<rich.jupyter.JupyterRenderable at 0x7fe6d07d5220>"
      ]
     },
     "metadata": {},
     "output_type": "display_data"
    },
    {
     "data": {
      "text/html": [
       "<pre style=\"white-space:pre;overflow-x:auto;line-height:normal;font-family:Menlo,'DejaVu Sans Mono',consolas,'Courier New',monospace\"><span style=\"color: #7fbfbf\">[22:34:42] </span><span style=\"font-weight: bold\">(</span><span style=\"color: #ff79ff\">15</span>/<span style=\"color: #ff79ff\">30</span><span style=\"font-weight: bold\">)</span> ldir: <span style=\"color: #800080\">/Users/saforem2/thetaGPU/training/2021_01_06/t16x16b2048lf10bi3bf5/l2hmc-qcd/logs/GaugeModel_logs/2021_01/L16_b2048_lf10_bi3_bf5_dp02_clip500_sepNets_NCProj/LOADED/inference/</span><span style=\"color: #ff00ff\">L16_b20</span> <span style=\"color: #7f7f7f\">&lt;ipython-input-18-435dd6807ca7&gt;:8</span>\n",
       "           <span style=\"color: #ff00ff\">48__lf10_eps005-2021-01-08-0024</span>                                                                                                                                                                                                      \n",
       "</pre>\n"
      ],
      "text/plain": [
       "<rich.jupyter.JupyterRenderable at 0x7fe7211b21f0>"
      ]
     },
     "metadata": {},
     "output_type": "display_data"
    },
    {
     "data": {
      "text/html": [
       "<pre style=\"white-space:pre;overflow-x:auto;line-height:normal;font-family:Menlo,'DejaVu Sans Mono',consolas,'Courier New',monospace\"><span style=\"color: #7fbfbf\">[22:34:43] </span><span style=\"font-weight: bold\">(</span><span style=\"color: #ff79ff\">16</span>/<span style=\"color: #ff79ff\">30</span><span style=\"font-weight: bold\">)</span> ldir: <span style=\"color: #800080\">/Users/saforem2/thetaGPU/training/2021_01_02/t16x16b2048lf20bi4bf5/l2hmc-qcd/logs/GaugeModel_logs/2021_01/L16_b2048_lf20_bi4_bf5_dp02_clip500_sepNets_NCProj/LOADED/inference/</span><span style=\"color: #ff00ff\">L16_b51</span> <span style=\"color: #7f7f7f\">&lt;ipython-input-18-435dd6807ca7&gt;:8</span>\n",
       "           <span style=\"color: #ff00ff\">2_beta5_lf20_eps005-2021-01-06-1836</span>                                                                                                                                                                                                  \n",
       "</pre>\n"
      ],
      "text/plain": [
       "<rich.jupyter.JupyterRenderable at 0x7fe6b17eac10>"
      ]
     },
     "metadata": {},
     "output_type": "display_data"
    },
    {
     "data": {
      "text/html": [
       "<pre style=\"white-space:pre;overflow-x:auto;line-height:normal;font-family:Menlo,'DejaVu Sans Mono',consolas,'Courier New',monospace\"><span style=\"color: #7fbfbf\">           </span><span style=\"font-weight: bold\">(</span><span style=\"color: #ff79ff\">17</span>/<span style=\"color: #ff79ff\">30</span><span style=\"font-weight: bold\">)</span> ldir: <span style=\"color: #800080\">/Users/saforem2/thetaGPU/training/2021_01_02/t16x16b2048lf10bi2bf6/l2hmc-qcd/logs/GaugeModel_logs/2021_01/L16_b2048_lf10_bi2_bf6_dp01_clip500_sepNets_NCProj/LOADED/inference/</span><span style=\"color: #ff00ff\">L16_b20</span> <span style=\"color: #7f7f7f\">&lt;ipython-input-18-435dd6807ca7&gt;:8</span>\n",
       "           <span style=\"color: #ff00ff\">48__lf10_eps005-2021-01-08-0545</span>                                                                                                                                                                                                      \n",
       "</pre>\n"
      ],
      "text/plain": [
       "<rich.jupyter.JupyterRenderable at 0x7fe700c5e4c0>"
      ]
     },
     "metadata": {},
     "output_type": "display_data"
    },
    {
     "data": {
      "text/html": [
       "<pre style=\"white-space:pre;overflow-x:auto;line-height:normal;font-family:Menlo,'DejaVu Sans Mono',consolas,'Courier New',monospace\"><span style=\"color: #7fbfbf\">[22:34:46] </span><span style=\"color: #ff4050\">Unable to load!!!!                                                                                                                                                                                </span> <span style=\"color: #7f7f7f\">&lt;ipython-input-18-435dd6807ca7&gt;:19</span>\n",
       "</pre>\n"
      ],
      "text/plain": [
       "<rich.jupyter.JupyterRenderable at 0x7fe700c6e8b0>"
      ]
     },
     "metadata": {},
     "output_type": "display_data"
    },
    {
     "data": {
      "text/html": [
       "<pre style=\"white-space:pre;overflow-x:auto;line-height:normal;font-family:Menlo,'DejaVu Sans Mono',consolas,'Courier New',monospace\"><span style=\"color: #7fbfbf\">           </span><span style=\"font-weight: bold\">(</span><span style=\"color: #ff79ff\">18</span>/<span style=\"color: #ff79ff\">30</span><span style=\"font-weight: bold\">)</span> ldir: <span style=\"color: #800080\">/Users/saforem2/grand/projects/DLHMC/training/2021_01_22/t16x16b2048lf10bi1bf1NadamSwish/l2hmc-qcd/logs/GaugeModel_logs/2021_01/L16_b2048_lf11_actswish_bi1_bf1_dp01_sepNets_NCProj/i</span> <span style=\"color: #7f7f7f\">&lt;ipython-input-18-435dd6807ca7&gt;:8</span>\n",
       "           <span style=\"color: #800080\">nference/</span><span style=\"color: #ff00ff\">L16_b2048__lf11_eps005-2021-01-23-0822</span>                                                                                                                                                                                      \n",
       "</pre>\n"
      ],
      "text/plain": [
       "<rich.jupyter.JupyterRenderable at 0x7fe6d0f49580>"
      ]
     },
     "metadata": {},
     "output_type": "display_data"
    },
    {
     "data": {
      "text/html": [
       "<pre style=\"white-space:pre;overflow-x:auto;line-height:normal;font-family:Menlo,'DejaVu Sans Mono',consolas,'Courier New',monospace\"><span style=\"color: #7fbfbf\">[22:34:47] </span><span style=\"font-weight: bold\">(</span><span style=\"color: #ff79ff\">19</span>/<span style=\"color: #ff79ff\">30</span><span style=\"font-weight: bold\">)</span> ldir: <span style=\"color: #800080\">/Users/saforem2/grand/projects/DLHMC/training/2021_01_27/t16x16b2048lf10bi4bf4/l2hmc-qcd/logs/GaugeModel_logs/2021_01/L16_b2048_lf11_actswish_bi4_bf4_dp01_sepNets_NCProj/inference/</span><span style=\"color: #ff00ff\">L</span> <span style=\"color: #7f7f7f\">&lt;ipython-input-18-435dd6807ca7&gt;:8</span>\n",
       "           <span style=\"color: #ff00ff\">16_b2048__lf11_eps005-2021-01-27-1648</span>                                                                                                                                                                                                \n",
       "</pre>\n"
      ],
      "text/plain": [
       "<rich.jupyter.JupyterRenderable at 0x7fe6b1979700>"
      ]
     },
     "metadata": {},
     "output_type": "display_data"
    },
    {
     "data": {
      "text/html": [
       "<pre style=\"white-space:pre;overflow-x:auto;line-height:normal;font-family:Menlo,'DejaVu Sans Mono',consolas,'Courier New',monospace\"><span style=\"color: #7fbfbf\">           </span><span style=\"font-weight: bold\">(</span><span style=\"color: #ff79ff\">20</span>/<span style=\"color: #ff79ff\">30</span><span style=\"font-weight: bold\">)</span> ldir: <span style=\"color: #800080\">/Users/saforem2/grand/projects/DLHMC/training/2021_01_27/t16x16b2048lf10bi3bf3/l2hmc-qcd/logs/GaugeModel_logs/2021_01/L16_b2048_lf11_actswish_bi3_bf3_dp01_sepNets_NCProj/inference/</span><span style=\"color: #ff00ff\">L</span> <span style=\"color: #7f7f7f\">&lt;ipython-input-18-435dd6807ca7&gt;:8</span>\n",
       "           <span style=\"color: #ff00ff\">16_b2048__lf11_eps005-2021-01-27-1610</span>                                                                                                                                                                                                \n",
       "</pre>\n"
      ],
      "text/plain": [
       "<rich.jupyter.JupyterRenderable at 0x7fe6b1959e50>"
      ]
     },
     "metadata": {},
     "output_type": "display_data"
    },
    {
     "data": {
      "text/html": [
       "<pre style=\"white-space:pre;overflow-x:auto;line-height:normal;font-family:Menlo,'DejaVu Sans Mono',consolas,'Courier New',monospace\"><span style=\"color: #7fbfbf\">           </span><span style=\"font-weight: bold\">(</span><span style=\"color: #ff79ff\">21</span>/<span style=\"color: #ff79ff\">30</span><span style=\"font-weight: bold\">)</span> ldir: <span style=\"color: #800080\">/Users/saforem2/grand/projects/DLHMC/training/2021_01_27/t16x16b2048lf10bi4bf5/l2hmc-qcd/logs/GaugeModel_logs/2021_01/L16_b2048_lf11_actswish_bi4_bf5_dp01_sepNets_NCProj/inference/</span><span style=\"color: #ff00ff\">L</span> <span style=\"color: #7f7f7f\">&lt;ipython-input-18-435dd6807ca7&gt;:8</span>\n",
       "           <span style=\"color: #ff00ff\">16_b2048__lf11_eps005-2021-01-28-0204</span>                                                                                                                                                                                                \n",
       "</pre>\n"
      ],
      "text/plain": [
       "<rich.jupyter.JupyterRenderable at 0x7fe700c613a0>"
      ]
     },
     "metadata": {},
     "output_type": "display_data"
    },
    {
     "data": {
      "text/html": [
       "<pre style=\"white-space:pre;overflow-x:auto;line-height:normal;font-family:Menlo,'DejaVu Sans Mono',consolas,'Courier New',monospace\"><span style=\"color: #7fbfbf\">[22:34:48] </span><span style=\"font-weight: bold\">(</span><span style=\"color: #ff79ff\">22</span>/<span style=\"color: #ff79ff\">30</span><span style=\"font-weight: bold\">)</span> ldir: <span style=\"color: #800080\">/Users/saforem2/grand/projects/DLHMC/training/2021_01_26/t16x16b2048lf10bi2bf2/l2hmc-qcd/logs/GaugeModel_logs/2021_01/L16_b2048_lf11_actswish_bi2_bf2_dp01_sepNets_NCProj/inference/</span><span style=\"color: #ff00ff\">L</span> <span style=\"color: #7f7f7f\">&lt;ipython-input-18-435dd6807ca7&gt;:8</span>\n",
       "           <span style=\"color: #ff00ff\">16_b2048__lf11_eps005-2021-01-27-0630</span>                                                                                                                                                                                                \n",
       "</pre>\n"
      ],
      "text/plain": [
       "<rich.jupyter.JupyterRenderable at 0x7fe720a9df10>"
      ]
     },
     "metadata": {},
     "output_type": "display_data"
    },
    {
     "data": {
      "text/html": [
       "<pre style=\"white-space:pre;overflow-x:auto;line-height:normal;font-family:Menlo,'DejaVu Sans Mono',consolas,'Courier New',monospace\"><span style=\"color: #7fbfbf\">           </span><span style=\"font-weight: bold\">(</span><span style=\"color: #ff79ff\">23</span>/<span style=\"color: #ff79ff\">30</span><span style=\"font-weight: bold\">)</span> ldir: <span style=\"color: #800080\">/Users/saforem2/grand/projects/DLHMC/training/2021_01_30/t16x16b2048lf10bi3bf4/l2hmc-qcd/logs/GaugeModel_logs/2021_01/L16_b2048_lf11_actswish_bi3_bf4_dp01_sepNets_NCProj/inference/</span><span style=\"color: #ff00ff\">L</span> <span style=\"color: #7f7f7f\">&lt;ipython-input-18-435dd6807ca7&gt;:8</span>\n",
       "           <span style=\"color: #ff00ff\">16_b2048__lf11_eps005-2021-02-01-0430</span>                                                                                                                                                                                                \n",
       "</pre>\n"
      ],
      "text/plain": [
       "<rich.jupyter.JupyterRenderable at 0x7fe6f0f52ac0>"
      ]
     },
     "metadata": {},
     "output_type": "display_data"
    },
    {
     "data": {
      "text/html": [
       "<pre style=\"white-space:pre;overflow-x:auto;line-height:normal;font-family:Menlo,'DejaVu Sans Mono',consolas,'Courier New',monospace\"><span style=\"color: #7fbfbf\">           </span><span style=\"font-weight: bold\">(</span><span style=\"color: #ff79ff\">24</span>/<span style=\"color: #ff79ff\">30</span><span style=\"font-weight: bold\">)</span> ldir: <span style=\"color: #800080\">/Users/saforem2/grand/projects/DLHMC/training/2021_01_30/t16x16b2048lf10bi2bf3/l2hmc-qcd/logs/GaugeModel_logs/2021_01/L16_b2048_lf11_actswish_bi2_bf3_dp01_sepNets_NCProj/inference/</span><span style=\"color: #ff00ff\">L</span> <span style=\"color: #7f7f7f\">&lt;ipython-input-18-435dd6807ca7&gt;:8</span>\n",
       "           <span style=\"color: #ff00ff\">16_b2048__lf11_eps005-2021-01-31-0919</span>                                                                                                                                                                                                \n",
       "</pre>\n"
      ],
      "text/plain": [
       "<rich.jupyter.JupyterRenderable at 0x7fe700c641c0>"
      ]
     },
     "metadata": {},
     "output_type": "display_data"
    },
    {
     "data": {
      "text/html": [
       "<pre style=\"white-space:pre;overflow-x:auto;line-height:normal;font-family:Menlo,'DejaVu Sans Mono',consolas,'Courier New',monospace\"><span style=\"color: #7fbfbf\">[22:34:49] </span><span style=\"font-weight: bold\">(</span><span style=\"color: #ff79ff\">25</span>/<span style=\"color: #ff79ff\">30</span><span style=\"font-weight: bold\">)</span> ldir: <span style=\"color: #800080\">/Users/saforem2/grand/projects/DLHMC/training/2021_01_28/t16x16b2048lf10bi5bf6/l2hmc-qcd/logs/GaugeModel_logs/2021_01/L16_b2048_lf11_actswish_bi5_bf6_dp01_sepNets_NCProj/inference/</span><span style=\"color: #ff00ff\">L</span> <span style=\"color: #7f7f7f\">&lt;ipython-input-18-435dd6807ca7&gt;:8</span>\n",
       "           <span style=\"color: #ff00ff\">16_b2048__lf11_eps005-2021-01-28-1252</span>                                                                                                                                                                                                \n",
       "</pre>\n"
      ],
      "text/plain": [
       "<rich.jupyter.JupyterRenderable at 0x7fe700c64fa0>"
      ]
     },
     "metadata": {},
     "output_type": "display_data"
    },
    {
     "data": {
      "text/html": [
       "<pre style=\"white-space:pre;overflow-x:auto;line-height:normal;font-family:Menlo,'DejaVu Sans Mono',consolas,'Courier New',monospace\"><span style=\"color: #7fbfbf\">           </span><span style=\"font-weight: bold\">(</span><span style=\"color: #ff79ff\">26</span>/<span style=\"color: #ff79ff\">30</span><span style=\"font-weight: bold\">)</span> ldir: <span style=\"color: #800080\">/Users/saforem2/grand/projects/DLHMC/training/2021_01_29/t16x16b2048lf10bi5bf6/l2hmc-qcd/logs/GaugeModel_logs/2021_01/L16_b2048_lf11_actswish_bi5_bf6_dp01_sepNets_NCProj/inference/</span><span style=\"color: #ff00ff\">L</span> <span style=\"color: #7f7f7f\">&lt;ipython-input-18-435dd6807ca7&gt;:8</span>\n",
       "           <span style=\"color: #ff00ff\">16_b2048__lf11_eps005-2021-01-31-0909</span>                                                                                                                                                                                                \n",
       "</pre>\n"
      ],
      "text/plain": [
       "<rich.jupyter.JupyterRenderable at 0x7fe700c64760>"
      ]
     },
     "metadata": {},
     "output_type": "display_data"
    },
    {
     "data": {
      "text/html": [
       "<pre style=\"white-space:pre;overflow-x:auto;line-height:normal;font-family:Menlo,'DejaVu Sans Mono',consolas,'Courier New',monospace\"><span style=\"color: #7fbfbf\">           </span><span style=\"font-weight: bold\">(</span><span style=\"color: #ff79ff\">27</span>/<span style=\"color: #ff79ff\">30</span><span style=\"font-weight: bold\">)</span> ldir: <span style=\"color: #800080\">/Users/saforem2/grand/projects/DLHMC/training/2021_01_29/t16x16b2048lf10bi3bf4/l2hmc-qcd/logs/GaugeModel_logs/2021_01/L16_b2048_lf11_actswish_bi3_bf4_dp01_sepNets_NCProj/inference/</span><span style=\"color: #ff00ff\">L</span> <span style=\"color: #7f7f7f\">&lt;ipython-input-18-435dd6807ca7&gt;:8</span>\n",
       "           <span style=\"color: #ff00ff\">16_b2048__lf11_eps005-2021-01-29-1417</span>                                                                                                                                                                                                \n",
       "</pre>\n"
      ],
      "text/plain": [
       "<rich.jupyter.JupyterRenderable at 0x7fe6f0f50c10>"
      ]
     },
     "metadata": {},
     "output_type": "display_data"
    },
    {
     "data": {
      "text/html": [
       "<pre style=\"white-space:pre;overflow-x:auto;line-height:normal;font-family:Menlo,'DejaVu Sans Mono',consolas,'Courier New',monospace\"><span style=\"color: #7fbfbf\">[22:34:50] </span><span style=\"font-weight: bold\">(</span><span style=\"color: #ff79ff\">28</span>/<span style=\"color: #ff79ff\">30</span><span style=\"font-weight: bold\">)</span> ldir: <span style=\"color: #800080\">/Users/saforem2/grand/projects/DLHMC/training/2021_01_29/t16x16b2048lf10bi4bf5/l2hmc-qcd/logs/GaugeModel_logs/2021_01/L16_b2048_lf11_actswish_bi4_bf5_dp01_sepNets_NCProj/inference/</span><span style=\"color: #ff00ff\">L</span> <span style=\"color: #7f7f7f\">&lt;ipython-input-18-435dd6807ca7&gt;:8</span>\n",
       "           <span style=\"color: #ff00ff\">16_b2048__lf11_eps005-2021-01-30-0340</span>                                                                                                                                                                                                \n",
       "</pre>\n"
      ],
      "text/plain": [
       "<rich.jupyter.JupyterRenderable at 0x7fe6f0f50ee0>"
      ]
     },
     "metadata": {},
     "output_type": "display_data"
    },
    {
     "data": {
      "text/html": [
       "<pre style=\"white-space:pre;overflow-x:auto;line-height:normal;font-family:Menlo,'DejaVu Sans Mono',consolas,'Courier New',monospace\"><span style=\"color: #7fbfbf\">           </span><span style=\"font-weight: bold\">(</span><span style=\"color: #ff79ff\">29</span>/<span style=\"color: #ff79ff\">30</span><span style=\"font-weight: bold\">)</span> ldir: <span style=\"color: #800080\">/Users/saforem2/grand/projects/DLHMC/training/2021_01_29/t16x16b2048lf10bi6bf7/l2hmc-qcd/logs/GaugeModel_logs/2021_01/L16_b2048_lf11_actswish_bi6_bf7_dp01_sepNets_NCProj/inference/</span><span style=\"color: #ff00ff\">L</span> <span style=\"color: #7f7f7f\">&lt;ipython-input-18-435dd6807ca7&gt;:8</span>\n",
       "           <span style=\"color: #ff00ff\">16_b2048__lf11_eps005-2021-02-01-0434</span>                                                                                                                                                                                                \n",
       "</pre>\n"
      ],
      "text/plain": [
       "<rich.jupyter.JupyterRenderable at 0x7fe6f0f50be0>"
      ]
     },
     "metadata": {},
     "output_type": "display_data"
    }
   ],
   "source": [
    "import joblib\n",
    "from copy import deepcopy\n",
    "\n",
    "ldirs_bad = []\n",
    "ldata = {b: {} for b in np.arange(1, 8)}\n",
    "\n",
    "for idx, ldir in enumerate(l2hmc_dirs):\n",
    "    console.log(f'({idx}/{len(l2hmc_dirs)}) ldir: {ldir}')\n",
    "    tint_files = [x for x in Path(ldir).rglob('*tint_data.z*') if x.is_file()]\n",
    "    tint_files += [x for x in Path(ldir).rglob('*tau_int_data.z*') if x.is_file()]\n",
    "    for f in tint_files:\n",
    "        try:\n",
    "            loaded = io.loadz(f)\n",
    "        except ValueError:\n",
    "            try:\n",
    "                with open(f, 'rb') as ff:\n",
    "                    loaded = joblib.load(ff)\n",
    "            except ValueError:\n",
    "                console.log(f'Unable to load!!!!', style=RED)\n",
    "        \n",
    "        if 'tau_int_data' in str(f):\n",
    "            run_dir = os.path.dirname(os.path.split(f)[0])\n",
    "        else:\n",
    "            run_dir, _ = os.path.split(f)\n",
    "            \n",
    "        try:\n",
    "            params = acr._get_important_params(run_dir)\n",
    "        except (FileNotFoundError, ValueError) as err:\n",
    "            console.log(f'err: {err}, skipping!', style=YELLOW)\n",
    "            ldirs_bad.append(ldir)\n",
    "            continue\n",
    "            \n",
    "        tint = loaded.get('tint', loaded.get('tau_int', None))\n",
    "        narr = loaded.get('narr', loaded.get('draws', None))\n",
    "        \n",
    "        if tint is not None and narr is not None:\n",
    "            data = deepcopy(params)\n",
    "            data.update({\n",
    "                'tint': tint,\n",
    "                'narr': narr,\n",
    "            })\n",
    "            \n",
    "            beta = params['beta']\n",
    "            traj_len = params['traj_len']\n",
    "            ldata[beta][traj_len] = data"
   ]
  },
  {
   "cell_type": "code",
   "execution_count": 9,
   "metadata": {
    "ExecuteTime": {
     "end_time": "2021-02-06T03:59:38.260723Z",
     "start_time": "2021-02-06T03:59:38.206989Z"
    }
   },
   "outputs": [
    {
     "ename": "IndentationError",
     "evalue": "unexpected indent (<ipython-input-9-d5870b0ccb71>, line 3)",
     "output_type": "error",
     "traceback": [
      "\u001b[0;36m  File \u001b[0;32m\"<ipython-input-9-d5870b0ccb71>\"\u001b[0;36m, line \u001b[0;32m3\u001b[0m\n\u001b[0;31m    lredirs_bad.append(ldir)\u001b[0m\n\u001b[0m    ^\u001b[0m\n\u001b[0;31mIndentationError\u001b[0m\u001b[0;31m:\u001b[0m unexpected indent\n"
     ]
    }
   ],
   "source": [
    "for beta in betas:\n",
    "    num_entries = len(list(ldata[beta].keys()))\n",
    "            lredirs_bad.append(ldir)\n",
    "    console.rule(f'beta: {beta}, {num_entries} entries')\n",
    "    console.log(ldata[beta])"
   ]
  },
  {
   "cell_type": "code",
   "execution_count": 19,
   "metadata": {
    "ExecuteTime": {
     "end_time": "2021-02-06T04:36:19.361614Z",
     "start_time": "2021-02-06T04:35:36.143259Z"
    }
   },
   "outputs": [
    {
     "name": "stderr",
     "output_type": "stream",
     "text": [
      "/Users/saforem2/opt/anaconda3/envs/tf2.4/lib/python3.8/site-packages/numpy/core/_asarray.py:83: UserWarning: Warning: converting a masked element to nan.\n",
      "  return array(a, dtype, copy=False, order=order)\n"
     ]
    },
    {
     "data": {
      "image/png": "[encoded data removed]",
      "text/plain": [
       "<Figure size 640x480 with 1 Axes>"
      ]
     },
     "metadata": {
      "image/png": {
       "height": 429,
       "width": 550
      }
     },
     "output_type": "display_data"
    },
    {
     "data": {
      "image/png": "[encoded data removed]",
      "text/plain": [
       "<Figure size 640x480 with 1 Axes>"
      ]
     },
     "metadata": {
      "image/png": {
       "height": 429,
       "width": 544
      }
     },
     "output_type": "display_data"
    },
    {
     "data": {
      "image/png": "[encoded data removed]",
      "text/plain": [
       "<Figure size 640x480 with 1 Axes>"
      ]
     },
     "metadata": {
      "image/png": {
       "height": 429,
       "width": 540
      }
     },
     "output_type": "display_data"
    },
    {
     "data": {
      "image/png": "[encoded data removed]",
      "text/plain": [
       "<Figure size 640x480 with 1 Axes>"
      ]
     },
     "metadata": {
      "image/png": {
       "height": 429,
       "width": 540
      }
     },
     "output_type": "display_data"
    },
    {
     "data": {
      "image/png": "[encoded data removed]",
      "text/plain": [
       "<Figure size 640x480 with 1 Axes>"
      ]
     },
     "metadata": {
      "image/png": {
       "height": 429,
       "width": 546
      }
     },
     "output_type": "display_data"
    },
    {
     "data": {
      "image/png": "[encoded data removed]",
      "text/plain": [
       "<Figure size 640x480 with 1 Axes>"
      ]
     },
     "metadata": {
      "image/png": {
       "height": 429,
       "width": 559
      }
     },
     "output_type": "display_data"
    },
    {
     "data": {
      "image/png": "[encoded data removed]",
      "text/plain": [
       "<Figure size 640x480 with 1 Axes>"
      ]
     },
     "metadata": {
      "image/png": {
       "height": 429,
       "width": 553
      }
     },
     "output_type": "display_data"
    }
   ],
   "source": [
    "for beta, data in ldata.items():\n",
    "    fig, ax = plt.subplots()\n",
    "    for traj_len, tint in data.items():\n",
    "        _ = ax.errorbar(tint['narr'], np.mean(tint['tint'], axis=-1), yerr=np.std(tint['tint'], axis=-1), ls='', marker='.', label=r'$\\lambda = $' + f'{traj_len:.2g}')\n",
    "        _ = ax.set_title(r'$\\beta = $' + f'{beta}')\n",
    "    _ = ax.legend(loc='best')"
   ]
  },
  {
   "cell_type": "code",
   "execution_count": 20,
   "metadata": {
    "ExecuteTime": {
     "end_time": "2021-02-06T04:38:08.963187Z",
     "start_time": "2021-02-06T04:38:08.908500Z"
    }
   },
   "outputs": [],
   "source": [
    "def get_annealing_schedule(run_dir):\n",
    "    tail = str(run_dir).find('GaugeModel_logs')\n",
    "    run_dir = run_dir[tail:]\n",
    "    \n",
    "    bidx = str(run_dir).find('bi')\n",
    "    bfdx = str(run_dir).find('bf')\n",
    "    \n",
    "    bistr = run_dir[bidx:bidx+3]\n",
    "    bfstr = run_dir[bfdx:bfdx+3]\n",
    "    \n",
    "    bi = float(bistr.lstrip('bi'))\n",
    "    bf = float(bfstr.lstrip('bf'))\n",
    "    \n",
    "    astr = r\"$\\beta:$\" + f' {bi}' + r\"$\\rightarrow$\" + f'{bf}'\n",
    "    \n",
    "    return astr, (bi, bf)"
   ]
  },
  {
   "cell_type": "code",
   "execution_count": 21,
   "metadata": {
    "ExecuteTime": {
     "end_time": "2021-02-06T04:38:11.084000Z",
     "start_time": "2021-02-06T04:38:11.033145Z"
    }
   },
   "outputs": [],
   "source": [
    "plt.style.use('default')\n",
    "sns.set_context('paper')\n",
    "sns.set_palette('bright')\n",
    "plt.rc('text', usetex=True)"
   ]
  },
  {
   "cell_type": "code",
   "execution_count": 63,
   "metadata": {
    "ExecuteTime": {
     "end_time": "2021-02-06T06:03:14.131832Z",
     "start_time": "2021-02-06T06:03:14.077008Z"
    }
   },
   "outputs": [],
   "source": [
    "x = 1.234\n",
    "y = 1.23\n",
    "z = 1.35\n",
    "prec = 0.05"
   ]
  },
  {
   "cell_type": "code",
   "execution_count": 64,
   "metadata": {
    "ExecuteTime": {
     "end_time": "2021-02-06T06:03:21.441439Z",
     "start_time": "2021-02-06T06:03:21.379973Z"
    }
   },
   "outputs": [
    {
     "data": {
      "text/plain": [
       "0.0040000000000000036"
      ]
     },
     "execution_count": 64,
     "metadata": {},
     "output_type": "execute_result"
    },
    {
     "data": {
      "text/plain": [
       "-0.1160000000000001"
      ]
     },
     "execution_count": 64,
     "metadata": {},
     "output_type": "execute_result"
    }
   ],
   "source": [
    "x - y\n",
    "x - z"
   ]
  },
  {
   "cell_type": "code",
   "execution_count": 65,
   "metadata": {
    "ExecuteTime": {
     "end_time": "2021-02-06T06:03:25.378486Z",
     "start_time": "2021-02-06T06:03:25.321284Z"
    }
   },
   "outputs": [
    {
     "data": {
      "text/plain": [
       "0.08000000000000007"
      ]
     },
     "execution_count": 65,
     "metadata": {},
     "output_type": "execute_result"
    },
    {
     "data": {
      "text/plain": [
       "-2.320000000000002"
      ]
     },
     "execution_count": 65,
     "metadata": {},
     "output_type": "execute_result"
    }
   ],
   "source": [
    "(x - y) / prec\n",
    "(x - z) / prec"
   ]
  },
  {
   "cell_type": "code",
   "execution_count": 68,
   "metadata": {
    "ExecuteTime": {
     "end_time": "2021-02-06T06:04:29.889679Z",
     "start_time": "2021-02-06T06:04:29.825481Z"
    }
   },
   "outputs": [
    {
     "data": {
      "text/plain": [
       "True"
      ]
     },
     "execution_count": 68,
     "metadata": {},
     "output_type": "execute_result"
    }
   ],
   "source": [
    "np.isclose(x, y, rtol=0.01)"
   ]
  },
  {
   "cell_type": "code",
   "execution_count": null,
   "metadata": {},
   "outputs": [],
   "source": [
    "def check_close(a, b, prec=0.05)\n"
   ]
  },
  {
   "cell_type": "code",
   "execution_count": 99,
   "metadata": {
    "ExecuteTime": {
     "end_time": "2021-02-06T07:03:24.817784Z",
     "start_time": "2021-02-06T07:03:24.520721Z"
    },
    "scrolled": false
   },
   "outputs": [
    {
     "ename": "IndexError",
     "evalue": "too many indices for array: array is 1-dimensional, but 2 were indexed",
     "output_type": "error",
     "traceback": [
      "\u001b[0;31m---------------------------------------------------------------------------\u001b[0m",
      "\u001b[0;31mIndexError\u001b[0m                                Traceback (most recent call last)",
      "\u001b[0;32m<ipython-input-99-8a524ede3e30>\u001b[0m in \u001b[0;36m<module>\u001b[0;34m\u001b[0m\n\u001b[1;32m     91\u001b[0m                 \u001b[0mlabel\u001b[0m \u001b[0;34m+=\u001b[0m \u001b[0;34m' (HMC)'\u001b[0m\u001b[0;34m\u001b[0m\u001b[0;34m\u001b[0m\u001b[0m\n\u001b[1;32m     92\u001b[0m \u001b[0;34m\u001b[0m\u001b[0m\n\u001b[0;32m---> 93\u001b[0;31m             _ = ax.errorbar(x, y[:, jdx], yerr=yerr[:, jdx],\n\u001b[0m\u001b[1;32m     94\u001b[0m                             \u001b[0mls\u001b[0m\u001b[0;34m=\u001b[0m\u001b[0;34m''\u001b[0m\u001b[0;34m,\u001b[0m \u001b[0mmarker\u001b[0m\u001b[0;34m=\u001b[0m\u001b[0;34m'.'\u001b[0m\u001b[0;34m,\u001b[0m\u001b[0;34m\u001b[0m\u001b[0;34m\u001b[0m\u001b[0m\n\u001b[1;32m     95\u001b[0m                             \u001b[0mmarkersize\u001b[0m\u001b[0;34m=\u001b[0m\u001b[0;36m2.5\u001b[0m\u001b[0;34m,\u001b[0m\u001b[0;34m\u001b[0m\u001b[0;34m\u001b[0m\u001b[0m\n",
      "\u001b[0;31mIndexError\u001b[0m: too many indices for array: array is 1-dimensional, but 2 were indexed"
     ]
    },
    {
     "data": {
      "image/png": "[encoded data removed]",
      "text/plain": [
       "<Figure size 477.377x295.035 with 1 Axes>"
      ]
     },
     "metadata": {
      "image/png": {
       "height": 306,
       "width": 489
      }
     },
     "output_type": "display_data"
    }
   ],
   "source": [
    "from cycler import cycler\n",
    "import matplotlib.cm as cm\n",
    "import matplotlib.colors as mcolors\n",
    "from config import PLOTS_DIR, MARKERS\n",
    "from utils.plotting_utils import truncate_colormap, set_size\n",
    "\n",
    "datestr = io.get_timestamp('%Y-%m-%d')\n",
    "timestr = io.get_timestamp('%H%M')\n",
    "outdir = os.path.join(PLOTS_DIR, f'autocorrs_{datestr}')\n",
    "io.check_else_make_dir(outdir)\n",
    "\n",
    "sns.set_context('paper')\n",
    "sns.set_palette('bright')\n",
    "plt.rc('text', usetex=True)\n",
    "\n",
    "betas = np.arange(1, 8)\n",
    "titles = {\n",
    "    1.: r\"$\\beta = 1$\",\n",
    "    2.: r\"$\\beta = 2$\",\n",
    "    3.: r\"$\\beta = 3$\",\n",
    "    4.: r\"$\\beta = 4$\",\n",
    "    5.: r\"$\\beta = 5$\",\n",
    "    6.: r\"$\\beta = 6$\",\n",
    "    7.: r\"$\\beta = 7$\",\n",
    "}\n",
    "set1_colors = [(228,26,28), (55,126,184), (77,175,74), (152,78,163),  (255,127,0), (255,255,51), (166,86,40), (247,129,191), (153,153,153)]\n",
    "#set1_colors = np.array(set1_colors, dtype=float)\n",
    "#set1_colors /= 255.0\n",
    "#set1_colors = mcolor.to_rgba_array(set1[::2])\n",
    "alt_colors = [\"#7F3C8D\", \"#11A579\", \"#3969AC\", \"#F2B701\", \"#E73F74\", \"#80BA5A\", \"#E68310\", \"#A5AA99\"]\n",
    "default = ['C0', 'C1', 'C2', 'C3', 'C4', 'C5', 'C6', 'C7', 'C8', 'C9']\n",
    "colors = 10 * ['deeppink', 'C0', 'C1', 'C2', 'C3', 'C4', 'C5', 'C6', 'C7', 'C8']\n",
    "\n",
    "pink_yellow = [\"#fef6b5\", \"#ffdd9a\", \"#ffc285\", \"#ffa679\", \"#fa8a76\", \"#f16d7a\", \"#e15383\"]\n",
    "sunset = [\"#f3e79b\", \"#fac484\", \"#f8a07e\", \"#eb7f86\", \"#ce6693\", \"#a059a0\", \"#5c53a5\"]\n",
    "plt.style.use('default')\n",
    "sns.set_style('whitegrid')\n",
    "sns.set_context('paper')\n",
    "sns.set_palette('bright')\n",
    "plt.rc('text', usetex=True)\n",
    "\n",
    "markers = 10 * ['s', 'd', '^', 'v', '<', '>', 'o', '*']\n",
    "#cycler('color', ['deeppink', 'dodgerblue', 'lawngreen', 'violet', 'orangered', 'deepskyblue', 'slategrey', 'aquamarine']) #'cyan', 'm', 'y', 'k'])\n",
    "\n",
    "tint_tlen_hmc = {beta: {} for beta in betas}\n",
    "tint_tlen_l2hmc = {beta: {} for beta in betas}\n",
    "bad_l2hmc_run_dirs = {beta: {} for beta in betas}\n",
    "\n",
    "for beta in betas:\n",
    "    fig, ax = plt.subplots(figsize=set_size(), constrained_layout=True)\n",
    "        \n",
    "    htlens = []\n",
    "    htdata = dict(sorted(hdata[beta].items()))\n",
    "    cmap = truncate_colormap('cet_gray', minval=0.1, maxval=0.9, n=len(list(htdata.keys())))\n",
    "    for idx, (traj_len, ht) in enumerate(htdata.items()):\n",
    "        lf = ht['lf']\n",
    "        x = ht['narr']\n",
    "        y = lf * ht['tint']\n",
    "        yerr = lf * ht['tint'] / np.log(10)\n",
    "        \n",
    "        if beta == 4. and np.max(x) > 5e4:\n",
    "            continue\n",
    "        \n",
    "        keep = np.isfinite(y)\n",
    "        #x = x[keep]\n",
    "        y = y[keep]\n",
    "        yerr = yerr[keep]\n",
    "        htlens.append(traj_len)\n",
    "        \n",
    "        if beta == 7.:\n",
    "            keep = np.squeeze(np.where(y > 1000))\n",
    "            #x = x[keep]\n",
    "            y = y[keep]\n",
    "            yerr = yerr[keep]\n",
    "            \n",
    "        tint_tlen_hmc[beta].update({\n",
    "            traj_len: {\n",
    "                'x': x,\n",
    "                'y': y,\n",
    "                'yerr': yerr,\n",
    "                'params': ht.get('run_params', None),\n",
    "            }\n",
    "        })\n",
    "        \n",
    "        color = cmap(traj_len / 4.)\n",
    "        mec = cmap((traj_len - 0.25 * traj_len)/ 4.)\n",
    "        label = None\n",
    "        for jdx in range(10):\n",
    "            if jdx == 0 and idx == 0:\n",
    "                label = r'$\\lambda = $' + f'{traj_len:.3g}'\n",
    "                label += ' (HMC)'\n",
    "                \n",
    "            _ = ax.errorbar(x, y[:, jdx], yerr=yerr[:, jdx],\n",
    "                            ls='', marker='.',\n",
    "                            markersize=2.5,\n",
    "                            fillstyle='none',  #mec=mec,\n",
    "                            color=color)\n",
    "                            #label=label)\n",
    "            \n",
    "    normalize = mcolor.Normalize(vmin=1., vmax=4.)\n",
    "    scalarmappable = cm.ScalarMappable(norm=normalize, cmap=cmap)\n",
    "    scalarmappable.set_array(np.unique(htlens))\n",
    "    #fig.colorbar(im, orientation=\"horizontal\", pad=0.2)\n",
    "\n",
    "    colorbar = fig.colorbar(scalarmappable, ax=ax, label=r\"$\\lambda$ (HMC)\")\n",
    "    \n",
    "    ltdata = dict(sorted(ldata[beta].items()))\n",
    "    #cmap = truncate_colormap('viridis', minval=0., maxval=1., n=len(list(ltdata.keys())))\n",
    "    #maxval = np.max(list(ltdata.keys()))\n",
    "    for idx, (traj_len, lt) in enumerate(ltdata.items()):\n",
    "        if traj_len < 1.:\n",
    "            continue\n",
    "            \n",
    "        if beta == 6.:\n",
    "            if traj_len < 1.78:\n",
    "                continue\n",
    "            \n",
    "        run_dir = lt['run_params']['run_dir']\n",
    "        astr, (bi, bf) = get_annealing_schedule(run_dir)\n",
    "        \n",
    "        if bf != beta:\n",
    "            console.log(f'bf != beta ???? (bf: {bf}, beta: {beta})', style=RED)\n",
    "            continue\n",
    "        \n",
    "        if beta == 5.:\n",
    "            if np.isclose(traj_len, 1.55, 0.01) or np.isclose(traj_len, 1.92, 0.01):\n",
    "                bad_l2hmc_run_dirs[beta].update({\n",
    "                    traj_len: {\n",
    "                        'params': lt.get('run_params', None),\n",
    "                    },\n",
    "                })\n",
    "                continue\n",
    "                \n",
    "        if beta == 6.:\n",
    "            c1 = np.isclose(traj_len, 1.7846, 0.001)\n",
    "            c2 = np.isclose(traj_len, 1.8226, 0.001)\n",
    "            c3 = np.isclose(traj_len, 1.8414, 0.001)\n",
    "            if c1 or c2 or c3:\n",
    "                bad_l2hmc_run_dirs[beta].update({\n",
    "                    traj_len: {\n",
    "                        'params': lt.get('run_params', None),\n",
    "                    }\n",
    "                })\n",
    "                continue\n",
    "        \n",
    "        lf = lt['lf']\n",
    "        x = lt['narr']\n",
    "        \n",
    "        y = lf * lt['tint']\n",
    "        yerr = lf * lt['tint'] / np.log(10)\n",
    "        try:\n",
    "            keep = np.squeeze(np.where(y < 10000))\n",
    "            #x = x[keep[0, :]]\n",
    "            y = y[keep]\n",
    "            yerr = yerr[keep]\n",
    "           \n",
    "        except ValueError:\n",
    "            continue\n",
    "        #    \n",
    "        keep = np.isfinite(y)\n",
    "        #x = x[keep[0]]\n",
    "        y = y[keep]\n",
    "        yerr = yerr[keep]\n",
    "        \n",
    "        keep = np.where(x > 1000)\n",
    "        #x = x[keep]\n",
    "        y = y[keep]\n",
    "        yerr = yerr[keep]\n",
    "        \n",
    "        tint_tlen_l2hmc[beta].update({\n",
    "            traj_len: {\n",
    "                'x': x,\n",
    "                'y': y,\n",
    "                'yerr': yerr,\n",
    "                'params': ht.get('run_params', None),\n",
    "            },\n",
    "        })\n",
    "        \n",
    "        #mcolor.Normalize(vmin=0, vmax=1.jkjkjkj)\n",
    "        \n",
    "        for jdx in range(10):\n",
    "            label = None\n",
    "            if jdx == 0 and idx == 0:\n",
    "                label = ', '.join([\n",
    "                    r'$\\lambda = $' + f'{traj_len:4.3g}, ',\n",
    "                    f'{astr}'\n",
    "                ])\n",
    "                #if beta == 6.:\n",
    "                #    label = r'$\\lambda = $' + f'{traj_len:6.5g}, '\n",
    "            _ = ax.errorbar(x, y[:, jdx], yerr=yerr[:, jdx],\n",
    "                            ls='', marker=markers[idx],\n",
    "                            markersize=2.5,\n",
    "                            color=colors[idx],\n",
    "                            #color=cmap(traj_len),\n",
    "                            #color='',\n",
    "                            #fillstyle='none',\n",
    "                            label=label)\n",
    "        \n",
    "    _ = ax.set_title(titles[beta])\n",
    "    _ = ax.legend(loc='best', fontsize='x-small')\n",
    "    #_ = ax.set_xlim((900, ax.get_xlim()[-1]))\n",
    "    _ = ax.set_yscale('log')\n",
    "    _ = ax.set_xscale('log')\n",
    "    _ = ax.set_ylabel(r\"$N_{\\mathrm{LF}}\\cdot \\tau_{\\mathrm{int}}$\")\n",
    "    _ = ax.set_xlabel('MC Step')\n",
    "    _ = ax.grid(True, alpha=0.4)\n",
    "    \n",
    "    \n",
    "    outfile = os.path.join(outdir, f'autocorr_beta{int(beta)}.pdf')\n",
    "    _ = plt.savefig(outfile, dpi=400, bbox_inches='tight')"
   ]
  },
  {
   "cell_type": "code",
   "execution_count": 91,
   "metadata": {
    "ExecuteTime": {
     "end_time": "2021-02-06T06:35:06.573409Z",
     "start_time": "2021-02-06T06:33:28.012294Z"
    }
   },
   "outputs": [
    {
     "name": "stdout",
     "output_type": "stream",
     "text": [
      "> <ipython-input-90-f4e4436d470a>(151)<module>()\n",
      "    149             keep = np.squeeze(np.where(y < 10000))\n",
      "    150             x = x[keep[0, :]]\n",
      "--> 151             y = y[keep]\n",
      "    152             yerr = yerr[keep]\n",
      "    153 \n",
      "\n",
      "ipdb> keep.shape\n",
      "(2, 40960)\n",
      "ipdb> x.shape\n",
      "(40960,)\n",
      "ipdb> x[keep[-1]]\n",
      "array([999, 999, 999, ..., 999, 999, 999])\n",
      "ipdb> keep[-1].shape\n",
      "(40960,)\n",
      "ipdb> keep[0]\n",
      "array([ 0,  0,  0, ..., 19, 19, 19])\n",
      "ipdb> keep[0].shape\n",
      "(40960,)\n",
      "ipdb> keep[:].shape\n",
      "(2, 40960)\n",
      "ipdb> y.shape\n",
      "(20, 2048)\n",
      "ipdb> quit\n"
     ]
    }
   ],
   "source": [
    "%debug"
   ]
  },
  {
   "cell_type": "code",
   "execution_count": 89,
   "metadata": {
    "ExecuteTime": {
     "end_time": "2021-02-06T06:33:20.160652Z",
     "start_time": "2021-02-06T06:30:40.431483Z"
    }
   },
   "outputs": [
    {
     "name": "stdout",
     "output_type": "stream",
     "text": [
      "> <ipython-input-88-f9a13b922481>(158)<module>()\n",
      "    156 \n",
      "    157         keep = np.isfinite(y.mean(axis=-1))\n",
      "--> 158         x = x[keep]\n",
      "    159         y = y[:, keep]\n",
      "    160         yerr = yerr[:, keep]\n",
      "\n",
      "ipdb> x.shape\n",
      "(20,)\n",
      "ipdb> keep\n",
      "array([[ True],\n",
      "       [ True],\n",
      "       [ True],\n",
      "       [ True],\n",
      "       [ True],\n",
      "       [ True],\n",
      "       [ True],\n",
      "       [ True],\n",
      "       [ True],\n",
      "       [ True],\n",
      "       [ True],\n",
      "       [ True],\n",
      "       [ True],\n",
      "       [ True],\n",
      "       [ True],\n",
      "       [ True],\n",
      "       [ True],\n",
      "       [ True],\n",
      "       [ True],\n",
      "       [ True]])\n",
      "ipdb> keeps = np.isfinite(y)\n",
      "ipdb> keeps\n",
      "array([[[ True,  True,  True,  True,  True,  True,  True,  True,  True,\n",
      "          True,  True,  True,  True,  True,  True,  True,  True,  True,\n",
      "          True,  True]],\n",
      "\n",
      "       [[ True,  True,  True,  True,  True,  True,  True,  True,  True,\n",
      "          True,  True,  True,  True,  True,  True,  True,  True,  True,\n",
      "          True,  True]],\n",
      "\n",
      "       [[ True,  True,  True,  True,  True,  True,  True,  True,  True,\n",
      "          True,  True,  True,  True,  True,  True,  True,  True,  True,\n",
      "          True,  True]],\n",
      "\n",
      "       [[ True,  True,  True,  True,  True,  True,  True,  True,  True,\n",
      "          True,  True,  True,  True,  True,  True,  True,  True,  True,\n",
      "          True,  True]],\n",
      "\n",
      "       [[ True,  True,  True,  True,  True,  True,  True,  True,  True,\n",
      "          True,  True,  True,  True,  True,  True,  True,  True,  True,\n",
      "          True,  True]],\n",
      "\n",
      "       [[ True,  True,  True,  True,  True,  True,  True,  True,  True,\n",
      "          True,  True,  True,  True,  True,  True,  True,  True,  True,\n",
      "          True,  True]],\n",
      "\n",
      "       [[ True,  True,  True,  True,  True,  True,  True,  True,  True,\n",
      "          True,  True,  True,  True,  True,  True,  True,  True,  True,\n",
      "          True,  True]],\n",
      "\n",
      "       [[ True,  True,  True,  True,  True,  True,  True,  True,  True,\n",
      "          True,  True,  True,  True,  True,  True,  True,  True,  True,\n",
      "          True,  True]],\n",
      "\n",
      "       [[ True,  True,  True,  True,  True,  True,  True,  True,  True,\n",
      "          True,  True,  True,  True,  True,  True,  True,  True,  True,\n",
      "          True,  True]],\n",
      "\n",
      "       [[ True,  True,  True,  True,  True,  True,  True,  True,  True,\n",
      "          True,  True,  True,  True,  True,  True,  True,  True,  True,\n",
      "          True,  True]],\n",
      "\n",
      "       [[ True,  True,  True,  True,  True,  True,  True,  True,  True,\n",
      "          True,  True,  True,  True,  True,  True,  True,  True,  True,\n",
      "          True,  True]],\n",
      "\n",
      "       [[ True,  True,  True,  True,  True,  True,  True,  True,  True,\n",
      "          True,  True,  True,  True,  True,  True,  True,  True,  True,\n",
      "          True,  True]],\n",
      "\n",
      "       [[ True,  True,  True,  True,  True,  True,  True,  True,  True,\n",
      "          True,  True,  True,  True,  True,  True,  True,  True,  True,\n",
      "          True,  True]],\n",
      "\n",
      "       [[ True,  True,  True,  True,  True,  True,  True,  True,  True,\n",
      "          True,  True,  True,  True,  True,  True,  True,  True,  True,\n",
      "          True,  True]],\n",
      "\n",
      "       [[ True,  True,  True,  True,  True,  True,  True,  True,  True,\n",
      "          True,  True,  True,  True,  True,  True,  True,  True,  True,\n",
      "          True,  True]],\n",
      "\n",
      "       [[ True,  True,  True,  True,  True,  True,  True,  True,  True,\n",
      "          True,  True,  True,  True,  True,  True,  True,  True,  True,\n",
      "          True,  True]],\n",
      "\n",
      "       [[ True,  True,  True,  True,  True,  True,  True,  True,  True,\n",
      "          True,  True,  True,  True,  True,  True,  True,  True,  True,\n",
      "          True,  True]],\n",
      "\n",
      "       [[ True,  True,  True,  True,  True,  True,  True,  True,  True,\n",
      "          True,  True,  True,  True,  True,  True,  True,  True,  True,\n",
      "          True,  True]],\n",
      "\n",
      "       [[ True,  True,  True,  True,  True,  True,  True,  True,  True,\n",
      "          True,  True,  True,  True,  True,  True,  True,  True,  True,\n",
      "          True,  True]],\n",
      "\n",
      "       [[ True,  True,  True,  True,  True,  True,  True,  True,  True,\n",
      "          True,  True,  True,  True,  True,  True,  True,  True,  True,\n",
      "          True,  True]]])\n",
      "ipdb> keeps.shape\n",
      "(20, 1, 20)\n",
      "ipdb> np.squeeze(keeps)\n",
      "array([[ True,  True,  True,  True,  True,  True,  True,  True,  True,\n",
      "         True,  True,  True,  True,  True,  True,  True,  True,  True,\n",
      "         True,  True],\n",
      "       [ True,  True,  True,  True,  True,  True,  True,  True,  True,\n",
      "         True,  True,  True,  True,  True,  True,  True,  True,  True,\n",
      "         True,  True],\n",
      "       [ True,  True,  True,  True,  True,  True,  True,  True,  True,\n",
      "         True,  True,  True,  True,  True,  True,  True,  True,  True,\n",
      "         True,  True],\n",
      "       [ True,  True,  True,  True,  True,  True,  True,  True,  True,\n",
      "         True,  True,  True,  True,  True,  True,  True,  True,  True,\n",
      "         True,  True],\n",
      "       [ True,  True,  True,  True,  True,  True,  True,  True,  True,\n",
      "         True,  True,  True,  True,  True,  True,  True,  True,  True,\n",
      "         True,  True],\n",
      "       [ True,  True,  True,  True,  True,  True,  True,  True,  True,\n",
      "         True,  True,  True,  True,  True,  True,  True,  True,  True,\n",
      "         True,  True],\n",
      "       [ True,  True,  True,  True,  True,  True,  True,  True,  True,\n",
      "         True,  True,  True,  True,  True,  True,  True,  True,  True,\n",
      "         True,  True],\n",
      "       [ True,  True,  True,  True,  True,  True,  True,  True,  True,\n",
      "         True,  True,  True,  True,  True,  True,  True,  True,  True,\n",
      "         True,  True],\n",
      "       [ True,  True,  True,  True,  True,  True,  True,  True,  True,\n",
      "         True,  True,  True,  True,  True,  True,  True,  True,  True,\n",
      "         True,  True],\n",
      "       [ True,  True,  True,  True,  True,  True,  True,  True,  True,\n",
      "         True,  True,  True,  True,  True,  True,  True,  True,  True,\n",
      "         True,  True],\n",
      "       [ True,  True,  True,  True,  True,  True,  True,  True,  True,\n",
      "         True,  True,  True,  True,  True,  True,  True,  True,  True,\n",
      "         True,  True],\n",
      "       [ True,  True,  True,  True,  True,  True,  True,  True,  True,\n",
      "         True,  True,  True,  True,  True,  True,  True,  True,  True,\n",
      "         True,  True],\n",
      "       [ True,  True,  True,  True,  True,  True,  True,  True,  True,\n",
      "         True,  True,  True,  True,  True,  True,  True,  True,  True,\n",
      "         True,  True],\n",
      "       [ True,  True,  True,  True,  True,  True,  True,  True,  True,\n",
      "         True,  True,  True,  True,  True,  True,  True,  True,  True,\n",
      "         True,  True],\n",
      "       [ True,  True,  True,  True,  True,  True,  True,  True,  True,\n",
      "         True,  True,  True,  True,  True,  True,  True,  True,  True,\n",
      "         True,  True],\n",
      "       [ True,  True,  True,  True,  True,  True,  True,  True,  True,\n",
      "         True,  True,  True,  True,  True,  True,  True,  True,  True,\n",
      "         True,  True],\n",
      "       [ True,  True,  True,  True,  True,  True,  True,  True,  True,\n",
      "         True,  True,  True,  True,  True,  True,  True,  True,  True,\n",
      "         True,  True],\n",
      "       [ True,  True,  True,  True,  True,  True,  True,  True,  True,\n",
      "         True,  True,  True,  True,  True,  True,  True,  True,  True,\n",
      "         True,  True],\n",
      "       [ True,  True,  True,  True,  True,  True,  True,  True,  True,\n",
      "         True,  True,  True,  True,  True,  True,  True,  True,  True,\n",
      "         True,  True],\n",
      "       [ True,  True,  True,  True,  True,  True,  True,  True,  True,\n",
      "         True,  True,  True,  True,  True,  True,  True,  True,  True,\n",
      "         True,  True]])\n",
      "ipdb> np.squeeze(keeps)\n",
      "array([[ True,  True,  True,  True,  True,  True,  True,  True,  True,\n",
      "         True,  True,  True,  True,  True,  True,  True,  True,  True,\n",
      "         True,  True],\n",
      "       [ True,  True,  True,  True,  True,  True,  True,  True,  True,\n",
      "         True,  True,  True,  True,  True,  True,  True,  True,  True,\n",
      "         True,  True],\n",
      "       [ True,  True,  True,  True,  True,  True,  True,  True,  True,\n",
      "         True,  True,  True,  True,  True,  True,  True,  True,  True,\n",
      "         True,  True],\n",
      "       [ True,  True,  True,  True,  True,  True,  True,  True,  True,\n",
      "         True,  True,  True,  True,  True,  True,  True,  True,  True,\n",
      "         True,  True],\n",
      "       [ True,  True,  True,  True,  True,  True,  True,  True,  True,\n",
      "         True,  True,  True,  True,  True,  True,  True,  True,  True,\n",
      "         True,  True],\n",
      "       [ True,  True,  True,  True,  True,  True,  True,  True,  True,\n",
      "         True,  True,  True,  True,  True,  True,  True,  True,  True,\n",
      "         True,  True],\n",
      "       [ True,  True,  True,  True,  True,  True,  True,  True,  True,\n",
      "         True,  True,  True,  True,  True,  True,  True,  True,  True,\n",
      "         True,  True],\n",
      "       [ True,  True,  True,  True,  True,  True,  True,  True,  True,\n",
      "         True,  True,  True,  True,  True,  True,  True,  True,  True,\n",
      "         True,  True],\n",
      "       [ True,  True,  True,  True,  True,  True,  True,  True,  True,\n",
      "         True,  True,  True,  True,  True,  True,  True,  True,  True,\n",
      "         True,  True],\n",
      "       [ True,  True,  True,  True,  True,  True,  True,  True,  True,\n",
      "         True,  True,  True,  True,  True,  True,  True,  True,  True,\n",
      "         True,  True],\n",
      "       [ True,  True,  True,  True,  True,  True,  True,  True,  True,\n",
      "         True,  True,  True,  True,  True,  True,  True,  True,  True,\n",
      "         True,  True],\n",
      "       [ True,  True,  True,  True,  True,  True,  True,  True,  True,\n",
      "         True,  True,  True,  True,  True,  True,  True,  True,  True,\n",
      "         True,  True],\n",
      "       [ True,  True,  True,  True,  True,  True,  True,  True,  True,\n",
      "         True,  True,  True,  True,  True,  True,  True,  True,  True,\n",
      "         True,  True],\n",
      "       [ True,  True,  True,  True,  True,  True,  True,  True,  True,\n",
      "         True,  True,  True,  True,  True,  True,  True,  True,  True,\n",
      "         True,  True],\n",
      "       [ True,  True,  True,  True,  True,  True,  True,  True,  True,\n",
      "         True,  True,  True,  True,  True,  True,  True,  True,  True,\n",
      "         True,  True],\n",
      "       [ True,  True,  True,  True,  True,  True,  True,  True,  True,\n",
      "         True,  True,  True,  True,  True,  True,  True,  True,  True,\n",
      "         True,  True],\n",
      "       [ True,  True,  True,  True,  True,  True,  True,  True,  True,\n",
      "         True,  True,  True,  True,  True,  True,  True,  True,  True,\n",
      "         True,  True],\n",
      "       [ True,  True,  True,  True,  True,  True,  True,  True,  True,\n",
      "         True,  True,  True,  True,  True,  True,  True,  True,  True,\n",
      "         True,  True],\n",
      "       [ True,  True,  True,  True,  True,  True,  True,  True,  True,\n",
      "         True,  True,  True,  True,  True,  True,  True,  True,  True,\n",
      "         True,  True],\n",
      "       [ True,  True,  True,  True,  True,  True,  True,  True,  True,\n",
      "         True,  True,  True,  True,  True,  True,  True,  True,  True,\n"
     ]
    },
    {
     "name": "stdout",
     "output_type": "stream",
     "text": [
      "         True,  True]])\n",
      "ipdb> np.squeeze(keeps).shape\n",
      "(20, 20)\n",
      "ipdb> q\n"
     ]
    }
   ],
   "source": [
    "%debug"
   ]
  },
  {
   "cell_type": "code",
   "execution_count": 83,
   "metadata": {
    "ExecuteTime": {
     "end_time": "2021-02-06T06:23:57.694210Z",
     "start_time": "2021-02-06T06:23:57.381928Z"
    }
   },
   "outputs": [
    {
     "ename": "ValueError",
     "evalue": "not enough values to unpack (expected 2, got 1)",
     "output_type": "error",
     "traceback": [
      "\u001b[0;31m---------------------------------------------------------------------------\u001b[0m",
      "\u001b[0;31mValueError\u001b[0m                                Traceback (most recent call last)",
      "\u001b[0;32m<ipython-input-83-ba58dac8c5f7>\u001b[0m in \u001b[0;36m<module>\u001b[0;34m\u001b[0m\n\u001b[1;32m     10\u001b[0m         \u001b[0my\u001b[0m \u001b[0;34m=\u001b[0m \u001b[0mht\u001b[0m\u001b[0;34m[\u001b[0m\u001b[0;34m'y'\u001b[0m\u001b[0;34m]\u001b[0m\u001b[0;34m\u001b[0m\u001b[0;34m\u001b[0m\u001b[0m\n\u001b[1;32m     11\u001b[0m         \u001b[0myerr\u001b[0m \u001b[0;34m=\u001b[0m \u001b[0mht\u001b[0m\u001b[0;34m[\u001b[0m\u001b[0;34m'yerr'\u001b[0m\u001b[0;34m]\u001b[0m\u001b[0;34m\u001b[0m\u001b[0;34m\u001b[0m\u001b[0m\n\u001b[0;32m---> 12\u001b[0;31m         \u001b[0mnum_steps\u001b[0m\u001b[0;34m,\u001b[0m \u001b[0mbatch_size\u001b[0m \u001b[0;34m=\u001b[0m \u001b[0my\u001b[0m\u001b[0;34m.\u001b[0m\u001b[0mshape\u001b[0m\u001b[0;34m\u001b[0m\u001b[0;34m\u001b[0m\u001b[0m\n\u001b[0m\u001b[1;32m     13\u001b[0m         \u001b[0mxtlen\u001b[0m \u001b[0;34m=\u001b[0m \u001b[0mbatch_size\u001b[0m \u001b[0;34m*\u001b[0m \u001b[0;34m[\u001b[0m\u001b[0mtraj_len\u001b[0m\u001b[0;34m]\u001b[0m\u001b[0;34m\u001b[0m\u001b[0;34m\u001b[0m\u001b[0m\n\u001b[1;32m     14\u001b[0m         \u001b[0mytlen\u001b[0m \u001b[0;34m=\u001b[0m \u001b[0my\u001b[0m\u001b[0;34m[\u001b[0m\u001b[0;34m-\u001b[0m\u001b[0;36m1\u001b[0m\u001b[0;34m]\u001b[0m\u001b[0;34m\u001b[0m\u001b[0;34m\u001b[0m\u001b[0m\n",
      "\u001b[0;31mValueError\u001b[0m: not enough values to unpack (expected 2, got 1)"
     ]
    },
    {
     "data": {
      "image/png": "[encoded data removed]",
      "text/plain": [
       "<Figure size 477.377x295.035 with 1 Axes>"
      ]
     },
     "metadata": {
      "image/png": {
       "height": 306,
       "width": 489
      }
     },
     "output_type": "display_data"
    }
   ],
   "source": [
    "for beta in betas:\n",
    "    fig, ax = plt.subplots(figsize=set_size(), constrained_layout=True)\n",
    "        \n",
    "    cmap = truncate_colormap('cet_gray', minval=0.1, maxval=0.9, n=len(list(htdata.keys())))\n",
    "    \n",
    "    hdata_ = dict(sorted(tint_tlen_hmc[beta].items()))\n",
    "    \n",
    "    for idx, (traj_len, ht) in enumerate(hdata_.items()):\n",
    "        x = ht['x']\n",
    "        y = ht['y']\n",
    "        yerr = ht['yerr']\n",
    "        num_steps, batch_size = y.shape\n",
    "        xtlen = batch_size * [traj_len]\n",
    "        ytlen = y[-1]\n",
    "        yerrtlen = yerr[-1]\n",
    "        _ = ax.errorbar(xtlen, ytlen, yerr=yerrtlen,\n",
    "                        ls='', marker='.',\n",
    "                        markersize=2.5,\n",
    "                        fillstyle='none',  #mec=mec,\n",
    "                        color=color)\n",
    "                        #label=label)"
   ]
  },
  {
   "cell_type": "code",
   "execution_count": 84,
   "metadata": {
    "ExecuteTime": {
     "end_time": "2021-02-06T06:24:19.566801Z",
     "start_time": "2021-02-06T06:24:13.178624Z"
    }
   },
   "outputs": [
    {
     "name": "stdout",
     "output_type": "stream",
     "text": [
      "> <ipython-input-83-ba58dac8c5f7>(12)<module>()\n",
      "     10         y = ht['y']\n",
      "     11         yerr = ht['yerr']\n",
      "---> 12         num_steps, batch_size = y.shape\n",
      "     13         xtlen = batch_size * [traj_len]\n",
      "     14         ytlen = y[-1]\n",
      "\n",
      "ipdb> y.shape\n",
      "(20,)\n",
      "ipdb> x.shape\n",
      "(20,)\n",
      "ipdb> quit\n"
     ]
    }
   ],
   "source": [
    "%debug"
   ]
  },
  {
   "cell_type": "code",
   "execution_count": 29,
   "metadata": {
    "ExecuteTime": {
     "end_time": "2021-02-04T21:38:13.689040Z",
     "start_time": "2021-02-04T21:36:39.192347Z"
    }
   },
   "outputs": [
    {
     "name": "stdout",
     "output_type": "stream",
     "text": [
      "> <ipython-input-28-84f376daf9d1>(3)<module>()\n",
      "      1 for beta, tint in ldata.items():\n",
      "      2     fig, ax = plt.subplots()\n",
      "----> 3     _ = ax.errorbar(tint['narr'], np.mean(tint['tint'], axis=-1), yerr=np.std(tint['tint'], axis=-1))\n",
      "      4     _ = ax.set_title(r'$\\beta = $' + f'{beta}')\n",
      "\n",
      "ipdb> tint.keys()\n",
      "dict_keys([2.042798])\n",
      "ipdb> tint.values()\n",
      "dict_values([{'lf': 11, 'eps': 0.18570891, 'traj_len': 2.042798, 'beta': 1.0, 'run_params': {'hmc': False, 'run_dir': '/lus/grand/projects/DLHMC/training/2021_01_22/t16x16b2048lf10bi1bf1NadamSwish/l2hmc-qcd/logs/GaugeModel_logs/2021_01/L16_b2048_lf11_actswish_bi1_bf1_dp01_sepNets_NCProj/inference/L16_b2048__lf11_eps005-2021-01-23-0822', 'beta': 1.0, 'run_steps': 10000, 'plaq_weight': 0.0, 'charge_weight': 0.01, 'x_shape': (2048, 512), 'num_steps': 11, 'net_weights': NetWeights(x_scale=1.0, x_translation=1.0, x_transformation=1.0, v_scale=1.0, v_translation=1.0, v_transformation=1.0), 'input_shape': (2048, 512), 'xeps': ListWrapper([<tf.Variable 'eps:0' shape=() dtype=float32, numpy=0.1465742>, <tf.Variable 'eps:0' shape=() dtype=float32, numpy=0.19381365>, <tf.Variable 'eps:0' shape=() dtype=float32, numpy=0.18372354>, <tf.Variable 'eps:0' shape=() dtype=float32, numpy=0.19485554>, <tf.Variable 'eps:0' shape=() dtype=float32, numpy=0.20127735>, <tf.Variable 'eps:0' shape=() dtype=float32, numpy=0.20200694>, <tf.Variable 'eps:0' shape=() dtype=float32, numpy=0.20146105>, <tf.Variable 'eps:0' shape=() dtype=float32, numpy=0.19482145>, <tf.Variable 'eps:0' shape=() dtype=float32, numpy=0.1836876>, <tf.Variable 'eps:0' shape=() dtype=float32, numpy=0.19391236>, <tf.Variable 'eps:0' shape=() dtype=float32, numpy=0.14666432>]), 'veps': ListWrapper([<tf.Variable 'eps:0' shape=() dtype=float32, numpy=0.11061239>, <tf.Variable 'eps:0' shape=() dtype=float32, numpy=0.28884995>, <tf.Variable 'eps:0' shape=() dtype=float32, numpy=0.13853353>, <tf.Variable 'eps:0' shape=() dtype=float32, numpy=0.31007642>, <tf.Variable 'eps:0' shape=() dtype=float32, numpy=0.18999815>, <tf.Variable 'eps:0' shape=() dtype=float32, numpy=0.32404587>, <tf.Variable 'eps:0' shape=() dtype=float32, numpy=0.18859619>, <tf.Variable 'eps:0' shape=() dtype=float32, numpy=0.30592167>, <tf.Variable 'eps:0' shape=() dtype=float32, numpy=0.13636377>, <tf.Variable 'eps:0' shape=() dtype=float32, numpy=0.28211647>, <tf.Variable 'eps:0' shape=() dtype=float32, numpy=0.10896654>]), 'xeps_avg': <tf.Tensor: shape=(), dtype=float32, numpy=0.18570891>, 'veps_avg': <tf.Tensor: shape=(), dtype=float32, numpy=0.21673463>, 'eps_avg': <tf.Tensor: shape=(), dtype=float32, numpy=0.20122176>}, 'tint': array([[0.96006492, 0.86302374, 0.87998045, ..., 0.71783333, 0.83369853,\n",
      "        0.93185245],\n",
      "       [0.91483521, 0.87927589, 0.84979028, ..., 0.73261269, 0.84834953,\n",
      "        0.91194544],\n",
      "       [0.90089759, 0.98753361, 0.86229226, ..., 0.72454705, 0.89158037,\n",
      "        0.9420903 ],\n",
      "       ...,\n",
      "       [0.89739254, 0.89376991, 0.89602731, ..., 0.89327099, 0.8821332 ,\n",
      "        0.97562919],\n",
      "       [0.88489997, 0.90111362, 0.90041339, ..., 0.88653092, 0.87890917,\n",
      "        0.99409521],\n",
      "       [0.87835389, 0.92035288, 0.88447536, ..., 0.88989759, 0.86984561,\n",
      "        0.98528359]]), 'narr': array([ 999, 1115, 1244, 1388, 1549, 1728, 1928, 2151, 2400, 2677, 2987,\n",
      "       3333, 3718, 4148, 4628, 5163, 5760, 6427, 7170, 8000])}])\n",
      "ipdb> ldata[2.].keys()\n",
      "dict_keys([2.0219007])\n",
      "ipdb> ldata[3.].keys()\n",
      "dict_keys([1.6777978, 1.9178157])\n",
      "ipdb> q\n"
     ]
    }
   ],
   "source": [
    "%debug"
   ]
  },
  {
   "cell_type": "code",
   "execution_count": 19,
   "metadata": {
    "ExecuteTime": {
     "end_time": "2021-02-04T21:25:07.746071Z",
     "start_time": "2021-02-04T21:25:02.396844Z"
    }
   },
   "outputs": [
    {
     "data": {
      "text/html": [
       "<pre style=\"white-space:pre;overflow-x:auto;line-height:normal;font-family:Menlo,'DejaVu Sans Mono',consolas,'Courier New',monospace\"><span style=\"color: #7fbfbf\">[15:25:02] </span><span style=\"font-weight: bold\">(</span><span style=\"color: #ff79ff\">0</span>/<span style=\"color: #ff79ff\">30</span><span style=\"font-weight: bold\">)</span> ldir: <span style=\"color: #800080\">/Users/saforem2/thetaGPU/training/2020_12_02/t16x16_b2048_lf10_bi6_bf7_4ranks/l2hmc-qcd/logs/GaugeModel_logs/2020_12/L16_b2048_lf10_bi6_bf7_dp02_clip500_sepNets_NCProj/LOADED/inferen</span> <span style=\"color: #7f7f7f\">&lt;ipython-input-19-0eba35e0d070&gt;:8</span>\n",
       "           <span style=\"color: #800080\">ce/</span><span style=\"color: #ff00ff\">L16_b2048__lf10_eps0208-2021-01-10-0716</span>                                                                                                                                                                                           \n",
       "</pre>\n"
      ],
      "text/plain": [
       "<rich.jupyter.JupyterRenderable at 0x7fb749d0cdc0>"
      ]
     },
     "metadata": {},
     "output_type": "display_data"
    },
    {
     "data": {
      "text/html": [
       "<pre style=\"white-space:pre;overflow-x:auto;line-height:normal;font-family:Menlo,'DejaVu Sans Mono',consolas,'Courier New',monospace\"><span style=\"color: #7fbfbf\">[15:25:07]  </span><span style=\"color: #800000\">Unable to locate </span><span style=\"color: #800080\">/Users/saforem2/thetaGPU/training/2020_12_02/t16x16_b2048_lf10_bi6_bf7_4ranks/l2hmc-qcd/logs/GaugeModel_logs/2020_12/L16_b2048_lf10_bi6_bf7_dp02_clip500_sepNets_NCProj/LOADED/inference/L16_b2048__</span> <a href=\"file:///Users/saforem2/l2hmc-qcd/l2hmc-qcd/utils/file_io.py\"><span style=\"color: #7f7f7f\">file_io.py</span></a><span style=\"color: #7f7f7f\">:184</span>\n",
       "            <span style=\"color: #800080\">lf10_eps0208-2021-01-10-0716/run_data/</span><span style=\"color: #ff00ff\">run_params.z.</span><span style=\"color: #800000\">                                                                                                                                                                  </span>               \n",
       "</pre>\n"
      ],
      "text/plain": [
       "<rich.jupyter.JupyterRenderable at 0x7fb758a9fb80>"
      ]
     },
     "metadata": {},
     "output_type": "display_data"
    },
    {
     "data": {
      "text/html": [
       "<pre style=\"white-space:pre;overflow-x:auto;line-height:normal;font-family:Menlo,'DejaVu Sans Mono',consolas,'Courier New',monospace\"><span style=\"color: #7fbfbf\">            </span><span style=\"color: #800000\">Error loading params from </span><span style=\"color: #800080\">/Users/saforem2/thetaGPU/training/2020_12_02/t16x16_b2048_lf10_bi6_bf7_4ranks/l2hmc-qcd/logs/GaugeModel_logs/2020_12/L16_b2048_lf10_bi6_bf7_dp02_clip500_sepNets_NCProj/LOADED/inference/L1</span> <a href=\"file:///Users/saforem2/l2hmc-qcd/l2hmc-qcd/utils/file_io.py\"><span style=\"color: #7f7f7f\">file_io.py</span></a><span style=\"color: #7f7f7f\">:184</span>\n",
       "            <span style=\"color: #800080\">6_b2048__lf10_eps0208-2021-01-10-0716/</span><span style=\"color: #ff00ff\">run_data</span><span style=\"color: #800000\">, skipping!                                                                                                                                                            </span>               \n",
       "</pre>\n"
      ],
      "text/plain": [
       "<rich.jupyter.JupyterRenderable at 0x7fb758a9f250>"
      ]
     },
     "metadata": {},
     "output_type": "display_data"
    },
    {
     "data": {
      "text/html": [
       "<pre style=\"white-space:pre;overflow-x:auto;line-height:normal;font-family:Menlo,'DejaVu Sans Mono',consolas,'Courier New',monospace\"><span style=\"color: #7fbfbf\">            </span>Unable to get tint data from: <span style=\"color: #800080\">/Users/saforem2/thetaGPU/training/2020_12_02/t16x16_b2048_lf10_bi6_bf7_4ranks/l2hmc-qcd/logs/GaugeModel_logs/2020_12/L16_b2048_lf10_bi6_bf7_dp02_clip500_sepNets_NCProj/LOADED/inferenc</span> <a href=\"file:///Users/saforem2/l2hmc-qcd/l2hmc-qcd/utils/file_io.py\"><span style=\"color: #7f7f7f\">file_io.py</span></a><span style=\"color: #7f7f7f\">:184</span>\n",
       "            <span style=\"color: #800080\">e/L16_b2048__lf10_eps0208-2021-01-10-0716/run_data/</span><span style=\"color: #ff00ff\">tau_int_data.z</span>, skipping!                                                                                                                                                        \n",
       "</pre>\n"
      ],
      "text/plain": [
       "<rich.jupyter.JupyterRenderable at 0x7fb758a9f7f0>"
      ]
     },
     "metadata": {},
     "output_type": "display_data"
    },
    {
     "ename": "KeyError",
     "evalue": "'beta'",
     "output_type": "error",
     "traceback": [
      "\u001b[0;31m---------------------------------------------------------------------------\u001b[0m",
      "\u001b[0;31mKeyError\u001b[0m                                  Traceback (most recent call last)",
      "\u001b[0;32m<ipython-input-19-0eba35e0d070>\u001b[0m in \u001b[0;36m<module>\u001b[0;34m\u001b[0m\n\u001b[1;32m      8\u001b[0m     \u001b[0mconsole\u001b[0m\u001b[0;34m.\u001b[0m\u001b[0mlog\u001b[0m\u001b[0;34m(\u001b[0m\u001b[0;34mf'({idx}/{len(l2hmc_dirs)}) ldir: {ldir}'\u001b[0m\u001b[0;34m)\u001b[0m\u001b[0;34m\u001b[0m\u001b[0;34m\u001b[0m\u001b[0m\n\u001b[1;32m      9\u001b[0m     \u001b[0mdata\u001b[0m \u001b[0;34m=\u001b[0m \u001b[0macr\u001b[0m\u001b[0;34m.\u001b[0m\u001b[0mdeal_with_new_data\u001b[0m\u001b[0;34m(\u001b[0m\u001b[0mldir\u001b[0m\u001b[0;34m,\u001b[0m \u001b[0msave\u001b[0m\u001b[0;34m=\u001b[0m\u001b[0;32mFalse\u001b[0m\u001b[0;34m)\u001b[0m\u001b[0;34m\u001b[0m\u001b[0;34m\u001b[0m\u001b[0m\n\u001b[0;32m---> 10\u001b[0;31m     \u001b[0mbeta\u001b[0m \u001b[0;34m=\u001b[0m \u001b[0mdata\u001b[0m\u001b[0;34m[\u001b[0m\u001b[0;34m'beta'\u001b[0m\u001b[0;34m]\u001b[0m\u001b[0;34m\u001b[0m\u001b[0;34m\u001b[0m\u001b[0m\n\u001b[0m\u001b[1;32m     11\u001b[0m     \u001b[0mltint\u001b[0m\u001b[0;34m[\u001b[0m\u001b[0mbeta\u001b[0m\u001b[0;34m]\u001b[0m\u001b[0;34m.\u001b[0m\u001b[0mupdate\u001b[0m\u001b[0;34m(\u001b[0m\u001b[0mdata\u001b[0m\u001b[0;34m)\u001b[0m\u001b[0;34m\u001b[0m\u001b[0;34m\u001b[0m\u001b[0m\n",
      "\u001b[0;31mKeyError\u001b[0m: 'beta'"
     ]
    }
   ],
   "source": [
    "import utils.autocorr as acr\n",
    "\n",
    "betas = np.arange(1, 8)\n",
    "ltint = {\n",
    "    b: {} for b in betas\n",
    "}\n",
    "for idx, ldir in enumerate(l2hmc_dirs):\n",
    "    console.log(f'({idx}/{len(l2hmc_dirs)}) ldir: {ldir}')\n",
    "    data = acr._deal_with_new_data\n",
    "    data = acr.deal_with_new_data(ldir, save=False)\n",
    "    beta = data['beta']\n",
    "    ltint[beta].update(data)"
   ]
  },
  {
   "cell_type": "code",
   "execution_count": null,
   "metadata": {},
   "outputs": [],
   "source": []
  },
  {
   "cell_type": "code",
   "execution_count": null,
   "metadata": {
    "ExecuteTime": {
     "start_time": "2021-02-04T21:06:54.711Z"
    }
   },
   "outputs": [],
   "source": [
    "for key, val in ltint.items():\n",
    "    console.rule(f'beta: {beta}')\n",
    "    console.log(val)"
   ]
  },
  {
   "cell_type": "code",
   "execution_count": null,
   "metadata": {},
   "outputs": [],
   "source": []
  },
  {
   "cell_type": "code",
   "execution_count": 26,
   "metadata": {
    "ExecuteTime": {
     "end_time": "2021-02-04T21:06:15.346620Z",
     "start_time": "2021-02-04T21:06:15.276166Z"
    }
   },
   "outputs": [
    {
     "data": {
      "text/plain": [
       "dict_keys([2.0219007])"
      ]
     },
     "execution_count": 26,
     "metadata": {},
     "output_type": "execute_result"
    }
   ],
   "source": [
    "ltint[2.].keys()"
   ]
  },
  {
   "cell_type": "code",
   "execution_count": 25,
   "metadata": {
    "ExecuteTime": {
     "end_time": "2021-02-04T21:06:08.228957Z",
     "start_time": "2021-02-04T21:06:02.006187Z"
    }
   },
   "outputs": [
    {
     "ename": "KeyError",
     "evalue": "'narr'",
     "output_type": "error",
     "traceback": [
      "\u001b[0;31m---------------------------------------------------------------------------\u001b[0m",
      "\u001b[0;31mKeyError\u001b[0m                                  Traceback (most recent call last)",
      "\u001b[0;32m<ipython-input-25-93900fc316e8>\u001b[0m in \u001b[0;36m<module>\u001b[0;34m\u001b[0m\n\u001b[1;32m      1\u001b[0m \u001b[0;32mfor\u001b[0m \u001b[0mbeta\u001b[0m\u001b[0;34m,\u001b[0m \u001b[0mtint\u001b[0m \u001b[0;32min\u001b[0m \u001b[0mltint\u001b[0m\u001b[0;34m.\u001b[0m\u001b[0mitems\u001b[0m\u001b[0;34m(\u001b[0m\u001b[0;34m)\u001b[0m\u001b[0;34m:\u001b[0m\u001b[0;34m\u001b[0m\u001b[0;34m\u001b[0m\u001b[0m\n\u001b[1;32m      2\u001b[0m     \u001b[0mfig\u001b[0m\u001b[0;34m,\u001b[0m \u001b[0max\u001b[0m \u001b[0;34m=\u001b[0m \u001b[0mplt\u001b[0m\u001b[0;34m.\u001b[0m\u001b[0msubplots\u001b[0m\u001b[0;34m(\u001b[0m\u001b[0;34m)\u001b[0m\u001b[0;34m\u001b[0m\u001b[0;34m\u001b[0m\u001b[0m\n\u001b[0;32m----> 3\u001b[0;31m     \u001b[0m_\u001b[0m \u001b[0;34m=\u001b[0m \u001b[0max\u001b[0m\u001b[0;34m.\u001b[0m\u001b[0merrorbar\u001b[0m\u001b[0;34m(\u001b[0m\u001b[0mtint\u001b[0m\u001b[0;34m[\u001b[0m\u001b[0;34m'narr'\u001b[0m\u001b[0;34m]\u001b[0m\u001b[0;34m,\u001b[0m \u001b[0mnp\u001b[0m\u001b[0;34m.\u001b[0m\u001b[0mmean\u001b[0m\u001b[0;34m(\u001b[0m\u001b[0mtint\u001b[0m\u001b[0;34m[\u001b[0m\u001b[0;34m'tint'\u001b[0m\u001b[0;34m]\u001b[0m\u001b[0;34m,\u001b[0m \u001b[0maxis\u001b[0m\u001b[0;34m=\u001b[0m\u001b[0;34m-\u001b[0m\u001b[0;36m1\u001b[0m\u001b[0;34m)\u001b[0m\u001b[0;34m,\u001b[0m \u001b[0myerr\u001b[0m\u001b[0;34m=\u001b[0m\u001b[0mnp\u001b[0m\u001b[0;34m.\u001b[0m\u001b[0mstd\u001b[0m\u001b[0;34m(\u001b[0m\u001b[0mtint\u001b[0m\u001b[0;34m[\u001b[0m\u001b[0;34m'tint'\u001b[0m\u001b[0;34m]\u001b[0m\u001b[0;34m,\u001b[0m \u001b[0maxis\u001b[0m\u001b[0;34m=\u001b[0m\u001b[0;34m-\u001b[0m\u001b[0;36m1\u001b[0m\u001b[0;34m)\u001b[0m\u001b[0;34m)\u001b[0m\u001b[0;34m\u001b[0m\u001b[0;34m\u001b[0m\u001b[0m\n\u001b[0m",
      "\u001b[0;31mKeyError\u001b[0m: 'narr'"
     ]
    },
    {
     "data": {
      "image/png": "[encoded data removed]",
      "text/plain": [
       "<Figure size 432x288 with 1 Axes>"
      ]
     },
     "metadata": {
      "image/png": {
       "height": 266,
       "width": 396
      }
     },
     "output_type": "display_data"
    }
   ],
   "source": [
    "for beta, tint in ltint.items():\n",
    "    fig, ax = plt.subplots()\n",
    "    _ = ax.errorbar(tint['narr'], np.mean(tint['tint'], axis=-1), yerr=np.std(tint['tint'], axis=-1))"
   ]
  },
  {
   "cell_type": "code",
   "execution_count": null,
   "metadata": {},
   "outputs": [],
   "source": [
    "data"
   ]
  },
  {
   "cell_type": "code",
   "execution_count": null,
   "metadata": {},
   "outputs": [],
   "source": []
  }
 ],
 "metadata": {
  "kernelspec": {
   "display_name": "Python [conda env:tf2.4] *",
   "language": "python",
   "name": "conda-env-tf2.4-py"
  },
  "language_info": {
   "codemirror_mode": {
    "name": "ipython",
    "version": 3
   },
   "file_extension": ".py",
   "mimetype": "text/x-python",
   "name": "python",
   "nbconvert_exporter": "python",
   "pygments_lexer": "ipython3",
   "version": "3.8.5"
  },
  "latex_envs": {
   "LaTeX_envs_menu_present": false,
   "autoclose": false,
   "autocomplete": false,
   "bibliofile": "biblio.bib",
   "cite_by": "apalike",
   "current_citInitial": 1,
   "eqLabelWithNumbers": true,
   "eqNumInitial": 1,
   "hotkeys": {
    "equation": ""
   },
   "labels_anchors": false,
   "latex_user_defs": false,
   "report_style_numbering": false,
   "user_envs_cfg": false
  },
  "nbTranslate": {
   "displayLangs": [
    "*"
   ],
   "hotkey": "alt-t",
   "langInMainMenu": true,
   "sourceLang": "en",
   "targetLang": "fr",
   "useGoogleTranslate": true
  },
  "toc": {
   "base_numbering": 1,
   "nav_menu": {},
   "number_sections": true,
   "sideBar": true,
   "skip_h1_title": true,
   "title_cell": "Table of Contents",
   "title_sidebar": "Contents",
   "toc_cell": false,
   "toc_position": {},
   "toc_section_display": true,
   "toc_window_display": false
  },
  "varInspector": {
   "cols": {
    "lenName": 16,
    "lenType": 16,
    "lenVar": 40
   },
   "kernels_config": {
    "python": {
     "delete_cmd_postfix": "",
     "delete_cmd_prefix": "del ",
     "library": "var_list.py",
     "varRefreshCmd": "print(var_dic_list())"
    },
    "r": {
     "delete_cmd_postfix": ") ",
     "delete_cmd_prefix": "rm(",
     "library": "var_list.r",
     "varRefreshCmd": "cat(var_dic_list()) "
    }
   },
   "types_to_exclude": [
    "module",
    "function",
    "builtin_function_or_method",
    "instance",
    "_Feature"
   ],
   "window_display": false
  }
 },
 "nbformat": 4,
 "nbformat_minor": 4
}
