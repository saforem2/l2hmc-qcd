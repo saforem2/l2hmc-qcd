{
 "cells": [
  {
   "cell_type": "markdown",
   "metadata": {},
   "source": [
    "## Example script for training the L2HMC sampler"
   ]
  },
  {
   "cell_type": "markdown",
   "metadata": {},
   "source": [
    "## Imports / setup for training"
   ]
  },
  {
   "cell_type": "code",
   "execution_count": 1,
   "metadata": {
    "ExecuteTime": {
     "end_time": "2021-01-27T18:46:32.285951Z",
     "start_time": "2021-01-27T18:46:28.784437Z"
    }
   },
   "outputs": [
    {
     "name": "stdout",
     "output_type": "stream",
     "text": [
      "The autoreload extension is already loaded. To reload it, use:\n",
      "  %reload_ext autoreload\n"
     ]
    }
   ],
   "source": [
    "%load_ext autoreload\n",
    "%autoreload 2\n",
    "\n",
    "import logging\n",
    "import datetime\n",
    "import os\n",
    "import sys\n",
    "import time\n",
    "\n",
    "import matplotlib.pyplot as plt\n",
    "import numpy as np\n",
    "import pandas as pd\n",
    "import seaborn as sns\n",
    "try:\n",
    "    import horovod\n",
    "    import horovod.tensorflow as hvd\n",
    "    try:\n",
    "        RANK = hvd.rank()\n",
    "    except ValueError:\n",
    "        hvd.init()\n",
    "        \n",
    "    RANK = hvd.rank()\n",
    "    HAS_HOROVOD = True\n",
    "    logging.info(f'Using horovod version: {horovod.__version__}')\n",
    "    logging.info(f'Using horovod from: {horovod.__file__}')\n",
    "    GPUS = tf.config.experimental.list_physical_devices('GPU')\n",
    "    for gpu in GPUS:\n",
    "        tf.config.experimental.set_memory_growth(gpu, True)\n",
    "    if GPUS:\n",
    "        gpu = GPUS[hvd.local_rank()]\n",
    "        tf.config.experimental.set_visible_devices(gpu, 'GPU')\n",
    "except ImportError:\n",
    "    HAS_HOROVOD = False\n",
    "\n",
    "import tensorflow as tf\n",
    "from rich.console import Console\n",
    "from rich.theme import Theme\n",
    "from rich import print\n",
    "\n",
    "if os.path.abspath('..') not in sys.path:\n",
    "    sys.path.append(os.path.abspath('..'))\n",
    "    \n",
    "sns.set_palette('bright')\n",
    "\n",
    "plt.style.use('default')\n",
    "sns.set_context('talk')\n",
    "sns.set_style('whitegrid')\n",
    "sns.set_palette('bright')\n",
    "\n",
    "plt.rc('text', usetex=True)\n",
    "\n",
    "console = Console(theme=Theme({\"repr.number\": \"#ff79ff\"}),\n",
    "                  force_jupyter=True, \n",
    "                  width=300, log_time=True, log_time_format='[%X]')"
   ]
  },
  {
   "cell_type": "markdown",
   "metadata": {},
   "source": [
    "## Load configs from `BIN_DIR/train_configs.json`:"
   ]
  },
  {
   "cell_type": "code",
   "execution_count": 3,
   "metadata": {
    "ExecuteTime": {
     "end_time": "2021-01-27T18:47:25.308807Z",
     "start_time": "2021-01-27T18:47:25.214230Z"
    }
   },
   "outputs": [
    {
     "data": {
      "text/html": [
       "<pre style=\"white-space:pre;overflow-x:auto;line-height:normal;font-family:Menlo,'DejaVu Sans Mono',consolas,'Courier New',monospace\"><span style=\"color: #7fbfbf\">[12:47:25] </span><span style=\"font-weight: bold\">{</span>                                                                                                                                                                                                                                                               <span style=\"color: #7f7f7f\">&lt;ipython-input-3-5a9d1ddcce06&gt;:18</span>\n",
       "               <span style=\"color: #008000\">'log_dir'</span>: <span style=\"color: #800080; font-style: italic\">None</span>,                                                                                                                                                                                                                                                                             \n",
       "               <span style=\"color: #008000\">'debug'</span>: <span style=\"color: #00ff00; font-style: italic\">True</span>,                                                                                                                                                                                                                                                                               \n",
       "               <span style=\"color: #008000\">'profiler'</span>: <span style=\"color: #ff0000; font-style: italic\">False</span>,                                                                                                                                                                                                                                                                           \n",
       "               <span style=\"color: #008000\">'md_steps'</span>: <span style=\"color: #ff79ff\">50</span>,                                                                                                                                                                                                                                                                              \n",
       "               <span style=\"color: #008000\">'beta_init'</span>: <span style=\"color: #ff79ff\">1.0</span>,                                                                                                                                                                                                                                                                            \n",
       "               <span style=\"color: #008000\">'beta_final'</span>: <span style=\"color: #ff79ff\">1.0</span>,                                                                                                                                                                                                                                                                           \n",
       "               <span style=\"color: #008000\">'clip_val'</span>: <span style=\"color: #ff79ff\">0.0</span>,                                                                                                                                                                                                                                                                             \n",
       "               <span style=\"color: #008000\">'loss_scale'</span>: <span style=\"color: #ff79ff\">0.1</span>,                                                                                                                                                                                                                                                                           \n",
       "               <span style=\"color: #008000\">'hmc_steps'</span>: <span style=\"color: #ff79ff\">0</span>,                                                                                                                                                                                                                                                                              \n",
       "               <span style=\"color: #008000\">'print_steps'</span>: <span style=\"color: #ff79ff\">10</span>,                                                                                                                                                                                                                                                                           \n",
       "               <span style=\"color: #008000\">'logging_steps'</span>: <span style=\"color: #ff79ff\">20</span>,                                                                                                                                                                                                                                                                         \n",
       "               <span style=\"color: #008000\">'steps_per_epoch'</span>: <span style=\"color: #ff79ff\">10</span>,                                                                                                                                                                                                                                                                       \n",
       "               <span style=\"color: #008000\">'reduce_lr_factor'</span>: <span style=\"color: #ff79ff\">0.99</span>,                                                                                                                                                                                                                                                                    \n",
       "               <span style=\"color: #008000\">'patience'</span>: <span style=\"color: #ff79ff\">2</span>,                                                                                                                                                                                                                                                                               \n",
       "               <span style=\"color: #008000\">'min_lr'</span>: <span style=\"color: #ff79ff\">1e-05</span>,                                                                                                                                                                                                                                                                             \n",
       "               <span style=\"color: #008000\">'save_steps'</span>: <span style=\"color: #ff79ff\">100</span>,                                                                                                                                                                                                                                                                           \n",
       "               <span style=\"color: #008000\">'run_steps'</span>: <span style=\"color: #ff79ff\">1000</span>,                                                                                                                                                                                                                                                                           \n",
       "               <span style=\"color: #008000\">'train_steps'</span>: <span style=\"color: #ff79ff\">1000</span>,                                                                                                                                                                                                                                                                         \n",
       "               <span style=\"color: #008000\">'dynamics_config'</span>: <span style=\"font-weight: bold\">{</span>                                                                                                                                                                                                                                                                         \n",
       "                   <span style=\"color: #008000\">'verbose'</span>: <span style=\"color: #00ff00; font-style: italic\">True</span>,                                                                                                                                                                                                                                                                         \n",
       "                   <span style=\"color: #008000\">'eps'</span>: <span style=\"color: #ff79ff\">0.1</span>,                                                                                                                                                                                                                                                                              \n",
       "                   <span style=\"color: #008000\">'num_steps'</span>: <span style=\"color: #ff79ff\">5</span>,                                                                                                                                                                                                                                                                          \n",
       "                   <span style=\"color: #008000\">'hmc'</span>: <span style=\"color: #ff0000; font-style: italic\">False</span>,                                                                                                                                                                                                                                                                            \n",
       "                   <span style=\"color: #008000\">'use_ncp'</span>: <span style=\"color: #00ff00; font-style: italic\">True</span>,                                                                                                                                                                                                                                                                         \n",
       "                   <span style=\"color: #008000\">'eps_fixed'</span>: <span style=\"color: #ff0000; font-style: italic\">False</span>,                                                                                                                                                                                                                                                                      \n",
       "                   <span style=\"color: #008000\">'aux_weight'</span>: <span style=\"color: #ff79ff\">0.0</span>,                                                                                                                                                                                                                                                                       \n",
       "                   <span style=\"color: #008000\">'plaq_weight'</span>: <span style=\"color: #ff79ff\">0.0</span>,                                                                                                                                                                                                                                                                      \n",
       "                   <span style=\"color: #008000\">'charge_weight'</span>: <span style=\"color: #ff79ff\">0.01</span>,                                                                                                                                                                                                                                                                   \n",
       "                   <span style=\"color: #008000\">'zero_init'</span>: <span style=\"color: #ff0000; font-style: italic\">False</span>,                                                                                                                                                                                                                                                                      \n",
       "                   <span style=\"color: #008000\">'separate_networks'</span>: <span style=\"color: #00ff00; font-style: italic\">True</span>,                                                                                                                                                                                                                                                               \n",
       "                   <span style=\"color: #008000\">'use_conv_net'</span>: <span style=\"color: #ff0000; font-style: italic\">False</span>,                                                                                                                                                                                                                                                                   \n",
       "                   <span style=\"color: #008000\">'use_mixed_loss'</span>: <span style=\"color: #ff0000; font-style: italic\">False</span>,                                                                                                                                                                                                                                                                 \n",
       "                   <span style=\"color: #008000\">'directional_updates'</span>: <span style=\"color: #ff0000; font-style: italic\">False</span>,                                                                                                                                                                                                                                                            \n",
       "                   <span style=\"color: #008000\">'combined_updates'</span>: <span style=\"color: #ff0000; font-style: italic\">False</span>,                                                                                                                                                                                                                                                               \n",
       "                   <span style=\"color: #008000\">'use_scattered_xnet_update'</span>: <span style=\"color: #ff0000; font-style: italic\">False</span>,                                                                                                                                                                                                                                                      \n",
       "                   <span style=\"color: #008000\">'use_tempered_traj'</span>: <span style=\"color: #ff0000; font-style: italic\">False</span>,                                                                                                                                                                                                                                                              \n",
       "                   <span style=\"color: #008000\">'gauge_eq_masks'</span>: <span style=\"color: #ff0000; font-style: italic\">False</span>,                                                                                                                                                                                                                                                                 \n",
       "                   <span style=\"color: #008000\">'x_shape'</span>: <span style=\"font-weight: bold\">[</span><span style=\"color: #ff79ff\">256</span>, <span style=\"color: #ff79ff\">16</span>, <span style=\"color: #ff79ff\">16</span>, <span style=\"color: #ff79ff\">2</span><span style=\"font-weight: bold\">]</span>,                                                                                                                                                                                                                                                             \n",
       "                   <span style=\"color: #008000\">'log_dir'</span>: <span style=\"color: #800080; font-style: italic\">None</span>,                                                                                                                                                                                                                                                                         \n",
       "                   <span style=\"color: #008000\">'optimizer'</span>: <span style=\"color: #008000\">'Nadam'</span>                                                                                                                                                                                                                                                                     \n",
       "               <span style=\"font-weight: bold\">}</span>,                                                                                                                                                                                                                                                                                           \n",
       "               <span style=\"color: #008000\">'network_config'</span>: <span style=\"font-weight: bold\">{</span><span style=\"color: #008000\">'units'</span>: <span style=\"font-weight: bold\">[</span><span style=\"color: #ff79ff\">128</span>, <span style=\"color: #ff79ff\">128</span>, <span style=\"color: #ff79ff\">128</span><span style=\"font-weight: bold\">]</span>, <span style=\"color: #008000\">'activation_fn'</span>: <span style=\"color: #008000\">'swish'</span>, <span style=\"color: #008000\">'dropout_prob'</span>: <span style=\"color: #ff79ff\">0.1</span>, <span style=\"color: #008000\">'use_batch_norm'</span>: <span style=\"color: #00ff00; font-style: italic\">True</span><span style=\"font-weight: bold\">}</span>,                                                                                                                                                                         \n",
       "               <span style=\"color: #008000\">'lr_config'</span>: <span style=\"font-weight: bold\">{</span><span style=\"color: #008000\">'lr_init'</span>: <span style=\"color: #ff79ff\">0.001</span>, <span style=\"color: #008000\">'decay_rate'</span>: <span style=\"color: #ff79ff\">0.8</span>, <span style=\"color: #008000\">'decay_steps'</span>: <span style=\"color: #ff79ff\">10000</span>, <span style=\"color: #008000\">'warmup_steps'</span>: <span style=\"color: #ff79ff\">500</span><span style=\"font-weight: bold\">}</span>,                                                                                                                                                                                               \n",
       "               <span style=\"color: #008000\">'conv_config'</span>: <span style=\"font-weight: bold\">{</span><span style=\"color: #008000\">'filters'</span>: <span style=\"font-weight: bold\">[</span><span style=\"color: #ff79ff\">64</span>, <span style=\"color: #ff79ff\">32</span><span style=\"font-weight: bold\">]</span>, <span style=\"color: #008000\">'sizes'</span>: <span style=\"font-weight: bold\">[</span><span style=\"color: #ff79ff\">4</span>, <span style=\"color: #ff79ff\">2</span><span style=\"font-weight: bold\">]</span>, <span style=\"color: #008000\">'pool_sizes'</span>: <span style=\"font-weight: bold\">[</span><span style=\"color: #ff79ff\">2</span>, <span style=\"color: #ff79ff\">2</span><span style=\"font-weight: bold\">]</span>, <span style=\"color: #008000\">'conv_activations'</span>: <span style=\"font-weight: bold\">[</span><span style=\"color: #008000\">'relu'</span>, <span style=\"color: #008000\">'relu'</span><span style=\"font-weight: bold\">]</span>, <span style=\"color: #008000\">'conv_paddings'</span>: <span style=\"font-weight: bold\">[</span><span style=\"color: #008000\">'valid'</span>, <span style=\"color: #008000\">'valid'</span><span style=\"font-weight: bold\">]</span>, <span style=\"color: #008000\">'use_batch_norm'</span>: <span style=\"color: #00ff00; font-style: italic\">True</span><span style=\"font-weight: bold\">}</span>                                                                                                               \n",
       "           <span style=\"font-weight: bold\">}</span>                                                                                                                                                                                                                                                                                                \n",
       "</pre>\n"
      ],
      "text/plain": [
       "<rich.jupyter.JupyterRenderable at 0x7f880866b340>"
      ]
     },
     "metadata": {},
     "output_type": "display_data"
    }
   ],
   "source": [
    "import json\n",
    "from config import BIN_DIR\n",
    "\n",
    "train_configs_file = os.path.join(BIN_DIR, 'train_configs.json')\n",
    "with open(train_configs_file, 'rt') as f:\n",
    "    configs = json.load(f)\n",
    "    \n",
    "configs.update({\n",
    "    'train_steps': 1000,\n",
    "    'run_steps': 1000,\n",
    "    'save_steps': 100,\n",
    "    'logging_steps': 20,\n",
    "    'print_steps': 10,\n",
    "    'beta_init': 1.,\n",
    "    'beta_final': 1.,\n",
    "})\n",
    "\n",
    "console.log(configs)"
   ]
  },
  {
   "cell_type": "markdown",
   "metadata": {},
   "source": [
    "Get timestamp and create `log_dir` where everything will live"
   ]
  },
  {
   "cell_type": "code",
   "execution_count": 4,
   "metadata": {
    "ExecuteTime": {
     "end_time": "2021-01-27T18:47:35.645101Z",
     "start_time": "2021-01-27T18:47:35.497549Z"
    }
   },
   "outputs": [
    {
     "data": {
      "text/html": [
       "<pre style=\"white-space:pre;overflow-x:auto;line-height:normal;font-family:Menlo,'DejaVu Sans Mono',consolas,'Courier New',monospace\"><span style=\"color: #7fbfbf\">[12:47:35] </span>Creating directory: <span style=\"color: #800080\">/Users/saforem2/l2hmc-qcd/logs/GaugeModel_logs/test/2021_01/</span><span style=\"color: #ff00ff\">DEBUG_L16_b256_lf5_actswish_bi1_bf1_dp01_sepNets_NCProj</span>                                                                                                                                            <a href=\"file:///Users/saforem2/l2hmc-qcd/l2hmc-qcd/utils/file_io.py\"><span style=\"color: #7f7f7f\">file_io.py</span></a><span style=\"color: #7f7f7f\">:184</span>\n",
       "</pre>\n"
      ],
      "text/plain": [
       "<rich.jupyter.JupyterRenderable at 0x7f87b0cc80a0>"
      ]
     },
     "metadata": {},
     "output_type": "display_data"
    },
    {
     "data": {
      "text/html": [
       "<pre style=\"white-space:pre;overflow-x:auto;line-height:normal;font-family:Menlo,'DejaVu Sans Mono',consolas,'Courier New',monospace\"><span style=\"color: #7fbfbf\">           </span>Saving train_configs to <span style=\"color: #800080\">/Users/saforem2/l2hmc-qcd/logs/GaugeModel_logs/test/2021_01/DEBUG_L16_b256_lf5_actswish_bi1_bf1_dp01_sepNets_NCProj/</span><span style=\"color: #ff00ff\">train_configs.z.</span>                                                                                                                       <a href=\"file:///Users/saforem2/l2hmc-qcd/l2hmc-qcd/utils/file_io.py\"><span style=\"color: #7f7f7f\">file_io.py</span></a><span style=\"color: #7f7f7f\">:363</span>\n",
       "</pre>\n"
      ],
      "text/plain": [
       "<rich.jupyter.JupyterRenderable at 0x7f87b0cc8c40>"
      ]
     },
     "metadata": {},
     "output_type": "display_data"
    }
   ],
   "source": [
    "import utils.file_io as io\n",
    "from utils.attr_dict import AttrDict\n",
    "\n",
    "io.console = console\n",
    "\n",
    "# Keep history of `log_dir` for later reference\n",
    "log_file = os.path.join(os.getcwd(), 'log_dirs.txt')\n",
    "\n",
    "configs = AttrDict(configs)\n",
    "\n",
    "timestamps = AttrDict({\n",
    "    'month': io.get_timestamp('%Y_%m'),\n",
    "    'time': io.get_timestamp('%Y-%m-%d-%H%M%S'),\n",
    "    'hour': io.get_timestamp('%Y-%m-%d-%H'),\n",
    "    'minute': io.get_timestamp('%Y-%m-%d-%H%M'),\n",
    "    'second': io.get_timestamp('%Y-%m-%d-%H%M%S'),\n",
    "})\n",
    "\n",
    "log_dir = io.make_log_dir(configs, 'GaugeModel', log_file,\n",
    "                          timestamps=timestamps)\n",
    "configs.log_dir = log_dir\n",
    "io.write(f'{configs.log_dir}', log_file, 'a')"
   ]
  },
  {
   "cell_type": "markdown",
   "metadata": {},
   "source": [
    "To demonstrate everything is working correctly, we only train for `configs.train_steps = 100` training steps."
   ]
  },
  {
   "cell_type": "code",
   "execution_count": 7,
   "metadata": {
    "ExecuteTime": {
     "end_time": "2021-01-26T23:33:51.542119Z",
     "start_time": "2021-01-26T23:25:36.572809Z"
    },
    "scrolled": true
   },
   "outputs": [
    {
     "data": {
      "text/html": [
       "<pre style=\"white-space:pre;overflow-x:auto;line-height:normal;font-family:Menlo,'DejaVu Sans Mono',consolas,'Courier New',monospace\"><span style=\"color: #7fbfbf\">[17:25:37] </span>Creating directory: <span style=\"color: #800080\">/Users/saforem2/l2hmc-qcd/logs/GaugeModel_logs/test/2021_01/DEBUG_L16_b256_lf5_actswish_bi3_bf3_dp01_sepNets_NCProj-2021-01-26-1725/</span><span style=\"color: #ff00ff\">training</span>                                                                                                                   <a href=\"file:///Users/saforem2/l2hmc-qcd/l2hmc-qcd/utils/file_io.py\"><span style=\"color: #7f7f7f\">file_io.py</span></a><span style=\"color: #7f7f7f\">:184</span>\n",
       "</pre>\n"
      ],
      "text/plain": [
       "<rich.jupyter.JupyterRenderable at 0x7fd351584820>"
      ]
     },
     "metadata": {},
     "output_type": "display_data"
    },
    {
     "data": {
      "text/html": [
       "<pre style=\"white-space:pre;overflow-x:auto;line-height:normal;font-family:Menlo,'DejaVu Sans Mono',consolas,'Courier New',monospace\"><span style=\"color: #7fbfbf\">           </span>Creating directory: <span style=\"color: #800080\">/Users/saforem2/l2hmc-qcd/logs/GaugeModel_logs/test/2021_01/DEBUG_L16_b256_lf5_actswish_bi3_bf3_dp01_sepNets_NCProj-2021-01-26-1725/training/</span><span style=\"color: #ff00ff\">train_data</span>                                                                                                        <a href=\"file:///Users/saforem2/l2hmc-qcd/l2hmc-qcd/utils/file_io.py\"><span style=\"color: #7f7f7f\">file_io.py</span></a><span style=\"color: #7f7f7f\">:184</span>\n",
       "</pre>\n"
      ],
      "text/plain": [
       "<rich.jupyter.JupyterRenderable at 0x7fd351584730>"
      ]
     },
     "metadata": {},
     "output_type": "display_data"
    },
    {
     "data": {
      "text/html": [
       "<pre style=\"white-space:pre;overflow-x:auto;line-height:normal;font-family:Menlo,'DejaVu Sans Mono',consolas,'Courier New',monospace\"><span style=\"color: #7fbfbf\">           </span>Creating directory: <span style=\"color: #800080\">/Users/saforem2/l2hmc-qcd/logs/GaugeModel_logs/test/2021_01/DEBUG_L16_b256_lf5_actswish_bi3_bf3_dp01_sepNets_NCProj-2021-01-26-1725/training/</span><span style=\"color: #ff00ff\">models</span>                                                                                                            <a href=\"file:///Users/saforem2/l2hmc-qcd/l2hmc-qcd/utils/file_io.py\"><span style=\"color: #7f7f7f\">file_io.py</span></a><span style=\"color: #7f7f7f\">:184</span>\n",
       "</pre>\n"
      ],
      "text/plain": [
       "<rich.jupyter.JupyterRenderable at 0x7fd351584220>"
      ]
     },
     "metadata": {},
     "output_type": "display_data"
    },
    {
     "data": {
      "text/html": [
       "<pre style=\"white-space:pre;overflow-x:auto;line-height:normal;font-family:Menlo,'DejaVu Sans Mono',consolas,'Courier New',monospace\"><span style=\"color: #7fbfbf\">           </span>Creating directory: <span style=\"color: #800080\">/Users/saforem2/l2hmc-qcd/logs/GaugeModel_logs/test/2021_01/DEBUG_L16_b256_lf5_actswish_bi3_bf3_dp01_sepNets_NCProj-2021-01-26-1725/training/</span><span style=\"color: #ff00ff\">checkpoints</span>                                                                                                       <a href=\"file:///Users/saforem2/l2hmc-qcd/l2hmc-qcd/utils/file_io.py\"><span style=\"color: #7f7f7f\">file_io.py</span></a><span style=\"color: #7f7f7f\">:184</span>\n",
       "</pre>\n"
      ],
      "text/plain": [
       "<rich.jupyter.JupyterRenderable at 0x7fd351584790>"
      ]
     },
     "metadata": {},
     "output_type": "display_data"
    },
    {
     "data": {
      "text/html": [
       "<pre style=\"white-space:pre;overflow-x:auto;line-height:normal;font-family:Menlo,'DejaVu Sans Mono',consolas,'Courier New',monospace\"><span style=\"color: #7fbfbf\">           </span>Creating directory: <span style=\"color: #800080\">/Users/saforem2/l2hmc-qcd/logs/GaugeModel_logs/test/2021_01/DEBUG_L16_b256_lf5_actswish_bi3_bf3_dp01_sepNets_NCProj-2021-01-26-1725/training/</span><span style=\"color: #ff00ff\">summaries</span>                                                                                                         <a href=\"file:///Users/saforem2/l2hmc-qcd/l2hmc-qcd/utils/file_io.py\"><span style=\"color: #7f7f7f\">file_io.py</span></a><span style=\"color: #7f7f7f\">:184</span>\n",
       "</pre>\n"
      ],
      "text/plain": [
       "<rich.jupyter.JupyterRenderable at 0x7fd351584a60>"
      ]
     },
     "metadata": {},
     "output_type": "display_data"
    },
    {
     "data": {
      "text/html": [
       "<pre style=\"white-space:pre;overflow-x:auto;line-height:normal;font-family:Menlo,'DejaVu Sans Mono',consolas,'Courier New',monospace\"><span style=\"color: #7fbfbf\">           </span>Creating directory: <span style=\"color: #800080\">/Users/saforem2/l2hmc-qcd/logs/GaugeModel_logs/test/2021_01/DEBUG_L16_b256_lf5_actswish_bi3_bf3_dp01_sepNets_NCProj-2021-01-26-1725/training/</span><span style=\"color: #ff00ff\">dynamics_configs</span>                                                                                                  <a href=\"file:///Users/saforem2/l2hmc-qcd/l2hmc-qcd/utils/file_io.py\"><span style=\"color: #7f7f7f\">file_io.py</span></a><span style=\"color: #7f7f7f\">:184</span>\n",
       "</pre>\n"
      ],
      "text/plain": [
       "<rich.jupyter.JupyterRenderable at 0x7fd351584820>"
      ]
     },
     "metadata": {},
     "output_type": "display_data"
    },
    {
     "data": {
      "text/html": [
       "<pre style=\"white-space:pre;overflow-x:auto;line-height:normal;font-family:Menlo,'DejaVu Sans Mono',consolas,'Courier New',monospace\"><span style=\"color: #7fbfbf\">           </span>Saving FLAGS to <span style=\"color: #800080\">/Users/saforem2/l2hmc-qcd/logs/GaugeModel_logs/test/2021_01/DEBUG_L16_b256_lf5_actswish_bi3_bf3_dp01_sepNets_NCProj-2021-01-26-1725/training/</span><span style=\"color: #ff00ff\">FLAGS.z.</span>                                                                                                              <a href=\"file:///Users/saforem2/l2hmc-qcd/l2hmc-qcd/utils/file_io.py\"><span style=\"color: #7f7f7f\">file_io.py</span></a><span style=\"color: #7f7f7f\">:363</span>\n",
       "</pre>\n"
      ],
      "text/plain": [
       "<rich.jupyter.JupyterRenderable at 0x7fd351584a30>"
      ]
     },
     "metadata": {},
     "output_type": "display_data"
    },
    {
     "data": {
      "text/html": [
       "<pre style=\"white-space:pre;overflow-x:auto;line-height:normal;font-family:Menlo,'DejaVu Sans Mono',consolas,'Courier New',monospace\"><span style=\"color: #7fbfbf\">           </span>Using separate <span style=\"font-weight: bold\">(</span>x, v<span style=\"font-weight: bold\">)</span>-networks for each LF step!!                                                                                                                                                                                                                                  <a href=\"file:///Users/saforem2/l2hmc-qcd/l2hmc-qcd/utils/file_io.py\"><span style=\"color: #7f7f7f\">file_io.py</span></a><span style=\"color: #7f7f7f\">:184</span>\n",
       "</pre>\n"
      ],
      "text/plain": [
       "<rich.jupyter.JupyterRenderable at 0x7fd3194bb220>"
      ]
     },
     "metadata": {},
     "output_type": "display_data"
    },
    {
     "data": {
      "text/html": [
       "<pre style=\"white-space:pre;overflow-x:auto;line-height:normal;font-family:Menlo,'DejaVu Sans Mono',consolas,'Courier New',monospace\"><span style=\"color: #7fbfbf\">[17:25:38] </span>Saving dynamics_config to <span style=\"color: #800080\">/Users/saforem2/l2hmc-qcd/logs/GaugeModel_logs/test/2021_01/DEBUG_L16_b256_lf5_actswish_bi3_bf3_dp01_sepNets_NCProj-2021-01-26-1725/training/dynamics_configs/</span><span style=\"color: #ff00ff\">dynamics_config.z.</span>                                                                         <a href=\"file:///Users/saforem2/l2hmc-qcd/l2hmc-qcd/utils/file_io.py\"><span style=\"color: #7f7f7f\">file_io.py</span></a><span style=\"color: #7f7f7f\">:363</span>\n",
       "</pre>\n"
      ],
      "text/plain": [
       "<rich.jupyter.JupyterRenderable at 0x7fd3011454c0>"
      ]
     },
     "metadata": {},
     "output_type": "display_data"
    },
    {
     "data": {
      "text/html": [
       "<pre style=\"white-space:pre;overflow-x:auto;line-height:normal;font-family:Menlo,'DejaVu Sans Mono',consolas,'Courier New',monospace\"><span style=\"color: #7fbfbf\">           </span>Saving network_config to <span style=\"color: #800080\">/Users/saforem2/l2hmc-qcd/logs/GaugeModel_logs/test/2021_01/DEBUG_L16_b256_lf5_actswish_bi3_bf3_dp01_sepNets_NCProj-2021-01-26-1725/training/dynamics_configs/</span><span style=\"color: #ff00ff\">network_config.z.</span>                                                                           <a href=\"file:///Users/saforem2/l2hmc-qcd/l2hmc-qcd/utils/file_io.py\"><span style=\"color: #7f7f7f\">file_io.py</span></a><span style=\"color: #7f7f7f\">:363</span>\n",
       "</pre>\n"
      ],
      "text/plain": [
       "<rich.jupyter.JupyterRenderable at 0x7fd3011452e0>"
      ]
     },
     "metadata": {},
     "output_type": "display_data"
    },
    {
     "data": {
      "text/html": [
       "<pre style=\"white-space:pre;overflow-x:auto;line-height:normal;font-family:Menlo,'DejaVu Sans Mono',consolas,'Courier New',monospace\"><span style=\"color: #7fbfbf\">           </span>Saving lr_config to <span style=\"color: #800080\">/Users/saforem2/l2hmc-qcd/logs/GaugeModel_logs/test/2021_01/DEBUG_L16_b256_lf5_actswish_bi3_bf3_dp01_sepNets_NCProj-2021-01-26-1725/training/dynamics_configs/</span><span style=\"color: #ff00ff\">lr_config.z.</span>                                                                                     <a href=\"file:///Users/saforem2/l2hmc-qcd/l2hmc-qcd/utils/file_io.py\"><span style=\"color: #7f7f7f\">file_io.py</span></a><span style=\"color: #7f7f7f\">:363</span>\n",
       "</pre>\n"
      ],
      "text/plain": [
       "<rich.jupyter.JupyterRenderable at 0x7fd301145d30>"
      ]
     },
     "metadata": {},
     "output_type": "display_data"
    },
    {
     "data": {
      "text/html": [
       "<pre style=\"white-space:pre;overflow-x:auto;line-height:normal;font-family:Menlo,'DejaVu Sans Mono',consolas,'Courier New',monospace\"><span style=\"color: #7fbfbf\">           </span>Saving dynamics_params to <span style=\"color: #800080\">/Users/saforem2/l2hmc-qcd/logs/GaugeModel_logs/test/2021_01/DEBUG_L16_b256_lf5_actswish_bi3_bf3_dp01_sepNets_NCProj-2021-01-26-1725/training/dynamics_configs/</span><span style=\"color: #ff00ff\">dynamics_params.z.</span>                                                                         <a href=\"file:///Users/saforem2/l2hmc-qcd/l2hmc-qcd/utils/file_io.py\"><span style=\"color: #7f7f7f\">file_io.py</span></a><span style=\"color: #7f7f7f\">:363</span>\n",
       "</pre>\n"
      ],
      "text/plain": [
       "<rich.jupyter.JupyterRenderable at 0x7fd3011761c0>"
      ]
     },
     "metadata": {},
     "output_type": "display_data"
    },
    {
     "data": {
      "text/html": [
       "<pre style=\"white-space:pre;overflow-x:auto;line-height:normal;font-family:Menlo,'DejaVu Sans Mono',consolas,'Courier New',monospace\"><span style=\"color: #7fbfbf\">           </span>Saving config to <span style=\"color: #800080\">/Users/saforem2/l2hmc-qcd/logs/GaugeModel_logs/test/2021_01/DEBUG_L16_b256_lf5_actswish_bi3_bf3_dp01_sepNets_NCProj-2021-01-26-1725/training/dynamics_configs/</span><span style=\"color: #ff00ff\">config.z.</span>                                                                                           <a href=\"file:///Users/saforem2/l2hmc-qcd/l2hmc-qcd/utils/file_io.py\"><span style=\"color: #7f7f7f\">file_io.py</span></a><span style=\"color: #7f7f7f\">:363</span>\n",
       "</pre>\n"
      ],
      "text/plain": [
       "<rich.jupyter.JupyterRenderable at 0x7fd301176610>"
      ]
     },
     "metadata": {},
     "output_type": "display_data"
    },
    {
     "data": {
      "text/html": [
       "<pre style=\"white-space:pre;overflow-x:auto;line-height:normal;font-family:Menlo,'DejaVu Sans Mono',consolas,'Courier New',monospace\"><span style=\"color: #7fbfbf\">           </span>Unable to save to `.json` file. Continuing<span style=\"color: #808000\">...</span>                                                                                                                                                                                                                                      <a href=\"file:///Users/saforem2/l2hmc-qcd/l2hmc-qcd/utils/file_io.py\"><span style=\"color: #7f7f7f\">file_io.py</span></a><span style=\"color: #7f7f7f\">:184</span>\n",
       "</pre>\n"
      ],
      "text/plain": [
       "<rich.jupyter.JupyterRenderable at 0x7fd301176bb0>"
      ]
     },
     "metadata": {},
     "output_type": "display_data"
    },
    {
     "data": {
      "text/html": [
       "<pre style=\"white-space:pre;overflow-x:auto;line-height:normal;font-family:Menlo,'DejaVu Sans Mono',consolas,'Courier New',monospace\"><span style=\"color: #00ff00\">─────────────────────────────────────────────────────────────────────────────────────────────────────────────────────────────────────── </span><span style=\"font-weight: bold\">[</span><span style=\"color: #ff79ff\">2021</span>-<span style=\"color: #ff79ff\">01</span>-<span style=\"color: #ff79ff\">26</span> <span style=\"color: #00ff00; font-weight: bold\">17:25</span><span style=\"font-weight: bold\">]</span> TRAINING<span style=\"color: #00ff00\"> ────────────────────────────────────────────────────────────────────────────────────────────────────────────────────────────────────────</span>\n",
       "</pre>\n"
      ],
      "text/plain": [
       "<rich.jupyter.JupyterRenderable at 0x7fd321024a90>"
      ]
     },
     "metadata": {},
     "output_type": "display_data"
    },
    {
     "data": {
      "text/html": [
       "<pre style=\"white-space:pre;overflow-x:auto;line-height:normal;font-family:Menlo,'DejaVu Sans Mono',consolas,'Courier New',monospace\"><span style=\"color: #7fbfbf\">           </span>Starting new training run<span style=\"color: #808000\">...</span>                                                                                                                                                                                                                                                       <a href=\"file:///Users/saforem2/l2hmc-qcd/l2hmc-qcd/utils/file_io.py\"><span style=\"color: #7f7f7f\">file_io.py</span></a><span style=\"color: #7f7f7f\">:184</span>\n",
       "</pre>\n"
      ],
      "text/plain": [
       "<rich.jupyter.JupyterRenderable at 0x7fd301176be0>"
      ]
     },
     "metadata": {},
     "output_type": "display_data"
    },
    {
     "name": "stdout",
     "output_type": "stream",
     "text": [
      "('Failed to import pydot. You must `pip install pydot` and install graphviz (https://graphviz.gitlab.io/download/), ', 'for `pydotprint` to work.')\n",
      "('Failed to import pydot. You must `pip install pydot` and install graphviz (https://graphviz.gitlab.io/download/), ', 'for `pydotprint` to work.')\n"
     ]
    },
    {
     "data": {
      "text/html": [
       "<pre style=\"white-space:pre;overflow-x:auto;line-height:normal;font-family:Menlo,'DejaVu Sans Mono',consolas,'Courier New',monospace\"><span style=\"color: #00ff00\">───────────────────────────────────────────────────────────────────────────────────────────────────────────────────────────────── </span><span style=\"font-weight: bold\">[</span><span style=\"color: #ff79ff\">2021</span>-<span style=\"color: #ff79ff\">01</span>-<span style=\"color: #ff79ff\">26</span> <span style=\"color: #00ff00; font-weight: bold\">17:26</span><span style=\"font-weight: bold\">]</span> Running <span style=\"color: #ff79ff\">50</span> MD updates<span style=\"color: #00ff00\"> ─────────────────────────────────────────────────────────────────────────────────────────────────────────────────────────────────</span>\n",
       "</pre>\n"
      ],
      "text/plain": [
       "<rich.jupyter.JupyterRenderable at 0x7fd2e156ab80>"
      ]
     },
     "metadata": {},
     "output_type": "display_data"
    },
    {
     "data": {
      "text/html": [
       "<pre style=\"white-space:pre;overflow-x:auto;line-height:normal;font-family:Menlo,'DejaVu Sans Mono',consolas,'Courier New',monospace\"><span style=\"color: #00ff00\">───────────────────────────────────────────────────────────────────────────────────────────────────────────────────────────────────────── </span><span style=\"font-weight: bold\">[</span><span style=\"color: #ff79ff\">2021</span>-<span style=\"color: #ff79ff\">01</span>-<span style=\"color: #ff79ff\">26</span> <span style=\"color: #00ff00; font-weight: bold\">17:27</span><span style=\"font-weight: bold\">]</span> done!<span style=\"color: #00ff00\"> ─────────────────────────────────────────────────────────────────────────────────────────────────────────────────────────────────────────</span>\n",
       "</pre>\n"
      ],
      "text/plain": [
       "<rich.jupyter.JupyterRenderable at 0x7fd300ecd9d0>"
      ]
     },
     "metadata": {},
     "output_type": "display_data"
    },
    {
     "data": {
      "text/html": [
       "<pre style=\"white-space:pre;overflow-x:auto;line-height:normal;font-family:Menlo,'DejaVu Sans Mono',consolas,'Courier New',monospace\"><span style=\"color: #7fbfbf\">[17:27:30] </span>step:     <span style=\"color: #ff79ff\">0</span>/<span style=\"color: #ff79ff\">100</span>   dt: <span style=\"color: #ff79ff\">0.301</span> loss:   <span style=\"color: #ff79ff\">-16</span> accept_prob: <span style=\"color: #ff79ff\">0.701</span> beta:     <span style=\"color: #ff79ff\">3</span> xeps_start: <span style=\"color: #ff79ff\">0.102</span> xeps_mid: <span style=\"color: #ff79ff\">0.102</span> xeps_end: <span style=\"color: #ff79ff\">0.102</span> veps_start: <span style=\"color: #ff79ff\">0.102</span> veps_mid: <span style=\"color: #ff79ff\">0.102</span> veps_end: <span style=\"color: #ff79ff\">0.101</span> accept_probf_start: <span style=\"color: #ff79ff\">0.689</span> accept_probf_mid:     <span style=\"color: #ff79ff\">1</span> accept_probf_end:     <span style=\"color: #ff79ff\">1</span> accept_probb_start:     <span style=\"color: #ff79ff\">1</span>     <a href=\"file:///Users/saforem2/l2hmc-qcd/l2hmc-qcd/utils/file_io.py\"><span style=\"color: #7f7f7f\">file_io.py</span></a><span style=\"color: #7f7f7f\">:184</span>\n",
       "           accept_probb_mid:  <span style=\"color: #ff79ff\">0.33</span> accept_probb_end: <span style=\"color: #ff79ff\">0.0253</span> Hwf:   <span style=\"color: #ff79ff\">409</span> Hwf_start:   <span style=\"color: #ff79ff\">408</span> Hwf_mid:   <span style=\"color: #ff79ff\">408</span> Hwf_end:   <span style=\"color: #ff79ff\">409</span> Hwb:   <span style=\"color: #ff79ff\">409</span> Hwb_start:   <span style=\"color: #ff79ff\">409</span> Hwb_mid:   <span style=\"color: #ff79ff\">409</span> Hwb_end:   <span style=\"color: #ff79ff\">409</span> plaqsf_start: <span style=\"color: #ff79ff\">0.00773</span> plaqsf_mid: <span style=\"color: #ff79ff\">0.00755</span> plaqsf_end: <span style=\"color: #ff79ff\">0.00679</span> plaqsb_start: <span style=\"color: #ff79ff\">0.00773</span> plaqsb_mid: <span style=\"color: #ff79ff\">0.00724</span>                     \n",
       "           plaqsb_end: <span style=\"color: #ff79ff\">0.0075</span> p4x4f: <span style=\"color: #ff79ff\">0.0344</span> p4x4f_start: <span style=\"color: #ff79ff\">0.0357</span> p4x4f_mid: <span style=\"color: #ff79ff\">0.0339</span> p4x4f_end: <span style=\"color: #ff79ff\">0.0347</span> p4x4b: <span style=\"color: #ff79ff\">0.0348</span> p4x4b_start: <span style=\"color: #ff79ff\">0.0357</span> p4x4b_mid: <span style=\"color: #ff79ff\">0.0356</span> p4x4b_end: <span style=\"color: #ff79ff\">0.0332</span> dq_int: <span style=\"color: #ff79ff\">0.215</span> dq_sin: <span style=\"color: #ff79ff\">0.274</span> plaqs: <span style=\"color: #ff79ff\">0.00535</span> p4x4: <span style=\"color: #ff79ff\">0.0371</span>                                                                           \n",
       "</pre>\n"
      ],
      "text/plain": [
       "<rich.jupyter.JupyterRenderable at 0x7fd320de20d0>"
      ]
     },
     "metadata": {},
     "output_type": "display_data"
    },
    {
     "data": {
      "text/html": [
       "<pre style=\"white-space:pre;overflow-x:auto;line-height:normal;font-family:Menlo,'DejaVu Sans Mono',consolas,'Courier New',monospace\"><span style=\"color: #7fbfbf\">[17:27:36] </span>step:     <span style=\"color: #ff79ff\">1</span>/<span style=\"color: #ff79ff\">100</span>   dt: <span style=\"color: #ff79ff\">0.308</span> loss: <span style=\"color: #ff79ff\">-18.5</span> accept_prob: <span style=\"color: #ff79ff\">0.678</span> beta:     <span style=\"color: #ff79ff\">3</span> dq_int: <span style=\"color: #ff79ff\">0.242</span> dq_sin: <span style=\"color: #ff79ff\">0.288</span> plaqs: <span style=\"color: #ff79ff\">0.00453</span> p4x4: <span style=\"color: #ff79ff\">0.0323</span>                                                                                                                                                     <a href=\"file:///Users/saforem2/l2hmc-qcd/l2hmc-qcd/utils/file_io.py\"><span style=\"color: #7f7f7f\">file_io.py</span></a><span style=\"color: #7f7f7f\">:184</span>\n",
       "</pre>\n"
      ],
      "text/plain": [
       "<rich.jupyter.JupyterRenderable at 0x7fd2f146f040>"
      ]
     },
     "metadata": {},
     "output_type": "display_data"
    },
    {
     "data": {
      "text/html": [
       "<pre style=\"white-space:pre;overflow-x:auto;line-height:normal;font-family:Menlo,'DejaVu Sans Mono',consolas,'Courier New',monospace\"><span style=\"color: #7fbfbf\">           </span>step:     <span style=\"color: #ff79ff\">2</span>/<span style=\"color: #ff79ff\">100</span>   dt: <span style=\"color: #ff79ff\">0.346</span> loss: <span style=\"color: #ff79ff\">-16.8</span> accept_prob: <span style=\"color: #ff79ff\">0.612</span> beta:     <span style=\"color: #ff79ff\">3</span> dq_int:  <span style=\"color: #ff79ff\">0.18</span> dq_sin: <span style=\"color: #ff79ff\">0.279</span> plaqs: <span style=\"color: #ff79ff\">0.00338</span> p4x4: <span style=\"color: #ff79ff\">0.0359</span>                                                                                                                                                     <a href=\"file:///Users/saforem2/l2hmc-qcd/l2hmc-qcd/utils/file_io.py\"><span style=\"color: #7f7f7f\">file_io.py</span></a><span style=\"color: #7f7f7f\">:184</span>\n",
       "</pre>\n"
      ],
      "text/plain": [
       "<rich.jupyter.JupyterRenderable at 0x7fd2f1478f40>"
      ]
     },
     "metadata": {},
     "output_type": "display_data"
    },
    {
     "data": {
      "text/html": [
       "<pre style=\"white-space:pre;overflow-x:auto;line-height:normal;font-family:Menlo,'DejaVu Sans Mono',consolas,'Courier New',monospace\"><span style=\"color: #7fbfbf\">           </span>step:     <span style=\"color: #ff79ff\">3</span>/<span style=\"color: #ff79ff\">100</span>   dt: <span style=\"color: #ff79ff\">0.343</span> loss: <span style=\"color: #ff79ff\">-13.5</span> accept_prob: <span style=\"color: #ff79ff\">0.593</span> beta:     <span style=\"color: #ff79ff\">3</span> dq_int: <span style=\"color: #ff79ff\">0.148</span> dq_sin: <span style=\"color: #ff79ff\">0.218</span> plaqs: <span style=\"color: #ff79ff\">0.00281</span> p4x4: <span style=\"color: #ff79ff\">0.0337</span>                                                                                                                                                     <a href=\"file:///Users/saforem2/l2hmc-qcd/l2hmc-qcd/utils/file_io.py\"><span style=\"color: #7f7f7f\">file_io.py</span></a><span style=\"color: #7f7f7f\">:184</span>\n",
       "</pre>\n"
      ],
      "text/plain": [
       "<rich.jupyter.JupyterRenderable at 0x7fd2f1482d30>"
      ]
     },
     "metadata": {},
     "output_type": "display_data"
    },
    {
     "data": {
      "text/html": [
       "<pre style=\"white-space:pre;overflow-x:auto;line-height:normal;font-family:Menlo,'DejaVu Sans Mono',consolas,'Courier New',monospace\"><span style=\"color: #7fbfbf\">[17:27:37] </span>step:     <span style=\"color: #ff79ff\">4</span>/<span style=\"color: #ff79ff\">100</span>   dt: <span style=\"color: #ff79ff\">0.323</span> loss: <span style=\"color: #ff79ff\">-13.9</span> accept_prob: <span style=\"color: #ff79ff\">0.541</span> beta:     <span style=\"color: #ff79ff\">3</span> dq_int: <span style=\"color: #ff79ff\">0.164</span> dq_sin: <span style=\"color: #ff79ff\">0.216</span> plaqs: <span style=\"color: #ff79ff\">0.00222</span> p4x4: <span style=\"color: #ff79ff\">0.0349</span>                                                                                                                                                     <a href=\"file:///Users/saforem2/l2hmc-qcd/l2hmc-qcd/utils/file_io.py\"><span style=\"color: #7f7f7f\">file_io.py</span></a><span style=\"color: #7f7f7f\">:184</span>\n",
       "</pre>\n"
      ],
      "text/plain": [
       "<rich.jupyter.JupyterRenderable at 0x7fd352928eb0>"
      ]
     },
     "metadata": {},
     "output_type": "display_data"
    },
    {
     "data": {
      "text/html": [
       "<pre style=\"white-space:pre;overflow-x:auto;line-height:normal;font-family:Menlo,'DejaVu Sans Mono',consolas,'Courier New',monospace\"><span style=\"color: #7fbfbf\">           </span>step:     <span style=\"color: #ff79ff\">5</span>/<span style=\"color: #ff79ff\">100</span>   dt: <span style=\"color: #ff79ff\">0.318</span> loss: <span style=\"color: #ff79ff\">-13.4</span> accept_prob: <span style=\"color: #ff79ff\">0.525</span> beta:     <span style=\"color: #ff79ff\">3</span> dq_int: <span style=\"color: #ff79ff\">0.184</span> dq_sin: <span style=\"color: #ff79ff\">0.215</span> plaqs: <span style=\"color: #ff79ff\">0.00183</span> p4x4: <span style=\"color: #ff79ff\">0.0326</span>                                                                                                                                                     <a href=\"file:///Users/saforem2/l2hmc-qcd/l2hmc-qcd/utils/file_io.py\"><span style=\"color: #7f7f7f\">file_io.py</span></a><span style=\"color: #7f7f7f\">:184</span>\n",
       "</pre>\n"
      ],
      "text/plain": [
       "<rich.jupyter.JupyterRenderable at 0x7fd2f148cb80>"
      ]
     },
     "metadata": {},
     "output_type": "display_data"
    },
    {
     "data": {
      "text/html": [
       "<pre style=\"white-space:pre;overflow-x:auto;line-height:normal;font-family:Menlo,'DejaVu Sans Mono',consolas,'Courier New',monospace\"><span style=\"color: #7fbfbf\">           </span>step:     <span style=\"color: #ff79ff\">6</span>/<span style=\"color: #ff79ff\">100</span>   dt: <span style=\"color: #ff79ff\">0.326</span> loss: <span style=\"color: #ff79ff\">-14.1</span> accept_prob: <span style=\"color: #ff79ff\">0.525</span> beta:     <span style=\"color: #ff79ff\">3</span> dq_int: <span style=\"color: #ff79ff\">0.152</span> dq_sin: <span style=\"color: #ff79ff\">0.193</span> plaqs: <span style=\"color: #ff79ff\">0.000295</span> p4x4: <span style=\"color: #ff79ff\">0.0277</span>                                                                                                                                                    <a href=\"file:///Users/saforem2/l2hmc-qcd/l2hmc-qcd/utils/file_io.py\"><span style=\"color: #7f7f7f\">file_io.py</span></a><span style=\"color: #7f7f7f\">:184</span>\n",
       "</pre>\n"
      ],
      "text/plain": [
       "<rich.jupyter.JupyterRenderable at 0x7fd2f1478e20>"
      ]
     },
     "metadata": {},
     "output_type": "display_data"
    },
    {
     "data": {
      "text/html": [
       "<pre style=\"white-space:pre;overflow-x:auto;line-height:normal;font-family:Menlo,'DejaVu Sans Mono',consolas,'Courier New',monospace\"><span style=\"color: #7fbfbf\">[17:27:38] </span>step:     <span style=\"color: #ff79ff\">7</span>/<span style=\"color: #ff79ff\">100</span>   dt: <span style=\"color: #ff79ff\">0.319</span> loss:   <span style=\"color: #ff79ff\">-12</span> accept_prob: <span style=\"color: #ff79ff\">0.501</span> beta:     <span style=\"color: #ff79ff\">3</span> dq_int: <span style=\"color: #ff79ff\">0.168</span> dq_sin: <span style=\"color: #ff79ff\">0.197</span> plaqs: <span style=\"color: #ff79ff\">0.000276</span> p4x4: <span style=\"color: #ff79ff\">0.0276</span>                                                                                                                                                    <a href=\"file:///Users/saforem2/l2hmc-qcd/l2hmc-qcd/utils/file_io.py\"><span style=\"color: #7f7f7f\">file_io.py</span></a><span style=\"color: #7f7f7f\">:184</span>\n",
       "</pre>\n"
      ],
      "text/plain": [
       "<rich.jupyter.JupyterRenderable at 0x7fd2f1618a00>"
      ]
     },
     "metadata": {},
     "output_type": "display_data"
    },
    {
     "data": {
      "text/html": [
       "<pre style=\"white-space:pre;overflow-x:auto;line-height:normal;font-family:Menlo,'DejaVu Sans Mono',consolas,'Courier New',monospace\"><span style=\"color: #7fbfbf\">           </span>step:     <span style=\"color: #ff79ff\">8</span>/<span style=\"color: #ff79ff\">100</span>   dt: <span style=\"color: #ff79ff\">0.298</span> loss: <span style=\"color: #ff79ff\">-9.54</span> accept_prob: <span style=\"color: #ff79ff\">0.492</span> beta:     <span style=\"color: #ff79ff\">3</span> dq_int: <span style=\"color: #ff79ff\">0.133</span> dq_sin: <span style=\"color: #ff79ff\">0.167</span> plaqs: <span style=\"color: #ff79ff\">-0.000755</span> p4x4: <span style=\"color: #ff79ff\">0.0287</span>                                                                                                                                                   <a href=\"file:///Users/saforem2/l2hmc-qcd/l2hmc-qcd/utils/file_io.py\"><span style=\"color: #7f7f7f\">file_io.py</span></a><span style=\"color: #7f7f7f\">:184</span>\n",
       "</pre>\n"
      ],
      "text/plain": [
       "<rich.jupyter.JupyterRenderable at 0x7fd2f148cc70>"
      ]
     },
     "metadata": {},
     "output_type": "display_data"
    },
    {
     "data": {
      "text/html": [
       "<pre style=\"white-space:pre;overflow-x:auto;line-height:normal;font-family:Menlo,'DejaVu Sans Mono',consolas,'Courier New',monospace\"><span style=\"color: #7fbfbf\">           </span>step:     <span style=\"color: #ff79ff\">9</span>/<span style=\"color: #ff79ff\">100</span>   dt: <span style=\"color: #ff79ff\">0.298</span> loss: <span style=\"color: #ff79ff\">-9.24</span> accept_prob: <span style=\"color: #ff79ff\">0.407</span> beta:     <span style=\"color: #ff79ff\">3</span> dq_int: <span style=\"color: #ff79ff\">0.125</span> dq_sin: <span style=\"color: #ff79ff\">0.146</span> plaqs: <span style=\"color: #ff79ff\">-0.000283</span> p4x4: <span style=\"color: #ff79ff\">0.0281</span>                                                                                                                                                   <a href=\"file:///Users/saforem2/l2hmc-qcd/l2hmc-qcd/utils/file_io.py\"><span style=\"color: #7f7f7f\">file_io.py</span></a><span style=\"color: #7f7f7f\">:184</span>\n",
       "</pre>\n"
      ],
      "text/plain": [
       "<rich.jupyter.JupyterRenderable at 0x7fd2f14784c0>"
      ]
     },
     "metadata": {},
     "output_type": "display_data"
    },
    {
     "data": {
      "text/html": [
       "<pre style=\"white-space:pre;overflow-x:auto;line-height:normal;font-family:Menlo,'DejaVu Sans Mono',consolas,'Courier New',monospace\"><span style=\"color: #7fbfbf\">[17:27:39] </span>step:    <span style=\"color: #ff79ff\">10</span>/<span style=\"color: #ff79ff\">100</span>   dt: <span style=\"color: #ff79ff\">0.303</span> loss: <span style=\"color: #ff79ff\">-10.8</span> accept_prob: <span style=\"color: #ff79ff\">0.419</span> beta:     <span style=\"color: #ff79ff\">3</span> dq_int: <span style=\"color: #ff79ff\">0.133</span> dq_sin: <span style=\"color: #ff79ff\">0.168</span> plaqs: <span style=\"color: #ff79ff\">-0.00025</span> p4x4: <span style=\"color: #ff79ff\">0.0313</span>                                                                                                                                                    <a href=\"file:///Users/saforem2/l2hmc-qcd/l2hmc-qcd/utils/file_io.py\"><span style=\"color: #7f7f7f\">file_io.py</span></a><span style=\"color: #7f7f7f\">:184</span>\n",
       "</pre>\n"
      ],
      "text/plain": [
       "<rich.jupyter.JupyterRenderable at 0x7fd2f1623730>"
      ]
     },
     "metadata": {},
     "output_type": "display_data"
    },
    {
     "data": {
      "text/html": [
       "<pre style=\"white-space:pre;overflow-x:auto;line-height:normal;font-family:Menlo,'DejaVu Sans Mono',consolas,'Courier New',monospace\"><span style=\"color: #7fbfbf\">[17:27:45] </span>step:    <span style=\"color: #ff79ff\">11</span>/<span style=\"color: #ff79ff\">100</span>   dt:   <span style=\"color: #ff79ff\">0.3</span> loss: <span style=\"color: #ff79ff\">-10.7</span> accept_prob: <span style=\"color: #ff79ff\">0.462</span> beta:     <span style=\"color: #ff79ff\">3</span> dq_int: <span style=\"color: #ff79ff\">0.125</span> dq_sin: <span style=\"color: #ff79ff\">0.178</span> plaqs: <span style=\"color: #ff79ff\">-9.74e-05</span> p4x4: <span style=\"color: #ff79ff\">0.0328</span>                                                                                                                                                   <a href=\"file:///Users/saforem2/l2hmc-qcd/l2hmc-qcd/utils/file_io.py\"><span style=\"color: #7f7f7f\">file_io.py</span></a><span style=\"color: #7f7f7f\">:184</span>\n",
       "</pre>\n"
      ],
      "text/plain": [
       "<rich.jupyter.JupyterRenderable at 0x7fd302c63d00>"
      ]
     },
     "metadata": {},
     "output_type": "display_data"
    },
    {
     "data": {
      "text/html": [
       "<pre style=\"white-space:pre;overflow-x:auto;line-height:normal;font-family:Menlo,'DejaVu Sans Mono',consolas,'Courier New',monospace\"><span style=\"color: #7fbfbf\">           </span>step:    <span style=\"color: #ff79ff\">12</span>/<span style=\"color: #ff79ff\">100</span>   dt: <span style=\"color: #ff79ff\">0.304</span> loss: <span style=\"color: #ff79ff\">-10.4</span> accept_prob: <span style=\"color: #ff79ff\">0.408</span> beta:     <span style=\"color: #ff79ff\">3</span> dq_int: <span style=\"color: #ff79ff\">0.121</span> dq_sin: <span style=\"color: #ff79ff\">0.159</span> plaqs: <span style=\"color: #ff79ff\">-0.000929</span> p4x4: <span style=\"color: #ff79ff\">0.0302</span>                                                                                                                                                   <a href=\"file:///Users/saforem2/l2hmc-qcd/l2hmc-qcd/utils/file_io.py\"><span style=\"color: #7f7f7f\">file_io.py</span></a><span style=\"color: #7f7f7f\">:184</span>\n",
       "</pre>\n"
      ],
      "text/plain": [
       "<rich.jupyter.JupyterRenderable at 0x7fd302c6fb80>"
      ]
     },
     "metadata": {},
     "output_type": "display_data"
    },
    {
     "data": {
      "text/html": [
       "<pre style=\"white-space:pre;overflow-x:auto;line-height:normal;font-family:Menlo,'DejaVu Sans Mono',consolas,'Courier New',monospace\"><span style=\"color: #7fbfbf\">           </span>step:    <span style=\"color: #ff79ff\">13</span>/<span style=\"color: #ff79ff\">100</span>   dt: <span style=\"color: #ff79ff\">0.322</span> loss: <span style=\"color: #ff79ff\">-9.26</span> accept_prob: <span style=\"color: #ff79ff\">0.369</span> beta:     <span style=\"color: #ff79ff\">3</span> dq_int: <span style=\"color: #ff79ff\">0.102</span> dq_sin:  <span style=\"color: #ff79ff\">0.14</span> plaqs: <span style=\"color: #ff79ff\">-0.00155</span> p4x4: <span style=\"color: #ff79ff\">0.0278</span>                                                                                                                                                    <a href=\"file:///Users/saforem2/l2hmc-qcd/l2hmc-qcd/utils/file_io.py\"><span style=\"color: #7f7f7f\">file_io.py</span></a><span style=\"color: #7f7f7f\">:184</span>\n",
       "</pre>\n"
      ],
      "text/plain": [
       "<rich.jupyter.JupyterRenderable at 0x7fd302c6f6a0>"
      ]
     },
     "metadata": {},
     "output_type": "display_data"
    },
    {
     "data": {
      "text/html": [
       "<pre style=\"white-space:pre;overflow-x:auto;line-height:normal;font-family:Menlo,'DejaVu Sans Mono',consolas,'Courier New',monospace\"><span style=\"color: #7fbfbf\">[17:27:46] </span>step:    <span style=\"color: #ff79ff\">14</span>/<span style=\"color: #ff79ff\">100</span>   dt: <span style=\"color: #ff79ff\">0.302</span> loss: <span style=\"color: #ff79ff\">-9.36</span> accept_prob: <span style=\"color: #ff79ff\">0.415</span> beta:     <span style=\"color: #ff79ff\">3</span> dq_int: <span style=\"color: #ff79ff\">0.141</span> dq_sin: <span style=\"color: #ff79ff\">0.157</span> plaqs: <span style=\"color: #ff79ff\">-0.00156</span> p4x4: <span style=\"color: #ff79ff\">0.0302</span>                                                                                                                                                    <a href=\"file:///Users/saforem2/l2hmc-qcd/l2hmc-qcd/utils/file_io.py\"><span style=\"color: #7f7f7f\">file_io.py</span></a><span style=\"color: #7f7f7f\">:184</span>\n",
       "</pre>\n"
      ],
      "text/plain": [
       "<rich.jupyter.JupyterRenderable at 0x7fd302c7ab80>"
      ]
     },
     "metadata": {},
     "output_type": "display_data"
    },
    {
     "data": {
      "text/html": [
       "<pre style=\"white-space:pre;overflow-x:auto;line-height:normal;font-family:Menlo,'DejaVu Sans Mono',consolas,'Courier New',monospace\"><span style=\"color: #7fbfbf\">           </span>step:    <span style=\"color: #ff79ff\">15</span>/<span style=\"color: #ff79ff\">100</span>   dt: <span style=\"color: #ff79ff\">0.301</span> loss: <span style=\"color: #ff79ff\">-9.94</span> accept_prob: <span style=\"color: #ff79ff\">0.378</span> beta:     <span style=\"color: #ff79ff\">3</span> dq_int: <span style=\"color: #ff79ff\">0.133</span> dq_sin: <span style=\"color: #ff79ff\">0.154</span> plaqs: <span style=\"color: #ff79ff\">-0.0011</span> p4x4: <span style=\"color: #ff79ff\">0.0322</span>                                                                                                                                                     <a href=\"file:///Users/saforem2/l2hmc-qcd/l2hmc-qcd/utils/file_io.py\"><span style=\"color: #7f7f7f\">file_io.py</span></a><span style=\"color: #7f7f7f\">:184</span>\n",
       "</pre>\n"
      ],
      "text/plain": [
       "<rich.jupyter.JupyterRenderable at 0x7fd302c7a850>"
      ]
     },
     "metadata": {},
     "output_type": "display_data"
    },
    {
     "data": {
      "text/html": [
       "<pre style=\"white-space:pre;overflow-x:auto;line-height:normal;font-family:Menlo,'DejaVu Sans Mono',consolas,'Courier New',monospace\"><span style=\"color: #7fbfbf\">           </span>step:    <span style=\"color: #ff79ff\">16</span>/<span style=\"color: #ff79ff\">100</span>   dt: <span style=\"color: #ff79ff\">0.307</span> loss: <span style=\"color: #ff79ff\">-7.39</span> accept_prob: <span style=\"color: #ff79ff\">0.319</span> beta:     <span style=\"color: #ff79ff\">3</span> dq_int: <span style=\"color: #ff79ff\">0.125</span> dq_sin: <span style=\"color: #ff79ff\">0.114</span> plaqs: <span style=\"color: #ff79ff\">-0.00114</span> p4x4: <span style=\"color: #ff79ff\">0.0301</span>                                                                                                                                                    <a href=\"file:///Users/saforem2/l2hmc-qcd/l2hmc-qcd/utils/file_io.py\"><span style=\"color: #7f7f7f\">file_io.py</span></a><span style=\"color: #7f7f7f\">:184</span>\n",
       "</pre>\n"
      ],
      "text/plain": [
       "<rich.jupyter.JupyterRenderable at 0x7fd2f1627c70>"
      ]
     },
     "metadata": {},
     "output_type": "display_data"
    },
    {
     "data": {
      "text/html": [
       "<pre style=\"white-space:pre;overflow-x:auto;line-height:normal;font-family:Menlo,'DejaVu Sans Mono',consolas,'Courier New',monospace\"><span style=\"color: #7fbfbf\">[17:27:47] </span>step:    <span style=\"color: #ff79ff\">17</span>/<span style=\"color: #ff79ff\">100</span>   dt: <span style=\"color: #ff79ff\">0.298</span> loss: <span style=\"color: #ff79ff\">-7.84</span> accept_prob: <span style=\"color: #ff79ff\">0.317</span> beta:     <span style=\"color: #ff79ff\">3</span> dq_int: <span style=\"color: #ff79ff\">0.0625</span> dq_sin: <span style=\"color: #ff79ff\">0.121</span> plaqs: <span style=\"color: #ff79ff\">-0.000878</span> p4x4: <span style=\"color: #ff79ff\">0.032</span>                                                                                                                                                   <a href=\"file:///Users/saforem2/l2hmc-qcd/l2hmc-qcd/utils/file_io.py\"><span style=\"color: #7f7f7f\">file_io.py</span></a><span style=\"color: #7f7f7f\">:184</span>\n",
       "</pre>\n"
      ],
      "text/plain": [
       "<rich.jupyter.JupyterRenderable at 0x7fd2f1627d60>"
      ]
     },
     "metadata": {},
     "output_type": "display_data"
    },
    {
     "data": {
      "text/html": [
       "<pre style=\"white-space:pre;overflow-x:auto;line-height:normal;font-family:Menlo,'DejaVu Sans Mono',consolas,'Courier New',monospace\"><span style=\"color: #7fbfbf\">           </span>step:    <span style=\"color: #ff79ff\">18</span>/<span style=\"color: #ff79ff\">100</span>   dt: <span style=\"color: #ff79ff\">0.308</span> loss: <span style=\"color: #ff79ff\">-6.68</span> accept_prob: <span style=\"color: #ff79ff\">0.346</span> beta:     <span style=\"color: #ff79ff\">3</span> dq_int: <span style=\"color: #ff79ff\">0.0977</span> dq_sin: <span style=\"color: #ff79ff\">0.114</span> plaqs: <span style=\"color: #ff79ff\">-0.000393</span> p4x4: <span style=\"color: #ff79ff\">0.0304</span>                                                                                                                                                  <a href=\"file:///Users/saforem2/l2hmc-qcd/l2hmc-qcd/utils/file_io.py\"><span style=\"color: #7f7f7f\">file_io.py</span></a><span style=\"color: #7f7f7f\">:184</span>\n",
       "</pre>\n"
      ],
      "text/plain": [
       "<rich.jupyter.JupyterRenderable at 0x7fd2f1623670>"
      ]
     },
     "metadata": {},
     "output_type": "display_data"
    },
    {
     "data": {
      "text/html": [
       "<pre style=\"white-space:pre;overflow-x:auto;line-height:normal;font-family:Menlo,'DejaVu Sans Mono',consolas,'Courier New',monospace\"><span style=\"color: #7fbfbf\">[17:27:48] </span>Checkpoint saved to: <span style=\"color: #800080\">/Users/saforem2/l2hmc-qcd/logs/GaugeModel_logs/test/2021_01/DEBUG_L16_b256_lf5_actswish_bi3_bf3_dp01_sepNets_NCProj-2021-01-26-1725/training/checkpoints/</span><span style=\"color: #ff00ff\">ckpt-1</span>                                                                                               <a href=\"file:///Users/saforem2/l2hmc-qcd/l2hmc-qcd/utils/file_io.py\"><span style=\"color: #7f7f7f\">file_io.py</span></a><span style=\"color: #7f7f7f\">:184</span>\n",
       "</pre>\n"
      ],
      "text/plain": [
       "<rich.jupyter.JupyterRenderable at 0x7fd2e12bb280>"
      ]
     },
     "metadata": {},
     "output_type": "display_data"
    },
    {
     "data": {
      "text/html": [
       "<pre style=\"white-space:pre;overflow-x:auto;line-height:normal;font-family:Menlo,'DejaVu Sans Mono',consolas,'Courier New',monospace\"><span style=\"color: #7fbfbf\">           </span>Saving veps to <span style=\"color: #800080\">/Users/saforem2/l2hmc-qcd/logs/GaugeModel_logs/test/2021_01/DEBUG_L16_b256_lf5_actswish_bi3_bf3_dp01_sepNets_NCProj-2021-01-26-1725/training/models/</span><span style=\"color: #ff00ff\">veps.z.</span>                                                                                                         <a href=\"file:///Users/saforem2/l2hmc-qcd/l2hmc-qcd/utils/file_io.py\"><span style=\"color: #7f7f7f\">file_io.py</span></a><span style=\"color: #7f7f7f\">:363</span>\n",
       "</pre>\n"
      ],
      "text/plain": [
       "<rich.jupyter.JupyterRenderable at 0x7fd2e12bb460>"
      ]
     },
     "metadata": {},
     "output_type": "display_data"
    },
    {
     "data": {
      "text/html": [
       "<pre style=\"white-space:pre;overflow-x:auto;line-height:normal;font-family:Menlo,'DejaVu Sans Mono',consolas,'Courier New',monospace\"><span style=\"color: #7fbfbf\">           </span>Saving xeps to <span style=\"color: #800080\">/Users/saforem2/l2hmc-qcd/logs/GaugeModel_logs/test/2021_01/DEBUG_L16_b256_lf5_actswish_bi3_bf3_dp01_sepNets_NCProj-2021-01-26-1725/training/models/</span><span style=\"color: #ff00ff\">xeps.z.</span>                                                                                                         <a href=\"file:///Users/saforem2/l2hmc-qcd/l2hmc-qcd/utils/file_io.py\"><span style=\"color: #7f7f7f\">file_io.py</span></a><span style=\"color: #7f7f7f\">:363</span>\n",
       "</pre>\n"
      ],
      "text/plain": [
       "<rich.jupyter.JupyterRenderable at 0x7fd2e12bb310>"
      ]
     },
     "metadata": {},
     "output_type": "display_data"
    },
    {
     "name": "stderr",
     "output_type": "stream",
     "text": [
      "/Users/saforem2/opt/anaconda3/envs/tf2.4/lib/python3.8/site-packages/tensorflow/python/keras/engine/training.py:2311: UserWarning: `Model.state_updates` will be removed in a future version. This property should not be used in TensorFlow 2.0, as `updates` are applied automatically.\n",
      "  warnings.warn('`Model.state_updates` will be removed in a future version. '\n",
      "/Users/saforem2/opt/anaconda3/envs/tf2.4/lib/python3.8/site-packages/tensorflow/python/keras/engine/base_layer.py:1399: UserWarning: `layer.updates` will be removed in a future version. This property should not be used in TensorFlow 2.0, as `updates` are applied automatically.\n",
      "  warnings.warn('`layer.updates` will be removed in a future version. '\n"
     ]
    },
    {
     "data": {
      "text/html": [
       "<pre style=\"white-space:pre;overflow-x:auto;line-height:normal;font-family:Menlo,'DejaVu Sans Mono',consolas,'Courier New',monospace\"><span style=\"color: #7fbfbf\">[17:28:24] </span>Networks saved to: <span style=\"color: #800080\">/Users/saforem2/l2hmc-qcd/logs/GaugeModel_logs/test/2021_01/</span><span style=\"color: #ff00ff\">DEBUG_L16_b256_lf5_actswish_bi3_bf3_dp01_sepNets_NCProj-2021-01-26-1725</span>                                                                                                                             <a href=\"file:///Users/saforem2/l2hmc-qcd/l2hmc-qcd/utils/file_io.py\"><span style=\"color: #7f7f7f\">file_io.py</span></a><span style=\"color: #7f7f7f\">:184</span>\n",
       "</pre>\n"
      ],
      "text/plain": [
       "<rich.jupyter.JupyterRenderable at 0x7fd303b87c70>"
      ]
     },
     "metadata": {},
     "output_type": "display_data"
    },
    {
     "data": {
      "text/html": [
       "<pre style=\"white-space:pre;overflow-x:auto;line-height:normal;font-family:Menlo,'DejaVu Sans Mono',consolas,'Courier New',monospace\"><span style=\"color: #7fbfbf\">           </span>step:    <span style=\"color: #ff79ff\">19</span>/<span style=\"color: #ff79ff\">100</span>   dt:   <span style=\"color: #ff79ff\">0.3</span> loss:  <span style=\"color: #ff79ff\">-7.2</span> accept_prob: <span style=\"color: #ff79ff\">0.351</span> beta:     <span style=\"color: #ff79ff\">3</span> dq_int: <span style=\"color: #ff79ff\">0.0703</span> dq_sin: <span style=\"color: #ff79ff\">0.107</span> plaqs: <span style=\"color: #ff79ff\">-0.000897</span> p4x4: <span style=\"color: #ff79ff\">0.0302</span>                                                                                                                                                  <a href=\"file:///Users/saforem2/l2hmc-qcd/l2hmc-qcd/utils/file_io.py\"><span style=\"color: #7f7f7f\">file_io.py</span></a><span style=\"color: #7f7f7f\">:184</span>\n",
       "</pre>\n"
      ],
      "text/plain": [
       "<rich.jupyter.JupyterRenderable at 0x7fd31a96cac0>"
      ]
     },
     "metadata": {},
     "output_type": "display_data"
    },
    {
     "data": {
      "text/html": [
       "<pre style=\"white-space:pre;overflow-x:auto;line-height:normal;font-family:Menlo,'DejaVu Sans Mono',consolas,'Courier New',monospace\"><span style=\"color: #7fbfbf\">[17:28:25] </span>step:    <span style=\"color: #ff79ff\">20</span>/<span style=\"color: #ff79ff\">100</span>   dt: <span style=\"color: #ff79ff\">0.282</span> loss: <span style=\"color: #ff79ff\">-7.35</span> accept_prob: <span style=\"color: #ff79ff\">0.319</span> beta:     <span style=\"color: #ff79ff\">3</span> dq_int: <span style=\"color: #ff79ff\">0.0469</span> dq_sin: <span style=\"color: #ff79ff\">0.111</span> plaqs: <span style=\"color: #ff79ff\">-0.000139</span> p4x4: <span style=\"color: #ff79ff\">0.0348</span>                                                                                                                                                  <a href=\"file:///Users/saforem2/l2hmc-qcd/l2hmc-qcd/utils/file_io.py\"><span style=\"color: #7f7f7f\">file_io.py</span></a><span style=\"color: #7f7f7f\">:184</span>\n",
       "</pre>\n"
      ],
      "text/plain": [
       "<rich.jupyter.JupyterRenderable at 0x7fd31ac05430>"
      ]
     },
     "metadata": {},
     "output_type": "display_data"
    },
    {
     "data": {
      "text/html": [
       "<pre style=\"white-space:pre;overflow-x:auto;line-height:normal;font-family:Menlo,'DejaVu Sans Mono',consolas,'Courier New',monospace\"><span style=\"color: #7fbfbf\">[17:28:30] </span>step:    <span style=\"color: #ff79ff\">21</span>/<span style=\"color: #ff79ff\">100</span>   dt: <span style=\"color: #ff79ff\">0.304</span> loss: <span style=\"color: #ff79ff\">-7.09</span> accept_prob: <span style=\"color: #ff79ff\">0.306</span> beta:     <span style=\"color: #ff79ff\">3</span> dq_int: <span style=\"color: #ff79ff\">0.0859</span> dq_sin: <span style=\"color: #ff79ff\">0.133</span> plaqs: <span style=\"color: #ff79ff\">0.000802</span> p4x4: <span style=\"color: #ff79ff\">0.0356</span>                                                                                                                                                   <a href=\"file:///Users/saforem2/l2hmc-qcd/l2hmc-qcd/utils/file_io.py\"><span style=\"color: #7f7f7f\">file_io.py</span></a><span style=\"color: #7f7f7f\">:184</span>\n",
       "</pre>\n"
      ],
      "text/plain": [
       "<rich.jupyter.JupyterRenderable at 0x7fd31abe0610>"
      ]
     },
     "metadata": {},
     "output_type": "display_data"
    },
    {
     "data": {
      "text/html": [
       "<pre style=\"white-space:pre;overflow-x:auto;line-height:normal;font-family:Menlo,'DejaVu Sans Mono',consolas,'Courier New',monospace\"><span style=\"color: #7fbfbf\">           </span>step:    <span style=\"color: #ff79ff\">22</span>/<span style=\"color: #ff79ff\">100</span>   dt: <span style=\"color: #ff79ff\">0.298</span> loss: <span style=\"color: #ff79ff\">-6.81</span> accept_prob: <span style=\"color: #ff79ff\">0.351</span> beta:     <span style=\"color: #ff79ff\">3</span> dq_int: <span style=\"color: #ff79ff\">0.0742</span> dq_sin: <span style=\"color: #ff79ff\">0.124</span> plaqs: <span style=\"color: #ff79ff\">0.000436</span> p4x4: <span style=\"color: #ff79ff\">0.035</span>                                                                                                                                                    <a href=\"file:///Users/saforem2/l2hmc-qcd/l2hmc-qcd/utils/file_io.py\"><span style=\"color: #7f7f7f\">file_io.py</span></a><span style=\"color: #7f7f7f\">:184</span>\n",
       "</pre>\n"
      ],
      "text/plain": [
       "<rich.jupyter.JupyterRenderable at 0x7fd2e132efa0>"
      ]
     },
     "metadata": {},
     "output_type": "display_data"
    },
    {
     "data": {
      "text/html": [
       "<pre style=\"white-space:pre;overflow-x:auto;line-height:normal;font-family:Menlo,'DejaVu Sans Mono',consolas,'Courier New',monospace\"><span style=\"color: #7fbfbf\">[17:28:31] </span>step:    <span style=\"color: #ff79ff\">23</span>/<span style=\"color: #ff79ff\">100</span>   dt: <span style=\"color: #ff79ff\">0.285</span> loss: <span style=\"color: #ff79ff\">-7.75</span> accept_prob: <span style=\"color: #ff79ff\">0.326</span> beta:     <span style=\"color: #ff79ff\">3</span> dq_int: <span style=\"color: #ff79ff\">0.0977</span> dq_sin: <span style=\"color: #ff79ff\">0.125</span> plaqs: <span style=\"color: #ff79ff\">1.77e-05</span> p4x4: <span style=\"color: #ff79ff\">0.0359</span>                                                                                                                                                   <a href=\"file:///Users/saforem2/l2hmc-qcd/l2hmc-qcd/utils/file_io.py\"><span style=\"color: #7f7f7f\">file_io.py</span></a><span style=\"color: #7f7f7f\">:184</span>\n",
       "</pre>\n"
      ],
      "text/plain": [
       "<rich.jupyter.JupyterRenderable at 0x7fd303ff6850>"
      ]
     },
     "metadata": {},
     "output_type": "display_data"
    },
    {
     "data": {
      "text/html": [
       "<pre style=\"white-space:pre;overflow-x:auto;line-height:normal;font-family:Menlo,'DejaVu Sans Mono',consolas,'Courier New',monospace\"><span style=\"color: #7fbfbf\">           </span>step:    <span style=\"color: #ff79ff\">24</span>/<span style=\"color: #ff79ff\">100</span>   dt: <span style=\"color: #ff79ff\">0.286</span> loss: <span style=\"color: #ff79ff\">-9.24</span> accept_prob: <span style=\"color: #ff79ff\">0.304</span> beta:     <span style=\"color: #ff79ff\">3</span> dq_int: <span style=\"color: #ff79ff\">0.0898</span> dq_sin: <span style=\"color: #ff79ff\">0.126</span> plaqs: <span style=\"color: #ff79ff\">0.000197</span> p4x4: <span style=\"color: #ff79ff\">0.0329</span>                                                                                                                                                   <a href=\"file:///Users/saforem2/l2hmc-qcd/l2hmc-qcd/utils/file_io.py\"><span style=\"color: #7f7f7f\">file_io.py</span></a><span style=\"color: #7f7f7f\">:184</span>\n",
       "</pre>\n"
      ],
      "text/plain": [
       "<rich.jupyter.JupyterRenderable at 0x7fd3210d2b50>"
      ]
     },
     "metadata": {},
     "output_type": "display_data"
    },
    {
     "data": {
      "text/html": [
       "<pre style=\"white-space:pre;overflow-x:auto;line-height:normal;font-family:Menlo,'DejaVu Sans Mono',consolas,'Courier New',monospace\"><span style=\"color: #7fbfbf\">           </span>step:    <span style=\"color: #ff79ff\">25</span>/<span style=\"color: #ff79ff\">100</span>   dt:  <span style=\"color: #ff79ff\">0.29</span> loss: <span style=\"color: #ff79ff\">-7.26</span> accept_prob: <span style=\"color: #ff79ff\">0.339</span> beta:     <span style=\"color: #ff79ff\">3</span> dq_int: <span style=\"color: #ff79ff\">0.109</span> dq_sin: <span style=\"color: #ff79ff\">0.147</span> plaqs: <span style=\"color: #ff79ff\">0.000986</span> p4x4: <span style=\"color: #ff79ff\">0.0299</span>                                                                                                                                                    <a href=\"file:///Users/saforem2/l2hmc-qcd/l2hmc-qcd/utils/file_io.py\"><span style=\"color: #7f7f7f\">file_io.py</span></a><span style=\"color: #7f7f7f\">:184</span>\n",
       "</pre>\n"
      ],
      "text/plain": [
       "<rich.jupyter.JupyterRenderable at 0x7fd31abf8eb0>"
      ]
     },
     "metadata": {},
     "output_type": "display_data"
    },
    {
     "data": {
      "text/html": [
       "<pre style=\"white-space:pre;overflow-x:auto;line-height:normal;font-family:Menlo,'DejaVu Sans Mono',consolas,'Courier New',monospace\"><span style=\"color: #7fbfbf\">[17:28:32] </span>step:    <span style=\"color: #ff79ff\">26</span>/<span style=\"color: #ff79ff\">100</span>   dt:  <span style=\"color: #ff79ff\">0.29</span> loss: <span style=\"color: #ff79ff\">-8.79</span> accept_prob: <span style=\"color: #ff79ff\">0.347</span> beta:     <span style=\"color: #ff79ff\">3</span> dq_int: <span style=\"color: #ff79ff\">0.0859</span> dq_sin:  <span style=\"color: #ff79ff\">0.13</span> plaqs: <span style=\"color: #ff79ff\">-0.000337</span> p4x4: <span style=\"color: #ff79ff\">0.0303</span>                                                                                                                                                  <a href=\"file:///Users/saforem2/l2hmc-qcd/l2hmc-qcd/utils/file_io.py\"><span style=\"color: #7f7f7f\">file_io.py</span></a><span style=\"color: #7f7f7f\">:184</span>\n",
       "</pre>\n"
      ],
      "text/plain": [
       "<rich.jupyter.JupyterRenderable at 0x7fd3230a5bb0>"
      ]
     },
     "metadata": {},
     "output_type": "display_data"
    },
    {
     "data": {
      "text/html": [
       "<pre style=\"white-space:pre;overflow-x:auto;line-height:normal;font-family:Menlo,'DejaVu Sans Mono',consolas,'Courier New',monospace\"><span style=\"color: #7fbfbf\">           </span>step:    <span style=\"color: #ff79ff\">27</span>/<span style=\"color: #ff79ff\">100</span>   dt: <span style=\"color: #ff79ff\">0.272</span> loss: <span style=\"color: #ff79ff\">-9.86</span> accept_prob: <span style=\"color: #ff79ff\">0.274</span> beta:     <span style=\"color: #ff79ff\">3</span> dq_int: <span style=\"color: #ff79ff\">0.133</span> dq_sin: <span style=\"color: #ff79ff\">0.139</span> plaqs: <span style=\"color: #ff79ff\">-0.000554</span> p4x4: <span style=\"color: #ff79ff\">0.0292</span>                                                                                                                                                   <a href=\"file:///Users/saforem2/l2hmc-qcd/l2hmc-qcd/utils/file_io.py\"><span style=\"color: #7f7f7f\">file_io.py</span></a><span style=\"color: #7f7f7f\">:184</span>\n",
       "</pre>\n"
      ],
      "text/plain": [
       "<rich.jupyter.JupyterRenderable at 0x7fd303ff67f0>"
      ]
     },
     "metadata": {},
     "output_type": "display_data"
    },
    {
     "data": {
      "text/html": [
       "<pre style=\"white-space:pre;overflow-x:auto;line-height:normal;font-family:Menlo,'DejaVu Sans Mono',consolas,'Courier New',monospace\"><span style=\"color: #7fbfbf\">           </span>step:    <span style=\"color: #ff79ff\">28</span>/<span style=\"color: #ff79ff\">100</span>   dt: <span style=\"color: #ff79ff\">0.261</span> loss: <span style=\"color: #ff79ff\">-6.43</span> accept_prob: <span style=\"color: #ff79ff\">0.247</span> beta:     <span style=\"color: #ff79ff\">3</span> dq_int: <span style=\"color: #ff79ff\">0.0703</span> dq_sin: <span style=\"color: #ff79ff\">0.0983</span> plaqs: <span style=\"color: #ff79ff\">-0.000671</span> p4x4: <span style=\"color: #ff79ff\">0.0292</span>                                                                                                                                                 <a href=\"file:///Users/saforem2/l2hmc-qcd/l2hmc-qcd/utils/file_io.py\"><span style=\"color: #7f7f7f\">file_io.py</span></a><span style=\"color: #7f7f7f\">:184</span>\n",
       "</pre>\n"
      ],
      "text/plain": [
       "<rich.jupyter.JupyterRenderable at 0x7fd344e687f0>"
      ]
     },
     "metadata": {},
     "output_type": "display_data"
    },
    {
     "data": {
      "text/html": [
       "<pre style=\"white-space:pre;overflow-x:auto;line-height:normal;font-family:Menlo,'DejaVu Sans Mono',consolas,'Courier New',monospace\"><span style=\"color: #7fbfbf\">           </span>step:    <span style=\"color: #ff79ff\">29</span>/<span style=\"color: #ff79ff\">100</span>   dt: <span style=\"color: #ff79ff\">0.275</span> loss: <span style=\"color: #ff79ff\">-6.69</span> accept_prob: <span style=\"color: #ff79ff\">0.295</span> beta:     <span style=\"color: #ff79ff\">3</span> dq_int: <span style=\"color: #ff79ff\">0.0742</span> dq_sin: <span style=\"color: #ff79ff\">0.0988</span> plaqs: <span style=\"color: #ff79ff\">-0.00127</span> p4x4: <span style=\"color: #ff79ff\">0.031</span>                                                                                                                                                   <a href=\"file:///Users/saforem2/l2hmc-qcd/l2hmc-qcd/utils/file_io.py\"><span style=\"color: #7f7f7f\">file_io.py</span></a><span style=\"color: #7f7f7f\">:184</span>\n",
       "</pre>\n"
      ],
      "text/plain": [
       "<rich.jupyter.JupyterRenderable at 0x7fd3230a5bb0>"
      ]
     },
     "metadata": {},
     "output_type": "display_data"
    },
    {
     "data": {
      "text/html": [
       "<pre style=\"white-space:pre;overflow-x:auto;line-height:normal;font-family:Menlo,'DejaVu Sans Mono',consolas,'Courier New',monospace\"><span style=\"color: #7fbfbf\">[17:28:33] </span>step:    <span style=\"color: #ff79ff\">30</span>/<span style=\"color: #ff79ff\">100</span>   dt: <span style=\"color: #ff79ff\">0.275</span> loss: <span style=\"color: #ff79ff\">-5.49</span> accept_prob: <span style=\"color: #ff79ff\">0.253</span> beta:     <span style=\"color: #ff79ff\">3</span> dq_int: <span style=\"color: #ff79ff\">0.0469</span> dq_sin: <span style=\"color: #ff79ff\">0.0833</span> plaqs: <span style=\"color: #ff79ff\">-0.00181</span> p4x4: <span style=\"color: #ff79ff\">0.0285</span>                                                                                                                                                  <a href=\"file:///Users/saforem2/l2hmc-qcd/l2hmc-qcd/utils/file_io.py\"><span style=\"color: #7f7f7f\">file_io.py</span></a><span style=\"color: #7f7f7f\">:184</span>\n",
       "</pre>\n"
      ],
      "text/plain": [
       "<rich.jupyter.JupyterRenderable at 0x7fd31bb6e910>"
      ]
     },
     "metadata": {},
     "output_type": "display_data"
    },
    {
     "data": {
      "text/html": [
       "<pre style=\"white-space:pre;overflow-x:auto;line-height:normal;font-family:Menlo,'DejaVu Sans Mono',consolas,'Courier New',monospace\"><span style=\"color: #7fbfbf\">[17:28:38] </span>step:    <span style=\"color: #ff79ff\">31</span>/<span style=\"color: #ff79ff\">100</span>   dt: <span style=\"color: #ff79ff\">0.287</span> loss: <span style=\"color: #ff79ff\">-6.66</span> accept_prob: <span style=\"color: #ff79ff\">0.282</span> beta:     <span style=\"color: #ff79ff\">3</span> dq_int: <span style=\"color: #ff79ff\">0.0781</span> dq_sin: <span style=\"color: #ff79ff\">0.107</span> plaqs: <span style=\"color: #ff79ff\">-0.00161</span> p4x4: <span style=\"color: #ff79ff\">0.0277</span>                                                                                                                                                   <a href=\"file:///Users/saforem2/l2hmc-qcd/l2hmc-qcd/utils/file_io.py\"><span style=\"color: #7f7f7f\">file_io.py</span></a><span style=\"color: #7f7f7f\">:184</span>\n",
       "</pre>\n"
      ],
      "text/plain": [
       "<rich.jupyter.JupyterRenderable at 0x7fd323035ac0>"
      ]
     },
     "metadata": {},
     "output_type": "display_data"
    },
    {
     "data": {
      "text/html": [
       "<pre style=\"white-space:pre;overflow-x:auto;line-height:normal;font-family:Menlo,'DejaVu Sans Mono',consolas,'Courier New',monospace\"><span style=\"color: #7fbfbf\">           </span>step:    <span style=\"color: #ff79ff\">32</span>/<span style=\"color: #ff79ff\">100</span>   dt: <span style=\"color: #ff79ff\">0.292</span> loss: <span style=\"color: #ff79ff\">-5.85</span> accept_prob: <span style=\"color: #ff79ff\">0.243</span> beta:     <span style=\"color: #ff79ff\">3</span> dq_int: <span style=\"color: #ff79ff\">0.0664</span> dq_sin:  <span style=\"color: #ff79ff\">0.11</span> plaqs: <span style=\"color: #ff79ff\">-0.00155</span> p4x4: <span style=\"color: #ff79ff\">0.0294</span>                                                                                                                                                   <a href=\"file:///Users/saforem2/l2hmc-qcd/l2hmc-qcd/utils/file_io.py\"><span style=\"color: #7f7f7f\">file_io.py</span></a><span style=\"color: #7f7f7f\">:184</span>\n",
       "</pre>\n"
      ],
      "text/plain": [
       "<rich.jupyter.JupyterRenderable at 0x7fd31ac00ca0>"
      ]
     },
     "metadata": {},
     "output_type": "display_data"
    },
    {
     "data": {
      "text/html": [
       "<pre style=\"white-space:pre;overflow-x:auto;line-height:normal;font-family:Menlo,'DejaVu Sans Mono',consolas,'Courier New',monospace\"><span style=\"color: #7fbfbf\">[17:28:39] </span>step:    <span style=\"color: #ff79ff\">33</span>/<span style=\"color: #ff79ff\">100</span>   dt: <span style=\"color: #ff79ff\">0.292</span> loss:  <span style=\"color: #ff79ff\">-8.9</span> accept_prob: <span style=\"color: #ff79ff\">0.201</span> beta:     <span style=\"color: #ff79ff\">3</span> dq_int: <span style=\"color: #ff79ff\">0.043</span> dq_sin: <span style=\"color: #ff79ff\">0.114</span> plaqs: <span style=\"color: #ff79ff\">-0.000884</span> p4x4: <span style=\"color: #ff79ff\">0.0314</span>                                                                                                                                                   <a href=\"file:///Users/saforem2/l2hmc-qcd/l2hmc-qcd/utils/file_io.py\"><span style=\"color: #7f7f7f\">file_io.py</span></a><span style=\"color: #7f7f7f\">:184</span>\n",
       "</pre>\n"
      ],
      "text/plain": [
       "<rich.jupyter.JupyterRenderable at 0x7fd302badf70>"
      ]
     },
     "metadata": {},
     "output_type": "display_data"
    },
    {
     "data": {
      "text/html": [
       "<pre style=\"white-space:pre;overflow-x:auto;line-height:normal;font-family:Menlo,'DejaVu Sans Mono',consolas,'Courier New',monospace\"><span style=\"color: #7fbfbf\">           </span>step:    <span style=\"color: #ff79ff\">34</span>/<span style=\"color: #ff79ff\">100</span>   dt: <span style=\"color: #ff79ff\">0.304</span> loss: <span style=\"color: #ff79ff\">-7.99</span> accept_prob: <span style=\"color: #ff79ff\">0.264</span> beta:     <span style=\"color: #ff79ff\">3</span> dq_int: <span style=\"color: #ff79ff\">0.082</span> dq_sin: <span style=\"color: #ff79ff\">0.136</span> plaqs: <span style=\"color: #ff79ff\">0.000213</span> p4x4: <span style=\"color: #ff79ff\">0.0314</span>                                                                                                                                                    <a href=\"file:///Users/saforem2/l2hmc-qcd/l2hmc-qcd/utils/file_io.py\"><span style=\"color: #7f7f7f\">file_io.py</span></a><span style=\"color: #7f7f7f\">:184</span>\n",
       "</pre>\n"
      ],
      "text/plain": [
       "<rich.jupyter.JupyterRenderable at 0x7fd323026820>"
      ]
     },
     "metadata": {},
     "output_type": "display_data"
    },
    {
     "data": {
      "text/html": [
       "<pre style=\"white-space:pre;overflow-x:auto;line-height:normal;font-family:Menlo,'DejaVu Sans Mono',consolas,'Courier New',monospace\"><span style=\"color: #7fbfbf\">           </span>step:    <span style=\"color: #ff79ff\">35</span>/<span style=\"color: #ff79ff\">100</span>   dt: <span style=\"color: #ff79ff\">0.295</span> loss: <span style=\"color: #ff79ff\">-5.06</span> accept_prob: <span style=\"color: #ff79ff\">0.253</span> beta:     <span style=\"color: #ff79ff\">3</span> dq_int: <span style=\"color: #ff79ff\">0.0859</span> dq_sin: <span style=\"color: #ff79ff\">0.081</span> plaqs: <span style=\"color: #ff79ff\">-0.000398</span> p4x4: <span style=\"color: #ff79ff\">0.0338</span>                                                                                                                                                  <a href=\"file:///Users/saforem2/l2hmc-qcd/l2hmc-qcd/utils/file_io.py\"><span style=\"color: #7f7f7f\">file_io.py</span></a><span style=\"color: #7f7f7f\">:184</span>\n",
       "</pre>\n"
      ],
      "text/plain": [
       "<rich.jupyter.JupyterRenderable at 0x7fd2f3fe1460>"
      ]
     },
     "metadata": {},
     "output_type": "display_data"
    },
    {
     "data": {
      "text/html": [
       "<pre style=\"white-space:pre;overflow-x:auto;line-height:normal;font-family:Menlo,'DejaVu Sans Mono',consolas,'Courier New',monospace\"><span style=\"color: #7fbfbf\">[17:28:40] </span>step:    <span style=\"color: #ff79ff\">36</span>/<span style=\"color: #ff79ff\">100</span>   dt: <span style=\"color: #ff79ff\">0.288</span> loss: <span style=\"color: #ff79ff\">-6.93</span> accept_prob:  <span style=\"color: #ff79ff\">0.23</span> beta:     <span style=\"color: #ff79ff\">3</span> dq_int: <span style=\"color: #ff79ff\">0.0781</span> dq_sin: <span style=\"color: #ff79ff\">0.103</span> plaqs: <span style=\"color: #ff79ff\">-7.63e-05</span> p4x4: <span style=\"color: #ff79ff\">0.0323</span>                                                                                                                                                  <a href=\"file:///Users/saforem2/l2hmc-qcd/l2hmc-qcd/utils/file_io.py\"><span style=\"color: #7f7f7f\">file_io.py</span></a><span style=\"color: #7f7f7f\">:184</span>\n",
       "</pre>\n"
      ],
      "text/plain": [
       "<rich.jupyter.JupyterRenderable at 0x7fd332af7f10>"
      ]
     },
     "metadata": {},
     "output_type": "display_data"
    },
    {
     "data": {
      "text/html": [
       "<pre style=\"white-space:pre;overflow-x:auto;line-height:normal;font-family:Menlo,'DejaVu Sans Mono',consolas,'Courier New',monospace\"><span style=\"color: #7fbfbf\">           </span>step:    <span style=\"color: #ff79ff\">37</span>/<span style=\"color: #ff79ff\">100</span>   dt: <span style=\"color: #ff79ff\">0.288</span> loss: <span style=\"color: #ff79ff\">-4.29</span> accept_prob: <span style=\"color: #ff79ff\">0.232</span> beta:     <span style=\"color: #ff79ff\">3</span> dq_int: <span style=\"color: #ff79ff\">0.0742</span> dq_sin: <span style=\"color: #ff79ff\">0.0804</span> plaqs: <span style=\"color: #ff79ff\">-0.000889</span> p4x4: <span style=\"color: #ff79ff\">0.0318</span>                                                                                                                                                 <a href=\"file:///Users/saforem2/l2hmc-qcd/l2hmc-qcd/utils/file_io.py\"><span style=\"color: #7f7f7f\">file_io.py</span></a><span style=\"color: #7f7f7f\">:184</span>\n",
       "</pre>\n"
      ],
      "text/plain": [
       "<rich.jupyter.JupyterRenderable at 0x7fd2f4a5dee0>"
      ]
     },
     "metadata": {},
     "output_type": "display_data"
    },
    {
     "data": {
      "text/html": [
       "<pre style=\"white-space:pre;overflow-x:auto;line-height:normal;font-family:Menlo,'DejaVu Sans Mono',consolas,'Courier New',monospace\"><span style=\"color: #7fbfbf\">           </span>step:    <span style=\"color: #ff79ff\">38</span>/<span style=\"color: #ff79ff\">100</span>   dt: <span style=\"color: #ff79ff\">0.285</span> loss: <span style=\"color: #ff79ff\">-5.24</span> accept_prob: <span style=\"color: #ff79ff\">0.236</span> beta:     <span style=\"color: #ff79ff\">3</span> dq_int: <span style=\"color: #ff79ff\">0.0586</span> dq_sin: <span style=\"color: #ff79ff\">0.0947</span> plaqs: <span style=\"color: #ff79ff\">-0.000843</span> p4x4: <span style=\"color: #ff79ff\">0.0335</span>                                                                                                                                                 <a href=\"file:///Users/saforem2/l2hmc-qcd/l2hmc-qcd/utils/file_io.py\"><span style=\"color: #7f7f7f\">file_io.py</span></a><span style=\"color: #7f7f7f\">:184</span>\n",
       "</pre>\n"
      ],
      "text/plain": [
       "<rich.jupyter.JupyterRenderable at 0x7fd344f569a0>"
      ]
     },
     "metadata": {},
     "output_type": "display_data"
    },
    {
     "data": {
      "text/html": [
       "<pre style=\"white-space:pre;overflow-x:auto;line-height:normal;font-family:Menlo,'DejaVu Sans Mono',consolas,'Courier New',monospace\"><span style=\"color: #7fbfbf\">[17:28:41] </span>Checkpoint saved to: <span style=\"color: #800080\">/Users/saforem2/l2hmc-qcd/logs/GaugeModel_logs/test/2021_01/DEBUG_L16_b256_lf5_actswish_bi3_bf3_dp01_sepNets_NCProj-2021-01-26-1725/training/checkpoints/</span><span style=\"color: #ff00ff\">ckpt-2</span>                                                                                               <a href=\"file:///Users/saforem2/l2hmc-qcd/l2hmc-qcd/utils/file_io.py\"><span style=\"color: #7f7f7f\">file_io.py</span></a><span style=\"color: #7f7f7f\">:184</span>\n",
       "</pre>\n"
      ],
      "text/plain": [
       "<rich.jupyter.JupyterRenderable at 0x7fd2f3ab9970>"
      ]
     },
     "metadata": {},
     "output_type": "display_data"
    },
    {
     "data": {
      "text/html": [
       "<pre style=\"white-space:pre;overflow-x:auto;line-height:normal;font-family:Menlo,'DejaVu Sans Mono',consolas,'Courier New',monospace\"><span style=\"color: #7fbfbf\">[17:28:42] </span>Saving veps to <span style=\"color: #800080\">/Users/saforem2/l2hmc-qcd/logs/GaugeModel_logs/test/2021_01/DEBUG_L16_b256_lf5_actswish_bi3_bf3_dp01_sepNets_NCProj-2021-01-26-1725/training/models/</span><span style=\"color: #ff00ff\">veps.z.</span>                                                                                                         <a href=\"file:///Users/saforem2/l2hmc-qcd/l2hmc-qcd/utils/file_io.py\"><span style=\"color: #7f7f7f\">file_io.py</span></a><span style=\"color: #7f7f7f\">:363</span>\n",
       "</pre>\n"
      ],
      "text/plain": [
       "<rich.jupyter.JupyterRenderable at 0x7fd2f3ab99a0>"
      ]
     },
     "metadata": {},
     "output_type": "display_data"
    },
    {
     "data": {
      "text/html": [
       "<pre style=\"white-space:pre;overflow-x:auto;line-height:normal;font-family:Menlo,'DejaVu Sans Mono',consolas,'Courier New',monospace\"><span style=\"color: #7fbfbf\">           </span>Saving xeps to <span style=\"color: #800080\">/Users/saforem2/l2hmc-qcd/logs/GaugeModel_logs/test/2021_01/DEBUG_L16_b256_lf5_actswish_bi3_bf3_dp01_sepNets_NCProj-2021-01-26-1725/training/models/</span><span style=\"color: #ff00ff\">xeps.z.</span>                                                                                                         <a href=\"file:///Users/saforem2/l2hmc-qcd/l2hmc-qcd/utils/file_io.py\"><span style=\"color: #7f7f7f\">file_io.py</span></a><span style=\"color: #7f7f7f\">:363</span>\n",
       "</pre>\n"
      ],
      "text/plain": [
       "<rich.jupyter.JupyterRenderable at 0x7fd2f3ab9ee0>"
      ]
     },
     "metadata": {},
     "output_type": "display_data"
    },
    {
     "data": {
      "text/html": [
       "<pre style=\"white-space:pre;overflow-x:auto;line-height:normal;font-family:Menlo,'DejaVu Sans Mono',consolas,'Courier New',monospace\"><span style=\"color: #7fbfbf\">[17:29:14] </span>Networks saved to: <span style=\"color: #800080\">/Users/saforem2/l2hmc-qcd/logs/GaugeModel_logs/test/2021_01/</span><span style=\"color: #ff00ff\">DEBUG_L16_b256_lf5_actswish_bi3_bf3_dp01_sepNets_NCProj-2021-01-26-1725</span>                                                                                                                             <a href=\"file:///Users/saforem2/l2hmc-qcd/l2hmc-qcd/utils/file_io.py\"><span style=\"color: #7f7f7f\">file_io.py</span></a><span style=\"color: #7f7f7f\">:184</span>\n",
       "</pre>\n"
      ],
      "text/plain": [
       "<rich.jupyter.JupyterRenderable at 0x7fd2e31347f0>"
      ]
     },
     "metadata": {},
     "output_type": "display_data"
    },
    {
     "data": {
      "text/html": [
       "<pre style=\"white-space:pre;overflow-x:auto;line-height:normal;font-family:Menlo,'DejaVu Sans Mono',consolas,'Courier New',monospace\"><span style=\"color: #7fbfbf\">           </span>step:    <span style=\"color: #ff79ff\">39</span>/<span style=\"color: #ff79ff\">100</span>   dt: <span style=\"color: #ff79ff\">0.285</span> loss:  <span style=\"color: #ff79ff\">-5.6</span> accept_prob: <span style=\"color: #ff79ff\">0.216</span> beta:     <span style=\"color: #ff79ff\">3</span> dq_int: <span style=\"color: #ff79ff\">0.113</span> dq_sin: <span style=\"color: #ff79ff\">0.0874</span> plaqs: <span style=\"color: #ff79ff\">-0.000101</span> p4x4: <span style=\"color: #ff79ff\">0.0334</span>                                                                                                                                                  <a href=\"file:///Users/saforem2/l2hmc-qcd/l2hmc-qcd/utils/file_io.py\"><span style=\"color: #7f7f7f\">file_io.py</span></a><span style=\"color: #7f7f7f\">:184</span>\n",
       "</pre>\n"
      ],
      "text/plain": [
       "<rich.jupyter.JupyterRenderable at 0x7fd3041ab070>"
      ]
     },
     "metadata": {},
     "output_type": "display_data"
    },
    {
     "data": {
      "text/html": [
       "<pre style=\"white-space:pre;overflow-x:auto;line-height:normal;font-family:Menlo,'DejaVu Sans Mono',consolas,'Courier New',monospace\"><span style=\"color: #7fbfbf\">           </span>step:    <span style=\"color: #ff79ff\">40</span>/<span style=\"color: #ff79ff\">100</span>   dt: <span style=\"color: #ff79ff\">0.267</span> loss: <span style=\"color: #ff79ff\">-3.94</span> accept_prob:   <span style=\"color: #ff79ff\">0.2</span> beta:     <span style=\"color: #ff79ff\">3</span> dq_int: <span style=\"color: #ff79ff\">0.0703</span> dq_sin: <span style=\"color: #ff79ff\">0.0625</span> plaqs: <span style=\"color: #ff79ff\">0.000459</span> p4x4: <span style=\"color: #ff79ff\">0.0345</span>                                                                                                                                                  <a href=\"file:///Users/saforem2/l2hmc-qcd/l2hmc-qcd/utils/file_io.py\"><span style=\"color: #7f7f7f\">file_io.py</span></a><span style=\"color: #7f7f7f\">:184</span>\n",
       "</pre>\n"
      ],
      "text/plain": [
       "<rich.jupyter.JupyterRenderable at 0x7fd2f5271a60>"
      ]
     },
     "metadata": {},
     "output_type": "display_data"
    },
    {
     "data": {
      "text/html": [
       "<pre style=\"white-space:pre;overflow-x:auto;line-height:normal;font-family:Menlo,'DejaVu Sans Mono',consolas,'Courier New',monospace\"><span style=\"color: #7fbfbf\">[17:29:19] </span>step:    <span style=\"color: #ff79ff\">41</span>/<span style=\"color: #ff79ff\">100</span>   dt: <span style=\"color: #ff79ff\">0.254</span> loss: <span style=\"color: #ff79ff\">-7.53</span> accept_prob: <span style=\"color: #ff79ff\">0.287</span> beta:     <span style=\"color: #ff79ff\">3</span> dq_int: <span style=\"color: #ff79ff\">0.0781</span> dq_sin: <span style=\"color: #ff79ff\">0.115</span> plaqs: <span style=\"color: #ff79ff\">0.00113</span> p4x4: <span style=\"color: #ff79ff\">0.0337</span>                                                                                                                                                    <a href=\"file:///Users/saforem2/l2hmc-qcd/l2hmc-qcd/utils/file_io.py\"><span style=\"color: #7f7f7f\">file_io.py</span></a><span style=\"color: #7f7f7f\">:184</span>\n",
       "</pre>\n"
      ],
      "text/plain": [
       "<rich.jupyter.JupyterRenderable at 0x7fd303f2fa30>"
      ]
     },
     "metadata": {},
     "output_type": "display_data"
    },
    {
     "data": {
      "text/html": [
       "<pre style=\"white-space:pre;overflow-x:auto;line-height:normal;font-family:Menlo,'DejaVu Sans Mono',consolas,'Courier New',monospace\"><span style=\"color: #7fbfbf\">           </span>step:    <span style=\"color: #ff79ff\">42</span>/<span style=\"color: #ff79ff\">100</span>   dt: <span style=\"color: #ff79ff\">0.261</span> loss: <span style=\"color: #ff79ff\">-6.02</span> accept_prob: <span style=\"color: #ff79ff\">0.221</span> beta:     <span style=\"color: #ff79ff\">3</span> dq_int: <span style=\"color: #ff79ff\">0.0781</span> dq_sin: <span style=\"color: #ff79ff\">0.0927</span> plaqs: <span style=\"color: #ff79ff\">0.00047</span> p4x4: <span style=\"color: #ff79ff\">0.0308</span>                                                                                                                                                   <a href=\"file:///Users/saforem2/l2hmc-qcd/l2hmc-qcd/utils/file_io.py\"><span style=\"color: #7f7f7f\">file_io.py</span></a><span style=\"color: #7f7f7f\">:184</span>\n",
       "</pre>\n"
      ],
      "text/plain": [
       "<rich.jupyter.JupyterRenderable at 0x7fd2e42dd6d0>"
      ]
     },
     "metadata": {},
     "output_type": "display_data"
    },
    {
     "data": {
      "text/html": [
       "<pre style=\"white-space:pre;overflow-x:auto;line-height:normal;font-family:Menlo,'DejaVu Sans Mono',consolas,'Courier New',monospace\"><span style=\"color: #7fbfbf\">[17:29:20] </span>step:    <span style=\"color: #ff79ff\">43</span>/<span style=\"color: #ff79ff\">100</span>   dt: <span style=\"color: #ff79ff\">0.309</span> loss: <span style=\"color: #ff79ff\">-5.06</span> accept_prob: <span style=\"color: #ff79ff\">0.179</span> beta:     <span style=\"color: #ff79ff\">3</span> dq_int: <span style=\"color: #ff79ff\">0.0664</span> dq_sin: <span style=\"color: #ff79ff\">0.0853</span> plaqs: <span style=\"color: #ff79ff\">0.000668</span> p4x4: <span style=\"color: #ff79ff\">0.029</span>                                                                                                                                                   <a href=\"file:///Users/saforem2/l2hmc-qcd/l2hmc-qcd/utils/file_io.py\"><span style=\"color: #7f7f7f\">file_io.py</span></a><span style=\"color: #7f7f7f\">:184</span>\n",
       "</pre>\n"
      ],
      "text/plain": [
       "<rich.jupyter.JupyterRenderable at 0x7fd320f69940>"
      ]
     },
     "metadata": {},
     "output_type": "display_data"
    },
    {
     "data": {
      "text/html": [
       "<pre style=\"white-space:pre;overflow-x:auto;line-height:normal;font-family:Menlo,'DejaVu Sans Mono',consolas,'Courier New',monospace\"><span style=\"color: #7fbfbf\">           </span>step:    <span style=\"color: #ff79ff\">44</span>/<span style=\"color: #ff79ff\">100</span>   dt: <span style=\"color: #ff79ff\">0.269</span> loss: <span style=\"color: #ff79ff\">-5.84</span> accept_prob:  <span style=\"color: #ff79ff\">0.25</span> beta:     <span style=\"color: #ff79ff\">3</span> dq_int: <span style=\"color: #ff79ff\">0.0977</span> dq_sin: <span style=\"color: #ff79ff\">0.112</span> plaqs: <span style=\"color: #ff79ff\">0.000785</span> p4x4: <span style=\"color: #ff79ff\">0.0316</span>                                                                                                                                                   <a href=\"file:///Users/saforem2/l2hmc-qcd/l2hmc-qcd/utils/file_io.py\"><span style=\"color: #7f7f7f\">file_io.py</span></a><span style=\"color: #7f7f7f\">:184</span>\n",
       "</pre>\n"
      ],
      "text/plain": [
       "<rich.jupyter.JupyterRenderable at 0x7fd3420d2ca0>"
      ]
     },
     "metadata": {},
     "output_type": "display_data"
    },
    {
     "data": {
      "text/html": [
       "<pre style=\"white-space:pre;overflow-x:auto;line-height:normal;font-family:Menlo,'DejaVu Sans Mono',consolas,'Courier New',monospace\"><span style=\"color: #7fbfbf\">           </span>step:    <span style=\"color: #ff79ff\">45</span>/<span style=\"color: #ff79ff\">100</span>   dt: <span style=\"color: #ff79ff\">0.268</span> loss: <span style=\"color: #ff79ff\">-4.14</span> accept_prob: <span style=\"color: #ff79ff\">0.215</span> beta:     <span style=\"color: #ff79ff\">3</span> dq_int: <span style=\"color: #ff79ff\">0.0508</span> dq_sin: <span style=\"color: #ff79ff\">0.0804</span> plaqs: <span style=\"color: #ff79ff\">0.00144</span> p4x4: <span style=\"color: #ff79ff\">0.0342</span>                                                                                                                                                   <a href=\"file:///Users/saforem2/l2hmc-qcd/l2hmc-qcd/utils/file_io.py\"><span style=\"color: #7f7f7f\">file_io.py</span></a><span style=\"color: #7f7f7f\">:184</span>\n",
       "</pre>\n"
      ],
      "text/plain": [
       "<rich.jupyter.JupyterRenderable at 0x7fd325538100>"
      ]
     },
     "metadata": {},
     "output_type": "display_data"
    },
    {
     "data": {
      "text/html": [
       "<pre style=\"white-space:pre;overflow-x:auto;line-height:normal;font-family:Menlo,'DejaVu Sans Mono',consolas,'Courier New',monospace\"><span style=\"color: #7fbfbf\">[17:29:21] </span>step:    <span style=\"color: #ff79ff\">46</span>/<span style=\"color: #ff79ff\">100</span>   dt: <span style=\"color: #ff79ff\">0.268</span> loss: <span style=\"color: #ff79ff\">-5.97</span> accept_prob: <span style=\"color: #ff79ff\">0.267</span> beta:     <span style=\"color: #ff79ff\">3</span> dq_int: <span style=\"color: #ff79ff\">0.0664</span> dq_sin: <span style=\"color: #ff79ff\">0.0795</span> plaqs: <span style=\"color: #ff79ff\">0.000581</span> p4x4: <span style=\"color: #ff79ff\">0.0336</span>                                                                                                                                                  <a href=\"file:///Users/saforem2/l2hmc-qcd/l2hmc-qcd/utils/file_io.py\"><span style=\"color: #7f7f7f\">file_io.py</span></a><span style=\"color: #7f7f7f\">:184</span>\n",
       "</pre>\n"
      ],
      "text/plain": [
       "<rich.jupyter.JupyterRenderable at 0x7fd2e2487550>"
      ]
     },
     "metadata": {},
     "output_type": "display_data"
    },
    {
     "data": {
      "text/html": [
       "<pre style=\"white-space:pre;overflow-x:auto;line-height:normal;font-family:Menlo,'DejaVu Sans Mono',consolas,'Courier New',monospace\"><span style=\"color: #7fbfbf\">           </span>step:    <span style=\"color: #ff79ff\">47</span>/<span style=\"color: #ff79ff\">100</span>   dt: <span style=\"color: #ff79ff\">0.263</span> loss: <span style=\"color: #ff79ff\">-5.73</span> accept_prob: <span style=\"color: #ff79ff\">0.209</span> beta:     <span style=\"color: #ff79ff\">3</span> dq_int: <span style=\"color: #ff79ff\">0.0938</span> dq_sin: <span style=\"color: #ff79ff\">0.0888</span> plaqs: <span style=\"color: #ff79ff\">0.000197</span> p4x4: <span style=\"color: #ff79ff\">0.033</span>                                                                                                                                                   <a href=\"file:///Users/saforem2/l2hmc-qcd/l2hmc-qcd/utils/file_io.py\"><span style=\"color: #7f7f7f\">file_io.py</span></a><span style=\"color: #7f7f7f\">:184</span>\n",
       "</pre>\n"
      ],
      "text/plain": [
       "<rich.jupyter.JupyterRenderable at 0x7fd302d44850>"
      ]
     },
     "metadata": {},
     "output_type": "display_data"
    },
    {
     "data": {
      "text/html": [
       "<pre style=\"white-space:pre;overflow-x:auto;line-height:normal;font-family:Menlo,'DejaVu Sans Mono',consolas,'Courier New',monospace\"><span style=\"color: #7fbfbf\">           </span>step:    <span style=\"color: #ff79ff\">48</span>/<span style=\"color: #ff79ff\">100</span>   dt: <span style=\"color: #ff79ff\">0.284</span> loss: <span style=\"color: #ff79ff\">-7.12</span> accept_prob: <span style=\"color: #ff79ff\">0.263</span> beta:     <span style=\"color: #ff79ff\">3</span> dq_int: <span style=\"color: #ff79ff\">0.0703</span> dq_sin: <span style=\"color: #ff79ff\">0.121</span> plaqs: <span style=\"color: #ff79ff\">0.000822</span> p4x4: <span style=\"color: #ff79ff\">0.0334</span>                                                                                                                                                   <a href=\"file:///Users/saforem2/l2hmc-qcd/l2hmc-qcd/utils/file_io.py\"><span style=\"color: #7f7f7f\">file_io.py</span></a><span style=\"color: #7f7f7f\">:184</span>\n",
       "</pre>\n"
      ],
      "text/plain": [
       "<rich.jupyter.JupyterRenderable at 0x7fd31a97f2e0>"
      ]
     },
     "metadata": {},
     "output_type": "display_data"
    },
    {
     "data": {
      "text/html": [
       "<pre style=\"white-space:pre;overflow-x:auto;line-height:normal;font-family:Menlo,'DejaVu Sans Mono',consolas,'Courier New',monospace\"><span style=\"color: #7fbfbf\">[17:29:22] </span>step:    <span style=\"color: #ff79ff\">49</span>/<span style=\"color: #ff79ff\">100</span>   dt: <span style=\"color: #ff79ff\">0.274</span> loss: <span style=\"color: #ff79ff\">-6.29</span> accept_prob: <span style=\"color: #ff79ff\">0.237</span> beta:     <span style=\"color: #ff79ff\">3</span> dq_int: <span style=\"color: #ff79ff\">0.0664</span> dq_sin: <span style=\"color: #ff79ff\">0.0972</span> plaqs: <span style=\"color: #ff79ff\">0.00036</span> p4x4: <span style=\"color: #ff79ff\">0.0314</span>                                                                                                                                                   <a href=\"file:///Users/saforem2/l2hmc-qcd/l2hmc-qcd/utils/file_io.py\"><span style=\"color: #7f7f7f\">file_io.py</span></a><span style=\"color: #7f7f7f\">:184</span>\n",
       "</pre>\n"
      ],
      "text/plain": [
       "<rich.jupyter.JupyterRenderable at 0x7fd321147f40>"
      ]
     },
     "metadata": {},
     "output_type": "display_data"
    },
    {
     "data": {
      "text/html": [
       "<pre style=\"white-space:pre;overflow-x:auto;line-height:normal;font-family:Menlo,'DejaVu Sans Mono',consolas,'Courier New',monospace\"><span style=\"color: #00ff00\">─────────────────────────────────────────────────────────────────────────────────────────────────────────────────────────────────────────── </span><span style=\"font-weight: bold\">[</span><span style=\"color: #ff79ff\">2021</span>-<span style=\"color: #ff79ff\">01</span>-<span style=\"color: #ff79ff\">26</span> <span style=\"color: #00ff00; font-weight: bold\">17:29</span><span style=\"font-weight: bold\">]</span> <span style=\"color: #00ff00\"> ────────────────────────────────────────────────────────────────────────────────────────────────────────────────────────────────────────────</span>\n",
       "</pre>\n"
      ],
      "text/plain": [
       "<rich.jupyter.JupyterRenderable at 0x7fd2f4013400>"
      ]
     },
     "metadata": {},
     "output_type": "display_data"
    },
    {
     "data": {
      "text/html": [
       "<pre style=\"white-space:pre;overflow-x:auto;line-height:normal;font-family:Menlo,'DejaVu Sans Mono',consolas,'Courier New',monospace\"><span style=\"color: #7fbfbf\">           </span>step:    <span style=\"color: #ff79ff\">50</span>/<span style=\"color: #ff79ff\">100</span>   dt:   <span style=\"color: #ff79ff\">0.3</span> loss: <span style=\"color: #ff79ff\">-4.66</span> accept_prob: <span style=\"color: #ff79ff\">0.204</span> beta:     <span style=\"color: #ff79ff\">3</span> dq_int: <span style=\"color: #ff79ff\">0.0781</span> dq_sin: <span style=\"color: #ff79ff\">0.0764</span> plaqs: <span style=\"color: #ff79ff\">-0.000199</span> p4x4: <span style=\"color: #ff79ff\">0.0302</span>                                                                                                                                                 <a href=\"file:///Users/saforem2/l2hmc-qcd/l2hmc-qcd/utils/file_io.py\"><span style=\"color: #7f7f7f\">file_io.py</span></a><span style=\"color: #7f7f7f\">:184</span>\n",
       "</pre>\n"
      ],
      "text/plain": [
       "<rich.jupyter.JupyterRenderable at 0x7fd332a9b070>"
      ]
     },
     "metadata": {},
     "output_type": "display_data"
    },
    {
     "data": {
      "text/html": [
       "<pre style=\"white-space:pre;overflow-x:auto;line-height:normal;font-family:Menlo,'DejaVu Sans Mono',consolas,'Courier New',monospace\"><span style=\"color: #7fbfbf\">[17:29:28] </span>step:    <span style=\"color: #ff79ff\">51</span>/<span style=\"color: #ff79ff\">100</span>   dt:  <span style=\"color: #ff79ff\">0.28</span> loss: <span style=\"color: #ff79ff\">-5.04</span> accept_prob: <span style=\"color: #ff79ff\">0.187</span> beta:     <span style=\"color: #ff79ff\">3</span> dq_int: <span style=\"color: #ff79ff\">0.082</span> dq_sin:  <span style=\"color: #ff79ff\">0.07</span> plaqs: <span style=\"color: #ff79ff\">-0.000139</span> p4x4: <span style=\"color: #ff79ff\">0.0295</span>                                                                                                                                                   <a href=\"file:///Users/saforem2/l2hmc-qcd/l2hmc-qcd/utils/file_io.py\"><span style=\"color: #7f7f7f\">file_io.py</span></a><span style=\"color: #7f7f7f\">:184</span>\n",
       "</pre>\n"
      ],
      "text/plain": [
       "<rich.jupyter.JupyterRenderable at 0x7fd340c40d30>"
      ]
     },
     "metadata": {},
     "output_type": "display_data"
    },
    {
     "data": {
      "text/html": [
       "<pre style=\"white-space:pre;overflow-x:auto;line-height:normal;font-family:Menlo,'DejaVu Sans Mono',consolas,'Courier New',monospace\"><span style=\"color: #7fbfbf\">           </span>step:    <span style=\"color: #ff79ff\">52</span>/<span style=\"color: #ff79ff\">100</span>   dt: <span style=\"color: #ff79ff\">0.297</span> loss:  <span style=\"color: #ff79ff\">-5.3</span> accept_prob: <span style=\"color: #ff79ff\">0.198</span> beta:     <span style=\"color: #ff79ff\">3</span> dq_int: <span style=\"color: #ff79ff\">0.0703</span> dq_sin: <span style=\"color: #ff79ff\">0.0864</span> plaqs: <span style=\"color: #ff79ff\">-0.000205</span> p4x4: <span style=\"color: #ff79ff\">0.0292</span>                                                                                                                                                 <a href=\"file:///Users/saforem2/l2hmc-qcd/l2hmc-qcd/utils/file_io.py\"><span style=\"color: #7f7f7f\">file_io.py</span></a><span style=\"color: #7f7f7f\">:184</span>\n",
       "</pre>\n"
      ],
      "text/plain": [
       "<rich.jupyter.JupyterRenderable at 0x7fd2f494e6a0>"
      ]
     },
     "metadata": {},
     "output_type": "display_data"
    },
    {
     "data": {
      "text/html": [
       "<pre style=\"white-space:pre;overflow-x:auto;line-height:normal;font-family:Menlo,'DejaVu Sans Mono',consolas,'Courier New',monospace\"><span style=\"color: #7fbfbf\">           </span>step:    <span style=\"color: #ff79ff\">53</span>/<span style=\"color: #ff79ff\">100</span>   dt: <span style=\"color: #ff79ff\">0.297</span> loss: <span style=\"color: #ff79ff\">-6.11</span> accept_prob: <span style=\"color: #ff79ff\">0.244</span> beta:     <span style=\"color: #ff79ff\">3</span> dq_int: <span style=\"color: #ff79ff\">0.0703</span> dq_sin: <span style=\"color: #ff79ff\">0.104</span> plaqs: <span style=\"color: #ff79ff\">-0.000878</span> p4x4: <span style=\"color: #ff79ff\">0.0295</span>                                                                                                                                                  <a href=\"file:///Users/saforem2/l2hmc-qcd/l2hmc-qcd/utils/file_io.py\"><span style=\"color: #7f7f7f\">file_io.py</span></a><span style=\"color: #7f7f7f\">:184</span>\n",
       "</pre>\n"
      ],
      "text/plain": [
       "<rich.jupyter.JupyterRenderable at 0x7fd32308a130>"
      ]
     },
     "metadata": {},
     "output_type": "display_data"
    },
    {
     "data": {
      "text/html": [
       "<pre style=\"white-space:pre;overflow-x:auto;line-height:normal;font-family:Menlo,'DejaVu Sans Mono',consolas,'Courier New',monospace\"><span style=\"color: #7fbfbf\">[17:29:29] </span>step:    <span style=\"color: #ff79ff\">54</span>/<span style=\"color: #ff79ff\">100</span>   dt: <span style=\"color: #ff79ff\">0.288</span> loss: <span style=\"color: #ff79ff\">-6.05</span> accept_prob: <span style=\"color: #ff79ff\">0.218</span> beta:     <span style=\"color: #ff79ff\">3</span> dq_int: <span style=\"color: #ff79ff\">0.0586</span> dq_sin: <span style=\"color: #ff79ff\">0.0878</span> plaqs: <span style=\"color: #ff79ff\">-0.00142</span> p4x4: <span style=\"color: #ff79ff\">0.0337</span>                                                                                                                                                  <a href=\"file:///Users/saforem2/l2hmc-qcd/l2hmc-qcd/utils/file_io.py\"><span style=\"color: #7f7f7f\">file_io.py</span></a><span style=\"color: #7f7f7f\">:184</span>\n",
       "</pre>\n"
      ],
      "text/plain": [
       "<rich.jupyter.JupyterRenderable at 0x7fd2e41be910>"
      ]
     },
     "metadata": {},
     "output_type": "display_data"
    },
    {
     "data": {
      "text/html": [
       "<pre style=\"white-space:pre;overflow-x:auto;line-height:normal;font-family:Menlo,'DejaVu Sans Mono',consolas,'Courier New',monospace\"><span style=\"color: #7fbfbf\">           </span>step:    <span style=\"color: #ff79ff\">55</span>/<span style=\"color: #ff79ff\">100</span>   dt: <span style=\"color: #ff79ff\">0.311</span> loss: <span style=\"color: #ff79ff\">-2.59</span> accept_prob: <span style=\"color: #ff79ff\">0.163</span> beta:     <span style=\"color: #ff79ff\">3</span> dq_int: <span style=\"color: #ff79ff\">0.0391</span> dq_sin: <span style=\"color: #ff79ff\">0.0423</span> plaqs: <span style=\"color: #ff79ff\">-0.000994</span> p4x4: <span style=\"color: #ff79ff\">0.0346</span>                                                                                                                                                 <a href=\"file:///Users/saforem2/l2hmc-qcd/l2hmc-qcd/utils/file_io.py\"><span style=\"color: #7f7f7f\">file_io.py</span></a><span style=\"color: #7f7f7f\">:184</span>\n",
       "</pre>\n"
      ],
      "text/plain": [
       "<rich.jupyter.JupyterRenderable at 0x7fd31a97f2e0>"
      ]
     },
     "metadata": {},
     "output_type": "display_data"
    },
    {
     "data": {
      "text/html": [
       "<pre style=\"white-space:pre;overflow-x:auto;line-height:normal;font-family:Menlo,'DejaVu Sans Mono',consolas,'Courier New',monospace\"><span style=\"color: #7fbfbf\">           </span>step:    <span style=\"color: #ff79ff\">56</span>/<span style=\"color: #ff79ff\">100</span>   dt: <span style=\"color: #ff79ff\">0.326</span> loss: <span style=\"color: #ff79ff\">-5.45</span> accept_prob: <span style=\"color: #ff79ff\">0.239</span> beta:     <span style=\"color: #ff79ff\">3</span> dq_int: <span style=\"color: #ff79ff\">0.109</span> dq_sin: <span style=\"color: #ff79ff\">0.0881</span> plaqs: <span style=\"color: #ff79ff\">-0.000989</span> p4x4: <span style=\"color: #ff79ff\">0.0331</span>                                                                                                                                                  <a href=\"file:///Users/saforem2/l2hmc-qcd/l2hmc-qcd/utils/file_io.py\"><span style=\"color: #7f7f7f\">file_io.py</span></a><span style=\"color: #7f7f7f\">:184</span>\n",
       "</pre>\n"
      ],
      "text/plain": [
       "<rich.jupyter.JupyterRenderable at 0x7fd3556a6f40>"
      ]
     },
     "metadata": {},
     "output_type": "display_data"
    },
    {
     "data": {
      "text/html": [
       "<pre style=\"white-space:pre;overflow-x:auto;line-height:normal;font-family:Menlo,'DejaVu Sans Mono',consolas,'Courier New',monospace\"><span style=\"color: #7fbfbf\">[17:29:30] </span>step:    <span style=\"color: #ff79ff\">57</span>/<span style=\"color: #ff79ff\">100</span>   dt: <span style=\"color: #ff79ff\">0.328</span> loss: <span style=\"color: #ff79ff\">-6.19</span> accept_prob: <span style=\"color: #ff79ff\">0.229</span> beta:     <span style=\"color: #ff79ff\">3</span> dq_int: <span style=\"color: #ff79ff\">0.0938</span> dq_sin: <span style=\"color: #ff79ff\">0.0898</span> plaqs: <span style=\"color: #ff79ff\">-0.00103</span> p4x4: <span style=\"color: #ff79ff\">0.0373</span>                                                                                                                                                  <a href=\"file:///Users/saforem2/l2hmc-qcd/l2hmc-qcd/utils/file_io.py\"><span style=\"color: #7f7f7f\">file_io.py</span></a><span style=\"color: #7f7f7f\">:184</span>\n",
       "</pre>\n"
      ],
      "text/plain": [
       "<rich.jupyter.JupyterRenderable at 0x7fd323082460>"
      ]
     },
     "metadata": {},
     "output_type": "display_data"
    },
    {
     "data": {
      "text/html": [
       "<pre style=\"white-space:pre;overflow-x:auto;line-height:normal;font-family:Menlo,'DejaVu Sans Mono',consolas,'Courier New',monospace\"><span style=\"color: #7fbfbf\">           </span>step:    <span style=\"color: #ff79ff\">58</span>/<span style=\"color: #ff79ff\">100</span>   dt: <span style=\"color: #ff79ff\">0.298</span> loss: <span style=\"color: #ff79ff\">-3.96</span> accept_prob: <span style=\"color: #ff79ff\">0.201</span> beta:     <span style=\"color: #ff79ff\">3</span> dq_int: <span style=\"color: #ff79ff\">0.0469</span> dq_sin: <span style=\"color: #ff79ff\">0.0615</span> plaqs: <span style=\"color: #ff79ff\">-0.00164</span> p4x4: <span style=\"color: #ff79ff\">0.0369</span>                                                                                                                                                  <a href=\"file:///Users/saforem2/l2hmc-qcd/l2hmc-qcd/utils/file_io.py\"><span style=\"color: #7f7f7f\">file_io.py</span></a><span style=\"color: #7f7f7f\">:184</span>\n",
       "</pre>\n"
      ],
      "text/plain": [
       "<rich.jupyter.JupyterRenderable at 0x7fd303f36fd0>"
      ]
     },
     "metadata": {},
     "output_type": "display_data"
    },
    {
     "data": {
      "text/html": [
       "<pre style=\"white-space:pre;overflow-x:auto;line-height:normal;font-family:Menlo,'DejaVu Sans Mono',consolas,'Courier New',monospace\"><span style=\"color: #7fbfbf\">[17:29:31] </span>Checkpoint saved to: <span style=\"color: #800080\">/Users/saforem2/l2hmc-qcd/logs/GaugeModel_logs/test/2021_01/DEBUG_L16_b256_lf5_actswish_bi3_bf3_dp01_sepNets_NCProj-2021-01-26-1725/training/checkpoints/</span><span style=\"color: #ff00ff\">ckpt-3</span>                                                                                               <a href=\"file:///Users/saforem2/l2hmc-qcd/l2hmc-qcd/utils/file_io.py\"><span style=\"color: #7f7f7f\">file_io.py</span></a><span style=\"color: #7f7f7f\">:184</span>\n",
       "</pre>\n"
      ],
      "text/plain": [
       "<rich.jupyter.JupyterRenderable at 0x7fd2e24eb280>"
      ]
     },
     "metadata": {},
     "output_type": "display_data"
    },
    {
     "data": {
      "text/html": [
       "<pre style=\"white-space:pre;overflow-x:auto;line-height:normal;font-family:Menlo,'DejaVu Sans Mono',consolas,'Courier New',monospace\"><span style=\"color: #7fbfbf\">           </span>Saving veps to <span style=\"color: #800080\">/Users/saforem2/l2hmc-qcd/logs/GaugeModel_logs/test/2021_01/DEBUG_L16_b256_lf5_actswish_bi3_bf3_dp01_sepNets_NCProj-2021-01-26-1725/training/models/</span><span style=\"color: #ff00ff\">veps.z.</span>                                                                                                         <a href=\"file:///Users/saforem2/l2hmc-qcd/l2hmc-qcd/utils/file_io.py\"><span style=\"color: #7f7f7f\">file_io.py</span></a><span style=\"color: #7f7f7f\">:363</span>\n",
       "</pre>\n"
      ],
      "text/plain": [
       "<rich.jupyter.JupyterRenderable at 0x7fd2e24ebd90>"
      ]
     },
     "metadata": {},
     "output_type": "display_data"
    },
    {
     "data": {
      "text/html": [
       "<pre style=\"white-space:pre;overflow-x:auto;line-height:normal;font-family:Menlo,'DejaVu Sans Mono',consolas,'Courier New',monospace\"><span style=\"color: #7fbfbf\">           </span>Saving xeps to <span style=\"color: #800080\">/Users/saforem2/l2hmc-qcd/logs/GaugeModel_logs/test/2021_01/DEBUG_L16_b256_lf5_actswish_bi3_bf3_dp01_sepNets_NCProj-2021-01-26-1725/training/models/</span><span style=\"color: #ff00ff\">xeps.z.</span>                                                                                                         <a href=\"file:///Users/saforem2/l2hmc-qcd/l2hmc-qcd/utils/file_io.py\"><span style=\"color: #7f7f7f\">file_io.py</span></a><span style=\"color: #7f7f7f\">:363</span>\n",
       "</pre>\n"
      ],
      "text/plain": [
       "<rich.jupyter.JupyterRenderable at 0x7fd2e24eb100>"
      ]
     },
     "metadata": {},
     "output_type": "display_data"
    },
    {
     "data": {
      "text/html": [
       "<pre style=\"white-space:pre;overflow-x:auto;line-height:normal;font-family:Menlo,'DejaVu Sans Mono',consolas,'Courier New',monospace\"><span style=\"color: #7fbfbf\">[17:30:03] </span>Networks saved to: <span style=\"color: #800080\">/Users/saforem2/l2hmc-qcd/logs/GaugeModel_logs/test/2021_01/</span><span style=\"color: #ff00ff\">DEBUG_L16_b256_lf5_actswish_bi3_bf3_dp01_sepNets_NCProj-2021-01-26-1725</span>                                                                                                                             <a href=\"file:///Users/saforem2/l2hmc-qcd/l2hmc-qcd/utils/file_io.py\"><span style=\"color: #7f7f7f\">file_io.py</span></a><span style=\"color: #7f7f7f\">:184</span>\n",
       "</pre>\n"
      ],
      "text/plain": [
       "<rich.jupyter.JupyterRenderable at 0x7fd2f4930a60>"
      ]
     },
     "metadata": {},
     "output_type": "display_data"
    },
    {
     "data": {
      "text/html": [
       "<pre style=\"white-space:pre;overflow-x:auto;line-height:normal;font-family:Menlo,'DejaVu Sans Mono',consolas,'Courier New',monospace\"><span style=\"color: #7fbfbf\">           </span>step:    <span style=\"color: #ff79ff\">59</span>/<span style=\"color: #ff79ff\">100</span>   dt:  <span style=\"color: #ff79ff\">0.29</span> loss:  <span style=\"color: #ff79ff\">-4.2</span> accept_prob: <span style=\"color: #ff79ff\">0.191</span> beta:     <span style=\"color: #ff79ff\">3</span> dq_int: <span style=\"color: #ff79ff\">0.043</span> dq_sin: <span style=\"color: #ff79ff\">0.0708</span> plaqs: <span style=\"color: #ff79ff\">-0.000942</span> p4x4: <span style=\"color: #ff79ff\">0.0372</span>                                                                                                                                                  <a href=\"file:///Users/saforem2/l2hmc-qcd/l2hmc-qcd/utils/file_io.py\"><span style=\"color: #7f7f7f\">file_io.py</span></a><span style=\"color: #7f7f7f\">:184</span>\n",
       "</pre>\n"
      ],
      "text/plain": [
       "<rich.jupyter.JupyterRenderable at 0x7fd31ae70df0>"
      ]
     },
     "metadata": {},
     "output_type": "display_data"
    },
    {
     "data": {
      "text/html": [
       "<pre style=\"white-space:pre;overflow-x:auto;line-height:normal;font-family:Menlo,'DejaVu Sans Mono',consolas,'Courier New',monospace\"><span style=\"color: #7fbfbf\">           </span>step:    <span style=\"color: #ff79ff\">60</span>/<span style=\"color: #ff79ff\">100</span>   dt: <span style=\"color: #ff79ff\">0.249</span> loss: <span style=\"color: #ff79ff\">-3.67</span> accept_prob: <span style=\"color: #ff79ff\">0.181</span> beta:     <span style=\"color: #ff79ff\">3</span> dq_int: <span style=\"color: #ff79ff\">0.0391</span> dq_sin: <span style=\"color: #ff79ff\">0.0613</span> plaqs: <span style=\"color: #ff79ff\">5.65e-05</span> p4x4: <span style=\"color: #ff79ff\">0.0375</span>                                                                                                                                                  <a href=\"file:///Users/saforem2/l2hmc-qcd/l2hmc-qcd/utils/file_io.py\"><span style=\"color: #7f7f7f\">file_io.py</span></a><span style=\"color: #7f7f7f\">:184</span>\n",
       "</pre>\n"
      ],
      "text/plain": [
       "<rich.jupyter.JupyterRenderable at 0x7fd2f3de1d60>"
      ]
     },
     "metadata": {},
     "output_type": "display_data"
    },
    {
     "data": {
      "text/html": [
       "<pre style=\"white-space:pre;overflow-x:auto;line-height:normal;font-family:Menlo,'DejaVu Sans Mono',consolas,'Courier New',monospace\"><span style=\"color: #7fbfbf\">[17:30:08] </span>step:    <span style=\"color: #ff79ff\">61</span>/<span style=\"color: #ff79ff\">100</span>   dt:  <span style=\"color: #ff79ff\">0.26</span> loss: <span style=\"color: #ff79ff\">-4.92</span> accept_prob: <span style=\"color: #ff79ff\">0.223</span> beta:     <span style=\"color: #ff79ff\">3</span> dq_int: <span style=\"color: #ff79ff\">0.0664</span> dq_sin: <span style=\"color: #ff79ff\">0.101</span> plaqs: <span style=\"color: #ff79ff\">-9.74e-05</span> p4x4: <span style=\"color: #ff79ff\">0.0389</span>                                                                                                                                                  <a href=\"file:///Users/saforem2/l2hmc-qcd/l2hmc-qcd/utils/file_io.py\"><span style=\"color: #7f7f7f\">file_io.py</span></a><span style=\"color: #7f7f7f\">:184</span>\n",
       "</pre>\n"
      ],
      "text/plain": [
       "<rich.jupyter.JupyterRenderable at 0x7fd342a92970>"
      ]
     },
     "metadata": {},
     "output_type": "display_data"
    },
    {
     "data": {
      "text/html": [
       "<pre style=\"white-space:pre;overflow-x:auto;line-height:normal;font-family:Menlo,'DejaVu Sans Mono',consolas,'Courier New',monospace\"><span style=\"color: #7fbfbf\">           </span>step:    <span style=\"color: #ff79ff\">62</span>/<span style=\"color: #ff79ff\">100</span>   dt: <span style=\"color: #ff79ff\">0.262</span> loss: <span style=\"color: #ff79ff\">-5.83</span> accept_prob: <span style=\"color: #ff79ff\">0.201</span> beta:     <span style=\"color: #ff79ff\">3</span> dq_int: <span style=\"color: #ff79ff\">0.0742</span> dq_sin: <span style=\"color: #ff79ff\">0.0886</span> plaqs: <span style=\"color: #ff79ff\">-0.000298</span> p4x4: <span style=\"color: #ff79ff\">0.0398</span>                                                                                                                                                 <a href=\"file:///Users/saforem2/l2hmc-qcd/l2hmc-qcd/utils/file_io.py\"><span style=\"color: #7f7f7f\">file_io.py</span></a><span style=\"color: #7f7f7f\">:184</span>\n",
       "</pre>\n"
      ],
      "text/plain": [
       "<rich.jupyter.JupyterRenderable at 0x7fd2f3f0beb0>"
      ]
     },
     "metadata": {},
     "output_type": "display_data"
    },
    {
     "data": {
      "text/html": [
       "<pre style=\"white-space:pre;overflow-x:auto;line-height:normal;font-family:Menlo,'DejaVu Sans Mono',consolas,'Courier New',monospace\"><span style=\"color: #7fbfbf\">[17:30:09] </span>step:    <span style=\"color: #ff79ff\">63</span>/<span style=\"color: #ff79ff\">100</span>   dt: <span style=\"color: #ff79ff\">0.272</span> loss: <span style=\"color: #ff79ff\">-3.37</span> accept_prob: <span style=\"color: #ff79ff\">0.189</span> beta:     <span style=\"color: #ff79ff\">3</span> dq_int: <span style=\"color: #ff79ff\">0.0664</span> dq_sin: <span style=\"color: #ff79ff\">0.0665</span> plaqs: <span style=\"color: #ff79ff\">0.000468</span> p4x4: <span style=\"color: #ff79ff\">0.0397</span>                                                                                                                                                  <a href=\"file:///Users/saforem2/l2hmc-qcd/l2hmc-qcd/utils/file_io.py\"><span style=\"color: #7f7f7f\">file_io.py</span></a><span style=\"color: #7f7f7f\">:184</span>\n",
       "</pre>\n"
      ],
      "text/plain": [
       "<rich.jupyter.JupyterRenderable at 0x7fd353974ee0>"
      ]
     },
     "metadata": {},
     "output_type": "display_data"
    },
    {
     "data": {
      "text/html": [
       "<pre style=\"white-space:pre;overflow-x:auto;line-height:normal;font-family:Menlo,'DejaVu Sans Mono',consolas,'Courier New',monospace\"><span style=\"color: #7fbfbf\">           </span>step:    <span style=\"color: #ff79ff\">64</span>/<span style=\"color: #ff79ff\">100</span>   dt: <span style=\"color: #ff79ff\">0.269</span> loss: <span style=\"color: #ff79ff\">-4.31</span> accept_prob: <span style=\"color: #ff79ff\">0.189</span> beta:     <span style=\"color: #ff79ff\">3</span> dq_int: <span style=\"color: #ff79ff\">0.0508</span> dq_sin: <span style=\"color: #ff79ff\">0.0639</span> plaqs: <span style=\"color: #ff79ff\">0.000727</span> p4x4: <span style=\"color: #ff79ff\">0.0413</span>                                                                                                                                                  <a href=\"file:///Users/saforem2/l2hmc-qcd/l2hmc-qcd/utils/file_io.py\"><span style=\"color: #7f7f7f\">file_io.py</span></a><span style=\"color: #7f7f7f\">:184</span>\n",
       "</pre>\n"
      ],
      "text/plain": [
       "<rich.jupyter.JupyterRenderable at 0x7fd2f3ea23d0>"
      ]
     },
     "metadata": {},
     "output_type": "display_data"
    },
    {
     "data": {
      "text/html": [
       "<pre style=\"white-space:pre;overflow-x:auto;line-height:normal;font-family:Menlo,'DejaVu Sans Mono',consolas,'Courier New',monospace\"><span style=\"color: #7fbfbf\">           </span>step:    <span style=\"color: #ff79ff\">65</span>/<span style=\"color: #ff79ff\">100</span>   dt: <span style=\"color: #ff79ff\">0.262</span> loss: <span style=\"color: #ff79ff\">-4.92</span> accept_prob:  <span style=\"color: #ff79ff\">0.18</span> beta:     <span style=\"color: #ff79ff\">3</span> dq_int: <span style=\"color: #ff79ff\">0.0391</span> dq_sin: <span style=\"color: #ff79ff\">0.0721</span> plaqs: <span style=\"color: #ff79ff\">-0.000141</span> p4x4: <span style=\"color: #ff79ff\">0.0428</span>                                                                                                                                                 <a href=\"file:///Users/saforem2/l2hmc-qcd/l2hmc-qcd/utils/file_io.py\"><span style=\"color: #7f7f7f\">file_io.py</span></a><span style=\"color: #7f7f7f\">:184</span>\n",
       "</pre>\n"
      ],
      "text/plain": [
       "<rich.jupyter.JupyterRenderable at 0x7fd34282c9d0>"
      ]
     },
     "metadata": {},
     "output_type": "display_data"
    },
    {
     "data": {
      "text/html": [
       "<pre style=\"white-space:pre;overflow-x:auto;line-height:normal;font-family:Menlo,'DejaVu Sans Mono',consolas,'Courier New',monospace\"><span style=\"color: #7fbfbf\">[17:30:10] </span>step:    <span style=\"color: #ff79ff\">66</span>/<span style=\"color: #ff79ff\">100</span>   dt: <span style=\"color: #ff79ff\">0.256</span> loss: <span style=\"color: #ff79ff\">-4.11</span> accept_prob: <span style=\"color: #ff79ff\">0.196</span> beta:     <span style=\"color: #ff79ff\">3</span> dq_int: <span style=\"color: #ff79ff\">0.0664</span> dq_sin: <span style=\"color: #ff79ff\">0.0752</span> plaqs: <span style=\"color: #ff79ff\">-0.000434</span> p4x4: <span style=\"color: #ff79ff\">0.0435</span>                                                                                                                                                 <a href=\"file:///Users/saforem2/l2hmc-qcd/l2hmc-qcd/utils/file_io.py\"><span style=\"color: #7f7f7f\">file_io.py</span></a><span style=\"color: #7f7f7f\">:184</span>\n",
       "</pre>\n"
      ],
      "text/plain": [
       "<rich.jupyter.JupyterRenderable at 0x7fd31b2d0820>"
      ]
     },
     "metadata": {},
     "output_type": "display_data"
    },
    {
     "data": {
      "text/html": [
       "<pre style=\"white-space:pre;overflow-x:auto;line-height:normal;font-family:Menlo,'DejaVu Sans Mono',consolas,'Courier New',monospace\"><span style=\"color: #7fbfbf\">           </span>step:    <span style=\"color: #ff79ff\">67</span>/<span style=\"color: #ff79ff\">100</span>   dt: <span style=\"color: #ff79ff\">0.299</span> loss: <span style=\"color: #ff79ff\">-8.46</span> accept_prob:   <span style=\"color: #ff79ff\">0.2</span> beta:     <span style=\"color: #ff79ff\">3</span> dq_int: <span style=\"color: #ff79ff\">0.0547</span> dq_sin: <span style=\"color: #ff79ff\">0.0967</span> plaqs: <span style=\"color: #ff79ff\">-0.00129</span> p4x4: <span style=\"color: #ff79ff\">0.0442</span>                                                                                                                                                  <a href=\"file:///Users/saforem2/l2hmc-qcd/l2hmc-qcd/utils/file_io.py\"><span style=\"color: #7f7f7f\">file_io.py</span></a><span style=\"color: #7f7f7f\">:184</span>\n",
       "</pre>\n"
      ],
      "text/plain": [
       "<rich.jupyter.JupyterRenderable at 0x7fd3350c3250>"
      ]
     },
     "metadata": {},
     "output_type": "display_data"
    },
    {
     "data": {
      "text/html": [
       "<pre style=\"white-space:pre;overflow-x:auto;line-height:normal;font-family:Menlo,'DejaVu Sans Mono',consolas,'Courier New',monospace\"><span style=\"color: #7fbfbf\">           </span>step:    <span style=\"color: #ff79ff\">68</span>/<span style=\"color: #ff79ff\">100</span>   dt: <span style=\"color: #ff79ff\">0.268</span> loss: <span style=\"color: #ff79ff\">-4.36</span> accept_prob: <span style=\"color: #ff79ff\">0.189</span> beta:     <span style=\"color: #ff79ff\">3</span> dq_int: <span style=\"color: #ff79ff\">0.0664</span> dq_sin: <span style=\"color: #ff79ff\">0.0595</span> plaqs: <span style=\"color: #ff79ff\">-0.00124</span> p4x4: <span style=\"color: #ff79ff\">0.0423</span>                                                                                                                                                  <a href=\"file:///Users/saforem2/l2hmc-qcd/l2hmc-qcd/utils/file_io.py\"><span style=\"color: #7f7f7f\">file_io.py</span></a><span style=\"color: #7f7f7f\">:184</span>\n",
       "</pre>\n"
      ],
      "text/plain": [
       "<rich.jupyter.JupyterRenderable at 0x7fd2f4bbc610>"
      ]
     },
     "metadata": {},
     "output_type": "display_data"
    },
    {
     "data": {
      "text/html": [
       "<pre style=\"white-space:pre;overflow-x:auto;line-height:normal;font-family:Menlo,'DejaVu Sans Mono',consolas,'Courier New',monospace\"><span style=\"color: #7fbfbf\">           </span>step:    <span style=\"color: #ff79ff\">69</span>/<span style=\"color: #ff79ff\">100</span>   dt: <span style=\"color: #ff79ff\">0.262</span> loss:  <span style=\"color: #ff79ff\">-3.8</span> accept_prob: <span style=\"color: #ff79ff\">0.193</span> beta:     <span style=\"color: #ff79ff\">3</span> dq_int: <span style=\"color: #ff79ff\">0.0508</span> dq_sin: <span style=\"color: #ff79ff\">0.0678</span> plaqs: <span style=\"color: #ff79ff\">-0.00134</span> p4x4: <span style=\"color: #ff79ff\">0.0412</span>                                                                                                                                                  <a href=\"file:///Users/saforem2/l2hmc-qcd/l2hmc-qcd/utils/file_io.py\"><span style=\"color: #7f7f7f\">file_io.py</span></a><span style=\"color: #7f7f7f\">:184</span>\n",
       "</pre>\n"
      ],
      "text/plain": [
       "<rich.jupyter.JupyterRenderable at 0x7fd31b2d0cd0>"
      ]
     },
     "metadata": {},
     "output_type": "display_data"
    },
    {
     "data": {
      "text/html": [
       "<pre style=\"white-space:pre;overflow-x:auto;line-height:normal;font-family:Menlo,'DejaVu Sans Mono',consolas,'Courier New',monospace\"><span style=\"color: #7fbfbf\">[17:30:11] </span>step:    <span style=\"color: #ff79ff\">70</span>/<span style=\"color: #ff79ff\">100</span>   dt: <span style=\"color: #ff79ff\">0.272</span> loss: <span style=\"color: #ff79ff\">-3.66</span> accept_prob: <span style=\"color: #ff79ff\">0.159</span> beta:     <span style=\"color: #ff79ff\">3</span> dq_int: <span style=\"color: #ff79ff\">0.0625</span> dq_sin: <span style=\"color: #ff79ff\">0.0699</span> plaqs: <span style=\"color: #ff79ff\">-0.000848</span> p4x4: <span style=\"color: #ff79ff\">0.0425</span>                                                                                                                                                 <a href=\"file:///Users/saforem2/l2hmc-qcd/l2hmc-qcd/utils/file_io.py\"><span style=\"color: #7f7f7f\">file_io.py</span></a><span style=\"color: #7f7f7f\">:184</span>\n",
       "</pre>\n"
      ],
      "text/plain": [
       "<rich.jupyter.JupyterRenderable at 0x7fd2f3f1ea00>"
      ]
     },
     "metadata": {},
     "output_type": "display_data"
    },
    {
     "data": {
      "text/html": [
       "<pre style=\"white-space:pre;overflow-x:auto;line-height:normal;font-family:Menlo,'DejaVu Sans Mono',consolas,'Courier New',monospace\"><span style=\"color: #7fbfbf\">[17:30:16] </span>step:    <span style=\"color: #ff79ff\">71</span>/<span style=\"color: #ff79ff\">100</span>   dt: <span style=\"color: #ff79ff\">0.279</span> loss: <span style=\"color: #ff79ff\">-3.57</span> accept_prob: <span style=\"color: #ff79ff\">0.229</span> beta:     <span style=\"color: #ff79ff\">3</span> dq_int: <span style=\"color: #ff79ff\">0.043</span> dq_sin: <span style=\"color: #ff79ff\">0.0681</span> plaqs: <span style=\"color: #ff79ff\">-0.000996</span> p4x4: <span style=\"color: #ff79ff\">0.0393</span>                                                                                                                                                  <a href=\"file:///Users/saforem2/l2hmc-qcd/l2hmc-qcd/utils/file_io.py\"><span style=\"color: #7f7f7f\">file_io.py</span></a><span style=\"color: #7f7f7f\">:184</span>\n",
       "</pre>\n"
      ],
      "text/plain": [
       "<rich.jupyter.JupyterRenderable at 0x7fd2f4bae100>"
      ]
     },
     "metadata": {},
     "output_type": "display_data"
    },
    {
     "data": {
      "text/html": [
       "<pre style=\"white-space:pre;overflow-x:auto;line-height:normal;font-family:Menlo,'DejaVu Sans Mono',consolas,'Courier New',monospace\"><span style=\"color: #7fbfbf\">           </span>step:    <span style=\"color: #ff79ff\">72</span>/<span style=\"color: #ff79ff\">100</span>   dt: <span style=\"color: #ff79ff\">0.292</span> loss: <span style=\"color: #ff79ff\">-4.56</span> accept_prob: <span style=\"color: #ff79ff\">0.227</span> beta:     <span style=\"color: #ff79ff\">3</span> dq_int: <span style=\"color: #ff79ff\">0.0586</span> dq_sin: <span style=\"color: #ff79ff\">0.0853</span> plaqs: <span style=\"color: #ff79ff\">-0.000724</span> p4x4: <span style=\"color: #ff79ff\">0.037</span>                                                                                                                                                  <a href=\"file:///Users/saforem2/l2hmc-qcd/l2hmc-qcd/utils/file_io.py\"><span style=\"color: #7f7f7f\">file_io.py</span></a><span style=\"color: #7f7f7f\">:184</span>\n",
       "</pre>\n"
      ],
      "text/plain": [
       "<rich.jupyter.JupyterRenderable at 0x7fd322ca2f70>"
      ]
     },
     "metadata": {},
     "output_type": "display_data"
    },
    {
     "data": {
      "text/html": [
       "<pre style=\"white-space:pre;overflow-x:auto;line-height:normal;font-family:Menlo,'DejaVu Sans Mono',consolas,'Courier New',monospace\"><span style=\"color: #7fbfbf\">           </span>step:    <span style=\"color: #ff79ff\">73</span>/<span style=\"color: #ff79ff\">100</span>   dt: <span style=\"color: #ff79ff\">0.269</span> loss: <span style=\"color: #ff79ff\">-4.74</span> accept_prob: <span style=\"color: #ff79ff\">0.172</span> beta:     <span style=\"color: #ff79ff\">3</span> dq_int: <span style=\"color: #ff79ff\">0.0547</span> dq_sin: <span style=\"color: #ff79ff\">0.0753</span> plaqs: <span style=\"color: #ff79ff\">-0.00156</span> p4x4: <span style=\"color: #ff79ff\">0.0366</span>                                                                                                                                                  <a href=\"file:///Users/saforem2/l2hmc-qcd/l2hmc-qcd/utils/file_io.py\"><span style=\"color: #7f7f7f\">file_io.py</span></a><span style=\"color: #7f7f7f\">:184</span>\n",
       "</pre>\n"
      ],
      "text/plain": [
       "<rich.jupyter.JupyterRenderable at 0x7fd2f3f31a90>"
      ]
     },
     "metadata": {},
     "output_type": "display_data"
    },
    {
     "data": {
      "text/html": [
       "<pre style=\"white-space:pre;overflow-x:auto;line-height:normal;font-family:Menlo,'DejaVu Sans Mono',consolas,'Courier New',monospace\"><span style=\"color: #7fbfbf\">[17:30:17] </span>step:    <span style=\"color: #ff79ff\">74</span>/<span style=\"color: #ff79ff\">100</span>   dt: <span style=\"color: #ff79ff\">0.271</span> loss: <span style=\"color: #ff79ff\">-4.42</span> accept_prob: <span style=\"color: #ff79ff\">0.171</span> beta:     <span style=\"color: #ff79ff\">3</span> dq_int: <span style=\"color: #ff79ff\">0.0469</span> dq_sin: <span style=\"color: #ff79ff\">0.0673</span> plaqs: <span style=\"color: #ff79ff\">-0.00131</span> p4x4: <span style=\"color: #ff79ff\">0.0368</span>                                                                                                                                                  <a href=\"file:///Users/saforem2/l2hmc-qcd/l2hmc-qcd/utils/file_io.py\"><span style=\"color: #7f7f7f\">file_io.py</span></a><span style=\"color: #7f7f7f\">:184</span>\n",
       "</pre>\n"
      ],
      "text/plain": [
       "<rich.jupyter.JupyterRenderable at 0x7fd342b4cf70>"
      ]
     },
     "metadata": {},
     "output_type": "display_data"
    },
    {
     "data": {
      "text/html": [
       "<pre style=\"white-space:pre;overflow-x:auto;line-height:normal;font-family:Menlo,'DejaVu Sans Mono',consolas,'Courier New',monospace\"><span style=\"color: #7fbfbf\">           </span>step:    <span style=\"color: #ff79ff\">75</span>/<span style=\"color: #ff79ff\">100</span>   dt: <span style=\"color: #ff79ff\">0.281</span> loss: <span style=\"color: #ff79ff\">-4.25</span> accept_prob: <span style=\"color: #ff79ff\">0.178</span> beta:     <span style=\"color: #ff79ff\">3</span> dq_int: <span style=\"color: #ff79ff\">0.0352</span> dq_sin: <span style=\"color: #ff79ff\">0.0755</span> plaqs: <span style=\"color: #ff79ff\">-0.000788</span> p4x4: <span style=\"color: #ff79ff\">0.0342</span>                                                                                                                                                 <a href=\"file:///Users/saforem2/l2hmc-qcd/l2hmc-qcd/utils/file_io.py\"><span style=\"color: #7f7f7f\">file_io.py</span></a><span style=\"color: #7f7f7f\">:184</span>\n",
       "</pre>\n"
      ],
      "text/plain": [
       "<rich.jupyter.JupyterRenderable at 0x7fd322de50a0>"
      ]
     },
     "metadata": {},
     "output_type": "display_data"
    },
    {
     "data": {
      "text/html": [
       "<pre style=\"white-space:pre;overflow-x:auto;line-height:normal;font-family:Menlo,'DejaVu Sans Mono',consolas,'Courier New',monospace\"><span style=\"color: #7fbfbf\">           </span>step:    <span style=\"color: #ff79ff\">76</span>/<span style=\"color: #ff79ff\">100</span>   dt: <span style=\"color: #ff79ff\">0.278</span> loss: <span style=\"color: #ff79ff\">-5.23</span> accept_prob: <span style=\"color: #ff79ff\">0.168</span> beta:     <span style=\"color: #ff79ff\">3</span> dq_int: <span style=\"color: #ff79ff\">0.0391</span> dq_sin: <span style=\"color: #ff79ff\">0.0569</span> plaqs: <span style=\"color: #ff79ff\">-0.000673</span> p4x4: <span style=\"color: #ff79ff\">0.0354</span>                                                                                                                                                 <a href=\"file:///Users/saforem2/l2hmc-qcd/l2hmc-qcd/utils/file_io.py\"><span style=\"color: #7f7f7f\">file_io.py</span></a><span style=\"color: #7f7f7f\">:184</span>\n",
       "</pre>\n"
      ],
      "text/plain": [
       "<rich.jupyter.JupyterRenderable at 0x7fd2f3f31cd0>"
      ]
     },
     "metadata": {},
     "output_type": "display_data"
    },
    {
     "data": {
      "text/html": [
       "<pre style=\"white-space:pre;overflow-x:auto;line-height:normal;font-family:Menlo,'DejaVu Sans Mono',consolas,'Courier New',monospace\"><span style=\"color: #7fbfbf\">[17:30:18] </span>step:    <span style=\"color: #ff79ff\">77</span>/<span style=\"color: #ff79ff\">100</span>   dt:  <span style=\"color: #ff79ff\">0.29</span> loss: <span style=\"color: #ff79ff\">-7.23</span> accept_prob: <span style=\"color: #ff79ff\">0.206</span> beta:     <span style=\"color: #ff79ff\">3</span> dq_int: <span style=\"color: #ff79ff\">0.0703</span> dq_sin: <span style=\"color: #ff79ff\">0.102</span> plaqs: <span style=\"color: #ff79ff\">0.000453</span> p4x4: <span style=\"color: #ff79ff\">0.0358</span>                                                                                                                                                   <a href=\"file:///Users/saforem2/l2hmc-qcd/l2hmc-qcd/utils/file_io.py\"><span style=\"color: #7f7f7f\">file_io.py</span></a><span style=\"color: #7f7f7f\">:184</span>\n",
       "</pre>\n"
      ],
      "text/plain": [
       "<rich.jupyter.JupyterRenderable at 0x7fd2f3f28b20>"
      ]
     },
     "metadata": {},
     "output_type": "display_data"
    },
    {
     "data": {
      "text/html": [
       "<pre style=\"white-space:pre;overflow-x:auto;line-height:normal;font-family:Menlo,'DejaVu Sans Mono',consolas,'Courier New',monospace\"><span style=\"color: #7fbfbf\">           </span>step:    <span style=\"color: #ff79ff\">78</span>/<span style=\"color: #ff79ff\">100</span>   dt: <span style=\"color: #ff79ff\">0.319</span> loss: <span style=\"color: #ff79ff\">-6.07</span> accept_prob: <span style=\"color: #ff79ff\">0.214</span> beta:     <span style=\"color: #ff79ff\">3</span> dq_int: <span style=\"color: #ff79ff\">0.0938</span> dq_sin: <span style=\"color: #ff79ff\">0.0918</span> plaqs: <span style=\"color: #ff79ff\">0.000787</span> p4x4: <span style=\"color: #ff79ff\">0.0338</span>                                                                                                                                                  <a href=\"file:///Users/saforem2/l2hmc-qcd/l2hmc-qcd/utils/file_io.py\"><span style=\"color: #7f7f7f\">file_io.py</span></a><span style=\"color: #7f7f7f\">:184</span>\n",
       "</pre>\n"
      ],
      "text/plain": [
       "<rich.jupyter.JupyterRenderable at 0x7fd32325bb20>"
      ]
     },
     "metadata": {},
     "output_type": "display_data"
    },
    {
     "data": {
      "text/html": [
       "<pre style=\"white-space:pre;overflow-x:auto;line-height:normal;font-family:Menlo,'DejaVu Sans Mono',consolas,'Courier New',monospace\"><span style=\"color: #7fbfbf\">[17:30:19] </span>Checkpoint saved to: <span style=\"color: #800080\">/Users/saforem2/l2hmc-qcd/logs/GaugeModel_logs/test/2021_01/DEBUG_L16_b256_lf5_actswish_bi3_bf3_dp01_sepNets_NCProj-2021-01-26-1725/training/checkpoints/</span><span style=\"color: #ff00ff\">ckpt-4</span>                                                                                               <a href=\"file:///Users/saforem2/l2hmc-qcd/l2hmc-qcd/utils/file_io.py\"><span style=\"color: #7f7f7f\">file_io.py</span></a><span style=\"color: #7f7f7f\">:184</span>\n",
       "</pre>\n"
      ],
      "text/plain": [
       "<rich.jupyter.JupyterRenderable at 0x7fd31af6fc40>"
      ]
     },
     "metadata": {},
     "output_type": "display_data"
    },
    {
     "data": {
      "text/html": [
       "<pre style=\"white-space:pre;overflow-x:auto;line-height:normal;font-family:Menlo,'DejaVu Sans Mono',consolas,'Courier New',monospace\"><span style=\"color: #7fbfbf\">           </span>Saving veps to <span style=\"color: #800080\">/Users/saforem2/l2hmc-qcd/logs/GaugeModel_logs/test/2021_01/DEBUG_L16_b256_lf5_actswish_bi3_bf3_dp01_sepNets_NCProj-2021-01-26-1725/training/models/</span><span style=\"color: #ff00ff\">veps.z.</span>                                                                                                         <a href=\"file:///Users/saforem2/l2hmc-qcd/l2hmc-qcd/utils/file_io.py\"><span style=\"color: #7f7f7f\">file_io.py</span></a><span style=\"color: #7f7f7f\">:363</span>\n",
       "</pre>\n"
      ],
      "text/plain": [
       "<rich.jupyter.JupyterRenderable at 0x7fd31af6f4c0>"
      ]
     },
     "metadata": {},
     "output_type": "display_data"
    },
    {
     "data": {
      "text/html": [
       "<pre style=\"white-space:pre;overflow-x:auto;line-height:normal;font-family:Menlo,'DejaVu Sans Mono',consolas,'Courier New',monospace\"><span style=\"color: #7fbfbf\">           </span>Saving xeps to <span style=\"color: #800080\">/Users/saforem2/l2hmc-qcd/logs/GaugeModel_logs/test/2021_01/DEBUG_L16_b256_lf5_actswish_bi3_bf3_dp01_sepNets_NCProj-2021-01-26-1725/training/models/</span><span style=\"color: #ff00ff\">xeps.z.</span>                                                                                                         <a href=\"file:///Users/saforem2/l2hmc-qcd/l2hmc-qcd/utils/file_io.py\"><span style=\"color: #7f7f7f\">file_io.py</span></a><span style=\"color: #7f7f7f\">:363</span>\n",
       "</pre>\n"
      ],
      "text/plain": [
       "<rich.jupyter.JupyterRenderable at 0x7fd31af6fcd0>"
      ]
     },
     "metadata": {},
     "output_type": "display_data"
    },
    {
     "data": {
      "text/html": [
       "<pre style=\"white-space:pre;overflow-x:auto;line-height:normal;font-family:Menlo,'DejaVu Sans Mono',consolas,'Courier New',monospace\"><span style=\"color: #7fbfbf\">[17:30:49] </span>Networks saved to: <span style=\"color: #800080\">/Users/saforem2/l2hmc-qcd/logs/GaugeModel_logs/test/2021_01/</span><span style=\"color: #ff00ff\">DEBUG_L16_b256_lf5_actswish_bi3_bf3_dp01_sepNets_NCProj-2021-01-26-1725</span>                                                                                                                             <a href=\"file:///Users/saforem2/l2hmc-qcd/l2hmc-qcd/utils/file_io.py\"><span style=\"color: #7f7f7f\">file_io.py</span></a><span style=\"color: #7f7f7f\">:184</span>\n",
       "</pre>\n"
      ],
      "text/plain": [
       "<rich.jupyter.JupyterRenderable at 0x7fd3563ac760>"
      ]
     },
     "metadata": {},
     "output_type": "display_data"
    },
    {
     "data": {
      "text/html": [
       "<pre style=\"white-space:pre;overflow-x:auto;line-height:normal;font-family:Menlo,'DejaVu Sans Mono',consolas,'Courier New',monospace\"><span style=\"color: #7fbfbf\">           </span>step:    <span style=\"color: #ff79ff\">79</span>/<span style=\"color: #ff79ff\">100</span>   dt: <span style=\"color: #ff79ff\">0.289</span> loss: <span style=\"color: #ff79ff\">-3.99</span> accept_prob: <span style=\"color: #ff79ff\">0.165</span> beta:     <span style=\"color: #ff79ff\">3</span> dq_int: <span style=\"color: #ff79ff\">0.082</span> dq_sin: <span style=\"color: #ff79ff\">0.0675</span> plaqs: <span style=\"color: #ff79ff\">0.00116</span> p4x4: <span style=\"color: #ff79ff\">0.0348</span>                                                                                                                                                    <a href=\"file:///Users/saforem2/l2hmc-qcd/l2hmc-qcd/utils/file_io.py\"><span style=\"color: #7f7f7f\">file_io.py</span></a><span style=\"color: #7f7f7f\">:184</span>\n",
       "</pre>\n"
      ],
      "text/plain": [
       "<rich.jupyter.JupyterRenderable at 0x7fd31b9decd0>"
      ]
     },
     "metadata": {},
     "output_type": "display_data"
    },
    {
     "data": {
      "text/html": [
       "<pre style=\"white-space:pre;overflow-x:auto;line-height:normal;font-family:Menlo,'DejaVu Sans Mono',consolas,'Courier New',monospace\"><span style=\"color: #7fbfbf\">           </span>step:    <span style=\"color: #ff79ff\">80</span>/<span style=\"color: #ff79ff\">100</span>   dt: <span style=\"color: #ff79ff\">0.246</span> loss: <span style=\"color: #ff79ff\">-4.87</span> accept_prob: <span style=\"color: #ff79ff\">0.194</span> beta:     <span style=\"color: #ff79ff\">3</span> dq_int: <span style=\"color: #ff79ff\">0.0547</span> dq_sin: <span style=\"color: #ff79ff\">0.0725</span> plaqs: <span style=\"color: #ff79ff\">0.000167</span> p4x4: <span style=\"color: #ff79ff\">0.0354</span>                                                                                                                                                  <a href=\"file:///Users/saforem2/l2hmc-qcd/l2hmc-qcd/utils/file_io.py\"><span style=\"color: #7f7f7f\">file_io.py</span></a><span style=\"color: #7f7f7f\">:184</span>\n",
       "</pre>\n"
      ],
      "text/plain": [
       "<rich.jupyter.JupyterRenderable at 0x7fd31da8ae20>"
      ]
     },
     "metadata": {},
     "output_type": "display_data"
    },
    {
     "data": {
      "text/html": [
       "<pre style=\"white-space:pre;overflow-x:auto;line-height:normal;font-family:Menlo,'DejaVu Sans Mono',consolas,'Courier New',monospace\"><span style=\"color: #7fbfbf\">[17:30:54] </span>step:    <span style=\"color: #ff79ff\">81</span>/<span style=\"color: #ff79ff\">100</span>   dt: <span style=\"color: #ff79ff\">0.268</span> loss: <span style=\"color: #ff79ff\">-5.88</span> accept_prob: <span style=\"color: #ff79ff\">0.194</span> beta:     <span style=\"color: #ff79ff\">3</span> dq_int: <span style=\"color: #ff79ff\">0.0547</span> dq_sin: <span style=\"color: #ff79ff\">0.0886</span> plaqs: <span style=\"color: #ff79ff\">-0.000104</span> p4x4: <span style=\"color: #ff79ff\">0.0384</span>                                                                                                                                                 <a href=\"file:///Users/saforem2/l2hmc-qcd/l2hmc-qcd/utils/file_io.py\"><span style=\"color: #7f7f7f\">file_io.py</span></a><span style=\"color: #7f7f7f\">:184</span>\n",
       "</pre>\n"
      ],
      "text/plain": [
       "<rich.jupyter.JupyterRenderable at 0x7fd3562bf250>"
      ]
     },
     "metadata": {},
     "output_type": "display_data"
    },
    {
     "data": {
      "text/html": [
       "<pre style=\"white-space:pre;overflow-x:auto;line-height:normal;font-family:Menlo,'DejaVu Sans Mono',consolas,'Courier New',monospace\"><span style=\"color: #7fbfbf\">           </span>step:    <span style=\"color: #ff79ff\">82</span>/<span style=\"color: #ff79ff\">100</span>   dt: <span style=\"color: #ff79ff\">0.263</span> loss: <span style=\"color: #ff79ff\">-3.21</span> accept_prob:  <span style=\"color: #ff79ff\">0.17</span> beta:     <span style=\"color: #ff79ff\">3</span> dq_int: <span style=\"color: #ff79ff\">0.0352</span> dq_sin: <span style=\"color: #ff79ff\">0.0455</span> plaqs: <span style=\"color: #ff79ff\">-0.000458</span> p4x4: <span style=\"color: #ff79ff\">0.038</span>                                                                                                                                                  <a href=\"file:///Users/saforem2/l2hmc-qcd/l2hmc-qcd/utils/file_io.py\"><span style=\"color: #7f7f7f\">file_io.py</span></a><span style=\"color: #7f7f7f\">:184</span>\n",
       "</pre>\n"
      ],
      "text/plain": [
       "<rich.jupyter.JupyterRenderable at 0x7fd32540b1c0>"
      ]
     },
     "metadata": {},
     "output_type": "display_data"
    },
    {
     "data": {
      "text/html": [
       "<pre style=\"white-space:pre;overflow-x:auto;line-height:normal;font-family:Menlo,'DejaVu Sans Mono',consolas,'Courier New',monospace\"><span style=\"color: #7fbfbf\">[17:30:55] </span>step:    <span style=\"color: #ff79ff\">83</span>/<span style=\"color: #ff79ff\">100</span>   dt: <span style=\"color: #ff79ff\">0.256</span> loss: <span style=\"color: #ff79ff\">-3.68</span> accept_prob: <span style=\"color: #ff79ff\">0.163</span> beta:     <span style=\"color: #ff79ff\">3</span> dq_int: <span style=\"color: #ff79ff\">0.043</span> dq_sin: <span style=\"color: #ff79ff\">0.0721</span> plaqs: <span style=\"color: #ff79ff\">-0.000159</span> p4x4: <span style=\"color: #ff79ff\">0.0363</span>                                                                                                                                                  <a href=\"file:///Users/saforem2/l2hmc-qcd/l2hmc-qcd/utils/file_io.py\"><span style=\"color: #7f7f7f\">file_io.py</span></a><span style=\"color: #7f7f7f\">:184</span>\n",
       "</pre>\n"
      ],
      "text/plain": [
       "<rich.jupyter.JupyterRenderable at 0x7fd322b9f430>"
      ]
     },
     "metadata": {},
     "output_type": "display_data"
    },
    {
     "data": {
      "text/html": [
       "<pre style=\"white-space:pre;overflow-x:auto;line-height:normal;font-family:Menlo,'DejaVu Sans Mono',consolas,'Courier New',monospace\"><span style=\"color: #7fbfbf\">           </span>step:    <span style=\"color: #ff79ff\">84</span>/<span style=\"color: #ff79ff\">100</span>   dt: <span style=\"color: #ff79ff\">0.262</span> loss: <span style=\"color: #ff79ff\">-3.06</span> accept_prob: <span style=\"color: #ff79ff\">0.168</span> beta:     <span style=\"color: #ff79ff\">3</span> dq_int: <span style=\"color: #ff79ff\">0.0508</span> dq_sin: <span style=\"color: #ff79ff\">0.0605</span> plaqs: <span style=\"color: #ff79ff\">-0.00127</span> p4x4: <span style=\"color: #ff79ff\">0.0369</span>                                                                                                                                                  <a href=\"file:///Users/saforem2/l2hmc-qcd/l2hmc-qcd/utils/file_io.py\"><span style=\"color: #7f7f7f\">file_io.py</span></a><span style=\"color: #7f7f7f\">:184</span>\n",
       "</pre>\n"
      ],
      "text/plain": [
       "<rich.jupyter.JupyterRenderable at 0x7fd32624a730>"
      ]
     },
     "metadata": {},
     "output_type": "display_data"
    },
    {
     "data": {
      "text/html": [
       "<pre style=\"white-space:pre;overflow-x:auto;line-height:normal;font-family:Menlo,'DejaVu Sans Mono',consolas,'Courier New',monospace\"><span style=\"color: #7fbfbf\">           </span>step:    <span style=\"color: #ff79ff\">85</span>/<span style=\"color: #ff79ff\">100</span>   dt: <span style=\"color: #ff79ff\">0.261</span> loss: <span style=\"color: #ff79ff\">-3.86</span> accept_prob: <span style=\"color: #ff79ff\">0.171</span> beta:     <span style=\"color: #ff79ff\">3</span> dq_int: <span style=\"color: #ff79ff\">0.0547</span> dq_sin: <span style=\"color: #ff79ff\">0.0669</span> plaqs: <span style=\"color: #ff79ff\">-0.00111</span> p4x4: <span style=\"color: #ff79ff\">0.0369</span>                                                                                                                                                  <a href=\"file:///Users/saforem2/l2hmc-qcd/l2hmc-qcd/utils/file_io.py\"><span style=\"color: #7f7f7f\">file_io.py</span></a><span style=\"color: #7f7f7f\">:184</span>\n",
       "</pre>\n"
      ],
      "text/plain": [
       "<rich.jupyter.JupyterRenderable at 0x7fd342a4ed30>"
      ]
     },
     "metadata": {},
     "output_type": "display_data"
    },
    {
     "data": {
      "text/html": [
       "<pre style=\"white-space:pre;overflow-x:auto;line-height:normal;font-family:Menlo,'DejaVu Sans Mono',consolas,'Courier New',monospace\"><span style=\"color: #7fbfbf\">           </span>step:    <span style=\"color: #ff79ff\">86</span>/<span style=\"color: #ff79ff\">100</span>   dt: <span style=\"color: #ff79ff\">0.261</span> loss: <span style=\"color: #ff79ff\">-4.47</span> accept_prob: <span style=\"color: #ff79ff\">0.199</span> beta:     <span style=\"color: #ff79ff\">3</span> dq_int: <span style=\"color: #ff79ff\">0.0391</span> dq_sin: <span style=\"color: #ff79ff\">0.0657</span> plaqs: <span style=\"color: #ff79ff\">-0.000822</span> p4x4: <span style=\"color: #ff79ff\">0.0375</span>                                                                                                                                                 <a href=\"file:///Users/saforem2/l2hmc-qcd/l2hmc-qcd/utils/file_io.py\"><span style=\"color: #7f7f7f\">file_io.py</span></a><span style=\"color: #7f7f7f\">:184</span>\n",
       "</pre>\n"
      ],
      "text/plain": [
       "<rich.jupyter.JupyterRenderable at 0x7fd353483e50>"
      ]
     },
     "metadata": {},
     "output_type": "display_data"
    },
    {
     "data": {
      "text/html": [
       "<pre style=\"white-space:pre;overflow-x:auto;line-height:normal;font-family:Menlo,'DejaVu Sans Mono',consolas,'Courier New',monospace\"><span style=\"color: #7fbfbf\">[17:30:56] </span>step:    <span style=\"color: #ff79ff\">87</span>/<span style=\"color: #ff79ff\">100</span>   dt: <span style=\"color: #ff79ff\">0.264</span> loss: <span style=\"color: #ff79ff\">-3.82</span> accept_prob: <span style=\"color: #ff79ff\">0.169</span> beta:     <span style=\"color: #ff79ff\">3</span> dq_int: <span style=\"color: #ff79ff\">0.0508</span> dq_sin: <span style=\"color: #ff79ff\">0.0583</span> plaqs: <span style=\"color: #ff79ff\">-0.000705</span> p4x4: <span style=\"color: #ff79ff\">0.0358</span>                                                                                                                                                 <a href=\"file:///Users/saforem2/l2hmc-qcd/l2hmc-qcd/utils/file_io.py\"><span style=\"color: #7f7f7f\">file_io.py</span></a><span style=\"color: #7f7f7f\">:184</span>\n",
       "</pre>\n"
      ],
      "text/plain": [
       "<rich.jupyter.JupyterRenderable at 0x7fd343262e80>"
      ]
     },
     "metadata": {},
     "output_type": "display_data"
    },
    {
     "data": {
      "text/html": [
       "<pre style=\"white-space:pre;overflow-x:auto;line-height:normal;font-family:Menlo,'DejaVu Sans Mono',consolas,'Courier New',monospace\"><span style=\"color: #7fbfbf\">           </span>step:    <span style=\"color: #ff79ff\">88</span>/<span style=\"color: #ff79ff\">100</span>   dt: <span style=\"color: #ff79ff\">0.286</span> loss: <span style=\"color: #ff79ff\">-5.25</span> accept_prob: <span style=\"color: #ff79ff\">0.197</span> beta:     <span style=\"color: #ff79ff\">3</span> dq_int: <span style=\"color: #ff79ff\">0.0703</span> dq_sin: <span style=\"color: #ff79ff\">0.0754</span> plaqs: <span style=\"color: #ff79ff\">-0.000223</span> p4x4: <span style=\"color: #ff79ff\">0.0314</span>                                                                                                                                                 <a href=\"file:///Users/saforem2/l2hmc-qcd/l2hmc-qcd/utils/file_io.py\"><span style=\"color: #7f7f7f\">file_io.py</span></a><span style=\"color: #7f7f7f\">:184</span>\n",
       "</pre>\n"
      ],
      "text/plain": [
       "<rich.jupyter.JupyterRenderable at 0x7fd34275fc40>"
      ]
     },
     "metadata": {},
     "output_type": "display_data"
    },
    {
     "data": {
      "text/html": [
       "<pre style=\"white-space:pre;overflow-x:auto;line-height:normal;font-family:Menlo,'DejaVu Sans Mono',consolas,'Courier New',monospace\"><span style=\"color: #7fbfbf\">           </span>step:    <span style=\"color: #ff79ff\">89</span>/<span style=\"color: #ff79ff\">100</span>   dt: <span style=\"color: #ff79ff\">0.264</span> loss: <span style=\"color: #ff79ff\">-5.73</span> accept_prob: <span style=\"color: #ff79ff\">0.184</span> beta:     <span style=\"color: #ff79ff\">3</span> dq_int: <span style=\"color: #ff79ff\">0.0625</span> dq_sin: <span style=\"color: #ff79ff\">0.105</span> plaqs: <span style=\"color: #ff79ff\">-0.00066</span> p4x4: <span style=\"color: #ff79ff\">0.0318</span>                                                                                                                                                   <a href=\"file:///Users/saforem2/l2hmc-qcd/l2hmc-qcd/utils/file_io.py\"><span style=\"color: #7f7f7f\">file_io.py</span></a><span style=\"color: #7f7f7f\">:184</span>\n",
       "</pre>\n"
      ],
      "text/plain": [
       "<rich.jupyter.JupyterRenderable at 0x7fd341b29520>"
      ]
     },
     "metadata": {},
     "output_type": "display_data"
    },
    {
     "data": {
      "text/html": [
       "<pre style=\"white-space:pre;overflow-x:auto;line-height:normal;font-family:Menlo,'DejaVu Sans Mono',consolas,'Courier New',monospace\"><span style=\"color: #7fbfbf\">[17:30:57] </span>step:    <span style=\"color: #ff79ff\">90</span>/<span style=\"color: #ff79ff\">100</span>   dt: <span style=\"color: #ff79ff\">0.275</span> loss: <span style=\"color: #ff79ff\">-6.16</span> accept_prob: <span style=\"color: #ff79ff\">0.169</span> beta:     <span style=\"color: #ff79ff\">3</span> dq_int: <span style=\"color: #ff79ff\">0.0469</span> dq_sin: <span style=\"color: #ff79ff\">0.0802</span> plaqs: <span style=\"color: #ff79ff\">-0.000785</span> p4x4: <span style=\"color: #ff79ff\">0.0329</span>                                                                                                                                                 <a href=\"file:///Users/saforem2/l2hmc-qcd/l2hmc-qcd/utils/file_io.py\"><span style=\"color: #7f7f7f\">file_io.py</span></a><span style=\"color: #7f7f7f\">:184</span>\n",
       "</pre>\n"
      ],
      "text/plain": [
       "<rich.jupyter.JupyterRenderable at 0x7fd2f4d5fd90>"
      ]
     },
     "metadata": {},
     "output_type": "display_data"
    },
    {
     "data": {
      "text/html": [
       "<pre style=\"white-space:pre;overflow-x:auto;line-height:normal;font-family:Menlo,'DejaVu Sans Mono',consolas,'Courier New',monospace\"><span style=\"color: #7fbfbf\">[17:31:02] </span>step:    <span style=\"color: #ff79ff\">91</span>/<span style=\"color: #ff79ff\">100</span>   dt: <span style=\"color: #ff79ff\">0.278</span> loss: <span style=\"color: #ff79ff\">-4.44</span> accept_prob: <span style=\"color: #ff79ff\">0.182</span> beta:     <span style=\"color: #ff79ff\">3</span> dq_int: <span style=\"color: #ff79ff\">0.0742</span> dq_sin: <span style=\"color: #ff79ff\">0.0684</span> plaqs: <span style=\"color: #ff79ff\">-0.00126</span> p4x4: <span style=\"color: #ff79ff\">0.0317</span>                                                                                                                                                  <a href=\"file:///Users/saforem2/l2hmc-qcd/l2hmc-qcd/utils/file_io.py\"><span style=\"color: #7f7f7f\">file_io.py</span></a><span style=\"color: #7f7f7f\">:184</span>\n",
       "</pre>\n"
      ],
      "text/plain": [
       "<rich.jupyter.JupyterRenderable at 0x7fd3232abf10>"
      ]
     },
     "metadata": {},
     "output_type": "display_data"
    },
    {
     "data": {
      "text/html": [
       "<pre style=\"white-space:pre;overflow-x:auto;line-height:normal;font-family:Menlo,'DejaVu Sans Mono',consolas,'Courier New',monospace\"><span style=\"color: #7fbfbf\">           </span>step:    <span style=\"color: #ff79ff\">92</span>/<span style=\"color: #ff79ff\">100</span>   dt: <span style=\"color: #ff79ff\">0.321</span> loss: <span style=\"color: #ff79ff\">-4.12</span> accept_prob:  <span style=\"color: #ff79ff\">0.18</span> beta:     <span style=\"color: #ff79ff\">3</span> dq_int: <span style=\"color: #ff79ff\">0.0469</span> dq_sin: <span style=\"color: #ff79ff\">0.0699</span> plaqs: <span style=\"color: #ff79ff\">-0.00148</span> p4x4:  <span style=\"color: #ff79ff\">0.03</span>                                                                                                                                                   <a href=\"file:///Users/saforem2/l2hmc-qcd/l2hmc-qcd/utils/file_io.py\"><span style=\"color: #7f7f7f\">file_io.py</span></a><span style=\"color: #7f7f7f\">:184</span>\n",
       "</pre>\n"
      ],
      "text/plain": [
       "<rich.jupyter.JupyterRenderable at 0x7fd2f4d95dc0>"
      ]
     },
     "metadata": {},
     "output_type": "display_data"
    },
    {
     "data": {
      "text/html": [
       "<pre style=\"white-space:pre;overflow-x:auto;line-height:normal;font-family:Menlo,'DejaVu Sans Mono',consolas,'Courier New',monospace\"><span style=\"color: #7fbfbf\">           </span>step:    <span style=\"color: #ff79ff\">93</span>/<span style=\"color: #ff79ff\">100</span>   dt: <span style=\"color: #ff79ff\">0.294</span> loss: <span style=\"color: #ff79ff\">-5.72</span> accept_prob: <span style=\"color: #ff79ff\">0.197</span> beta:     <span style=\"color: #ff79ff\">3</span> dq_int: <span style=\"color: #ff79ff\">0.082</span> dq_sin: <span style=\"color: #ff79ff\">0.0778</span> plaqs: <span style=\"color: #ff79ff\">-0.00122</span> p4x4: <span style=\"color: #ff79ff\">0.0337</span>                                                                                                                                                   <a href=\"file:///Users/saforem2/l2hmc-qcd/l2hmc-qcd/utils/file_io.py\"><span style=\"color: #7f7f7f\">file_io.py</span></a><span style=\"color: #7f7f7f\">:184</span>\n",
       "</pre>\n"
      ],
      "text/plain": [
       "<rich.jupyter.JupyterRenderable at 0x7fd2e26674c0>"
      ]
     },
     "metadata": {},
     "output_type": "display_data"
    },
    {
     "data": {
      "text/html": [
       "<pre style=\"white-space:pre;overflow-x:auto;line-height:normal;font-family:Menlo,'DejaVu Sans Mono',consolas,'Courier New',monospace\"><span style=\"color: #7fbfbf\">[17:31:03] </span>step:    <span style=\"color: #ff79ff\">94</span>/<span style=\"color: #ff79ff\">100</span>   dt: <span style=\"color: #ff79ff\">0.283</span> loss: <span style=\"color: #ff79ff\">-4.86</span> accept_prob:   <span style=\"color: #ff79ff\">0.2</span> beta:     <span style=\"color: #ff79ff\">3</span> dq_int: <span style=\"color: #ff79ff\">0.0508</span> dq_sin: <span style=\"color: #ff79ff\">0.0774</span> plaqs: <span style=\"color: #ff79ff\">-0.00132</span> p4x4: <span style=\"color: #ff79ff\">0.0355</span>                                                                                                                                                  <a href=\"file:///Users/saforem2/l2hmc-qcd/l2hmc-qcd/utils/file_io.py\"><span style=\"color: #7f7f7f\">file_io.py</span></a><span style=\"color: #7f7f7f\">:184</span>\n",
       "</pre>\n"
      ],
      "text/plain": [
       "<rich.jupyter.JupyterRenderable at 0x7fd3232abf10>"
      ]
     },
     "metadata": {},
     "output_type": "display_data"
    },
    {
     "data": {
      "text/html": [
       "<pre style=\"white-space:pre;overflow-x:auto;line-height:normal;font-family:Menlo,'DejaVu Sans Mono',consolas,'Courier New',monospace\"><span style=\"color: #7fbfbf\">           </span>step:    <span style=\"color: #ff79ff\">95</span>/<span style=\"color: #ff79ff\">100</span>   dt: <span style=\"color: #ff79ff\">0.297</span> loss: <span style=\"color: #ff79ff\">-3.96</span> accept_prob: <span style=\"color: #ff79ff\">0.179</span> beta:     <span style=\"color: #ff79ff\">3</span> dq_int: <span style=\"color: #ff79ff\">0.043</span> dq_sin: <span style=\"color: #ff79ff\">0.087</span> plaqs: <span style=\"color: #ff79ff\">-0.00192</span> p4x4: <span style=\"color: #ff79ff\">0.0349</span>                                                                                                                                                    <a href=\"file:///Users/saforem2/l2hmc-qcd/l2hmc-qcd/utils/file_io.py\"><span style=\"color: #7f7f7f\">file_io.py</span></a><span style=\"color: #7f7f7f\">:184</span>\n",
       "</pre>\n"
      ],
      "text/plain": [
       "<rich.jupyter.JupyterRenderable at 0x7fd326250160>"
      ]
     },
     "metadata": {},
     "output_type": "display_data"
    },
    {
     "data": {
      "text/html": [
       "<pre style=\"white-space:pre;overflow-x:auto;line-height:normal;font-family:Menlo,'DejaVu Sans Mono',consolas,'Courier New',monospace\"><span style=\"color: #7fbfbf\">           </span>step:    <span style=\"color: #ff79ff\">96</span>/<span style=\"color: #ff79ff\">100</span>   dt: <span style=\"color: #ff79ff\">0.304</span> loss: <span style=\"color: #ff79ff\">-5.05</span> accept_prob: <span style=\"color: #ff79ff\">0.166</span> beta:     <span style=\"color: #ff79ff\">3</span> dq_int: <span style=\"color: #ff79ff\">0.0313</span> dq_sin: <span style=\"color: #ff79ff\">0.0661</span> plaqs: <span style=\"color: #ff79ff\">-0.00194</span> p4x4: <span style=\"color: #ff79ff\">0.0346</span>                                                                                                                                                  <a href=\"file:///Users/saforem2/l2hmc-qcd/l2hmc-qcd/utils/file_io.py\"><span style=\"color: #7f7f7f\">file_io.py</span></a><span style=\"color: #7f7f7f\">:184</span>\n",
       "</pre>\n"
      ],
      "text/plain": [
       "<rich.jupyter.JupyterRenderable at 0x7fd3044a4520>"
      ]
     },
     "metadata": {},
     "output_type": "display_data"
    },
    {
     "data": {
      "text/html": [
       "<pre style=\"white-space:pre;overflow-x:auto;line-height:normal;font-family:Menlo,'DejaVu Sans Mono',consolas,'Courier New',monospace\"><span style=\"color: #7fbfbf\">[17:31:04] </span>step:    <span style=\"color: #ff79ff\">97</span>/<span style=\"color: #ff79ff\">100</span>   dt: <span style=\"color: #ff79ff\">0.301</span> loss: <span style=\"color: #ff79ff\">-3.88</span> accept_prob: <span style=\"color: #ff79ff\">0.125</span> beta:     <span style=\"color: #ff79ff\">3</span> dq_int: <span style=\"color: #ff79ff\">0.0234</span> dq_sin: <span style=\"color: #ff79ff\">0.0425</span> plaqs: <span style=\"color: #ff79ff\">-0.00126</span> p4x4: <span style=\"color: #ff79ff\">0.035</span>                                                                                                                                                   <a href=\"file:///Users/saforem2/l2hmc-qcd/l2hmc-qcd/utils/file_io.py\"><span style=\"color: #7f7f7f\">file_io.py</span></a><span style=\"color: #7f7f7f\">:184</span>\n",
       "</pre>\n"
      ],
      "text/plain": [
       "<rich.jupyter.JupyterRenderable at 0x7fd2f4dabcd0>"
      ]
     },
     "metadata": {},
     "output_type": "display_data"
    },
    {
     "data": {
      "text/html": [
       "<pre style=\"white-space:pre;overflow-x:auto;line-height:normal;font-family:Menlo,'DejaVu Sans Mono',consolas,'Courier New',monospace\"><span style=\"color: #7fbfbf\">           </span>step:    <span style=\"color: #ff79ff\">98</span>/<span style=\"color: #ff79ff\">100</span>   dt: <span style=\"color: #ff79ff\">0.319</span> loss: <span style=\"color: #ff79ff\">-4.31</span> accept_prob: <span style=\"color: #ff79ff\">0.149</span> beta:     <span style=\"color: #ff79ff\">3</span> dq_int: <span style=\"color: #ff79ff\">0.0703</span> dq_sin: <span style=\"color: #ff79ff\">0.079</span> plaqs: <span style=\"color: #ff79ff\">-0.00101</span> p4x4: <span style=\"color: #ff79ff\">0.0389</span>                                                                                                                                                   <a href=\"file:///Users/saforem2/l2hmc-qcd/l2hmc-qcd/utils/file_io.py\"><span style=\"color: #7f7f7f\">file_io.py</span></a><span style=\"color: #7f7f7f\">:184</span>\n",
       "</pre>\n"
      ],
      "text/plain": [
       "<rich.jupyter.JupyterRenderable at 0x7fd3351617f0>"
      ]
     },
     "metadata": {},
     "output_type": "display_data"
    },
    {
     "data": {
      "text/html": [
       "<pre style=\"white-space:pre;overflow-x:auto;line-height:normal;font-family:Menlo,'DejaVu Sans Mono',consolas,'Courier New',monospace\"><span style=\"color: #7fbfbf\">[17:31:05] </span>Checkpoint saved to: <span style=\"color: #800080\">/Users/saforem2/l2hmc-qcd/logs/GaugeModel_logs/test/2021_01/DEBUG_L16_b256_lf5_actswish_bi3_bf3_dp01_sepNets_NCProj-2021-01-26-1725/training/checkpoints/</span><span style=\"color: #ff00ff\">ckpt-5</span>                                                                                               <a href=\"file:///Users/saforem2/l2hmc-qcd/l2hmc-qcd/utils/file_io.py\"><span style=\"color: #7f7f7f\">file_io.py</span></a><span style=\"color: #7f7f7f\">:184</span>\n",
       "</pre>\n"
      ],
      "text/plain": [
       "<rich.jupyter.JupyterRenderable at 0x7fd35347f040>"
      ]
     },
     "metadata": {},
     "output_type": "display_data"
    },
    {
     "data": {
      "text/html": [
       "<pre style=\"white-space:pre;overflow-x:auto;line-height:normal;font-family:Menlo,'DejaVu Sans Mono',consolas,'Courier New',monospace\"><span style=\"color: #7fbfbf\">           </span>Saving veps to <span style=\"color: #800080\">/Users/saforem2/l2hmc-qcd/logs/GaugeModel_logs/test/2021_01/DEBUG_L16_b256_lf5_actswish_bi3_bf3_dp01_sepNets_NCProj-2021-01-26-1725/training/models/</span><span style=\"color: #ff00ff\">veps.z.</span>                                                                                                         <a href=\"file:///Users/saforem2/l2hmc-qcd/l2hmc-qcd/utils/file_io.py\"><span style=\"color: #7f7f7f\">file_io.py</span></a><span style=\"color: #7f7f7f\">:363</span>\n",
       "</pre>\n"
      ],
      "text/plain": [
       "<rich.jupyter.JupyterRenderable at 0x7fd35347f040>"
      ]
     },
     "metadata": {},
     "output_type": "display_data"
    },
    {
     "data": {
      "text/html": [
       "<pre style=\"white-space:pre;overflow-x:auto;line-height:normal;font-family:Menlo,'DejaVu Sans Mono',consolas,'Courier New',monospace\"><span style=\"color: #7fbfbf\">           </span>Saving xeps to <span style=\"color: #800080\">/Users/saforem2/l2hmc-qcd/logs/GaugeModel_logs/test/2021_01/DEBUG_L16_b256_lf5_actswish_bi3_bf3_dp01_sepNets_NCProj-2021-01-26-1725/training/models/</span><span style=\"color: #ff00ff\">xeps.z.</span>                                                                                                         <a href=\"file:///Users/saforem2/l2hmc-qcd/l2hmc-qcd/utils/file_io.py\"><span style=\"color: #7f7f7f\">file_io.py</span></a><span style=\"color: #7f7f7f\">:363</span>\n",
       "</pre>\n"
      ],
      "text/plain": [
       "<rich.jupyter.JupyterRenderable at 0x7fd35347f820>"
      ]
     },
     "metadata": {},
     "output_type": "display_data"
    },
    {
     "data": {
      "text/html": [
       "<pre style=\"white-space:pre;overflow-x:auto;line-height:normal;font-family:Menlo,'DejaVu Sans Mono',consolas,'Courier New',monospace\"><span style=\"color: #7fbfbf\">[17:31:36] </span>Networks saved to: <span style=\"color: #800080\">/Users/saforem2/l2hmc-qcd/logs/GaugeModel_logs/test/2021_01/</span><span style=\"color: #ff00ff\">DEBUG_L16_b256_lf5_actswish_bi3_bf3_dp01_sepNets_NCProj-2021-01-26-1725</span>                                                                                                                             <a href=\"file:///Users/saforem2/l2hmc-qcd/l2hmc-qcd/utils/file_io.py\"><span style=\"color: #7f7f7f\">file_io.py</span></a><span style=\"color: #7f7f7f\">:184</span>\n",
       "</pre>\n"
      ],
      "text/plain": [
       "<rich.jupyter.JupyterRenderable at 0x7fd31d7c3e50>"
      ]
     },
     "metadata": {},
     "output_type": "display_data"
    },
    {
     "data": {
      "text/html": [
       "<pre style=\"white-space:pre;overflow-x:auto;line-height:normal;font-family:Menlo,'DejaVu Sans Mono',consolas,'Courier New',monospace\"><span style=\"color: #7fbfbf\">           </span>step:    <span style=\"color: #ff79ff\">99</span>/<span style=\"color: #ff79ff\">100</span>   dt:  <span style=\"color: #ff79ff\">0.29</span> loss: <span style=\"color: #ff79ff\">-4.44</span> accept_prob: <span style=\"color: #ff79ff\">0.187</span> beta:     <span style=\"color: #ff79ff\">3</span> dq_int: <span style=\"color: #ff79ff\">0.0586</span> dq_sin: <span style=\"color: #ff79ff\">0.0716</span> plaqs: <span style=\"color: #ff79ff\">-0.000763</span> p4x4: <span style=\"color: #ff79ff\">0.0378</span>                                                                                                                                                 <a href=\"file:///Users/saforem2/l2hmc-qcd/l2hmc-qcd/utils/file_io.py\"><span style=\"color: #7f7f7f\">file_io.py</span></a><span style=\"color: #7f7f7f\">:184</span>\n",
       "</pre>\n"
      ],
      "text/plain": [
       "<rich.jupyter.JupyterRenderable at 0x7fd305204670>"
      ]
     },
     "metadata": {},
     "output_type": "display_data"
    },
    {
     "data": {
      "text/html": [
       "<pre style=\"white-space:pre;overflow-x:auto;line-height:normal;font-family:Menlo,'DejaVu Sans Mono',consolas,'Courier New',monospace\"><span style=\"color: #00ff00\">─────────────────────────────────────────────────────────────────────────────────────────────────────────────────────────────────────────── </span><span style=\"font-weight: bold\">[</span><span style=\"color: #ff79ff\">2021</span>-<span style=\"color: #ff79ff\">01</span>-<span style=\"color: #ff79ff\">26</span> <span style=\"color: #00ff00; font-weight: bold\">17:31</span><span style=\"font-weight: bold\">]</span> <span style=\"color: #00ff00\"> ────────────────────────────────────────────────────────────────────────────────────────────────────────────────────────────────────────────</span>\n",
       "</pre>\n"
      ],
      "text/plain": [
       "<rich.jupyter.JupyterRenderable at 0x7fd322657310>"
      ]
     },
     "metadata": {},
     "output_type": "display_data"
    },
    {
     "data": {
      "text/html": [
       "<pre style=\"white-space:pre;overflow-x:auto;line-height:normal;font-family:Menlo,'DejaVu Sans Mono',consolas,'Courier New',monospace\"><span style=\"color: #7fbfbf\">           </span>step:   <span style=\"color: #ff79ff\">100</span>/<span style=\"color: #ff79ff\">100</span>   dt: <span style=\"color: #ff79ff\">0.266</span> loss: <span style=\"color: #ff79ff\">-2.97</span> accept_prob: <span style=\"color: #ff79ff\">0.165</span> beta:     <span style=\"color: #ff79ff\">3</span> dq_int: <span style=\"color: #ff79ff\">0.0313</span> dq_sin: <span style=\"color: #ff79ff\">0.0488</span> plaqs: <span style=\"color: #ff79ff\">-0.000495</span> p4x4: <span style=\"color: #ff79ff\">0.0347</span>                                                                                                                                                 <a href=\"file:///Users/saforem2/l2hmc-qcd/l2hmc-qcd/utils/file_io.py\"><span style=\"color: #7f7f7f\">file_io.py</span></a><span style=\"color: #7f7f7f\">:184</span>\n",
       "</pre>\n"
      ],
      "text/plain": [
       "<rich.jupyter.JupyterRenderable at 0x7fd2f3b0a430>"
      ]
     },
     "metadata": {},
     "output_type": "display_data"
    },
    {
     "data": {
      "text/html": [
       "<pre style=\"white-space:pre;overflow-x:auto;line-height:normal;font-family:Menlo,'DejaVu Sans Mono',consolas,'Courier New',monospace\"><span style=\"color: #7fbfbf\">[17:31:41] </span>Checkpoint saved to: <span style=\"color: #800080\">/Users/saforem2/l2hmc-qcd/logs/GaugeModel_logs/test/2021_01/DEBUG_L16_b256_lf5_actswish_bi3_bf3_dp01_sepNets_NCProj-2021-01-26-1725/training/checkpoints/</span><span style=\"color: #ff00ff\">ckpt-6</span>                                                                                               <a href=\"file:///Users/saforem2/l2hmc-qcd/l2hmc-qcd/utils/file_io.py\"><span style=\"color: #7f7f7f\">file_io.py</span></a><span style=\"color: #7f7f7f\">:184</span>\n",
       "</pre>\n"
      ],
      "text/plain": [
       "<rich.jupyter.JupyterRenderable at 0x7fd31b4aa6d0>"
      ]
     },
     "metadata": {},
     "output_type": "display_data"
    },
    {
     "data": {
      "text/html": [
       "<pre style=\"white-space:pre;overflow-x:auto;line-height:normal;font-family:Menlo,'DejaVu Sans Mono',consolas,'Courier New',monospace\"><span style=\"color: #7fbfbf\">           </span>Saving veps to <span style=\"color: #800080\">/Users/saforem2/l2hmc-qcd/logs/GaugeModel_logs/test/2021_01/DEBUG_L16_b256_lf5_actswish_bi3_bf3_dp01_sepNets_NCProj-2021-01-26-1725/training/models/</span><span style=\"color: #ff00ff\">veps.z.</span>                                                                                                         <a href=\"file:///Users/saforem2/l2hmc-qcd/l2hmc-qcd/utils/file_io.py\"><span style=\"color: #7f7f7f\">file_io.py</span></a><span style=\"color: #7f7f7f\">:363</span>\n",
       "</pre>\n"
      ],
      "text/plain": [
       "<rich.jupyter.JupyterRenderable at 0x7fd31b4aad00>"
      ]
     },
     "metadata": {},
     "output_type": "display_data"
    },
    {
     "data": {
      "text/html": [
       "<pre style=\"white-space:pre;overflow-x:auto;line-height:normal;font-family:Menlo,'DejaVu Sans Mono',consolas,'Courier New',monospace\"><span style=\"color: #7fbfbf\">           </span>Saving xeps to <span style=\"color: #800080\">/Users/saforem2/l2hmc-qcd/logs/GaugeModel_logs/test/2021_01/DEBUG_L16_b256_lf5_actswish_bi3_bf3_dp01_sepNets_NCProj-2021-01-26-1725/training/models/</span><span style=\"color: #ff00ff\">xeps.z.</span>                                                                                                         <a href=\"file:///Users/saforem2/l2hmc-qcd/l2hmc-qcd/utils/file_io.py\"><span style=\"color: #7f7f7f\">file_io.py</span></a><span style=\"color: #7f7f7f\">:363</span>\n",
       "</pre>\n"
      ],
      "text/plain": [
       "<rich.jupyter.JupyterRenderable at 0x7fd31b4aaa90>"
      ]
     },
     "metadata": {},
     "output_type": "display_data"
    },
    {
     "data": {
      "text/html": [
       "<pre style=\"white-space:pre;overflow-x:auto;line-height:normal;font-family:Menlo,'DejaVu Sans Mono',consolas,'Courier New',monospace\"><span style=\"color: #7fbfbf\">[17:32:09] </span>Creating directory: <span style=\"color: #800080\">/Users/saforem2/l2hmc-qcd/logs/GaugeModel_logs/test/2021_01/DEBUG_L16_b256_lf5_actswish_bi3_bf3_dp01_sepNets_NCProj-2021-01-26-1725/training/</span><span style=\"color: #ff00ff\">outputs</span>                                                                                                           <a href=\"file:///Users/saforem2/l2hmc-qcd/l2hmc-qcd/utils/file_io.py\"><span style=\"color: #7f7f7f\">file_io.py</span></a><span style=\"color: #7f7f7f\">:184</span>\n",
       "</pre>\n"
      ],
      "text/plain": [
       "<rich.jupyter.JupyterRenderable at 0x7fd3434530a0>"
      ]
     },
     "metadata": {},
     "output_type": "display_data"
    },
    {
     "data": {
      "text/html": [
       "<pre style=\"white-space:pre;overflow-x:auto;line-height:normal;font-family:Menlo,'DejaVu Sans Mono',consolas,'Courier New',monospace\"><span style=\"color: #7fbfbf\">           </span>Saving dataset to: <span style=\"color: #800080\">/Users/saforem2/l2hmc-qcd/logs/GaugeModel_logs/test/2021_01/DEBUG_L16_b256_lf5_actswish_bi3_bf3_dp01_sepNets_NCProj-2021-01-26-1725/training/outputs/</span><span style=\"color: #ff00ff\">dataset.nc.</span>                                                                                                <a href=\"file:///Users/saforem2/l2hmc-qcd/l2hmc-qcd/utils/file_io.py\"><span style=\"color: #7f7f7f\">file_io.py</span></a><span style=\"color: #7f7f7f\">:184</span>\n",
       "</pre>\n"
      ],
      "text/plain": [
       "<rich.jupyter.JupyterRenderable at 0x7fd33567cbb0>"
      ]
     },
     "metadata": {},
     "output_type": "display_data"
    },
    {
     "data": {
      "text/html": [
       "<pre style=\"white-space:pre;overflow-x:auto;line-height:normal;font-family:Menlo,'DejaVu Sans Mono',consolas,'Courier New',monospace\"><span style=\"color: #7fbfbf\">           </span>Creating directory: <span style=\"color: #800080\">/Users/saforem2/l2hmc-qcd/logs/GaugeModel_logs/test/2021_01/DEBUG_L16_b256_lf5_actswish_bi3_bf3_dp01_sepNets_NCProj-2021-01-26-1725/training/</span><span style=\"color: #ff00ff\">plots</span>                                                                                                             <a href=\"file:///Users/saforem2/l2hmc-qcd/l2hmc-qcd/utils/file_io.py\"><span style=\"color: #7f7f7f\">file_io.py</span></a><span style=\"color: #7f7f7f\">:184</span>\n",
       "</pre>\n"
      ],
      "text/plain": [
       "<rich.jupyter.JupyterRenderable at 0x7fd343615d30>"
      ]
     },
     "metadata": {},
     "output_type": "display_data"
    },
    {
     "data": {
      "text/html": [
       "<pre style=\"white-space:pre;overflow-x:auto;line-height:normal;font-family:Menlo,'DejaVu Sans Mono',consolas,'Courier New',monospace\"><span style=\"color: #7fbfbf\">           </span>`get_title_str_from_params` took: <span style=\"color: #ff79ff\">0.</span>016ms                                                                                                                                                                                                                                          <a href=\"file:///Users/saforem2/l2hmc-qcd/l2hmc-qcd/utils/file_io.py\"><span style=\"color: #7f7f7f\">file_io.py</span></a><span style=\"color: #7f7f7f\">:184</span>\n",
       "</pre>\n"
      ],
      "text/plain": [
       "<rich.jupyter.JupyterRenderable at 0x7fd3436159a0>"
      ]
     },
     "metadata": {},
     "output_type": "display_data"
    },
    {
     "data": {
      "text/html": [
       "<pre style=\"white-space:pre;overflow-x:auto;line-height:normal;font-family:Menlo,'DejaVu Sans Mono',consolas,'Courier New',monospace\"><span style=\"color: #7fbfbf\">           </span>Creating directory: <span style=\"color: #800080\">/Users/saforem2/l2hmc-qcd/logs/GaugeModel_logs/test/2021_01/DEBUG_L16_b256_lf5_actswish_bi3_bf3_dp01_sepNets_NCProj-2021-01-26-1725/training/plots/</span><span style=\"color: #ff00ff\">mcmc_lineplots</span>                                                                                              <a href=\"file:///Users/saforem2/l2hmc-qcd/l2hmc-qcd/utils/file_io.py\"><span style=\"color: #7f7f7f\">file_io.py</span></a><span style=\"color: #7f7f7f\">:184</span>\n",
       "</pre>\n"
      ],
      "text/plain": [
       "<rich.jupyter.JupyterRenderable at 0x7fd3436159a0>"
      ]
     },
     "metadata": {},
     "output_type": "display_data"
    },
    {
     "data": {
      "text/html": [
       "<pre style=\"white-space:pre;overflow-x:auto;line-height:normal;font-family:Menlo,'DejaVu Sans Mono',consolas,'Courier New',monospace\"><span style=\"color: #7fbfbf\">           </span>Creating directory: <span style=\"color: #800080\">/Users/saforem2/l2hmc-qcd/logs/GaugeModel_logs/test/2021_01/DEBUG_L16_b256_lf5_actswish_bi3_bf3_dp01_sepNets_NCProj-2021-01-26-1725/training/plots/</span><span style=\"color: #ff00ff\">xarr_plots</span>                                                                                                  <a href=\"file:///Users/saforem2/l2hmc-qcd/l2hmc-qcd/utils/file_io.py\"><span style=\"color: #7f7f7f\">file_io.py</span></a><span style=\"color: #7f7f7f\">:184</span>\n",
       "</pre>\n"
      ],
      "text/plain": [
       "<rich.jupyter.JupyterRenderable at 0x7fd3434f2c40>"
      ]
     },
     "metadata": {},
     "output_type": "display_data"
    },
    {
     "data": {
      "text/html": [
       "<pre style=\"white-space:pre;overflow-x:auto;line-height:normal;font-family:Menlo,'DejaVu Sans Mono',consolas,'Courier New',monospace\"><span style=\"color: #7fbfbf\">[17:32:52] </span>Creating directory: <span style=\"color: #800080\">/Users/saforem2/l2hmc-qcd/logs/GaugeModel_logs/test/2021_01/DEBUG_L16_b256_lf5_actswish_bi3_bf3_dp01_sepNets_NCProj-2021-01-26-1725/training/plots/xarr_plots/</span><span style=\"color: #ff00ff\">ridgeplots</span>                                                                                       <a href=\"file:///Users/saforem2/l2hmc-qcd/l2hmc-qcd/utils/file_io.py\"><span style=\"color: #7f7f7f\">file_io.py</span></a><span style=\"color: #7f7f7f\">:184</span>\n",
       "</pre>\n"
      ],
      "text/plain": [
       "<rich.jupyter.JupyterRenderable at 0x7fd323c45610>"
      ]
     },
     "metadata": {},
     "output_type": "display_data"
    },
    {
     "name": "stderr",
     "output_type": "stream",
     "text": [
      "/Users/saforem2/opt/anaconda3/envs/tf2.4/lib/python3.8/site-packages/seaborn/axisgrid.py:64: UserWarning: Tight layout not applied. tight_layout cannot make axes height small enough to accommodate all axes decorations\n",
      "  self.fig.tight_layout(*args, **kwargs)\n",
      "/Users/saforem2/opt/anaconda3/envs/tf2.4/lib/python3.8/site-packages/seaborn/axisgrid.py:64: UserWarning: Tight layout not applied. tight_layout cannot make axes height small enough to accommodate all axes decorations\n",
      "  self.fig.tight_layout(*args, **kwargs)\n"
     ]
    },
    {
     "data": {
      "text/html": [
       "<pre style=\"white-space:pre;overflow-x:auto;line-height:normal;font-family:Menlo,'DejaVu Sans Mono',consolas,'Courier New',monospace\"><span style=\"color: #7fbfbf\">[17:32:53] </span>Saving figure to: <span style=\"color: #800080\">/Users/saforem2/l2hmc-qcd/logs/GaugeModel_logs/test/2021_01/DEBUG_L16_b256_lf5_actswish_bi3_bf3_dp01_sepNets_NCProj-2021-01-26-1725/training/plots/xarr_plots/ridgeplots/</span><span style=\"color: #ff00ff\">Hf_ridgeplot.pdf.</span>                                                                       <a href=\"file:///Users/saforem2/l2hmc-qcd/l2hmc-qcd/utils/file_io.py\"><span style=\"color: #7f7f7f\">file_io.py</span></a><span style=\"color: #7f7f7f\">:184</span>\n",
       "</pre>\n"
      ],
      "text/plain": [
       "<rich.jupyter.JupyterRenderable at 0x7fd343514fd0>"
      ]
     },
     "metadata": {},
     "output_type": "display_data"
    },
    {
     "name": "stderr",
     "output_type": "stream",
     "text": [
      "/Users/saforem2/opt/anaconda3/envs/tf2.4/lib/python3.8/site-packages/seaborn/axisgrid.py:64: UserWarning: Tight layout not applied. tight_layout cannot make axes height small enough to accommodate all axes decorations\n",
      "  self.fig.tight_layout(*args, **kwargs)\n",
      "/Users/saforem2/opt/anaconda3/envs/tf2.4/lib/python3.8/site-packages/seaborn/axisgrid.py:64: UserWarning: Tight layout not applied. tight_layout cannot make axes height small enough to accommodate all axes decorations\n",
      "  self.fig.tight_layout(*args, **kwargs)\n"
     ]
    },
    {
     "data": {
      "text/html": [
       "<pre style=\"white-space:pre;overflow-x:auto;line-height:normal;font-family:Menlo,'DejaVu Sans Mono',consolas,'Courier New',monospace\"><span style=\"color: #7fbfbf\">[17:32:54] </span>Saving figure to: <span style=\"color: #800080\">/Users/saforem2/l2hmc-qcd/logs/GaugeModel_logs/test/2021_01/DEBUG_L16_b256_lf5_actswish_bi3_bf3_dp01_sepNets_NCProj-2021-01-26-1725/training/plots/xarr_plots/ridgeplots/</span><span style=\"color: #ff00ff\">Hb_ridgeplot.pdf.</span>                                                                       <a href=\"file:///Users/saforem2/l2hmc-qcd/l2hmc-qcd/utils/file_io.py\"><span style=\"color: #7f7f7f\">file_io.py</span></a><span style=\"color: #7f7f7f\">:184</span>\n",
       "</pre>\n"
      ],
      "text/plain": [
       "<rich.jupyter.JupyterRenderable at 0x7fd31c673790>"
      ]
     },
     "metadata": {},
     "output_type": "display_data"
    },
    {
     "name": "stderr",
     "output_type": "stream",
     "text": [
      "/Users/saforem2/opt/anaconda3/envs/tf2.4/lib/python3.8/site-packages/seaborn/axisgrid.py:64: UserWarning: Tight layout not applied. tight_layout cannot make axes height small enough to accommodate all axes decorations\n",
      "  self.fig.tight_layout(*args, **kwargs)\n",
      "/Users/saforem2/opt/anaconda3/envs/tf2.4/lib/python3.8/site-packages/seaborn/distributions.py:305: UserWarning: Dataset has 0 variance; skipping density estimate.\n",
      "  warnings.warn(msg, UserWarning)\n",
      "/Users/saforem2/opt/anaconda3/envs/tf2.4/lib/python3.8/site-packages/seaborn/axisgrid.py:64: UserWarning: Tight layout not applied. tight_layout cannot make axes height small enough to accommodate all axes decorations\n",
      "  self.fig.tight_layout(*args, **kwargs)\n"
     ]
    },
    {
     "data": {
      "text/html": [
       "<pre style=\"white-space:pre;overflow-x:auto;line-height:normal;font-family:Menlo,'DejaVu Sans Mono',consolas,'Courier New',monospace\"><span style=\"color: #7fbfbf\">[17:32:55] </span>Saving figure to: <span style=\"color: #800080\">/Users/saforem2/l2hmc-qcd/logs/GaugeModel_logs/test/2021_01/DEBUG_L16_b256_lf5_actswish_bi3_bf3_dp01_sepNets_NCProj-2021-01-26-1725/training/plots/xarr_plots/ridgeplots/</span><span style=\"color: #ff00ff\">logdetsf_ridgeplot.pdf.</span>                                                                 <a href=\"file:///Users/saforem2/l2hmc-qcd/l2hmc-qcd/utils/file_io.py\"><span style=\"color: #7f7f7f\">file_io.py</span></a><span style=\"color: #7f7f7f\">:184</span>\n",
       "</pre>\n"
      ],
      "text/plain": [
       "<rich.jupyter.JupyterRenderable at 0x7fd323a1f3a0>"
      ]
     },
     "metadata": {},
     "output_type": "display_data"
    },
    {
     "name": "stderr",
     "output_type": "stream",
     "text": [
      "/Users/saforem2/opt/anaconda3/envs/tf2.4/lib/python3.8/site-packages/seaborn/axisgrid.py:64: UserWarning: Tight layout not applied. tight_layout cannot make axes height small enough to accommodate all axes decorations\n",
      "  self.fig.tight_layout(*args, **kwargs)\n",
      "/Users/saforem2/opt/anaconda3/envs/tf2.4/lib/python3.8/site-packages/seaborn/distributions.py:305: UserWarning: Dataset has 0 variance; skipping density estimate.\n",
      "  warnings.warn(msg, UserWarning)\n",
      "/Users/saforem2/opt/anaconda3/envs/tf2.4/lib/python3.8/site-packages/seaborn/axisgrid.py:64: UserWarning: Tight layout not applied. tight_layout cannot make axes height small enough to accommodate all axes decorations\n",
      "  self.fig.tight_layout(*args, **kwargs)\n"
     ]
    },
    {
     "data": {
      "text/html": [
       "<pre style=\"white-space:pre;overflow-x:auto;line-height:normal;font-family:Menlo,'DejaVu Sans Mono',consolas,'Courier New',monospace\"><span style=\"color: #7fbfbf\">[17:32:57] </span>Saving figure to: <span style=\"color: #800080\">/Users/saforem2/l2hmc-qcd/logs/GaugeModel_logs/test/2021_01/DEBUG_L16_b256_lf5_actswish_bi3_bf3_dp01_sepNets_NCProj-2021-01-26-1725/training/plots/xarr_plots/ridgeplots/</span><span style=\"color: #ff00ff\">logdetsb_ridgeplot.pdf.</span>                                                                 <a href=\"file:///Users/saforem2/l2hmc-qcd/l2hmc-qcd/utils/file_io.py\"><span style=\"color: #7f7f7f\">file_io.py</span></a><span style=\"color: #7f7f7f\">:184</span>\n",
       "</pre>\n"
      ],
      "text/plain": [
       "<rich.jupyter.JupyterRenderable at 0x7fd354e2b790>"
      ]
     },
     "metadata": {},
     "output_type": "display_data"
    },
    {
     "name": "stderr",
     "output_type": "stream",
     "text": [
      "/Users/saforem2/opt/anaconda3/envs/tf2.4/lib/python3.8/site-packages/seaborn/axisgrid.py:64: UserWarning: Tight layout not applied. tight_layout cannot make axes height small enough to accommodate all axes decorations\n",
      "  self.fig.tight_layout(*args, **kwargs)\n",
      "/Users/saforem2/opt/anaconda3/envs/tf2.4/lib/python3.8/site-packages/seaborn/axisgrid.py:64: UserWarning: Tight layout not applied. tight_layout cannot make axes height small enough to accommodate all axes decorations\n",
      "  self.fig.tight_layout(*args, **kwargs)\n"
     ]
    },
    {
     "data": {
      "text/html": [
       "<pre style=\"white-space:pre;overflow-x:auto;line-height:normal;font-family:Menlo,'DejaVu Sans Mono',consolas,'Courier New',monospace\"><span style=\"color: #7fbfbf\">[17:32:58] </span>Saving figure to: <span style=\"color: #800080\">/Users/saforem2/l2hmc-qcd/logs/GaugeModel_logs/test/2021_01/DEBUG_L16_b256_lf5_actswish_bi3_bf3_dp01_sepNets_NCProj-2021-01-26-1725/training/plots/xarr_plots/ridgeplots/</span><span style=\"color: #ff00ff\">Hwf_ridgeplot.pdf.</span>                                                                      <a href=\"file:///Users/saforem2/l2hmc-qcd/l2hmc-qcd/utils/file_io.py\"><span style=\"color: #7f7f7f\">file_io.py</span></a><span style=\"color: #7f7f7f\">:184</span>\n",
       "</pre>\n"
      ],
      "text/plain": [
       "<rich.jupyter.JupyterRenderable at 0x7fd2f322f7c0>"
      ]
     },
     "metadata": {},
     "output_type": "display_data"
    },
    {
     "name": "stderr",
     "output_type": "stream",
     "text": [
      "/Users/saforem2/opt/anaconda3/envs/tf2.4/lib/python3.8/site-packages/seaborn/axisgrid.py:64: UserWarning: Tight layout not applied. tight_layout cannot make axes height small enough to accommodate all axes decorations\n",
      "  self.fig.tight_layout(*args, **kwargs)\n",
      "/Users/saforem2/opt/anaconda3/envs/tf2.4/lib/python3.8/site-packages/seaborn/axisgrid.py:64: UserWarning: Tight layout not applied. tight_layout cannot make axes height small enough to accommodate all axes decorations\n",
      "  self.fig.tight_layout(*args, **kwargs)\n"
     ]
    },
    {
     "data": {
      "text/html": [
       "<pre style=\"white-space:pre;overflow-x:auto;line-height:normal;font-family:Menlo,'DejaVu Sans Mono',consolas,'Courier New',monospace\"><span style=\"color: #7fbfbf\">[17:32:59] </span>Saving figure to: <span style=\"color: #800080\">/Users/saforem2/l2hmc-qcd/logs/GaugeModel_logs/test/2021_01/DEBUG_L16_b256_lf5_actswish_bi3_bf3_dp01_sepNets_NCProj-2021-01-26-1725/training/plots/xarr_plots/ridgeplots/</span><span style=\"color: #ff00ff\">Hwb_ridgeplot.pdf.</span>                                                                      <a href=\"file:///Users/saforem2/l2hmc-qcd/l2hmc-qcd/utils/file_io.py\"><span style=\"color: #7f7f7f\">file_io.py</span></a><span style=\"color: #7f7f7f\">:184</span>\n",
       "</pre>\n"
      ],
      "text/plain": [
       "<rich.jupyter.JupyterRenderable at 0x7fd2f32c93d0>"
      ]
     },
     "metadata": {},
     "output_type": "display_data"
    },
    {
     "name": "stderr",
     "output_type": "stream",
     "text": [
      "/Users/saforem2/opt/anaconda3/envs/tf2.4/lib/python3.8/site-packages/seaborn/axisgrid.py:64: UserWarning: Tight layout not applied. tight_layout cannot make axes height small enough to accommodate all axes decorations\n",
      "  self.fig.tight_layout(*args, **kwargs)\n",
      "/Users/saforem2/opt/anaconda3/envs/tf2.4/lib/python3.8/site-packages/seaborn/axisgrid.py:64: UserWarning: Tight layout not applied. tight_layout cannot make axes height small enough to accommodate all axes decorations\n",
      "  self.fig.tight_layout(*args, **kwargs)\n"
     ]
    },
    {
     "data": {
      "text/html": [
       "<pre style=\"white-space:pre;overflow-x:auto;line-height:normal;font-family:Menlo,'DejaVu Sans Mono',consolas,'Courier New',monospace\"><span style=\"color: #7fbfbf\">[17:33:00] </span>Saving figure to: <span style=\"color: #800080\">/Users/saforem2/l2hmc-qcd/logs/GaugeModel_logs/test/2021_01/DEBUG_L16_b256_lf5_actswish_bi3_bf3_dp01_sepNets_NCProj-2021-01-26-1725/training/plots/xarr_plots/ridgeplots/</span><span style=\"color: #ff00ff\">sinQf_ridgeplot.pdf.</span>                                                                    <a href=\"file:///Users/saforem2/l2hmc-qcd/l2hmc-qcd/utils/file_io.py\"><span style=\"color: #7f7f7f\">file_io.py</span></a><span style=\"color: #7f7f7f\">:184</span>\n",
       "</pre>\n"
      ],
      "text/plain": [
       "<rich.jupyter.JupyterRenderable at 0x7fd333025fa0>"
      ]
     },
     "metadata": {},
     "output_type": "display_data"
    },
    {
     "name": "stderr",
     "output_type": "stream",
     "text": [
      "/Users/saforem2/opt/anaconda3/envs/tf2.4/lib/python3.8/site-packages/seaborn/axisgrid.py:64: UserWarning: Tight layout not applied. tight_layout cannot make axes height small enough to accommodate all axes decorations\n",
      "  self.fig.tight_layout(*args, **kwargs)\n",
      "/Users/saforem2/opt/anaconda3/envs/tf2.4/lib/python3.8/site-packages/seaborn/axisgrid.py:64: UserWarning: Tight layout not applied. tight_layout cannot make axes height small enough to accommodate all axes decorations\n",
      "  self.fig.tight_layout(*args, **kwargs)\n"
     ]
    },
    {
     "data": {
      "text/html": [
       "<pre style=\"white-space:pre;overflow-x:auto;line-height:normal;font-family:Menlo,'DejaVu Sans Mono',consolas,'Courier New',monospace\"><span style=\"color: #7fbfbf\">[17:33:01] </span>Saving figure to: <span style=\"color: #800080\">/Users/saforem2/l2hmc-qcd/logs/GaugeModel_logs/test/2021_01/DEBUG_L16_b256_lf5_actswish_bi3_bf3_dp01_sepNets_NCProj-2021-01-26-1725/training/plots/xarr_plots/ridgeplots/</span><span style=\"color: #ff00ff\">sinQb_ridgeplot.pdf.</span>                                                                    <a href=\"file:///Users/saforem2/l2hmc-qcd/l2hmc-qcd/utils/file_io.py\"><span style=\"color: #7f7f7f\">file_io.py</span></a><span style=\"color: #7f7f7f\">:184</span>\n",
       "</pre>\n"
      ],
      "text/plain": [
       "<rich.jupyter.JupyterRenderable at 0x7fd343ecb640>"
      ]
     },
     "metadata": {},
     "output_type": "display_data"
    },
    {
     "name": "stderr",
     "output_type": "stream",
     "text": [
      "/Users/saforem2/opt/anaconda3/envs/tf2.4/lib/python3.8/site-packages/seaborn/axisgrid.py:64: UserWarning: Tight layout not applied. tight_layout cannot make axes height small enough to accommodate all axes decorations\n",
      "  self.fig.tight_layout(*args, **kwargs)\n",
      "/Users/saforem2/opt/anaconda3/envs/tf2.4/lib/python3.8/site-packages/seaborn/axisgrid.py:64: UserWarning: Tight layout not applied. tight_layout cannot make axes height small enough to accommodate all axes decorations\n",
      "  self.fig.tight_layout(*args, **kwargs)\n"
     ]
    },
    {
     "data": {
      "text/html": [
       "<pre style=\"white-space:pre;overflow-x:auto;line-height:normal;font-family:Menlo,'DejaVu Sans Mono',consolas,'Courier New',monospace\"><span style=\"color: #7fbfbf\">[17:33:03] </span>Saving figure to: <span style=\"color: #800080\">/Users/saforem2/l2hmc-qcd/logs/GaugeModel_logs/test/2021_01/DEBUG_L16_b256_lf5_actswish_bi3_bf3_dp01_sepNets_NCProj-2021-01-26-1725/training/plots/xarr_plots/ridgeplots/</span><span style=\"color: #ff00ff\">intQf_ridgeplot.pdf.</span>                                                                    <a href=\"file:///Users/saforem2/l2hmc-qcd/l2hmc-qcd/utils/file_io.py\"><span style=\"color: #7f7f7f\">file_io.py</span></a><span style=\"color: #7f7f7f\">:184</span>\n",
       "</pre>\n"
      ],
      "text/plain": [
       "<rich.jupyter.JupyterRenderable at 0x7fd33303f640>"
      ]
     },
     "metadata": {},
     "output_type": "display_data"
    },
    {
     "name": "stderr",
     "output_type": "stream",
     "text": [
      "/Users/saforem2/opt/anaconda3/envs/tf2.4/lib/python3.8/site-packages/seaborn/axisgrid.py:64: UserWarning: Tight layout not applied. tight_layout cannot make axes height small enough to accommodate all axes decorations\n",
      "  self.fig.tight_layout(*args, **kwargs)\n",
      "/Users/saforem2/opt/anaconda3/envs/tf2.4/lib/python3.8/site-packages/seaborn/axisgrid.py:64: UserWarning: Tight layout not applied. tight_layout cannot make axes height small enough to accommodate all axes decorations\n",
      "  self.fig.tight_layout(*args, **kwargs)\n"
     ]
    },
    {
     "data": {
      "text/html": [
       "<pre style=\"white-space:pre;overflow-x:auto;line-height:normal;font-family:Menlo,'DejaVu Sans Mono',consolas,'Courier New',monospace\"><span style=\"color: #7fbfbf\">[17:33:04] </span>Saving figure to: <span style=\"color: #800080\">/Users/saforem2/l2hmc-qcd/logs/GaugeModel_logs/test/2021_01/DEBUG_L16_b256_lf5_actswish_bi3_bf3_dp01_sepNets_NCProj-2021-01-26-1725/training/plots/xarr_plots/ridgeplots/</span><span style=\"color: #ff00ff\">intQb_ridgeplot.pdf.</span>                                                                    <a href=\"file:///Users/saforem2/l2hmc-qcd/l2hmc-qcd/utils/file_io.py\"><span style=\"color: #7f7f7f\">file_io.py</span></a><span style=\"color: #7f7f7f\">:184</span>\n",
       "</pre>\n"
      ],
      "text/plain": [
       "<rich.jupyter.JupyterRenderable at 0x7fd305ed7730>"
      ]
     },
     "metadata": {},
     "output_type": "display_data"
    },
    {
     "name": "stderr",
     "output_type": "stream",
     "text": [
      "/Users/saforem2/opt/anaconda3/envs/tf2.4/lib/python3.8/site-packages/seaborn/axisgrid.py:64: UserWarning: Tight layout not applied. tight_layout cannot make axes height small enough to accommodate all axes decorations\n",
      "  self.fig.tight_layout(*args, **kwargs)\n",
      "/Users/saforem2/opt/anaconda3/envs/tf2.4/lib/python3.8/site-packages/seaborn/axisgrid.py:64: UserWarning: Tight layout not applied. tight_layout cannot make axes height small enough to accommodate all axes decorations\n",
      "  self.fig.tight_layout(*args, **kwargs)\n"
     ]
    },
    {
     "data": {
      "text/html": [
       "<pre style=\"white-space:pre;overflow-x:auto;line-height:normal;font-family:Menlo,'DejaVu Sans Mono',consolas,'Courier New',monospace\"><span style=\"color: #7fbfbf\">[17:33:06] </span>Saving figure to: <span style=\"color: #800080\">/Users/saforem2/l2hmc-qcd/logs/GaugeModel_logs/test/2021_01/DEBUG_L16_b256_lf5_actswish_bi3_bf3_dp01_sepNets_NCProj-2021-01-26-1725/training/plots/xarr_plots/ridgeplots/</span><span style=\"color: #ff00ff\">plaqsf_ridgeplot.pdf.</span>                                                                   <a href=\"file:///Users/saforem2/l2hmc-qcd/l2hmc-qcd/utils/file_io.py\"><span style=\"color: #7f7f7f\">file_io.py</span></a><span style=\"color: #7f7f7f\">:184</span>\n",
       "</pre>\n"
      ],
      "text/plain": [
       "<rich.jupyter.JupyterRenderable at 0x7fd2f33d77f0>"
      ]
     },
     "metadata": {},
     "output_type": "display_data"
    },
    {
     "name": "stderr",
     "output_type": "stream",
     "text": [
      "/Users/saforem2/opt/anaconda3/envs/tf2.4/lib/python3.8/site-packages/seaborn/axisgrid.py:64: UserWarning: Tight layout not applied. tight_layout cannot make axes height small enough to accommodate all axes decorations\n",
      "  self.fig.tight_layout(*args, **kwargs)\n",
      "/Users/saforem2/opt/anaconda3/envs/tf2.4/lib/python3.8/site-packages/seaborn/axisgrid.py:64: UserWarning: Tight layout not applied. tight_layout cannot make axes height small enough to accommodate all axes decorations\n",
      "  self.fig.tight_layout(*args, **kwargs)\n"
     ]
    },
    {
     "data": {
      "text/html": [
       "<pre style=\"white-space:pre;overflow-x:auto;line-height:normal;font-family:Menlo,'DejaVu Sans Mono',consolas,'Courier New',monospace\"><span style=\"color: #7fbfbf\">[17:33:07] </span>Saving figure to: <span style=\"color: #800080\">/Users/saforem2/l2hmc-qcd/logs/GaugeModel_logs/test/2021_01/DEBUG_L16_b256_lf5_actswish_bi3_bf3_dp01_sepNets_NCProj-2021-01-26-1725/training/plots/xarr_plots/ridgeplots/</span><span style=\"color: #ff00ff\">plaqsb_ridgeplot.pdf.</span>                                                                   <a href=\"file:///Users/saforem2/l2hmc-qcd/l2hmc-qcd/utils/file_io.py\"><span style=\"color: #7f7f7f\">file_io.py</span></a><span style=\"color: #7f7f7f\">:184</span>\n",
       "</pre>\n"
      ],
      "text/plain": [
       "<rich.jupyter.JupyterRenderable at 0x7fd305ec3370>"
      ]
     },
     "metadata": {},
     "output_type": "display_data"
    },
    {
     "name": "stderr",
     "output_type": "stream",
     "text": [
      "/Users/saforem2/opt/anaconda3/envs/tf2.4/lib/python3.8/site-packages/seaborn/axisgrid.py:64: UserWarning: Tight layout not applied. tight_layout cannot make axes height small enough to accommodate all axes decorations\n",
      "  self.fig.tight_layout(*args, **kwargs)\n",
      "/Users/saforem2/opt/anaconda3/envs/tf2.4/lib/python3.8/site-packages/seaborn/axisgrid.py:64: UserWarning: Tight layout not applied. tight_layout cannot make axes height small enough to accommodate all axes decorations\n",
      "  self.fig.tight_layout(*args, **kwargs)\n"
     ]
    },
    {
     "data": {
      "text/html": [
       "<pre style=\"white-space:pre;overflow-x:auto;line-height:normal;font-family:Menlo,'DejaVu Sans Mono',consolas,'Courier New',monospace\"><span style=\"color: #7fbfbf\">[17:33:09] </span>Saving figure to: <span style=\"color: #800080\">/Users/saforem2/l2hmc-qcd/logs/GaugeModel_logs/test/2021_01/DEBUG_L16_b256_lf5_actswish_bi3_bf3_dp01_sepNets_NCProj-2021-01-26-1725/training/plots/xarr_plots/ridgeplots/</span><span style=\"color: #ff00ff\">p4x4f_ridgeplot.pdf.</span>                                                                    <a href=\"file:///Users/saforem2/l2hmc-qcd/l2hmc-qcd/utils/file_io.py\"><span style=\"color: #7f7f7f\">file_io.py</span></a><span style=\"color: #7f7f7f\">:184</span>\n",
       "</pre>\n"
      ],
      "text/plain": [
       "<rich.jupyter.JupyterRenderable at 0x7fd343fb90a0>"
      ]
     },
     "metadata": {},
     "output_type": "display_data"
    },
    {
     "name": "stderr",
     "output_type": "stream",
     "text": [
      "/Users/saforem2/opt/anaconda3/envs/tf2.4/lib/python3.8/site-packages/seaborn/axisgrid.py:64: UserWarning: Tight layout not applied. tight_layout cannot make axes height small enough to accommodate all axes decorations\n",
      "  self.fig.tight_layout(*args, **kwargs)\n",
      "/Users/saforem2/opt/anaconda3/envs/tf2.4/lib/python3.8/site-packages/seaborn/axisgrid.py:64: UserWarning: Tight layout not applied. tight_layout cannot make axes height small enough to accommodate all axes decorations\n",
      "  self.fig.tight_layout(*args, **kwargs)\n"
     ]
    },
    {
     "data": {
      "text/html": [
       "<pre style=\"white-space:pre;overflow-x:auto;line-height:normal;font-family:Menlo,'DejaVu Sans Mono',consolas,'Courier New',monospace\"><span style=\"color: #7fbfbf\">[17:33:10] </span>Saving figure to: <span style=\"color: #800080\">/Users/saforem2/l2hmc-qcd/logs/GaugeModel_logs/test/2021_01/DEBUG_L16_b256_lf5_actswish_bi3_bf3_dp01_sepNets_NCProj-2021-01-26-1725/training/plots/xarr_plots/ridgeplots/</span><span style=\"color: #ff00ff\">p4x4b_ridgeplot.pdf.</span>                                                                    <a href=\"file:///Users/saforem2/l2hmc-qcd/l2hmc-qcd/utils/file_io.py\"><span style=\"color: #7f7f7f\">file_io.py</span></a><span style=\"color: #7f7f7f\">:184</span>\n",
       "</pre>\n"
      ],
      "text/plain": [
       "<rich.jupyter.JupyterRenderable at 0x7fd2e367a340>"
      ]
     },
     "metadata": {},
     "output_type": "display_data"
    },
    {
     "data": {
      "text/html": [
       "<pre style=\"white-space:pre;overflow-x:auto;line-height:normal;font-family:Menlo,'DejaVu Sans Mono',consolas,'Courier New',monospace\"><span style=\"color: #7fbfbf\">[17:33:11] </span>`make_ridgeplots` took: <span style=\"color: #ff79ff\">1.</span>89e+04ms                                                                                                                                                                                                                                                 <a href=\"file:///Users/saforem2/l2hmc-qcd/l2hmc-qcd/utils/file_io.py\"><span style=\"color: #7f7f7f\">file_io.py</span></a><span style=\"color: #7f7f7f\">:184</span>\n",
       "</pre>\n"
      ],
      "text/plain": [
       "<rich.jupyter.JupyterRenderable at 0x7fd2e3696c10>"
      ]
     },
     "metadata": {},
     "output_type": "display_data"
    },
    {
     "data": {
      "text/html": [
       "<pre style=\"white-space:pre;overflow-x:auto;line-height:normal;font-family:Menlo,'DejaVu Sans Mono',consolas,'Courier New',monospace\"><span style=\"color: #7fbfbf\">[17:33:12] </span>Saving figure to: <span style=\"color: #800080\">/Users/saforem2/l2hmc-qcd/logs/GaugeModel_logs/test/2021_01/DEBUG_L16_b256_lf5_actswish_bi3_bf3_dp01_sepNets_NCProj-2021-01-26-1725/training/plots/</span><span style=\"color: #ff00ff\">tint_vs_draws.pdf</span>                                                                                             <a href=\"file:///Users/saforem2/l2hmc-qcd/l2hmc-qcd/utils/file_io.py\"><span style=\"color: #7f7f7f\">file_io.py</span></a><span style=\"color: #7f7f7f\">:184</span>\n",
       "</pre>\n"
      ],
      "text/plain": [
       "<rich.jupyter.JupyterRenderable at 0x7fd31c9a2040>"
      ]
     },
     "metadata": {},
     "output_type": "display_data"
    },
    {
     "data": {
      "text/html": [
       "<pre style=\"white-space:pre;overflow-x:auto;line-height:normal;font-family:Menlo,'DejaVu Sans Mono',consolas,'Courier New',monospace\"><span style=\"color: #7fbfbf\">[17:33:13] </span>Saving figure to: <span style=\"color: #800080\">/Users/saforem2/l2hmc-qcd/logs/GaugeModel_logs/test/2021_01/DEBUG_L16_b256_lf5_actswish_bi3_bf3_dp01_sepNets_NCProj-2021-01-26-1725/training/plots/</span><span style=\"color: #ff00ff\">energy_dists_traj.pdf.</span>                                                                                        <a href=\"file:///Users/saforem2/l2hmc-qcd/l2hmc-qcd/utils/file_io.py\"><span style=\"color: #7f7f7f\">file_io.py</span></a><span style=\"color: #7f7f7f\">:184</span>\n",
       "</pre>\n"
      ],
      "text/plain": [
       "<rich.jupyter.JupyterRenderable at 0x7fd306018f10>"
      ]
     },
     "metadata": {},
     "output_type": "display_data"
    },
    {
     "data": {
      "text/html": [
       "<pre style=\"white-space:pre;overflow-x:auto;line-height:normal;font-family:Menlo,'DejaVu Sans Mono',consolas,'Courier New',monospace\"><span style=\"color: #7fbfbf\">[17:33:14] </span>`savefig` took: 851ms                                                                                                                                                                                                                                                              <a href=\"file:///Users/saforem2/l2hmc-qcd/l2hmc-qcd/utils/file_io.py\"><span style=\"color: #7f7f7f\">file_io.py</span></a><span style=\"color: #7f7f7f\">:184</span>\n",
       "</pre>\n"
      ],
      "text/plain": [
       "<rich.jupyter.JupyterRenderable at 0x7fd30600a9a0>"
      ]
     },
     "metadata": {},
     "output_type": "display_data"
    },
    {
     "data": {
      "text/html": [
       "<pre style=\"white-space:pre;overflow-x:auto;line-height:normal;font-family:Menlo,'DejaVu Sans Mono',consolas,'Courier New',monospace\"><span style=\"color: #7fbfbf\">           </span>`plot_energy_distributions` took: <span style=\"color: #ff79ff\">1.</span>07e+03ms                                                                                                                                                                                                                                       <a href=\"file:///Users/saforem2/l2hmc-qcd/l2hmc-qcd/utils/file_io.py\"><span style=\"color: #7f7f7f\">file_io.py</span></a><span style=\"color: #7f7f7f\">:184</span>\n",
       "</pre>\n"
      ],
      "text/plain": [
       "<rich.jupyter.JupyterRenderable at 0x7fd333188190>"
      ]
     },
     "metadata": {},
     "output_type": "display_data"
    },
    {
     "data": {
      "text/html": [
       "<pre style=\"white-space:pre;overflow-x:auto;line-height:normal;font-family:Menlo,'DejaVu Sans Mono',consolas,'Courier New',monospace\"><span style=\"color: #7fbfbf\">           </span>Creating directory: <span style=\"color: #800080\">/Users/saforem2/l2hmc-qcd/logs/GaugeModel_logs/test/2021_01/DEBUG_L16_b256_lf5_actswish_bi3_bf3_dp01_sepNets_NCProj-2021-01-26-1725/training/plots/</span><span style=\"color: #ff00ff\">avg_lineplots</span>                                                                                               <a href=\"file:///Users/saforem2/l2hmc-qcd/l2hmc-qcd/utils/file_io.py\"><span style=\"color: #7f7f7f\">file_io.py</span></a><span style=\"color: #7f7f7f\">:184</span>\n",
       "</pre>\n"
      ],
      "text/plain": [
       "<rich.jupyter.JupyterRenderable at 0x7fd354fe6370>"
      ]
     },
     "metadata": {},
     "output_type": "display_data"
    },
    {
     "data": {
      "text/html": [
       "<pre style=\"white-space:pre;overflow-x:auto;line-height:normal;font-family:Menlo,'DejaVu Sans Mono',consolas,'Courier New',monospace\"><span style=\"color: #7fbfbf\">           </span>Saving figure to: <span style=\"color: #800080\">/Users/saforem2/l2hmc-qcd/logs/GaugeModel_logs/test/2021_01/DEBUG_L16_b256_lf5_actswish_bi3_bf3_dp01_sepNets_NCProj-2021-01-26-1725/training/plots/avg_lineplots/</span><span style=\"color: #ff00ff\">loss_avg.pdf.</span>                                                                                   <a href=\"file:///Users/saforem2/l2hmc-qcd/l2hmc-qcd/utils/file_io.py\"><span style=\"color: #7f7f7f\">file_io.py</span></a><span style=\"color: #7f7f7f\">:184</span>\n",
       "</pre>\n"
      ],
      "text/plain": [
       "<rich.jupyter.JupyterRenderable at 0x7fd354fe6820>"
      ]
     },
     "metadata": {},
     "output_type": "display_data"
    },
    {
     "data": {
      "text/html": [
       "<pre style=\"white-space:pre;overflow-x:auto;line-height:normal;font-family:Menlo,'DejaVu Sans Mono',consolas,'Courier New',monospace\"><span style=\"color: #7fbfbf\">[17:33:15] </span>`savefig` took: 798ms                                                                                                                                                                                                                                                              <a href=\"file:///Users/saforem2/l2hmc-qcd/l2hmc-qcd/utils/file_io.py\"><span style=\"color: #7f7f7f\">file_io.py</span></a><span style=\"color: #7f7f7f\">:184</span>\n",
       "</pre>\n"
      ],
      "text/plain": [
       "<rich.jupyter.JupyterRenderable at 0x7fd354fe9670>"
      ]
     },
     "metadata": {},
     "output_type": "display_data"
    },
    {
     "data": {
      "text/html": [
       "<pre style=\"white-space:pre;overflow-x:auto;line-height:normal;font-family:Menlo,'DejaVu Sans Mono',consolas,'Courier New',monospace\"><span style=\"color: #7fbfbf\">           </span>Saving figure to: <span style=\"color: #800080\">/Users/saforem2/l2hmc-qcd/logs/GaugeModel_logs/test/2021_01/DEBUG_L16_b256_lf5_actswish_bi3_bf3_dp01_sepNets_NCProj-2021-01-26-1725/training/plots/avg_lineplots/</span><span style=\"color: #ff00ff\">accept_prob_avg.pdf.</span>                                                                            <a href=\"file:///Users/saforem2/l2hmc-qcd/l2hmc-qcd/utils/file_io.py\"><span style=\"color: #7f7f7f\">file_io.py</span></a><span style=\"color: #7f7f7f\">:184</span>\n",
       "</pre>\n"
      ],
      "text/plain": [
       "<rich.jupyter.JupyterRenderable at 0x7fd2f34e9790>"
      ]
     },
     "metadata": {},
     "output_type": "display_data"
    },
    {
     "data": {
      "text/html": [
       "<pre style=\"white-space:pre;overflow-x:auto;line-height:normal;font-family:Menlo,'DejaVu Sans Mono',consolas,'Courier New',monospace\"><span style=\"color: #7fbfbf\">[17:33:16] </span>`savefig` took: 757ms                                                                                                                                                                                                                                                              <a href=\"file:///Users/saforem2/l2hmc-qcd/l2hmc-qcd/utils/file_io.py\"><span style=\"color: #7f7f7f\">file_io.py</span></a><span style=\"color: #7f7f7f\">:184</span>\n",
       "</pre>\n"
      ],
      "text/plain": [
       "<rich.jupyter.JupyterRenderable at 0x7fd31c9a2940>"
      ]
     },
     "metadata": {},
     "output_type": "display_data"
    },
    {
     "data": {
      "text/html": [
       "<pre style=\"white-space:pre;overflow-x:auto;line-height:normal;font-family:Menlo,'DejaVu Sans Mono',consolas,'Courier New',monospace\"><span style=\"color: #7fbfbf\">           </span>Saving figure to: <span style=\"color: #800080\">/Users/saforem2/l2hmc-qcd/logs/GaugeModel_logs/test/2021_01/DEBUG_L16_b256_lf5_actswish_bi3_bf3_dp01_sepNets_NCProj-2021-01-26-1725/training/plots/avg_lineplots/</span><span style=\"color: #ff00ff\">accept_probf_start_avg.pdf.</span>                                                                     <a href=\"file:///Users/saforem2/l2hmc-qcd/l2hmc-qcd/utils/file_io.py\"><span style=\"color: #7f7f7f\">file_io.py</span></a><span style=\"color: #7f7f7f\">:184</span>\n",
       "</pre>\n"
      ],
      "text/plain": [
       "<rich.jupyter.JupyterRenderable at 0x7fd33321aac0>"
      ]
     },
     "metadata": {},
     "output_type": "display_data"
    },
    {
     "data": {
      "text/html": [
       "<pre style=\"white-space:pre;overflow-x:auto;line-height:normal;font-family:Menlo,'DejaVu Sans Mono',consolas,'Courier New',monospace\"><span style=\"color: #7fbfbf\">           </span>`savefig` took: 775ms                                                                                                                                                                                                                                                              <a href=\"file:///Users/saforem2/l2hmc-qcd/l2hmc-qcd/utils/file_io.py\"><span style=\"color: #7f7f7f\">file_io.py</span></a><span style=\"color: #7f7f7f\">:184</span>\n",
       "</pre>\n"
      ],
      "text/plain": [
       "<rich.jupyter.JupyterRenderable at 0x7fd2f34e9a60>"
      ]
     },
     "metadata": {},
     "output_type": "display_data"
    },
    {
     "data": {
      "text/html": [
       "<pre style=\"white-space:pre;overflow-x:auto;line-height:normal;font-family:Menlo,'DejaVu Sans Mono',consolas,'Courier New',monospace\"><span style=\"color: #7fbfbf\">[17:33:17] </span>Saving figure to: <span style=\"color: #800080\">/Users/saforem2/l2hmc-qcd/logs/GaugeModel_logs/test/2021_01/DEBUG_L16_b256_lf5_actswish_bi3_bf3_dp01_sepNets_NCProj-2021-01-26-1725/training/plots/avg_lineplots/</span><span style=\"color: #ff00ff\">accept_probf_mid_avg.pdf.</span>                                                                       <a href=\"file:///Users/saforem2/l2hmc-qcd/l2hmc-qcd/utils/file_io.py\"><span style=\"color: #7f7f7f\">file_io.py</span></a><span style=\"color: #7f7f7f\">:184</span>\n",
       "</pre>\n"
      ],
      "text/plain": [
       "<rich.jupyter.JupyterRenderable at 0x7fd355015220>"
      ]
     },
     "metadata": {},
     "output_type": "display_data"
    },
    {
     "data": {
      "text/html": [
       "<pre style=\"white-space:pre;overflow-x:auto;line-height:normal;font-family:Menlo,'DejaVu Sans Mono',consolas,'Courier New',monospace\"><span style=\"color: #7fbfbf\">           </span>`savefig` took: 806ms                                                                                                                                                                                                                                                              <a href=\"file:///Users/saforem2/l2hmc-qcd/l2hmc-qcd/utils/file_io.py\"><span style=\"color: #7f7f7f\">file_io.py</span></a><span style=\"color: #7f7f7f\">:184</span>\n",
       "</pre>\n"
      ],
      "text/plain": [
       "<rich.jupyter.JupyterRenderable at 0x7fd3331f0d30>"
      ]
     },
     "metadata": {},
     "output_type": "display_data"
    },
    {
     "data": {
      "text/html": [
       "<pre style=\"white-space:pre;overflow-x:auto;line-height:normal;font-family:Menlo,'DejaVu Sans Mono',consolas,'Courier New',monospace\"><span style=\"color: #7fbfbf\">           </span>Saving figure to: <span style=\"color: #800080\">/Users/saforem2/l2hmc-qcd/logs/GaugeModel_logs/test/2021_01/DEBUG_L16_b256_lf5_actswish_bi3_bf3_dp01_sepNets_NCProj-2021-01-26-1725/training/plots/avg_lineplots/</span><span style=\"color: #ff00ff\">accept_probf_end_avg.pdf.</span>                                                                       <a href=\"file:///Users/saforem2/l2hmc-qcd/l2hmc-qcd/utils/file_io.py\"><span style=\"color: #7f7f7f\">file_io.py</span></a><span style=\"color: #7f7f7f\">:184</span>\n",
       "</pre>\n"
      ],
      "text/plain": [
       "<rich.jupyter.JupyterRenderable at 0x7fd2e370e400>"
      ]
     },
     "metadata": {},
     "output_type": "display_data"
    },
    {
     "data": {
      "text/html": [
       "<pre style=\"white-space:pre;overflow-x:auto;line-height:normal;font-family:Menlo,'DejaVu Sans Mono',consolas,'Courier New',monospace\"><span style=\"color: #7fbfbf\">[17:33:18] </span>`savefig` took: 932ms                                                                                                                                                                                                                                                              <a href=\"file:///Users/saforem2/l2hmc-qcd/l2hmc-qcd/utils/file_io.py\"><span style=\"color: #7f7f7f\">file_io.py</span></a><span style=\"color: #7f7f7f\">:184</span>\n",
       "</pre>\n"
      ],
      "text/plain": [
       "<rich.jupyter.JupyterRenderable at 0x7fd2e3700250>"
      ]
     },
     "metadata": {},
     "output_type": "display_data"
    },
    {
     "data": {
      "text/html": [
       "<pre style=\"white-space:pre;overflow-x:auto;line-height:normal;font-family:Menlo,'DejaVu Sans Mono',consolas,'Courier New',monospace\"><span style=\"color: #7fbfbf\">           </span>Saving figure to: <span style=\"color: #800080\">/Users/saforem2/l2hmc-qcd/logs/GaugeModel_logs/test/2021_01/DEBUG_L16_b256_lf5_actswish_bi3_bf3_dp01_sepNets_NCProj-2021-01-26-1725/training/plots/avg_lineplots/</span><span style=\"color: #ff00ff\">accept_probb_start_avg.pdf.</span>                                                                     <a href=\"file:///Users/saforem2/l2hmc-qcd/l2hmc-qcd/utils/file_io.py\"><span style=\"color: #7f7f7f\">file_io.py</span></a><span style=\"color: #7f7f7f\">:184</span>\n",
       "</pre>\n"
      ],
      "text/plain": [
       "<rich.jupyter.JupyterRenderable at 0x7fd2f35164c0>"
      ]
     },
     "metadata": {},
     "output_type": "display_data"
    },
    {
     "data": {
      "text/html": [
       "<pre style=\"white-space:pre;overflow-x:auto;line-height:normal;font-family:Menlo,'DejaVu Sans Mono',consolas,'Courier New',monospace\"><span style=\"color: #7fbfbf\">[17:33:19] </span>`savefig` took: 725ms                                                                                                                                                                                                                                                              <a href=\"file:///Users/saforem2/l2hmc-qcd/l2hmc-qcd/utils/file_io.py\"><span style=\"color: #7f7f7f\">file_io.py</span></a><span style=\"color: #7f7f7f\">:184</span>\n",
       "</pre>\n"
      ],
      "text/plain": [
       "<rich.jupyter.JupyterRenderable at 0x7fd3063ccf10>"
      ]
     },
     "metadata": {},
     "output_type": "display_data"
    },
    {
     "data": {
      "text/html": [
       "<pre style=\"white-space:pre;overflow-x:auto;line-height:normal;font-family:Menlo,'DejaVu Sans Mono',consolas,'Courier New',monospace\"><span style=\"color: #7fbfbf\">           </span>Saving figure to: <span style=\"color: #800080\">/Users/saforem2/l2hmc-qcd/logs/GaugeModel_logs/test/2021_01/DEBUG_L16_b256_lf5_actswish_bi3_bf3_dp01_sepNets_NCProj-2021-01-26-1725/training/plots/avg_lineplots/</span><span style=\"color: #ff00ff\">accept_probb_mid_avg.pdf.</span>                                                                       <a href=\"file:///Users/saforem2/l2hmc-qcd/l2hmc-qcd/utils/file_io.py\"><span style=\"color: #7f7f7f\">file_io.py</span></a><span style=\"color: #7f7f7f\">:184</span>\n",
       "</pre>\n"
      ],
      "text/plain": [
       "<rich.jupyter.JupyterRenderable at 0x7fd31cbe1640>"
      ]
     },
     "metadata": {},
     "output_type": "display_data"
    },
    {
     "data": {
      "text/html": [
       "<pre style=\"white-space:pre;overflow-x:auto;line-height:normal;font-family:Menlo,'DejaVu Sans Mono',consolas,'Courier New',monospace\"><span style=\"color: #7fbfbf\">[17:33:20] </span>`savefig` took: 765ms                                                                                                                                                                                                                                                              <a href=\"file:///Users/saforem2/l2hmc-qcd/l2hmc-qcd/utils/file_io.py\"><span style=\"color: #7f7f7f\">file_io.py</span></a><span style=\"color: #7f7f7f\">:184</span>\n",
       "</pre>\n"
      ],
      "text/plain": [
       "<rich.jupyter.JupyterRenderable at 0x7fd31cbf18e0>"
      ]
     },
     "metadata": {},
     "output_type": "display_data"
    },
    {
     "data": {
      "text/html": [
       "<pre style=\"white-space:pre;overflow-x:auto;line-height:normal;font-family:Menlo,'DejaVu Sans Mono',consolas,'Courier New',monospace\"><span style=\"color: #7fbfbf\">           </span>Saving figure to: <span style=\"color: #800080\">/Users/saforem2/l2hmc-qcd/logs/GaugeModel_logs/test/2021_01/DEBUG_L16_b256_lf5_actswish_bi3_bf3_dp01_sepNets_NCProj-2021-01-26-1725/training/plots/avg_lineplots/</span><span style=\"color: #ff00ff\">accept_probb_end_avg.pdf.</span>                                                                       <a href=\"file:///Users/saforem2/l2hmc-qcd/l2hmc-qcd/utils/file_io.py\"><span style=\"color: #7f7f7f\">file_io.py</span></a><span style=\"color: #7f7f7f\">:184</span>\n",
       "</pre>\n"
      ],
      "text/plain": [
       "<rich.jupyter.JupyterRenderable at 0x7fd334617820>"
      ]
     },
     "metadata": {},
     "output_type": "display_data"
    },
    {
     "data": {
      "text/html": [
       "<pre style=\"white-space:pre;overflow-x:auto;line-height:normal;font-family:Menlo,'DejaVu Sans Mono',consolas,'Courier New',monospace\"><span style=\"color: #7fbfbf\">[17:33:21] </span>`savefig` took: 801ms                                                                                                                                                                                                                                                              <a href=\"file:///Users/saforem2/l2hmc-qcd/l2hmc-qcd/utils/file_io.py\"><span style=\"color: #7f7f7f\">file_io.py</span></a><span style=\"color: #7f7f7f\">:184</span>\n",
       "</pre>\n"
      ],
      "text/plain": [
       "<rich.jupyter.JupyterRenderable at 0x7fd2f35d5730>"
      ]
     },
     "metadata": {},
     "output_type": "display_data"
    },
    {
     "data": {
      "text/html": [
       "<pre style=\"white-space:pre;overflow-x:auto;line-height:normal;font-family:Menlo,'DejaVu Sans Mono',consolas,'Courier New',monospace\"><span style=\"color: #7fbfbf\">           </span>Saving figure to: <span style=\"color: #800080\">/Users/saforem2/l2hmc-qcd/logs/GaugeModel_logs/test/2021_01/DEBUG_L16_b256_lf5_actswish_bi3_bf3_dp01_sepNets_NCProj-2021-01-26-1725/training/plots/avg_lineplots/</span><span style=\"color: #ff00ff\">Hf_start_avg.pdf.</span>                                                                               <a href=\"file:///Users/saforem2/l2hmc-qcd/l2hmc-qcd/utils/file_io.py\"><span style=\"color: #7f7f7f\">file_io.py</span></a><span style=\"color: #7f7f7f\">:184</span>\n",
       "</pre>\n"
      ],
      "text/plain": [
       "<rich.jupyter.JupyterRenderable at 0x7fd3063ef820>"
      ]
     },
     "metadata": {},
     "output_type": "display_data"
    },
    {
     "data": {
      "text/html": [
       "<pre style=\"white-space:pre;overflow-x:auto;line-height:normal;font-family:Menlo,'DejaVu Sans Mono',consolas,'Courier New',monospace\"><span style=\"color: #7fbfbf\">[17:33:22] </span>`savefig` took: 788ms                                                                                                                                                                                                                                                              <a href=\"file:///Users/saforem2/l2hmc-qcd/l2hmc-qcd/utils/file_io.py\"><span style=\"color: #7f7f7f\">file_io.py</span></a><span style=\"color: #7f7f7f\">:184</span>\n",
       "</pre>\n"
      ],
      "text/plain": [
       "<rich.jupyter.JupyterRenderable at 0x7fd3066a5dc0>"
      ]
     },
     "metadata": {},
     "output_type": "display_data"
    },
    {
     "data": {
      "text/html": [
       "<pre style=\"white-space:pre;overflow-x:auto;line-height:normal;font-family:Menlo,'DejaVu Sans Mono',consolas,'Courier New',monospace\"><span style=\"color: #7fbfbf\">           </span>Saving figure to: <span style=\"color: #800080\">/Users/saforem2/l2hmc-qcd/logs/GaugeModel_logs/test/2021_01/DEBUG_L16_b256_lf5_actswish_bi3_bf3_dp01_sepNets_NCProj-2021-01-26-1725/training/plots/avg_lineplots/</span><span style=\"color: #ff00ff\">Hf_mid_avg.pdf.</span>                                                                                 <a href=\"file:///Users/saforem2/l2hmc-qcd/l2hmc-qcd/utils/file_io.py\"><span style=\"color: #7f7f7f\">file_io.py</span></a><span style=\"color: #7f7f7f\">:184</span>\n",
       "</pre>\n"
      ],
      "text/plain": [
       "<rich.jupyter.JupyterRenderable at 0x7fd34428feb0>"
      ]
     },
     "metadata": {},
     "output_type": "display_data"
    },
    {
     "data": {
      "text/html": [
       "<pre style=\"white-space:pre;overflow-x:auto;line-height:normal;font-family:Menlo,'DejaVu Sans Mono',consolas,'Courier New',monospace\"><span style=\"color: #7fbfbf\">[17:33:23] </span>`savefig` took: 756ms                                                                                                                                                                                                                                                              <a href=\"file:///Users/saforem2/l2hmc-qcd/l2hmc-qcd/utils/file_io.py\"><span style=\"color: #7f7f7f\">file_io.py</span></a><span style=\"color: #7f7f7f\">:184</span>\n",
       "</pre>\n"
      ],
      "text/plain": [
       "<rich.jupyter.JupyterRenderable at 0x7fd2f3773700>"
      ]
     },
     "metadata": {},
     "output_type": "display_data"
    },
    {
     "data": {
      "text/html": [
       "<pre style=\"white-space:pre;overflow-x:auto;line-height:normal;font-family:Menlo,'DejaVu Sans Mono',consolas,'Courier New',monospace\"><span style=\"color: #7fbfbf\">           </span>Saving figure to: <span style=\"color: #800080\">/Users/saforem2/l2hmc-qcd/logs/GaugeModel_logs/test/2021_01/DEBUG_L16_b256_lf5_actswish_bi3_bf3_dp01_sepNets_NCProj-2021-01-26-1725/training/plots/avg_lineplots/</span><span style=\"color: #ff00ff\">Hf_end_avg.pdf.</span>                                                                                 <a href=\"file:///Users/saforem2/l2hmc-qcd/l2hmc-qcd/utils/file_io.py\"><span style=\"color: #7f7f7f\">file_io.py</span></a><span style=\"color: #7f7f7f\">:184</span>\n",
       "</pre>\n"
      ],
      "text/plain": [
       "<rich.jupyter.JupyterRenderable at 0x7fd31c9e4250>"
      ]
     },
     "metadata": {},
     "output_type": "display_data"
    },
    {
     "data": {
      "text/html": [
       "<pre style=\"white-space:pre;overflow-x:auto;line-height:normal;font-family:Menlo,'DejaVu Sans Mono',consolas,'Courier New',monospace\"><span style=\"color: #7fbfbf\">[17:33:24] </span>`savefig` took: 723ms                                                                                                                                                                                                                                                              <a href=\"file:///Users/saforem2/l2hmc-qcd/l2hmc-qcd/utils/file_io.py\"><span style=\"color: #7f7f7f\">file_io.py</span></a><span style=\"color: #7f7f7f\">:184</span>\n",
       "</pre>\n"
      ],
      "text/plain": [
       "<rich.jupyter.JupyterRenderable at 0x7fd31c9e1a30>"
      ]
     },
     "metadata": {},
     "output_type": "display_data"
    },
    {
     "data": {
      "text/html": [
       "<pre style=\"white-space:pre;overflow-x:auto;line-height:normal;font-family:Menlo,'DejaVu Sans Mono',consolas,'Courier New',monospace\"><span style=\"color: #7fbfbf\">           </span>Saving figure to: <span style=\"color: #800080\">/Users/saforem2/l2hmc-qcd/logs/GaugeModel_logs/test/2021_01/DEBUG_L16_b256_lf5_actswish_bi3_bf3_dp01_sepNets_NCProj-2021-01-26-1725/training/plots/avg_lineplots/</span><span style=\"color: #ff00ff\">Hb_start_avg.pdf.</span>                                                                               <a href=\"file:///Users/saforem2/l2hmc-qcd/l2hmc-qcd/utils/file_io.py\"><span style=\"color: #7f7f7f\">file_io.py</span></a><span style=\"color: #7f7f7f\">:184</span>\n",
       "</pre>\n"
      ],
      "text/plain": [
       "<rich.jupyter.JupyterRenderable at 0x7fd344739580>"
      ]
     },
     "metadata": {},
     "output_type": "display_data"
    },
    {
     "data": {
      "text/html": [
       "<pre style=\"white-space:pre;overflow-x:auto;line-height:normal;font-family:Menlo,'DejaVu Sans Mono',consolas,'Courier New',monospace\"><span style=\"color: #7fbfbf\">           </span>`savefig` took: 798ms                                                                                                                                                                                                                                                              <a href=\"file:///Users/saforem2/l2hmc-qcd/l2hmc-qcd/utils/file_io.py\"><span style=\"color: #7f7f7f\">file_io.py</span></a><span style=\"color: #7f7f7f\">:184</span>\n",
       "</pre>\n"
      ],
      "text/plain": [
       "<rich.jupyter.JupyterRenderable at 0x7fd344731c70>"
      ]
     },
     "metadata": {},
     "output_type": "display_data"
    },
    {
     "data": {
      "text/html": [
       "<pre style=\"white-space:pre;overflow-x:auto;line-height:normal;font-family:Menlo,'DejaVu Sans Mono',consolas,'Courier New',monospace\"><span style=\"color: #7fbfbf\">[17:33:25] </span>Saving figure to: <span style=\"color: #800080\">/Users/saforem2/l2hmc-qcd/logs/GaugeModel_logs/test/2021_01/DEBUG_L16_b256_lf5_actswish_bi3_bf3_dp01_sepNets_NCProj-2021-01-26-1725/training/plots/avg_lineplots/</span><span style=\"color: #ff00ff\">Hb_mid_avg.pdf.</span>                                                                                 <a href=\"file:///Users/saforem2/l2hmc-qcd/l2hmc-qcd/utils/file_io.py\"><span style=\"color: #7f7f7f\">file_io.py</span></a><span style=\"color: #7f7f7f\">:184</span>\n",
       "</pre>\n"
      ],
      "text/plain": [
       "<rich.jupyter.JupyterRenderable at 0x7fd3067988b0>"
      ]
     },
     "metadata": {},
     "output_type": "display_data"
    },
    {
     "data": {
      "text/html": [
       "<pre style=\"white-space:pre;overflow-x:auto;line-height:normal;font-family:Menlo,'DejaVu Sans Mono',consolas,'Courier New',monospace\"><span style=\"color: #7fbfbf\">           </span>`savefig` took: 729ms                                                                                                                                                                                                                                                              <a href=\"file:///Users/saforem2/l2hmc-qcd/l2hmc-qcd/utils/file_io.py\"><span style=\"color: #7f7f7f\">file_io.py</span></a><span style=\"color: #7f7f7f\">:184</span>\n",
       "</pre>\n"
      ],
      "text/plain": [
       "<rich.jupyter.JupyterRenderable at 0x7fd306758d90>"
      ]
     },
     "metadata": {},
     "output_type": "display_data"
    },
    {
     "data": {
      "text/html": [
       "<pre style=\"white-space:pre;overflow-x:auto;line-height:normal;font-family:Menlo,'DejaVu Sans Mono',consolas,'Courier New',monospace\"><span style=\"color: #7fbfbf\">           </span>Saving figure to: <span style=\"color: #800080\">/Users/saforem2/l2hmc-qcd/logs/GaugeModel_logs/test/2021_01/DEBUG_L16_b256_lf5_actswish_bi3_bf3_dp01_sepNets_NCProj-2021-01-26-1725/training/plots/avg_lineplots/</span><span style=\"color: #ff00ff\">Hb_end_avg.pdf.</span>                                                                                 <a href=\"file:///Users/saforem2/l2hmc-qcd/l2hmc-qcd/utils/file_io.py\"><span style=\"color: #7f7f7f\">file_io.py</span></a><span style=\"color: #7f7f7f\">:184</span>\n",
       "</pre>\n"
      ],
      "text/plain": [
       "<rich.jupyter.JupyterRenderable at 0x7fd33326ecd0>"
      ]
     },
     "metadata": {},
     "output_type": "display_data"
    },
    {
     "data": {
      "text/html": [
       "<pre style=\"white-space:pre;overflow-x:auto;line-height:normal;font-family:Menlo,'DejaVu Sans Mono',consolas,'Courier New',monospace\"><span style=\"color: #7fbfbf\">[17:33:26] </span>`savefig` took: 765ms                                                                                                                                                                                                                                                              <a href=\"file:///Users/saforem2/l2hmc-qcd/l2hmc-qcd/utils/file_io.py\"><span style=\"color: #7f7f7f\">file_io.py</span></a><span style=\"color: #7f7f7f\">:184</span>\n",
       "</pre>\n"
      ],
      "text/plain": [
       "<rich.jupyter.JupyterRenderable at 0x7fd333291c40>"
      ]
     },
     "metadata": {},
     "output_type": "display_data"
    },
    {
     "data": {
      "text/html": [
       "<pre style=\"white-space:pre;overflow-x:auto;line-height:normal;font-family:Menlo,'DejaVu Sans Mono',consolas,'Courier New',monospace\"><span style=\"color: #7fbfbf\">           </span>Saving figure to: <span style=\"color: #800080\">/Users/saforem2/l2hmc-qcd/logs/GaugeModel_logs/test/2021_01/DEBUG_L16_b256_lf5_actswish_bi3_bf3_dp01_sepNets_NCProj-2021-01-26-1725/training/plots/avg_lineplots/</span><span style=\"color: #ff00ff\">Hwf_avg.pdf.</span>                                                                                    <a href=\"file:///Users/saforem2/l2hmc-qcd/l2hmc-qcd/utils/file_io.py\"><span style=\"color: #7f7f7f\">file_io.py</span></a><span style=\"color: #7f7f7f\">:184</span>\n",
       "</pre>\n"
      ],
      "text/plain": [
       "<rich.jupyter.JupyterRenderable at 0x7fd30670b3d0>"
      ]
     },
     "metadata": {},
     "output_type": "display_data"
    },
    {
     "data": {
      "text/html": [
       "<pre style=\"white-space:pre;overflow-x:auto;line-height:normal;font-family:Menlo,'DejaVu Sans Mono',consolas,'Courier New',monospace\"><span style=\"color: #7fbfbf\">[17:33:27] </span>`savefig` took: 743ms                                                                                                                                                                                                                                                              <a href=\"file:///Users/saforem2/l2hmc-qcd/l2hmc-qcd/utils/file_io.py\"><span style=\"color: #7f7f7f\">file_io.py</span></a><span style=\"color: #7f7f7f\">:184</span>\n",
       "</pre>\n"
      ],
      "text/plain": [
       "<rich.jupyter.JupyterRenderable at 0x7fd344752970>"
      ]
     },
     "metadata": {},
     "output_type": "display_data"
    },
    {
     "data": {
      "text/html": [
       "<pre style=\"white-space:pre;overflow-x:auto;line-height:normal;font-family:Menlo,'DejaVu Sans Mono',consolas,'Courier New',monospace\"><span style=\"color: #7fbfbf\">           </span>Saving figure to: <span style=\"color: #800080\">/Users/saforem2/l2hmc-qcd/logs/GaugeModel_logs/test/2021_01/DEBUG_L16_b256_lf5_actswish_bi3_bf3_dp01_sepNets_NCProj-2021-01-26-1725/training/plots/avg_lineplots/</span><span style=\"color: #ff00ff\">Hwf_start_avg.pdf.</span>                                                                              <a href=\"file:///Users/saforem2/l2hmc-qcd/l2hmc-qcd/utils/file_io.py\"><span style=\"color: #7f7f7f\">file_io.py</span></a><span style=\"color: #7f7f7f\">:184</span>\n",
       "</pre>\n"
      ],
      "text/plain": [
       "<rich.jupyter.JupyterRenderable at 0x7fd3551f4df0>"
      ]
     },
     "metadata": {},
     "output_type": "display_data"
    },
    {
     "data": {
      "text/html": [
       "<pre style=\"white-space:pre;overflow-x:auto;line-height:normal;font-family:Menlo,'DejaVu Sans Mono',consolas,'Courier New',monospace\"><span style=\"color: #7fbfbf\">[17:33:28] </span>`savefig` took: 754ms                                                                                                                                                                                                                                                              <a href=\"file:///Users/saforem2/l2hmc-qcd/l2hmc-qcd/utils/file_io.py\"><span style=\"color: #7f7f7f\">file_io.py</span></a><span style=\"color: #7f7f7f\">:184</span>\n",
       "</pre>\n"
      ],
      "text/plain": [
       "<rich.jupyter.JupyterRenderable at 0x7fd306710d30>"
      ]
     },
     "metadata": {},
     "output_type": "display_data"
    },
    {
     "data": {
      "text/html": [
       "<pre style=\"white-space:pre;overflow-x:auto;line-height:normal;font-family:Menlo,'DejaVu Sans Mono',consolas,'Courier New',monospace\"><span style=\"color: #7fbfbf\">           </span>Saving figure to: <span style=\"color: #800080\">/Users/saforem2/l2hmc-qcd/logs/GaugeModel_logs/test/2021_01/DEBUG_L16_b256_lf5_actswish_bi3_bf3_dp01_sepNets_NCProj-2021-01-26-1725/training/plots/avg_lineplots/</span><span style=\"color: #ff00ff\">Hwf_mid_avg.pdf.</span>                                                                                <a href=\"file:///Users/saforem2/l2hmc-qcd/l2hmc-qcd/utils/file_io.py\"><span style=\"color: #7f7f7f\">file_io.py</span></a><span style=\"color: #7f7f7f\">:184</span>\n",
       "</pre>\n"
      ],
      "text/plain": [
       "<rich.jupyter.JupyterRenderable at 0x7fd3049786a0>"
      ]
     },
     "metadata": {},
     "output_type": "display_data"
    },
    {
     "data": {
      "text/html": [
       "<pre style=\"white-space:pre;overflow-x:auto;line-height:normal;font-family:Menlo,'DejaVu Sans Mono',consolas,'Courier New',monospace\"><span style=\"color: #7fbfbf\">[17:33:29] </span>`savefig` took: 755ms                                                                                                                                                                                                                                                              <a href=\"file:///Users/saforem2/l2hmc-qcd/l2hmc-qcd/utils/file_io.py\"><span style=\"color: #7f7f7f\">file_io.py</span></a><span style=\"color: #7f7f7f\">:184</span>\n",
       "</pre>\n"
      ],
      "text/plain": [
       "<rich.jupyter.JupyterRenderable at 0x7fd353cfc160>"
      ]
     },
     "metadata": {},
     "output_type": "display_data"
    },
    {
     "data": {
      "text/html": [
       "<pre style=\"white-space:pre;overflow-x:auto;line-height:normal;font-family:Menlo,'DejaVu Sans Mono',consolas,'Courier New',monospace\"><span style=\"color: #7fbfbf\">           </span>Saving figure to: <span style=\"color: #800080\">/Users/saforem2/l2hmc-qcd/logs/GaugeModel_logs/test/2021_01/DEBUG_L16_b256_lf5_actswish_bi3_bf3_dp01_sepNets_NCProj-2021-01-26-1725/training/plots/avg_lineplots/</span><span style=\"color: #ff00ff\">Hwf_end_avg.pdf.</span>                                                                                <a href=\"file:///Users/saforem2/l2hmc-qcd/l2hmc-qcd/utils/file_io.py\"><span style=\"color: #7f7f7f\">file_io.py</span></a><span style=\"color: #7f7f7f\">:184</span>\n",
       "</pre>\n"
      ],
      "text/plain": [
       "<rich.jupyter.JupyterRenderable at 0x7fd3446f09d0>"
      ]
     },
     "metadata": {},
     "output_type": "display_data"
    },
    {
     "data": {
      "text/html": [
       "<pre style=\"white-space:pre;overflow-x:auto;line-height:normal;font-family:Menlo,'DejaVu Sans Mono',consolas,'Courier New',monospace\"><span style=\"color: #7fbfbf\">[17:33:30] </span>`savefig` took: 727ms                                                                                                                                                                                                                                                              <a href=\"file:///Users/saforem2/l2hmc-qcd/l2hmc-qcd/utils/file_io.py\"><span style=\"color: #7f7f7f\">file_io.py</span></a><span style=\"color: #7f7f7f\">:184</span>\n",
       "</pre>\n"
      ],
      "text/plain": [
       "<rich.jupyter.JupyterRenderable at 0x7fd304a60f70>"
      ]
     },
     "metadata": {},
     "output_type": "display_data"
    },
    {
     "data": {
      "text/html": [
       "<pre style=\"white-space:pre;overflow-x:auto;line-height:normal;font-family:Menlo,'DejaVu Sans Mono',consolas,'Courier New',monospace\"><span style=\"color: #7fbfbf\">           </span>Saving figure to: <span style=\"color: #800080\">/Users/saforem2/l2hmc-qcd/logs/GaugeModel_logs/test/2021_01/DEBUG_L16_b256_lf5_actswish_bi3_bf3_dp01_sepNets_NCProj-2021-01-26-1725/training/plots/avg_lineplots/</span><span style=\"color: #ff00ff\">Hwb_avg.pdf.</span>                                                                                    <a href=\"file:///Users/saforem2/l2hmc-qcd/l2hmc-qcd/utils/file_io.py\"><span style=\"color: #7f7f7f\">file_io.py</span></a><span style=\"color: #7f7f7f\">:184</span>\n",
       "</pre>\n"
      ],
      "text/plain": [
       "<rich.jupyter.JupyterRenderable at 0x7fd2e2768c70>"
      ]
     },
     "metadata": {},
     "output_type": "display_data"
    },
    {
     "data": {
      "text/html": [
       "<pre style=\"white-space:pre;overflow-x:auto;line-height:normal;font-family:Menlo,'DejaVu Sans Mono',consolas,'Courier New',monospace\"><span style=\"color: #7fbfbf\">           </span>`savefig` took: 805ms                                                                                                                                                                                                                                                              <a href=\"file:///Users/saforem2/l2hmc-qcd/l2hmc-qcd/utils/file_io.py\"><span style=\"color: #7f7f7f\">file_io.py</span></a><span style=\"color: #7f7f7f\">:184</span>\n",
       "</pre>\n"
      ],
      "text/plain": [
       "<rich.jupyter.JupyterRenderable at 0x7fd31cf32460>"
      ]
     },
     "metadata": {},
     "output_type": "display_data"
    },
    {
     "data": {
      "text/html": [
       "<pre style=\"white-space:pre;overflow-x:auto;line-height:normal;font-family:Menlo,'DejaVu Sans Mono',consolas,'Courier New',monospace\"><span style=\"color: #7fbfbf\">[17:33:31] </span>Saving figure to: <span style=\"color: #800080\">/Users/saforem2/l2hmc-qcd/logs/GaugeModel_logs/test/2021_01/DEBUG_L16_b256_lf5_actswish_bi3_bf3_dp01_sepNets_NCProj-2021-01-26-1725/training/plots/avg_lineplots/</span><span style=\"color: #ff00ff\">Hwb_start_avg.pdf.</span>                                                                              <a href=\"file:///Users/saforem2/l2hmc-qcd/l2hmc-qcd/utils/file_io.py\"><span style=\"color: #7f7f7f\">file_io.py</span></a><span style=\"color: #7f7f7f\">:184</span>\n",
       "</pre>\n"
      ],
      "text/plain": [
       "<rich.jupyter.JupyterRenderable at 0x7fd2e373a550>"
      ]
     },
     "metadata": {},
     "output_type": "display_data"
    },
    {
     "data": {
      "text/html": [
       "<pre style=\"white-space:pre;overflow-x:auto;line-height:normal;font-family:Menlo,'DejaVu Sans Mono',consolas,'Courier New',monospace\"><span style=\"color: #7fbfbf\">           </span>`savefig` took: 730ms                                                                                                                                                                                                                                                              <a href=\"file:///Users/saforem2/l2hmc-qcd/l2hmc-qcd/utils/file_io.py\"><span style=\"color: #7f7f7f\">file_io.py</span></a><span style=\"color: #7f7f7f\">:184</span>\n",
       "</pre>\n"
      ],
      "text/plain": [
       "<rich.jupyter.JupyterRenderable at 0x7fd304a60e20>"
      ]
     },
     "metadata": {},
     "output_type": "display_data"
    },
    {
     "data": {
      "text/html": [
       "<pre style=\"white-space:pre;overflow-x:auto;line-height:normal;font-family:Menlo,'DejaVu Sans Mono',consolas,'Courier New',monospace\"><span style=\"color: #7fbfbf\">           </span>Saving figure to: <span style=\"color: #800080\">/Users/saforem2/l2hmc-qcd/logs/GaugeModel_logs/test/2021_01/DEBUG_L16_b256_lf5_actswish_bi3_bf3_dp01_sepNets_NCProj-2021-01-26-1725/training/plots/avg_lineplots/</span><span style=\"color: #ff00ff\">Hwb_mid_avg.pdf.</span>                                                                                <a href=\"file:///Users/saforem2/l2hmc-qcd/l2hmc-qcd/utils/file_io.py\"><span style=\"color: #7f7f7f\">file_io.py</span></a><span style=\"color: #7f7f7f\">:184</span>\n",
       "</pre>\n"
      ],
      "text/plain": [
       "<rich.jupyter.JupyterRenderable at 0x7fd304aa5550>"
      ]
     },
     "metadata": {},
     "output_type": "display_data"
    },
    {
     "data": {
      "text/html": [
       "<pre style=\"white-space:pre;overflow-x:auto;line-height:normal;font-family:Menlo,'DejaVu Sans Mono',consolas,'Courier New',monospace\"><span style=\"color: #7fbfbf\">[17:33:32] </span>`savefig` took: 784ms                                                                                                                                                                                                                                                              <a href=\"file:///Users/saforem2/l2hmc-qcd/l2hmc-qcd/utils/file_io.py\"><span style=\"color: #7f7f7f\">file_io.py</span></a><span style=\"color: #7f7f7f\">:184</span>\n",
       "</pre>\n"
      ],
      "text/plain": [
       "<rich.jupyter.JupyterRenderable at 0x7fd344a8ffd0>"
      ]
     },
     "metadata": {},
     "output_type": "display_data"
    },
    {
     "data": {
      "text/html": [
       "<pre style=\"white-space:pre;overflow-x:auto;line-height:normal;font-family:Menlo,'DejaVu Sans Mono',consolas,'Courier New',monospace\"><span style=\"color: #7fbfbf\">           </span>Saving figure to: <span style=\"color: #800080\">/Users/saforem2/l2hmc-qcd/logs/GaugeModel_logs/test/2021_01/DEBUG_L16_b256_lf5_actswish_bi3_bf3_dp01_sepNets_NCProj-2021-01-26-1725/training/plots/avg_lineplots/</span><span style=\"color: #ff00ff\">Hwb_end_avg.pdf.</span>                                                                                <a href=\"file:///Users/saforem2/l2hmc-qcd/l2hmc-qcd/utils/file_io.py\"><span style=\"color: #7f7f7f\">file_io.py</span></a><span style=\"color: #7f7f7f\">:184</span>\n",
       "</pre>\n"
      ],
      "text/plain": [
       "<rich.jupyter.JupyterRenderable at 0x7fd31cc76a60>"
      ]
     },
     "metadata": {},
     "output_type": "display_data"
    },
    {
     "data": {
      "text/html": [
       "<pre style=\"white-space:pre;overflow-x:auto;line-height:normal;font-family:Menlo,'DejaVu Sans Mono',consolas,'Courier New',monospace\"><span style=\"color: #7fbfbf\">[17:33:33] </span>`savefig` took: 760ms                                                                                                                                                                                                                                                              <a href=\"file:///Users/saforem2/l2hmc-qcd/l2hmc-qcd/utils/file_io.py\"><span style=\"color: #7f7f7f\">file_io.py</span></a><span style=\"color: #7f7f7f\">:184</span>\n",
       "</pre>\n"
      ],
      "text/plain": [
       "<rich.jupyter.JupyterRenderable at 0x7fd3446eb370>"
      ]
     },
     "metadata": {},
     "output_type": "display_data"
    },
    {
     "data": {
      "text/html": [
       "<pre style=\"white-space:pre;overflow-x:auto;line-height:normal;font-family:Menlo,'DejaVu Sans Mono',consolas,'Courier New',monospace\"><span style=\"color: #7fbfbf\">           </span>Saving figure to: <span style=\"color: #800080\">/Users/saforem2/l2hmc-qcd/logs/GaugeModel_logs/test/2021_01/DEBUG_L16_b256_lf5_actswish_bi3_bf3_dp01_sepNets_NCProj-2021-01-26-1725/training/plots/avg_lineplots/</span><span style=\"color: #ff00ff\">plaqsf_start_avg.pdf.</span>                                                                           <a href=\"file:///Users/saforem2/l2hmc-qcd/l2hmc-qcd/utils/file_io.py\"><span style=\"color: #7f7f7f\">file_io.py</span></a><span style=\"color: #7f7f7f\">:184</span>\n",
       "</pre>\n"
      ],
      "text/plain": [
       "<rich.jupyter.JupyterRenderable at 0x7fd31db9a970>"
      ]
     },
     "metadata": {},
     "output_type": "display_data"
    },
    {
     "data": {
      "text/html": [
       "<pre style=\"white-space:pre;overflow-x:auto;line-height:normal;font-family:Menlo,'DejaVu Sans Mono',consolas,'Courier New',monospace\"><span style=\"color: #7fbfbf\">[17:33:34] </span>`savefig` took: 753ms                                                                                                                                                                                                                                                              <a href=\"file:///Users/saforem2/l2hmc-qcd/l2hmc-qcd/utils/file_io.py\"><span style=\"color: #7f7f7f\">file_io.py</span></a><span style=\"color: #7f7f7f\">:184</span>\n",
       "</pre>\n"
      ],
      "text/plain": [
       "<rich.jupyter.JupyterRenderable at 0x7fd304a93dc0>"
      ]
     },
     "metadata": {},
     "output_type": "display_data"
    },
    {
     "data": {
      "text/html": [
       "<pre style=\"white-space:pre;overflow-x:auto;line-height:normal;font-family:Menlo,'DejaVu Sans Mono',consolas,'Courier New',monospace\"><span style=\"color: #7fbfbf\">           </span>Saving figure to: <span style=\"color: #800080\">/Users/saforem2/l2hmc-qcd/logs/GaugeModel_logs/test/2021_01/DEBUG_L16_b256_lf5_actswish_bi3_bf3_dp01_sepNets_NCProj-2021-01-26-1725/training/plots/avg_lineplots/</span><span style=\"color: #ff00ff\">plaqsf_mid_avg.pdf.</span>                                                                             <a href=\"file:///Users/saforem2/l2hmc-qcd/l2hmc-qcd/utils/file_io.py\"><span style=\"color: #7f7f7f\">file_io.py</span></a><span style=\"color: #7f7f7f\">:184</span>\n",
       "</pre>\n"
      ],
      "text/plain": [
       "<rich.jupyter.JupyterRenderable at 0x7fd304b51b80>"
      ]
     },
     "metadata": {},
     "output_type": "display_data"
    },
    {
     "data": {
      "text/html": [
       "<pre style=\"white-space:pre;overflow-x:auto;line-height:normal;font-family:Menlo,'DejaVu Sans Mono',consolas,'Courier New',monospace\"><span style=\"color: #7fbfbf\">[17:33:35] </span>`savefig` took: 732ms                                                                                                                                                                                                                                                              <a href=\"file:///Users/saforem2/l2hmc-qcd/l2hmc-qcd/utils/file_io.py\"><span style=\"color: #7f7f7f\">file_io.py</span></a><span style=\"color: #7f7f7f\">:184</span>\n",
       "</pre>\n"
      ],
      "text/plain": [
       "<rich.jupyter.JupyterRenderable at 0x7fd304a93dc0>"
      ]
     },
     "metadata": {},
     "output_type": "display_data"
    },
    {
     "data": {
      "text/html": [
       "<pre style=\"white-space:pre;overflow-x:auto;line-height:normal;font-family:Menlo,'DejaVu Sans Mono',consolas,'Courier New',monospace\"><span style=\"color: #7fbfbf\">           </span>Saving figure to: <span style=\"color: #800080\">/Users/saforem2/l2hmc-qcd/logs/GaugeModel_logs/test/2021_01/DEBUG_L16_b256_lf5_actswish_bi3_bf3_dp01_sepNets_NCProj-2021-01-26-1725/training/plots/avg_lineplots/</span><span style=\"color: #ff00ff\">plaqsf_end_avg.pdf.</span>                                                                             <a href=\"file:///Users/saforem2/l2hmc-qcd/l2hmc-qcd/utils/file_io.py\"><span style=\"color: #7f7f7f\">file_io.py</span></a><span style=\"color: #7f7f7f\">:184</span>\n",
       "</pre>\n"
      ],
      "text/plain": [
       "<rich.jupyter.JupyterRenderable at 0x7fd31d0f1b80>"
      ]
     },
     "metadata": {},
     "output_type": "display_data"
    },
    {
     "data": {
      "text/html": [
       "<pre style=\"white-space:pre;overflow-x:auto;line-height:normal;font-family:Menlo,'DejaVu Sans Mono',consolas,'Courier New',monospace\"><span style=\"color: #7fbfbf\">[17:33:36] </span>`savefig` took: 785ms                                                                                                                                                                                                                                                              <a href=\"file:///Users/saforem2/l2hmc-qcd/l2hmc-qcd/utils/file_io.py\"><span style=\"color: #7f7f7f\">file_io.py</span></a><span style=\"color: #7f7f7f\">:184</span>\n",
       "</pre>\n"
      ],
      "text/plain": [
       "<rich.jupyter.JupyterRenderable at 0x7fd31db9ac40>"
      ]
     },
     "metadata": {},
     "output_type": "display_data"
    },
    {
     "data": {
      "text/html": [
       "<pre style=\"white-space:pre;overflow-x:auto;line-height:normal;font-family:Menlo,'DejaVu Sans Mono',consolas,'Courier New',monospace\"><span style=\"color: #7fbfbf\">           </span>Saving figure to: <span style=\"color: #800080\">/Users/saforem2/l2hmc-qcd/logs/GaugeModel_logs/test/2021_01/DEBUG_L16_b256_lf5_actswish_bi3_bf3_dp01_sepNets_NCProj-2021-01-26-1725/training/plots/avg_lineplots/</span><span style=\"color: #ff00ff\">plaqsb_start_avg.pdf.</span>                                                                           <a href=\"file:///Users/saforem2/l2hmc-qcd/l2hmc-qcd/utils/file_io.py\"><span style=\"color: #7f7f7f\">file_io.py</span></a><span style=\"color: #7f7f7f\">:184</span>\n",
       "</pre>\n"
      ],
      "text/plain": [
       "<rich.jupyter.JupyterRenderable at 0x7fd304b94340>"
      ]
     },
     "metadata": {},
     "output_type": "display_data"
    },
    {
     "data": {
      "text/html": [
       "<pre style=\"white-space:pre;overflow-x:auto;line-height:normal;font-family:Menlo,'DejaVu Sans Mono',consolas,'Courier New',monospace\"><span style=\"color: #7fbfbf\">[17:33:37] </span>`savefig` took: 792ms                                                                                                                                                                                                                                                              <a href=\"file:///Users/saforem2/l2hmc-qcd/l2hmc-qcd/utils/file_io.py\"><span style=\"color: #7f7f7f\">file_io.py</span></a><span style=\"color: #7f7f7f\">:184</span>\n",
       "</pre>\n"
      ],
      "text/plain": [
       "<rich.jupyter.JupyterRenderable at 0x7fd304ad9490>"
      ]
     },
     "metadata": {},
     "output_type": "display_data"
    },
    {
     "data": {
      "text/html": [
       "<pre style=\"white-space:pre;overflow-x:auto;line-height:normal;font-family:Menlo,'DejaVu Sans Mono',consolas,'Courier New',monospace\"><span style=\"color: #7fbfbf\">           </span>Saving figure to: <span style=\"color: #800080\">/Users/saforem2/l2hmc-qcd/logs/GaugeModel_logs/test/2021_01/DEBUG_L16_b256_lf5_actswish_bi3_bf3_dp01_sepNets_NCProj-2021-01-26-1725/training/plots/avg_lineplots/</span><span style=\"color: #ff00ff\">plaqsb_mid_avg.pdf.</span>                                                                             <a href=\"file:///Users/saforem2/l2hmc-qcd/l2hmc-qcd/utils/file_io.py\"><span style=\"color: #7f7f7f\">file_io.py</span></a><span style=\"color: #7f7f7f\">:184</span>\n",
       "</pre>\n"
      ],
      "text/plain": [
       "<rich.jupyter.JupyterRenderable at 0x7fd344a60340>"
      ]
     },
     "metadata": {},
     "output_type": "display_data"
    },
    {
     "data": {
      "text/html": [
       "<pre style=\"white-space:pre;overflow-x:auto;line-height:normal;font-family:Menlo,'DejaVu Sans Mono',consolas,'Courier New',monospace\"><span style=\"color: #7fbfbf\">           </span>`savefig` took: 723ms                                                                                                                                                                                                                                                              <a href=\"file:///Users/saforem2/l2hmc-qcd/l2hmc-qcd/utils/file_io.py\"><span style=\"color: #7f7f7f\">file_io.py</span></a><span style=\"color: #7f7f7f\">:184</span>\n",
       "</pre>\n"
      ],
      "text/plain": [
       "<rich.jupyter.JupyterRenderable at 0x7fd2e27a0df0>"
      ]
     },
     "metadata": {},
     "output_type": "display_data"
    },
    {
     "data": {
      "text/html": [
       "<pre style=\"white-space:pre;overflow-x:auto;line-height:normal;font-family:Menlo,'DejaVu Sans Mono',consolas,'Courier New',monospace\"><span style=\"color: #7fbfbf\">           </span>Saving figure to: <span style=\"color: #800080\">/Users/saforem2/l2hmc-qcd/logs/GaugeModel_logs/test/2021_01/DEBUG_L16_b256_lf5_actswish_bi3_bf3_dp01_sepNets_NCProj-2021-01-26-1725/training/plots/avg_lineplots/</span><span style=\"color: #ff00ff\">plaqsb_end_avg.pdf.</span>                                                                             <a href=\"file:///Users/saforem2/l2hmc-qcd/l2hmc-qcd/utils/file_io.py\"><span style=\"color: #7f7f7f\">file_io.py</span></a><span style=\"color: #7f7f7f\">:184</span>\n",
       "</pre>\n"
      ],
      "text/plain": [
       "<rich.jupyter.JupyterRenderable at 0x7fd31dcfa520>"
      ]
     },
     "metadata": {},
     "output_type": "display_data"
    },
    {
     "data": {
      "text/html": [
       "<pre style=\"white-space:pre;overflow-x:auto;line-height:normal;font-family:Menlo,'DejaVu Sans Mono',consolas,'Courier New',monospace\"><span style=\"color: #7fbfbf\">[17:33:38] </span>`savefig` took: 802ms                                                                                                                                                                                                                                                              <a href=\"file:///Users/saforem2/l2hmc-qcd/l2hmc-qcd/utils/file_io.py\"><span style=\"color: #7f7f7f\">file_io.py</span></a><span style=\"color: #7f7f7f\">:184</span>\n",
       "</pre>\n"
      ],
      "text/plain": [
       "<rich.jupyter.JupyterRenderable at 0x7fd304d67100>"
      ]
     },
     "metadata": {},
     "output_type": "display_data"
    },
    {
     "data": {
      "text/html": [
       "<pre style=\"white-space:pre;overflow-x:auto;line-height:normal;font-family:Menlo,'DejaVu Sans Mono',consolas,'Courier New',monospace\"><span style=\"color: #7fbfbf\">           </span>Saving figure to: <span style=\"color: #800080\">/Users/saforem2/l2hmc-qcd/logs/GaugeModel_logs/test/2021_01/DEBUG_L16_b256_lf5_actswish_bi3_bf3_dp01_sepNets_NCProj-2021-01-26-1725/training/plots/avg_lineplots/</span><span style=\"color: #ff00ff\">p4x4f_avg.pdf.</span>                                                                                  <a href=\"file:///Users/saforem2/l2hmc-qcd/l2hmc-qcd/utils/file_io.py\"><span style=\"color: #7f7f7f\">file_io.py</span></a><span style=\"color: #7f7f7f\">:184</span>\n",
       "</pre>\n"
      ],
      "text/plain": [
       "<rich.jupyter.JupyterRenderable at 0x7fd304db4ca0>"
      ]
     },
     "metadata": {},
     "output_type": "display_data"
    },
    {
     "data": {
      "text/html": [
       "<pre style=\"white-space:pre;overflow-x:auto;line-height:normal;font-family:Menlo,'DejaVu Sans Mono',consolas,'Courier New',monospace\"><span style=\"color: #7fbfbf\">[17:33:39] </span>`savefig` took: 733ms                                                                                                                                                                                                                                                              <a href=\"file:///Users/saforem2/l2hmc-qcd/l2hmc-qcd/utils/file_io.py\"><span style=\"color: #7f7f7f\">file_io.py</span></a><span style=\"color: #7f7f7f\">:184</span>\n",
       "</pre>\n"
      ],
      "text/plain": [
       "<rich.jupyter.JupyterRenderable at 0x7fd31dd0ad00>"
      ]
     },
     "metadata": {},
     "output_type": "display_data"
    },
    {
     "data": {
      "text/html": [
       "<pre style=\"white-space:pre;overflow-x:auto;line-height:normal;font-family:Menlo,'DejaVu Sans Mono',consolas,'Courier New',monospace\"><span style=\"color: #7fbfbf\">           </span>Saving figure to: <span style=\"color: #800080\">/Users/saforem2/l2hmc-qcd/logs/GaugeModel_logs/test/2021_01/DEBUG_L16_b256_lf5_actswish_bi3_bf3_dp01_sepNets_NCProj-2021-01-26-1725/training/plots/avg_lineplots/</span><span style=\"color: #ff00ff\">p4x4f_start_avg.pdf.</span>                                                                            <a href=\"file:///Users/saforem2/l2hmc-qcd/l2hmc-qcd/utils/file_io.py\"><span style=\"color: #7f7f7f\">file_io.py</span></a><span style=\"color: #7f7f7f\">:184</span>\n",
       "</pre>\n"
      ],
      "text/plain": [
       "<rich.jupyter.JupyterRenderable at 0x7fd2e29a1b20>"
      ]
     },
     "metadata": {},
     "output_type": "display_data"
    },
    {
     "data": {
      "text/html": [
       "<pre style=\"white-space:pre;overflow-x:auto;line-height:normal;font-family:Menlo,'DejaVu Sans Mono',consolas,'Courier New',monospace\"><span style=\"color: #7fbfbf\">[17:33:40] </span>`savefig` took: 743ms                                                                                                                                                                                                                                                              <a href=\"file:///Users/saforem2/l2hmc-qcd/l2hmc-qcd/utils/file_io.py\"><span style=\"color: #7f7f7f\">file_io.py</span></a><span style=\"color: #7f7f7f\">:184</span>\n",
       "</pre>\n"
      ],
      "text/plain": [
       "<rich.jupyter.JupyterRenderable at 0x7fd304d8e970>"
      ]
     },
     "metadata": {},
     "output_type": "display_data"
    },
    {
     "data": {
      "text/html": [
       "<pre style=\"white-space:pre;overflow-x:auto;line-height:normal;font-family:Menlo,'DejaVu Sans Mono',consolas,'Courier New',monospace\"><span style=\"color: #7fbfbf\">           </span>Saving figure to: <span style=\"color: #800080\">/Users/saforem2/l2hmc-qcd/logs/GaugeModel_logs/test/2021_01/DEBUG_L16_b256_lf5_actswish_bi3_bf3_dp01_sepNets_NCProj-2021-01-26-1725/training/plots/avg_lineplots/</span><span style=\"color: #ff00ff\">p4x4f_mid_avg.pdf.</span>                                                                              <a href=\"file:///Users/saforem2/l2hmc-qcd/l2hmc-qcd/utils/file_io.py\"><span style=\"color: #7f7f7f\">file_io.py</span></a><span style=\"color: #7f7f7f\">:184</span>\n",
       "</pre>\n"
      ],
      "text/plain": [
       "<rich.jupyter.JupyterRenderable at 0x7fd344b3b040>"
      ]
     },
     "metadata": {},
     "output_type": "display_data"
    },
    {
     "data": {
      "text/html": [
       "<pre style=\"white-space:pre;overflow-x:auto;line-height:normal;font-family:Menlo,'DejaVu Sans Mono',consolas,'Courier New',monospace\"><span style=\"color: #7fbfbf\">[17:33:41] </span>`savefig` took: 723ms                                                                                                                                                                                                                                                              <a href=\"file:///Users/saforem2/l2hmc-qcd/l2hmc-qcd/utils/file_io.py\"><span style=\"color: #7f7f7f\">file_io.py</span></a><span style=\"color: #7f7f7f\">:184</span>\n",
       "</pre>\n"
      ],
      "text/plain": [
       "<rich.jupyter.JupyterRenderable at 0x7fd31dd11040>"
      ]
     },
     "metadata": {},
     "output_type": "display_data"
    },
    {
     "data": {
      "text/html": [
       "<pre style=\"white-space:pre;overflow-x:auto;line-height:normal;font-family:Menlo,'DejaVu Sans Mono',consolas,'Courier New',monospace\"><span style=\"color: #7fbfbf\">           </span>Saving figure to: <span style=\"color: #800080\">/Users/saforem2/l2hmc-qcd/logs/GaugeModel_logs/test/2021_01/DEBUG_L16_b256_lf5_actswish_bi3_bf3_dp01_sepNets_NCProj-2021-01-26-1725/training/plots/avg_lineplots/</span><span style=\"color: #ff00ff\">p4x4f_end_avg.pdf.</span>                                                                              <a href=\"file:///Users/saforem2/l2hmc-qcd/l2hmc-qcd/utils/file_io.py\"><span style=\"color: #7f7f7f\">file_io.py</span></a><span style=\"color: #7f7f7f\">:184</span>\n",
       "</pre>\n"
      ],
      "text/plain": [
       "<rich.jupyter.JupyterRenderable at 0x7fd31ddbdb50>"
      ]
     },
     "metadata": {},
     "output_type": "display_data"
    },
    {
     "data": {
      "text/html": [
       "<pre style=\"white-space:pre;overflow-x:auto;line-height:normal;font-family:Menlo,'DejaVu Sans Mono',consolas,'Courier New',monospace\"><span style=\"color: #7fbfbf\">[17:33:42] </span>`savefig` took: 700ms                                                                                                                                                                                                                                                              <a href=\"file:///Users/saforem2/l2hmc-qcd/l2hmc-qcd/utils/file_io.py\"><span style=\"color: #7f7f7f\">file_io.py</span></a><span style=\"color: #7f7f7f\">:184</span>\n",
       "</pre>\n"
      ],
      "text/plain": [
       "<rich.jupyter.JupyterRenderable at 0x7fd2e29a1ac0>"
      ]
     },
     "metadata": {},
     "output_type": "display_data"
    },
    {
     "data": {
      "text/html": [
       "<pre style=\"white-space:pre;overflow-x:auto;line-height:normal;font-family:Menlo,'DejaVu Sans Mono',consolas,'Courier New',monospace\"><span style=\"color: #7fbfbf\">           </span>Saving figure to: <span style=\"color: #800080\">/Users/saforem2/l2hmc-qcd/logs/GaugeModel_logs/test/2021_01/DEBUG_L16_b256_lf5_actswish_bi3_bf3_dp01_sepNets_NCProj-2021-01-26-1725/training/plots/avg_lineplots/</span><span style=\"color: #ff00ff\">p4x4b_avg.pdf.</span>                                                                                  <a href=\"file:///Users/saforem2/l2hmc-qcd/l2hmc-qcd/utils/file_io.py\"><span style=\"color: #7f7f7f\">file_io.py</span></a><span style=\"color: #7f7f7f\">:184</span>\n",
       "</pre>\n"
      ],
      "text/plain": [
       "<rich.jupyter.JupyterRenderable at 0x7fd344aecbe0>"
      ]
     },
     "metadata": {},
     "output_type": "display_data"
    },
    {
     "data": {
      "text/html": [
       "<pre style=\"white-space:pre;overflow-x:auto;line-height:normal;font-family:Menlo,'DejaVu Sans Mono',consolas,'Courier New',monospace\"><span style=\"color: #7fbfbf\">           </span>`savefig` took: 725ms                                                                                                                                                                                                                                                              <a href=\"file:///Users/saforem2/l2hmc-qcd/l2hmc-qcd/utils/file_io.py\"><span style=\"color: #7f7f7f\">file_io.py</span></a><span style=\"color: #7f7f7f\">:184</span>\n",
       "</pre>\n"
      ],
      "text/plain": [
       "<rich.jupyter.JupyterRenderable at 0x7fd344ad6cd0>"
      ]
     },
     "metadata": {},
     "output_type": "display_data"
    },
    {
     "data": {
      "text/html": [
       "<pre style=\"white-space:pre;overflow-x:auto;line-height:normal;font-family:Menlo,'DejaVu Sans Mono',consolas,'Courier New',monospace\"><span style=\"color: #7fbfbf\">[17:33:44] </span>Saving figure to: <span style=\"color: #800080\">/Users/saforem2/l2hmc-qcd/logs/GaugeModel_logs/test/2021_01/DEBUG_L16_b256_lf5_actswish_bi3_bf3_dp01_sepNets_NCProj-2021-01-26-1725/training/plots/avg_lineplots/</span><span style=\"color: #ff00ff\">p4x4b_start_avg.pdf.</span>                                                                            <a href=\"file:///Users/saforem2/l2hmc-qcd/l2hmc-qcd/utils/file_io.py\"><span style=\"color: #7f7f7f\">file_io.py</span></a><span style=\"color: #7f7f7f\">:184</span>\n",
       "</pre>\n"
      ],
      "text/plain": [
       "<rich.jupyter.JupyterRenderable at 0x7fd323d25c40>"
      ]
     },
     "metadata": {},
     "output_type": "display_data"
    },
    {
     "data": {
      "text/html": [
       "<pre style=\"white-space:pre;overflow-x:auto;line-height:normal;font-family:Menlo,'DejaVu Sans Mono',consolas,'Courier New',monospace\"><span style=\"color: #7fbfbf\">           </span>`savefig` took: 851ms                                                                                                                                                                                                                                                              <a href=\"file:///Users/saforem2/l2hmc-qcd/l2hmc-qcd/utils/file_io.py\"><span style=\"color: #7f7f7f\">file_io.py</span></a><span style=\"color: #7f7f7f\">:184</span>\n",
       "</pre>\n"
      ],
      "text/plain": [
       "<rich.jupyter.JupyterRenderable at 0x7fd2f3a2a6a0>"
      ]
     },
     "metadata": {},
     "output_type": "display_data"
    },
    {
     "data": {
      "text/html": [
       "<pre style=\"white-space:pre;overflow-x:auto;line-height:normal;font-family:Menlo,'DejaVu Sans Mono',consolas,'Courier New',monospace\"><span style=\"color: #7fbfbf\">[17:33:45] </span>Saving figure to: <span style=\"color: #800080\">/Users/saforem2/l2hmc-qcd/logs/GaugeModel_logs/test/2021_01/DEBUG_L16_b256_lf5_actswish_bi3_bf3_dp01_sepNets_NCProj-2021-01-26-1725/training/plots/avg_lineplots/</span><span style=\"color: #ff00ff\">p4x4b_mid_avg.pdf.</span>                                                                              <a href=\"file:///Users/saforem2/l2hmc-qcd/l2hmc-qcd/utils/file_io.py\"><span style=\"color: #7f7f7f\">file_io.py</span></a><span style=\"color: #7f7f7f\">:184</span>\n",
       "</pre>\n"
      ],
      "text/plain": [
       "<rich.jupyter.JupyterRenderable at 0x7fd31ddc5610>"
      ]
     },
     "metadata": {},
     "output_type": "display_data"
    },
    {
     "data": {
      "text/html": [
       "<pre style=\"white-space:pre;overflow-x:auto;line-height:normal;font-family:Menlo,'DejaVu Sans Mono',consolas,'Courier New',monospace\"><span style=\"color: #7fbfbf\">           </span>`savefig` took: 778ms                                                                                                                                                                                                                                                              <a href=\"file:///Users/saforem2/l2hmc-qcd/l2hmc-qcd/utils/file_io.py\"><span style=\"color: #7f7f7f\">file_io.py</span></a><span style=\"color: #7f7f7f\">:184</span>\n",
       "</pre>\n"
      ],
      "text/plain": [
       "<rich.jupyter.JupyterRenderable at 0x7fd344ae1100>"
      ]
     },
     "metadata": {},
     "output_type": "display_data"
    },
    {
     "data": {
      "text/html": [
       "<pre style=\"white-space:pre;overflow-x:auto;line-height:normal;font-family:Menlo,'DejaVu Sans Mono',consolas,'Courier New',monospace\"><span style=\"color: #7fbfbf\">           </span>Saving figure to: <span style=\"color: #800080\">/Users/saforem2/l2hmc-qcd/logs/GaugeModel_logs/test/2021_01/DEBUG_L16_b256_lf5_actswish_bi3_bf3_dp01_sepNets_NCProj-2021-01-26-1725/training/plots/avg_lineplots/</span><span style=\"color: #ff00ff\">p4x4b_end_avg.pdf.</span>                                                                              <a href=\"file:///Users/saforem2/l2hmc-qcd/l2hmc-qcd/utils/file_io.py\"><span style=\"color: #7f7f7f\">file_io.py</span></a><span style=\"color: #7f7f7f\">:184</span>\n",
       "</pre>\n"
      ],
      "text/plain": [
       "<rich.jupyter.JupyterRenderable at 0x7fd304b0b700>"
      ]
     },
     "metadata": {},
     "output_type": "display_data"
    },
    {
     "data": {
      "text/html": [
       "<pre style=\"white-space:pre;overflow-x:auto;line-height:normal;font-family:Menlo,'DejaVu Sans Mono',consolas,'Courier New',monospace\"><span style=\"color: #7fbfbf\">[17:33:46] </span>`savefig` took: 786ms                                                                                                                                                                                                                                                              <a href=\"file:///Users/saforem2/l2hmc-qcd/l2hmc-qcd/utils/file_io.py\"><span style=\"color: #7f7f7f\">file_io.py</span></a><span style=\"color: #7f7f7f\">:184</span>\n",
       "</pre>\n"
      ],
      "text/plain": [
       "<rich.jupyter.JupyterRenderable at 0x7fd31dd29430>"
      ]
     },
     "metadata": {},
     "output_type": "display_data"
    },
    {
     "data": {
      "text/html": [
       "<pre style=\"white-space:pre;overflow-x:auto;line-height:normal;font-family:Menlo,'DejaVu Sans Mono',consolas,'Courier New',monospace\"><span style=\"color: #7fbfbf\">           </span>Saving figure to: <span style=\"color: #800080\">/Users/saforem2/l2hmc-qcd/logs/GaugeModel_logs/test/2021_01/DEBUG_L16_b256_lf5_actswish_bi3_bf3_dp01_sepNets_NCProj-2021-01-26-1725/training/plots/avg_lineplots/</span><span style=\"color: #ff00ff\">dq_int_avg.pdf.</span>                                                                                 <a href=\"file:///Users/saforem2/l2hmc-qcd/l2hmc-qcd/utils/file_io.py\"><span style=\"color: #7f7f7f\">file_io.py</span></a><span style=\"color: #7f7f7f\">:184</span>\n",
       "</pre>\n"
      ],
      "text/plain": [
       "<rich.jupyter.JupyterRenderable at 0x7fd3346738e0>"
      ]
     },
     "metadata": {},
     "output_type": "display_data"
    },
    {
     "data": {
      "text/html": [
       "<pre style=\"white-space:pre;overflow-x:auto;line-height:normal;font-family:Menlo,'DejaVu Sans Mono',consolas,'Courier New',monospace\"><span style=\"color: #7fbfbf\">[17:33:47] </span>`savefig` took: 742ms                                                                                                                                                                                                                                                              <a href=\"file:///Users/saforem2/l2hmc-qcd/l2hmc-qcd/utils/file_io.py\"><span style=\"color: #7f7f7f\">file_io.py</span></a><span style=\"color: #7f7f7f\">:184</span>\n",
       "</pre>\n"
      ],
      "text/plain": [
       "<rich.jupyter.JupyterRenderable at 0x7fd2e278d460>"
      ]
     },
     "metadata": {},
     "output_type": "display_data"
    },
    {
     "data": {
      "text/html": [
       "<pre style=\"white-space:pre;overflow-x:auto;line-height:normal;font-family:Menlo,'DejaVu Sans Mono',consolas,'Courier New',monospace\"><span style=\"color: #7fbfbf\">           </span>Saving figure to: <span style=\"color: #800080\">/Users/saforem2/l2hmc-qcd/logs/GaugeModel_logs/test/2021_01/DEBUG_L16_b256_lf5_actswish_bi3_bf3_dp01_sepNets_NCProj-2021-01-26-1725/training/plots/avg_lineplots/</span><span style=\"color: #ff00ff\">dq_sin_avg.pdf.</span>                                                                                 <a href=\"file:///Users/saforem2/l2hmc-qcd/l2hmc-qcd/utils/file_io.py\"><span style=\"color: #7f7f7f\">file_io.py</span></a><span style=\"color: #7f7f7f\">:184</span>\n",
       "</pre>\n"
      ],
      "text/plain": [
       "<rich.jupyter.JupyterRenderable at 0x7fd31d0eb5e0>"
      ]
     },
     "metadata": {},
     "output_type": "display_data"
    },
    {
     "data": {
      "text/html": [
       "<pre style=\"white-space:pre;overflow-x:auto;line-height:normal;font-family:Menlo,'DejaVu Sans Mono',consolas,'Courier New',monospace\"><span style=\"color: #7fbfbf\">[17:33:48] </span>`savefig` took: 803ms                                                                                                                                                                                                                                                              <a href=\"file:///Users/saforem2/l2hmc-qcd/l2hmc-qcd/utils/file_io.py\"><span style=\"color: #7f7f7f\">file_io.py</span></a><span style=\"color: #7f7f7f\">:184</span>\n",
       "</pre>\n"
      ],
      "text/plain": [
       "<rich.jupyter.JupyterRenderable at 0x7fd324899640>"
      ]
     },
     "metadata": {},
     "output_type": "display_data"
    },
    {
     "data": {
      "text/html": [
       "<pre style=\"white-space:pre;overflow-x:auto;line-height:normal;font-family:Menlo,'DejaVu Sans Mono',consolas,'Courier New',monospace\"><span style=\"color: #7fbfbf\">           </span>Saving figure to: <span style=\"color: #800080\">/Users/saforem2/l2hmc-qcd/logs/GaugeModel_logs/test/2021_01/DEBUG_L16_b256_lf5_actswish_bi3_bf3_dp01_sepNets_NCProj-2021-01-26-1725/training/plots/avg_lineplots/</span><span style=\"color: #ff00ff\">charges_avg.pdf.</span>                                                                                <a href=\"file:///Users/saforem2/l2hmc-qcd/l2hmc-qcd/utils/file_io.py\"><span style=\"color: #7f7f7f\">file_io.py</span></a><span style=\"color: #7f7f7f\">:184</span>\n",
       "</pre>\n"
      ],
      "text/plain": [
       "<rich.jupyter.JupyterRenderable at 0x7fd304b5b3d0>"
      ]
     },
     "metadata": {},
     "output_type": "display_data"
    },
    {
     "data": {
      "text/html": [
       "<pre style=\"white-space:pre;overflow-x:auto;line-height:normal;font-family:Menlo,'DejaVu Sans Mono',consolas,'Courier New',monospace\"><span style=\"color: #7fbfbf\">[17:33:49] </span>`savefig` took: 749ms                                                                                                                                                                                                                                                              <a href=\"file:///Users/saforem2/l2hmc-qcd/l2hmc-qcd/utils/file_io.py\"><span style=\"color: #7f7f7f\">file_io.py</span></a><span style=\"color: #7f7f7f\">:184</span>\n",
       "</pre>\n"
      ],
      "text/plain": [
       "<rich.jupyter.JupyterRenderable at 0x7fd304a175e0>"
      ]
     },
     "metadata": {},
     "output_type": "display_data"
    },
    {
     "data": {
      "text/html": [
       "<pre style=\"white-space:pre;overflow-x:auto;line-height:normal;font-family:Menlo,'DejaVu Sans Mono',consolas,'Courier New',monospace\"><span style=\"color: #7fbfbf\">           </span>Saving figure to: <span style=\"color: #800080\">/Users/saforem2/l2hmc-qcd/logs/GaugeModel_logs/test/2021_01/DEBUG_L16_b256_lf5_actswish_bi3_bf3_dp01_sepNets_NCProj-2021-01-26-1725/training/plots/avg_lineplots/</span><span style=\"color: #ff00ff\">plaqs_avg.pdf.</span>                                                                                  <a href=\"file:///Users/saforem2/l2hmc-qcd/l2hmc-qcd/utils/file_io.py\"><span style=\"color: #7f7f7f\">file_io.py</span></a><span style=\"color: #7f7f7f\">:184</span>\n",
       "</pre>\n"
      ],
      "text/plain": [
       "<rich.jupyter.JupyterRenderable at 0x7fd31cc76070>"
      ]
     },
     "metadata": {},
     "output_type": "display_data"
    },
    {
     "data": {
      "text/html": [
       "<pre style=\"white-space:pre;overflow-x:auto;line-height:normal;font-family:Menlo,'DejaVu Sans Mono',consolas,'Courier New',monospace\"><span style=\"color: #7fbfbf\">[17:33:50] </span>`savefig` took: 707ms                                                                                                                                                                                                                                                              <a href=\"file:///Users/saforem2/l2hmc-qcd/l2hmc-qcd/utils/file_io.py\"><span style=\"color: #7f7f7f\">file_io.py</span></a><span style=\"color: #7f7f7f\">:184</span>\n",
       "</pre>\n"
      ],
      "text/plain": [
       "<rich.jupyter.JupyterRenderable at 0x7fd31cc8c3d0>"
      ]
     },
     "metadata": {},
     "output_type": "display_data"
    },
    {
     "data": {
      "text/html": [
       "<pre style=\"white-space:pre;overflow-x:auto;line-height:normal;font-family:Menlo,'DejaVu Sans Mono',consolas,'Courier New',monospace\"><span style=\"color: #7fbfbf\">           </span>Saving figure to: <span style=\"color: #800080\">/Users/saforem2/l2hmc-qcd/logs/GaugeModel_logs/test/2021_01/DEBUG_L16_b256_lf5_actswish_bi3_bf3_dp01_sepNets_NCProj-2021-01-26-1725/training/plots/avg_lineplots/</span><span style=\"color: #ff00ff\">p4x4_avg.pdf.</span>                                                                                   <a href=\"file:///Users/saforem2/l2hmc-qcd/l2hmc-qcd/utils/file_io.py\"><span style=\"color: #7f7f7f\">file_io.py</span></a><span style=\"color: #7f7f7f\">:184</span>\n",
       "</pre>\n"
      ],
      "text/plain": [
       "<rich.jupyter.JupyterRenderable at 0x7fd33462f910>"
      ]
     },
     "metadata": {},
     "output_type": "display_data"
    },
    {
     "data": {
      "text/html": [
       "<pre style=\"white-space:pre;overflow-x:auto;line-height:normal;font-family:Menlo,'DejaVu Sans Mono',consolas,'Courier New',monospace\"><span style=\"color: #7fbfbf\">           </span>`savefig` took: 734ms                                                                                                                                                                                                                                                              <a href=\"file:///Users/saforem2/l2hmc-qcd/l2hmc-qcd/utils/file_io.py\"><span style=\"color: #7f7f7f\">file_io.py</span></a><span style=\"color: #7f7f7f\">:184</span>\n",
       "</pre>\n"
      ],
      "text/plain": [
       "<rich.jupyter.JupyterRenderable at 0x7fd31dce8070>"
      ]
     },
     "metadata": {},
     "output_type": "display_data"
    },
    {
     "data": {
      "text/html": [
       "<pre style=\"white-space:pre;overflow-x:auto;line-height:normal;font-family:Menlo,'DejaVu Sans Mono',consolas,'Courier New',monospace\"><span style=\"color: #7fbfbf\">           </span>`mcmc_avg_lineplots` took: <span style=\"color: #ff79ff\">3.</span>67e+04ms                                                                                                                                                                                                                                              <a href=\"file:///Users/saforem2/l2hmc-qcd/l2hmc-qcd/utils/file_io.py\"><span style=\"color: #7f7f7f\">file_io.py</span></a><span style=\"color: #7f7f7f\">:184</span>\n",
       "</pre>\n"
      ],
      "text/plain": [
       "<rich.jupyter.JupyterRenderable at 0x7fd2e27ed7f0>"
      ]
     },
     "metadata": {},
     "output_type": "display_data"
    },
    {
     "data": {
      "text/html": [
       "<pre style=\"white-space:pre;overflow-x:auto;line-height:normal;font-family:Menlo,'DejaVu Sans Mono',consolas,'Courier New',monospace\"><span style=\"color: #7fbfbf\">           </span>Saving figure to: <span style=\"color: #800080\">/Users/saforem2/l2hmc-qcd/logs/GaugeModel_logs/test/2021_01/DEBUG_L16_b256_lf5_actswish_bi3_bf3_dp01_sepNets_NCProj-2021-01-26-1725/training/plots/</span><span style=\"color: #ff00ff\">charge_chains.pdf.</span>                                                                                            <a href=\"file:///Users/saforem2/l2hmc-qcd/l2hmc-qcd/utils/file_io.py\"><span style=\"color: #7f7f7f\">file_io.py</span></a><span style=\"color: #7f7f7f\">:184</span>\n",
       "</pre>\n"
      ],
      "text/plain": [
       "<rich.jupyter.JupyterRenderable at 0x7fd344a8f280>"
      ]
     },
     "metadata": {},
     "output_type": "display_data"
    },
    {
     "data": {
      "text/html": [
       "<pre style=\"white-space:pre;overflow-x:auto;line-height:normal;font-family:Menlo,'DejaVu Sans Mono',consolas,'Courier New',monospace\"><span style=\"color: #7fbfbf\">[17:33:51] </span>`savefig` took: 402ms                                                                                                                                                                                                                                                              <a href=\"file:///Users/saforem2/l2hmc-qcd/l2hmc-qcd/utils/file_io.py\"><span style=\"color: #7f7f7f\">file_io.py</span></a><span style=\"color: #7f7f7f\">:184</span>\n",
       "</pre>\n"
      ],
      "text/plain": [
       "<rich.jupyter.JupyterRenderable at 0x7fd3049e3ee0>"
      ]
     },
     "metadata": {},
     "output_type": "display_data"
    },
    {
     "data": {
      "text/html": [
       "<pre style=\"white-space:pre;overflow-x:auto;line-height:normal;font-family:Menlo,'DejaVu Sans Mono',consolas,'Courier New',monospace\"><span style=\"color: #7fbfbf\">           </span>`plot_charges` took: 445ms                                                                                                                                                                                                                                                         <a href=\"file:///Users/saforem2/l2hmc-qcd/l2hmc-qcd/utils/file_io.py\"><span style=\"color: #7f7f7f\">file_io.py</span></a><span style=\"color: #7f7f7f\">:184</span>\n",
       "</pre>\n"
      ],
      "text/plain": [
       "<rich.jupyter.JupyterRenderable at 0x7fd3049e3ee0>"
      ]
     },
     "metadata": {},
     "output_type": "display_data"
    },
    {
     "data": {
      "text/html": [
       "<pre style=\"white-space:pre;overflow-x:auto;line-height:normal;font-family:Menlo,'DejaVu Sans Mono',consolas,'Courier New',monospace\"><span style=\"color: #7fbfbf\">           </span>`plot_data` took: <span style=\"color: #ff79ff\">1.</span>02e+05ms  <span style=\"font-weight: bold\">(</span><span style=\"color: #ff79ff\">1</span> min  <span style=\"color: #ff79ff\">42</span> sec<span style=\"font-weight: bold\">)</span>                                                                                                                                                                                                                                      <a href=\"file:///Users/saforem2/l2hmc-qcd/l2hmc-qcd/utils/file_io.py\"><span style=\"color: #7f7f7f\">file_io.py</span></a><span style=\"color: #7f7f7f\">:184</span>\n",
       "</pre>\n"
      ],
      "text/plain": [
       "<rich.jupyter.JupyterRenderable at 0x7fd32444b1f0>"
      ]
     },
     "metadata": {},
     "output_type": "display_data"
    },
    {
     "data": {
      "text/html": [
       "<pre style=\"white-space:pre;overflow-x:auto;line-height:normal;font-family:Menlo,'DejaVu Sans Mono',consolas,'Courier New',monospace\"><span style=\"color: #00ff00\">───────────────────────────────────────────────────────────────────────────────────────────────────────────────── </span><span style=\"font-weight: bold\">[</span><span style=\"color: #ff79ff\">2021</span>-<span style=\"color: #ff79ff\">01</span>-<span style=\"color: #ff79ff\">26</span> <span style=\"color: #00ff00; font-weight: bold\">17:33</span><span style=\"font-weight: bold\">]</span> Time spent plotting: <span style=\"color: #ff79ff\">101.</span>76687598228455s = <span style=\"color: #ff79ff\">1.</span>0m <span style=\"color: #ff79ff\">41.</span>8s<span style=\"color: #00ff00\"> ─────────────────────────────────────────────────────────────────────────────────────────────────────────────────</span>\n",
       "</pre>\n"
      ],
      "text/plain": [
       "<rich.jupyter.JupyterRenderable at 0x7fd32444b1f0>"
      ]
     },
     "metadata": {},
     "output_type": "display_data"
    },
    {
     "data": {
      "text/html": [
       "<pre style=\"white-space:pre;overflow-x:auto;line-height:normal;font-family:Menlo,'DejaVu Sans Mono',consolas,'Courier New',monospace\"><span style=\"color: #00ff00\">──────────────────────────────────────────────────────────────────────────────────────────────────────────────────────────── </span><span style=\"font-weight: bold\">[</span><span style=\"color: #ff79ff\">2021</span>-<span style=\"color: #ff79ff\">01</span>-<span style=\"color: #ff79ff\">26</span> <span style=\"color: #00ff00; font-weight: bold\">17:33</span><span style=\"font-weight: bold\">]</span> Done training model! took: 102s<span style=\"color: #00ff00\"> ────────────────────────────────────────────────────────────────────────────────────────────────────────────────────────────</span>\n",
       "</pre>\n"
      ],
      "text/plain": [
       "<rich.jupyter.JupyterRenderable at 0x7fd3049e3ee0>"
      ]
     },
     "metadata": {},
     "output_type": "display_data"
    },
    {
     "data": {
      "text/html": [
       "<pre style=\"white-space:pre;overflow-x:auto;line-height:normal;font-family:Menlo,'DejaVu Sans Mono',consolas,'Courier New',monospace\"><span style=\"color: #7fbfbf\">           </span>Saving configs to <span style=\"color: #800080\">/Users/saforem2/l2hmc-qcd/logs/GaugeModel_logs/test/2021_01/DEBUG_L16_b256_lf5_actswish_bi3_bf3_dp01_sepNets_NCProj-2021-01-26-1725/</span><span style=\"color: #ff00ff\">configs.z.</span>                                                                                                                   <a href=\"file:///Users/saforem2/l2hmc-qcd/l2hmc-qcd/utils/file_io.py\"><span style=\"color: #7f7f7f\">file_io.py</span></a><span style=\"color: #7f7f7f\">:363</span>\n",
       "</pre>\n"
      ],
      "text/plain": [
       "<rich.jupyter.JupyterRenderable at 0x7fd31db9e640>"
      ]
     },
     "metadata": {},
     "output_type": "display_data"
    }
   ],
   "source": [
    "from utils.training_utils import train \n",
    "\n",
    "# Only make plots for 8 chains to speed up plotting\n",
    "num_chains_to_plot = 8\n",
    "\n",
    "# Draw initial x uniformly from [-pi, pi]:\n",
    "x_shape = configs.dynamics_config.get('x_shape', None)\n",
    "x = tf.random.uniform(x_shape, minval=-np.pi, maxval=np.pi)\n",
    "x = tf.reshape(x, (x.shape[0], -1))\n",
    "\n",
    "x, dynamics, _, configs = train(configs,\n",
    "                                x=x, make_plots=True,\n",
    "                                num_chains=num_chains_to_plot,\n",
    "                                should_track=False)"
   ]
  },
  {
   "cell_type": "code",
   "execution_count": 9,
   "metadata": {
    "ExecuteTime": {
     "end_time": "2021-01-26T23:48:25.898920Z",
     "start_time": "2021-01-26T23:45:57.120213Z"
    }
   },
   "outputs": [
    {
     "data": {
      "text/html": [
       "<pre style=\"white-space:pre;overflow-x:auto;line-height:normal;font-family:Menlo,'DejaVu Sans Mono',consolas,'Courier New',monospace\"><span style=\"color: #7fbfbf\">[17:47:28] </span>Appending inference results to <span style=\"color: #800080\">/Users/saforem2/l2hmc-qcd/logs/GaugeModel_logs/</span><span style=\"color: #ff00ff\">inference_results.csv.</span>                                                                                                                                                                               <a href=\"file:///Users/saforem2/l2hmc-qcd/l2hmc-qcd/utils/file_io.py\"><span style=\"color: #7f7f7f\">file_io.py</span></a><span style=\"color: #7f7f7f\">:184</span>\n",
       "</pre>\n"
      ],
      "text/plain": [
       "<rich.jupyter.JupyterRenderable at 0x7fd2f5b500a0>"
      ]
     },
     "metadata": {},
     "output_type": "display_data"
    },
    {
     "data": {
      "text/html": [
       "<pre style=\"white-space:pre;overflow-x:auto;line-height:normal;font-family:Menlo,'DejaVu Sans Mono',consolas,'Courier New',monospace\"><span style=\"color: #7fbfbf\">[17:47:29] </span>Saving run_params to <span style=\"color: #800080\">/Users/saforem2/l2hmc-qcd/logs/GaugeModel_logs/test/2021_01/DEBUG_L16_b256_lf5_actswish_bi3_bf3_dp01_sepNets_NCProj-2021-01-26-1725/inference/L16_b256__lf5_eps01-2021-01-26-1745/</span><span style=\"color: #ff00ff\">run_params.z.</span>                                                               <a href=\"file:///Users/saforem2/l2hmc-qcd/l2hmc-qcd/utils/file_io.py\"><span style=\"color: #7f7f7f\">file_io.py</span></a><span style=\"color: #7f7f7f\">:363</span>\n",
       "</pre>\n"
      ],
      "text/plain": [
       "<rich.jupyter.JupyterRenderable at 0x7fd3542ad0d0>"
      ]
     },
     "metadata": {},
     "output_type": "display_data"
    },
    {
     "data": {
      "text/html": [
       "<pre style=\"white-space:pre;overflow-x:auto;line-height:normal;font-family:Menlo,'DejaVu Sans Mono',consolas,'Courier New',monospace\"><span style=\"color: #7fbfbf\">           </span>Creating directory: <span style=\"color: #800080\">/Users/saforem2/l2hmc-qcd/logs/GaugeModel_logs/test/2021_01/DEBUG_L16_b256_lf5_actswish_bi3_bf3_dp01_sepNets_NCProj-2021-01-26-1725/inference/L16_b256__lf5_eps01-2021-01-26-1745/</span><span style=\"color: #ff00ff\">plots</span>                                                                        <a href=\"file:///Users/saforem2/l2hmc-qcd/l2hmc-qcd/utils/file_io.py\"><span style=\"color: #7f7f7f\">file_io.py</span></a><span style=\"color: #7f7f7f\">:184</span>\n",
       "</pre>\n"
      ],
      "text/plain": [
       "<rich.jupyter.JupyterRenderable at 0x7fd2f5bdb520>"
      ]
     },
     "metadata": {},
     "output_type": "display_data"
    },
    {
     "data": {
      "text/html": [
       "<pre style=\"white-space:pre;overflow-x:auto;line-height:normal;font-family:Menlo,'DejaVu Sans Mono',consolas,'Courier New',monospace\"><span style=\"color: #7fbfbf\">           </span>`get_title_str_from_params` took: <span style=\"color: #ff79ff\">0.</span>0172ms                                                                                                                                                                                                                                         <a href=\"file:///Users/saforem2/l2hmc-qcd/l2hmc-qcd/utils/file_io.py\"><span style=\"color: #7f7f7f\">file_io.py</span></a><span style=\"color: #7f7f7f\">:184</span>\n",
       "</pre>\n"
      ],
      "text/plain": [
       "<rich.jupyter.JupyterRenderable at 0x7fd3542b9430>"
      ]
     },
     "metadata": {},
     "output_type": "display_data"
    },
    {
     "data": {
      "text/html": [
       "<pre style=\"white-space:pre;overflow-x:auto;line-height:normal;font-family:Menlo,'DejaVu Sans Mono',consolas,'Courier New',monospace\"><span style=\"color: #7fbfbf\">           </span>Creating directory: <span style=\"color: #800080\">/Users/saforem2/l2hmc-qcd/logs/GaugeModel_logs/test/2021_01/DEBUG_L16_b256_lf5_actswish_bi3_bf3_dp01_sepNets_NCProj-2021-01-26-1725/inference/L16_b256__lf5_eps01-2021-01-26-1745/plots/</span><span style=\"color: #ff00ff\">mcmc_lineplots</span>                                                         <a href=\"file:///Users/saforem2/l2hmc-qcd/l2hmc-qcd/utils/file_io.py\"><span style=\"color: #7f7f7f\">file_io.py</span></a><span style=\"color: #7f7f7f\">:184</span>\n",
       "</pre>\n"
      ],
      "text/plain": [
       "<rich.jupyter.JupyterRenderable at 0x7fd31de5a160>"
      ]
     },
     "metadata": {},
     "output_type": "display_data"
    },
    {
     "data": {
      "text/html": [
       "<pre style=\"white-space:pre;overflow-x:auto;line-height:normal;font-family:Menlo,'DejaVu Sans Mono',consolas,'Courier New',monospace\"><span style=\"color: #7fbfbf\">[17:47:30] </span>Creating directory: <span style=\"color: #800080\">/Users/saforem2/l2hmc-qcd/logs/GaugeModel_logs/test/2021_01/DEBUG_L16_b256_lf5_actswish_bi3_bf3_dp01_sepNets_NCProj-2021-01-26-1725/inference/L16_b256__lf5_eps01-2021-01-26-1745/plots/</span><span style=\"color: #ff00ff\">xarr_plots</span>                                                             <a href=\"file:///Users/saforem2/l2hmc-qcd/l2hmc-qcd/utils/file_io.py\"><span style=\"color: #7f7f7f\">file_io.py</span></a><span style=\"color: #7f7f7f\">:184</span>\n",
       "</pre>\n"
      ],
      "text/plain": [
       "<rich.jupyter.JupyterRenderable at 0x7fd345479130>"
      ]
     },
     "metadata": {},
     "output_type": "display_data"
    },
    {
     "data": {
      "text/html": [
       "<pre style=\"white-space:pre;overflow-x:auto;line-height:normal;font-family:Menlo,'DejaVu Sans Mono',consolas,'Courier New',monospace\"><span style=\"color: #7fbfbf\">[17:47:52] </span>Creating directory: <span style=\"color: #800080\">/Users/saforem2/l2hmc-qcd/logs/GaugeModel_logs/test/2021_01/DEBUG_L16_b256_lf5_actswish_bi3_bf3_dp01_sepNets_NCProj-2021-01-26-1725/inference/L16_b256__lf5_eps01-2021-01-26-1745/plots/xarr_plots/</span><span style=\"color: #ff00ff\">ridgeplots</span>                                                  <a href=\"file:///Users/saforem2/l2hmc-qcd/l2hmc-qcd/utils/file_io.py\"><span style=\"color: #7f7f7f\">file_io.py</span></a><span style=\"color: #7f7f7f\">:184</span>\n",
       "</pre>\n"
      ],
      "text/plain": [
       "<rich.jupyter.JupyterRenderable at 0x7fd35534c6d0>"
      ]
     },
     "metadata": {},
     "output_type": "display_data"
    },
    {
     "name": "stderr",
     "output_type": "stream",
     "text": [
      "/Users/saforem2/opt/anaconda3/envs/tf2.4/lib/python3.8/site-packages/seaborn/axisgrid.py:64: UserWarning: Tight layout not applied. tight_layout cannot make axes height small enough to accommodate all axes decorations\n",
      "  self.fig.tight_layout(*args, **kwargs)\n",
      "/Users/saforem2/opt/anaconda3/envs/tf2.4/lib/python3.8/site-packages/seaborn/axisgrid.py:64: UserWarning: Tight layout not applied. tight_layout cannot make axes height small enough to accommodate all axes decorations\n",
      "  self.fig.tight_layout(*args, **kwargs)\n"
     ]
    },
    {
     "data": {
      "text/html": [
       "<pre style=\"white-space:pre;overflow-x:auto;line-height:normal;font-family:Menlo,'DejaVu Sans Mono',consolas,'Courier New',monospace\"><span style=\"color: #7fbfbf\">[17:47:53] </span>Saving figure to: <span style=\"color: #800080\">/Users/saforem2/l2hmc-qcd/logs/GaugeModel_logs/test/2021_01/DEBUG_L16_b256_lf5_actswish_bi3_bf3_dp01_sepNets_NCProj-2021-01-26-1725/inference/L16_b256__lf5_eps01-2021-01-26-1745/plots/xarr_plots/ridgeplots/</span><span style=\"color: #ff00ff\">Hf_ridgeplot.pdf.</span>                                  <a href=\"file:///Users/saforem2/l2hmc-qcd/l2hmc-qcd/utils/file_io.py\"><span style=\"color: #7f7f7f\">file_io.py</span></a><span style=\"color: #7f7f7f\">:184</span>\n",
       "</pre>\n"
      ],
      "text/plain": [
       "<rich.jupyter.JupyterRenderable at 0x7fd3554a9b80>"
      ]
     },
     "metadata": {},
     "output_type": "display_data"
    },
    {
     "name": "stderr",
     "output_type": "stream",
     "text": [
      "/Users/saforem2/opt/anaconda3/envs/tf2.4/lib/python3.8/site-packages/seaborn/axisgrid.py:64: UserWarning: Tight layout not applied. tight_layout cannot make axes height small enough to accommodate all axes decorations\n",
      "  self.fig.tight_layout(*args, **kwargs)\n",
      "/Users/saforem2/opt/anaconda3/envs/tf2.4/lib/python3.8/site-packages/seaborn/axisgrid.py:64: UserWarning: Tight layout not applied. tight_layout cannot make axes height small enough to accommodate all axes decorations\n",
      "  self.fig.tight_layout(*args, **kwargs)\n"
     ]
    },
    {
     "data": {
      "text/html": [
       "<pre style=\"white-space:pre;overflow-x:auto;line-height:normal;font-family:Menlo,'DejaVu Sans Mono',consolas,'Courier New',monospace\"><span style=\"color: #7fbfbf\">[17:47:55] </span>Saving figure to: <span style=\"color: #800080\">/Users/saforem2/l2hmc-qcd/logs/GaugeModel_logs/test/2021_01/DEBUG_L16_b256_lf5_actswish_bi3_bf3_dp01_sepNets_NCProj-2021-01-26-1725/inference/L16_b256__lf5_eps01-2021-01-26-1745/plots/xarr_plots/ridgeplots/</span><span style=\"color: #ff00ff\">Hb_ridgeplot.pdf.</span>                                  <a href=\"file:///Users/saforem2/l2hmc-qcd/l2hmc-qcd/utils/file_io.py\"><span style=\"color: #7f7f7f\">file_io.py</span></a><span style=\"color: #7f7f7f\">:184</span>\n",
       "</pre>\n"
      ],
      "text/plain": [
       "<rich.jupyter.JupyterRenderable at 0x7fd2f68cc3d0>"
      ]
     },
     "metadata": {},
     "output_type": "display_data"
    },
    {
     "name": "stderr",
     "output_type": "stream",
     "text": [
      "/Users/saforem2/opt/anaconda3/envs/tf2.4/lib/python3.8/site-packages/seaborn/axisgrid.py:64: UserWarning: Tight layout not applied. tight_layout cannot make axes height small enough to accommodate all axes decorations\n",
      "  self.fig.tight_layout(*args, **kwargs)\n",
      "/Users/saforem2/opt/anaconda3/envs/tf2.4/lib/python3.8/site-packages/seaborn/distributions.py:305: UserWarning: Dataset has 0 variance; skipping density estimate.\n",
      "  warnings.warn(msg, UserWarning)\n",
      "/Users/saforem2/opt/anaconda3/envs/tf2.4/lib/python3.8/site-packages/seaborn/axisgrid.py:64: UserWarning: Tight layout not applied. tight_layout cannot make axes height small enough to accommodate all axes decorations\n",
      "  self.fig.tight_layout(*args, **kwargs)\n"
     ]
    },
    {
     "data": {
      "text/html": [
       "<pre style=\"white-space:pre;overflow-x:auto;line-height:normal;font-family:Menlo,'DejaVu Sans Mono',consolas,'Courier New',monospace\"><span style=\"color: #7fbfbf\">[17:47:56] </span>Saving figure to: <span style=\"color: #800080\">/Users/saforem2/l2hmc-qcd/logs/GaugeModel_logs/test/2021_01/DEBUG_L16_b256_lf5_actswish_bi3_bf3_dp01_sepNets_NCProj-2021-01-26-1725/inference/L16_b256__lf5_eps01-2021-01-26-1745/plots/xarr_plots/ridgeplots/</span><span style=\"color: #ff00ff\">logdetsf_ridgeplot.pdf.</span>                            <a href=\"file:///Users/saforem2/l2hmc-qcd/l2hmc-qcd/utils/file_io.py\"><span style=\"color: #7f7f7f\">file_io.py</span></a><span style=\"color: #7f7f7f\">:184</span>\n",
       "</pre>\n"
      ],
      "text/plain": [
       "<rich.jupyter.JupyterRenderable at 0x7fd334efe490>"
      ]
     },
     "metadata": {},
     "output_type": "display_data"
    },
    {
     "name": "stderr",
     "output_type": "stream",
     "text": [
      "/Users/saforem2/opt/anaconda3/envs/tf2.4/lib/python3.8/site-packages/seaborn/axisgrid.py:64: UserWarning: Tight layout not applied. tight_layout cannot make axes height small enough to accommodate all axes decorations\n",
      "  self.fig.tight_layout(*args, **kwargs)\n",
      "/Users/saforem2/opt/anaconda3/envs/tf2.4/lib/python3.8/site-packages/seaborn/distributions.py:305: UserWarning: Dataset has 0 variance; skipping density estimate.\n",
      "  warnings.warn(msg, UserWarning)\n",
      "/Users/saforem2/opt/anaconda3/envs/tf2.4/lib/python3.8/site-packages/seaborn/axisgrid.py:64: UserWarning: Tight layout not applied. tight_layout cannot make axes height small enough to accommodate all axes decorations\n",
      "  self.fig.tight_layout(*args, **kwargs)\n"
     ]
    },
    {
     "data": {
      "text/html": [
       "<pre style=\"white-space:pre;overflow-x:auto;line-height:normal;font-family:Menlo,'DejaVu Sans Mono',consolas,'Courier New',monospace\"><span style=\"color: #7fbfbf\">[17:47:58] </span>Saving figure to: <span style=\"color: #800080\">/Users/saforem2/l2hmc-qcd/logs/GaugeModel_logs/test/2021_01/DEBUG_L16_b256_lf5_actswish_bi3_bf3_dp01_sepNets_NCProj-2021-01-26-1725/inference/L16_b256__lf5_eps01-2021-01-26-1745/plots/xarr_plots/ridgeplots/</span><span style=\"color: #ff00ff\">logdetsb_ridgeplot.pdf.</span>                            <a href=\"file:///Users/saforem2/l2hmc-qcd/l2hmc-qcd/utils/file_io.py\"><span style=\"color: #7f7f7f\">file_io.py</span></a><span style=\"color: #7f7f7f\">:184</span>\n",
       "</pre>\n"
      ],
      "text/plain": [
       "<rich.jupyter.JupyterRenderable at 0x7fd345b72730>"
      ]
     },
     "metadata": {},
     "output_type": "display_data"
    },
    {
     "name": "stderr",
     "output_type": "stream",
     "text": [
      "/Users/saforem2/opt/anaconda3/envs/tf2.4/lib/python3.8/site-packages/seaborn/axisgrid.py:64: UserWarning: Tight layout not applied. tight_layout cannot make axes height small enough to accommodate all axes decorations\n",
      "  self.fig.tight_layout(*args, **kwargs)\n",
      "/Users/saforem2/opt/anaconda3/envs/tf2.4/lib/python3.8/site-packages/seaborn/axisgrid.py:64: UserWarning: Tight layout not applied. tight_layout cannot make axes height small enough to accommodate all axes decorations\n",
      "  self.fig.tight_layout(*args, **kwargs)\n"
     ]
    },
    {
     "data": {
      "text/html": [
       "<pre style=\"white-space:pre;overflow-x:auto;line-height:normal;font-family:Menlo,'DejaVu Sans Mono',consolas,'Courier New',monospace\"><span style=\"color: #7fbfbf\">[17:47:59] </span>Saving figure to: <span style=\"color: #800080\">/Users/saforem2/l2hmc-qcd/logs/GaugeModel_logs/test/2021_01/DEBUG_L16_b256_lf5_actswish_bi3_bf3_dp01_sepNets_NCProj-2021-01-26-1725/inference/L16_b256__lf5_eps01-2021-01-26-1745/plots/xarr_plots/ridgeplots/</span><span style=\"color: #ff00ff\">Hwf_ridgeplot.pdf.</span>                                 <a href=\"file:///Users/saforem2/l2hmc-qcd/l2hmc-qcd/utils/file_io.py\"><span style=\"color: #7f7f7f\">file_io.py</span></a><span style=\"color: #7f7f7f\">:184</span>\n",
       "</pre>\n"
      ],
      "text/plain": [
       "<rich.jupyter.JupyterRenderable at 0x7fd345ba7130>"
      ]
     },
     "metadata": {},
     "output_type": "display_data"
    },
    {
     "name": "stderr",
     "output_type": "stream",
     "text": [
      "/Users/saforem2/opt/anaconda3/envs/tf2.4/lib/python3.8/site-packages/seaborn/axisgrid.py:64: UserWarning: Tight layout not applied. tight_layout cannot make axes height small enough to accommodate all axes decorations\n",
      "  self.fig.tight_layout(*args, **kwargs)\n",
      "/Users/saforem2/opt/anaconda3/envs/tf2.4/lib/python3.8/site-packages/seaborn/axisgrid.py:64: UserWarning: Tight layout not applied. tight_layout cannot make axes height small enough to accommodate all axes decorations\n",
      "  self.fig.tight_layout(*args, **kwargs)\n"
     ]
    },
    {
     "data": {
      "text/html": [
       "<pre style=\"white-space:pre;overflow-x:auto;line-height:normal;font-family:Menlo,'DejaVu Sans Mono',consolas,'Courier New',monospace\"><span style=\"color: #7fbfbf\">[17:48:01] </span>Saving figure to: <span style=\"color: #800080\">/Users/saforem2/l2hmc-qcd/logs/GaugeModel_logs/test/2021_01/DEBUG_L16_b256_lf5_actswish_bi3_bf3_dp01_sepNets_NCProj-2021-01-26-1725/inference/L16_b256__lf5_eps01-2021-01-26-1745/plots/xarr_plots/ridgeplots/</span><span style=\"color: #ff00ff\">Hwb_ridgeplot.pdf.</span>                                 <a href=\"file:///Users/saforem2/l2hmc-qcd/l2hmc-qcd/utils/file_io.py\"><span style=\"color: #7f7f7f\">file_io.py</span></a><span style=\"color: #7f7f7f\">:184</span>\n",
       "</pre>\n"
      ],
      "text/plain": [
       "<rich.jupyter.JupyterRenderable at 0x7fd334eaa8e0>"
      ]
     },
     "metadata": {},
     "output_type": "display_data"
    },
    {
     "name": "stderr",
     "output_type": "stream",
     "text": [
      "/Users/saforem2/opt/anaconda3/envs/tf2.4/lib/python3.8/site-packages/seaborn/axisgrid.py:64: UserWarning: Tight layout not applied. tight_layout cannot make axes height small enough to accommodate all axes decorations\n",
      "  self.fig.tight_layout(*args, **kwargs)\n",
      "/Users/saforem2/opt/anaconda3/envs/tf2.4/lib/python3.8/site-packages/seaborn/axisgrid.py:64: UserWarning: Tight layout not applied. tight_layout cannot make axes height small enough to accommodate all axes decorations\n",
      "  self.fig.tight_layout(*args, **kwargs)\n"
     ]
    },
    {
     "data": {
      "text/html": [
       "<pre style=\"white-space:pre;overflow-x:auto;line-height:normal;font-family:Menlo,'DejaVu Sans Mono',consolas,'Courier New',monospace\"><span style=\"color: #7fbfbf\">[17:48:02] </span>Saving figure to: <span style=\"color: #800080\">/Users/saforem2/l2hmc-qcd/logs/GaugeModel_logs/test/2021_01/DEBUG_L16_b256_lf5_actswish_bi3_bf3_dp01_sepNets_NCProj-2021-01-26-1725/inference/L16_b256__lf5_eps01-2021-01-26-1745/plots/xarr_plots/ridgeplots/</span><span style=\"color: #ff00ff\">sinQf_ridgeplot.pdf.</span>                               <a href=\"file:///Users/saforem2/l2hmc-qcd/l2hmc-qcd/utils/file_io.py\"><span style=\"color: #7f7f7f\">file_io.py</span></a><span style=\"color: #7f7f7f\">:184</span>\n",
       "</pre>\n"
      ],
      "text/plain": [
       "<rich.jupyter.JupyterRenderable at 0x7fd334e85220>"
      ]
     },
     "metadata": {},
     "output_type": "display_data"
    },
    {
     "name": "stderr",
     "output_type": "stream",
     "text": [
      "/Users/saforem2/opt/anaconda3/envs/tf2.4/lib/python3.8/site-packages/seaborn/axisgrid.py:64: UserWarning: Tight layout not applied. tight_layout cannot make axes height small enough to accommodate all axes decorations\n",
      "  self.fig.tight_layout(*args, **kwargs)\n",
      "/Users/saforem2/opt/anaconda3/envs/tf2.4/lib/python3.8/site-packages/seaborn/axisgrid.py:64: UserWarning: Tight layout not applied. tight_layout cannot make axes height small enough to accommodate all axes decorations\n",
      "  self.fig.tight_layout(*args, **kwargs)\n"
     ]
    },
    {
     "data": {
      "text/html": [
       "<pre style=\"white-space:pre;overflow-x:auto;line-height:normal;font-family:Menlo,'DejaVu Sans Mono',consolas,'Courier New',monospace\"><span style=\"color: #7fbfbf\">[17:48:04] </span>Saving figure to: <span style=\"color: #800080\">/Users/saforem2/l2hmc-qcd/logs/GaugeModel_logs/test/2021_01/DEBUG_L16_b256_lf5_actswish_bi3_bf3_dp01_sepNets_NCProj-2021-01-26-1725/inference/L16_b256__lf5_eps01-2021-01-26-1745/plots/xarr_plots/ridgeplots/</span><span style=\"color: #ff00ff\">sinQb_ridgeplot.pdf.</span>                               <a href=\"file:///Users/saforem2/l2hmc-qcd/l2hmc-qcd/utils/file_io.py\"><span style=\"color: #7f7f7f\">file_io.py</span></a><span style=\"color: #7f7f7f\">:184</span>\n",
       "</pre>\n"
      ],
      "text/plain": [
       "<rich.jupyter.JupyterRenderable at 0x7fd334e85490>"
      ]
     },
     "metadata": {},
     "output_type": "display_data"
    },
    {
     "name": "stderr",
     "output_type": "stream",
     "text": [
      "/Users/saforem2/opt/anaconda3/envs/tf2.4/lib/python3.8/site-packages/seaborn/axisgrid.py:64: UserWarning: Tight layout not applied. tight_layout cannot make axes height small enough to accommodate all axes decorations\n",
      "  self.fig.tight_layout(*args, **kwargs)\n",
      "/Users/saforem2/opt/anaconda3/envs/tf2.4/lib/python3.8/site-packages/seaborn/axisgrid.py:64: UserWarning: Tight layout not applied. tight_layout cannot make axes height small enough to accommodate all axes decorations\n",
      "  self.fig.tight_layout(*args, **kwargs)\n"
     ]
    },
    {
     "data": {
      "text/html": [
       "<pre style=\"white-space:pre;overflow-x:auto;line-height:normal;font-family:Menlo,'DejaVu Sans Mono',consolas,'Courier New',monospace\"><span style=\"color: #7fbfbf\">[17:48:05] </span>Saving figure to: <span style=\"color: #800080\">/Users/saforem2/l2hmc-qcd/logs/GaugeModel_logs/test/2021_01/DEBUG_L16_b256_lf5_actswish_bi3_bf3_dp01_sepNets_NCProj-2021-01-26-1725/inference/L16_b256__lf5_eps01-2021-01-26-1745/plots/xarr_plots/ridgeplots/</span><span style=\"color: #ff00ff\">intQf_ridgeplot.pdf.</span>                               <a href=\"file:///Users/saforem2/l2hmc-qcd/l2hmc-qcd/utils/file_io.py\"><span style=\"color: #7f7f7f\">file_io.py</span></a><span style=\"color: #7f7f7f\">:184</span>\n",
       "</pre>\n"
      ],
      "text/plain": [
       "<rich.jupyter.JupyterRenderable at 0x7fd334fe7e50>"
      ]
     },
     "metadata": {},
     "output_type": "display_data"
    },
    {
     "name": "stderr",
     "output_type": "stream",
     "text": [
      "/Users/saforem2/opt/anaconda3/envs/tf2.4/lib/python3.8/site-packages/seaborn/axisgrid.py:64: UserWarning: Tight layout not applied. tight_layout cannot make axes height small enough to accommodate all axes decorations\n",
      "  self.fig.tight_layout(*args, **kwargs)\n",
      "/Users/saforem2/opt/anaconda3/envs/tf2.4/lib/python3.8/site-packages/seaborn/axisgrid.py:64: UserWarning: Tight layout not applied. tight_layout cannot make axes height small enough to accommodate all axes decorations\n",
      "  self.fig.tight_layout(*args, **kwargs)\n"
     ]
    },
    {
     "data": {
      "text/html": [
       "<pre style=\"white-space:pre;overflow-x:auto;line-height:normal;font-family:Menlo,'DejaVu Sans Mono',consolas,'Courier New',monospace\"><span style=\"color: #7fbfbf\">[17:48:08] </span>Saving figure to: <span style=\"color: #800080\">/Users/saforem2/l2hmc-qcd/logs/GaugeModel_logs/test/2021_01/DEBUG_L16_b256_lf5_actswish_bi3_bf3_dp01_sepNets_NCProj-2021-01-26-1725/inference/L16_b256__lf5_eps01-2021-01-26-1745/plots/xarr_plots/ridgeplots/</span><span style=\"color: #ff00ff\">intQb_ridgeplot.pdf.</span>                               <a href=\"file:///Users/saforem2/l2hmc-qcd/l2hmc-qcd/utils/file_io.py\"><span style=\"color: #7f7f7f\">file_io.py</span></a><span style=\"color: #7f7f7f\">:184</span>\n",
       "</pre>\n"
      ],
      "text/plain": [
       "<rich.jupyter.JupyterRenderable at 0x7fd3554d9070>"
      ]
     },
     "metadata": {},
     "output_type": "display_data"
    },
    {
     "name": "stderr",
     "output_type": "stream",
     "text": [
      "/Users/saforem2/opt/anaconda3/envs/tf2.4/lib/python3.8/site-packages/seaborn/axisgrid.py:64: UserWarning: Tight layout not applied. tight_layout cannot make axes height small enough to accommodate all axes decorations\n",
      "  self.fig.tight_layout(*args, **kwargs)\n",
      "/Users/saforem2/opt/anaconda3/envs/tf2.4/lib/python3.8/site-packages/seaborn/axisgrid.py:64: UserWarning: Tight layout not applied. tight_layout cannot make axes height small enough to accommodate all axes decorations\n",
      "  self.fig.tight_layout(*args, **kwargs)\n"
     ]
    },
    {
     "data": {
      "text/html": [
       "<pre style=\"white-space:pre;overflow-x:auto;line-height:normal;font-family:Menlo,'DejaVu Sans Mono',consolas,'Courier New',monospace\"><span style=\"color: #7fbfbf\">[17:48:09] </span>Saving figure to: <span style=\"color: #800080\">/Users/saforem2/l2hmc-qcd/logs/GaugeModel_logs/test/2021_01/DEBUG_L16_b256_lf5_actswish_bi3_bf3_dp01_sepNets_NCProj-2021-01-26-1725/inference/L16_b256__lf5_eps01-2021-01-26-1745/plots/xarr_plots/ridgeplots/</span><span style=\"color: #ff00ff\">plaqsf_ridgeplot.pdf.</span>                              <a href=\"file:///Users/saforem2/l2hmc-qcd/l2hmc-qcd/utils/file_io.py\"><span style=\"color: #7f7f7f\">file_io.py</span></a><span style=\"color: #7f7f7f\">:184</span>\n",
       "</pre>\n"
      ],
      "text/plain": [
       "<rich.jupyter.JupyterRenderable at 0x7fd31dd1b070>"
      ]
     },
     "metadata": {},
     "output_type": "display_data"
    },
    {
     "name": "stderr",
     "output_type": "stream",
     "text": [
      "/Users/saforem2/opt/anaconda3/envs/tf2.4/lib/python3.8/site-packages/seaborn/axisgrid.py:64: UserWarning: Tight layout not applied. tight_layout cannot make axes height small enough to accommodate all axes decorations\n",
      "  self.fig.tight_layout(*args, **kwargs)\n",
      "/Users/saforem2/opt/anaconda3/envs/tf2.4/lib/python3.8/site-packages/seaborn/axisgrid.py:64: UserWarning: Tight layout not applied. tight_layout cannot make axes height small enough to accommodate all axes decorations\n",
      "  self.fig.tight_layout(*args, **kwargs)\n"
     ]
    },
    {
     "data": {
      "text/html": [
       "<pre style=\"white-space:pre;overflow-x:auto;line-height:normal;font-family:Menlo,'DejaVu Sans Mono',consolas,'Courier New',monospace\"><span style=\"color: #7fbfbf\">[17:48:11] </span>Saving figure to: <span style=\"color: #800080\">/Users/saforem2/l2hmc-qcd/logs/GaugeModel_logs/test/2021_01/DEBUG_L16_b256_lf5_actswish_bi3_bf3_dp01_sepNets_NCProj-2021-01-26-1725/inference/L16_b256__lf5_eps01-2021-01-26-1745/plots/xarr_plots/ridgeplots/</span><span style=\"color: #ff00ff\">plaqsb_ridgeplot.pdf.</span>                              <a href=\"file:///Users/saforem2/l2hmc-qcd/l2hmc-qcd/utils/file_io.py\"><span style=\"color: #7f7f7f\">file_io.py</span></a><span style=\"color: #7f7f7f\">:184</span>\n",
       "</pre>\n"
      ],
      "text/plain": [
       "<rich.jupyter.JupyterRenderable at 0x7fd304aa1550>"
      ]
     },
     "metadata": {},
     "output_type": "display_data"
    },
    {
     "name": "stderr",
     "output_type": "stream",
     "text": [
      "/Users/saforem2/opt/anaconda3/envs/tf2.4/lib/python3.8/site-packages/seaborn/axisgrid.py:64: UserWarning: Tight layout not applied. tight_layout cannot make axes height small enough to accommodate all axes decorations\n",
      "  self.fig.tight_layout(*args, **kwargs)\n",
      "/Users/saforem2/opt/anaconda3/envs/tf2.4/lib/python3.8/site-packages/seaborn/axisgrid.py:64: UserWarning: Tight layout not applied. tight_layout cannot make axes height small enough to accommodate all axes decorations\n",
      "  self.fig.tight_layout(*args, **kwargs)\n"
     ]
    },
    {
     "data": {
      "text/html": [
       "<pre style=\"white-space:pre;overflow-x:auto;line-height:normal;font-family:Menlo,'DejaVu Sans Mono',consolas,'Courier New',monospace\"><span style=\"color: #7fbfbf\">[17:48:12] </span>Saving figure to: <span style=\"color: #800080\">/Users/saforem2/l2hmc-qcd/logs/GaugeModel_logs/test/2021_01/DEBUG_L16_b256_lf5_actswish_bi3_bf3_dp01_sepNets_NCProj-2021-01-26-1725/inference/L16_b256__lf5_eps01-2021-01-26-1745/plots/xarr_plots/ridgeplots/</span><span style=\"color: #ff00ff\">p4x4f_ridgeplot.pdf.</span>                               <a href=\"file:///Users/saforem2/l2hmc-qcd/l2hmc-qcd/utils/file_io.py\"><span style=\"color: #7f7f7f\">file_io.py</span></a><span style=\"color: #7f7f7f\">:184</span>\n",
       "</pre>\n"
      ],
      "text/plain": [
       "<rich.jupyter.JupyterRenderable at 0x7fd305fa5b50>"
      ]
     },
     "metadata": {},
     "output_type": "display_data"
    },
    {
     "name": "stderr",
     "output_type": "stream",
     "text": [
      "/Users/saforem2/opt/anaconda3/envs/tf2.4/lib/python3.8/site-packages/seaborn/axisgrid.py:64: UserWarning: Tight layout not applied. tight_layout cannot make axes height small enough to accommodate all axes decorations\n",
      "  self.fig.tight_layout(*args, **kwargs)\n",
      "/Users/saforem2/opt/anaconda3/envs/tf2.4/lib/python3.8/site-packages/seaborn/axisgrid.py:64: UserWarning: Tight layout not applied. tight_layout cannot make axes height small enough to accommodate all axes decorations\n",
      "  self.fig.tight_layout(*args, **kwargs)\n"
     ]
    },
    {
     "data": {
      "text/html": [
       "<pre style=\"white-space:pre;overflow-x:auto;line-height:normal;font-family:Menlo,'DejaVu Sans Mono',consolas,'Courier New',monospace\"><span style=\"color: #7fbfbf\">[17:48:13] </span>Saving figure to: <span style=\"color: #800080\">/Users/saforem2/l2hmc-qcd/logs/GaugeModel_logs/test/2021_01/DEBUG_L16_b256_lf5_actswish_bi3_bf3_dp01_sepNets_NCProj-2021-01-26-1725/inference/L16_b256__lf5_eps01-2021-01-26-1745/plots/xarr_plots/ridgeplots/</span><span style=\"color: #ff00ff\">p4x4b_ridgeplot.pdf.</span>                               <a href=\"file:///Users/saforem2/l2hmc-qcd/l2hmc-qcd/utils/file_io.py\"><span style=\"color: #7f7f7f\">file_io.py</span></a><span style=\"color: #7f7f7f\">:184</span>\n",
       "</pre>\n"
      ],
      "text/plain": [
       "<rich.jupyter.JupyterRenderable at 0x7fd2f4e2cfd0>"
      ]
     },
     "metadata": {},
     "output_type": "display_data"
    },
    {
     "data": {
      "text/html": [
       "<pre style=\"white-space:pre;overflow-x:auto;line-height:normal;font-family:Menlo,'DejaVu Sans Mono',consolas,'Courier New',monospace\"><span style=\"color: #7fbfbf\">[17:48:14] </span>`make_ridgeplots` took: <span style=\"color: #ff79ff\">2.</span>14e+04ms                                                                                                                                                                                                                                                 <a href=\"file:///Users/saforem2/l2hmc-qcd/l2hmc-qcd/utils/file_io.py\"><span style=\"color: #7f7f7f\">file_io.py</span></a><span style=\"color: #7f7f7f\">:184</span>\n",
       "</pre>\n"
      ],
      "text/plain": [
       "<rich.jupyter.JupyterRenderable at 0x7fd34361d9d0>"
      ]
     },
     "metadata": {},
     "output_type": "display_data"
    },
    {
     "data": {
      "text/html": [
       "<pre style=\"white-space:pre;overflow-x:auto;line-height:normal;font-family:Menlo,'DejaVu Sans Mono',consolas,'Courier New',monospace\"><span style=\"color: #7fbfbf\">           </span>Saving figure to: <span style=\"color: #800080\">/Users/saforem2/l2hmc-qcd/logs/GaugeModel_logs/test/2021_01/DEBUG_L16_b256_lf5_actswish_bi3_bf3_dp01_sepNets_NCProj-2021-01-26-1725/inference/L16_b256__lf5_eps01-2021-01-26-1745/plots/</span><span style=\"color: #ff00ff\">tint_vs_draws.pdf</span>                                                        <a href=\"file:///Users/saforem2/l2hmc-qcd/l2hmc-qcd/utils/file_io.py\"><span style=\"color: #7f7f7f\">file_io.py</span></a><span style=\"color: #7f7f7f\">:184</span>\n",
       "</pre>\n"
      ],
      "text/plain": [
       "<rich.jupyter.JupyterRenderable at 0x7fd31d697d30>"
      ]
     },
     "metadata": {},
     "output_type": "display_data"
    },
    {
     "data": {
      "text/html": [
       "<pre style=\"white-space:pre;overflow-x:auto;line-height:normal;font-family:Menlo,'DejaVu Sans Mono',consolas,'Courier New',monospace\"><span style=\"color: #7fbfbf\">[17:48:15] </span>Saving figure to: <span style=\"color: #800080\">/Users/saforem2/l2hmc-qcd/logs/GaugeModel_logs/test/2021_01/DEBUG_L16_b256_lf5_actswish_bi3_bf3_dp01_sepNets_NCProj-2021-01-26-1725/inference/L16_b256__lf5_eps01-2021-01-26-1745/plots/</span><span style=\"color: #ff00ff\">energy_dists_traj.pdf.</span>                                                   <a href=\"file:///Users/saforem2/l2hmc-qcd/l2hmc-qcd/utils/file_io.py\"><span style=\"color: #7f7f7f\">file_io.py</span></a><span style=\"color: #7f7f7f\">:184</span>\n",
       "</pre>\n"
      ],
      "text/plain": [
       "<rich.jupyter.JupyterRenderable at 0x7fd3352cff70>"
      ]
     },
     "metadata": {},
     "output_type": "display_data"
    },
    {
     "data": {
      "text/html": [
       "<pre style=\"white-space:pre;overflow-x:auto;line-height:normal;font-family:Menlo,'DejaVu Sans Mono',consolas,'Courier New',monospace\"><span style=\"color: #7fbfbf\">[17:48:16] </span>`savefig` took: 751ms                                                                                                                                                                                                                                                              <a href=\"file:///Users/saforem2/l2hmc-qcd/l2hmc-qcd/utils/file_io.py\"><span style=\"color: #7f7f7f\">file_io.py</span></a><span style=\"color: #7f7f7f\">:184</span>\n",
       "</pre>\n"
      ],
      "text/plain": [
       "<rich.jupyter.JupyterRenderable at 0x7fd30620cc70>"
      ]
     },
     "metadata": {},
     "output_type": "display_data"
    },
    {
     "data": {
      "text/html": [
       "<pre style=\"white-space:pre;overflow-x:auto;line-height:normal;font-family:Menlo,'DejaVu Sans Mono',consolas,'Courier New',monospace\"><span style=\"color: #7fbfbf\">           </span>`plot_energy_distributions` took: <span style=\"color: #ff79ff\">1.</span>43e+03ms                                                                                                                                                                                                                                       <a href=\"file:///Users/saforem2/l2hmc-qcd/l2hmc-qcd/utils/file_io.py\"><span style=\"color: #7f7f7f\">file_io.py</span></a><span style=\"color: #7f7f7f\">:184</span>\n",
       "</pre>\n"
      ],
      "text/plain": [
       "<rich.jupyter.JupyterRenderable at 0x7fd2f3c98910>"
      ]
     },
     "metadata": {},
     "output_type": "display_data"
    },
    {
     "data": {
      "text/html": [
       "<pre style=\"white-space:pre;overflow-x:auto;line-height:normal;font-family:Menlo,'DejaVu Sans Mono',consolas,'Courier New',monospace\"><span style=\"color: #7fbfbf\">           </span>Creating directory: <span style=\"color: #800080\">/Users/saforem2/l2hmc-qcd/logs/GaugeModel_logs/test/2021_01/DEBUG_L16_b256_lf5_actswish_bi3_bf3_dp01_sepNets_NCProj-2021-01-26-1725/inference/L16_b256__lf5_eps01-2021-01-26-1745/plots/</span><span style=\"color: #ff00ff\">avg_lineplots</span>                                                          <a href=\"file:///Users/saforem2/l2hmc-qcd/l2hmc-qcd/utils/file_io.py\"><span style=\"color: #7f7f7f\">file_io.py</span></a><span style=\"color: #7f7f7f\">:184</span>\n",
       "</pre>\n"
      ],
      "text/plain": [
       "<rich.jupyter.JupyterRenderable at 0x7fd31d87df40>"
      ]
     },
     "metadata": {},
     "output_type": "display_data"
    },
    {
     "data": {
      "text/html": [
       "<pre style=\"white-space:pre;overflow-x:auto;line-height:normal;font-family:Menlo,'DejaVu Sans Mono',consolas,'Courier New',monospace\"><span style=\"color: #7fbfbf\">           </span>Saving figure to: <span style=\"color: #800080\">/Users/saforem2/l2hmc-qcd/logs/GaugeModel_logs/test/2021_01/DEBUG_L16_b256_lf5_actswish_bi3_bf3_dp01_sepNets_NCProj-2021-01-26-1725/inference/L16_b256__lf5_eps01-2021-01-26-1745/plots/avg_lineplots/</span><span style=\"color: #ff00ff\">loss_avg.pdf.</span>                                              <a href=\"file:///Users/saforem2/l2hmc-qcd/l2hmc-qcd/utils/file_io.py\"><span style=\"color: #7f7f7f\">file_io.py</span></a><span style=\"color: #7f7f7f\">:184</span>\n",
       "</pre>\n"
      ],
      "text/plain": [
       "<rich.jupyter.JupyterRenderable at 0x7fd35342c460>"
      ]
     },
     "metadata": {},
     "output_type": "display_data"
    },
    {
     "data": {
      "text/html": [
       "<pre style=\"white-space:pre;overflow-x:auto;line-height:normal;font-family:Menlo,'DejaVu Sans Mono',consolas,'Courier New',monospace\"><span style=\"color: #7fbfbf\">[17:48:17] </span>`savefig` took: 697ms                                                                                                                                                                                                                                                              <a href=\"file:///Users/saforem2/l2hmc-qcd/l2hmc-qcd/utils/file_io.py\"><span style=\"color: #7f7f7f\">file_io.py</span></a><span style=\"color: #7f7f7f\">:184</span>\n",
       "</pre>\n"
      ],
      "text/plain": [
       "<rich.jupyter.JupyterRenderable at 0x7fd30520cc10>"
      ]
     },
     "metadata": {},
     "output_type": "display_data"
    },
    {
     "data": {
      "text/html": [
       "<pre style=\"white-space:pre;overflow-x:auto;line-height:normal;font-family:Menlo,'DejaVu Sans Mono',consolas,'Courier New',monospace\"><span style=\"color: #7fbfbf\">           </span>Saving figure to: <span style=\"color: #800080\">/Users/saforem2/l2hmc-qcd/logs/GaugeModel_logs/test/2021_01/DEBUG_L16_b256_lf5_actswish_bi3_bf3_dp01_sepNets_NCProj-2021-01-26-1725/inference/L16_b256__lf5_eps01-2021-01-26-1745/plots/avg_lineplots/</span><span style=\"color: #ff00ff\">accept_prob_avg.pdf.</span>                                       <a href=\"file:///Users/saforem2/l2hmc-qcd/l2hmc-qcd/utils/file_io.py\"><span style=\"color: #7f7f7f\">file_io.py</span></a><span style=\"color: #7f7f7f\">:184</span>\n",
       "</pre>\n"
      ],
      "text/plain": [
       "<rich.jupyter.JupyterRenderable at 0x7fd353b3d550>"
      ]
     },
     "metadata": {},
     "output_type": "display_data"
    },
    {
     "data": {
      "text/html": [
       "<pre style=\"white-space:pre;overflow-x:auto;line-height:normal;font-family:Menlo,'DejaVu Sans Mono',consolas,'Courier New',monospace\"><span style=\"color: #7fbfbf\">[17:48:18] </span>`savefig` took: 617ms                                                                                                                                                                                                                                                              <a href=\"file:///Users/saforem2/l2hmc-qcd/l2hmc-qcd/utils/file_io.py\"><span style=\"color: #7f7f7f\">file_io.py</span></a><span style=\"color: #7f7f7f\">:184</span>\n",
       "</pre>\n"
      ],
      "text/plain": [
       "<rich.jupyter.JupyterRenderable at 0x7fd31b558970>"
      ]
     },
     "metadata": {},
     "output_type": "display_data"
    },
    {
     "data": {
      "text/html": [
       "<pre style=\"white-space:pre;overflow-x:auto;line-height:normal;font-family:Menlo,'DejaVu Sans Mono',consolas,'Courier New',monospace\"><span style=\"color: #7fbfbf\">           </span>Saving figure to: <span style=\"color: #800080\">/Users/saforem2/l2hmc-qcd/logs/GaugeModel_logs/test/2021_01/DEBUG_L16_b256_lf5_actswish_bi3_bf3_dp01_sepNets_NCProj-2021-01-26-1725/inference/L16_b256__lf5_eps01-2021-01-26-1745/plots/avg_lineplots/</span><span style=\"color: #ff00ff\">Hwf_avg.pdf.</span>                                               <a href=\"file:///Users/saforem2/l2hmc-qcd/l2hmc-qcd/utils/file_io.py\"><span style=\"color: #7f7f7f\">file_io.py</span></a><span style=\"color: #7f7f7f\">:184</span>\n",
       "</pre>\n"
      ],
      "text/plain": [
       "<rich.jupyter.JupyterRenderable at 0x7fd2e4001c10>"
      ]
     },
     "metadata": {},
     "output_type": "display_data"
    },
    {
     "data": {
      "text/html": [
       "<pre style=\"white-space:pre;overflow-x:auto;line-height:normal;font-family:Menlo,'DejaVu Sans Mono',consolas,'Courier New',monospace\"><span style=\"color: #7fbfbf\">           </span>`savefig` took: 681ms                                                                                                                                                                                                                                                              <a href=\"file:///Users/saforem2/l2hmc-qcd/l2hmc-qcd/utils/file_io.py\"><span style=\"color: #7f7f7f\">file_io.py</span></a><span style=\"color: #7f7f7f\">:184</span>\n",
       "</pre>\n"
      ],
      "text/plain": [
       "<rich.jupyter.JupyterRenderable at 0x7fd342794040>"
      ]
     },
     "metadata": {},
     "output_type": "display_data"
    },
    {
     "data": {
      "text/html": [
       "<pre style=\"white-space:pre;overflow-x:auto;line-height:normal;font-family:Menlo,'DejaVu Sans Mono',consolas,'Courier New',monospace\"><span style=\"color: #7fbfbf\">[17:48:19] </span>Saving figure to: <span style=\"color: #800080\">/Users/saforem2/l2hmc-qcd/logs/GaugeModel_logs/test/2021_01/DEBUG_L16_b256_lf5_actswish_bi3_bf3_dp01_sepNets_NCProj-2021-01-26-1725/inference/L16_b256__lf5_eps01-2021-01-26-1745/plots/avg_lineplots/</span><span style=\"color: #ff00ff\">Hwb_avg.pdf.</span>                                               <a href=\"file:///Users/saforem2/l2hmc-qcd/l2hmc-qcd/utils/file_io.py\"><span style=\"color: #7f7f7f\">file_io.py</span></a><span style=\"color: #7f7f7f\">:184</span>\n",
       "</pre>\n"
      ],
      "text/plain": [
       "<rich.jupyter.JupyterRenderable at 0x7fd322aa2370>"
      ]
     },
     "metadata": {},
     "output_type": "display_data"
    },
    {
     "data": {
      "text/html": [
       "<pre style=\"white-space:pre;overflow-x:auto;line-height:normal;font-family:Menlo,'DejaVu Sans Mono',consolas,'Courier New',monospace\"><span style=\"color: #7fbfbf\">           </span>`savefig` took: 659ms                                                                                                                                                                                                                                                              <a href=\"file:///Users/saforem2/l2hmc-qcd/l2hmc-qcd/utils/file_io.py\"><span style=\"color: #7f7f7f\">file_io.py</span></a><span style=\"color: #7f7f7f\">:184</span>\n",
       "</pre>\n"
      ],
      "text/plain": [
       "<rich.jupyter.JupyterRenderable at 0x7fd303ae52b0>"
      ]
     },
     "metadata": {},
     "output_type": "display_data"
    },
    {
     "data": {
      "text/html": [
       "<pre style=\"white-space:pre;overflow-x:auto;line-height:normal;font-family:Menlo,'DejaVu Sans Mono',consolas,'Courier New',monospace\"><span style=\"color: #7fbfbf\">[17:48:20] </span>Saving figure to: <span style=\"color: #800080\">/Users/saforem2/l2hmc-qcd/logs/GaugeModel_logs/test/2021_01/DEBUG_L16_b256_lf5_actswish_bi3_bf3_dp01_sepNets_NCProj-2021-01-26-1725/inference/L16_b256__lf5_eps01-2021-01-26-1745/plots/avg_lineplots/</span><span style=\"color: #ff00ff\">p4x4f_avg.pdf.</span>                                             <a href=\"file:///Users/saforem2/l2hmc-qcd/l2hmc-qcd/utils/file_io.py\"><span style=\"color: #7f7f7f\">file_io.py</span></a><span style=\"color: #7f7f7f\">:184</span>\n",
       "</pre>\n"
      ],
      "text/plain": [
       "<rich.jupyter.JupyterRenderable at 0x7fd342599430>"
      ]
     },
     "metadata": {},
     "output_type": "display_data"
    },
    {
     "data": {
      "text/html": [
       "<pre style=\"white-space:pre;overflow-x:auto;line-height:normal;font-family:Menlo,'DejaVu Sans Mono',consolas,'Courier New',monospace\"><span style=\"color: #7fbfbf\">           </span>`savefig` took: 636ms                                                                                                                                                                                                                                                              <a href=\"file:///Users/saforem2/l2hmc-qcd/l2hmc-qcd/utils/file_io.py\"><span style=\"color: #7f7f7f\">file_io.py</span></a><span style=\"color: #7f7f7f\">:184</span>\n",
       "</pre>\n"
      ],
      "text/plain": [
       "<rich.jupyter.JupyterRenderable at 0x7fd303774be0>"
      ]
     },
     "metadata": {},
     "output_type": "display_data"
    },
    {
     "data": {
      "text/html": [
       "<pre style=\"white-space:pre;overflow-x:auto;line-height:normal;font-family:Menlo,'DejaVu Sans Mono',consolas,'Courier New',monospace\"><span style=\"color: #7fbfbf\">           </span>Saving figure to: <span style=\"color: #800080\">/Users/saforem2/l2hmc-qcd/logs/GaugeModel_logs/test/2021_01/DEBUG_L16_b256_lf5_actswish_bi3_bf3_dp01_sepNets_NCProj-2021-01-26-1725/inference/L16_b256__lf5_eps01-2021-01-26-1745/plots/avg_lineplots/</span><span style=\"color: #ff00ff\">p4x4b_avg.pdf.</span>                                             <a href=\"file:///Users/saforem2/l2hmc-qcd/l2hmc-qcd/utils/file_io.py\"><span style=\"color: #7f7f7f\">file_io.py</span></a><span style=\"color: #7f7f7f\">:184</span>\n",
       "</pre>\n"
      ],
      "text/plain": [
       "<rich.jupyter.JupyterRenderable at 0x7fd303779b50>"
      ]
     },
     "metadata": {},
     "output_type": "display_data"
    },
    {
     "data": {
      "text/html": [
       "<pre style=\"white-space:pre;overflow-x:auto;line-height:normal;font-family:Menlo,'DejaVu Sans Mono',consolas,'Courier New',monospace\"><span style=\"color: #7fbfbf\">[17:48:21] </span>`savefig` took: 641ms                                                                                                                                                                                                                                                              <a href=\"file:///Users/saforem2/l2hmc-qcd/l2hmc-qcd/utils/file_io.py\"><span style=\"color: #7f7f7f\">file_io.py</span></a><span style=\"color: #7f7f7f\">:184</span>\n",
       "</pre>\n"
      ],
      "text/plain": [
       "<rich.jupyter.JupyterRenderable at 0x7fd335263310>"
      ]
     },
     "metadata": {},
     "output_type": "display_data"
    },
    {
     "data": {
      "text/html": [
       "<pre style=\"white-space:pre;overflow-x:auto;line-height:normal;font-family:Menlo,'DejaVu Sans Mono',consolas,'Courier New',monospace\"><span style=\"color: #7fbfbf\">           </span>Saving figure to: <span style=\"color: #800080\">/Users/saforem2/l2hmc-qcd/logs/GaugeModel_logs/test/2021_01/DEBUG_L16_b256_lf5_actswish_bi3_bf3_dp01_sepNets_NCProj-2021-01-26-1725/inference/L16_b256__lf5_eps01-2021-01-26-1745/plots/avg_lineplots/</span><span style=\"color: #ff00ff\">dq_int_avg.pdf.</span>                                            <a href=\"file:///Users/saforem2/l2hmc-qcd/l2hmc-qcd/utils/file_io.py\"><span style=\"color: #7f7f7f\">file_io.py</span></a><span style=\"color: #7f7f7f\">:184</span>\n",
       "</pre>\n"
      ],
      "text/plain": [
       "<rich.jupyter.JupyterRenderable at 0x7fd31d85e190>"
      ]
     },
     "metadata": {},
     "output_type": "display_data"
    },
    {
     "data": {
      "text/html": [
       "<pre style=\"white-space:pre;overflow-x:auto;line-height:normal;font-family:Menlo,'DejaVu Sans Mono',consolas,'Courier New',monospace\"><span style=\"color: #7fbfbf\">[17:48:22] </span>`savefig` took: 625ms                                                                                                                                                                                                                                                              <a href=\"file:///Users/saforem2/l2hmc-qcd/l2hmc-qcd/utils/file_io.py\"><span style=\"color: #7f7f7f\">file_io.py</span></a><span style=\"color: #7f7f7f\">:184</span>\n",
       "</pre>\n"
      ],
      "text/plain": [
       "<rich.jupyter.JupyterRenderable at 0x7fd2e3d5a250>"
      ]
     },
     "metadata": {},
     "output_type": "display_data"
    },
    {
     "data": {
      "text/html": [
       "<pre style=\"white-space:pre;overflow-x:auto;line-height:normal;font-family:Menlo,'DejaVu Sans Mono',consolas,'Courier New',monospace\"><span style=\"color: #7fbfbf\">           </span>Saving figure to: <span style=\"color: #800080\">/Users/saforem2/l2hmc-qcd/logs/GaugeModel_logs/test/2021_01/DEBUG_L16_b256_lf5_actswish_bi3_bf3_dp01_sepNets_NCProj-2021-01-26-1725/inference/L16_b256__lf5_eps01-2021-01-26-1745/plots/avg_lineplots/</span><span style=\"color: #ff00ff\">dq_sin_avg.pdf.</span>                                            <a href=\"file:///Users/saforem2/l2hmc-qcd/l2hmc-qcd/utils/file_io.py\"><span style=\"color: #7f7f7f\">file_io.py</span></a><span style=\"color: #7f7f7f\">:184</span>\n",
       "</pre>\n"
      ],
      "text/plain": [
       "<rich.jupyter.JupyterRenderable at 0x7fd2e4156b50>"
      ]
     },
     "metadata": {},
     "output_type": "display_data"
    },
    {
     "data": {
      "text/html": [
       "<pre style=\"white-space:pre;overflow-x:auto;line-height:normal;font-family:Menlo,'DejaVu Sans Mono',consolas,'Courier New',monospace\"><span style=\"color: #7fbfbf\">[17:48:23] </span>`savefig` took: 639ms                                                                                                                                                                                                                                                              <a href=\"file:///Users/saforem2/l2hmc-qcd/l2hmc-qcd/utils/file_io.py\"><span style=\"color: #7f7f7f\">file_io.py</span></a><span style=\"color: #7f7f7f\">:184</span>\n",
       "</pre>\n"
      ],
      "text/plain": [
       "<rich.jupyter.JupyterRenderable at 0x7fd2f4c9ff40>"
      ]
     },
     "metadata": {},
     "output_type": "display_data"
    },
    {
     "data": {
      "text/html": [
       "<pre style=\"white-space:pre;overflow-x:auto;line-height:normal;font-family:Menlo,'DejaVu Sans Mono',consolas,'Courier New',monospace\"><span style=\"color: #7fbfbf\">           </span>Saving figure to: <span style=\"color: #800080\">/Users/saforem2/l2hmc-qcd/logs/GaugeModel_logs/test/2021_01/DEBUG_L16_b256_lf5_actswish_bi3_bf3_dp01_sepNets_NCProj-2021-01-26-1725/inference/L16_b256__lf5_eps01-2021-01-26-1745/plots/avg_lineplots/</span><span style=\"color: #ff00ff\">charges_avg.pdf.</span>                                           <a href=\"file:///Users/saforem2/l2hmc-qcd/l2hmc-qcd/utils/file_io.py\"><span style=\"color: #7f7f7f\">file_io.py</span></a><span style=\"color: #7f7f7f\">:184</span>\n",
       "</pre>\n"
      ],
      "text/plain": [
       "<rich.jupyter.JupyterRenderable at 0x7fd3427df2e0>"
      ]
     },
     "metadata": {},
     "output_type": "display_data"
    },
    {
     "data": {
      "text/html": [
       "<pre style=\"white-space:pre;overflow-x:auto;line-height:normal;font-family:Menlo,'DejaVu Sans Mono',consolas,'Courier New',monospace\"><span style=\"color: #7fbfbf\">           </span>`savefig` took: 626ms                                                                                                                                                                                                                                                              <a href=\"file:///Users/saforem2/l2hmc-qcd/l2hmc-qcd/utils/file_io.py\"><span style=\"color: #7f7f7f\">file_io.py</span></a><span style=\"color: #7f7f7f\">:184</span>\n",
       "</pre>\n"
      ],
      "text/plain": [
       "<rich.jupyter.JupyterRenderable at 0x7fd32325bdf0>"
      ]
     },
     "metadata": {},
     "output_type": "display_data"
    },
    {
     "data": {
      "text/html": [
       "<pre style=\"white-space:pre;overflow-x:auto;line-height:normal;font-family:Menlo,'DejaVu Sans Mono',consolas,'Courier New',monospace\"><span style=\"color: #7fbfbf\">           </span>Saving figure to: <span style=\"color: #800080\">/Users/saforem2/l2hmc-qcd/logs/GaugeModel_logs/test/2021_01/DEBUG_L16_b256_lf5_actswish_bi3_bf3_dp01_sepNets_NCProj-2021-01-26-1725/inference/L16_b256__lf5_eps01-2021-01-26-1745/plots/avg_lineplots/</span><span style=\"color: #ff00ff\">plaqs_avg.pdf.</span>                                             <a href=\"file:///Users/saforem2/l2hmc-qcd/l2hmc-qcd/utils/file_io.py\"><span style=\"color: #7f7f7f\">file_io.py</span></a><span style=\"color: #7f7f7f\">:184</span>\n",
       "</pre>\n"
      ],
      "text/plain": [
       "<rich.jupyter.JupyterRenderable at 0x7fd2f47b5e50>"
      ]
     },
     "metadata": {},
     "output_type": "display_data"
    },
    {
     "data": {
      "text/html": [
       "<pre style=\"white-space:pre;overflow-x:auto;line-height:normal;font-family:Menlo,'DejaVu Sans Mono',consolas,'Courier New',monospace\"><span style=\"color: #7fbfbf\">[17:48:24] </span>`savefig` took: 638ms                                                                                                                                                                                                                                                              <a href=\"file:///Users/saforem2/l2hmc-qcd/l2hmc-qcd/utils/file_io.py\"><span style=\"color: #7f7f7f\">file_io.py</span></a><span style=\"color: #7f7f7f\">:184</span>\n",
       "</pre>\n"
      ],
      "text/plain": [
       "<rich.jupyter.JupyterRenderable at 0x7fd32325bdf0>"
      ]
     },
     "metadata": {},
     "output_type": "display_data"
    },
    {
     "data": {
      "text/html": [
       "<pre style=\"white-space:pre;overflow-x:auto;line-height:normal;font-family:Menlo,'DejaVu Sans Mono',consolas,'Courier New',monospace\"><span style=\"color: #7fbfbf\">           </span>Saving figure to: <span style=\"color: #800080\">/Users/saforem2/l2hmc-qcd/logs/GaugeModel_logs/test/2021_01/DEBUG_L16_b256_lf5_actswish_bi3_bf3_dp01_sepNets_NCProj-2021-01-26-1725/inference/L16_b256__lf5_eps01-2021-01-26-1745/plots/avg_lineplots/</span><span style=\"color: #ff00ff\">p4x4_avg.pdf.</span>                                              <a href=\"file:///Users/saforem2/l2hmc-qcd/l2hmc-qcd/utils/file_io.py\"><span style=\"color: #7f7f7f\">file_io.py</span></a><span style=\"color: #7f7f7f\">:184</span>\n",
       "</pre>\n"
      ],
      "text/plain": [
       "<rich.jupyter.JupyterRenderable at 0x7fd2f4860730>"
      ]
     },
     "metadata": {},
     "output_type": "display_data"
    },
    {
     "data": {
      "text/html": [
       "<pre style=\"white-space:pre;overflow-x:auto;line-height:normal;font-family:Menlo,'DejaVu Sans Mono',consolas,'Courier New',monospace\"><span style=\"color: #7fbfbf\">[17:48:25] </span>`savefig` took: 646ms                                                                                                                                                                                                                                                              <a href=\"file:///Users/saforem2/l2hmc-qcd/l2hmc-qcd/utils/file_io.py\"><span style=\"color: #7f7f7f\">file_io.py</span></a><span style=\"color: #7f7f7f\">:184</span>\n",
       "</pre>\n"
      ],
      "text/plain": [
       "<rich.jupyter.JupyterRenderable at 0x7fd3432def40>"
      ]
     },
     "metadata": {},
     "output_type": "display_data"
    },
    {
     "data": {
      "text/html": [
       "<pre style=\"white-space:pre;overflow-x:auto;line-height:normal;font-family:Menlo,'DejaVu Sans Mono',consolas,'Courier New',monospace\"><span style=\"color: #7fbfbf\">           </span>`mcmc_avg_lineplots` took: <span style=\"color: #ff79ff\">8.</span>83e+03ms                                                                                                                                                                                                                                              <a href=\"file:///Users/saforem2/l2hmc-qcd/l2hmc-qcd/utils/file_io.py\"><span style=\"color: #7f7f7f\">file_io.py</span></a><span style=\"color: #7f7f7f\">:184</span>\n",
       "</pre>\n"
      ],
      "text/plain": [
       "<rich.jupyter.JupyterRenderable at 0x7fd2f2aa5b80>"
      ]
     },
     "metadata": {},
     "output_type": "display_data"
    },
    {
     "data": {
      "text/html": [
       "<pre style=\"white-space:pre;overflow-x:auto;line-height:normal;font-family:Menlo,'DejaVu Sans Mono',consolas,'Courier New',monospace\"><span style=\"color: #7fbfbf\">           </span>Saving figure to: <span style=\"color: #800080\">/Users/saforem2/l2hmc-qcd/logs/GaugeModel_logs/test/2021_01/DEBUG_L16_b256_lf5_actswish_bi3_bf3_dp01_sepNets_NCProj-2021-01-26-1725/inference/L16_b256__lf5_eps01-2021-01-26-1745/plots/</span><span style=\"color: #ff00ff\">charge_chains.pdf.</span>                                                       <a href=\"file:///Users/saforem2/l2hmc-qcd/l2hmc-qcd/utils/file_io.py\"><span style=\"color: #7f7f7f\">file_io.py</span></a><span style=\"color: #7f7f7f\">:184</span>\n",
       "</pre>\n"
      ],
      "text/plain": [
       "<rich.jupyter.JupyterRenderable at 0x7fd2f2a60070>"
      ]
     },
     "metadata": {},
     "output_type": "display_data"
    },
    {
     "data": {
      "text/html": [
       "<pre style=\"white-space:pre;overflow-x:auto;line-height:normal;font-family:Menlo,'DejaVu Sans Mono',consolas,'Courier New',monospace\"><span style=\"color: #7fbfbf\">           </span>`savefig` took: 362ms                                                                                                                                                                                                                                                              <a href=\"file:///Users/saforem2/l2hmc-qcd/l2hmc-qcd/utils/file_io.py\"><span style=\"color: #7f7f7f\">file_io.py</span></a><span style=\"color: #7f7f7f\">:184</span>\n",
       "</pre>\n"
      ],
      "text/plain": [
       "<rich.jupyter.JupyterRenderable at 0x7fd32400f220>"
      ]
     },
     "metadata": {},
     "output_type": "display_data"
    },
    {
     "data": {
      "text/html": [
       "<pre style=\"white-space:pre;overflow-x:auto;line-height:normal;font-family:Menlo,'DejaVu Sans Mono',consolas,'Courier New',monospace\"><span style=\"color: #7fbfbf\">           </span>`plot_charges` took: 400ms                                                                                                                                                                                                                                                         <a href=\"file:///Users/saforem2/l2hmc-qcd/l2hmc-qcd/utils/file_io.py\"><span style=\"color: #7f7f7f\">file_io.py</span></a><span style=\"color: #7f7f7f\">:184</span>\n",
       "</pre>\n"
      ],
      "text/plain": [
       "<rich.jupyter.JupyterRenderable at 0x7fd344af1280>"
      ]
     },
     "metadata": {},
     "output_type": "display_data"
    },
    {
     "data": {
      "text/html": [
       "<pre style=\"white-space:pre;overflow-x:auto;line-height:normal;font-family:Menlo,'DejaVu Sans Mono',consolas,'Courier New',monospace\"><span style=\"color: #7fbfbf\">           </span>`plot_data` took: <span style=\"color: #ff79ff\">5.</span>6e+04ms                                                                                                                                                                                                                                                        <a href=\"file:///Users/saforem2/l2hmc-qcd/l2hmc-qcd/utils/file_io.py\"><span style=\"color: #7f7f7f\">file_io.py</span></a><span style=\"color: #7f7f7f\">:184</span>\n",
       "</pre>\n"
      ],
      "text/plain": [
       "<rich.jupyter.JupyterRenderable at 0x7fd2f28f0f70>"
      ]
     },
     "metadata": {},
     "output_type": "display_data"
    },
    {
     "data": {
      "text/html": [
       "<pre style=\"white-space:pre;overflow-x:auto;line-height:normal;font-family:Menlo,'DejaVu Sans Mono',consolas,'Courier New',monospace\"><span style=\"color: #7fbfbf\">           </span>Saving tint_data to <span style=\"color: #800080\">/Users/saforem2/l2hmc-qcd/logs/GaugeModel_logs/test/2021_01/DEBUG_L16_b256_lf5_actswish_bi3_bf3_dp01_sepNets_NCProj-2021-01-26-1725/inference/L16_b256__lf5_eps01-2021-01-26-1745/</span><span style=\"color: #ff00ff\">tint_data.z.</span>                                                                 <a href=\"file:///Users/saforem2/l2hmc-qcd/l2hmc-qcd/utils/file_io.py\"><span style=\"color: #7f7f7f\">file_io.py</span></a><span style=\"color: #7f7f7f\">:363</span>\n",
       "</pre>\n"
      ],
      "text/plain": [
       "<rich.jupyter.JupyterRenderable at 0x7fd32400f220>"
      ]
     },
     "metadata": {},
     "output_type": "display_data"
    }
   ],
   "source": [
    "from utils.inference_utils import run as run_inference\n",
    "\n",
    "if configs.get('run_steps', None) > 0:\n",
    "    log_dir = configs.log_dir\n",
    "    beta = configs.get('beta_final', None)\n",
    "    inference_results = run_inference(dynamics=dynamics,\n",
    "                                      x=x,\n",
    "                                      args=configs, \n",
    "                                      beta=beta,\n",
    "                                      make_plots=True,\n",
    "                                      therm_frac=0.2,\n",
    "                                      num_chains=num_chains_to_plot,\n",
    "                                      console=console,\n",
    "                                      save_x=False)"
   ]
  },
  {
   "cell_type": "markdown",
   "metadata": {},
   "source": [
    "![charge_chains]('/Users/saforem2/l2hmc-qcd/logs/GaugeModel_logs/test/2021_01/DEBUG_L16_b256_lf5_actswish_bi3_bf3_dp01_sepNets_NCProj-2021-01-26-1725/inference/L16_b256__lf5_eps01-2021-01-26-1745/plots/charge_chains.png')"
   ]
  },
  {
   "cell_type": "code",
   "execution_count": 9,
   "metadata": {
    "ExecuteTime": {
     "end_time": "2021-01-27T18:42:21.804833Z",
     "start_time": "2021-01-27T18:42:21.775634Z"
    }
   },
   "outputs": [
    {
     "data": {
      "text/plain": [
       "'/Users/saforem2/l2hmc-qcd/logs/GaugeModel_logs/test/2021_01/DEBUG_L16_b256_lf5_actswish_bi3_bf3_dp01_sepNets_NCProj-2021-01-26-1725/inference/L16_b256__lf5_eps01-2021-01-26-1745/plots/charge_chains.png'"
      ]
     },
     "execution_count": 9,
     "metadata": {},
     "output_type": "execute_result"
    }
   ],
   "source": [
    "png_dir = os.path.abspath('/Users/saforem2/l2hmc-qcd/logs/GaugeModel_logs/test/2021_01/DEBUG_L16_b256_lf5_actswish_bi3_bf3_dp01_sepNets_NCProj-2021-01-26-1725/inference/L16_b256__lf5_eps01-2021-01-26-1745/plots')\n",
    "png_file = os.path.join(png_dir, 'charge_chains.png')\n",
    "png_file"
   ]
  },
  {
   "cell_type": "markdown",
   "metadata": {},
   "source": [
    "![img]('/Users/saforem2/l2hmc-qcd/logs/GaugeModel_logs/test/2021_01/DEBUG_L16_b256_lf5_actswish_bi3_bf3_dp01_sepNets_NCProj-2021-01-26-1725/inference/L16_b256__lf5_eps01-2021-01-26-1745/plots/charge_chains.png')"
   ]
  },
  {
   "cell_type": "code",
   "execution_count": 6,
   "metadata": {
    "ExecuteTime": {
     "end_time": "2021-01-27T18:39:00.864126Z",
     "start_time": "2021-01-27T18:39:00.628532Z"
    }
   },
   "outputs": [
    {
     "ename": "TypeError",
     "evalue": "Image data of dtype <U201 cannot be converted to float",
     "output_type": "error",
     "traceback": [
      "\u001b[0;31m---------------------------------------------------------------------------\u001b[0m",
      "\u001b[0;31mTypeError\u001b[0m                                 Traceback (most recent call last)",
      "\u001b[0;32m<ipython-input-6-2daef31ad592>\u001b[0m in \u001b[0;36m<module>\u001b[0;34m\u001b[0m\n\u001b[0;32m----> 1\u001b[0;31m \u001b[0mplt\u001b[0m\u001b[0;34m.\u001b[0m\u001b[0mimshow\u001b[0m\u001b[0;34m(\u001b[0m\u001b[0;34m'/Users/saforem2/l2hmc-qcd/logs/GaugeModel_logs/test/2021_01/DEBUG_L16_b256_lf5_actswish_bi3_bf3_dp01_sepNets_NCProj-2021-01-26-1725/inference/L16_b256__lf5_eps01-2021-01-26-1745/plots/charge_chains.png'\u001b[0m\u001b[0;34m)\u001b[0m\u001b[0;34m\u001b[0m\u001b[0;34m\u001b[0m\u001b[0m\n\u001b[0m",
      "\u001b[0;32m~/opt/anaconda3/envs/tf2.4/lib/python3.8/site-packages/matplotlib/pyplot.py\u001b[0m in \u001b[0;36mimshow\u001b[0;34m(X, cmap, norm, aspect, interpolation, alpha, vmin, vmax, origin, extent, filternorm, filterrad, resample, url, data, **kwargs)\u001b[0m\n\u001b[1;32m   2706\u001b[0m         \u001b[0mfilternorm\u001b[0m\u001b[0;34m=\u001b[0m\u001b[0;32mTrue\u001b[0m\u001b[0;34m,\u001b[0m \u001b[0mfilterrad\u001b[0m\u001b[0;34m=\u001b[0m\u001b[0;36m4.0\u001b[0m\u001b[0;34m,\u001b[0m \u001b[0mresample\u001b[0m\u001b[0;34m=\u001b[0m\u001b[0;32mNone\u001b[0m\u001b[0;34m,\u001b[0m \u001b[0murl\u001b[0m\u001b[0;34m=\u001b[0m\u001b[0;32mNone\u001b[0m\u001b[0;34m,\u001b[0m\u001b[0;34m\u001b[0m\u001b[0;34m\u001b[0m\u001b[0m\n\u001b[1;32m   2707\u001b[0m         data=None, **kwargs):\n\u001b[0;32m-> 2708\u001b[0;31m     __ret = gca().imshow(\n\u001b[0m\u001b[1;32m   2709\u001b[0m         \u001b[0mX\u001b[0m\u001b[0;34m,\u001b[0m \u001b[0mcmap\u001b[0m\u001b[0;34m=\u001b[0m\u001b[0mcmap\u001b[0m\u001b[0;34m,\u001b[0m \u001b[0mnorm\u001b[0m\u001b[0;34m=\u001b[0m\u001b[0mnorm\u001b[0m\u001b[0;34m,\u001b[0m \u001b[0maspect\u001b[0m\u001b[0;34m=\u001b[0m\u001b[0maspect\u001b[0m\u001b[0;34m,\u001b[0m\u001b[0;34m\u001b[0m\u001b[0;34m\u001b[0m\u001b[0m\n\u001b[1;32m   2710\u001b[0m         \u001b[0minterpolation\u001b[0m\u001b[0;34m=\u001b[0m\u001b[0minterpolation\u001b[0m\u001b[0;34m,\u001b[0m \u001b[0malpha\u001b[0m\u001b[0;34m=\u001b[0m\u001b[0malpha\u001b[0m\u001b[0;34m,\u001b[0m \u001b[0mvmin\u001b[0m\u001b[0;34m=\u001b[0m\u001b[0mvmin\u001b[0m\u001b[0;34m,\u001b[0m\u001b[0;34m\u001b[0m\u001b[0;34m\u001b[0m\u001b[0m\n",
      "\u001b[0;32m~/opt/anaconda3/envs/tf2.4/lib/python3.8/site-packages/matplotlib/__init__.py\u001b[0m in \u001b[0;36minner\u001b[0;34m(ax, data, *args, **kwargs)\u001b[0m\n\u001b[1;32m   1436\u001b[0m     \u001b[0;32mdef\u001b[0m \u001b[0minner\u001b[0m\u001b[0;34m(\u001b[0m\u001b[0max\u001b[0m\u001b[0;34m,\u001b[0m \u001b[0;34m*\u001b[0m\u001b[0margs\u001b[0m\u001b[0;34m,\u001b[0m \u001b[0mdata\u001b[0m\u001b[0;34m=\u001b[0m\u001b[0;32mNone\u001b[0m\u001b[0;34m,\u001b[0m \u001b[0;34m**\u001b[0m\u001b[0mkwargs\u001b[0m\u001b[0;34m)\u001b[0m\u001b[0;34m:\u001b[0m\u001b[0;34m\u001b[0m\u001b[0;34m\u001b[0m\u001b[0m\n\u001b[1;32m   1437\u001b[0m         \u001b[0;32mif\u001b[0m \u001b[0mdata\u001b[0m \u001b[0;32mis\u001b[0m \u001b[0;32mNone\u001b[0m\u001b[0;34m:\u001b[0m\u001b[0;34m\u001b[0m\u001b[0;34m\u001b[0m\u001b[0m\n\u001b[0;32m-> 1438\u001b[0;31m             \u001b[0;32mreturn\u001b[0m \u001b[0mfunc\u001b[0m\u001b[0;34m(\u001b[0m\u001b[0max\u001b[0m\u001b[0;34m,\u001b[0m \u001b[0;34m*\u001b[0m\u001b[0mmap\u001b[0m\u001b[0;34m(\u001b[0m\u001b[0msanitize_sequence\u001b[0m\u001b[0;34m,\u001b[0m \u001b[0margs\u001b[0m\u001b[0;34m)\u001b[0m\u001b[0;34m,\u001b[0m \u001b[0;34m**\u001b[0m\u001b[0mkwargs\u001b[0m\u001b[0;34m)\u001b[0m\u001b[0;34m\u001b[0m\u001b[0;34m\u001b[0m\u001b[0m\n\u001b[0m\u001b[1;32m   1439\u001b[0m \u001b[0;34m\u001b[0m\u001b[0m\n\u001b[1;32m   1440\u001b[0m         \u001b[0mbound\u001b[0m \u001b[0;34m=\u001b[0m \u001b[0mnew_sig\u001b[0m\u001b[0;34m.\u001b[0m\u001b[0mbind\u001b[0m\u001b[0;34m(\u001b[0m\u001b[0max\u001b[0m\u001b[0;34m,\u001b[0m \u001b[0;34m*\u001b[0m\u001b[0margs\u001b[0m\u001b[0;34m,\u001b[0m \u001b[0;34m**\u001b[0m\u001b[0mkwargs\u001b[0m\u001b[0;34m)\u001b[0m\u001b[0;34m\u001b[0m\u001b[0;34m\u001b[0m\u001b[0m\n",
      "\u001b[0;32m~/opt/anaconda3/envs/tf2.4/lib/python3.8/site-packages/matplotlib/axes/_axes.py\u001b[0m in \u001b[0;36mimshow\u001b[0;34m(self, X, cmap, norm, aspect, interpolation, alpha, vmin, vmax, origin, extent, filternorm, filterrad, resample, url, **kwargs)\u001b[0m\n\u001b[1;32m   5521\u001b[0m                               resample=resample, **kwargs)\n\u001b[1;32m   5522\u001b[0m \u001b[0;34m\u001b[0m\u001b[0m\n\u001b[0;32m-> 5523\u001b[0;31m         \u001b[0mim\u001b[0m\u001b[0;34m.\u001b[0m\u001b[0mset_data\u001b[0m\u001b[0;34m(\u001b[0m\u001b[0mX\u001b[0m\u001b[0;34m)\u001b[0m\u001b[0;34m\u001b[0m\u001b[0;34m\u001b[0m\u001b[0m\n\u001b[0m\u001b[1;32m   5524\u001b[0m         \u001b[0mim\u001b[0m\u001b[0;34m.\u001b[0m\u001b[0mset_alpha\u001b[0m\u001b[0;34m(\u001b[0m\u001b[0malpha\u001b[0m\u001b[0;34m)\u001b[0m\u001b[0;34m\u001b[0m\u001b[0;34m\u001b[0m\u001b[0m\n\u001b[1;32m   5525\u001b[0m         \u001b[0;32mif\u001b[0m \u001b[0mim\u001b[0m\u001b[0;34m.\u001b[0m\u001b[0mget_clip_path\u001b[0m\u001b[0;34m(\u001b[0m\u001b[0;34m)\u001b[0m \u001b[0;32mis\u001b[0m \u001b[0;32mNone\u001b[0m\u001b[0;34m:\u001b[0m\u001b[0;34m\u001b[0m\u001b[0;34m\u001b[0m\u001b[0m\n",
      "\u001b[0;32m~/opt/anaconda3/envs/tf2.4/lib/python3.8/site-packages/matplotlib/image.py\u001b[0m in \u001b[0;36mset_data\u001b[0;34m(self, A)\u001b[0m\n\u001b[1;32m    694\u001b[0m         if (self._A.dtype != np.uint8 and\n\u001b[1;32m    695\u001b[0m                 not np.can_cast(self._A.dtype, float, \"same_kind\")):\n\u001b[0;32m--> 696\u001b[0;31m             raise TypeError(\"Image data of dtype {} cannot be converted to \"\n\u001b[0m\u001b[1;32m    697\u001b[0m                             \"float\".format(self._A.dtype))\n\u001b[1;32m    698\u001b[0m \u001b[0;34m\u001b[0m\u001b[0m\n",
      "\u001b[0;31mTypeError\u001b[0m: Image data of dtype <U201 cannot be converted to float"
     ]
    },
    {
     "data": {
      "image/png": "[encoded data removed]",
      "text/plain": [
       "<Figure size 432x288 with 1 Axes>"
      ]
     },
     "metadata": {
      "image/png": {
       "height": 252,
       "width": 262
      },
      "needs_background": "light"
     },
     "output_type": "display_data"
    }
   ],
   "source": [
    "plt.imshow('/Users/saforem2/l2hmc-qcd/logs/GaugeModel_logs/test/2021_01/DEBUG_L16_b256_lf5_actswish_bi3_bf3_dp01_sepNets_NCProj-2021-01-26-1725/inference/L16_b256__lf5_eps01-2021-01-26-1745/plots/charge_chains.png')"
   ]
  },
  {
   "cell_type": "code",
   "execution_count": null,
   "metadata": {},
   "outputs": [],
   "source": [
    "%"
   ]
  },
  {
   "cell_type": "code",
   "execution_count": null,
   "metadata": {},
   "outputs": [],
   "source": [
    "%open /U"
   ]
  },
  {
   "cell_type": "code",
   "execution_count": 4,
   "metadata": {
    "ExecuteTime": {
     "end_time": "2021-01-27T17:11:30.947317Z",
     "start_time": "2021-01-27T17:11:30.916785Z"
    }
   },
   "outputs": [
    {
     "data": {
      "text/html": [
       "\n",
       "        <iframe\n",
       "            width=\"600\"\n",
       "            height=\"300\"\n",
       "            src=\"/Users/saforem2/l2hmc-qcd/logs/GaugeModel_logs/test/2021_01/DEBUG_L16_b256_lf5_actswish_bi3_bf3_dp01_sepNets_NCProj-2021-01-26-1725/inference/L16_b256__lf5_eps01-2021-01-26-1745/plots/charge_chains.pdf\"\n",
       "            frameborder=\"0\"\n",
       "            allowfullscreen\n",
       "        ></iframe>\n",
       "        "
      ],
      "text/plain": [
       "<IPython.lib.display.IFrame at 0x7ff448b92ca0>"
      ]
     },
     "execution_count": 4,
     "metadata": {},
     "output_type": "execute_result"
    }
   ],
   "source": [
    "from IPython.display import IFrame\n",
    "\n",
    "pdf_file = (os.path.abspath(\"/Users/saforem2/l2hmc-qcd/logs/GaugeModel_logs/test/2021_01/DEBUG_L16_b256_lf5_actswish_bi3_bf3_dp01_sepNets_NCProj-2021-01-26-1725/inference/L16_b256__lf5_eps01-2021-01-26-1745/plots/charge_chains.pdf\"))\n",
    "IFrame(pdf_file, width=600, height=300)\n",
    "#L16_b256__lf5_eps01-2021-01-26-1745/plots/charge_chains.pdf\", width=600, height=300)\n",
    "#IFrame(\"./samples/simple3.pdf\", width=600, height=300)"
   ]
  },
  {
   "cell_type": "code",
   "execution_count": null,
   "metadata": {},
   "outputs": [],
   "source": []
  }
 ],
 "metadata": {
  "kernelspec": {
   "display_name": "Python [conda env:tf2.4] *",
   "language": "python",
   "name": "conda-env-tf2.4-py"
  },
  "language_info": {
   "codemirror_mode": {
    "name": "ipython",
    "version": 3
   },
   "file_extension": ".py",
   "mimetype": "text/x-python",
   "name": "python",
   "nbconvert_exporter": "python",
   "pygments_lexer": "ipython3",
   "version": "3.8.5"
  },
  "latex_envs": {
   "LaTeX_envs_menu_present": false,
   "autoclose": false,
   "autocomplete": false,
   "bibliofile": "biblio.bib",
   "cite_by": "apalike",
   "current_citInitial": 1,
   "eqLabelWithNumbers": true,
   "eqNumInitial": 1,
   "hotkeys": {
    "equation": ""
   },
   "labels_anchors": false,
   "latex_user_defs": false,
   "report_style_numbering": false,
   "user_envs_cfg": false
  },
  "nbTranslate": {
   "displayLangs": [
    "*"
   ],
   "hotkey": "alt-t",
   "langInMainMenu": true,
   "sourceLang": "en",
   "targetLang": "fr",
   "useGoogleTranslate": true
  },
  "toc": {
   "base_numbering": 1,
   "nav_menu": {},
   "number_sections": true,
   "sideBar": true,
   "skip_h1_title": true,
   "title_cell": "Table of Contents",
   "title_sidebar": "Contents",
   "toc_cell": false,
   "toc_position": {},
   "toc_section_display": true,
   "toc_window_display": false
  },
  "varInspector": {
   "cols": {
    "lenName": 16,
    "lenType": 16,
    "lenVar": 40
   },
   "kernels_config": {
    "python": {
     "delete_cmd_postfix": "",
     "delete_cmd_prefix": "del ",
     "library": "var_list.py",
     "varRefreshCmd": "print(var_dic_list())"
    },
    "r": {
     "delete_cmd_postfix": ") ",
     "delete_cmd_prefix": "rm(",
     "library": "var_list.r",
     "varRefreshCmd": "cat(var_dic_list()) "
    }
   },
   "types_to_exclude": [
    "module",
    "function",
    "builtin_function_or_method",
    "instance",
    "_Feature"
   ],
   "window_display": false
  }
 },
 "nbformat": 4,
 "nbformat_minor": 4
}
