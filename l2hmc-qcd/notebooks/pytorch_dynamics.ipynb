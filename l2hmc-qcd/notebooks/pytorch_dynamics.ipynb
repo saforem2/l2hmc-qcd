{
 "cells": [
  {
   "cell_type": "markdown",
   "id": "aa0a096a",
   "metadata": {
    "jp-MarkdownHeadingCollapsed": true,
    "tags": []
   },
   "source": [
    "## Testing `pytorch` network"
   ]
  },
  {
   "cell_type": "markdown",
   "id": "3a29a69f-16c1-4c4f-af22-65e1d61c9bd1",
   "metadata": {
    "tags": []
   },
   "source": [
    "## Imports"
   ]
  },
  {
   "cell_type": "code",
   "execution_count": null,
   "id": "c4327b0a-d7d6-4c4b-a738-ced78cf43908",
   "metadata": {
    "tags": []
   },
   "outputs": [],
   "source": [
    "%load_ext rich"
   ]
  },
  {
   "cell_type": "code",
   "execution_count": null,
   "id": "482a8aeb-6162-464a-8546-85923b87675e",
   "metadata": {
    "tags": []
   },
   "outputs": [],
   "source": [
    "import os\n",
    "import sys\n",
    "from pathlib import Path\n",
    "\n",
    "import matplotlib.pyplot as plt\n",
    "import numpy as np\n",
    "import seaborn as sns\n",
    "\n",
    "import tensorflow as tf\n",
    "#os.environ['COLUMNS'] = '150'\n",
    "        \n",
    "#%load_ext autoreload\n",
    "#%autoreload 2\n",
    "#%matplotlib widget"
   ]
  },
  {
   "cell_type": "code",
   "execution_count": null,
   "id": "c285718c-421c-473a-bbaa-d8bacb6e77b0",
   "metadata": {
    "tags": []
   },
   "outputs": [],
   "source": [
    "from pathlib import Path\n",
    "project_dir = Path().cwd().parent\n",
    "if project_dir not in sys.path:\n",
    "    sys.path.append(str(project_dir))\n",
    "\n",
    "plt.style.use('default')\n",
    "sns.set_context('talk')\n",
    "sns.set_style('whitegrid')\n",
    "sns.set_palette('bright')"
   ]
  },
  {
   "cell_type": "code",
   "execution_count": null,
   "id": "346fe91a",
   "metadata": {
    "tags": []
   },
   "outputs": [],
   "source": [
    "import datetime\n",
    "import time\n",
    "from dataclasses import dataclass\n",
    "\n",
    "import numpy as np\n",
    "import torch\n",
    "import torch.nn as nn\n",
    "import torch.nn.functional as F\n",
    "import torch.optim as optim\n",
    "\n",
    "torch.set_default_tensor_type(torch.FloatTensor)"
   ]
  },
  {
   "cell_type": "code",
   "execution_count": null,
   "id": "c709d535-309c-43ee-9031-4758b39ed600",
   "metadata": {
    "tags": []
   },
   "outputs": [],
   "source": [
    "plt.style.use('/Users/saforem2/.matplotlib/stylelib/molokai.mplstyle')"
   ]
  },
  {
   "cell_type": "markdown",
   "id": "8f70fe21-47c9-4646-bb64-de60e5e4b102",
   "metadata": {},
   "source": [
    "## Specify `NetworkConfig` and `DynamicsConfig` for `GaugeDynamics` object\n",
    "\n",
    "**Note**: \n",
    " - `lx` is the size of the 2D _square_ lattice $\\ell_{x}\\times \\ell_{x}$\n",
    " - `nb` is the number of chains in our _batch_, i.e. the number of chains to be updated in parallel \n",
    " - $\\Longrightarrow$ `x.shape = (nb, lx, lx, 2)`\n",
    "\n",
    "<!--<div class=\"alert alert-info\" role=\"alert\">-->\n",
    "<!--</div>-->"
   ]
  },
  {
   "cell_type": "code",
   "execution_count": null,
   "id": "1340e090-63e4-4a72-9b76-7ca103b4992b",
   "metadata": {
    "tags": []
   },
   "outputs": [],
   "source": [
    "from dynamics.pytorch.dynamics import DynamicsConfig, GaugeDynamics, NetWeights\n",
    "from network.pytorch.network import (\n",
    "    GaugeNetwork,\n",
    "    LearningRateConfig,\n",
    "    NetworkConfig,\n",
    "    State,\n",
    "    xy_repr,\n",
    ")\n",
    "\n",
    "lx = 8 \n",
    "nb = 16 \n",
    "\n",
    "net_config = NetworkConfig(**{\n",
    "    'units': [16, 16, 16, 16],\n",
    "    #'lattice_size': lx,\n",
    "    'dropout_prob': 0.0,\n",
    "    'use_batch_norm': False,\n",
    "    'activation_fn': torch.nn.LeakyReLU(),\n",
    "})\n",
    "\n",
    "lr_config = LearningRateConfig(lr_init=0.001)\n",
    "\n",
    "net_weights = NetWeights(1., 1., 1., 1., 1., 1.)\n",
    "\n",
    "dc = dict(\n",
    "    eps=0.1,\n",
    "    num_steps=10,\n",
    "    x_shape=(nb, lx, lx, 2),\n",
    "    hmc=False,\n",
    "    separate_networks=True,\n",
    "    #use_ncp=False,\n",
    "    eps_fixed=False,\n",
    "    aux_weight=0.,\n",
    "    use_mixed_loss=False,\n",
    "    plaq_weight=0.,\n",
    "    charge_weight=0.001,\n",
    "    optimizer='adam',\n",
    "    clip_val=0.,\n",
    "    net_weights=net_weights,\n",
    ")\n",
    "\n",
    "dynamics_config = DynamicsConfig(**dc)\n",
    "#gauge_net = GaugeNetwork(net_config=net_config)\n",
    "dynamics_pt = GaugeDynamics(dynamics_config, net_config, lr_config)"
   ]
  },
  {
   "cell_type": "code",
   "execution_count": null,
   "id": "a9ad5c57-0bb9-4f5e-92b1-3d940e7af379",
   "metadata": {
    "tags": []
   },
   "outputs": [],
   "source": [
    "import json\n",
    "from rich import print_json\n",
    "import logging\n",
    "from lattice.pytorch.lattice import area_law, plaq_exact\n",
    "\n",
    "#logger = logging.getLogger('jupyter')\n",
    "jdict = {str(int(i)): plaq_exact(i) for i in np.arange(10)}\n",
    "print_json(json.dumps(jdict, indent=4))"
   ]
  },
  {
   "cell_type": "code",
   "execution_count": null,
   "id": "00ff2361-1299-4df9-a32b-c5b5af311e9f",
   "metadata": {
    "tags": []
   },
   "outputs": [],
   "source": [
    "PI = np.pi\n",
    "TWO_PI = 2. * PI\n",
    "\n",
    "x = TWO_PI * torch.rand(dynamics_pt.config.x_shape, requires_grad=True) - PI\n",
    "x = x.reshape(x.shape[0], -1)"
   ]
  },
  {
   "cell_type": "markdown",
   "id": "d00839de-57af-4de8-838e-30e31aff2389",
   "metadata": {
    "tags": []
   },
   "source": [
    "## HMC:"
   ]
  },
  {
   "cell_type": "markdown",
   "id": "c648605f-f7a3-40ee-96cd-118be3009166",
   "metadata": {
    "tags": []
   },
   "source": [
    "### Training:"
   ]
  },
  {
   "cell_type": "code",
   "execution_count": null,
   "id": "500778d2-ac98-4673-b9ae-3bfcf9152356",
   "metadata": {
    "tags": []
   },
   "outputs": [],
   "source": [
    "from copy import deepcopy\n",
    "from dataclasses import asdict, dataclass\n",
    "\n",
    "from dynamics.pytorch.dynamics import Steps, to_u1, train_and_test, train_step\n",
    "from utils.data_containers import DataContainer\n",
    "from utils.history import History\n",
    "from utils.step_timer import StepTimer\n",
    "from utils.logger import Logger\n",
    "#from utils.pytorch.io import Logger\n",
    "\n",
    "dchmc = deepcopy(dc)\n",
    "dchmc['hmc'] = True\n",
    "dchmc['eps'] = 0.2\n",
    "\n",
    "dynamics_config_hmc = DynamicsConfig(**dchmc)\n",
    "\n",
    "dynamics_hmc_pt = GaugeDynamics(dynamics_config_hmc, net_config, lr_config)\n",
    "optimizer_hmc = optim.Adam(dynamics_hmc_pt.parameters(), lr=0.001)\n",
    "\n",
    "beta = 3.\n",
    "ntest = 1000\n",
    "ntrain = 1000\n",
    "\n",
    "steps = Steps(train=ntrain, test=ntest)"
   ]
  },
  {
   "cell_type": "code",
   "execution_count": null,
   "id": "fedc9d6c",
   "metadata": {
    "tags": []
   },
   "outputs": [],
   "source": [
    "from dynamics.pytorch.dynamics import train_and_test\n",
    "\n",
    "dynamics_hmc_pt.train()\n",
    "\n",
    "#beta = np.array(np.linspace(0.5, beta, steps.train), dtype=np.float32).tolist()\n",
    "skip = ['logdets', 'px', 'Qi', 'Qs', 'p4x4']\n",
    "\n",
    "logger = Logger()\n",
    "hmc_outputs = train_and_test(dynamics_hmc_pt,\n",
    "                             optimizer_hmc,\n",
    "                             steps=steps,\n",
    "                             # ------------\n",
    "                             #x=x,\n",
    "                             window=0,\n",
    "                             beta=beta,\n",
    "                             skip=skip)\n",
    "                             #logger=console)"
   ]
  },
  {
   "cell_type": "code",
   "execution_count": null,
   "id": "549f8270-38e7-4898-9f22-25f35b408957",
   "metadata": {
    "tags": []
   },
   "outputs": [],
   "source": [
    "%matplotlib inline"
   ]
  },
  {
   "cell_type": "code",
   "execution_count": null,
   "id": "2553c1bf-3f2d-4d98-a2b9-aca9290f1234",
   "metadata": {
    "tags": []
   },
   "outputs": [],
   "source": [
    "import matplotx\n",
    "\n",
    "plt.style.use('/Users/saforem2/.matplotlib/stylelib/molokai.mplstyle')\n",
    "plt.style.use('~/.matplotlib/stylelib/molokai.mplstyle')\n",
    "sns.set_context('paper')\n",
    "#plt.style.use(matplotx.styles.github['dark'])\n",
    "with plt.style.context(matplotx.styles.dufte_bar):\n",
    "    #plt.rcParams['text.color'] = '#FFFFFF'\n",
    "    #plt.rcParams['axes.labelcolor'] = '#FFFFFF'\n",
    "    plt.rcParams['figure.dpi'] = 150\n",
    "    subplots_kwargs = {\n",
    "        'figsize': (7, 3),\n",
    "        'constrained_layout': True,\n",
    "    }\n",
    "\n",
    "    dataset_hmc_pt = hmc_outputs['train'].plot_all(\n",
    "        num_chains=16, therm_frac=0.0,\n",
    "        subplots_kwargs=subplots_kwargs,\n",
    "    )"
   ]
  },
  {
   "cell_type": "code",
   "execution_count": null,
   "id": "563632ee-b796-4e20-a0a9-b513afc69c8d",
   "metadata": {
    "tags": []
   },
   "outputs": [],
   "source": [
    "import warnings\n",
    "warnings.filterwarnings('ignore')\n",
    "plt.style.use('~/.matplotlib/stylelib/molokai.mplstyle')\n",
    "with plt.style.context(matplotx.styles.dufte_bar):\n",
    "    #plt.style.use(matplotx.styles.github['dark'])\n",
    "    #plt.rcParams['text.color'] = '#FFFFFF'\n",
    "    dataset_hmc_pt_inf = hmc_outputs['test'].plot_all(\n",
    "        num_chains=16, therm_frac=0.1,\n",
    "        subplots_kwargs=subplots_kwargs,\n",
    "    )"
   ]
  },
  {
   "cell_type": "markdown",
   "id": "af067787-121f-46de-ab57-22c74c1d0ced",
   "metadata": {},
   "source": [
    "## L2HMC"
   ]
  },
  {
   "cell_type": "code",
   "execution_count": null,
   "id": "0b39099a-55b1-4a3a-9794-6cf3ec4826bb",
   "metadata": {
    "tags": []
   },
   "outputs": [],
   "source": [
    "from __future__ import annotations\n",
    "\n",
    "from typing import Union\n",
    "\n",
    "import torch.nn\n",
    "\n",
    "Scalar = Union[float, int]\n",
    "def rescale_eps(dynamics: GaugeDynamics, xfrac: Scalar, vfrac: Scalar):\n",
    "    xeps, veps = [], []\n",
    "    rg = dynamics.config.eps_fixed\n",
    "    \n",
    "    for xe, ve in zip(dynamics.xeps, dynamics.veps):\n",
    "        xe_ = nn.Parameter(xe * xfrac if xfrac < 1. else xe / xfrac, requires_grad=rg)\n",
    "        ve_ = nn.Parameter(ve * vfrac if vfrac < 1. else ve / vfrac, requires_grad=rg)\n",
    "        \n",
    "        xeps.append(xe_)\n",
    "        veps.append(ve_)\n",
    "        \n",
    "    dynamics.xeps = nn.ParameterList(xeps)\n",
    "    dynamics.veps = nn.ParameterList(veps)\n",
    "    \n",
    "    return dynamics"
   ]
  },
  {
   "cell_type": "code",
   "execution_count": null,
   "id": "5a6abf16-69e8-4511-b34c-bc5890bea262",
   "metadata": {
    "tags": []
   },
   "outputs": [],
   "source": [
    "dynamics_config = DynamicsConfig(**dc)\n",
    "dynamics_pt = GaugeDynamics(dynamics_config, net_config, lr_config)\n",
    "optimizer_pt = optim.Adam(dynamics_pt.parameters(), lr=0.001)\n",
    "\n",
    "#dynamics_pt.train()"
   ]
  },
  {
   "cell_type": "code",
   "execution_count": null,
   "id": "da776ab0-ee38-4356-b157-e5aec514e88a",
   "metadata": {
    "tags": []
   },
   "outputs": [],
   "source": [
    "from dynamics.pytorch.dynamics import train_and_test\n",
    "\n",
    "from dynamics.pytorch.dynamics import Steps\n",
    "\n",
    "#beta_final = 3.0\n",
    "steps = Steps(train=5000, test=1000, log=10, save=250)\n",
    "#beta = np.array(np.linspace(0.5, beta_final, steps.train), dtype=np.float32).tolist()\n",
    "skip = ['logdets', 'px', 'Qi', 'Qs', 'p4x4', 'p4']\n",
    "\n",
    "#beta = \n",
    "#beta = np.array(np.linspace(3, 4, steps.train), dtype=np.float32).tolist()\n",
    "beta = 3.\n",
    "outputs = train_and_test(dynamics_pt,\n",
    "                         optimizer_pt,\n",
    "                         # ------------\n",
    "                         #x=x,\n",
    "                         beta=beta,\n",
    "                         skip=skip,\n",
    "                         steps=steps,\n",
    "                         window=50,\n",
    "                         train_history=outputs['train'],\n",
    "                         test_history=outputs['test'])"
   ]
  },
  {
   "cell_type": "code",
   "execution_count": null,
   "id": "b5a0c458-901f-497f-9f3c-10f97fc34f42",
   "metadata": {
    "tags": []
   },
   "outputs": [],
   "source": [
    "import matplotx\n",
    "\n",
    "plt.style.use(Path().home().joinpath('.matplotlib', 'stylelib', 'molokai.mplstyle'))\n",
    "plt.rcParams['figure.dpi'] = 150\n",
    "\n",
    "defaults = {\n",
    "    'num_chains': 16,\n",
    "    'therm_frac': 0.0,\n",
    "    'subplots_kwargs': {\n",
    "        'figsize': (7, 3.5),\n",
    "        'constrained_layout': True,\n",
    "    },\n",
    "}\n",
    "    \n",
    "with plt.style.context(matplotx.styles.dufte):\n",
    "    dataset_pt_inf = outputs['train'].plot_all(**defaults)"
   ]
  },
  {
   "cell_type": "code",
   "execution_count": null,
   "id": "7e00ac6c-7866-42d8-a356-2057f9eea045",
   "metadata": {
    "tags": []
   },
   "outputs": [],
   "source": [
    "plt.style.use('default')\n",
    "plt.style.use('~/.matplotlib/stylelib/molokai.mplstyle')\n",
    "#matplotx.styles.duftify(\n",
    "#plt.style.use('~/.matplotlib/stylelib/molokai.mplstyle')\n",
    "with plt.style.context(matplotx.styles.dufte):\n",
    "    #matplotx.ylabel_top(\"voltage [V]\")\n",
    "    #matplotx.line_labels()\n",
    "    dataset_pt_inf = outputs['test'].plot_all(**defaults)"
   ]
  },
  {
   "cell_type": "code",
   "execution_count": null,
   "id": "0a7c7532-69fb-40d9-a07e-3dd31b8701f4",
   "metadata": {},
   "outputs": [],
   "source": []
  },
  {
   "cell_type": "code",
   "execution_count": null,
   "id": "95f6934a-9362-4eef-9685-85c8dc876b1b",
   "metadata": {},
   "outputs": [],
   "source": []
  },
  {
   "cell_type": "markdown",
   "id": "10e0a852-efa8-4b16-9273-aa9f6e80dd70",
   "metadata": {},
   "source": [
    "# Tensorflow"
   ]
  },
  {
   "cell_type": "code",
   "execution_count": null,
   "id": "8c78ae45-a1c4-44eb-a328-846b4b663c5c",
   "metadata": {
    "tags": []
   },
   "outputs": [],
   "source": [
    "import datetime\n",
    "import json\n",
    "import logging\n",
    "import sys\n",
    "import time\n",
    "\n",
    "import matplotlib.pyplot as plt\n",
    "import numpy as np\n",
    "import pandas as pd\n",
    "import seaborn as sns\n",
    "from rich import get_console, print\n",
    "from rich.theme import Theme\n",
    "\n",
    "import tensorflow as tf\n",
    "from config import BIN_DIR, PROJECT_DIR\n",
    "from utils.hvd_init import RANK, SIZE\n",
    "from utils.logger import Logger, print_dict\n",
    "\n",
    "if os.path.abspath('..') not in sys.path:\n",
    "    sys.path.append(os.path.abspath('..'))\n",
    "\n",
    "sns.set_palette('bright')\n",
    "plt.style.use('default')\n",
    "sns.set_context('talk')\n",
    "sns.set_style('whitegrid')\n",
    "sns.set_palette('bright')\n",
    "\n",
    "plt.rc('text', usetex=False)\n",
    "\n",
    "#logger = Logger()\n",
    "#console = get_console()\n",
    "#console._width = 180\n",
    "#console.use_theme(theme)"
   ]
  },
  {
   "cell_type": "code",
   "execution_count": null,
   "id": "b4d8bc49-877f-4f3d-81b8-2c492b52d3ea",
   "metadata": {
    "tags": []
   },
   "outputs": [],
   "source": [
    "from rich import print\n",
    "\n",
    "print(dynamics_pt.config)"
   ]
  },
  {
   "cell_type": "code",
   "execution_count": null,
   "id": "32de4c4f-66d5-4b3e-ac19-94ef90f196ed",
   "metadata": {
    "tags": []
   },
   "outputs": [],
   "source": [
    "import json\n",
    "\n",
    "from config import BIN_DIR\n",
    "\n",
    "#from utils.logger import Logger, print_dict\n",
    "\n",
    "train_configs_file = os.path.join(BIN_DIR, 'test_configs.json')\n",
    "with open(train_configs_file, 'rt') as f:\n",
    "    configs = json.load(f)\n",
    "    \n",
    "configs.update({\n",
    "    'ensure_new': False,\n",
    "    'run_steps': 1000,\n",
    "    'save_steps': 500,\n",
    "    'steps_per_epoch': 100,\n",
    "    'patience': 2,\n",
    "    'min_lr': 1e-4,\n",
    "    'logging_steps': 100,\n",
    "    'print_steps': 10,\n",
    "    'beta_init': 3.,\n",
    "    'beta_final': 3.,\n",
    "})\n",
    "\n",
    "configs['dynamics_config'].update({\n",
    "    'use_conv_net': False,\n",
    "    'separate_networks': True,\n",
    "    'use_mixed_loss': False,\n",
    "    'aux_weight': 0.0,\n",
    "    'num_steps': 5,\n",
    "    'x_shape': [256, 16, 16, 2],\n",
    "})\n",
    "\n",
    "configs['network_config'].update({\n",
    "    'units': [16, 16, 16, 16],\n",
    "    'use_batch_norm': False,\n",
    "    'dropout_prob': 0.025,\n",
    "})\n",
    "\n",
    "configs['conv_config'].update({\n",
    "    'input_shape': configs['dynamics_config']['x_shape'][1:]\n",
    "})\n",
    "\n",
    "logger.log(print_dict(configs, name='Configs'))"
   ]
  },
  {
   "cell_type": "code",
   "execution_count": null,
   "id": "2a260c6d-f48a-48f4-a986-9b4fc96c498c",
   "metadata": {
    "tags": []
   },
   "outputs": [],
   "source": [
    "from dynamics.gauge_dynamics import build_dynamics\n",
    "\n",
    "dynamics_tf = build_dynamics(configs)"
   ]
  },
  {
   "cell_type": "code",
   "execution_count": null,
   "id": "15a6f323-80d1-4442-8f11-3355e534c011",
   "metadata": {
    "tags": []
   },
   "outputs": [],
   "source": [
    "from utils.data_containers import DataContainer\n",
    "\n",
    "#from dynamics.gauge_dynamics import convert_to_angle\n",
    "\n",
    "x = tf.random.uniform(dynamics_tf.x_shape, minval=-PI, maxval=PI)\n",
    "\n",
    "keep = ['step', 'loss', 'accept_prob', 'beta', 'dq_int', 'dq_sin', 'plaqs', 'p4x4']\n",
    "train_data = DataContainer(configs['train_steps'])"
   ]
  },
  {
   "cell_type": "code",
   "execution_count": null,
   "id": "2577a9a5-529b-4e20-a647-f374317b0cce",
   "metadata": {
    "tags": []
   },
   "outputs": [],
   "source": [
    "from utils.data_containers import DataContainer\n",
    "from utils.history import History\n",
    "from utils.step_timer import StepTimer\n",
    "#from utils.pytorch.io import Logger\n",
    "\n",
    "import rich\n",
    "\n",
    "from rich.console import Console\n",
    "\n",
    "keep = ['loss', 'accept', 'step', 'px', 'acc', 'plaqs', 'dq_int', 'dq_sin', 'dQint', 'dQsin']\n",
    "#logger = Logger()\n",
    "console = Console()\n",
    "\n",
    "timer = StepTimer()\n",
    "history_tf = History()\n",
    "ntrain = configs['train_steps']\n",
    "for step in range(ntrain):\n",
    "    timer.start()\n",
    "    x, metrics = dynamics_tf.train_step((x, beta))\n",
    "    #x, metrics_ = test_step((to_u1(x), beta), )\n",
    "    dt = timer.stop()\n",
    "    pdict = {'step': step, 'dt': f'{dt:.2g}'}\n",
    "    pre = ' '.join([f'{key}={val}' for key, val in pdict.items()])\n",
    "    #pre = ' '.join(['='.join(['step': step, 'dt': dt])])\n",
    "    #pre = pstr(step, ntest, dt)\n",
    "    history_tf.update(metrics, step)\n",
    "    mstr = history_tf.metrics_summary(window=0, skip=skip, keep=keep, pre=pre)\n",
    "    console.log(f'{mstr}')"
   ]
  },
  {
   "cell_type": "code",
   "execution_count": null,
   "id": "931c3804-56f0-4167-9594-af275103185f",
   "metadata": {
    "tags": []
   },
   "outputs": [],
   "source": [
    "from utils.data_containers import DataContainer\n",
    "dctf = DataContainer()"
   ]
  },
  {
   "cell_type": "code",
   "execution_count": null,
   "id": "ae1aa1d7-6ca0-44a5-bd61-16ea52756254",
   "metadata": {},
   "outputs": [],
   "source": [
    "dctf.data = history_tf.data"
   ]
  },
  {
   "cell_type": "code",
   "execution_count": null,
   "id": "f195a74e-0598-4eee-8209-9b599e9cc339",
   "metadata": {},
   "outputs": [],
   "source": [
    "dctf_dataset = dctf.get_dataset()"
   ]
  },
  {
   "cell_type": "code",
   "execution_count": null,
   "id": "5bc17c75-e118-406f-ab16-24b842ad9324",
   "metadata": {
    "tags": []
   },
   "outputs": [],
   "source": [
    "from utils.history import History\n",
    "history_tf_ = History()"
   ]
  },
  {
   "cell_type": "code",
   "execution_count": null,
   "id": "b3bda067-0913-46ae-9d3d-28eb3db820d4",
   "metadata": {},
   "outputs": [],
   "source": [
    "history_tf_.data = history_tf.data"
   ]
  },
  {
   "cell_type": "code",
   "execution_count": null,
   "id": "bab53ec3-9ff7-4f7c-a5fb-617f293b04e2",
   "metadata": {
    "tags": []
   },
   "outputs": [],
   "source": [
    "history_tf_.plot_all()"
   ]
  },
  {
   "cell_type": "code",
   "execution_count": null,
   "id": "10499146-2bcd-4ff1-8b11-960470843cde",
   "metadata": {
    "tags": []
   },
   "outputs": [],
   "source": [
    "%debug"
   ]
  },
  {
   "cell_type": "code",
   "execution_count": null,
   "id": "32dfc12f-6514-48f5-80bb-5acbece8454e",
   "metadata": {},
   "outputs": [],
   "source": []
  },
  {
   "cell_type": "code",
   "execution_count": null,
   "id": "c6cf3654-e9ce-4324-bc03-186046b08465",
   "metadata": {},
   "outputs": [],
   "source": [
    "dctf_dataset.pl"
   ]
  },
  {
   "cell_type": "code",
   "execution_count": null,
   "id": "dc72a131-0751-452c-bf0c-702051c627a9",
   "metadata": {
    "tags": []
   },
   "outputs": [],
   "source": [
    "dataset_tf = history_tf.plot_all(\n",
    "    num_chains=10,\n",
    "    therm_frac=0.1,\n",
    "    subplots_kwargs={\n",
    "        'figsize': (5, 3),\n",
    "        'constrained_layout': True,\n",
    "    }\n",
    ")"
   ]
  },
  {
   "cell_type": "code",
   "execution_count": null,
   "id": "c1290719-6476-486a-9b47-174851d3c453",
   "metadata": {},
   "outputs": [],
   "source": [
    "%debug"
   ]
  },
  {
   "cell_type": "code",
   "execution_count": null,
   "id": "62042989-ac29-487f-abed-c27ebd816dcc",
   "metadata": {
    "tags": []
   },
   "outputs": [],
   "source": [
    "beta = 4.\n",
    "ntrain = 5000\n",
    "for step in range(ntrain):\n",
    "    x, metrics = dynamics_tf.train_step((x, beta))\n",
    "    metrics_ = logger.print_metrics(metrics, skip=['logdets', 'px'], keep=keep, pre=[f'{step}/{ntrain}'])\n",
    "    #data_str = train_data.print_metrics(metrics, window=0, keep=keep,\n",
    "    #                                    pre=[f'{step}/{ntrain}'])\n",
    "    #loss, mc_states, metrics = train_step((x, beta), dynamics, optimizer=optimizer)\n",
    "    #metrics = logger.print_metrics(metrics, skip=['logdets', 'px'], pre=[f'{step}/{ntrain}'])\n",
    "    #metrics_ = logger.print_metrics(metrics_, skip=['logdets', 'px'], pre=[f'{step}/{ntrain}'])\n",
    "    #x = convert_to_angle(x)"
   ]
  },
  {
   "cell_type": "code",
   "execution_count": null,
   "id": "697a767e-c2bc-4513-bb4b-2cea3d663a01",
   "metadata": {},
   "outputs": [],
   "source": []
  }
 ],
 "metadata": {
  "kernelspec": {
   "display_name": "py39",
   "language": "python",
   "name": "py39"
  },
  "language_info": {
   "codemirror_mode": {
    "name": "ipython",
    "version": 3
   },
   "file_extension": ".py",
   "mimetype": "text/x-python",
   "name": "python",
   "nbconvert_exporter": "python",
   "pygments_lexer": "ipython3",
   "version": "3.9.7"
  },
  "latex_envs": {
   "LaTeX_envs_menu_present": false,
   "autoclose": false,
   "autocomplete": false,
   "bibliofile": "biblio.bib",
   "cite_by": "apalike",
   "current_citInitial": 1,
   "eqLabelWithNumbers": true,
   "eqNumInitial": 1,
   "hotkeys": {
    "equation": ""
   },
   "labels_anchors": false,
   "latex_user_defs": false,
   "report_style_numbering": true,
   "user_envs_cfg": false
  },
  "nbTranslate": {
   "displayLangs": [
    "*"
   ],
   "hotkey": "alt-t",
   "langInMainMenu": true,
   "sourceLang": "en",
   "targetLang": "fr",
   "useGoogleTranslate": true
  },
  "notify_time": "5",
  "toc": {
   "base_numbering": 1,
   "nav_menu": {},
   "number_sections": true,
   "sideBar": true,
   "skip_h1_title": true,
   "title_cell": "Table of Contents",
   "title_sidebar": "Contents",
   "toc_cell": false,
   "toc_position": {},
   "toc_section_display": true,
   "toc_window_display": false
  },
  "varInspector": {
   "cols": {
    "lenName": 16,
    "lenType": 16,
    "lenVar": 40
   },
   "kernels_config": {
    "python": {
     "delete_cmd_postfix": "",
     "delete_cmd_prefix": "del ",
     "library": "var_list.py",
     "varRefreshCmd": "print(var_dic_list())"
    },
    "r": {
     "delete_cmd_postfix": ") ",
     "delete_cmd_prefix": "rm(",
     "library": "var_list.r",
     "varRefreshCmd": "cat(var_dic_list()) "
    }
   },
   "types_to_exclude": [
    "module",
    "function",
    "builtin_function_or_method",
    "instance",
    "_Feature"
   ],
   "window_display": false
  }
 },
 "nbformat": 4,
 "nbformat_minor": 5
}
