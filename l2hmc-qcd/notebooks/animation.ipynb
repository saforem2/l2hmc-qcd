{
 "cells": [
  {
   "cell_type": "markdown",
   "metadata": {},
   "source": [
    "# Animate trajectory"
   ]
  },
  {
   "cell_type": "markdown",
   "metadata": {},
   "source": [
    "## Imports"
   ]
  },
  {
   "cell_type": "code",
   "execution_count": null,
   "metadata": {},
   "outputs": [],
   "source": [
    "import os\n",
    "import sys\n",
    "\n",
    "module_path = os.path.abspath(os.path.join('..'))\n",
    "if module_path not in sys.path:\n",
    "    sys.path.append(module_path)\n",
    "                    \n",
    "import numpy as np\n",
    "import tensorflow as tf\n",
    "import matplotlib.pyplot as plt\n",
    "from matplotlib import animation\n",
    "import mpl_toolkits.mplot3d.axes3d as p3\n",
    "\n",
    "from models.mog_model import GaussianMixtureModel\n",
    "plt.style.use('/Users/saforem2/.config/matplotlib/stylelib/dark_jupyter.mplstyle')\n",
    "%matplotlib notebook\n",
    "plt.rcParams['figure.facecolor'] = '#474747'\n",
    "plt.rcParams['le']\n",
    "\n",
    "#colors = ['C0', 'C1', 'C2', 'C4', 'C5', 'C6']\n",
    "%autoreload 2"
   ]
  },
  {
   "cell_type": "code",
   "execution_count": null,
   "metadata": {},
   "outputs": [],
   "source": [
    "def fix_legends(axes):\n",
    "    if isinstance(axes, (np.ndarray, list)):\n",
    "        legends = [ax.get_legend() for ax in axes]\n",
    "        for leg in legends:\n",
    "            leg.texts[0].set_color('w')\n",
    "    else:\n",
    "        legend = axes.get_legend()\n",
    "        for idx in range(len(legend.texts)):\n",
    "            legend.texts[idx].set_color('w')\n",
    "    return axes"
   ]
  },
  {
   "cell_type": "code",
   "execution_count": null,
   "metadata": {},
   "outputs": [],
   "source": [
    "from utils.distributions import Gaussian, GMM, GaussianFunnel, gen_ring"
   ]
  },
  {
   "cell_type": "markdown",
   "metadata": {},
   "source": [
    "## Helper functions"
   ]
  },
  {
   "cell_type": "code",
   "execution_count": null,
   "metadata": {},
   "outputs": [],
   "source": [
    "def gen(n):\n",
    "    phi = 0\n",
    "    while phi < 2 * np.pi:\n",
    "        yield np.array([np.cos(phi), np.sin(phi), phi])\n",
    "        phi += 2 * np.pi / n"
   ]
  },
  {
   "cell_type": "code",
   "execution_count": null,
   "metadata": {},
   "outputs": [],
   "source": [
    "def update(num, data, line):\n",
    "    line.set_data(data[:2, :num])\n",
    "    line.set_3d_properties(data[2, :num])"
   ]
  },
  {
   "cell_type": "code",
   "execution_count": null,
   "metadata": {},
   "outputs": [],
   "source": [
    "def rand_traj(trajectories):\n",
    "    num_trajectories = trajectories.shape[1]\n",
    "    return np.random.randint(num_trajectories)"
   ]
  },
  {
   "cell_type": "markdown",
   "metadata": {},
   "source": [
    "## Define Params"
   ]
  },
  {
   "cell_type": "markdown",
   "metadata": {},
   "source": [
    "### GaussianLattice"
   ]
  },
  {
   "cell_type": "code",
   "execution_count": null,
   "metadata": {
    "code_folding": [
     10
    ]
   },
   "outputs": [],
   "source": [
    "x_dim = 2\n",
    "num_distributions = 16\n",
    "var = 0.01\n",
    "L = int(np.sqrt(num_distributions))\n",
    "means = np.array([(i, j) for i in range(L) for j in range(L)])\n",
    "_sigmas = np.array([var * np.eye(x_dim) for _ in range(num_distributions)])\n",
    "pis = [1. / num_distributions] * num_distributions \n",
    "pis[0] += 1 - sum(pis)\n",
    "distribution = GMM(means, _sigmas, pis)\n",
    "\n",
    "params = {                          # default parameter values\n",
    "    'x_dim': x_dim,\n",
    "    'num_distributions': num_distributions,\n",
    "    'means': means,\n",
    "    'sigma': 0.05,\n",
    "    'small_pi': 2E-16,\n",
    "    'scale': 0.1,\n",
    "    'num_samples': 200,\n",
    "    'lr_init': 1e-3,\n",
    "    'lr_decay_steps': 1000,\n",
    "    'lr_decay_rate': 0.96, 'eps': 0.5,\n",
    "    'temp_init': 20,\n",
    "    'annealing_steps': 200,\n",
    "    'annealing_rate': 0.98,\n",
    "    #'train_trajectory_length': 15,\n",
    "    #'test_trajectory_length': 2000,\n",
    "    'num_training_steps': 30000,\n",
    "    'tunneling_rate_steps': 1000,\n",
    "    'save_steps': 1000,\n",
    "    'logging_steps': 100\n",
    "}"
   ]
  },
  {
   "cell_type": "markdown",
   "metadata": {
    "heading_collapsed": true
   },
   "source": [
    "### Ring of Gaussians"
   ]
  },
  {
   "cell_type": "code",
   "execution_count": null,
   "metadata": {
    "code_folding": [
     10
    ],
    "hidden": true
   },
   "outputs": [],
   "source": [
    "x_dim = 2\n",
    "num_distributions = 8\n",
    "sigma = 0.02\n",
    "radius = 2\n",
    "\n",
    "covs, distribution = gen_ring(r=radius, \n",
    "                              var=sigma, \n",
    "                              nb_mixtures=num_distributions)\n",
    "means = distribution.mus\n",
    "\n",
    "params = {                          # default parameter values\n",
    "    'x_dim': x_dim,\n",
    "    'num_distributions': num_distributions,\n",
    "    'means': means,\n",
    "    'sigma': 0.01,\n",
    "    'small_pi': 2E-16,\n",
    "    'scale': 0.1,\n",
    "    'num_samples': 200,\n",
    "    'lr_init': 1e-3,\n",
    "    'lr_decay_steps': 1000,\n",
    "    'lr_decay_rate': 0.96, \n",
    "    'eps': 0.5,\n",
    "    'temp_init': 20,\n",
    "    'annealing_steps': 200,\n",
    "    'annealing_rate': 0.98,\n",
    "    #'train_trajectory_length': 15,\n",
    "    #'test_trajectory_length': 2000,\n",
    "    'num_training_steps': 30000,\n",
    "    'tunneling_rate_steps': 1000,\n",
    "    'save_steps': 1000,\n",
    "    'logging_steps': 100\n",
    "}"
   ]
  },
  {
   "cell_type": "markdown",
   "metadata": {},
   "source": [
    "### Plot samples from distribution"
   ]
  },
  {
   "cell_type": "code",
   "execution_count": null,
   "metadata": {},
   "outputs": [],
   "source": [
    "samples = distribution.get_samples(1000)\n",
    "fig, ax = plt.subplots()\n",
    "ax.plot(samples[:, 0], samples[:, 1], marker='o', ls='', alpha=0.75)\n",
    "fig.tight_layout()\n",
    "plt.show()"
   ]
  },
  {
   "cell_type": "markdown",
   "metadata": {},
   "source": [
    "### Load / restore model"
   ]
  },
  {
   "cell_type": "code",
   "execution_count": null,
   "metadata": {},
   "outputs": [],
   "source": [
    "tf.reset_default_graph()"
   ]
  },
  {
   "cell_type": "code",
   "execution_count": null,
   "metadata": {},
   "outputs": [],
   "source": [
    "config = tf.ConfigProto()\n",
    "config.gpu_options.allow_growth = True\n",
    "#kwargs = {'radius': 1.0, 'sigma': sigma, 'num_distributions': 8}\n",
    "_params = {}\n",
    "model = GaussianMixtureModel(_params, \n",
    "                             config=config,\n",
    "                             log_dir='../log_mog_tf/run_376/',\n",
    "                             covs=_sigmas,\n",
    "                             distribution=distribution)\n",
    "                             #**kwargs)"
   ]
  },
  {
   "cell_type": "code",
   "execution_count": null,
   "metadata": {},
   "outputs": [],
   "source": [
    "model._restore_model()"
   ]
  },
  {
   "cell_type": "code",
   "execution_count": null,
   "metadata": {},
   "outputs": [],
   "source": [
    "model.train(10000)"
   ]
  },
  {
   "cell_type": "code",
   "execution_count": null,
   "metadata": {},
   "outputs": [],
   "source": [
    "model._save_model()"
   ]
  },
  {
   "cell_type": "markdown",
   "metadata": {},
   "source": [
    "### Generate trajectories from restored model"
   ]
  },
  {
   "cell_type": "code",
   "execution_count": null,
   "metadata": {},
   "outputs": [],
   "source": [
    "target_samples = model.distribution.get_samples(500)"
   ]
  },
  {
   "cell_type": "code",
   "execution_count": null,
   "metadata": {},
   "outputs": [],
   "source": [
    "trajectories, losses, px = model.generate_trajectories(temp=1., \n",
    "                                                       num_samples=10, \n",
    "                                                       num_steps=250)"
   ]
  },
  {
   "cell_type": "code",
   "execution_count": null,
   "metadata": {},
   "outputs": [],
   "source": [
    "#trajectories, losses, px = model.generate_trajectories(temp=10., \n",
    "#                                                       num_samples=100, \n",
    "#                                                       num_steps=250)\n",
    "idxs = [rand_traj(trajectories) for _ in range(5)]\n",
    "nums = np.arange(len(idxs))\n",
    "labels = ['trajectory ' + str(i) for i in nums]\n",
    "for num, idx in enumerate(idxs):\n",
    "    fig, ax = plt.subplots()\n",
    "    _ = ax.plot(target_samples[:,0], target_samples[:,1], \n",
    "                marker='o', ls='', alpha=0.75, color='slategrey')\n",
    "    #for i in range(3):\n",
    "    #for num, idx in enumerate(idxs):\n",
    "    _ = ax.plot(trajectories[:, idx, 0], trajectories[:, idx, 1], \n",
    "                marker='.', ls='-', alpha=0.5, color=colors[num])#, label=labels[num], color=colors[num])\n",
    "    #_ = ax.plot(trajectories[:, idxs[0], 0], trajectories[:, idxs[0], 1], marker='.', ls='-', alpha=0.5)#, label=labels[num], color=colors[num])\n",
    "    #ax.legend(loc='lower left')\n",
    "    #legend = ax.get_legend()\n",
    "    #for idx in range(len(legend.texts)):\n",
    "    #    legend.texts[idx].set_color('w')\n",
    "    fig.tight_layout()\n",
    "    plt.show()\n",
    "    #plt.savefig(f'../log_mog_tf/run_327/figures/trajectory_{num}.pdf', dpi=400, bbox_inches='tight')"
   ]
  },
  {
   "cell_type": "code",
   "execution_count": null,
   "metadata": {},
   "outputs": [],
   "source": [
    "samples = np.transpose(trajectories, [1, 0, 2])\n",
    "print(samples.shape)"
   ]
  },
  {
   "cell_type": "code",
   "execution_count": null,
   "metadata": {},
   "outputs": [],
   "source": [
    "trajectory = samples[0, :, :]"
   ]
  },
  {
   "cell_type": "code",
   "execution_count": null,
   "metadata": {},
   "outputs": [],
   "source": [
    "trajectory.shape"
   ]
  },
  {
   "cell_type": "code",
   "execution_count": null,
   "metadata": {},
   "outputs": [],
   "source": [
    "fig, ax = plt.subplots()\n",
    "_ = ax.plot(target_samples[:,0], target_samples[:,1], marker='o', ls='', alpha=0.75, color='slategrey')\n",
    "line, = ax.plot(trajectories[:, 0, 0], trajectories[:, 0, 1], marker='.', ls='-', alpha=0.5)#, color=colors[i])\n",
    "ani = animation.FuncAnimation(fig, update, 250, fargs=(trajectory[:, line),\n",
    "                              repeat=True, interval=10000/250, blit=False)\n",
    "plt.show()"
   ]
  },
  {
   "cell_type": "code",
   "execution_count": null,
   "metadata": {},
   "outputs": [],
   "source": [
    "%matplotlib notebook\n",
    "fig = plt.figure()\n",
    "ax = p3.Axes3D(fig)\n",
    "\n",
    "N = 250\n",
    "#data = np.array(list(gen(N))).T\n",
    "#_data = training_sample[:, :N]\n",
    "data1 = ts[:, :N]\n",
    "ax.scatter(init_samples[:, 0], init_samples[:, 1], init_samples[:, 2],\n",
    "           alpha=0.4, marker='o', s=10, color='slategrey')\n",
    "line, = ax.plot(data1[0, 0:1], data1[1, 0:1], data1[2, 0:1], \n",
    "                alpha=0.7, color='C1', marker='o', markersize=3, ls='-', lw=1.)\n",
    "\n",
    "ax.set_xlim(-0.5, 2.0)\n",
    "ax.set_ylim(-0.5, 2.0)\n",
    "ax.set_zlim(-0.8, 0.8)\n",
    "ax.set_xlabel('x')\n",
    "ax.set_ylabel('y')\n",
    "ax.set_zlabel('z')\n",
    "\n",
    "ani = animation.FuncAnimation(fig, update, N, fargs=(data1, line), \n",
    "                              repeat=False, interval=10000/N, blit=False)\n",
    "plt.show()"
   ]
  },
  {
   "cell_type": "code",
   "execution_count": null,
   "metadata": {},
   "outputs": [],
   "source": [
    "ani.save('./log_mog_tf/run91/MoG_trajectory_250t_32499train.gif', \n",
    "         writer='imagemagick')"
   ]
  },
  {
   "cell_type": "code",
   "execution_count": null,
   "metadata": {},
   "outputs": [],
   "source": [
    "%matplotlib notebook\n",
    "fig = plt.figure()\n",
    "ax = fig.add_subplot(111, projection='3d')\n",
    "ax.plot(training_sample.T[:10, 0], training_sample.T[:10, 1], training_sample.T[:10, 2],\n",
    "           alpha=0.5, marker='o', color='C0')\n",
    "plt.show()"
   ]
  },
  {
   "cell_type": "code",
   "execution_count": null,
   "metadata": {},
   "outputs": [],
   "source": []
  },
  {
   "cell_type": "code",
   "execution_count": null,
   "metadata": {},
   "outputs": [],
   "source": [
    "#training_samples = np.load('./log_mog_tf/run91/run_info/training_samples.npy')\n",
    "\n",
    "#training_sample = training_samples[-1, :, 0, :].T\n",
    "#print(training_sample.shape)\n",
    "\n",
    "#ts = training_samples[-1, :, -1, :].T\n",
    "\n",
    "#x_dim = 3\n",
    "#sigma = 0.05\n",
    "#means = np.array([[np.sqrt(2), 0.0, 0.0],\n",
    "#                  [0.0, np.sqrt(2), 0.0],\n",
    "#                  [np.sqrt(2), 0.0, 0.0]]).astype(np.float32)\n",
    "#cov_mtx = np.array([[sigma, 0.0, 0.0],\n",
    "#                    [0.0, sigma, 0.0],\n",
    "#                    [0.0, 0.0, sigma]]).astype(np.float32)\n",
    "#covs = np.array([cov_mtx, cov_mtx, cov_mtx]).astype(np.float32)\n",
    "                \n",
    "#small_pi = 2E-16\n",
    "#big_pi = (1 - small_pi) / 2\n",
    "#distribution = GMM(means, covs, [big_pi, big_pi, small_pi])\n",
    "#distribution = GMM(means, covs, [0.5, 0.5])\n",
    "# Get some samples from the true distribution for debugging\n",
    "#init_samples = distribution.get_samples(1000)"
   ]
  }
 ],
 "metadata": {
  "hide_input": false,
  "kernelspec": {
   "display_name": "Python 3",
   "language": "python",
   "name": "python3"
  },
  "language_info": {
   "codemirror_mode": {
    "name": "ipython",
    "version": 3
   },
   "file_extension": ".py",
   "mimetype": "text/x-python",
   "name": "python",
   "nbconvert_exporter": "python",
   "pygments_lexer": "ipython3",
   "version": "3.6.5"
  },
  "latex_envs": {
   "LaTeX_envs_menu_present": true,
   "autoclose": false,
   "autocomplete": true,
   "bibliofile": "biblio.bib",
   "cite_by": "apalike",
   "current_citInitial": 1,
   "eqLabelWithNumbers": true,
   "eqNumInitial": 1,
   "hotkeys": {
    "equation": "Ctrl-E",
    "itemize": "Ctrl-I"
   },
   "labels_anchors": false,
   "latex_user_defs": false,
   "report_style_numbering": false,
   "user_envs_cfg": false
  },
  "varInspector": {
   "cols": {
    "lenName": 16,
    "lenType": 16,
    "lenVar": 40
   },
   "kernels_config": {
    "python": {
     "delete_cmd_postfix": "",
     "delete_cmd_prefix": "del ",
     "library": "var_list.py",
     "varRefreshCmd": "print(var_dic_list())"
    },
    "r": {
     "delete_cmd_postfix": ") ",
     "delete_cmd_prefix": "rm(",
     "library": "var_list.r",
     "varRefreshCmd": "cat(var_dic_list()) "
    }
   },
   "types_to_exclude": [
    "module",
    "function",
    "builtin_function_or_method",
    "instance",
    "_Feature"
   ],
   "window_display": false
  }
 },
 "nbformat": 4,
 "nbformat_minor": 2
}
