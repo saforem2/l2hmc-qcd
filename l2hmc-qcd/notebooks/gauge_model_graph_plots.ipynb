{
 "cells": [
  {
   "cell_type": "markdown",
   "metadata": {},
   "source": [
    "# Gauge Observables"
   ]
  },
  {
   "cell_type": "markdown",
   "metadata": {},
   "source": [
    "--------------------------------------------------------------------\n",
    "### TODO:\n",
    "* [x] Generate multiple chain lengths and deal with loading in from multiple `samples_history` files.\n",
    "* [x] Implement the same logic for `observables` as for `samples_history`.\n",
    "* [x] Modify remainder of code below to deal with case where `samples` and `observables` are dictionaries with keys specifying the length of the MCMC chain.\n",
    "* [x] Re-run the cells below for the remainder of `HMC` directory to get ESS values for comparing against ESS from L2HMC.\n",
    "* [x] Try training sampler for >> 1000 steps and running the trained sampler for a variety of different chain lengths to see what the integrated autocorrelation time approaches as  $N_{steps} \\longrightarrow \\infty$.\n",
    "--------------------------------------------------------------------"
   ]
  },
  {
   "cell_type": "code",
   "execution_count": 1,
   "metadata": {
    "ExecuteTime": {
     "end_time": "2019-04-17T10:29:39.772131Z",
     "start_time": "2019-04-17T10:29:09.662028Z"
    }
   },
   "outputs": [
    {
     "name": "stderr",
     "output_type": "stream",
     "text": [
      "/usr/local/lib/python3.6/site-packages/mpl_toolkits/axes_grid/__init__.py:12: MatplotlibDeprecationWarning: \n",
      "The mpl_toolkits.axes_grid module was deprecated in Matplotlib 2.1 and will be removed two minor releases later. Use mpl_toolkits.axes_grid1 and mpl_toolkits.axisartist, which provide the same functionality instead.\n",
      "  obj_type='module')\n"
     ]
    }
   ],
   "source": [
    "import os\n",
    "import sys\n",
    "import time\n",
    "import pickle\n",
    "import numpy as np\n",
    "import tensorflow as tf\n",
    "import matplotlib.pyplot as plt\n",
    "import pandas as pd\n",
    "from collections import Counter\n",
    "from scipy.stats import sem\n",
    "from mpl_toolkits.axes_grid.inset_locator import inset_axes\n",
    "from mpl_toolkits.axes_grid1.inset_locator import zoomed_inset_axes\n",
    "from mpl_toolkits.axes_grid1.inset_locator import mark_inset\n",
    "\n",
    "from pandas.plotting import autocorrelation_plot\n",
    "from scipy.special import i0, i1\n",
    "\n",
    "module_path = os.path.abspath(os.path.join('..'))\n",
    "if module_path not in sys.path:\n",
    "    sys.path.append(module_path)\n",
    "    \n",
    "COLORS = 5 * ['C0', 'C1', 'C2', 'C3', 'C4', 'C5', 'C6', 'C7', 'C8', 'C9']\n",
    "MARKERS = 5 * ['o', 's', 'x', 'v', 'h', '^', 'p', '<', 'd', '>', 'P', 'D']\n",
    "LINESTYLES = ['-', '--', ':', '-.', '-', '--', ':', '-.', '-', '--']\n",
    "\n",
    "tf.enable_eager_execution()\n",
    "tfe = tf.contrib.eager"
   ]
  },
  {
   "cell_type": "code",
   "execution_count": 2,
   "metadata": {
    "ExecuteTime": {
     "end_time": "2019-04-17T10:29:40.920048Z",
     "start_time": "2019-04-17T10:29:39.775817Z"
    }
   },
   "outputs": [],
   "source": [
    "from scipy.stats import sem\n",
    "import utils.file_io as io\n",
    "from lattice.lattice import GaugeLattice, u1_plaq_exact\n",
    "from gauge_model import GaugeModel\n",
    "from utils.file_io import save_params_to_pkl_file\n",
    "from utils.plot_helper import plot_multiple_lines\n",
    "from utils.autocorr import *\n",
    "from utils.data_utils import (\n",
    "    calc_avg_vals_errors, block_resampling, jackknife_err\n",
    ")\n",
    "\n",
    "%autoreload 2\n",
    "%matplotlib notebook"
   ]
  },
  {
   "cell_type": "code",
   "execution_count": 18,
   "metadata": {
    "ExecuteTime": {
     "end_time": "2019-04-17T11:45:35.201587Z",
     "start_time": "2019-04-17T11:45:34.294793Z"
    }
   },
   "outputs": [],
   "source": [
    "import matplotlib.pyplot as plt\n",
    "import matplotlib as mpl"
   ]
  },
  {
   "cell_type": "code",
   "execution_count": 19,
   "metadata": {
    "ExecuteTime": {
     "end_time": "2019-04-17T11:45:40.229298Z",
     "start_time": "2019-04-17T11:45:40.164760Z"
    }
   },
   "outputs": [
    {
     "data": {
      "text/plain": [
       "'3.0.2'"
      ]
     },
     "execution_count": 19,
     "metadata": {},
     "output_type": "execute_result"
    }
   ],
   "source": [
    "mpl.__version__"
   ]
  },
  {
   "cell_type": "code",
   "execution_count": 20,
   "metadata": {
    "ExecuteTime": {
     "end_time": "2019-04-17T11:45:55.064440Z",
     "start_time": "2019-04-17T11:45:55.016146Z"
    }
   },
   "outputs": [
    {
     "data": {
      "text/plain": [
       "'matplotlib'"
      ]
     },
     "execution_count": 20,
     "metadata": {},
     "output_type": "execute_result"
    }
   ],
   "source": [
    "plt.__package__"
   ]
  },
  {
   "cell_type": "code",
   "execution_count": 21,
   "metadata": {
    "ExecuteTime": {
     "end_time": "2019-04-17T11:46:00.642961Z",
     "start_time": "2019-04-17T11:46:00.597611Z"
    }
   },
   "outputs": [
    {
     "data": {
      "text/plain": [
       "ModuleSpec(name='matplotlib.pyplot', loader=<_frozen_importlib_external.SourceFileLoader object at 0x123ab13c8>, origin='/usr/local/lib/python3.6/site-packages/matplotlib/pyplot.py')"
      ]
     },
     "execution_count": 21,
     "metadata": {},
     "output_type": "execute_result"
    }
   ],
   "source": [
    "plt.__spec__"
   ]
  },
  {
   "cell_type": "code",
   "execution_count": null,
   "metadata": {},
   "outputs": [],
   "source": [
    "mpl.__"
   ]
  },
  {
   "cell_type": "code",
   "execution_count": null,
   "metadata": {},
   "outputs": [],
   "source": [
    "p"
   ]
  },
  {
   "cell_type": "markdown",
   "metadata": {},
   "source": [
    "## Helper functions"
   ]
  },
  {
   "cell_type": "code",
   "execution_count": 3,
   "metadata": {
    "ExecuteTime": {
     "end_time": "2019-04-17T10:29:41.057649Z",
     "start_time": "2019-04-17T10:29:40.922777Z"
    },
    "code_folding": [
     0,
     5,
     15
    ]
   },
   "outputs": [],
   "source": [
    "def check_else_make_dir(d):\n",
    "    if not os.path.isdir(d):\n",
    "        print(f\"Making directory: {d}\")\n",
    "        os.makedirs(d)\n",
    "        \n",
    "def plot_individual_observables(figs_dir, observables, top_charges_autocorr):\n",
    "    multiple_lines_figs_axes = make_multiple_lines_plots(\n",
    "        figs_dir,\n",
    "        params['beta_final'],\n",
    "        observables,\n",
    "        top_charges_autocorr,\n",
    "        legend=False\n",
    "    )\n",
    "    return multiple_lines_figs_axes\n",
    "\n",
    "def plot_individual_acf_iat(acf_arr, iat_arr, ess_arr, figs_dir):\n",
    "    out_file = os.path.join(\n",
    "        figs_dir, \n",
    "        'integrated_autocorrelation_time_plot.pdf'\n",
    "    )\n",
    "    kwargs = {\n",
    "        'x_label': 'Lag',\n",
    "        'y_label': 'Autocorrelation (top. charge)',\n",
    "        'legend': True,\n",
    "        'out_file': out_file\n",
    "    }\n",
    "    fig, ax = plot_autocorr_with_iat(acf_arr, iat_arr, ess_arr, **kwargs)\n",
    "    \n",
    "    return fig, ax\n",
    "        "
   ]
  },
  {
   "cell_type": "markdown",
   "metadata": {},
   "source": [
    "## Observables analysis"
   ]
  },
  {
   "cell_type": "markdown",
   "metadata": {},
   "source": [
    "### Helper functions"
   ]
  },
  {
   "cell_type": "code",
   "execution_count": 4,
   "metadata": {
    "ExecuteTime": {
     "end_time": "2019-04-17T10:29:41.175406Z",
     "start_time": "2019-04-17T10:29:41.078374Z"
    },
    "code_folding": [
     0
    ]
   },
   "outputs": [],
   "source": [
    "def load_stats_and_observables(d):\n",
    "    \"\"\"Load actions, plaqs. and top. charges from `.pkl` files in dir `d`.\"\"\"\n",
    "    actions_file = [\n",
    "        os.path.join(d, i) for i in os.listdir(d) \n",
    "        if i.startswith('actions_steps') and i.endswith('.pkl')\n",
    "    ]\n",
    "    plaqs_file = [\n",
    "        os.path.join(d, i) for i in os.listdir(d) \n",
    "        if i.startswith('plaqs_steps') and i.endswith('.pkl')\n",
    "    ]\n",
    "    charges_file = [\n",
    "        os.path.join(d, i) for i in os.listdir(d) \n",
    "        if i.startswith('charges_steps') and i.endswith('.pkl')\n",
    "    ]\n",
    "    tun_events_file = [\n",
    "        os.path.join(d, i) for i in os.listdir(d)\n",
    "        if i.startswith('charge_diff') and i.endswith('.pkl')\n",
    "    ]\n",
    "    with open(actions_file[0], 'rb') as f:\n",
    "        actions_dict = pickle.load(f)\n",
    "    with open(plaqs_file[0], 'rb') as f:\n",
    "        plaqs_dict = pickle.load(f)\n",
    "    with open(charges_file[0], 'rb') as f:\n",
    "        charges_dict = pickle.load(f)\n",
    "    with open(tun_events_file[0], 'rb') as f:\n",
    "        tun_events = pickle.load(f)\n",
    "        \n",
    "    return actions_dict, plaqs_dict, charges_dict, tun_events"
   ]
  },
  {
   "cell_type": "code",
   "execution_count": 5,
   "metadata": {
    "ExecuteTime": {
     "end_time": "2019-04-17T10:29:41.330745Z",
     "start_time": "2019-04-17T10:29:41.182218Z"
    },
    "code_folding": [
     11
    ]
   },
   "outputs": [],
   "source": [
    "def get_observables(log_dir):\n",
    "    assert os.path.isdir(log_dir)\n",
    "    info_dir = os.path.join(log_dir, 'run_info')\n",
    "    figs_dir = os.path.join(log_dir, 'figures')\n",
    "    eval_dir = os.path.join(log_dir, 'eval_info')\n",
    "    obs_dir = os.path.join(eval_dir, 'observables')\n",
    "    training_obs_dir = os.path.join(obs_dir, 'training')\n",
    "    params_file = os.path.join(info_dir, 'parameters.pkl')\n",
    "\n",
    "    with open(params_file, 'rb') as f:\n",
    "        params = pickle.load(f)\n",
    "    for key, val in params.items():\n",
    "        print(f'{key}: {val}')\n",
    "\n",
    "    volume = params['time_size'] * params['space_size']\n",
    "    obs_dirs = [\n",
    "        os.path.join(obs_dir, i) for i in os.listdir(obs_dir) if 'steps' in i\n",
    "    ]\n",
    "    try:\n",
    "        training_obs_dirs = [\n",
    "            os.path.join(training_obs_dir, i)\n",
    "            for i in os.listdir(training_obs_dir)\n",
    "        ]\n",
    "    except FileNotFoundError:\n",
    "        training_obs_dirs = None\n",
    "        pass\n",
    "    \n",
    "    run_steps = [int(i.split('/')[-1].split('_')[1]) for i in obs_dirs]\n",
    "    betas = [float(i.split('/')[-1].split('_')[-1]) for i in obs_dirs]\n",
    "    \n",
    "    try:\n",
    "        training_steps = [\n",
    "            int(i.split('/')[-1].split('_')[0]) for i in training_obs_dirs\n",
    "        ]\n",
    "        training_run_steps = [\n",
    "            int(i.split('/')[-1].split('_')[3]) for i in training_obs_dirs\n",
    "        ]\n",
    "        training_betas = [\n",
    "            float(i.split('/')[-1].split('_')[-1]) for i in training_obs_dirs\n",
    "        ]\n",
    "    except TypeError:\n",
    "        training_steps = []\n",
    "        training_run_steps = []\n",
    "        training_betas = []\n",
    "\n",
    "    figs_dir = os.path.join(log_dir, 'figures')\n",
    "    _names = [f'{s}_steps_beta_{b}' for s, b in zip(run_steps, betas)]\n",
    "    figs_dirs = [os.path.join(figs_dir, n) for n in _names]\n",
    "    _ = [io.check_else_make_dir(d) for d in figs_dirs]\n",
    "    \n",
    "    charges_dict = {}\n",
    "    actions_dict = {}\n",
    "    plaqs_dict = {}\n",
    "    for idx, d in enumerate(obs_dirs):\n",
    "        output = load_stats_and_observables(d)\n",
    "        _actions_dict, _plaqs_dict, _charges_dict, tun_events = output\n",
    "        actions_arr = np.array(list(_actions_dict.values()))\n",
    "        plaqs_arr = np.array(list(_plaqs_dict.values()))\n",
    "        charges_arr = np.array(list(_charges_dict.values()))\n",
    "\n",
    "        keys_arr = np.array(list(_actions_dict.keys()))\n",
    "        steps_arr = keys_arr[:, 0]\n",
    "        beta = betas[idx]\n",
    "        run_steps = charges_arr.shape[0]\n",
    "\n",
    "        key = (run_steps, beta)\n",
    "        charges_dict[key] = charges_arr\n",
    "        actions_dict[key] = actions_arr\n",
    "        plaqs_dict[key] = plaqs_arr\n",
    "    \n",
    "    suscept_dict = {}\n",
    "    for key, val in charges_dict.items():\n",
    "        beta = key[1]\n",
    "        err = sem(np.mean(val, axis=0) / volume)\n",
    "        suscept_dict[beta] = (np.mean(val ** 2) / volume, err)\n",
    "\n",
    "    output = {\n",
    "        'params': params,\n",
    "        'betas': betas,\n",
    "        'run_steps': run_steps,\n",
    "        'dirs': {\n",
    "            'figs_dir': figs_dir,\n",
    "            'figs_dirs': figs_dirs,\n",
    "            'obs_dir': obs_dir,\n",
    "            'obs_dirs': obs_dirs,\n",
    "            'training_obs_dirs': training_obs_dirs,\n",
    "        },\n",
    "        'observables': {\n",
    "            'arrs': {\n",
    "                'actions': actions_arr,\n",
    "                'plaqs': plaqs_arr,\n",
    "                'charges': charges_arr,\n",
    "            },\n",
    "            'dicts': {\n",
    "                'actions': actions_dict,\n",
    "                'plaqs': plaqs_dict,\n",
    "                'charges': charges_dict,\n",
    "                'suscept': suscept_dict,\n",
    "            }\n",
    "        }\n",
    "    }\n",
    "    \n",
    "    return output"
   ]
  },
  {
   "cell_type": "code",
   "execution_count": null,
   "metadata": {},
   "outputs": [],
   "source": []
  },
  {
   "cell_type": "code",
   "execution_count": 6,
   "metadata": {
    "ExecuteTime": {
     "end_time": "2019-04-17T10:29:41.520315Z",
     "start_time": "2019-04-17T10:29:41.336946Z"
    },
    "code_folding": []
   },
   "outputs": [],
   "source": [
    "def plot_observables(steps_arr, observables, hmc=False, out_dir=None,\n",
    "                     filetype='png'):\n",
    "    actions_arr, plaqs_arr, charges_arr = observables\n",
    "    # Total actions plots\n",
    "    if not hmc:\n",
    "        title_str = (\n",
    "            f\"L2HMC: \"\n",
    "            r\"$\\beta = $\"\n",
    "            f\"{beta}\"#\", {run_steps} eval steps\"\n",
    "        )\n",
    "    else:\n",
    "        title_str = (\n",
    "            f\"HMC: \"\n",
    "            r\"$\\beta = $\"\n",
    "            f\"{beta}\"#\", {run_steps} train steps\"\n",
    "        )\n",
    "    kwargs = {\n",
    "        'out_file': None,\n",
    "        'markers': False,\n",
    "        'lines': True,\n",
    "        'alpha': 0.6,\n",
    "        'title': title_str,\n",
    "        'legend': False,\n",
    "        'ret': False,\n",
    "    }\n",
    "    if out_dir is not None:\n",
    "        kwargs['out_file'] = os.path.join(out_dir, \n",
    "                                          f'actions_vs_step.{filetype}')\n",
    "    plot_multiple_lines(steps_arr, actions_arr.T,  x_label='Step', \n",
    "                        y_label='Total action', **kwargs)\n",
    "    \n",
    "    # Average plaquettes plots\n",
    "    kwargs['ret'] = True\n",
    "    kwargs['out_file'] = None\n",
    "    _, ax = plot_multiple_lines(steps_arr, plaqs_arr.T, x_label='Step',\n",
    "                                y_label='Avg. plaquette', **kwargs)\n",
    "\n",
    "    _ = ax.axhline(y=u1_plaq_exact(beta),\n",
    "                   color='#CC0033', ls='-', lw=2.5, label='exact')\n",
    "\n",
    "    _ = ax.plot(steps_arr, plaqs_arr.T.mean(axis=0),\n",
    "                color='k', label='average', alpha=0.75)\n",
    "    if out_dir is not None:\n",
    "        out_file = os.path.join(out_dir, f'plaqs_vs_step.{filetype}')\n",
    "        print(f'Saving figure to: {out_file}.')\n",
    "        plt.savefig(out_file, dpi=400, bbox_inches='tight')\n",
    "        \n",
    "    # Topological charge plots\n",
    "    kwargs['markers'] = True\n",
    "    kwargs['lines'] = False\n",
    "    kwargs['alpha'] = 1.\n",
    "    kwargs['ret'] = False\n",
    "    if out_dir is not None:\n",
    "        out_file = os.path.join(out_dir, f'top_charge_vs_step.{filetype}')\n",
    "    plot_multiple_lines(steps_arr, charges_arr.T, x_label='Step',\n",
    "                        y_label='Topological charge', **kwargs)"
   ]
  },
  {
   "cell_type": "code",
   "execution_count": 16,
   "metadata": {
    "ExecuteTime": {
     "end_time": "2019-04-17T10:36:51.485594Z",
     "start_time": "2019-04-17T10:36:51.419586Z"
    }
   },
   "outputs": [],
   "source": [
    "def plot_observables(observables, hmc=False, out_dir=None, filetype='png'):\n",
    "    actions_arr, plaqs_arr, charges_arr = observables\n",
    "    steps_arr = np.arange(actions_arr.shape[0])\n",
    "    # Total actions plots\n",
    "    if not hmc:\n",
    "        title_str = (\n",
    "            f\"L2HMC: \"\n",
    "            r\"$\\beta = $\"\n",
    "            f\"{beta}\"#\", {run_steps} eval steps\"\n",
    "        )\n",
    "    else:\n",
    "        title_str = (\n",
    "            f\"HMC: \"\n",
    "            r\"$\\beta = $\"\n",
    "            f\"{beta}\"#\", {run_steps} train steps\"\n",
    "        )\n",
    "    kwargs = {\n",
    "        'out_file': None,\n",
    "        'markers': False,\n",
    "        'lines': True,\n",
    "        'alpha': 0.6,\n",
    "        'title': title_str,\n",
    "        'legend': False,\n",
    "        'ret': False,\n",
    "    }\n",
    "    if out_dir is not None:\n",
    "        kwargs['out_file'] = os.path.join(out_dir, \n",
    "                                          f'actions_vs_step.{filetype}')\n",
    "    plot_multiple_lines(steps_arr, actions_arr.T,  x_label='Step', \n",
    "                        y_label='Total action', **kwargs)\n",
    "    \n",
    "    # Average plaquettes plots\n",
    "    kwargs['ret'] = True\n",
    "    kwargs['out_file'] = None\n",
    "    _, ax = plot_multiple_lines(steps_arr, plaqs_arr.T, x_label='Step',\n",
    "                                y_label='Avg. plaquette', **kwargs)\n",
    "\n",
    "    _ = ax.axhline(y=u1_plaq_exact(beta),\n",
    "                   color='#CC0033', ls='-', lw=2.5, label='exact')\n",
    "\n",
    "    _ = ax.plot(steps_arr, plaqs_arr.T.mean(axis=0),\n",
    "                color='k', label='average', alpha=0.75)\n",
    "    if out_dir is not None:\n",
    "        out_file = os.path.join(out_dir, f'plaqs_vs_step.{filetype}')\n",
    "        print(f'Saving figure to: {out_file}.')\n",
    "        plt.savefig(out_file, dpi=400, bbox_inches='tight')\n",
    "        \n",
    "    # Topological charge plots\n",
    "    kwargs['markers'] = True\n",
    "    kwargs['lines'] = False\n",
    "    kwargs['alpha'] = 1.\n",
    "    kwargs['ret'] = False\n",
    "    if out_dir is not None:\n",
    "        out_file = os.path.join(out_dir, f'top_charge_vs_step.{filetype}')\n",
    "    plot_multiple_lines(steps_arr, charges_arr.T, x_label='Step',\n",
    "                        y_label='Topological charge', **kwargs)"
   ]
  },
  {
   "cell_type": "code",
   "execution_count": 7,
   "metadata": {
    "ExecuteTime": {
     "end_time": "2019-04-17T10:29:41.670243Z",
     "start_time": "2019-04-17T10:29:41.540553Z"
    },
    "code_folding": [
     0,
     2,
     8,
     15,
     23,
     47,
     59
    ]
   },
   "outputs": [],
   "source": [
    "def plot_charge_probs(charges_arr, beta, params, out_dir=None, training=False,\n",
    "                      hmc=False):\n",
    "    if not hmc:\n",
    "        title_str = (\n",
    "            f\"L2HMC: \"\n",
    "            r\"$\\beta = $\"\n",
    "            f\"{beta}, {run_steps} eval steps\"\n",
    "        )\n",
    "    else:\n",
    "        title_str = (\n",
    "            f\"HMC: \"\n",
    "            r\"$\\beta = $\"\n",
    "            f\"{beta}, {run_steps} train steps\"\n",
    "        )\n",
    "        \n",
    "    if out_dir is not None:\n",
    "        os.makedirs(out_dir)\n",
    "        \n",
    "    num_samples = params['num_samples']\n",
    "    charges = np.array(charges_arr, dtype=int)\n",
    "    _run_steps = charges.shape[0]\n",
    "\n",
    "    # if we have more than 5 samples per batch, only plot first 5\n",
    "    for idx in range(5):\n",
    "        counts = Counter(charges[:, idx])\n",
    "        total_counts = np.sum(list(counts.values()))\n",
    "        _, ax = plt.subplots()\n",
    "        ax.plot(list(counts.keys()),\n",
    "                np.array(list(counts.values()) / total_counts),\n",
    "                marker=MARKERS[idx],\n",
    "                color=COLORS[idx],\n",
    "                ls='',\n",
    "                label=f'sample {idx}')\n",
    "        _ = ax.legend(loc='best')\n",
    "        _ = ax.set_xlabel('Topological charge', fontsize=14)\n",
    "        _ = ax.set_ylabel('Probability', fontsize=14)\n",
    "        _ = ax.set_title(title_str, fontsize=16)\n",
    "        if out_dir is not None:\n",
    "            out_file = os.path.join(out_dir,\n",
    "                                    f'top_charge_prob_vs_val_{idx}.png')\n",
    "            io.log(f'Saving figure to: {out_file}.')\n",
    "            _ = plt.savefig(out_file, dpi=400, bbox_inches='tight')\n",
    "        #plt.close('all')\n",
    "\n",
    "    all_counts = Counter(list(charges.flatten()))\n",
    "    total_counts = np.sum(list(counts.values()))\n",
    "    _, ax = plt.subplots()\n",
    "    ax.plot(list(all_counts.keys()),\n",
    "            np.array(list(all_counts.values()) / (total_counts * num_samples)),\n",
    "            marker='o',\n",
    "            color='C0',\n",
    "            ls='',\n",
    "            alpha=0.6,\n",
    "            label=f\"total across {num_samples} samples\");\n",
    "    _ = ax.legend(loc='best')\n",
    "    _ = ax.set_xlabel('Topological charge', fontsize=14)\n",
    "    _ = ax.set_ylabel('Probability', fontsize=14)\n",
    "    _ = ax.set_title(title_str, fontsize=16)\n",
    "    if out_dir is not None:\n",
    "        out_file = os.path.join(out_dir,\n",
    "                                f'TOP_CHARGE_FREQUENCY_VS_VAL_TOTAL.png')\n",
    "        io.log(f'Saving figure to: {out_file}.')\n",
    "        _ = plt.savefig(out_file, dpi=400, bbox_inches='tight')"
   ]
  },
  {
   "cell_type": "code",
   "execution_count": 8,
   "metadata": {
    "ExecuteTime": {
     "end_time": "2019-04-17T10:29:41.762440Z",
     "start_time": "2019-04-17T10:29:41.676138Z"
    },
    "code_folding": [
     0,
     3,
     8,
     13,
     19,
     25
    ]
   },
   "outputs": [],
   "source": [
    "def plot_top_charges(top_charges, beta, out_dir=None, hmc=False,\n",
    "                     filetype='png'):\n",
    "    \"\"\"Plot top. charge history vs. step for individual samples.\"\"\"\n",
    "    if out_dir is not None:\n",
    "        out_dir = os.path.join(out_dir, 'top_charge_plots')\n",
    "        if not os.path.isdir(out_dir):\n",
    "            os.makedirs(out_dir)\n",
    "            \n",
    "    if not isinstance(top_charges, np.ndarray):\n",
    "        top_charges = np.array(top_charges)\n",
    "            \n",
    "    run_steps = top_charges.shape[0]\n",
    "    num_samples = top_charges.shape[1]\n",
    "    if not hmc:\n",
    "        title_str = (\n",
    "            f\"L2HMC: \"\n",
    "            r\"$\\beta = $\"\n",
    "            f\"{beta}, {run_steps} eval steps\"\n",
    "        )\n",
    "    else:\n",
    "        title_str = (\n",
    "            f\"HMC: \"\n",
    "            r\"$\\beta = $\"\n",
    "            f\"{beta}, {run_steps} train steps\"\n",
    "        )\n",
    "    for idx in range(min(num_samples, 10)):\n",
    "        _, ax = plt.subplots()\n",
    "        _ = ax.plot(top_charges[:, idx],\n",
    "                    marker=MARKERS[idx],\n",
    "                    color=COLORS[idx],\n",
    "                    ls='',\n",
    "                    alpha=0.6,\n",
    "                    label=f'sample {idx}')\n",
    "        _ = ax.legend(loc='best')\n",
    "        _ = ax.set_xlabel('Step', fontsize=14)\n",
    "        _ = ax.set_ylabel('Topological charge', fontsize=14)\n",
    "        _ = ax.set_title(title_str, fontsize=16)\n",
    "        plt.tight_layout()\n",
    "        if out_dir is not None:\n",
    "            out_file = os.path.join(out_dir, \n",
    "                                    f'top_charge_vs_step_{idx}.{filetype}')\n",
    "            print(f\"Saving figure to {out_file}.\")\n",
    "            plt.savefig(out_file, dpi=400, bbox_inches='tight')"
   ]
  },
  {
   "cell_type": "code",
   "execution_count": 9,
   "metadata": {
    "ExecuteTime": {
     "end_time": "2019-04-17T10:29:41.895296Z",
     "start_time": "2019-04-17T10:29:41.782735Z"
    },
    "code_folding": []
   },
   "outputs": [],
   "source": [
    "def plot_suscept(suscept_dict, fig_ax_pair=None, x_inset=5., **kwargs):\n",
    "    if fig_ax_pair is None:\n",
    "        fig, ax = plt.subplots()\n",
    "    else:\n",
    "        fig, ax = fig_ax_pair\n",
    "    #else:\n",
    "    #    if len(fig_ax_pair) == 2:\n",
    "    #        fig, ax = fig_ax_pair\n",
    "        #elif len(fig_ax_pair) == 3:\n",
    "        #    fig, ax, axins = fig_ax_pair\n",
    "        \n",
    "    for idx, (key, val) in enumerate(suscept_dict.items()):\n",
    "        beta = key\n",
    "        suscept, err = val\n",
    "        if idx == 0:\n",
    "            _ = ax.errorbar(beta, suscept, yerr=factor*err, **kwargs)\n",
    "            #_ = ax.plot(beta, suscept, **plt_kwargs)\n",
    "        else:\n",
    "            kwargs['label'] = ''\n",
    "            _ = ax.errorbar(beta, suscept, yerr=factor*err, **kwargs)\n",
    "            #_ = ax.plot(beta, suscept, **plt_kwargs)\n",
    "    #if axins is None:\n",
    "    #    axins = inset_axes(ax, width=\"30%\", height=\"40%\", loc=1, borderpad=1.5)\n",
    "        \n",
    "    #suscept5, err5 = suscept_dict[5.0]\n",
    "    #_ = axins.errorbar(x_inset, suscept5, yerr=factor*err5, **kwargs)\n",
    "\n",
    "    #x1, x2, y1, y2 = 4.97, 5.03, 0.005, 0.0065\n",
    "    #_ = axins.set_xlim(x1, x2)\n",
    "    #_ = axins.set_ylim(y1, y2)\n",
    "    return fig, ax #, axins"
   ]
  },
  {
   "cell_type": "markdown",
   "metadata": {},
   "source": [
    "### Define log_dir and traverse directory structure"
   ]
  },
  {
   "cell_type": "code",
   "execution_count": null,
   "metadata": {
    "ExecuteTime": {
     "end_time": "2019-04-11T09:16:14.564211Z",
     "start_time": "2019-04-11T09:16:14.505268Z"
    },
    "code_folding": []
   },
   "outputs": [],
   "source": [
    "log_dir16 = os.path.join('..', '..', 'logs', '2019_04_10', 'lattice_L16', \n",
    "                          'num_steps3', 'num_samples32', 'beta_i2_f5', \n",
    "                          'charge_weight0', 'run_1')\n",
    "log_dir16_hmc = os.path.join('..', '..', 'logs', 'HMC', 'runs_L16',\n",
    "                             'num_steps3', 'eps02094', 'num_samples32',\n",
    "                             'beta_i1_f5', 'run_1')\n",
    "#log_dir16_hmc = os.path.join(log_dir16, 'HMC', 'run_1')\n",
    "assert os.path.isdir(log_dir16)\n",
    "assert os.path.isdir(log_dir16_hmc)\n",
    "\n",
    "log_dir12 = os.path.join('..', '..', 'logs', '2019_04_10', 'lattice_L12', \n",
    "                          'num_steps5', 'num_samples50', 'beta_i2_f5', \n",
    "                          'charge_weight0', 'run_1')\n",
    "#log_dir12_hmc = os.path.join(log_dir12, 'HMC', 'run_1')\n",
    "log_dir12_hmc = os.path.join('..', '..', 'logs', 'HMC', 'runs_L12', \n",
    "                             'num_steps5', 'eps02097', 'num_samples50',\n",
    "                             'beta_i1_f5', 'run_2')\n",
    "assert os.path.isdir(log_dir12)\n",
    "assert os.path.isdir(log_dir12_hmc)\n",
    "\n",
    "log_dir8 = os.path.join('..', '..', 'logs', '2019_04_08', 'lattice_L8', \n",
    "                        'num_steps5',  'num_samples64', 'beta_i2_f45', \n",
    "                        'charge_weight0', 'run_1')\n",
    "log_dir8_hmc = os.path.join('..', '..', 'logs', 'HMC', 'runs_L8',\n",
    "                            'num_steps5', 'eps0228', 'num_samples64',\n",
    "                            'beta_i1_f5', 'run_1')\n",
    "#log_dir8_hmc = os.path.join(log_dir8, 'HMC', 'run_3')\n",
    "assert os.path.isdir(log_dir8)\n",
    "assert os.path.isdir(log_dir8_hmc)"
   ]
  },
  {
   "cell_type": "code",
   "execution_count": null,
   "metadata": {},
   "outputs": [],
   "source": [
    "'../../logs/april_2019/2019_04_16/lattice_L8/num_steps7/num_samples128/beta_i2_f5/charge_weight0/run_3/'\n",
    "log_dir16 = os.path.join('..', '..', 'logs', '', 'lattice_L16', \n",
    "                          'num_steps3', 'num_samples32', 'beta_i2_f5', \n",
    "                          'charge_weight0', 'run_1')"
   ]
  },
  {
   "cell_type": "code",
   "execution_count": 17,
   "metadata": {
    "ExecuteTime": {
     "end_time": "2019-04-17T10:36:58.769638Z",
     "start_time": "2019-04-17T10:36:58.664318Z"
    }
   },
   "outputs": [
    {
     "name": "stdout",
     "output_type": "stream",
     "text": [
      "space_size: 8\n",
      "time_size: 8\n",
      "link_type: U1\n",
      "dim: 2\n",
      "num_samples: 128\n",
      "rand: False\n",
      "num_steps: 7\n",
      "eps: 0.2\n",
      "loss_scale: 1.0\n",
      "lr_init: 0.001\n",
      "lr_decay_steps: 1000\n",
      "lr_decay_rate: 0.96\n",
      "annealing: True\n",
      "beta_init: 2.0\n",
      "beta_final: 5.0\n",
      "train_steps: 5000\n",
      "run_steps: 10000\n",
      "trace: False\n",
      "save_steps: 2500\n",
      "print_steps: 1\n",
      "logging_steps: 50\n",
      "training_samples_steps: 2500\n",
      "training_samples_length: 500\n",
      "network_arch: conv3D\n",
      "summaries: True\n",
      "long_run: False\n",
      "hmc: False\n",
      "eps_trainable: True\n",
      "metric: cos_diff\n",
      "std_weight: 1.0\n",
      "aux_weight: 1.0\n",
      "charge_weight: 0.0\n",
      "clip_grads: False\n",
      "clip_value: 1.0\n",
      "log_dir: logs/april_2019/2019_04_16/lattice_L8/num_steps7/num_samples128/beta_i2_f5/charge_weight0/\n",
      "restore: False\n",
      "profiler: False\n",
      "gpu: False\n",
      "theta: False\n",
      "use_bn: True\n",
      "horovod: False\n",
      "num_intra_threads: 0\n",
      "data_format: channels_last\n"
     ]
    },
    {
     "ename": "FileNotFoundError",
     "evalue": "[Errno 2] No such file or directory: '../../logs/april_2019/2019_04_16/lattice_L8/num_steps7/num_samples128/beta_i2_f5/charge_weight0/run_3/eval_info/observables'",
     "output_type": "error",
     "traceback": [
      "\u001b[1;31m---------------------------------------------------------------------------\u001b[0m",
      "\u001b[1;31mFileNotFoundError\u001b[0m                         Traceback (most recent call last)",
      "\u001b[1;32m<ipython-input-17-711c8c057ce6>\u001b[0m in \u001b[0;36m<module>\u001b[1;34m\u001b[0m\n\u001b[0;32m      3\u001b[0m )\n\u001b[0;32m      4\u001b[0m \u001b[0mlog_dir\u001b[0m \u001b[1;33m=\u001b[0m \u001b[0mos\u001b[0m\u001b[1;33m.\u001b[0m\u001b[0mpath\u001b[0m\u001b[1;33m.\u001b[0m\u001b[0mjoin\u001b[0m\u001b[1;33m(\u001b[0m\u001b[1;33m*\u001b[0m\u001b[0mlog_dir_str\u001b[0m\u001b[1;33m.\u001b[0m\u001b[0msplit\u001b[0m\u001b[1;33m(\u001b[0m\u001b[1;34m'/'\u001b[0m\u001b[1;33m)\u001b[0m\u001b[1;33m)\u001b[0m\u001b[1;33m\u001b[0m\u001b[0m\n\u001b[1;32m----> 5\u001b[1;33m \u001b[0moutput\u001b[0m \u001b[1;33m=\u001b[0m \u001b[0mget_observables\u001b[0m\u001b[1;33m(\u001b[0m\u001b[0mlog_dir\u001b[0m\u001b[1;33m)\u001b[0m\u001b[1;33m\u001b[0m\u001b[0m\n\u001b[0m",
      "\u001b[1;32m<ipython-input-5-b46570b91129>\u001b[0m in \u001b[0;36mget_observables\u001b[1;34m(log_dir)\u001b[0m\n\u001b[0;32m     15\u001b[0m     \u001b[0mvolume\u001b[0m \u001b[1;33m=\u001b[0m \u001b[0mparams\u001b[0m\u001b[1;33m[\u001b[0m\u001b[1;34m'time_size'\u001b[0m\u001b[1;33m]\u001b[0m \u001b[1;33m*\u001b[0m \u001b[0mparams\u001b[0m\u001b[1;33m[\u001b[0m\u001b[1;34m'space_size'\u001b[0m\u001b[1;33m]\u001b[0m\u001b[1;33m\u001b[0m\u001b[0m\n\u001b[0;32m     16\u001b[0m     obs_dirs = [\n\u001b[1;32m---> 17\u001b[1;33m         \u001b[0mos\u001b[0m\u001b[1;33m.\u001b[0m\u001b[0mpath\u001b[0m\u001b[1;33m.\u001b[0m\u001b[0mjoin\u001b[0m\u001b[1;33m(\u001b[0m\u001b[0mobs_dir\u001b[0m\u001b[1;33m,\u001b[0m \u001b[0mi\u001b[0m\u001b[1;33m)\u001b[0m \u001b[1;32mfor\u001b[0m \u001b[0mi\u001b[0m \u001b[1;32min\u001b[0m \u001b[0mos\u001b[0m\u001b[1;33m.\u001b[0m\u001b[0mlistdir\u001b[0m\u001b[1;33m(\u001b[0m\u001b[0mobs_dir\u001b[0m\u001b[1;33m)\u001b[0m \u001b[1;32mif\u001b[0m \u001b[1;34m'steps'\u001b[0m \u001b[1;32min\u001b[0m \u001b[0mi\u001b[0m\u001b[1;33m\u001b[0m\u001b[0m\n\u001b[0m\u001b[0;32m     18\u001b[0m     ]\n\u001b[0;32m     19\u001b[0m     \u001b[1;32mtry\u001b[0m\u001b[1;33m:\u001b[0m\u001b[1;33m\u001b[0m\u001b[0m\n",
      "\u001b[1;31mFileNotFoundError\u001b[0m: [Errno 2] No such file or directory: '../../logs/april_2019/2019_04_16/lattice_L8/num_steps7/num_samples128/beta_i2_f5/charge_weight0/run_3/eval_info/observables'"
     ]
    }
   ],
   "source": [
    "log_dir_str = (\n",
    "    '../../logs/april_2019/2019_04_16/lattice_L8/num_steps7/num_samples128/beta_i2_f5/charge_weight0/run_3'\n",
    ")\n",
    "log_dir = os.path.join(*log_dir_str.split('/'))\n",
    "output = get_observables(log_dir)"
   ]
  },
  {
   "cell_type": "code",
   "execution_count": null,
   "metadata": {
    "ExecuteTime": {
     "end_time": "2019-04-11T05:01:16.537108Z",
     "start_time": "2019-04-11T05:01:13.073670Z"
    },
    "code_folding": []
   },
   "outputs": [],
   "source": [
    "output16 = get_observables(log_dir16)\n",
    "output16_hmc = get_observables(log_dir16_hmc)"
   ]
  },
  {
   "cell_type": "code",
   "execution_count": null,
   "metadata": {
    "ExecuteTime": {
     "end_time": "2019-04-11T02:27:28.907893Z",
     "start_time": "2019-04-11T02:27:20.617082Z"
    },
    "code_folding": []
   },
   "outputs": [],
   "source": [
    "output12 = get_observables(log_dir12)\n",
    "output12_hmc = get_observables(log_dir12_hmc)"
   ]
  },
  {
   "cell_type": "code",
   "execution_count": null,
   "metadata": {
    "ExecuteTime": {
     "end_time": "2019-04-11T09:16:22.169950Z",
     "start_time": "2019-04-11T09:16:17.765198Z"
    },
    "code_folding": []
   },
   "outputs": [],
   "source": [
    "output8 = get_observables(log_dir8)\n",
    "output8_hmc = get_observables(log_dir8_hmc)"
   ]
  },
  {
   "cell_type": "code",
   "execution_count": null,
   "metadata": {
    "ExecuteTime": {
     "end_time": "2019-04-11T09:16:23.669160Z",
     "start_time": "2019-04-11T09:16:23.609155Z"
    }
   },
   "outputs": [],
   "source": [
    "def get_xy(suscept, offset):\n",
    "    x = np.array(list(suscept.keys())) + offset\n",
    "    xx = np.array(list(suscept.keys())) \n",
    "    y = np.array(list(suscept.values()))[:, 0]\n",
    "    err = np.array(list(suscept.values()))[:, 1]\n",
    "    return x, xx, y, err"
   ]
  },
  {
   "cell_type": "code",
   "execution_count": null,
   "metadata": {
    "ExecuteTime": {
     "end_time": "2019-04-11T09:16:24.024721Z",
     "start_time": "2019-04-11T09:16:23.955127Z"
    }
   },
   "outputs": [],
   "source": [
    "suscept8 = output8['observables']['dicts']['suscept']\n",
    "suscept8_hmc = output8_hmc['observables']['dicts']['suscept']\n",
    "suscept12 = output12['observables']['dicts']['suscept']\n",
    "suscept12_hmc = output12_hmc['observables']['dicts']['suscept']\n",
    "suscept16 = output16['observables']['dicts']['suscept']\n",
    "suscept16_hmc = output16_hmc['observables']['dicts']['suscept']\n",
    "\n",
    "offsets = 2 * np.array([0., 0.015, 0.03, 0.045, 0.06, 0.075, 0.1])\n",
    "x16, xx16, y16, y16_err = get_xy(suscept16, offsets[0])\n",
    "x16_hmc, xx16_hmc, y16_hmc, y16_hmc_err = get_xy(suscept16_hmc, offsets[1])\n",
    "x12, xx12, y12, y12_err = get_xy(suscept12, offsets[2])\n",
    "x12_hmc, xx12_hmc, y12_hmc, y12_hmc_err = get_xy(suscept12_hmc, offsets[3])\n",
    "x8, xx8, y8, y8_err = get_xy(suscept8, offsets[4])\n",
    "x8_hmc, xx8_hmc, y8_hmc, y8_hmc_err = get_xy(suscept8_hmc, offsets[5])\n",
    "\n",
    "\n",
    "ys = [y16, y16_hmc, y12, y12_hmc, y8, y8_hmc]\n",
    "xs = [x16, x16_hmc, x12, x12_hmc, x8, x8_hmc]\n",
    "xxs = [xx16, xx16_hmc, xx12, xx12_hmc, xx8, xx8_hmc]\n",
    "xxs = [xx16, xx16_hmc, xx12, xx12_hmc, xx8, xx8_hmc]\n",
    "errs = [y16_err, y16_hmc_err, y12_err, y12_hmc_err, y8_err, y8_hmc_err]"
   ]
  },
  {
   "cell_type": "code",
   "execution_count": null,
   "metadata": {
    "ExecuteTime": {
     "end_time": "2019-04-11T09:18:14.464914Z",
     "start_time": "2019-04-11T09:18:12.184828Z"
    },
    "code_folding": [
     5
    ],
    "scrolled": false
   },
   "outputs": [],
   "source": [
    "labels = []\n",
    "markers = []\n",
    "colors = []\n",
    "\n",
    "fig_ax = plt.subplots()\n",
    "kwargs = {\n",
    "    'label': 'L2HMC $L=16$',\n",
    "    'marker': 's',\n",
    "    'markersize': 8.,\n",
    "    'color': 'C0',\n",
    "    'alpha': 0.8,\n",
    "    'capsize': 4.,\n",
    "    'capthick': 1.5,\n",
    "    #'fillstyle': 'none'\n",
    "}\n",
    "labels.append(kwargs['label'])\n",
    "markers.append(kwargs['marker'])\n",
    "colors.append(kwargs['color'])\n",
    "kwargs['label'] = ''\n",
    "fig_ax = plot_suscept(suscept16, fig_ax, x_inset=offsets[1], **kwargs)\n",
    "\n",
    "kwargs['label'] = 'HMC $L=16$' # ' + r\"\"\"$L = 12$\"\"\"\n",
    "kwargs['marker'] = 's'\n",
    "kwargs['color'] = 'C0'\n",
    "kwargs['alpha'] = 1.\n",
    "kwargs['fillstyle'] = 'none'\n",
    "labels.append(kwargs['label'])\n",
    "markers.append(kwargs['marker'])\n",
    "colors.append(kwargs['color'])\n",
    "kwargs['label'] = ''\n",
    "fig_ax = plot_suscept(suscept16_hmc, fig_ax, x_inset=offsets[2], **kwargs)\n",
    "\n",
    "kwargs['label'] = 'L2HMC $L=12$' # + r\"\"\"$L = 16$\"\"\"\n",
    "kwargs['marker'] = 'o'\n",
    "kwargs['color'] = 'C2'\n",
    "kwargs['alpha'] = 0.8\n",
    "kwargs['fillstyle'] = 'full'\n",
    "labels.append(kwargs['label'])\n",
    "markers.append(kwargs['marker'])\n",
    "colors.append(kwargs['color'])\n",
    "kwargs['label'] = ''\n",
    "fig_ax = plot_suscept(suscept12, fig_ax, x_inset=offsets[1], **kwargs)\n",
    "\n",
    "kwargs['label'] = 'HMC $L=12$' #  ' + r\"\"\"$L = 8$\"\"\"\n",
    "kwargs['color'] = 'C2'\n",
    "kwargs['marker'] = 'o'\n",
    "kwargs['fillstyle'] = 'none'\n",
    "kwargs['alpha'] = 1.\n",
    "labels.append(kwargs['label'])\n",
    "markers.append(kwargs['marker'])\n",
    "colors.append(kwargs['color'])\n",
    "kwargs['label'] = ''\n",
    "fig_ax = plot_suscept(suscept12_hmc, fig_ax, x_inset=offsets[3], **kwargs)\n",
    "\n",
    "kwargs['label'] = 'L2HMC $L=8$' #  ' + r\"\"\"$L = 8$\"\"\"\n",
    "kwargs['color'] = 'C3'\n",
    "kwargs['marker'] = 'd'\n",
    "kwargs['fillstyle'] = 'full'\n",
    "kwargs['alpha'] = 0.8\n",
    "labels.append(kwargs['label'])\n",
    "markers.append(kwargs['marker'])\n",
    "colors.append(kwargs['color'])\n",
    "kwargs['label'] = ''\n",
    "fig_ax = plot_suscept(suscept8, fig_ax, x_inset=offsets[0], **kwargs)\n",
    "\n",
    "kwargs['label'] = 'HMC $L=8$' #  ' + r\"\"\"$L = 8$\"\"\"\n",
    "kwargs['color'] = 'C3'\n",
    "kwargs['marker'] = 'd'\n",
    "kwargs['alpha'] = 1.\n",
    "kwargs['fillstyle'] = 'none'\n",
    "labels.append(kwargs['label'])\n",
    "markers.append(kwargs['marker'])\n",
    "colors.append(kwargs['color'])\n",
    "kwargs['label'] = ''\n",
    "fig_ax = plot_suscept(suscept8_hmc, fig_ax, x_inset=offsets[3], **kwargs)\n",
    "\n",
    "axins = inset_axes(fig_ax[1], width=\"25%\", height=\"40%\", loc='upper center', borderpad=1.25)\n",
    "axins1 = inset_axes(fig_ax[1], width=\"25%\", height=\"40%\", loc='upper right', borderpad=1.25)\n",
    "fmts = ['C0', 'C1', 'C2', 'C3', 'C4', 'C5']\n",
    "alphas = [0.8, 1., 0.8, 1., 0.8, 1., 0.8, 1.]\n",
    "linestyles = ['-', '--', '-', '--', '-', '--']\n",
    "fillstyles = ['full', 'none', 'full', 'none', 'full', 'none']\n",
    "for idx, (x, y) in enumerate(zip(xs, ys)):\n",
    "    _ = fig_ax[1].plot(xxs[idx], y, color=colors[idx], label=labels[idx],\n",
    "                       ls=linestyles[idx], fillstyle=fillstyles[idx], alpha=alphas[idx],\n",
    "                       marker=markers[idx], markersize=kwargs['markersize'])#, lw=1.)\n",
    "    _ = axins.errorbar(xs[idx], y, yerr=errs[idx], ls='',\n",
    "                       marker=markers[idx], fillstyle=fillstyles[idx],\n",
    "                       color=colors[idx], capsize=4., capthick=1.25)\n",
    "    _ = axins1.errorbar(xs[idx], y, yerr=errs[idx], ls='',\n",
    "                        marker=markers[idx], fillstyle=fillstyles[idx],\n",
    "                        color=colors[idx], capsize=4., capthick=1.25)\n",
    "    \n",
    "fig, ax = fig_ax\n",
    "_ = ax.tick_params(labelsize=12)\n",
    "_ = ax.set_xlabel(r\"\"\"$\\beta$\"\"\", fontsize=18)\n",
    "_ = ax.set_ylabel(r\"\"\"$\\chi$\"\"\", fontsize=18)\n",
    "_ = ax.legend(loc='lower left')#, fontsize=12)\n",
    "\n",
    "x1, x2, y1, y2 = 3.95, 4.2, 0.0072, 0.0079\n",
    "_ = axins.set_xlim(x1, x2)\n",
    "_ = axins.set_ylim(y1, y2)\n",
    "_ = axins.grid('on')\n",
    "_ = axins.tick_params(labelsize=12)\n",
    "_ = axins.ticklabel_format(style='sci', scilimits=(-2, 2),\n",
    "                           useMathText=False)\n",
    "x1, x2, y1, y2 = 4.95, 5.2, 0.0052, 0.0063\n",
    "_ = axins1.set_xlim(x1, x2)\n",
    "_ = axins1.set_ylim(y1, y2)\n",
    "_ = axins1.grid('on')\n",
    "_ = axins1.tick_params(labelsize=12)\n",
    "_ = axins1.ticklabel_format(style='sci', scilimits=(-2, 2),\n",
    "                            useMathText=False)\n",
    "axins.set_xticks([4.075])\n",
    "axins.set_xticklabels(['4.0'])\n",
    "axins1.set_xticks([5.075])\n",
    "axins1.set_xticklabels(['5.0'])\n",
    "\n",
    "_ = plt.tight_layout()\n",
    "out_dir = os.path.join('..', '..', '..', 'writeup',\n",
    "                       'l2hmc_writeup', 'figures', 'suscept_plots')\n",
    "io.check_else_make_dir(out_dir)\n",
    "suscept_files = [\n",
    "    i for i in os.listdir(out_dir) if i.startswith('topological_suscept_vs_beta_all_')\n",
    "]\n",
    "try:\n",
    "    file_num = int(sorted(\n",
    "        [i.split('_')[-1][:-4] for i in suscept_files]\n",
    "    )[-1]) + 1\n",
    "except IndexError:\n",
    "    file_num = 1\n",
    "\n",
    "out_file = os.path.join(out_dir, f'topological_suscept_vs_beta_all_{file_num}.eps')\n",
    "print(f'Saving figure to: {out_file}.')\n",
    "_ = plt.savefig(out_file, dpi=400, bbox_inches='tight')"
   ]
  },
  {
   "cell_type": "code",
   "execution_count": null,
   "metadata": {
    "ExecuteTime": {
     "end_time": "2019-04-11T08:46:58.392442Z",
     "start_time": "2019-04-11T08:46:58.331953Z"
    }
   },
   "outputs": [],
   "source": [
    "xs_ = np.copy(xs)\n",
    "for i in xs_:\n",
    "    i[-2] -= 0.25\n",
    "    i[-1] += 0.25\n",
    "#[i[-2] + 0.25 for i in xxs]\n",
    "#[i[-1] - 0.25 for i in xxs]\n",
    "xs"
   ]
  },
  {
   "cell_type": "code",
   "execution_count": null,
   "metadata": {},
   "outputs": [],
   "source": [
    "file_num = sorted([i.split('_')[-1].rstrip('.eps') for i in suscept_files])[-1] + 1\n",
    "out_file = os.path.join(out_dir, f'topological_suscept_vs_beta_all_{file_num}.eps')"
   ]
  },
  {
   "cell_type": "code",
   "execution_count": null,
   "metadata": {
    "ExecuteTime": {
     "end_time": "2019-04-11T08:01:34.693817Z",
     "start_time": "2019-04-11T08:01:34.651422Z"
    }
   },
   "outputs": [],
   "source": [
    "out_file = os.path.join(out_dir, 'topological_suscept_vs_beta_L8_12_16_1.eps')"
   ]
  },
  {
   "cell_type": "code",
   "execution_count": null,
   "metadata": {
    "ExecuteTime": {
     "end_time": "2019-04-11T08:02:05.983775Z",
     "start_time": "2019-04-11T08:02:05.936631Z"
    }
   },
   "outputs": [],
   "source": [
    "file_name = out_file.split('/')[-1]\n",
    "file_num = int(file_name.split('_')[-1].rstrip('.eps'))\n",
    "file_num += 1\n",
    "_file_name = file_name.rstrip(str(file_num-1) + '.eps')\n",
    "file_name = _file_name + str(file_num) + '.eps'\n",
    "file_name"
   ]
  },
  {
   "cell_type": "code",
   "execution_count": null,
   "metadata": {
    "ExecuteTime": {
     "end_time": "2019-04-11T00:43:59.094322Z",
     "start_time": "2019-04-11T00:43:56.607647Z"
    }
   },
   "outputs": [],
   "source": [
    "from scipy.stats import sem\n",
    "charges_dict = {}\n",
    "actions_dict = {}\n",
    "plaqs_dict = {}\n",
    "volume = params['time_size'] * params['space_size']\n",
    "print(\"time_size: {}\".format(params['time_size']))\n",
    "print(\"space_size: {}\".format(params['space_size']))\n",
    "print(\"num_steps: {}\".format(params['num_steps']))\n",
    "print(\"num_samples: {}\".format(params['num_samples']))\n",
    "      \n",
    "\n",
    "for idx, d in enumerate(obs_dirs):\n",
    "    output = load_stats_and_observables(d)\n",
    "    _actions_dict, _plaqs_dict, _charges_dict, tun_events = output\n",
    "    actions_arr = np.array(list(_actions_dict.values()))\n",
    "    plaqs_arr = np.array(list(_plaqs_dict.values()))\n",
    "    charges_arr = np.array(list(_charges_dict.values()))\n",
    "    \n",
    "    keys_arr = np.array(list(_actions_dict.keys()))\n",
    "    steps_arr = keys_arr[:, 0]\n",
    "    beta = betas[idx]\n",
    "    run_steps = charges_arr.shape[0]\n",
    "    \n",
    "    key = (run_steps, beta)\n",
    "    charges_dict[key] = charges_arr\n",
    "    actions_dict[key] = actions_arr\n",
    "    plaqs_dict[key] = plaqs_arr\n",
    "\n",
    "suscept_dict = {}\n",
    "for key, val in charges_dict.items():\n",
    "    beta = key[1]\n",
    "    suscept_dict[beta] = np.mean(val ** 2, axis=0) / volume\n",
    "\n",
    "charges_dict_hmc = {}\n",
    "actions_dict_hmc = {}\n",
    "plaqs_dict_hmc = {}\n",
    "\n",
    "for idx, d in enumerate(obs_dirs_hmc):\n",
    "    output = load_stats_and_observables(d)\n",
    "    _actions_dict, _plaqs_dict, _charges_dict, tun_events = output\n",
    "    actions_arr = np.array(list(_actions_dict.values()))\n",
    "    plaqs_arr = np.array(list(_plaqs_dict.values()))\n",
    "    charges_arr = np.array(list(_charges_dict.values()))\n",
    "    \n",
    "    keys_arr = np.array(list(_actions_dict.keys()))\n",
    "    steps_arr = keys_arr[:, 0]\n",
    "    beta = betas[idx]\n",
    "    run_steps = charges_arr.shape[0]\n",
    "    \n",
    "    key = (run_steps, beta)\n",
    "    charges_dict_hmc[key] = charges_arr\n",
    "    actions_dict_hmc[key] = actions_arr\n",
    "    plaqs_dict_hmc[key] = plaqs_arr\n",
    "\n",
    "suscept_dict_hmc = {}\n",
    "for key, val in charges_dict_hmc.items():\n",
    "    beta = key[1]\n",
    "    suscept_dict_hmc[beta] = np.mean(val ** 2, axis=0)"
   ]
  },
  {
   "cell_type": "code",
   "execution_count": null,
   "metadata": {
    "ExecuteTime": {
     "end_time": "2019-04-11T00:44:04.975782Z",
     "start_time": "2019-04-11T00:44:03.496197Z"
    },
    "code_folding": [],
    "scrolled": false
   },
   "outputs": [],
   "source": [
    "ax.tick_params(labelsize=12)\n",
    "\n",
    "_ = ax.set_xlabel(r\"\"\"$\\beta$\"\"\", fontsize=18)\n",
    "_ = ax.set_ylabel(r\"\"\"$\\chi$\"\"\", fontsize=18)\n",
    "_ = ax.legend(loc='best', fontsize=16)\n",
    "\n",
    "_figs_dir = os.path.join(log_dir, 'figures_orig')\n",
    "out_file = os.path.join(_figs_dir, 'topological_suscept_vs_beta_both.eps')\n",
    "_ = plt.tight_layout()\n",
    "print(f'Saving figure to: {out_file}.')\n",
    "_ = plt.savefig(out_file, dpi=400, bbox_inches='tight')"
   ]
  },
  {
   "cell_type": "code",
   "execution_count": null,
   "metadata": {
    "ExecuteTime": {
     "end_time": "2019-04-11T11:31:17.543088Z",
     "start_time": "2019-04-11T11:31:17.480058Z"
    }
   },
   "outputs": [],
   "source": [
    "obs_arrs8 = output8['observables']['arrs']"
   ]
  },
  {
   "cell_type": "code",
   "execution_count": null,
   "metadata": {
    "ExecuteTime": {
     "end_time": "2019-04-11T11:46:59.385949Z",
     "start_time": "2019-04-11T11:46:59.335918Z"
    }
   },
   "outputs": [],
   "source": [
    "_log_dir8_1 = '../../logs/conv3D_logs/lattice_L8/old_charge_loss/num_steps5/eps_init03/num_samples64/beta_i2_f5/lr_init1e-3/charge_weight1/run_2/'\n",
    "#..,..,logs,conv3D_logs,lattice_L8,old_charge_loss,num_steps5,eps_init03,num_samples64,beta_i2_f5,lr_init1e-3,charge_weight1,run_2,\n",
    "_log_dir8_0= '../../logs/conv3D_logs/lattice_L8/old_charge_loss/num_steps5/eps_init03/num_samples64/beta_i2_f5/lr_init1e-3/charge_weight0/run_4/'"
   ]
  },
  {
   "cell_type": "code",
   "execution_count": null,
   "metadata": {
    "ExecuteTime": {
     "end_time": "2019-04-11T11:47:01.447088Z",
     "start_time": "2019-04-11T11:47:00.414221Z"
    }
   },
   "outputs": [],
   "source": [
    "_output8_1 = get_observables(_log_dir8_1)\n",
    "_output8_0 = get_observables(_log_dir8_0)"
   ]
  },
  {
   "cell_type": "code",
   "execution_count": null,
   "metadata": {
    "ExecuteTime": {
     "end_time": "2019-04-11T11:48:22.431682Z",
     "start_time": "2019-04-11T11:48:22.374190Z"
    }
   },
   "outputs": [],
   "source": [
    "obs_arrs8_1 = _output8_1['observables']['arrs']\n",
    "obs_arrs8_0 = _output8_0['observables']['arrs']"
   ]
  },
  {
   "cell_type": "code",
   "execution_count": null,
   "metadata": {
    "ExecuteTime": {
     "end_time": "2019-04-11T11:47:35.095769Z",
     "start_time": "2019-04-11T11:47:35.034222Z"
    }
   },
   "outputs": [],
   "source": [
    "keys_arr8_1 = np.array(list(_output8_1['observables']['dicts']['actions'].keys()))\n",
    "keys_arr8_0 = np.array(list(_output8_0['observables']['dicts']['actions'].keys()))\n",
    "keys_arr8_1 == keys_arr8_0\n",
    "steps_arr = keys_arr[:, 0]"
   ]
  },
  {
   "cell_type": "code",
   "execution_count": null,
   "metadata": {
    "ExecuteTime": {
     "end_time": "2019-04-11T11:48:52.871051Z",
     "start_time": "2019-04-11T11:48:52.817987Z"
    }
   },
   "outputs": [],
   "source": [
    "#out_dir = output8['fi']\n",
    "obs8_1 = (obs_arrs8_1['actions'], obs_arrs8_1['plaqs'], obs_arrs8_1['charges'])\n",
    "obs8_0 = (obs_arrs8_0['actions'], obs_arrs8_0['plaqs'], obs_arrs8_0['charges'])"
   ]
  },
  {
   "cell_type": "code",
   "execution_count": null,
   "metadata": {},
   "outputs": [],
   "source": [
    "steps_arr = np.arange(25000)"
   ]
  },
  {
   "cell_type": "code",
   "execution_count": null,
   "metadata": {
    "ExecuteTime": {
     "end_time": "2019-04-11T12:00:46.188539Z",
     "start_time": "2019-04-11T12:00:38.130441Z"
    }
   },
   "outputs": [],
   "source": [
    "out_dir = '../../../writeup/l2hmc_writeup/figures/plaq_plots/good_converge/'\n",
    "io.check_else_make_dir(out_dir)\n",
    "plot_observables(steps_arr, obs8_0, out_dir=out_dir, filetype='eps', hmc=False)"
   ]
  },
  {
   "cell_type": "code",
   "execution_count": null,
   "metadata": {
    "ExecuteTime": {
     "end_time": "2019-04-11T12:00:53.170892Z",
     "start_time": "2019-04-11T12:00:46.221607Z"
    }
   },
   "outputs": [],
   "source": [
    "out_dir = '../../../writeup/l2hmc_writeup/figures/plaq_plots/bad_converge/'\n",
    "io.check_else_make_dir(out_dir)\n",
    "plot_observables(steps_arr, obs8_1, out_dir=out_dir, filetype='eps', hmc=False)"
   ]
  },
  {
   "cell_type": "code",
   "execution_count": null,
   "metadata": {
    "ExecuteTime": {
     "end_time": "2019-04-11T11:38:38.786554Z",
     "start_time": "2019-04-11T11:38:36.970252Z"
    },
    "scrolled": false
   },
   "outputs": [],
   "source": [
    "out_dir = '../../../writeup/l2hmc_writeup/figures/plaq_plots/'\n",
    "fig, ax = plt.subplots()\n",
    "plot_observables()\n",
    "plot_observables(steps_arr, , out_dir=out_dir, filetype='eps', hmc=False)"
   ]
  },
  {
   "cell_type": "code",
   "execution_count": null,
   "metadata": {
    "ExecuteTime": {
     "end_time": "2019-04-09T02:32:21.365265Z",
     "start_time": "2019-04-09T02:31:11.705192Z"
    }
   },
   "outputs": [],
   "source": [
    "for idx, d in enumerate(obs_dirs):\n",
    "    output = load_stats_and_observables(d)\n",
    "    actions_dict, plaqs_dict, charges_dict, tun_events = output\n",
    "    \n",
    "    actions_arr = np.array(list(actions_dict.values()))\n",
    "    plaqs_arr = np.array(list(plaqs_dict.values()))\n",
    "    charges_arr = np.array(list(charges_dict.values()))\n",
    "\n",
    "    keys_arr = np.array(list(actions_dict.keys()))\n",
    "    steps_arr = keys_arr[:, 0]\n",
    "    beta = betas[idx]\n",
    "    run_steps = charges_arr.shape[0]\n",
    "    if not os.path.isdir(figs_dirs[idx]):\n",
    "        os.makedirs(figs_dirs[idx])\n",
    "    observables = (actions_arr, plaqs_arr, charges_arr)\n",
    "    plot_observables(steps_arr, observables, hmc=False,\n",
    "                     out_dir=figs_dirs[idx], filetype='eps')\n",
    "    plot_top_charges(charges_arr, beta, out_dir=figs_dir, filetype='eps',\n",
    "                     hmc=False)\n",
    "    #out_dir = os.path.join(figs_dirs[idx], 'top_charge_probs')\n",
    "    #num_samples = params['num_samples']\n",
    "    #plot_charge_probs(charges_arr, beta, params, out_dir, training=False)"
   ]
  },
  {
   "cell_type": "code",
   "execution_count": null,
   "metadata": {
    "ExecuteTime": {
     "end_time": "2019-04-08T21:45:16.818750Z",
     "start_time": "2019-04-08T21:45:02.196966Z"
    },
    "scrolled": false
   },
   "outputs": [],
   "source": [
    "for idx, d in enumerate(obs_dirs):\n",
    "    plt.close('all')\n",
    "    output = load_stats_and_observables(d)\n",
    "    actions_dict, plaqs_dict, charges_dict, tun_events = output\n",
    "    \n",
    "    actions_arr = np.array(list(actions_dict.values()))\n",
    "    plaqs_arr = np.array(list(plaqs_dict.values()))\n",
    "    charges_arr = np.array(list(charges_dict.values()))\n",
    "\n",
    "    keys_arr = np.array(list(actions_dict.keys()))\n",
    "    steps_arr = keys_arr[:, 0]\n",
    "    beta = keys_arr[0, 1]\n",
    "    run_steps = charges_arr.shape[0]\n",
    "    #run_steps = charges.shape[0]\n",
    "    if not os.path.isdir(figs_dir):\n",
    "        os.makedirs(figs_dir)\n",
    "    observables = (actions_arr, plaqs_arr, charges_arr)\n",
    "    plot_susceptibility(charges_arr[::5], beta, out_dir=figs_dir, filetype='eps')\n",
    "    beta = betas[idx]\n",
    "    #out_dir = os.path.join(figs_dirs[idx], 'top_charge_probs')\n",
    "    #num_samples = params['num_samples']\n",
    "    #plot_charge_probs(charges_arr, beta, params, out_dir, training=False)"
   ]
  },
  {
   "cell_type": "code",
   "execution_count": null,
   "metadata": {
    "ExecuteTime": {
     "end_time": "2019-03-24T18:47:12.376795Z",
     "start_time": "2019-03-24T18:47:12.292752Z"
    }
   },
   "outputs": [],
   "source": [
    "from gauge_model import create_dynamics"
   ]
  },
  {
   "cell_type": "code",
   "execution_count": null,
   "metadata": {
    "ExecuteTime": {
     "end_time": "2019-03-24T18:48:31.761538Z",
     "start_time": "2019-03-24T18:48:31.654556Z"
    }
   },
   "outputs": [],
   "source": [
    "samples = tf.convert_to_tensor(np.zeros((params['num_samples'],\n",
    "                                         params['time_size'],\n",
    "                                         params['space_size'],\n",
    "                                         params['dim'])))\n",
    "samples.shape"
   ]
  },
  {
   "cell_type": "code",
   "execution_count": null,
   "metadata": {
    "ExecuteTime": {
     "end_time": "2019-03-24T18:49:24.777736Z",
     "start_time": "2019-03-24T18:49:24.696117Z"
    }
   },
   "outputs": [],
   "source": [
    "x = tf.reshape(samples, (params['num_samples'], -1))\n",
    "x.shape"
   ]
  },
  {
   "cell_type": "code",
   "execution_count": null,
   "metadata": {
    "ExecuteTime": {
     "end_time": "2019-03-24T18:49:46.802400Z",
     "start_time": "2019-03-24T18:49:46.747355Z"
    }
   },
   "outputs": [],
   "source": [
    "params['eps']"
   ]
  },
  {
   "cell_type": "code",
   "execution_count": null,
   "metadata": {
    "ExecuteTime": {
     "end_time": "2019-03-24T18:51:56.529870Z",
     "start_time": "2019-03-24T18:51:56.469726Z"
    }
   },
   "outputs": [],
   "source": [
    "x_np = np.zeros(x.shape)\n",
    "x_np.shape"
   ]
  },
  {
   "cell_type": "code",
   "execution_count": null,
   "metadata": {
    "ExecuteTime": {
     "end_time": "2019-03-25T14:57:41.463650Z",
     "start_time": "2019-03-25T14:57:39.320445Z"
    }
   },
   "outputs": [],
   "source": [
    "from lattice.lattice import u1_plaq_exact"
   ]
  },
  {
   "cell_type": "code",
   "execution_count": null,
   "metadata": {
    "ExecuteTime": {
     "end_time": "2019-03-24T18:52:15.515798Z",
     "start_time": "2019-03-24T18:52:15.452487Z"
    }
   },
   "outputs": [],
   "source": [
    "samples_np = np.zeros(samples.shape)\n",
    "samples_np.shape"
   ]
  },
  {
   "cell_type": "code",
   "execution_count": null,
   "metadata": {
    "ExecuteTime": {
     "end_time": "2019-03-25T23:21:28.211349Z",
     "start_time": "2019-03-25T23:21:28.105722Z"
    }
   },
   "outputs": [],
   "source": [
    "kwargs = {\n",
    "    'eps': params['eps'],\n",
    "    'hmc': False,\n",
    "    'network_arch': None,\n",
    "    'num_steps': params['num_steps'],\n",
    "    'eps_trainable': False,\n",
    "    'data_format': 'channels_last',\n",
    "    'rand': False,\n",
    "    'link_type': 'U1',\n",
    "}\n",
    "dynamics, potential_fn = create_dynamics(samples_np, **kwargs)"
   ]
  },
  {
   "cell_type": "code",
   "execution_count": null,
   "metadata": {
    "ExecuteTime": {
     "end_time": "2019-03-25T23:50:41.350992Z",
     "start_time": "2019-03-25T23:50:41.219617Z"
    }
   },
   "outputs": [],
   "source": [
    "dynamics_kwargs = {\n",
    "    'eps': params.get('eps', 0.1),\n",
    "    'hmc': params.get('hmc', False),\n",
    "    'network_arch': params.get('network_arch', 'conv3d'),\n",
    "    'num_steps': params.get('num_steps', 5),\n",
    "    'eps_trainable': params.get('eps_trainable', True),\n",
    "    'data_format': params.get('data_format', 'channels_last'),\n",
    "    'rand': params.get('rand', False),\n",
    "    'link_type': params.get('link_type')\n",
    "}\n",
    "dynamics, potential_fn = create_dynamics(samples_np, **dynamics_kwargs)"
   ]
  },
  {
   "cell_type": "code",
   "execution_count": null,
   "metadata": {
    "ExecuteTime": {
     "end_time": "2019-03-25T23:20:19.330391Z",
     "start_time": "2019-03-25T23:20:19.159032Z"
    }
   },
   "outputs": [],
   "source": [
    "x = np.array(x_np, dtype=np.float32)\n",
    "x_proposed, _, px, x_out = dynamics(x, beta=5.)"
   ]
  },
  {
   "cell_type": "code",
   "execution_count": null,
   "metadata": {},
   "outputs": [],
   "source": [
    "output =  load_stats_and_observables(obs_dirs[1])\n",
    "actions_dict, plaqs_dict, charges_dict, tun_events = output"
   ]
  },
  {
   "cell_type": "code",
   "execution_count": null,
   "metadata": {},
   "outputs": [],
   "source": [
    "actions_arr = np.array(list(actions_dict.values()))\n",
    "plaqs_arr = np.array(list(plaqs_dict.values()))\n",
    "charges_arr = np.array(list(charges_dict.values()))\n",
    "\n",
    "keys_arr = np.array(list(actions_dict.keys()))\n",
    "steps_arr = keys_arr[:, 0]\n",
    "beta = keys_arr[0, 1]\n",
    "_run_steps = charges.shape[0]"
   ]
  },
  {
   "cell_type": "code",
   "execution_count": null,
   "metadata": {},
   "outputs": [],
   "source": [
    "charges_arr = np.array(charges_arr, dtype=int)"
   ]
  },
  {
   "cell_type": "code",
   "execution_count": null,
   "metadata": {},
   "outputs": [],
   "source": [
    "from utils.plot_helper import plot_multiple_lines"
   ]
  },
  {
   "cell_type": "code",
   "execution_count": null,
   "metadata": {},
   "outputs": [],
   "source": [
    "observables = (actions_arr, plaqs_arr, charges_arr)\n",
    "plot_observables(steps_arr, observables, train=False)"
   ]
  },
  {
   "cell_type": "code",
   "execution_count": null,
   "metadata": {},
   "outputs": [],
   "source": [
    "beta = betas[1]\n",
    "out_dir = os.path.join(figs_dirs[1], 'top_charge_probs')\n",
    "num_samples = params['num_samples']\n",
    "\n",
    "plot_charge_probs(charges_arr, beta, params, out_dir, training=False)"
   ]
  },
  {
   "cell_type": "code",
   "execution_count": null,
   "metadata": {},
   "outputs": [],
   "source": [
    "x = np.arange(-4, 4, 1e-4)\n",
    "y_exact = project_angle(x)\n",
    "y_slow = linear_fft(x)\n",
    "y_approx_arr = []\n",
    "num_terms = [10, 20, 50, 100, 250, 500, 1000]\n",
    "times = []\n",
    "for n in num_terms:\n",
    "    t0 = time.time()\n",
    "    y_approx_arr.append(linear_fs(x, n))\n",
    "    dt = time.time() - t0\n",
    "    print(f'Time to complete ({n} terms): {dt:.4g}')\n",
    "    times.append(time.time() - t0)"
   ]
  },
  {
   "cell_type": "code",
   "execution_count": null,
   "metadata": {},
   "outputs": [],
   "source": [
    "errs = []\n",
    "for idx, y in enumerate(y_approx_arr):\n",
    "    err = sum((y - y_exact)/len(y_exact.numpy()))\n",
    "    print(f\"Error ({num_terms[idx]} terms): {err:.4g}\")\n",
    "    errs.append(err)"
   ]
  },
  {
   "cell_type": "code",
   "execution_count": null,
   "metadata": {},
   "outputs": [],
   "source": [
    "top_charges = int(\n",
    "    0.1 + (tf.reduce_sum(ps_proj, axis=(1, 2),\n",
    "                         name='top_charges') / 2 * np.pi)\n",
    ")\n"
   ]
  },
  {
   "cell_type": "code",
   "execution_count": null,
   "metadata": {},
   "outputs": [],
   "source": [
    "yy1 = np.array((y_exact / 2 * np.pi), dtype=int)\n",
    "yy = np.array(y_approx_arr[1] / 2 * np.pi, dtype=int)"
   ]
  },
  {
   "cell_type": "code",
   "execution_count": null,
   "metadata": {},
   "outputs": [],
   "source": [
    "fig, ax = plt.subplots()\n",
    "ax.plot(np.arange(len(yy)), yy1, label='exact')\n",
    "ax.plot(np.arange(len(yy)), yy, label='fft')\n",
    "ax.legend()\n",
    "plt.show()"
   ]
  },
  {
   "cell_type": "code",
   "execution_count": null,
   "metadata": {},
   "outputs": [],
   "source": [
    "fig, ax = plt.subplots()\n",
    "for idx, y in enumerate(y_approx_arr):\n",
    "    ax.plot(x, y, label = f'{num_terms[idx]} terms', alpha=0.7, ls='-');\n",
    "ax.plot(x, y_exact, label='Exact', color='k');\n",
    "ax.legend(loc='best', fontsize=10);\n",
    "ax.set_xlabel('x');\n",
    "ax.set_ylabel('y');\n",
    "#ax.set_xlim((-np.pi-0.05, -np.pi + 0.05))\n",
    "out_file = os.path.join(os.getcwd(), 'fourier_series_approx_zoom.png');\n",
    "print(f'Saving figure to: {out_file}.');\n",
    "plt.savefig(out_file, dpi=400, bbox_inches='tight');\n",
    "plt.show();"
   ]
  },
  {
   "cell_type": "code",
   "execution_count": null,
   "metadata": {},
   "outputs": [],
   "source": [
    "fig, ax = plt.subplots()\n",
    "for idx, y in enumerate(y_approx_arr):\n",
    "    ax.plot(x, y, label = f'{num_terms[idx]} terms', alpha=0.7, ls='-');\n",
    "ax.plot(x, y_exact, label='Exact', color='k');\n",
    "ax.legend(loc='best', fontsize=10);\n",
    "ax.set_xlabel('x');\n",
    "ax.set_ylabel('y');\n",
    "ax.set_xlim((-np.pi-0.05, -np.pi + 0.05))\n",
    "out_file = os.path.join(os.getcwd(), 'fourier_series_approx_zoom.png');\n",
    "print(f'Saving figure to: {out_file}.');\n",
    "plt.savefig(out_file, dpi=400, bbox_inches='tight');\n",
    "plt.show();"
   ]
  },
  {
   "cell_type": "code",
   "execution_count": null,
   "metadata": {},
   "outputs": [],
   "source": [
    "def calc_plaq_sums(x, batch_size, links_shape):\n",
    "    \"\"\"Calculate plaquette sums.\n",
    "\n",
    "    Explicitly, calculate the sum of the links around each plaquette in the\n",
    "    lattice for each sample in samples.\n",
    "\n",
    "    Args:\n",
    "        samples: Tensor of shape (N, D) where N is the batch size and D is\n",
    "        the number of links on the lattice (flattened)\n",
    "    \"\"\"\n",
    "    x = np.reshape(x, shape=(batch_size, *links.shape))\n",
    "\n",
    "    plaq_sums = (x[:, :, :, 0]\n",
    "                 - x[:, :, :, 1]\n",
    "                 - np.roll(x[:, :, :, 0], shift=-1, axis=2)\n",
    "                 + np.roll(x[:, :, :, 1], shift=-1, axis=1))\n",
    "    return plaq_sums"
   ]
  },
  {
   "cell_type": "code",
   "execution_count": null,
   "metadata": {},
   "outputs": [],
   "source": [
    "def calc_top_charges(x, batch_size, links_Shape, fn=np.floor):\n",
    "    \"\"\"Calculate topological charges for each sample in samples.\"\"\"\n",
    "    top_charges = fn(\n",
    "        0.1 + (np.sum(project_angle(calc_plaq_sums(x)), axis=(1, 2))\n",
    "               / (2 * np.pi))\n",
    "    )\n",
    "    return top_charges"
   ]
  },
  {
   "cell_type": "code",
   "execution_count": null,
   "metadata": {
    "code_folding": [
     0
    ]
   },
   "outputs": [],
   "source": [
    "###############################################\n",
    "# OLD SUSCEPTIBILITY PLOTTER\n",
    "###############################################\n",
    "factor = 1.\n",
    "labels = []\n",
    "markers = []\n",
    "colors = []\n",
    "\n",
    "fig_ax = plt.subplots()\n",
    "kwargs = {\n",
    "    'label': 'L2HMC $L=16$',\n",
    "    'marker': 's',\n",
    "    'markersize': 8.,\n",
    "    'color': 'C0',\n",
    "    'alpha': 1.,\n",
    "    'capsize': 4.,\n",
    "    'capthick': 1.5,\n",
    "    #'fillstyle': 'none'\n",
    "}\n",
    "labels.append(kwargs['label'])\n",
    "markers.append(kwargs['marker'])\n",
    "colors.append(kwargs['color'])\n",
    "kwargs['label'] = ''\n",
    "fig_ax = plot_suscept(suscept16, fig_ax, x_inset=offsets[1], **kwargs)\n",
    "\n",
    "kwargs['label'] = 'HMC $L=16$' # ' + r\"\"\"$L = 12$\"\"\"\n",
    "kwargs['marker'] = 's'\n",
    "kwargs['color'] = 'C0'\n",
    "kwargs['alpha'] = 0.8\n",
    "kwargs['fillstyle'] = 'none'\n",
    "labels.append(kwargs['label'])\n",
    "markers.append(kwargs['marker'])\n",
    "colors.append(kwargs['color'])\n",
    "kwargs['label'] = ''\n",
    "fig_ax = plot_suscept(suscept16_hmc, fig_ax, x_inset=offsets[2], **kwargs)\n",
    "\n",
    "kwargs['label'] = 'L2HMC $L=12$' # + r\"\"\"$L = 16$\"\"\"\n",
    "kwargs['marker'] = 'o'\n",
    "kwargs['color'] = 'C2'\n",
    "kwargs['alpha'] = 0.8\n",
    "kwargs['fillstyle'] = 'full'\n",
    "labels.append(kwargs['label'])\n",
    "markers.append(kwargs['marker'])\n",
    "colors.append(kwargs['color'])\n",
    "kwargs['label'] = ''\n",
    "fig_ax = plot_suscept(suscept12, fig_ax, x_inset=offsets[1], **kwargs)\n",
    "\n",
    "\n",
    "kwargs['label'] = 'HMC $L=12$' #  ' + r\"\"\"$L = 8$\"\"\"\n",
    "kwargs['color'] = 'C2'\n",
    "kwargs['marker'] = 'o'\n",
    "kwargs['fillstyle'] = 'none'\n",
    "labels.append(kwargs['label'])\n",
    "markers.append(kwargs['marker'])\n",
    "colors.append(kwargs['color'])\n",
    "kwargs['label'] = ''\n",
    "fig_ax = plot_suscept(suscept12_hmc, fig_ax, x_inset=offsets[3], **kwargs)\n",
    "\n",
    "kwargs['label'] = 'L2HMC $L=8$' #  ' + r\"\"\"$L = 8$\"\"\"\n",
    "kwargs['color'] = 'C3'\n",
    "kwargs['marker'] = 'd'\n",
    "kwargs['fillstyle'] = 'full'\n",
    "labels.append(kwargs['label'])\n",
    "markers.append(kwargs['marker'])\n",
    "colors.append(kwargs['color'])\n",
    "kwargs['label'] = ''\n",
    "fig_ax = plot_suscept(suscept8, fig_ax, x_inset=offsets[0], **kwargs)\n",
    "\n",
    "kwargs['label'] = 'HMC $L=8$' #  ' + r\"\"\"$L = 8$\"\"\"\n",
    "kwargs['color'] = 'C3'\n",
    "kwargs['marker'] = 'd'\n",
    "kwargs['fillstyle'] = 'none'\n",
    "labels.append(kwargs['label'])\n",
    "markers.append(kwargs['marker'])\n",
    "colors.append(kwargs['color'])\n",
    "kwargs['label'] = ''\n",
    "fig_ax = plot_suscept(suscept8_hmc, fig_ax, x_inset=offsets[3], **kwargs)\n",
    "\n",
    "axins = inset_axes(fig_ax[1], width=\"55%\", height=\"55%\", loc=1, borderpad=1.25)\n",
    "#axins = zoomed_inset_axes(fig_ax[1], zoom=5.1, loc=1, borderpad=1.5)\n",
    "fmts = ['C0', 'C1', 'C2', 'C3', 'C4', 'C5']\n",
    "linestyles = ['-', '--', '-', '--', '-', '--']\n",
    "fillstyles = ['full', 'none', 'full', 'none', 'full', 'none']\n",
    "#q = 1.\n",
    "alphas = [1., 0.9, 0.8, 0.7]\n",
    "#plt.rc('font', size=8)\n",
    "for idx, (x, y) in enumerate(zip(xs, ys)):\n",
    "    #if idx != 1:\n",
    "    #    xx = x + 0.00001\n",
    "    #else:\n",
    "    #    xx = x + (0.00001 / 2)\n",
    "    fig_ax[1].plot(xxs[idx], y, color=colors[idx], ls=linestyles[idx], label=labels[idx],\n",
    "                   fillstyle=fillstyles[idx],\n",
    "                   marker=markers[idx], markersize=kwargs['markersize'])#, lw=1.)\n",
    "    #fig_ax[1].plot(x_avgs, avgs, color='k', ls='-', alpha=0.7)\n",
    "    axins.errorbar(x, y, yerr=errs[idx], marker=markers[idx], ls='',\n",
    "                   fillstyle=fillstyles[idx],\n",
    "                   #ls=linestyles[idx], lw=1.2,\n",
    "                   #alpha=0.8,\n",
    "                   #fillstyle='none',\n",
    "                   #markersize=1.5*kwargs['markersize'], fillstyle='none',\n",
    "                   color=colors[idx], capsize=4., capthick=1.25)\n",
    "                   #alpha=alphas[idx]) #linestyle=linestyles[idx])\n",
    "    #q += 2\n",
    "    #axins.plot(x, y, fmts[idx], alpha=0.7, lw=1.)\n",
    "    \n",
    "x1, x2, y1, y2 = 3.95, 5.2, 0.0049, 0.0078\n",
    "_ = axins.set_xlim(x1, x2)\n",
    "_ = axins.set_ylim(y1, y2)\n",
    "_ = axins.grid('on')\n",
    "\n",
    "#plt.rc('font', size=8)\n",
    "axins.ticklabel_format(style='sci', scilimits=(-2, 2), useMathText=False)\n",
    "_ = axins.tick_params(labelsize=12)\n",
    "#plt.rc('font', size=12)\n",
    "    \n",
    "fig, ax = fig_ax\n",
    "#axins = zoomed_inset_axes(ax, zoom=1.1, width=\"30%\", height=\"40%\", loc=1, borderpad=1.5)\n",
    "#axins = inset_axes(ax, width=\"30%\", height=\"40%\", loc=1, borderpad=1.5)\n",
    "\n",
    "#Axes.ticklabel_format(*, axis='both', style='', scilimits=None, \n",
    "#                      useOffset=None, useLocale=None, useMathText=None)¶\n",
    "#tt = np.arange(1., 5., 0.05)\n",
    "\n",
    "\n",
    "plt.rc('font', size=10)\n",
    "#ax.ticklabel_format(style='sci', scilimits=(-2, 2))#, useMathText=True)\n",
    "_ = ax.tick_params(labelsize=12)\n",
    "_ = ax.set_xlabel(r\"\"\"$\\beta$\"\"\", fontsize=18)\n",
    "_ = ax.set_ylabel(r\"\"\"$\\chi$\"\"\", fontsize=18)\n",
    "_ = ax.legend(loc='lower left')#, fontsize=12)\n",
    "\n",
    "#_ = axins.set_xticklabels(['', '', '5.0', '', ''])\n",
    "_ = plt.tight_layout()\n",
    "\n",
    "print(f'Saving figure to: {out_file}.')\n",
    "#out_dir = output['dirs']['figs_dir']\n",
    "out_dir = os.path.join('..', '..', '..', 'writeup', 'l2hmc_writeup', 'figures')\n",
    "io.check_else_make_dir(out_dir)\n",
    "out_file = os.path.join(out_dir, 'topological_suscept_vs_beta_L8_12_16.eps')\n",
    "_ = plt.savefig(out_file, dpi=400, bbox_inches='tight')"
   ]
  },
  {
   "cell_type": "markdown",
   "metadata": {
    "heading_collapsed": true
   },
   "source": [
    "# OLD"
   ]
  },
  {
   "cell_type": "markdown",
   "metadata": {
    "hidden": true
   },
   "source": [
    "## Calculate and plot observables..."
   ]
  },
  {
   "cell_type": "markdown",
   "metadata": {
    "hidden": true
   },
   "source": [
    "### Calculate observables for samples generated **_during_** training:\n",
    "- Every $\\approx 500$ steps or so during training procedure, we run the sampler at $\\beta \\equiv \\beta_{\\mathrm{final}}$. \n",
    "- By calculating observables (``total action``, ``average plaquette``, and ``topological charge``) for these samples and looking at the ``thermalization time``, we can get an idea of how well the sampler is performing.\n",
    "- We expect that as the training procedure continues, the ``thermalization time`` should decrease as the sampler improves."
   ]
  },
  {
   "cell_type": "code",
   "execution_count": null,
   "metadata": {
    "hidden": true
   },
   "outputs": [],
   "source": [
    "# 53.3s\n",
    "plt.close('all')\n",
    "log_dir = os.path.join('..', '..', 'gauge_logs_graph', 'run_233')\n",
    "train_observables_dicts = calc_observables(log_dir,\n",
    "                                           observables_dicts=None,\n",
    "                                           training=True,\n",
    "                                           frac=None)"
   ]
  },
  {
   "cell_type": "code",
   "execution_count": null,
   "metadata": {
    "hidden": true
   },
   "outputs": [],
   "source": [
    "x = np.array([1., 1., 1., -1., -1., -1., 2., -2., 0., 0., 0., -2.])\n",
    "y = np.array([0., 2., -1., -2., 0., 1., 0., 2., -2., 2., 1., -2.])"
   ]
  },
  {
   "cell_type": "code",
   "execution_count": null,
   "metadata": {
    "hidden": true
   },
   "outputs": [],
   "source": [
    "len(x)"
   ]
  },
  {
   "cell_type": "code",
   "execution_count": null,
   "metadata": {
    "hidden": true
   },
   "outputs": [],
   "source": [
    "c1 = np.sqrt(np.sum((x - y))**2)\n",
    "c1"
   ]
  },
  {
   "cell_type": "code",
   "execution_count": null,
   "metadata": {
    "hidden": true
   },
   "outputs": [],
   "source": [
    "c2 = np.sum(np.abs(x-y))\n",
    "c2"
   ]
  },
  {
   "cell_type": "code",
   "execution_count": null,
   "metadata": {
    "hidden": true
   },
   "outputs": [],
   "source": [
    "np.where(x != y)[0]"
   ]
  },
  {
   "cell_type": "code",
   "execution_count": null,
   "metadata": {
    "hidden": true
   },
   "outputs": [],
   "source": [
    "len(np.where(x != y)[0])"
   ]
  },
  {
   "cell_type": "code",
   "execution_count": null,
   "metadata": {
    "hidden": true
   },
   "outputs": [],
   "source": [
    "def tot_diff(x, y):\n",
    "    z = np.where(x != y)[0]\n",
    "    return np.sum([x[i] - y[i] if x[i] > y[i] else y[i] - x[i] for i in z])"
   ]
  },
  {
   "cell_type": "code",
   "execution_count": null,
   "metadata": {
    "hidden": true
   },
   "outputs": [],
   "source": [
    "def tot_diff1(x, y):\n",
    "    return np.sum(np.abs(x-y))"
   ]
  },
  {
   "cell_type": "code",
   "execution_count": null,
   "metadata": {
    "hidden": true
   },
   "outputs": [],
   "source": [
    "xx = np.random.randint(-2, 2, size=1000)\n",
    "yy = np.random.randint(-2, 2, size=1000)"
   ]
  },
  {
   "cell_type": "code",
   "execution_count": null,
   "metadata": {
    "hidden": true
   },
   "outputs": [],
   "source": [
    "i = np.random.randint(-2, 2, size=10)\n",
    "j = np.random.randint(-2, 2, size=10)"
   ]
  },
  {
   "cell_type": "code",
   "execution_count": null,
   "metadata": {
    "hidden": true
   },
   "outputs": [],
   "source": [
    "def tot_diff2(x, y):\n",
    "    return len(np.where(x != y)[0])"
   ]
  },
  {
   "cell_type": "code",
   "execution_count": null,
   "metadata": {
    "hidden": true
   },
   "outputs": [],
   "source": [
    "tf.reduce_sum(i - j)"
   ]
  },
  {
   "cell_type": "code",
   "execution_count": null,
   "metadata": {
    "hidden": true
   },
   "outputs": [],
   "source": [
    "tot_diff1(xx, yy)"
   ]
  },
  {
   "cell_type": "code",
   "execution_count": null,
   "metadata": {
    "hidden": true
   },
   "outputs": [],
   "source": [
    "samples2 = tf.random_normal(samples.shape, dtype=tf.float32)"
   ]
  },
  {
   "cell_type": "code",
   "execution_count": null,
   "metadata": {
    "hidden": true
   },
   "outputs": [],
   "source": [
    "samples = tf.cast(samples, dtype=tf.float32)"
   ]
  },
  {
   "cell_type": "code",
   "execution_count": null,
   "metadata": {
    "hidden": true
   },
   "outputs": [],
   "source": [
    "samples = tf.reshape(samples, shape=(5, -1))\n",
    "samples2 = tf.reshape(samples2, shape=(5, -1))\n",
    "samples.shape, samples2.shape"
   ]
  },
  {
   "cell_type": "code",
   "execution_count": null,
   "metadata": {
    "hidden": true
   },
   "outputs": [],
   "source": [
    "diff = tf.cast(i - j, dtype=tf.float32)"
   ]
  },
  {
   "cell_type": "code",
   "execution_count": null,
   "metadata": {
    "hidden": true
   },
   "outputs": [],
   "source": [
    "loss_ = (tf.reduce_sum(1. - tf.cos(samples - samples2), axis=1)\n",
    "          + tf.reduce_sum(diff))"
   ]
  },
  {
   "cell_type": "code",
   "execution_count": null,
   "metadata": {
    "hidden": true
   },
   "outputs": [],
   "source": [
    "loss_"
   ]
  },
  {
   "cell_type": "code",
   "execution_count": null,
   "metadata": {
    "hidden": true
   },
   "outputs": [],
   "source": [
    "loss_.shape"
   ]
  },
  {
   "cell_type": "code",
   "execution_count": null,
   "metadata": {
    "hidden": true
   },
   "outputs": [],
   "source": [
    "u1_plaq_exact(4.)"
   ]
  },
  {
   "cell_type": "code",
   "execution_count": null,
   "metadata": {
    "hidden": true
   },
   "outputs": [],
   "source": [
    "(i - j).shape"
   ]
  },
  {
   "cell_type": "code",
   "execution_count": null,
   "metadata": {
    "hidden": true
   },
   "outputs": [],
   "source": [
    "ca = []\n",
    "ca.append(i)\n",
    "ca.append(j)\n",
    "tot_diff1(ca[-1], ca[-2])\n",
    "tot_diff2(ca[-1], ca[-2])"
   ]
  },
  {
   "cell_type": "code",
   "execution_count": null,
   "metadata": {
    "hidden": true
   },
   "outputs": [],
   "source": [
    "charges_arr.extend(xx)"
   ]
  },
  {
   "cell_type": "code",
   "execution_count": null,
   "metadata": {
    "hidden": true
   },
   "outputs": [],
   "source": [
    "u1_plaq_exact(2.05)"
   ]
  },
  {
   "cell_type": "code",
   "execution_count": null,
   "metadata": {
    "hidden": true
   },
   "outputs": [],
   "source": [
    "char"
   ]
  },
  {
   "cell_type": "code",
   "execution_count": null,
   "metadata": {
    "hidden": true
   },
   "outputs": [],
   "source": [
    "%timeit d = tot_diff(xx, yy)"
   ]
  },
  {
   "cell_type": "code",
   "execution_count": null,
   "metadata": {
    "hidden": true
   },
   "outputs": [],
   "source": [
    "%timeit d1 = tot_diff1(xx, yy)"
   ]
  },
  {
   "cell_type": "code",
   "execution_count": null,
   "metadata": {
    "hidden": true
   },
   "outputs": [],
   "source": [
    "tot_diff(xx, yy)"
   ]
  },
  {
   "cell_type": "code",
   "execution_count": null,
   "metadata": {
    "hidden": true
   },
   "outputs": [],
   "source": [
    "tot_diff1(xx, yy)"
   ]
  },
  {
   "cell_type": "code",
   "execution_count": null,
   "metadata": {
    "hidden": true
   },
   "outputs": [],
   "source": []
  },
  {
   "cell_type": "code",
   "execution_count": null,
   "metadata": {
    "hidden": true
   },
   "outputs": [],
   "source": []
  },
  {
   "cell_type": "markdown",
   "metadata": {
    "heading_collapsed": true,
    "hidden": true
   },
   "source": [
    "####  Update train_observables_dicts:  \n",
    " * If `observables_dicts` argument of `calc_training_observables` is not `None`, only calculate observables that haven't been previously calculated.  "
   ]
  },
  {
   "cell_type": "code",
   "execution_count": null,
   "metadata": {
    "hidden": true
   },
   "outputs": [],
   "source": [
    "train_observables_dicts = calc_observables(\n",
    "    log_dir, \n",
    "    observables_dicts=train_observables_dicts,\n",
    "    training=True,\n",
    ")"
   ]
  },
  {
   "cell_type": "markdown",
   "metadata": {
    "hidden": true
   },
   "source": [
    "#### Plot observables for samples generated **_during_** training:\n",
    "- In addition, for each batch of samples generated during, plot the topological charge history of each individual chain in the batch."
   ]
  },
  {
   "cell_type": "code",
   "execution_count": null,
   "metadata": {
    "hidden": true
   },
   "outputs": [],
   "source": [
    "figs_axes = plot_observables(log_dir, train_observables_dicts, training=True)"
   ]
  },
  {
   "cell_type": "code",
   "execution_count": null,
   "metadata": {
    "hidden": true
   },
   "outputs": [],
   "source": [
    "plot_top_charges(log_dir, train_observables_dicts[2], training=True)"
   ]
  },
  {
   "cell_type": "code",
   "execution_count": null,
   "metadata": {
    "hidden": true
   },
   "outputs": [],
   "source": [
    "plot_top_charges_counts(log_dir,  train_observables_dicts[2],  training=True)"
   ]
  },
  {
   "cell_type": "markdown",
   "metadata": {
    "hidden": true
   },
   "source": [
    "##### Plot top charges counts totaled over all samples"
   ]
  },
  {
   "cell_type": "code",
   "execution_count": null,
   "metadata": {
    "code_folding": [],
    "hidden": true
   },
   "outputs": [],
   "source": [
    "train_charges_dict = train_observables_dicts[2]\n",
    "params, _, _, _, figs_dir_dict = find_samples(log_dir, training=True)\n",
    "title_str_key = 'training'\n",
    "count_dict = {}\n",
    "idx = 0\n",
    "for key, val in train_charges_dict.items():\n",
    "    step, beta = key\n",
    "    counts = Counter(list(val.flatten()))\n",
    "    count_dict[key] = counts\n",
    "    fig, ax = plt.subplots()\n",
    "    _ = ax.plot(list(counts.keys()), list(counts.values()), \n",
    "                color=COLORS[idx], marker=MARKERS[idx], ls='')\n",
    "                #fillstyle='none')#, label=f'{key} training steps')\n",
    "    idx += 1\n",
    "    _ = ax.set_xlabel('Topological charge', fontsize=14)\n",
    "    _ = ax.set_ylabel('Number of occurrences', fontsize=14)\n",
    "    title_str = (r\"$\\beta = $\"\n",
    "                 + f\"{beta}, \"\n",
    "                 + f\"{step} {title_str_key} steps; \"\n",
    "                 + f\"total across {params['num_samples']} samples\")\n",
    "    _ = ax.set_title(title_str, fontsize=14)\n",
    "    out_dir = os.path.join(\n",
    "        figs_dir_dict[key], 'topological_charges_counts'\n",
    "    )\n",
    "    check_else_make_dir(out_dir)\n",
    "    out_file = os.path.join(\n",
    "        out_dir,\n",
    "        f'topological_charge_counts_total_{step}_steps_beta_{beta}.pdf'\n",
    "    )\n",
    "    #if not os.path.isfile(out_file):\n",
    "    print(f\"Saving figure to {out_file}.\")\n",
    "    _ = fig.savefig(out_file, dpi=400, bbox_inches='tight')"
   ]
  },
  {
   "cell_type": "markdown",
   "metadata": {
    "hidden": true
   },
   "source": [
    "### Calculate observables for samples generated **_after_** training.\n",
    " - Again, samples are generated at $\\beta = \\beta_{\\mathrm{final}}$.\n",
    " - In contrast to the samples generated **_during_** training (which are all ran for $\\sim 100$ steps), we now look at generating longer chains (i.e. longer runs)."
   ]
  },
  {
   "cell_type": "code",
   "execution_count": null,
   "metadata": {
    "code_folding": [
     2
    ],
    "hidden": true
   },
   "outputs": [],
   "source": [
    "plt.close('all')\n",
    "log_dir = os.path.join('..', '..', 'gauge_logs_graph', 'run_227')\n",
    "observables_dicts = calc_observables(log_dir, \n",
    "                                     observables_dicts=None, \n",
    "                                     training=False,\n",
    "                                     frac=4)"
   ]
  },
  {
   "cell_type": "code",
   "execution_count": null,
   "metadata": {
    "code_folding": [
     0
    ],
    "hidden": true
   },
   "outputs": [],
   "source": [
    "observables_dicts = calc_observables(log_dir, \n",
    "                                     observables_dicts=observables_dicts, \n",
    "                                     training=False,\n",
    "                                     frac=4)"
   ]
  },
  {
   "cell_type": "markdown",
   "metadata": {
    "hidden": true
   },
   "source": [
    "#### Plot observables for samples generated **_after_** training:\n",
    "- In addition, for each batch of samples generated during, plot the topological charge history of each individual chain in the batch."
   ]
  },
  {
   "cell_type": "code",
   "execution_count": null,
   "metadata": {
    "hidden": true
   },
   "outputs": [],
   "source": [
    "figs_axes = plot_observables(log_dir, train_observables_dicts, training=False)"
   ]
  },
  {
   "cell_type": "code",
   "execution_count": null,
   "metadata": {
    "hidden": true
   },
   "outputs": [],
   "source": [
    "plot_top_charges(log_dir, train_observables_dicts[2], training=False)"
   ]
  },
  {
   "cell_type": "code",
   "execution_count": null,
   "metadata": {
    "hidden": true
   },
   "outputs": [],
   "source": [
    "plot_top_charges_counts(log_dir,  train_observables_dicts[2],  training=False)"
   ]
  },
  {
   "cell_type": "markdown",
   "metadata": {
    "heading_collapsed": true,
    "hidden": true
   },
   "source": [
    "##### Plot top charges counts totaled over all samples\n"
   ]
  },
  {
   "cell_type": "code",
   "execution_count": null,
   "metadata": {
    "code_folding": [
     8
    ],
    "hidden": true
   },
   "outputs": [],
   "source": [
    "plt.close('all')\n",
    "COLORS *= 10\n",
    "MARKERS *= 10\n",
    "params, _, _, _, figs_dir_dict = find_samples(log_dir)\n",
    "charges_dict = observables_dicts[2]\n",
    "title_str_key = 'evaluation'\n",
    "count_dict = {}\n",
    "idx = 0\n",
    "for key, val in charges_dict.items():\n",
    "    step, beta = key \n",
    "    counts = Counter(list(val.flatten()))\n",
    "    count_dict[key] = counts\n",
    "    fig, ax = plt.subplots()\n",
    "    _ = ax.plot(list(counts.keys()), list(counts.values()), \n",
    "                color=COLORS[idx], marker=MARKERS[idx], ls='',\n",
    "                fillstyle='full')#, label=f'{key} training steps')\n",
    "    idx += 1\n",
    "    _ = ax.set_xlabel('Topological charge', fontsize=14)\n",
    "    _ = ax.set_ylabel('Number of occurrences', fontsize=14)\n",
    "    title_str = (r\"$\\beta = $\"\n",
    "                 + f\"{beta}, \"\n",
    "                 + f\"{step} steps; \"\n",
    "                 + f\"total across {params['num_samples']} samples\")\n",
    "    _ = ax.set_title(title_str, fontsize=16)\n",
    "    #out_dir = os.path.join(\n",
    "    #    figs_dir_dict[key], 'topological_charges_counts'\n",
    "    #)\n",
    "    #check_else_make_dir(out_dir)\n",
    "    out_file = os.path.join(\n",
    "       figs_dir_dict[key],\n",
    "        f'topological_charge_counts_total_{step}_steps_beta_{beta}.pdf'\n",
    "    )\n",
    "    #if not os.path.isfile(out_file):\n",
    "    print(f\"Saving figure to {out_file}.\")\n",
    "    _ = fig.savefig(out_file, dpi=400, bbox_inches='tight')\n",
    "    plt.show()\n",
    "    plt.close('all')"
   ]
  },
  {
   "cell_type": "code",
   "execution_count": null,
   "metadata": {
    "hidden": true
   },
   "outputs": [],
   "source": []
  }
 ],
 "metadata": {
  "hide_input": false,
  "kernelspec": {
   "display_name": "Python 3",
   "language": "python",
   "name": "python3"
  },
  "language_info": {
   "codemirror_mode": {
    "name": "ipython",
    "version": 3
   },
   "file_extension": ".py",
   "mimetype": "text/x-python",
   "name": "python",
   "nbconvert_exporter": "python",
   "pygments_lexer": "ipython3",
   "version": "3.6.5"
  },
  "varInspector": {
   "cols": {
    "lenName": 16,
    "lenType": 16,
    "lenVar": 40
   },
   "kernels_config": {
    "python": {
     "delete_cmd_postfix": "",
     "delete_cmd_prefix": "del ",
     "library": "var_list.py",
     "varRefreshCmd": "print(var_dic_list())"
    },
    "r": {
     "delete_cmd_postfix": ") ",
     "delete_cmd_prefix": "rm(",
     "library": "var_list.r",
     "varRefreshCmd": "cat(var_dic_list()) "
    }
   },
   "types_to_exclude": [
    "module",
    "function",
    "builtin_function_or_method",
    "instance",
    "_Feature"
   ],
   "window_display": false
  }
 },
 "nbformat": 4,
 "nbformat_minor": 2
}
