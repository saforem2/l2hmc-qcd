{
 "cells": [
  {
   "cell_type": "markdown",
   "metadata": {},
   "source": [
    "# Gauge Observables"
   ]
  },
  {
   "cell_type": "markdown",
   "metadata": {},
   "source": [
    "--------------------------------------------------------------------\n",
    "### TODO:\n",
    "* [x] Generate multiple chain lengths and deal with loading in from multiple `samples_history` files.\n",
    "* [x] Implement the same logic for `observables` as for `samples_history`.\n",
    "* [x] Modify remainder of code below to deal with case where `samples` and `observables` are dictionaries with keys specifying the length of the MCMC chain.\n",
    "* [x] Re-run the cells below for the remainder of `HMC` directory to get ESS values for comparing against ESS from L2HMC.\n",
    "* [x] Try training sampler for >> 1000 steps and running the trained sampler for a variety of different chain lengths to see what the integrated autocorrelation time approaches as  $N_{steps} \\longrightarrow \\infty$.\n",
    "--------------------------------------------------------------------"
   ]
  },
  {
   "cell_type": "code",
   "execution_count": 1,
   "metadata": {
    "ExecuteTime": {
     "end_time": "2019-04-25T08:31:02.326344Z",
     "start_time": "2019-04-25T08:30:50.493352Z"
    }
   },
   "outputs": [
    {
     "name": "stderr",
     "output_type": "stream",
     "text": [
      "/usr/local/lib/python3.6/site-packages/mpl_toolkits/axes_grid/__init__.py:12: MatplotlibDeprecationWarning: \n",
      "The mpl_toolkits.axes_grid module was deprecated in Matplotlib 2.1 and will be removed two minor releases later. Use mpl_toolkits.axes_grid1 and mpl_toolkits.axisartist, which provide the same functionality instead.\n",
      "  obj_type='module')\n"
     ]
    }
   ],
   "source": [
    "import os\n",
    "import sys\n",
    "import time\n",
    "import pickle\n",
    "import numpy as np\n",
    "import tensorflow as tf\n",
    "import matplotlib.pyplot as plt\n",
    "import pandas as pd\n",
    "from collections import Counter\n",
    "from scipy.stats import sem\n",
    "from mpl_toolkits.axes_grid.inset_locator import inset_axes\n",
    "from mpl_toolkits.axes_grid1.inset_locator import zoomed_inset_axes\n",
    "from mpl_toolkits.axes_grid1.inset_locator import mark_inset\n",
    "\n",
    "from pandas.plotting import autocorrelation_plot\n",
    "from scipy.special import i0, i1\n",
    "\n",
    "module_path = os.path.abspath(os.path.join('..'))\n",
    "if module_path not in sys.path:\n",
    "    sys.path.append(module_path)\n",
    "    \n",
    "COLORS = 5 * ['C0', 'C1', 'C2', 'C3', 'C4', 'C5', 'C6', 'C7', 'C8', 'C9']\n",
    "MARKERS = 5 * ['o', 's', 'x', 'v', 'h', '^', 'p', '<', 'd', '>', 'P', 'D']\n",
    "LINESTYLES = ['-', '--', ':', '-.', '-', '--', ':', '-.', '-', '--']\n",
    "\n",
    "tf.enable_eager_execution()\n",
    "tfe = tf.contrib.eager"
   ]
  },
  {
   "cell_type": "code",
   "execution_count": 2,
   "metadata": {
    "ExecuteTime": {
     "end_time": "2019-04-25T08:31:03.100113Z",
     "start_time": "2019-04-25T08:31:02.329203Z"
    }
   },
   "outputs": [],
   "source": [
    "from scipy.stats import sem\n",
    "import utils.file_io as io\n",
    "from lattice.lattice import GaugeLattice, u1_plaq_exact\n",
    "from gauge_model import GaugeModel\n",
    "from utils.file_io import save_params_to_pkl_file\n",
    "from utils.plot_helper import plot_multiple_lines\n",
    "from utils.autocorr import *\n",
    "from utils.data_utils import (\n",
    "    calc_avg_vals_errors, block_resampling, jackknife_err\n",
    ")\n",
    "\n",
    "%autoreload 2\n",
    "%matplotlib notebook"
   ]
  },
  {
   "cell_type": "code",
   "execution_count": 3,
   "metadata": {
    "ExecuteTime": {
     "end_time": "2019-04-25T08:31:03.158871Z",
     "start_time": "2019-04-25T08:31:03.104561Z"
    }
   },
   "outputs": [],
   "source": [
    "import matplotlib.pyplot as plt\n",
    "import matplotlib as mpl"
   ]
  },
  {
   "cell_type": "markdown",
   "metadata": {},
   "source": [
    "## Helper functions"
   ]
  },
  {
   "cell_type": "markdown",
   "metadata": {},
   "source": [
    "### FILE I/O"
   ]
  },
  {
   "cell_type": "code",
   "execution_count": 4,
   "metadata": {
    "ExecuteTime": {
     "end_time": "2019-04-25T08:31:03.215495Z",
     "start_time": "2019-04-25T08:31:03.164161Z"
    },
    "code_folding": []
   },
   "outputs": [],
   "source": [
    "def check_else_make_dir(d):\n",
    "    if not os.path.isdir(d):\n",
    "        print(f\"Making directory: {d}\")\n",
    "        os.makedirs(d)"
   ]
  },
  {
   "cell_type": "markdown",
   "metadata": {},
   "source": [
    "#### Helpers for locating and loading observables and run_data"
   ]
  },
  {
   "cell_type": "code",
   "execution_count": 5,
   "metadata": {
    "ExecuteTime": {
     "end_time": "2019-04-25T08:31:03.276775Z",
     "start_time": "2019-04-25T08:31:03.222740Z"
    }
   },
   "outputs": [],
   "source": [
    "def get_run_dirs(log_dir):\n",
    "    run_dir_root = os.path.join(log_dir, 'runs')\n",
    "    contents = os.listdir(run_dir_root)\n",
    "    runs_dirs = [\n",
    "        os.path.join(run_dir_root, i) for i in contents if 'steps' in i\n",
    "    ]\n",
    "    params = []\n",
    "    for d in runs_dirs:\n",
    "        d_arr = d.split('/')[-1].split('_')\n",
    "        params.append((int(d_arr[1]), d_arr[-1]))\n",
    "    return runs_dirs, params"
   ]
  },
  {
   "cell_type": "code",
   "execution_count": 6,
   "metadata": {
    "ExecuteTime": {
     "end_time": "2019-04-25T08:31:03.330198Z",
     "start_time": "2019-04-25T08:31:03.279673Z"
    }
   },
   "outputs": [],
   "source": [
    "def load_chains(run_dir):\n",
    "    assert os.path.isdir(run_dir)\n",
    "    samples_file = os.path.join(run_dir, 'run_samples.pkl')\n",
    "    if os.path.isfile(samples_file):\n",
    "        with open(samples_file, 'rb') as f:\n",
    "            samples = pickle.load(f)\n",
    "    return samples"
   ]
  },
  {
   "cell_type": "code",
   "execution_count": 7,
   "metadata": {
    "ExecuteTime": {
     "end_time": "2019-04-25T08:31:03.389328Z",
     "start_time": "2019-04-25T08:31:03.332587Z"
    }
   },
   "outputs": [],
   "source": [
    "def load_run_data(run_dir):\n",
    "    assert os.path.isdir(run_dir)\n",
    "    run_data_file = os.path.join(run_dir, 'run_data.pkl')\n",
    "    print('Loading run_data from: {}'.format(run_data_file))\n",
    "    with open(run_data_file, 'rb') as f:\n",
    "        run_data = pickle.load(f)\n",
    "    return run_data"
   ]
  },
  {
   "cell_type": "code",
   "execution_count": 17,
   "metadata": {
    "ExecuteTime": {
     "end_time": "2019-04-25T08:31:20.866681Z",
     "start_time": "2019-04-25T08:31:20.790892Z"
    },
    "code_folding": [
     0
    ]
   },
   "outputs": [],
   "source": [
    "def load_observables_stats(run_dir):\n",
    "    assert os.path.isdir(run_dir)\n",
    "    obs_dir = os.path.join(run_dir, 'observables')\n",
    "    assert os.path.isdir(obs_dir)\n",
    "    _files = os.listdir(obs_dir)\n",
    "    obs_files = [i for i in _files if i.endswith('.pkl')]\n",
    "    observables = {}\n",
    "    stats = {}\n",
    "    for f in obs_files:\n",
    "        key = f.rstrip('.pkl')\n",
    "        in_file = os.path.join(obs_dir, f)\n",
    "        if 'stats' in f:\n",
    "            with open(in_file, 'rb') as f:\n",
    "                stats[key] = pickle.load(f)\n",
    "        else:\n",
    "            with open(in_file, 'rb') as f:\n",
    "                observables[key] = pickle.load(f)\n",
    "    return observables, stats"
   ]
  },
  {
   "cell_type": "markdown",
   "metadata": {},
   "source": [
    "### Data helpers / autocorrelation helper"
   ]
  },
  {
   "cell_type": "code",
   "execution_count": 9,
   "metadata": {
    "ExecuteTime": {
     "end_time": "2019-04-25T08:31:03.495650Z",
     "start_time": "2019-04-25T08:31:03.441331Z"
    },
    "code_folding": [],
    "run_control": {
     "marked": true
    }
   },
   "outputs": [],
   "source": [
    "def autocorr(x):\n",
    "    result = np.correlate(x, x, mode='full')\n",
    "    return result[result.size // 2:]"
   ]
  },
  {
   "cell_type": "code",
   "execution_count": 10,
   "metadata": {
    "ExecuteTime": {
     "end_time": "2019-04-25T08:31:03.561437Z",
     "start_time": "2019-04-25T08:31:03.499281Z"
    },
    "code_folding": []
   },
   "outputs": [],
   "source": [
    "def arrs_from_dict(d):\n",
    "    assert isinstance(d, dict)\n",
    "    keys_arr = np.array(list(d.keys()))\n",
    "    vals_arr = np.array(list(d.values()))\n",
    "    return keys_arr, vals_arr"
   ]
  },
  {
   "cell_type": "markdown",
   "metadata": {},
   "source": [
    "### Plotting functions"
   ]
  },
  {
   "cell_type": "code",
   "execution_count": 11,
   "metadata": {
    "ExecuteTime": {
     "end_time": "2019-04-25T08:31:04.245775Z",
     "start_time": "2019-04-25T08:31:04.177935Z"
    },
    "code_folding": [
     0
    ]
   },
   "outputs": [],
   "source": [
    "def plot_observables(observables, hmc=False, out_dir=None, filetype='png'):\n",
    "    actions_arr, plaqs_arr, charges_arr = observables\n",
    "    steps_arr = np.arange(actions_arr.shape[0])\n",
    "    # Total actions plots\n",
    "    if not hmc:\n",
    "        title_str = (\n",
    "            f\"L2HMC: \"\n",
    "            r\"$\\beta = $\"\n",
    "            f\"{beta}\"#\", {run_steps} eval steps\"\n",
    "        )\n",
    "    else:\n",
    "        title_str = (\n",
    "            f\"HMC: \"\n",
    "            r\"$\\beta = $\"\n",
    "            f\"{beta}\"#\", {run_steps} train steps\"\n",
    "        )\n",
    "    kwargs = {\n",
    "        'out_file': None,\n",
    "        'markers': False,\n",
    "        'lines': True,\n",
    "        'alpha': 0.6,\n",
    "        'title': title_str,\n",
    "        'legend': False,\n",
    "        'ret': False,\n",
    "    }\n",
    "    if out_dir is not None:\n",
    "        kwargs['out_file'] = os.path.join(out_dir, \n",
    "                                          f'actions_vs_step.{filetype}')\n",
    "    plot_multiple_lines(steps_arr, actions_arr.T,  x_label='Step', \n",
    "                        y_label='Total action', **kwargs)\n",
    "    \n",
    "    # Average plaquettes plots\n",
    "    kwargs['ret'] = True\n",
    "    kwargs['out_file'] = None\n",
    "    _, ax = plot_multiple_lines(steps_arr, plaqs_arr.T, x_label='Step',\n",
    "                                y_label='Avg. plaquette', **kwargs)\n",
    "\n",
    "    _ = ax.axhline(y=u1_plaq_exact(beta),\n",
    "                   color='#CC0033', ls='-', lw=2.5, label='exact')\n",
    "\n",
    "    _ = ax.plot(steps_arr, plaqs_arr.T.mean(axis=0),\n",
    "                color='k', label='average', alpha=0.75)\n",
    "    if out_dir is not None:\n",
    "        out_file = os.path.join(out_dir, f'plaqs_vs_step.{filetype}')\n",
    "        print(f'Saving figure to: {out_file}.')\n",
    "        plt.savefig(out_file, dpi=400, bbox_inches='tight')\n",
    "        \n",
    "    # Topological charge plots\n",
    "    kwargs['markers'] = True\n",
    "    kwargs['lines'] = False\n",
    "    kwargs['alpha'] = 1.\n",
    "    kwargs['ret'] = False\n",
    "    if out_dir is not None:\n",
    "        out_file = os.path.join(out_dir, f'top_charge_vs_step.{filetype}')\n",
    "    plot_multiple_lines(steps_arr, charges_arr.T, x_label='Step',\n",
    "                        y_label='Topological charge', **kwargs)"
   ]
  },
  {
   "cell_type": "code",
   "execution_count": 12,
   "metadata": {
    "ExecuteTime": {
     "end_time": "2019-04-25T08:31:05.049947Z",
     "start_time": "2019-04-25T08:31:04.988609Z"
    },
    "code_folding": [
     0,
     2,
     8,
     15,
     23,
     47,
     59
    ]
   },
   "outputs": [],
   "source": [
    "def plot_charge_probs(charges_arr, beta, params, out_dir=None, training=False,\n",
    "                      hmc=False):\n",
    "    if not hmc:\n",
    "        title_str = (\n",
    "            f\"L2HMC: \"\n",
    "            r\"$\\beta = $\"\n",
    "            f\"{beta}, {run_steps} eval steps\"\n",
    "        )\n",
    "    else:\n",
    "        title_str = (\n",
    "            f\"HMC: \"\n",
    "            r\"$\\beta = $\"\n",
    "            f\"{beta}, {run_steps} train steps\"\n",
    "        )\n",
    "        \n",
    "    if out_dir is not None:\n",
    "        os.makedirs(out_dir)\n",
    "        \n",
    "    num_samples = params['num_samples']\n",
    "    charges = np.array(charges_arr, dtype=int)\n",
    "    _run_steps = charges.shape[0]\n",
    "\n",
    "    # if we have more than 5 samples per batch, only plot first 5\n",
    "    for idx in range(5):\n",
    "        counts = Counter(charges[:, idx])\n",
    "        total_counts = np.sum(list(counts.values()))\n",
    "        _, ax = plt.subplots()\n",
    "        ax.plot(list(counts.keys()),\n",
    "                np.array(list(counts.values()) / total_counts),\n",
    "                marker=MARKERS[idx],\n",
    "                color=COLORS[idx],\n",
    "                ls='',\n",
    "                label=f'sample {idx}')\n",
    "        _ = ax.legend(loc='best')\n",
    "        _ = ax.set_xlabel('Topological charge', fontsize=14)\n",
    "        _ = ax.set_ylabel('Probability', fontsize=14)\n",
    "        _ = ax.set_title(title_str, fontsize=16)\n",
    "        if out_dir is not None:\n",
    "            out_file = os.path.join(out_dir,\n",
    "                                    f'top_charge_prob_vs_val_{idx}.png')\n",
    "            io.log(f'Saving figure to: {out_file}.')\n",
    "            _ = plt.savefig(out_file, dpi=400, bbox_inches='tight')\n",
    "        #plt.close('all')\n",
    "\n",
    "    all_counts = Counter(list(charges.flatten()))\n",
    "    total_counts = np.sum(list(counts.values()))\n",
    "    _, ax = plt.subplots()\n",
    "    ax.plot(list(all_counts.keys()),\n",
    "            np.array(list(all_counts.values()) / (total_counts * num_samples)),\n",
    "            marker='o',\n",
    "            color='C0',\n",
    "            ls='',\n",
    "            alpha=0.6,\n",
    "            label=f\"total across {num_samples} samples\");\n",
    "    _ = ax.legend(loc='best')\n",
    "    _ = ax.set_xlabel('Topological charge', fontsize=14)\n",
    "    _ = ax.set_ylabel('Probability', fontsize=14)\n",
    "    _ = ax.set_title(title_str, fontsize=16)\n",
    "    if out_dir is not None:\n",
    "        out_file = os.path.join(out_dir,\n",
    "                                f'TOP_CHARGE_FREQUENCY_VS_VAL_TOTAL.png')\n",
    "        io.log(f'Saving figure to: {out_file}.')\n",
    "        _ = plt.savefig(out_file, dpi=400, bbox_inches='tight')"
   ]
  },
  {
   "cell_type": "code",
   "execution_count": 13,
   "metadata": {
    "ExecuteTime": {
     "end_time": "2019-04-25T08:31:05.617544Z",
     "start_time": "2019-04-25T08:31:05.467777Z"
    },
    "code_folding": [
     0,
     3,
     8,
     13,
     19,
     25
    ]
   },
   "outputs": [],
   "source": [
    "def plot_top_charges(top_charges, beta, out_dir=None, hmc=False,\n",
    "                     filetype='png'):\n",
    "    \"\"\"Plot top. charge history vs. step for individual samples.\"\"\"\n",
    "    if out_dir is not None:\n",
    "        out_dir = os.path.join(out_dir, 'top_charge_plots')\n",
    "        if not os.path.isdir(out_dir):\n",
    "            os.makedirs(out_dir)\n",
    "            \n",
    "    if not isinstance(top_charges, np.ndarray):\n",
    "        top_charges = np.array(top_charges)\n",
    "            \n",
    "    run_steps = top_charges.shape[0]\n",
    "    num_samples = top_charges.shape[1]\n",
    "    if not hmc:\n",
    "        title_str = (\n",
    "            f\"L2HMC: \"\n",
    "            r\"$\\beta = $\"\n",
    "            f\"{beta}, {run_steps} eval steps\"\n",
    "        )\n",
    "    else:\n",
    "        title_str = (\n",
    "            f\"HMC: \"\n",
    "            r\"$\\beta = $\"\n",
    "            f\"{beta}, {run_steps} train steps\"\n",
    "        )\n",
    "    for idx in range(min(num_samples, 10)):\n",
    "        _, ax = plt.subplots()\n",
    "        _ = ax.plot(top_charges[:, idx],\n",
    "                    marker=MARKERS[idx],\n",
    "                    color=COLORS[idx],\n",
    "                    ls='',\n",
    "                    alpha=0.6,\n",
    "                    label=f'sample {idx}')\n",
    "        _ = ax.legend(loc='best')\n",
    "        _ = ax.set_xlabel('Step', fontsize=14)\n",
    "        _ = ax.set_ylabel('Topological charge', fontsize=14)\n",
    "        _ = ax.set_title(title_str, fontsize=16)\n",
    "        plt.tight_layout()\n",
    "        if out_dir is not None:\n",
    "            out_file = os.path.join(out_dir, \n",
    "                                    f'top_charge_vs_step_{idx}.{filetype}')\n",
    "            print(f\"Saving figure to {out_file}.\")\n",
    "            plt.savefig(out_file, dpi=400, bbox_inches='tight')"
   ]
  },
  {
   "cell_type": "code",
   "execution_count": 14,
   "metadata": {
    "ExecuteTime": {
     "end_time": "2019-04-25T08:31:06.149820Z",
     "start_time": "2019-04-25T08:31:06.084285Z"
    },
    "code_folding": [
     0
    ]
   },
   "outputs": [],
   "source": [
    "def plot_suscept(suscept_dict, fig_ax_pair=None, x_inset=5., **kwargs):\n",
    "    if fig_ax_pair is None:\n",
    "        fig, ax = plt.subplots()\n",
    "    else:\n",
    "        fig, ax = fig_ax_pair\n",
    "    #else:\n",
    "    #    if len(fig_ax_pair) == 2:\n",
    "    #        fig, ax = fig_ax_pair\n",
    "        #elif len(fig_ax_pair) == 3:\n",
    "        #    fig, ax, axins = fig_ax_pair\n",
    "        \n",
    "    for idx, (key, val) in enumerate(suscept_dict.items()):\n",
    "        beta = key\n",
    "        suscept, err = val\n",
    "        if idx == 0:\n",
    "            _ = ax.errorbar(beta, suscept, yerr=factor*err, **kwargs)\n",
    "            #_ = ax.plot(beta, suscept, **plt_kwargs)\n",
    "        else:\n",
    "            kwargs['label'] = ''\n",
    "            _ = ax.errorbar(beta, suscept, yerr=factor*err, **kwargs)\n",
    "            #_ = ax.plot(beta, suscept, **plt_kwargs)\n",
    "    #if axins is None:\n",
    "    #    axins = inset_axes(ax, width=\"30%\", height=\"40%\", loc=1, borderpad=1.5)\n",
    "        \n",
    "    #suscept5, err5 = suscept_dict[5.0]\n",
    "    #_ = axins.errorbar(x_inset, suscept5, yerr=factor*err5, **kwargs)\n",
    "\n",
    "    #x1, x2, y1, y2 = 4.97, 5.03, 0.005, 0.0065\n",
    "    #_ = axins.set_xlim(x1, x2)\n",
    "    #_ = axins.set_ylim(y1, y2)\n",
    "    return fig, ax #, axins"
   ]
  },
  {
   "cell_type": "code",
   "execution_count": 15,
   "metadata": {
    "ExecuteTime": {
     "end_time": "2019-04-25T08:31:06.596493Z",
     "start_time": "2019-04-25T08:31:06.537980Z"
    },
    "code_folding": [
     0
    ]
   },
   "outputs": [],
   "source": [
    "def plot_individual_observables(figs_dir, observables, top_charges_autocorr):\n",
    "    multiple_lines_figs_axes = make_multiple_lines_plots(\n",
    "        figs_dir,\n",
    "        params['beta_final'],\n",
    "        observables,\n",
    "        top_charges_autocorr,\n",
    "        legend=False\n",
    "    )\n",
    "    return multiple_lines_figs_axes"
   ]
  },
  {
   "cell_type": "code",
   "execution_count": 16,
   "metadata": {
    "ExecuteTime": {
     "end_time": "2019-04-25T08:31:07.070947Z",
     "start_time": "2019-04-25T08:31:07.005897Z"
    },
    "code_folding": [
     0
    ]
   },
   "outputs": [],
   "source": [
    "def plot_individual_acf_iat(acf_arr, iat_arr, ess_arr, figs_dir):\n",
    "    out_file = os.path.join(\n",
    "        figs_dir, \n",
    "        'integrated_autocorrelation_time_plot.pdf'\n",
    "    )\n",
    "    kwargs = {\n",
    "        'x_label': 'Lag',\n",
    "        'y_label': 'Autocorrelation (top. charge)',\n",
    "        'legend': True,\n",
    "        'out_file': out_file\n",
    "    }\n",
    "    fig, ax = plot_autocorr_with_iat(acf_arr, iat_arr, ess_arr, **kwargs)\n",
    "    \n",
    "    return fig, ax"
   ]
  },
  {
   "cell_type": "markdown",
   "metadata": {},
   "source": [
    "## Observables analysis"
   ]
  },
  {
   "cell_type": "markdown",
   "metadata": {},
   "source": [
    "### Define unique `log_dir` from which to load observables from."
   ]
  },
  {
   "cell_type": "code",
   "execution_count": 42,
   "metadata": {
    "ExecuteTime": {
     "end_time": "2019-04-25T16:22:17.724134Z",
     "start_time": "2019-04-25T16:22:17.657675Z"
    }
   },
   "outputs": [],
   "source": [
    "dir_str = ('../../logs/cooley_logs/april_2019/2019_04_24/'\n",
    "           'lattice16_steps5_batch128_beta25_qweight0/run_1/')\n",
    "dir_str_hmc = dir_str + 'HMC/run_1/'\n",
    "log_dir = os.path.join(*dir_str.split('/'))\n",
    "log_dir_hmc = os.path.join(*dir_str_hmc.split('/'))\n",
    "params_strs = dir_str.split('/')[5].split('_')\n",
    "assert os.path.isdir(log_dir)\n",
    "assert os.path.isdir(log_dir_hmc)"
   ]
  },
  {
   "cell_type": "code",
   "execution_count": 43,
   "metadata": {
    "ExecuteTime": {
     "end_time": "2019-04-25T16:22:18.762815Z",
     "start_time": "2019-04-25T16:22:18.701169Z"
    }
   },
   "outputs": [
    {
     "data": {
      "text/plain": [
       "['../../logs/cooley_logs/april_2019/2019_04_24/lattice16_steps5_batch128_beta25_qweight0/run_1/runs/steps_25000_beta_4.0',\n",
       " '../../logs/cooley_logs/april_2019/2019_04_24/lattice16_steps5_batch128_beta25_qweight0/run_1/runs/steps_25000_beta_5.0',\n",
       " '../../logs/cooley_logs/april_2019/2019_04_24/lattice16_steps5_batch128_beta25_qweight0/run_1/runs/steps_25000_beta_6.0']"
      ]
     },
     "execution_count": 43,
     "metadata": {},
     "output_type": "execute_result"
    },
    {
     "data": {
      "text/plain": [
       "['../../logs/cooley_logs/april_2019/2019_04_24/lattice16_steps5_batch128_beta25_qweight0/run_1/HMC/run_1/runs/steps_25000_beta_4.0',\n",
       " '../../logs/cooley_logs/april_2019/2019_04_24/lattice16_steps5_batch128_beta25_qweight0/run_1/HMC/run_1/runs/steps_25000_beta_5.0',\n",
       " '../../logs/cooley_logs/april_2019/2019_04_24/lattice16_steps5_batch128_beta25_qweight0/run_1/HMC/run_1/runs/steps_25000_beta_6.0']"
      ]
     },
     "execution_count": 43,
     "metadata": {},
     "output_type": "execute_result"
    }
   ],
   "source": [
    "run_dirs, run_params = get_run_dirs(log_dir)\n",
    "run_dirs_hmc, run_params_hmc = get_run_dirs(log_dir_hmc)\n",
    "\n",
    "run_dirs\n",
    "run_dirs_hmc"
   ]
  },
  {
   "cell_type": "markdown",
   "metadata": {},
   "source": [
    "Loop over all directories in `run_dirs` and `run_dirs_hmc`, and append the topological charge autocorrelations to `charges_autocorrs` and `charges_autocorrs_hmc`."
   ]
  },
  {
   "cell_type": "code",
   "execution_count": 44,
   "metadata": {
    "ExecuteTime": {
     "end_time": "2019-04-25T16:22:20.188369Z",
     "start_time": "2019-04-25T16:22:20.129384Z"
    }
   },
   "outputs": [],
   "source": [
    "def charges_autocorrs_from_run_dirs(run_dirs):\n",
    "    charges_autocorrs_dict = {} \n",
    "    for d in run_dirs:\n",
    "        beta = float(d.split('/')[-1].split('_')[-1])\n",
    "        run_data = load_run_data(d)\n",
    "        _, charges_arr = arrs_from_dict(run_data['charges'])\n",
    "        charge_autocorrs = np.array([autocorr(i) for i in charges_arr.T])\n",
    "        charges_autocorrs_dict[beta] = charge_autocorrs\n",
    "        #charges_autocorrs.append(charge_autocorrs)\n",
    "        \n",
    "    return charges_autocorrs_dict"
   ]
  },
  {
   "cell_type": "code",
   "execution_count": 45,
   "metadata": {
    "ExecuteTime": {
     "end_time": "2019-04-25T16:22:21.520816Z",
     "start_time": "2019-04-25T16:22:21.440181Z"
    }
   },
   "outputs": [],
   "source": [
    "def load_charges_from_run_dirs(run_dirs):\n",
    "    charges_autocorrs_dict = {}\n",
    "    for d in run_dirs:\n",
    "        obs_dir = os.path.join(d, 'observables')\n",
    "        charges_file = os.path.join(obs_dir, 'charges.pkl')\n",
    "        with open(charges_file, 'rb') as f:\n",
    "            charges_arr = pickle.load(f)\n",
    "        beta = float(d.split('/')[-1].split('_')[-1])"
   ]
  },
  {
   "cell_type": "code",
   "execution_count": 46,
   "metadata": {
    "ExecuteTime": {
     "end_time": "2019-04-25T16:23:33.995947Z",
     "start_time": "2019-04-25T16:22:23.069578Z"
    }
   },
   "outputs": [
    {
     "name": "stdout",
     "output_type": "stream",
     "text": [
      "Loading run_data from: ../../logs/cooley_logs/april_2019/2019_04_24/lattice16_steps5_batch128_beta25_qweight0/run_1/runs/steps_25000_beta_4.0/run_data.pkl\n",
      "Loading run_data from: ../../logs/cooley_logs/april_2019/2019_04_24/lattice16_steps5_batch128_beta25_qweight0/run_1/runs/steps_25000_beta_5.0/run_data.pkl\n",
      "Loading run_data from: ../../logs/cooley_logs/april_2019/2019_04_24/lattice16_steps5_batch128_beta25_qweight0/run_1/runs/steps_25000_beta_6.0/run_data.pkl\n",
      "Loading run_data from: ../../logs/cooley_logs/april_2019/2019_04_24/lattice16_steps5_batch128_beta25_qweight0/run_1/HMC/run_1/runs/steps_25000_beta_4.0/run_data.pkl\n",
      "Loading run_data from: ../../logs/cooley_logs/april_2019/2019_04_24/lattice16_steps5_batch128_beta25_qweight0/run_1/HMC/run_1/runs/steps_25000_beta_5.0/run_data.pkl\n",
      "Loading run_data from: ../../logs/cooley_logs/april_2019/2019_04_24/lattice16_steps5_batch128_beta25_qweight0/run_1/HMC/run_1/runs/steps_25000_beta_6.0/run_data.pkl\n"
     ]
    }
   ],
   "source": [
    "charges_autocorrs_dict = charges_autocorrs_from_run_dirs(run_dirs)\n",
    "charges_autocorrs_dict_hmc = charges_autocorrs_from_run_dirs(run_dirs_hmc)"
   ]
  },
  {
   "cell_type": "markdown",
   "metadata": {},
   "source": [
    "### Plot Topological Charge $Q$ Autocorrelations (L2HMC, HMC) for multiple values of $\\beta$."
   ]
  },
  {
   "cell_type": "code",
   "execution_count": 47,
   "metadata": {
    "ExecuteTime": {
     "end_time": "2019-04-25T16:23:42.910768Z",
     "start_time": "2019-04-25T16:23:38.070445Z"
    },
    "scrolled": false
   },
   "outputs": [
    {
     "data": {
      "application/javascript": [
       "/* Put everything inside the global mpl namespace */\n",
       "window.mpl = {};\n",
       "\n",
       "\n",
       "mpl.get_websocket_type = function() {\n",
       "    if (typeof(WebSocket) !== 'undefined') {\n",
       "        return WebSocket;\n",
       "    } else if (typeof(MozWebSocket) !== 'undefined') {\n",
       "        return MozWebSocket;\n",
       "    } else {\n",
       "        alert('Your browser does not have WebSocket support.' +\n",
       "              'Please try Chrome, Safari or Firefox ≥ 6. ' +\n",
       "              'Firefox 4 and 5 are also supported but you ' +\n",
       "              'have to enable WebSockets in about:config.');\n",
       "    };\n",
       "}\n",
       "\n",
       "mpl.figure = function(figure_id, websocket, ondownload, parent_element) {\n",
       "    this.id = figure_id;\n",
       "\n",
       "    this.ws = websocket;\n",
       "\n",
       "    this.supports_binary = (this.ws.binaryType != undefined);\n",
       "\n",
       "    if (!this.supports_binary) {\n",
       "        var warnings = document.getElementById(\"mpl-warnings\");\n",
       "        if (warnings) {\n",
       "            warnings.style.display = 'block';\n",
       "            warnings.textContent = (\n",
       "                \"This browser does not support binary websocket messages. \" +\n",
       "                    \"Performance may be slow.\");\n",
       "        }\n",
       "    }\n",
       "\n",
       "    this.imageObj = new Image();\n",
       "\n",
       "    this.context = undefined;\n",
       "    this.message = undefined;\n",
       "    this.canvas = undefined;\n",
       "    this.rubberband_canvas = undefined;\n",
       "    this.rubberband_context = undefined;\n",
       "    this.format_dropdown = undefined;\n",
       "\n",
       "    this.image_mode = 'full';\n",
       "\n",
       "    this.root = $('<div/>');\n",
       "    this._root_extra_style(this.root)\n",
       "    this.root.attr('style', 'display: inline-block');\n",
       "\n",
       "    $(parent_element).append(this.root);\n",
       "\n",
       "    this._init_header(this);\n",
       "    this._init_canvas(this);\n",
       "    this._init_toolbar(this);\n",
       "\n",
       "    var fig = this;\n",
       "\n",
       "    this.waiting = false;\n",
       "\n",
       "    this.ws.onopen =  function () {\n",
       "            fig.send_message(\"supports_binary\", {value: fig.supports_binary});\n",
       "            fig.send_message(\"send_image_mode\", {});\n",
       "            if (mpl.ratio != 1) {\n",
       "                fig.send_message(\"set_dpi_ratio\", {'dpi_ratio': mpl.ratio});\n",
       "            }\n",
       "            fig.send_message(\"refresh\", {});\n",
       "        }\n",
       "\n",
       "    this.imageObj.onload = function() {\n",
       "            if (fig.image_mode == 'full') {\n",
       "                // Full images could contain transparency (where diff images\n",
       "                // almost always do), so we need to clear the canvas so that\n",
       "                // there is no ghosting.\n",
       "                fig.context.clearRect(0, 0, fig.canvas.width, fig.canvas.height);\n",
       "            }\n",
       "            fig.context.drawImage(fig.imageObj, 0, 0);\n",
       "        };\n",
       "\n",
       "    this.imageObj.onunload = function() {\n",
       "        fig.ws.close();\n",
       "    }\n",
       "\n",
       "    this.ws.onmessage = this._make_on_message_function(this);\n",
       "\n",
       "    this.ondownload = ondownload;\n",
       "}\n",
       "\n",
       "mpl.figure.prototype._init_header = function() {\n",
       "    var titlebar = $(\n",
       "        '<div class=\"ui-dialog-titlebar ui-widget-header ui-corner-all ' +\n",
       "        'ui-helper-clearfix\"/>');\n",
       "    var titletext = $(\n",
       "        '<div class=\"ui-dialog-title\" style=\"width: 100%; ' +\n",
       "        'text-align: center; padding: 3px;\"/>');\n",
       "    titlebar.append(titletext)\n",
       "    this.root.append(titlebar);\n",
       "    this.header = titletext[0];\n",
       "}\n",
       "\n",
       "\n",
       "\n",
       "mpl.figure.prototype._canvas_extra_style = function(canvas_div) {\n",
       "\n",
       "}\n",
       "\n",
       "\n",
       "mpl.figure.prototype._root_extra_style = function(canvas_div) {\n",
       "\n",
       "}\n",
       "\n",
       "mpl.figure.prototype._init_canvas = function() {\n",
       "    var fig = this;\n",
       "\n",
       "    var canvas_div = $('<div/>');\n",
       "\n",
       "    canvas_div.attr('style', 'position: relative; clear: both; outline: 0');\n",
       "\n",
       "    function canvas_keyboard_event(event) {\n",
       "        return fig.key_event(event, event['data']);\n",
       "    }\n",
       "\n",
       "    canvas_div.keydown('key_press', canvas_keyboard_event);\n",
       "    canvas_div.keyup('key_release', canvas_keyboard_event);\n",
       "    this.canvas_div = canvas_div\n",
       "    this._canvas_extra_style(canvas_div)\n",
       "    this.root.append(canvas_div);\n",
       "\n",
       "    var canvas = $('<canvas/>');\n",
       "    canvas.addClass('mpl-canvas');\n",
       "    canvas.attr('style', \"left: 0; top: 0; z-index: 0; outline: 0\")\n",
       "\n",
       "    this.canvas = canvas[0];\n",
       "    this.context = canvas[0].getContext(\"2d\");\n",
       "\n",
       "    var backingStore = this.context.backingStorePixelRatio ||\n",
       "\tthis.context.webkitBackingStorePixelRatio ||\n",
       "\tthis.context.mozBackingStorePixelRatio ||\n",
       "\tthis.context.msBackingStorePixelRatio ||\n",
       "\tthis.context.oBackingStorePixelRatio ||\n",
       "\tthis.context.backingStorePixelRatio || 1;\n",
       "\n",
       "    mpl.ratio = (window.devicePixelRatio || 1) / backingStore;\n",
       "\n",
       "    var rubberband = $('<canvas/>');\n",
       "    rubberband.attr('style', \"position: absolute; left: 0; top: 0; z-index: 1;\")\n",
       "\n",
       "    var pass_mouse_events = true;\n",
       "\n",
       "    canvas_div.resizable({\n",
       "        start: function(event, ui) {\n",
       "            pass_mouse_events = false;\n",
       "        },\n",
       "        resize: function(event, ui) {\n",
       "            fig.request_resize(ui.size.width, ui.size.height);\n",
       "        },\n",
       "        stop: function(event, ui) {\n",
       "            pass_mouse_events = true;\n",
       "            fig.request_resize(ui.size.width, ui.size.height);\n",
       "        },\n",
       "    });\n",
       "\n",
       "    function mouse_event_fn(event) {\n",
       "        if (pass_mouse_events)\n",
       "            return fig.mouse_event(event, event['data']);\n",
       "    }\n",
       "\n",
       "    rubberband.mousedown('button_press', mouse_event_fn);\n",
       "    rubberband.mouseup('button_release', mouse_event_fn);\n",
       "    // Throttle sequential mouse events to 1 every 20ms.\n",
       "    rubberband.mousemove('motion_notify', mouse_event_fn);\n",
       "\n",
       "    rubberband.mouseenter('figure_enter', mouse_event_fn);\n",
       "    rubberband.mouseleave('figure_leave', mouse_event_fn);\n",
       "\n",
       "    canvas_div.on(\"wheel\", function (event) {\n",
       "        event = event.originalEvent;\n",
       "        event['data'] = 'scroll'\n",
       "        if (event.deltaY < 0) {\n",
       "            event.step = 1;\n",
       "        } else {\n",
       "            event.step = -1;\n",
       "        }\n",
       "        mouse_event_fn(event);\n",
       "    });\n",
       "\n",
       "    canvas_div.append(canvas);\n",
       "    canvas_div.append(rubberband);\n",
       "\n",
       "    this.rubberband = rubberband;\n",
       "    this.rubberband_canvas = rubberband[0];\n",
       "    this.rubberband_context = rubberband[0].getContext(\"2d\");\n",
       "    this.rubberband_context.strokeStyle = \"#000000\";\n",
       "\n",
       "    this._resize_canvas = function(width, height) {\n",
       "        // Keep the size of the canvas, canvas container, and rubber band\n",
       "        // canvas in synch.\n",
       "        canvas_div.css('width', width)\n",
       "        canvas_div.css('height', height)\n",
       "\n",
       "        canvas.attr('width', width * mpl.ratio);\n",
       "        canvas.attr('height', height * mpl.ratio);\n",
       "        canvas.attr('style', 'width: ' + width + 'px; height: ' + height + 'px;');\n",
       "\n",
       "        rubberband.attr('width', width);\n",
       "        rubberband.attr('height', height);\n",
       "    }\n",
       "\n",
       "    // Set the figure to an initial 600x600px, this will subsequently be updated\n",
       "    // upon first draw.\n",
       "    this._resize_canvas(600, 600);\n",
       "\n",
       "    // Disable right mouse context menu.\n",
       "    $(this.rubberband_canvas).bind(\"contextmenu\",function(e){\n",
       "        return false;\n",
       "    });\n",
       "\n",
       "    function set_focus () {\n",
       "        canvas.focus();\n",
       "        canvas_div.focus();\n",
       "    }\n",
       "\n",
       "    window.setTimeout(set_focus, 100);\n",
       "}\n",
       "\n",
       "mpl.figure.prototype._init_toolbar = function() {\n",
       "    var fig = this;\n",
       "\n",
       "    var nav_element = $('<div/>')\n",
       "    nav_element.attr('style', 'width: 100%');\n",
       "    this.root.append(nav_element);\n",
       "\n",
       "    // Define a callback function for later on.\n",
       "    function toolbar_event(event) {\n",
       "        return fig.toolbar_button_onclick(event['data']);\n",
       "    }\n",
       "    function toolbar_mouse_event(event) {\n",
       "        return fig.toolbar_button_onmouseover(event['data']);\n",
       "    }\n",
       "\n",
       "    for(var toolbar_ind in mpl.toolbar_items) {\n",
       "        var name = mpl.toolbar_items[toolbar_ind][0];\n",
       "        var tooltip = mpl.toolbar_items[toolbar_ind][1];\n",
       "        var image = mpl.toolbar_items[toolbar_ind][2];\n",
       "        var method_name = mpl.toolbar_items[toolbar_ind][3];\n",
       "\n",
       "        if (!name) {\n",
       "            // put a spacer in here.\n",
       "            continue;\n",
       "        }\n",
       "        var button = $('<button/>');\n",
       "        button.addClass('ui-button ui-widget ui-state-default ui-corner-all ' +\n",
       "                        'ui-button-icon-only');\n",
       "        button.attr('role', 'button');\n",
       "        button.attr('aria-disabled', 'false');\n",
       "        button.click(method_name, toolbar_event);\n",
       "        button.mouseover(tooltip, toolbar_mouse_event);\n",
       "\n",
       "        var icon_img = $('<span/>');\n",
       "        icon_img.addClass('ui-button-icon-primary ui-icon');\n",
       "        icon_img.addClass(image);\n",
       "        icon_img.addClass('ui-corner-all');\n",
       "\n",
       "        var tooltip_span = $('<span/>');\n",
       "        tooltip_span.addClass('ui-button-text');\n",
       "        tooltip_span.html(tooltip);\n",
       "\n",
       "        button.append(icon_img);\n",
       "        button.append(tooltip_span);\n",
       "\n",
       "        nav_element.append(button);\n",
       "    }\n",
       "\n",
       "    var fmt_picker_span = $('<span/>');\n",
       "\n",
       "    var fmt_picker = $('<select/>');\n",
       "    fmt_picker.addClass('mpl-toolbar-option ui-widget ui-widget-content');\n",
       "    fmt_picker_span.append(fmt_picker);\n",
       "    nav_element.append(fmt_picker_span);\n",
       "    this.format_dropdown = fmt_picker[0];\n",
       "\n",
       "    for (var ind in mpl.extensions) {\n",
       "        var fmt = mpl.extensions[ind];\n",
       "        var option = $(\n",
       "            '<option/>', {selected: fmt === mpl.default_extension}).html(fmt);\n",
       "        fmt_picker.append(option)\n",
       "    }\n",
       "\n",
       "    // Add hover states to the ui-buttons\n",
       "    $( \".ui-button\" ).hover(\n",
       "        function() { $(this).addClass(\"ui-state-hover\");},\n",
       "        function() { $(this).removeClass(\"ui-state-hover\");}\n",
       "    );\n",
       "\n",
       "    var status_bar = $('<span class=\"mpl-message\"/>');\n",
       "    nav_element.append(status_bar);\n",
       "    this.message = status_bar[0];\n",
       "}\n",
       "\n",
       "mpl.figure.prototype.request_resize = function(x_pixels, y_pixels) {\n",
       "    // Request matplotlib to resize the figure. Matplotlib will then trigger a resize in the client,\n",
       "    // which will in turn request a refresh of the image.\n",
       "    this.send_message('resize', {'width': x_pixels, 'height': y_pixels});\n",
       "}\n",
       "\n",
       "mpl.figure.prototype.send_message = function(type, properties) {\n",
       "    properties['type'] = type;\n",
       "    properties['figure_id'] = this.id;\n",
       "    this.ws.send(JSON.stringify(properties));\n",
       "}\n",
       "\n",
       "mpl.figure.prototype.send_draw_message = function() {\n",
       "    if (!this.waiting) {\n",
       "        this.waiting = true;\n",
       "        this.ws.send(JSON.stringify({type: \"draw\", figure_id: this.id}));\n",
       "    }\n",
       "}\n",
       "\n",
       "\n",
       "mpl.figure.prototype.handle_save = function(fig, msg) {\n",
       "    var format_dropdown = fig.format_dropdown;\n",
       "    var format = format_dropdown.options[format_dropdown.selectedIndex].value;\n",
       "    fig.ondownload(fig, format);\n",
       "}\n",
       "\n",
       "\n",
       "mpl.figure.prototype.handle_resize = function(fig, msg) {\n",
       "    var size = msg['size'];\n",
       "    if (size[0] != fig.canvas.width || size[1] != fig.canvas.height) {\n",
       "        fig._resize_canvas(size[0], size[1]);\n",
       "        fig.send_message(\"refresh\", {});\n",
       "    };\n",
       "}\n",
       "\n",
       "mpl.figure.prototype.handle_rubberband = function(fig, msg) {\n",
       "    var x0 = msg['x0'] / mpl.ratio;\n",
       "    var y0 = (fig.canvas.height - msg['y0']) / mpl.ratio;\n",
       "    var x1 = msg['x1'] / mpl.ratio;\n",
       "    var y1 = (fig.canvas.height - msg['y1']) / mpl.ratio;\n",
       "    x0 = Math.floor(x0) + 0.5;\n",
       "    y0 = Math.floor(y0) + 0.5;\n",
       "    x1 = Math.floor(x1) + 0.5;\n",
       "    y1 = Math.floor(y1) + 0.5;\n",
       "    var min_x = Math.min(x0, x1);\n",
       "    var min_y = Math.min(y0, y1);\n",
       "    var width = Math.abs(x1 - x0);\n",
       "    var height = Math.abs(y1 - y0);\n",
       "\n",
       "    fig.rubberband_context.clearRect(\n",
       "        0, 0, fig.canvas.width, fig.canvas.height);\n",
       "\n",
       "    fig.rubberband_context.strokeRect(min_x, min_y, width, height);\n",
       "}\n",
       "\n",
       "mpl.figure.prototype.handle_figure_label = function(fig, msg) {\n",
       "    // Updates the figure title.\n",
       "    fig.header.textContent = msg['label'];\n",
       "}\n",
       "\n",
       "mpl.figure.prototype.handle_cursor = function(fig, msg) {\n",
       "    var cursor = msg['cursor'];\n",
       "    switch(cursor)\n",
       "    {\n",
       "    case 0:\n",
       "        cursor = 'pointer';\n",
       "        break;\n",
       "    case 1:\n",
       "        cursor = 'default';\n",
       "        break;\n",
       "    case 2:\n",
       "        cursor = 'crosshair';\n",
       "        break;\n",
       "    case 3:\n",
       "        cursor = 'move';\n",
       "        break;\n",
       "    }\n",
       "    fig.rubberband_canvas.style.cursor = cursor;\n",
       "}\n",
       "\n",
       "mpl.figure.prototype.handle_message = function(fig, msg) {\n",
       "    fig.message.textContent = msg['message'];\n",
       "}\n",
       "\n",
       "mpl.figure.prototype.handle_draw = function(fig, msg) {\n",
       "    // Request the server to send over a new figure.\n",
       "    fig.send_draw_message();\n",
       "}\n",
       "\n",
       "mpl.figure.prototype.handle_image_mode = function(fig, msg) {\n",
       "    fig.image_mode = msg['mode'];\n",
       "}\n",
       "\n",
       "mpl.figure.prototype.updated_canvas_event = function() {\n",
       "    // Called whenever the canvas gets updated.\n",
       "    this.send_message(\"ack\", {});\n",
       "}\n",
       "\n",
       "// A function to construct a web socket function for onmessage handling.\n",
       "// Called in the figure constructor.\n",
       "mpl.figure.prototype._make_on_message_function = function(fig) {\n",
       "    return function socket_on_message(evt) {\n",
       "        if (evt.data instanceof Blob) {\n",
       "            /* FIXME: We get \"Resource interpreted as Image but\n",
       "             * transferred with MIME type text/plain:\" errors on\n",
       "             * Chrome.  But how to set the MIME type?  It doesn't seem\n",
       "             * to be part of the websocket stream */\n",
       "            evt.data.type = \"image/png\";\n",
       "\n",
       "            /* Free the memory for the previous frames */\n",
       "            if (fig.imageObj.src) {\n",
       "                (window.URL || window.webkitURL).revokeObjectURL(\n",
       "                    fig.imageObj.src);\n",
       "            }\n",
       "\n",
       "            fig.imageObj.src = (window.URL || window.webkitURL).createObjectURL(\n",
       "                evt.data);\n",
       "            fig.updated_canvas_event();\n",
       "            fig.waiting = false;\n",
       "            return;\n",
       "        }\n",
       "        else if (typeof evt.data === 'string' && evt.data.slice(0, 21) == \"data:image/png;base64\") {\n",
       "            fig.imageObj.src = evt.data;\n",
       "            fig.updated_canvas_event();\n",
       "            fig.waiting = false;\n",
       "            return;\n",
       "        }\n",
       "\n",
       "        var msg = JSON.parse(evt.data);\n",
       "        var msg_type = msg['type'];\n",
       "\n",
       "        // Call the  \"handle_{type}\" callback, which takes\n",
       "        // the figure and JSON message as its only arguments.\n",
       "        try {\n",
       "            var callback = fig[\"handle_\" + msg_type];\n",
       "        } catch (e) {\n",
       "            console.log(\"No handler for the '\" + msg_type + \"' message type: \", msg);\n",
       "            return;\n",
       "        }\n",
       "\n",
       "        if (callback) {\n",
       "            try {\n",
       "                // console.log(\"Handling '\" + msg_type + \"' message: \", msg);\n",
       "                callback(fig, msg);\n",
       "            } catch (e) {\n",
       "                console.log(\"Exception inside the 'handler_\" + msg_type + \"' callback:\", e, e.stack, msg);\n",
       "            }\n",
       "        }\n",
       "    };\n",
       "}\n",
       "\n",
       "// from http://stackoverflow.com/questions/1114465/getting-mouse-location-in-canvas\n",
       "mpl.findpos = function(e) {\n",
       "    //this section is from http://www.quirksmode.org/js/events_properties.html\n",
       "    var targ;\n",
       "    if (!e)\n",
       "        e = window.event;\n",
       "    if (e.target)\n",
       "        targ = e.target;\n",
       "    else if (e.srcElement)\n",
       "        targ = e.srcElement;\n",
       "    if (targ.nodeType == 3) // defeat Safari bug\n",
       "        targ = targ.parentNode;\n",
       "\n",
       "    // jQuery normalizes the pageX and pageY\n",
       "    // pageX,Y are the mouse positions relative to the document\n",
       "    // offset() returns the position of the element relative to the document\n",
       "    var x = e.pageX - $(targ).offset().left;\n",
       "    var y = e.pageY - $(targ).offset().top;\n",
       "\n",
       "    return {\"x\": x, \"y\": y};\n",
       "};\n",
       "\n",
       "/*\n",
       " * return a copy of an object with only non-object keys\n",
       " * we need this to avoid circular references\n",
       " * http://stackoverflow.com/a/24161582/3208463\n",
       " */\n",
       "function simpleKeys (original) {\n",
       "  return Object.keys(original).reduce(function (obj, key) {\n",
       "    if (typeof original[key] !== 'object')\n",
       "        obj[key] = original[key]\n",
       "    return obj;\n",
       "  }, {});\n",
       "}\n",
       "\n",
       "mpl.figure.prototype.mouse_event = function(event, name) {\n",
       "    var canvas_pos = mpl.findpos(event)\n",
       "\n",
       "    if (name === 'button_press')\n",
       "    {\n",
       "        this.canvas.focus();\n",
       "        this.canvas_div.focus();\n",
       "    }\n",
       "\n",
       "    var x = canvas_pos.x * mpl.ratio;\n",
       "    var y = canvas_pos.y * mpl.ratio;\n",
       "\n",
       "    this.send_message(name, {x: x, y: y, button: event.button,\n",
       "                             step: event.step,\n",
       "                             guiEvent: simpleKeys(event)});\n",
       "\n",
       "    /* This prevents the web browser from automatically changing to\n",
       "     * the text insertion cursor when the button is pressed.  We want\n",
       "     * to control all of the cursor setting manually through the\n",
       "     * 'cursor' event from matplotlib */\n",
       "    event.preventDefault();\n",
       "    return false;\n",
       "}\n",
       "\n",
       "mpl.figure.prototype._key_event_extra = function(event, name) {\n",
       "    // Handle any extra behaviour associated with a key event\n",
       "}\n",
       "\n",
       "mpl.figure.prototype.key_event = function(event, name) {\n",
       "\n",
       "    // Prevent repeat events\n",
       "    if (name == 'key_press')\n",
       "    {\n",
       "        if (event.which === this._key)\n",
       "            return;\n",
       "        else\n",
       "            this._key = event.which;\n",
       "    }\n",
       "    if (name == 'key_release')\n",
       "        this._key = null;\n",
       "\n",
       "    var value = '';\n",
       "    if (event.ctrlKey && event.which != 17)\n",
       "        value += \"ctrl+\";\n",
       "    if (event.altKey && event.which != 18)\n",
       "        value += \"alt+\";\n",
       "    if (event.shiftKey && event.which != 16)\n",
       "        value += \"shift+\";\n",
       "\n",
       "    value += 'k';\n",
       "    value += event.which.toString();\n",
       "\n",
       "    this._key_event_extra(event, name);\n",
       "\n",
       "    this.send_message(name, {key: value,\n",
       "                             guiEvent: simpleKeys(event)});\n",
       "    return false;\n",
       "}\n",
       "\n",
       "mpl.figure.prototype.toolbar_button_onclick = function(name) {\n",
       "    if (name == 'download') {\n",
       "        this.handle_save(this, null);\n",
       "    } else {\n",
       "        this.send_message(\"toolbar_button\", {name: name});\n",
       "    }\n",
       "};\n",
       "\n",
       "mpl.figure.prototype.toolbar_button_onmouseover = function(tooltip) {\n",
       "    this.message.textContent = tooltip;\n",
       "};\n",
       "mpl.toolbar_items = [[\"Home\", \"Reset original view\", \"fa fa-home icon-home\", \"home\"], [\"Back\", \"Back to previous view\", \"fa fa-arrow-left icon-arrow-left\", \"back\"], [\"Forward\", \"Forward to next view\", \"fa fa-arrow-right icon-arrow-right\", \"forward\"], [\"\", \"\", \"\", \"\"], [\"Pan\", \"Pan axes with left mouse, zoom with right\", \"fa fa-arrows icon-move\", \"pan\"], [\"Zoom\", \"Zoom to rectangle\", \"fa fa-square-o icon-check-empty\", \"zoom\"], [\"\", \"\", \"\", \"\"], [\"Download\", \"Download plot\", \"fa fa-floppy-o icon-save\", \"download\"]];\n",
       "\n",
       "mpl.extensions = [\"eps\", \"jpeg\", \"pdf\", \"png\", \"ps\", \"raw\", \"svg\", \"tif\"];\n",
       "\n",
       "mpl.default_extension = \"pdf\";var comm_websocket_adapter = function(comm) {\n",
       "    // Create a \"websocket\"-like object which calls the given IPython comm\n",
       "    // object with the appropriate methods. Currently this is a non binary\n",
       "    // socket, so there is still some room for performance tuning.\n",
       "    var ws = {};\n",
       "\n",
       "    ws.close = function() {\n",
       "        comm.close()\n",
       "    };\n",
       "    ws.send = function(m) {\n",
       "        //console.log('sending', m);\n",
       "        comm.send(m);\n",
       "    };\n",
       "    // Register the callback with on_msg.\n",
       "    comm.on_msg(function(msg) {\n",
       "        //console.log('receiving', msg['content']['data'], msg);\n",
       "        // Pass the mpl event to the overridden (by mpl) onmessage function.\n",
       "        ws.onmessage(msg['content']['data'])\n",
       "    });\n",
       "    return ws;\n",
       "}\n",
       "\n",
       "mpl.mpl_figure_comm = function(comm, msg) {\n",
       "    // This is the function which gets called when the mpl process\n",
       "    // starts-up an IPython Comm through the \"matplotlib\" channel.\n",
       "\n",
       "    var id = msg.content.data.id;\n",
       "    // Get hold of the div created by the display call when the Comm\n",
       "    // socket was opened in Python.\n",
       "    var element = $(\"#\" + id);\n",
       "    var ws_proxy = comm_websocket_adapter(comm)\n",
       "\n",
       "    function ondownload(figure, format) {\n",
       "        window.open(figure.imageObj.src);\n",
       "    }\n",
       "\n",
       "    var fig = new mpl.figure(id, ws_proxy,\n",
       "                           ondownload,\n",
       "                           element.get(0));\n",
       "\n",
       "    // Call onopen now - mpl needs it, as it is assuming we've passed it a real\n",
       "    // web socket which is closed, not our websocket->open comm proxy.\n",
       "    ws_proxy.onopen();\n",
       "\n",
       "    fig.parent_element = element.get(0);\n",
       "    fig.cell_info = mpl.find_output_cell(\"<div id='\" + id + \"'></div>\");\n",
       "    if (!fig.cell_info) {\n",
       "        console.error(\"Failed to find cell for figure\", id, fig);\n",
       "        return;\n",
       "    }\n",
       "\n",
       "    var output_index = fig.cell_info[2]\n",
       "    var cell = fig.cell_info[0];\n",
       "\n",
       "};\n",
       "\n",
       "mpl.figure.prototype.handle_close = function(fig, msg) {\n",
       "    var width = fig.canvas.width/mpl.ratio\n",
       "    fig.root.unbind('remove')\n",
       "\n",
       "    // Update the output cell to use the data from the current canvas.\n",
       "    fig.push_to_output();\n",
       "    var dataURL = fig.canvas.toDataURL();\n",
       "    // Re-enable the keyboard manager in IPython - without this line, in FF,\n",
       "    // the notebook keyboard shortcuts fail.\n",
       "    IPython.keyboard_manager.enable()\n",
       "    $(fig.parent_element).html('<img src=\"' + dataURL + '\" width=\"' + width + '\">');\n",
       "    fig.close_ws(fig, msg);\n",
       "}\n",
       "\n",
       "mpl.figure.prototype.close_ws = function(fig, msg){\n",
       "    fig.send_message('closing', msg);\n",
       "    // fig.ws.close()\n",
       "}\n",
       "\n",
       "mpl.figure.prototype.push_to_output = function(remove_interactive) {\n",
       "    // Turn the data on the canvas into data in the output cell.\n",
       "    var width = this.canvas.width/mpl.ratio\n",
       "    var dataURL = this.canvas.toDataURL();\n",
       "    this.cell_info[1]['text/html'] = '<img src=\"' + dataURL + '\" width=\"' + width + '\">';\n",
       "}\n",
       "\n",
       "mpl.figure.prototype.updated_canvas_event = function() {\n",
       "    // Tell IPython that the notebook contents must change.\n",
       "    IPython.notebook.set_dirty(true);\n",
       "    this.send_message(\"ack\", {});\n",
       "    var fig = this;\n",
       "    // Wait a second, then push the new image to the DOM so\n",
       "    // that it is saved nicely (might be nice to debounce this).\n",
       "    setTimeout(function () { fig.push_to_output() }, 1000);\n",
       "}\n",
       "\n",
       "mpl.figure.prototype._init_toolbar = function() {\n",
       "    var fig = this;\n",
       "\n",
       "    var nav_element = $('<div/>')\n",
       "    nav_element.attr('style', 'width: 100%');\n",
       "    this.root.append(nav_element);\n",
       "\n",
       "    // Define a callback function for later on.\n",
       "    function toolbar_event(event) {\n",
       "        return fig.toolbar_button_onclick(event['data']);\n",
       "    }\n",
       "    function toolbar_mouse_event(event) {\n",
       "        return fig.toolbar_button_onmouseover(event['data']);\n",
       "    }\n",
       "\n",
       "    for(var toolbar_ind in mpl.toolbar_items){\n",
       "        var name = mpl.toolbar_items[toolbar_ind][0];\n",
       "        var tooltip = mpl.toolbar_items[toolbar_ind][1];\n",
       "        var image = mpl.toolbar_items[toolbar_ind][2];\n",
       "        var method_name = mpl.toolbar_items[toolbar_ind][3];\n",
       "\n",
       "        if (!name) { continue; };\n",
       "\n",
       "        var button = $('<button class=\"btn btn-default\" href=\"#\" title=\"' + name + '\"><i class=\"fa ' + image + ' fa-lg\"></i></button>');\n",
       "        button.click(method_name, toolbar_event);\n",
       "        button.mouseover(tooltip, toolbar_mouse_event);\n",
       "        nav_element.append(button);\n",
       "    }\n",
       "\n",
       "    // Add the status bar.\n",
       "    var status_bar = $('<span class=\"mpl-message\" style=\"text-align:right; float: right;\"/>');\n",
       "    nav_element.append(status_bar);\n",
       "    this.message = status_bar[0];\n",
       "\n",
       "    // Add the close button to the window.\n",
       "    var buttongrp = $('<div class=\"btn-group inline pull-right\"></div>');\n",
       "    var button = $('<button class=\"btn btn-mini btn-primary\" href=\"#\" title=\"Stop Interaction\"><i class=\"fa fa-power-off icon-remove icon-large\"></i></button>');\n",
       "    button.click(function (evt) { fig.handle_close(fig, {}); } );\n",
       "    button.mouseover('Stop Interaction', toolbar_mouse_event);\n",
       "    buttongrp.append(button);\n",
       "    var titlebar = this.root.find($('.ui-dialog-titlebar'));\n",
       "    titlebar.prepend(buttongrp);\n",
       "}\n",
       "\n",
       "mpl.figure.prototype._root_extra_style = function(el){\n",
       "    var fig = this\n",
       "    el.on(\"remove\", function(){\n",
       "\tfig.close_ws(fig, {});\n",
       "    });\n",
       "}\n",
       "\n",
       "mpl.figure.prototype._canvas_extra_style = function(el){\n",
       "    // this is important to make the div 'focusable\n",
       "    el.attr('tabindex', 0)\n",
       "    // reach out to IPython and tell the keyboard manager to turn it's self\n",
       "    // off when our div gets focus\n",
       "\n",
       "    // location in version 3\n",
       "    if (IPython.notebook.keyboard_manager) {\n",
       "        IPython.notebook.keyboard_manager.register_events(el);\n",
       "    }\n",
       "    else {\n",
       "        // location in version 2\n",
       "        IPython.keyboard_manager.register_events(el);\n",
       "    }\n",
       "\n",
       "}\n",
       "\n",
       "mpl.figure.prototype._key_event_extra = function(event, name) {\n",
       "    var manager = IPython.notebook.keyboard_manager;\n",
       "    if (!manager)\n",
       "        manager = IPython.keyboard_manager;\n",
       "\n",
       "    // Check for shift+enter\n",
       "    if (event.shiftKey && event.which == 13) {\n",
       "        this.canvas_div.blur();\n",
       "        event.shiftKey = false;\n",
       "        // Send a \"J\" for go to next cell\n",
       "        event.which = 74;\n",
       "        event.keyCode = 74;\n",
       "        manager.command_mode();\n",
       "        manager.handle_keydown(event);\n",
       "    }\n",
       "}\n",
       "\n",
       "mpl.figure.prototype.handle_save = function(fig, msg) {\n",
       "    fig.ondownload(fig, null);\n",
       "}\n",
       "\n",
       "\n",
       "mpl.find_output_cell = function(html_output) {\n",
       "    // Return the cell and output element which can be found *uniquely* in the notebook.\n",
       "    // Note - this is a bit hacky, but it is done because the \"notebook_saving.Notebook\"\n",
       "    // IPython event is triggered only after the cells have been serialised, which for\n",
       "    // our purposes (turning an active figure into a static one), is too late.\n",
       "    var cells = IPython.notebook.get_cells();\n",
       "    var ncells = cells.length;\n",
       "    for (var i=0; i<ncells; i++) {\n",
       "        var cell = cells[i];\n",
       "        if (cell.cell_type === 'code'){\n",
       "            for (var j=0; j<cell.output_area.outputs.length; j++) {\n",
       "                var data = cell.output_area.outputs[j];\n",
       "                if (data.data) {\n",
       "                    // IPython >= 3 moved mimebundle to data attribute of output\n",
       "                    data = data.data;\n",
       "                }\n",
       "                if (data['text/html'] == html_output) {\n",
       "                    return [cell, data, j];\n",
       "                }\n",
       "            }\n",
       "        }\n",
       "    }\n",
       "}\n",
       "\n",
       "// Register the function which deals with the matplotlib target/channel.\n",
       "// The kernel may be null if the page has been refreshed.\n",
       "if (IPython.notebook.kernel != null) {\n",
       "    IPython.notebook.kernel.comm_manager.register_target('matplotlib', mpl.mpl_figure_comm);\n",
       "}\n"
      ],
      "text/plain": [
       "<IPython.core.display.Javascript object>"
      ]
     },
     "metadata": {},
     "output_type": "display_data"
    },
    {
     "data": {
      "text/html": [
       "<img src=\"data:image/png;base64,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\" width=\"639.999990463257\">"
      ],
      "text/plain": [
       "<IPython.core.display.HTML object>"
      ]
     },
     "metadata": {},
     "output_type": "display_data"
    },
    {
     "name": "stdout",
     "output_type": "stream",
     "text": [
      "Saving figure to: ../../logs/cooley_logs/april_2019/2019_04_24/lattice16_steps5_batch128_beta25_qweight0/run_1/figures/top_charge_autocorrelations.eps.\n",
      "Saving figure to: ../../logs/cooley_logs/april_2019/2019_04_24/lattice16_steps5_batch128_beta25_qweight0/run_1/figures/top_charge_autocorrelations.png.\n"
     ]
    }
   ],
   "source": [
    "figs_dir = os.path.join(log_dir, 'figures')\n",
    "if not os.path.isdir(figs_dir):\n",
    "    os.makedirs(figs_dir)\n",
    "   \n",
    "fig, ax = plt.subplots()\n",
    "for idx, beta in enumerate(charges_autocorrs_dict.keys()):\n",
    "    acorr_l2hmc = charges_autocorrs_dict[beta]\n",
    "    acorr_avg_l2hmc = acorr_l2hmc.mean(axis=0)\n",
    "    acorr_max_l2hmc = acorr_avg_l2hmc.max()\n",
    "    \n",
    "    acorr_hmc = charges_autocorrs_dict_hmc[beta]\n",
    "    acorr_avg_hmc = acorr_hmc.mean(axis=0)\n",
    "    acorr_max_hmc = acorr_avg_hmc.max()\n",
    "    l2hmc_label = 'L2HMC ' + r\"\"\"$\\beta = $\"\"\" + f'{beta}'\n",
    "    hmc_label = 'HMC ' + r\"\"\"$\\beta = $\"\"\" + f'{beta}'\n",
    "\n",
    "    _ = ax.plot(acorr_avg_l2hmc / acorr_max_l2hmc, \n",
    "                ls='-', color=COLORS[idx],  label=l2hmc_label)\n",
    "    _ = ax.plot(acorr_avg_hmc / acorr_max_hmc,\n",
    "                ls='--', color=COLORS[idx], label=hmc_label)\n",
    "    \n",
    "_ = ax.legend(loc='best')\n",
    "_ = ax.set_xlabel('lag', fontsize=14)\n",
    "_ = ax.set_ylabel('Autocorrelation', fontsize=14)\n",
    "_ = fig.tight_layout()\n",
    "\n",
    "out_file1 = os.path.join(figs_dir, 'top_charge_autocorrelations.eps')\n",
    "out_file2 = os.path.join(figs_dir, 'top_charge_autocorrelations.png')\n",
    "print(f\"Saving figure to: {out_file1}.\")\n",
    "_ = plt.savefig(out_file1, dpi=400, bbox_inches='tight')\n",
    "print(f\"Saving figure to: {out_file2}.\")\n",
    "_ = plt.savefig(out_file2, dpi=400, bbox_inches='tight')"
   ]
  },
  {
   "cell_type": "code",
   "execution_count": null,
   "metadata": {},
   "outputs": [],
   "source": [
    "figs_dir = os.path.join(log_dir, 'figures')\n",
    "if not os.path.isdir(figs_dir):\n",
    "    os.makedirs(figs_dir)\n",
    "\n",
    "beta = 5.0\n",
    "acorr_l2hmc = charges_autocorrs_dict[beta]\n",
    "acorr_avg_l2hmc = acorr_l2hmc.mean(axis=0)\n",
    "acorr_max_l2hmc = acorr_avg_l2hmc.max()\n",
    "acorr_hmc = charges_autocorrs_dict_hmc[beta]\n",
    "acorr_avg_hmc = acorr_hmc.mean(axis=0)\n",
    "acorr_max_hmc = acorr_avg_hmc.max()\n",
    "l2hmc_label = 'L2HMC ' + r\"\"\"$\\beta = $\"\"\" + f'{beta}'\n",
    "hmc_label = 'HMC ' + r\"\"\"$\\beta = $\"\"\" + f'{beta}'\n",
    "\n",
    "fig, ax = plt.subplots()\n",
    "_ = ax.plot(acorr_avg_l2hmc / acorr_max_l2hmc, \n",
    "            ls='-', color=COLORS[0],  label=l2hmc_label)\n",
    "_ = ax.plot(acorr_avg_hmc / acorr_max_hmc,\n",
    "            ls='--', color=COLORS[0], label=hmc_label)\n",
    "_ = ax.legend(loc='best')\n",
    "_ = ax.set_xlabel('lag', fontsize=14)\n",
    "_ = ax.set_ylabel('Autocorrelation', fontsize=14)\n",
    "_ = fig.tight_layout()\n",
    "out_file1 = os.path.join(figs_dir, 'top_charge_autocorrelations.eps')\n",
    "out_file2 = os.path.join(figs_dir, 'top_charge_autocorrelations.png')\n",
    "print(f\"Saving figure to: {out_file1}.\")\n",
    "_ = plt.savefig(out_file1, dpi=400, bbox_inches='tight')\n",
    "print(f\"Saving figure to: {out_file2}.\")\n",
    "_ = plt.savefig(out_file2, dpi=400, bbox_inches='tight')"
   ]
  },
  {
   "cell_type": "code",
   "execution_count": null,
   "metadata": {},
   "outputs": [],
   "source": [
    "num_samples = charge_autocorrs.shape[0]\n",
    "\n",
    "fig, ax = plt.subplots()\n",
    "    \n",
    "avg_l2hmc = charge_autocorrs.mean(axis=0)\n",
    "max_l2hmc = avg_l2hmc.max()\n",
    "avg_hmc = charge_autocorrs_hmc.mean(axis=0)\n",
    "max_hmc = avg_hmc.max()\n",
    "\n",
    "ax.plot(avg_l2hmc / max_l2hmc,  #color='k', ls='-', lw=2.,\n",
    "        label='L2HMC (avg. over {} samples)'.format(num_samples))\n",
    "ax.plot(avg_hmc / max_hmc,\n",
    "        #color='k', ls='-', lw=2.,\n",
    "        label='HMC (avg. over {} samples)'.format(num_samples))\n",
    "ax.legend(loc='best')\n",
    "ax.set_xlabel('lag', fontsize=14)\n",
    "ax.set_ylabel('Autocorrelation', fontsize=14)"
   ]
  },
  {
   "cell_type": "markdown",
   "metadata": {
    "heading_collapsed": true
   },
   "source": [
    "## Load chains"
   ]
  },
  {
   "cell_type": "code",
   "execution_count": null,
   "metadata": {
    "hidden": true
   },
   "outputs": [],
   "source": [
    "run_dir = run_dirs[0]\n",
    "run_dir_hmc = run_dirs_hmc[0]\n",
    "\n",
    "chains = np.array(load_chains(run_dir))\n",
    "chains_hmc = np.array(load_chains())"
   ]
  },
  {
   "cell_type": "code",
   "execution_count": null,
   "metadata": {
    "code_folding": [],
    "hidden": true
   },
   "outputs": [],
   "source": [
    "def lattice_autocorr(chain):\n",
    "    \"\"\"Calc avg. autocorrelation over all individual links on the lattice.\"\"\"\n",
    "    num_links = chain.shape[-1]\n",
    "    links_autocorr = [autocorr(i) for i in chain.T]\n",
    "    links_autocorr_avg = np.mean(links_autocorr, axis=0)\n",
    "    return links_autocorr_avg\n",
    "\n",
    "chains = np.array(load_chains(run_dir))\n",
    "chains_hmc = np.array(load_chains(run_dir_hmc))\n",
    "\n",
    "#chain = chains[:, 0, :]\n",
    "#num_links = chain.shape[-1]\n",
    "#links_autocorr = np.array([autocorr(i) for i in chain.T])\n",
    "#links_autocorr_avg = np.mean(links_autocorr, axis=0)\n",
    "#links_autocorr_avg = np.mean(links_autocorr.shape)\n",
    "\n",
    "#lattice_autocorrs = [\n",
    "#    lattice_autocorr(i) for i in chains.transpose((1, 0, -1))\n",
    "#]\n",
    "#lattice_autocorrs_hmc = [\n",
    "#    lattice_autocorr(i) for i in chains_hmc.transpose((-1, 0, 1))\n",
    "#]"
   ]
  },
  {
   "cell_type": "code",
   "execution_count": null,
   "metadata": {
    "hidden": true
   },
   "outputs": [],
   "source": []
  },
  {
   "cell_type": "markdown",
   "metadata": {
    "hidden": true
   },
   "source": [
    "#### Look at the autocorrelation of individual links on the lattice (poor indicator)"
   ]
  },
  {
   "cell_type": "code",
   "execution_count": null,
   "metadata": {
    "hidden": true
   },
   "outputs": [],
   "source": [
    "lattice_autocorrs = np.array(lattice_autocorrs)\n",
    "lattice_autocorrs_hmc = np.array(lattice_autocorrs_hmc)\n",
    "\n",
    "fig, ax = plt.subplots()\n",
    "#for idx in range(20):\n",
    "#    ax.plot(charge_autocorrs[idx] / charge_autocorrs[idx].max(), ls='--')\n",
    "    \n",
    "avg_l2hmc = lattice_autocorrs.mean(axis=0)\n",
    "max_l2hmc = avg_l2hmc.max()\n",
    "avg_hmc = lattice_autocorrs.mean(axis=0)\n",
    "max_hmc = avg_hmc.max()\n",
    "\n",
    "ax.plot(avg_l2hmc / max_l2hmc,  #color='k', ls='-', lw=2.,\n",
    "        label='L2HMC (avg. over {} samples)'.format(num_samples))\n",
    "ax.plot(avg_hmc / max_hmc,\n",
    "        #color='k', ls='-', lw=2.,\n",
    "        label='HMC (avg. over {} samples)'.format(num_samples))\n",
    "ax.legend(loc='best')\n",
    "ax.set_xlabel('lag', fontsize=14)\n",
    "ax.set_ylabel('Autocorrelation', fontsize=14)"
   ]
  },
  {
   "cell_type": "markdown",
   "metadata": {
    "hidden": true
   },
   "source": [
    "##### Define multiple `log_dir`'s with different lattice sizes for plotting the topological susceptibility."
   ]
  },
  {
   "cell_type": "code",
   "execution_count": null,
   "metadata": {
    "code_folding": [],
    "hidden": true
   },
   "outputs": [],
   "source": [
    "log_dir16 = os.path.join('..', '..', 'logs', '2019_04_10', 'lattice_L16', \n",
    "                          'num_steps3', 'num_samples32', 'beta_i2_f5', \n",
    "                          'charge_weight0', 'run_1')\n",
    "log_dir16_hmc = os.path.join('..', '..', 'logs', 'HMC', 'runs_L16',\n",
    "                             'num_steps3', 'eps02094', 'num_samples32',\n",
    "                             'beta_i1_f5', 'run_1')\n",
    "#log_dir16_hmc = os.path.join(log_dir16, 'HMC', 'run_1')\n",
    "assert os.path.isdir(log_dir16)\n",
    "assert os.path.isdir(log_dir16_hmc)\n",
    "\n",
    "log_dir12 = os.path.join('..', '..', 'logs', '2019_04_10', 'lattice_L12', \n",
    "                          'num_steps5', 'num_samples50', 'beta_i2_f5', \n",
    "                          'charge_weight0', 'run_1')\n",
    "#log_dir12_hmc = os.path.join(log_dir12, 'HMC', 'run_1')\n",
    "log_dir12_hmc = os.path.join('..', '..', 'logs', 'HMC', 'runs_L12', \n",
    "                             'num_steps5', 'eps02097', 'num_samples50',\n",
    "                             'beta_i1_f5', 'run_2')\n",
    "assert os.path.isdir(log_dir12)\n",
    "assert os.path.isdir(log_dir12_hmc)\n",
    "\n",
    "log_dir8 = os.path.join('..', '..', 'logs', '2019_04_08', 'lattice_L8', \n",
    "                        'num_steps5',  'num_samples64', 'beta_i2_f45', \n",
    "                        'charge_weight0', 'run_1')\n",
    "log_dir8_hmc = os.path.join('..', '..', 'logs', 'HMC', 'runs_L8',\n",
    "                            'num_steps5', 'eps0228', 'num_samples64',\n",
    "                            'beta_i1_f5', 'run_1')\n",
    "#log_dir8_hmc = os.path.join(log_dir8, 'HMC', 'run_3')\n",
    "assert os.path.isdir(log_dir8)\n",
    "assert os.path.isdir(log_dir8_hmc)"
   ]
  },
  {
   "cell_type": "code",
   "execution_count": null,
   "metadata": {
    "code_folding": [],
    "hidden": true
   },
   "outputs": [],
   "source": [
    "output16 = get_observables(log_dir16)\n",
    "output16_hmc = get_observables(log_dir16_hmc)\n",
    "\n",
    "output12 = get_observables(log_dir12)\n",
    "output12_hmc = get_observables(log_dir12_hmc)\n",
    "\n",
    "output8 = get_observables(log_dir8)\n",
    "output8_hmc = get_observables(log_dir8_hmc)"
   ]
  },
  {
   "cell_type": "code",
   "execution_count": null,
   "metadata": {
    "hidden": true
   },
   "outputs": [],
   "source": [
    "def get_xy(suscept, offset):\n",
    "    x = np.array(list(suscept.keys())) + offset\n",
    "    xx = np.array(list(suscept.keys())) \n",
    "    y = np.array(list(suscept.values()))[:, 0]\n",
    "    err = np.array(list(suscept.values()))[:, 1]\n",
    "    return x, xx, y, err"
   ]
  },
  {
   "cell_type": "code",
   "execution_count": null,
   "metadata": {
    "hidden": true
   },
   "outputs": [],
   "source": [
    "suscept8 = output8['observables']['dicts']['suscept']\n",
    "suscept8_hmc = output8_hmc['observables']['dicts']['suscept']\n",
    "suscept12 = output12['observables']['dicts']['suscept']\n",
    "suscept12_hmc = output12_hmc['observables']['dicts']['suscept']\n",
    "suscept16 = output16['observables']['dicts']['suscept']\n",
    "suscept16_hmc = output16_hmc['observables']['dicts']['suscept']\n",
    "\n",
    "offsets = 2 * np.array([0., 0.015, 0.03, 0.045, 0.06, 0.075, 0.1])\n",
    "x16, xx16, y16, y16_err = get_xy(suscept16, offsets[0])\n",
    "x16_hmc, xx16_hmc, y16_hmc, y16_hmc_err = get_xy(suscept16_hmc, offsets[1])\n",
    "x12, xx12, y12, y12_err = get_xy(suscept12, offsets[2])\n",
    "x12_hmc, xx12_hmc, y12_hmc, y12_hmc_err = get_xy(suscept12_hmc, offsets[3])\n",
    "x8, xx8, y8, y8_err = get_xy(suscept8, offsets[4])\n",
    "x8_hmc, xx8_hmc, y8_hmc, y8_hmc_err = get_xy(suscept8_hmc, offsets[5])\n",
    "\n",
    "\n",
    "ys = [y16, y16_hmc, y12, y12_hmc, y8, y8_hmc]\n",
    "xs = [x16, x16_hmc, x12, x12_hmc, x8, x8_hmc]\n",
    "xxs = [xx16, xx16_hmc, xx12, xx12_hmc, xx8, xx8_hmc]\n",
    "xxs = [xx16, xx16_hmc, xx12, xx12_hmc, xx8, xx8_hmc]\n",
    "errs = [y16_err, y16_hmc_err, y12_err, y12_hmc_err, y8_err, y8_hmc_err]"
   ]
  },
  {
   "cell_type": "code",
   "execution_count": null,
   "metadata": {
    "code_folding": [
     5
    ],
    "hidden": true
   },
   "outputs": [],
   "source": [
    "labels = []\n",
    "markers = []\n",
    "colors = []\n",
    "\n",
    "fig_ax = plt.subplots()\n",
    "kwargs = {\n",
    "    'label': 'L2HMC $L=16$',\n",
    "    'marker': 's',\n",
    "    'markersize': 8.,\n",
    "    'color': 'C0',\n",
    "    'alpha': 0.8,\n",
    "    'capsize': 4.,\n",
    "    'capthick': 1.5,\n",
    "    #'fillstyle': 'none'\n",
    "}\n",
    "labels.append(kwargs['label'])\n",
    "markers.append(kwargs['marker'])\n",
    "colors.append(kwargs['color'])\n",
    "kwargs['label'] = ''\n",
    "fig_ax = plot_suscept(suscept16, fig_ax, x_inset=offsets[1], **kwargs)\n",
    "\n",
    "kwargs['label'] = 'HMC $L=16$' # ' + r\"\"\"$L = 12$\"\"\"\n",
    "kwargs['marker'] = 's'\n",
    "kwargs['color'] = 'C0'\n",
    "kwargs['alpha'] = 1.\n",
    "kwargs['fillstyle'] = 'none'\n",
    "labels.append(kwargs['label'])\n",
    "markers.append(kwargs['marker'])\n",
    "colors.append(kwargs['color'])\n",
    "kwargs['label'] = ''\n",
    "fig_ax = plot_suscept(suscept16_hmc, fig_ax, x_inset=offsets[2], **kwargs)\n",
    "\n",
    "kwargs['label'] = 'L2HMC $L=12$' # + r\"\"\"$L = 16$\"\"\"\n",
    "kwargs['marker'] = 'o'\n",
    "kwargs['color'] = 'C2'\n",
    "kwargs['alpha'] = 0.8\n",
    "kwargs['fillstyle'] = 'full'\n",
    "labels.append(kwargs['label'])\n",
    "markers.append(kwargs['marker'])\n",
    "colors.append(kwargs['color'])\n",
    "kwargs['label'] = ''\n",
    "fig_ax = plot_suscept(suscept12, fig_ax, x_inset=offsets[1], **kwargs)\n",
    "\n",
    "kwargs['label'] = 'HMC $L=12$' #  ' + r\"\"\"$L = 8$\"\"\"\n",
    "kwargs['color'] = 'C2'\n",
    "kwargs['marker'] = 'o'\n",
    "kwargs['fillstyle'] = 'none'\n",
    "kwargs['alpha'] = 1.\n",
    "labels.append(kwargs['label'])\n",
    "markers.append(kwargs['marker'])\n",
    "colors.append(kwargs['color'])\n",
    "kwargs['label'] = ''\n",
    "fig_ax = plot_suscept(suscept12_hmc, fig_ax, x_inset=offsets[3], **kwargs)\n",
    "\n",
    "kwargs['label'] = 'L2HMC $L=8$' #  ' + r\"\"\"$L = 8$\"\"\"\n",
    "kwargs['color'] = 'C3'\n",
    "kwargs['marker'] = 'd'\n",
    "kwargs['fillstyle'] = 'full'\n",
    "kwargs['alpha'] = 0.8\n",
    "labels.append(kwargs['label'])\n",
    "markers.append(kwargs['marker'])\n",
    "colors.append(kwargs['color'])\n",
    "kwargs['label'] = ''\n",
    "fig_ax = plot_suscept(suscept8, fig_ax, x_inset=offsets[0], **kwargs)\n",
    "\n",
    "kwargs['label'] = 'HMC $L=8$' #  ' + r\"\"\"$L = 8$\"\"\"\n",
    "kwargs['color'] = 'C3'\n",
    "kwargs['marker'] = 'd'\n",
    "kwargs['alpha'] = 1.\n",
    "kwargs['fillstyle'] = 'none'\n",
    "labels.append(kwargs['label'])\n",
    "markers.append(kwargs['marker'])\n",
    "colors.append(kwargs['color'])\n",
    "kwargs['label'] = ''\n",
    "fig_ax = plot_suscept(suscept8_hmc, fig_ax, x_inset=offsets[3], **kwargs)\n",
    "\n",
    "axins = inset_axes(fig_ax[1], width=\"25%\", height=\"40%\", loc='upper center', borderpad=1.25)\n",
    "axins1 = inset_axes(fig_ax[1], width=\"25%\", height=\"40%\", loc='upper right', borderpad=1.25)\n",
    "fmts = ['C0', 'C1', 'C2', 'C3', 'C4', 'C5']\n",
    "alphas = [0.8, 1., 0.8, 1., 0.8, 1., 0.8, 1.]\n",
    "linestyles = ['-', '--', '-', '--', '-', '--']\n",
    "fillstyles = ['full', 'none', 'full', 'none', 'full', 'none']\n",
    "for idx, (x, y) in enumerate(zip(xs, ys)):\n",
    "    _ = fig_ax[1].plot(xxs[idx], y, color=colors[idx], label=labels[idx],\n",
    "                       ls=linestyles[idx], fillstyle=fillstyles[idx], alpha=alphas[idx],\n",
    "                       marker=markers[idx], markersize=kwargs['markersize'])#, lw=1.)\n",
    "    _ = axins.errorbar(xs[idx], y, yerr=errs[idx], ls='',\n",
    "                       marker=markers[idx], fillstyle=fillstyles[idx],\n",
    "                       color=colors[idx], capsize=4., capthick=1.25)\n",
    "    _ = axins1.errorbar(xs[idx], y, yerr=errs[idx], ls='',\n",
    "                        marker=markers[idx], fillstyle=fillstyles[idx],\n",
    "                        color=colors[idx], capsize=4., capthick=1.25)\n",
    "    \n",
    "fig, ax = fig_ax\n",
    "_ = ax.tick_params(labelsize=12)\n",
    "_ = ax.set_xlabel(r\"\"\"$\\beta$\"\"\", fontsize=18)\n",
    "_ = ax.set_ylabel(r\"\"\"$\\chi$\"\"\", fontsize=18)\n",
    "_ = ax.legend(loc='lower left')#, fontsize=12)\n",
    "\n",
    "x1, x2, y1, y2 = 3.95, 4.2, 0.0072, 0.0079\n",
    "_ = axins.set_xlim(x1, x2)\n",
    "_ = axins.set_ylim(y1, y2)\n",
    "_ = axins.grid('on')\n",
    "_ = axins.tick_params(labelsize=12)\n",
    "_ = axins.ticklabel_format(style='sci', scilimits=(-2, 2),\n",
    "                           useMathText=False)\n",
    "x1, x2, y1, y2 = 4.95, 5.2, 0.0052, 0.0063\n",
    "_ = axins1.set_xlim(x1, x2)\n",
    "_ = axins1.set_ylim(y1, y2)\n",
    "_ = axins1.grid('on')\n",
    "_ = axins1.tick_params(labelsize=12)\n",
    "_ = axins1.ticklabel_format(style='sci', scilimits=(-2, 2),\n",
    "                            useMathText=False)\n",
    "axins.set_xticks([4.075])\n",
    "axins.set_xticklabels(['4.0'])\n",
    "axins1.set_xticks([5.075])\n",
    "axins1.set_xticklabels(['5.0'])\n",
    "\n",
    "_ = plt.tight_layout()\n",
    "out_dir = os.path.join('..', '..', '..', 'writeup',\n",
    "                       'l2hmc_writeup', 'figures', 'suscept_plots')\n",
    "io.check_else_make_dir(out_dir)\n",
    "suscept_files = [\n",
    "    i for i in os.listdir(out_dir) if i.startswith('topological_suscept_vs_beta_all_')\n",
    "]\n",
    "try:\n",
    "    file_num = int(sorted(\n",
    "        [i.split('_')[-1][:-4] for i in suscept_files]\n",
    "    )[-1]) + 1\n",
    "except IndexError:\n",
    "    file_num = 1\n",
    "\n",
    "out_file = os.path.join(out_dir, f'topological_suscept_vs_beta_all_{file_num}.eps')\n",
    "print(f'Saving figure to: {out_file}.')\n",
    "_ = plt.savefig(out_file, dpi=400, bbox_inches='tight')"
   ]
  },
  {
   "cell_type": "code",
   "execution_count": null,
   "metadata": {
    "hidden": true
   },
   "outputs": [],
   "source": [
    "xs_ = np.copy(xs)\n",
    "for i in xs_:\n",
    "    i[-2] -= 0.25\n",
    "    i[-1] += 0.25\n",
    "#[i[-2] + 0.25 for i in xxs]\n",
    "#[i[-1] - 0.25 for i in xxs]\n",
    "xs"
   ]
  },
  {
   "cell_type": "code",
   "execution_count": null,
   "metadata": {
    "hidden": true
   },
   "outputs": [],
   "source": [
    "file_num = sorted([i.split('_')[-1].rstrip('.eps') for i in suscept_files])[-1] + 1\n",
    "out_file = os.path.join(out_dir, f'topological_suscept_vs_beta_all_{file_num}.eps')\n",
    "\n",
    "out_file = os.path.join(out_dir, 'topological_suscept_vs_beta_L8_12_16_1.eps')\n",
    "\n",
    "file_name = out_file.split('/')[-1]\n",
    "file_num = int(file_name.split('_')[-1].rstrip('.eps'))\n",
    "file_num += 1\n",
    "_file_name = file_name.rstrip(str(file_num-1) + '.eps')\n",
    "file_name = _file_name + str(file_num) + '.eps'\n",
    "file_name\n",
    "\n",
    "from scipy.stats import sem\n",
    "charges_dict = {}\n",
    "actions_dict = {}\n",
    "plaqs_dict = {}\n",
    "volume = params['time_size'] * params['space_size']\n",
    "print(\"time_size: {}\".format(params['time_size']))\n",
    "print(\"space_size: {}\".format(params['space_size']))\n",
    "print(\"num_steps: {}\".format(params['num_steps']))\n",
    "print(\"num_samples: {}\".format(params['num_samples']))\n",
    "      \n",
    "\n",
    "for idx, d in enumerate(obs_dirs):\n",
    "    output = load_stats_and_observables(d)\n",
    "    _actions_dict, _plaqs_dict, _charges_dict, tun_events = output\n",
    "    actions_arr = np.array(list(_actions_dict.values()))\n",
    "    plaqs_arr = np.array(list(_plaqs_dict.values()))\n",
    "    charges_arr = np.array(list(_charges_dict.values()))\n",
    "    \n",
    "    keys_arr = np.array(list(_actions_dict.keys()))\n",
    "    steps_arr = keys_arr[:, 0]\n",
    "    beta = betas[idx]\n",
    "    run_steps = charges_arr.shape[0]\n",
    "    \n",
    "    key = (run_steps, beta)\n",
    "    charges_dict[key] = charges_arr\n",
    "    actions_dict[key] = actions_arr\n",
    "    plaqs_dict[key] = plaqs_arr\n",
    "\n",
    "suscept_dict = {}\n",
    "for key, val in charges_dict.items():\n",
    "    beta = key[1]\n",
    "    suscept_dict[beta] = np.mean(val ** 2, axis=0) / volume\n",
    "\n",
    "charges_dict_hmc = {}\n",
    "actions_dict_hmc = {}\n",
    "plaqs_dict_hmc = {}\n",
    "\n",
    "for idx, d in enumerate(obs_dirs_hmc):\n",
    "    output = load_stats_and_observables(d)\n",
    "    _actions_dict, _plaqs_dict, _charges_dict, tun_events = output\n",
    "    actions_arr = np.array(list(_actions_dict.values()))\n",
    "    plaqs_arr = np.array(list(_plaqs_dict.values()))\n",
    "    charges_arr = np.array(list(_charges_dict.values()))\n",
    "    \n",
    "    keys_arr = np.array(list(_actions_dict.keys()))\n",
    "    steps_arr = keys_arr[:, 0]\n",
    "    beta = betas[idx]\n",
    "    run_steps = charges_arr.shape[0]\n",
    "    \n",
    "    key = (run_steps, beta)\n",
    "    charges_dict_hmc[key] = charges_arr\n",
    "    actions_dict_hmc[key] = actions_arr\n",
    "    plaqs_dict_hmc[key] = plaqs_arr\n",
    "\n",
    "suscept_dict_hmc = {}\n",
    "for key, val in charges_dict_hmc.items():\n",
    "    beta = key[1]\n",
    "    suscept_dict_hmc[beta] = np.mean(val ** 2, axis=0)"
   ]
  },
  {
   "cell_type": "code",
   "execution_count": null,
   "metadata": {
    "code_folding": [],
    "hidden": true
   },
   "outputs": [],
   "source": [
    "ax.tick_params(labelsize=12)\n",
    "\n",
    "_ = ax.set_xlabel(r\"\"\"$\\beta$\"\"\", fontsize=18)\n",
    "_ = ax.set_ylabel(r\"\"\"$\\chi$\"\"\", fontsize=18)\n",
    "_ = ax.legend(loc='best', fontsize=16)\n",
    "\n",
    "_figs_dir = os.path.join(log_dir, 'figures_orig')\n",
    "out_file = os.path.join(_figs_dir, 'topological_suscept_vs_beta_both.eps')\n",
    "_ = plt.tight_layout()\n",
    "print(f'Saving figure to: {out_file}.')\n",
    "_ = plt.savefig(out_file, dpi=400, bbox_inches='tight')"
   ]
  },
  {
   "cell_type": "code",
   "execution_count": null,
   "metadata": {
    "hidden": true
   },
   "outputs": [],
   "source": [
    "obs_arrs8 = output8['observables']['arrs']\n",
    "\n",
    "_log_dir8_1 = '../../logs/conv3D_logs/lattice_L8/old_charge_loss/num_steps5/eps_init03/num_samples64/beta_i2_f5/lr_init1e-3/charge_weight1/run_2/'\n",
    "#..,..,logs,conv3D_logs,lattice_L8,old_charge_loss,num_steps5,eps_init03,num_samples64,beta_i2_f5,lr_init1e-3,charge_weight1,run_2,\n",
    "_log_dir8_0= '../../logs/conv3D_logs/lattice_L8/old_charge_loss/num_steps5/eps_init03/num_samples64/beta_i2_f5/lr_init1e-3/charge_weight0/run_4/'\n",
    "\n",
    "_output8_1 = get_observables(_log_dir8_1)\n",
    "_output8_0 = get_observables(_log_dir8_0)\n",
    "\n",
    "obs_arrs8_1 = _output8_1['observables']['arrs']\n",
    "obs_arrs8_0 = _output8_0['observables']['arrs']\n",
    "\n",
    "keys_arr8_1 = np.array(list(_output8_1['observables']['dicts']['actions'].keys()))\n",
    "keys_arr8_0 = np.array(list(_output8_0['observables']['dicts']['actions'].keys()))\n",
    "keys_arr8_1 == keys_arr8_0\n",
    "steps_arr = keys_arr[:, 0]\n",
    "\n",
    "#out_dir = output8['fi']\n",
    "obs8_1 = (obs_arrs8_1['actions'], obs_arrs8_1['plaqs'], obs_arrs8_1['charges'])\n",
    "obs8_0 = (obs_arrs8_0['actions'], obs_arrs8_0['plaqs'], obs_arrs8_0['charges'])\n",
    "\n",
    "steps_arr = np.arange(25000)"
   ]
  },
  {
   "cell_type": "code",
   "execution_count": null,
   "metadata": {
    "hidden": true
   },
   "outputs": [],
   "source": [
    "out_dir = '../../../writeup/l2hmc_writeup/figures/plaq_plots/good_converge/'\n",
    "io.check_else_make_dir(out_dir)\n",
    "plot_observables(steps_arr, obs8_0, out_dir=out_dir, filetype='eps', hmc=False)\n",
    "\n",
    "out_dir = '../../../writeup/l2hmc_writeup/figures/plaq_plots/bad_converge/'\n",
    "io.check_else_make_dir(out_dir)\n",
    "plot_observables(steps_arr, obs8_1, out_dir=out_dir, filetype='eps', hmc=False)\n",
    "\n",
    "out_dir = '../../../writeup/l2hmc_writeup/figures/plaq_plots/'\n",
    "fig, ax = plt.subplots()\n",
    "plot_observables()\n",
    "plot_observables(steps_arr, , out_dir=out_dir, filetype='eps', hmc=False)"
   ]
  },
  {
   "cell_type": "code",
   "execution_count": null,
   "metadata": {
    "hidden": true
   },
   "outputs": [],
   "source": [
    "for idx, d in enumerate(obs_dirs):\n",
    "    output = load_stats_and_observables(d)\n",
    "    actions_dict, plaqs_dict, charges_dict, tun_events = output\n",
    "    \n",
    "    actions_arr = np.array(list(actions_dict.values()))\n",
    "    plaqs_arr = np.array(list(plaqs_dict.values()))\n",
    "    charges_arr = np.array(list(charges_dict.values()))\n",
    "\n",
    "    keys_arr = np.array(list(actions_dict.keys()))\n",
    "    steps_arr = keys_arr[:, 0]\n",
    "    beta = betas[idx]\n",
    "    run_steps = charges_arr.shape[0]\n",
    "    if not os.path.isdir(figs_dirs[idx]):\n",
    "        os.makedirs(figs_dirs[idx])\n",
    "    observables = (actions_arr, plaqs_arr, charges_arr)\n",
    "    plot_observables(steps_arr, observables, hmc=False,\n",
    "                     out_dir=figs_dirs[idx], filetype='eps')\n",
    "    plot_top_charges(charges_arr, beta, out_dir=figs_dir, filetype='eps',\n",
    "                     hmc=False)\n",
    "    #out_dir = os.path.join(figs_dirs[idx], 'top_charge_probs')\n",
    "    #num_samples = params['num_samples']\n",
    "    #plot_charge_probs(charges_arr, beta, params, out_dir, training=False)"
   ]
  },
  {
   "cell_type": "code",
   "execution_count": null,
   "metadata": {
    "hidden": true
   },
   "outputs": [],
   "source": [
    "for idx, d in enumerate(obs_dirs):\n",
    "    plt.close('all')\n",
    "    output = load_stats_and_observables(d)\n",
    "    actions_dict, plaqs_dict, charges_dict, tun_events = output\n",
    "    \n",
    "    actions_arr = np.array(list(actions_dict.values()))\n",
    "    plaqs_arr = np.array(list(plaqs_dict.values()))\n",
    "    charges_arr = np.array(list(charges_dict.values()))\n",
    "\n",
    "    keys_arr = np.array(list(actions_dict.keys()))\n",
    "    steps_arr = keys_arr[:, 0]\n",
    "    beta = keys_arr[0, 1]\n",
    "    run_steps = charges_arr.shape[0]\n",
    "    #run_steps = charges.shape[0]\n",
    "    if not os.path.isdir(figs_dir):\n",
    "        os.makedirs(figs_dir)\n",
    "    observables = (actions_arr, plaqs_arr, charges_arr)\n",
    "    plot_susceptibility(charges_arr[::5], beta, out_dir=figs_dir, filetype='eps')\n",
    "    beta = betas[idx]\n",
    "    #out_dir = os.path.join(figs_dirs[idx], 'top_charge_probs')\n",
    "    #num_samples = params['num_samples']\n",
    "    #plot_charge_probs(charges_arr, beta, params, out_dir, training=False)"
   ]
  },
  {
   "cell_type": "markdown",
   "metadata": {
    "heading_collapsed": true
   },
   "source": [
    "# OLD"
   ]
  },
  {
   "cell_type": "code",
   "execution_count": null,
   "metadata": {
    "hidden": true
   },
   "outputs": [],
   "source": [
    "from gauge_model import create_dynamics"
   ]
  },
  {
   "cell_type": "code",
   "execution_count": null,
   "metadata": {
    "hidden": true
   },
   "outputs": [],
   "source": [
    "samples = tf.convert_to_tensor(np.zeros((params['num_samples'],\n",
    "                                         params['time_size'],\n",
    "                                         params['space_size'],\n",
    "                                         params['dim'])))\n",
    "samples.shape"
   ]
  },
  {
   "cell_type": "code",
   "execution_count": null,
   "metadata": {
    "hidden": true
   },
   "outputs": [],
   "source": [
    "x = tf.reshape(samples, (params['num_samples'], -1))\n",
    "x.shape"
   ]
  },
  {
   "cell_type": "code",
   "execution_count": null,
   "metadata": {
    "hidden": true
   },
   "outputs": [],
   "source": [
    "params['eps']"
   ]
  },
  {
   "cell_type": "code",
   "execution_count": null,
   "metadata": {
    "hidden": true
   },
   "outputs": [],
   "source": [
    "x_np = np.zeros(x.shape)\n",
    "x_np.shape"
   ]
  },
  {
   "cell_type": "code",
   "execution_count": null,
   "metadata": {
    "hidden": true
   },
   "outputs": [],
   "source": [
    "from lattice.lattice import u1_plaq_exact"
   ]
  },
  {
   "cell_type": "code",
   "execution_count": null,
   "metadata": {
    "hidden": true
   },
   "outputs": [],
   "source": [
    "samples_np = np.zeros(samples.shape)\n",
    "samples_np.shape"
   ]
  },
  {
   "cell_type": "code",
   "execution_count": null,
   "metadata": {
    "hidden": true
   },
   "outputs": [],
   "source": [
    "kwargs = {\n",
    "    'eps': params['eps'],\n",
    "    'hmc': False,\n",
    "    'network_arch': None,\n",
    "    'num_steps': params['num_steps'],\n",
    "    'eps_trainable': False,\n",
    "    'data_format': 'channels_last',\n",
    "    'rand': False,\n",
    "    'link_type': 'U1',\n",
    "}\n",
    "dynamics, potential_fn = create_dynamics(samples_np, **kwargs)"
   ]
  },
  {
   "cell_type": "code",
   "execution_count": null,
   "metadata": {
    "hidden": true
   },
   "outputs": [],
   "source": [
    "dynamics_kwargs = {\n",
    "    'eps': params.get('eps', 0.1),\n",
    "    'hmc': params.get('hmc', False),\n",
    "    'network_arch': params.get('network_arch', 'conv3d'),\n",
    "    'num_steps': params.get('num_steps', 5),\n",
    "    'eps_trainable': params.get('eps_trainable', True),\n",
    "    'data_format': params.get('data_format', 'channels_last'),\n",
    "    'rand': params.get('rand', False),\n",
    "    'link_type': params.get('link_type')\n",
    "}\n",
    "dynamics, potential_fn = create_dynamics(samples_np, **dynamics_kwargs)"
   ]
  },
  {
   "cell_type": "code",
   "execution_count": null,
   "metadata": {
    "hidden": true
   },
   "outputs": [],
   "source": [
    "x = np.array(x_np, dtype=np.float32)\n",
    "x_proposed, _, px, x_out = dynamics(x, beta=5.)"
   ]
  },
  {
   "cell_type": "code",
   "execution_count": null,
   "metadata": {
    "hidden": true
   },
   "outputs": [],
   "source": [
    "output =  load_stats_and_observables(obs_dirs[1])\n",
    "actions_dict, plaqs_dict, charges_dict, tun_events = output"
   ]
  },
  {
   "cell_type": "code",
   "execution_count": null,
   "metadata": {
    "hidden": true
   },
   "outputs": [],
   "source": [
    "actions_arr = np.array(list(actions_dict.values()))\n",
    "plaqs_arr = np.array(list(plaqs_dict.values()))\n",
    "charges_arr = np.array(list(charges_dict.values()))\n",
    "\n",
    "keys_arr = np.array(list(actions_dict.keys()))\n",
    "steps_arr = keys_arr[:, 0]\n",
    "beta = keys_arr[0, 1]\n",
    "_run_steps = charges.shape[0]"
   ]
  },
  {
   "cell_type": "code",
   "execution_count": null,
   "metadata": {
    "hidden": true
   },
   "outputs": [],
   "source": [
    "charges_arr = np.array(charges_arr, dtype=int)"
   ]
  },
  {
   "cell_type": "code",
   "execution_count": null,
   "metadata": {
    "hidden": true
   },
   "outputs": [],
   "source": [
    "from utils.plot_helper import plot_multiple_lines"
   ]
  },
  {
   "cell_type": "code",
   "execution_count": null,
   "metadata": {
    "hidden": true
   },
   "outputs": [],
   "source": [
    "observables = (actions_arr, plaqs_arr, charges_arr)\n",
    "plot_observables(steps_arr, observables, train=False)"
   ]
  },
  {
   "cell_type": "code",
   "execution_count": null,
   "metadata": {
    "hidden": true
   },
   "outputs": [],
   "source": [
    "beta = betas[1]\n",
    "out_dir = os.path.join(figs_dirs[1], 'top_charge_probs')\n",
    "num_samples = params['num_samples']\n",
    "\n",
    "plot_charge_probs(charges_arr, beta, params, out_dir, training=False)"
   ]
  },
  {
   "cell_type": "code",
   "execution_count": null,
   "metadata": {
    "hidden": true
   },
   "outputs": [],
   "source": [
    "x = np.arange(-4, 4, 1e-4)\n",
    "y_exact = project_angle(x)\n",
    "y_slow = linear_fft(x)\n",
    "y_approx_arr = []\n",
    "num_terms = [10, 20, 50, 100, 250, 500, 1000]\n",
    "times = []\n",
    "for n in num_terms:\n",
    "    t0 = time.time()\n",
    "    y_approx_arr.append(linear_fs(x, n))\n",
    "    dt = time.time() - t0\n",
    "    print(f'Time to complete ({n} terms): {dt:.4g}')\n",
    "    times.append(time.time() - t0)"
   ]
  },
  {
   "cell_type": "code",
   "execution_count": null,
   "metadata": {
    "hidden": true
   },
   "outputs": [],
   "source": [
    "errs = []\n",
    "for idx, y in enumerate(y_approx_arr):\n",
    "    err = sum((y - y_exact)/len(y_exact.numpy()))\n",
    "    print(f\"Error ({num_terms[idx]} terms): {err:.4g}\")\n",
    "    errs.append(err)"
   ]
  },
  {
   "cell_type": "code",
   "execution_count": null,
   "metadata": {
    "hidden": true
   },
   "outputs": [],
   "source": [
    "top_charges = int(\n",
    "    0.1 + (tf.reduce_sum(ps_proj, axis=(1, 2),\n",
    "                         name='top_charges') / 2 * np.pi)\n",
    ")\n"
   ]
  },
  {
   "cell_type": "code",
   "execution_count": null,
   "metadata": {
    "hidden": true
   },
   "outputs": [],
   "source": [
    "yy1 = np.array((y_exact / 2 * np.pi), dtype=int)\n",
    "yy = np.array(y_approx_arr[1] / 2 * np.pi, dtype=int)"
   ]
  },
  {
   "cell_type": "code",
   "execution_count": null,
   "metadata": {
    "hidden": true
   },
   "outputs": [],
   "source": [
    "fig, ax = plt.subplots()\n",
    "ax.plot(np.arange(len(yy)), yy1, label='exact')\n",
    "ax.plot(np.arange(len(yy)), yy, label='fft')\n",
    "ax.legend()\n",
    "plt.show()"
   ]
  },
  {
   "cell_type": "code",
   "execution_count": null,
   "metadata": {
    "hidden": true
   },
   "outputs": [],
   "source": [
    "fig, ax = plt.subplots()\n",
    "for idx, y in enumerate(y_approx_arr):\n",
    "    ax.plot(x, y, label = f'{num_terms[idx]} terms', alpha=0.7, ls='-');\n",
    "ax.plot(x, y_exact, label='Exact', color='k');\n",
    "ax.legend(loc='best', fontsize=10);\n",
    "ax.set_xlabel('x');\n",
    "ax.set_ylabel('y');\n",
    "#ax.set_xlim((-np.pi-0.05, -np.pi + 0.05))\n",
    "out_file = os.path.join(os.getcwd(), 'fourier_series_approx_zoom.png');\n",
    "print(f'Saving figure to: {out_file}.');\n",
    "plt.savefig(out_file, dpi=400, bbox_inches='tight');\n",
    "plt.show();"
   ]
  },
  {
   "cell_type": "code",
   "execution_count": null,
   "metadata": {
    "hidden": true
   },
   "outputs": [],
   "source": [
    "fig, ax = plt.subplots()\n",
    "for idx, y in enumerate(y_approx_arr):\n",
    "    ax.plot(x, y, label = f'{num_terms[idx]} terms', alpha=0.7, ls='-');\n",
    "ax.plot(x, y_exact, label='Exact', color='k');\n",
    "ax.legend(loc='best', fontsize=10);\n",
    "ax.set_xlabel('x');\n",
    "ax.set_ylabel('y');\n",
    "ax.set_xlim((-np.pi-0.05, -np.pi + 0.05))\n",
    "out_file = os.path.join(os.getcwd(), 'fourier_series_approx_zoom.png');\n",
    "print(f'Saving figure to: {out_file}.');\n",
    "plt.savefig(out_file, dpi=400, bbox_inches='tight');\n",
    "plt.show();"
   ]
  },
  {
   "cell_type": "code",
   "execution_count": null,
   "metadata": {
    "hidden": true
   },
   "outputs": [],
   "source": [
    "def calc_plaq_sums(x, batch_size, links_shape):\n",
    "    \"\"\"Calculate plaquette sums.\n",
    "\n",
    "    Explicitly, calculate the sum of the links around each plaquette in the\n",
    "    lattice for each sample in samples.\n",
    "\n",
    "    Args:\n",
    "        samples: Tensor of shape (N, D) where N is the batch size and D is\n",
    "        the number of links on the lattice (flattened)\n",
    "    \"\"\"\n",
    "    x = np.reshape(x, shape=(batch_size, *links.shape))\n",
    "\n",
    "    plaq_sums = (x[:, :, :, 0]\n",
    "                 - x[:, :, :, 1]\n",
    "                 - np.roll(x[:, :, :, 0], shift=-1, axis=2)\n",
    "                 + np.roll(x[:, :, :, 1], shift=-1, axis=1))\n",
    "    return plaq_sums"
   ]
  },
  {
   "cell_type": "code",
   "execution_count": null,
   "metadata": {
    "hidden": true
   },
   "outputs": [],
   "source": [
    "def calc_top_charges(x, batch_size, links_Shape, fn=np.floor):\n",
    "    \"\"\"Calculate topological charges for each sample in samples.\"\"\"\n",
    "    top_charges = fn(\n",
    "        0.1 + (np.sum(project_angle(calc_plaq_sums(x)), axis=(1, 2))\n",
    "               / (2 * np.pi))\n",
    "    )\n",
    "    return top_charges"
   ]
  },
  {
   "cell_type": "code",
   "execution_count": null,
   "metadata": {
    "code_folding": [
     0
    ],
    "hidden": true
   },
   "outputs": [],
   "source": [
    "###############################################\n",
    "# OLD SUSCEPTIBILITY PLOTTER\n",
    "###############################################\n",
    "factor = 1.\n",
    "labels = []\n",
    "markers = []\n",
    "colors = []\n",
    "\n",
    "fig_ax = plt.subplots()\n",
    "kwargs = {\n",
    "    'label': 'L2HMC $L=16$',\n",
    "    'marker': 's',\n",
    "    'markersize': 8.,\n",
    "    'color': 'C0',\n",
    "    'alpha': 1.,\n",
    "    'capsize': 4.,\n",
    "    'capthick': 1.5,\n",
    "    #'fillstyle': 'none'\n",
    "}\n",
    "labels.append(kwargs['label'])\n",
    "markers.append(kwargs['marker'])\n",
    "colors.append(kwargs['color'])\n",
    "kwargs['label'] = ''\n",
    "fig_ax = plot_suscept(suscept16, fig_ax, x_inset=offsets[1], **kwargs)\n",
    "\n",
    "kwargs['label'] = 'HMC $L=16$' # ' + r\"\"\"$L = 12$\"\"\"\n",
    "kwargs['marker'] = 's'\n",
    "kwargs['color'] = 'C0'\n",
    "kwargs['alpha'] = 0.8\n",
    "kwargs['fillstyle'] = 'none'\n",
    "labels.append(kwargs['label'])\n",
    "markers.append(kwargs['marker'])\n",
    "colors.append(kwargs['color'])\n",
    "kwargs['label'] = ''\n",
    "fig_ax = plot_suscept(suscept16_hmc, fig_ax, x_inset=offsets[2], **kwargs)\n",
    "\n",
    "kwargs['label'] = 'L2HMC $L=12$' # + r\"\"\"$L = 16$\"\"\"\n",
    "kwargs['marker'] = 'o'\n",
    "kwargs['color'] = 'C2'\n",
    "kwargs['alpha'] = 0.8\n",
    "kwargs['fillstyle'] = 'full'\n",
    "labels.append(kwargs['label'])\n",
    "markers.append(kwargs['marker'])\n",
    "colors.append(kwargs['color'])\n",
    "kwargs['label'] = ''\n",
    "fig_ax = plot_suscept(suscept12, fig_ax, x_inset=offsets[1], **kwargs)\n",
    "\n",
    "\n",
    "kwargs['label'] = 'HMC $L=12$' #  ' + r\"\"\"$L = 8$\"\"\"\n",
    "kwargs['color'] = 'C2'\n",
    "kwargs['marker'] = 'o'\n",
    "kwargs['fillstyle'] = 'none'\n",
    "labels.append(kwargs['label'])\n",
    "markers.append(kwargs['marker'])\n",
    "colors.append(kwargs['color'])\n",
    "kwargs['label'] = ''\n",
    "fig_ax = plot_suscept(suscept12_hmc, fig_ax, x_inset=offsets[3], **kwargs)\n",
    "\n",
    "kwargs['label'] = 'L2HMC $L=8$' #  ' + r\"\"\"$L = 8$\"\"\"\n",
    "kwargs['color'] = 'C3'\n",
    "kwargs['marker'] = 'd'\n",
    "kwargs['fillstyle'] = 'full'\n",
    "labels.append(kwargs['label'])\n",
    "markers.append(kwargs['marker'])\n",
    "colors.append(kwargs['color'])\n",
    "kwargs['label'] = ''\n",
    "fig_ax = plot_suscept(suscept8, fig_ax, x_inset=offsets[0], **kwargs)\n",
    "\n",
    "kwargs['label'] = 'HMC $L=8$' #  ' + r\"\"\"$L = 8$\"\"\"\n",
    "kwargs['color'] = 'C3'\n",
    "kwargs['marker'] = 'd'\n",
    "kwargs['fillstyle'] = 'none'\n",
    "labels.append(kwargs['label'])\n",
    "markers.append(kwargs['marker'])\n",
    "colors.append(kwargs['color'])\n",
    "kwargs['label'] = ''\n",
    "fig_ax = plot_suscept(suscept8_hmc, fig_ax, x_inset=offsets[3], **kwargs)\n",
    "\n",
    "axins = inset_axes(fig_ax[1], width=\"55%\", height=\"55%\", loc=1, borderpad=1.25)\n",
    "#axins = zoomed_inset_axes(fig_ax[1], zoom=5.1, loc=1, borderpad=1.5)\n",
    "fmts = ['C0', 'C1', 'C2', 'C3', 'C4', 'C5']\n",
    "linestyles = ['-', '--', '-', '--', '-', '--']\n",
    "fillstyles = ['full', 'none', 'full', 'none', 'full', 'none']\n",
    "#q = 1.\n",
    "alphas = [1., 0.9, 0.8, 0.7]\n",
    "#plt.rc('font', size=8)\n",
    "for idx, (x, y) in enumerate(zip(xs, ys)):\n",
    "    #if idx != 1:\n",
    "    #    xx = x + 0.00001\n",
    "    #else:\n",
    "    #    xx = x + (0.00001 / 2)\n",
    "    fig_ax[1].plot(xxs[idx], y, color=colors[idx], ls=linestyles[idx], label=labels[idx],\n",
    "                   fillstyle=fillstyles[idx],\n",
    "                   marker=markers[idx], markersize=kwargs['markersize'])#, lw=1.)\n",
    "    #fig_ax[1].plot(x_avgs, avgs, color='k', ls='-', alpha=0.7)\n",
    "    axins.errorbar(x, y, yerr=errs[idx], marker=markers[idx], ls='',\n",
    "                   fillstyle=fillstyles[idx],\n",
    "                   #ls=linestyles[idx], lw=1.2,\n",
    "                   #alpha=0.8,\n",
    "                   #fillstyle='none',\n",
    "                   #markersize=1.5*kwargs['markersize'], fillstyle='none',\n",
    "                   color=colors[idx], capsize=4., capthick=1.25)\n",
    "                   #alpha=alphas[idx]) #linestyle=linestyles[idx])\n",
    "    #q += 2\n",
    "    #axins.plot(x, y, fmts[idx], alpha=0.7, lw=1.)\n",
    "    \n",
    "x1, x2, y1, y2 = 3.95, 5.2, 0.0049, 0.0078\n",
    "_ = axins.set_xlim(x1, x2)\n",
    "_ = axins.set_ylim(y1, y2)\n",
    "_ = axins.grid('on')\n",
    "\n",
    "#plt.rc('font', size=8)\n",
    "axins.ticklabel_format(style='sci', scilimits=(-2, 2), useMathText=False)\n",
    "_ = axins.tick_params(labelsize=12)\n",
    "#plt.rc('font', size=12)\n",
    "    \n",
    "fig, ax = fig_ax\n",
    "#axins = zoomed_inset_axes(ax, zoom=1.1, width=\"30%\", height=\"40%\", loc=1, borderpad=1.5)\n",
    "#axins = inset_axes(ax, width=\"30%\", height=\"40%\", loc=1, borderpad=1.5)\n",
    "\n",
    "#Axes.ticklabel_format(*, axis='both', style='', scilimits=None, \n",
    "#                      useOffset=None, useLocale=None, useMathText=None)¶\n",
    "#tt = np.arange(1., 5., 0.05)\n",
    "\n",
    "\n",
    "plt.rc('font', size=10)\n",
    "#ax.ticklabel_format(style='sci', scilimits=(-2, 2))#, useMathText=True)\n",
    "_ = ax.tick_params(labelsize=12)\n",
    "_ = ax.set_xlabel(r\"\"\"$\\beta$\"\"\", fontsize=18)\n",
    "_ = ax.set_ylabel(r\"\"\"$\\chi$\"\"\", fontsize=18)\n",
    "_ = ax.legend(loc='lower left')#, fontsize=12)\n",
    "\n",
    "#_ = axins.set_xticklabels(['', '', '5.0', '', ''])\n",
    "_ = plt.tight_layout()\n",
    "\n",
    "print(f'Saving figure to: {out_file}.')\n",
    "#out_dir = output['dirs']['figs_dir']\n",
    "out_dir = os.path.join('..', '..', '..', 'writeup', 'l2hmc_writeup', 'figures')\n",
    "io.check_else_make_dir(out_dir)\n",
    "out_file = os.path.join(out_dir, 'topological_suscept_vs_beta_L8_12_16.eps')\n",
    "_ = plt.savefig(out_file, dpi=400, bbox_inches='tight')"
   ]
  },
  {
   "cell_type": "markdown",
   "metadata": {
    "heading_collapsed": true,
    "hidden": true
   },
   "source": [
    "## OLD"
   ]
  },
  {
   "cell_type": "markdown",
   "metadata": {
    "hidden": true
   },
   "source": [
    "## Calculate and plot observables..."
   ]
  },
  {
   "cell_type": "markdown",
   "metadata": {
    "hidden": true
   },
   "source": [
    "### Calculate observables for samples generated **_during_** training:\n",
    "- Every $\\approx 500$ steps or so during training procedure, we run the sampler at $\\beta \\equiv \\beta_{\\mathrm{final}}$. \n",
    "- By calculating observables (``total action``, ``average plaquette``, and ``topological charge``) for these samples and looking at the ``thermalization time``, we can get an idea of how well the sampler is performing.\n",
    "- We expect that as the training procedure continues, the ``thermalization time`` should decrease as the sampler improves."
   ]
  },
  {
   "cell_type": "code",
   "execution_count": null,
   "metadata": {
    "hidden": true
   },
   "outputs": [],
   "source": [
    "# 53.3s\n",
    "plt.close('all')\n",
    "log_dir = os.path.join('..', '..', 'gauge_logs_graph', 'run_233')\n",
    "train_observables_dicts = calc_observables(log_dir,\n",
    "                                           observables_dicts=None,\n",
    "                                           training=True,\n",
    "                                           frac=None)"
   ]
  },
  {
   "cell_type": "code",
   "execution_count": null,
   "metadata": {
    "hidden": true
   },
   "outputs": [],
   "source": [
    "x = np.array([1., 1., 1., -1., -1., -1., 2., -2., 0., 0., 0., -2.])\n",
    "y = np.array([0., 2., -1., -2., 0., 1., 0., 2., -2., 2., 1., -2.])"
   ]
  },
  {
   "cell_type": "code",
   "execution_count": null,
   "metadata": {
    "hidden": true
   },
   "outputs": [],
   "source": [
    "len(x)"
   ]
  },
  {
   "cell_type": "code",
   "execution_count": null,
   "metadata": {
    "hidden": true
   },
   "outputs": [],
   "source": [
    "c1 = np.sqrt(np.sum((x - y))**2)\n",
    "c1"
   ]
  },
  {
   "cell_type": "code",
   "execution_count": null,
   "metadata": {
    "hidden": true
   },
   "outputs": [],
   "source": [
    "c2 = np.sum(np.abs(x-y))\n",
    "c2"
   ]
  },
  {
   "cell_type": "code",
   "execution_count": null,
   "metadata": {
    "hidden": true
   },
   "outputs": [],
   "source": [
    "np.where(x != y)[0]"
   ]
  },
  {
   "cell_type": "code",
   "execution_count": null,
   "metadata": {
    "hidden": true
   },
   "outputs": [],
   "source": [
    "len(np.where(x != y)[0])"
   ]
  },
  {
   "cell_type": "code",
   "execution_count": null,
   "metadata": {
    "hidden": true
   },
   "outputs": [],
   "source": [
    "def tot_diff(x, y):\n",
    "    z = np.where(x != y)[0]\n",
    "    return np.sum([x[i] - y[i] if x[i] > y[i] else y[i] - x[i] for i in z])"
   ]
  },
  {
   "cell_type": "code",
   "execution_count": null,
   "metadata": {
    "hidden": true
   },
   "outputs": [],
   "source": [
    "def tot_diff1(x, y):\n",
    "    return np.sum(np.abs(x-y))"
   ]
  },
  {
   "cell_type": "code",
   "execution_count": null,
   "metadata": {
    "hidden": true
   },
   "outputs": [],
   "source": [
    "xx = np.random.randint(-2, 2, size=1000)\n",
    "yy = np.random.randint(-2, 2, size=1000)"
   ]
  },
  {
   "cell_type": "code",
   "execution_count": null,
   "metadata": {
    "hidden": true
   },
   "outputs": [],
   "source": [
    "i = np.random.randint(-2, 2, size=10)\n",
    "j = np.random.randint(-2, 2, size=10)"
   ]
  },
  {
   "cell_type": "code",
   "execution_count": null,
   "metadata": {
    "hidden": true
   },
   "outputs": [],
   "source": [
    "def tot_diff2(x, y):\n",
    "    return len(np.where(x != y)[0])"
   ]
  },
  {
   "cell_type": "code",
   "execution_count": null,
   "metadata": {
    "hidden": true
   },
   "outputs": [],
   "source": [
    "tf.reduce_sum(i - j)"
   ]
  },
  {
   "cell_type": "code",
   "execution_count": null,
   "metadata": {
    "hidden": true
   },
   "outputs": [],
   "source": [
    "tot_diff1(xx, yy)"
   ]
  },
  {
   "cell_type": "code",
   "execution_count": null,
   "metadata": {
    "hidden": true
   },
   "outputs": [],
   "source": [
    "samples2 = tf.random_normal(samples.shape, dtype=tf.float32)"
   ]
  },
  {
   "cell_type": "code",
   "execution_count": null,
   "metadata": {
    "hidden": true
   },
   "outputs": [],
   "source": [
    "samples = tf.cast(samples, dtype=tf.float32)"
   ]
  },
  {
   "cell_type": "code",
   "execution_count": null,
   "metadata": {
    "hidden": true
   },
   "outputs": [],
   "source": [
    "samples = tf.reshape(samples, shape=(5, -1))\n",
    "samples2 = tf.reshape(samples2, shape=(5, -1))\n",
    "samples.shape, samples2.shape"
   ]
  },
  {
   "cell_type": "code",
   "execution_count": null,
   "metadata": {
    "hidden": true
   },
   "outputs": [],
   "source": [
    "diff = tf.cast(i - j, dtype=tf.float32)"
   ]
  },
  {
   "cell_type": "code",
   "execution_count": null,
   "metadata": {
    "hidden": true
   },
   "outputs": [],
   "source": [
    "loss_ = (tf.reduce_sum(1. - tf.cos(samples - samples2), axis=1)\n",
    "          + tf.reduce_sum(diff))"
   ]
  },
  {
   "cell_type": "code",
   "execution_count": null,
   "metadata": {
    "hidden": true
   },
   "outputs": [],
   "source": [
    "loss_"
   ]
  },
  {
   "cell_type": "code",
   "execution_count": null,
   "metadata": {
    "hidden": true
   },
   "outputs": [],
   "source": [
    "loss_.shape"
   ]
  },
  {
   "cell_type": "code",
   "execution_count": null,
   "metadata": {
    "hidden": true
   },
   "outputs": [],
   "source": [
    "u1_plaq_exact(4.)"
   ]
  },
  {
   "cell_type": "code",
   "execution_count": null,
   "metadata": {
    "hidden": true
   },
   "outputs": [],
   "source": [
    "(i - j).shape"
   ]
  },
  {
   "cell_type": "code",
   "execution_count": null,
   "metadata": {
    "hidden": true
   },
   "outputs": [],
   "source": [
    "ca = []\n",
    "ca.append(i)\n",
    "ca.append(j)\n",
    "tot_diff1(ca[-1], ca[-2])\n",
    "tot_diff2(ca[-1], ca[-2])"
   ]
  },
  {
   "cell_type": "code",
   "execution_count": null,
   "metadata": {
    "hidden": true
   },
   "outputs": [],
   "source": [
    "charges_arr.extend(xx)"
   ]
  },
  {
   "cell_type": "code",
   "execution_count": null,
   "metadata": {
    "hidden": true
   },
   "outputs": [],
   "source": [
    "u1_plaq_exact(2.05)"
   ]
  },
  {
   "cell_type": "code",
   "execution_count": null,
   "metadata": {
    "hidden": true
   },
   "outputs": [],
   "source": [
    "char"
   ]
  },
  {
   "cell_type": "code",
   "execution_count": null,
   "metadata": {
    "hidden": true
   },
   "outputs": [],
   "source": [
    "%timeit d = tot_diff(xx, yy)"
   ]
  },
  {
   "cell_type": "code",
   "execution_count": null,
   "metadata": {
    "hidden": true
   },
   "outputs": [],
   "source": [
    "%timeit d1 = tot_diff1(xx, yy)"
   ]
  },
  {
   "cell_type": "code",
   "execution_count": null,
   "metadata": {
    "hidden": true
   },
   "outputs": [],
   "source": [
    "tot_diff(xx, yy)"
   ]
  },
  {
   "cell_type": "code",
   "execution_count": null,
   "metadata": {
    "hidden": true
   },
   "outputs": [],
   "source": [
    "tot_diff1(xx, yy)"
   ]
  },
  {
   "cell_type": "code",
   "execution_count": null,
   "metadata": {
    "hidden": true
   },
   "outputs": [],
   "source": []
  },
  {
   "cell_type": "code",
   "execution_count": null,
   "metadata": {
    "hidden": true
   },
   "outputs": [],
   "source": []
  },
  {
   "cell_type": "markdown",
   "metadata": {
    "heading_collapsed": true,
    "hidden": true
   },
   "source": [
    "####  Update train_observables_dicts:  \n",
    " * If `observables_dicts` argument of `calc_training_observables` is not `None`, only calculate observables that haven't been previously calculated.  "
   ]
  },
  {
   "cell_type": "code",
   "execution_count": null,
   "metadata": {
    "hidden": true
   },
   "outputs": [],
   "source": [
    "train_observables_dicts = calc_observables(\n",
    "    log_dir, \n",
    "    observables_dicts=train_observables_dicts,\n",
    "    training=True,\n",
    ")"
   ]
  },
  {
   "cell_type": "markdown",
   "metadata": {
    "hidden": true
   },
   "source": [
    "#### Plot observables for samples generated **_during_** training:\n",
    "- In addition, for each batch of samples generated during, plot the topological charge history of each individual chain in the batch."
   ]
  },
  {
   "cell_type": "code",
   "execution_count": null,
   "metadata": {
    "hidden": true
   },
   "outputs": [],
   "source": [
    "figs_axes = plot_observables(log_dir, train_observables_dicts, training=True)"
   ]
  },
  {
   "cell_type": "code",
   "execution_count": null,
   "metadata": {
    "hidden": true
   },
   "outputs": [],
   "source": [
    "plot_top_charges(log_dir, train_observables_dicts[2], training=True)"
   ]
  },
  {
   "cell_type": "code",
   "execution_count": null,
   "metadata": {
    "hidden": true
   },
   "outputs": [],
   "source": [
    "plot_top_charges_counts(log_dir,  train_observables_dicts[2],  training=True)"
   ]
  },
  {
   "cell_type": "markdown",
   "metadata": {
    "hidden": true
   },
   "source": [
    "##### Plot top charges counts totaled over all samples"
   ]
  },
  {
   "cell_type": "code",
   "execution_count": null,
   "metadata": {
    "code_folding": [],
    "hidden": true
   },
   "outputs": [],
   "source": [
    "train_charges_dict = train_observables_dicts[2]\n",
    "params, _, _, _, figs_dir_dict = find_samples(log_dir, training=True)\n",
    "title_str_key = 'training'\n",
    "count_dict = {}\n",
    "idx = 0\n",
    "for key, val in train_charges_dict.items():\n",
    "    step, beta = key\n",
    "    counts = Counter(list(val.flatten()))\n",
    "    count_dict[key] = counts\n",
    "    fig, ax = plt.subplots()\n",
    "    _ = ax.plot(list(counts.keys()), list(counts.values()), \n",
    "                color=COLORS[idx], marker=MARKERS[idx], ls='')\n",
    "                #fillstyle='none')#, label=f'{key} training steps')\n",
    "    idx += 1\n",
    "    _ = ax.set_xlabel('Topological charge', fontsize=14)\n",
    "    _ = ax.set_ylabel('Number of occurrences', fontsize=14)\n",
    "    title_str = (r\"$\\beta = $\"\n",
    "                 + f\"{beta}, \"\n",
    "                 + f\"{step} {title_str_key} steps; \"\n",
    "                 + f\"total across {params['num_samples']} samples\")\n",
    "    _ = ax.set_title(title_str, fontsize=14)\n",
    "    out_dir = os.path.join(\n",
    "        figs_dir_dict[key], 'topological_charges_counts'\n",
    "    )\n",
    "    check_else_make_dir(out_dir)\n",
    "    out_file = os.path.join(\n",
    "        out_dir,\n",
    "        f'topological_charge_counts_total_{step}_steps_beta_{beta}.pdf'\n",
    "    )\n",
    "    #if not os.path.isfile(out_file):\n",
    "    print(f\"Saving figure to {out_file}.\")\n",
    "    _ = fig.savefig(out_file, dpi=400, bbox_inches='tight')"
   ]
  },
  {
   "cell_type": "markdown",
   "metadata": {
    "hidden": true
   },
   "source": [
    "### Calculate observables for samples generated **_after_** training.\n",
    " - Again, samples are generated at $\\beta = \\beta_{\\mathrm{final}}$.\n",
    " - In contrast to the samples generated **_during_** training (which are all ran for $\\sim 100$ steps), we now look at generating longer chains (i.e. longer runs)."
   ]
  },
  {
   "cell_type": "code",
   "execution_count": null,
   "metadata": {
    "code_folding": [
     2
    ],
    "hidden": true
   },
   "outputs": [],
   "source": [
    "plt.close('all')\n",
    "log_dir = os.path.join('..', '..', 'gauge_logs_graph', 'run_227')\n",
    "observables_dicts = calc_observables(log_dir, \n",
    "                                     observables_dicts=None, \n",
    "                                     training=False,\n",
    "                                     frac=4)"
   ]
  },
  {
   "cell_type": "code",
   "execution_count": null,
   "metadata": {
    "code_folding": [
     0
    ],
    "hidden": true
   },
   "outputs": [],
   "source": [
    "observables_dicts = calc_observables(log_dir, \n",
    "                                     observables_dicts=observables_dicts, \n",
    "                                     training=False,\n",
    "                                     frac=4)"
   ]
  },
  {
   "cell_type": "markdown",
   "metadata": {
    "hidden": true
   },
   "source": [
    "#### Plot observables for samples generated **_after_** training:\n",
    "- In addition, for each batch of samples generated during, plot the topological charge history of each individual chain in the batch."
   ]
  },
  {
   "cell_type": "code",
   "execution_count": null,
   "metadata": {
    "hidden": true
   },
   "outputs": [],
   "source": [
    "figs_axes = plot_observables(log_dir, train_observables_dicts, training=False)"
   ]
  },
  {
   "cell_type": "code",
   "execution_count": null,
   "metadata": {
    "hidden": true
   },
   "outputs": [],
   "source": [
    "plot_top_charges(log_dir, train_observables_dicts[2], training=False)"
   ]
  },
  {
   "cell_type": "code",
   "execution_count": null,
   "metadata": {
    "hidden": true
   },
   "outputs": [],
   "source": [
    "plot_top_charges_counts(log_dir,  train_observables_dicts[2],  training=False)"
   ]
  },
  {
   "cell_type": "markdown",
   "metadata": {
    "heading_collapsed": true,
    "hidden": true
   },
   "source": [
    "##### Plot top charges counts totaled over all samples\n"
   ]
  },
  {
   "cell_type": "code",
   "execution_count": null,
   "metadata": {
    "code_folding": [
     8
    ],
    "hidden": true
   },
   "outputs": [],
   "source": [
    "plt.close('all')\n",
    "COLORS *= 10\n",
    "MARKERS *= 10\n",
    "params, _, _, _, figs_dir_dict = find_samples(log_dir)\n",
    "charges_dict = observables_dicts[2]\n",
    "title_str_key = 'evaluation'\n",
    "count_dict = {}\n",
    "idx = 0\n",
    "for key, val in charges_dict.items():\n",
    "    step, beta = key \n",
    "    counts = Counter(list(val.flatten()))\n",
    "    count_dict[key] = counts\n",
    "    fig, ax = plt.subplots()\n",
    "    _ = ax.plot(list(counts.keys()), list(counts.values()), \n",
    "                color=COLORS[idx], marker=MARKERS[idx], ls='',\n",
    "                fillstyle='full')#, label=f'{key} training steps')\n",
    "    idx += 1\n",
    "    _ = ax.set_xlabel('Topological charge', fontsize=14)\n",
    "    _ = ax.set_ylabel('Number of occurrences', fontsize=14)\n",
    "    title_str = (r\"$\\beta = $\"\n",
    "                 + f\"{beta}, \"\n",
    "                 + f\"{step} steps; \"\n",
    "                 + f\"total across {params['num_samples']} samples\")\n",
    "    _ = ax.set_title(title_str, fontsize=16)\n",
    "    #out_dir = os.path.join(\n",
    "    #    figs_dir_dict[key], 'topological_charges_counts'\n",
    "    #)\n",
    "    #check_else_make_dir(out_dir)\n",
    "    out_file = os.path.join(\n",
    "       figs_dir_dict[key],\n",
    "        f'topological_charge_counts_total_{step}_steps_beta_{beta}.pdf'\n",
    "    )\n",
    "    #if not os.path.isfile(out_file):\n",
    "    print(f\"Saving figure to {out_file}.\")\n",
    "    _ = fig.savefig(out_file, dpi=400, bbox_inches='tight')\n",
    "    plt.show()\n",
    "    plt.close('all')"
   ]
  },
  {
   "cell_type": "code",
   "execution_count": null,
   "metadata": {
    "hidden": true
   },
   "outputs": [],
   "source": []
  }
 ],
 "metadata": {
  "hide_input": false,
  "kernelspec": {
   "display_name": "Python 3",
   "language": "python",
   "name": "python3"
  },
  "language_info": {
   "codemirror_mode": {
    "name": "ipython",
    "version": 3
   },
   "file_extension": ".py",
   "mimetype": "text/x-python",
   "name": "python",
   "nbconvert_exporter": "python",
   "pygments_lexer": "ipython3",
   "version": "3.6.5"
  },
  "varInspector": {
   "cols": {
    "lenName": 16,
    "lenType": 16,
    "lenVar": 40
   },
   "kernels_config": {
    "python": {
     "delete_cmd_postfix": "",
     "delete_cmd_prefix": "del ",
     "library": "var_list.py",
     "varRefreshCmd": "print(var_dic_list())"
    },
    "r": {
     "delete_cmd_postfix": ") ",
     "delete_cmd_prefix": "rm(",
     "library": "var_list.r",
     "varRefreshCmd": "cat(var_dic_list()) "
    }
   },
   "types_to_exclude": [
    "module",
    "function",
    "builtin_function_or_method",
    "instance",
    "_Feature"
   ],
   "window_display": false
  }
 },
 "nbformat": 4,
 "nbformat_minor": 2
}
