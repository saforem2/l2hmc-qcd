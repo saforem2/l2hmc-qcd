{
 "cells": [
  {
   "cell_type": "markdown",
   "metadata": {},
   "source": [
    "### Imports"
   ]
  },
  {
   "cell_type": "code",
   "execution_count": null,
   "metadata": {},
   "outputs": [],
   "source": [
    "import os\n",
    "import sys\n",
    "module_path = os.path.abspath(os.path.join('..'))\n",
    "if module_path not in sys.path:\n",
    "    sys.path.append(module_path)\n",
    "\n",
    "import pickle\n",
    "import numpy as np\n",
    "import matplotlib.pyplot as plt\n",
    "from models.mog_model import *\n",
    "from utils.distributions import *\n",
    "from matplotlib import gridspec\n",
    "from utils.plot_helper import errorbar_plot\n",
    "plt.style.use('/Users/saforem2/.config/matplotlib/stylelib/dark_jupyter.mplstyle')\n",
    "\n",
    "plt.rc('text', usetex=False)\n",
    "plt.rcParams['errorbar.capsize'] = 0\n",
    "%matplotlib notebook\n",
    "%autoreload 2\n",
    "\n"
   ]
  },
  {
   "cell_type": "markdown",
   "metadata": {},
   "source": [
    "#### Helper functions"
   ]
  },
  {
   "cell_type": "code",
   "execution_count": null,
   "metadata": {
    "code_folding": [
     0,
     5
    ]
   },
   "outputs": [],
   "source": [
    "def pkl_loader(_dir, _file):\n",
    "    with open(_dir + _file, 'rb') as f:\n",
    "        _data = pickle.load(f)\n",
    "    return _data\n",
    "\n",
    "def load_data(data_dir):\n",
    "    _d = {}\n",
    "    data = {}\n",
    "    for file in os.listdir(data_dir):\n",
    "        if file.endswith('.pkl'):\n",
    "            key = file[:-4]\n",
    "            _d[key] = pkl_loader(data_dir, file)\n",
    "        for key, val in _d.items():\n",
    "            data[key] = val\n",
    "    return data"
   ]
  },
  {
   "cell_type": "code",
   "execution_count": null,
   "metadata": {
    "code_folding": [
     0
    ]
   },
   "outputs": [],
   "source": [
    "def fix_legends(axes):\n",
    "    if isinstance(axes, (np.ndarray, list)):\n",
    "        legends = [ax.get_legend() for ax in axes]\n",
    "        for leg in legends:\n",
    "            leg.texts[0].set_color('w')\n",
    "    else:\n",
    "        legend = axes.get_legend()\n",
    "        for idx in range(len(legend.texts)):\n",
    "            legend.texts[idx].set_color('w')\n",
    "    return axes"
   ]
  },
  {
   "cell_type": "code",
   "execution_count": null,
   "metadata": {
    "code_folding": [
     0
    ]
   },
   "outputs": [],
   "source": [
    "def add_vline(axes, x, **kwargs):\n",
    "    if isinstance(axes, (np.ndarray, list)):\n",
    "        for ax in axes:\n",
    "            ax.axvline(x, **kwargs)\n",
    "                       #, color='C3', ls=':', lw=2.)\n",
    "    else:\n",
    "        axes.axvline(x, **kwargs)\n",
    "    return axes"
   ]
  },
  {
   "cell_type": "code",
   "execution_count": null,
   "metadata": {
    "code_folding": [
     0
    ]
   },
   "outputs": [],
   "source": [
    "def fix_ticks(axes):\n",
    "    if isinstance(axes, (np.ndarray, list)):\n",
    "        for idx in range(len(axes)):\n",
    "            axes[idx].tick_params(which='both', color='#474747', labelcolor='k')\n",
    "    else:\n",
    "        axes.tick_params(which='both', color='#474747', labelcolor='k')"
   ]
  },
  {
   "cell_type": "markdown",
   "metadata": {},
   "source": [
    "### Define data_dir and load data"
   ]
  },
  {
   "cell_type": "code",
   "execution_count": null,
   "metadata": {},
   "outputs": [],
   "source": [
    "run_dir = '../../log_mog_tf/run_376/'\n",
    "data_dir = run_dir + 'run_info/'\n",
    "figs_dir = run_dir + 'figures1/'\n",
    "if not os.path.exists(figs_dir):\n",
    "    os.makedirs(figs_dir)"
   ]
  },
  {
   "cell_type": "code",
   "execution_count": null,
   "metadata": {},
   "outputs": [],
   "source": [
    "data = load_data(data_dir)\n",
    "\n",
    "get_vals_as_arr = lambda _dict: np.array(list(_dict.values()))\n",
    "\n",
    "tr0 = get_vals_as_arr(data['tunneling_rates'])\n",
    "tr1 = get_vals_as_arr(data['tunneling_rates_highT'])\n",
    "ar0 = get_vals_as_arr(data['acceptance_rates'])\n",
    "ar1 = get_vals_as_arr(data['acceptance_rates_highT'])\n",
    "d0 = get_vals_as_arr(data['distances'])\n",
    "d1 = get_vals_as_arr(data['distances_highT'])\n",
    "\n",
    "steps_arr = []\n",
    "temp_arr = []\n",
    "for key in data['tunneling_rates_highT'].keys():\n",
    "    steps_arr.append(key[0]+1)\n",
    "    temp_arr.append(key[1])"
   ]
  },
  {
   "cell_type": "code",
   "execution_count": null,
   "metadata": {
    "code_folding": []
   },
   "outputs": [],
   "source": [
    "x_steps = 3 * [steps_arr]\n",
    "x_temps = 3 * [temp_arr]\n",
    "\n",
    "y_data = [tr0[:, 0], ar0[:, 0], d0[:, 0]]\n",
    "y_err = [tr0[:, 1], ar1[:, 1], d1[:, 1]]\n",
    "\n",
    "y_data_highT = [tr1[:, 0], ar1[:, 0], d1[:, 0]]\n",
    "\n",
    "y_err_highT = [tr1[:, 1], ar1[:, 1], d1[:, 1]]\n",
    "\n",
    "str0 = (f\"{data['_params']['num_distributions']} in {data['_params']['x_dim']} dims; \")\n",
    "str1 = (r'$\\mu_{ij} = \\delta_{ij},' + r' \\sigma = {{{0}}}$; '.format(data['_params']['sigma']))\n",
    "#str1 = (r'$\\mathcal{N}_{\\hat \\mu}(\\1\\hat \\mu;$'\n",
    "#        + r'${{{0}}}),$'.format(data['_params']['sigma']))\n",
    "title = str0 + str1 + r'$T_{trajectory} = 1$'\n",
    "title_highT = str0 + str1 + r'$T_{trajectory} > 1$'\n",
    "def out_file(f): return figs_dir + f'{f}.pdf'\n",
    "\n",
    "kwargs = {\n",
    "    'fillstyle': 'full',\n",
    "    'markersize': 3,\n",
    "    'alpha': 1.,\n",
    "    'capsize': 0,\n",
    "    'capthick': 0,\n",
    "    'x_label': 'Training step',\n",
    "    'y_label': '',\n",
    "    'legend_labels': ['Tunneling rate',\n",
    "                      'Acceptance rate',\n",
    "                      'Distance / step'],\n",
    "    'title': title,\n",
    "    'grid': True,\n",
    "    'reverse_x': False,\n",
    "}"
   ]
  },
  {
   "cell_type": "markdown",
   "metadata": {},
   "source": [
    "### $(T = 1)$ Tunneling rate, Acceptance Rate and Avg. Distance vs. Training Step "
   ]
  },
  {
   "cell_type": "code",
   "execution_count": null,
   "metadata": {},
   "outputs": [],
   "source": [
    "%matplotlib notebook"
   ]
  },
  {
   "cell_type": "code",
   "execution_count": null,
   "metadata": {},
   "outputs": [],
   "source": [
    "plt.rcParams['figure.facecolor'] = '#474747'"
   ]
  },
  {
   "cell_type": "code",
   "execution_count": null,
   "metadata": {
    "code_folding": []
   },
   "outputs": [],
   "source": [
    "out_file0 = out_file('tr_ar_dist_steps_lowT')#, step)\n",
    "fig, axes = errorbar_plot(x_steps, y_data, y_err, out_file=out_file0, **kwargs)\n",
    "_ = fix_legends(axes)\n",
    "_ = fix_ticks(axes)\n",
    "sfig = fig.savefig(out_file0, dpi=400, bbox_inches='tight')"
   ]
  },
  {
   "cell_type": "markdown",
   "metadata": {},
   "source": [
    "### $(T > 1)$ Tunneling rate, Acceptance Rate and Avg. Distance vs. Training Step "
   ]
  },
  {
   "cell_type": "code",
   "execution_count": null,
   "metadata": {},
   "outputs": [],
   "source": [
    "# for trajectories with temperature > 1 vs. STEP\n",
    "out_file1 = out_file('tr_ar_dist_steps_highT')#, step)\n",
    "kwargs1 = kwargs.copy()\n",
    "kwargs1['title'] = title_highT\n",
    "fig, axes = errorbar_plot(x_steps, y_data_highT, y_err_highT,\n",
    "              out_file=out_file1, **kwargs1)\n",
    "axes = fix_legends(axes)\n",
    "_ = fix_ticks(axes)\n",
    "fig.savefig(out_file1, dpi=400, bbox_inches='tight')"
   ]
  },
  {
   "cell_type": "markdown",
   "metadata": {},
   "source": [
    "### $(T = 1)$ Tunneling rate, Acceptance Rate and Avg. Distance vs. Temperature"
   ]
  },
  {
   "cell_type": "code",
   "execution_count": null,
   "metadata": {},
   "outputs": [],
   "source": [
    "out_file2 = out_file('tr_ar_dist_temps_lowT')#, step)\n",
    "# for trajectories with temperature = 1. vs TEMP\n",
    "kwargs2 = kwargs.copy()\n",
    "kwargs2['x_label'] = 'Temperature'\n",
    "kwargs2['title'] = title\n",
    "kwargs2['reverse_x'] = True\n",
    "fig, axes = errorbar_plot(x_temps, y_data, y_err,\n",
    "                          out_file=out_file2, **kwargs2)\n",
    "_ = fix_legends(axes)\n",
    "_ = fix_ticks(axes)\n",
    "_ = add_vline(axes, 1, **{'color': 'C6', 'ls': '-', 'lw': 2.})\n",
    "#axes[-1].set_xlim((15, 0.5))\n",
    "fig.savefig(out_file2, dpi=400, bbox_inches='tight')\n",
    "#ax.set_xlim(15, 1.05)"
   ]
  },
  {
   "cell_type": "markdown",
   "metadata": {},
   "source": [
    "### $(T > 1)$ Tunneling rate, Acceptance Rate and Avg. Distance vs. Temperature"
   ]
  },
  {
   "cell_type": "code",
   "execution_count": null,
   "metadata": {},
   "outputs": [],
   "source": [
    "out_file3 = out_file('tr_ar_dist_temps_highT')#, step)\n",
    "# for trajectories with temperature > 1. vs TEMP\n",
    "kwargs3 = kwargs.copy()\n",
    "kwargs3['title'] = title_highT\n",
    "kwargs3['x_label'] = 'Temperature'\n",
    "kwargs3['reverse_x'] = True\n",
    "fig, axes = errorbar_plot(x_temps, y_data_highT, y_err_highT,\n",
    "                        out_file=out_file3, **kwargs3)\n",
    "_ = add_vline(axes, 1, **{'color': 'C6', 'ls': '-', 'lw': 2.})\n",
    "    \n",
    "axes = fix_legends(axes)\n",
    "_ = fix_ticks(axes)\n",
    "fig.savefig(out_file3, dpi=400, bbox_inches='tight')\n",
    "#axes[-1].set_xlim(10, 0.9)"
   ]
  },
  {
   "cell_type": "markdown",
   "metadata": {},
   "source": [
    "### Annealing Schedule"
   ]
  },
  {
   "cell_type": "code",
   "execution_count": null,
   "metadata": {},
   "outputs": [],
   "source": [
    "train_steps = data['_params']['num_training_steps']\n",
    "temp_init = data['_params']['temp_init']\n",
    "annealing_factor = data['_params']['annealing_factor']\n",
    "annealing_steps = data['_params']['annealing_steps']\n",
    "annealing_steps_init = data['_params']['_annealing_steps_init']\n",
    "tunneling_steps = data['_params']['tunneling_rate_steps']\n",
    "tunneling_steps_init = data['_params']['_tunneling_rate_steps_init']\n",
    "#figs_dir = data['_params']['figs_dir']\n",
    "#steps_arr = data['_params']['steps_arr']\n",
    "#temp_arr = data['_params']['temp_arr']\n",
    "#  num_steps = max(steps_arr)\n",
    "max_steps_arr = max(steps_arr)\n",
    "num_steps = max(train_steps, max_steps_arr)\n",
    "\n",
    "#steps = np.arange(num_steps)\n",
    "temps = []\n",
    "steps = []\n",
    "temp = temp_init\n",
    "for step in range(num_steps):\n",
    "    if step % annealing_steps_init == 0:\n",
    "        tt = temp * annealing_factor\n",
    "        if tt > 1:\n",
    "            temp = tt\n",
    "    if (step+1) % tunneling_steps_init == 0:\n",
    "        steps.append(step+1)\n",
    "        temps.append(temp)"
   ]
  },
  {
   "cell_type": "code",
   "execution_count": null,
   "metadata": {},
   "outputs": [],
   "source": [
    "temp0 = data['_params']['temp_init']\n",
    "#steps = np.arange(0, max(steps_arr))\n",
    "#steps\n",
    "annealing_factor = data['_params']['annealing_factor']\n",
    "annealing_steps = data['_params']['annealing_steps']\n",
    "tunneling_steps = data['_params']['tunneling_rate_steps']\n",
    "fixed_temps = []\n",
    "fixed_steps = []\n",
    "temp = temp0\n",
    "for step in range(max(steps_arr)):\n",
    "    if step % annealing_steps == 0:\n",
    "        tt  = temp * annealing_factor\n",
    "        if tt > 1:\n",
    "            temp = tt\n",
    "    if (step+1) % tunneling_steps == 0:\n",
    "        fixed_steps.append(step+1)\n",
    "        fixed_temps.append(temp)"
   ]
  },
  {
   "cell_type": "code",
   "execution_count": null,
   "metadata": {},
   "outputs": [],
   "source": [
    "plt.style.use('/Users/saforem2/.config/matplotlib/stylelib/dark_jupyter.mplstyle')\n",
    "fig, ax = plt.subplots()\n",
    "pt = ax.plot(steps, temps, ls='--', label='Fixed schedule', lw=2.5)\n",
    "pt = ax.plot(steps_arr, temp_arr, label='Dynamic schedule', lw=2., alpha=0.75)\n",
    "hl = ax.axhline(y=1., color='C6', ls='-', lw=2., label='T=1')\n",
    "xl = ax.set_xlabel('Training step')\n",
    "yl = ax.set_ylabel('Temperature')\n",
    "lg = ax.legend(loc='best')\n",
    "_ = fix_legends(ax)\n",
    "#ylabels = ax.get_yticklabels()\n",
    "#xlabels = ax.get_xticklabels()\n",
    "#ax.set_yticklabels(ylabels, {'color': 'k'})\n",
    "#ax.set_xticklabels(xlabels, {'color': 'k'})\n",
    "#ax.set_yticklabels(ax.get_yticklabels(), {'color': 'k'})\n",
    "#ax.set_xticklabels(ax.get_xticklabels(), {'color': 'k'})\n",
    "_ = fix_ticks(ax)\n",
    "\n",
    "plt.savefig(figs_dir + 'annealing_schedule.pdf', dpi=400, bbox_inches='tight')"
   ]
  },
  {
   "cell_type": "code",
   "execution_count": null,
   "metadata": {},
   "outputs": [],
   "source": [
    "num_distributions = 4\n",
    "sigma = 0.01\n",
    "covs, distribution = gen_ring(r=1., var=sigma, nb_mixtures=num_distributions)\n",
    "means = distribution.mus"
   ]
  },
  {
   "cell_type": "code",
   "execution_count": null,
   "metadata": {},
   "outputs": [],
   "source": [
    "samples = distribution.get_samples(200)"
   ]
  },
  {
   "cell_type": "code",
   "execution_count": null,
   "metadata": {},
   "outputs": [],
   "source": [
    "fig, ax = plt.subplots()\n",
    "ax.plot(samples[:, 0], samples[:, 1], marker='o', ls='', alpha=0.75)\n",
    "plt.show()"
   ]
  },
  {
   "cell_type": "code",
   "execution_count": null,
   "metadata": {},
   "outputs": [],
   "source": [
    "for i in range(len(fixed_steps)):\n",
    "    print(f'({fixed_steps[i]}, {fixed_temps[i]:.3g})\\t'\n",
    "          f'({steps_arr[i]}, {temp_arr[i]:.3g})')"
   ]
  },
  {
   "cell_type": "code",
   "execution_count": null,
   "metadata": {},
   "outputs": [],
   "source": [
    "x_dim = 2\n",
    "num_distributions = 2\n",
    "sigma = 0.05\n",
    "means = np.zeros((x_dim, x_dim))\n",
    "rand_axis = np.random.randint(x_dim)\n",
    "centers = 1\n",
    "\n",
    "means[::2, :] = centers\n",
    "means[1::2, :] = - centers\n",
    "means = np.array(means).astype(np.float32)\n",
    "cov_mtx = sigma * np.eye(x_dim).astype(np.float32)\n",
    "covs = np.array([cov_mtx] * x_dim).astype(np.float32)\n",
    "dist_arr = distribution_arr(x_dim, num_distributions)\n",
    "distribution = GMM(means, covs, dist_arr)"
   ]
  },
  {
   "cell_type": "code",
   "execution_count": null,
   "metadata": {},
   "outputs": [],
   "source": [
    "samples = distribution.get_samples(500)"
   ]
  },
  {
   "cell_type": "code",
   "execution_count": null,
   "metadata": {},
   "outputs": [],
   "source": [
    "plt.style.use('/Users/saforem2/.config/matplotlib/'\n",
    "               + 'stylelib/ggplot_sam.mplstyle')\n",
    "fig, ax = plt.subplots()\n",
    "ax.plot(samples[:,0], samples[:,1], marker='o', ls='', alpha=0.75)\n",
    "fig.savefig('../log_mog_tf/run_22_diag_271/figures/diagonal_distributions_22.pdf', dpi=400, bbox_inches='tight')\n",
    "plt.show()"
   ]
  },
  {
   "cell_type": "code",
   "execution_count": null,
   "metadata": {},
   "outputs": [],
   "source": []
  },
  {
   "cell_type": "code",
   "execution_count": null,
   "metadata": {},
   "outputs": [],
   "source": [
    "means = np.zeros((2, 2))\n",
    "centers = 1.5\n",
    "axis = 0\n",
    "means[::2, axis] = centers\n",
    "means[1::2, axis] = - centers"
   ]
  },
  {
   "cell_type": "code",
   "execution_count": null,
   "metadata": {},
   "outputs": [],
   "source": [
    "sigma = 0.2\n",
    "cov_mtx = sigma * np.eye(2)\n",
    "covs = np.array([cov_mtx] * 2)"
   ]
  },
  {
   "cell_type": "code",
   "execution_count": null,
   "metadata": {},
   "outputs": [],
   "source": [
    "means1 = np.zeros((2, 2))\n",
    "centers1 = 1\n",
    "means1[::2, axis] = centers1\n",
    "means1[1::2, axis] = - centers1\n",
    "sigma1 = 0.05\n",
    "cov_mtx1 = sigma1 * np.eye(2)\n",
    "covs1 = np.array([cov_mtx] * 2)"
   ]
  },
  {
   "cell_type": "code",
   "execution_count": null,
   "metadata": {},
   "outputs": [],
   "source": [
    "from mog_model import distribution_arr"
   ]
  },
  {
   "cell_type": "code",
   "execution_count": null,
   "metadata": {},
   "outputs": [],
   "source": [
    "dist_arr = distribution_arr(2, 2)"
   ]
  },
  {
   "cell_type": "code",
   "execution_count": null,
   "metadata": {},
   "outputs": [],
   "source": [
    "distribution = GMM(means, covs, dist_arr)"
   ]
  },
  {
   "cell_type": "code",
   "execution_count": null,
   "metadata": {},
   "outputs": [],
   "source": [
    "distribution1 = GMM(means1, covs1, dist_arr)"
   ]
  },
  {
   "cell_type": "code",
   "execution_count": null,
   "metadata": {},
   "outputs": [],
   "source": [
    "samples = distribution.get_samples(500)"
   ]
  },
  {
   "cell_type": "code",
   "execution_count": null,
   "metadata": {},
   "outputs": [],
   "source": [
    "samples1 = distribution1.get_samples(500)"
   ]
  },
  {
   "cell_type": "code",
   "execution_count": null,
   "metadata": {},
   "outputs": [],
   "source": [
    "fig, ax = plt.subplots()\n",
    "ax.plot(samples[:,0], samples[:,1], marker='o', ls='', alpha=0.75)\n",
    "ax.plot(samples1[:,0], samples1[:,1], marker='o', ls='', alpha=0.75, color='C1')\n",
    "plt.show()"
   ]
  },
  {
   "cell_type": "code",
   "execution_count": null,
   "metadata": {},
   "outputs": [],
   "source": [
    "fig, ax = plt.subplots()\n",
    "ax.plot(samples[:,0], samples[:,1], marker='o', ls='', alpha=0.75)\n",
    "ax.plot(samples1[:,0], samples1[:,1], marker='o', ls='', alpha=0.75, color='C1')\n",
    "plt.show()"
   ]
  },
  {
   "cell_type": "code",
   "execution_count": null,
   "metadata": {},
   "outputs": [],
   "source": []
  }
 ],
 "metadata": {
  "celltoolbar": "Raw Cell Format",
  "hide_input": false,
  "kernelspec": {
   "display_name": "Python 3",
   "language": "python",
   "name": "python3"
  },
  "language_info": {
   "codemirror_mode": {
    "name": "ipython",
    "version": 3
   },
   "file_extension": ".py",
   "mimetype": "text/x-python",
   "name": "python",
   "nbconvert_exporter": "python",
   "pygments_lexer": "ipython3",
   "version": "3.7.6"
  },
  "latex_envs": {
   "LaTeX_envs_menu_present": true,
   "autoclose": false,
   "autocomplete": true,
   "bibliofile": "biblio.bib",
   "cite_by": "apalike",
   "current_citInitial": 1,
   "eqLabelWithNumbers": true,
   "eqNumInitial": 1,
   "hotkeys": {
    "equation": "Ctrl-E",
    "itemize": "Ctrl-I"
   },
   "labels_anchors": false,
   "latex_user_defs": false,
   "report_style_numbering": false,
   "user_envs_cfg": false
  },
  "varInspector": {
   "cols": {
    "lenName": 16,
    "lenType": 16,
    "lenVar": 40
   },
   "kernels_config": {
    "python": {
     "delete_cmd_postfix": "",
     "delete_cmd_prefix": "del ",
     "library": "var_list.py",
     "varRefreshCmd": "print(var_dic_list())"
    },
    "r": {
     "delete_cmd_postfix": ") ",
     "delete_cmd_prefix": "rm(",
     "library": "var_list.r",
     "varRefreshCmd": "cat(var_dic_list()) "
    }
   },
   "types_to_exclude": [
    "module",
    "function",
    "builtin_function_or_method",
    "instance",
    "_Feature"
   ],
   "window_display": false
  }
 },
 "nbformat": 4,
 "nbformat_minor": 2
}
