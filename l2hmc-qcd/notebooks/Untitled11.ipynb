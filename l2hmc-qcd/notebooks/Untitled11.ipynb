{
 "cells": [
  {
   "cell_type": "markdown",
   "metadata": {},
   "source": [
    "# Testing `numpy` inference"
   ]
  },
  {
   "cell_type": "markdown",
   "metadata": {},
   "source": [
    "### Imports"
   ]
  },
  {
   "cell_type": "code",
   "execution_count": 1,
   "metadata": {
    "ExecuteTime": {
     "end_time": "2020-01-24T15:00:27.983694Z",
     "start_time": "2020-01-24T15:00:27.878187Z"
    }
   },
   "outputs": [],
   "source": [
    "import os\n",
    "os.environ['KMP_DUPLICATE_LIB_OK']='True'"
   ]
  },
  {
   "cell_type": "code",
   "execution_count": 2,
   "metadata": {
    "ExecuteTime": {
     "end_time": "2020-01-24T15:00:48.024975Z",
     "start_time": "2020-01-24T15:00:31.335022Z"
    }
   },
   "outputs": [
    {
     "name": "stderr",
     "output_type": "stream",
     "text": [
      "/Users/saforem2/opt/anaconda3/envs/idp/lib/python3.6/site-packages/tensorflow/python/framework/dtypes.py:516: FutureWarning: Passing (type, 1) or '1type' as a synonym of type is deprecated; in a future version of numpy, it will be understood as (type, (1,)) / '(1,)type'.\n",
      "  _np_qint8 = np.dtype([(\"qint8\", np.int8, 1)])\n",
      "/Users/saforem2/opt/anaconda3/envs/idp/lib/python3.6/site-packages/tensorflow/python/framework/dtypes.py:517: FutureWarning: Passing (type, 1) or '1type' as a synonym of type is deprecated; in a future version of numpy, it will be understood as (type, (1,)) / '(1,)type'.\n",
      "  _np_quint8 = np.dtype([(\"quint8\", np.uint8, 1)])\n",
      "/Users/saforem2/opt/anaconda3/envs/idp/lib/python3.6/site-packages/tensorflow/python/framework/dtypes.py:518: FutureWarning: Passing (type, 1) or '1type' as a synonym of type is deprecated; in a future version of numpy, it will be understood as (type, (1,)) / '(1,)type'.\n",
      "  _np_qint16 = np.dtype([(\"qint16\", np.int16, 1)])\n",
      "/Users/saforem2/opt/anaconda3/envs/idp/lib/python3.6/site-packages/tensorflow/python/framework/dtypes.py:519: FutureWarning: Passing (type, 1) or '1type' as a synonym of type is deprecated; in a future version of numpy, it will be understood as (type, (1,)) / '(1,)type'.\n",
      "  _np_quint16 = np.dtype([(\"quint16\", np.uint16, 1)])\n",
      "/Users/saforem2/opt/anaconda3/envs/idp/lib/python3.6/site-packages/tensorflow/python/framework/dtypes.py:520: FutureWarning: Passing (type, 1) or '1type' as a synonym of type is deprecated; in a future version of numpy, it will be understood as (type, (1,)) / '(1,)type'.\n",
      "  _np_qint32 = np.dtype([(\"qint32\", np.int32, 1)])\n",
      "/Users/saforem2/opt/anaconda3/envs/idp/lib/python3.6/site-packages/tensorflow/python/framework/dtypes.py:525: FutureWarning: Passing (type, 1) or '1type' as a synonym of type is deprecated; in a future version of numpy, it will be understood as (type, (1,)) / '(1,)type'.\n",
      "  np_resource = np.dtype([(\"resource\", np.ubyte, 1)])\n",
      "WARNING:root:Limited tf.compat.v2.summary API due to missing TensorBoard installation.\n"
     ]
    },
    {
     "name": "stdout",
     "output_type": "stream",
     "text": [
      "The autoreload extension is already loaded. To reload it, use:\n",
      "  %reload_ext autoreload\n"
     ]
    }
   ],
   "source": [
    "import sys\n",
    "import time\n",
    "import pickle\n",
    "\n",
    "#import numpy as np\n",
    "import autograd.numpy as np\n",
    "import pandas as pd\n",
    "import tensorflow as tf\n",
    "import seaborn as sns\n",
    "import matplotlib.pyplot as plt\n",
    "\n",
    "\n",
    "module_path = os.path.abspath(os.path.join('..'))\n",
    "if module_path not in sys.path:\n",
    "    sys.path.append(module_path)\n",
    "    \n",
    "%load_ext autoreload\n",
    "%autoreload 2\n",
    "np.set_printoptions(precision=3, linewidth=500, edgeitems=15, suppress=True)\n",
    "\n",
    "import seaborn as sns\n",
    "sns.set_palette('bright')\n",
    "\n",
    "\n",
    "import matplotlib as mpl\n",
    "import matplotlib.style as mplstyle\n",
    "\n",
    "label_size = 9 \n",
    "mpl.rcParams['xtick.labelsize'] = label_size \n",
    "mpl.rcParams['ytick.labelsize'] = label_size \n",
    "\n",
    "mplstyle.use('fast')\n",
    "\n",
    "#from matplotlib import rc\n",
    "#rc('text', usetex=False)\n",
    "\n",
    "import utils.file_io as io"
   ]
  },
  {
   "cell_type": "code",
   "execution_count": 3,
   "metadata": {
    "ExecuteTime": {
     "end_time": "2020-01-24T15:00:48.235524Z",
     "start_time": "2020-01-24T15:00:48.029382Z"
    }
   },
   "outputs": [],
   "source": [
    "from plotters.plot_observables import grid_plot, get_obs_dict\n",
    "import utils.file_io as io\n",
    "\n",
    "import pandas as pd\n",
    "from plotters.plot_utils import load_pkl\n",
    "\n",
    "from plotters.plot_observables import get_run_dirs, get_title_str\n",
    "from lattice.lattice import u1_plaq_exact\n",
    "import scipy\n",
    "import datetime\n",
    "import matplotlib as mpl\n",
    "label_size = 9\n",
    "mpl.rcParams['xtick.labelsize'] = label_size \n",
    "mpl.rcParams['ytick.labelsize'] = label_size "
   ]
  },
  {
   "cell_type": "code",
   "execution_count": 4,
   "metadata": {
    "ExecuteTime": {
     "end_time": "2020-01-24T15:00:56.546159Z",
     "start_time": "2020-01-24T15:00:52.411557Z"
    }
   },
   "outputs": [
    {
     "name": "stdout",
     "output_type": "stream",
     "text": [
      "WARNING:tensorflow:From /Users/saforem2/ANL/l2hmc-qcd/l2hmc-qcd/network/network_utils.py:14: The name tf.set_random_seed is deprecated. Please use tf.compat.v1.set_random_seed instead.\n",
      "\n"
     ]
    },
    {
     "name": "stderr",
     "output_type": "stream",
     "text": [
      "WARNING:tensorflow:From /Users/saforem2/ANL/l2hmc-qcd/l2hmc-qcd/network/network_utils.py:14: The name tf.set_random_seed is deprecated. Please use tf.compat.v1.set_random_seed instead.\n",
      "\n"
     ]
    }
   ],
   "source": [
    "from params.gauge_params import GAUGE_PARAMS\n",
    "from trainers.train_setup import train_setup\n",
    "from utils.attr_dict import AttrDict\n",
    "from models.gauge_model import GaugeModel"
   ]
  },
  {
   "cell_type": "markdown",
   "metadata": {},
   "source": [
    "## Create `GaugeModel`"
   ]
  },
  {
   "cell_type": "code",
   "execution_count": 5,
   "metadata": {
    "ExecuteTime": {
     "end_time": "2020-01-24T15:01:35.695975Z",
     "start_time": "2020-01-24T15:01:35.319642Z"
    }
   },
   "outputs": [
    {
     "name": "stdout",
     "output_type": "stream",
     "text": [
      "--------------------------------------------------------------------------------\n",
      "Starting training using L2HMC algorithm...\n",
      "WARNING:tensorflow:From /Users/saforem2/ANL/l2hmc-qcd/l2hmc-qcd/trainers/train_setup.py:202: The name tf.reset_default_graph is deprecated. Please use tf.compat.v1.reset_default_graph instead.\n",
      "\n"
     ]
    },
    {
     "name": "stderr",
     "output_type": "stream",
     "text": [
      "WARNING:tensorflow:From /Users/saforem2/ANL/l2hmc-qcd/l2hmc-qcd/trainers/train_setup.py:202: The name tf.reset_default_graph is deprecated. Please use tf.compat.v1.reset_default_graph instead.\n",
      "\n"
     ]
    },
    {
     "name": "stdout",
     "output_type": "stream",
     "text": [
      "Creating directory: /Users/saforem2/ANL/l2hmc-qcd/gauge_logs/2020_01_24/L8_b64_lf5_f32_0901\n",
      "space_size: 4\n",
      "time_size: 4\n",
      "link_type: U1\n",
      "dim: 2\n",
      "batch_size: 8\n",
      "rand: True\n",
      "num_steps: 5\n",
      "eps: 0.2\n",
      "fixed_beta: False\n",
      "beta_init: 2.0\n",
      "beta_final: 5.0\n",
      "lr_init: 0.001\n",
      "lr_decay_steps: 1000\n",
      "lr_decay_rate: 0.96\n",
      "warmup_lr: False\n",
      "train_steps: 5000\n",
      "save_steps: 1000\n",
      "logging_steps: 2500\n",
      "print_steps: 1\n",
      "network_arch: generic\n",
      "num_hidden1: 50\n",
      "num_hidden2: 50\n",
      "use_bn: False\n",
      "dropout_prob: 0.0\n",
      "clip_value: 0.0\n",
      "summaries: True\n",
      "eps_fixed: False\n",
      "hmc: False\n",
      "use_nnehmc_loss: False\n",
      "use_gaussian_loss: False\n",
      "loss_scale: 1\n",
      "std_weight: 1.0\n",
      "aux_weight: 1.0\n",
      "charge_weight: 0.0\n",
      "metric: cos_diff\n",
      "x_scale_weight: 1\n",
      "x_translation_weight: 1\n",
      "x_transformation_weight: 1\n",
      "v_scale_weight: 1\n",
      "v_translation_weight: 1\n",
      "v_transformation_weight: 1\n",
      "log_dir: /Users/saforem2/ANL/l2hmc-qcd/gauge_logs/2020_01_24/L8_b64_lf5_f32_0901\n",
      "trace: False\n",
      "profiler: False\n",
      "gpu: False\n",
      "horovod: False\n",
      "comet: False\n",
      "restore: False\n",
      "theta: False\n",
      "num_intra_threads: 0\n",
      "float64: False\n",
      "using_hvd: False\n",
      "zero_masks: True\n"
     ]
    }
   ],
   "source": [
    "from trainers.train_setup import train_setup\n",
    "from params.gauge_params import GAUGE_PARAMS\n",
    "\n",
    "_params = GAUGE_PARAMS.copy()\n",
    "params, hooks = train_setup(_params, log_file=None)\n",
    "params['zero_masks'] = True\n",
    "params['space_size'] = 4\n",
    "params['time_size'] = 4\n",
    "params['batch_size'] = 8\n",
    "for key, val in params.items():\n",
    "    print(f'{key}: {val}')"
   ]
  },
  {
   "cell_type": "code",
   "execution_count": 6,
   "metadata": {
    "ExecuteTime": {
     "end_time": "2020-01-24T15:01:39.171129Z",
     "start_time": "2020-01-24T15:01:38.877160Z"
    }
   },
   "outputs": [],
   "source": [
    "params['train_steps'] = 100"
   ]
  },
  {
   "cell_type": "code",
   "execution_count": 7,
   "metadata": {
    "ExecuteTime": {
     "end_time": "2020-01-24T15:03:06.033366Z",
     "start_time": "2020-01-24T15:01:42.703120Z"
    },
    "scrolled": true
   },
   "outputs": [
    {
     "name": "stdout",
     "output_type": "stream",
     "text": [
      "WARNING:tensorflow:From /Users/saforem2/ANL/l2hmc-qcd/l2hmc-qcd/base/base_model.py:362: The name tf.variable_scope is deprecated. Please use tf.compat.v1.variable_scope instead.\n",
      "\n"
     ]
    },
    {
     "name": "stderr",
     "output_type": "stream",
     "text": [
      "WARNING:tensorflow:From /Users/saforem2/ANL/l2hmc-qcd/l2hmc-qcd/base/base_model.py:362: The name tf.variable_scope is deprecated. Please use tf.compat.v1.variable_scope instead.\n",
      "\n"
     ]
    },
    {
     "name": "stdout",
     "output_type": "stream",
     "text": [
      "WARNING:tensorflow:From /Users/saforem2/ANL/l2hmc-qcd/l2hmc-qcd/base/base_model.py:363: The name tf.train.get_or_create_global_step is deprecated. Please use tf.compat.v1.train.get_or_create_global_step instead.\n",
      "\n"
     ]
    },
    {
     "name": "stderr",
     "output_type": "stream",
     "text": [
      "WARNING:tensorflow:From /Users/saforem2/ANL/l2hmc-qcd/l2hmc-qcd/base/base_model.py:363: The name tf.train.get_or_create_global_step is deprecated. Please use tf.compat.v1.train.get_or_create_global_step instead.\n",
      "\n"
     ]
    },
    {
     "name": "stdout",
     "output_type": "stream",
     "text": [
      "WARNING:tensorflow:From /Users/saforem2/ANL/l2hmc-qcd/l2hmc-qcd/base/base_model.py:387: The name tf.train.exponential_decay is deprecated. Please use tf.compat.v1.train.exponential_decay instead.\n",
      "\n"
     ]
    },
    {
     "name": "stderr",
     "output_type": "stream",
     "text": [
      "WARNING:tensorflow:From /Users/saforem2/ANL/l2hmc-qcd/l2hmc-qcd/base/base_model.py:387: The name tf.train.exponential_decay is deprecated. Please use tf.compat.v1.train.exponential_decay instead.\n",
      "\n"
     ]
    },
    {
     "name": "stdout",
     "output_type": "stream",
     "text": [
      "WARNING:tensorflow:From /Users/saforem2/ANL/l2hmc-qcd/l2hmc-qcd/base/base_model.py:400: The name tf.train.AdamOptimizer is deprecated. Please use tf.compat.v1.train.AdamOptimizer instead.\n",
      "\n"
     ]
    },
    {
     "name": "stderr",
     "output_type": "stream",
     "text": [
      "WARNING:tensorflow:From /Users/saforem2/ANL/l2hmc-qcd/l2hmc-qcd/base/base_model.py:400: The name tf.train.AdamOptimizer is deprecated. Please use tf.compat.v1.train.AdamOptimizer instead.\n",
      "\n"
     ]
    },
    {
     "name": "stdout",
     "output_type": "stream",
     "text": [
      "--------------------------------------------------------------------------------\n",
      "INFO: Building graph for `GaugeModel`...\n",
      "INFO: Creating lattice...\n",
      "INFO: Creating input placeholders...\n",
      "WARNING:tensorflow:From /Users/saforem2/ANL/l2hmc-qcd/l2hmc-qcd/base/base_model.py:425: The name tf.placeholder is deprecated. Please use tf.compat.v1.placeholder instead.\n",
      "\n"
     ]
    },
    {
     "name": "stderr",
     "output_type": "stream",
     "text": [
      "WARNING:tensorflow:From /Users/saforem2/ANL/l2hmc-qcd/l2hmc-qcd/base/base_model.py:425: The name tf.placeholder is deprecated. Please use tf.compat.v1.placeholder instead.\n",
      "\n"
     ]
    },
    {
     "name": "stdout",
     "output_type": "stream",
     "text": [
      "x: Tensor(\"GaugeModel/inputs/x:0\", shape=(8, 32), dtype=float32)\n",
      "\n",
      "beta: Tensor(\"GaugeModel/inputs/beta:0\", shape=(), dtype=float32)\n",
      "\n",
      "eps_ph: Tensor(\"GaugeModel/inputs/eps_ph:0\", shape=(), dtype=float32)\n",
      "\n",
      "global_step_ph: Tensor(\"GaugeModel/inputs/global_step_ph:0\", shape=(), dtype=int64)\n",
      "\n",
      "train_phase: Tensor(\"GaugeModel/inputs/is_training:0\", shape=(), dtype=bool)\n",
      "\n",
      "net_weights: NetWeights(x_scale=<tf.Tensor 'GaugeModel/inputs/x_scale_weight:0' shape=() dtype=float32>, x_translation=<tf.Tensor 'GaugeModel/inputs/x_translation_weight:0' shape=() dtype=float32>, x_transformation=<tf.Tensor 'GaugeModel/inputs/x_transformation_weight:0' shape=() dtype=float32>, v_scale=<tf.Tensor 'GaugeModel/inputs/v_scale_weight:0' shape=() dtype=float32>, v_translation=<tf.Tensor 'GaugeModel/inputs/v_translation_weight:0' shape=() dtype=float32>, v_transformation=<tf.Tensor 'GaugeModel/inputs/v_transformation_weight:0' shape=() dtype=float32>)\n",
      "\n",
      "WARNING:tensorflow:From /Users/saforem2/ANL/l2hmc-qcd/l2hmc-qcd/base/base_model.py:463: The name tf.add_to_collection is deprecated. Please use tf.compat.v1.add_to_collection instead.\n",
      "\n"
     ]
    },
    {
     "name": "stderr",
     "output_type": "stream",
     "text": [
      "WARNING:tensorflow:From /Users/saforem2/ANL/l2hmc-qcd/l2hmc-qcd/base/base_model.py:463: The name tf.add_to_collection is deprecated. Please use tf.compat.v1.add_to_collection instead.\n",
      "\n"
     ]
    },
    {
     "name": "stdout",
     "output_type": "stream",
     "text": [
      "INFO: Creating operations for calculating observables...\n",
      "INFO: Creating `Dynamics`...\n",
      "WARNING:tensorflow:From /Users/saforem2/ANL/l2hmc-qcd/l2hmc-qcd/network/network_utils.py:132: calling VarianceScaling.__init__ (from tensorflow.python.ops.init_ops) with dtype is deprecated and will be removed in a future version.\n",
      "Instructions for updating:\n",
      "Call initializer instance with the dtype argument instead of passing it to the constructor\n"
     ]
    },
    {
     "name": "stderr",
     "output_type": "stream",
     "text": [
      "WARNING:tensorflow:From /Users/saforem2/ANL/l2hmc-qcd/l2hmc-qcd/network/network_utils.py:132: calling VarianceScaling.__init__ (from tensorflow.python.ops.init_ops) with dtype is deprecated and will be removed in a future version.\n",
      "Instructions for updating:\n",
      "Call initializer instance with the dtype argument instead of passing it to the constructor\n"
     ]
    },
    {
     "name": "stdout",
     "output_type": "stream",
     "text": [
      "WARNING:tensorflow:From /Users/saforem2/ANL/l2hmc-qcd/l2hmc-qcd/network/network_utils.py:147: calling Constant.__init__ (from tensorflow.python.ops.init_ops) with dtype is deprecated and will be removed in a future version.\n",
      "Instructions for updating:\n",
      "Call initializer instance with the dtype argument instead of passing it to the constructor\n"
     ]
    },
    {
     "name": "stderr",
     "output_type": "stream",
     "text": [
      "WARNING:tensorflow:From /Users/saforem2/ANL/l2hmc-qcd/l2hmc-qcd/network/network_utils.py:147: calling Constant.__init__ (from tensorflow.python.ops.init_ops) with dtype is deprecated and will be removed in a future version.\n",
      "Instructions for updating:\n",
      "Call initializer instance with the dtype argument instead of passing it to the constructor\n"
     ]
    },
    {
     "name": "stdout",
     "output_type": "stream",
     "text": [
      "WARNING:tensorflow:Entity <bound method FullNet.call of <network.network.FullNet object at 0x114db90978>> could not be transformed and will be executed as-is. Please report this to the AutgoGraph team. When filing the bug, set the verbosity to 10 (on Linux, `export AUTOGRAPH_VERBOSITY=10`) and attach the full output. Cause: converting <bound method FullNet.call of <network.network.FullNet object at 0x114db90978>>: AssertionError: Bad argument number for Name: 3, expecting 4\n"
     ]
    },
    {
     "name": "stderr",
     "output_type": "stream",
     "text": [
      "WARNING:tensorflow:Entity <bound method FullNet.call of <network.network.FullNet object at 0x114db90978>> could not be transformed and will be executed as-is. Please report this to the AutgoGraph team. When filing the bug, set the verbosity to 10 (on Linux, `export AUTOGRAPH_VERBOSITY=10`) and attach the full output. Cause: converting <bound method FullNet.call of <network.network.FullNet object at 0x114db90978>>: AssertionError: Bad argument number for Name: 3, expecting 4\n"
     ]
    },
    {
     "name": "stdout",
     "output_type": "stream",
     "text": [
      "WARNING: Entity <bound method FullNet.call of <network.network.FullNet object at 0x114db90978>> could not be transformed and will be executed as-is. Please report this to the AutgoGraph team. When filing the bug, set the verbosity to 10 (on Linux, `export AUTOGRAPH_VERBOSITY=10`) and attach the full output. Cause: converting <bound method FullNet.call of <network.network.FullNet object at 0x114db90978>>: AssertionError: Bad argument number for Name: 3, expecting 4\n",
      "WARNING:tensorflow:Entity <bound method GenericNet.call of <network.generic_net.GenericNet object at 0x114dbd7128>> could not be transformed and will be executed as-is. Please report this to the AutgoGraph team. When filing the bug, set the verbosity to 10 (on Linux, `export AUTOGRAPH_VERBOSITY=10`) and attach the full output. Cause: converting <bound method GenericNet.call of <network.generic_net.GenericNet object at 0x114dbd7128>>: AssertionError: Bad argument number for Name: 3, expecting 4\n"
     ]
    },
    {
     "name": "stderr",
     "output_type": "stream",
     "text": [
      "WARNING:tensorflow:Entity <bound method GenericNet.call of <network.generic_net.GenericNet object at 0x114dbd7128>> could not be transformed and will be executed as-is. Please report this to the AutgoGraph team. When filing the bug, set the verbosity to 10 (on Linux, `export AUTOGRAPH_VERBOSITY=10`) and attach the full output. Cause: converting <bound method GenericNet.call of <network.generic_net.GenericNet object at 0x114dbd7128>>: AssertionError: Bad argument number for Name: 3, expecting 4\n"
     ]
    },
    {
     "name": "stdout",
     "output_type": "stream",
     "text": [
      "WARNING: Entity <bound method GenericNet.call of <network.generic_net.GenericNet object at 0x114dbd7128>> could not be transformed and will be executed as-is. Please report this to the AutgoGraph team. When filing the bug, set the verbosity to 10 (on Linux, `export AUTOGRAPH_VERBOSITY=10`) and attach the full output. Cause: converting <bound method GenericNet.call of <network.generic_net.GenericNet object at 0x114dbd7128>>: AssertionError: Bad argument number for Name: 3, expecting 4\n",
      "WARNING:tensorflow:Entity <bound method FullNet.call of <network.network.FullNet object at 0x114db75278>> could not be transformed and will be executed as-is. Please report this to the AutgoGraph team. When filing the bug, set the verbosity to 10 (on Linux, `export AUTOGRAPH_VERBOSITY=10`) and attach the full output. Cause: converting <bound method FullNet.call of <network.network.FullNet object at 0x114db75278>>: AssertionError: Bad argument number for Name: 3, expecting 4\n"
     ]
    },
    {
     "name": "stderr",
     "output_type": "stream",
     "text": [
      "WARNING:tensorflow:Entity <bound method FullNet.call of <network.network.FullNet object at 0x114db75278>> could not be transformed and will be executed as-is. Please report this to the AutgoGraph team. When filing the bug, set the verbosity to 10 (on Linux, `export AUTOGRAPH_VERBOSITY=10`) and attach the full output. Cause: converting <bound method FullNet.call of <network.network.FullNet object at 0x114db75278>>: AssertionError: Bad argument number for Name: 3, expecting 4\n"
     ]
    },
    {
     "name": "stdout",
     "output_type": "stream",
     "text": [
      "WARNING: Entity <bound method FullNet.call of <network.network.FullNet object at 0x114db75278>> could not be transformed and will be executed as-is. Please report this to the AutgoGraph team. When filing the bug, set the verbosity to 10 (on Linux, `export AUTOGRAPH_VERBOSITY=10`) and attach the full output. Cause: converting <bound method FullNet.call of <network.network.FullNet object at 0x114db75278>>: AssertionError: Bad argument number for Name: 3, expecting 4\n",
      "WARNING:tensorflow:Entity <bound method GenericNet.call of <network.generic_net.GenericNet object at 0x114db90da0>> could not be transformed and will be executed as-is. Please report this to the AutgoGraph team. When filing the bug, set the verbosity to 10 (on Linux, `export AUTOGRAPH_VERBOSITY=10`) and attach the full output. Cause: converting <bound method GenericNet.call of <network.generic_net.GenericNet object at 0x114db90da0>>: AssertionError: Bad argument number for Name: 3, expecting 4\n"
     ]
    },
    {
     "name": "stderr",
     "output_type": "stream",
     "text": [
      "WARNING:tensorflow:Entity <bound method GenericNet.call of <network.generic_net.GenericNet object at 0x114db90da0>> could not be transformed and will be executed as-is. Please report this to the AutgoGraph team. When filing the bug, set the verbosity to 10 (on Linux, `export AUTOGRAPH_VERBOSITY=10`) and attach the full output. Cause: converting <bound method GenericNet.call of <network.generic_net.GenericNet object at 0x114db90da0>>: AssertionError: Bad argument number for Name: 3, expecting 4\n"
     ]
    },
    {
     "name": "stdout",
     "output_type": "stream",
     "text": [
      "WARNING: Entity <bound method GenericNet.call of <network.generic_net.GenericNet object at 0x114db90da0>> could not be transformed and will be executed as-is. Please report this to the AutgoGraph team. When filing the bug, set the verbosity to 10 (on Linux, `export AUTOGRAPH_VERBOSITY=10`) and attach the full output. Cause: converting <bound method GenericNet.call of <network.generic_net.GenericNet object at 0x114db90da0>>: AssertionError: Bad argument number for Name: 3, expecting 4\n",
      "WARNING:tensorflow:Entity <bound method FullNet.call of <network.network.FullNet object at 0x114db75278>> could not be transformed and will be executed as-is. Please report this to the AutgoGraph team. When filing the bug, set the verbosity to 10 (on Linux, `export AUTOGRAPH_VERBOSITY=10`) and attach the full output. Cause: converting <bound method FullNet.call of <network.network.FullNet object at 0x114db75278>>: AssertionError: Bad argument number for Name: 3, expecting 4\n"
     ]
    },
    {
     "name": "stderr",
     "output_type": "stream",
     "text": [
      "WARNING:tensorflow:Entity <bound method FullNet.call of <network.network.FullNet object at 0x114db75278>> could not be transformed and will be executed as-is. Please report this to the AutgoGraph team. When filing the bug, set the verbosity to 10 (on Linux, `export AUTOGRAPH_VERBOSITY=10`) and attach the full output. Cause: converting <bound method FullNet.call of <network.network.FullNet object at 0x114db75278>>: AssertionError: Bad argument number for Name: 3, expecting 4\n"
     ]
    },
    {
     "name": "stdout",
     "output_type": "stream",
     "text": [
      "WARNING: Entity <bound method FullNet.call of <network.network.FullNet object at 0x114db75278>> could not be transformed and will be executed as-is. Please report this to the AutgoGraph team. When filing the bug, set the verbosity to 10 (on Linux, `export AUTOGRAPH_VERBOSITY=10`) and attach the full output. Cause: converting <bound method FullNet.call of <network.network.FullNet object at 0x114db75278>>: AssertionError: Bad argument number for Name: 3, expecting 4\n",
      "WARNING:tensorflow:Entity <bound method GenericNet.call of <network.generic_net.GenericNet object at 0x114db90da0>> could not be transformed and will be executed as-is. Please report this to the AutgoGraph team. When filing the bug, set the verbosity to 10 (on Linux, `export AUTOGRAPH_VERBOSITY=10`) and attach the full output. Cause: converting <bound method GenericNet.call of <network.generic_net.GenericNet object at 0x114db90da0>>: AssertionError: Bad argument number for Name: 3, expecting 4\n"
     ]
    },
    {
     "name": "stderr",
     "output_type": "stream",
     "text": [
      "WARNING:tensorflow:Entity <bound method GenericNet.call of <network.generic_net.GenericNet object at 0x114db90da0>> could not be transformed and will be executed as-is. Please report this to the AutgoGraph team. When filing the bug, set the verbosity to 10 (on Linux, `export AUTOGRAPH_VERBOSITY=10`) and attach the full output. Cause: converting <bound method GenericNet.call of <network.generic_net.GenericNet object at 0x114db90da0>>: AssertionError: Bad argument number for Name: 3, expecting 4\n"
     ]
    },
    {
     "name": "stdout",
     "output_type": "stream",
     "text": [
      "WARNING: Entity <bound method GenericNet.call of <network.generic_net.GenericNet object at 0x114db90da0>> could not be transformed and will be executed as-is. Please report this to the AutgoGraph team. When filing the bug, set the verbosity to 10 (on Linux, `export AUTOGRAPH_VERBOSITY=10`) and attach the full output. Cause: converting <bound method GenericNet.call of <network.generic_net.GenericNet object at 0x114db90da0>>: AssertionError: Bad argument number for Name: 3, expecting 4\n",
      "WARNING:tensorflow:Entity <bound method FullNet.call of <network.network.FullNet object at 0x114db90978>> could not be transformed and will be executed as-is. Please report this to the AutgoGraph team. When filing the bug, set the verbosity to 10 (on Linux, `export AUTOGRAPH_VERBOSITY=10`) and attach the full output. Cause: converting <bound method FullNet.call of <network.network.FullNet object at 0x114db90978>>: AssertionError: Bad argument number for Name: 3, expecting 4\n"
     ]
    },
    {
     "name": "stderr",
     "output_type": "stream",
     "text": [
      "WARNING:tensorflow:Entity <bound method FullNet.call of <network.network.FullNet object at 0x114db90978>> could not be transformed and will be executed as-is. Please report this to the AutgoGraph team. When filing the bug, set the verbosity to 10 (on Linux, `export AUTOGRAPH_VERBOSITY=10`) and attach the full output. Cause: converting <bound method FullNet.call of <network.network.FullNet object at 0x114db90978>>: AssertionError: Bad argument number for Name: 3, expecting 4\n"
     ]
    },
    {
     "name": "stdout",
     "output_type": "stream",
     "text": [
      "WARNING: Entity <bound method FullNet.call of <network.network.FullNet object at 0x114db90978>> could not be transformed and will be executed as-is. Please report this to the AutgoGraph team. When filing the bug, set the verbosity to 10 (on Linux, `export AUTOGRAPH_VERBOSITY=10`) and attach the full output. Cause: converting <bound method FullNet.call of <network.network.FullNet object at 0x114db90978>>: AssertionError: Bad argument number for Name: 3, expecting 4\n",
      "WARNING:tensorflow:Entity <bound method GenericNet.call of <network.generic_net.GenericNet object at 0x114dbd7128>> could not be transformed and will be executed as-is. Please report this to the AutgoGraph team. When filing the bug, set the verbosity to 10 (on Linux, `export AUTOGRAPH_VERBOSITY=10`) and attach the full output. Cause: converting <bound method GenericNet.call of <network.generic_net.GenericNet object at 0x114dbd7128>>: AssertionError: Bad argument number for Name: 3, expecting 4\n"
     ]
    },
    {
     "name": "stderr",
     "output_type": "stream",
     "text": [
      "WARNING:tensorflow:Entity <bound method GenericNet.call of <network.generic_net.GenericNet object at 0x114dbd7128>> could not be transformed and will be executed as-is. Please report this to the AutgoGraph team. When filing the bug, set the verbosity to 10 (on Linux, `export AUTOGRAPH_VERBOSITY=10`) and attach the full output. Cause: converting <bound method GenericNet.call of <network.generic_net.GenericNet object at 0x114dbd7128>>: AssertionError: Bad argument number for Name: 3, expecting 4\n"
     ]
    },
    {
     "name": "stdout",
     "output_type": "stream",
     "text": [
      "WARNING: Entity <bound method GenericNet.call of <network.generic_net.GenericNet object at 0x114dbd7128>> could not be transformed and will be executed as-is. Please report this to the AutgoGraph team. When filing the bug, set the verbosity to 10 (on Linux, `export AUTOGRAPH_VERBOSITY=10`) and attach the full output. Cause: converting <bound method GenericNet.call of <network.generic_net.GenericNet object at 0x114dbd7128>>: AssertionError: Bad argument number for Name: 3, expecting 4\n",
      "WARNING:tensorflow:From /Users/saforem2/ANL/l2hmc-qcd/l2hmc-qcd/dynamics/dynamics.py:556: add_dispatch_support.<locals>.wrapper (from tensorflow.python.ops.array_ops) is deprecated and will be removed in a future version.\n",
      "Instructions for updating:\n",
      "Use tf.where in 2.0, which has the same broadcast rule as np.where\n"
     ]
    },
    {
     "name": "stderr",
     "output_type": "stream",
     "text": [
      "WARNING:tensorflow:From /Users/saforem2/ANL/l2hmc-qcd/l2hmc-qcd/dynamics/dynamics.py:556: add_dispatch_support.<locals>.wrapper (from tensorflow.python.ops.array_ops) is deprecated and will be removed in a future version.\n",
      "Instructions for updating:\n",
      "Use tf.where in 2.0, which has the same broadcast rule as np.where\n"
     ]
    },
    {
     "name": "stdout",
     "output_type": "stream",
     "text": [
      "WARNING:tensorflow:Entity <bound method FullNet.call of <network.network.FullNet object at 0x114db90978>> could not be transformed and will be executed as-is. Please report this to the AutgoGraph team. When filing the bug, set the verbosity to 10 (on Linux, `export AUTOGRAPH_VERBOSITY=10`) and attach the full output. Cause: converting <bound method FullNet.call of <network.network.FullNet object at 0x114db90978>>: AssertionError: Bad argument number for Name: 3, expecting 4\n"
     ]
    },
    {
     "name": "stderr",
     "output_type": "stream",
     "text": [
      "WARNING:tensorflow:Entity <bound method FullNet.call of <network.network.FullNet object at 0x114db90978>> could not be transformed and will be executed as-is. Please report this to the AutgoGraph team. When filing the bug, set the verbosity to 10 (on Linux, `export AUTOGRAPH_VERBOSITY=10`) and attach the full output. Cause: converting <bound method FullNet.call of <network.network.FullNet object at 0x114db90978>>: AssertionError: Bad argument number for Name: 3, expecting 4\n"
     ]
    },
    {
     "name": "stdout",
     "output_type": "stream",
     "text": [
      "WARNING: Entity <bound method FullNet.call of <network.network.FullNet object at 0x114db90978>> could not be transformed and will be executed as-is. Please report this to the AutgoGraph team. When filing the bug, set the verbosity to 10 (on Linux, `export AUTOGRAPH_VERBOSITY=10`) and attach the full output. Cause: converting <bound method FullNet.call of <network.network.FullNet object at 0x114db90978>>: AssertionError: Bad argument number for Name: 3, expecting 4\n",
      "WARNING:tensorflow:Entity <bound method GenericNet.call of <network.generic_net.GenericNet object at 0x114dbd7128>> could not be transformed and will be executed as-is. Please report this to the AutgoGraph team. When filing the bug, set the verbosity to 10 (on Linux, `export AUTOGRAPH_VERBOSITY=10`) and attach the full output. Cause: converting <bound method GenericNet.call of <network.generic_net.GenericNet object at 0x114dbd7128>>: AssertionError: Bad argument number for Name: 3, expecting 4\n"
     ]
    },
    {
     "name": "stderr",
     "output_type": "stream",
     "text": [
      "WARNING:tensorflow:Entity <bound method GenericNet.call of <network.generic_net.GenericNet object at 0x114dbd7128>> could not be transformed and will be executed as-is. Please report this to the AutgoGraph team. When filing the bug, set the verbosity to 10 (on Linux, `export AUTOGRAPH_VERBOSITY=10`) and attach the full output. Cause: converting <bound method GenericNet.call of <network.generic_net.GenericNet object at 0x114dbd7128>>: AssertionError: Bad argument number for Name: 3, expecting 4\n"
     ]
    },
    {
     "name": "stdout",
     "output_type": "stream",
     "text": [
      "WARNING: Entity <bound method GenericNet.call of <network.generic_net.GenericNet object at 0x114dbd7128>> could not be transformed and will be executed as-is. Please report this to the AutgoGraph team. When filing the bug, set the verbosity to 10 (on Linux, `export AUTOGRAPH_VERBOSITY=10`) and attach the full output. Cause: converting <bound method GenericNet.call of <network.generic_net.GenericNet object at 0x114dbd7128>>: AssertionError: Bad argument number for Name: 3, expecting 4\n",
      "WARNING:tensorflow:Entity <bound method FullNet.call of <network.network.FullNet object at 0x114db75278>> could not be transformed and will be executed as-is. Please report this to the AutgoGraph team. When filing the bug, set the verbosity to 10 (on Linux, `export AUTOGRAPH_VERBOSITY=10`) and attach the full output. Cause: converting <bound method FullNet.call of <network.network.FullNet object at 0x114db75278>>: AssertionError: Bad argument number for Name: 3, expecting 4\n"
     ]
    },
    {
     "name": "stderr",
     "output_type": "stream",
     "text": [
      "WARNING:tensorflow:Entity <bound method FullNet.call of <network.network.FullNet object at 0x114db75278>> could not be transformed and will be executed as-is. Please report this to the AutgoGraph team. When filing the bug, set the verbosity to 10 (on Linux, `export AUTOGRAPH_VERBOSITY=10`) and attach the full output. Cause: converting <bound method FullNet.call of <network.network.FullNet object at 0x114db75278>>: AssertionError: Bad argument number for Name: 3, expecting 4\n"
     ]
    },
    {
     "name": "stdout",
     "output_type": "stream",
     "text": [
      "WARNING: Entity <bound method FullNet.call of <network.network.FullNet object at 0x114db75278>> could not be transformed and will be executed as-is. Please report this to the AutgoGraph team. When filing the bug, set the verbosity to 10 (on Linux, `export AUTOGRAPH_VERBOSITY=10`) and attach the full output. Cause: converting <bound method FullNet.call of <network.network.FullNet object at 0x114db75278>>: AssertionError: Bad argument number for Name: 3, expecting 4\n",
      "WARNING:tensorflow:Entity <bound method GenericNet.call of <network.generic_net.GenericNet object at 0x114db90da0>> could not be transformed and will be executed as-is. Please report this to the AutgoGraph team. When filing the bug, set the verbosity to 10 (on Linux, `export AUTOGRAPH_VERBOSITY=10`) and attach the full output. Cause: converting <bound method GenericNet.call of <network.generic_net.GenericNet object at 0x114db90da0>>: AssertionError: Bad argument number for Name: 3, expecting 4\n"
     ]
    },
    {
     "name": "stderr",
     "output_type": "stream",
     "text": [
      "WARNING:tensorflow:Entity <bound method GenericNet.call of <network.generic_net.GenericNet object at 0x114db90da0>> could not be transformed and will be executed as-is. Please report this to the AutgoGraph team. When filing the bug, set the verbosity to 10 (on Linux, `export AUTOGRAPH_VERBOSITY=10`) and attach the full output. Cause: converting <bound method GenericNet.call of <network.generic_net.GenericNet object at 0x114db90da0>>: AssertionError: Bad argument number for Name: 3, expecting 4\n"
     ]
    },
    {
     "name": "stdout",
     "output_type": "stream",
     "text": [
      "WARNING: Entity <bound method GenericNet.call of <network.generic_net.GenericNet object at 0x114db90da0>> could not be transformed and will be executed as-is. Please report this to the AutgoGraph team. When filing the bug, set the verbosity to 10 (on Linux, `export AUTOGRAPH_VERBOSITY=10`) and attach the full output. Cause: converting <bound method GenericNet.call of <network.generic_net.GenericNet object at 0x114db90da0>>: AssertionError: Bad argument number for Name: 3, expecting 4\n",
      "WARNING:tensorflow:Entity <bound method FullNet.call of <network.network.FullNet object at 0x114db75278>> could not be transformed and will be executed as-is. Please report this to the AutgoGraph team. When filing the bug, set the verbosity to 10 (on Linux, `export AUTOGRAPH_VERBOSITY=10`) and attach the full output. Cause: converting <bound method FullNet.call of <network.network.FullNet object at 0x114db75278>>: AssertionError: Bad argument number for Name: 3, expecting 4\n"
     ]
    },
    {
     "name": "stderr",
     "output_type": "stream",
     "text": [
      "WARNING:tensorflow:Entity <bound method FullNet.call of <network.network.FullNet object at 0x114db75278>> could not be transformed and will be executed as-is. Please report this to the AutgoGraph team. When filing the bug, set the verbosity to 10 (on Linux, `export AUTOGRAPH_VERBOSITY=10`) and attach the full output. Cause: converting <bound method FullNet.call of <network.network.FullNet object at 0x114db75278>>: AssertionError: Bad argument number for Name: 3, expecting 4\n"
     ]
    },
    {
     "name": "stdout",
     "output_type": "stream",
     "text": [
      "WARNING: Entity <bound method FullNet.call of <network.network.FullNet object at 0x114db75278>> could not be transformed and will be executed as-is. Please report this to the AutgoGraph team. When filing the bug, set the verbosity to 10 (on Linux, `export AUTOGRAPH_VERBOSITY=10`) and attach the full output. Cause: converting <bound method FullNet.call of <network.network.FullNet object at 0x114db75278>>: AssertionError: Bad argument number for Name: 3, expecting 4\n",
      "WARNING:tensorflow:Entity <bound method GenericNet.call of <network.generic_net.GenericNet object at 0x114db90da0>> could not be transformed and will be executed as-is. Please report this to the AutgoGraph team. When filing the bug, set the verbosity to 10 (on Linux, `export AUTOGRAPH_VERBOSITY=10`) and attach the full output. Cause: converting <bound method GenericNet.call of <network.generic_net.GenericNet object at 0x114db90da0>>: AssertionError: Bad argument number for Name: 3, expecting 4\n"
     ]
    },
    {
     "name": "stderr",
     "output_type": "stream",
     "text": [
      "WARNING:tensorflow:Entity <bound method GenericNet.call of <network.generic_net.GenericNet object at 0x114db90da0>> could not be transformed and will be executed as-is. Please report this to the AutgoGraph team. When filing the bug, set the verbosity to 10 (on Linux, `export AUTOGRAPH_VERBOSITY=10`) and attach the full output. Cause: converting <bound method GenericNet.call of <network.generic_net.GenericNet object at 0x114db90da0>>: AssertionError: Bad argument number for Name: 3, expecting 4\n"
     ]
    },
    {
     "name": "stdout",
     "output_type": "stream",
     "text": [
      "WARNING: Entity <bound method GenericNet.call of <network.generic_net.GenericNet object at 0x114db90da0>> could not be transformed and will be executed as-is. Please report this to the AutgoGraph team. When filing the bug, set the verbosity to 10 (on Linux, `export AUTOGRAPH_VERBOSITY=10`) and attach the full output. Cause: converting <bound method GenericNet.call of <network.generic_net.GenericNet object at 0x114db90da0>>: AssertionError: Bad argument number for Name: 3, expecting 4\n",
      "WARNING:tensorflow:Entity <bound method FullNet.call of <network.network.FullNet object at 0x114db90978>> could not be transformed and will be executed as-is. Please report this to the AutgoGraph team. When filing the bug, set the verbosity to 10 (on Linux, `export AUTOGRAPH_VERBOSITY=10`) and attach the full output. Cause: converting <bound method FullNet.call of <network.network.FullNet object at 0x114db90978>>: AssertionError: Bad argument number for Name: 3, expecting 4\n"
     ]
    },
    {
     "name": "stderr",
     "output_type": "stream",
     "text": [
      "WARNING:tensorflow:Entity <bound method FullNet.call of <network.network.FullNet object at 0x114db90978>> could not be transformed and will be executed as-is. Please report this to the AutgoGraph team. When filing the bug, set the verbosity to 10 (on Linux, `export AUTOGRAPH_VERBOSITY=10`) and attach the full output. Cause: converting <bound method FullNet.call of <network.network.FullNet object at 0x114db90978>>: AssertionError: Bad argument number for Name: 3, expecting 4\n"
     ]
    },
    {
     "name": "stdout",
     "output_type": "stream",
     "text": [
      "WARNING: Entity <bound method FullNet.call of <network.network.FullNet object at 0x114db90978>> could not be transformed and will be executed as-is. Please report this to the AutgoGraph team. When filing the bug, set the verbosity to 10 (on Linux, `export AUTOGRAPH_VERBOSITY=10`) and attach the full output. Cause: converting <bound method FullNet.call of <network.network.FullNet object at 0x114db90978>>: AssertionError: Bad argument number for Name: 3, expecting 4\n",
      "WARNING:tensorflow:Entity <bound method GenericNet.call of <network.generic_net.GenericNet object at 0x114dbd7128>> could not be transformed and will be executed as-is. Please report this to the AutgoGraph team. When filing the bug, set the verbosity to 10 (on Linux, `export AUTOGRAPH_VERBOSITY=10`) and attach the full output. Cause: converting <bound method GenericNet.call of <network.generic_net.GenericNet object at 0x114dbd7128>>: AssertionError: Bad argument number for Name: 3, expecting 4\n"
     ]
    },
    {
     "name": "stderr",
     "output_type": "stream",
     "text": [
      "WARNING:tensorflow:Entity <bound method GenericNet.call of <network.generic_net.GenericNet object at 0x114dbd7128>> could not be transformed and will be executed as-is. Please report this to the AutgoGraph team. When filing the bug, set the verbosity to 10 (on Linux, `export AUTOGRAPH_VERBOSITY=10`) and attach the full output. Cause: converting <bound method GenericNet.call of <network.generic_net.GenericNet object at 0x114dbd7128>>: AssertionError: Bad argument number for Name: 3, expecting 4\n"
     ]
    },
    {
     "name": "stdout",
     "output_type": "stream",
     "text": [
      "WARNING: Entity <bound method GenericNet.call of <network.generic_net.GenericNet object at 0x114dbd7128>> could not be transformed and will be executed as-is. Please report this to the AutgoGraph team. When filing the bug, set the verbosity to 10 (on Linux, `export AUTOGRAPH_VERBOSITY=10`) and attach the full output. Cause: converting <bound method GenericNet.call of <network.generic_net.GenericNet object at 0x114dbd7128>>: AssertionError: Bad argument number for Name: 3, expecting 4\n",
      "WARNING:tensorflow:Entity <bound method FullNet.call of <network.network.FullNet object at 0x114db90978>> could not be transformed and will be executed as-is. Please report this to the AutgoGraph team. When filing the bug, set the verbosity to 10 (on Linux, `export AUTOGRAPH_VERBOSITY=10`) and attach the full output. Cause: converting <bound method FullNet.call of <network.network.FullNet object at 0x114db90978>>: AssertionError: Bad argument number for Name: 3, expecting 4\n"
     ]
    },
    {
     "name": "stderr",
     "output_type": "stream",
     "text": [
      "WARNING:tensorflow:Entity <bound method FullNet.call of <network.network.FullNet object at 0x114db90978>> could not be transformed and will be executed as-is. Please report this to the AutgoGraph team. When filing the bug, set the verbosity to 10 (on Linux, `export AUTOGRAPH_VERBOSITY=10`) and attach the full output. Cause: converting <bound method FullNet.call of <network.network.FullNet object at 0x114db90978>>: AssertionError: Bad argument number for Name: 3, expecting 4\n"
     ]
    },
    {
     "name": "stdout",
     "output_type": "stream",
     "text": [
      "WARNING: Entity <bound method FullNet.call of <network.network.FullNet object at 0x114db90978>> could not be transformed and will be executed as-is. Please report this to the AutgoGraph team. When filing the bug, set the verbosity to 10 (on Linux, `export AUTOGRAPH_VERBOSITY=10`) and attach the full output. Cause: converting <bound method FullNet.call of <network.network.FullNet object at 0x114db90978>>: AssertionError: Bad argument number for Name: 3, expecting 4\n",
      "WARNING:tensorflow:Entity <bound method GenericNet.call of <network.generic_net.GenericNet object at 0x114dbd7128>> could not be transformed and will be executed as-is. Please report this to the AutgoGraph team. When filing the bug, set the verbosity to 10 (on Linux, `export AUTOGRAPH_VERBOSITY=10`) and attach the full output. Cause: converting <bound method GenericNet.call of <network.generic_net.GenericNet object at 0x114dbd7128>>: AssertionError: Bad argument number for Name: 3, expecting 4\n"
     ]
    },
    {
     "name": "stderr",
     "output_type": "stream",
     "text": [
      "WARNING:tensorflow:Entity <bound method GenericNet.call of <network.generic_net.GenericNet object at 0x114dbd7128>> could not be transformed and will be executed as-is. Please report this to the AutgoGraph team. When filing the bug, set the verbosity to 10 (on Linux, `export AUTOGRAPH_VERBOSITY=10`) and attach the full output. Cause: converting <bound method GenericNet.call of <network.generic_net.GenericNet object at 0x114dbd7128>>: AssertionError: Bad argument number for Name: 3, expecting 4\n"
     ]
    },
    {
     "name": "stdout",
     "output_type": "stream",
     "text": [
      "WARNING: Entity <bound method GenericNet.call of <network.generic_net.GenericNet object at 0x114dbd7128>> could not be transformed and will be executed as-is. Please report this to the AutgoGraph team. When filing the bug, set the verbosity to 10 (on Linux, `export AUTOGRAPH_VERBOSITY=10`) and attach the full output. Cause: converting <bound method GenericNet.call of <network.generic_net.GenericNet object at 0x114dbd7128>>: AssertionError: Bad argument number for Name: 3, expecting 4\n",
      "WARNING:tensorflow:Entity <bound method FullNet.call of <network.network.FullNet object at 0x114db75278>> could not be transformed and will be executed as-is. Please report this to the AutgoGraph team. When filing the bug, set the verbosity to 10 (on Linux, `export AUTOGRAPH_VERBOSITY=10`) and attach the full output. Cause: converting <bound method FullNet.call of <network.network.FullNet object at 0x114db75278>>: AssertionError: Bad argument number for Name: 3, expecting 4\n"
     ]
    },
    {
     "name": "stderr",
     "output_type": "stream",
     "text": [
      "WARNING:tensorflow:Entity <bound method FullNet.call of <network.network.FullNet object at 0x114db75278>> could not be transformed and will be executed as-is. Please report this to the AutgoGraph team. When filing the bug, set the verbosity to 10 (on Linux, `export AUTOGRAPH_VERBOSITY=10`) and attach the full output. Cause: converting <bound method FullNet.call of <network.network.FullNet object at 0x114db75278>>: AssertionError: Bad argument number for Name: 3, expecting 4\n"
     ]
    },
    {
     "name": "stdout",
     "output_type": "stream",
     "text": [
      "WARNING: Entity <bound method FullNet.call of <network.network.FullNet object at 0x114db75278>> could not be transformed and will be executed as-is. Please report this to the AutgoGraph team. When filing the bug, set the verbosity to 10 (on Linux, `export AUTOGRAPH_VERBOSITY=10`) and attach the full output. Cause: converting <bound method FullNet.call of <network.network.FullNet object at 0x114db75278>>: AssertionError: Bad argument number for Name: 3, expecting 4\n",
      "WARNING:tensorflow:Entity <bound method GenericNet.call of <network.generic_net.GenericNet object at 0x114db90da0>> could not be transformed and will be executed as-is. Please report this to the AutgoGraph team. When filing the bug, set the verbosity to 10 (on Linux, `export AUTOGRAPH_VERBOSITY=10`) and attach the full output. Cause: converting <bound method GenericNet.call of <network.generic_net.GenericNet object at 0x114db90da0>>: AssertionError: Bad argument number for Name: 3, expecting 4\n"
     ]
    },
    {
     "name": "stderr",
     "output_type": "stream",
     "text": [
      "WARNING:tensorflow:Entity <bound method GenericNet.call of <network.generic_net.GenericNet object at 0x114db90da0>> could not be transformed and will be executed as-is. Please report this to the AutgoGraph team. When filing the bug, set the verbosity to 10 (on Linux, `export AUTOGRAPH_VERBOSITY=10`) and attach the full output. Cause: converting <bound method GenericNet.call of <network.generic_net.GenericNet object at 0x114db90da0>>: AssertionError: Bad argument number for Name: 3, expecting 4\n"
     ]
    },
    {
     "name": "stdout",
     "output_type": "stream",
     "text": [
      "WARNING: Entity <bound method GenericNet.call of <network.generic_net.GenericNet object at 0x114db90da0>> could not be transformed and will be executed as-is. Please report this to the AutgoGraph team. When filing the bug, set the verbosity to 10 (on Linux, `export AUTOGRAPH_VERBOSITY=10`) and attach the full output. Cause: converting <bound method GenericNet.call of <network.generic_net.GenericNet object at 0x114db90da0>>: AssertionError: Bad argument number for Name: 3, expecting 4\n",
      "WARNING:tensorflow:Entity <bound method FullNet.call of <network.network.FullNet object at 0x114db75278>> could not be transformed and will be executed as-is. Please report this to the AutgoGraph team. When filing the bug, set the verbosity to 10 (on Linux, `export AUTOGRAPH_VERBOSITY=10`) and attach the full output. Cause: converting <bound method FullNet.call of <network.network.FullNet object at 0x114db75278>>: AssertionError: Bad argument number for Name: 3, expecting 4\n"
     ]
    },
    {
     "name": "stderr",
     "output_type": "stream",
     "text": [
      "WARNING:tensorflow:Entity <bound method FullNet.call of <network.network.FullNet object at 0x114db75278>> could not be transformed and will be executed as-is. Please report this to the AutgoGraph team. When filing the bug, set the verbosity to 10 (on Linux, `export AUTOGRAPH_VERBOSITY=10`) and attach the full output. Cause: converting <bound method FullNet.call of <network.network.FullNet object at 0x114db75278>>: AssertionError: Bad argument number for Name: 3, expecting 4\n"
     ]
    },
    {
     "name": "stdout",
     "output_type": "stream",
     "text": [
      "WARNING: Entity <bound method FullNet.call of <network.network.FullNet object at 0x114db75278>> could not be transformed and will be executed as-is. Please report this to the AutgoGraph team. When filing the bug, set the verbosity to 10 (on Linux, `export AUTOGRAPH_VERBOSITY=10`) and attach the full output. Cause: converting <bound method FullNet.call of <network.network.FullNet object at 0x114db75278>>: AssertionError: Bad argument number for Name: 3, expecting 4\n",
      "WARNING:tensorflow:Entity <bound method GenericNet.call of <network.generic_net.GenericNet object at 0x114db90da0>> could not be transformed and will be executed as-is. Please report this to the AutgoGraph team. When filing the bug, set the verbosity to 10 (on Linux, `export AUTOGRAPH_VERBOSITY=10`) and attach the full output. Cause: converting <bound method GenericNet.call of <network.generic_net.GenericNet object at 0x114db90da0>>: AssertionError: Bad argument number for Name: 3, expecting 4\n"
     ]
    },
    {
     "name": "stderr",
     "output_type": "stream",
     "text": [
      "WARNING:tensorflow:Entity <bound method GenericNet.call of <network.generic_net.GenericNet object at 0x114db90da0>> could not be transformed and will be executed as-is. Please report this to the AutgoGraph team. When filing the bug, set the verbosity to 10 (on Linux, `export AUTOGRAPH_VERBOSITY=10`) and attach the full output. Cause: converting <bound method GenericNet.call of <network.generic_net.GenericNet object at 0x114db90da0>>: AssertionError: Bad argument number for Name: 3, expecting 4\n"
     ]
    },
    {
     "name": "stdout",
     "output_type": "stream",
     "text": [
      "WARNING: Entity <bound method GenericNet.call of <network.generic_net.GenericNet object at 0x114db90da0>> could not be transformed and will be executed as-is. Please report this to the AutgoGraph team. When filing the bug, set the verbosity to 10 (on Linux, `export AUTOGRAPH_VERBOSITY=10`) and attach the full output. Cause: converting <bound method GenericNet.call of <network.generic_net.GenericNet object at 0x114db90da0>>: AssertionError: Bad argument number for Name: 3, expecting 4\n",
      "WARNING:tensorflow:Entity <bound method FullNet.call of <network.network.FullNet object at 0x114db90978>> could not be transformed and will be executed as-is. Please report this to the AutgoGraph team. When filing the bug, set the verbosity to 10 (on Linux, `export AUTOGRAPH_VERBOSITY=10`) and attach the full output. Cause: converting <bound method FullNet.call of <network.network.FullNet object at 0x114db90978>>: AssertionError: Bad argument number for Name: 3, expecting 4\n"
     ]
    },
    {
     "name": "stderr",
     "output_type": "stream",
     "text": [
      "WARNING:tensorflow:Entity <bound method FullNet.call of <network.network.FullNet object at 0x114db90978>> could not be transformed and will be executed as-is. Please report this to the AutgoGraph team. When filing the bug, set the verbosity to 10 (on Linux, `export AUTOGRAPH_VERBOSITY=10`) and attach the full output. Cause: converting <bound method FullNet.call of <network.network.FullNet object at 0x114db90978>>: AssertionError: Bad argument number for Name: 3, expecting 4\n"
     ]
    },
    {
     "name": "stdout",
     "output_type": "stream",
     "text": [
      "WARNING: Entity <bound method FullNet.call of <network.network.FullNet object at 0x114db90978>> could not be transformed and will be executed as-is. Please report this to the AutgoGraph team. When filing the bug, set the verbosity to 10 (on Linux, `export AUTOGRAPH_VERBOSITY=10`) and attach the full output. Cause: converting <bound method FullNet.call of <network.network.FullNet object at 0x114db90978>>: AssertionError: Bad argument number for Name: 3, expecting 4\n",
      "WARNING:tensorflow:Entity <bound method GenericNet.call of <network.generic_net.GenericNet object at 0x114dbd7128>> could not be transformed and will be executed as-is. Please report this to the AutgoGraph team. When filing the bug, set the verbosity to 10 (on Linux, `export AUTOGRAPH_VERBOSITY=10`) and attach the full output. Cause: converting <bound method GenericNet.call of <network.generic_net.GenericNet object at 0x114dbd7128>>: AssertionError: Bad argument number for Name: 3, expecting 4\n"
     ]
    },
    {
     "name": "stderr",
     "output_type": "stream",
     "text": [
      "WARNING:tensorflow:Entity <bound method GenericNet.call of <network.generic_net.GenericNet object at 0x114dbd7128>> could not be transformed and will be executed as-is. Please report this to the AutgoGraph team. When filing the bug, set the verbosity to 10 (on Linux, `export AUTOGRAPH_VERBOSITY=10`) and attach the full output. Cause: converting <bound method GenericNet.call of <network.generic_net.GenericNet object at 0x114dbd7128>>: AssertionError: Bad argument number for Name: 3, expecting 4\n"
     ]
    },
    {
     "name": "stdout",
     "output_type": "stream",
     "text": [
      "WARNING: Entity <bound method GenericNet.call of <network.generic_net.GenericNet object at 0x114dbd7128>> could not be transformed and will be executed as-is. Please report this to the AutgoGraph team. When filing the bug, set the verbosity to 10 (on Linux, `export AUTOGRAPH_VERBOSITY=10`) and attach the full output. Cause: converting <bound method GenericNet.call of <network.generic_net.GenericNet object at 0x114dbd7128>>: AssertionError: Bad argument number for Name: 3, expecting 4\n",
      "WARNING:tensorflow:Entity <bound method FullNet.call of <network.network.FullNet object at 0x114db90978>> could not be transformed and will be executed as-is. Please report this to the AutgoGraph team. When filing the bug, set the verbosity to 10 (on Linux, `export AUTOGRAPH_VERBOSITY=10`) and attach the full output. Cause: converting <bound method FullNet.call of <network.network.FullNet object at 0x114db90978>>: AssertionError: Bad argument number for Name: 3, expecting 4\n"
     ]
    },
    {
     "name": "stderr",
     "output_type": "stream",
     "text": [
      "WARNING:tensorflow:Entity <bound method FullNet.call of <network.network.FullNet object at 0x114db90978>> could not be transformed and will be executed as-is. Please report this to the AutgoGraph team. When filing the bug, set the verbosity to 10 (on Linux, `export AUTOGRAPH_VERBOSITY=10`) and attach the full output. Cause: converting <bound method FullNet.call of <network.network.FullNet object at 0x114db90978>>: AssertionError: Bad argument number for Name: 3, expecting 4\n"
     ]
    },
    {
     "name": "stdout",
     "output_type": "stream",
     "text": [
      "WARNING: Entity <bound method FullNet.call of <network.network.FullNet object at 0x114db90978>> could not be transformed and will be executed as-is. Please report this to the AutgoGraph team. When filing the bug, set the verbosity to 10 (on Linux, `export AUTOGRAPH_VERBOSITY=10`) and attach the full output. Cause: converting <bound method FullNet.call of <network.network.FullNet object at 0x114db90978>>: AssertionError: Bad argument number for Name: 3, expecting 4\n",
      "WARNING:tensorflow:Entity <bound method GenericNet.call of <network.generic_net.GenericNet object at 0x114dbd7128>> could not be transformed and will be executed as-is. Please report this to the AutgoGraph team. When filing the bug, set the verbosity to 10 (on Linux, `export AUTOGRAPH_VERBOSITY=10`) and attach the full output. Cause: converting <bound method GenericNet.call of <network.generic_net.GenericNet object at 0x114dbd7128>>: AssertionError: Bad argument number for Name: 3, expecting 4\n"
     ]
    },
    {
     "name": "stderr",
     "output_type": "stream",
     "text": [
      "WARNING:tensorflow:Entity <bound method GenericNet.call of <network.generic_net.GenericNet object at 0x114dbd7128>> could not be transformed and will be executed as-is. Please report this to the AutgoGraph team. When filing the bug, set the verbosity to 10 (on Linux, `export AUTOGRAPH_VERBOSITY=10`) and attach the full output. Cause: converting <bound method GenericNet.call of <network.generic_net.GenericNet object at 0x114dbd7128>>: AssertionError: Bad argument number for Name: 3, expecting 4\n"
     ]
    },
    {
     "name": "stdout",
     "output_type": "stream",
     "text": [
      "WARNING: Entity <bound method GenericNet.call of <network.generic_net.GenericNet object at 0x114dbd7128>> could not be transformed and will be executed as-is. Please report this to the AutgoGraph team. When filing the bug, set the verbosity to 10 (on Linux, `export AUTOGRAPH_VERBOSITY=10`) and attach the full output. Cause: converting <bound method GenericNet.call of <network.generic_net.GenericNet object at 0x114dbd7128>>: AssertionError: Bad argument number for Name: 3, expecting 4\n",
      "WARNING:tensorflow:Entity <bound method FullNet.call of <network.network.FullNet object at 0x114db75278>> could not be transformed and will be executed as-is. Please report this to the AutgoGraph team. When filing the bug, set the verbosity to 10 (on Linux, `export AUTOGRAPH_VERBOSITY=10`) and attach the full output. Cause: converting <bound method FullNet.call of <network.network.FullNet object at 0x114db75278>>: AssertionError: Bad argument number for Name: 3, expecting 4\n"
     ]
    },
    {
     "name": "stderr",
     "output_type": "stream",
     "text": [
      "WARNING:tensorflow:Entity <bound method FullNet.call of <network.network.FullNet object at 0x114db75278>> could not be transformed and will be executed as-is. Please report this to the AutgoGraph team. When filing the bug, set the verbosity to 10 (on Linux, `export AUTOGRAPH_VERBOSITY=10`) and attach the full output. Cause: converting <bound method FullNet.call of <network.network.FullNet object at 0x114db75278>>: AssertionError: Bad argument number for Name: 3, expecting 4\n"
     ]
    },
    {
     "name": "stdout",
     "output_type": "stream",
     "text": [
      "WARNING: Entity <bound method FullNet.call of <network.network.FullNet object at 0x114db75278>> could not be transformed and will be executed as-is. Please report this to the AutgoGraph team. When filing the bug, set the verbosity to 10 (on Linux, `export AUTOGRAPH_VERBOSITY=10`) and attach the full output. Cause: converting <bound method FullNet.call of <network.network.FullNet object at 0x114db75278>>: AssertionError: Bad argument number for Name: 3, expecting 4\n",
      "WARNING:tensorflow:Entity <bound method GenericNet.call of <network.generic_net.GenericNet object at 0x114db90da0>> could not be transformed and will be executed as-is. Please report this to the AutgoGraph team. When filing the bug, set the verbosity to 10 (on Linux, `export AUTOGRAPH_VERBOSITY=10`) and attach the full output. Cause: converting <bound method GenericNet.call of <network.generic_net.GenericNet object at 0x114db90da0>>: AssertionError: Bad argument number for Name: 3, expecting 4\n"
     ]
    },
    {
     "name": "stderr",
     "output_type": "stream",
     "text": [
      "WARNING:tensorflow:Entity <bound method GenericNet.call of <network.generic_net.GenericNet object at 0x114db90da0>> could not be transformed and will be executed as-is. Please report this to the AutgoGraph team. When filing the bug, set the verbosity to 10 (on Linux, `export AUTOGRAPH_VERBOSITY=10`) and attach the full output. Cause: converting <bound method GenericNet.call of <network.generic_net.GenericNet object at 0x114db90da0>>: AssertionError: Bad argument number for Name: 3, expecting 4\n"
     ]
    },
    {
     "name": "stdout",
     "output_type": "stream",
     "text": [
      "WARNING: Entity <bound method GenericNet.call of <network.generic_net.GenericNet object at 0x114db90da0>> could not be transformed and will be executed as-is. Please report this to the AutgoGraph team. When filing the bug, set the verbosity to 10 (on Linux, `export AUTOGRAPH_VERBOSITY=10`) and attach the full output. Cause: converting <bound method GenericNet.call of <network.generic_net.GenericNet object at 0x114db90da0>>: AssertionError: Bad argument number for Name: 3, expecting 4\n",
      "WARNING:tensorflow:Entity <bound method FullNet.call of <network.network.FullNet object at 0x114db75278>> could not be transformed and will be executed as-is. Please report this to the AutgoGraph team. When filing the bug, set the verbosity to 10 (on Linux, `export AUTOGRAPH_VERBOSITY=10`) and attach the full output. Cause: converting <bound method FullNet.call of <network.network.FullNet object at 0x114db75278>>: AssertionError: Bad argument number for Name: 3, expecting 4\n"
     ]
    },
    {
     "name": "stderr",
     "output_type": "stream",
     "text": [
      "WARNING:tensorflow:Entity <bound method FullNet.call of <network.network.FullNet object at 0x114db75278>> could not be transformed and will be executed as-is. Please report this to the AutgoGraph team. When filing the bug, set the verbosity to 10 (on Linux, `export AUTOGRAPH_VERBOSITY=10`) and attach the full output. Cause: converting <bound method FullNet.call of <network.network.FullNet object at 0x114db75278>>: AssertionError: Bad argument number for Name: 3, expecting 4\n"
     ]
    },
    {
     "name": "stdout",
     "output_type": "stream",
     "text": [
      "WARNING: Entity <bound method FullNet.call of <network.network.FullNet object at 0x114db75278>> could not be transformed and will be executed as-is. Please report this to the AutgoGraph team. When filing the bug, set the verbosity to 10 (on Linux, `export AUTOGRAPH_VERBOSITY=10`) and attach the full output. Cause: converting <bound method FullNet.call of <network.network.FullNet object at 0x114db75278>>: AssertionError: Bad argument number for Name: 3, expecting 4\n",
      "WARNING:tensorflow:Entity <bound method GenericNet.call of <network.generic_net.GenericNet object at 0x114db90da0>> could not be transformed and will be executed as-is. Please report this to the AutgoGraph team. When filing the bug, set the verbosity to 10 (on Linux, `export AUTOGRAPH_VERBOSITY=10`) and attach the full output. Cause: converting <bound method GenericNet.call of <network.generic_net.GenericNet object at 0x114db90da0>>: AssertionError: Bad argument number for Name: 3, expecting 4\n"
     ]
    },
    {
     "name": "stderr",
     "output_type": "stream",
     "text": [
      "WARNING:tensorflow:Entity <bound method GenericNet.call of <network.generic_net.GenericNet object at 0x114db90da0>> could not be transformed and will be executed as-is. Please report this to the AutgoGraph team. When filing the bug, set the verbosity to 10 (on Linux, `export AUTOGRAPH_VERBOSITY=10`) and attach the full output. Cause: converting <bound method GenericNet.call of <network.generic_net.GenericNet object at 0x114db90da0>>: AssertionError: Bad argument number for Name: 3, expecting 4\n"
     ]
    },
    {
     "name": "stdout",
     "output_type": "stream",
     "text": [
      "WARNING: Entity <bound method GenericNet.call of <network.generic_net.GenericNet object at 0x114db90da0>> could not be transformed and will be executed as-is. Please report this to the AutgoGraph team. When filing the bug, set the verbosity to 10 (on Linux, `export AUTOGRAPH_VERBOSITY=10`) and attach the full output. Cause: converting <bound method GenericNet.call of <network.generic_net.GenericNet object at 0x114db90da0>>: AssertionError: Bad argument number for Name: 3, expecting 4\n",
      "WARNING:tensorflow:Entity <bound method FullNet.call of <network.network.FullNet object at 0x114db90978>> could not be transformed and will be executed as-is. Please report this to the AutgoGraph team. When filing the bug, set the verbosity to 10 (on Linux, `export AUTOGRAPH_VERBOSITY=10`) and attach the full output. Cause: converting <bound method FullNet.call of <network.network.FullNet object at 0x114db90978>>: AssertionError: Bad argument number for Name: 3, expecting 4\n"
     ]
    },
    {
     "name": "stderr",
     "output_type": "stream",
     "text": [
      "WARNING:tensorflow:Entity <bound method FullNet.call of <network.network.FullNet object at 0x114db90978>> could not be transformed and will be executed as-is. Please report this to the AutgoGraph team. When filing the bug, set the verbosity to 10 (on Linux, `export AUTOGRAPH_VERBOSITY=10`) and attach the full output. Cause: converting <bound method FullNet.call of <network.network.FullNet object at 0x114db90978>>: AssertionError: Bad argument number for Name: 3, expecting 4\n"
     ]
    },
    {
     "name": "stdout",
     "output_type": "stream",
     "text": [
      "WARNING: Entity <bound method FullNet.call of <network.network.FullNet object at 0x114db90978>> could not be transformed and will be executed as-is. Please report this to the AutgoGraph team. When filing the bug, set the verbosity to 10 (on Linux, `export AUTOGRAPH_VERBOSITY=10`) and attach the full output. Cause: converting <bound method FullNet.call of <network.network.FullNet object at 0x114db90978>>: AssertionError: Bad argument number for Name: 3, expecting 4\n",
      "WARNING:tensorflow:Entity <bound method GenericNet.call of <network.generic_net.GenericNet object at 0x114dbd7128>> could not be transformed and will be executed as-is. Please report this to the AutgoGraph team. When filing the bug, set the verbosity to 10 (on Linux, `export AUTOGRAPH_VERBOSITY=10`) and attach the full output. Cause: converting <bound method GenericNet.call of <network.generic_net.GenericNet object at 0x114dbd7128>>: AssertionError: Bad argument number for Name: 3, expecting 4\n"
     ]
    },
    {
     "name": "stderr",
     "output_type": "stream",
     "text": [
      "WARNING:tensorflow:Entity <bound method GenericNet.call of <network.generic_net.GenericNet object at 0x114dbd7128>> could not be transformed and will be executed as-is. Please report this to the AutgoGraph team. When filing the bug, set the verbosity to 10 (on Linux, `export AUTOGRAPH_VERBOSITY=10`) and attach the full output. Cause: converting <bound method GenericNet.call of <network.generic_net.GenericNet object at 0x114dbd7128>>: AssertionError: Bad argument number for Name: 3, expecting 4\n"
     ]
    },
    {
     "name": "stdout",
     "output_type": "stream",
     "text": [
      "WARNING: Entity <bound method GenericNet.call of <network.generic_net.GenericNet object at 0x114dbd7128>> could not be transformed and will be executed as-is. Please report this to the AutgoGraph team. When filing the bug, set the verbosity to 10 (on Linux, `export AUTOGRAPH_VERBOSITY=10`) and attach the full output. Cause: converting <bound method GenericNet.call of <network.generic_net.GenericNet object at 0x114dbd7128>>: AssertionError: Bad argument number for Name: 3, expecting 4\n",
      "WARNING:tensorflow:Entity <bound method FullNet.call of <network.network.FullNet object at 0x114db90978>> could not be transformed and will be executed as-is. Please report this to the AutgoGraph team. When filing the bug, set the verbosity to 10 (on Linux, `export AUTOGRAPH_VERBOSITY=10`) and attach the full output. Cause: converting <bound method FullNet.call of <network.network.FullNet object at 0x114db90978>>: AssertionError: Bad argument number for Name: 3, expecting 4\n"
     ]
    },
    {
     "name": "stderr",
     "output_type": "stream",
     "text": [
      "WARNING:tensorflow:Entity <bound method FullNet.call of <network.network.FullNet object at 0x114db90978>> could not be transformed and will be executed as-is. Please report this to the AutgoGraph team. When filing the bug, set the verbosity to 10 (on Linux, `export AUTOGRAPH_VERBOSITY=10`) and attach the full output. Cause: converting <bound method FullNet.call of <network.network.FullNet object at 0x114db90978>>: AssertionError: Bad argument number for Name: 3, expecting 4\n"
     ]
    },
    {
     "name": "stdout",
     "output_type": "stream",
     "text": [
      "WARNING: Entity <bound method FullNet.call of <network.network.FullNet object at 0x114db90978>> could not be transformed and will be executed as-is. Please report this to the AutgoGraph team. When filing the bug, set the verbosity to 10 (on Linux, `export AUTOGRAPH_VERBOSITY=10`) and attach the full output. Cause: converting <bound method FullNet.call of <network.network.FullNet object at 0x114db90978>>: AssertionError: Bad argument number for Name: 3, expecting 4\n",
      "WARNING:tensorflow:Entity <bound method GenericNet.call of <network.generic_net.GenericNet object at 0x114dbd7128>> could not be transformed and will be executed as-is. Please report this to the AutgoGraph team. When filing the bug, set the verbosity to 10 (on Linux, `export AUTOGRAPH_VERBOSITY=10`) and attach the full output. Cause: converting <bound method GenericNet.call of <network.generic_net.GenericNet object at 0x114dbd7128>>: AssertionError: Bad argument number for Name: 3, expecting 4\n"
     ]
    },
    {
     "name": "stderr",
     "output_type": "stream",
     "text": [
      "WARNING:tensorflow:Entity <bound method GenericNet.call of <network.generic_net.GenericNet object at 0x114dbd7128>> could not be transformed and will be executed as-is. Please report this to the AutgoGraph team. When filing the bug, set the verbosity to 10 (on Linux, `export AUTOGRAPH_VERBOSITY=10`) and attach the full output. Cause: converting <bound method GenericNet.call of <network.generic_net.GenericNet object at 0x114dbd7128>>: AssertionError: Bad argument number for Name: 3, expecting 4\n"
     ]
    },
    {
     "name": "stdout",
     "output_type": "stream",
     "text": [
      "WARNING: Entity <bound method GenericNet.call of <network.generic_net.GenericNet object at 0x114dbd7128>> could not be transformed and will be executed as-is. Please report this to the AutgoGraph team. When filing the bug, set the verbosity to 10 (on Linux, `export AUTOGRAPH_VERBOSITY=10`) and attach the full output. Cause: converting <bound method GenericNet.call of <network.generic_net.GenericNet object at 0x114dbd7128>>: AssertionError: Bad argument number for Name: 3, expecting 4\n",
      "WARNING:tensorflow:Entity <bound method FullNet.call of <network.network.FullNet object at 0x114db75278>> could not be transformed and will be executed as-is. Please report this to the AutgoGraph team. When filing the bug, set the verbosity to 10 (on Linux, `export AUTOGRAPH_VERBOSITY=10`) and attach the full output. Cause: converting <bound method FullNet.call of <network.network.FullNet object at 0x114db75278>>: AssertionError: Bad argument number for Name: 3, expecting 4\n"
     ]
    },
    {
     "name": "stderr",
     "output_type": "stream",
     "text": [
      "WARNING:tensorflow:Entity <bound method FullNet.call of <network.network.FullNet object at 0x114db75278>> could not be transformed and will be executed as-is. Please report this to the AutgoGraph team. When filing the bug, set the verbosity to 10 (on Linux, `export AUTOGRAPH_VERBOSITY=10`) and attach the full output. Cause: converting <bound method FullNet.call of <network.network.FullNet object at 0x114db75278>>: AssertionError: Bad argument number for Name: 3, expecting 4\n"
     ]
    },
    {
     "name": "stdout",
     "output_type": "stream",
     "text": [
      "WARNING: Entity <bound method FullNet.call of <network.network.FullNet object at 0x114db75278>> could not be transformed and will be executed as-is. Please report this to the AutgoGraph team. When filing the bug, set the verbosity to 10 (on Linux, `export AUTOGRAPH_VERBOSITY=10`) and attach the full output. Cause: converting <bound method FullNet.call of <network.network.FullNet object at 0x114db75278>>: AssertionError: Bad argument number for Name: 3, expecting 4\n",
      "WARNING:tensorflow:Entity <bound method GenericNet.call of <network.generic_net.GenericNet object at 0x114db90da0>> could not be transformed and will be executed as-is. Please report this to the AutgoGraph team. When filing the bug, set the verbosity to 10 (on Linux, `export AUTOGRAPH_VERBOSITY=10`) and attach the full output. Cause: converting <bound method GenericNet.call of <network.generic_net.GenericNet object at 0x114db90da0>>: AssertionError: Bad argument number for Name: 3, expecting 4\n"
     ]
    },
    {
     "name": "stderr",
     "output_type": "stream",
     "text": [
      "WARNING:tensorflow:Entity <bound method GenericNet.call of <network.generic_net.GenericNet object at 0x114db90da0>> could not be transformed and will be executed as-is. Please report this to the AutgoGraph team. When filing the bug, set the verbosity to 10 (on Linux, `export AUTOGRAPH_VERBOSITY=10`) and attach the full output. Cause: converting <bound method GenericNet.call of <network.generic_net.GenericNet object at 0x114db90da0>>: AssertionError: Bad argument number for Name: 3, expecting 4\n"
     ]
    },
    {
     "name": "stdout",
     "output_type": "stream",
     "text": [
      "WARNING: Entity <bound method GenericNet.call of <network.generic_net.GenericNet object at 0x114db90da0>> could not be transformed and will be executed as-is. Please report this to the AutgoGraph team. When filing the bug, set the verbosity to 10 (on Linux, `export AUTOGRAPH_VERBOSITY=10`) and attach the full output. Cause: converting <bound method GenericNet.call of <network.generic_net.GenericNet object at 0x114db90da0>>: AssertionError: Bad argument number for Name: 3, expecting 4\n",
      "WARNING:tensorflow:Entity <bound method FullNet.call of <network.network.FullNet object at 0x114db75278>> could not be transformed and will be executed as-is. Please report this to the AutgoGraph team. When filing the bug, set the verbosity to 10 (on Linux, `export AUTOGRAPH_VERBOSITY=10`) and attach the full output. Cause: converting <bound method FullNet.call of <network.network.FullNet object at 0x114db75278>>: AssertionError: Bad argument number for Name: 3, expecting 4\n"
     ]
    },
    {
     "name": "stderr",
     "output_type": "stream",
     "text": [
      "WARNING:tensorflow:Entity <bound method FullNet.call of <network.network.FullNet object at 0x114db75278>> could not be transformed and will be executed as-is. Please report this to the AutgoGraph team. When filing the bug, set the verbosity to 10 (on Linux, `export AUTOGRAPH_VERBOSITY=10`) and attach the full output. Cause: converting <bound method FullNet.call of <network.network.FullNet object at 0x114db75278>>: AssertionError: Bad argument number for Name: 3, expecting 4\n"
     ]
    },
    {
     "name": "stdout",
     "output_type": "stream",
     "text": [
      "WARNING: Entity <bound method FullNet.call of <network.network.FullNet object at 0x114db75278>> could not be transformed and will be executed as-is. Please report this to the AutgoGraph team. When filing the bug, set the verbosity to 10 (on Linux, `export AUTOGRAPH_VERBOSITY=10`) and attach the full output. Cause: converting <bound method FullNet.call of <network.network.FullNet object at 0x114db75278>>: AssertionError: Bad argument number for Name: 3, expecting 4\n",
      "WARNING:tensorflow:Entity <bound method GenericNet.call of <network.generic_net.GenericNet object at 0x114db90da0>> could not be transformed and will be executed as-is. Please report this to the AutgoGraph team. When filing the bug, set the verbosity to 10 (on Linux, `export AUTOGRAPH_VERBOSITY=10`) and attach the full output. Cause: converting <bound method GenericNet.call of <network.generic_net.GenericNet object at 0x114db90da0>>: AssertionError: Bad argument number for Name: 3, expecting 4\n"
     ]
    },
    {
     "name": "stderr",
     "output_type": "stream",
     "text": [
      "WARNING:tensorflow:Entity <bound method GenericNet.call of <network.generic_net.GenericNet object at 0x114db90da0>> could not be transformed and will be executed as-is. Please report this to the AutgoGraph team. When filing the bug, set the verbosity to 10 (on Linux, `export AUTOGRAPH_VERBOSITY=10`) and attach the full output. Cause: converting <bound method GenericNet.call of <network.generic_net.GenericNet object at 0x114db90da0>>: AssertionError: Bad argument number for Name: 3, expecting 4\n"
     ]
    },
    {
     "name": "stdout",
     "output_type": "stream",
     "text": [
      "WARNING: Entity <bound method GenericNet.call of <network.generic_net.GenericNet object at 0x114db90da0>> could not be transformed and will be executed as-is. Please report this to the AutgoGraph team. When filing the bug, set the verbosity to 10 (on Linux, `export AUTOGRAPH_VERBOSITY=10`) and attach the full output. Cause: converting <bound method GenericNet.call of <network.generic_net.GenericNet object at 0x114db90da0>>: AssertionError: Bad argument number for Name: 3, expecting 4\n",
      "WARNING:tensorflow:Entity <bound method FullNet.call of <network.network.FullNet object at 0x114db90978>> could not be transformed and will be executed as-is. Please report this to the AutgoGraph team. When filing the bug, set the verbosity to 10 (on Linux, `export AUTOGRAPH_VERBOSITY=10`) and attach the full output. Cause: converting <bound method FullNet.call of <network.network.FullNet object at 0x114db90978>>: AssertionError: Bad argument number for Name: 3, expecting 4\n"
     ]
    },
    {
     "name": "stderr",
     "output_type": "stream",
     "text": [
      "WARNING:tensorflow:Entity <bound method FullNet.call of <network.network.FullNet object at 0x114db90978>> could not be transformed and will be executed as-is. Please report this to the AutgoGraph team. When filing the bug, set the verbosity to 10 (on Linux, `export AUTOGRAPH_VERBOSITY=10`) and attach the full output. Cause: converting <bound method FullNet.call of <network.network.FullNet object at 0x114db90978>>: AssertionError: Bad argument number for Name: 3, expecting 4\n"
     ]
    },
    {
     "name": "stdout",
     "output_type": "stream",
     "text": [
      "WARNING: Entity <bound method FullNet.call of <network.network.FullNet object at 0x114db90978>> could not be transformed and will be executed as-is. Please report this to the AutgoGraph team. When filing the bug, set the verbosity to 10 (on Linux, `export AUTOGRAPH_VERBOSITY=10`) and attach the full output. Cause: converting <bound method FullNet.call of <network.network.FullNet object at 0x114db90978>>: AssertionError: Bad argument number for Name: 3, expecting 4\n",
      "WARNING:tensorflow:Entity <bound method GenericNet.call of <network.generic_net.GenericNet object at 0x114dbd7128>> could not be transformed and will be executed as-is. Please report this to the AutgoGraph team. When filing the bug, set the verbosity to 10 (on Linux, `export AUTOGRAPH_VERBOSITY=10`) and attach the full output. Cause: converting <bound method GenericNet.call of <network.generic_net.GenericNet object at 0x114dbd7128>>: AssertionError: Bad argument number for Name: 3, expecting 4\n"
     ]
    },
    {
     "name": "stderr",
     "output_type": "stream",
     "text": [
      "WARNING:tensorflow:Entity <bound method GenericNet.call of <network.generic_net.GenericNet object at 0x114dbd7128>> could not be transformed and will be executed as-is. Please report this to the AutgoGraph team. When filing the bug, set the verbosity to 10 (on Linux, `export AUTOGRAPH_VERBOSITY=10`) and attach the full output. Cause: converting <bound method GenericNet.call of <network.generic_net.GenericNet object at 0x114dbd7128>>: AssertionError: Bad argument number for Name: 3, expecting 4\n"
     ]
    },
    {
     "name": "stdout",
     "output_type": "stream",
     "text": [
      "WARNING: Entity <bound method GenericNet.call of <network.generic_net.GenericNet object at 0x114dbd7128>> could not be transformed and will be executed as-is. Please report this to the AutgoGraph team. When filing the bug, set the verbosity to 10 (on Linux, `export AUTOGRAPH_VERBOSITY=10`) and attach the full output. Cause: converting <bound method GenericNet.call of <network.generic_net.GenericNet object at 0x114dbd7128>>: AssertionError: Bad argument number for Name: 3, expecting 4\n",
      "WARNING:tensorflow:Entity <bound method FullNet.call of <network.network.FullNet object at 0x114db90978>> could not be transformed and will be executed as-is. Please report this to the AutgoGraph team. When filing the bug, set the verbosity to 10 (on Linux, `export AUTOGRAPH_VERBOSITY=10`) and attach the full output. Cause: converting <bound method FullNet.call of <network.network.FullNet object at 0x114db90978>>: AssertionError: Bad argument number for Name: 3, expecting 4\n"
     ]
    },
    {
     "name": "stderr",
     "output_type": "stream",
     "text": [
      "WARNING:tensorflow:Entity <bound method FullNet.call of <network.network.FullNet object at 0x114db90978>> could not be transformed and will be executed as-is. Please report this to the AutgoGraph team. When filing the bug, set the verbosity to 10 (on Linux, `export AUTOGRAPH_VERBOSITY=10`) and attach the full output. Cause: converting <bound method FullNet.call of <network.network.FullNet object at 0x114db90978>>: AssertionError: Bad argument number for Name: 3, expecting 4\n"
     ]
    },
    {
     "name": "stdout",
     "output_type": "stream",
     "text": [
      "WARNING: Entity <bound method FullNet.call of <network.network.FullNet object at 0x114db90978>> could not be transformed and will be executed as-is. Please report this to the AutgoGraph team. When filing the bug, set the verbosity to 10 (on Linux, `export AUTOGRAPH_VERBOSITY=10`) and attach the full output. Cause: converting <bound method FullNet.call of <network.network.FullNet object at 0x114db90978>>: AssertionError: Bad argument number for Name: 3, expecting 4\n",
      "WARNING:tensorflow:Entity <bound method GenericNet.call of <network.generic_net.GenericNet object at 0x114dbd7128>> could not be transformed and will be executed as-is. Please report this to the AutgoGraph team. When filing the bug, set the verbosity to 10 (on Linux, `export AUTOGRAPH_VERBOSITY=10`) and attach the full output. Cause: converting <bound method GenericNet.call of <network.generic_net.GenericNet object at 0x114dbd7128>>: AssertionError: Bad argument number for Name: 3, expecting 4\n"
     ]
    },
    {
     "name": "stderr",
     "output_type": "stream",
     "text": [
      "WARNING:tensorflow:Entity <bound method GenericNet.call of <network.generic_net.GenericNet object at 0x114dbd7128>> could not be transformed and will be executed as-is. Please report this to the AutgoGraph team. When filing the bug, set the verbosity to 10 (on Linux, `export AUTOGRAPH_VERBOSITY=10`) and attach the full output. Cause: converting <bound method GenericNet.call of <network.generic_net.GenericNet object at 0x114dbd7128>>: AssertionError: Bad argument number for Name: 3, expecting 4\n"
     ]
    },
    {
     "name": "stdout",
     "output_type": "stream",
     "text": [
      "WARNING: Entity <bound method GenericNet.call of <network.generic_net.GenericNet object at 0x114dbd7128>> could not be transformed and will be executed as-is. Please report this to the AutgoGraph team. When filing the bug, set the verbosity to 10 (on Linux, `export AUTOGRAPH_VERBOSITY=10`) and attach the full output. Cause: converting <bound method GenericNet.call of <network.generic_net.GenericNet object at 0x114dbd7128>>: AssertionError: Bad argument number for Name: 3, expecting 4\n",
      "WARNING:tensorflow:Entity <bound method FullNet.call of <network.network.FullNet object at 0x114db75278>> could not be transformed and will be executed as-is. Please report this to the AutgoGraph team. When filing the bug, set the verbosity to 10 (on Linux, `export AUTOGRAPH_VERBOSITY=10`) and attach the full output. Cause: converting <bound method FullNet.call of <network.network.FullNet object at 0x114db75278>>: AssertionError: Bad argument number for Name: 3, expecting 4\n"
     ]
    },
    {
     "name": "stderr",
     "output_type": "stream",
     "text": [
      "WARNING:tensorflow:Entity <bound method FullNet.call of <network.network.FullNet object at 0x114db75278>> could not be transformed and will be executed as-is. Please report this to the AutgoGraph team. When filing the bug, set the verbosity to 10 (on Linux, `export AUTOGRAPH_VERBOSITY=10`) and attach the full output. Cause: converting <bound method FullNet.call of <network.network.FullNet object at 0x114db75278>>: AssertionError: Bad argument number for Name: 3, expecting 4\n"
     ]
    },
    {
     "name": "stdout",
     "output_type": "stream",
     "text": [
      "WARNING: Entity <bound method FullNet.call of <network.network.FullNet object at 0x114db75278>> could not be transformed and will be executed as-is. Please report this to the AutgoGraph team. When filing the bug, set the verbosity to 10 (on Linux, `export AUTOGRAPH_VERBOSITY=10`) and attach the full output. Cause: converting <bound method FullNet.call of <network.network.FullNet object at 0x114db75278>>: AssertionError: Bad argument number for Name: 3, expecting 4\n",
      "WARNING:tensorflow:Entity <bound method GenericNet.call of <network.generic_net.GenericNet object at 0x114db90da0>> could not be transformed and will be executed as-is. Please report this to the AutgoGraph team. When filing the bug, set the verbosity to 10 (on Linux, `export AUTOGRAPH_VERBOSITY=10`) and attach the full output. Cause: converting <bound method GenericNet.call of <network.generic_net.GenericNet object at 0x114db90da0>>: AssertionError: Bad argument number for Name: 3, expecting 4\n"
     ]
    },
    {
     "name": "stderr",
     "output_type": "stream",
     "text": [
      "WARNING:tensorflow:Entity <bound method GenericNet.call of <network.generic_net.GenericNet object at 0x114db90da0>> could not be transformed and will be executed as-is. Please report this to the AutgoGraph team. When filing the bug, set the verbosity to 10 (on Linux, `export AUTOGRAPH_VERBOSITY=10`) and attach the full output. Cause: converting <bound method GenericNet.call of <network.generic_net.GenericNet object at 0x114db90da0>>: AssertionError: Bad argument number for Name: 3, expecting 4\n"
     ]
    },
    {
     "name": "stdout",
     "output_type": "stream",
     "text": [
      "WARNING: Entity <bound method GenericNet.call of <network.generic_net.GenericNet object at 0x114db90da0>> could not be transformed and will be executed as-is. Please report this to the AutgoGraph team. When filing the bug, set the verbosity to 10 (on Linux, `export AUTOGRAPH_VERBOSITY=10`) and attach the full output. Cause: converting <bound method GenericNet.call of <network.generic_net.GenericNet object at 0x114db90da0>>: AssertionError: Bad argument number for Name: 3, expecting 4\n",
      "WARNING:tensorflow:Entity <bound method FullNet.call of <network.network.FullNet object at 0x114db75278>> could not be transformed and will be executed as-is. Please report this to the AutgoGraph team. When filing the bug, set the verbosity to 10 (on Linux, `export AUTOGRAPH_VERBOSITY=10`) and attach the full output. Cause: converting <bound method FullNet.call of <network.network.FullNet object at 0x114db75278>>: AssertionError: Bad argument number for Name: 3, expecting 4\n"
     ]
    },
    {
     "name": "stderr",
     "output_type": "stream",
     "text": [
      "WARNING:tensorflow:Entity <bound method FullNet.call of <network.network.FullNet object at 0x114db75278>> could not be transformed and will be executed as-is. Please report this to the AutgoGraph team. When filing the bug, set the verbosity to 10 (on Linux, `export AUTOGRAPH_VERBOSITY=10`) and attach the full output. Cause: converting <bound method FullNet.call of <network.network.FullNet object at 0x114db75278>>: AssertionError: Bad argument number for Name: 3, expecting 4\n"
     ]
    },
    {
     "name": "stdout",
     "output_type": "stream",
     "text": [
      "WARNING: Entity <bound method FullNet.call of <network.network.FullNet object at 0x114db75278>> could not be transformed and will be executed as-is. Please report this to the AutgoGraph team. When filing the bug, set the verbosity to 10 (on Linux, `export AUTOGRAPH_VERBOSITY=10`) and attach the full output. Cause: converting <bound method FullNet.call of <network.network.FullNet object at 0x114db75278>>: AssertionError: Bad argument number for Name: 3, expecting 4\n",
      "WARNING:tensorflow:Entity <bound method GenericNet.call of <network.generic_net.GenericNet object at 0x114db90da0>> could not be transformed and will be executed as-is. Please report this to the AutgoGraph team. When filing the bug, set the verbosity to 10 (on Linux, `export AUTOGRAPH_VERBOSITY=10`) and attach the full output. Cause: converting <bound method GenericNet.call of <network.generic_net.GenericNet object at 0x114db90da0>>: AssertionError: Bad argument number for Name: 3, expecting 4\n"
     ]
    },
    {
     "name": "stderr",
     "output_type": "stream",
     "text": [
      "WARNING:tensorflow:Entity <bound method GenericNet.call of <network.generic_net.GenericNet object at 0x114db90da0>> could not be transformed and will be executed as-is. Please report this to the AutgoGraph team. When filing the bug, set the verbosity to 10 (on Linux, `export AUTOGRAPH_VERBOSITY=10`) and attach the full output. Cause: converting <bound method GenericNet.call of <network.generic_net.GenericNet object at 0x114db90da0>>: AssertionError: Bad argument number for Name: 3, expecting 4\n"
     ]
    },
    {
     "name": "stdout",
     "output_type": "stream",
     "text": [
      "WARNING: Entity <bound method GenericNet.call of <network.generic_net.GenericNet object at 0x114db90da0>> could not be transformed and will be executed as-is. Please report this to the AutgoGraph team. When filing the bug, set the verbosity to 10 (on Linux, `export AUTOGRAPH_VERBOSITY=10`) and attach the full output. Cause: converting <bound method GenericNet.call of <network.generic_net.GenericNet object at 0x114db90da0>>: AssertionError: Bad argument number for Name: 3, expecting 4\n",
      "WARNING:tensorflow:Entity <bound method FullNet.call of <network.network.FullNet object at 0x114db90978>> could not be transformed and will be executed as-is. Please report this to the AutgoGraph team. When filing the bug, set the verbosity to 10 (on Linux, `export AUTOGRAPH_VERBOSITY=10`) and attach the full output. Cause: converting <bound method FullNet.call of <network.network.FullNet object at 0x114db90978>>: AssertionError: Bad argument number for Name: 3, expecting 4\n"
     ]
    },
    {
     "name": "stderr",
     "output_type": "stream",
     "text": [
      "WARNING:tensorflow:Entity <bound method FullNet.call of <network.network.FullNet object at 0x114db90978>> could not be transformed and will be executed as-is. Please report this to the AutgoGraph team. When filing the bug, set the verbosity to 10 (on Linux, `export AUTOGRAPH_VERBOSITY=10`) and attach the full output. Cause: converting <bound method FullNet.call of <network.network.FullNet object at 0x114db90978>>: AssertionError: Bad argument number for Name: 3, expecting 4\n"
     ]
    },
    {
     "name": "stdout",
     "output_type": "stream",
     "text": [
      "WARNING: Entity <bound method FullNet.call of <network.network.FullNet object at 0x114db90978>> could not be transformed and will be executed as-is. Please report this to the AutgoGraph team. When filing the bug, set the verbosity to 10 (on Linux, `export AUTOGRAPH_VERBOSITY=10`) and attach the full output. Cause: converting <bound method FullNet.call of <network.network.FullNet object at 0x114db90978>>: AssertionError: Bad argument number for Name: 3, expecting 4\n",
      "WARNING:tensorflow:Entity <bound method GenericNet.call of <network.generic_net.GenericNet object at 0x114dbd7128>> could not be transformed and will be executed as-is. Please report this to the AutgoGraph team. When filing the bug, set the verbosity to 10 (on Linux, `export AUTOGRAPH_VERBOSITY=10`) and attach the full output. Cause: converting <bound method GenericNet.call of <network.generic_net.GenericNet object at 0x114dbd7128>>: AssertionError: Bad argument number for Name: 3, expecting 4\n"
     ]
    },
    {
     "name": "stderr",
     "output_type": "stream",
     "text": [
      "WARNING:tensorflow:Entity <bound method GenericNet.call of <network.generic_net.GenericNet object at 0x114dbd7128>> could not be transformed and will be executed as-is. Please report this to the AutgoGraph team. When filing the bug, set the verbosity to 10 (on Linux, `export AUTOGRAPH_VERBOSITY=10`) and attach the full output. Cause: converting <bound method GenericNet.call of <network.generic_net.GenericNet object at 0x114dbd7128>>: AssertionError: Bad argument number for Name: 3, expecting 4\n"
     ]
    },
    {
     "name": "stdout",
     "output_type": "stream",
     "text": [
      "WARNING: Entity <bound method GenericNet.call of <network.generic_net.GenericNet object at 0x114dbd7128>> could not be transformed and will be executed as-is. Please report this to the AutgoGraph team. When filing the bug, set the verbosity to 10 (on Linux, `export AUTOGRAPH_VERBOSITY=10`) and attach the full output. Cause: converting <bound method GenericNet.call of <network.generic_net.GenericNet object at 0x114dbd7128>>: AssertionError: Bad argument number for Name: 3, expecting 4\n",
      "INFO: Calculating gradients for backpropagation...\n",
      "Collecting inference operations...\n",
      "INFO: Done building graph. Took: 82.92110991477966s\n",
      "--------------------------------------------------------------------------------\n",
      "\n"
     ]
    }
   ],
   "source": [
    "from models.gauge_model import GaugeModel\n",
    "\n",
    "model = GaugeModel(params)"
   ]
  },
  {
   "cell_type": "code",
   "execution_count": 8,
   "metadata": {
    "ExecuteTime": {
     "end_time": "2020-01-24T15:04:01.849122Z",
     "start_time": "2020-01-24T15:03:06.122417Z"
    }
   },
   "outputs": [
    {
     "name": "stdout",
     "output_type": "stream",
     "text": [
      "Creating directory: /Users/saforem2/ANL/l2hmc-qcd/gauge_logs/2020_01_24/L8_b64_lf5_f32_0901/checkpoints\n",
      "Creating directory: /Users/saforem2/ANL/l2hmc-qcd/gauge_logs/2020_01_24/L8_b64_lf5_f32_0901/training\n",
      "Creating directory: /Users/saforem2/ANL/l2hmc-qcd/gauge_logs/2020_01_24/L8_b64_lf5_f32_0901/summaries/train\n",
      "WARNING:tensorflow:From /Users/saforem2/ANL/l2hmc-qcd/l2hmc-qcd/loggers/train_logger.py:63: The name tf.summary.FileWriter is deprecated. Please use tf.compat.v1.summary.FileWriter instead.\n",
      "\n"
     ]
    },
    {
     "name": "stderr",
     "output_type": "stream",
     "text": [
      "WARNING:tensorflow:From /Users/saforem2/ANL/l2hmc-qcd/l2hmc-qcd/loggers/train_logger.py:63: The name tf.summary.FileWriter is deprecated. Please use tf.compat.v1.summary.FileWriter instead.\n",
      "\n"
     ]
    },
    {
     "name": "stdout",
     "output_type": "stream",
     "text": [
      "WARNING:tensorflow:From /Users/saforem2/ANL/l2hmc-qcd/l2hmc-qcd/loggers/summary_utils.py:98: The name tf.summary.scalar is deprecated. Please use tf.compat.v1.summary.scalar instead.\n",
      "\n"
     ]
    },
    {
     "name": "stderr",
     "output_type": "stream",
     "text": [
      "WARNING:tensorflow:From /Users/saforem2/ANL/l2hmc-qcd/l2hmc-qcd/loggers/summary_utils.py:98: The name tf.summary.scalar is deprecated. Please use tf.compat.v1.summary.scalar instead.\n",
      "\n"
     ]
    },
    {
     "name": "stdout",
     "output_type": "stream",
     "text": [
      "WARNING:tensorflow:From /Users/saforem2/ANL/l2hmc-qcd/l2hmc-qcd/loggers/summary_utils.py:50: The name tf.summary.histogram is deprecated. Please use tf.compat.v1.summary.histogram instead.\n",
      "\n"
     ]
    },
    {
     "name": "stderr",
     "output_type": "stream",
     "text": [
      "WARNING:tensorflow:From /Users/saforem2/ANL/l2hmc-qcd/l2hmc-qcd/loggers/summary_utils.py:50: The name tf.summary.histogram is deprecated. Please use tf.compat.v1.summary.histogram instead.\n",
      "\n"
     ]
    },
    {
     "name": "stdout",
     "output_type": "stream",
     "text": [
      "WARNING:tensorflow:From /Users/saforem2/ANL/l2hmc-qcd/l2hmc-qcd/loggers/summary_utils.py:258: The name tf.summary.merge_all is deprecated. Please use tf.compat.v1.summary.merge_all instead.\n",
      "\n"
     ]
    },
    {
     "name": "stderr",
     "output_type": "stream",
     "text": [
      "WARNING:tensorflow:From /Users/saforem2/ANL/l2hmc-qcd/l2hmc-qcd/loggers/summary_utils.py:258: The name tf.summary.merge_all is deprecated. Please use tf.compat.v1.summary.merge_all instead.\n",
      "\n"
     ]
    }
   ],
   "source": [
    "from loggers.train_logger import TrainLogger\n",
    "from trainers.train_setup import create_config\n",
    "\n",
    "train_logger = TrainLogger(model, model.log_dir,\n",
    "                           logging_steps=model.logging_steps,\n",
    "                           summaries=params['summaries'])\n",
    "config, params = create_config(params)\n",
    "\n",
    "sess = tf.Session(config=config)\n",
    "sess.run(tf.global_variables_initializer())"
   ]
  },
  {
   "cell_type": "code",
   "execution_count": 9,
   "metadata": {
    "ExecuteTime": {
     "end_time": "2020-01-23T21:53:11.073613Z",
     "start_time": "2020-01-23T21:53:10.837314Z"
    }
   },
   "outputs": [],
   "source": [
    "from trainers.trainer import Trainer\n",
    "trainer = Trainer(sess, model, train_logger, **params)"
   ]
  },
  {
   "cell_type": "code",
   "execution_count": 10,
   "metadata": {
    "ExecuteTime": {
     "end_time": "2020-01-23T21:55:26.345926Z",
     "start_time": "2020-01-23T21:54:05.631538Z"
    }
   },
   "outputs": [
    {
     "name": "stdout",
     "output_type": "stream",
     "text": [
      "Global step: 0\n",
      "\n",
      "-------------------------------------------------------------------------------------------------------\n",
      "    STEP      t/STEP     LOSS     % ACC      EPS        dX       BETA       LR      ACTION    dPLAQ   \n",
      "-------------------------------------------------------------------------------------------------------\n",
      "    0/100      51.57    -27.47       1       0.201    0.4538       2       0.001     16.94    0.7564   \n",
      "    1/100     0.1716    -26.69    0.8672     0.202     0.403     2.012     0.001     10.09    0.3303   \n",
      "    2/100     0.2003    -23.99    0.8454     0.203    0.4044     2.024     0.001     8.888    0.2572   \n",
      "    3/100     0.1645    -22.85    0.5887    0.2039    0.3885     2.037     0.001     6.964     0.139   \n",
      "    4/100     0.1809    -22.49    0.8742    0.2049    0.3566     2.049     0.001     6.845    0.1335   \n",
      "    5/100     0.1853    -24.11    0.5674    0.2058    0.3904     2.062     0.001     5.927    0.07811  \n",
      "    6/100     0.2441    -20.46    0.7308    0.2067    0.3648     2.075     0.001     5.483    0.05236  \n",
      "    7/100     0.1654    -24.61    0.9217    0.2076    0.3819     2.088     0.001     5.838    0.07656  \n",
      "    8/100     0.2192    -25.25    0.9032    0.2085    0.3303     2.101     0.001     4.935    0.02209  \n",
      "    9/100     0.2608    -23.41    0.5662    0.2093    0.3748     2.114     0.001     3.953   -0.03727  \n",
      "   10/100     0.1551    -22.35    0.6295    0.2102    0.3656     2.128     0.001     4.077    -0.0275  \n",
      "   11/100     0.2757    -22.67    0.6651     0.211    0.3327     2.141     0.001     4.505    0.00123  \n",
      "   12/100     0.1993    -23.61    0.7098    0.2119    0.3545     2.155     0.001     4.415   -0.002384 \n",
      "   13/100     0.2699    -23.77    0.7501    0.2128    0.3808     2.169     0.001     4.931    0.03189  \n",
      "   14/100     0.2523    -22.97    0.7511    0.2137    0.3386     2.183     0.001     4.512   0.007707  \n",
      "   15/100     0.2044    -22.83    0.5591    0.2146    0.3719     2.198     0.001     4.716    0.02245  \n",
      "   16/100     0.2532    -21.33    0.6516    0.2155    0.3987     2.212     0.001     4.909    0.03656  \n",
      "   17/100     0.1716    -26.61    0.7664    0.2163    0.3668     2.227     0.001     5.29     0.06237  \n",
      "   18/100     0.3262      -23     0.6506    0.2172    0.4287     2.242     0.001     5.379    0.06997  \n",
      "   19/100      0.318    -24.42    0.6508     0.218    0.4135     2.257     0.001     5.652    0.08908  \n",
      "   20/100     0.4318    -23.28    0.6987    0.2188    0.3875     2.273     0.001     5.453    0.07868  \n",
      "   21/100     0.2343    -25.48    0.7156    0.2196    0.4086     2.288     0.001     4.507    0.02154  \n",
      "   22/100     0.3729    -24.55    0.7599    0.2204    0.3834     2.304     0.001     4.719    0.03687  \n",
      "   23/100     0.2448    -23.55    0.6081    0.2212    0.3808     2.32      0.001     4.455    0.02238  \n",
      "   24/100     0.1946    -22.93    0.6515     0.222    0.3879     2.336     0.001     4.224   0.009972  \n",
      "   25/100     0.2118    -21.35    0.7886    0.2229    0.3844     2.353     0.001     4.193    0.01009  \n",
      "   26/100     0.3653     -26.6    0.8076    0.2237    0.3941     2.37      0.001     4.346    0.02167  \n",
      "   27/100      0.337    -26.36    0.7551    0.2246    0.3718     2.387     0.001     4.439    0.02951  \n",
      "   28/100     0.1707    -24.46    0.5379    0.2255    0.4011     2.404     0.001     4.194    0.01623  \n",
      "   29/100     0.5387    -28.55    0.8315    0.2264    0.4042     2.421     0.001     4.424    0.03268  \n",
      "   30/100     0.3119     -24.4    0.6879    0.2273    0.3833     2.439     0.001     4.303    0.02714  \n",
      "   31/100     0.2567      -28     0.7854    0.2282    0.4186     2.457     0.001     4.553    0.0448   \n",
      "   32/100     0.3076    -20.35    0.5599    0.2291    0.3941     2.475     0.001     4.678    0.05463  \n",
      "   33/100     0.3702    -27.88    0.6881     0.23     0.4201     2.494     0.001     4.933    0.07263  \n",
      "   34/100     0.3478    -21.67    0.4949    0.2309    0.3844     2.513     0.001     5.042    0.08146  \n",
      "   35/100     0.3556    -26.87    0.7619    0.2318    0.3958     2.532     0.001     5.36     0.1034   \n",
      "   36/100     0.3556    -27.26    0.7588    0.2327    0.3898     2.551     0.001     4.596    0.05766  \n",
      "   37/100     0.3524    -22.34    0.6132    0.2336    0.3952     2.571     0.001     4.28     0.03995  \n",
      "   38/100     0.2848    -27.35    0.6895    0.2345    0.4368     2.591     0.001     4.237    0.03933  \n",
      "   39/100     0.3036    -24.64    0.6931    0.2353    0.3809     2.611     0.001     3.715   0.008737  \n",
      "   40/100      0.281    -24.74    0.6761    0.2362    0.4003     2.632     0.001     3.708    0.01031  \n",
      "   41/100     0.2174    -24.69    0.5694     0.237    0.3952     2.653     0.001     3.977    0.02916  \n",
      "   42/100      0.344    -30.02    0.8048    0.2379     0.427     2.674     0.001     4.562    0.06777  \n",
      "   43/100     0.3582     -29.4    0.8614    0.2388    0.4037     2.695     0.001     4.169    0.04522  \n",
      "   44/100     0.3785     -28.5    0.8485    0.2396    0.3982     2.717     0.001     3.56    0.009205  \n",
      "   45/100     0.5563    -25.16     0.817    0.2405    0.3803     2.74      0.001     3.512   0.008256  \n",
      "   46/100     0.4179     -27.4     0.728    0.2413    0.4145     2.762     0.001     3.416   0.004244  \n",
      "   47/100     0.3068    -30.23     0.837    0.2422    0.4164     2.786     0.001     3.46    0.009047  \n",
      "   48/100     0.1835    -25.17    0.6376    0.2429     0.385     2.809     0.001     3.28    -0.0001698 \n",
      "   49/100     0.2964    -32.68    0.8389    0.2438    0.3956     2.833     0.001     3.333   0.005111  \n",
      "   50/100     0.3141    -27.43    0.8174    0.2446    0.3953     2.857     0.001     3.162   -0.003545 \n",
      "   51/100     0.2856    -27.13     0.558    0.2454    0.4054     2.882     0.001     2.853   -0.02085  \n",
      "   52/100     0.2985    -28.81    0.7331     0.246    0.4124     2.907     0.001     3.757    0.03768  \n",
      "   53/100     0.1884     -29.2    0.6865    0.2466    0.4018     2.933     0.001     3.444    0.02012  \n",
      "   54/100     0.3146    -30.53    0.7814    0.2472    0.4226     2.959     0.001     3.231   0.008826  \n",
      "   55/100     0.2326    -24.35    0.5219    0.2478    0.3905     2.985     0.001     2.964   -0.005885 \n",
      "   56/100     0.1603    -31.84    0.7662    0.2483    0.4214     3.012     0.001     3.367    0.02134  \n",
      "   57/100     0.2564    -28.07    0.6793     0.249    0.4114     3.04      0.001     3.286    0.01824  \n",
      "   58/100     0.2842    -28.07    0.6535    0.2496    0.4288     3.067     0.001     3.538    0.03595  \n",
      "   59/100      0.179    -29.87    0.8516    0.2504    0.4256     3.096     0.001     3.59     0.04123  \n",
      "   60/100     0.1677    -29.53    0.6714    0.2511    0.4683     3.125     0.001     3.34     0.02758  \n",
      "   61/100     0.4629    -29.57    0.7533    0.2519    0.3756     3.155     0.001     2.824   -0.002693 \n",
      "   62/100     0.2745    -24.43    0.5929    0.2525    0.3979     3.185     0.001     2.658   -0.01111  \n",
      "   63/100     0.2232    -29.18     0.912    0.2533     0.411     3.215     0.001     3.501    0.04354  \n",
      "   64/100     0.1908    -28.55    0.7219    0.2542    0.4151     3.247     0.001     3.256    0.03019  \n",
      "   65/100     0.2358    -29.04    0.7299     0.255    0.4089     3.279     0.001     3.023    0.01758  \n",
      "   66/100     0.3079    -31.51    0.7769    0.2558    0.4543     3.311     0.001     2.816   0.006613  \n",
      "   67/100     0.1631    -21.25    0.4832    0.2566    0.4155     3.344     0.001     2.24    -0.02746  \n",
      "   68/100     0.2236    -28.26    0.6114    0.2572    0.4337     3.378     0.001     2.226    -0.0264  \n",
      "   69/100     0.2395    -31.19    0.7611    0.2579    0.4328     3.413     0.001     2.453   -0.01025  \n",
      "   70/100     0.3453    -26.44    0.5069    0.2586    0.4322     3.448     0.001     2.333   -0.01581  \n",
      "   71/100     0.1963    -31.79    0.7095    0.2594    0.4503     3.484     0.001     2.968    0.02576  \n",
      "   72/100     0.1637    -29.38     0.79     0.2602    0.4635     3.521     0.001     3.123    0.03738  \n",
      "   73/100      0.321     -26.1    0.5671     0.261     0.458     3.559     0.001     2.625   0.008206  \n",
      "   74/100     0.3729    -31.37    0.5128    0.2616    0.4494     3.597     0.001     2.573   0.006831  \n",
      "   75/100     0.1706    -26.21    0.7967    0.2619    0.4284     3.636     0.001     2.723    0.01814  \n"
     ]
    },
    {
     "name": "stdout",
     "output_type": "stream",
     "text": [
      "   76/100      0.289    -28.74    0.6936    0.2624    0.4304     3.676     0.001     2.621    0.0136   \n",
      "   77/100     0.2737    -30.32    0.7618    0.2629    0.4029     3.717     0.001     2.743    0.02314  \n",
      "   78/100     0.2882    -25.41    0.5878    0.2634    0.4154     3.759     0.001     2.686    0.02144  \n",
      "   79/100     0.1928    -19.87    0.5871    0.2638     0.371     3.802     0.001     2.844    0.03324  \n",
      "   80/100     0.2677    -26.87    0.4597    0.2636    0.4205     3.846     0.001     2.876    0.03709  \n",
      "   81/100     0.3653    -20.96    0.5871    0.2633    0.4562     3.891     0.001     2.836    0.03643  \n",
      "   82/100     0.2025    -20.07    0.4499    0.2631    0.3876     3.937     0.001     2.709    0.03039  \n",
      "   83/100      0.266    -31.59    0.7776    0.2631    0.4858     3.984     0.001     2.875    0.04261  \n",
      "   84/100      0.228    -27.18     0.594     0.263    0.3912     4.032     0.001     2.906    0.04635  \n",
      "   85/100     0.4742     -21.1    0.4433    0.2628    0.3876     4.082     0.001     2.865    0.04565  \n",
      "   86/100     0.2351    -18.61    0.5528    0.2623    0.4013     4.132     0.001     2.721    0.03846  \n",
      "   87/100     0.3266    -27.59    0.7938    0.2619    0.3876     4.184     0.001     2.872    0.04977  \n",
      "   88/100     0.3836    -23.78    0.6319    0.2615    0.3915     4.237     0.001     2.941    0.0559   \n",
      "   89/100     0.3215    -35.85    0.7785    0.2612     0.405     4.292     0.001     2.907    0.05557  \n",
      "   90/100     0.2182    -24.45    0.7766    0.2609    0.4262     4.348     0.001     2.559    0.03565  \n",
      "   91/100     0.3144    -19.67    0.7302    0.2599    0.3754     4.405     0.001     2.354    0.02463  \n",
      "   92/100     0.2898    -13.85    0.4568    0.2586    0.4032     4.464     0.001     2.019   0.005436  \n",
      "   93/100     0.3779    -19.58    0.3642    0.2574    0.3985     4.525     0.001     2.19     0.01793  \n",
      "   94/100     0.3417    -19.44    0.3253    0.2561    0.4186     4.587     0.001     2.189    0.01966  \n",
      "   95/100     0.3527    -21.35    0.4765    0.2548    0.3702     4.651     0.001     2.218    0.02326  \n",
      "   96/100     0.3591     -29.3    0.7081    0.2537    0.4515     4.717     0.001     2.504    0.04288  \n",
      "   97/100     0.4669    -24.04    0.4888    0.2527    0.4011     4.785     0.001     2.335    0.0341   \n",
      "   98/100     0.3267    -23.87     0.725    0.2518    0.3609     4.854     0.001     2.423    0.04136  \n",
      "   99/100     0.4064     14.42    0.5076    0.2507     0.387     4.926     0.001     2.242    0.03178  \n",
      "-------------------------------------------------------------------------------------------------------\n",
      "    STEP      t/STEP     LOSS     % ACC      EPS        dX       BETA       LR      ACTION    dPLAQ   \n",
      "-------------------------------------------------------------------------------------------------------\n"
     ]
    }
   ],
   "source": [
    "from config import NetWeights, NP_FLOAT\n",
    "\n",
    "samples_init = np.array(model.lattice.samples_array, dtype=NP_FLOAT)\n",
    "\n",
    "net_weights_init = NetWeights(1, 1, 1, 1, 1, 1)\n",
    "\n",
    "trainer.train(model.train_steps,\n",
    "              beta=model.beta_init,\n",
    "              samples=samples_init,\n",
    "              net_weights=net_weights_init)"
   ]
  },
  {
   "cell_type": "code",
   "execution_count": 15,
   "metadata": {
    "ExecuteTime": {
     "end_time": "2020-01-23T22:03:38.000982Z",
     "start_time": "2020-01-23T22:03:37.887435Z"
    }
   },
   "outputs": [],
   "source": [
    "def pkl_dump(obj, out_file, name=''):\n",
    "    io.log(f'Saving {name} to {out_file}')\n",
    "    with open(out_file, 'wb') as f:\n",
    "        pickle.dump(obj, f)"
   ]
  },
  {
   "cell_type": "code",
   "execution_count": 16,
   "metadata": {
    "ExecuteTime": {
     "end_time": "2020-01-23T22:03:57.015533Z",
     "start_time": "2020-01-23T22:03:43.601188Z"
    }
   },
   "outputs": [
    {
     "name": "stdout",
     "output_type": "stream",
     "text": [
      "Saving weights_final to /Users/saforem2/ANL/l2hmc-qcd/gauge_logs/2020_01_23/L8_b64_lf5_f32_1552/weights.pkl\n"
     ]
    }
   ],
   "source": [
    "from trainers.train_setup import get_net_weights\n",
    "\n",
    "wfile = os.path.join(model.log_dir, 'dynamics_weights.h5')\n",
    "model.dynamics.save_weights(wfile)\n",
    "\n",
    "weights_final, coeffs_final = get_net_weights(model, sess)\n",
    "xcoeffs = sess.run(list(coeffs_final['xnet'].values()))\n",
    "vcoeffs = sess.run(list(coeffs_final['vnet'].values()))\n",
    "weights_final['xnet']['GenericNet'].update({\n",
    "    'coeff_scale': xcoeffs[0],\n",
    "    'coeff_transformation': xcoeffs[1],\n",
    "})\n",
    "weights_final['vnet']['GenericNet'].update({\n",
    "    'coeff_scale': vcoeffs[0],\n",
    "    'coeff_transformation': vcoeffs[1],\n",
    "})\n",
    "pkl_dump(weights_final, os.path.join(model.log_dir, 'weights.pkl'), name='weights_final')\n",
    "#pkl_dump(model.params, os.path.join(os.getcwd(), 'params.pkl'), name='model.params')\n",
    "#io.save_dict(model.params, os.path.join(os.getcwd()), 'params')\n"
   ]
  },
  {
   "cell_type": "markdown",
   "metadata": {},
   "source": [
    " * Create `dynamics_np` to compare against `model.dynamics`:"
   ]
  },
  {
   "cell_type": "code",
   "execution_count": 17,
   "metadata": {
    "ExecuteTime": {
     "end_time": "2020-01-23T22:04:46.121866Z",
     "start_time": "2020-01-23T22:04:45.598025Z"
    }
   },
   "outputs": [],
   "source": [
    "from runners.runner_np import create_dynamics, load_pkl, run_inference_np\n",
    "\n",
    "eps_np = sess.run(model.dynamics.eps)\n",
    "dynamics_np, lattice = create_dynamics(model.log_dir, eps=eps_np,\n",
    "                                       num_steps=model.num_steps,\n",
    "                                       batch_size=model.batch_size)"
   ]
  },
  {
   "cell_type": "markdown",
   "metadata": {},
   "source": [
    "Create operations for calculating quantities of interest:   \n",
    " - `xf`: Proposed $x$, obtained from running `model.dyanmics.transition_kernel` with `forward=True`   \n",
    " - `vf`: Proposed $v$, obtained from running `model.dynamics.transition_kernel` with `forward=True`\n",
    " - `pxf`: $A(\\xi^{\\prime}|\\xi)$\n",
    " - `sumlogdetf`: Log determinant, accumulated over all leapfrog steps. Given by:\n",
    " \n",
    " \\begin{equation}\n",
    " \\log|\\mathcal{J}| = \\log\\left|\\frac{\\partial\\xi^{\\prime}}{\\partial \\xi^{T}}\\right| = d \\sum_{t\\leq N_{\\mathrm{LF}}} \\left[\\frac{\\varepsilon}{2}\\mathbb{1} \\cdot S_{v}(\\zeta^{t}_{1}) + \\varepsilon m^{t} \\cdot S_{x}(\\zeta^{t}_{2}) + \\varepsilon\\bar{m}^{t} \\cdot S_{x}(\\zeta^{t}_{3}) + \\frac{\\varepsilon}{2}\\mathbb{1}\\cdot S_{v}(\\zeta^{t}_{4})\\right]\n",
    " \\label{eq:sumlogdet}\n",
    " \\end{equation}   \n",
    " \n",
    "- `xf_`: $x^{\\prime\\prime}$, obtained by updating $x$ for a single leapfrog step.\n",
    "- `vf_`: $v^{\\prime\\prime}$, obtained by updating $v$ for a single leapfrog step.\n",
    "- `sld_`: Accumulated log determinant after a single leapfrog step. ($t = 1$ in Eq.\\ref{eq:sumlogdet})\n",
    "- `dudx_tf_`: $\\partial_{x}U(x, \\beta)$, evaluated at $\\beta = 5$"
   ]
  },
  {
   "cell_type": "code",
   "execution_count": 20,
   "metadata": {
    "ExecuteTime": {
     "end_time": "2020-01-23T22:05:41.077615Z",
     "start_time": "2020-01-23T22:05:37.644672Z"
    }
   },
   "outputs": [
    {
     "name": "stdout",
     "output_type": "stream",
     "text": [
      "WARNING:tensorflow:Entity <bound method FullNet.call of <network.network.FullNet object at 0x114db20ef0>> could not be transformed and will be executed as-is. Please report this to the AutgoGraph team. When filing the bug, set the verbosity to 10 (on Linux, `export AUTOGRAPH_VERBOSITY=10`) and attach the full output. Cause: converting <bound method FullNet.call of <network.network.FullNet object at 0x114db20ef0>>: AssertionError: Bad argument number for Name: 3, expecting 4\n"
     ]
    },
    {
     "name": "stderr",
     "output_type": "stream",
     "text": [
      "WARNING:tensorflow:Entity <bound method FullNet.call of <network.network.FullNet object at 0x114db20ef0>> could not be transformed and will be executed as-is. Please report this to the AutgoGraph team. When filing the bug, set the verbosity to 10 (on Linux, `export AUTOGRAPH_VERBOSITY=10`) and attach the full output. Cause: converting <bound method FullNet.call of <network.network.FullNet object at 0x114db20ef0>>: AssertionError: Bad argument number for Name: 3, expecting 4\n"
     ]
    },
    {
     "name": "stdout",
     "output_type": "stream",
     "text": [
      "WARNING: Entity <bound method FullNet.call of <network.network.FullNet object at 0x114db20ef0>> could not be transformed and will be executed as-is. Please report this to the AutgoGraph team. When filing the bug, set the verbosity to 10 (on Linux, `export AUTOGRAPH_VERBOSITY=10`) and attach the full output. Cause: converting <bound method FullNet.call of <network.network.FullNet object at 0x114db20ef0>>: AssertionError: Bad argument number for Name: 3, expecting 4\n",
      "WARNING:tensorflow:Entity <bound method GenericNet.call of <network.generic_net.GenericNet object at 0x114db7c6a0>> could not be transformed and will be executed as-is. Please report this to the AutgoGraph team. When filing the bug, set the verbosity to 10 (on Linux, `export AUTOGRAPH_VERBOSITY=10`) and attach the full output. Cause: converting <bound method GenericNet.call of <network.generic_net.GenericNet object at 0x114db7c6a0>>: AssertionError: Bad argument number for Name: 3, expecting 4\n"
     ]
    },
    {
     "name": "stderr",
     "output_type": "stream",
     "text": [
      "WARNING:tensorflow:Entity <bound method GenericNet.call of <network.generic_net.GenericNet object at 0x114db7c6a0>> could not be transformed and will be executed as-is. Please report this to the AutgoGraph team. When filing the bug, set the verbosity to 10 (on Linux, `export AUTOGRAPH_VERBOSITY=10`) and attach the full output. Cause: converting <bound method GenericNet.call of <network.generic_net.GenericNet object at 0x114db7c6a0>>: AssertionError: Bad argument number for Name: 3, expecting 4\n"
     ]
    },
    {
     "name": "stdout",
     "output_type": "stream",
     "text": [
      "WARNING: Entity <bound method GenericNet.call of <network.generic_net.GenericNet object at 0x114db7c6a0>> could not be transformed and will be executed as-is. Please report this to the AutgoGraph team. When filing the bug, set the verbosity to 10 (on Linux, `export AUTOGRAPH_VERBOSITY=10`) and attach the full output. Cause: converting <bound method GenericNet.call of <network.generic_net.GenericNet object at 0x114db7c6a0>>: AssertionError: Bad argument number for Name: 3, expecting 4\n",
      "WARNING:tensorflow:Entity <bound method FullNet.call of <network.network.FullNet object at 0x114d9eb748>> could not be transformed and will be executed as-is. Please report this to the AutgoGraph team. When filing the bug, set the verbosity to 10 (on Linux, `export AUTOGRAPH_VERBOSITY=10`) and attach the full output. Cause: converting <bound method FullNet.call of <network.network.FullNet object at 0x114d9eb748>>: AssertionError: Bad argument number for Name: 3, expecting 4\n"
     ]
    },
    {
     "name": "stderr",
     "output_type": "stream",
     "text": [
      "WARNING:tensorflow:Entity <bound method FullNet.call of <network.network.FullNet object at 0x114d9eb748>> could not be transformed and will be executed as-is. Please report this to the AutgoGraph team. When filing the bug, set the verbosity to 10 (on Linux, `export AUTOGRAPH_VERBOSITY=10`) and attach the full output. Cause: converting <bound method FullNet.call of <network.network.FullNet object at 0x114d9eb748>>: AssertionError: Bad argument number for Name: 3, expecting 4\n"
     ]
    },
    {
     "name": "stdout",
     "output_type": "stream",
     "text": [
      "WARNING: Entity <bound method FullNet.call of <network.network.FullNet object at 0x114d9eb748>> could not be transformed and will be executed as-is. Please report this to the AutgoGraph team. When filing the bug, set the verbosity to 10 (on Linux, `export AUTOGRAPH_VERBOSITY=10`) and attach the full output. Cause: converting <bound method FullNet.call of <network.network.FullNet object at 0x114d9eb748>>: AssertionError: Bad argument number for Name: 3, expecting 4\n",
      "WARNING:tensorflow:Entity <bound method GenericNet.call of <network.generic_net.GenericNet object at 0x114db4b470>> could not be transformed and will be executed as-is. Please report this to the AutgoGraph team. When filing the bug, set the verbosity to 10 (on Linux, `export AUTOGRAPH_VERBOSITY=10`) and attach the full output. Cause: converting <bound method GenericNet.call of <network.generic_net.GenericNet object at 0x114db4b470>>: AssertionError: Bad argument number for Name: 3, expecting 4\n"
     ]
    },
    {
     "name": "stderr",
     "output_type": "stream",
     "text": [
      "WARNING:tensorflow:Entity <bound method GenericNet.call of <network.generic_net.GenericNet object at 0x114db4b470>> could not be transformed and will be executed as-is. Please report this to the AutgoGraph team. When filing the bug, set the verbosity to 10 (on Linux, `export AUTOGRAPH_VERBOSITY=10`) and attach the full output. Cause: converting <bound method GenericNet.call of <network.generic_net.GenericNet object at 0x114db4b470>>: AssertionError: Bad argument number for Name: 3, expecting 4\n"
     ]
    },
    {
     "name": "stdout",
     "output_type": "stream",
     "text": [
      "WARNING: Entity <bound method GenericNet.call of <network.generic_net.GenericNet object at 0x114db4b470>> could not be transformed and will be executed as-is. Please report this to the AutgoGraph team. When filing the bug, set the verbosity to 10 (on Linux, `export AUTOGRAPH_VERBOSITY=10`) and attach the full output. Cause: converting <bound method GenericNet.call of <network.generic_net.GenericNet object at 0x114db4b470>>: AssertionError: Bad argument number for Name: 3, expecting 4\n",
      "WARNING:tensorflow:Entity <bound method FullNet.call of <network.network.FullNet object at 0x114d9eb748>> could not be transformed and will be executed as-is. Please report this to the AutgoGraph team. When filing the bug, set the verbosity to 10 (on Linux, `export AUTOGRAPH_VERBOSITY=10`) and attach the full output. Cause: converting <bound method FullNet.call of <network.network.FullNet object at 0x114d9eb748>>: AssertionError: Bad argument number for Name: 3, expecting 4\n"
     ]
    },
    {
     "name": "stderr",
     "output_type": "stream",
     "text": [
      "WARNING:tensorflow:Entity <bound method FullNet.call of <network.network.FullNet object at 0x114d9eb748>> could not be transformed and will be executed as-is. Please report this to the AutgoGraph team. When filing the bug, set the verbosity to 10 (on Linux, `export AUTOGRAPH_VERBOSITY=10`) and attach the full output. Cause: converting <bound method FullNet.call of <network.network.FullNet object at 0x114d9eb748>>: AssertionError: Bad argument number for Name: 3, expecting 4\n"
     ]
    },
    {
     "name": "stdout",
     "output_type": "stream",
     "text": [
      "WARNING: Entity <bound method FullNet.call of <network.network.FullNet object at 0x114d9eb748>> could not be transformed and will be executed as-is. Please report this to the AutgoGraph team. When filing the bug, set the verbosity to 10 (on Linux, `export AUTOGRAPH_VERBOSITY=10`) and attach the full output. Cause: converting <bound method FullNet.call of <network.network.FullNet object at 0x114d9eb748>>: AssertionError: Bad argument number for Name: 3, expecting 4\n",
      "WARNING:tensorflow:Entity <bound method GenericNet.call of <network.generic_net.GenericNet object at 0x114db4b470>> could not be transformed and will be executed as-is. Please report this to the AutgoGraph team. When filing the bug, set the verbosity to 10 (on Linux, `export AUTOGRAPH_VERBOSITY=10`) and attach the full output. Cause: converting <bound method GenericNet.call of <network.generic_net.GenericNet object at 0x114db4b470>>: AssertionError: Bad argument number for Name: 3, expecting 4\n"
     ]
    },
    {
     "name": "stderr",
     "output_type": "stream",
     "text": [
      "WARNING:tensorflow:Entity <bound method GenericNet.call of <network.generic_net.GenericNet object at 0x114db4b470>> could not be transformed and will be executed as-is. Please report this to the AutgoGraph team. When filing the bug, set the verbosity to 10 (on Linux, `export AUTOGRAPH_VERBOSITY=10`) and attach the full output. Cause: converting <bound method GenericNet.call of <network.generic_net.GenericNet object at 0x114db4b470>>: AssertionError: Bad argument number for Name: 3, expecting 4\n"
     ]
    },
    {
     "name": "stdout",
     "output_type": "stream",
     "text": [
      "WARNING: Entity <bound method GenericNet.call of <network.generic_net.GenericNet object at 0x114db4b470>> could not be transformed and will be executed as-is. Please report this to the AutgoGraph team. When filing the bug, set the verbosity to 10 (on Linux, `export AUTOGRAPH_VERBOSITY=10`) and attach the full output. Cause: converting <bound method GenericNet.call of <network.generic_net.GenericNet object at 0x114db4b470>>: AssertionError: Bad argument number for Name: 3, expecting 4\n",
      "WARNING:tensorflow:Entity <bound method FullNet.call of <network.network.FullNet object at 0x114db20ef0>> could not be transformed and will be executed as-is. Please report this to the AutgoGraph team. When filing the bug, set the verbosity to 10 (on Linux, `export AUTOGRAPH_VERBOSITY=10`) and attach the full output. Cause: converting <bound method FullNet.call of <network.network.FullNet object at 0x114db20ef0>>: AssertionError: Bad argument number for Name: 3, expecting 4\n"
     ]
    },
    {
     "name": "stderr",
     "output_type": "stream",
     "text": [
      "WARNING:tensorflow:Entity <bound method FullNet.call of <network.network.FullNet object at 0x114db20ef0>> could not be transformed and will be executed as-is. Please report this to the AutgoGraph team. When filing the bug, set the verbosity to 10 (on Linux, `export AUTOGRAPH_VERBOSITY=10`) and attach the full output. Cause: converting <bound method FullNet.call of <network.network.FullNet object at 0x114db20ef0>>: AssertionError: Bad argument number for Name: 3, expecting 4\n"
     ]
    },
    {
     "name": "stdout",
     "output_type": "stream",
     "text": [
      "WARNING: Entity <bound method FullNet.call of <network.network.FullNet object at 0x114db20ef0>> could not be transformed and will be executed as-is. Please report this to the AutgoGraph team. When filing the bug, set the verbosity to 10 (on Linux, `export AUTOGRAPH_VERBOSITY=10`) and attach the full output. Cause: converting <bound method FullNet.call of <network.network.FullNet object at 0x114db20ef0>>: AssertionError: Bad argument number for Name: 3, expecting 4\n",
      "WARNING:tensorflow:Entity <bound method GenericNet.call of <network.generic_net.GenericNet object at 0x114db7c6a0>> could not be transformed and will be executed as-is. Please report this to the AutgoGraph team. When filing the bug, set the verbosity to 10 (on Linux, `export AUTOGRAPH_VERBOSITY=10`) and attach the full output. Cause: converting <bound method GenericNet.call of <network.generic_net.GenericNet object at 0x114db7c6a0>>: AssertionError: Bad argument number for Name: 3, expecting 4\n"
     ]
    },
    {
     "name": "stderr",
     "output_type": "stream",
     "text": [
      "WARNING:tensorflow:Entity <bound method GenericNet.call of <network.generic_net.GenericNet object at 0x114db7c6a0>> could not be transformed and will be executed as-is. Please report this to the AutgoGraph team. When filing the bug, set the verbosity to 10 (on Linux, `export AUTOGRAPH_VERBOSITY=10`) and attach the full output. Cause: converting <bound method GenericNet.call of <network.generic_net.GenericNet object at 0x114db7c6a0>>: AssertionError: Bad argument number for Name: 3, expecting 4\n"
     ]
    },
    {
     "name": "stdout",
     "output_type": "stream",
     "text": [
      "WARNING: Entity <bound method GenericNet.call of <network.generic_net.GenericNet object at 0x114db7c6a0>> could not be transformed and will be executed as-is. Please report this to the AutgoGraph team. When filing the bug, set the verbosity to 10 (on Linux, `export AUTOGRAPH_VERBOSITY=10`) and attach the full output. Cause: converting <bound method GenericNet.call of <network.generic_net.GenericNet object at 0x114db7c6a0>>: AssertionError: Bad argument number for Name: 3, expecting 4\n"
     ]
    }
   ],
   "source": [
    "from config import State, TF_FLOAT\n",
    "from seed_dict import seeds\n",
    "\n",
    "# ------------------------------\n",
    "# Run `model.dynamics` forward:\n",
    "# ------------------------------\n",
    "#vf_init = tf.random_normal(tf.shape(model.x), dtype=TF_FLOAT, seed=seeds['vf_init'], name='vf_init')\n",
    "vf_init_np = np.array(np.random.randn(*model.x.shape), dtype=NP_FLOAT)\n",
    "vf_init = tf.constant(vf_init_np)\n",
    "\n",
    "state_init_f = State(model.x, vf_init, model.beta)\n",
    "outf = model.dynamics.transition_kernel(*state_init_f,\n",
    "                                        model.net_weights,\n",
    "                                        model.train_phase,\n",
    "                                        forward=True, hmc=True)\n",
    "xf = outf['x_proposed']\n",
    "vf = outf['v_proposed']\n",
    "pxf = outf['accept_prob']\n",
    "pxf_hmc = outf['accept_prob_hmc']\n",
    "sumlogdetf = outf['sumlogdet']"
   ]
  },
  {
   "cell_type": "code",
   "execution_count": 21,
   "metadata": {
    "ExecuteTime": {
     "end_time": "2020-01-23T22:05:48.783766Z",
     "start_time": "2020-01-23T22:05:46.020019Z"
    }
   },
   "outputs": [
    {
     "name": "stdout",
     "output_type": "stream",
     "text": [
      "WARNING:tensorflow:Entity <bound method FullNet.call of <network.network.FullNet object at 0x114db20ef0>> could not be transformed and will be executed as-is. Please report this to the AutgoGraph team. When filing the bug, set the verbosity to 10 (on Linux, `export AUTOGRAPH_VERBOSITY=10`) and attach the full output. Cause: converting <bound method FullNet.call of <network.network.FullNet object at 0x114db20ef0>>: AssertionError: Bad argument number for Name: 3, expecting 4\n"
     ]
    },
    {
     "name": "stderr",
     "output_type": "stream",
     "text": [
      "WARNING:tensorflow:Entity <bound method FullNet.call of <network.network.FullNet object at 0x114db20ef0>> could not be transformed and will be executed as-is. Please report this to the AutgoGraph team. When filing the bug, set the verbosity to 10 (on Linux, `export AUTOGRAPH_VERBOSITY=10`) and attach the full output. Cause: converting <bound method FullNet.call of <network.network.FullNet object at 0x114db20ef0>>: AssertionError: Bad argument number for Name: 3, expecting 4\n"
     ]
    },
    {
     "name": "stdout",
     "output_type": "stream",
     "text": [
      "WARNING: Entity <bound method FullNet.call of <network.network.FullNet object at 0x114db20ef0>> could not be transformed and will be executed as-is. Please report this to the AutgoGraph team. When filing the bug, set the verbosity to 10 (on Linux, `export AUTOGRAPH_VERBOSITY=10`) and attach the full output. Cause: converting <bound method FullNet.call of <network.network.FullNet object at 0x114db20ef0>>: AssertionError: Bad argument number for Name: 3, expecting 4\n",
      "WARNING:tensorflow:Entity <bound method GenericNet.call of <network.generic_net.GenericNet object at 0x114db7c6a0>> could not be transformed and will be executed as-is. Please report this to the AutgoGraph team. When filing the bug, set the verbosity to 10 (on Linux, `export AUTOGRAPH_VERBOSITY=10`) and attach the full output. Cause: converting <bound method GenericNet.call of <network.generic_net.GenericNet object at 0x114db7c6a0>>: AssertionError: Bad argument number for Name: 3, expecting 4\n"
     ]
    },
    {
     "name": "stderr",
     "output_type": "stream",
     "text": [
      "WARNING:tensorflow:Entity <bound method GenericNet.call of <network.generic_net.GenericNet object at 0x114db7c6a0>> could not be transformed and will be executed as-is. Please report this to the AutgoGraph team. When filing the bug, set the verbosity to 10 (on Linux, `export AUTOGRAPH_VERBOSITY=10`) and attach the full output. Cause: converting <bound method GenericNet.call of <network.generic_net.GenericNet object at 0x114db7c6a0>>: AssertionError: Bad argument number for Name: 3, expecting 4\n"
     ]
    },
    {
     "name": "stdout",
     "output_type": "stream",
     "text": [
      "WARNING: Entity <bound method GenericNet.call of <network.generic_net.GenericNet object at 0x114db7c6a0>> could not be transformed and will be executed as-is. Please report this to the AutgoGraph team. When filing the bug, set the verbosity to 10 (on Linux, `export AUTOGRAPH_VERBOSITY=10`) and attach the full output. Cause: converting <bound method GenericNet.call of <network.generic_net.GenericNet object at 0x114db7c6a0>>: AssertionError: Bad argument number for Name: 3, expecting 4\n",
      "WARNING:tensorflow:Entity <bound method FullNet.call of <network.network.FullNet object at 0x114d9eb748>> could not be transformed and will be executed as-is. Please report this to the AutgoGraph team. When filing the bug, set the verbosity to 10 (on Linux, `export AUTOGRAPH_VERBOSITY=10`) and attach the full output. Cause: converting <bound method FullNet.call of <network.network.FullNet object at 0x114d9eb748>>: AssertionError: Bad argument number for Name: 3, expecting 4\n"
     ]
    },
    {
     "name": "stderr",
     "output_type": "stream",
     "text": [
      "WARNING:tensorflow:Entity <bound method FullNet.call of <network.network.FullNet object at 0x114d9eb748>> could not be transformed and will be executed as-is. Please report this to the AutgoGraph team. When filing the bug, set the verbosity to 10 (on Linux, `export AUTOGRAPH_VERBOSITY=10`) and attach the full output. Cause: converting <bound method FullNet.call of <network.network.FullNet object at 0x114d9eb748>>: AssertionError: Bad argument number for Name: 3, expecting 4\n"
     ]
    },
    {
     "name": "stdout",
     "output_type": "stream",
     "text": [
      "WARNING: Entity <bound method FullNet.call of <network.network.FullNet object at 0x114d9eb748>> could not be transformed and will be executed as-is. Please report this to the AutgoGraph team. When filing the bug, set the verbosity to 10 (on Linux, `export AUTOGRAPH_VERBOSITY=10`) and attach the full output. Cause: converting <bound method FullNet.call of <network.network.FullNet object at 0x114d9eb748>>: AssertionError: Bad argument number for Name: 3, expecting 4\n",
      "WARNING:tensorflow:Entity <bound method GenericNet.call of <network.generic_net.GenericNet object at 0x114db4b470>> could not be transformed and will be executed as-is. Please report this to the AutgoGraph team. When filing the bug, set the verbosity to 10 (on Linux, `export AUTOGRAPH_VERBOSITY=10`) and attach the full output. Cause: converting <bound method GenericNet.call of <network.generic_net.GenericNet object at 0x114db4b470>>: AssertionError: Bad argument number for Name: 3, expecting 4\n"
     ]
    },
    {
     "name": "stderr",
     "output_type": "stream",
     "text": [
      "WARNING:tensorflow:Entity <bound method GenericNet.call of <network.generic_net.GenericNet object at 0x114db4b470>> could not be transformed and will be executed as-is. Please report this to the AutgoGraph team. When filing the bug, set the verbosity to 10 (on Linux, `export AUTOGRAPH_VERBOSITY=10`) and attach the full output. Cause: converting <bound method GenericNet.call of <network.generic_net.GenericNet object at 0x114db4b470>>: AssertionError: Bad argument number for Name: 3, expecting 4\n"
     ]
    },
    {
     "name": "stdout",
     "output_type": "stream",
     "text": [
      "WARNING: Entity <bound method GenericNet.call of <network.generic_net.GenericNet object at 0x114db4b470>> could not be transformed and will be executed as-is. Please report this to the AutgoGraph team. When filing the bug, set the verbosity to 10 (on Linux, `export AUTOGRAPH_VERBOSITY=10`) and attach the full output. Cause: converting <bound method GenericNet.call of <network.generic_net.GenericNet object at 0x114db4b470>>: AssertionError: Bad argument number for Name: 3, expecting 4\n",
      "WARNING:tensorflow:Entity <bound method FullNet.call of <network.network.FullNet object at 0x114d9eb748>> could not be transformed and will be executed as-is. Please report this to the AutgoGraph team. When filing the bug, set the verbosity to 10 (on Linux, `export AUTOGRAPH_VERBOSITY=10`) and attach the full output. Cause: converting <bound method FullNet.call of <network.network.FullNet object at 0x114d9eb748>>: AssertionError: Bad argument number for Name: 3, expecting 4\n"
     ]
    },
    {
     "name": "stderr",
     "output_type": "stream",
     "text": [
      "WARNING:tensorflow:Entity <bound method FullNet.call of <network.network.FullNet object at 0x114d9eb748>> could not be transformed and will be executed as-is. Please report this to the AutgoGraph team. When filing the bug, set the verbosity to 10 (on Linux, `export AUTOGRAPH_VERBOSITY=10`) and attach the full output. Cause: converting <bound method FullNet.call of <network.network.FullNet object at 0x114d9eb748>>: AssertionError: Bad argument number for Name: 3, expecting 4\n"
     ]
    },
    {
     "name": "stdout",
     "output_type": "stream",
     "text": [
      "WARNING: Entity <bound method FullNet.call of <network.network.FullNet object at 0x114d9eb748>> could not be transformed and will be executed as-is. Please report this to the AutgoGraph team. When filing the bug, set the verbosity to 10 (on Linux, `export AUTOGRAPH_VERBOSITY=10`) and attach the full output. Cause: converting <bound method FullNet.call of <network.network.FullNet object at 0x114d9eb748>>: AssertionError: Bad argument number for Name: 3, expecting 4\n",
      "WARNING:tensorflow:Entity <bound method GenericNet.call of <network.generic_net.GenericNet object at 0x114db4b470>> could not be transformed and will be executed as-is. Please report this to the AutgoGraph team. When filing the bug, set the verbosity to 10 (on Linux, `export AUTOGRAPH_VERBOSITY=10`) and attach the full output. Cause: converting <bound method GenericNet.call of <network.generic_net.GenericNet object at 0x114db4b470>>: AssertionError: Bad argument number for Name: 3, expecting 4\n"
     ]
    },
    {
     "name": "stderr",
     "output_type": "stream",
     "text": [
      "WARNING:tensorflow:Entity <bound method GenericNet.call of <network.generic_net.GenericNet object at 0x114db4b470>> could not be transformed and will be executed as-is. Please report this to the AutgoGraph team. When filing the bug, set the verbosity to 10 (on Linux, `export AUTOGRAPH_VERBOSITY=10`) and attach the full output. Cause: converting <bound method GenericNet.call of <network.generic_net.GenericNet object at 0x114db4b470>>: AssertionError: Bad argument number for Name: 3, expecting 4\n"
     ]
    },
    {
     "name": "stdout",
     "output_type": "stream",
     "text": [
      "WARNING: Entity <bound method GenericNet.call of <network.generic_net.GenericNet object at 0x114db4b470>> could not be transformed and will be executed as-is. Please report this to the AutgoGraph team. When filing the bug, set the verbosity to 10 (on Linux, `export AUTOGRAPH_VERBOSITY=10`) and attach the full output. Cause: converting <bound method GenericNet.call of <network.generic_net.GenericNet object at 0x114db4b470>>: AssertionError: Bad argument number for Name: 3, expecting 4\n",
      "WARNING:tensorflow:Entity <bound method FullNet.call of <network.network.FullNet object at 0x114db20ef0>> could not be transformed and will be executed as-is. Please report this to the AutgoGraph team. When filing the bug, set the verbosity to 10 (on Linux, `export AUTOGRAPH_VERBOSITY=10`) and attach the full output. Cause: converting <bound method FullNet.call of <network.network.FullNet object at 0x114db20ef0>>: AssertionError: Bad argument number for Name: 3, expecting 4\n"
     ]
    },
    {
     "name": "stderr",
     "output_type": "stream",
     "text": [
      "WARNING:tensorflow:Entity <bound method FullNet.call of <network.network.FullNet object at 0x114db20ef0>> could not be transformed and will be executed as-is. Please report this to the AutgoGraph team. When filing the bug, set the verbosity to 10 (on Linux, `export AUTOGRAPH_VERBOSITY=10`) and attach the full output. Cause: converting <bound method FullNet.call of <network.network.FullNet object at 0x114db20ef0>>: AssertionError: Bad argument number for Name: 3, expecting 4\n"
     ]
    },
    {
     "name": "stdout",
     "output_type": "stream",
     "text": [
      "WARNING: Entity <bound method FullNet.call of <network.network.FullNet object at 0x114db20ef0>> could not be transformed and will be executed as-is. Please report this to the AutgoGraph team. When filing the bug, set the verbosity to 10 (on Linux, `export AUTOGRAPH_VERBOSITY=10`) and attach the full output. Cause: converting <bound method FullNet.call of <network.network.FullNet object at 0x114db20ef0>>: AssertionError: Bad argument number for Name: 3, expecting 4\n",
      "WARNING:tensorflow:Entity <bound method GenericNet.call of <network.generic_net.GenericNet object at 0x114db7c6a0>> could not be transformed and will be executed as-is. Please report this to the AutgoGraph team. When filing the bug, set the verbosity to 10 (on Linux, `export AUTOGRAPH_VERBOSITY=10`) and attach the full output. Cause: converting <bound method GenericNet.call of <network.generic_net.GenericNet object at 0x114db7c6a0>>: AssertionError: Bad argument number for Name: 3, expecting 4\n"
     ]
    },
    {
     "name": "stderr",
     "output_type": "stream",
     "text": [
      "WARNING:tensorflow:Entity <bound method GenericNet.call of <network.generic_net.GenericNet object at 0x114db7c6a0>> could not be transformed and will be executed as-is. Please report this to the AutgoGraph team. When filing the bug, set the verbosity to 10 (on Linux, `export AUTOGRAPH_VERBOSITY=10`) and attach the full output. Cause: converting <bound method GenericNet.call of <network.generic_net.GenericNet object at 0x114db7c6a0>>: AssertionError: Bad argument number for Name: 3, expecting 4\n"
     ]
    },
    {
     "name": "stdout",
     "output_type": "stream",
     "text": [
      "WARNING: Entity <bound method GenericNet.call of <network.generic_net.GenericNet object at 0x114db7c6a0>> could not be transformed and will be executed as-is. Please report this to the AutgoGraph team. When filing the bug, set the verbosity to 10 (on Linux, `export AUTOGRAPH_VERBOSITY=10`) and attach the full output. Cause: converting <bound method GenericNet.call of <network.generic_net.GenericNet object at 0x114db7c6a0>>: AssertionError: Bad argument number for Name: 3, expecting 4\n"
     ]
    }
   ],
   "source": [
    "step = 0\n",
    "# Create operations for getting the output from `model.dynamics._forward_lf`:\n",
    "xf_, vf_, sld_, _ = model.dynamics._forward_lf(model.x, vf_init,\n",
    "                                               model.beta, step,\n",
    "                                               model.net_weights,\n",
    "                                               training=model.train_phase)\n",
    "\n",
    "# Create operation for calculating the gradient of the potential\n",
    "dudx_tf_ = model.dynamics.grad_potential(model.x, model.beta)"
   ]
  },
  {
   "cell_type": "code",
   "execution_count": 22,
   "metadata": {
    "ExecuteTime": {
     "end_time": "2020-01-23T22:05:53.427185Z",
     "start_time": "2020-01-23T22:05:52.592042Z"
    }
   },
   "outputs": [
    {
     "name": "stdout",
     "output_type": "stream",
     "text": [
      "WARNING:tensorflow:Entity <bound method FullNet.call of <network.network.FullNet object at 0x114db20ef0>> could not be transformed and will be executed as-is. Please report this to the AutgoGraph team. When filing the bug, set the verbosity to 10 (on Linux, `export AUTOGRAPH_VERBOSITY=10`) and attach the full output. Cause: converting <bound method FullNet.call of <network.network.FullNet object at 0x114db20ef0>>: AssertionError: Bad argument number for Name: 3, expecting 4\n"
     ]
    },
    {
     "name": "stderr",
     "output_type": "stream",
     "text": [
      "WARNING:tensorflow:Entity <bound method FullNet.call of <network.network.FullNet object at 0x114db20ef0>> could not be transformed and will be executed as-is. Please report this to the AutgoGraph team. When filing the bug, set the verbosity to 10 (on Linux, `export AUTOGRAPH_VERBOSITY=10`) and attach the full output. Cause: converting <bound method FullNet.call of <network.network.FullNet object at 0x114db20ef0>>: AssertionError: Bad argument number for Name: 3, expecting 4\n"
     ]
    },
    {
     "name": "stdout",
     "output_type": "stream",
     "text": [
      "WARNING: Entity <bound method FullNet.call of <network.network.FullNet object at 0x114db20ef0>> could not be transformed and will be executed as-is. Please report this to the AutgoGraph team. When filing the bug, set the verbosity to 10 (on Linux, `export AUTOGRAPH_VERBOSITY=10`) and attach the full output. Cause: converting <bound method FullNet.call of <network.network.FullNet object at 0x114db20ef0>>: AssertionError: Bad argument number for Name: 3, expecting 4\n",
      "WARNING:tensorflow:Entity <bound method GenericNet.call of <network.generic_net.GenericNet object at 0x114db7c6a0>> could not be transformed and will be executed as-is. Please report this to the AutgoGraph team. When filing the bug, set the verbosity to 10 (on Linux, `export AUTOGRAPH_VERBOSITY=10`) and attach the full output. Cause: converting <bound method GenericNet.call of <network.generic_net.GenericNet object at 0x114db7c6a0>>: AssertionError: Bad argument number for Name: 3, expecting 4\n"
     ]
    },
    {
     "name": "stderr",
     "output_type": "stream",
     "text": [
      "WARNING:tensorflow:Entity <bound method GenericNet.call of <network.generic_net.GenericNet object at 0x114db7c6a0>> could not be transformed and will be executed as-is. Please report this to the AutgoGraph team. When filing the bug, set the verbosity to 10 (on Linux, `export AUTOGRAPH_VERBOSITY=10`) and attach the full output. Cause: converting <bound method GenericNet.call of <network.generic_net.GenericNet object at 0x114db7c6a0>>: AssertionError: Bad argument number for Name: 3, expecting 4\n"
     ]
    },
    {
     "name": "stdout",
     "output_type": "stream",
     "text": [
      "WARNING: Entity <bound method GenericNet.call of <network.generic_net.GenericNet object at 0x114db7c6a0>> could not be transformed and will be executed as-is. Please report this to the AutgoGraph team. When filing the bug, set the verbosity to 10 (on Linux, `export AUTOGRAPH_VERBOSITY=10`) and attach the full output. Cause: converting <bound method GenericNet.call of <network.generic_net.GenericNet object at 0x114db7c6a0>>: AssertionError: Bad argument number for Name: 3, expecting 4\n",
      "WARNING:tensorflow:Entity <bound method FullNet.call of <network.network.FullNet object at 0x114d9eb748>> could not be transformed and will be executed as-is. Please report this to the AutgoGraph team. When filing the bug, set the verbosity to 10 (on Linux, `export AUTOGRAPH_VERBOSITY=10`) and attach the full output. Cause: converting <bound method FullNet.call of <network.network.FullNet object at 0x114d9eb748>>: AssertionError: Bad argument number for Name: 3, expecting 4\n"
     ]
    },
    {
     "name": "stderr",
     "output_type": "stream",
     "text": [
      "WARNING:tensorflow:Entity <bound method FullNet.call of <network.network.FullNet object at 0x114d9eb748>> could not be transformed and will be executed as-is. Please report this to the AutgoGraph team. When filing the bug, set the verbosity to 10 (on Linux, `export AUTOGRAPH_VERBOSITY=10`) and attach the full output. Cause: converting <bound method FullNet.call of <network.network.FullNet object at 0x114d9eb748>>: AssertionError: Bad argument number for Name: 3, expecting 4\n"
     ]
    },
    {
     "name": "stdout",
     "output_type": "stream",
     "text": [
      "WARNING: Entity <bound method FullNet.call of <network.network.FullNet object at 0x114d9eb748>> could not be transformed and will be executed as-is. Please report this to the AutgoGraph team. When filing the bug, set the verbosity to 10 (on Linux, `export AUTOGRAPH_VERBOSITY=10`) and attach the full output. Cause: converting <bound method FullNet.call of <network.network.FullNet object at 0x114d9eb748>>: AssertionError: Bad argument number for Name: 3, expecting 4\n",
      "WARNING:tensorflow:Entity <bound method GenericNet.call of <network.generic_net.GenericNet object at 0x114db4b470>> could not be transformed and will be executed as-is. Please report this to the AutgoGraph team. When filing the bug, set the verbosity to 10 (on Linux, `export AUTOGRAPH_VERBOSITY=10`) and attach the full output. Cause: converting <bound method GenericNet.call of <network.generic_net.GenericNet object at 0x114db4b470>>: AssertionError: Bad argument number for Name: 3, expecting 4\n"
     ]
    },
    {
     "name": "stderr",
     "output_type": "stream",
     "text": [
      "WARNING:tensorflow:Entity <bound method GenericNet.call of <network.generic_net.GenericNet object at 0x114db4b470>> could not be transformed and will be executed as-is. Please report this to the AutgoGraph team. When filing the bug, set the verbosity to 10 (on Linux, `export AUTOGRAPH_VERBOSITY=10`) and attach the full output. Cause: converting <bound method GenericNet.call of <network.generic_net.GenericNet object at 0x114db4b470>>: AssertionError: Bad argument number for Name: 3, expecting 4\n"
     ]
    },
    {
     "name": "stdout",
     "output_type": "stream",
     "text": [
      "WARNING: Entity <bound method GenericNet.call of <network.generic_net.GenericNet object at 0x114db4b470>> could not be transformed and will be executed as-is. Please report this to the AutgoGraph team. When filing the bug, set the verbosity to 10 (on Linux, `export AUTOGRAPH_VERBOSITY=10`) and attach the full output. Cause: converting <bound method GenericNet.call of <network.generic_net.GenericNet object at 0x114db4b470>>: AssertionError: Bad argument number for Name: 3, expecting 4\n"
     ]
    }
   ],
   "source": [
    "train_phase = False\n",
    "t = model.dynamics._get_time(step, tile=tf.shape(model.x)[0])\n",
    "Sv, Tv, Qv = model.dynamics.vnet([model.x, dudx_tf_, t], model.train_phase)\n",
    "\n",
    "mask, mask_inv = model.dynamics._get_mask(step)\n",
    "Sx, Tx, Qx = model.dynamics.xnet([vf_init, mask * model.x, t], model.train_phase)"
   ]
  },
  {
   "cell_type": "markdown",
   "metadata": {},
   "source": [
    " - Run `model.dynamics` forward and compare against results from running `dynamics_np` forward:"
   ]
  },
  {
   "cell_type": "code",
   "execution_count": 24,
   "metadata": {
    "ExecuteTime": {
     "end_time": "2020-01-23T22:06:05.067251Z",
     "start_time": "2020-01-23T22:06:04.798103Z"
    }
   },
   "outputs": [],
   "source": [
    "step = 0\n",
    "beta_np = 5.\n",
    "train_phase = False\n",
    "net_weights = NetWeights(1, 1, 1, 1, 1, 1)\n",
    "#xf_init_np = np.zeros(model.x.shape, dtype=NP_FLOAT)\n",
    "xf_init_np = np.array(np.random.randn(*model.x.shape), dtype=NP_FLOAT)\n",
    "keys = ['xf', 'vf', 'vf_init', 'pxf', 'sumlogdetf']\n",
    "fops = [xf, vf, vf_init, pxf, sumlogdetf]\n",
    "_keys = ['xf_', 'vf_', 'sld_']\n",
    "_fops = [xf_, vf_, sld_]\n",
    "\n",
    "\n",
    "def forward_lf_tf(net_weights):\n",
    "    feed_dict = {\n",
    "        model.x: xf_init_np,\n",
    "        model.beta: beta_np,\n",
    "        model.net_weights: net_weights,\n",
    "        model.train_phase: train_phase\n",
    "    }\n",
    "    \n",
    "    _fout = sess.run(_fops, feed_dict=feed_dict)\n",
    "    _fout_dict = dict(zip(_keys, _fout))\n",
    "    \n",
    "    return _fout_dict\n",
    "\n",
    "    \n",
    "def forward_lf_np(net_weights, vf_init_np):\n",
    "    \n",
    "    _fout_np = dynamics_np._forward_lf(xf_init_np, vf_init_np,\n",
    "                                       beta_np, step, net_weights)\n",
    "    _fout_dict_np = dict(zip(_keys, _fout_np))\n",
    "    return _fout_dict_np\n",
    "\n",
    "\n",
    "def dynamics_forward_tf(net_weights):\n",
    "    feed_dict = {\n",
    "        model.x: xf_init_np,\n",
    "        model.beta: beta_np,\n",
    "        model.net_weights: net_weights,\n",
    "        model.train_phase: train_phase\n",
    "    }\n",
    "\n",
    "    fout = sess.run(fops, feed_dict=feed_dict)\n",
    "    fout_dict = dict(zip(keys, fout))\n",
    "    \n",
    "    return fout_dict\n",
    "\n",
    "\n",
    "def run_xnet():\n",
    "    feed_dict = {\n",
    "        model.x: xf_init_np,\n",
    "        model.beta: beta_np,\n",
    "        model.net_weights: net_weights,\n",
    "        model.train_phase: train_phase,\n",
    "    }\n",
    "    \n",
    "    outputs = sess.run([Sx, Tx, Qx], feed_dict=feed_dict)\n",
    "    \n",
    "    return outputs\n",
    "\n",
    "\n",
    "def run_vnet():\n",
    "    feed_dict = {\n",
    "        model.x: xf_init_np,\n",
    "        model.beta: beta_np,\n",
    "        model.train_phase: train_phase,\n",
    "    }\n",
    "    outputs = sess.run([Sv, Tv, Qv], feed_dict=feed_dict)\n",
    "    \n",
    "    return outputs\n",
    "\n",
    "def run_xnet_np():\n",
    "    t = dynamics_np._get_time(step, tile=xf_init_np.shape[0])\n",
    "    mask, mask_inv = dynamics_np._get_mask(step)\n",
    "    outputs = dynamics_np.xnet([vf_init_np, mask * xf_init_np, t])\n",
    "    return outputs\n",
    "\n",
    "\n",
    "def run_vnet_np():\n",
    "    t = dynamics_np._get_time(step, tile=xf_init_np.shape[0])\n",
    "    mask, mask_inv = dynamics_np._get_mask(step)\n",
    "    dU_dx = dynamics_np.grad_potential(xf_init_np, beta_np)\n",
    "    outputs = dynamics_np.vnet([xf_init_np, dU_dx, t])\n",
    "    return outputs\n",
    "    \n",
    "\n",
    "def dynamics_forward_np(net_weights, vf_init_np):\n",
    "    state_init_f_np = State(xf_init_np, vf_init_np, beta_np)\n",
    "    \n",
    "    xf, vf, pxf, sldf = dynamics_np.transition_kernel(*state_init_f_np,\n",
    "                                                      net_weights, forward=True)\n",
    "    fout_dict_np = {\n",
    "        'xf': xf,\n",
    "        'vf': vf,\n",
    "        'vf_init': vf_init_np,\n",
    "        'pxf': pxf,\n",
    "        'sumlogdetf': sldf,\n",
    "    }\n",
    "    \n",
    "    return fout_dict_np\n",
    "\n",
    "\n",
    "def calc_diff(x1, x2, name=''):\n",
    "    diff = np.sqrt(np.sum((x1 - x2)**2))\n",
    "    print(f'{name} diff = {diff}')\n",
    "    \n",
    "    return diff"
   ]
  },
  {
   "cell_type": "markdown",
   "metadata": {},
   "source": [
    " - Check that $\\partial_x U(x)$ is the same for `dynamics_tf` and `dynamics_np`:"
   ]
  },
  {
   "cell_type": "code",
   "execution_count": 26,
   "metadata": {
    "ExecuteTime": {
     "end_time": "2020-01-23T22:06:37.637678Z",
     "start_time": "2020-01-23T22:06:37.088026Z"
    }
   },
   "outputs": [
    {
     "name": "stdout",
     "output_type": "stream",
     "text": [
      "Gradients agree: True\n"
     ]
    }
   ],
   "source": [
    "xrand_np = np.array(np.random.randn(*xf_init_np.shape), dtype=NP_FLOAT)\n",
    "dudx_np = dynamics_np.grad_potential(xrand_np, beta_np)\n",
    "\n",
    "dudx_tf = sess.run(dudx_tf_, feed_dict={model.x: xrand_np, model.beta: beta_np})\n",
    "\n",
    "diff = np.sqrt(np.sum((dudx_np - dudx_tf) ** 2))\n",
    "print(f'Gradients agree: {diff < 1e-3}')"
   ]
  },
  {
   "cell_type": "code",
   "execution_count": 27,
   "metadata": {
    "ExecuteTime": {
     "end_time": "2020-01-23T22:06:45.021473Z",
     "start_time": "2020-01-23T22:06:42.250185Z"
    }
   },
   "outputs": [
    {
     "name": "stdout",
     "output_type": "stream",
     "text": [
      "Sx agrees: True\n",
      "Tx agrees: True\n",
      "Qx agrees: True\n",
      "Sv agrees: True\n",
      "Tv agrees: True\n",
      "Qv agrees: True\n"
     ]
    }
   ],
   "source": [
    "Sx_tf, Tx_tf, Qx_tf = run_xnet()\n",
    "Sx_np, Tx_np, Qx_np = run_xnet_np()\n",
    "print(f'Sx agrees: {np.allclose(Sx_tf, Sx_np)}')\n",
    "print(f'Tx agrees: {np.allclose(Tx_tf, Tx_np)}')\n",
    "print(f'Qx agrees: {np.allclose(Qx_tf, Qx_np)}')\n",
    "\n",
    "Sv_tf, Tv_tf, Qv_tf = run_vnet()\n",
    "Sv_np, Tv_np, Qv_np = run_vnet_np()\n",
    "print(f'Sv agrees: {np.allclose(Sv_tf, Sv_np)}')\n",
    "print(f'Tv agrees: {np.allclose(Tv_tf, Tv_np)}')\n",
    "print(f'Qv agrees: {np.allclose(Qv_tf, Qv_np)}')"
   ]
  },
  {
   "cell_type": "code",
   "execution_count": 28,
   "metadata": {
    "ExecuteTime": {
     "end_time": "2020-01-23T22:06:47.109542Z",
     "start_time": "2020-01-23T22:06:46.716746Z"
    }
   },
   "outputs": [
    {
     "name": "stdout",
     "output_type": "stream",
     "text": [
      "--------------------------------------------------------------------------------\n",
      "NetWeights: NetWeights(x_scale=0, x_translation=0, x_transformation=0, v_scale=0, v_translation=0, v_transformation=0)\n"
     ]
    },
    {
     "data": {
      "text/plain": [
       "True"
      ]
     },
     "execution_count": 28,
     "metadata": {},
     "output_type": "execute_result"
    },
    {
     "name": "stdout",
     "output_type": "stream",
     "text": [
      "xf diff = 2.8194319838803494e-06\n",
      "vf diff = 6.177677278174087e-06\n",
      "vf_init diff = 0.0\n",
      "pxf diff = 4.250054189469665e-06\n",
      "sumlogdetf diff = 0.0\n",
      "--------------------------------------------------------------------------------\n",
      "--------------------------------------------------------------------------------\n",
      "NetWeights: NetWeights(x_scale=1, x_translation=1, x_transformation=1, v_scale=1, v_translation=1, v_transformation=1)\n"
     ]
    },
    {
     "data": {
      "text/plain": [
       "True"
      ]
     },
     "execution_count": 28,
     "metadata": {},
     "output_type": "execute_result"
    },
    {
     "name": "stdout",
     "output_type": "stream",
     "text": [
      "xf diff = 2.7628334464679938e-06\n",
      "vf diff = 7.176699909905437e-06\n",
      "vf_init diff = 0.0\n",
      "pxf diff = 2.9415648441499798e-06\n",
      "sumlogdetf diff = 1.519626238177807e-07\n",
      "--------------------------------------------------------------------------------\n"
     ]
    }
   ],
   "source": [
    "HEADER = 80 * '-'\n",
    "net_weights_arr = [\n",
    "    NetWeights(0, 0, 0, 0, 0, 0),\n",
    "    #NetWeights(0, 0, 0, 0, 0, 1),\n",
    "    #NetWeights(0, 0, 0, 0, 1, 0),\n",
    "    #NetWeights(0, 0, 0, 1, 0, 0),\n",
    "    #NetWeights(0, 0, 1, 0, 0, 0),\n",
    "    #NetWeights(0, 1, 0, 0, 0, 0),\n",
    "    #NetWeights(1, 0, 0, 0, 0, 0),\n",
    "    NetWeights(1, 1, 1, 1, 1, 1),\n",
    "]\n",
    "\n",
    "diffs_dict = {\n",
    "    \n",
    "}\n",
    "for net_weights in net_weights_arr:\n",
    "    io.log(HEADER)\n",
    "    io.log(f'NetWeights: {net_weights}')\n",
    "    fout_tf = dynamics_forward_tf(net_weights)\n",
    "    diffs_dict[net_weights] = {}\n",
    "    _vf_np = fout_tf['vf_init']\n",
    "    np.allclose(_vf_np, vf_init_np)\n",
    "    fout_np = dynamics_forward_np(net_weights, vf_init_np)\n",
    "    for key in fout_tf.keys():\n",
    "        diffs_dict[key] = calc_diff(fout_tf[key], fout_np[key], name=key)\n",
    "    io.log(HEADER)"
   ]
  },
  {
   "cell_type": "code",
   "execution_count": 29,
   "metadata": {
    "ExecuteTime": {
     "end_time": "2020-01-23T22:06:53.911407Z",
     "start_time": "2020-01-23T22:06:51.967593Z"
    }
   },
   "outputs": [
    {
     "name": "stdout",
     "output_type": "stream",
     "text": [
      "-----------------------------------\n",
      "NetWeights: (0, 0, 0, 0, 0, 0)\n",
      "xf_ diff = 1.652618664138572e-07\n",
      "vf_ diff = 9.341792406303284e-07\n",
      "sld_ diff = 0.0\n",
      "-----------------------------------\n",
      "NetWeights: (1, 1, 1, 1, 1, 1)\n",
      "xf_ diff = 4.411031682138855e-07\n",
      "vf_ diff = 1.093307673727395e-06\n",
      "sld_ diff = 4.592846281070706e-08\n"
     ]
    }
   ],
   "source": [
    "HEADER1 = (len(f'NetWeights: {tuple(net_weights)}') + 5) * '-'\n",
    "\n",
    "_diffs_dict = {}\n",
    "for net_weights in net_weights_arr:\n",
    "    io.log(HEADER1)\n",
    "    io.log(f'NetWeights: {tuple(net_weights)}')\n",
    "    _diffs_dict[net_weights] = {}\n",
    "    _fout_tf = forward_lf_tf(net_weights)\n",
    "    #_vf_init = _fout_tf\n",
    "    _fout_np = forward_lf_np(net_weights, vf_init_np)\n",
    "    for key in _fout_tf.keys():\n",
    "        _diffs_dict[key] = calc_diff(_fout_tf[key], _fout_np[key], name=key)"
   ]
  },
  {
   "cell_type": "code",
   "execution_count": null,
   "metadata": {},
   "outputs": [],
   "source": []
  }
 ],
 "metadata": {
  "kernelspec": {
   "display_name": "Python [conda env:idp] *",
   "language": "python",
   "name": "conda-env-idp-py"
  },
  "language_info": {
   "codemirror_mode": {
    "name": "ipython",
    "version": 3
   },
   "file_extension": ".py",
   "mimetype": "text/x-python",
   "name": "python",
   "nbconvert_exporter": "python",
   "pygments_lexer": "ipython3",
   "version": "3.6.9"
  },
  "varInspector": {
   "cols": {
    "lenName": 16,
    "lenType": 16,
    "lenVar": 40
   },
   "kernels_config": {
    "python": {
     "delete_cmd_postfix": "",
     "delete_cmd_prefix": "del ",
     "library": "var_list.py",
     "varRefreshCmd": "print(var_dic_list())"
    },
    "r": {
     "delete_cmd_postfix": ") ",
     "delete_cmd_prefix": "rm(",
     "library": "var_list.r",
     "varRefreshCmd": "cat(var_dic_list()) "
    }
   },
   "types_to_exclude": [
    "module",
    "function",
    "builtin_function_or_method",
    "instance",
    "_Feature"
   ],
   "window_display": false
  }
 },
 "nbformat": 4,
 "nbformat_minor": 2
}
