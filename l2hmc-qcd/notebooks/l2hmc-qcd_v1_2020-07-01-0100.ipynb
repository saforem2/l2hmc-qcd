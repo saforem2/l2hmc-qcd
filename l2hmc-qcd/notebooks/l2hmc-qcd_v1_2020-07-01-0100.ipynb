{
 "cells": [
  {
   "cell_type": "markdown",
   "metadata": {},
   "source": [
    "# l2hmc-qcd\n",
    "\n",
    " * Available at:\n",
    "[https://github.com/saforem2/l2hmc-qcd](https://github.com/saforem2/l2hmc-qcd)\n",
    "\n",
    "$\\newcommand{\\bfL}{\\mathbf{L}}$\n",
    "$\\newcommand{\\bfF}{\\mathbf{F}}$\n",
    "$\\newcommand{\\FLxi}{\\mathbf{F}\\mathbf{L}\\xi}$\n",
    "$\\newcommand{\\floor}[1]{\\lfloor #1 \\rfloor}$"
   ]
  },
  {
   "cell_type": "markdown",
   "metadata": {},
   "source": [
    "## <font color=\"#87ff00\">Motivation: </font>\n"
   ]
  },
  {
   "cell_type": "markdown",
   "metadata": {
    "heading_collapsed": true
   },
   "source": [
    "### <font color='#f92672'>Lattice QCD:</font>"
   ]
  },
  {
   "cell_type": "markdown",
   "metadata": {
    "hidden": true
   },
   "source": [
    " - Non perturbative approach to solving the QCD theory of the strong interaction between quarks and gluons.\n",
    " \n",
    " - Calculations proceed in 3 steps:\n",
    "   1.  <font color='#03a9f4'>**Gauge field generation**:</font> Use MCMC methods for sampling independent gauge field (gluon) configurations.\n",
    "   2. **Propagator calculations**: Compute how quarks propagate in these fields (\"quark propagators')\n",
    "   3. **Contractions** Method for combining quark propagators into correlation functions and observables.\n",
    "   \n",
    "   \n",
    "Gauge field generation remains one of the major bottlenecks in LatticeQCD, due to <font color='#03a9f4'>*critical slowing down*</font>."
   ]
  },
  {
   "cell_type": "markdown",
   "metadata": {
    "heading_collapsed": true
   },
   "source": [
    "### <font color='#f92672'>Critical slowing down:</font>"
   ]
  },
  {
   "cell_type": "markdown",
   "metadata": {
    "hidden": true
   },
   "source": [
    " * Simulations are performed using some finite lattice spacing, $a$.\n",
    " \n",
    " \n",
    " * We wish to extrapolate from these results to the *continuum limit $a \\rightarrow 0$.\n",
    " \n",
    " \n",
    " * As $a\\rightarrow 0$, MCMC updates get stuck in sectors of fixed gauge topology.\n",
    "  \n",
    "  \n",
    " * This causes the number of steps needed to adequately sample different sectors to grow exponentially (divergent *autocorrelation time* $\\tau_{\\mathcal{O}}^{\\mathrm{int}}$)!\n",
    "  \n",
    "  \n",
    "  * <font color='#ffff00'>  **Idea**</font>: *Use ML to more efficiently generate sample configurations.*"
   ]
  },
  {
   "cell_type": "markdown",
   "metadata": {
    "heading_collapsed": true
   },
   "source": [
    "## <font color='#87ff00'>Markov Chain Monte Carlo (MCMC)</font>\n",
    "---"
   ]
  },
  {
   "cell_type": "markdown",
   "metadata": {
    "hidden": true
   },
   "source": [
    "**GOAL**: Generate a sequence of random samples which converge to being distributed according to a target probability distribution $p(x)$ for which direct sampling is difficult.\n",
    "\n",
    "In Lattice QCD, this sequence can be used to estimate integrals with respect to the target distribution (i.e. expected values of physical observables)."
   ]
  },
  {
   "cell_type": "markdown",
   "metadata": {
    "heading_collapsed": true,
    "hidden": true
   },
   "source": [
    "### <font color='#f92672'>Metropolis-Hastings algorithm</font>\n",
    "---"
   ]
  },
  {
   "cell_type": "markdown",
   "metadata": {
    "hidden": true
   },
   "source": [
    "Given a transition kernel $q(x^{\\prime}|x)$ and an initialization distribution $p_{0}$ proceed as follows:\n",
    "\n",
    "  1. Initialize $x_{0} \\sim p_{0}$\n",
    "     \n",
    "     \n",
    "  2. for $t = 0$ to $N$:   \n",
    "     \n",
    "    1. Sample $x^{\\prime} \\sim q(\\cdot|x_{t})$\n",
    "       \n",
    "    2. Compute the acceptance probability:\n",
    "    \\begin{equation}\n",
    "    A(x^{\\prime}|x_{t}) =\n",
    "      \\min\\left(1, \\frac{p(x^{\\prime})\\,q(x_{t}|x^{\\prime})}\n",
    "      {p(x_{t})\\,q(x^{\\prime}|x_{t})}\\right)\n",
    "      = \\underbrace{\\min\\left(1, \\frac{p(x^{\\prime})}\n",
    "      {p(x)}\\right)}_{\\text{if}\\,\\, q(x^{\\prime}|x) \n",
    "      \\,=\\, q(x|x^{\\prime})}\n",
    "    \\end{equation}\n",
    "       \n",
    "    3. With probability $A$, accept the proposed value and set $x_{t+1} = x^{\\prime}$. Otherwise, set $x_{t+1} = x_{t}$."
   ]
  },
  {
   "cell_type": "markdown",
   "metadata": {
    "ExecuteTime": {
     "end_time": "2020-06-30T03:27:16.542073Z",
     "start_time": "2020-06-30T03:27:16.538897Z"
    },
    "heading_collapsed": true
   },
   "source": [
    "## <font color='#87ff00'>Hamiltonian Monte Carlo (HMC)</font>\n",
    "---"
   ]
  },
  {
   "cell_type": "markdown",
   "metadata": {
    "ExecuteTime": {
     "end_time": "2020-06-30T03:27:16.542073Z",
     "start_time": "2020-06-30T03:27:16.538897Z"
    },
    "hidden": true
   },
   "source": [
    "<font color=\"#ffff00\">GOAL:</font>\n",
    "\n",
    "  - Sample from target distribution, $p(x)$\n",
    "  - Use Hamiltonian Dynamics to \"guide\" the simulation through phase space"
   ]
  },
  {
   "cell_type": "markdown",
   "metadata": {
    "ExecuteTime": {
     "end_time": "2020-06-30T03:27:16.542073Z",
     "start_time": "2020-06-30T03:27:16.538897Z"
    },
    "hidden": true
   },
   "source": [
    "<img src=\"./img/hmc_phase_space.png\" width=80% height=auto/>"
   ]
  },
  {
   "cell_type": "markdown",
   "metadata": {
    "ExecuteTime": {
     "end_time": "2020-06-30T03:27:16.542073Z",
     "start_time": "2020-06-30T03:27:16.538897Z"
    },
    "hidden": true
   },
   "source": [
    " * Rewrite target density $\\longrightarrow$ **potential energy**:\n",
    " \n",
    "     \\begin{equation}\n",
    "     p(x) \\propto \\exp\\left(-\\beta U(x)\\right)\n",
    "     \\end{equation}\n",
    "     \n",
    "    where $\\beta = 1 / T$ is the *inverse temperature*\n",
    "     \n",
    " \n",
    " \n",
    " * Introduce $v \\sim \\mathcal{N}(0, \\mathbb{1})$ distributed independently of x.\n",
    " \n",
    "     \\begin{align}\n",
    "       p(v) &\\propto \\exp\\left(-\\frac{1}{2}v^{T}v\\right)\\\\\n",
    "       &= \\exp\\big[-K(v)\\big]\n",
    "     \\end{align}\n",
    " \n",
    " \n",
    " \n",
    " * In terms of the **Hamiltonian**, $H(x, v) = U(x) + K(v)$, then:\n",
    " \n",
    "    \\begin{align}\n",
    "    p(x, v) &= \\frac{1}{\\mathcal{Z}}\\exp\\left(-H(x, v)\\right) \\\\\n",
    "    &\\propto p(x) p(v)\n",
    "    \\end{align}\n"
   ]
  },
  {
   "cell_type": "markdown",
   "metadata": {
    "heading_collapsed": true,
    "hidden": true
   },
   "source": [
    "### <font color='#f92672'>Hamiltonian Dynamics / Leapfrog Integrator:</font>"
   ]
  },
  {
   "cell_type": "markdown",
   "metadata": {
    "hidden": true
   },
   "source": [
    "Recall Hamilton's equations:\n",
    "\n",
    "\\begin{align}\n",
    "  \\begin{split}\n",
    "    \\frac{d x}{dt} &= \\frac{\\partial H}{\\partial v} = v \\\\\n",
    "    \\frac{d v}{dt} &= -\\frac{\\partial H}{\\partial x} = -\\frac{\\partial U}{\\partial x} \\\n",
    "  \\end{split}\n",
    "\\label{eq:hamiltons_eqs}\n",
    "\\end{align}\n",
    "\n",
    "\n",
    "<!---\n",
    " * Evolve the system using Eq. \\ref{eq:hamiltons_eqs}:\n",
    " \n",
    "     \\begin{align}\n",
    "     x_{n+1} \\longleftarrow x_{n}\n",
    "     \\end{align}\n",
    " \n",
    "     \\begin{equation}\n",
    "       \\big[x(0), v(0)\\big] \n",
    "           \\xrightarrow{\\int_{0}^{dT} (\\ref{eq:hamiltons_eqs})\\,\\, dt}\n",
    "         \\big[x(T), v(T)\\big]\n",
    "     \\end{equation}\n",
    "--->\n",
    "     \n",
    "    "
   ]
  },
  {
   "cell_type": "markdown",
   "metadata": {
    "hidden": true
   },
   "source": [
    " 1. Draw a fresh momentum from $v_{n} \\sim \\mathcal{N}(0, \\mathbb{1})$\n",
    " \n",
    " \n",
    " 2. Alternate half-step updates of the momentum and full-step updates of the position:\n",
    "\n",
    "     \\begin{align}\n",
    "       v_{n+\\frac{1}{2}} &= v_{n} - \\frac{\\varepsilon}{2} \\frac{\\partial U(x_{n})}{\\partial x_{n}} \\\\\n",
    "       x^{\\prime} \\equiv x_{n+1} &= x_{n} + \\varepsilon v_{n+\\frac{1}{2}} \\\\\n",
    "       v^{\\prime} \\equiv v_{n+1} &= v_{n+\\frac{1}{2}} - \\frac{\\varepsilon}{2} \\frac{\\partial U(x_{n+1})}{\\partial x_{n+1}}\n",
    "     \\end{align}\n",
    " \n",
    "     where $\\varepsilon$ is the *step size*.\n",
    "     \n",
    "     \n",
    "<!---\n",
    "the operator that performs $M$ successive applications of the above updates:\n",
    "--->\n",
    "  3. Let $\\xi \\equiv (x, v)$ and $\\mathbf{L}$ and $\\mathbf{F}$ denote the operators:\n",
    "  \n",
    "      \\begin{align}\n",
    "        \\text{(leapfrog operator)}\\quad \n",
    "        \\bfL &:\n",
    "          \\xi\\longrightarrow\\left(\\xi^{\\prime}\\right)^{\\times M} \\\\\n",
    "        \\text{(momentum flip)}\\quad\n",
    "        \\bfF &:\n",
    "          \\xi = (x, v) \\longrightarrow (x, -v)\n",
    "      \\end{align}\n",
    "      \n",
    "      \n",
    "&nbsp;\n",
    "\n",
    " * To account for the numerical errors accumulated during the integration, we apply a Metropolis-Hastings accept/reject step.\n",
    " \n",
    "\n",
    " * The probability of accepting the proposed configuration is given by:\n",
    "\n",
    "    \\begin{equation}\n",
    "        A\\left(\\FLxi|\\xi\\right) \n",
    "        = \\min\\bigg[1, \n",
    "            \\frac{p(\\FLxi)}{p(\\xi)}\\underbrace{\\,\\,\n",
    "                \\left|\\frac{\\partial\\,[\\FLxi]} \n",
    "                {\\partial \\xi^{T}}\\right|\n",
    "            \\,\\,}_{\\equiv 1\\,\\,\\textbf{for HMC}}\n",
    "        \\bigg]\n",
    "    \\end{equation}\n",
    "\n",
    "   where $\\left|\\frac{\\partial\\,[\\FLxi]}{\\partial \\xi^{T}}\\right|$\n",
    "   is the determinant of the **Jacobian** of the transformation."
   ]
  },
  {
   "cell_type": "markdown",
   "metadata": {
    "heading_collapsed": true,
    "hidden": true
   },
   "source": [
    "### <font color='#f92672'>DEMO:</font>"
   ]
  },
  {
   "cell_type": "code",
   "execution_count": 57,
   "metadata": {
    "ExecuteTime": {
     "end_time": "2020-07-02T18:14:02.268804Z",
     "start_time": "2020-07-02T18:14:02.214810Z"
    },
    "hidden": true
   },
   "outputs": [
    {
     "data": {
      "text/html": [
       "\n",
       "        <iframe\n",
       "            width=\"1000\"\n",
       "            height=\"750\"\n",
       "            src=\"https://chi-feng.github.io/mcmc-demo/app.html\"\n",
       "            frameborder=\"0\"\n",
       "            allowfullscreen\n",
       "        ></iframe>\n",
       "        "
      ],
      "text/plain": [
       "<IPython.lib.display.IFrame at 0x105d062910>"
      ]
     },
     "execution_count": 57,
     "metadata": {},
     "output_type": "execute_result"
    }
   ],
   "source": [
    "from IPython.display import IFrame\n",
    "IFrame('https://chi-feng.github.io/mcmc-demo/app.html', height=750,  width=1000)"
   ]
  },
  {
   "cell_type": "markdown",
   "metadata": {
    "heading_collapsed": true,
    "hidden": true
   },
   "source": [
    "### <font color='#f92672'>Aside (HMC):</font>"
   ]
  },
  {
   "cell_type": "markdown",
   "metadata": {
    "hidden": true
   },
   "source": [
    " * Add momentum variable $v$ of same dimensionality as $x$ and consider\n",
    " \n",
    "     \\begin{equation}\n",
    "     p(x, v) = p(v|x)p(x)\n",
    "     \\end{equation}\n",
    " \n",
    " where we are free to choose $p(v|x)$.\n",
    " \n",
    "* *In practice*, we often choose $p(v|x) = \\mathcal{N}(0, \\mathbb{1})$.\n",
    "  \n",
    "  \n",
    " * Define the **Hamiltonian**:\n",
    " \n",
    "     \\begin{align}\n",
    "         H(x, v) &= -\\log p(x, v) \\\\\n",
    "         &= -\\log p(v|x) - \\log p(x) \\\\\n",
    "         &= K(x, v) + U(x)\n",
    "     \\end{align}"
   ]
  },
  {
   "cell_type": "markdown",
   "metadata": {
    "heading_collapsed": true
   },
   "source": [
    "## <font color='#87ff00'>Learning to Hamiltonian Monte Carlo: *l2hmc*</font>\n",
    "---"
   ]
  },
  {
   "cell_type": "markdown",
   "metadata": {
    "heading_collapsed": true,
    "hidden": true
   },
   "source": [
    "### <font color='#f92672'> Motivation:</font> <a class=\"tocSkip\">\n",
    "   "
   ]
  },
  {
   "cell_type": "markdown",
   "metadata": {
    "hidden": true
   },
   "source": [
    "#### <font color='#03a9f4'> Issues with HMC:</font> <a class=\"tocSkip\">\n",
    "\n",
    " - Randomly selected energy levels $\\Rightarrow$ *slow mixing*\n",
    " - Difficult to traverse low-density zones\n",
    "\n",
    "#### <font color='#03a9f4'> A \"good\" sampler should:</font>  <a class=\"tocSkip\">\n",
    "    \n",
    " - Mix quickly\n",
    "    \n",
    " - Converge (burn-in) quickly\n",
    "    \n",
    " - Be able to mix across energy levels\n",
    "    \n",
    " - Be able to Mix between modes\n",
    "    \n",
    " \n",
    "    "
   ]
  },
  {
   "cell_type": "markdown",
   "metadata": {
    "heading_collapsed": true,
    "hidden": true
   },
   "source": [
    "### <font color='#f92672'>Idea:</font> <a class=\"tocSkip\">\n",
    "    "
   ]
  },
  {
   "cell_type": "markdown",
   "metadata": {
    "hidden": true
   },
   "source": [
    " * Minimize the **autocorrelation time** by maximizing the expected-squared jump-distance (ESJD).\n",
    " \n",
    "    \n",
    " * Introduce into the leapfrog integrator 6 new functions: $S_{i},\\, T_{i},\\, Q_{i}$, for $i = x, v$.\n",
    "    \n",
    "    \n",
    " * <font color='#ffff00'> Each of these are parameterized by weights in a neural network that can be trained by minimizing a suitably-chosen loss function.\n",
    "\n",
    "\n",
    " * Let $x, v \\in \\mathbb{R}^{n}$ with $v \\sim \\mathcal{N}(0, \\mathbb{1})$.\n",
    " \n",
    " \n",
    " * Introduce a binary direction variable $d \\in \\{-1, +1\\}$, drawn from a uniform distribution.\n",
    " \n",
    " \n",
    " * Denote the complete state by $\\xi = (x, v, d)$, with probability density:\n",
    " \n",
    "     \\begin{equation}\n",
    "     p(\\xi) = p(x)\\, p(v)\\, p(d)\n",
    "     \\end{equation}\n",
    "     \n",
    "     \n",
    "<!---\n",
    " * Begin with a subset of the augmented state space, *independent of the momentum*, $\\zeta_{1} = (x, \\partial_{x}U(x), t)$, and introduce three new functions of $\\zeta_{1}$: $S_{v},\\, T_{v},\\, Q_{v}$\n",
    "--->\n",
    "\n",
    "<!---\n",
    " * Now, however, we first update a subset of the coordinates of \n",
    " $x$, followed by the complementary subset.\n",
    "--->\n",
    "\n",
    " * <font color='#03a9f4'>**Binary masks**:</font>\n",
    "\n",
    "   &nbsp;\n",
    "   - <font color='#03a9f4'>$m^{t} \\in \\{0, 1\\}^{n}$   </font>\n",
    "     * Fixed random binary mask with half of its entries equal to 0 and the other half equal to 1.\n",
    " \n",
    "   &nbsp;\n",
    "   - <font color='#03a9f4'>$\\bar{m}^{t} \\equiv \\mathbb{1} - m^{t}$   </font>\n",
    "     * The complement of $m^{t}$\n",
    "   \n",
    "   &nbsp;\n",
    "   - <font color='#03a9f4'>$x_{m^{t}} \\equiv x\\odot m^{t}$ </font>\n",
    "     * Masking applied to $x$, where $\\odot$ denotes elementwise multiplication.\n",
    " \n",
    "---\n",
    "<font color='#ff005b'>**Note:** </font> In the limit $S_{i}, Q_{i}, T_{i} \\rightarrow 0$, we recover generic HMC (as expected)."
   ]
  },
  {
   "cell_type": "markdown",
   "metadata": {
    "heading_collapsed": true,
    "hidden": true
   },
   "source": [
    "### <font color='#f92672'>Augmented leapfrog integrator, $\\mathbf{L}_{\\theta}$:</font>"
   ]
  },
  {
   "cell_type": "markdown",
   "metadata": {
    "hidden": true
   },
   "source": [
    " 1. <font color='#ffff00'>**Momentum (half-step) update** </font>$\\,\\,v_{n}\\,\\,\\,\\,\\longrightarrow v_{n+\\frac{1}{2}}$: \n",
    " \n",
    "     \\begin{equation}\n",
    "     v^{\\prime}\n",
    "     = v\\odot\\overbrace{%\n",
    "             \\exp\\left(\\frac{\\varepsilon}{2}S_{v}(\\zeta_{1})\\right)\n",
    "         }^{\\textbf{Momentum scaling}}\n",
    "         - \\frac{\\varepsilon}{2} \\bigg[\\,\\,%\n",
    "             \\partial_{x}U(x)\\odot\\overbrace{\n",
    "                   \\exp(\\varepsilon Q_{v}(\\zeta_{1}))\n",
    "             }^{\\textbf{Gradient scaling}}\n",
    "             + \\overbrace{%\n",
    "                 T_{v}(\\zeta_{1})\n",
    "             }^{\\textbf{Translation}}\\,\\,\n",
    "           \\bigg]\n",
    "     \\end{equation}\n",
    "     \n",
    "   - **Inputs**: $\\zeta_{1} = (x, \\partial_{x}U(x), t)$\n",
    "     \n",
    "   - **Jacobian factor**: $\\mathcal{J} = \\exp\\left(\\frac{\\varepsilon}{2}\\mathbb{1}\\cdot S_{v}(\\zeta_{1})\\right)$\n",
    "---"
   ]
  },
  {
   "cell_type": "markdown",
   "metadata": {
    "hidden": true
   },
   "source": [
    " 2. <font color='#ffff00'>**Position (first) sub-update** </font>$\\,\\,x_{m^{t}}\\,\\,\\,\\,\\longrightarrow x^{\\prime}$:\n",
    " \n",
    "     \\begin{equation}\n",
    "       x^{\\prime} = x_{\\bar{m}^{t}} + m^{t}\\odot\\left[\n",
    "         x\\odot\\exp(\\varepsilon S_{x}(\\zeta_{2}))\n",
    "         + \\varepsilon\\left(v^{\\prime}\\odot\\exp(\\varepsilon Q_{x}(\\zeta_{2}) + T_{x}(\\zeta_{2})\\right)\n",
    "       \\right]\n",
    "     \\end{equation}\n",
    "     \n",
    "   - **Inputs**: $\\zeta_{2} = (x_{\\bar{m}^{t}}, v^{\\prime}, t)$\n",
    "   - **Jacobian factor**: $\\mathcal{J} = \\exp\\left(\\varepsilon m^{t} \\cdot S_{x}(\\zeta_{2})\\right)$\n",
    "---"
   ]
  },
  {
   "cell_type": "markdown",
   "metadata": {
    "hidden": true
   },
   "source": [
    " 3. <font color='#ffff00'> **Position (second) sub-update** </font>$\\,\\,x^{\\prime}\\,\\,\\,\\,\\longrightarrow x^{\\prime\\prime}$:\n",
    " \n",
    "     \\begin{equation}\n",
    "       x^{\\prime\\prime} = x^{\\prime}_{m^{t}} + \\bar{m}^{t}\\odot\\left[\n",
    "         x^{\\prime}\\odot\\exp(\\varepsilon S_{x}(\\zeta_{3}))\n",
    "         + \\varepsilon\\left(\n",
    "           v^{\\prime}\\odot\\exp(\\varepsilon Q_{x}(\\zeta_{3}) \n",
    "           + T_{x}(\\zeta_{3})\n",
    "         \\right)\n",
    "       \\right]\n",
    "     \\end{equation}\n",
    " \n",
    "   - **Inputs**: $\\zeta_{3} = (x^{\\prime}_{m^{t}}, v^{\\prime}, t)$\n",
    "   - **Jacobian factor**: $\\mathcal{J} = \\exp\\left(\\varepsilon m^{t} \\cdot S_{x}(\\zeta_{2})\\right)$\n",
    "---"
   ]
  },
  {
   "cell_type": "markdown",
   "metadata": {
    "hidden": true
   },
   "source": [
    "4. <font color='#ffff00'>**Momentum (half-step) update**</font> $\\,\\,v^{\\prime}\\,\\,\\,\\,\\longrightarrow v^{\\prime\\prime}$: \n",
    " \n",
    "     \\begin{equation}\n",
    "       v^{\\prime}\n",
    "       = v\\odot\\exp\\left(\\frac{\\varepsilon}{2}S_{v}(\\zeta_{1})\\right) \n",
    "         - \\frac{\\varepsilon}{2} \\left[%\n",
    "             \\partial_{x}U(x)\\odot\\exp(\\varepsilon Q_{v}(\\zeta_{1})) \n",
    "             + T_{v}(\\zeta_{1})\n",
    "         \\right]\n",
    "     \\end{equation}\n",
    "     \n",
    "   - **Inputs**: $\\zeta_{4} = (x^{\\prime\\prime}, \\partial_{x}U(x^{\\prime\\prime}), t)$\n",
    "     \n",
    "   - **Jacobian factor**: $\\mathcal{J} = \\exp\\left(\\frac{\\varepsilon}{2}\\mathbb{1}\\cdot S_{v}(\\zeta_{1})\\right)$\n",
    "\n",
    "---\n"
   ]
  },
  {
   "cell_type": "markdown",
   "metadata": {
    "heading_collapsed": true,
    "hidden": true
   },
   "source": [
    "### <font color='#f92672'>Jacobian determinant:</font> <a class=\"tocSkip\">\n",
    "    "
   ]
  },
  {
   "cell_type": "markdown",
   "metadata": {
    "hidden": true
   },
   "source": [
    "\\begin{align*}\n",
    "   \\log|\\mathcal{J}| &= \\log\\left|\\frac{\\partial[\\bfF \\bfL_{\\theta} \\xi]}{\\partial \\xi^{T}}\\right|\\\\\n",
    "    &= d \\sum_{t\\leq M}\\left[\\frac{\\varepsilon}{2}\\mathbb{1}\\cdot S_{v}(\\zeta_{1}^{t})\n",
    "      + \\varepsilon m^{t}\\cdot S_{x}(\\zeta_{2}^{t})\n",
    "      + \\varepsilon \\bar{m}^{t}\\cdot S_{x}(\\zeta_{3}^{t})\n",
    "      + \\frac{\\varepsilon}{2}\\mathbb{1}\\cdot S_{v}(\\zeta_{1}^{t}\n",
    "    \\right]\n",
    " \\end{align*}"
   ]
  },
  {
   "cell_type": "markdown",
   "metadata": {
    "heading_collapsed": true,
    "hidden": true
   },
   "source": [
    "### <font color='#f92672'>MCMC Transitions:</font>"
   ]
  },
  {
   "cell_type": "markdown",
   "metadata": {
    "hidden": true
   },
   "source": [
    " * Sampling then consists of $M$ repeated applications of <font color='#ffff00'>(1.) - (4.)</font> $\\bfL_{\\theta}$, immediately followed by a momentum-flip $\\bfF$:\n",
    " \n",
    "     \\begin{equation}\n",
    "       \\xi^{\\prime} \\equiv \\bfF \\bfL_{\\theta} \\xi \n",
    "         = \\bfL_{\\theta}(x, v, d) \n",
    "         = \\left({x^{\\prime\\prime}}^{\\times M},\\, {v^{\\prime\\prime}}^{\\times M},\\, d\\right)\n",
    "     \\end{equation}"
   ]
  },
  {
   "cell_type": "markdown",
   "metadata": {
    "heading_collapsed": true,
    "hidden": true
   },
   "source": [
    "### <font color='#f92672'>Network architecture:</font>"
   ]
  },
  {
   "cell_type": "markdown",
   "metadata": {
    "hidden": true
   },
   "source": [
    " * Each of the functions $S, T, Q$ are implemented using multi-layer perceptrons.\n",
    " \n",
    " \n",
    " * <font color='#ffff00'>Note:</font> We actually have two separate networks with identical architectures:\n",
    " \n",
    "   1. **VNet**: Implements $S_{v}, T_{v}, Q_{v}$, used for updating $v$\n",
    "   2. **XNet**: Implements $S_{x}, T_{x}, Q_{x}$, used for updating $x$\n",
    "---   "
   ]
  },
  {
   "cell_type": "markdown",
   "metadata": {
    "heading_collapsed": true,
    "hidden": true
   },
   "source": [
    "### <font color='#ffff00'>**VNet**</font> <a class=\"tocSkip\">"
   ]
  },
  {
   "cell_type": "markdown",
   "metadata": {
    "ExecuteTime": {
     "end_time": "2020-07-02T16:30:42.025208Z",
     "start_time": "2020-07-02T16:30:42.021993Z"
    },
    "hidden": true
   },
   "source": [
    "<img src=\"./img/net_arch.png\" width=100% height=auto/>\n",
    "<!---\n",
    "<img src=\"./img/generic_net_darkbg.png\" width=100% height=auto/>\n",
    "--->"
   ]
  },
  {
   "cell_type": "markdown",
   "metadata": {
    "hidden": true
   },
   "source": [
    "To simplify notation, we denote by $F = \\partial_{x}U(x)$ the gradient of the potential energy.\n",
    "\n",
    "\n",
    " 1.  **Input**: $\\zeta_{1} = (x, F_{x}, t)$\n",
    "    \n",
    " 2. Pass the inputs through separate dense layers:\n",
    " \n",
    "    \\begin{align*}\n",
    "    \\tilde x &= W_{x}\\, x + b_{x} \\\\\n",
    "    \\tilde{F} &= W_{F}\\, F + b_{F} \\\\\n",
    "    \\tilde t &= W_{t}\\, t + b_{t} \\\\\n",
    "    \\end{align*}\n",
    "    \n",
    "     \n",
    " 4. Compute:\n",
    " \n",
    "     \\begin{align}\n",
    "     h_{1} &= \\sigma(\\tilde{x} + \\tilde{F} + \\tilde{t})\\\\\n",
    "     h_{2} &= \\sigma\\left(W_{h}\\, h_{1} + b_{h}\\right)\n",
    "     \\end{align}\n",
    "     \n",
    "     \n",
    " 5. **Outputs**:\n",
    " \n",
    "     \\begin{align}\n",
    "     S_{v} &= \\lambda_{S} \\tanh\\left(W_{S}\\, h_{2} + b_{S}\\right) \\\\\n",
    "     Q_{v} &= \\lambda_{Q} \\tanh\\left(W_{Q}\\, h_{2} + b_{Q}\\right) \\\\\n",
    "     T_{v} &= W_{T} \\, h_{2} + b_{T}\n",
    "     \\end{align}\n",
    "     \n",
    " where $\\sigma$ denotes the $\\mathrm{ReLU}$ activation function, and $\\lambda_{S}, \\lambda_{Q}$ are additional trainable parameters."
   ]
  },
  {
   "cell_type": "markdown",
   "metadata": {
    "heading_collapsed": true,
    "hidden": true
   },
   "source": [
    "### <font color='#f92672'>Loss function $\\mathcal{L}(\\theta)$:</font>"
   ]
  },
  {
   "cell_type": "markdown",
   "metadata": {
    "hidden": true
   },
   "source": [
    " * Starting from $\\xi$, use $S, T, Q$ in $\\bfL_{\\theta}$ to get $\\xi^{\\prime}$.\n",
    " \n",
    " * Define:\n",
    " \n",
    "     \\begin{equation}\n",
    "     \\delta(\\xi, \\xi^{\\prime}) = \\|x - x^{\\prime}\\|^{2}_{2}\n",
    "     \\end{equation}\n",
    "\n",
    "\n",
    " * We aim to minimize the *lag-one autocorrelation*\n",
    " \n",
    "  - Or equivalently, the *expected squared jump distance* ESJD\n",
    "  \n",
    "  \n",
    " * <font color=\"#ffff00\">**ESJD**:</font>\n",
    "     \\begin{equation}\n",
    "     \\mathcal{L}(\\theta) \\equiv \\mathbb{E}_{\\xi\\sim p(\\xi)}\\left[\\delta(\\xi^{\\prime}, \\xi) \\cdot A(\\xi^{\\prime}|\\xi)\\right]\n",
    "     \\end{equation}\n",
    " \n",
    "  where $A(\\xi^{\\prime}|\\xi)$ is the probability of accepting $\\xi^{\\prime}$ given $\\xi$."
   ]
  },
  {
   "cell_type": "markdown",
   "metadata": {
    "heading_collapsed": true,
    "hidden": true
   },
   "source": [
    "### <font color=\"#f92672\">Example: Gaussian Mixture Model</font>"
   ]
  },
  {
   "cell_type": "markdown",
   "metadata": {
    "hidden": true
   },
   "source": [
    "<!---\n",
    "<font size=\"22\"><font color='#87ff00'><font style:bold>HMC</font></font> |  <font size=\"22\"><font color='#f92672'><font style:bold>L2HMC</font></font>\n",
    ":-------------------------:|:-------------------------:\n",
    "<img src=\"./img/gmm_hmc.png\" width=80% height=auto/>  |  <img src=\"./img/gmm_l2hmc.png\" width=80% height=auto/>\n",
    "--->\n",
    "    \n",
    "<!---\n",
    "<p float=\"left\">\n",
    "  <img src=\"./img/gmm_hmc.png\" width=\"45%\" />\n",
    "  <img src=\"./img/gmm_l2hmc.png\" width=\"45%\" /> \n",
    "</p>\n",
    "--->"
   ]
  },
  {
   "cell_type": "markdown",
   "metadata": {
    "ExecuteTime": {
     "end_time": "2020-07-02T16:30:42.025208Z",
     "start_time": "2020-07-02T16:30:42.021993Z"
    },
    "hidden": true
   },
   "source": [
    "<center><font size=\"6\"><font color='#87ff00'><font style:bold>HMC\n",
    "    </font></font></center>\n",
    "<img src=\"./img/gmm_hmc.png\" width=75% height=auto/>\n",
    "    \n",
    "&nbsp;\n",
    "<center><font size=\"6\"><font color='#f92672'><font style:bold>\n",
    "    L2HMC\n",
    "    </font></font></center>\n",
    "<img src=\"./img/gmm_l2hmc.png\" width=75% height=auto/>\n",
    "    \n",
    "\n",
    "&nbsp;\n",
    "<center><font size=\"6\">Autocorrelation</font></center>\n",
    "        \n",
    "<img src=\"./img/gmm_acl.png\" width=75% height=auto/>"
   ]
  },
  {
   "cell_type": "markdown",
   "metadata": {
    "heading_collapsed": true
   },
   "source": [
    "## <font color='#87ff00'>Lattice QCD</font>\n",
    "---"
   ]
  },
  {
   "cell_type": "markdown",
   "metadata": {
    "hidden": true
   },
   "source": [
    " * Start with simpler 2d $U(1)$ Lattice Gauge Theory\n",
    " \n",
    " \n",
    " * Dynamical variables $U_{\\mu}(i)$ defined on the *links* of a two-dimensional lattice with periodic boundary conditions.\n",
    " \n",
    " \n",
    " \n",
    " * Each link $U_{\\mu}(k) \\in U(1)$ can be expressed in terms of an angle $\\phi_{\\mu}(k) \\in [-\\pi, \\pi)$ as:\n",
    "   \n",
    "    \\begin{equation}\n",
    "      U_{\\mu}(k) = \\exp\\left(i\\phi_{\\mu}(k)\\right) \\in U(1)\n",
    "    \\end{equation}"
   ]
  },
  {
   "cell_type": "markdown",
   "metadata": {
    "heading_collapsed": true,
    "hidden": true
   },
   "source": [
    "### <font color='#f92672'> Wilson gauge action:</font>"
   ]
  },
  {
   "cell_type": "markdown",
   "metadata": {
    "hidden": true
   },
   "source": [
    "\\begin{equation}\n",
    "  S = \\sum_{k} 1 - \\cos\\left(\\phi_{\\mu\\nu}(k)\\right)\n",
    "\\end{equation}\n",
    "\n",
    "where\n",
    "\n",
    "\\begin{equation}\n",
    "   \\phi_{\\mu\\nu}(k)\n",
    "   = \\phi_{\\mu}(k) + \\phi_{\\nu}(k+\\hat{\\mu}) \n",
    "     - \\phi_{\\mu}(k+\\hat{\\nu}) - \\phi_{\\nu}(k)\n",
    "\\end{equation}\n",
    "\n",
    "\n",
    "is the sum of the link variables around the elementary plaquette, as shown below.\n",
    "\n",
    "<img src=\"./img/plaq.png\" width=100% height=auto />"
   ]
  },
  {
   "cell_type": "markdown",
   "metadata": {
    "heading_collapsed": true,
    "hidden": true
   },
   "source": [
    "### <font color='#f92672'> Topological charge, $\\mathcal{Q}$:</font>"
   ]
  },
  {
   "cell_type": "markdown",
   "metadata": {
    "hidden": true
   },
   "source": [
    "\\begin{equation}\n",
    "  \\mathcal{Q} = \\frac{1}{2\\pi}\\sum_{k}\\tilde \\phi_{\\mu\\nu}\n",
    "\\end{equation}\n",
    "\n",
    "\n",
    "where\n",
    "\n",
    "\\begin{equation}\n",
    "\\tilde\\phi_{\\mu\\nu} \\equiv \\phi_{\\mu\\nu} - 2\\pi\\left\\lfloor\\frac{\\phi_{\\mu\\nu}+\\pi}{2\\pi}\\right\\rfloor \\in [0, 2\\pi)\n",
    "\\end{equation}"
   ]
  },
  {
   "cell_type": "markdown",
   "metadata": {
    "hidden": true
   },
   "source": [
    "<font color='#87ff00'><font size=\"6\">HMC:</font>\n",
    "\n",
    "<img src=\"./img/q_tplot_hmc.png\" width=100% height=auto/>"
   ]
  },
  {
   "cell_type": "markdown",
   "metadata": {
    "hidden": true
   },
   "source": [
    "<font color='#f92672'><font size=\"6\">L2HMC:</font>\n",
    "    \n",
    "<img src=\"./img/q_tplot_l2hmc.png\" width=100% height=auto/>"
   ]
  },
  {
   "cell_type": "markdown",
   "metadata": {
    "heading_collapsed": true
   },
   "source": [
    "## <font color=\"#87ff00\">Implementation</font>"
   ]
  },
  {
   "cell_type": "markdown",
   "metadata": {
    "heading_collapsed": true,
    "hidden": true
   },
   "source": [
    "### <font color='#f92672'>Imports<a class='tocSkip'>"
   ]
  },
  {
   "cell_type": "code",
   "execution_count": 15,
   "metadata": {
    "ExecuteTime": {
     "end_time": "2020-07-02T14:24:23.962001Z",
     "start_time": "2020-07-02T14:24:23.957036Z"
    },
    "hidden": true
   },
   "outputs": [],
   "source": [
    "import sys\n",
    "import os \n",
    "\n",
    "import tensorflow as tf\n",
    "import numpy as np\n",
    "import matplotlib.pyplot as plt\n",
    "import seaborn as sns\n",
    "\n",
    "from IPython.display import Image\n",
    "from IPython.core.display import HTML \n",
    "\n",
    "modulepath = os.path.abspath('..')\n",
    "if modulepath not in sys.path:\n",
    "    sys.path.append(modulepath)\n",
    "    \n",
    "import utils.file_io as io\n",
    "\n",
    "sns.set_palette('bright')"
   ]
  },
  {
   "cell_type": "markdown",
   "metadata": {
    "heading_collapsed": true,
    "hidden": true
   },
   "source": [
    "### <font color='#f92672'>Build `Dynamics`"
   ]
  },
  {
   "cell_type": "code",
   "execution_count": 46,
   "metadata": {
    "ExecuteTime": {
     "end_time": "2020-07-02T17:57:11.542531Z",
     "start_time": "2020-07-02T17:57:11.473669Z"
    },
    "hidden": true
   },
   "outputs": [],
   "source": [
    "from utils.attr_dict import AttrDict\n",
    "from utils.data_containers import DataContainer\n",
    "from utils.training_utils import build_dynamics, HEADER\n",
    "\n",
    "FLAGS = AttrDict({\n",
    "    'hmc': False,\n",
    "    'hmc_start': False,\n",
    "    'rand': True,\n",
    "    'restore': False,\n",
    "    'horovod': False,\n",
    "    'eager_execution': True,\n",
    "    'save_train_data': True,\n",
    "    'eps_fixed': False,\n",
    "    'eps': 0.1,\n",
    "    'num_steps': 2,\n",
    "    'beta_init': 3.5,\n",
    "    'beta_final': 3.5,\n",
    "    'train_steps': 50,\n",
    "    'save_steps': 10, \n",
    "    'print_steps': 1,\n",
    "    'logging_steps': 1,\n",
    "    'dropout_prob': 0.25,\n",
    "    'warmup_lr': True,\n",
    "    'lr_init': 0.001,\n",
    "    'lr_decay_steps': 10,\n",
    "    'lr_decay_rate': 0.96,\n",
    "    'plaq_weight': 0.1,\n",
    "    'charge_weight': 0.1,\n",
    "    'network_type': 'GaugeNetwork',\n",
    "    'separate_networks': False,\n",
    "    'units': 6 * [1024],\n",
    "    'lattice_shape': [128, 16, 16, 2]  # batch_dim, s\n",
    "})\n",
    "\n",
    "dynamics, FLAGS = build_dynamics(FLAGS)"
   ]
  },
  {
   "cell_type": "markdown",
   "metadata": {
    "heading_collapsed": true,
    "hidden": true
   },
   "source": [
    "### <font color='#f92672'>Training"
   ]
  },
  {
   "cell_type": "markdown",
   "metadata": {
    "heading_collapsed": true,
    "hidden": true
   },
   "source": [
    "#### <font color='#ffff00'>Setup:</font>"
   ]
  },
  {
   "cell_type": "code",
   "execution_count": 17,
   "metadata": {
    "ExecuteTime": {
     "end_time": "2020-07-02T14:24:29.688496Z",
     "start_time": "2020-07-02T14:24:29.682439Z"
    },
    "hidden": true
   },
   "outputs": [
    {
     "name": "stdout",
     "output_type": "stream",
     "text": [
      "Creating directory: /Users/saforem2/l2hmc-qcd/gauge_logs_eager/test/2020_07/DEBUG_L16_b128_lf2_qw01_pw01_dp025-2020-07-02-092429\n",
      "Creating directory: /Users/saforem2/l2hmc-qcd/gauge_logs_eager/test/2020_07/DEBUG_L16_b128_lf2_qw01_pw01_dp025-2020-07-02-092429/training\n",
      "Creating directory: /Users/saforem2/l2hmc-qcd/gauge_logs_eager/test/2020_07/DEBUG_L16_b128_lf2_qw01_pw01_dp025-2020-07-02-092429/training/train_data\n",
      "Creating directory: /Users/saforem2/l2hmc-qcd/gauge_logs_eager/test/2020_07/DEBUG_L16_b128_lf2_qw01_pw01_dp025-2020-07-02-092429/training/checkpoints\n"
     ]
    }
   ],
   "source": [
    "# Setup directories, etc.\n",
    "log_dir = io.make_log_dir(FLAGS, 'GaugeModel')\n",
    "train_dir = os.path.join(log_dir, 'training')\n",
    "data_dir = os.path.join(train_dir, 'train_data')\n",
    "ckpt_dir = os.path.join(train_dir, 'checkpoints')\n",
    "log_file = os.path.join(train_dir, 'train_log.txt')\n",
    "io.check_else_make_dir([train_dir, data_dir, ckpt_dir])"
   ]
  },
  {
   "cell_type": "code",
   "execution_count": 22,
   "metadata": {
    "ExecuteTime": {
     "end_time": "2020-07-02T14:25:10.307824Z",
     "start_time": "2020-07-02T14:25:10.299189Z"
    },
    "hidden": true
   },
   "outputs": [],
   "source": [
    "from config import TF_FLOAT\n",
    "\n",
    "train_data = DataContainer(FLAGS.train_steps, header=HEADER)\n",
    "ckpt = tf.train.Checkpoint(dynamics=dynamics, optimizer=dynamics.optimizer)\n",
    "manager = tf.train.CheckpointManager(ckpt, directory=ckpt_dir, max_to_keep=5)\n",
    "\n",
    "if manager.latest_checkpoint:\n",
    "    io.log(f'Restored from: {manager.latest_checkpoint}')\n",
    "    ckpt.restore(manager.latest_checkpoint)\n",
    "    train_data.restore(data_dir)\n",
    "    current_step = dynamics.optimizer.iterations.numpy()\n",
    "else:\n",
    "    current_step = tf.convert_to_tensor(0, dtype=tf.int64)\n",
    "    x = tf.random.uniform(shape=dynamics.config.input_shape,\n",
    "                          minval=-np.pi, maxval=np.pi)\n",
    "    \n",
    "train_steps = tf.range(FLAGS.train_steps)\n",
    "betas = tf.convert_to_tensor(\n",
    "    tf.cast(np.linspace(FLAGS.beta_init, FLAGS.beta_final, num=FLAGS.train_steps), dtype=TF_FLOAT)\n",
    ")\n",
    "\n",
    "betas = betas[current_step:]\n",
    "train_steps = train_steps[current_step:]"
   ]
  },
  {
   "cell_type": "markdown",
   "metadata": {
    "heading_collapsed": true,
    "hidden": true
   },
   "source": [
    "#### <font color='#ffff00'>Training loop:</font>"
   ]
  },
  {
   "cell_type": "code",
   "execution_count": 29,
   "metadata": {
    "ExecuteTime": {
     "end_time": "2020-07-02T17:40:33.268308Z",
     "start_time": "2020-07-02T17:39:27.193818Z"
    },
    "hidden": true,
    "scrolled": false
   },
   "outputs": [
    {
     "name": "stdout",
     "output_type": "stream",
     "text": [
      "------------------------------------------------------------------------------------------------------------\n",
      "    STEP         dt         LOSS         px         eps         BETA     sumlogdet       dQ       plaq_err  \n",
      "------------------------------------------------------------------------------------------------------------\n",
      "     0/50       0.4193      -450.7       0.695      0.1325        3.5     -0.0001699    0.1573     0.006343   \n",
      "     1/50       0.4138      -431.8      0.6552      0.1328        3.5     -6.806e-05    0.1605     0.007405   \n",
      "     2/50       0.4618      -459.9      0.6999      0.1331        3.5      4.874e-05    0.1496     0.006409   \n",
      "     3/50       0.4183      -438.7      0.6542      0.1335        3.5     -0.0001358    0.1487     0.005778   \n",
      "     4/50       0.4348      -444.8      0.6591      0.1338        3.5     -0.0001011    0.1353     0.004829   \n",
      "     5/50       0.5002      -409.3      0.6008      0.1341        3.5      1.482e-05    0.1457     0.005037   \n",
      "     6/50       0.4476       -427       0.6458      0.1344        3.5      0.0003169    0.1374     0.004232   \n",
      "     7/50       0.4243      -403.6       0.599      0.1347        3.5      0.0002886    0.1245     0.004639   \n",
      "     8/50       0.4429      -429.9      0.6398      0.1349        3.5      -6.13e-05    0.1555     0.002929   \n",
      "     9/50       0.4616      -392.2      0.5888      0.1352        3.5     -0.0001854    0.1216     0.003287   \n",
      "    10/50       0.4518      -408.3      0.5963      0.1354        3.5      0.0001115     0.126     0.003185   \n",
      "    11/50       0.4667      -432.5      0.6267      0.1357        3.5     -6.756e-05    0.1353     0.003788   \n",
      "    12/50       0.4769      -402.7      0.5975      0.1359        3.5      0.0001209    0.1525     0.004625   \n",
      "    13/50       0.5215      -438.7      0.6396      0.1362        3.5      -4.62e-06    0.1339     0.004666   \n",
      "    14/50       0.5152      -430.2      0.6285      0.1364        3.5      1.743e-05    0.1526      0.00554   \n",
      "    15/50       0.4996      -444.8      0.6357      0.1366        3.5      1.885e-05    0.1247     0.004592   \n",
      "    16/50       0.5581      -450.6      0.6395      0.1368        3.5      1.409e-05    0.1682     0.004661   \n",
      "    17/50       0.5377       -451       0.6387      0.1371        3.5     -3.542e-05    0.1472     0.005041   \n",
      "    18/50       0.5555      -422.9      0.6059      0.1373        3.5      2.633e-05     0.152     0.004091   \n",
      "    19/50       0.5654      -430.5      0.6165      0.1375        3.5     -7.262e-06    0.1418     0.003891   \n",
      "    20/50       0.5563      -444.4      0.6342      0.1377        3.5     -5.692e-06    0.1558     0.003042   \n",
      "    21/50       0.5641      -439.9      0.6303      0.1379        3.5     -2.659e-05    0.1159     0.002438   \n",
      "    22/50       0.5982      -417.4      0.5936      0.1382        3.5     -1.199e-05    0.1378      0.00351   \n",
      "    23/50        0.594      -446.6      0.6231      0.1384        3.5     -3.314e-05    0.1441     0.003015   \n",
      "    24/50       0.6224      -436.8      0.6197      0.1386        3.5      1.178e-05    0.1462     0.002199   \n",
      "    25/50       0.6103      -426.3      0.5878      0.1388        3.5     -5.896e-05    0.1514     0.002076   \n",
      "    26/50       0.5602      -437.5      0.6035       0.139        3.5      0.0001473    0.1442     0.002488   \n",
      "    27/50       0.5944      -436.4      0.6072      0.1391        3.5      0.0003459    0.1599       0.003    \n",
      "    28/50       0.6028      -403.1      0.5595      0.1393        3.5     -0.0005525    0.1255     0.003543   \n",
      "    29/50        0.563      -469.2      0.6497      0.1395        3.5      1.128e-05    0.1498     0.002817   \n",
      "    30/50       0.5924      -442.3      0.6079      0.1397        3.5      0.0009824    0.1241     0.003468   \n",
      "    31/50       0.6021      -430.7      0.5925      0.1399        3.5     -6.986e-05    0.1164      0.00452   \n",
      "    32/50       0.5928      -455.4      0.6299       0.14         3.5     -0.0003231    0.1324     0.005058   \n",
      "    33/50       0.5893      -466.7       0.634      0.1402        3.5      0.000145     0.1405     0.004098   \n",
      "    34/50       0.5935       -483       0.6584      0.1404        3.5      0.0001775    0.1678     0.003209   \n",
      "    35/50       0.6596      -463.6      0.6252      0.1406        3.5      4.242e-05    0.1637      0.00421   \n",
      "    36/50       0.5777      -459.6      0.6188      0.1408        3.5     -0.0004908    0.1381      0.00463   \n",
      "    37/50       0.6385      -455.7      0.6231       0.141        3.5      0.0006284    0.1348     0.004605   \n",
      "    38/50       0.5639      -455.6      0.6127      0.1411        3.5     -4.734e-06     0.156     0.004315   \n",
      "    39/50       0.5474       -489       0.6541      0.1413        3.5      1.646e-05    0.1423     0.004413   \n",
      "    40/50       0.5407      -466.5      0.6266      0.1414        3.5     -5.265e-05    0.1462     0.003331   \n",
      "    41/50       0.6706       -460       0.6281      0.1416        3.5      0.0001184    0.1363     0.002406   \n",
      "    42/50       0.6043      -442.2      0.6036      0.1417        3.5      -0.000106    0.1352     0.002382   \n",
      "    43/50       0.6201      -400.5      0.5405      0.1419        3.5      2.735e-05    0.1111     0.004567   \n",
      "    44/50       0.5842      -462.7      0.6176       0.142        3.5     -4.944e-05    0.1572     0.003568   \n",
      "    45/50       0.6785      -451.9       0.606      0.1421        3.5     -0.0001587    0.1563     0.003804   \n",
      "    46/50       0.5732      -487.4      0.6524      0.1423        3.5      0.0001523    0.1371     0.002369   \n",
      "    47/50       0.6035      -430.6      0.5723      0.1424        3.5      2.66e-05     0.1079     0.002333   \n",
      "    48/50       0.6312      -419.6      0.5594      0.1425        3.5      0.0005365    0.1179     0.003093   \n",
      "    49/50       0.6174      -450.1      0.5973      0.1426        3.5     -1.132e-06    0.1441     0.003922   \n"
     ]
    }
   ],
   "source": [
    "io.log(HEADER)\n",
    "steps = tf.range(FLAGS.train_steps)\n",
    "for step, beta in zip(steps, betas):\n",
    "    x, metrics = dynamics.train_step(x, beta)\n",
    "    \n",
    "    if step % FLAGS.print_steps == 0:\n",
    "        data_str = train_data.get_fstr(step, metrics)\n",
    "        io.log(data_str)\n",
    "        \n",
    "    if step % FLAGS.logging_steps == 0 and FLAGS.save_train_data:\n",
    "        train_data.update(step, metrics)\n",
    "        \n",
    "    if step % FLAGS.save_steps == 0:\n",
    "        manager.save()\n",
    "        train_data.save_data(data_dir)\n",
    "        train_data.flush_data_strs(log_file, rank=0, mode='a')\n",
    "        \n",
    "manager.save()\n",
    "train_data.flush_data_strs(log_file, rank=0, mode='a')"
   ]
  },
  {
   "cell_type": "markdown",
   "metadata": {
    "heading_collapsed": true,
    "hidden": true
   },
   "source": [
    "### <font color='#f92672'>Inference loop:</font>"
   ]
  },
  {
   "cell_type": "code",
   "execution_count": 42,
   "metadata": {
    "ExecuteTime": {
     "end_time": "2020-07-02T17:48:01.018242Z",
     "start_time": "2020-07-02T17:47:02.852454Z"
    },
    "hidden": true
   },
   "outputs": [
    {
     "name": "stdout",
     "output_type": "stream",
     "text": [
      "Creating directory: /Users/saforem2/l2hmc-qcd/gauge_logs_eager/test/2020_07/DEBUG_L16_b128_lf2_qw01_pw01_dp025-2020-07-02-092429/inference/beta35_lf2_eps01_b128-2020-07-02-1247\n",
      "     0/100      0.4549      -456.9       0.608      0.1426        3.5      6.473e-05    0.03906    0.001858   \n",
      "------------------------------------------------------------------------------------------------------------\n",
      "    STEP         dt         LOSS         px         eps         BETA     sumlogdet       dQ       plaq_err  \n",
      "------------------------------------------------------------------------------------------------------------\n",
      "     1/100      0.4952      -433.8       0.578      0.1426        3.5     -0.0001515    0.05469    0.001919   \n",
      "     2/100      0.4523      -446.6      0.5863      0.1426        3.5     -0.0003302    0.07031    0.002384   \n",
      "     3/100      0.4393      -468.9      0.6179      0.1426        3.5      0.0001929    0.05469    0.002752   \n",
      "     4/100      0.4316      -445.7      0.5918      0.1426        3.5      0.0001552    0.03906    0.002126   \n",
      "     5/100      0.4341      -427.7      0.5654      0.1426        3.5      0.0002704    0.03906    0.002696   \n",
      "     6/100      0.3923      -476.4      0.6213      0.1426        3.5      0.0002857    0.04688    0.001806   \n",
      "     7/100       0.402      -482.8      0.6452      0.1426        3.5      2.015e-05    0.03906    0.0009934  \n",
      "     8/100      0.4259      -390.3      0.5224      0.1426        3.5      7.63e-05    0.007813    0.002142   \n",
      "     9/100       0.472      -434.6       0.589      0.1426        3.5      3.443e-05    0.01563     0.00138   \n",
      "    10/100      0.4732      -426.7      0.5728      0.1426        3.5      2.95e-05     0.04688    0.001126   \n",
      "    11/100      0.4203      -433.4      0.5804      0.1426        3.5     -8.379e-05    0.03906    0.002179   \n",
      "    12/100      0.4389      -422.2      0.5644      0.1426        3.5      1.052e-05    0.07031    0.002635   \n",
      "    13/100      0.4199      -435.4      0.5796      0.1426        3.5     -0.0002827    0.07813    0.003764   \n",
      "    14/100      0.4242      -479.9      0.6391      0.1426        3.5     -0.0001876    0.05469    0.002905   \n",
      "    15/100      0.4862      -447.1      0.5977      0.1426        3.5     -3.444e-05    0.05469    0.002347   \n",
      "    16/100      0.4428      -445.1      0.6015      0.1426        3.5      0.0001086    0.08594    0.0008016  \n",
      "    17/100      0.4598      -462.4      0.6225      0.1426        3.5      0.0002056   0.007813    0.0002904  \n",
      "    18/100      0.4714      -447.3      0.5991      0.1426        3.5      0.0001378    0.02344    0.0009464  \n",
      "    19/100      0.4715      -437.5      0.5851      0.1426        3.5     -4.835e-05    0.0625     0.001111   \n",
      "    20/100      0.5241      -459.2      0.6047      0.1426        3.5      0.0002889    0.03906    0.000947   \n",
      "    21/100      0.4854       -440       0.5899      0.1426        3.5      0.0001525    0.03906    0.0006955  \n",
      "    22/100      0.4975       -457       0.6047      0.1426        3.5      5.702e-05    0.03906    0.001984   \n",
      "    23/100      0.5029      -479.5      0.6423      0.1426        3.5      0.0001632    0.04688    0.001632   \n",
      "    24/100      0.5298       -462       0.6119      0.1426        3.5     -5.887e-05    0.01563    0.0008878  \n",
      "    25/100      0.5045      -438.3      0.5818      0.1426        3.5      0.0001004    0.03906    0.0005384  \n",
      "    26/100      0.4943      -456.5      0.6068      0.1426        3.5     -7.036e-05    0.05469   -5.363e-06  \n",
      "    27/100      0.5489      -451.1       0.61       0.1426        3.5     -0.0001759    0.02344   -0.0002465  \n",
      "    28/100       0.576      -410.6      0.5518      0.1426        3.5      0.000369     0.03125   -3.084e-05  \n",
      "    29/100      0.5546      -406.8      0.5402      0.1426        3.5     -7.194e-05    0.03906    0.0003588  \n",
      "    30/100      0.5391      -415.1       0.553      0.1426        3.5     -0.0001064    0.03125    3.12e-05   \n",
      "    31/100      0.5641      -448.8      0.5936      0.1426        3.5     -1.488e-05    0.03906   -0.0001895  \n",
      "    32/100       0.527      -445.1      0.6036      0.1426        3.5     -0.0001299    0.02344    0.0003999  \n",
      "    33/100      0.5913      -429.3      0.5795      0.1426        3.5      2.047e-05    0.01563   -0.0005533  \n",
      "    34/100      0.5709      -427.1      0.5684      0.1426        3.5     -0.0002859    0.02344    0.0009059  \n",
      "    35/100      0.5623      -442.8      0.5943      0.1426        3.5      6.109e-05    0.07031    0.002435   \n",
      "    36/100      0.5288      -463.1      0.6198      0.1426        3.5      7.741e-05    0.03906     0.00222   \n",
      "    37/100      0.5523      -481.1       0.642      0.1426        3.5     -0.0001447    0.03906    0.001818   \n",
      "    38/100      0.5279      -434.2      0.5691      0.1426        3.5     -0.0002517    0.02344     0.00104   \n",
      "    39/100      0.5625      -419.8      0.5641      0.1426        3.5      0.0001616   2.744e-07   0.002329   \n",
      "    40/100       0.546       -491        0.644      0.1426        3.5      4.377e-05    0.01563    0.001734   \n",
      "    41/100      0.5444      -421.1      0.5513      0.1426        3.5      5.604e-05    0.02344    0.0008201  \n",
      "    42/100      0.5755      -441.4      0.5903      0.1426        3.5     -0.0003259    0.04688    0.0008577  \n",
      "    43/100      0.5375      -452.1      0.6016      0.1426        3.5      0.0001885    0.03125    -0.000598  \n",
      "    44/100      0.5783      -427.3      0.5669      0.1426        3.5      6.303e-05    0.03125   -0.0001464  \n",
      "    45/100      0.5219       -430       0.5767      0.1426        3.5      9.229e-05    0.02344    0.0008003  \n",
      "    46/100      0.5332      -453.9      0.6147      0.1426        3.5      0.0001778    0.02344    0.0009459  \n",
      "    47/100      0.5587      -447.3      0.6009      0.1426        3.5      0.000223     0.03125   -0.0003181  \n",
      "    48/100      0.5822       -438       0.5848      0.1426        3.5     -0.0001313    0.03906   -7.046e-05  \n",
      "    49/100      0.6633      -413.4      0.5432      0.1426        3.5      0.0002766    0.03906    0.001271   \n",
      "    50/100      0.5913      -466.1      0.6271      0.1426        3.5      8.269e-05    0.03125   -0.0001308  \n",
      "    51/100      0.5748      -434.8      0.5774      0.1426        3.5      5.485e-06    0.03906    0.001041   \n",
      "    52/100      0.6057      -441.4      0.5852      0.1426        3.5      2.187e-05    0.03906   -0.0002274  \n",
      "    53/100      0.7101      -433.1      0.5774      0.1426        3.5      4.943e-05    0.05469    0.0002036  \n",
      "    54/100      0.7372      -422.1      0.5666      0.1426        3.5     -8.431e-05    0.03906    0.0004637  \n",
      "    55/100      0.6527       -424       0.5628      0.1426        3.5      -0.000226    0.03125    0.001057   \n",
      "    56/100       0.606      -465.6      0.6263      0.1426        3.5      0.0003126    0.03125     0.00122   \n",
      "    57/100      0.6132      -430.8      0.5798      0.1426        3.5     -0.0002169    0.03125    0.001456   \n",
      "    58/100      0.6669      -453.5      0.6136      0.1426        3.5      5.493e-05    0.02344    0.002858   \n",
      "    59/100      0.6222      -448.8      0.5983      0.1426        3.5      0.0001322    0.04688    0.002053   \n",
      "    60/100      0.6141      -452.2      0.6052      0.1426        3.5     -5.111e-05    0.02344    0.002404   \n",
      "    61/100      0.5704      -460.3      0.6166      0.1426        3.5     -0.0001541    0.05469    0.002563   \n",
      "    62/100      0.6207      -450.4      0.5934      0.1426        3.5      0.0001746    0.03125    0.001514   \n",
      "    63/100      0.6284      -456.8      0.6153      0.1426        3.5      3.449e-05    0.02344    0.0008757  \n",
      "    64/100      0.5646      -435.3       0.582      0.1426        3.5      1.797e-05    0.03125    0.0001469  \n",
      "    65/100      0.6143      -432.7       0.577      0.1426        3.5      0.0001776    0.03125    5.329e-05  \n",
      "    66/100      0.6167      -415.6      0.5528      0.1426        3.5       1.1e-05     0.01563    0.001443   \n",
      "    67/100      0.6188      -416.3      0.5656      0.1426        3.5     -0.0001791    0.04688    0.002614   \n",
      "    68/100      0.6214      -431.1      0.5703      0.1426        3.5     -4.116e-05    0.05469    0.002258   \n",
      "    69/100      0.6454      -476.4      0.6383      0.1426        3.5      6.977e-05    0.08594    0.002159   \n"
     ]
    },
    {
     "name": "stdout",
     "output_type": "stream",
     "text": [
      "    70/100      0.6067      -494.6      0.6602      0.1426        3.5      9.044e-05    0.02344    0.001043   \n",
      "    71/100       0.623      -432.6      0.5696      0.1426        3.5      2.121e-05    0.03125    0.001757   \n",
      "    72/100      0.7012      -457.4      0.6002      0.1426        3.5     -0.0001271    0.07813    0.001224   \n",
      "    73/100      0.6829      -459.8      0.6121      0.1426        3.5      5.612e-05    0.03125    0.001893   \n",
      "    74/100      0.6754      -475.6      0.6389      0.1426        3.5     -0.0005095    0.03906    0.0005029  \n",
      "    75/100      0.7197      -476.2      0.6357      0.1426        3.5      0.0001793    0.02344    0.0003347  \n",
      "    76/100      0.7423      -427.5      0.5663      0.1426        3.5     -0.0001553    0.03125    0.0003972  \n",
      "    77/100      0.6565       -450        0.602      0.1426        3.5      2.506e-05    0.05469    0.0005099  \n",
      "    78/100      0.7027      -428.3      0.5686      0.1426        3.5      5.36e-05     0.03906    0.001144   \n",
      "    79/100      0.6498      -464.4      0.6219      0.1426        3.5     -0.0001507    0.03125   -0.0003954  \n",
      "    80/100      0.6592      -407.8      0.5494      0.1426        3.5     -0.0001194    0.02344   -0.0003024  \n",
      "    81/100      0.7287      -416.1      0.5541      0.1426        3.5      5.241e-06    0.03906    0.0007921  \n",
      "    82/100       0.615      -434.2      0.5732      0.1426        3.5     -5.501e-05    0.03906    0.001822   \n",
      "    83/100      0.6681      -512.9      0.6817      0.1426        3.5     -0.0003022    0.04688    0.0003678  \n",
      "    84/100      0.6575      -419.7       0.557      0.1426        3.5      0.0002065    0.05469    0.0003241  \n",
      "    85/100      0.6442      -412.2      0.5454      0.1426        3.5     -8.398e-05    0.03906    0.0005991  \n",
      "    86/100      0.6656      -459.5      0.6133      0.1426        3.5     -1.097e-05    0.07813    0.0008246  \n",
      "    87/100      0.6598       -451       0.6077      0.1426        3.5     -0.0002309    0.03125    0.0003667  \n",
      "    88/100      0.7206      -444.5      0.5905      0.1426        3.5      9.19e-06     0.03906   -0.0006752  \n",
      "    89/100      0.7142      -417.3      0.5477      0.1426        3.5      0.0003046    0.02344    -0.001228  \n",
      "    90/100      0.6904      -399.2      0.5298      0.1426        3.5     -9.875e-05    0.03906    0.0001447  \n",
      "    91/100      0.6747      -409.5      0.5492      0.1426        3.5     -0.0001296    0.02344    -9.11e-06  \n",
      "    92/100      0.6719      -453.1      0.6096      0.1426        3.5     -0.0005086    0.01563    -0.001936  \n",
      "    93/100      0.6224      -426.8      0.5685      0.1426        3.5     -0.0002086    0.05469   -0.0009273  \n",
      "    94/100      0.6087       -435       0.5818      0.1426        3.5      2.67e-05     0.02344    0.0004384  \n",
      "    95/100      0.6354      -440.6      0.5947      0.1426        3.5     -3.237e-05    0.0625     0.0002695  \n",
      "    96/100      0.7017      -428.4      0.5635      0.1426        3.5     -0.0002488    0.03906    0.0005874  \n",
      "    97/100      0.6348      -450.6      0.6066      0.1426        3.5      3.783e-05    0.03125    -0.000271  \n",
      "    98/100      0.6274       -432       0.5839      0.1426        3.5      3.887e-05    0.01563   -0.0001142  \n",
      "    99/100      0.6174      -436.5      0.5786      0.1426        3.5      9.345e-05    0.04688    4.252e-05  \n"
     ]
    }
   ],
   "source": [
    "run_steps = 100\n",
    "run_data = DataContainer(run_steps, header=HEADER)\n",
    "run_dir = io.make_run_dir(FLAGS, os.path.join(log_dir, 'inference'))\n",
    "\n",
    "for step in tf.range(run_steps):\n",
    "    x, metrics = dynamics.test_step(x, beta)\n",
    "    run_data.update(step, metrics)\n",
    "    if step % dynamics.print_steps == 0:\n",
    "        data_str = run_data.get_fstr(step, metrics)\n",
    "        io.log(data_str)\n",
    "\n",
    "    if step % 100 == 0:\n",
    "        io.log(HEADER)"
   ]
  },
  {
   "cell_type": "code",
   "execution_count": 44,
   "metadata": {
    "ExecuteTime": {
     "end_time": "2020-07-02T17:50:09.667759Z",
     "start_time": "2020-07-02T17:49:49.391239Z"
    },
    "hidden": true
   },
   "outputs": [
    {
     "name": "stdout",
     "output_type": "stream",
     "text": [
      "Creating directory: /Users/saforem2/l2hmc-qcd/gauge_logs_eager/test/2020_07/DEBUG_L16_b128_lf2_qw01_pw01_dp025-2020-07-02-092429/inference/beta35_lf2_eps01_b128-2020-07-02-1247/plots\n",
      "Saving figure to: /Users/saforem2/l2hmc-qcd/gauge_logs_eager/test/2020_07/DEBUG_L16_b128_lf2_qw01_pw01_dp025-2020-07-02-092429/inference/beta35_lf2_eps01_b128-2020-07-02-1247/plots/dt.png.\n",
      "Saving figure to: /Users/saforem2/l2hmc-qcd/gauge_logs_eager/test/2020_07/DEBUG_L16_b128_lf2_qw01_pw01_dp025-2020-07-02-092429/inference/beta35_lf2_eps01_b128-2020-07-02-1247/plots/beta.png.\n",
      "Saving figure to: /Users/saforem2/l2hmc-qcd/gauge_logs_eager/test/2020_07/DEBUG_L16_b128_lf2_qw01_pw01_dp025-2020-07-02-092429/inference/beta35_lf2_eps01_b128-2020-07-02-1247/plots/loss.png.\n"
     ]
    },
    {
     "name": "stderr",
     "output_type": "stream",
     "text": [
      "/Users/saforem2/opt/anaconda3/envs/tf2/lib/python3.7/site-packages/arviz/data/base.py:146: UserWarning: More chains (128) than draws (67). Passed array should have shape (chains, draws, *shape)\n",
      "  UserWarning,\n"
     ]
    },
    {
     "name": "stdout",
     "output_type": "stream",
     "text": [
      "Saving figure to: /Users/saforem2/l2hmc-qcd/gauge_logs_eager/test/2020_07/DEBUG_L16_b128_lf2_qw01_pw01_dp025-2020-07-02-092429/inference/beta35_lf2_eps01_b128-2020-07-02-1247/plots/plaqs_traceplot.png.\n",
      "Saving figure to: /Users/saforem2/l2hmc-qcd/gauge_logs_eager/test/2020_07/DEBUG_L16_b128_lf2_qw01_pw01_dp025-2020-07-02-092429/inference/beta35_lf2_eps01_b128-2020-07-02-1247/plots/eps.png.\n"
     ]
    },
    {
     "name": "stderr",
     "output_type": "stream",
     "text": [
      "/Users/saforem2/opt/anaconda3/envs/tf2/lib/python3.7/site-packages/arviz/data/base.py:146: UserWarning: More chains (128) than draws (67). Passed array should have shape (chains, draws, *shape)\n",
      "  UserWarning,\n"
     ]
    },
    {
     "name": "stdout",
     "output_type": "stream",
     "text": [
      "Saving figure to: /Users/saforem2/l2hmc-qcd/gauge_logs_eager/test/2020_07/DEBUG_L16_b128_lf2_qw01_pw01_dp025-2020-07-02-092429/inference/beta35_lf2_eps01_b128-2020-07-02-1247/plots/charges_traceplot.png.\n"
     ]
    },
    {
     "name": "stderr",
     "output_type": "stream",
     "text": [
      "/Users/saforem2/opt/anaconda3/envs/tf2/lib/python3.7/site-packages/arviz/data/base.py:146: UserWarning: More chains (128) than draws (67). Passed array should have shape (chains, draws, *shape)\n",
      "  UserWarning,\n"
     ]
    },
    {
     "name": "stdout",
     "output_type": "stream",
     "text": [
      "Saving figure to: /Users/saforem2/l2hmc-qcd/gauge_logs_eager/test/2020_07/DEBUG_L16_b128_lf2_qw01_pw01_dp025-2020-07-02-092429/inference/beta35_lf2_eps01_b128-2020-07-02-1247/plots/accept_prob_traceplot.png.\n"
     ]
    },
    {
     "name": "stderr",
     "output_type": "stream",
     "text": [
      "/Users/saforem2/opt/anaconda3/envs/tf2/lib/python3.7/site-packages/arviz/data/base.py:146: UserWarning: More chains (128) than draws (67). Passed array should have shape (chains, draws, *shape)\n",
      "  UserWarning,\n"
     ]
    },
    {
     "name": "stdout",
     "output_type": "stream",
     "text": [
      "Saving figure to: /Users/saforem2/l2hmc-qcd/gauge_logs_eager/test/2020_07/DEBUG_L16_b128_lf2_qw01_pw01_dp025-2020-07-02-092429/inference/beta35_lf2_eps01_b128-2020-07-02-1247/plots/sumlogdet_traceplot.png.\n"
     ]
    },
    {
     "name": "stderr",
     "output_type": "stream",
     "text": [
      "/Users/saforem2/opt/anaconda3/envs/tf2/lib/python3.7/site-packages/arviz/data/base.py:146: UserWarning: More chains (128) than draws (67). Passed array should have shape (chains, draws, *shape)\n",
      "  UserWarning,\n"
     ]
    },
    {
     "name": "stdout",
     "output_type": "stream",
     "text": [
      "Saving figure to: /Users/saforem2/l2hmc-qcd/gauge_logs_eager/test/2020_07/DEBUG_L16_b128_lf2_qw01_pw01_dp025-2020-07-02-092429/inference/beta35_lf2_eps01_b128-2020-07-02-1247/plots/dq_traceplot.png.\n",
      "Saving figure to: /Users/saforem2/l2hmc-qcd/gauge_logs_eager/test/2020_07/DEBUG_L16_b128_lf2_qw01_pw01_dp025-2020-07-02-092429/inference/beta35_lf2_eps01_b128-2020-07-02-1247/plots/plaqs_avg.png.\n",
      "Saving figure to: /Users/saforem2/l2hmc-qcd/gauge_logs_eager/test/2020_07/DEBUG_L16_b128_lf2_qw01_pw01_dp025-2020-07-02-092429/inference/beta35_lf2_eps01_b128-2020-07-02-1247/plots/charges_avg.png.\n",
      "Saving figure to: /Users/saforem2/l2hmc-qcd/gauge_logs_eager/test/2020_07/DEBUG_L16_b128_lf2_qw01_pw01_dp025-2020-07-02-092429/inference/beta35_lf2_eps01_b128-2020-07-02-1247/plots/accept_prob_avg.png.\n",
      "Saving figure to: /Users/saforem2/l2hmc-qcd/gauge_logs_eager/test/2020_07/DEBUG_L16_b128_lf2_qw01_pw01_dp025-2020-07-02-092429/inference/beta35_lf2_eps01_b128-2020-07-02-1247/plots/sumlogdet_avg.png.\n",
      "Saving figure to: /Users/saforem2/l2hmc-qcd/gauge_logs_eager/test/2020_07/DEBUG_L16_b128_lf2_qw01_pw01_dp025-2020-07-02-092429/inference/beta35_lf2_eps01_b128-2020-07-02-1247/plots/dq_avg.png.\n",
      "Saving figure to: /Users/saforem2/l2hmc-qcd/gauge_logs_eager/test/2020_07/DEBUG_L16_b128_lf2_qw01_pw01_dp025-2020-07-02-092429/inference/beta35_lf2_eps01_b128-2020-07-02-1247/plots/charge_chains.png.\n"
     ]
    }
   ],
   "source": [
    "from utils.plotting_utils import plot_data\n",
    "\n",
    "plot_data(run_data, run_dir, FLAGS, thermalize=True)"
   ]
  }
 ],
 "metadata": {
  "kernelspec": {
   "display_name": "Python [conda env:tf2] *",
   "language": "python",
   "name": "conda-env-tf2-py"
  },
  "language_info": {
   "codemirror_mode": {
    "name": "ipython",
    "version": 3
   },
   "file_extension": ".py",
   "mimetype": "text/x-python",
   "name": "python",
   "nbconvert_exporter": "python",
   "pygments_lexer": "ipython3",
   "version": "3.7.7"
  },
  "toc": {
   "base_numbering": 1,
   "nav_menu": {
    "height": "510px",
    "width": "485px"
   },
   "number_sections": true,
   "sideBar": true,
   "skip_h1_title": true,
   "title_cell": "Table of Contents",
   "title_sidebar": "Contents",
   "toc_cell": false,
   "toc_position": {
    "height": "calc(100% - 180px)",
    "left": "10px",
    "top": "150px",
    "width": "243px"
   },
   "toc_section_display": true,
   "toc_window_display": true
  },
  "varInspector": {
   "cols": {
    "lenName": 16,
    "lenType": 16,
    "lenVar": 40
   },
   "kernels_config": {
    "python": {
     "delete_cmd_postfix": "",
     "delete_cmd_prefix": "del ",
     "library": "var_list.py",
     "varRefreshCmd": "print(var_dic_list())"
    },
    "r": {
     "delete_cmd_postfix": ") ",
     "delete_cmd_prefix": "rm(",
     "library": "var_list.r",
     "varRefreshCmd": "cat(var_dic_list()) "
    }
   },
   "types_to_exclude": [
    "module",
    "function",
    "builtin_function_or_method",
    "instance",
    "_Feature"
   ],
   "window_display": false
  }
 },
 "nbformat": 4,
 "nbformat_minor": 4
}
