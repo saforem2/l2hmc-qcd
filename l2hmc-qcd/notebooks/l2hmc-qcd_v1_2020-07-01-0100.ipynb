{
 "cells": [
  {
   "cell_type": "markdown",
   "metadata": {},
   "source": [
    "# l2hmc-qcd\n",
    "\n",
    " * Available at:\n",
    "[https://github.com/saforem2/l2hmc-qcd](https://github.com/saforem2/l2hmc-qcd)\n",
    "\n",
    "$\\newcommand{\\bfL}{\\mathbf{L}}$\n",
    "$\\newcommand{\\bfF}{\\mathbf{F}}$\n",
    "$\\newcommand{\\FLxi}{\\mathbf{F}\\mathbf{L}\\xi}$\n",
    "$\\newcommand{\\floor}[1]{\\lfloor #1 \\rfloor}$"
   ]
  },
  {
   "cell_type": "markdown",
   "metadata": {},
   "source": [
    "## Background"
   ]
  },
  {
   "cell_type": "markdown",
   "metadata": {},
   "source": [
    "### <font color=\"#87ff00\">Motivation: </font>\n"
   ]
  },
  {
   "cell_type": "markdown",
   "metadata": {},
   "source": [
    "#### <font color='#f92672'>Lattice QCD:</font>"
   ]
  },
  {
   "cell_type": "markdown",
   "metadata": {},
   "source": [
    " - Non perturbative approach to solving the QCD theory of the strong interaction between quarks and gluons.\n",
    " \n",
    " - Calculations proceed in 3 steps:\n",
    "   1.  <font color='#03a9f4'>**Gauge field generation**:</font> Use MCMC methods for sampling independent gauge field (gluon) configurations.\n",
    "   2. **Propagator calculations**: Compute how quarks propagate in these fields (\"quark propagators')\n",
    "   3. **Contractions** Method for combining quark propagators into correlation functions and observables.\n",
    "   \n",
    "   \n",
    "Gauge field generation remains one of the major bottlenecks in LatticeQCD, due to <font color='#03a9f4'>*critical slowing down*</font>."
   ]
  },
  {
   "cell_type": "markdown",
   "metadata": {},
   "source": [
    "#### <font color='#f92672'>Critical slowing down:</font>"
   ]
  },
  {
   "cell_type": "markdown",
   "metadata": {},
   "source": [
    " * Simulations are performed using some finite lattice spacing, $a$.\n",
    " \n",
    " \n",
    " * We wish to extrapolate from these results to the *continuum limit $a \\rightarrow 0$.\n",
    " \n",
    " \n",
    " * As $a\\rightarrow 0$, MCMC updates get stuck in sectors of fixed gauge topology.\n",
    "  \n",
    "  \n",
    " * This causes the number of steps needed to adequately sample different sectors to grow exponentially (divergent *autocorrelation time* $\\tau_{\\mathcal{O}}^{\\mathrm{int}}$)\n",
    "  \n",
    "  \n",
    "  * <font color='#ffff00'>  **Idea**</font>: *Use ML to more efficiently generate sample configurations.*"
   ]
  },
  {
   "cell_type": "markdown",
   "metadata": {},
   "source": [
    "### <font color='#87ff00'>Markov Chain Monte Carlo (MCMC)</font>\n",
    "---"
   ]
  },
  {
   "cell_type": "markdown",
   "metadata": {},
   "source": [
    "**GOAL**: Generate a sequence of random samples which converge to being distributed according to a target probability distribution $p(x)$ for which direct sampling is difficult.\n",
    "\n",
    "In Lattice QCD, this sequence can be used to estimate integrals with respect to the target distribution (i.e. expected values of physical observables)."
   ]
  },
  {
   "cell_type": "markdown",
   "metadata": {},
   "source": [
    "#### <font color='#f92672'>Metropolis-Hastings algorithm</font>\n",
    "---"
   ]
  },
  {
   "cell_type": "markdown",
   "metadata": {},
   "source": [
    "Given a transition kernel $q(x^{\\prime}|x)$ and an initialization distribution $p_{0}$ proceed as follows:\n",
    "\n",
    "  1. Initialize $x_{0} \\sim p_{0}$\n",
    "     \n",
    "     \n",
    "  2. for $t = 0$ to $N$:   \n",
    "     \n",
    "    1. Sample $x^{\\prime} \\sim q(\\cdot|x_{t})$\n",
    "       \n",
    "    2. Compute the acceptance probability:\n",
    "    \n",
    "        \\begin{equation}\n",
    "        A(x^{\\prime}|x_{t}) =\n",
    "          \\min\\left(1, \\frac{p(x^{\\prime})\\,q(x_{t}|x^{\\prime})}\n",
    "          {p(x_{t})\\,q(x^{\\prime}|x_{t})}\\right)\n",
    "          = \\overbrace{\\min\\left(1, \\frac{p(x^{\\prime})}\n",
    "          {p(x)}\\right)}^{\\text{if}\\,\\, q(x^{\\prime}|x) \n",
    "          \\,=\\, q(x|x^{\\prime})}\n",
    "        \\end{equation}\n",
    "       \n",
    "       &nbsp;\n",
    "    3. With probability $A$, accept the proposed value and set $x_{t+1} = x^{\\prime}$. Otherwise, set $x_{t+1} = x_{t}$."
   ]
  },
  {
   "cell_type": "markdown",
   "metadata": {
    "ExecuteTime": {
     "end_time": "2020-06-30T03:27:16.542073Z",
     "start_time": "2020-06-30T03:27:16.538897Z"
    }
   },
   "source": [
    "### <font color='#87ff00'>Hamiltonian Monte Carlo (HMC)</font>\n",
    "---"
   ]
  },
  {
   "cell_type": "markdown",
   "metadata": {
    "ExecuteTime": {
     "end_time": "2020-06-30T03:27:16.542073Z",
     "start_time": "2020-06-30T03:27:16.538897Z"
    }
   },
   "source": [
    "<font color=\"#ffff00\">GOAL:</font>\n",
    "\n",
    "  - Sample from target distribution, $p(x)$\n",
    "  - Use Hamiltonian Dynamics to \"guide\" the simulation through phase space"
   ]
  },
  {
   "cell_type": "markdown",
   "metadata": {
    "ExecuteTime": {
     "end_time": "2020-06-30T03:27:16.542073Z",
     "start_time": "2020-06-30T03:27:16.538897Z"
    }
   },
   "source": [
    "<img src=\"./img/hmc_phase_space.png\" width=80% height=auto/>"
   ]
  },
  {
   "cell_type": "markdown",
   "metadata": {
    "ExecuteTime": {
     "end_time": "2020-06-30T03:27:16.542073Z",
     "start_time": "2020-06-30T03:27:16.538897Z"
    }
   },
   "source": [
    " * Rewrite target density $\\longrightarrow$ **potential energy**:\n",
    " \n",
    "     \\begin{equation}\n",
    "     p(x) \\propto \\exp\\left(-\\beta U(x)\\right)\n",
    "     \\end{equation}\n",
    "     \n",
    "    where $\\beta = 1 / T$ is the *inverse temperature*\n",
    "     \n",
    " \n",
    " \n",
    " * Introduce $v \\sim \\mathcal{N}(0, \\mathbb{1})$ distributed independently of x.\n",
    " \n",
    "     \\begin{align}\n",
    "       p(v) &\\propto \\exp\\left(-\\frac{1}{2}v^{T}v\\right)\\\\\n",
    "       &= \\exp\\big[-K(v)\\big]\n",
    "     \\end{align}\n",
    " \n",
    " \n",
    " \n",
    " * In terms of the **Hamiltonian**, $H(x, v) = U(x) + K(v)$, then:\n",
    " \n",
    "    \\begin{align}\n",
    "    p(x, v) &= \\frac{1}{\\mathcal{Z}}\\exp\\left(-H(x, v)\\right) \\\\\n",
    "    &\\propto p(x) p(v)\n",
    "    \\end{align}\n"
   ]
  },
  {
   "cell_type": "markdown",
   "metadata": {},
   "source": [
    "#### <font color='#f92672'>Hamiltonian Dynamics / Leapfrog Integrator:</font>"
   ]
  },
  {
   "cell_type": "markdown",
   "metadata": {},
   "source": [
    "Recall Hamilton's equations:\n",
    "\n",
    "\\begin{align}\n",
    "  \\begin{split}\n",
    "    \\frac{d x}{dt} &= \\frac{\\partial H}{\\partial v} = v \\\\\n",
    "    \\frac{d v}{dt} &= -\\frac{\\partial H}{\\partial x} = -\\frac{\\partial U}{\\partial x} \\\n",
    "  \\end{split}\n",
    "\\label{eq:hamiltons_eqs}\n",
    "\\end{align}\n",
    "\n",
    "\n",
    "<!---\n",
    " * Evolve the system using Eq. \\ref{eq:hamiltons_eqs}:\n",
    " \n",
    "     \\begin{align}\n",
    "     x_{n+1} \\longleftarrow x_{n}\n",
    "     \\end{align}\n",
    " \n",
    "     \\begin{equation}\n",
    "       \\big[x(0), v(0)\\big] \n",
    "           \\xrightarrow{\\int_{0}^{dT} (\\ref{eq:hamiltons_eqs})\\,\\, dt}\n",
    "         \\big[x(T), v(T)\\big]\n",
    "     \\end{equation}\n",
    "--->\n",
    "     \n",
    "    "
   ]
  },
  {
   "cell_type": "markdown",
   "metadata": {},
   "source": [
    " 1. Draw a fresh momentum from $v_{n} \\sim \\mathcal{N}(0, \\mathbb{1})$\n",
    " \n",
    " \n",
    " 2. Alternate half-step updates of the momentum and full-step updates of the position:\n",
    "\n",
    "     \\begin{align}\n",
    "       v_{n+\\frac{1}{2}} &= v_{n} - \\frac{\\varepsilon}{2} \\frac{\\partial U(x_{n})}{\\partial x_{n}} \\\\\n",
    "       x^{\\prime} \\equiv x_{n+1} &= x_{n} + \\varepsilon v_{n+\\frac{1}{2}} \\\\\n",
    "       v^{\\prime} \\equiv v_{n+1} &= v_{n+\\frac{1}{2}} - \\frac{\\varepsilon}{2} \\frac{\\partial U(x_{n+1})}{\\partial x_{n+1}}\n",
    "     \\end{align}\n",
    " \n",
    "     where $\\varepsilon$ is the *step size*.\n",
    "     \n",
    "     \n",
    "<!---\n",
    "the operator that performs $M$ successive applications of the above updates:\n",
    "--->\n",
    "  3. Let $\\xi \\equiv (x, v)$ and $\\mathbf{L}$ and $\\mathbf{F}$ denote the operators:\n",
    "  \n",
    "      \\begin{align}\n",
    "        \\text{(leapfrog operator)}\\quad \n",
    "        \\bfL &:\n",
    "          \\xi\\longrightarrow\\left(\\xi^{\\prime}\\right)^{\\times M} \\\\\n",
    "        \\text{(momentum flip)}\\quad\n",
    "        \\bfF &:\n",
    "          \\xi = (x, v) \\longrightarrow (x, -v)\n",
    "      \\end{align}\n",
    "      \n",
    "      \n",
    "&nbsp;\n",
    "\n",
    " * To account for the numerical errors accumulated during the integration, we apply a Metropolis-Hastings accept/reject step.\n",
    " \n",
    "\n",
    " * The probability of accepting the proposed configuration is given by:\n",
    "\n",
    "    \\begin{equation}\n",
    "        A\\left(\\FLxi|\\xi\\right) \n",
    "        = \\min\\bigg[1, \n",
    "            \\frac{p(\\FLxi)}{p(\\xi)}\\underbrace{\\,\\,\n",
    "                \\left|\\frac{\\partial\\,[\\FLxi]} \n",
    "                {\\partial \\xi^{T}}\\right|\n",
    "            \\,\\,}_{\\equiv 1\\,\\,\\textbf{for HMC}}\n",
    "        \\bigg]\n",
    "    \\end{equation}\n",
    "\n",
    "   where $\\left|\\frac{\\partial\\,[\\FLxi]}{\\partial \\xi^{T}}\\right|$\n",
    "   is the determinant of the **Jacobian** of the transformation."
   ]
  },
  {
   "cell_type": "markdown",
   "metadata": {},
   "source": [
    "#### <font color='#f92672'>DEMO:</font>\n"
   ]
  },
  {
   "cell_type": "code",
   "execution_count": 1,
   "metadata": {
    "ExecuteTime": {
     "end_time": "2020-07-12T08:40:38.855321Z",
     "start_time": "2020-07-12T08:40:38.845513Z"
    },
    "collapsed": true
   },
   "outputs": [
    {
     "data": {
      "text/html": [
       "\n",
       "        <iframe\n",
       "            width=\"1000\"\n",
       "            height=\"750\"\n",
       "            src=\"https://chi-feng.github.io/mcmc-demo/app.html\"\n",
       "            frameborder=\"0\"\n",
       "            allowfullscreen\n",
       "        ></iframe>\n",
       "        "
      ],
      "text/plain": [
       "<IPython.lib.display.IFrame at 0x11247f510>"
      ]
     },
     "execution_count": 1,
     "metadata": {},
     "output_type": "execute_result"
    }
   ],
   "source": [
    "from IPython.display import IFrame\n",
    "IFrame('https://chi-feng.github.io/mcmc-demo/app.html', height=750,  width=1000)"
   ]
  },
  {
   "cell_type": "markdown",
   "metadata": {},
   "source": [
    "#### <font color='#f92672'>Aside (HMC):</font>"
   ]
  },
  {
   "cell_type": "markdown",
   "metadata": {},
   "source": [
    " * Add momentum variable $v$ of same dimensionality as $x$ and consider\n",
    " \n",
    "     \\begin{equation}\n",
    "     p(x, v) = p(v|x)p(x)\n",
    "     \\end{equation}\n",
    " \n",
    " where we are free to choose $p(v|x)$.\n",
    " \n",
    "* *In practice*, we often choose $p(v|x) = \\mathcal{N}(0, \\mathbb{1})$.\n",
    "  \n",
    "  \n",
    " * Define the **Hamiltonian**:\n",
    " \n",
    "     \\begin{align}\n",
    "         H(x, v) &= -\\log p(x, v) \\\\\n",
    "         &= -\\log p(v|x) - \\log p(x) \\\\\n",
    "         &= K(x, v) + U(x)\n",
    "     \\end{align}"
   ]
  },
  {
   "cell_type": "markdown",
   "metadata": {},
   "source": [
    "### <font color='#87ff00'>Learning to Hamiltonian Monte Carlo: *l2hmc*</font>\n",
    "---"
   ]
  },
  {
   "cell_type": "markdown",
   "metadata": {},
   "source": [
    "#### <font color='#f92672'> Motivation:</font> \n",
    "   "
   ]
  },
  {
   "cell_type": "markdown",
   "metadata": {},
   "source": [
    "#### <font color='#03a9f4'> Issues with HMC:</font> <a class=\"tocSkip\">\n",
    "\n",
    " - Randomly selected energy levels $\\Rightarrow$ *slow mixing*\n",
    " - Difficult to traverse low-density zones\n",
    "\n",
    "#### <font color='#03a9f4'> A \"good\" sampler should:</font>  <a class=\"tocSkip\">\n",
    "    \n",
    " - Mix quickly\n",
    "    \n",
    " - Converge (burn-in) quickly\n",
    "    \n",
    " - Be able to mix across energy levels\n",
    "    \n",
    " - Be able to Mix between modes\n",
    "    \n",
    " \n",
    "    "
   ]
  },
  {
   "cell_type": "markdown",
   "metadata": {},
   "source": [
    "##### <font color='#ffff00'>Idea:</font> \n",
    "    "
   ]
  },
  {
   "cell_type": "markdown",
   "metadata": {},
   "source": [
    " * Minimize the **autocorrelation time** by maximizing the expected-squared jump-distance (ESJD).\n",
    " \n",
    "    \n",
    " * Introduce into the leapfrog integrator 6 new functions: $S_{i},\\, T_{i},\\, Q_{i}$, for $i = x, v$.\n",
    "    \n",
    "    \n",
    " * <font color='#ffff00'> Each of these are parameterized by weights in a neural network that can be trained by minimizing a suitably-chosen loss function.</font>\n",
    "\n",
    "\n",
    " * Let $x, v \\in \\mathbb{R}^{n}$ with $v \\sim \\mathcal{N}(0, \\mathbb{1})$.\n",
    " \n",
    " \n",
    " * Introduce a binary direction variable $d \\in \\{-1, +1\\}$, drawn from a uniform distribution.\n",
    " \n",
    " \n",
    " * Denote the complete state by $\\xi = (x, v, d)$, with probability density:\n",
    " \n",
    "     \\begin{equation}\n",
    "     p(\\xi) = p(x)\\, p(v)\\, p(d)\n",
    "     \\end{equation}\n",
    "     \n",
    "     \n",
    "<!---\n",
    " * Begin with a subset of the augmented state space, *independent of the momentum*, $\\zeta_{1} = (x, \\partial_{x}U(x), t)$, and introduce three new functions of $\\zeta_{1}$: $S_{v},\\, T_{v},\\, Q_{v}$\n",
    "--->\n",
    "\n",
    "<!---\n",
    " * Now, however, we first update a subset of the coordinates of \n",
    " $x$, followed by the complementary subset.\n",
    "--->\n",
    "\n",
    " * <font color='#03a9f4'>**Binary masks**:</font>\n",
    "\n",
    "   &nbsp;\n",
    "   - <font color='#03a9f4'>$m^{t} \\in \\{0, 1\\}^{n}$   </font>\n",
    "     * Fixed random binary mask with half of its entries equal to 0 and the other half equal to 1.\n",
    " \n",
    "   &nbsp;\n",
    "   - <font color='#03a9f4'>$\\bar{m}^{t} \\equiv \\mathbb{1} - m^{t}$   </font>\n",
    "     * The complement of $m^{t}$\n",
    "   \n",
    "   &nbsp;\n",
    "   - <font color='#03a9f4'>$x_{m^{t}} \\equiv x\\odot m^{t}$ </font>\n",
    "     * Masking applied to $x$, where $\\odot$ denotes elementwise multiplication.\n",
    " \n",
    "---\n",
    "<font color='#ff005b'>**Note:** </font> In the limit $S_{i}, Q_{i}, T_{i} \\rightarrow 0$, we recover generic HMC (as expected)."
   ]
  },
  {
   "cell_type": "markdown",
   "metadata": {},
   "source": [
    "#### <font color='#f92672'>Augmented leapfrog integrator, $\\mathbf{L}_{\\theta}$:</font>"
   ]
  },
  {
   "cell_type": "markdown",
   "metadata": {},
   "source": [
    " 1. <font color='#ffff00'>**Momentum (half-step) update** </font>$\\,\\,v_{n}\\,\\,\\,\\,\\longrightarrow v_{n+\\frac{1}{2}}$: \n",
    " \n",
    "     \\begin{equation}\n",
    "     v^{\\prime}\n",
    "     = v\\odot\\overbrace{%\n",
    "             \\exp\\left(\\frac{\\varepsilon}{2}S_{v}(\\zeta_{1})\\right)\n",
    "         }^{\\textbf{Momentum scaling}}\n",
    "         - \\frac{\\varepsilon}{2} \\bigg[\\,\\,%\n",
    "             \\partial_{x}U(x)\\odot\\overbrace{\n",
    "                   \\exp(\\varepsilon Q_{v}(\\zeta_{1}))\n",
    "             }^{\\textbf{Gradient scaling}}\n",
    "             + \\overbrace{%\n",
    "                 T_{v}(\\zeta_{1})\n",
    "             }^{\\textbf{Translation}}\\,\\,\n",
    "           \\bigg]\n",
    "     \\end{equation}\n",
    "     \n",
    "   - **Inputs**: $\\zeta_{1} = (x, \\partial_{x}U(x), t)$\n",
    "     \n",
    "   - **Jacobian factor**: $\\mathcal{J} = \\exp\\left(\\frac{\\varepsilon}{2}\\mathbb{1}\\cdot S_{v}(\\zeta_{1})\\right)$\n",
    "---"
   ]
  },
  {
   "cell_type": "markdown",
   "metadata": {},
   "source": [
    " 2. <font color='#ffff00'>**Position (first) sub-update** </font>$\\,\\,x_{m^{t}}\\,\\,\\,\\,\\longrightarrow x^{\\prime}$:\n",
    " \n",
    "     \\begin{equation}\n",
    "       x^{\\prime} = x_{\\bar{m}^{t}} + m^{t}\\odot\\left[\n",
    "         x\\odot\\exp(\\varepsilon S_{x}(\\zeta_{2}))\n",
    "         + \\varepsilon\\left(v^{\\prime}\\odot\\exp(\\varepsilon Q_{x}(\\zeta_{2}) + T_{x}(\\zeta_{2})\\right)\n",
    "       \\right]\n",
    "     \\end{equation}\n",
    "     \n",
    "   - **Inputs**: $\\zeta_{2} = (x_{\\bar{m}^{t}}, v^{\\prime}, t)$\n",
    "   - **Jacobian factor**: $\\mathcal{J} = \\exp\\left(\\varepsilon m^{t} \\cdot S_{x}(\\zeta_{2})\\right)$\n",
    "---"
   ]
  },
  {
   "cell_type": "markdown",
   "metadata": {},
   "source": [
    " 3. <font color='#ffff00'> **Position (second) sub-update** </font>$\\,\\,x^{\\prime}\\,\\,\\,\\,\\longrightarrow x^{\\prime\\prime}$:\n",
    " \n",
    "     \\begin{equation}\n",
    "       x^{\\prime\\prime} = x^{\\prime}_{m^{t}} + \\bar{m}^{t}\\odot\\left[\n",
    "         x^{\\prime}\\odot\\exp(\\varepsilon S_{x}(\\zeta_{3}))\n",
    "         + \\varepsilon\\left(\n",
    "           v^{\\prime}\\odot\\exp(\\varepsilon Q_{x}(\\zeta_{3}) \n",
    "           + T_{x}(\\zeta_{3})\n",
    "         \\right)\n",
    "       \\right]\n",
    "     \\end{equation}\n",
    " \n",
    "   - **Inputs**: $\\zeta_{3} = (x^{\\prime}_{m^{t}}, v^{\\prime}, t)$\n",
    "   - **Jacobian factor**: $\\mathcal{J} = \\exp\\left(\\varepsilon m^{t} \\cdot S_{x}(\\zeta_{2})\\right)$\n",
    "---"
   ]
  },
  {
   "cell_type": "markdown",
   "metadata": {},
   "source": [
    "4. <font color='#ffff00'>**Momentum (half-step) update**</font> $\\,\\,v^{\\prime}\\,\\,\\,\\,\\longrightarrow v^{\\prime\\prime}$: \n",
    " \n",
    "     \\begin{equation}\n",
    "       v^{\\prime}\n",
    "       = v\\odot\\exp\\left(\\frac{\\varepsilon}{2}S_{v}(\\zeta_{1})\\right) \n",
    "         - \\frac{\\varepsilon}{2} \\left[%\n",
    "             \\partial_{x}U(x)\\odot\\exp(\\varepsilon Q_{v}(\\zeta_{1})) \n",
    "             + T_{v}(\\zeta_{1})\n",
    "         \\right]\n",
    "     \\end{equation}\n",
    "     \n",
    "   - **Inputs**: $\\zeta_{4} = (x^{\\prime\\prime}, \\partial_{x}U(x^{\\prime\\prime}), t)$\n",
    "     \n",
    "   - **Jacobian factor**: $\\mathcal{J} = \\exp\\left(\\frac{\\varepsilon}{2}\\mathbb{1}\\cdot S_{v}(\\zeta_{1})\\right)$\n",
    "\n",
    "---\n"
   ]
  },
  {
   "cell_type": "markdown",
   "metadata": {},
   "source": [
    "#### <font color='#f92672'>Jacobian determinant:</font> \n",
    "    "
   ]
  },
  {
   "cell_type": "markdown",
   "metadata": {},
   "source": [
    "\\begin{align*}\n",
    "   \\log|\\mathcal{J}| &= \\log\\left|\\frac{\\partial[\\bfF \\bfL_{\\theta} \\xi]}{\\partial \\xi^{T}}\\right|\\\\\n",
    "    &= d \\sum_{t\\leq M}\\left[\\frac{\\varepsilon}{2}\\mathbb{1}\\cdot S_{v}(\\zeta_{1}^{t})\n",
    "      + \\varepsilon m^{t}\\cdot S_{x}(\\zeta_{2}^{t})\n",
    "      + \\varepsilon \\bar{m}^{t}\\cdot S_{x}(\\zeta_{3}^{t})\n",
    "      + \\frac{\\varepsilon}{2}\\mathbb{1}\\cdot S_{v}(\\zeta_{1}^{t}\n",
    "    \\right]\n",
    " \\end{align*}"
   ]
  },
  {
   "cell_type": "markdown",
   "metadata": {},
   "source": [
    "#### <font color='#f92672'>MCMC Transitions:</font>"
   ]
  },
  {
   "cell_type": "markdown",
   "metadata": {},
   "source": [
    " * Sampling then consists of $M$ repeated applications of <font color='#ffff00'>(1.) - (4.)</font> $\\bfL_{\\theta}$, immediately followed by a momentum-flip $\\bfF$:\n",
    " \n",
    "     \\begin{equation}\n",
    "       \\xi^{\\prime} \\equiv \\bfF \\bfL_{\\theta} \\xi \n",
    "         = \\bfL_{\\theta}(x, v, d) \n",
    "         = \\left({x^{\\prime\\prime}}^{\\times M},\\, {v^{\\prime\\prime}}^{\\times M},\\, d\\right)\n",
    "     \\end{equation}"
   ]
  },
  {
   "cell_type": "markdown",
   "metadata": {},
   "source": [
    "#### <font color='#f92672'>Network architecture:</font>"
   ]
  },
  {
   "cell_type": "markdown",
   "metadata": {},
   "source": [
    " * Each of the functions $S, T, Q$ are implemented using multi-layer perceptrons.\n",
    " \n",
    " \n",
    " * <font color='#ffff00'>Note:</font> We actually have two separate networks with identical architectures:\n",
    " \n",
    "   1. **VNet**: Implements $S_{v}, T_{v}, Q_{v}$, used for updating $v$\n",
    "   2. **XNet**: Implements $S_{x}, T_{x}, Q_{x}$, used for updating $x$\n",
    "---   "
   ]
  },
  {
   "cell_type": "markdown",
   "metadata": {},
   "source": [
    "##### <font color='#ffff00'>**VNet**</font> "
   ]
  },
  {
   "cell_type": "markdown",
   "metadata": {
    "ExecuteTime": {
     "end_time": "2020-07-02T16:30:42.025208Z",
     "start_time": "2020-07-02T16:30:42.021993Z"
    }
   },
   "source": [
    "<img src=\"./img/net_arch.png\" width=100% height=auto/>\n",
    "<!---\n",
    "<img src=\"./img/generic_net_dbg.png\" width=100% height=auto/>\n",
    "--->"
   ]
  },
  {
   "cell_type": "markdown",
   "metadata": {},
   "source": [
    "To simplify notation, we denote by $F = \\partial_{x}U(x)$ the gradient of the potential energy.\n",
    "\n",
    "\n",
    " 1.  **Input**: $\\zeta_{1} = (x, F_{x}, t)$\n",
    "    \n",
    " 2. Pass the inputs through separate dense layers:\n",
    " \n",
    "    \\begin{align*}\n",
    "    \\tilde x &= W_{x}\\, x + b_{x} \\\\\n",
    "    \\tilde{F} &= W_{F}\\, F + b_{F} \\\\\n",
    "    \\tilde t &= W_{t}\\, t + b_{t} \\\\\n",
    "    \\end{align*}\n",
    "    \n",
    "     \n",
    " 4. Compute:\n",
    " \n",
    "     \\begin{align}\n",
    "     h_{1} &= \\sigma(\\tilde{x} + \\tilde{F} + \\tilde{t})\\\\\n",
    "     h_{2} &= \\sigma\\left(W_{h}\\, h_{1} + b_{h}\\right)\n",
    "     \\end{align}\n",
    "     \n",
    "     \n",
    " 5. **Outputs**:\n",
    " \n",
    "     \\begin{align}\n",
    "     S_{v} &= \\lambda_{S} \\tanh\\left(W_{S}\\, h_{2} + b_{S}\\right) \\\\\n",
    "     Q_{v} &= \\lambda_{Q} \\tanh\\left(W_{Q}\\, h_{2} + b_{Q}\\right) \\\\\n",
    "     T_{v} &= W_{T} \\, h_{2} + b_{T}\n",
    "     \\end{align}\n",
    "     \n",
    " where $\\sigma$ denotes the $\\mathrm{ReLU}$ activation function, and $\\lambda_{S}, \\lambda_{Q}$ are additional trainable parameters."
   ]
  },
  {
   "cell_type": "markdown",
   "metadata": {},
   "source": [
    "#### <font color='#f92672'>Loss function $\\mathcal{L}(\\theta)$:</font>"
   ]
  },
  {
   "cell_type": "markdown",
   "metadata": {},
   "source": [
    " * Starting from $\\xi$, use $S, T, Q$ in $\\bfL_{\\theta}$ to get $\\xi^{\\prime}$.\n",
    " \n",
    " * Define:\n",
    " \n",
    "     \\begin{equation}\n",
    "     \\delta(\\xi, \\xi^{\\prime}) = \\|x - x^{\\prime}\\|^{2}_{2}\n",
    "     \\end{equation}\n",
    "\n",
    "\n",
    " * We aim to minimize the *lag-one autocorrelation*\n",
    " \n",
    "  - Or equivalently, the *expected squared jump distance* ESJD\n",
    "  \n",
    "  \n",
    " * <font color=\"#ffff00\">**ESJD**:</font>\n",
    "     \\begin{equation}\n",
    "     \\mathcal{L}(\\theta) \\equiv \\mathbb{E}_{\\xi\\sim p(\\xi)}\\left[\\delta(\\xi^{\\prime}, \\xi) \\cdot A(\\xi^{\\prime}|\\xi)\\right]\n",
    "     \\end{equation}\n",
    " \n",
    "  where $A(\\xi^{\\prime}|\\xi)$ is the probability of accepting $\\xi^{\\prime}$ given $\\xi$."
   ]
  },
  {
   "cell_type": "markdown",
   "metadata": {},
   "source": [
    "#### <font color=\"#f92672\">Example: Gaussian Mixture Model</font>"
   ]
  },
  {
   "cell_type": "markdown",
   "metadata": {},
   "source": [
    "<!---\n",
    "<font size=\"22\"><font color='#87ff00'><font style:bold>HMC</font></font> |  <font size=\"22\"><font color='#f92672'><font style:bold>L2HMC</font></font>\n",
    ":-------------------------:|:-------------------------:\n",
    "<img src=\"./img/gmm_hmc.png\" width=80% height=auto/>  |  <img src=\"./img/gmm_l2hmc.png\" width=80% height=auto/>\n",
    "--->\n",
    "    \n",
    "<!---\n",
    "<p float=\"left\">\n",
    "  <img src=\"./img/gmm_hmc.png\" width=\"45%\" />\n",
    "  <img src=\"./img/gmm_l2hmc.png\" width=\"45%\" /> \n",
    "</p>\n",
    "--->"
   ]
  },
  {
   "cell_type": "markdown",
   "metadata": {
    "ExecuteTime": {
     "end_time": "2020-07-02T16:30:42.025208Z",
     "start_time": "2020-07-02T16:30:42.021993Z"
    }
   },
   "source": [
    "<center><font size=\"6\"><font color='#87ff00'><font style:bold>HMC\n",
    "    </font></font></center>\n",
    "<img src=\"./img/gmm_hmc.png\" width=75% height=auto/>\n",
    "    \n",
    "&nbsp;\n",
    "<center><font size=\"6\"><font color='#f92672'><font style:bold>\n",
    "    L2HMC\n",
    "    </font></font></center>\n",
    "<img src=\"./img/gmm_l2hmc.png\" width=75% height=auto/>\n",
    "    \n",
    "\n",
    "&nbsp;\n",
    "<center><font size=\"6\">Autocorrelation</font></center>\n",
    "        \n",
    "<img src=\"./img/gmm_acl.png\" width=75% height=auto/>"
   ]
  },
  {
   "cell_type": "markdown",
   "metadata": {
    "heading_collapsed": true
   },
   "source": [
    "### <font color='#87ff00'>Lattice QCD</font>\n",
    "---"
   ]
  },
  {
   "cell_type": "markdown",
   "metadata": {
    "hidden": true
   },
   "source": [
    " * Start with simpler 2d $U(1)$ Lattice Gauge Theory\n",
    " \n",
    " \n",
    " * Dynamical variables $U_{\\mu}(i)$ defined on the *links* of a two-dimensional lattice with periodic boundary conditions.\n",
    " \n",
    " \n",
    " \n",
    " * Each link $U_{\\mu}(k) \\in U(1)$ can be expressed in terms of an angle $\\phi_{\\mu}(k) \\in [-\\pi, \\pi)$ as:\n",
    "   \n",
    "    \\begin{equation}\n",
    "      U_{\\mu}(k) = \\exp\\left(i\\phi_{\\mu}(k)\\right) \\in U(1)\n",
    "    \\end{equation}"
   ]
  },
  {
   "cell_type": "markdown",
   "metadata": {
    "hidden": true
   },
   "source": [
    "#### <font color='#f92672'> Wilson gauge action:</font>"
   ]
  },
  {
   "cell_type": "markdown",
   "metadata": {
    "hidden": true
   },
   "source": [
    "\\begin{equation}\n",
    "  S = \\sum_{k} 1 - \\cos\\left(\\phi_{\\mu\\nu}(k)\\right)\n",
    "\\end{equation}\n",
    "\n",
    "where\n",
    "\n",
    "\\begin{equation}\n",
    "   \\phi_{\\mu\\nu}(k)\n",
    "   = \\phi_{\\mu}(k) + \\phi_{\\nu}(k+\\hat{\\mu}) \n",
    "     - \\phi_{\\mu}(k+\\hat{\\nu}) - \\phi_{\\nu}(k)\n",
    "\\end{equation}\n",
    "\n",
    "\n",
    "is the sum of the link variables around the elementary plaquette, as shown below.\n",
    "\n",
    "<img src=\"./img/plaq.png\" width=100% height=auto />"
   ]
  },
  {
   "cell_type": "markdown",
   "metadata": {
    "hidden": true
   },
   "source": [
    "#### <font color='#f92672'> Topological charge, $\\mathcal{Q}$:</font>"
   ]
  },
  {
   "cell_type": "markdown",
   "metadata": {
    "hidden": true
   },
   "source": [
    "\\begin{equation}\n",
    "  \\mathcal{Q} = \\frac{1}{2\\pi}\\sum_{k}\\tilde \\phi_{\\mu\\nu}\n",
    "\\end{equation}\n",
    "\n",
    "\n",
    "where\n",
    "\n",
    "\\begin{equation}\n",
    "\\tilde\\phi_{\\mu\\nu} \\equiv \\phi_{\\mu\\nu} - 2\\pi\\left\\lfloor\\frac{\\phi_{\\mu\\nu}+\\pi}{2\\pi}\\right\\rfloor \\in [0, 2\\pi)\n",
    "\\end{equation}"
   ]
  },
  {
   "cell_type": "markdown",
   "metadata": {
    "hidden": true
   },
   "source": [
    "<font color='#87ff00'><font size=\"6\">Samples $\\mathcal{Q}$ poorly:</font>\n",
    "\n",
    "<img src=\"./img/q_tplot_hmc.png\" width=100% height=auto/>"
   ]
  },
  {
   "cell_type": "markdown",
   "metadata": {
    "hidden": true
   },
   "source": [
    "<font color='#f92672'><font size=\"6\">Samples $\\mathcal{Q}$ well:</font>\n",
    "    \n",
    "<img src=\"./img/q_tplot_l2hmc.png\" width=100% height=auto/>"
   ]
  },
  {
   "cell_type": "markdown",
   "metadata": {},
   "source": [
    "## <font color=\"#87ff00\">Code</font>"
   ]
  },
  {
   "cell_type": "markdown",
   "metadata": {},
   "source": [
    "#### <font color='#f92672'>Imports\n",
    "    "
   ]
  },
  {
   "cell_type": "code",
   "execution_count": 1,
   "metadata": {
    "ExecuteTime": {
     "end_time": "2020-07-04T00:04:49.121248Z",
     "start_time": "2020-07-04T00:04:46.536658Z"
    }
   },
   "outputs": [],
   "source": [
    "%load_ext autoreload\n",
    "%autoreload 2\n",
    "\n",
    "import sys\n",
    "import os \n",
    "\n",
    "import tensorflow as tf\n",
    "import numpy as np\n",
    "import matplotlib.pyplot as plt\n",
    "import seaborn as sns\n",
    "\n",
    "from IPython.display import Image\n",
    "from IPython.core.display import HTML \n",
    "\n",
    "modulepath = os.path.abspath('..')\n",
    "if modulepath not in sys.path:\n",
    "    sys.path.append(modulepath)\n",
    "    \n",
    "import utils.file_io as io\n",
    "\n",
    "sns.set_palette('bright')"
   ]
  },
  {
   "cell_type": "markdown",
   "metadata": {},
   "source": [
    "### <font color='#f92672'>Build `Dynamics`"
   ]
  },
  {
   "cell_type": "code",
   "execution_count": 2,
   "metadata": {
    "ExecuteTime": {
     "end_time": "2020-07-04T00:04:50.302449Z",
     "start_time": "2020-07-04T00:04:49.914005Z"
    }
   },
   "outputs": [],
   "source": [
    "from dynamics.dynamics_base import BaseDynamics"
   ]
  },
  {
   "cell_type": "code",
   "execution_count": 3,
   "metadata": {
    "ExecuteTime": {
     "end_time": "2020-07-04T00:04:51.725232Z",
     "start_time": "2020-07-04T00:04:51.053149Z"
    }
   },
   "outputs": [
    {
     "name": "stdout",
     "output_type": "stream",
     "text": [
      "Number of devices: 1\n"
     ]
    }
   ],
   "source": [
    "from collections import ChainMap\n",
    "from utils.attr_dict import AttrDict\n",
    "from utils.training_utils import HEADER\n",
    "from config import DynamicsConfig, NetworkConfig\n",
    "from utils.data_containers import DataContainer\n",
    "from dynamics.gauge_dynamics import GaugeDynamics\n",
    "\n",
    "eps = 0.1\n",
    "num_steps = 2\n",
    "hmc = False\n",
    "eps_trainable = True\n",
    "lattice_shape = (1024, 16, 16, 2)\n",
    "input_shape = (lattice_shape[0], np.cumprod(lattice_shape[1:])[-1])\n",
    "\n",
    "config = DynamicsConfig(\n",
    "    eps=eps,\n",
    "    hmc=hmc,\n",
    "    eps_trainable=True,\n",
    "    num_steps=num_steps,\n",
    "    separate_networks=False,\n",
    "    model_type='GaugeModel',\n",
    ")\n",
    "\n",
    "network_config = NetworkConfig(\n",
    "    type='GaugeNetwork',\n",
    "    units=6*[1024],\n",
    "    dropout_prob=0.,\n",
    "    activation_fn=tf.nn.relu\n",
    ")\n",
    "\n",
    "params = AttrDict({\n",
    "    'lattice_shape': lattice_shape,\n",
    "    'plaq_weight': 0.1,\n",
    "    'charge_weight': 0.1,\n",
    "    'horovod': False,\n",
    "    'hmc_start': False,\n",
    "    'rand': True,\n",
    "    'save_train_data': True,\n",
    "    'beta_init': 1.,\n",
    "    'beta_final': 2.,\n",
    "    'train_steps': 100,\n",
    "    'save_steps': 10,\n",
    "    'print_steps': 1,\n",
    "    'logging_steps': 1,\n",
    "})\n",
    "\n",
    "params.update(**config._asdict())\n",
    "params.update(**network_config._asdict())\n",
    "\n",
    "dynamics = GaugeDynamics(params, config, network_config)"
   ]
  },
  {
   "cell_type": "code",
   "execution_count": 4,
   "metadata": {
    "ExecuteTime": {
     "end_time": "2020-07-04T00:00:17.925355Z",
     "start_time": "2020-07-04T00:00:17.483801Z"
    }
   },
   "outputs": [
    {
     "ename": "NameError",
     "evalue": "name 'NetworkConfig' is not defined",
     "output_type": "error",
     "traceback": [
      "\u001b[0;31m---------------------------------------------------------------------------\u001b[0m",
      "\u001b[0;31mNameError\u001b[0m                                 Traceback (most recent call last)",
      "\u001b[0;32m<ipython-input-4-c2748881bcb2>\u001b[0m in \u001b[0;36m<module>\u001b[0;34m\u001b[0m\n\u001b[1;32m     33\u001b[0m })\n\u001b[1;32m     34\u001b[0m \u001b[0;34m\u001b[0m\u001b[0m\n\u001b[0;32m---> 35\u001b[0;31m \u001b[0mdynamics\u001b[0m\u001b[0;34m,\u001b[0m \u001b[0mFLAGS\u001b[0m \u001b[0;34m=\u001b[0m \u001b[0mbuild_dynamics\u001b[0m\u001b[0;34m(\u001b[0m\u001b[0mFLAGS\u001b[0m\u001b[0;34m)\u001b[0m\u001b[0;34m\u001b[0m\u001b[0;34m\u001b[0m\u001b[0m\n\u001b[0m",
      "\u001b[0;32m~/l2hmc-qcd/l2hmc-qcd/utils/training_utils.py\u001b[0m in \u001b[0;36mbuild_dynamics\u001b[0;34m(FLAGS)\u001b[0m\n\u001b[1;32m     80\u001b[0m     \u001b[0mFLAGS\u001b[0m\u001b[0;34m.\u001b[0m\u001b[0mlattice_shape\u001b[0m \u001b[0;34m=\u001b[0m \u001b[0mlattice_shape\u001b[0m\u001b[0;34m\u001b[0m\u001b[0;34m\u001b[0m\u001b[0m\n\u001b[1;32m     81\u001b[0m \u001b[0;34m\u001b[0m\u001b[0m\n\u001b[0;32m---> 82\u001b[0;31m     net_config = NetworkConfig(\n\u001b[0m\u001b[1;32m     83\u001b[0m         \u001b[0munits\u001b[0m\u001b[0;34m=\u001b[0m\u001b[0mFLAGS\u001b[0m\u001b[0;34m.\u001b[0m\u001b[0munits\u001b[0m\u001b[0;34m,\u001b[0m\u001b[0;34m\u001b[0m\u001b[0;34m\u001b[0m\u001b[0m\n\u001b[1;32m     84\u001b[0m         \u001b[0mtype\u001b[0m\u001b[0;34m=\u001b[0m\u001b[0;34m'GaugeNetwork'\u001b[0m\u001b[0;34m,\u001b[0m\u001b[0;34m\u001b[0m\u001b[0;34m\u001b[0m\u001b[0m\n",
      "\u001b[0;31mNameError\u001b[0m: name 'NetworkConfig' is not defined"
     ]
    }
   ],
   "source": [
    "from utils.attr_dict import AttrDict\n",
    "from utils.data_containers import DataContainer\n",
    "from utils.training_utils import build_dynamics, HEADER\n",
    "\n",
    "FLAGS = AttrDict({\n",
    "    'hmc': False,\n",
    "    'hmc_start': False,\n",
    "    'rand': True,\n",
    "    'restore': False,\n",
    "    'horovod': False,\n",
    "    'eager_execution': True,\n",
    "    'save_train_data': True,\n",
    "    'eps_fixed': False,\n",
    "    'eps': 0.1,\n",
    "    'num_steps': 2,\n",
    "    'beta_init': 3.5,\n",
    "    'beta_final': 3.5,\n",
    "    'train_steps': 50,\n",
    "    'save_steps': 10, \n",
    "    'print_steps': 1,\n",
    "    'logging_steps': 1,\n",
    "    'dropout_prob': 0.25,\n",
    "    'warmup_lr': True,\n",
    "    'lr_init': 0.001,\n",
    "    'lr_decay_steps': 10,\n",
    "    'lr_decay_rate': 0.96,\n",
    "    'plaq_weight': 0.1,\n",
    "    'charge_weight': 0.1,\n",
    "    'network_type': 'GaugeNetwork',\n",
    "    'separate_networks': False,\n",
    "    'units': 6 * [1024],\n",
    "    'lattice_shape': [128, 16, 16, 2]  # batch_dim, s\n",
    "})\n",
    "\n",
    "dynamics, FLAGS = build_dynamics(FLAGS)"
   ]
  },
  {
   "cell_type": "markdown",
   "metadata": {},
   "source": [
    "### <font color='#f92672'>Training"
   ]
  },
  {
   "cell_type": "markdown",
   "metadata": {},
   "source": [
    "#### <font color='#ffff00'>Setup:</font>"
   ]
  },
  {
   "cell_type": "code",
   "execution_count": 4,
   "metadata": {
    "ExecuteTime": {
     "end_time": "2020-07-04T00:05:05.022365Z",
     "start_time": "2020-07-04T00:05:04.967077Z"
    }
   },
   "outputs": [
    {
     "name": "stdout",
     "output_type": "stream",
     "text": [
      "Creating directory: /Users/saforem2/l2hmc-qcd/gauge_logs_eager/test/2020_07/DEBUG_L16_b1024_lf2_qw01_pw01-2020-07-03-190505\n",
      "Creating directory: /Users/saforem2/l2hmc-qcd/gauge_logs_eager/test/2020_07/DEBUG_L16_b1024_lf2_qw01_pw01-2020-07-03-190505/training\n",
      "Creating directory: /Users/saforem2/l2hmc-qcd/gauge_logs_eager/test/2020_07/DEBUG_L16_b1024_lf2_qw01_pw01-2020-07-03-190505/training/train_data\n",
      "Creating directory: /Users/saforem2/l2hmc-qcd/gauge_logs_eager/test/2020_07/DEBUG_L16_b1024_lf2_qw01_pw01-2020-07-03-190505/training/checkpoints\n"
     ]
    }
   ],
   "source": [
    "# Setup directories, etc.\n",
    "log_dir = io.make_log_dir(params, 'GaugeModel')\n",
    "train_dir = os.path.join(log_dir, 'training')\n",
    "data_dir = os.path.join(train_dir, 'train_data')\n",
    "ckpt_dir = os.path.join(train_dir, 'checkpoints')\n",
    "log_file = os.path.join(train_dir, 'train_log.txt')\n",
    "io.check_else_make_dir([train_dir, data_dir, ckpt_dir])"
   ]
  },
  {
   "cell_type": "code",
   "execution_count": null,
   "metadata": {
    "ExecuteTime": {
     "end_time": "2020-07-04T00:05:06.073229Z",
     "start_time": "2020-07-04T00:05:06.017751Z"
    }
   },
   "outputs": [],
   "source": [
    "from config import TF_FLOAT\n",
    "\n",
    "\n",
    "train_data = DataContainer(params.train_steps, header=HEADER)\n",
    "ckpt = tf.train.Checkpoint(dynamics=dynamics, optimizer=dynamics.optimizer)\n",
    "manager = tf.train.CheckpointManager(ckpt, directory=ckpt_dir, max_to_keep=5)\n",
    "\n",
    "if manager.latest_checkpoint:\n",
    "    io.log(f'Restored from: {manager.latest_checkpoint}')\n",
    "    ckpt.restore(manager.latest_checkpoint)\n",
    "    train_data.restore(data_dir)\n",
    "    current_step = dynamics.optimizer.iterations.numpy()\n",
    "else:\n",
    "    current_step = tf.convert_to_tensor(0, dtype=tf.int64)\n",
    "    x = tf.random.uniform(shape=dynamics.x_shape,\n",
    "                          minval=-np.pi, maxval=np.pi)\n",
    "    \n",
    "train_steps = tf.range(params.train_steps)\n",
    "betas = tf.cast(\n",
    "    np.linspace(params.beta_init, params.beta_final, params.train_steps),\n",
    "    dtype=TF_FLOAT\n",
    ")\n",
    "\n",
    "betas = betas[current_step:]\n",
    "train_steps = train_steps[current_step:]"
   ]
  },
  {
   "cell_type": "markdown",
   "metadata": {},
   "source": [
    "#### <font color='#ffff00'>Training loop:</font>"
   ]
  },
  {
   "cell_type": "code",
   "execution_count": 7,
   "metadata": {
    "ExecuteTime": {
     "end_time": "2020-07-04T00:11:54.714866Z",
     "start_time": "2020-07-04T00:06:58.717317Z"
    }
   },
   "outputs": [
    {
     "name": "stdout",
     "output_type": "stream",
     "text": [
      "------------------------------------------------------------------------------------------------------------\n",
      "    STEP         dt         LOSS         px         eps         BETA     sumlogdet       dQ       plaq_err  \n",
      "------------------------------------------------------------------------------------------------------------\n",
      "     0/100       11.49       -547        0.989      0.1203         1        0.4885      0.5537     -0.02347   \n",
      "     1/100       1.863      -555.5      0.9883      0.1214       1.01       0.4738      0.5689      -0.0151   \n",
      "     2/100       1.828      -563.2      0.9905      0.1225       1.02       0.5108      0.5567     -0.009785  \n",
      "     3/100       1.831      -576.7      0.9883      0.1235       1.03       0.4909      0.5492     -0.004181  \n",
      "     4/100       1.746      -584.5      0.9877      0.1246       1.04       0.4692      0.5618     0.0006542  \n",
      "     5/100       1.822      -593.6      0.9867      0.1257       1.051      0.4537      0.5888     0.004338   \n",
      "     6/100       1.921      -604.4      0.9884      0.1267       1.061      0.4472      0.5747     0.008069   \n",
      "     7/100       1.988      -614.8      0.9867      0.1278       1.071      0.4146      0.5774       0.011    \n",
      "     8/100       2.007      -621.5      0.9841      0.1289       1.081      0.3535      0.5626      0.01331   \n",
      "     9/100       1.782      -633.4      0.9854       0.13        1.091       0.344      0.5525      0.01496   \n",
      "    10/100       1.807      -642.7      0.9843      0.1311       1.101      0.3503      0.5719      0.01546   \n",
      "    11/100       1.953       -648       0.9829      0.1322       1.111      0.3252      0.5822      0.01754   \n",
      "    12/100       2.097      -663.7      0.9834      0.1333       1.121      0.3265      0.5893      0.01978   \n",
      "    13/100       2.283      -676.6      0.9842      0.1344       1.131       0.309      0.5816      0.02035   \n",
      "    14/100       2.497      -682.3      0.9797      0.1355       1.141       0.318      0.6047      0.02118   \n",
      "    15/100       2.496      -690.3      0.9808      0.1366       1.152      0.3279      0.5928      0.02129   \n",
      "    16/100       2.611      -703.1      0.9798      0.1377       1.162      0.3671      0.5967      0.0217    \n",
      "    17/100       2.688       -714       0.9819      0.1388       1.172      0.3858      0.6298      0.02199   \n",
      "    18/100       2.731      -726.7      0.9845      0.1399       1.182      0.3898      0.6215      0.02334   \n",
      "    19/100       2.817      -732.2      0.9778       0.141       1.192       0.418       0.626      0.02422   \n",
      "    20/100       2.766      -745.2      0.9806      0.1421       1.202       0.491      0.6165      0.0243    \n",
      "    21/100       2.874      -750.2      0.9742      0.1432       1.212      0.5376      0.6295      0.02439   \n",
      "    22/100       2.877      -760.4      0.9757      0.1443       1.222      0.5295      0.6593      0.02518   \n",
      "    23/100       2.871      -774.3       0.978      0.1454       1.232       0.559      0.6412      0.02508   \n",
      "    24/100       2.855      -788.2       0.982      0.1465       1.242       0.605      0.6244      0.02519   \n",
      "    25/100       2.822      -798.7      0.9786      0.1477       1.253      0.6435      0.6433      0.02455   \n",
      "    26/100       2.881      -808.5      0.9774      0.1488       1.263      0.5961      0.6103      0.02372   \n",
      "    27/100       2.835      -813.3      0.9727      0.1499       1.273      0.6012      0.6245      0.02336   \n",
      "    28/100       2.875      -827.8      0.9746       0.151       1.283      0.6004      0.6443      0.02449   \n",
      "    29/100       2.871      -834.6      0.9704      0.1522       1.293      0.6134      0.6643      0.02289   \n",
      "    30/100       2.891      -847.8      0.9714      0.1533       1.303      0.5498      0.6397      0.02218   \n",
      "    31/100       2.887      -852.6      0.9642      0.1544       1.313      0.5225      0.6517      0.02203   \n",
      "    32/100        2.9       -864.2      0.9655      0.1555       1.323      0.4972       0.623      0.02214   \n",
      "    33/100       2.864      -875.1      0.9669      0.1566       1.333      0.5128      0.6589      0.02215   \n",
      "    34/100       2.89       -873.6      0.9531      0.1577       1.343       0.535      0.6264      0.02319   \n",
      "    35/100       2.923      -896.1      0.9632      0.1589       1.354      0.5565      0.6525      0.02222   \n",
      "    36/100       2.878      -904.5      0.9583       0.16        1.364      0.5754      0.6318      0.02197   \n",
      "    37/100       2.871      -914.1      0.9574      0.1611       1.374       0.643      0.6519      0.02235   \n",
      "    38/100       2.832      -930.8      0.9643      0.1622       1.384      0.6699      0.6854      0.02215   \n",
      "    39/100       2.865      -943.5      0.9661      0.1633       1.394      0.6978      0.6606      0.02102   \n",
      "    40/100       2.881      -949.5      0.9582      0.1644       1.404       0.708      0.6692      0.02136   \n",
      "    41/100       2.798      -955.2      0.9552      0.1655       1.414      0.7653      0.6664      0.02147   \n",
      "    42/100       2.724      -961.8      0.9486      0.1666       1.424      0.8614      0.6623      0.02145   \n",
      "    43/100       2.702      -972.5      0.9446      0.1677       1.434      0.7955      0.6797      0.02208   \n",
      "    44/100       2.767      -998.2       0.961      0.1689       1.444       0.721      0.6478      0.02089   \n",
      "    45/100       2.717      -993.5      0.9427       0.17        1.455      0.6848      0.6758      0.02134   \n",
      "    46/100       2.77        -1004       0.942      0.1711       1.465      0.7057      0.6543      0.0218    \n",
      "    47/100       2.807       -1008      0.9355      0.1721       1.475      0.7722      0.6586      0.02187   \n",
      "    48/100       2.745       -1027       0.947      0.1732       1.485       0.719      0.6467      0.02202   \n",
      "    49/100       3.227       -1034      0.9429      0.1743       1.495      0.7073      0.6477      0.02195   \n",
      "    50/100       4.065       -1037      0.9347      0.1754       1.505      0.7594      0.6517      0.02155   \n",
      "    51/100       2.961       -1046       0.931      0.1765       1.515      0.8659      0.6434      0.02129   \n",
      "    52/100       2.925       -1068      0.9438      0.1776       1.525      0.9607      0.6513      0.02078   \n",
      "    53/100       2.77        -1081      0.9408      0.1787       1.535       1.026      0.6739      0.02086   \n",
      "    54/100       2.704       -1087      0.9364      0.1797       1.545       1.028      0.6634      0.02187   \n",
      "    55/100       2.688       -1099      0.9421      0.1808       1.556       1.142      0.6607      0.02198   \n",
      "    56/100       2.683       -1121      0.9454      0.1819       1.566       1.053       0.675      0.02042   \n",
      "    57/100       2.719       -1108      0.9274       0.183       1.576       1.017      0.6555      0.0206    \n",
      "    58/100       2.724       -1112      0.9252       0.184       1.586      0.9095      0.6488      0.02105   \n",
      "    59/100       2.746       -1129      0.9244      0.1851       1.596      0.8115      0.6737      0.02036   \n",
      "    60/100       2.704       -1153      0.9323      0.1862       1.606      0.7869      0.6903      0.02078   \n",
      "    61/100       2.724       -1140      0.9144      0.1872       1.616      0.8917      0.6722      0.02131   \n",
      "    62/100       2.69        -1154      0.9223      0.1883       1.626       1.069      0.6581      0.0204    \n",
      "    63/100       2.73        -1179      0.9294      0.1893       1.636       1.198      0.6665      0.02123   \n",
      "    64/100       2.704       -1206       0.941      0.1904       1.646       1.224      0.6554      0.02256   \n",
      "    65/100       2.697       -1204      0.9309      0.1914       1.657       1.247      0.6684      0.02251   \n",
      "    66/100       2.716       -1209      0.9295      0.1925       1.667       1.168      0.6672      0.02162   \n",
      "    67/100       2.708       -1209       0.914      0.1935       1.677       1.22       0.6734      0.02068   \n",
      "    68/100       2.73        -1211      0.9102      0.1946       1.687       1.118      0.6672      0.02202   \n",
      "    69/100       2.706       -1231      0.9232      0.1956       1.697       1.19       0.6253      0.02087   \n",
      "    70/100       2.703       -1241      0.9188      0.1967       1.707        1.2       0.6606      0.02189   \n"
     ]
    },
    {
     "name": "stdout",
     "output_type": "stream",
     "text": [
      "    71/100       2.898       -1261      0.9265      0.1977       1.717       1.358      0.6784      0.02152   \n",
      "    72/100       2.801       -1280      0.9359      0.1987       1.727       1.413      0.6623      0.02231   \n",
      "    73/100       2.773       -1288      0.9246      0.1998       1.737       1.59       0.6786      0.02243   \n",
      "    74/100       2.745       -1283      0.9143      0.2008       1.747       1.501      0.6524      0.02179   \n",
      "    75/100       2.735       -1303      0.9194      0.2018       1.758       1.546      0.6591      0.02191   \n",
      "    76/100       2.773       -1295       0.916      0.2028       1.768       1.417      0.6739      0.02169   \n",
      "    77/100       4.312       -1287      0.9003      0.2039       1.778       1.367      0.6791      0.02212   \n",
      "    78/100       3.988       -1322      0.9118      0.2049       1.788       1.375      0.6704      0.02446   \n",
      "    79/100       3.331       -1338      0.9165      0.2059       1.798       1.629      0.6696      0.02414   \n",
      "    80/100       3.11        -1356      0.9216      0.2069       1.808       1.662      0.6751      0.02527   \n",
      "    81/100       3.233       -1335      0.8973      0.2079       1.818       1.752      0.6597      0.02558   \n",
      "    82/100       3.015       -1381      0.9181      0.2089       1.828       1.821      0.6879      0.02407   \n",
      "    83/100       2.845       -1385      0.9185      0.2099       1.838       1.793      0.6522      0.02376   \n",
      "    84/100       2.874       -1383      0.9083      0.2109       1.848       1.608      0.6686      0.02482   \n",
      "    85/100       2.835       -1397      0.9124      0.2118       1.859       1.411      0.6927      0.02506   \n",
      "    86/100       2.893       -1376      0.8899      0.2128       1.869       1.373       0.671      0.02633   \n",
      "    87/100       2.934       -1394      0.8947      0.2138       1.879       1.489      0.6627      0.02498   \n",
      "    88/100       2.933       -1379      0.8827      0.2148       1.889       1.551      0.6578      0.02464   \n",
      "    89/100       3.062       -1399      0.8863      0.2157       1.899       1.477      0.6582      0.0252    \n",
      "    90/100       2.949       -1391      0.8742      0.2166       1.909       1.496      0.6681      0.02716   \n",
      "    91/100       2.944       -1421       0.891      0.2176       1.919       1.758      0.6404      0.02615   \n",
      "    92/100       2.88        -1418      0.8812      0.2185       1.929       1.952      0.6375      0.02536   \n",
      "    93/100       2.863       -1443      0.8959      0.2194       1.939       1.949      0.6695      0.02499   \n",
      "    94/100       2.851       -1432      0.8813      0.2203       1.949       1.873      0.6448      0.02628   \n",
      "    95/100       2.869       -1451      0.8822      0.2212       1.96        1.887      0.6698      0.02636   \n",
      "    96/100       2.845       -1425       0.864      0.2221       1.97        1.791      0.6505      0.02542   \n",
      "    97/100       2.933       -1438      0.8631       0.223       1.98        1.812       0.659      0.0273    \n",
      "    98/100       2.999       -1446      0.8636      0.2238       1.99        1.749      0.6717      0.02773   \n",
      "    99/100       2.989       -1479       0.879      0.2247         2         1.751       0.648      0.02674   \n"
     ]
    }
   ],
   "source": [
    "import time\n",
    "\n",
    "io.log(HEADER)\n",
    "steps = tf.range(params.train_steps)\n",
    "train_step = tf.function(dynamics.train_step)\n",
    "for step, beta in zip(steps, betas):\n",
    "    #x, metrics = dynamics.train_step((x, beta), (step == 0))\n",
    "    start = time.time()\n",
    "    x, metrics = train_step((x, beta), (step == 0))\n",
    "    metrics.dt = time.time() - start\n",
    "    \n",
    "    if step % params.print_steps == 0:\n",
    "        data_str = train_data.get_fstr(step, metrics)\n",
    "        io.log(data_str)\n",
    "        \n",
    "    if step % params.logging_steps == 0 and params.save_train_data:\n",
    "        train_data.update(step, metrics)\n",
    "        \n",
    "    if step % params.save_steps == 0:\n",
    "        manager.save()\n",
    "        train_data.save_data(data_dir)\n",
    "        train_data.flush_data_strs(log_file, rank=0, mode='a')\n",
    "        \n",
    "manager.save()\n",
    "train_data.flush_data_strs(log_file, rank=0, mode='a')"
   ]
  },
  {
   "cell_type": "code",
   "execution_count": 8,
   "metadata": {
    "ExecuteTime": {
     "end_time": "2020-07-04T00:44:44.638399Z",
     "start_time": "2020-07-04T00:38:35.281540Z"
    }
   },
   "outputs": [
    {
     "name": "stdout",
     "output_type": "stream",
     "text": [
      "------------------------------------------------------------------------------------------------------------\n",
      "    STEP         dt         LOSS         px         eps         BETA     sumlogdet       dQ       plaq_err  \n",
      "------------------------------------------------------------------------------------------------------------\n",
      "     0/100       2.882      -297.6      0.1897      0.2255         1          0.4       0.7606      -0.1291   \n",
      "     1/100       2.786      -786.2      0.4866      0.2261       1.01        1.833      0.7621      -0.1168   \n",
      "     2/100       2.865       -1024      0.6265      0.2268       1.02        1.523      0.7812     -0.09275   \n",
      "     3/100       2.852       -1117      0.6666      0.2275       1.03        1.579      0.7865     -0.06811   \n",
      "     4/100       2.903       -1370        0.8       0.2281       1.04        1.788      0.8383     -0.04766   \n",
      "     5/100       2.986       -1484      0.8605      0.2288       1.051       1.33       0.8521      -0.0303   \n",
      "     6/100       2.949       -1514      0.8672      0.2295       1.061      0.8433      0.8962     -0.01475   \n",
      "     7/100       2.901       -1520      0.8664      0.2302       1.071      0.5963      0.9147     -0.005737  \n",
      "     8/100       2.803       -1536      0.8662      0.2309       1.081      0.5138      0.9252     0.002397   \n",
      "     9/100       2.806       -1533      0.8611      0.2316       1.091      0.4983      0.9667     0.008195   \n",
      "    10/100       2.811       -1501      0.8393      0.2323       1.101      0.5747       0.965      0.01175   \n",
      "    11/100       2.787       -1555      0.8672      0.2331       1.111      0.6048       0.921      0.0134    \n",
      "    12/100       2.813       -1577      0.8674      0.2339       1.121      0.5851      0.9841      0.01682   \n",
      "    13/100       2.911       -1601      0.8761      0.2346       1.131      0.6783      0.9326      0.0177    \n",
      "    14/100       2.895       -1621      0.8829      0.2354       1.141      0.8351      0.9577      0.02049   \n",
      "    15/100       2.918       -1677      0.9079      0.2363       1.152       1.165      0.9805      0.0216    \n",
      "    16/100       2.985       -1718      0.9243      0.2371       1.162       1.461       0.999      0.02374   \n",
      "    17/100       2.958       -1754      0.9431       0.238       1.172       1.614       0.952      0.02416   \n",
      "    18/100       2.954       -1792      0.9547      0.2389       1.182       2.059      0.9744      0.02379   \n",
      "    19/100       2.933       -1774      0.9376      0.2399       1.192       2.417      0.9695      0.02319   \n",
      "    20/100       2.989       -1774      0.9376      0.2408       1.202       2.449      0.9451      0.02467   \n",
      "    21/100       2.918       -1803      0.9438      0.2418       1.212       2.561      0.9806      0.02642   \n",
      "    22/100       2.924       -1813      0.9409      0.2428       1.222       2.448      0.9505      0.02716   \n",
      "    23/100       2.886       -1840       0.948      0.2439       1.232       2.228       1.014      0.0259    \n",
      "    24/100       2.999       -1853      0.9504      0.2449       1.242       2.087      0.9793      0.02696   \n",
      "    25/100       3.093       -1827      0.9311      0.2459       1.253       1.991      0.9336      0.02824   \n",
      "    26/100       3.359       -1831      0.9246       0.247       1.263       1.879      0.9699      0.02925   \n",
      "    27/100       3.498       -1823      0.9193       0.248       1.273       1.695      0.9563      0.02879   \n",
      "    28/100       3.611       -1844      0.9214      0.2491       1.283       1.573      0.9728      0.0279    \n",
      "    29/100       3.665       -1858      0.9243      0.2502       1.293       1.688       0.982      0.02776   \n",
      "    30/100       3.677       -1841      0.9114      0.2512       1.303       1.737      0.9717      0.03021   \n",
      "    31/100       3.703       -1888      0.9242      0.2523       1.313       1.798      0.9436      0.03032   \n",
      "    32/100       3.711       -1887       0.922      0.2533       1.323       1.89       0.9767      0.03006   \n",
      "    33/100       3.638       -1909      0.9263      0.2544       1.333       2.051      0.9565      0.02832   \n",
      "    34/100       3.667       -1885      0.9147      0.2554       1.343       2.325      0.9181      0.03043   \n",
      "    35/100       3.718       -1935      0.9264      0.2565       1.354       2.334      0.9663      0.02888   \n",
      "    36/100       3.708       -1954      0.9291      0.2575       1.364       2.204      0.9388      0.03016   \n",
      "    37/100       3.697       -1903      0.9069      0.2586       1.374       2.186      0.9643      0.02933   \n",
      "    38/100       3.782       -1967      0.9272      0.2596       1.384       2.301      0.9645      0.03007   \n",
      "    39/100       3.68        -1956      0.9142      0.2606       1.394       2.318      0.9333      0.02911   \n",
      "    40/100       3.643       -1954      0.9114      0.2616       1.404       2.241      0.9786      0.03025   \n",
      "    41/100       3.773       -1971      0.9096      0.2627       1.414       2.307      0.9457      0.03315   \n",
      "    42/100       3.538       -1947      0.8915      0.2637       1.424       2.287      0.9602      0.03194   \n",
      "    43/100       3.542       -1953      0.8933      0.2647       1.434       2.408       0.938      0.03255   \n",
      "    44/100       3.604       -1959      0.8926      0.2656       1.444       2.54       0.9855      0.03402   \n",
      "    45/100       3.624       -1995      0.8993      0.2666       1.455       2.493       0.96       0.03326   \n",
      "    46/100       3.629       -1971      0.8914      0.2676       1.465       2.398      0.9539      0.03358   \n",
      "    47/100       3.568       -1988      0.8893      0.2686       1.475       2.33       0.9186      0.03356   \n",
      "    48/100       3.569       -1956      0.8692      0.2695       1.485       2.079      0.9153      0.03519   \n",
      "    49/100       3.596       -1982      0.8773      0.2704       1.495       1.977      0.9576      0.03506   \n",
      "    50/100       4.007       -2005      0.8826      0.2713       1.505       2.155      0.9612      0.03343   \n",
      "    51/100       3.644       -1986      0.8725      0.2722       1.515       2.157      0.9403      0.03324   \n",
      "    52/100       3.708       -1980      0.8673      0.2731       1.525       2.229      0.9572      0.03272   \n",
      "    53/100       3.769       -1961      0.8535      0.2739       1.535       2.291      0.9151      0.03376   \n",
      "    54/100       3.845       -2008      0.8679      0.2748       1.545       2.412       0.907      0.03299   \n",
      "    55/100       3.63        -1994      0.8621      0.2756       1.556       2.266      0.9216      0.03419   \n",
      "    56/100       3.883       -2023       0.869      0.2764       1.566       2.236      0.8547       0.035    \n",
      "    57/100       4.156       -2027      0.8657      0.2772       1.576       2.35       0.9127      0.03616   \n",
      "    58/100       5.289       -2054      0.8752       0.278       1.586       2.443      0.8853      0.03638   \n",
      "    59/100       3.852       -2055       0.871      0.2787       1.596       2.673      0.9387      0.03781   \n",
      "    60/100       3.805       -2027      0.8579      0.2795       1.606       2.655      0.8997      0.03761   \n",
      "    61/100       4.557       -2094       0.88       0.2802       1.616       2.763      0.8986      0.03633   \n",
      "    62/100       3.825       -2040      0.8608       0.281       1.626       2.792      0.9458      0.03678   \n",
      "    63/100       3.833       -2009      0.8424      0.2817       1.636       2.625      0.9469      0.03801   \n",
      "    64/100       3.835       -2067       0.864      0.2824       1.646       2.586      0.9088      0.03815   \n",
      "    65/100       3.866       -2022      0.8414      0.2831       1.657       2.537      0.9021      0.03675   \n",
      "    66/100       3.805       -2045      0.8484      0.2838       1.667       2.384      0.8939      0.03779   \n",
      "    67/100       3.71        -2037      0.8434      0.2844       1.677       2.337      0.8884      0.03889   \n",
      "    68/100       3.647       -1987      0.8159      0.2851       1.687       2.445      0.8875      0.03998   \n",
      "    69/100       3.687       -1998       0.821      0.2857       1.697       2.439      0.9175      0.04103   \n",
      "    70/100       3.766       -1994      0.8115      0.2863       1.707       2.515      0.8877      0.03987   \n"
     ]
    },
    {
     "name": "stdout",
     "output_type": "stream",
     "text": [
      "    71/100       3.798       -2017      0.8231      0.2868       1.717       2.412       0.905      0.03975   \n",
      "    72/100       4.311       -2033       0.829      0.2874       1.727       2.22       0.8708      0.03968   \n",
      "    73/100       4.239       -1971      0.7988       0.288       1.737       2.106      0.9045      0.04062   \n",
      "    74/100       4.09        -1942      0.7877      0.2885       1.747       2.05       0.8384      0.04071   \n",
      "    75/100       3.727       -1967      0.7936       0.289       1.758       2.019      0.8963      0.04056   \n",
      "    76/100       4.022       -1980       0.803      0.2895       1.768       2.178      0.8527      0.04097   \n",
      "    77/100       6.446       -1968      0.7922      0.2899       1.778       2.376      0.8711      0.0411    \n",
      "    78/100       4.201       -2007      0.8058      0.2904       1.788       2.53       0.8921      0.04182   \n",
      "    79/100       4.086       -2066      0.8263      0.2908       1.798       2.669      0.8349      0.04221   \n",
      "    80/100       3.775       -2045      0.8172      0.2912       1.808       2.809      0.8544      0.04246   \n",
      "    81/100       3.848       -2026      0.8086      0.2916       1.818       2.667      0.8762      0.04232   \n",
      "    82/100       3.861       -1978      0.7913      0.2919       1.828       2.51       0.8978      0.0428    \n",
      "    83/100       3.885       -2022      0.8032      0.2923       1.838       2.473      0.8842      0.04342   \n",
      "    84/100       3.725       -2024      0.8037      0.2926       1.848       2.497      0.8389      0.04235   \n",
      "    85/100       3.759       -1942      0.7702       0.293       1.859       2.276      0.8138       0.044    \n",
      "    86/100       3.711       -1922      0.7618      0.2933       1.869       2.245      0.8034      0.04504   \n",
      "    87/100       3.671       -1998      0.7907      0.2935       1.879       2.39       0.8327      0.04314   \n",
      "    88/100       3.708       -1943       0.769      0.2938       1.889       2.331      0.8633      0.0452    \n",
      "    89/100       3.695       -1993      0.7882      0.2941       1.899       2.701      0.7998      0.04445   \n",
      "    90/100       3.668       -2007       0.793      0.2943       1.909       2.604      0.8333      0.04409   \n",
      "    91/100       3.763       -2080      0.8218      0.2945       1.919       2.776      0.8054      0.04291   \n",
      "    92/100       3.74        -2013      0.7953      0.2948       1.929       2.623       0.837      0.04379   \n",
      "    93/100       3.691       -2076      0.8148       0.295       1.939       2.832      0.8375      0.04399   \n",
      "    94/100       3.676       -2057      0.8088      0.2952       1.949       2.883      0.8288      0.04518   \n",
      "    95/100       3.689       -2051      0.8055      0.2954       1.96        3.183      0.7643      0.04442   \n",
      "    96/100       3.666       -2099      0.8269      0.2956       1.97        3.372      0.8148      0.04433   \n",
      "    97/100       3.785       -2052      0.8042      0.2958       1.98        3.148      0.8289      0.04548   \n",
      "    98/100       3.848       -1995      0.7804       0.296       1.99        3.104      0.7936      0.04646   \n",
      "    99/100       3.894       -2053      0.8053      0.2961         2         3.073      0.8194      0.04541   \n"
     ]
    }
   ],
   "source": [
    "import time\n",
    "\n",
    "io.log(HEADER)\n",
    "steps = tf.range(params.train_steps)\n",
    "#train_step = tf.function(dynamics.train_step)\n",
    "train_step = dynamics.train_step\n",
    "for step, beta in zip(steps, betas):\n",
    "    #x, metrics = dynamics.train_step((x, beta), (step == 0))\n",
    "    start = time.time()\n",
    "    x, metrics = train_step((x, beta), (step == 0))\n",
    "    metrics.dt = time.time() - start\n",
    "    \n",
    "    if step % params.print_steps == 0:\n",
    "        data_str = train_data.get_fstr(step, metrics)\n",
    "        io.log(data_str)\n",
    "        \n",
    "    if step % params.logging_steps == 0 and params.save_train_data:\n",
    "        train_data.update(step, metrics)\n",
    "        \n",
    "    if step % params.save_steps == 0:\n",
    "        manager.save()\n",
    "        train_data.save_data(data_dir)\n",
    "        train_data.flush_data_strs(log_file, rank=0, mode='a')\n",
    "        \n",
    "manager.save()\n",
    "train_data.flush_data_strs(log_file, rank=0, mode='a')"
   ]
  },
  {
   "cell_type": "markdown",
   "metadata": {},
   "source": [
    "### <font color='#f92672'>Inference loop:</font>"
   ]
  },
  {
   "cell_type": "code",
   "execution_count": 42,
   "metadata": {
    "ExecuteTime": {
     "end_time": "2020-07-02T17:48:01.018242Z",
     "start_time": "2020-07-02T17:47:02.852454Z"
    },
    "run_control": {
     "marked": true
    }
   },
   "outputs": [
    {
     "name": "stdout",
     "output_type": "stream",
     "text": [
      "Creating directory: /Users/saforem2/l2hmc-qcd/gauge_logs_eager/test/2020_07/DEBUG_L16_b128_lf2_qw01_pw01_dp025-2020-07-02-092429/inference/beta35_lf2_eps01_b128-2020-07-02-1247\n",
      "     0/100      0.4549      -456.9       0.608      0.1426        3.5      6.473e-05    0.03906    0.001858   \n",
      "------------------------------------------------------------------------------------------------------------\n",
      "    STEP         dt         LOSS         px         eps         BETA     sumlogdet       dQ       plaq_err  \n",
      "------------------------------------------------------------------------------------------------------------\n",
      "     1/100      0.4952      -433.8       0.578      0.1426        3.5     -0.0001515    0.05469    0.001919   \n",
      "     2/100      0.4523      -446.6      0.5863      0.1426        3.5     -0.0003302    0.07031    0.002384   \n",
      "     3/100      0.4393      -468.9      0.6179      0.1426        3.5      0.0001929    0.05469    0.002752   \n",
      "     4/100      0.4316      -445.7      0.5918      0.1426        3.5      0.0001552    0.03906    0.002126   \n",
      "     5/100      0.4341      -427.7      0.5654      0.1426        3.5      0.0002704    0.03906    0.002696   \n",
      "     6/100      0.3923      -476.4      0.6213      0.1426        3.5      0.0002857    0.04688    0.001806   \n",
      "     7/100       0.402      -482.8      0.6452      0.1426        3.5      2.015e-05    0.03906    0.0009934  \n",
      "     8/100      0.4259      -390.3      0.5224      0.1426        3.5      7.63e-05    0.007813    0.002142   \n",
      "     9/100       0.472      -434.6       0.589      0.1426        3.5      3.443e-05    0.01563     0.00138   \n",
      "    10/100      0.4732      -426.7      0.5728      0.1426        3.5      2.95e-05     0.04688    0.001126   \n",
      "    11/100      0.4203      -433.4      0.5804      0.1426        3.5     -8.379e-05    0.03906    0.002179   \n",
      "    12/100      0.4389      -422.2      0.5644      0.1426        3.5      1.052e-05    0.07031    0.002635   \n",
      "    13/100      0.4199      -435.4      0.5796      0.1426        3.5     -0.0002827    0.07813    0.003764   \n",
      "    14/100      0.4242      -479.9      0.6391      0.1426        3.5     -0.0001876    0.05469    0.002905   \n",
      "    15/100      0.4862      -447.1      0.5977      0.1426        3.5     -3.444e-05    0.05469    0.002347   \n",
      "    16/100      0.4428      -445.1      0.6015      0.1426        3.5      0.0001086    0.08594    0.0008016  \n",
      "    17/100      0.4598      -462.4      0.6225      0.1426        3.5      0.0002056   0.007813    0.0002904  \n",
      "    18/100      0.4714      -447.3      0.5991      0.1426        3.5      0.0001378    0.02344    0.0009464  \n",
      "    19/100      0.4715      -437.5      0.5851      0.1426        3.5     -4.835e-05    0.0625     0.001111   \n",
      "    20/100      0.5241      -459.2      0.6047      0.1426        3.5      0.0002889    0.03906    0.000947   \n",
      "    21/100      0.4854       -440       0.5899      0.1426        3.5      0.0001525    0.03906    0.0006955  \n",
      "    22/100      0.4975       -457       0.6047      0.1426        3.5      5.702e-05    0.03906    0.001984   \n",
      "    23/100      0.5029      -479.5      0.6423      0.1426        3.5      0.0001632    0.04688    0.001632   \n",
      "    24/100      0.5298       -462       0.6119      0.1426        3.5     -5.887e-05    0.01563    0.0008878  \n",
      "    25/100      0.5045      -438.3      0.5818      0.1426        3.5      0.0001004    0.03906    0.0005384  \n",
      "    26/100      0.4943      -456.5      0.6068      0.1426        3.5     -7.036e-05    0.05469   -5.363e-06  \n",
      "    27/100      0.5489      -451.1       0.61       0.1426        3.5     -0.0001759    0.02344   -0.0002465  \n",
      "    28/100       0.576      -410.6      0.5518      0.1426        3.5      0.000369     0.03125   -3.084e-05  \n",
      "    29/100      0.5546      -406.8      0.5402      0.1426        3.5     -7.194e-05    0.03906    0.0003588  \n",
      "    30/100      0.5391      -415.1       0.553      0.1426        3.5     -0.0001064    0.03125    3.12e-05   \n",
      "    31/100      0.5641      -448.8      0.5936      0.1426        3.5     -1.488e-05    0.03906   -0.0001895  \n",
      "    32/100       0.527      -445.1      0.6036      0.1426        3.5     -0.0001299    0.02344    0.0003999  \n",
      "    33/100      0.5913      -429.3      0.5795      0.1426        3.5      2.047e-05    0.01563   -0.0005533  \n",
      "    34/100      0.5709      -427.1      0.5684      0.1426        3.5     -0.0002859    0.02344    0.0009059  \n",
      "    35/100      0.5623      -442.8      0.5943      0.1426        3.5      6.109e-05    0.07031    0.002435   \n",
      "    36/100      0.5288      -463.1      0.6198      0.1426        3.5      7.741e-05    0.03906     0.00222   \n",
      "    37/100      0.5523      -481.1       0.642      0.1426        3.5     -0.0001447    0.03906    0.001818   \n",
      "    38/100      0.5279      -434.2      0.5691      0.1426        3.5     -0.0002517    0.02344     0.00104   \n",
      "    39/100      0.5625      -419.8      0.5641      0.1426        3.5      0.0001616   2.744e-07   0.002329   \n",
      "    40/100       0.546       -491        0.644      0.1426        3.5      4.377e-05    0.01563    0.001734   \n",
      "    41/100      0.5444      -421.1      0.5513      0.1426        3.5      5.604e-05    0.02344    0.0008201  \n",
      "    42/100      0.5755      -441.4      0.5903      0.1426        3.5     -0.0003259    0.04688    0.0008577  \n",
      "    43/100      0.5375      -452.1      0.6016      0.1426        3.5      0.0001885    0.03125    -0.000598  \n",
      "    44/100      0.5783      -427.3      0.5669      0.1426        3.5      6.303e-05    0.03125   -0.0001464  \n",
      "    45/100      0.5219       -430       0.5767      0.1426        3.5      9.229e-05    0.02344    0.0008003  \n",
      "    46/100      0.5332      -453.9      0.6147      0.1426        3.5      0.0001778    0.02344    0.0009459  \n",
      "    47/100      0.5587      -447.3      0.6009      0.1426        3.5      0.000223     0.03125   -0.0003181  \n",
      "    48/100      0.5822       -438       0.5848      0.1426        3.5     -0.0001313    0.03906   -7.046e-05  \n",
      "    49/100      0.6633      -413.4      0.5432      0.1426        3.5      0.0002766    0.03906    0.001271   \n",
      "    50/100      0.5913      -466.1      0.6271      0.1426        3.5      8.269e-05    0.03125   -0.0001308  \n",
      "    51/100      0.5748      -434.8      0.5774      0.1426        3.5      5.485e-06    0.03906    0.001041   \n",
      "    52/100      0.6057      -441.4      0.5852      0.1426        3.5      2.187e-05    0.03906   -0.0002274  \n",
      "    53/100      0.7101      -433.1      0.5774      0.1426        3.5      4.943e-05    0.05469    0.0002036  \n",
      "    54/100      0.7372      -422.1      0.5666      0.1426        3.5     -8.431e-05    0.03906    0.0004637  \n",
      "    55/100      0.6527       -424       0.5628      0.1426        3.5      -0.000226    0.03125    0.001057   \n",
      "    56/100       0.606      -465.6      0.6263      0.1426        3.5      0.0003126    0.03125     0.00122   \n",
      "    57/100      0.6132      -430.8      0.5798      0.1426        3.5     -0.0002169    0.03125    0.001456   \n",
      "    58/100      0.6669      -453.5      0.6136      0.1426        3.5      5.493e-05    0.02344    0.002858   \n",
      "    59/100      0.6222      -448.8      0.5983      0.1426        3.5      0.0001322    0.04688    0.002053   \n",
      "    60/100      0.6141      -452.2      0.6052      0.1426        3.5     -5.111e-05    0.02344    0.002404   \n",
      "    61/100      0.5704      -460.3      0.6166      0.1426        3.5     -0.0001541    0.05469    0.002563   \n",
      "    62/100      0.6207      -450.4      0.5934      0.1426        3.5      0.0001746    0.03125    0.001514   \n",
      "    63/100      0.6284      -456.8      0.6153      0.1426        3.5      3.449e-05    0.02344    0.0008757  \n",
      "    64/100      0.5646      -435.3       0.582      0.1426        3.5      1.797e-05    0.03125    0.0001469  \n",
      "    65/100      0.6143      -432.7       0.577      0.1426        3.5      0.0001776    0.03125    5.329e-05  \n",
      "    66/100      0.6167      -415.6      0.5528      0.1426        3.5       1.1e-05     0.01563    0.001443   \n",
      "    67/100      0.6188      -416.3      0.5656      0.1426        3.5     -0.0001791    0.04688    0.002614   \n",
      "    68/100      0.6214      -431.1      0.5703      0.1426        3.5     -4.116e-05    0.05469    0.002258   \n",
      "    69/100      0.6454      -476.4      0.6383      0.1426        3.5      6.977e-05    0.08594    0.002159   \n"
     ]
    },
    {
     "name": "stdout",
     "output_type": "stream",
     "text": [
      "    70/100      0.6067      -494.6      0.6602      0.1426        3.5      9.044e-05    0.02344    0.001043   \n",
      "    71/100       0.623      -432.6      0.5696      0.1426        3.5      2.121e-05    0.03125    0.001757   \n",
      "    72/100      0.7012      -457.4      0.6002      0.1426        3.5     -0.0001271    0.07813    0.001224   \n",
      "    73/100      0.6829      -459.8      0.6121      0.1426        3.5      5.612e-05    0.03125    0.001893   \n",
      "    74/100      0.6754      -475.6      0.6389      0.1426        3.5     -0.0005095    0.03906    0.0005029  \n",
      "    75/100      0.7197      -476.2      0.6357      0.1426        3.5      0.0001793    0.02344    0.0003347  \n",
      "    76/100      0.7423      -427.5      0.5663      0.1426        3.5     -0.0001553    0.03125    0.0003972  \n",
      "    77/100      0.6565       -450        0.602      0.1426        3.5      2.506e-05    0.05469    0.0005099  \n",
      "    78/100      0.7027      -428.3      0.5686      0.1426        3.5      5.36e-05     0.03906    0.001144   \n",
      "    79/100      0.6498      -464.4      0.6219      0.1426        3.5     -0.0001507    0.03125   -0.0003954  \n",
      "    80/100      0.6592      -407.8      0.5494      0.1426        3.5     -0.0001194    0.02344   -0.0003024  \n",
      "    81/100      0.7287      -416.1      0.5541      0.1426        3.5      5.241e-06    0.03906    0.0007921  \n",
      "    82/100       0.615      -434.2      0.5732      0.1426        3.5     -5.501e-05    0.03906    0.001822   \n",
      "    83/100      0.6681      -512.9      0.6817      0.1426        3.5     -0.0003022    0.04688    0.0003678  \n",
      "    84/100      0.6575      -419.7       0.557      0.1426        3.5      0.0002065    0.05469    0.0003241  \n",
      "    85/100      0.6442      -412.2      0.5454      0.1426        3.5     -8.398e-05    0.03906    0.0005991  \n",
      "    86/100      0.6656      -459.5      0.6133      0.1426        3.5     -1.097e-05    0.07813    0.0008246  \n",
      "    87/100      0.6598       -451       0.6077      0.1426        3.5     -0.0002309    0.03125    0.0003667  \n",
      "    88/100      0.7206      -444.5      0.5905      0.1426        3.5      9.19e-06     0.03906   -0.0006752  \n",
      "    89/100      0.7142      -417.3      0.5477      0.1426        3.5      0.0003046    0.02344    -0.001228  \n",
      "    90/100      0.6904      -399.2      0.5298      0.1426        3.5     -9.875e-05    0.03906    0.0001447  \n",
      "    91/100      0.6747      -409.5      0.5492      0.1426        3.5     -0.0001296    0.02344    -9.11e-06  \n",
      "    92/100      0.6719      -453.1      0.6096      0.1426        3.5     -0.0005086    0.01563    -0.001936  \n",
      "    93/100      0.6224      -426.8      0.5685      0.1426        3.5     -0.0002086    0.05469   -0.0009273  \n",
      "    94/100      0.6087       -435       0.5818      0.1426        3.5      2.67e-05     0.02344    0.0004384  \n",
      "    95/100      0.6354      -440.6      0.5947      0.1426        3.5     -3.237e-05    0.0625     0.0002695  \n",
      "    96/100      0.7017      -428.4      0.5635      0.1426        3.5     -0.0002488    0.03906    0.0005874  \n",
      "    97/100      0.6348      -450.6      0.6066      0.1426        3.5      3.783e-05    0.03125    -0.000271  \n",
      "    98/100      0.6274       -432       0.5839      0.1426        3.5      3.887e-05    0.01563   -0.0001142  \n",
      "    99/100      0.6174      -436.5      0.5786      0.1426        3.5      9.345e-05    0.04688    4.252e-05  \n"
     ]
    }
   ],
   "source": [
    "run_steps = 100\n",
    "run_data = DataContainer(run_steps, header=HEADER)\n",
    "run_dir = io.make_run_dir(FLAGS, os.path.join(log_dir, 'inference'))\n",
    "\n",
    "for step in tf.range(run_steps):\n",
    "    x, metrics = dynamics.test_step(x, beta)\n",
    "    run_data.update(step, metrics)\n",
    "    if step % dynamics.print_steps == 0:\n",
    "        data_str = run_data.get_fstr(step, metrics)\n",
    "        io.log(data_str)\n",
    "\n",
    "    if step % 100 == 0:\n",
    "        io.log(HEADER)"
   ]
  },
  {
   "cell_type": "code",
   "execution_count": 44,
   "metadata": {
    "ExecuteTime": {
     "end_time": "2020-07-02T17:50:09.667759Z",
     "start_time": "2020-07-02T17:49:49.391239Z"
    }
   },
   "outputs": [
    {
     "name": "stdout",
     "output_type": "stream",
     "text": [
      "Creating directory: /Users/saforem2/l2hmc-qcd/gauge_logs_eager/test/2020_07/DEBUG_L16_b128_lf2_qw01_pw01_dp025-2020-07-02-092429/inference/beta35_lf2_eps01_b128-2020-07-02-1247/plots\n",
      "Saving figure to: /Users/saforem2/l2hmc-qcd/gauge_logs_eager/test/2020_07/DEBUG_L16_b128_lf2_qw01_pw01_dp025-2020-07-02-092429/inference/beta35_lf2_eps01_b128-2020-07-02-1247/plots/dt.png.\n",
      "Saving figure to: /Users/saforem2/l2hmc-qcd/gauge_logs_eager/test/2020_07/DEBUG_L16_b128_lf2_qw01_pw01_dp025-2020-07-02-092429/inference/beta35_lf2_eps01_b128-2020-07-02-1247/plots/beta.png.\n",
      "Saving figure to: /Users/saforem2/l2hmc-qcd/gauge_logs_eager/test/2020_07/DEBUG_L16_b128_lf2_qw01_pw01_dp025-2020-07-02-092429/inference/beta35_lf2_eps01_b128-2020-07-02-1247/plots/loss.png.\n"
     ]
    },
    {
     "name": "stderr",
     "output_type": "stream",
     "text": [
      "/Users/saforem2/opt/anaconda3/envs/tf2/lib/python3.7/site-packages/arviz/data/base.py:146: UserWarning: More chains (128) than draws (67). Passed array should have shape (chains, draws, *shape)\n",
      "  UserWarning,\n"
     ]
    },
    {
     "name": "stdout",
     "output_type": "stream",
     "text": [
      "Saving figure to: /Users/saforem2/l2hmc-qcd/gauge_logs_eager/test/2020_07/DEBUG_L16_b128_lf2_qw01_pw01_dp025-2020-07-02-092429/inference/beta35_lf2_eps01_b128-2020-07-02-1247/plots/plaqs_traceplot.png.\n",
      "Saving figure to: /Users/saforem2/l2hmc-qcd/gauge_logs_eager/test/2020_07/DEBUG_L16_b128_lf2_qw01_pw01_dp025-2020-07-02-092429/inference/beta35_lf2_eps01_b128-2020-07-02-1247/plots/eps.png.\n"
     ]
    },
    {
     "name": "stderr",
     "output_type": "stream",
     "text": [
      "/Users/saforem2/opt/anaconda3/envs/tf2/lib/python3.7/site-packages/arviz/data/base.py:146: UserWarning: More chains (128) than draws (67). Passed array should have shape (chains, draws, *shape)\n",
      "  UserWarning,\n"
     ]
    },
    {
     "name": "stdout",
     "output_type": "stream",
     "text": [
      "Saving figure to: /Users/saforem2/l2hmc-qcd/gauge_logs_eager/test/2020_07/DEBUG_L16_b128_lf2_qw01_pw01_dp025-2020-07-02-092429/inference/beta35_lf2_eps01_b128-2020-07-02-1247/plots/charges_traceplot.png.\n"
     ]
    },
    {
     "name": "stderr",
     "output_type": "stream",
     "text": [
      "/Users/saforem2/opt/anaconda3/envs/tf2/lib/python3.7/site-packages/arviz/data/base.py:146: UserWarning: More chains (128) than draws (67). Passed array should have shape (chains, draws, *shape)\n",
      "  UserWarning,\n"
     ]
    },
    {
     "name": "stdout",
     "output_type": "stream",
     "text": [
      "Saving figure to: /Users/saforem2/l2hmc-qcd/gauge_logs_eager/test/2020_07/DEBUG_L16_b128_lf2_qw01_pw01_dp025-2020-07-02-092429/inference/beta35_lf2_eps01_b128-2020-07-02-1247/plots/accept_prob_traceplot.png.\n"
     ]
    },
    {
     "name": "stderr",
     "output_type": "stream",
     "text": [
      "/Users/saforem2/opt/anaconda3/envs/tf2/lib/python3.7/site-packages/arviz/data/base.py:146: UserWarning: More chains (128) than draws (67). Passed array should have shape (chains, draws, *shape)\n",
      "  UserWarning,\n"
     ]
    },
    {
     "name": "stdout",
     "output_type": "stream",
     "text": [
      "Saving figure to: /Users/saforem2/l2hmc-qcd/gauge_logs_eager/test/2020_07/DEBUG_L16_b128_lf2_qw01_pw01_dp025-2020-07-02-092429/inference/beta35_lf2_eps01_b128-2020-07-02-1247/plots/sumlogdet_traceplot.png.\n"
     ]
    },
    {
     "name": "stderr",
     "output_type": "stream",
     "text": [
      "/Users/saforem2/opt/anaconda3/envs/tf2/lib/python3.7/site-packages/arviz/data/base.py:146: UserWarning: More chains (128) than draws (67). Passed array should have shape (chains, draws, *shape)\n",
      "  UserWarning,\n"
     ]
    },
    {
     "name": "stdout",
     "output_type": "stream",
     "text": [
      "Saving figure to: /Users/saforem2/l2hmc-qcd/gauge_logs_eager/test/2020_07/DEBUG_L16_b128_lf2_qw01_pw01_dp025-2020-07-02-092429/inference/beta35_lf2_eps01_b128-2020-07-02-1247/plots/dq_traceplot.png.\n",
      "Saving figure to: /Users/saforem2/l2hmc-qcd/gauge_logs_eager/test/2020_07/DEBUG_L16_b128_lf2_qw01_pw01_dp025-2020-07-02-092429/inference/beta35_lf2_eps01_b128-2020-07-02-1247/plots/plaqs_avg.png.\n",
      "Saving figure to: /Users/saforem2/l2hmc-qcd/gauge_logs_eager/test/2020_07/DEBUG_L16_b128_lf2_qw01_pw01_dp025-2020-07-02-092429/inference/beta35_lf2_eps01_b128-2020-07-02-1247/plots/charges_avg.png.\n",
      "Saving figure to: /Users/saforem2/l2hmc-qcd/gauge_logs_eager/test/2020_07/DEBUG_L16_b128_lf2_qw01_pw01_dp025-2020-07-02-092429/inference/beta35_lf2_eps01_b128-2020-07-02-1247/plots/accept_prob_avg.png.\n",
      "Saving figure to: /Users/saforem2/l2hmc-qcd/gauge_logs_eager/test/2020_07/DEBUG_L16_b128_lf2_qw01_pw01_dp025-2020-07-02-092429/inference/beta35_lf2_eps01_b128-2020-07-02-1247/plots/sumlogdet_avg.png.\n",
      "Saving figure to: /Users/saforem2/l2hmc-qcd/gauge_logs_eager/test/2020_07/DEBUG_L16_b128_lf2_qw01_pw01_dp025-2020-07-02-092429/inference/beta35_lf2_eps01_b128-2020-07-02-1247/plots/dq_avg.png.\n",
      "Saving figure to: /Users/saforem2/l2hmc-qcd/gauge_logs_eager/test/2020_07/DEBUG_L16_b128_lf2_qw01_pw01_dp025-2020-07-02-092429/inference/beta35_lf2_eps01_b128-2020-07-02-1247/plots/charge_chains.png.\n"
     ]
    }
   ],
   "source": [
    "from utils.plotting_utils import plot_data\n",
    "\n",
    "plot_data(run_data, run_dir, FLAGS, thermalize=True)"
   ]
  }
 ],
 "metadata": {
  "kernelspec": {
   "display_name": "Python [conda env:tf2] *",
   "language": "python",
   "name": "conda-env-tf2-py"
  },
  "language_info": {
   "codemirror_mode": {
    "name": "ipython",
    "version": 3
   },
   "file_extension": ".py",
   "mimetype": "text/x-python",
   "name": "python",
   "nbconvert_exporter": "python",
   "pygments_lexer": "ipython3",
   "version": "3.7.7"
  },
  "toc": {
   "base_numbering": 1,
   "nav_menu": {
    "height": "510px",
    "width": "485px"
   },
   "number_sections": true,
   "sideBar": true,
   "skip_h1_title": true,
   "title_cell": "Table of Contents",
   "title_sidebar": "Contents",
   "toc_cell": false,
   "toc_position": {
    "height": "1100px",
    "left": "1761px",
    "top": "32px",
    "width": "266.4px"
   },
   "toc_section_display": false,
   "toc_window_display": false
  },
  "varInspector": {
   "cols": {
    "lenName": 16,
    "lenType": 16,
    "lenVar": 40
   },
   "kernels_config": {
    "python": {
     "delete_cmd_postfix": "",
     "delete_cmd_prefix": "del ",
     "library": "var_list.py",
     "varRefreshCmd": "print(var_dic_list())"
    },
    "r": {
     "delete_cmd_postfix": ") ",
     "delete_cmd_prefix": "rm(",
     "library": "var_list.r",
     "varRefreshCmd": "cat(var_dic_list()) "
    }
   },
   "types_to_exclude": [
    "module",
    "function",
    "builtin_function_or_method",
    "instance",
    "_Feature"
   ],
   "window_display": false
  }
 },
 "nbformat": 4,
 "nbformat_minor": 4
}
